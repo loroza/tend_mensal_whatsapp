{
 "cells": [
  {
   "cell_type": "code",
   "execution_count": 418,
   "metadata": {},
   "outputs": [],
   "source": [
    "import pandas as pd\n",
    "from connect import PostgreSQL\n",
    "from tqdm import tqdm\n",
    "import datetime as dt\n",
    "from datetime import date\n",
    "import plotly.graph_objs as go"
   ]
  },
  {
   "cell_type": "markdown",
   "metadata": {},
   "source": [
    "# Parâmetros"
   ]
  },
  {
   "cell_type": "code",
   "execution_count": 419,
   "metadata": {},
   "outputs": [],
   "source": [
    "_schema = 'H-1'"
   ]
  },
  {
   "cell_type": "code",
   "execution_count": 420,
   "metadata": {},
   "outputs": [],
   "source": [
    "_pixels = 720\n",
    "\n",
    "pixels_width = int((_pixels/9)*16)\n",
    "pixels_height = int(_pixels)"
   ]
  },
  {
   "cell_type": "code",
   "execution_count": 421,
   "metadata": {},
   "outputs": [],
   "source": [
    "date_query = date(int((dt.datetime.now().strftime('%Y-%m-%d').split('-')[0])), int((dt.datetime.now().strftime('%Y-%m-%d').split('-')[1])), 1).strftime('%Y-%m-%d')"
   ]
  },
  {
   "cell_type": "code",
   "execution_count": 422,
   "metadata": {},
   "outputs": [],
   "source": [
    "codigos_kaizen = [('KAIZEN ASA NORTE', '13996'),\n",
    "                  ('KAIZEN CEILÂNDIA', '16100'),\n",
    "                  (     'KAIZEN GAMA', '18400'),\n",
    "                  (  'KAIZEN SOF SUL', '20000')]"
   ]
  },
  {
   "cell_type": "code",
   "execution_count": 423,
   "metadata": {},
   "outputs": [],
   "source": [
    "lista_lojas = (['01',             'CD'],\n",
    "               ['02',               ''],\n",
    "               ['03',  '04. ASA NORTE'],\n",
    "               ['04',  '02. CEILÂNDIA'],\n",
    "               ['05',       '03. GAMA'],\n",
    "               ['06',    '01. SOF SUL'],\n",
    "               ['VO', '05. E-COMMERCE'])"
   ]
  },
  {
   "cell_type": "code",
   "execution_count": 424,
   "metadata": {},
   "outputs": [],
   "source": [
    "relatorio = 'ACOMPANHAMENTO DE VENDA'\n",
    "\n",
    "relatorio_lower = relatorio.lower()\n",
    "relatorio_msg = relatorio_lower.replace(relatorio_lower.split()[0], relatorio_lower.split()[0].title())"
   ]
  },
  {
   "cell_type": "code",
   "execution_count": 425,
   "metadata": {},
   "outputs": [],
   "source": [
    "caminho_imagem = 'Y:\\\\COMPRAS\\\\arquivo temporario analise atualizado\\\\DEPARTAMENTO COMPRAS\\\\10. CARLOS\\\\REPORT'"
   ]
  },
  {
   "cell_type": "code",
   "execution_count": 426,
   "metadata": {},
   "outputs": [],
   "source": [
    "contatos = [('PrimeiraFoto', 'https://chat.whatsapp.com/LK4LDajkH52BNydoLGGD2d', True),\n",
    "            ('Dados e Int',  'https://chat.whatsapp.com/JxY14kWarG70MxB2jzb5pc', False),\n",
    "            ('Dream Team',   'https://chat.whatsapp.com/Hb0KMgYnuFB8coTPlFKTzJ', False),\n",
    "            ('Report Di',    'https://chat.whatsapp.com/G4p8qdUIUblCNPS80244RQ', False),\n",
    "            ('API',          'https://chat.whatsapp.com/EBLX0fxYfvuHL7jZ9CZECQ', True),\n",
    "            ('Teste Python', 'https://chat.whatsapp.com/I4y7EAVfns629NvfoLUtGI', True)]"
   ]
  },
  {
   "cell_type": "markdown",
   "metadata": {},
   "source": [
    "#"
   ]
  },
  {
   "cell_type": "markdown",
   "metadata": {},
   "source": [
    "# DataFrames"
   ]
  },
  {
   "cell_type": "markdown",
   "metadata": {},
   "source": [
    "## Clientes"
   ]
  },
  {
   "cell_type": "code",
   "execution_count": 427,
   "metadata": {},
   "outputs": [],
   "source": [
    "df_cliente = PostgreSQL.read_postgres(name_table='cliente', schema=_schema)"
   ]
  },
  {
   "cell_type": "code",
   "execution_count": 428,
   "metadata": {},
   "outputs": [],
   "source": [
    "df_cli_ped = PostgreSQL.read_postgres(name_table='cli_ped', schema=_schema, query=f'WHERE DT_CADASTR >= \\'{date_query}\\'')"
   ]
  },
  {
   "cell_type": "markdown",
   "metadata": {},
   "source": [
    "## Pedidos"
   ]
  },
  {
   "cell_type": "code",
   "execution_count": 429,
   "metadata": {},
   "outputs": [],
   "source": [
    "df_pedido = PostgreSQL.read_postgres(name_table='pedido', schema=_schema, query=f'WHERE DT_EMISSAO >= \\'{date_query}\\'')"
   ]
  },
  {
   "cell_type": "code",
   "execution_count": 430,
   "metadata": {},
   "outputs": [],
   "source": [
    "df_pedido['VALOR_TOT'] = df_pedido['VALOR_TOT'].astype(float)"
   ]
  },
  {
   "cell_type": "code",
   "execution_count": 431,
   "metadata": {},
   "outputs": [],
   "source": [
    "df_pedido = df_pedido[(df_pedido['CODCLI'] != '13996') &\n",
    "                      (df_pedido['CODCLI'] != '16100') &\n",
    "                      (df_pedido['CODCLI'] != '18400') &\n",
    "                      (df_pedido['CODCLI'] != '20000') &\n",
    "                      (df_pedido['CODVDE'] != '0100') &\n",
    "                      (df_pedido['CODVDE'] != '0001') &\n",
    "                      (df_pedido['TIPPED'] == 'V')]"
   ]
  },
  {
   "cell_type": "code",
   "execution_count": 432,
   "metadata": {},
   "outputs": [
    {
     "name": "stderr",
     "output_type": "stream",
     "text": [
      "100%|██████████| 2590/2590 [00:00<00:00, 11708.86it/s]\n"
     ]
    }
   ],
   "source": [
    "for i in tqdm(df_pedido.index):\n",
    "    if df_pedido.loc[i, 'FORMA_PGTO'] == 'M':\n",
    "        df_pedido.loc[i, 'COD_LOJA'] = 'VO'\n",
    "    else:\n",
    "        df_pedido.loc[i, 'COD_LOJA'] = df_pedido.loc[i, 'CD_LOJA']"
   ]
  },
  {
   "cell_type": "code",
   "execution_count": 433,
   "metadata": {},
   "outputs": [
    {
     "name": "stderr",
     "output_type": "stream",
     "text": [
      "100%|██████████| 2590/2590 [00:00<00:00, 40432.22it/s]\n"
     ]
    }
   ],
   "source": [
    "for i in tqdm(df_pedido.index):\n",
    "    if df_pedido.loc[i, 'COD_LOJA'] == 'VO':\n",
    "        df_pedido.loc[i, 'NU_CPFCNPJ'] = list(df_cli_ped[(df_cli_ped['CD_LOJA'] == df_pedido.loc[i, 'CD_LOJA']) &\n",
    "                                             (df_cli_ped['SG_PEDIDO'] == df_pedido.loc[i, 'SERIE']) &\n",
    "                                             (df_cli_ped['NU_PEDIDO'] == df_pedido.loc[i, 'NU_NOTA'])]['NU_CPFCNPJ'])[0]"
   ]
  },
  {
   "cell_type": "code",
   "execution_count": 434,
   "metadata": {},
   "outputs": [],
   "source": [
    "df_pedido = pd.merge(df_pedido, df_cliente, how='inner', on='CODCLI')"
   ]
  },
  {
   "cell_type": "code",
   "execution_count": 435,
   "metadata": {},
   "outputs": [
    {
     "name": "stderr",
     "output_type": "stream",
     "text": [
      "100%|██████████| 2590/2590 [00:00<00:00, 9585.97it/s]\n"
     ]
    }
   ],
   "source": [
    "for i in tqdm(df_pedido.index):\n",
    "\n",
    "    if df_pedido.loc[i, 'COD_LOJA'] == 'VO':\n",
    "        identify = df_pedido.loc[i, 'NU_CPFCNPJ']\n",
    "    else:\n",
    "        identify = df_pedido.loc[i, 'CPF_CGC']\n",
    "\n",
    "    if df_pedido.loc[i, 'CODAREA'] == '104':\n",
    "        df_pedido.loc[i, 'TIPO_CLIENTE'] = 'CNPJ*'\n",
    "    elif len(identify) < 14:\n",
    "        df_pedido.loc[i, 'TIPO_CLIENTE'] = 'CPF'\n",
    "    else:\n",
    "        df_pedido.loc[i, 'TIPO_CLIENTE'] = 'CNPJ'"
   ]
  },
  {
   "cell_type": "markdown",
   "metadata": {},
   "source": [
    "## Devolução"
   ]
  },
  {
   "cell_type": "code",
   "execution_count": 436,
   "metadata": {},
   "outputs": [],
   "source": [
    "df_prod_ent = PostgreSQL.read_postgres(full_query=f'select a.*, (a.VL_PRECO*a.QT_DEVOLVE) as VL_TOTAL_DEV, b.IN_CLIFOR as IN_CLIFOR1, b.IN_CANCELA, UPPER(b.NFEENVSTAT) as NFEENVSTAT, c.FORMA_PGTO from \"{_schema}\".prod_ent a inner join \"{_schema}\".entrada b on a.CD_LOJA = b.CD_LOJA and a.SG_SERIE = b.SG_SERIE and a.NU_NOTA = b.NU_NOTA inner join \"{_schema}\".venda c on a.CD_LOJA = c.CD_LOJA and a.SG_ORIGEM = c.SERIE and a.NU_ORIGEM = c.NU_NOTA where a.DT_EMISSAO >= \\'{date_query}\\'')"
   ]
  },
  {
   "cell_type": "code",
   "execution_count": 437,
   "metadata": {},
   "outputs": [],
   "source": [
    "df_prod_ent = df_prod_ent[(df_prod_ent['CD_LOJA'] == '05') &\n",
    "                          (df_prod_ent['IN_CANCELA'] == 'N') &\n",
    "                          (df_prod_ent['IN_CLIFOR1'] == 'C') &\n",
    "                          (df_prod_ent['CD_CFOP'] != '1949') &\n",
    "                          (df_prod_ent['CD_CFOP'] != '2949') &\n",
    "                          (df_prod_ent['CD_CFOP'] != '1603') &\n",
    "                          (df_prod_ent['CD_CLIENTE'] != '13996') &\n",
    "                          (df_prod_ent['CD_CLIENTE'] != '16100') &\n",
    "                          (df_prod_ent['CD_CLIENTE'] != '18400') &\n",
    "                          (df_prod_ent['CD_CLIENTE'] != '20000') &\n",
    "                          (df_prod_ent['NFEENVSTAT'].str.contains('DENEG') != True)]"
   ]
  },
  {
   "cell_type": "code",
   "execution_count": 438,
   "metadata": {},
   "outputs": [
    {
     "name": "stderr",
     "output_type": "stream",
     "text": [
      "100%|██████████| 50/50 [00:00<00:00, 6243.38it/s]\n"
     ]
    }
   ],
   "source": [
    "for i in tqdm(df_prod_ent.index):\n",
    "    if df_prod_ent.loc[i, 'FORMA_PGTO'] == 'M':\n",
    "        df_prod_ent.loc[i, 'COD_LOJA'] = 'VO'\n",
    "    else:\n",
    "        df_prod_ent.loc[i, 'COD_LOJA'] = df_prod_ent.loc[i, 'CD_LOJA']"
   ]
  },
  {
   "cell_type": "code",
   "execution_count": 439,
   "metadata": {},
   "outputs": [],
   "source": [
    "df_prod_ent['VL_TOTAL_DEV'] = df_prod_ent['VL_TOTAL_DEV'].astype(float)"
   ]
  },
  {
   "cell_type": "code",
   "execution_count": 440,
   "metadata": {},
   "outputs": [],
   "source": [
    "df_prod_ent = df_prod_ent.rename(columns={'CD_CLIENTE':'CODCLI'})\n",
    "df_prod_ent = pd.merge(df_prod_ent, df_cliente, how='inner', on='CODCLI')"
   ]
  },
  {
   "cell_type": "code",
   "execution_count": 441,
   "metadata": {},
   "outputs": [
    {
     "name": "stderr",
     "output_type": "stream",
     "text": [
      "100%|██████████| 50/50 [00:00<00:00, 9992.62it/s]\n"
     ]
    }
   ],
   "source": [
    "for i in tqdm(df_prod_ent.index):\n",
    "\n",
    "    identify = df_prod_ent.loc[i, 'CPF_CGC']\n",
    "\n",
    "    if df_prod_ent.loc[i, 'CODAREA'] == '104':\n",
    "        df_prod_ent.loc[i, 'TIPO_CLIENTE'] = 'CNPJ*'\n",
    "    elif len(identify) < 14:\n",
    "        df_prod_ent.loc[i, 'TIPO_CLIENTE'] = 'CPF'\n",
    "    else:\n",
    "        df_prod_ent.loc[i, 'TIPO_CLIENTE'] = 'CNPJ'"
   ]
  },
  {
   "cell_type": "markdown",
   "metadata": {},
   "source": [
    "## Metas"
   ]
  },
  {
   "cell_type": "code",
   "execution_count": 442,
   "metadata": {},
   "outputs": [],
   "source": [
    "df_metas = pd.read_excel('Y:\\\\COMPRAS\\\\arquivo temporario analise atualizado\\\\DEPARTAMENTO COMPRAS\\\\10. CARLOS\\\\PROJETOS\\\\EXCEL\\\\BASES\\\\DATAS.xlsx', sheet_name='Metas')"
   ]
  },
  {
   "cell_type": "code",
   "execution_count": 443,
   "metadata": {},
   "outputs": [],
   "source": [
    "df_data = pd.read_excel('Y:\\\\COMPRAS\\\\arquivo temporario analise atualizado\\\\DEPARTAMENTO COMPRAS\\\\10. CARLOS\\\\PROJETOS\\\\EXCEL\\\\BASES\\\\DATAS.xlsx', sheet_name='Datas')"
   ]
  },
  {
   "cell_type": "code",
   "execution_count": 444,
   "metadata": {},
   "outputs": [],
   "source": [
    "df_datas = df_data[df_data['Mês - Ano'] == df_data[df_data['Data'] == date_query]['Mês - Ano'].values[0]].reset_index(drop=True)"
   ]
  },
  {
   "cell_type": "code",
   "execution_count": 445,
   "metadata": {},
   "outputs": [],
   "source": [
    "df_meta_mes = df_metas[df_metas['Mês - Ano'] == df_datas['Mês - Ano'][0]]"
   ]
  },
  {
   "cell_type": "code",
   "execution_count": 446,
   "metadata": {},
   "outputs": [],
   "source": [
    "df_meta_data = df_datas.drop(columns=['Dia', 'Mês', 'Ano', 'Dia da Semana', 'Nome - Mês', 'Semestre', 'Trimestre', 'Sequencial - Dia da Semana', 'Dias Úteis']).merge(df_meta_mes.drop(columns=['Mês', 'Ano', 'Dias Úteis', 'Qtd Sábados', 'Nome - Mês', 'Loja']), how='inner', on='Mês - Ano')"
   ]
  },
  {
   "cell_type": "code",
   "execution_count": 447,
   "metadata": {},
   "outputs": [],
   "source": [
    "for i in df_meta_data.index:\n",
    "    if df_meta_data.loc[i, 'Dia Útil'] == 'Sim':\n",
    "        df_meta_data.loc[i, 'Meta'] = df_meta_data.loc[i, 'Meta Diária']\n",
    "    \n",
    "    elif df_meta_data.loc[i, 'Dia Útil'] == 'Meio':\n",
    "        df_meta_data.loc[i, 'Meta'] = df_meta_data.loc[i, 'Meta Sábado']\n",
    "\n",
    "    else:\n",
    "        df_meta_data.loc[i, 'Meta'] = 0\n",
    "\n",
    "df_meta_data = df_meta_data.rename(columns={'Cd_Loja':'CD_LOJA', 'Data':'DT_EMISSAO'})"
   ]
  },
  {
   "cell_type": "markdown",
   "metadata": {},
   "source": [
    "# Cálculo"
   ]
  },
  {
   "cell_type": "code",
   "execution_count": 448,
   "metadata": {},
   "outputs": [
    {
     "name": "stderr",
     "output_type": "stream",
     "text": [
      "C:\\Users\\admin\\AppData\\Local\\Temp\\ipykernel_11804\\464804912.py:1: FutureWarning: The default value of numeric_only in DataFrameGroupBy.sum is deprecated. In a future version, numeric_only will default to False. Either specify numeric_only or select only columns which should be valid for the function.\n",
      "  df_venda_bruta = df_pedido.groupby(['COD_LOJA', 'DT_EMISSAO']).sum()[['VALOR_TOT']].reset_index().rename(columns={'COD_LOJA':'CD_LOJA'})\n"
     ]
    }
   ],
   "source": [
    "df_venda_bruta = df_pedido.groupby(['COD_LOJA', 'DT_EMISSAO']).sum()[['VALOR_TOT']].reset_index().rename(columns={'COD_LOJA':'CD_LOJA'})"
   ]
  },
  {
   "cell_type": "code",
   "execution_count": 449,
   "metadata": {},
   "outputs": [
    {
     "name": "stderr",
     "output_type": "stream",
     "text": [
      "C:\\Users\\admin\\AppData\\Local\\Temp\\ipykernel_11804\\793352684.py:1: FutureWarning: The default value of numeric_only in DataFrameGroupBy.sum is deprecated. In a future version, numeric_only will default to False. Either specify numeric_only or select only columns which should be valid for the function.\n",
      "  df_devolucao = df_prod_ent.groupby(['COD_LOJA', 'DT_EMISSAO']).sum()[['VL_TOTAL_DEV']].reset_index().rename(columns={'COD_LOJA':'CD_LOJA'})\n"
     ]
    }
   ],
   "source": [
    "df_devolucao = df_prod_ent.groupby(['COD_LOJA', 'DT_EMISSAO']).sum()[['VL_TOTAL_DEV']].reset_index().rename(columns={'COD_LOJA':'CD_LOJA'})"
   ]
  },
  {
   "cell_type": "code",
   "execution_count": 450,
   "metadata": {},
   "outputs": [
    {
     "name": "stderr",
     "output_type": "stream",
     "text": [
      "C:\\Users\\admin\\AppData\\Local\\Temp\\ipykernel_11804\\3541458602.py:1: FutureWarning: The default value of numeric_only in DataFrameGroupBy.sum is deprecated. In a future version, numeric_only will default to False. Either specify numeric_only or select only columns which should be valid for the function.\n",
      "  df_venda_bruta_cnpj = df_pedido[df_pedido['TIPO_CLIENTE'] != 'CPF'].groupby(['COD_LOJA', 'DT_EMISSAO']).sum()[['VALOR_TOT']].reset_index().rename(columns={'COD_LOJA':'CD_LOJA'})\n",
      "C:\\Users\\admin\\AppData\\Local\\Temp\\ipykernel_11804\\3541458602.py:2: FutureWarning: The default value of numeric_only in DataFrameGroupBy.sum is deprecated. In a future version, numeric_only will default to False. Either specify numeric_only or select only columns which should be valid for the function.\n",
      "  df_devolucao_cnpj = df_prod_ent[df_prod_ent['TIPO_CLIENTE'] != 'CPF'].groupby(['COD_LOJA', 'DT_EMISSAO']).sum()[['VL_TOTAL_DEV']].reset_index().rename(columns={'COD_LOJA':'CD_LOJA'})\n"
     ]
    }
   ],
   "source": [
    "df_venda_bruta_cnpj = df_pedido[df_pedido['TIPO_CLIENTE'] != 'CPF'].groupby(['COD_LOJA', 'DT_EMISSAO']).sum()[['VALOR_TOT']].reset_index().rename(columns={'COD_LOJA':'CD_LOJA'})\n",
    "df_devolucao_cnpj = df_prod_ent[df_prod_ent['TIPO_CLIENTE'] != 'CPF'].groupby(['COD_LOJA', 'DT_EMISSAO']).sum()[['VL_TOTAL_DEV']].reset_index().rename(columns={'COD_LOJA':'CD_LOJA'})"
   ]
  },
  {
   "cell_type": "code",
   "execution_count": 451,
   "metadata": {},
   "outputs": [
    {
     "name": "stderr",
     "output_type": "stream",
     "text": [
      "C:\\Users\\admin\\AppData\\Local\\Temp\\ipykernel_11804\\4099021309.py:1: FutureWarning: The default value of numeric_only in DataFrameGroupBy.sum is deprecated. In a future version, numeric_only will default to False. Either specify numeric_only or select only columns which should be valid for the function.\n",
      "  df_venda_bruta_cpf = df_pedido[df_pedido['TIPO_CLIENTE'] == 'CPF'].groupby(['COD_LOJA', 'DT_EMISSAO']).sum()[['VALOR_TOT']].reset_index().rename(columns={'COD_LOJA':'CD_LOJA'})\n",
      "C:\\Users\\admin\\AppData\\Local\\Temp\\ipykernel_11804\\4099021309.py:2: FutureWarning: The default value of numeric_only in DataFrameGroupBy.sum is deprecated. In a future version, numeric_only will default to False. Either specify numeric_only or select only columns which should be valid for the function.\n",
      "  df_devolucao_cpf = df_prod_ent[df_prod_ent['TIPO_CLIENTE'] == 'CPF'].groupby(['COD_LOJA', 'DT_EMISSAO']).sum()[['VL_TOTAL_DEV']].reset_index().rename(columns={'COD_LOJA':'CD_LOJA'})\n"
     ]
    }
   ],
   "source": [
    "df_venda_bruta_cpf = df_pedido[df_pedido['TIPO_CLIENTE'] == 'CPF'].groupby(['COD_LOJA', 'DT_EMISSAO']).sum()[['VALOR_TOT']].reset_index().rename(columns={'COD_LOJA':'CD_LOJA'})\n",
    "df_devolucao_cpf = df_prod_ent[df_prod_ent['TIPO_CLIENTE'] == 'CPF'].groupby(['COD_LOJA', 'DT_EMISSAO']).sum()[['VL_TOTAL_DEV']].reset_index().rename(columns={'COD_LOJA':'CD_LOJA'})"
   ]
  },
  {
   "cell_type": "code",
   "execution_count": 452,
   "metadata": {},
   "outputs": [],
   "source": [
    "df_final = pd.merge(df_venda_bruta, df_devolucao, how='outer', on=['CD_LOJA', 'DT_EMISSAO'])\n",
    "\n",
    "df_final = df_final.sort_values(by=['DT_EMISSAO', 'CD_LOJA'])\n",
    "df_final = df_final.reset_index(drop=True)\n",
    "\n",
    "df_final = pd.merge(df_meta_data, df_final, how='left', on=['CD_LOJA', 'DT_EMISSAO'])"
   ]
  },
  {
   "cell_type": "code",
   "execution_count": 453,
   "metadata": {},
   "outputs": [],
   "source": [
    "df_final = df_final.fillna(0)"
   ]
  },
  {
   "cell_type": "code",
   "execution_count": 454,
   "metadata": {},
   "outputs": [
    {
     "name": "stderr",
     "output_type": "stream",
     "text": [
      "  0%|          | 0/155 [00:00<?, ?it/s]C:\\Users\\admin\\AppData\\Local\\Temp\\ipykernel_11804\\3080772628.py:50: RuntimeWarning: invalid value encountered in double_scalars\n",
      "  df_hoje.loc[i, '% DEV'] = df_hoje.loc[i, 'DEVOLUÇÃO'] / df_hoje.loc[i, 'VENDA BRUTA']\n",
      "100%|██████████| 155/155 [00:00<00:00, 211.71it/s]\n"
     ]
    }
   ],
   "source": [
    "df_hoje = df_final\n",
    "df_hoje = df_hoje.rename(columns={'VALOR_TOT':'VENDA BRUTA', 'VL_TOTAL_DEV':'DEVOLUÇÃO', 'Meta':'META'})\n",
    "\n",
    "for i in tqdm(df_hoje.index):\n",
    "    df_hoje.loc[i, 'VENDA LÍQUIDA'] = (df_hoje.loc[i, 'VENDA BRUTA'] - df_hoje.loc[i, 'DEVOLUÇÃO'])\n",
    "    \n",
    "    client_cgc = list(df_pedido[(df_pedido['DT_EMISSAO'] == df_hoje.loc[i, 'DT_EMISSAO']) &\n",
    "                     (df_pedido['COD_LOJA'] == df_hoje.loc[i, 'CD_LOJA']) &\n",
    "                     (df_pedido['TIPO_CLIENTE'] != 'CPF')]['CPF_CGC'].drop_duplicates())\n",
    "\n",
    "    client_cpf = list(df_pedido[(df_pedido['DT_EMISSAO'] == df_hoje.loc[i, 'DT_EMISSAO']) &\n",
    "                     (df_pedido['COD_LOJA'] == df_hoje.loc[i, 'CD_LOJA']) &\n",
    "                     (df_pedido['TIPO_CLIENTE'] == 'CPF')]['CPF_CGC'])\n",
    "\n",
    "    venda_cgc = list(df_pedido[(df_pedido['DT_EMISSAO'] == df_hoje.loc[i, 'DT_EMISSAO']) &\n",
    "                    (df_pedido['COD_LOJA'] == df_hoje.loc[i, 'CD_LOJA']) &\n",
    "                    (df_pedido['TIPO_CLIENTE'] != 'CPF')]['VALOR_TOT'])\n",
    "\n",
    "    venda_cpf = list(df_pedido[(df_pedido['DT_EMISSAO'] == df_hoje.loc[i, 'DT_EMISSAO']) &\n",
    "                    (df_pedido['COD_LOJA'] == df_hoje.loc[i, 'CD_LOJA']) &\n",
    "                    (df_pedido['TIPO_CLIENTE'] == 'CPF')]['VALOR_TOT'])\n",
    "\n",
    "    devol_cgc = list(df_prod_ent[(df_prod_ent['DT_EMISSAO'] == df_hoje.loc[i, 'DT_EMISSAO']) &\n",
    "                    (df_prod_ent['COD_LOJA'] == df_hoje.loc[i, 'CD_LOJA']) &\n",
    "                    (df_prod_ent['TIPO_CLIENTE'] != 'CPF')]['VL_TOTAL_DEV'])\n",
    "\n",
    "    devol_cpf = list(df_prod_ent[(df_prod_ent['DT_EMISSAO'] == df_hoje.loc[i, 'DT_EMISSAO']) &\n",
    "                    (df_prod_ent['COD_LOJA'] == df_hoje.loc[i, 'CD_LOJA']) &\n",
    "                    (df_prod_ent['TIPO_CLIENTE'] == 'CPF')]['VL_TOTAL_DEV'])\n",
    "\n",
    "    if sum(devol_cgc) > 0 and sum(venda_cgc) > 0:\n",
    "        percent_cgc = sum(devol_cgc) / sum(venda_cgc)\n",
    "    else:\n",
    "        percent_cgc = 0\n",
    "\n",
    "    if sum(devol_cpf) > 0 and sum(venda_cpf) > 0:\n",
    "        percent_cpf = sum(devol_cpf) / sum(venda_cpf)\n",
    "    else:\n",
    "        percent_cpf = 0\n",
    "\n",
    "    df_hoje.loc[i, 'VENDA_CNPJ'] = (sum(venda_cgc) - sum(devol_cgc))\n",
    "    df_hoje.loc[i, '% DEV CNPJ'] = percent_cgc\n",
    "    df_hoje.loc[i, 'CNPJ'] = len(client_cgc)\n",
    "\n",
    "    df_hoje.loc[i, 'VENDA_CPF'] = (sum(venda_cpf) - sum(devol_cpf))\n",
    "    df_hoje.loc[i, '% DEV CPF'] = percent_cpf\n",
    "    df_hoje.loc[i, 'CPF'] = len(client_cpf)\n",
    "\n",
    "\n",
    "    df_hoje.loc[i, '% DEV'] = df_hoje.loc[i, 'DEVOLUÇÃO'] / df_hoje.loc[i, 'VENDA BRUTA']"
   ]
  },
  {
   "cell_type": "code",
   "execution_count": 455,
   "metadata": {},
   "outputs": [],
   "source": [
    "df_hoje = df_hoje.fillna(0)"
   ]
  },
  {
   "cell_type": "code",
   "execution_count": 456,
   "metadata": {},
   "outputs": [
    {
     "data": {
      "text/html": [
       "<div>\n",
       "<style scoped>\n",
       "    .dataframe tbody tr th:only-of-type {\n",
       "        vertical-align: middle;\n",
       "    }\n",
       "\n",
       "    .dataframe tbody tr th {\n",
       "        vertical-align: top;\n",
       "    }\n",
       "\n",
       "    .dataframe thead th {\n",
       "        text-align: right;\n",
       "    }\n",
       "</style>\n",
       "<table border=\"1\" class=\"dataframe\">\n",
       "  <thead>\n",
       "    <tr style=\"text-align: right;\">\n",
       "      <th></th>\n",
       "      <th>DT_EMISSAO</th>\n",
       "      <th>Nome - Dia da Semana</th>\n",
       "      <th>CD_LOJA</th>\n",
       "      <th>META</th>\n",
       "      <th>VENDA BRUTA</th>\n",
       "      <th>VENDA LÍQUIDA</th>\n",
       "      <th>DEVOLUÇÃO</th>\n",
       "      <th>% DEV</th>\n",
       "      <th>VENDA_CNPJ</th>\n",
       "      <th>% DEV CNPJ</th>\n",
       "      <th>CNPJ</th>\n",
       "      <th>VENDA_CPF</th>\n",
       "      <th>% DEV CPF</th>\n",
       "      <th>CPF</th>\n",
       "    </tr>\n",
       "  </thead>\n",
       "  <tbody>\n",
       "    <tr>\n",
       "      <th>0</th>\n",
       "      <td>2022-12-01</td>\n",
       "      <td>Quinta-feira</td>\n",
       "      <td>VO</td>\n",
       "      <td>19047.619048</td>\n",
       "      <td>12246.23</td>\n",
       "      <td>12246.23</td>\n",
       "      <td>0.0</td>\n",
       "      <td>0.0</td>\n",
       "      <td>600.6</td>\n",
       "      <td>0.0</td>\n",
       "      <td>1.0</td>\n",
       "      <td>11645.63</td>\n",
       "      <td>0.0</td>\n",
       "      <td>79.0</td>\n",
       "    </tr>\n",
       "    <tr>\n",
       "      <th>1</th>\n",
       "      <td>2022-12-02</td>\n",
       "      <td>Sexta-feira</td>\n",
       "      <td>VO</td>\n",
       "      <td>0.000000</td>\n",
       "      <td>0.00</td>\n",
       "      <td>0.00</td>\n",
       "      <td>0.0</td>\n",
       "      <td>0.0</td>\n",
       "      <td>0.0</td>\n",
       "      <td>0.0</td>\n",
       "      <td>0.0</td>\n",
       "      <td>0.00</td>\n",
       "      <td>0.0</td>\n",
       "      <td>0.0</td>\n",
       "    </tr>\n",
       "    <tr>\n",
       "      <th>2</th>\n",
       "      <td>2022-12-03</td>\n",
       "      <td>Sábado</td>\n",
       "      <td>VO</td>\n",
       "      <td>0.000000</td>\n",
       "      <td>0.00</td>\n",
       "      <td>0.00</td>\n",
       "      <td>0.0</td>\n",
       "      <td>0.0</td>\n",
       "      <td>0.0</td>\n",
       "      <td>0.0</td>\n",
       "      <td>0.0</td>\n",
       "      <td>0.00</td>\n",
       "      <td>0.0</td>\n",
       "      <td>0.0</td>\n",
       "    </tr>\n",
       "    <tr>\n",
       "      <th>3</th>\n",
       "      <td>2022-12-04</td>\n",
       "      <td>Domingo</td>\n",
       "      <td>VO</td>\n",
       "      <td>0.000000</td>\n",
       "      <td>0.00</td>\n",
       "      <td>0.00</td>\n",
       "      <td>0.0</td>\n",
       "      <td>0.0</td>\n",
       "      <td>0.0</td>\n",
       "      <td>0.0</td>\n",
       "      <td>0.0</td>\n",
       "      <td>0.00</td>\n",
       "      <td>0.0</td>\n",
       "      <td>0.0</td>\n",
       "    </tr>\n",
       "    <tr>\n",
       "      <th>4</th>\n",
       "      <td>2022-12-05</td>\n",
       "      <td>Segunda-feira</td>\n",
       "      <td>VO</td>\n",
       "      <td>19047.619048</td>\n",
       "      <td>0.00</td>\n",
       "      <td>0.00</td>\n",
       "      <td>0.0</td>\n",
       "      <td>0.0</td>\n",
       "      <td>0.0</td>\n",
       "      <td>0.0</td>\n",
       "      <td>0.0</td>\n",
       "      <td>0.00</td>\n",
       "      <td>0.0</td>\n",
       "      <td>0.0</td>\n",
       "    </tr>\n",
       "    <tr>\n",
       "      <th>5</th>\n",
       "      <td>2022-12-06</td>\n",
       "      <td>Terça-feira</td>\n",
       "      <td>VO</td>\n",
       "      <td>19047.619048</td>\n",
       "      <td>0.00</td>\n",
       "      <td>0.00</td>\n",
       "      <td>0.0</td>\n",
       "      <td>0.0</td>\n",
       "      <td>0.0</td>\n",
       "      <td>0.0</td>\n",
       "      <td>0.0</td>\n",
       "      <td>0.00</td>\n",
       "      <td>0.0</td>\n",
       "      <td>0.0</td>\n",
       "    </tr>\n",
       "    <tr>\n",
       "      <th>6</th>\n",
       "      <td>2022-12-07</td>\n",
       "      <td>Quarta-feira</td>\n",
       "      <td>VO</td>\n",
       "      <td>19047.619048</td>\n",
       "      <td>0.00</td>\n",
       "      <td>0.00</td>\n",
       "      <td>0.0</td>\n",
       "      <td>0.0</td>\n",
       "      <td>0.0</td>\n",
       "      <td>0.0</td>\n",
       "      <td>0.0</td>\n",
       "      <td>0.00</td>\n",
       "      <td>0.0</td>\n",
       "      <td>0.0</td>\n",
       "    </tr>\n",
       "    <tr>\n",
       "      <th>7</th>\n",
       "      <td>2022-12-08</td>\n",
       "      <td>Quinta-feira</td>\n",
       "      <td>VO</td>\n",
       "      <td>19047.619048</td>\n",
       "      <td>0.00</td>\n",
       "      <td>0.00</td>\n",
       "      <td>0.0</td>\n",
       "      <td>0.0</td>\n",
       "      <td>0.0</td>\n",
       "      <td>0.0</td>\n",
       "      <td>0.0</td>\n",
       "      <td>0.00</td>\n",
       "      <td>0.0</td>\n",
       "      <td>0.0</td>\n",
       "    </tr>\n",
       "    <tr>\n",
       "      <th>8</th>\n",
       "      <td>2022-12-09</td>\n",
       "      <td>Sexta-feira</td>\n",
       "      <td>VO</td>\n",
       "      <td>19047.619048</td>\n",
       "      <td>0.00</td>\n",
       "      <td>0.00</td>\n",
       "      <td>0.0</td>\n",
       "      <td>0.0</td>\n",
       "      <td>0.0</td>\n",
       "      <td>0.0</td>\n",
       "      <td>0.0</td>\n",
       "      <td>0.00</td>\n",
       "      <td>0.0</td>\n",
       "      <td>0.0</td>\n",
       "    </tr>\n",
       "    <tr>\n",
       "      <th>9</th>\n",
       "      <td>2022-12-10</td>\n",
       "      <td>Sábado</td>\n",
       "      <td>VO</td>\n",
       "      <td>0.000000</td>\n",
       "      <td>0.00</td>\n",
       "      <td>0.00</td>\n",
       "      <td>0.0</td>\n",
       "      <td>0.0</td>\n",
       "      <td>0.0</td>\n",
       "      <td>0.0</td>\n",
       "      <td>0.0</td>\n",
       "      <td>0.00</td>\n",
       "      <td>0.0</td>\n",
       "      <td>0.0</td>\n",
       "    </tr>\n",
       "    <tr>\n",
       "      <th>10</th>\n",
       "      <td>2022-12-11</td>\n",
       "      <td>Domingo</td>\n",
       "      <td>VO</td>\n",
       "      <td>0.000000</td>\n",
       "      <td>0.00</td>\n",
       "      <td>0.00</td>\n",
       "      <td>0.0</td>\n",
       "      <td>0.0</td>\n",
       "      <td>0.0</td>\n",
       "      <td>0.0</td>\n",
       "      <td>0.0</td>\n",
       "      <td>0.00</td>\n",
       "      <td>0.0</td>\n",
       "      <td>0.0</td>\n",
       "    </tr>\n",
       "    <tr>\n",
       "      <th>11</th>\n",
       "      <td>2022-12-12</td>\n",
       "      <td>Segunda-feira</td>\n",
       "      <td>VO</td>\n",
       "      <td>19047.619048</td>\n",
       "      <td>0.00</td>\n",
       "      <td>0.00</td>\n",
       "      <td>0.0</td>\n",
       "      <td>0.0</td>\n",
       "      <td>0.0</td>\n",
       "      <td>0.0</td>\n",
       "      <td>0.0</td>\n",
       "      <td>0.00</td>\n",
       "      <td>0.0</td>\n",
       "      <td>0.0</td>\n",
       "    </tr>\n",
       "    <tr>\n",
       "      <th>12</th>\n",
       "      <td>2022-12-13</td>\n",
       "      <td>Terça-feira</td>\n",
       "      <td>VO</td>\n",
       "      <td>19047.619048</td>\n",
       "      <td>0.00</td>\n",
       "      <td>0.00</td>\n",
       "      <td>0.0</td>\n",
       "      <td>0.0</td>\n",
       "      <td>0.0</td>\n",
       "      <td>0.0</td>\n",
       "      <td>0.0</td>\n",
       "      <td>0.00</td>\n",
       "      <td>0.0</td>\n",
       "      <td>0.0</td>\n",
       "    </tr>\n",
       "    <tr>\n",
       "      <th>13</th>\n",
       "      <td>2022-12-14</td>\n",
       "      <td>Quarta-feira</td>\n",
       "      <td>VO</td>\n",
       "      <td>19047.619048</td>\n",
       "      <td>0.00</td>\n",
       "      <td>0.00</td>\n",
       "      <td>0.0</td>\n",
       "      <td>0.0</td>\n",
       "      <td>0.0</td>\n",
       "      <td>0.0</td>\n",
       "      <td>0.0</td>\n",
       "      <td>0.00</td>\n",
       "      <td>0.0</td>\n",
       "      <td>0.0</td>\n",
       "    </tr>\n",
       "    <tr>\n",
       "      <th>14</th>\n",
       "      <td>2022-12-15</td>\n",
       "      <td>Quinta-feira</td>\n",
       "      <td>VO</td>\n",
       "      <td>19047.619048</td>\n",
       "      <td>0.00</td>\n",
       "      <td>0.00</td>\n",
       "      <td>0.0</td>\n",
       "      <td>0.0</td>\n",
       "      <td>0.0</td>\n",
       "      <td>0.0</td>\n",
       "      <td>0.0</td>\n",
       "      <td>0.00</td>\n",
       "      <td>0.0</td>\n",
       "      <td>0.0</td>\n",
       "    </tr>\n",
       "    <tr>\n",
       "      <th>15</th>\n",
       "      <td>2022-12-16</td>\n",
       "      <td>Sexta-feira</td>\n",
       "      <td>VO</td>\n",
       "      <td>19047.619048</td>\n",
       "      <td>0.00</td>\n",
       "      <td>0.00</td>\n",
       "      <td>0.0</td>\n",
       "      <td>0.0</td>\n",
       "      <td>0.0</td>\n",
       "      <td>0.0</td>\n",
       "      <td>0.0</td>\n",
       "      <td>0.00</td>\n",
       "      <td>0.0</td>\n",
       "      <td>0.0</td>\n",
       "    </tr>\n",
       "    <tr>\n",
       "      <th>16</th>\n",
       "      <td>2022-12-17</td>\n",
       "      <td>Sábado</td>\n",
       "      <td>VO</td>\n",
       "      <td>0.000000</td>\n",
       "      <td>0.00</td>\n",
       "      <td>0.00</td>\n",
       "      <td>0.0</td>\n",
       "      <td>0.0</td>\n",
       "      <td>0.0</td>\n",
       "      <td>0.0</td>\n",
       "      <td>0.0</td>\n",
       "      <td>0.00</td>\n",
       "      <td>0.0</td>\n",
       "      <td>0.0</td>\n",
       "    </tr>\n",
       "    <tr>\n",
       "      <th>17</th>\n",
       "      <td>2022-12-18</td>\n",
       "      <td>Domingo</td>\n",
       "      <td>VO</td>\n",
       "      <td>0.000000</td>\n",
       "      <td>0.00</td>\n",
       "      <td>0.00</td>\n",
       "      <td>0.0</td>\n",
       "      <td>0.0</td>\n",
       "      <td>0.0</td>\n",
       "      <td>0.0</td>\n",
       "      <td>0.0</td>\n",
       "      <td>0.00</td>\n",
       "      <td>0.0</td>\n",
       "      <td>0.0</td>\n",
       "    </tr>\n",
       "    <tr>\n",
       "      <th>18</th>\n",
       "      <td>2022-12-19</td>\n",
       "      <td>Segunda-feira</td>\n",
       "      <td>VO</td>\n",
       "      <td>19047.619048</td>\n",
       "      <td>0.00</td>\n",
       "      <td>0.00</td>\n",
       "      <td>0.0</td>\n",
       "      <td>0.0</td>\n",
       "      <td>0.0</td>\n",
       "      <td>0.0</td>\n",
       "      <td>0.0</td>\n",
       "      <td>0.00</td>\n",
       "      <td>0.0</td>\n",
       "      <td>0.0</td>\n",
       "    </tr>\n",
       "    <tr>\n",
       "      <th>19</th>\n",
       "      <td>2022-12-20</td>\n",
       "      <td>Terça-feira</td>\n",
       "      <td>VO</td>\n",
       "      <td>19047.619048</td>\n",
       "      <td>0.00</td>\n",
       "      <td>0.00</td>\n",
       "      <td>0.0</td>\n",
       "      <td>0.0</td>\n",
       "      <td>0.0</td>\n",
       "      <td>0.0</td>\n",
       "      <td>0.0</td>\n",
       "      <td>0.00</td>\n",
       "      <td>0.0</td>\n",
       "      <td>0.0</td>\n",
       "    </tr>\n",
       "    <tr>\n",
       "      <th>20</th>\n",
       "      <td>2022-12-21</td>\n",
       "      <td>Quarta-feira</td>\n",
       "      <td>VO</td>\n",
       "      <td>19047.619048</td>\n",
       "      <td>0.00</td>\n",
       "      <td>0.00</td>\n",
       "      <td>0.0</td>\n",
       "      <td>0.0</td>\n",
       "      <td>0.0</td>\n",
       "      <td>0.0</td>\n",
       "      <td>0.0</td>\n",
       "      <td>0.00</td>\n",
       "      <td>0.0</td>\n",
       "      <td>0.0</td>\n",
       "    </tr>\n",
       "    <tr>\n",
       "      <th>21</th>\n",
       "      <td>2022-12-22</td>\n",
       "      <td>Quinta-feira</td>\n",
       "      <td>VO</td>\n",
       "      <td>19047.619048</td>\n",
       "      <td>0.00</td>\n",
       "      <td>0.00</td>\n",
       "      <td>0.0</td>\n",
       "      <td>0.0</td>\n",
       "      <td>0.0</td>\n",
       "      <td>0.0</td>\n",
       "      <td>0.0</td>\n",
       "      <td>0.00</td>\n",
       "      <td>0.0</td>\n",
       "      <td>0.0</td>\n",
       "    </tr>\n",
       "    <tr>\n",
       "      <th>22</th>\n",
       "      <td>2022-12-23</td>\n",
       "      <td>Sexta-feira</td>\n",
       "      <td>VO</td>\n",
       "      <td>19047.619048</td>\n",
       "      <td>0.00</td>\n",
       "      <td>0.00</td>\n",
       "      <td>0.0</td>\n",
       "      <td>0.0</td>\n",
       "      <td>0.0</td>\n",
       "      <td>0.0</td>\n",
       "      <td>0.0</td>\n",
       "      <td>0.00</td>\n",
       "      <td>0.0</td>\n",
       "      <td>0.0</td>\n",
       "    </tr>\n",
       "    <tr>\n",
       "      <th>23</th>\n",
       "      <td>2022-12-24</td>\n",
       "      <td>Sábado</td>\n",
       "      <td>VO</td>\n",
       "      <td>0.000000</td>\n",
       "      <td>0.00</td>\n",
       "      <td>0.00</td>\n",
       "      <td>0.0</td>\n",
       "      <td>0.0</td>\n",
       "      <td>0.0</td>\n",
       "      <td>0.0</td>\n",
       "      <td>0.0</td>\n",
       "      <td>0.00</td>\n",
       "      <td>0.0</td>\n",
       "      <td>0.0</td>\n",
       "    </tr>\n",
       "    <tr>\n",
       "      <th>24</th>\n",
       "      <td>2022-12-25</td>\n",
       "      <td>Domingo</td>\n",
       "      <td>VO</td>\n",
       "      <td>0.000000</td>\n",
       "      <td>0.00</td>\n",
       "      <td>0.00</td>\n",
       "      <td>0.0</td>\n",
       "      <td>0.0</td>\n",
       "      <td>0.0</td>\n",
       "      <td>0.0</td>\n",
       "      <td>0.0</td>\n",
       "      <td>0.00</td>\n",
       "      <td>0.0</td>\n",
       "      <td>0.0</td>\n",
       "    </tr>\n",
       "    <tr>\n",
       "      <th>25</th>\n",
       "      <td>2022-12-26</td>\n",
       "      <td>Segunda-feira</td>\n",
       "      <td>VO</td>\n",
       "      <td>19047.619048</td>\n",
       "      <td>0.00</td>\n",
       "      <td>0.00</td>\n",
       "      <td>0.0</td>\n",
       "      <td>0.0</td>\n",
       "      <td>0.0</td>\n",
       "      <td>0.0</td>\n",
       "      <td>0.0</td>\n",
       "      <td>0.00</td>\n",
       "      <td>0.0</td>\n",
       "      <td>0.0</td>\n",
       "    </tr>\n",
       "    <tr>\n",
       "      <th>26</th>\n",
       "      <td>2022-12-27</td>\n",
       "      <td>Terça-feira</td>\n",
       "      <td>VO</td>\n",
       "      <td>19047.619048</td>\n",
       "      <td>0.00</td>\n",
       "      <td>0.00</td>\n",
       "      <td>0.0</td>\n",
       "      <td>0.0</td>\n",
       "      <td>0.0</td>\n",
       "      <td>0.0</td>\n",
       "      <td>0.0</td>\n",
       "      <td>0.00</td>\n",
       "      <td>0.0</td>\n",
       "      <td>0.0</td>\n",
       "    </tr>\n",
       "    <tr>\n",
       "      <th>27</th>\n",
       "      <td>2022-12-28</td>\n",
       "      <td>Quarta-feira</td>\n",
       "      <td>VO</td>\n",
       "      <td>19047.619048</td>\n",
       "      <td>0.00</td>\n",
       "      <td>0.00</td>\n",
       "      <td>0.0</td>\n",
       "      <td>0.0</td>\n",
       "      <td>0.0</td>\n",
       "      <td>0.0</td>\n",
       "      <td>0.0</td>\n",
       "      <td>0.00</td>\n",
       "      <td>0.0</td>\n",
       "      <td>0.0</td>\n",
       "    </tr>\n",
       "    <tr>\n",
       "      <th>28</th>\n",
       "      <td>2022-12-29</td>\n",
       "      <td>Quinta-feira</td>\n",
       "      <td>VO</td>\n",
       "      <td>19047.619048</td>\n",
       "      <td>0.00</td>\n",
       "      <td>0.00</td>\n",
       "      <td>0.0</td>\n",
       "      <td>0.0</td>\n",
       "      <td>0.0</td>\n",
       "      <td>0.0</td>\n",
       "      <td>0.0</td>\n",
       "      <td>0.00</td>\n",
       "      <td>0.0</td>\n",
       "      <td>0.0</td>\n",
       "    </tr>\n",
       "    <tr>\n",
       "      <th>29</th>\n",
       "      <td>2022-12-30</td>\n",
       "      <td>Sexta-feira</td>\n",
       "      <td>VO</td>\n",
       "      <td>19047.619048</td>\n",
       "      <td>0.00</td>\n",
       "      <td>0.00</td>\n",
       "      <td>0.0</td>\n",
       "      <td>0.0</td>\n",
       "      <td>0.0</td>\n",
       "      <td>0.0</td>\n",
       "      <td>0.0</td>\n",
       "      <td>0.00</td>\n",
       "      <td>0.0</td>\n",
       "      <td>0.0</td>\n",
       "    </tr>\n",
       "    <tr>\n",
       "      <th>30</th>\n",
       "      <td>2022-12-31</td>\n",
       "      <td>Sábado</td>\n",
       "      <td>VO</td>\n",
       "      <td>0.000000</td>\n",
       "      <td>0.00</td>\n",
       "      <td>0.00</td>\n",
       "      <td>0.0</td>\n",
       "      <td>0.0</td>\n",
       "      <td>0.0</td>\n",
       "      <td>0.0</td>\n",
       "      <td>0.0</td>\n",
       "      <td>0.00</td>\n",
       "      <td>0.0</td>\n",
       "      <td>0.0</td>\n",
       "    </tr>\n",
       "  </tbody>\n",
       "</table>\n",
       "</div>"
      ],
      "text/plain": [
       "   DT_EMISSAO Nome - Dia da Semana CD_LOJA          META  VENDA BRUTA  \\\n",
       "0  2022-12-01         Quinta-feira      VO  19047.619048     12246.23   \n",
       "1  2022-12-02          Sexta-feira      VO      0.000000         0.00   \n",
       "2  2022-12-03               Sábado      VO      0.000000         0.00   \n",
       "3  2022-12-04              Domingo      VO      0.000000         0.00   \n",
       "4  2022-12-05        Segunda-feira      VO  19047.619048         0.00   \n",
       "5  2022-12-06          Terça-feira      VO  19047.619048         0.00   \n",
       "6  2022-12-07         Quarta-feira      VO  19047.619048         0.00   \n",
       "7  2022-12-08         Quinta-feira      VO  19047.619048         0.00   \n",
       "8  2022-12-09          Sexta-feira      VO  19047.619048         0.00   \n",
       "9  2022-12-10               Sábado      VO      0.000000         0.00   \n",
       "10 2022-12-11              Domingo      VO      0.000000         0.00   \n",
       "11 2022-12-12        Segunda-feira      VO  19047.619048         0.00   \n",
       "12 2022-12-13          Terça-feira      VO  19047.619048         0.00   \n",
       "13 2022-12-14         Quarta-feira      VO  19047.619048         0.00   \n",
       "14 2022-12-15         Quinta-feira      VO  19047.619048         0.00   \n",
       "15 2022-12-16          Sexta-feira      VO  19047.619048         0.00   \n",
       "16 2022-12-17               Sábado      VO      0.000000         0.00   \n",
       "17 2022-12-18              Domingo      VO      0.000000         0.00   \n",
       "18 2022-12-19        Segunda-feira      VO  19047.619048         0.00   \n",
       "19 2022-12-20          Terça-feira      VO  19047.619048         0.00   \n",
       "20 2022-12-21         Quarta-feira      VO  19047.619048         0.00   \n",
       "21 2022-12-22         Quinta-feira      VO  19047.619048         0.00   \n",
       "22 2022-12-23          Sexta-feira      VO  19047.619048         0.00   \n",
       "23 2022-12-24               Sábado      VO      0.000000         0.00   \n",
       "24 2022-12-25              Domingo      VO      0.000000         0.00   \n",
       "25 2022-12-26        Segunda-feira      VO  19047.619048         0.00   \n",
       "26 2022-12-27          Terça-feira      VO  19047.619048         0.00   \n",
       "27 2022-12-28         Quarta-feira      VO  19047.619048         0.00   \n",
       "28 2022-12-29         Quinta-feira      VO  19047.619048         0.00   \n",
       "29 2022-12-30          Sexta-feira      VO  19047.619048         0.00   \n",
       "30 2022-12-31               Sábado      VO      0.000000         0.00   \n",
       "\n",
       "    VENDA LÍQUIDA  DEVOLUÇÃO  % DEV  VENDA_CNPJ  % DEV CNPJ  CNPJ  VENDA_CPF  \\\n",
       "0        12246.23        0.0    0.0       600.6         0.0   1.0   11645.63   \n",
       "1            0.00        0.0    0.0         0.0         0.0   0.0       0.00   \n",
       "2            0.00        0.0    0.0         0.0         0.0   0.0       0.00   \n",
       "3            0.00        0.0    0.0         0.0         0.0   0.0       0.00   \n",
       "4            0.00        0.0    0.0         0.0         0.0   0.0       0.00   \n",
       "5            0.00        0.0    0.0         0.0         0.0   0.0       0.00   \n",
       "6            0.00        0.0    0.0         0.0         0.0   0.0       0.00   \n",
       "7            0.00        0.0    0.0         0.0         0.0   0.0       0.00   \n",
       "8            0.00        0.0    0.0         0.0         0.0   0.0       0.00   \n",
       "9            0.00        0.0    0.0         0.0         0.0   0.0       0.00   \n",
       "10           0.00        0.0    0.0         0.0         0.0   0.0       0.00   \n",
       "11           0.00        0.0    0.0         0.0         0.0   0.0       0.00   \n",
       "12           0.00        0.0    0.0         0.0         0.0   0.0       0.00   \n",
       "13           0.00        0.0    0.0         0.0         0.0   0.0       0.00   \n",
       "14           0.00        0.0    0.0         0.0         0.0   0.0       0.00   \n",
       "15           0.00        0.0    0.0         0.0         0.0   0.0       0.00   \n",
       "16           0.00        0.0    0.0         0.0         0.0   0.0       0.00   \n",
       "17           0.00        0.0    0.0         0.0         0.0   0.0       0.00   \n",
       "18           0.00        0.0    0.0         0.0         0.0   0.0       0.00   \n",
       "19           0.00        0.0    0.0         0.0         0.0   0.0       0.00   \n",
       "20           0.00        0.0    0.0         0.0         0.0   0.0       0.00   \n",
       "21           0.00        0.0    0.0         0.0         0.0   0.0       0.00   \n",
       "22           0.00        0.0    0.0         0.0         0.0   0.0       0.00   \n",
       "23           0.00        0.0    0.0         0.0         0.0   0.0       0.00   \n",
       "24           0.00        0.0    0.0         0.0         0.0   0.0       0.00   \n",
       "25           0.00        0.0    0.0         0.0         0.0   0.0       0.00   \n",
       "26           0.00        0.0    0.0         0.0         0.0   0.0       0.00   \n",
       "27           0.00        0.0    0.0         0.0         0.0   0.0       0.00   \n",
       "28           0.00        0.0    0.0         0.0         0.0   0.0       0.00   \n",
       "29           0.00        0.0    0.0         0.0         0.0   0.0       0.00   \n",
       "30           0.00        0.0    0.0         0.0         0.0   0.0       0.00   \n",
       "\n",
       "    % DEV CPF   CPF  \n",
       "0         0.0  79.0  \n",
       "1         0.0   0.0  \n",
       "2         0.0   0.0  \n",
       "3         0.0   0.0  \n",
       "4         0.0   0.0  \n",
       "5         0.0   0.0  \n",
       "6         0.0   0.0  \n",
       "7         0.0   0.0  \n",
       "8         0.0   0.0  \n",
       "9         0.0   0.0  \n",
       "10        0.0   0.0  \n",
       "11        0.0   0.0  \n",
       "12        0.0   0.0  \n",
       "13        0.0   0.0  \n",
       "14        0.0   0.0  \n",
       "15        0.0   0.0  \n",
       "16        0.0   0.0  \n",
       "17        0.0   0.0  \n",
       "18        0.0   0.0  \n",
       "19        0.0   0.0  \n",
       "20        0.0   0.0  \n",
       "21        0.0   0.0  \n",
       "22        0.0   0.0  \n",
       "23        0.0   0.0  \n",
       "24        0.0   0.0  \n",
       "25        0.0   0.0  \n",
       "26        0.0   0.0  \n",
       "27        0.0   0.0  \n",
       "28        0.0   0.0  \n",
       "29        0.0   0.0  \n",
       "30        0.0   0.0  "
      ]
     },
     "execution_count": 456,
     "metadata": {},
     "output_type": "execute_result"
    }
   ],
   "source": [
    "df_print = df_hoje[df_hoje['CD_LOJA'] == 'VO'].reset_index(drop=True)\n",
    "df_print[['DT_EMISSAO',\n",
    "          'Nome - Dia da Semana',\n",
    "          'CD_LOJA',\n",
    "          'META',\n",
    "          'VENDA BRUTA',\n",
    "          'VENDA LÍQUIDA',\n",
    "          'DEVOLUÇÃO',\n",
    "          '% DEV',\n",
    "          'VENDA_CNPJ',\n",
    "          '% DEV CNPJ',\n",
    "          'CNPJ',\n",
    "          'VENDA_CPF',\n",
    "          '% DEV CPF',\n",
    "          'CPF']]"
   ]
  },
  {
   "cell_type": "code",
   "execution_count": null,
   "metadata": {},
   "outputs": [],
   "source": []
  },
  {
   "cell_type": "code",
   "execution_count": 457,
   "metadata": {},
   "outputs": [],
   "source": [
    "total_meta  = float(sum(list(df_print['META'])))\n",
    "total_bruto = float(sum(list(df_print['VENDA BRUTA'])))\n",
    "total_liqui = float(sum(list(df_print['VENDA LÍQUIDA'])))\n",
    "total_devol = float(sum(list(df_print['DEVOLUÇÃO'])))\n",
    "\n",
    "total_venda_pj = float(sum(list(df_print['VENDA_CNPJ'])))\n",
    "total_venda_pf = float(sum(list(df_print['VENDA_CPF'])))\n",
    "\n",
    "\n",
    "percent_total_dev = (total_devol / total_bruto)"
   ]
  }
 ],
 "metadata": {
  "kernelspec": {
   "display_name": "Python 3.10.8 64-bit",
   "language": "python",
   "name": "python3"
  },
  "language_info": {
   "codemirror_mode": {
    "name": "ipython",
    "version": 3
   },
   "file_extension": ".py",
   "mimetype": "text/x-python",
   "name": "python",
   "nbconvert_exporter": "python",
   "pygments_lexer": "ipython3",
   "version": "3.10.8"
  },
  "orig_nbformat": 4,
  "vscode": {
   "interpreter": {
    "hash": "beedbe2faf2f7048d727558d0bc3221e7eba2a0b921cac4d4771b2feb8f74b30"
   }
  }
 },
 "nbformat": 4,
 "nbformat_minor": 2
}
