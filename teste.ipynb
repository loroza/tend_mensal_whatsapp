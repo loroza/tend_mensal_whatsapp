{
 "cells": [
  {
   "cell_type": "code",
   "execution_count": 78,
   "metadata": {},
   "outputs": [],
   "source": [
    "import pandas as pd\n",
    "from connect import PostgreSQL\n",
    "from tqdm import tqdm\n",
    "import datetime as dt\n",
    "from datetime import date\n",
    "import plotly.graph_objs as go"
   ]
  },
  {
   "cell_type": "markdown",
   "metadata": {},
   "source": [
    "# Parâmetros"
   ]
  },
  {
   "cell_type": "code",
   "execution_count": 79,
   "metadata": {},
   "outputs": [],
   "source": [
    "_schema = 'H-1'"
   ]
  },
  {
   "cell_type": "code",
   "execution_count": 80,
   "metadata": {},
   "outputs": [],
   "source": [
    "_pixels = 720\n",
    "\n",
    "pixels_width = int((_pixels/9)*16)\n",
    "pixels_height = int(_pixels)"
   ]
  },
  {
   "cell_type": "code",
   "execution_count": 81,
   "metadata": {},
   "outputs": [],
   "source": [
    "date_query = date(int((dt.datetime.now().strftime('%Y-%m-%d').split('-')[0])), int((dt.datetime.now().strftime('%Y-%m-%d').split('-')[1])), 1).strftime('%Y-%m-%d')"
   ]
  },
  {
   "cell_type": "code",
   "execution_count": 82,
   "metadata": {},
   "outputs": [],
   "source": [
    "codigos_kaizen = [('KAIZEN ASA NORTE', '13996'),\n",
    "                  ('KAIZEN CEILÂNDIA', '16100'),\n",
    "                  (     'KAIZEN GAMA', '18400'),\n",
    "                  (  'KAIZEN SOF SUL', '20000')]"
   ]
  },
  {
   "cell_type": "code",
   "execution_count": 83,
   "metadata": {},
   "outputs": [],
   "source": [
    "codigos_vended = [(    'GARANTIA', '0100'),\n",
    "                  ('MARIO SERGIO', '0001'),\n",
    "                  (   'DEVOLUCAO', '0006')]"
   ]
  },
  {
   "cell_type": "code",
   "execution_count": 84,
   "metadata": {},
   "outputs": [],
   "source": [
    "lista_lojas = (['01',             'CD'],\n",
    "               ['02',               ''],\n",
    "               ['03',  '04. ASA NORTE'],\n",
    "               ['04',  '02. CEILÂNDIA'],\n",
    "               ['05',       '03. GAMA'],\n",
    "               ['06',    '01. SOF SUL'],\n",
    "               ['VO', '05. E-COMMERCE'])"
   ]
  },
  {
   "cell_type": "code",
   "execution_count": 85,
   "metadata": {},
   "outputs": [],
   "source": [
    "relatorio = 'ACOMPANHAMENTO DE VENDA'\n",
    "\n",
    "relatorio_lower = relatorio.lower()\n",
    "relatorio_msg = relatorio_lower.replace(relatorio_lower.split()[0], relatorio_lower.split()[0].title())"
   ]
  },
  {
   "cell_type": "code",
   "execution_count": 86,
   "metadata": {},
   "outputs": [],
   "source": [
    "caminho_imagem = 'Y:\\\\COMPRAS\\\\arquivo temporario analise atualizado\\\\DEPARTAMENTO COMPRAS\\\\10. CARLOS\\\\REPORT'"
   ]
  },
  {
   "cell_type": "code",
   "execution_count": 87,
   "metadata": {},
   "outputs": [],
   "source": [
    "contatos = [('PrimeiraFoto', 'https://chat.whatsapp.com/LK4LDajkH52BNydoLGGD2d', True),\n",
    "            ('Dados e Int',  'https://chat.whatsapp.com/JxY14kWarG70MxB2jzb5pc', False),\n",
    "            ('Dream Team',   'https://chat.whatsapp.com/Hb0KMgYnuFB8coTPlFKTzJ', False),\n",
    "            ('Report Di',    'https://chat.whatsapp.com/G4p8qdUIUblCNPS80244RQ', False),\n",
    "            ('API',          'https://chat.whatsapp.com/EBLX0fxYfvuHL7jZ9CZECQ', True),\n",
    "            ('Teste Python', 'https://chat.whatsapp.com/I4y7EAVfns629NvfoLUtGI', True)]"
   ]
  },
  {
   "cell_type": "markdown",
   "metadata": {},
   "source": [
    "#"
   ]
  },
  {
   "cell_type": "markdown",
   "metadata": {},
   "source": [
    "# DataFrames"
   ]
  },
  {
   "cell_type": "markdown",
   "metadata": {},
   "source": [
    "## Pedidos"
   ]
  },
  {
   "cell_type": "code",
   "execution_count": 88,
   "metadata": {},
   "outputs": [],
   "source": [
    "df_pedido = PostgreSQL.read_postgres(name_table='pedido', schema=_schema, query=f'WHERE DT_EMISSAO >= \\'{date_query}\\'')"
   ]
  },
  {
   "cell_type": "code",
   "execution_count": 89,
   "metadata": {},
   "outputs": [],
   "source": [
    "df_pedido['VALOR_TOT'] = df_pedido['VALOR_TOT'].astype(float)"
   ]
  },
  {
   "cell_type": "code",
   "execution_count": 90,
   "metadata": {},
   "outputs": [
    {
     "name": "stderr",
     "output_type": "stream",
     "text": [
      "100%|██████████| 4/4 [00:00<00:00, 15.71it/s]\n"
     ]
    }
   ],
   "source": [
    "for (kaizen, cod_kaizen) in tqdm(codigos_kaizen):\n",
    "    df_pedido = df_pedido[df_pedido['CODCLI'] != cod_kaizen]"
   ]
  },
  {
   "cell_type": "code",
   "execution_count": 91,
   "metadata": {},
   "outputs": [
    {
     "name": "stderr",
     "output_type": "stream",
     "text": [
      "100%|██████████| 4/4 [00:00<00:00, 17.63it/s]\n"
     ]
    }
   ],
   "source": [
    "for (vendedor, cod_vende) in tqdm(codigos_kaizen):\n",
    "    df_pedido = df_pedido[df_pedido['CODCLI'] != cod_vende]"
   ]
  },
  {
   "cell_type": "code",
   "execution_count": 92,
   "metadata": {},
   "outputs": [],
   "source": [
    "df_pedido = df_pedido[df_pedido['TIPPED'] == 'V']"
   ]
  },
  {
   "cell_type": "code",
   "execution_count": 93,
   "metadata": {},
   "outputs": [],
   "source": [
    "df_pedido = df_pedido[(df_pedido['OBSERVA'].str.contains('REQ') != True) |\n",
    "                      (df_pedido['OBSERVA2'].str.contains('REQ') != True)]"
   ]
  },
  {
   "cell_type": "code",
   "execution_count": 94,
   "metadata": {},
   "outputs": [
    {
     "name": "stderr",
     "output_type": "stream",
     "text": [
      "100%|██████████| 52606/52606 [00:04<00:00, 11567.14it/s]\n"
     ]
    }
   ],
   "source": [
    "for i in tqdm(df_pedido.index):\n",
    "    if df_pedido.loc[i, 'FORMA_PGTO'] == 'M':\n",
    "        df_pedido.loc[i, 'COD_LOJA'] = 'VO'\n",
    "    else:\n",
    "        df_pedido.loc[i, 'COD_LOJA'] = df_pedido.loc[i, 'CD_LOJA']"
   ]
  },
  {
   "cell_type": "markdown",
   "metadata": {},
   "source": [
    "## Clientes"
   ]
  },
  {
   "cell_type": "code",
   "execution_count": 95,
   "metadata": {},
   "outputs": [],
   "source": [
    "df_cliente = PostgreSQL.read_postgres(name_table='cliente', schema=_schema)"
   ]
  },
  {
   "cell_type": "markdown",
   "metadata": {},
   "source": [
    "## Devolução"
   ]
  },
  {
   "cell_type": "code",
   "execution_count": 96,
   "metadata": {},
   "outputs": [],
   "source": [
    "df_prod_ent = PostgreSQL.read_postgres(name_table='prod_ent', schema=_schema, query=f'WHERE DT_EMISSAO >= \\'{date_query}\\'')"
   ]
  },
  {
   "cell_type": "code",
   "execution_count": 98,
   "metadata": {},
   "outputs": [
    {
     "name": "stderr",
     "output_type": "stream",
     "text": [
      "100%|██████████| 4/4 [00:00<00:00, 124.89it/s]\n"
     ]
    }
   ],
   "source": [
    "for (kaizen, cod_kaizen) in tqdm(codigos_kaizen):\n",
    "    df_prod_ent = df_prod_ent[df_prod_ent['CD_CLIENTE'] != cod_kaizen]"
   ]
  },
  {
   "cell_type": "code",
   "execution_count": 99,
   "metadata": {},
   "outputs": [
    {
     "data": {
      "text/html": [
       "<div>\n",
       "<style scoped>\n",
       "    .dataframe tbody tr th:only-of-type {\n",
       "        vertical-align: middle;\n",
       "    }\n",
       "\n",
       "    .dataframe tbody tr th {\n",
       "        vertical-align: top;\n",
       "    }\n",
       "\n",
       "    .dataframe thead th {\n",
       "        text-align: right;\n",
       "    }\n",
       "</style>\n",
       "<table border=\"1\" class=\"dataframe\">\n",
       "  <thead>\n",
       "    <tr style=\"text-align: right;\">\n",
       "      <th></th>\n",
       "      <th>CD_LOJA</th>\n",
       "      <th>NU_NOTA</th>\n",
       "      <th>SG_SERIE</th>\n",
       "      <th>NU_ORIGEM</th>\n",
       "      <th>SG_ORIGEM</th>\n",
       "      <th>IN_CLIFOR</th>\n",
       "      <th>CD_CLIENTE</th>\n",
       "      <th>CD_FORNECE</th>\n",
       "      <th>CD_VENDEDO</th>\n",
       "      <th>CD_PRODUTO</th>\n",
       "      <th>...</th>\n",
       "      <th>PC_FCPDEST</th>\n",
       "      <th>PC_ICMDEST</th>\n",
       "      <th>PC_ICMREME</th>\n",
       "      <th>PC_ICMPART</th>\n",
       "      <th>VL_FCPDEST</th>\n",
       "      <th>VL_ICMDEST</th>\n",
       "      <th>VL_ICMREME</th>\n",
       "      <th>CD_CLIOLD</th>\n",
       "      <th>CD_FOROLD</th>\n",
       "      <th>NU_ITEM</th>\n",
       "    </tr>\n",
       "  </thead>\n",
       "  <tbody>\n",
       "    <tr>\n",
       "      <th>0</th>\n",
       "      <td>06</td>\n",
       "      <td>047137</td>\n",
       "      <td>NE</td>\n",
       "      <td>046604</td>\n",
       "      <td>NE</td>\n",
       "      <td>None</td>\n",
       "      <td>13690</td>\n",
       "      <td>None</td>\n",
       "      <td>None</td>\n",
       "      <td>025083</td>\n",
       "      <td>...</td>\n",
       "      <td>0.00</td>\n",
       "      <td>0.00</td>\n",
       "      <td>0.00</td>\n",
       "      <td>0.00</td>\n",
       "      <td>0.00</td>\n",
       "      <td>0.00</td>\n",
       "      <td>0.00</td>\n",
       "      <td>None</td>\n",
       "      <td>None</td>\n",
       "      <td>1</td>\n",
       "    </tr>\n",
       "    <tr>\n",
       "      <th>1</th>\n",
       "      <td>06</td>\n",
       "      <td>047152</td>\n",
       "      <td>NE</td>\n",
       "      <td>045754</td>\n",
       "      <td>NE</td>\n",
       "      <td>None</td>\n",
       "      <td>12134</td>\n",
       "      <td>None</td>\n",
       "      <td>None</td>\n",
       "      <td>053813</td>\n",
       "      <td>...</td>\n",
       "      <td>0.00</td>\n",
       "      <td>0.00</td>\n",
       "      <td>0.00</td>\n",
       "      <td>0.00</td>\n",
       "      <td>0.00</td>\n",
       "      <td>0.00</td>\n",
       "      <td>0.00</td>\n",
       "      <td>None</td>\n",
       "      <td>None</td>\n",
       "      <td>1</td>\n",
       "    </tr>\n",
       "    <tr>\n",
       "      <th>2</th>\n",
       "      <td>06</td>\n",
       "      <td>047156</td>\n",
       "      <td>NE</td>\n",
       "      <td>042421</td>\n",
       "      <td>NE</td>\n",
       "      <td>None</td>\n",
       "      <td>02185</td>\n",
       "      <td>None</td>\n",
       "      <td>None</td>\n",
       "      <td>034228</td>\n",
       "      <td>...</td>\n",
       "      <td>0.00</td>\n",
       "      <td>0.00</td>\n",
       "      <td>0.00</td>\n",
       "      <td>0.00</td>\n",
       "      <td>0.00</td>\n",
       "      <td>0.00</td>\n",
       "      <td>0.00</td>\n",
       "      <td>None</td>\n",
       "      <td>None</td>\n",
       "      <td>1</td>\n",
       "    </tr>\n",
       "    <tr>\n",
       "      <th>3</th>\n",
       "      <td>06</td>\n",
       "      <td>047193</td>\n",
       "      <td>NE</td>\n",
       "      <td>042873</td>\n",
       "      <td>NE</td>\n",
       "      <td>None</td>\n",
       "      <td>11592</td>\n",
       "      <td>None</td>\n",
       "      <td>None</td>\n",
       "      <td>021910</td>\n",
       "      <td>...</td>\n",
       "      <td>0.00</td>\n",
       "      <td>0.00</td>\n",
       "      <td>0.00</td>\n",
       "      <td>0.00</td>\n",
       "      <td>0.00</td>\n",
       "      <td>0.00</td>\n",
       "      <td>0.00</td>\n",
       "      <td>None</td>\n",
       "      <td>None</td>\n",
       "      <td>1</td>\n",
       "    </tr>\n",
       "    <tr>\n",
       "      <th>4</th>\n",
       "      <td>06</td>\n",
       "      <td>047204</td>\n",
       "      <td>NE</td>\n",
       "      <td>045625</td>\n",
       "      <td>NE</td>\n",
       "      <td>None</td>\n",
       "      <td>11330</td>\n",
       "      <td>None</td>\n",
       "      <td>None</td>\n",
       "      <td>037981</td>\n",
       "      <td>...</td>\n",
       "      <td>0.00</td>\n",
       "      <td>0.00</td>\n",
       "      <td>0.00</td>\n",
       "      <td>0.00</td>\n",
       "      <td>0.00</td>\n",
       "      <td>0.00</td>\n",
       "      <td>0.00</td>\n",
       "      <td>None</td>\n",
       "      <td>None</td>\n",
       "      <td>2</td>\n",
       "    </tr>\n",
       "    <tr>\n",
       "      <th>...</th>\n",
       "      <td>...</td>\n",
       "      <td>...</td>\n",
       "      <td>...</td>\n",
       "      <td>...</td>\n",
       "      <td>...</td>\n",
       "      <td>...</td>\n",
       "      <td>...</td>\n",
       "      <td>...</td>\n",
       "      <td>...</td>\n",
       "      <td>...</td>\n",
       "      <td>...</td>\n",
       "      <td>...</td>\n",
       "      <td>...</td>\n",
       "      <td>...</td>\n",
       "      <td>...</td>\n",
       "      <td>...</td>\n",
       "      <td>...</td>\n",
       "      <td>...</td>\n",
       "      <td>...</td>\n",
       "      <td>...</td>\n",
       "      <td>...</td>\n",
       "    </tr>\n",
       "    <tr>\n",
       "      <th>6371</th>\n",
       "      <td>04</td>\n",
       "      <td>246204</td>\n",
       "      <td>NE</td>\n",
       "      <td>245484</td>\n",
       "      <td>NE</td>\n",
       "      <td>None</td>\n",
       "      <td>10845</td>\n",
       "      <td>None</td>\n",
       "      <td>None</td>\n",
       "      <td>059994</td>\n",
       "      <td>...</td>\n",
       "      <td>0.00</td>\n",
       "      <td>0.00</td>\n",
       "      <td>0.00</td>\n",
       "      <td>0.00</td>\n",
       "      <td>0.00</td>\n",
       "      <td>0.00</td>\n",
       "      <td>0.00</td>\n",
       "      <td>None</td>\n",
       "      <td>None</td>\n",
       "      <td>1</td>\n",
       "    </tr>\n",
       "    <tr>\n",
       "      <th>6380</th>\n",
       "      <td>05</td>\n",
       "      <td>118526</td>\n",
       "      <td>NE</td>\n",
       "      <td>112561</td>\n",
       "      <td>NE</td>\n",
       "      <td>None</td>\n",
       "      <td>12958</td>\n",
       "      <td>None</td>\n",
       "      <td>None</td>\n",
       "      <td>038133</td>\n",
       "      <td>...</td>\n",
       "      <td>0.00</td>\n",
       "      <td>0.00</td>\n",
       "      <td>0.00</td>\n",
       "      <td>0.00</td>\n",
       "      <td>0.00</td>\n",
       "      <td>0.00</td>\n",
       "      <td>0.00</td>\n",
       "      <td>None</td>\n",
       "      <td>None</td>\n",
       "      <td>1</td>\n",
       "    </tr>\n",
       "    <tr>\n",
       "      <th>6381</th>\n",
       "      <td>06</td>\n",
       "      <td>047155</td>\n",
       "      <td>NE</td>\n",
       "      <td>044664</td>\n",
       "      <td>NE</td>\n",
       "      <td>None</td>\n",
       "      <td>12571</td>\n",
       "      <td>None</td>\n",
       "      <td>None</td>\n",
       "      <td>047957</td>\n",
       "      <td>...</td>\n",
       "      <td>0.00</td>\n",
       "      <td>0.00</td>\n",
       "      <td>0.00</td>\n",
       "      <td>0.00</td>\n",
       "      <td>0.00</td>\n",
       "      <td>0.00</td>\n",
       "      <td>0.00</td>\n",
       "      <td>None</td>\n",
       "      <td>None</td>\n",
       "      <td>2</td>\n",
       "    </tr>\n",
       "    <tr>\n",
       "      <th>6382</th>\n",
       "      <td>06</td>\n",
       "      <td>047191</td>\n",
       "      <td>NE</td>\n",
       "      <td>044354</td>\n",
       "      <td>NE</td>\n",
       "      <td>None</td>\n",
       "      <td>02183</td>\n",
       "      <td>None</td>\n",
       "      <td>None</td>\n",
       "      <td>047779</td>\n",
       "      <td>...</td>\n",
       "      <td>0.00</td>\n",
       "      <td>0.00</td>\n",
       "      <td>0.00</td>\n",
       "      <td>0.00</td>\n",
       "      <td>0.00</td>\n",
       "      <td>0.00</td>\n",
       "      <td>0.00</td>\n",
       "      <td>None</td>\n",
       "      <td>None</td>\n",
       "      <td>1</td>\n",
       "    </tr>\n",
       "    <tr>\n",
       "      <th>6383</th>\n",
       "      <td>03</td>\n",
       "      <td>256545</td>\n",
       "      <td>NE</td>\n",
       "      <td>256322</td>\n",
       "      <td>NE</td>\n",
       "      <td>None</td>\n",
       "      <td>16454</td>\n",
       "      <td>None</td>\n",
       "      <td>None</td>\n",
       "      <td>028472</td>\n",
       "      <td>...</td>\n",
       "      <td>0.00</td>\n",
       "      <td>0.00</td>\n",
       "      <td>0.00</td>\n",
       "      <td>0.00</td>\n",
       "      <td>0.00</td>\n",
       "      <td>0.00</td>\n",
       "      <td>0.00</td>\n",
       "      <td>None</td>\n",
       "      <td>None</td>\n",
       "      <td>1</td>\n",
       "    </tr>\n",
       "  </tbody>\n",
       "</table>\n",
       "<p>5532 rows × 53 columns</p>\n",
       "</div>"
      ],
      "text/plain": [
       "     CD_LOJA NU_NOTA SG_SERIE NU_ORIGEM SG_ORIGEM IN_CLIFOR CD_CLIENTE  \\\n",
       "0         06  047137       NE    046604        NE      None      13690   \n",
       "1         06  047152       NE    045754        NE      None      12134   \n",
       "2         06  047156       NE    042421        NE      None      02185   \n",
       "3         06  047193       NE    042873        NE      None      11592   \n",
       "4         06  047204       NE    045625        NE      None      11330   \n",
       "...      ...     ...      ...       ...       ...       ...        ...   \n",
       "6371      04  246204       NE    245484        NE      None      10845   \n",
       "6380      05  118526       NE    112561        NE      None      12958   \n",
       "6381      06  047155       NE    044664        NE      None      12571   \n",
       "6382      06  047191       NE    044354        NE      None      02183   \n",
       "6383      03  256545       NE    256322        NE      None      16454   \n",
       "\n",
       "     CD_FORNECE CD_VENDEDO CD_PRODUTO  ...  PC_FCPDEST  PC_ICMDEST PC_ICMREME  \\\n",
       "0          None       None     025083  ...        0.00        0.00       0.00   \n",
       "1          None       None     053813  ...        0.00        0.00       0.00   \n",
       "2          None       None     034228  ...        0.00        0.00       0.00   \n",
       "3          None       None     021910  ...        0.00        0.00       0.00   \n",
       "4          None       None     037981  ...        0.00        0.00       0.00   \n",
       "...         ...        ...        ...  ...         ...         ...        ...   \n",
       "6371       None       None     059994  ...        0.00        0.00       0.00   \n",
       "6380       None       None     038133  ...        0.00        0.00       0.00   \n",
       "6381       None       None     047957  ...        0.00        0.00       0.00   \n",
       "6382       None       None     047779  ...        0.00        0.00       0.00   \n",
       "6383       None       None     028472  ...        0.00        0.00       0.00   \n",
       "\n",
       "     PC_ICMPART VL_FCPDEST VL_ICMDEST VL_ICMREME  CD_CLIOLD CD_FOROLD NU_ITEM  \n",
       "0          0.00       0.00       0.00       0.00       None      None       1  \n",
       "1          0.00       0.00       0.00       0.00       None      None       1  \n",
       "2          0.00       0.00       0.00       0.00       None      None       1  \n",
       "3          0.00       0.00       0.00       0.00       None      None       1  \n",
       "4          0.00       0.00       0.00       0.00       None      None       2  \n",
       "...         ...        ...        ...        ...        ...       ...     ...  \n",
       "6371       0.00       0.00       0.00       0.00       None      None       1  \n",
       "6380       0.00       0.00       0.00       0.00       None      None       1  \n",
       "6381       0.00       0.00       0.00       0.00       None      None       2  \n",
       "6382       0.00       0.00       0.00       0.00       None      None       1  \n",
       "6383       0.00       0.00       0.00       0.00       None      None       1  \n",
       "\n",
       "[5532 rows x 53 columns]"
      ]
     },
     "execution_count": 99,
     "metadata": {},
     "output_type": "execute_result"
    }
   ],
   "source": [
    "df_prod_ent"
   ]
  }
 ],
 "metadata": {
  "kernelspec": {
   "display_name": "Python 3.10.8 64-bit",
   "language": "python",
   "name": "python3"
  },
  "language_info": {
   "codemirror_mode": {
    "name": "ipython",
    "version": 3
   },
   "file_extension": ".py",
   "mimetype": "text/x-python",
   "name": "python",
   "nbconvert_exporter": "python",
   "pygments_lexer": "ipython3",
   "version": "3.10.8"
  },
  "orig_nbformat": 4,
  "vscode": {
   "interpreter": {
    "hash": "beedbe2faf2f7048d727558d0bc3221e7eba2a0b921cac4d4771b2feb8f74b30"
   }
  }
 },
 "nbformat": 4,
 "nbformat_minor": 2
}
