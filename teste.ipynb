{
 "cells": [
  {
   "cell_type": "code",
   "execution_count": 517,
   "metadata": {},
   "outputs": [
    {
     "name": "stdout",
     "output_type": "stream",
     "text": [
      "Iniciando o envio as 09:10:46\n"
     ]
    }
   ],
   "source": [
    "import pandas as pd\n",
    "from connect import PostgreSQL\n",
    "from tqdm import tqdm\n",
    "import datetime as dt\n",
    "from datetime import date\n",
    "import time\n",
    "import plotly.graph_objs as go\n",
    "import pywhatkit as pwk\n",
    "from html2image import Html2Image\n",
    "import shutil\n",
    "\n",
    "print('Iniciando o envio as ' + dt.datetime.now().strftime('%H:%M:%S'))"
   ]
  },
  {
   "cell_type": "code",
   "execution_count": 518,
   "metadata": {},
   "outputs": [],
   "source": [
    "def proportion_size(pixels:int=None, size:int=None, padrao:int=2160):\n",
    "    sizing = float(pixels / (padrao / size))\n",
    "    return sizing"
   ]
  },
  {
   "cell_type": "code",
   "execution_count": 519,
   "metadata": {},
   "outputs": [],
   "source": [
    "def bg_colors(dataframe, datetime:str, dia_util:str):\n",
    "    \n",
    "    colors = []\n",
    "    date_colors = []\n",
    "    destak_color = []\n",
    "    \n",
    "\n",
    "    for i in dataframe.index:\n",
    "        if dataframe.loc[i, dia_util] == 'Não':\n",
    "            date_colors.append('#DEEFFF')\n",
    "            destak_color.append('#DEEFFF')\n",
    "\n",
    "        elif dataframe.loc[i, datetime].strftime('%d/%m/%Y') == dt.datetime.now().strftime('%d/%m/%Y'):\n",
    "            date_colors.append('#F7F7F7')\n",
    "            destak_color.append('#F7F7F7')\n",
    "            \n",
    "        else:\n",
    "            date_colors.append('#FFFFFF')\n",
    "            destak_color.append('#F7F7F7')\n",
    "\n",
    "    date_colors.append('#E5E5E5')\n",
    "    destak_color.append('#E5E5E5')\n",
    "\n",
    "\n",
    "    for coluna in dataframe.columns:\n",
    "        colors.append(date_colors)\n",
    "\n",
    "    colors[2] = destak_color\n",
    "    colors[3] = destak_color\n",
    "    colors[6] = destak_color\n",
    "    colors[9] = destak_color\n",
    "\n",
    "    return colors"
   ]
  },
  {
   "cell_type": "code",
   "execution_count": 520,
   "metadata": {},
   "outputs": [],
   "source": [
    "def font_projecao_mensal(dataframe, datetime:str, dia_util:str, principal_color:str):\n",
    "    \n",
    "    colors = []\n",
    "    date_colors = []\n",
    "    \n",
    "\n",
    "    for i in dataframe.index:\n",
    "        if dataframe.loc[i, datetime] > dt.datetime.now():\n",
    "            if dataframe.loc[i, dia_util] == 'Não':\n",
    "                date_colors.append('#DEEFFF')\n",
    "                \n",
    "            else:\n",
    "                date_colors.append('#FFFFFF')\n",
    "\n",
    "        else:\n",
    "            if dataframe.loc[i, dia_util] == 'Não':\n",
    "                date_colors.append('#DEEFFF')\n",
    "                \n",
    "            else:\n",
    "                date_colors.append(principal_color)\n",
    "\n",
    "    date_colors.append('#118DFF')\n",
    "\n",
    "\n",
    "    for coluna in dataframe.columns:\n",
    "        colors.append(date_colors)\n",
    "\n",
    "    return colors"
   ]
  },
  {
   "cell_type": "code",
   "execution_count": 521,
   "metadata": {},
   "outputs": [],
   "source": [
    "def font_rendimento(dataframe, percents:str, datetime:str, dia_util:str, principal_color:str):\n",
    "    \n",
    "    colors = []\n",
    "    date_colors = []\n",
    "    \n",
    "\n",
    "    for i in dataframe.index:\n",
    "        if dataframe.loc[i, datetime] != ' ':\n",
    "            if dataframe.loc[i, dia_util] == 'Não':\n",
    "                    date_colors.append('#DEEFFF')\n",
    "\n",
    "            elif dataframe.loc[i, datetime] < dt.datetime.now():\n",
    "                if dataframe.loc[i, percents] >= 1:\n",
    "                    date_colors.append('#00B050')\n",
    "\n",
    "                elif dataframe.loc[i, percents] < 0.95:\n",
    "                    date_colors.append('#FF0000')\n",
    "\n",
    "                elif dataframe.loc[i, percents] < 1:\n",
    "                    date_colors.append('#FFC000')\n",
    "                    \n",
    "            else:\n",
    "                date_colors.append('#FFFFFF')\n",
    "\n",
    "        else:\n",
    "                date_colors.append(principal_color)\n",
    "\n",
    "    date_colors.append('#E5E5E5')\n",
    "\n",
    "    for coluna in dataframe.columns:\n",
    "        colors.append(date_colors)\n",
    "\n",
    "    return colors[0]"
   ]
  },
  {
   "cell_type": "markdown",
   "metadata": {},
   "source": [
    "# Parâmetros"
   ]
  },
  {
   "cell_type": "code",
   "execution_count": 522,
   "metadata": {},
   "outputs": [],
   "source": [
    "_schema = 'H-1'"
   ]
  },
  {
   "cell_type": "code",
   "execution_count": 523,
   "metadata": {},
   "outputs": [
    {
     "name": "stdout",
     "output_type": "stream",
     "text": [
      "Taxa de proporção: 890 x 2060\n"
     ]
    }
   ],
   "source": [
    "_pixels = 890\n",
    "\n",
    "pixels_width = 2060 #int((_pixels/9) * 17)\n",
    "pixels_height = int(_pixels)\n",
    "\n",
    "print(f'Taxa de proporção: {pixels_height} x {pixels_width}')"
   ]
  },
  {
   "cell_type": "code",
   "execution_count": 524,
   "metadata": {},
   "outputs": [],
   "source": [
    "date_query = date(int((dt.datetime.now().strftime('%Y-%m-%d').split('-')[0])), int((dt.datetime.now().strftime('%Y-%m-%d').split('-')[1])), 1).strftime('%Y-%m-%d')"
   ]
  },
  {
   "cell_type": "code",
   "execution_count": 525,
   "metadata": {},
   "outputs": [],
   "source": [
    "codigos_kaizen = [(         'PECISTA', '02608'),\n",
    "\n",
    "                  (    'CLIENTE VALE', '00270'),\n",
    "    \n",
    "                  ('KAIZEN ASA NORTE', '13996'),\n",
    "                  (     'USO INTERNO', '20690'),\n",
    "\n",
    "                  ('KAIZEN CEILÂNDIA', '16100'),\n",
    "                  (     'USO INTERNO', '20691'),\n",
    "\n",
    "                  (     'KAIZEN GAMA', '18400'),\n",
    "                  (     'USO INTERNO', '20692'),\n",
    "\n",
    "                  (  'KAIZEN SOF SUL', '20000'),\n",
    "                  (     'USO INTERNO', '20693')]"
   ]
  },
  {
   "cell_type": "code",
   "execution_count": 526,
   "metadata": {},
   "outputs": [],
   "source": [
    "lista_lojas = [('01',             'CD', '#000000', 'ⒸⒹ', False),\n",
    "               ('02',               '', '#000000', '', False),\n",
    "               ('03',  '04. ASA NORTE', '#881798', 'ⒶⓈⒶ ⓃⓄⓇⓉⒺ', True),\n",
    "               ('04',  '02. CEILÂNDIA', '#008080', 'ⒸⒺⒾⓁⒶⓃⒹⒾⒶ', True),\n",
    "               ('05',       '03. GAMA', '#E74856', 'ⒼⒶⓂⒶ', True),\n",
    "               ('06',    '01. SOF SUL', '#00B050', 'ⓈⓄⒻ ⓈⓊⓁ', True),\n",
    "               ('VO', '05. E-COMMERCE', '#FFC000', 'Ⓔ-ⒸⓄⓂⓂⒺⓇⒸⒺ', True)]"
   ]
  },
  {
   "cell_type": "code",
   "execution_count": 527,
   "metadata": {},
   "outputs": [],
   "source": [
    "dias_semana = [(   'Sunday',       'Domingo'),\n",
    "               (   'Monday', 'Segunda-feira'),\n",
    "               (  'Tuesday',   'Terça-feira'),\n",
    "               ('Wednesday',  'Quarta-feira'),\n",
    "               ( 'Thursday',  'Quinta-feira'),\n",
    "               (   'Friday',   'Sexta-feira'),\n",
    "               ( 'Saturday',        'Sábado')]"
   ]
  },
  {
   "cell_type": "code",
   "execution_count": 528,
   "metadata": {},
   "outputs": [],
   "source": [
    "relatorio = 'TESTE'\n",
    "\n",
    "relatorio_lower = relatorio.lower()\n",
    "relatorio_msg = relatorio_lower.replace(relatorio_lower.split()[0], relatorio_lower.split()[0].title())"
   ]
  },
  {
   "cell_type": "code",
   "execution_count": 529,
   "metadata": {},
   "outputs": [],
   "source": [
    "caminho_imagem = 'Y:\\\\COMPRAS\\\\arquivo temporario analise atualizado\\\\DEPARTAMENTO COMPRAS\\\\10. CARLOS\\\\REPORT'"
   ]
  },
  {
   "cell_type": "code",
   "execution_count": 530,
   "metadata": {},
   "outputs": [],
   "source": [
    "contatos = [('PrimeiraFoto', 'https://chat.whatsapp.com/LK4LDajkH52BNydoLGGD2d', True),\n",
    "            ('Dados e Int',  'https://chat.whatsapp.com/JxY14kWarG70MxB2jzb5pc', False),\n",
    "            ('Dream Team',   'https://chat.whatsapp.com/Hb0KMgYnuFB8coTPlFKTzJ', False),\n",
    "            ('Report Di',    'https://chat.whatsapp.com/G4p8qdUIUblCNPS80244RQ', False),\n",
    "            ('API',          'https://chat.whatsapp.com/EBLX0fxYfvuHL7jZ9CZECQ', True),\n",
    "            ('Teste Python', 'https://chat.whatsapp.com/I4y7EAVfns629NvfoLUtGI', True)]"
   ]
  },
  {
   "cell_type": "markdown",
   "metadata": {},
   "source": [
    "#"
   ]
  },
  {
   "cell_type": "markdown",
   "metadata": {},
   "source": [
    "# DataFrames"
   ]
  },
  {
   "cell_type": "markdown",
   "metadata": {},
   "source": [
    "## Clientes"
   ]
  },
  {
   "cell_type": "code",
   "execution_count": 531,
   "metadata": {},
   "outputs": [],
   "source": [
    "df_cliente = PostgreSQL.read_postgres(name_table='cliente', schema=_schema)"
   ]
  },
  {
   "cell_type": "code",
   "execution_count": 532,
   "metadata": {},
   "outputs": [],
   "source": [
    "df_cli_ped = PostgreSQL.read_postgres(name_table='cli_ped', schema=_schema, query=f'WHERE DT_CADASTR >= \\'{date_query}\\'')"
   ]
  },
  {
   "cell_type": "markdown",
   "metadata": {},
   "source": [
    "## Pedidos"
   ]
  },
  {
   "cell_type": "code",
   "execution_count": 533,
   "metadata": {},
   "outputs": [],
   "source": [
    "df_pedido = PostgreSQL.read_postgres(name_table='pedido', schema=_schema, query=f'WHERE DT_EMISSAO >= \\'{date_query}\\'')"
   ]
  },
  {
   "cell_type": "code",
   "execution_count": 534,
   "metadata": {},
   "outputs": [],
   "source": [
    "df_pedido['VALOR_TOT'] = df_pedido['VALOR_TOT'].astype(float)"
   ]
  },
  {
   "cell_type": "code",
   "execution_count": 535,
   "metadata": {},
   "outputs": [
    {
     "name": "stderr",
     "output_type": "stream",
     "text": [
      " 50%|█████     | 5/10 [00:00<00:00, 40.59it/s]"
     ]
    },
    {
     "name": "stdout",
     "output_type": "stream",
     "text": [
      "Excluindo PECISTA - 02608\n",
      "Excluindo CLIENTE VALE - 00270\n",
      "Excluindo KAIZEN ASA NORTE - 13996\n",
      "Excluindo USO INTERNO - 20690\n",
      "Excluindo KAIZEN CEILÂNDIA - 16100\n",
      "Excluindo USO INTERNO - 20691\n",
      "Excluindo KAIZEN GAMA - 18400\n",
      "Excluindo USO INTERNO - 20692\n",
      "Excluindo KAIZEN SOF SUL - 20000\n",
      "Excluindo USO INTERNO - 20693\n"
     ]
    },
    {
     "name": "stderr",
     "output_type": "stream",
     "text": [
      "100%|██████████| 10/10 [00:00<00:00, 43.68it/s]\n"
     ]
    }
   ],
   "source": [
    "for (kaizen, codcli_kaizen) in tqdm(codigos_kaizen):\n",
    "    print(f'Excluindo {kaizen} - {codcli_kaizen}')\n",
    "    df_pedido = df_pedido[df_pedido['CODCLI'] != codcli_kaizen]"
   ]
  },
  {
   "cell_type": "code",
   "execution_count": 536,
   "metadata": {},
   "outputs": [],
   "source": [
    "df_pedido = df_pedido[df_pedido['CODVDE'] != '0001']\n",
    "df_pedido = df_pedido[df_pedido['CODVDE'] != '0100']"
   ]
  },
  {
   "cell_type": "code",
   "execution_count": 537,
   "metadata": {},
   "outputs": [],
   "source": [
    "df_pedido = df_pedido[df_pedido['TIPPED'] == 'V']"
   ]
  },
  {
   "cell_type": "code",
   "execution_count": 538,
   "metadata": {},
   "outputs": [],
   "source": [
    "df_pedido = df_pedido[df_pedido['OBSERVA'].str.contains('REQ') != True]\n",
    "df_pedido = df_pedido[df_pedido['OBSERVA2'].str.contains('REQ') != True]"
   ]
  },
  {
   "cell_type": "code",
   "execution_count": 539,
   "metadata": {},
   "outputs": [
    {
     "name": "stderr",
     "output_type": "stream",
     "text": [
      "100%|██████████| 16854/16854 [00:01<00:00, 10698.23it/s]\n"
     ]
    }
   ],
   "source": [
    "for i in tqdm(df_pedido.index):\n",
    "    if df_pedido.loc[i, 'FORMA_PGTO'] == 'M':\n",
    "        df_pedido.loc[i, 'COD_LOJA'] = 'VO'\n",
    "    else:\n",
    "        df_pedido.loc[i, 'COD_LOJA'] = df_pedido.loc[i, 'CD_LOJA']"
   ]
  },
  {
   "cell_type": "code",
   "execution_count": 540,
   "metadata": {},
   "outputs": [
    {
     "name": "stderr",
     "output_type": "stream",
     "text": [
      "100%|██████████| 16854/16854 [00:00<00:00, 33820.76it/s]\n"
     ]
    }
   ],
   "source": [
    "for i in tqdm(df_pedido.index):\n",
    "    if df_pedido.loc[i, 'COD_LOJA'] == 'VO':\n",
    "        df_pedido.loc[i, 'NU_CPFCNPJ'] = list(df_cli_ped[(df_cli_ped['CD_LOJA'] == df_pedido.loc[i, 'CD_LOJA']) &\n",
    "                                             (df_cli_ped['SG_PEDIDO'] == df_pedido.loc[i, 'SERIE']) &\n",
    "                                             (df_cli_ped['NU_PEDIDO'] == df_pedido.loc[i, 'NU_NOTA'])]['NU_CPFCNPJ'])[0]"
   ]
  },
  {
   "cell_type": "code",
   "execution_count": 541,
   "metadata": {},
   "outputs": [],
   "source": [
    "df_pedido = pd.merge(df_pedido, df_cliente, how='inner', on='CODCLI')"
   ]
  },
  {
   "cell_type": "code",
   "execution_count": 542,
   "metadata": {},
   "outputs": [
    {
     "name": "stderr",
     "output_type": "stream",
     "text": [
      "100%|██████████| 16854/16854 [00:01<00:00, 8868.12it/s]\n"
     ]
    }
   ],
   "source": [
    "for i in tqdm(df_pedido.index):\n",
    "\n",
    "    if df_pedido.loc[i, 'COD_LOJA'] == 'VO':\n",
    "        identify = df_pedido.loc[i, 'NU_CPFCNPJ']\n",
    "    else:\n",
    "        identify = df_pedido.loc[i, 'CPF_CGC']\n",
    "\n",
    "    if df_pedido.loc[i, 'CODAREA'] == '104':\n",
    "        df_pedido.loc[i, 'TIPO_CLIENTE'] = 'CNPJ*'\n",
    "    elif len(identify) < 14:\n",
    "        df_pedido.loc[i, 'TIPO_CLIENTE'] = 'CPF'\n",
    "    else:\n",
    "        df_pedido.loc[i, 'TIPO_CLIENTE'] = 'CNPJ'"
   ]
  },
  {
   "cell_type": "markdown",
   "metadata": {},
   "source": [
    "## Devolução"
   ]
  },
  {
   "cell_type": "code",
   "execution_count": 543,
   "metadata": {},
   "outputs": [],
   "source": [
    "df_prod_ent = PostgreSQL.read_postgres(full_query=f'select a.*, (a.VL_PRECO*a.QT_DEVOLVE) as VL_TOTAL_DEV, b.IN_CLIFOR as IN_CLIFOR1, b.IN_CANCELA, UPPER(b.NFEENVSTAT) as NFEENVSTAT, c.FORMA_PGTO from \"{_schema}\".prod_ent a inner join \"{_schema}\".entrada b on a.CD_LOJA = b.CD_LOJA and a.SG_SERIE = b.SG_SERIE and a.NU_NOTA = b.NU_NOTA inner join \"{_schema}\".venda c on a.CD_LOJA = c.CD_LOJA and a.SG_ORIGEM = c.SERIE and a.NU_ORIGEM = c.NU_NOTA where a.DT_EMISSAO >= \\'{date_query}\\'')"
   ]
  },
  {
   "cell_type": "code",
   "execution_count": 544,
   "metadata": {},
   "outputs": [
    {
     "name": "stderr",
     "output_type": "stream",
     "text": [
      "100%|██████████| 10/10 [00:00<00:00, 516.03it/s]"
     ]
    },
    {
     "name": "stdout",
     "output_type": "stream",
     "text": [
      "Excluindo PECISTA - 02608\n",
      "Excluindo CLIENTE VALE - 00270\n",
      "Excluindo KAIZEN ASA NORTE - 13996\n",
      "Excluindo USO INTERNO - 20690\n",
      "Excluindo KAIZEN CEILÂNDIA - 16100\n",
      "Excluindo USO INTERNO - 20691\n",
      "Excluindo KAIZEN GAMA - 18400\n",
      "Excluindo USO INTERNO - 20692\n",
      "Excluindo KAIZEN SOF SUL - 20000\n",
      "Excluindo USO INTERNO - 20693\n"
     ]
    },
    {
     "name": "stderr",
     "output_type": "stream",
     "text": [
      "\n"
     ]
    }
   ],
   "source": [
    "for (kaizen, codcli_kaizen) in tqdm(codigos_kaizen):\n",
    "    print(f'Excluindo {kaizen} - {codcli_kaizen}')\n",
    "    df_prod_ent = df_prod_ent[df_prod_ent['CD_CLIENTE'] != codcli_kaizen]"
   ]
  },
  {
   "cell_type": "code",
   "execution_count": 545,
   "metadata": {},
   "outputs": [],
   "source": [
    "df_prod_ent = df_prod_ent[(df_prod_ent['IN_CANCELA'] == 'N') &\n",
    "                          (df_prod_ent['IN_CLIFOR1'] == 'C') &\n",
    "                          (df_prod_ent['CD_CFOP'] != '1949') &\n",
    "                          (df_prod_ent['CD_CFOP'] != '2949') &\n",
    "                          (df_prod_ent['CD_CFOP'] != '1603') &\n",
    "                          (df_prod_ent['NFEENVSTAT'].str.contains('DENEG') != True)]"
   ]
  },
  {
   "cell_type": "code",
   "execution_count": 546,
   "metadata": {},
   "outputs": [
    {
     "name": "stderr",
     "output_type": "stream",
     "text": [
      "100%|██████████| 1331/1331 [00:00<00:00, 11029.73it/s]\n"
     ]
    }
   ],
   "source": [
    "for i in tqdm(df_prod_ent.index):\n",
    "    if df_prod_ent.loc[i, 'FORMA_PGTO'] == 'M':\n",
    "        df_prod_ent.loc[i, 'COD_LOJA'] = 'VO'\n",
    "    else:\n",
    "        df_prod_ent.loc[i, 'COD_LOJA'] = df_prod_ent.loc[i, 'CD_LOJA']"
   ]
  },
  {
   "cell_type": "code",
   "execution_count": 547,
   "metadata": {},
   "outputs": [],
   "source": [
    "df_prod_ent['VL_TOTAL_DEV'] = df_prod_ent['VL_TOTAL_DEV'].astype(float)"
   ]
  },
  {
   "cell_type": "code",
   "execution_count": 548,
   "metadata": {},
   "outputs": [],
   "source": [
    "df_prod_ent = df_prod_ent.rename(columns={'CD_CLIENTE':'CODCLI'})\n",
    "df_prod_ent = pd.merge(df_prod_ent, df_cliente, how='inner', on='CODCLI')"
   ]
  },
  {
   "cell_type": "code",
   "execution_count": 549,
   "metadata": {},
   "outputs": [
    {
     "name": "stderr",
     "output_type": "stream",
     "text": [
      "100%|██████████| 1331/1331 [00:00<00:00, 10770.08it/s]\n"
     ]
    }
   ],
   "source": [
    "for i in tqdm(df_prod_ent.index):\n",
    "\n",
    "    identify = df_prod_ent.loc[i, 'CPF_CGC']\n",
    "\n",
    "    if df_prod_ent.loc[i, 'CODAREA'] == '104':\n",
    "        df_prod_ent.loc[i, 'TIPO_CLIENTE'] = 'CNPJ*'\n",
    "    elif len(identify) < 14:\n",
    "        df_prod_ent.loc[i, 'TIPO_CLIENTE'] = 'CPF'\n",
    "    else:\n",
    "        df_prod_ent.loc[i, 'TIPO_CLIENTE'] = 'CNPJ'"
   ]
  },
  {
   "cell_type": "markdown",
   "metadata": {},
   "source": [
    "## Metas"
   ]
  },
  {
   "cell_type": "code",
   "execution_count": 550,
   "metadata": {},
   "outputs": [],
   "source": [
    "df_metas = pd.read_excel('Y:\\\\COMPRAS\\\\arquivo temporario analise atualizado\\\\DEPARTAMENTO COMPRAS\\\\10. CARLOS\\\\PROJETOS\\\\EXCEL\\\\BASES\\\\DATAS.xlsx', sheet_name='Metas')"
   ]
  },
  {
   "cell_type": "code",
   "execution_count": 551,
   "metadata": {},
   "outputs": [],
   "source": [
    "df_data = pd.read_excel('Y:\\\\COMPRAS\\\\arquivo temporario analise atualizado\\\\DEPARTAMENTO COMPRAS\\\\10. CARLOS\\\\PROJETOS\\\\EXCEL\\\\BASES\\\\DATAS.xlsx', sheet_name='Datas')"
   ]
  },
  {
   "cell_type": "code",
   "execution_count": 552,
   "metadata": {},
   "outputs": [],
   "source": [
    "df_datas = df_data[df_data['Mês - Ano'] == df_data[df_data['Data'] == date_query]['Mês - Ano'].values[0]].reset_index(drop=True)"
   ]
  },
  {
   "cell_type": "code",
   "execution_count": 553,
   "metadata": {},
   "outputs": [],
   "source": [
    "df_meta_mes = df_metas[df_metas['Mês - Ano'] == df_datas['Mês - Ano'][0]]"
   ]
  },
  {
   "cell_type": "code",
   "execution_count": 554,
   "metadata": {},
   "outputs": [],
   "source": [
    "df_meta_data = df_datas.drop(columns=['Dia', 'Mês', 'Ano', 'Dia da Semana', 'Nome - Mês', 'Semestre', 'Trimestre', 'Sequencial - Dia da Semana', 'Dias Úteis']).merge(df_meta_mes.drop(columns=['Mês', 'Ano', 'Dias Úteis', 'Qtd Sábados', 'Nome - Mês', 'Loja']), how='inner', on='Mês - Ano')"
   ]
  },
  {
   "cell_type": "code",
   "execution_count": 555,
   "metadata": {},
   "outputs": [],
   "source": [
    "for i in df_meta_data.index:\n",
    "    if df_meta_data.loc[i, 'Dia Útil'] == 'Sim':\n",
    "        df_meta_data.loc[i, 'Meta'] = df_meta_data.loc[i, 'Meta Diária']\n",
    "    \n",
    "    elif df_meta_data.loc[i, 'Dia Útil'] == 'Meio':\n",
    "        df_meta_data.loc[i, 'Meta'] = df_meta_data.loc[i, 'Meta Sábado']\n",
    "\n",
    "    else:\n",
    "        df_meta_data.loc[i, 'Meta'] = 0\n",
    "\n",
    "df_meta_data = df_meta_data.rename(columns={'Cd_Loja':'CD_LOJA', 'Data':'DT_EMISSAO'})"
   ]
  },
  {
   "cell_type": "markdown",
   "metadata": {},
   "source": [
    "# Cálculo"
   ]
  },
  {
   "cell_type": "code",
   "execution_count": 556,
   "metadata": {},
   "outputs": [
    {
     "name": "stderr",
     "output_type": "stream",
     "text": [
      "C:\\Users\\admin\\AppData\\Local\\Temp\\ipykernel_19088\\464804912.py:1: FutureWarning:\n",
      "\n",
      "The default value of numeric_only in DataFrameGroupBy.sum is deprecated. In a future version, numeric_only will default to False. Either specify numeric_only or select only columns which should be valid for the function.\n",
      "\n"
     ]
    }
   ],
   "source": [
    "df_venda_bruta = df_pedido.groupby(['COD_LOJA', 'DT_EMISSAO']).sum()[['VALOR_TOT']].reset_index().rename(columns={'COD_LOJA':'CD_LOJA'})"
   ]
  },
  {
   "cell_type": "code",
   "execution_count": 557,
   "metadata": {},
   "outputs": [
    {
     "name": "stderr",
     "output_type": "stream",
     "text": [
      "C:\\Users\\admin\\AppData\\Local\\Temp\\ipykernel_19088\\793352684.py:1: FutureWarning:\n",
      "\n",
      "The default value of numeric_only in DataFrameGroupBy.sum is deprecated. In a future version, numeric_only will default to False. Either specify numeric_only or select only columns which should be valid for the function.\n",
      "\n"
     ]
    }
   ],
   "source": [
    "df_devolucao = df_prod_ent.groupby(['COD_LOJA', 'DT_EMISSAO']).sum()[['VL_TOTAL_DEV']].reset_index().rename(columns={'COD_LOJA':'CD_LOJA'})"
   ]
  },
  {
   "cell_type": "code",
   "execution_count": 558,
   "metadata": {},
   "outputs": [
    {
     "name": "stderr",
     "output_type": "stream",
     "text": [
      "C:\\Users\\admin\\AppData\\Local\\Temp\\ipykernel_19088\\3541458602.py:1: FutureWarning:\n",
      "\n",
      "The default value of numeric_only in DataFrameGroupBy.sum is deprecated. In a future version, numeric_only will default to False. Either specify numeric_only or select only columns which should be valid for the function.\n",
      "\n",
      "C:\\Users\\admin\\AppData\\Local\\Temp\\ipykernel_19088\\3541458602.py:2: FutureWarning:\n",
      "\n",
      "The default value of numeric_only in DataFrameGroupBy.sum is deprecated. In a future version, numeric_only will default to False. Either specify numeric_only or select only columns which should be valid for the function.\n",
      "\n"
     ]
    }
   ],
   "source": [
    "df_venda_bruta_cnpj = df_pedido[df_pedido['TIPO_CLIENTE'] != 'CPF'].groupby(['COD_LOJA', 'DT_EMISSAO']).sum()[['VALOR_TOT']].reset_index().rename(columns={'COD_LOJA':'CD_LOJA'})\n",
    "df_devolucao_cnpj = df_prod_ent[df_prod_ent['TIPO_CLIENTE'] != 'CPF'].groupby(['COD_LOJA', 'DT_EMISSAO']).sum()[['VL_TOTAL_DEV']].reset_index().rename(columns={'COD_LOJA':'CD_LOJA'})"
   ]
  },
  {
   "cell_type": "code",
   "execution_count": 559,
   "metadata": {},
   "outputs": [
    {
     "name": "stderr",
     "output_type": "stream",
     "text": [
      "C:\\Users\\admin\\AppData\\Local\\Temp\\ipykernel_19088\\4099021309.py:1: FutureWarning:\n",
      "\n",
      "The default value of numeric_only in DataFrameGroupBy.sum is deprecated. In a future version, numeric_only will default to False. Either specify numeric_only or select only columns which should be valid for the function.\n",
      "\n",
      "C:\\Users\\admin\\AppData\\Local\\Temp\\ipykernel_19088\\4099021309.py:2: FutureWarning:\n",
      "\n",
      "The default value of numeric_only in DataFrameGroupBy.sum is deprecated. In a future version, numeric_only will default to False. Either specify numeric_only or select only columns which should be valid for the function.\n",
      "\n"
     ]
    }
   ],
   "source": [
    "df_venda_bruta_cpf = df_pedido[df_pedido['TIPO_CLIENTE'] == 'CPF'].groupby(['COD_LOJA', 'DT_EMISSAO']).sum()[['VALOR_TOT']].reset_index().rename(columns={'COD_LOJA':'CD_LOJA'})\n",
    "df_devolucao_cpf = df_prod_ent[df_prod_ent['TIPO_CLIENTE'] == 'CPF'].groupby(['COD_LOJA', 'DT_EMISSAO']).sum()[['VL_TOTAL_DEV']].reset_index().rename(columns={'COD_LOJA':'CD_LOJA'})"
   ]
  },
  {
   "cell_type": "code",
   "execution_count": 560,
   "metadata": {},
   "outputs": [],
   "source": [
    "df_final = pd.merge(df_venda_bruta, df_devolucao, how='outer', on=['CD_LOJA', 'DT_EMISSAO'])\n",
    "\n",
    "df_final = df_final.sort_values(by=['DT_EMISSAO', 'CD_LOJA'])\n",
    "df_final = df_final.reset_index(drop=True)\n",
    "\n",
    "df_final = pd.merge(df_meta_data, df_final, how='left', on=['CD_LOJA', 'DT_EMISSAO'])"
   ]
  },
  {
   "cell_type": "code",
   "execution_count": 561,
   "metadata": {},
   "outputs": [],
   "source": [
    "df_final = df_final.fillna(0)"
   ]
  },
  {
   "cell_type": "code",
   "execution_count": 562,
   "metadata": {},
   "outputs": [
    {
     "name": "stderr",
     "output_type": "stream",
     "text": [
      "  0%|          | 0/186 [00:00<?, ?it/s]C:\\Users\\admin\\AppData\\Local\\Temp\\ipykernel_19088\\3999950578.py:66: RuntimeWarning:\n",
      "\n",
      "divide by zero encountered in double_scalars\n",
      "\n",
      "100%|██████████| 186/186 [00:02<00:00, 80.37it/s]\n"
     ]
    }
   ],
   "source": [
    "df_hoje = df_final\n",
    "df_hoje = df_hoje.rename(columns={'VALOR_TOT':'VENDA BRUTA', 'VL_TOTAL_DEV':'DEVOLUÇÃO', 'Meta':'META'})\n",
    "\n",
    "for i in tqdm(df_hoje.index):\n",
    "    df_hoje.loc[i, 'VENDA LÍQUIDA'] = (df_hoje.loc[i, 'VENDA BRUTA'] - df_hoje.loc[i, 'DEVOLUÇÃO'])\n",
    "    \n",
    "    if df_hoje.loc[i, 'CD_LOJA'] == 'VO':\n",
    "\n",
    "        client_cgc = list(df_pedido[(df_pedido['DT_EMISSAO'] == df_hoje.loc[i, 'DT_EMISSAO']) &\n",
    "                         (df_pedido['COD_LOJA'] == df_hoje.loc[i, 'CD_LOJA']) &\n",
    "                         (df_pedido['TIPO_CLIENTE'] != 'CPF')]['NU_CPFCNPJ'].drop_duplicates().dropna())\n",
    "\n",
    "        client_cpf = list(df_pedido[(df_pedido['DT_EMISSAO'] == df_hoje.loc[i, 'DT_EMISSAO']) &\n",
    "                         (df_pedido['COD_LOJA'] == df_hoje.loc[i, 'CD_LOJA']) &\n",
    "                         (df_pedido['TIPO_CLIENTE'] == 'CPF')]['NU_CPFCNPJ'].drop_duplicates().dropna())\n",
    "    \n",
    "    else:\n",
    "\n",
    "        client_cgc = list(df_pedido[(df_pedido['DT_EMISSAO'] == df_hoje.loc[i, 'DT_EMISSAO']) &\n",
    "                         (df_pedido['COD_LOJA'] == df_hoje.loc[i, 'CD_LOJA']) &\n",
    "                         (df_pedido['TIPO_CLIENTE'] != 'CPF')]['CPF_CGC'].drop_duplicates())\n",
    "\n",
    "        client_cpf = list(df_pedido[(df_pedido['DT_EMISSAO'] == df_hoje.loc[i, 'DT_EMISSAO']) &\n",
    "                         (df_pedido['COD_LOJA'] == df_hoje.loc[i, 'CD_LOJA']) &\n",
    "                         (df_pedido['TIPO_CLIENTE'] == 'CPF')]['CPF_CGC'].drop_duplicates())\n",
    "\n",
    "    venda_cgc = list(df_pedido[(df_pedido['DT_EMISSAO'] == df_hoje.loc[i, 'DT_EMISSAO']) &\n",
    "                    (df_pedido['COD_LOJA'] == df_hoje.loc[i, 'CD_LOJA']) &\n",
    "                    (df_pedido['TIPO_CLIENTE'] != 'CPF')]['VALOR_TOT'])\n",
    "\n",
    "    venda_cpf = list(df_pedido[(df_pedido['DT_EMISSAO'] == df_hoje.loc[i, 'DT_EMISSAO']) &\n",
    "                    (df_pedido['COD_LOJA'] == df_hoje.loc[i, 'CD_LOJA']) &\n",
    "                    (df_pedido['TIPO_CLIENTE'] == 'CPF')]['VALOR_TOT'])\n",
    "\n",
    "    devol_cgc = list(df_prod_ent[(df_prod_ent['DT_EMISSAO'] == df_hoje.loc[i, 'DT_EMISSAO']) &\n",
    "                    (df_prod_ent['COD_LOJA'] == df_hoje.loc[i, 'CD_LOJA']) &\n",
    "                    (df_prod_ent['TIPO_CLIENTE'] != 'CPF')]['VL_TOTAL_DEV'])\n",
    "\n",
    "    devol_cpf = list(df_prod_ent[(df_prod_ent['DT_EMISSAO'] == df_hoje.loc[i, 'DT_EMISSAO']) &\n",
    "                    (df_prod_ent['COD_LOJA'] == df_hoje.loc[i, 'CD_LOJA']) &\n",
    "                    (df_prod_ent['TIPO_CLIENTE'] == 'CPF')]['VL_TOTAL_DEV'])\n",
    "\n",
    "    if sum(devol_cgc) > 0 and sum(venda_cgc) > 0:\n",
    "        percent_cgc = sum(devol_cgc) / sum(venda_cgc)\n",
    "    else:\n",
    "        percent_cgc = 0\n",
    "\n",
    "    if sum(devol_cpf) > 0 and sum(venda_cpf) > 0:\n",
    "        percent_cpf = sum(devol_cpf) / sum(venda_cpf)\n",
    "    else:\n",
    "        percent_cpf = 0\n",
    "\n",
    "    df_hoje.loc[i, 'VENDA_CNPJ'] = (sum(venda_cgc) - sum(devol_cgc))\n",
    "    df_hoje.loc[i, 'DEVOL_CNPJ'] = sum(devol_cgc)\n",
    "    df_hoje.loc[i, '% DEV CNPJ'] = percent_cgc\n",
    "    df_hoje.loc[i, 'CNPJ'] = len(client_cgc)\n",
    "\n",
    "    df_hoje.loc[i, 'VENDA_CPF'] = (sum(venda_cpf) - sum(devol_cpf))\n",
    "    df_hoje.loc[i, 'DEVOL_CPF'] = sum(devol_cpf)\n",
    "    df_hoje.loc[i, '% DEV CPF'] = percent_cpf\n",
    "    df_hoje.loc[i, 'CPF'] = len(client_cpf)\n",
    "\n",
    "    if df_hoje.loc[i, 'VENDA LÍQUIDA'] == 0:\n",
    "        df_hoje.loc[i, '% META DIA'] = 0\n",
    "    else:\n",
    "        df_hoje.loc[i, '% META DIA'] = df_hoje.loc[i, 'VENDA LÍQUIDA'] / df_hoje.loc[i, 'META']\n",
    "\n",
    "    if df_hoje.loc[i, 'DEVOLUÇÃO'] == 0:\n",
    "        df_hoje.loc[i, '% DEV'] = 0\n",
    "    else:\n",
    "        df_hoje.loc[i, '% DEV'] = df_hoje.loc[i, 'DEVOLUÇÃO'] / df_hoje.loc[i, 'VENDA BRUTA']"
   ]
  },
  {
   "cell_type": "code",
   "execution_count": 563,
   "metadata": {},
   "outputs": [],
   "source": [
    "df_hoje = df_hoje.fillna(0)"
   ]
  },
  {
   "cell_type": "markdown",
   "metadata": {},
   "source": [
    "# "
   ]
  },
  {
   "cell_type": "code",
   "execution_count": 564,
   "metadata": {},
   "outputs": [],
   "source": [
    "def print_plot(principal_dataframe:str = None,\n",
    "               lojas = None,\n",
    "               loja_ = '',\n",
    "               save_image = ''):\n",
    "    \n",
    "    if len(loja_) > 0:\n",
    "        df_print = principal_dataframe[principal_dataframe['CD_LOJA'] == loja_].reset_index(drop=True)\n",
    "\n",
    "        if loja_ == 'VO':\n",
    "            client_cgc_mes_vo = []\n",
    "            client_cgc_mes = list(df_pedido[(df_pedido['COD_LOJA'] == loja_) &\n",
    "                                 (df_pedido['TIPO_CLIENTE'] != 'CPF')]['NU_CPFCNPJ'].drop_duplicates().dropna())\n",
    "        else:\n",
    "            client_cgc_mes_vo = []\n",
    "            client_cgc_mes = list(df_pedido[(df_pedido['COD_LOJA'] == loja_) &\n",
    "                                 (df_pedido['TIPO_CLIENTE'] != 'CPF')]['CPF_CGC'].drop_duplicates())\n",
    "\n",
    "\n",
    "        df_print = df_print[['DT_EMISSAO',\n",
    "                             'Dia Útil',\n",
    "                             'Nome - Dia da Semana',\n",
    "                             'CD_LOJA',\n",
    "                             'META',\n",
    "                             'VENDA BRUTA',\n",
    "                             'VENDA LÍQUIDA',\n",
    "                             'DEVOLUÇÃO',\n",
    "                             'VENDA_CNPJ',\n",
    "                             'DEVOL_CNPJ',\n",
    "                             'CNPJ',\n",
    "                             'VENDA_CPF',\n",
    "                             'DEVOL_CPF',\n",
    "                             'CPF']]\n",
    "\n",
    "    else:\n",
    "        df_print = principal_dataframe.groupby(['DT_EMISSAO', 'Dia Útil', 'Nome - Dia da Semana']).sum(['META',\n",
    "                                                                                                        'VENDA BRUTA',\n",
    "                                                                                                        'DEVOLUÇÃO',\n",
    "                                                                                                        'VENDA LÍQUIDA',\n",
    "                                                                                                        'VENDA_CNPJ',\n",
    "                                                                                                        'DEVOL_CNPJ',\n",
    "                                                                                                        'CNPJ',\n",
    "                                                                                                        'VENDA_CPF',\n",
    "                                                                                                        'DEVOL_CPF',\n",
    "                                                                                                        'CPF']).reset_index()\n",
    "\n",
    "\n",
    "        client_cgc_mes = list(df_pedido[(df_pedido['TIPO_CLIENTE'] != 'CPF')]['CPF_CGC'].drop_duplicates())\n",
    "        client_cgc_mes_vo = list(df_pedido[df_pedido['TIPO_CLIENTE'] != 'CPF']['NU_CPFCNPJ'].drop_duplicates().dropna())\n",
    "\n",
    "    \n",
    "        df_print = df_print[['DT_EMISSAO',\n",
    "                             'Dia Útil',\n",
    "                             'Nome - Dia da Semana',\n",
    "                             'META',\n",
    "                             'VENDA BRUTA',\n",
    "                             'VENDA LÍQUIDA',\n",
    "                             'DEVOLUÇÃO',\n",
    "                             'VENDA_CNPJ',\n",
    "                             'DEVOL_CNPJ',\n",
    "                             'CNPJ',\n",
    "                             'VENDA_CPF',\n",
    "                             'DEVOL_CPF',\n",
    "                             'CPF']]\n",
    "\n",
    "    for i in df_print.index:\n",
    "        if df_print.loc[i, 'DEVOLUÇÃO'] == 0:\n",
    "            df_print.loc[i, '% DEV'] = 0\n",
    "        else:\n",
    "            df_print.loc[i, '% DEV'] = df_print.loc[i, 'DEVOLUÇÃO'] / df_print.loc[i, 'VENDA BRUTA']\n",
    "\n",
    "        \n",
    "        if df_print.loc[i, 'DEVOL_CNPJ'] == 0:\n",
    "            df_print.loc[i, '% DEV CNPJ'] = 0\n",
    "        else:\n",
    "            df_print.loc[i, '% DEV CNPJ'] = df_print.loc[i, 'DEVOL_CNPJ'] / df_print.loc[i, 'VENDA_CNPJ']\n",
    "\n",
    "\n",
    "        if df_print.loc[i, 'DEVOL_CPF'] == 0:\n",
    "            df_print.loc[i, '% DEV CPF'] = 0\n",
    "        else:\n",
    "            df_print.loc[i, '% DEV CPF'] = df_print.loc[i, 'DEVOL_CPF'] / df_print.loc[i, 'VENDA_CPF']\n",
    "\n",
    "        if df_print.loc[i, 'VENDA LÍQUIDA'] == 0:\n",
    "            df_print.loc[i, '% META DIA'] = 0\n",
    "        else:\n",
    "            df_print.loc[i, '% META DIA'] = df_print.loc[i, 'VENDA LÍQUIDA'] / df_print.loc[i, 'META']\n",
    "\n",
    "    venda_mtd = []\n",
    "    meta_mtd = []\n",
    "\n",
    "    for i in df_print.index:\n",
    "\n",
    "        venda_mtd.append(list(df_print.loc[:i, 'VENDA LÍQUIDA']))\n",
    "        df_print.loc[i, 'VENDA_MTD'] = sum(venda_mtd[i])\n",
    "\n",
    "        meta_mtd.append(list(df_print.loc[:i, 'META']))\n",
    "        df_print.loc[i, 'META_MTD'] = sum(meta_mtd[i])\n",
    "\n",
    "        if df_print.loc[i, 'VENDA_MTD'] == 0:\n",
    "            df_print.loc[i, '% META MÊS'] = 0\n",
    "        else:\n",
    "            df_print.loc[i, '% META MÊS'] = df_print.loc[i, 'VENDA_MTD'] / df_print.loc[i, 'META_MTD']\n",
    "\n",
    "\n",
    "\n",
    "\n",
    "\n",
    "\n",
    "    for i in df_print.index:\n",
    "\n",
    "        df_print.loc[i, 'PROJEÇÃO MÊS'] = df_print.loc[i, '% META MÊS'] * round(float(sum(list(df_print['META']))), 2)\n",
    "\n",
    "    df_print = df_print.rename(columns={'DT_EMISSAO': 'Data',\n",
    "                                        'META': 'Meta',\n",
    "                                        'VENDA BRUTA': 'Venda\\nSIAC',\n",
    "                                        'VENDA LÍQUIDA': 'Venda\\nLíquida',\n",
    "                                        'DEVOLUÇÃO': 'Devolução',\n",
    "                                        '% DEV': '%\\nDev',\n",
    "                                        'VENDA_CNPJ': 'Venda\\nCNPJ',\n",
    "                                        'CNPJ': 'Clientes\\nCNPJ',\n",
    "                                        '% DEV CNPJ': '% Dev\\nCNPJ',\n",
    "                                        'VENDA_CPF': 'Venda\\nCPF',\n",
    "                                        'CPF': 'Clientes\\nCPF',\n",
    "                                        '% DEV CPF': '% Dev\\nCPF',\n",
    "                                        '% META DIA': '%\\nDia',\n",
    "                                        '% META MÊS': '%\\nMês',\n",
    "                                        'PROJEÇÃO MÊS': 'Projeção\\nmensal'})\n",
    "\n",
    "\n",
    "    background_color = bg_colors(df_print, 'Data', 'Dia Útil')\n",
    "    fonts_color = font_projecao_mensal(df_print, 'Data', 'Dia Útil', '#000000')\n",
    "    day_rending_color = font_rendimento(df_print, '%\\nDia', 'Data', 'Dia Útil', '#FFFFFF')\n",
    "    mon_rending_color = font_rendimento(df_print, '%\\nMês', 'Data', 'Dia Útil', '#FFFFFF')\n",
    "\n",
    "\n",
    "    percent_total_dev = (round(float(sum(list(df_print['Devolução']))), 2) / round(float(sum(list(df_print['Venda\\nSIAC']))), 2))\n",
    "    percent_total_dev_pj = (round(float(sum(list(df_print['DEVOL_CNPJ']))), 2) / round(float(sum(list(df_print['Venda\\nCNPJ']))), 2))\n",
    "    percent_total_dev_pf = (round(float(sum(list(df_print['DEVOL_CPF']))), 2) / round(float(sum(list(df_print['Venda\\nCPF']))), 2))\n",
    "\n",
    "\n",
    "    df_print.loc[len(df_print), 'Data'] = ' '\n",
    "\n",
    "\n",
    "    df_print = df_print.fillna(0)\n",
    "\n",
    "    df_print.loc[len(df_print) - 1, 'Meta'] = round(float(sum(list(df_print['Meta']))), 2)\n",
    "    df_print.loc[len(df_print) - 1, 'Venda\\nSIAC'] = round(float(sum(list(df_print['Venda\\nSIAC']))), 2)\n",
    "    df_print.loc[len(df_print) - 1, 'Venda\\nLíquida'] = round(float(sum(list(df_print['Venda\\nLíquida']))), 2)\n",
    "    df_print.loc[len(df_print) - 1, 'Devolução'] = round(float(sum(list(df_print['Devolução']))), 2)\n",
    "    df_print.loc[len(df_print) - 1, '%\\nDev'] = percent_total_dev\n",
    "    df_print.loc[len(df_print) - 1, 'Venda\\nCNPJ'] = round(float(sum(list(df_print['Venda\\nCNPJ']))), 2)\n",
    "    df_print.loc[len(df_print) - 1, 'Clientes\\nCNPJ'] = round(float(len(client_cgc_mes) + len(client_cgc_mes_vo)), 2)  #round(float(sum(list(df_print['Clientes\\nCNPJ']))), 2)\n",
    "    df_print.loc[len(df_print) - 1, '% Dev\\nCNPJ'] = percent_total_dev_pj\n",
    "    df_print.loc[len(df_print) - 1, 'Venda\\nCPF'] = round(float(sum(list(df_print['Venda\\nCPF']))), 2)\n",
    "    df_print.loc[len(df_print) - 1, 'Clientes\\nCPF'] = round(float(sum(list(df_print['Clientes\\nCPF']))), 2)\n",
    "    df_print.loc[len(df_print) - 1, '% Dev\\nCPF'] = percent_total_dev_pf\n",
    "    df_print.loc[len(df_print) - 1, '%\\nDia'] = df_print.loc[len(df_print) - 1, 'Venda\\nLíquida'] / df_print.loc[len(df_print) - 1, 'Meta']\n",
    "    df_print.loc[len(df_print) - 1, '%\\nMês'] = df_print.loc[len(df_print) - 1, 'Venda\\nLíquida'] / df_print.loc[len(df_print) - 1, 'Meta']\n",
    "    df_print.loc[len(df_print) - 1, 'Projeção\\nmensal'] = 0\n",
    "\n",
    "\n",
    "\n",
    "\n",
    "\n",
    "\n",
    "    df_print = df_print[['Data',\n",
    "                         'Meta',\n",
    "                         'Venda\\nSIAC',\n",
    "                         'Venda\\nLíquida',\n",
    "                         'Devolução',\n",
    "                         '%\\nDev',\n",
    "                         'Venda\\nCNPJ',\n",
    "                         'Clientes\\nCNPJ',\n",
    "                         '% Dev\\nCNPJ',\n",
    "                         'Venda\\nCPF',\n",
    "                         'Clientes\\nCPF',\n",
    "                         '% Dev\\nCPF',\n",
    "                         '%\\nDia',\n",
    "                         '%\\nMês',\n",
    "                         'Projeção\\nmensal']]\n",
    "\n",
    "\n",
    "\n",
    "    for i in df_print.index:\n",
    "        df_print.loc[i, 'Meta'] = 'R$ {:_.2f}'.format(df_print.loc[i, 'Meta']).replace('.',',').replace('_','.')\n",
    "        df_print.loc[i, 'Venda\\nSIAC'] = 'R$ {:_.2f}'.format(df_print.loc[i, 'Venda\\nSIAC']).replace('.',',').replace('_','.')\n",
    "        df_print.loc[i, 'Devolução'] = 'R$ {:_.2f}'.format(df_print.loc[i, 'Devolução']).replace('.',',').replace('_','.')\n",
    "        df_print.loc[i, '%\\nDev'] = '{:_.2%}'.format(df_print.loc[i, '%\\nDev']).replace('.',',').replace('_','.')\n",
    "        df_print.loc[i, 'Venda\\nCNPJ'] = 'R$ {:_.2f}'.format(df_print.loc[i, 'Venda\\nCNPJ']).replace('.',',').replace('_','.')\n",
    "        df_print.loc[i, '% Dev\\nCNPJ'] = '{:_.2%}'.format(df_print.loc[i, '% Dev\\nCNPJ']).replace('.',',').replace('_','.')\n",
    "        df_print.loc[i, 'Clientes\\nCNPJ'] = '{:_.0f}'.format(df_print.loc[i, 'Clientes\\nCNPJ']).replace('.',',').replace('_','.')\n",
    "        df_print.loc[i, 'Venda\\nCPF'] = 'R$ {:_.2f}'.format(df_print.loc[i, 'Venda\\nCPF']).replace('.',',').replace('_','.')\n",
    "        df_print.loc[i, '% Dev\\nCPF'] = '{:_.2%}'.format(df_print.loc[i, '% Dev\\nCPF']).replace('.',',').replace('_','.')\n",
    "        df_print.loc[i, 'Clientes\\nCPF'] = '{:_.0f}'.format(df_print.loc[i, 'Clientes\\nCPF']).replace('.',',').replace('_','.')\n",
    "        df_print.loc[i, '%\\nDia'] = '{:_.2%}'.format(df_print.loc[i, '%\\nDia']).replace('.',',').replace('_','.')\n",
    "        df_print.loc[i, '%\\nMês'] = '{:_.2%}'.format(df_print.loc[i, '%\\nMês']).replace('.',',').replace('_','.')\n",
    "        df_print.loc[i, 'Projeção\\nmensal'] = 'R$ {:_.2f}'.format(df_print.loc[i, 'Projeção\\nmensal']).replace('.',',').replace('_','.')\n",
    "\n",
    "        if df_print.loc[i, 'Venda\\nLíquida'] < 0:\n",
    "            df_print.loc[i, 'Venda\\nLíquida'] = '-R$ {:_.2f}'.format(df_print.loc[i, 'Venda\\nLíquida'] * -1).replace('.',',').replace('_','.')\n",
    "        else:\n",
    "            df_print.loc[i, 'Venda\\nLíquida'] = 'R$ {:_.2f}'.format(df_print.loc[i, 'Venda\\nLíquida']).replace('.',',').replace('_','.')\n",
    "\n",
    "        if df_print.loc[i, 'Data'] == ' ':\n",
    "            df_print.loc[i, 'Data'] = 'Total'\n",
    "        else:\n",
    "            df_print.loc[i, 'Data'] = df_print.loc[i, 'Data'].strftime('%d/%m/%Y, %A')\n",
    "\n",
    "\n",
    "        for (english, portuguese) in dias_semana:\n",
    "            if english in df_print.loc[i, 'Data']:\n",
    "                df_print.loc[i, 'Data'] = df_print.loc[i, 'Data'].replace(english, portuguese)\n",
    "\n",
    "\n",
    "\n",
    "    df_print = df_print.replace('inf%', '').replace('-inf%', '').replace('0,00%', '').replace('R$ 0,00', '').replace('0', '')\n",
    "\n",
    "\n",
    "    table = go.Figure(go.Table(header={'values':list(df_print.columns),\n",
    "                                       'fill_color': '#E5E5E5',\n",
    "                                       'line_color': '#E5E5E5',\n",
    "                                       'line_width': 3,\n",
    "                                       'align': 'center',\n",
    "                                       'font_color': ['#000000',\n",
    "                                                      '#000000',\n",
    "                                                      '#118DFF',\n",
    "                                                      '#000000',\n",
    "                                                      '#FF0000',\n",
    "                                                      '#FF0000',\n",
    "                                                      '#E04392',\n",
    "                                                      '#000000',\n",
    "                                                      '#FF0000',\n",
    "                                                      '#E04392',\n",
    "                                                      '#000000',\n",
    "                                                      '#FF0000',\n",
    "                                                      '#000000',\n",
    "                                                      '#000000',\n",
    "                                                      '#000000'],\n",
    "                                       'font_family': 'Segoe UI Semibold',\n",
    "                                       'font_size': proportion_size(pixels=_pixels, size=32)\n",
    "                                       },\n",
    "                                        \n",
    "                                cells={'values':[list(df_print['Data']),\n",
    "                                                 list(df_print['Meta']),\n",
    "                                                 list(df_print['Venda\\nSIAC']),\n",
    "                                                 list(df_print['Venda\\nLíquida']),\n",
    "                                                 list(df_print['Devolução']),\n",
    "                                                 list(df_print['%\\nDev']),\n",
    "                                                 list(df_print['Venda\\nCNPJ']),\n",
    "                                                 list(df_print['Clientes\\nCNPJ']),\n",
    "                                                 list(df_print['% Dev\\nCNPJ']),\n",
    "                                                 list(df_print['Venda\\nCPF']),\n",
    "                                                 list(df_print['Clientes\\nCPF']),\n",
    "                                                 list(df_print['% Dev\\nCPF']),\n",
    "                                                 list(df_print['%\\nDia']),\n",
    "                                                 list(df_print['%\\nMês']),\n",
    "                                                 list(df_print['Projeção\\nmensal'])],\n",
    "                                       'fill_color': background_color,\n",
    "                                       'line_color': background_color,\n",
    "                                       'line_width': 2,\n",
    "                                       'align': ['left', 'center'],\n",
    "                                       'font_color': ['#000000',\n",
    "                                                      '#000000',\n",
    "                                                      '#118DFF',\n",
    "                                                      '#000000',\n",
    "                                                      '#FF0000',\n",
    "                                                      '#FF0000',\n",
    "                                                      '#E04392',\n",
    "                                                      '#000000',\n",
    "                                                      '#FF0000',\n",
    "                                                      '#E04392',\n",
    "                                                      '#000000',\n",
    "                                                      '#FF0000',\n",
    "                                                      day_rending_color,\n",
    "                                                      mon_rending_color,\n",
    "                                                      fonts_color[0]],\n",
    "                                       'font_family': 'Segoe UI Semibold',\n",
    "                                       'font_size': proportion_size(pixels=_pixels, size=32)\n",
    "                                       },\n",
    "\n",
    "                               domain={'y': [0, 1]\n",
    "                                       },\n",
    "\n",
    "                          columnwidth=[proportion_size(pixels=_pixels, size=25),\n",
    "                                       proportion_size(pixels=_pixels, size=16),\n",
    "                                       proportion_size(pixels=_pixels, size=16),\n",
    "                                       proportion_size(pixels=_pixels, size=16),\n",
    "                                       proportion_size(pixels=_pixels, size=16),\n",
    "                                       proportion_size(pixels=_pixels, size=10),\n",
    "                                       proportion_size(pixels=_pixels, size=16),\n",
    "                                       proportion_size(pixels=_pixels, size=13),\n",
    "                                       proportion_size(pixels=_pixels, size=12),\n",
    "                                       proportion_size(pixels=_pixels, size=16),\n",
    "                                       proportion_size(pixels=_pixels, size=12),\n",
    "                                       proportion_size(pixels=_pixels, size=10),\n",
    "                                       proportion_size(pixels=_pixels, size=7),\n",
    "                                       proportion_size(pixels=_pixels, size=7),\n",
    "                                       proportion_size(pixels=_pixels, size=16)]\n",
    "                                )\n",
    "    )\n",
    "\n",
    "    for (cod_loja, loja, cor, crypto, logico) in lojas:\n",
    "        if cod_loja == loja_:\n",
    "            print_loja = loja[4:5] + loja[5:].lower()\n",
    "            print_loja = loja[4:]\n",
    "            print_cor = cor\n",
    "            print_crypto = crypto\n",
    "            save_loja = f'{cod_loja} '\n",
    "\n",
    "    if len(loja_) > 0:\n",
    "        text_title = f'◙'*int(10) + ' 🡆 ' + print_loja + ' 🡄 ' + f'◙'*int(76) + ' ' + print_crypto + ' ' + f'◙'*int(10)\n",
    "    else:\n",
    "        text_title = f'◙'*int(10) + ' 🡆 ' + 'KAIZEN' + ' 🡄 ' + f'◙'*int(76) + ' ' + 'ⓀⒶⒾⓏⒺⓃ' + ' ' + f'◙'*int(10)\n",
    "        print_cor = '#00A5AC'\n",
    "        save_loja = f''\n",
    "\n",
    "    table = table.update_layout(\n",
    "\n",
    "        #Title config ---------------------------------------------------------------------------------------------------------------------#\n",
    "        title  = {'text': text_title,\n",
    "                  'font_color': print_cor,\n",
    "                  'font_family': 'Jost',\n",
    "                  'x': 0.50,\n",
    "                  'y': 0.95,\n",
    "                  'font_size': proportion_size(pixels=_pixels, size=60),\n",
    "                  'yanchor': 'bottom'\n",
    "                  },\n",
    "\n",
    "        #Size plot config -----------------------------------------------------------------------------------------------------------------#\n",
    "        width  = pixels_width,\n",
    "        height = pixels_height\n",
    "    )\n",
    "\n",
    "    table.show()\n",
    "    time.sleep(5)\n",
    "    table.write_html(f'{save_image}\\\\RESUMO MENSAL_html\\\\{relatorio} {save_loja}TABLE.html')\n",
    "\n",
    "\n",
    "    hti = Html2Image()\n",
    "    hti.screenshot(\n",
    "        html_file=f'{save_image}\\\\RESUMO MENSAL_html\\\\{relatorio} {save_loja}TABLE.html',\n",
    "        save_as=f'{relatorio} {save_loja}TABLE.png',\n",
    "        size=(pixels_width, pixels_height)\n",
    "    )\n",
    "\n",
    "    shutil.move(f'{relatorio} {save_loja}TABLE.png',\n",
    "                f'{save_image}\\\\{relatorio} {save_loja}TABLE.png')\n",
    "\n",
    "\n",
    "    return print(f'{relatorio} {save_loja}TABLE.png\\n')"
   ]
  },
  {
   "cell_type": "code",
   "execution_count": 566,
   "metadata": {},
   "outputs": [
    {
     "name": "stderr",
     "output_type": "stream",
     "text": [
      "C:\\Users\\admin\\AppData\\Local\\Temp\\ipykernel_19088\\1060041187.py:86: RuntimeWarning:\n",
      "\n",
      "divide by zero encountered in double_scalars\n",
      "\n"
     ]
    },
    {
     "name": "stdout",
     "output_type": "stream",
     "text": [
      "\n",
      "• '03' ASA NORTE\n",
      "\n"
     ]
    },
    {
     "data": {
      "application/vnd.plotly.v1+json": {
       "config": {
        "plotlyServerURL": "https://plot.ly"
       },
       "data": [
        {
         "cells": {
          "align": [
           "left",
           "center"
          ],
          "fill": {
           "color": [
            [
             "#FFFFFF",
             "#FFFFFF",
             "#FFFFFF",
             "#DEEFFF",
             "#DEEFFF",
             "#FFFFFF",
             "#FFFFFF",
             "#FFFFFF",
             "#F7F7F7",
             "#FFFFFF",
             "#DEEFFF",
             "#FFFFFF",
             "#FFFFFF",
             "#FFFFFF",
             "#FFFFFF",
             "#FFFFFF",
             "#FFFFFF",
             "#DEEFFF",
             "#FFFFFF",
             "#FFFFFF",
             "#FFFFFF",
             "#FFFFFF",
             "#FFFFFF",
             "#FFFFFF",
             "#DEEFFF",
             "#FFFFFF",
             "#FFFFFF",
             "#FFFFFF",
             "#FFFFFF",
             "#FFFFFF",
             "#FFFFFF",
             "#E5E5E5"
            ],
            [
             "#FFFFFF",
             "#FFFFFF",
             "#FFFFFF",
             "#DEEFFF",
             "#DEEFFF",
             "#FFFFFF",
             "#FFFFFF",
             "#FFFFFF",
             "#F7F7F7",
             "#FFFFFF",
             "#DEEFFF",
             "#FFFFFF",
             "#FFFFFF",
             "#FFFFFF",
             "#FFFFFF",
             "#FFFFFF",
             "#FFFFFF",
             "#DEEFFF",
             "#FFFFFF",
             "#FFFFFF",
             "#FFFFFF",
             "#FFFFFF",
             "#FFFFFF",
             "#FFFFFF",
             "#DEEFFF",
             "#FFFFFF",
             "#FFFFFF",
             "#FFFFFF",
             "#FFFFFF",
             "#FFFFFF",
             "#FFFFFF",
             "#E5E5E5"
            ],
            [
             "#F7F7F7",
             "#F7F7F7",
             "#F7F7F7",
             "#DEEFFF",
             "#DEEFFF",
             "#F7F7F7",
             "#F7F7F7",
             "#F7F7F7",
             "#F7F7F7",
             "#F7F7F7",
             "#DEEFFF",
             "#F7F7F7",
             "#F7F7F7",
             "#F7F7F7",
             "#F7F7F7",
             "#F7F7F7",
             "#F7F7F7",
             "#DEEFFF",
             "#F7F7F7",
             "#F7F7F7",
             "#F7F7F7",
             "#F7F7F7",
             "#F7F7F7",
             "#F7F7F7",
             "#DEEFFF",
             "#F7F7F7",
             "#F7F7F7",
             "#F7F7F7",
             "#F7F7F7",
             "#F7F7F7",
             "#F7F7F7",
             "#E5E5E5"
            ],
            [
             "#F7F7F7",
             "#F7F7F7",
             "#F7F7F7",
             "#DEEFFF",
             "#DEEFFF",
             "#F7F7F7",
             "#F7F7F7",
             "#F7F7F7",
             "#F7F7F7",
             "#F7F7F7",
             "#DEEFFF",
             "#F7F7F7",
             "#F7F7F7",
             "#F7F7F7",
             "#F7F7F7",
             "#F7F7F7",
             "#F7F7F7",
             "#DEEFFF",
             "#F7F7F7",
             "#F7F7F7",
             "#F7F7F7",
             "#F7F7F7",
             "#F7F7F7",
             "#F7F7F7",
             "#DEEFFF",
             "#F7F7F7",
             "#F7F7F7",
             "#F7F7F7",
             "#F7F7F7",
             "#F7F7F7",
             "#F7F7F7",
             "#E5E5E5"
            ],
            [
             "#FFFFFF",
             "#FFFFFF",
             "#FFFFFF",
             "#DEEFFF",
             "#DEEFFF",
             "#FFFFFF",
             "#FFFFFF",
             "#FFFFFF",
             "#F7F7F7",
             "#FFFFFF",
             "#DEEFFF",
             "#FFFFFF",
             "#FFFFFF",
             "#FFFFFF",
             "#FFFFFF",
             "#FFFFFF",
             "#FFFFFF",
             "#DEEFFF",
             "#FFFFFF",
             "#FFFFFF",
             "#FFFFFF",
             "#FFFFFF",
             "#FFFFFF",
             "#FFFFFF",
             "#DEEFFF",
             "#FFFFFF",
             "#FFFFFF",
             "#FFFFFF",
             "#FFFFFF",
             "#FFFFFF",
             "#FFFFFF",
             "#E5E5E5"
            ],
            [
             "#FFFFFF",
             "#FFFFFF",
             "#FFFFFF",
             "#DEEFFF",
             "#DEEFFF",
             "#FFFFFF",
             "#FFFFFF",
             "#FFFFFF",
             "#F7F7F7",
             "#FFFFFF",
             "#DEEFFF",
             "#FFFFFF",
             "#FFFFFF",
             "#FFFFFF",
             "#FFFFFF",
             "#FFFFFF",
             "#FFFFFF",
             "#DEEFFF",
             "#FFFFFF",
             "#FFFFFF",
             "#FFFFFF",
             "#FFFFFF",
             "#FFFFFF",
             "#FFFFFF",
             "#DEEFFF",
             "#FFFFFF",
             "#FFFFFF",
             "#FFFFFF",
             "#FFFFFF",
             "#FFFFFF",
             "#FFFFFF",
             "#E5E5E5"
            ],
            [
             "#F7F7F7",
             "#F7F7F7",
             "#F7F7F7",
             "#DEEFFF",
             "#DEEFFF",
             "#F7F7F7",
             "#F7F7F7",
             "#F7F7F7",
             "#F7F7F7",
             "#F7F7F7",
             "#DEEFFF",
             "#F7F7F7",
             "#F7F7F7",
             "#F7F7F7",
             "#F7F7F7",
             "#F7F7F7",
             "#F7F7F7",
             "#DEEFFF",
             "#F7F7F7",
             "#F7F7F7",
             "#F7F7F7",
             "#F7F7F7",
             "#F7F7F7",
             "#F7F7F7",
             "#DEEFFF",
             "#F7F7F7",
             "#F7F7F7",
             "#F7F7F7",
             "#F7F7F7",
             "#F7F7F7",
             "#F7F7F7",
             "#E5E5E5"
            ],
            [
             "#FFFFFF",
             "#FFFFFF",
             "#FFFFFF",
             "#DEEFFF",
             "#DEEFFF",
             "#FFFFFF",
             "#FFFFFF",
             "#FFFFFF",
             "#F7F7F7",
             "#FFFFFF",
             "#DEEFFF",
             "#FFFFFF",
             "#FFFFFF",
             "#FFFFFF",
             "#FFFFFF",
             "#FFFFFF",
             "#FFFFFF",
             "#DEEFFF",
             "#FFFFFF",
             "#FFFFFF",
             "#FFFFFF",
             "#FFFFFF",
             "#FFFFFF",
             "#FFFFFF",
             "#DEEFFF",
             "#FFFFFF",
             "#FFFFFF",
             "#FFFFFF",
             "#FFFFFF",
             "#FFFFFF",
             "#FFFFFF",
             "#E5E5E5"
            ],
            [
             "#FFFFFF",
             "#FFFFFF",
             "#FFFFFF",
             "#DEEFFF",
             "#DEEFFF",
             "#FFFFFF",
             "#FFFFFF",
             "#FFFFFF",
             "#F7F7F7",
             "#FFFFFF",
             "#DEEFFF",
             "#FFFFFF",
             "#FFFFFF",
             "#FFFFFF",
             "#FFFFFF",
             "#FFFFFF",
             "#FFFFFF",
             "#DEEFFF",
             "#FFFFFF",
             "#FFFFFF",
             "#FFFFFF",
             "#FFFFFF",
             "#FFFFFF",
             "#FFFFFF",
             "#DEEFFF",
             "#FFFFFF",
             "#FFFFFF",
             "#FFFFFF",
             "#FFFFFF",
             "#FFFFFF",
             "#FFFFFF",
             "#E5E5E5"
            ],
            [
             "#F7F7F7",
             "#F7F7F7",
             "#F7F7F7",
             "#DEEFFF",
             "#DEEFFF",
             "#F7F7F7",
             "#F7F7F7",
             "#F7F7F7",
             "#F7F7F7",
             "#F7F7F7",
             "#DEEFFF",
             "#F7F7F7",
             "#F7F7F7",
             "#F7F7F7",
             "#F7F7F7",
             "#F7F7F7",
             "#F7F7F7",
             "#DEEFFF",
             "#F7F7F7",
             "#F7F7F7",
             "#F7F7F7",
             "#F7F7F7",
             "#F7F7F7",
             "#F7F7F7",
             "#DEEFFF",
             "#F7F7F7",
             "#F7F7F7",
             "#F7F7F7",
             "#F7F7F7",
             "#F7F7F7",
             "#F7F7F7",
             "#E5E5E5"
            ],
            [
             "#FFFFFF",
             "#FFFFFF",
             "#FFFFFF",
             "#DEEFFF",
             "#DEEFFF",
             "#FFFFFF",
             "#FFFFFF",
             "#FFFFFF",
             "#F7F7F7",
             "#FFFFFF",
             "#DEEFFF",
             "#FFFFFF",
             "#FFFFFF",
             "#FFFFFF",
             "#FFFFFF",
             "#FFFFFF",
             "#FFFFFF",
             "#DEEFFF",
             "#FFFFFF",
             "#FFFFFF",
             "#FFFFFF",
             "#FFFFFF",
             "#FFFFFF",
             "#FFFFFF",
             "#DEEFFF",
             "#FFFFFF",
             "#FFFFFF",
             "#FFFFFF",
             "#FFFFFF",
             "#FFFFFF",
             "#FFFFFF",
             "#E5E5E5"
            ],
            [
             "#FFFFFF",
             "#FFFFFF",
             "#FFFFFF",
             "#DEEFFF",
             "#DEEFFF",
             "#FFFFFF",
             "#FFFFFF",
             "#FFFFFF",
             "#F7F7F7",
             "#FFFFFF",
             "#DEEFFF",
             "#FFFFFF",
             "#FFFFFF",
             "#FFFFFF",
             "#FFFFFF",
             "#FFFFFF",
             "#FFFFFF",
             "#DEEFFF",
             "#FFFFFF",
             "#FFFFFF",
             "#FFFFFF",
             "#FFFFFF",
             "#FFFFFF",
             "#FFFFFF",
             "#DEEFFF",
             "#FFFFFF",
             "#FFFFFF",
             "#FFFFFF",
             "#FFFFFF",
             "#FFFFFF",
             "#FFFFFF",
             "#E5E5E5"
            ],
            [
             "#FFFFFF",
             "#FFFFFF",
             "#FFFFFF",
             "#DEEFFF",
             "#DEEFFF",
             "#FFFFFF",
             "#FFFFFF",
             "#FFFFFF",
             "#F7F7F7",
             "#FFFFFF",
             "#DEEFFF",
             "#FFFFFF",
             "#FFFFFF",
             "#FFFFFF",
             "#FFFFFF",
             "#FFFFFF",
             "#FFFFFF",
             "#DEEFFF",
             "#FFFFFF",
             "#FFFFFF",
             "#FFFFFF",
             "#FFFFFF",
             "#FFFFFF",
             "#FFFFFF",
             "#DEEFFF",
             "#FFFFFF",
             "#FFFFFF",
             "#FFFFFF",
             "#FFFFFF",
             "#FFFFFF",
             "#FFFFFF",
             "#E5E5E5"
            ],
            [
             "#FFFFFF",
             "#FFFFFF",
             "#FFFFFF",
             "#DEEFFF",
             "#DEEFFF",
             "#FFFFFF",
             "#FFFFFF",
             "#FFFFFF",
             "#F7F7F7",
             "#FFFFFF",
             "#DEEFFF",
             "#FFFFFF",
             "#FFFFFF",
             "#FFFFFF",
             "#FFFFFF",
             "#FFFFFF",
             "#FFFFFF",
             "#DEEFFF",
             "#FFFFFF",
             "#FFFFFF",
             "#FFFFFF",
             "#FFFFFF",
             "#FFFFFF",
             "#FFFFFF",
             "#DEEFFF",
             "#FFFFFF",
             "#FFFFFF",
             "#FFFFFF",
             "#FFFFFF",
             "#FFFFFF",
             "#FFFFFF",
             "#E5E5E5"
            ],
            [
             "#FFFFFF",
             "#FFFFFF",
             "#FFFFFF",
             "#DEEFFF",
             "#DEEFFF",
             "#FFFFFF",
             "#FFFFFF",
             "#FFFFFF",
             "#F7F7F7",
             "#FFFFFF",
             "#DEEFFF",
             "#FFFFFF",
             "#FFFFFF",
             "#FFFFFF",
             "#FFFFFF",
             "#FFFFFF",
             "#FFFFFF",
             "#DEEFFF",
             "#FFFFFF",
             "#FFFFFF",
             "#FFFFFF",
             "#FFFFFF",
             "#FFFFFF",
             "#FFFFFF",
             "#DEEFFF",
             "#FFFFFF",
             "#FFFFFF",
             "#FFFFFF",
             "#FFFFFF",
             "#FFFFFF",
             "#FFFFFF",
             "#E5E5E5"
            ],
            [
             "#FFFFFF",
             "#FFFFFF",
             "#FFFFFF",
             "#DEEFFF",
             "#DEEFFF",
             "#FFFFFF",
             "#FFFFFF",
             "#FFFFFF",
             "#F7F7F7",
             "#FFFFFF",
             "#DEEFFF",
             "#FFFFFF",
             "#FFFFFF",
             "#FFFFFF",
             "#FFFFFF",
             "#FFFFFF",
             "#FFFFFF",
             "#DEEFFF",
             "#FFFFFF",
             "#FFFFFF",
             "#FFFFFF",
             "#FFFFFF",
             "#FFFFFF",
             "#FFFFFF",
             "#DEEFFF",
             "#FFFFFF",
             "#FFFFFF",
             "#FFFFFF",
             "#FFFFFF",
             "#FFFFFF",
             "#FFFFFF",
             "#E5E5E5"
            ],
            [
             "#FFFFFF",
             "#FFFFFF",
             "#FFFFFF",
             "#DEEFFF",
             "#DEEFFF",
             "#FFFFFF",
             "#FFFFFF",
             "#FFFFFF",
             "#F7F7F7",
             "#FFFFFF",
             "#DEEFFF",
             "#FFFFFF",
             "#FFFFFF",
             "#FFFFFF",
             "#FFFFFF",
             "#FFFFFF",
             "#FFFFFF",
             "#DEEFFF",
             "#FFFFFF",
             "#FFFFFF",
             "#FFFFFF",
             "#FFFFFF",
             "#FFFFFF",
             "#FFFFFF",
             "#DEEFFF",
             "#FFFFFF",
             "#FFFFFF",
             "#FFFFFF",
             "#FFFFFF",
             "#FFFFFF",
             "#FFFFFF",
             "#E5E5E5"
            ],
            [
             "#FFFFFF",
             "#FFFFFF",
             "#FFFFFF",
             "#DEEFFF",
             "#DEEFFF",
             "#FFFFFF",
             "#FFFFFF",
             "#FFFFFF",
             "#F7F7F7",
             "#FFFFFF",
             "#DEEFFF",
             "#FFFFFF",
             "#FFFFFF",
             "#FFFFFF",
             "#FFFFFF",
             "#FFFFFF",
             "#FFFFFF",
             "#DEEFFF",
             "#FFFFFF",
             "#FFFFFF",
             "#FFFFFF",
             "#FFFFFF",
             "#FFFFFF",
             "#FFFFFF",
             "#DEEFFF",
             "#FFFFFF",
             "#FFFFFF",
             "#FFFFFF",
             "#FFFFFF",
             "#FFFFFF",
             "#FFFFFF",
             "#E5E5E5"
            ],
            [
             "#FFFFFF",
             "#FFFFFF",
             "#FFFFFF",
             "#DEEFFF",
             "#DEEFFF",
             "#FFFFFF",
             "#FFFFFF",
             "#FFFFFF",
             "#F7F7F7",
             "#FFFFFF",
             "#DEEFFF",
             "#FFFFFF",
             "#FFFFFF",
             "#FFFFFF",
             "#FFFFFF",
             "#FFFFFF",
             "#FFFFFF",
             "#DEEFFF",
             "#FFFFFF",
             "#FFFFFF",
             "#FFFFFF",
             "#FFFFFF",
             "#FFFFFF",
             "#FFFFFF",
             "#DEEFFF",
             "#FFFFFF",
             "#FFFFFF",
             "#FFFFFF",
             "#FFFFFF",
             "#FFFFFF",
             "#FFFFFF",
             "#E5E5E5"
            ],
            [
             "#FFFFFF",
             "#FFFFFF",
             "#FFFFFF",
             "#DEEFFF",
             "#DEEFFF",
             "#FFFFFF",
             "#FFFFFF",
             "#FFFFFF",
             "#F7F7F7",
             "#FFFFFF",
             "#DEEFFF",
             "#FFFFFF",
             "#FFFFFF",
             "#FFFFFF",
             "#FFFFFF",
             "#FFFFFF",
             "#FFFFFF",
             "#DEEFFF",
             "#FFFFFF",
             "#FFFFFF",
             "#FFFFFF",
             "#FFFFFF",
             "#FFFFFF",
             "#FFFFFF",
             "#DEEFFF",
             "#FFFFFF",
             "#FFFFFF",
             "#FFFFFF",
             "#FFFFFF",
             "#FFFFFF",
             "#FFFFFF",
             "#E5E5E5"
            ],
            [
             "#FFFFFF",
             "#FFFFFF",
             "#FFFFFF",
             "#DEEFFF",
             "#DEEFFF",
             "#FFFFFF",
             "#FFFFFF",
             "#FFFFFF",
             "#F7F7F7",
             "#FFFFFF",
             "#DEEFFF",
             "#FFFFFF",
             "#FFFFFF",
             "#FFFFFF",
             "#FFFFFF",
             "#FFFFFF",
             "#FFFFFF",
             "#DEEFFF",
             "#FFFFFF",
             "#FFFFFF",
             "#FFFFFF",
             "#FFFFFF",
             "#FFFFFF",
             "#FFFFFF",
             "#DEEFFF",
             "#FFFFFF",
             "#FFFFFF",
             "#FFFFFF",
             "#FFFFFF",
             "#FFFFFF",
             "#FFFFFF",
             "#E5E5E5"
            ],
            [
             "#FFFFFF",
             "#FFFFFF",
             "#FFFFFF",
             "#DEEFFF",
             "#DEEFFF",
             "#FFFFFF",
             "#FFFFFF",
             "#FFFFFF",
             "#F7F7F7",
             "#FFFFFF",
             "#DEEFFF",
             "#FFFFFF",
             "#FFFFFF",
             "#FFFFFF",
             "#FFFFFF",
             "#FFFFFF",
             "#FFFFFF",
             "#DEEFFF",
             "#FFFFFF",
             "#FFFFFF",
             "#FFFFFF",
             "#FFFFFF",
             "#FFFFFF",
             "#FFFFFF",
             "#DEEFFF",
             "#FFFFFF",
             "#FFFFFF",
             "#FFFFFF",
             "#FFFFFF",
             "#FFFFFF",
             "#FFFFFF",
             "#E5E5E5"
            ]
           ]
          },
          "font": {
           "color": [
            "#000000",
            "#000000",
            "#118DFF",
            "#000000",
            "#FF0000",
            "#FF0000",
            "#E04392",
            "#000000",
            "#FF0000",
            "#E04392",
            "#000000",
            "#FF0000",
            [
             "#FF0000",
             "#FF0000",
             "#00B050",
             "#DEEFFF",
             "#DEEFFF",
             "#00B050",
             "#00B050",
             "#00B050",
             "#FF0000",
             "#FFFFFF",
             "#DEEFFF",
             "#FFFFFF",
             "#FFFFFF",
             "#FFFFFF",
             "#FFFFFF",
             "#FFFFFF",
             "#FFFFFF",
             "#DEEFFF",
             "#FFFFFF",
             "#FFFFFF",
             "#FFFFFF",
             "#FFFFFF",
             "#FFFFFF",
             "#FFFFFF",
             "#DEEFFF",
             "#FFFFFF",
             "#FFFFFF",
             "#FFFFFF",
             "#FFFFFF",
             "#FFFFFF",
             "#FFFFFF",
             "#E5E5E5"
            ],
            [
             "#FF0000",
             "#FF0000",
             "#FF0000",
             "#DEEFFF",
             "#DEEFFF",
             "#00B050",
             "#00B050",
             "#00B050",
             "#FFC000",
             "#FFFFFF",
             "#DEEFFF",
             "#FFFFFF",
             "#FFFFFF",
             "#FFFFFF",
             "#FFFFFF",
             "#FFFFFF",
             "#FFFFFF",
             "#DEEFFF",
             "#FFFFFF",
             "#FFFFFF",
             "#FFFFFF",
             "#FFFFFF",
             "#FFFFFF",
             "#FFFFFF",
             "#DEEFFF",
             "#FFFFFF",
             "#FFFFFF",
             "#FFFFFF",
             "#FFFFFF",
             "#FFFFFF",
             "#FFFFFF",
             "#E5E5E5"
            ],
            [
             "#000000",
             "#000000",
             "#000000",
             "#DEEFFF",
             "#DEEFFF",
             "#000000",
             "#000000",
             "#000000",
             "#000000",
             "#FFFFFF",
             "#DEEFFF",
             "#FFFFFF",
             "#FFFFFF",
             "#FFFFFF",
             "#FFFFFF",
             "#FFFFFF",
             "#FFFFFF",
             "#DEEFFF",
             "#FFFFFF",
             "#FFFFFF",
             "#FFFFFF",
             "#FFFFFF",
             "#FFFFFF",
             "#FFFFFF",
             "#DEEFFF",
             "#FFFFFF",
             "#FFFFFF",
             "#FFFFFF",
             "#FFFFFF",
             "#FFFFFF",
             "#FFFFFF",
             "#118DFF"
            ]
           ],
           "family": "Segoe UI Semibold",
           "size": 13.185185185185185
          },
          "line": {
           "color": [
            [
             "#FFFFFF",
             "#FFFFFF",
             "#FFFFFF",
             "#DEEFFF",
             "#DEEFFF",
             "#FFFFFF",
             "#FFFFFF",
             "#FFFFFF",
             "#F7F7F7",
             "#FFFFFF",
             "#DEEFFF",
             "#FFFFFF",
             "#FFFFFF",
             "#FFFFFF",
             "#FFFFFF",
             "#FFFFFF",
             "#FFFFFF",
             "#DEEFFF",
             "#FFFFFF",
             "#FFFFFF",
             "#FFFFFF",
             "#FFFFFF",
             "#FFFFFF",
             "#FFFFFF",
             "#DEEFFF",
             "#FFFFFF",
             "#FFFFFF",
             "#FFFFFF",
             "#FFFFFF",
             "#FFFFFF",
             "#FFFFFF",
             "#E5E5E5"
            ],
            [
             "#FFFFFF",
             "#FFFFFF",
             "#FFFFFF",
             "#DEEFFF",
             "#DEEFFF",
             "#FFFFFF",
             "#FFFFFF",
             "#FFFFFF",
             "#F7F7F7",
             "#FFFFFF",
             "#DEEFFF",
             "#FFFFFF",
             "#FFFFFF",
             "#FFFFFF",
             "#FFFFFF",
             "#FFFFFF",
             "#FFFFFF",
             "#DEEFFF",
             "#FFFFFF",
             "#FFFFFF",
             "#FFFFFF",
             "#FFFFFF",
             "#FFFFFF",
             "#FFFFFF",
             "#DEEFFF",
             "#FFFFFF",
             "#FFFFFF",
             "#FFFFFF",
             "#FFFFFF",
             "#FFFFFF",
             "#FFFFFF",
             "#E5E5E5"
            ],
            [
             "#F7F7F7",
             "#F7F7F7",
             "#F7F7F7",
             "#DEEFFF",
             "#DEEFFF",
             "#F7F7F7",
             "#F7F7F7",
             "#F7F7F7",
             "#F7F7F7",
             "#F7F7F7",
             "#DEEFFF",
             "#F7F7F7",
             "#F7F7F7",
             "#F7F7F7",
             "#F7F7F7",
             "#F7F7F7",
             "#F7F7F7",
             "#DEEFFF",
             "#F7F7F7",
             "#F7F7F7",
             "#F7F7F7",
             "#F7F7F7",
             "#F7F7F7",
             "#F7F7F7",
             "#DEEFFF",
             "#F7F7F7",
             "#F7F7F7",
             "#F7F7F7",
             "#F7F7F7",
             "#F7F7F7",
             "#F7F7F7",
             "#E5E5E5"
            ],
            [
             "#F7F7F7",
             "#F7F7F7",
             "#F7F7F7",
             "#DEEFFF",
             "#DEEFFF",
             "#F7F7F7",
             "#F7F7F7",
             "#F7F7F7",
             "#F7F7F7",
             "#F7F7F7",
             "#DEEFFF",
             "#F7F7F7",
             "#F7F7F7",
             "#F7F7F7",
             "#F7F7F7",
             "#F7F7F7",
             "#F7F7F7",
             "#DEEFFF",
             "#F7F7F7",
             "#F7F7F7",
             "#F7F7F7",
             "#F7F7F7",
             "#F7F7F7",
             "#F7F7F7",
             "#DEEFFF",
             "#F7F7F7",
             "#F7F7F7",
             "#F7F7F7",
             "#F7F7F7",
             "#F7F7F7",
             "#F7F7F7",
             "#E5E5E5"
            ],
            [
             "#FFFFFF",
             "#FFFFFF",
             "#FFFFFF",
             "#DEEFFF",
             "#DEEFFF",
             "#FFFFFF",
             "#FFFFFF",
             "#FFFFFF",
             "#F7F7F7",
             "#FFFFFF",
             "#DEEFFF",
             "#FFFFFF",
             "#FFFFFF",
             "#FFFFFF",
             "#FFFFFF",
             "#FFFFFF",
             "#FFFFFF",
             "#DEEFFF",
             "#FFFFFF",
             "#FFFFFF",
             "#FFFFFF",
             "#FFFFFF",
             "#FFFFFF",
             "#FFFFFF",
             "#DEEFFF",
             "#FFFFFF",
             "#FFFFFF",
             "#FFFFFF",
             "#FFFFFF",
             "#FFFFFF",
             "#FFFFFF",
             "#E5E5E5"
            ],
            [
             "#FFFFFF",
             "#FFFFFF",
             "#FFFFFF",
             "#DEEFFF",
             "#DEEFFF",
             "#FFFFFF",
             "#FFFFFF",
             "#FFFFFF",
             "#F7F7F7",
             "#FFFFFF",
             "#DEEFFF",
             "#FFFFFF",
             "#FFFFFF",
             "#FFFFFF",
             "#FFFFFF",
             "#FFFFFF",
             "#FFFFFF",
             "#DEEFFF",
             "#FFFFFF",
             "#FFFFFF",
             "#FFFFFF",
             "#FFFFFF",
             "#FFFFFF",
             "#FFFFFF",
             "#DEEFFF",
             "#FFFFFF",
             "#FFFFFF",
             "#FFFFFF",
             "#FFFFFF",
             "#FFFFFF",
             "#FFFFFF",
             "#E5E5E5"
            ],
            [
             "#F7F7F7",
             "#F7F7F7",
             "#F7F7F7",
             "#DEEFFF",
             "#DEEFFF",
             "#F7F7F7",
             "#F7F7F7",
             "#F7F7F7",
             "#F7F7F7",
             "#F7F7F7",
             "#DEEFFF",
             "#F7F7F7",
             "#F7F7F7",
             "#F7F7F7",
             "#F7F7F7",
             "#F7F7F7",
             "#F7F7F7",
             "#DEEFFF",
             "#F7F7F7",
             "#F7F7F7",
             "#F7F7F7",
             "#F7F7F7",
             "#F7F7F7",
             "#F7F7F7",
             "#DEEFFF",
             "#F7F7F7",
             "#F7F7F7",
             "#F7F7F7",
             "#F7F7F7",
             "#F7F7F7",
             "#F7F7F7",
             "#E5E5E5"
            ],
            [
             "#FFFFFF",
             "#FFFFFF",
             "#FFFFFF",
             "#DEEFFF",
             "#DEEFFF",
             "#FFFFFF",
             "#FFFFFF",
             "#FFFFFF",
             "#F7F7F7",
             "#FFFFFF",
             "#DEEFFF",
             "#FFFFFF",
             "#FFFFFF",
             "#FFFFFF",
             "#FFFFFF",
             "#FFFFFF",
             "#FFFFFF",
             "#DEEFFF",
             "#FFFFFF",
             "#FFFFFF",
             "#FFFFFF",
             "#FFFFFF",
             "#FFFFFF",
             "#FFFFFF",
             "#DEEFFF",
             "#FFFFFF",
             "#FFFFFF",
             "#FFFFFF",
             "#FFFFFF",
             "#FFFFFF",
             "#FFFFFF",
             "#E5E5E5"
            ],
            [
             "#FFFFFF",
             "#FFFFFF",
             "#FFFFFF",
             "#DEEFFF",
             "#DEEFFF",
             "#FFFFFF",
             "#FFFFFF",
             "#FFFFFF",
             "#F7F7F7",
             "#FFFFFF",
             "#DEEFFF",
             "#FFFFFF",
             "#FFFFFF",
             "#FFFFFF",
             "#FFFFFF",
             "#FFFFFF",
             "#FFFFFF",
             "#DEEFFF",
             "#FFFFFF",
             "#FFFFFF",
             "#FFFFFF",
             "#FFFFFF",
             "#FFFFFF",
             "#FFFFFF",
             "#DEEFFF",
             "#FFFFFF",
             "#FFFFFF",
             "#FFFFFF",
             "#FFFFFF",
             "#FFFFFF",
             "#FFFFFF",
             "#E5E5E5"
            ],
            [
             "#F7F7F7",
             "#F7F7F7",
             "#F7F7F7",
             "#DEEFFF",
             "#DEEFFF",
             "#F7F7F7",
             "#F7F7F7",
             "#F7F7F7",
             "#F7F7F7",
             "#F7F7F7",
             "#DEEFFF",
             "#F7F7F7",
             "#F7F7F7",
             "#F7F7F7",
             "#F7F7F7",
             "#F7F7F7",
             "#F7F7F7",
             "#DEEFFF",
             "#F7F7F7",
             "#F7F7F7",
             "#F7F7F7",
             "#F7F7F7",
             "#F7F7F7",
             "#F7F7F7",
             "#DEEFFF",
             "#F7F7F7",
             "#F7F7F7",
             "#F7F7F7",
             "#F7F7F7",
             "#F7F7F7",
             "#F7F7F7",
             "#E5E5E5"
            ],
            [
             "#FFFFFF",
             "#FFFFFF",
             "#FFFFFF",
             "#DEEFFF",
             "#DEEFFF",
             "#FFFFFF",
             "#FFFFFF",
             "#FFFFFF",
             "#F7F7F7",
             "#FFFFFF",
             "#DEEFFF",
             "#FFFFFF",
             "#FFFFFF",
             "#FFFFFF",
             "#FFFFFF",
             "#FFFFFF",
             "#FFFFFF",
             "#DEEFFF",
             "#FFFFFF",
             "#FFFFFF",
             "#FFFFFF",
             "#FFFFFF",
             "#FFFFFF",
             "#FFFFFF",
             "#DEEFFF",
             "#FFFFFF",
             "#FFFFFF",
             "#FFFFFF",
             "#FFFFFF",
             "#FFFFFF",
             "#FFFFFF",
             "#E5E5E5"
            ],
            [
             "#FFFFFF",
             "#FFFFFF",
             "#FFFFFF",
             "#DEEFFF",
             "#DEEFFF",
             "#FFFFFF",
             "#FFFFFF",
             "#FFFFFF",
             "#F7F7F7",
             "#FFFFFF",
             "#DEEFFF",
             "#FFFFFF",
             "#FFFFFF",
             "#FFFFFF",
             "#FFFFFF",
             "#FFFFFF",
             "#FFFFFF",
             "#DEEFFF",
             "#FFFFFF",
             "#FFFFFF",
             "#FFFFFF",
             "#FFFFFF",
             "#FFFFFF",
             "#FFFFFF",
             "#DEEFFF",
             "#FFFFFF",
             "#FFFFFF",
             "#FFFFFF",
             "#FFFFFF",
             "#FFFFFF",
             "#FFFFFF",
             "#E5E5E5"
            ],
            [
             "#FFFFFF",
             "#FFFFFF",
             "#FFFFFF",
             "#DEEFFF",
             "#DEEFFF",
             "#FFFFFF",
             "#FFFFFF",
             "#FFFFFF",
             "#F7F7F7",
             "#FFFFFF",
             "#DEEFFF",
             "#FFFFFF",
             "#FFFFFF",
             "#FFFFFF",
             "#FFFFFF",
             "#FFFFFF",
             "#FFFFFF",
             "#DEEFFF",
             "#FFFFFF",
             "#FFFFFF",
             "#FFFFFF",
             "#FFFFFF",
             "#FFFFFF",
             "#FFFFFF",
             "#DEEFFF",
             "#FFFFFF",
             "#FFFFFF",
             "#FFFFFF",
             "#FFFFFF",
             "#FFFFFF",
             "#FFFFFF",
             "#E5E5E5"
            ],
            [
             "#FFFFFF",
             "#FFFFFF",
             "#FFFFFF",
             "#DEEFFF",
             "#DEEFFF",
             "#FFFFFF",
             "#FFFFFF",
             "#FFFFFF",
             "#F7F7F7",
             "#FFFFFF",
             "#DEEFFF",
             "#FFFFFF",
             "#FFFFFF",
             "#FFFFFF",
             "#FFFFFF",
             "#FFFFFF",
             "#FFFFFF",
             "#DEEFFF",
             "#FFFFFF",
             "#FFFFFF",
             "#FFFFFF",
             "#FFFFFF",
             "#FFFFFF",
             "#FFFFFF",
             "#DEEFFF",
             "#FFFFFF",
             "#FFFFFF",
             "#FFFFFF",
             "#FFFFFF",
             "#FFFFFF",
             "#FFFFFF",
             "#E5E5E5"
            ],
            [
             "#FFFFFF",
             "#FFFFFF",
             "#FFFFFF",
             "#DEEFFF",
             "#DEEFFF",
             "#FFFFFF",
             "#FFFFFF",
             "#FFFFFF",
             "#F7F7F7",
             "#FFFFFF",
             "#DEEFFF",
             "#FFFFFF",
             "#FFFFFF",
             "#FFFFFF",
             "#FFFFFF",
             "#FFFFFF",
             "#FFFFFF",
             "#DEEFFF",
             "#FFFFFF",
             "#FFFFFF",
             "#FFFFFF",
             "#FFFFFF",
             "#FFFFFF",
             "#FFFFFF",
             "#DEEFFF",
             "#FFFFFF",
             "#FFFFFF",
             "#FFFFFF",
             "#FFFFFF",
             "#FFFFFF",
             "#FFFFFF",
             "#E5E5E5"
            ],
            [
             "#FFFFFF",
             "#FFFFFF",
             "#FFFFFF",
             "#DEEFFF",
             "#DEEFFF",
             "#FFFFFF",
             "#FFFFFF",
             "#FFFFFF",
             "#F7F7F7",
             "#FFFFFF",
             "#DEEFFF",
             "#FFFFFF",
             "#FFFFFF",
             "#FFFFFF",
             "#FFFFFF",
             "#FFFFFF",
             "#FFFFFF",
             "#DEEFFF",
             "#FFFFFF",
             "#FFFFFF",
             "#FFFFFF",
             "#FFFFFF",
             "#FFFFFF",
             "#FFFFFF",
             "#DEEFFF",
             "#FFFFFF",
             "#FFFFFF",
             "#FFFFFF",
             "#FFFFFF",
             "#FFFFFF",
             "#FFFFFF",
             "#E5E5E5"
            ],
            [
             "#FFFFFF",
             "#FFFFFF",
             "#FFFFFF",
             "#DEEFFF",
             "#DEEFFF",
             "#FFFFFF",
             "#FFFFFF",
             "#FFFFFF",
             "#F7F7F7",
             "#FFFFFF",
             "#DEEFFF",
             "#FFFFFF",
             "#FFFFFF",
             "#FFFFFF",
             "#FFFFFF",
             "#FFFFFF",
             "#FFFFFF",
             "#DEEFFF",
             "#FFFFFF",
             "#FFFFFF",
             "#FFFFFF",
             "#FFFFFF",
             "#FFFFFF",
             "#FFFFFF",
             "#DEEFFF",
             "#FFFFFF",
             "#FFFFFF",
             "#FFFFFF",
             "#FFFFFF",
             "#FFFFFF",
             "#FFFFFF",
             "#E5E5E5"
            ],
            [
             "#FFFFFF",
             "#FFFFFF",
             "#FFFFFF",
             "#DEEFFF",
             "#DEEFFF",
             "#FFFFFF",
             "#FFFFFF",
             "#FFFFFF",
             "#F7F7F7",
             "#FFFFFF",
             "#DEEFFF",
             "#FFFFFF",
             "#FFFFFF",
             "#FFFFFF",
             "#FFFFFF",
             "#FFFFFF",
             "#FFFFFF",
             "#DEEFFF",
             "#FFFFFF",
             "#FFFFFF",
             "#FFFFFF",
             "#FFFFFF",
             "#FFFFFF",
             "#FFFFFF",
             "#DEEFFF",
             "#FFFFFF",
             "#FFFFFF",
             "#FFFFFF",
             "#FFFFFF",
             "#FFFFFF",
             "#FFFFFF",
             "#E5E5E5"
            ],
            [
             "#FFFFFF",
             "#FFFFFF",
             "#FFFFFF",
             "#DEEFFF",
             "#DEEFFF",
             "#FFFFFF",
             "#FFFFFF",
             "#FFFFFF",
             "#F7F7F7",
             "#FFFFFF",
             "#DEEFFF",
             "#FFFFFF",
             "#FFFFFF",
             "#FFFFFF",
             "#FFFFFF",
             "#FFFFFF",
             "#FFFFFF",
             "#DEEFFF",
             "#FFFFFF",
             "#FFFFFF",
             "#FFFFFF",
             "#FFFFFF",
             "#FFFFFF",
             "#FFFFFF",
             "#DEEFFF",
             "#FFFFFF",
             "#FFFFFF",
             "#FFFFFF",
             "#FFFFFF",
             "#FFFFFF",
             "#FFFFFF",
             "#E5E5E5"
            ],
            [
             "#FFFFFF",
             "#FFFFFF",
             "#FFFFFF",
             "#DEEFFF",
             "#DEEFFF",
             "#FFFFFF",
             "#FFFFFF",
             "#FFFFFF",
             "#F7F7F7",
             "#FFFFFF",
             "#DEEFFF",
             "#FFFFFF",
             "#FFFFFF",
             "#FFFFFF",
             "#FFFFFF",
             "#FFFFFF",
             "#FFFFFF",
             "#DEEFFF",
             "#FFFFFF",
             "#FFFFFF",
             "#FFFFFF",
             "#FFFFFF",
             "#FFFFFF",
             "#FFFFFF",
             "#DEEFFF",
             "#FFFFFF",
             "#FFFFFF",
             "#FFFFFF",
             "#FFFFFF",
             "#FFFFFF",
             "#FFFFFF",
             "#E5E5E5"
            ],
            [
             "#FFFFFF",
             "#FFFFFF",
             "#FFFFFF",
             "#DEEFFF",
             "#DEEFFF",
             "#FFFFFF",
             "#FFFFFF",
             "#FFFFFF",
             "#F7F7F7",
             "#FFFFFF",
             "#DEEFFF",
             "#FFFFFF",
             "#FFFFFF",
             "#FFFFFF",
             "#FFFFFF",
             "#FFFFFF",
             "#FFFFFF",
             "#DEEFFF",
             "#FFFFFF",
             "#FFFFFF",
             "#FFFFFF",
             "#FFFFFF",
             "#FFFFFF",
             "#FFFFFF",
             "#DEEFFF",
             "#FFFFFF",
             "#FFFFFF",
             "#FFFFFF",
             "#FFFFFF",
             "#FFFFFF",
             "#FFFFFF",
             "#E5E5E5"
            ],
            [
             "#FFFFFF",
             "#FFFFFF",
             "#FFFFFF",
             "#DEEFFF",
             "#DEEFFF",
             "#FFFFFF",
             "#FFFFFF",
             "#FFFFFF",
             "#F7F7F7",
             "#FFFFFF",
             "#DEEFFF",
             "#FFFFFF",
             "#FFFFFF",
             "#FFFFFF",
             "#FFFFFF",
             "#FFFFFF",
             "#FFFFFF",
             "#DEEFFF",
             "#FFFFFF",
             "#FFFFFF",
             "#FFFFFF",
             "#FFFFFF",
             "#FFFFFF",
             "#FFFFFF",
             "#DEEFFF",
             "#FFFFFF",
             "#FFFFFF",
             "#FFFFFF",
             "#FFFFFF",
             "#FFFFFF",
             "#FFFFFF",
             "#E5E5E5"
            ]
           ],
           "width": 2
          },
          "values": [
           [
            "01/12/2022, Quinta-feira",
            "02/12/2022, Sexta-feira",
            "03/12/2022, Sábado",
            "04/12/2022, Domingo",
            "05/12/2022, Segunda-feira",
            "06/12/2022, Terça-feira",
            "07/12/2022, Quarta-feira",
            "08/12/2022, Quinta-feira",
            "09/12/2022, Sexta-feira",
            "10/12/2022, Sábado",
            "11/12/2022, Domingo",
            "12/12/2022, Segunda-feira",
            "13/12/2022, Terça-feira",
            "14/12/2022, Quarta-feira",
            "15/12/2022, Quinta-feira",
            "16/12/2022, Sexta-feira",
            "17/12/2022, Sábado",
            "18/12/2022, Domingo",
            "19/12/2022, Segunda-feira",
            "20/12/2022, Terça-feira",
            "21/12/2022, Quarta-feira",
            "22/12/2022, Quinta-feira",
            "23/12/2022, Sexta-feira",
            "24/12/2022, Sábado",
            "25/12/2022, Domingo",
            "26/12/2022, Segunda-feira",
            "27/12/2022, Terça-feira",
            "28/12/2022, Quarta-feira",
            "29/12/2022, Quinta-feira",
            "30/12/2022, Sexta-feira",
            "31/12/2022, Sábado",
            "Total"
           ],
           [
            "R$ 66.666,67",
            "R$ 66.666,67",
            "R$ 20.000,00",
            "",
            "",
            "R$ 66.666,67",
            "R$ 66.666,67",
            "R$ 66.666,67",
            "R$ 66.666,67",
            "R$ 20.000,00",
            "",
            "R$ 66.666,67",
            "R$ 66.666,67",
            "R$ 66.666,67",
            "R$ 66.666,67",
            "R$ 66.666,67",
            "R$ 20.000,00",
            "",
            "R$ 66.666,67",
            "R$ 66.666,67",
            "R$ 66.666,67",
            "R$ 66.666,67",
            "R$ 66.666,67",
            "R$ 20.000,00",
            "",
            "R$ 66.666,67",
            "R$ 66.666,67",
            "R$ 66.666,67",
            "R$ 66.666,67",
            "R$ 66.666,67",
            "R$ 20.000,00",
            "R$ 1.500.000,00"
           ],
           [
            "R$ 57.109,01",
            "R$ 39.509,96",
            "R$ 24.671,31",
            "",
            "R$ 38.924,69",
            "R$ 94.018,29",
            "R$ 79.801,45",
            "R$ 87.355,63",
            "R$ 4.566,69",
            "",
            "",
            "",
            "",
            "",
            "",
            "",
            "",
            "",
            "",
            "",
            "",
            "",
            "",
            "",
            "",
            "",
            "",
            "",
            "",
            "",
            "",
            "R$ 425.957,03"
           ],
           [
            "R$ 54.513,39",
            "R$ 38.016,70",
            "R$ 24.139,23",
            "",
            "R$ 36.474,32",
            "R$ 90.873,97",
            "R$ 77.683,20",
            "R$ 83.932,18",
            "R$ 4.459,29",
            "",
            "",
            "",
            "",
            "",
            "",
            "",
            "",
            "",
            "",
            "",
            "",
            "",
            "",
            "",
            "",
            "",
            "",
            "",
            "",
            "",
            "",
            "R$ 410.092,28"
           ],
           [
            "R$ 2.595,62",
            "R$ 1.493,26",
            "R$ 532,08",
            "",
            "R$ 2.450,37",
            "R$ 3.144,32",
            "R$ 2.118,25",
            "R$ 3.423,45",
            "R$ 107,40",
            "",
            "",
            "",
            "",
            "",
            "",
            "",
            "",
            "",
            "",
            "",
            "",
            "",
            "",
            "",
            "",
            "",
            "",
            "",
            "",
            "",
            "",
            "R$ 15.864,75"
           ],
           [
            "4,55%",
            "3,78%",
            "2,16%",
            "",
            "6,30%",
            "3,34%",
            "2,65%",
            "3,92%",
            "2,35%",
            "",
            "",
            "",
            "",
            "",
            "",
            "",
            "",
            "",
            "",
            "",
            "",
            "",
            "",
            "",
            "",
            "",
            "",
            "",
            "",
            "",
            "",
            "3,72%"
           ],
           [
            "R$ 51.513,78",
            "R$ 35.359,00",
            "R$ 22.653,96",
            "",
            "R$ 32.669,39",
            "R$ 84.500,70",
            "R$ 70.888,35",
            "R$ 75.953,36",
            "R$ 4.459,29",
            "",
            "",
            "",
            "",
            "",
            "",
            "",
            "",
            "",
            "",
            "",
            "",
            "",
            "",
            "",
            "",
            "",
            "",
            "",
            "",
            "",
            "",
            "R$ 377.997,83"
           ],
           [
            "146",
            "100",
            "69",
            "",
            "100",
            "161",
            "155",
            "163",
            "22",
            "",
            "",
            "",
            "",
            "",
            "",
            "",
            "",
            "",
            "",
            "",
            "",
            "",
            "",
            "",
            "",
            "",
            "",
            "",
            "",
            "",
            "",
            "292"
           ],
           [
            "3,90%",
            "3,49%",
            "2,35%",
            "",
            "7,50%",
            "3,50%",
            "2,89%",
            "3,45%",
            "2,41%",
            "",
            "",
            "",
            "",
            "",
            "",
            "",
            "",
            "",
            "",
            "",
            "",
            "",
            "",
            "",
            "",
            "",
            "",
            "",
            "",
            "",
            "",
            "3,69%"
           ],
           [
            "R$ 2.999,61",
            "R$ 2.657,70",
            "R$ 1.485,27",
            "",
            "R$ 3.804,93",
            "R$ 6.373,27",
            "R$ 6.794,85",
            "R$ 7.978,82",
            "",
            "",
            "",
            "",
            "",
            "",
            "",
            "",
            "",
            "",
            "",
            "",
            "",
            "",
            "",
            "",
            "",
            "",
            "",
            "",
            "",
            "",
            "",
            "R$ 32.094,45"
           ],
           [
            "28",
            "21",
            "18",
            "",
            "22",
            "44",
            "41",
            "50",
            "",
            "",
            "",
            "",
            "",
            "",
            "",
            "",
            "",
            "",
            "",
            "",
            "",
            "",
            "",
            "",
            "",
            "",
            "",
            "",
            "",
            "",
            "",
            "224"
           ],
           [
            "19,61%",
            "9,70%",
            "",
            "",
            "",
            "2,98%",
            "1,06%",
            "10,04%",
            "",
            "",
            "",
            "",
            "",
            "",
            "",
            "",
            "",
            "",
            "",
            "",
            "",
            "",
            "",
            "",
            "",
            "",
            "",
            "",
            "",
            "",
            "",
            "5,95%"
           ],
           [
            "81,77%",
            "57,03%",
            "120,70%",
            "",
            "",
            "136,31%",
            "116,52%",
            "125,90%",
            "6,69%",
            "",
            "",
            "",
            "",
            "",
            "",
            "",
            "",
            "",
            "",
            "",
            "",
            "",
            "",
            "",
            "",
            "",
            "",
            "",
            "",
            "",
            "",
            "27,34%"
           ],
           [
            "81,77%",
            "69,40%",
            "76,09%",
            "76,09%",
            "99,88%",
            "110,92%",
            "112,22%",
            "114,80%",
            "97,64%",
            "93,20%",
            "93,20%",
            "80,94%",
            "71,53%",
            "64,08%",
            "58,03%",
            "53,03%",
            "51,69%",
            "51,69%",
            "47,69%",
            "44,25%",
            "41,28%",
            "38,69%",
            "36,40%",
            "35,76%",
            "35,76%",
            "33,80%",
            "32,04%",
            "30,45%",
            "29,02%",
            "27,71%",
            "27,34%",
            "27,34%"
           ],
           [
            "R$ 1.226.551,27",
            "R$ 1.040.963,51",
            "R$ 1.141.330,30",
            "R$ 1.141.330,30",
            "R$ 1.498.144,30",
            "R$ 1.663.756,43",
            "R$ 1.683.318,19",
            "R$ 1.722.026,84",
            "R$ 1.464.615,29",
            "R$ 1.398.041,86",
            "R$ 1.398.041,86",
            "R$ 1.214.088,99",
            "R$ 1.072.915,85",
            "R$ 961.153,78",
            "R$ 870.478,90",
            "R$ 795.437,61",
            "R$ 775.384,56",
            "R$ 775.384,56",
            "R$ 715.277,23",
            "R$ 663.818,44",
            "R$ 619.266,87",
            "R$ 580.319,26",
            "R$ 545.980,85",
            "R$ 536.457,92",
            "R$ 536.457,92",
            "R$ 506.982,21",
            "R$ 480.576,89",
            "R$ 456.785,96",
            "R$ 435.239,45",
            "R$ 415.634,07",
            "R$ 410.092,28",
            ""
           ]
          ]
         },
         "columnwidth": [
          10.300925925925926,
          6.592592592592593,
          6.592592592592593,
          6.592592592592593,
          6.592592592592593,
          4.12037037037037,
          6.592592592592593,
          5.356481481481481,
          4.944444444444445,
          6.592592592592593,
          4.944444444444445,
          4.12037037037037,
          2.8842592592592595,
          2.8842592592592595,
          6.592592592592593
         ],
         "domain": {
          "y": [
           0,
           1
          ]
         },
         "header": {
          "align": "center",
          "fill": {
           "color": "#E5E5E5"
          },
          "font": {
           "color": [
            "#000000",
            "#000000",
            "#118DFF",
            "#000000",
            "#FF0000",
            "#FF0000",
            "#E04392",
            "#000000",
            "#FF0000",
            "#E04392",
            "#000000",
            "#FF0000",
            "#000000",
            "#000000",
            "#000000"
           ],
           "family": "Segoe UI Semibold",
           "size": 13.185185185185185
          },
          "line": {
           "color": "#E5E5E5",
           "width": 3
          },
          "values": [
           "Data",
           "Meta",
           "Venda\nSIAC",
           "Venda\nLíquida",
           "Devolução",
           "%\nDev",
           "Venda\nCNPJ",
           "Clientes\nCNPJ",
           "% Dev\nCNPJ",
           "Venda\nCPF",
           "Clientes\nCPF",
           "% Dev\nCPF",
           "%\nDia",
           "%\nMês",
           "Projeção\nmensal"
          ]
         },
         "type": "table"
        }
       ],
       "layout": {
        "height": 890,
        "template": {
         "data": {
          "bar": [
           {
            "error_x": {
             "color": "#2a3f5f"
            },
            "error_y": {
             "color": "#2a3f5f"
            },
            "marker": {
             "line": {
              "color": "#E5ECF6",
              "width": 0.5
             },
             "pattern": {
              "fillmode": "overlay",
              "size": 10,
              "solidity": 0.2
             }
            },
            "type": "bar"
           }
          ],
          "barpolar": [
           {
            "marker": {
             "line": {
              "color": "#E5ECF6",
              "width": 0.5
             },
             "pattern": {
              "fillmode": "overlay",
              "size": 10,
              "solidity": 0.2
             }
            },
            "type": "barpolar"
           }
          ],
          "carpet": [
           {
            "aaxis": {
             "endlinecolor": "#2a3f5f",
             "gridcolor": "white",
             "linecolor": "white",
             "minorgridcolor": "white",
             "startlinecolor": "#2a3f5f"
            },
            "baxis": {
             "endlinecolor": "#2a3f5f",
             "gridcolor": "white",
             "linecolor": "white",
             "minorgridcolor": "white",
             "startlinecolor": "#2a3f5f"
            },
            "type": "carpet"
           }
          ],
          "choropleth": [
           {
            "colorbar": {
             "outlinewidth": 0,
             "ticks": ""
            },
            "type": "choropleth"
           }
          ],
          "contour": [
           {
            "colorbar": {
             "outlinewidth": 0,
             "ticks": ""
            },
            "colorscale": [
             [
              0,
              "#0d0887"
             ],
             [
              0.1111111111111111,
              "#46039f"
             ],
             [
              0.2222222222222222,
              "#7201a8"
             ],
             [
              0.3333333333333333,
              "#9c179e"
             ],
             [
              0.4444444444444444,
              "#bd3786"
             ],
             [
              0.5555555555555556,
              "#d8576b"
             ],
             [
              0.6666666666666666,
              "#ed7953"
             ],
             [
              0.7777777777777778,
              "#fb9f3a"
             ],
             [
              0.8888888888888888,
              "#fdca26"
             ],
             [
              1,
              "#f0f921"
             ]
            ],
            "type": "contour"
           }
          ],
          "contourcarpet": [
           {
            "colorbar": {
             "outlinewidth": 0,
             "ticks": ""
            },
            "type": "contourcarpet"
           }
          ],
          "heatmap": [
           {
            "colorbar": {
             "outlinewidth": 0,
             "ticks": ""
            },
            "colorscale": [
             [
              0,
              "#0d0887"
             ],
             [
              0.1111111111111111,
              "#46039f"
             ],
             [
              0.2222222222222222,
              "#7201a8"
             ],
             [
              0.3333333333333333,
              "#9c179e"
             ],
             [
              0.4444444444444444,
              "#bd3786"
             ],
             [
              0.5555555555555556,
              "#d8576b"
             ],
             [
              0.6666666666666666,
              "#ed7953"
             ],
             [
              0.7777777777777778,
              "#fb9f3a"
             ],
             [
              0.8888888888888888,
              "#fdca26"
             ],
             [
              1,
              "#f0f921"
             ]
            ],
            "type": "heatmap"
           }
          ],
          "heatmapgl": [
           {
            "colorbar": {
             "outlinewidth": 0,
             "ticks": ""
            },
            "colorscale": [
             [
              0,
              "#0d0887"
             ],
             [
              0.1111111111111111,
              "#46039f"
             ],
             [
              0.2222222222222222,
              "#7201a8"
             ],
             [
              0.3333333333333333,
              "#9c179e"
             ],
             [
              0.4444444444444444,
              "#bd3786"
             ],
             [
              0.5555555555555556,
              "#d8576b"
             ],
             [
              0.6666666666666666,
              "#ed7953"
             ],
             [
              0.7777777777777778,
              "#fb9f3a"
             ],
             [
              0.8888888888888888,
              "#fdca26"
             ],
             [
              1,
              "#f0f921"
             ]
            ],
            "type": "heatmapgl"
           }
          ],
          "histogram": [
           {
            "marker": {
             "pattern": {
              "fillmode": "overlay",
              "size": 10,
              "solidity": 0.2
             }
            },
            "type": "histogram"
           }
          ],
          "histogram2d": [
           {
            "colorbar": {
             "outlinewidth": 0,
             "ticks": ""
            },
            "colorscale": [
             [
              0,
              "#0d0887"
             ],
             [
              0.1111111111111111,
              "#46039f"
             ],
             [
              0.2222222222222222,
              "#7201a8"
             ],
             [
              0.3333333333333333,
              "#9c179e"
             ],
             [
              0.4444444444444444,
              "#bd3786"
             ],
             [
              0.5555555555555556,
              "#d8576b"
             ],
             [
              0.6666666666666666,
              "#ed7953"
             ],
             [
              0.7777777777777778,
              "#fb9f3a"
             ],
             [
              0.8888888888888888,
              "#fdca26"
             ],
             [
              1,
              "#f0f921"
             ]
            ],
            "type": "histogram2d"
           }
          ],
          "histogram2dcontour": [
           {
            "colorbar": {
             "outlinewidth": 0,
             "ticks": ""
            },
            "colorscale": [
             [
              0,
              "#0d0887"
             ],
             [
              0.1111111111111111,
              "#46039f"
             ],
             [
              0.2222222222222222,
              "#7201a8"
             ],
             [
              0.3333333333333333,
              "#9c179e"
             ],
             [
              0.4444444444444444,
              "#bd3786"
             ],
             [
              0.5555555555555556,
              "#d8576b"
             ],
             [
              0.6666666666666666,
              "#ed7953"
             ],
             [
              0.7777777777777778,
              "#fb9f3a"
             ],
             [
              0.8888888888888888,
              "#fdca26"
             ],
             [
              1,
              "#f0f921"
             ]
            ],
            "type": "histogram2dcontour"
           }
          ],
          "mesh3d": [
           {
            "colorbar": {
             "outlinewidth": 0,
             "ticks": ""
            },
            "type": "mesh3d"
           }
          ],
          "parcoords": [
           {
            "line": {
             "colorbar": {
              "outlinewidth": 0,
              "ticks": ""
             }
            },
            "type": "parcoords"
           }
          ],
          "pie": [
           {
            "automargin": true,
            "type": "pie"
           }
          ],
          "scatter": [
           {
            "fillpattern": {
             "fillmode": "overlay",
             "size": 10,
             "solidity": 0.2
            },
            "type": "scatter"
           }
          ],
          "scatter3d": [
           {
            "line": {
             "colorbar": {
              "outlinewidth": 0,
              "ticks": ""
             }
            },
            "marker": {
             "colorbar": {
              "outlinewidth": 0,
              "ticks": ""
             }
            },
            "type": "scatter3d"
           }
          ],
          "scattercarpet": [
           {
            "marker": {
             "colorbar": {
              "outlinewidth": 0,
              "ticks": ""
             }
            },
            "type": "scattercarpet"
           }
          ],
          "scattergeo": [
           {
            "marker": {
             "colorbar": {
              "outlinewidth": 0,
              "ticks": ""
             }
            },
            "type": "scattergeo"
           }
          ],
          "scattergl": [
           {
            "marker": {
             "colorbar": {
              "outlinewidth": 0,
              "ticks": ""
             }
            },
            "type": "scattergl"
           }
          ],
          "scattermapbox": [
           {
            "marker": {
             "colorbar": {
              "outlinewidth": 0,
              "ticks": ""
             }
            },
            "type": "scattermapbox"
           }
          ],
          "scatterpolar": [
           {
            "marker": {
             "colorbar": {
              "outlinewidth": 0,
              "ticks": ""
             }
            },
            "type": "scatterpolar"
           }
          ],
          "scatterpolargl": [
           {
            "marker": {
             "colorbar": {
              "outlinewidth": 0,
              "ticks": ""
             }
            },
            "type": "scatterpolargl"
           }
          ],
          "scatterternary": [
           {
            "marker": {
             "colorbar": {
              "outlinewidth": 0,
              "ticks": ""
             }
            },
            "type": "scatterternary"
           }
          ],
          "surface": [
           {
            "colorbar": {
             "outlinewidth": 0,
             "ticks": ""
            },
            "colorscale": [
             [
              0,
              "#0d0887"
             ],
             [
              0.1111111111111111,
              "#46039f"
             ],
             [
              0.2222222222222222,
              "#7201a8"
             ],
             [
              0.3333333333333333,
              "#9c179e"
             ],
             [
              0.4444444444444444,
              "#bd3786"
             ],
             [
              0.5555555555555556,
              "#d8576b"
             ],
             [
              0.6666666666666666,
              "#ed7953"
             ],
             [
              0.7777777777777778,
              "#fb9f3a"
             ],
             [
              0.8888888888888888,
              "#fdca26"
             ],
             [
              1,
              "#f0f921"
             ]
            ],
            "type": "surface"
           }
          ],
          "table": [
           {
            "cells": {
             "fill": {
              "color": "#EBF0F8"
             },
             "line": {
              "color": "white"
             }
            },
            "header": {
             "fill": {
              "color": "#C8D4E3"
             },
             "line": {
              "color": "white"
             }
            },
            "type": "table"
           }
          ]
         },
         "layout": {
          "annotationdefaults": {
           "arrowcolor": "#2a3f5f",
           "arrowhead": 0,
           "arrowwidth": 1
          },
          "autotypenumbers": "strict",
          "coloraxis": {
           "colorbar": {
            "outlinewidth": 0,
            "ticks": ""
           }
          },
          "colorscale": {
           "diverging": [
            [
             0,
             "#8e0152"
            ],
            [
             0.1,
             "#c51b7d"
            ],
            [
             0.2,
             "#de77ae"
            ],
            [
             0.3,
             "#f1b6da"
            ],
            [
             0.4,
             "#fde0ef"
            ],
            [
             0.5,
             "#f7f7f7"
            ],
            [
             0.6,
             "#e6f5d0"
            ],
            [
             0.7,
             "#b8e186"
            ],
            [
             0.8,
             "#7fbc41"
            ],
            [
             0.9,
             "#4d9221"
            ],
            [
             1,
             "#276419"
            ]
           ],
           "sequential": [
            [
             0,
             "#0d0887"
            ],
            [
             0.1111111111111111,
             "#46039f"
            ],
            [
             0.2222222222222222,
             "#7201a8"
            ],
            [
             0.3333333333333333,
             "#9c179e"
            ],
            [
             0.4444444444444444,
             "#bd3786"
            ],
            [
             0.5555555555555556,
             "#d8576b"
            ],
            [
             0.6666666666666666,
             "#ed7953"
            ],
            [
             0.7777777777777778,
             "#fb9f3a"
            ],
            [
             0.8888888888888888,
             "#fdca26"
            ],
            [
             1,
             "#f0f921"
            ]
           ],
           "sequentialminus": [
            [
             0,
             "#0d0887"
            ],
            [
             0.1111111111111111,
             "#46039f"
            ],
            [
             0.2222222222222222,
             "#7201a8"
            ],
            [
             0.3333333333333333,
             "#9c179e"
            ],
            [
             0.4444444444444444,
             "#bd3786"
            ],
            [
             0.5555555555555556,
             "#d8576b"
            ],
            [
             0.6666666666666666,
             "#ed7953"
            ],
            [
             0.7777777777777778,
             "#fb9f3a"
            ],
            [
             0.8888888888888888,
             "#fdca26"
            ],
            [
             1,
             "#f0f921"
            ]
           ]
          },
          "colorway": [
           "#636efa",
           "#EF553B",
           "#00cc96",
           "#ab63fa",
           "#FFA15A",
           "#19d3f3",
           "#FF6692",
           "#B6E880",
           "#FF97FF",
           "#FECB52"
          ],
          "font": {
           "color": "#2a3f5f"
          },
          "geo": {
           "bgcolor": "white",
           "lakecolor": "white",
           "landcolor": "#E5ECF6",
           "showlakes": true,
           "showland": true,
           "subunitcolor": "white"
          },
          "hoverlabel": {
           "align": "left"
          },
          "hovermode": "closest",
          "mapbox": {
           "style": "light"
          },
          "paper_bgcolor": "white",
          "plot_bgcolor": "#E5ECF6",
          "polar": {
           "angularaxis": {
            "gridcolor": "white",
            "linecolor": "white",
            "ticks": ""
           },
           "bgcolor": "#E5ECF6",
           "radialaxis": {
            "gridcolor": "white",
            "linecolor": "white",
            "ticks": ""
           }
          },
          "scene": {
           "xaxis": {
            "backgroundcolor": "#E5ECF6",
            "gridcolor": "white",
            "gridwidth": 2,
            "linecolor": "white",
            "showbackground": true,
            "ticks": "",
            "zerolinecolor": "white"
           },
           "yaxis": {
            "backgroundcolor": "#E5ECF6",
            "gridcolor": "white",
            "gridwidth": 2,
            "linecolor": "white",
            "showbackground": true,
            "ticks": "",
            "zerolinecolor": "white"
           },
           "zaxis": {
            "backgroundcolor": "#E5ECF6",
            "gridcolor": "white",
            "gridwidth": 2,
            "linecolor": "white",
            "showbackground": true,
            "ticks": "",
            "zerolinecolor": "white"
           }
          },
          "shapedefaults": {
           "line": {
            "color": "#2a3f5f"
           }
          },
          "ternary": {
           "aaxis": {
            "gridcolor": "white",
            "linecolor": "white",
            "ticks": ""
           },
           "baxis": {
            "gridcolor": "white",
            "linecolor": "white",
            "ticks": ""
           },
           "bgcolor": "#E5ECF6",
           "caxis": {
            "gridcolor": "white",
            "linecolor": "white",
            "ticks": ""
           }
          },
          "title": {
           "x": 0.05
          },
          "xaxis": {
           "automargin": true,
           "gridcolor": "white",
           "linecolor": "white",
           "ticks": "",
           "title": {
            "standoff": 15
           },
           "zerolinecolor": "white",
           "zerolinewidth": 2
          },
          "yaxis": {
           "automargin": true,
           "gridcolor": "white",
           "linecolor": "white",
           "ticks": "",
           "title": {
            "standoff": 15
           },
           "zerolinecolor": "white",
           "zerolinewidth": 2
          }
         }
        },
        "title": {
         "font": {
          "color": "#881798",
          "family": "Jost",
          "size": 24.72222222222222
         },
         "text": "◙◙◙◙◙◙◙◙◙◙ 🡆 ASA NORTE 🡄 ◙◙◙◙◙◙◙◙◙◙◙◙◙◙◙◙◙◙◙◙◙◙◙◙◙◙◙◙◙◙◙◙◙◙◙◙◙◙◙◙◙◙◙◙◙◙◙◙◙◙◙◙◙◙◙◙◙◙◙◙◙◙◙◙◙◙◙◙◙◙◙◙◙◙◙◙ ⒶⓈⒶ ⓃⓄⓇⓉⒺ ◙◙◙◙◙◙◙◙◙◙",
         "x": 0.5,
         "y": 0.95,
         "yanchor": "bottom"
        },
        "width": 2060
       }
      }
     },
     "metadata": {},
     "output_type": "display_data"
    },
    {
     "name": "stdout",
     "output_type": "stream",
     "text": [
      "TESTE 03 TABLE.png\n",
      "\n",
      "09-12-2022 PrimeiraFoto - https://chat.whatsapp.com/LK4LDajkH52BNydoLGGD2d\n",
      "09-12-2022 API - https://chat.whatsapp.com/EBLX0fxYfvuHL7jZ9CZECQ\n",
      "09-12-2022 Teste Python - https://chat.whatsapp.com/I4y7EAVfns629NvfoLUtGI\n",
      "\n",
      "• '04' CEILÂNDIA\n",
      "\n"
     ]
    },
    {
     "name": "stderr",
     "output_type": "stream",
     "text": [
      "C:\\Users\\admin\\AppData\\Local\\Temp\\ipykernel_19088\\1060041187.py:86: RuntimeWarning:\n",
      "\n",
      "divide by zero encountered in double_scalars\n",
      "\n"
     ]
    },
    {
     "data": {
      "application/vnd.plotly.v1+json": {
       "config": {
        "plotlyServerURL": "https://plot.ly"
       },
       "data": [
        {
         "cells": {
          "align": [
           "left",
           "center"
          ],
          "fill": {
           "color": [
            [
             "#FFFFFF",
             "#FFFFFF",
             "#FFFFFF",
             "#DEEFFF",
             "#DEEFFF",
             "#FFFFFF",
             "#FFFFFF",
             "#FFFFFF",
             "#F7F7F7",
             "#FFFFFF",
             "#DEEFFF",
             "#FFFFFF",
             "#FFFFFF",
             "#FFFFFF",
             "#FFFFFF",
             "#FFFFFF",
             "#FFFFFF",
             "#DEEFFF",
             "#FFFFFF",
             "#FFFFFF",
             "#FFFFFF",
             "#FFFFFF",
             "#FFFFFF",
             "#FFFFFF",
             "#DEEFFF",
             "#FFFFFF",
             "#FFFFFF",
             "#FFFFFF",
             "#FFFFFF",
             "#FFFFFF",
             "#FFFFFF",
             "#E5E5E5"
            ],
            [
             "#FFFFFF",
             "#FFFFFF",
             "#FFFFFF",
             "#DEEFFF",
             "#DEEFFF",
             "#FFFFFF",
             "#FFFFFF",
             "#FFFFFF",
             "#F7F7F7",
             "#FFFFFF",
             "#DEEFFF",
             "#FFFFFF",
             "#FFFFFF",
             "#FFFFFF",
             "#FFFFFF",
             "#FFFFFF",
             "#FFFFFF",
             "#DEEFFF",
             "#FFFFFF",
             "#FFFFFF",
             "#FFFFFF",
             "#FFFFFF",
             "#FFFFFF",
             "#FFFFFF",
             "#DEEFFF",
             "#FFFFFF",
             "#FFFFFF",
             "#FFFFFF",
             "#FFFFFF",
             "#FFFFFF",
             "#FFFFFF",
             "#E5E5E5"
            ],
            [
             "#F7F7F7",
             "#F7F7F7",
             "#F7F7F7",
             "#DEEFFF",
             "#DEEFFF",
             "#F7F7F7",
             "#F7F7F7",
             "#F7F7F7",
             "#F7F7F7",
             "#F7F7F7",
             "#DEEFFF",
             "#F7F7F7",
             "#F7F7F7",
             "#F7F7F7",
             "#F7F7F7",
             "#F7F7F7",
             "#F7F7F7",
             "#DEEFFF",
             "#F7F7F7",
             "#F7F7F7",
             "#F7F7F7",
             "#F7F7F7",
             "#F7F7F7",
             "#F7F7F7",
             "#DEEFFF",
             "#F7F7F7",
             "#F7F7F7",
             "#F7F7F7",
             "#F7F7F7",
             "#F7F7F7",
             "#F7F7F7",
             "#E5E5E5"
            ],
            [
             "#F7F7F7",
             "#F7F7F7",
             "#F7F7F7",
             "#DEEFFF",
             "#DEEFFF",
             "#F7F7F7",
             "#F7F7F7",
             "#F7F7F7",
             "#F7F7F7",
             "#F7F7F7",
             "#DEEFFF",
             "#F7F7F7",
             "#F7F7F7",
             "#F7F7F7",
             "#F7F7F7",
             "#F7F7F7",
             "#F7F7F7",
             "#DEEFFF",
             "#F7F7F7",
             "#F7F7F7",
             "#F7F7F7",
             "#F7F7F7",
             "#F7F7F7",
             "#F7F7F7",
             "#DEEFFF",
             "#F7F7F7",
             "#F7F7F7",
             "#F7F7F7",
             "#F7F7F7",
             "#F7F7F7",
             "#F7F7F7",
             "#E5E5E5"
            ],
            [
             "#FFFFFF",
             "#FFFFFF",
             "#FFFFFF",
             "#DEEFFF",
             "#DEEFFF",
             "#FFFFFF",
             "#FFFFFF",
             "#FFFFFF",
             "#F7F7F7",
             "#FFFFFF",
             "#DEEFFF",
             "#FFFFFF",
             "#FFFFFF",
             "#FFFFFF",
             "#FFFFFF",
             "#FFFFFF",
             "#FFFFFF",
             "#DEEFFF",
             "#FFFFFF",
             "#FFFFFF",
             "#FFFFFF",
             "#FFFFFF",
             "#FFFFFF",
             "#FFFFFF",
             "#DEEFFF",
             "#FFFFFF",
             "#FFFFFF",
             "#FFFFFF",
             "#FFFFFF",
             "#FFFFFF",
             "#FFFFFF",
             "#E5E5E5"
            ],
            [
             "#FFFFFF",
             "#FFFFFF",
             "#FFFFFF",
             "#DEEFFF",
             "#DEEFFF",
             "#FFFFFF",
             "#FFFFFF",
             "#FFFFFF",
             "#F7F7F7",
             "#FFFFFF",
             "#DEEFFF",
             "#FFFFFF",
             "#FFFFFF",
             "#FFFFFF",
             "#FFFFFF",
             "#FFFFFF",
             "#FFFFFF",
             "#DEEFFF",
             "#FFFFFF",
             "#FFFFFF",
             "#FFFFFF",
             "#FFFFFF",
             "#FFFFFF",
             "#FFFFFF",
             "#DEEFFF",
             "#FFFFFF",
             "#FFFFFF",
             "#FFFFFF",
             "#FFFFFF",
             "#FFFFFF",
             "#FFFFFF",
             "#E5E5E5"
            ],
            [
             "#F7F7F7",
             "#F7F7F7",
             "#F7F7F7",
             "#DEEFFF",
             "#DEEFFF",
             "#F7F7F7",
             "#F7F7F7",
             "#F7F7F7",
             "#F7F7F7",
             "#F7F7F7",
             "#DEEFFF",
             "#F7F7F7",
             "#F7F7F7",
             "#F7F7F7",
             "#F7F7F7",
             "#F7F7F7",
             "#F7F7F7",
             "#DEEFFF",
             "#F7F7F7",
             "#F7F7F7",
             "#F7F7F7",
             "#F7F7F7",
             "#F7F7F7",
             "#F7F7F7",
             "#DEEFFF",
             "#F7F7F7",
             "#F7F7F7",
             "#F7F7F7",
             "#F7F7F7",
             "#F7F7F7",
             "#F7F7F7",
             "#E5E5E5"
            ],
            [
             "#FFFFFF",
             "#FFFFFF",
             "#FFFFFF",
             "#DEEFFF",
             "#DEEFFF",
             "#FFFFFF",
             "#FFFFFF",
             "#FFFFFF",
             "#F7F7F7",
             "#FFFFFF",
             "#DEEFFF",
             "#FFFFFF",
             "#FFFFFF",
             "#FFFFFF",
             "#FFFFFF",
             "#FFFFFF",
             "#FFFFFF",
             "#DEEFFF",
             "#FFFFFF",
             "#FFFFFF",
             "#FFFFFF",
             "#FFFFFF",
             "#FFFFFF",
             "#FFFFFF",
             "#DEEFFF",
             "#FFFFFF",
             "#FFFFFF",
             "#FFFFFF",
             "#FFFFFF",
             "#FFFFFF",
             "#FFFFFF",
             "#E5E5E5"
            ],
            [
             "#FFFFFF",
             "#FFFFFF",
             "#FFFFFF",
             "#DEEFFF",
             "#DEEFFF",
             "#FFFFFF",
             "#FFFFFF",
             "#FFFFFF",
             "#F7F7F7",
             "#FFFFFF",
             "#DEEFFF",
             "#FFFFFF",
             "#FFFFFF",
             "#FFFFFF",
             "#FFFFFF",
             "#FFFFFF",
             "#FFFFFF",
             "#DEEFFF",
             "#FFFFFF",
             "#FFFFFF",
             "#FFFFFF",
             "#FFFFFF",
             "#FFFFFF",
             "#FFFFFF",
             "#DEEFFF",
             "#FFFFFF",
             "#FFFFFF",
             "#FFFFFF",
             "#FFFFFF",
             "#FFFFFF",
             "#FFFFFF",
             "#E5E5E5"
            ],
            [
             "#F7F7F7",
             "#F7F7F7",
             "#F7F7F7",
             "#DEEFFF",
             "#DEEFFF",
             "#F7F7F7",
             "#F7F7F7",
             "#F7F7F7",
             "#F7F7F7",
             "#F7F7F7",
             "#DEEFFF",
             "#F7F7F7",
             "#F7F7F7",
             "#F7F7F7",
             "#F7F7F7",
             "#F7F7F7",
             "#F7F7F7",
             "#DEEFFF",
             "#F7F7F7",
             "#F7F7F7",
             "#F7F7F7",
             "#F7F7F7",
             "#F7F7F7",
             "#F7F7F7",
             "#DEEFFF",
             "#F7F7F7",
             "#F7F7F7",
             "#F7F7F7",
             "#F7F7F7",
             "#F7F7F7",
             "#F7F7F7",
             "#E5E5E5"
            ],
            [
             "#FFFFFF",
             "#FFFFFF",
             "#FFFFFF",
             "#DEEFFF",
             "#DEEFFF",
             "#FFFFFF",
             "#FFFFFF",
             "#FFFFFF",
             "#F7F7F7",
             "#FFFFFF",
             "#DEEFFF",
             "#FFFFFF",
             "#FFFFFF",
             "#FFFFFF",
             "#FFFFFF",
             "#FFFFFF",
             "#FFFFFF",
             "#DEEFFF",
             "#FFFFFF",
             "#FFFFFF",
             "#FFFFFF",
             "#FFFFFF",
             "#FFFFFF",
             "#FFFFFF",
             "#DEEFFF",
             "#FFFFFF",
             "#FFFFFF",
             "#FFFFFF",
             "#FFFFFF",
             "#FFFFFF",
             "#FFFFFF",
             "#E5E5E5"
            ],
            [
             "#FFFFFF",
             "#FFFFFF",
             "#FFFFFF",
             "#DEEFFF",
             "#DEEFFF",
             "#FFFFFF",
             "#FFFFFF",
             "#FFFFFF",
             "#F7F7F7",
             "#FFFFFF",
             "#DEEFFF",
             "#FFFFFF",
             "#FFFFFF",
             "#FFFFFF",
             "#FFFFFF",
             "#FFFFFF",
             "#FFFFFF",
             "#DEEFFF",
             "#FFFFFF",
             "#FFFFFF",
             "#FFFFFF",
             "#FFFFFF",
             "#FFFFFF",
             "#FFFFFF",
             "#DEEFFF",
             "#FFFFFF",
             "#FFFFFF",
             "#FFFFFF",
             "#FFFFFF",
             "#FFFFFF",
             "#FFFFFF",
             "#E5E5E5"
            ],
            [
             "#FFFFFF",
             "#FFFFFF",
             "#FFFFFF",
             "#DEEFFF",
             "#DEEFFF",
             "#FFFFFF",
             "#FFFFFF",
             "#FFFFFF",
             "#F7F7F7",
             "#FFFFFF",
             "#DEEFFF",
             "#FFFFFF",
             "#FFFFFF",
             "#FFFFFF",
             "#FFFFFF",
             "#FFFFFF",
             "#FFFFFF",
             "#DEEFFF",
             "#FFFFFF",
             "#FFFFFF",
             "#FFFFFF",
             "#FFFFFF",
             "#FFFFFF",
             "#FFFFFF",
             "#DEEFFF",
             "#FFFFFF",
             "#FFFFFF",
             "#FFFFFF",
             "#FFFFFF",
             "#FFFFFF",
             "#FFFFFF",
             "#E5E5E5"
            ],
            [
             "#FFFFFF",
             "#FFFFFF",
             "#FFFFFF",
             "#DEEFFF",
             "#DEEFFF",
             "#FFFFFF",
             "#FFFFFF",
             "#FFFFFF",
             "#F7F7F7",
             "#FFFFFF",
             "#DEEFFF",
             "#FFFFFF",
             "#FFFFFF",
             "#FFFFFF",
             "#FFFFFF",
             "#FFFFFF",
             "#FFFFFF",
             "#DEEFFF",
             "#FFFFFF",
             "#FFFFFF",
             "#FFFFFF",
             "#FFFFFF",
             "#FFFFFF",
             "#FFFFFF",
             "#DEEFFF",
             "#FFFFFF",
             "#FFFFFF",
             "#FFFFFF",
             "#FFFFFF",
             "#FFFFFF",
             "#FFFFFF",
             "#E5E5E5"
            ],
            [
             "#FFFFFF",
             "#FFFFFF",
             "#FFFFFF",
             "#DEEFFF",
             "#DEEFFF",
             "#FFFFFF",
             "#FFFFFF",
             "#FFFFFF",
             "#F7F7F7",
             "#FFFFFF",
             "#DEEFFF",
             "#FFFFFF",
             "#FFFFFF",
             "#FFFFFF",
             "#FFFFFF",
             "#FFFFFF",
             "#FFFFFF",
             "#DEEFFF",
             "#FFFFFF",
             "#FFFFFF",
             "#FFFFFF",
             "#FFFFFF",
             "#FFFFFF",
             "#FFFFFF",
             "#DEEFFF",
             "#FFFFFF",
             "#FFFFFF",
             "#FFFFFF",
             "#FFFFFF",
             "#FFFFFF",
             "#FFFFFF",
             "#E5E5E5"
            ],
            [
             "#FFFFFF",
             "#FFFFFF",
             "#FFFFFF",
             "#DEEFFF",
             "#DEEFFF",
             "#FFFFFF",
             "#FFFFFF",
             "#FFFFFF",
             "#F7F7F7",
             "#FFFFFF",
             "#DEEFFF",
             "#FFFFFF",
             "#FFFFFF",
             "#FFFFFF",
             "#FFFFFF",
             "#FFFFFF",
             "#FFFFFF",
             "#DEEFFF",
             "#FFFFFF",
             "#FFFFFF",
             "#FFFFFF",
             "#FFFFFF",
             "#FFFFFF",
             "#FFFFFF",
             "#DEEFFF",
             "#FFFFFF",
             "#FFFFFF",
             "#FFFFFF",
             "#FFFFFF",
             "#FFFFFF",
             "#FFFFFF",
             "#E5E5E5"
            ],
            [
             "#FFFFFF",
             "#FFFFFF",
             "#FFFFFF",
             "#DEEFFF",
             "#DEEFFF",
             "#FFFFFF",
             "#FFFFFF",
             "#FFFFFF",
             "#F7F7F7",
             "#FFFFFF",
             "#DEEFFF",
             "#FFFFFF",
             "#FFFFFF",
             "#FFFFFF",
             "#FFFFFF",
             "#FFFFFF",
             "#FFFFFF",
             "#DEEFFF",
             "#FFFFFF",
             "#FFFFFF",
             "#FFFFFF",
             "#FFFFFF",
             "#FFFFFF",
             "#FFFFFF",
             "#DEEFFF",
             "#FFFFFF",
             "#FFFFFF",
             "#FFFFFF",
             "#FFFFFF",
             "#FFFFFF",
             "#FFFFFF",
             "#E5E5E5"
            ],
            [
             "#FFFFFF",
             "#FFFFFF",
             "#FFFFFF",
             "#DEEFFF",
             "#DEEFFF",
             "#FFFFFF",
             "#FFFFFF",
             "#FFFFFF",
             "#F7F7F7",
             "#FFFFFF",
             "#DEEFFF",
             "#FFFFFF",
             "#FFFFFF",
             "#FFFFFF",
             "#FFFFFF",
             "#FFFFFF",
             "#FFFFFF",
             "#DEEFFF",
             "#FFFFFF",
             "#FFFFFF",
             "#FFFFFF",
             "#FFFFFF",
             "#FFFFFF",
             "#FFFFFF",
             "#DEEFFF",
             "#FFFFFF",
             "#FFFFFF",
             "#FFFFFF",
             "#FFFFFF",
             "#FFFFFF",
             "#FFFFFF",
             "#E5E5E5"
            ],
            [
             "#FFFFFF",
             "#FFFFFF",
             "#FFFFFF",
             "#DEEFFF",
             "#DEEFFF",
             "#FFFFFF",
             "#FFFFFF",
             "#FFFFFF",
             "#F7F7F7",
             "#FFFFFF",
             "#DEEFFF",
             "#FFFFFF",
             "#FFFFFF",
             "#FFFFFF",
             "#FFFFFF",
             "#FFFFFF",
             "#FFFFFF",
             "#DEEFFF",
             "#FFFFFF",
             "#FFFFFF",
             "#FFFFFF",
             "#FFFFFF",
             "#FFFFFF",
             "#FFFFFF",
             "#DEEFFF",
             "#FFFFFF",
             "#FFFFFF",
             "#FFFFFF",
             "#FFFFFF",
             "#FFFFFF",
             "#FFFFFF",
             "#E5E5E5"
            ],
            [
             "#FFFFFF",
             "#FFFFFF",
             "#FFFFFF",
             "#DEEFFF",
             "#DEEFFF",
             "#FFFFFF",
             "#FFFFFF",
             "#FFFFFF",
             "#F7F7F7",
             "#FFFFFF",
             "#DEEFFF",
             "#FFFFFF",
             "#FFFFFF",
             "#FFFFFF",
             "#FFFFFF",
             "#FFFFFF",
             "#FFFFFF",
             "#DEEFFF",
             "#FFFFFF",
             "#FFFFFF",
             "#FFFFFF",
             "#FFFFFF",
             "#FFFFFF",
             "#FFFFFF",
             "#DEEFFF",
             "#FFFFFF",
             "#FFFFFF",
             "#FFFFFF",
             "#FFFFFF",
             "#FFFFFF",
             "#FFFFFF",
             "#E5E5E5"
            ],
            [
             "#FFFFFF",
             "#FFFFFF",
             "#FFFFFF",
             "#DEEFFF",
             "#DEEFFF",
             "#FFFFFF",
             "#FFFFFF",
             "#FFFFFF",
             "#F7F7F7",
             "#FFFFFF",
             "#DEEFFF",
             "#FFFFFF",
             "#FFFFFF",
             "#FFFFFF",
             "#FFFFFF",
             "#FFFFFF",
             "#FFFFFF",
             "#DEEFFF",
             "#FFFFFF",
             "#FFFFFF",
             "#FFFFFF",
             "#FFFFFF",
             "#FFFFFF",
             "#FFFFFF",
             "#DEEFFF",
             "#FFFFFF",
             "#FFFFFF",
             "#FFFFFF",
             "#FFFFFF",
             "#FFFFFF",
             "#FFFFFF",
             "#E5E5E5"
            ],
            [
             "#FFFFFF",
             "#FFFFFF",
             "#FFFFFF",
             "#DEEFFF",
             "#DEEFFF",
             "#FFFFFF",
             "#FFFFFF",
             "#FFFFFF",
             "#F7F7F7",
             "#FFFFFF",
             "#DEEFFF",
             "#FFFFFF",
             "#FFFFFF",
             "#FFFFFF",
             "#FFFFFF",
             "#FFFFFF",
             "#FFFFFF",
             "#DEEFFF",
             "#FFFFFF",
             "#FFFFFF",
             "#FFFFFF",
             "#FFFFFF",
             "#FFFFFF",
             "#FFFFFF",
             "#DEEFFF",
             "#FFFFFF",
             "#FFFFFF",
             "#FFFFFF",
             "#FFFFFF",
             "#FFFFFF",
             "#FFFFFF",
             "#E5E5E5"
            ]
           ]
          },
          "font": {
           "color": [
            "#000000",
            "#000000",
            "#118DFF",
            "#000000",
            "#FF0000",
            "#FF0000",
            "#E04392",
            "#000000",
            "#FF0000",
            "#E04392",
            "#000000",
            "#FF0000",
            [
             "#FF0000",
             "#FF0000",
             "#00B050",
             "#DEEFFF",
             "#DEEFFF",
             "#00B050",
             "#00B050",
             "#00B050",
             "#FF0000",
             "#FFFFFF",
             "#DEEFFF",
             "#FFFFFF",
             "#FFFFFF",
             "#FFFFFF",
             "#FFFFFF",
             "#FFFFFF",
             "#FFFFFF",
             "#DEEFFF",
             "#FFFFFF",
             "#FFFFFF",
             "#FFFFFF",
             "#FFFFFF",
             "#FFFFFF",
             "#FFFFFF",
             "#DEEFFF",
             "#FFFFFF",
             "#FFFFFF",
             "#FFFFFF",
             "#FFFFFF",
             "#FFFFFF",
             "#FFFFFF",
             "#E5E5E5"
            ],
            [
             "#FF0000",
             "#FF0000",
             "#FF0000",
             "#DEEFFF",
             "#DEEFFF",
             "#00B050",
             "#00B050",
             "#00B050",
             "#FF0000",
             "#FFFFFF",
             "#DEEFFF",
             "#FFFFFF",
             "#FFFFFF",
             "#FFFFFF",
             "#FFFFFF",
             "#FFFFFF",
             "#FFFFFF",
             "#DEEFFF",
             "#FFFFFF",
             "#FFFFFF",
             "#FFFFFF",
             "#FFFFFF",
             "#FFFFFF",
             "#FFFFFF",
             "#DEEFFF",
             "#FFFFFF",
             "#FFFFFF",
             "#FFFFFF",
             "#FFFFFF",
             "#FFFFFF",
             "#FFFFFF",
             "#E5E5E5"
            ],
            [
             "#000000",
             "#000000",
             "#000000",
             "#DEEFFF",
             "#DEEFFF",
             "#000000",
             "#000000",
             "#000000",
             "#000000",
             "#FFFFFF",
             "#DEEFFF",
             "#FFFFFF",
             "#FFFFFF",
             "#FFFFFF",
             "#FFFFFF",
             "#FFFFFF",
             "#FFFFFF",
             "#DEEFFF",
             "#FFFFFF",
             "#FFFFFF",
             "#FFFFFF",
             "#FFFFFF",
             "#FFFFFF",
             "#FFFFFF",
             "#DEEFFF",
             "#FFFFFF",
             "#FFFFFF",
             "#FFFFFF",
             "#FFFFFF",
             "#FFFFFF",
             "#FFFFFF",
             "#118DFF"
            ]
           ],
           "family": "Segoe UI Semibold",
           "size": 13.185185185185185
          },
          "line": {
           "color": [
            [
             "#FFFFFF",
             "#FFFFFF",
             "#FFFFFF",
             "#DEEFFF",
             "#DEEFFF",
             "#FFFFFF",
             "#FFFFFF",
             "#FFFFFF",
             "#F7F7F7",
             "#FFFFFF",
             "#DEEFFF",
             "#FFFFFF",
             "#FFFFFF",
             "#FFFFFF",
             "#FFFFFF",
             "#FFFFFF",
             "#FFFFFF",
             "#DEEFFF",
             "#FFFFFF",
             "#FFFFFF",
             "#FFFFFF",
             "#FFFFFF",
             "#FFFFFF",
             "#FFFFFF",
             "#DEEFFF",
             "#FFFFFF",
             "#FFFFFF",
             "#FFFFFF",
             "#FFFFFF",
             "#FFFFFF",
             "#FFFFFF",
             "#E5E5E5"
            ],
            [
             "#FFFFFF",
             "#FFFFFF",
             "#FFFFFF",
             "#DEEFFF",
             "#DEEFFF",
             "#FFFFFF",
             "#FFFFFF",
             "#FFFFFF",
             "#F7F7F7",
             "#FFFFFF",
             "#DEEFFF",
             "#FFFFFF",
             "#FFFFFF",
             "#FFFFFF",
             "#FFFFFF",
             "#FFFFFF",
             "#FFFFFF",
             "#DEEFFF",
             "#FFFFFF",
             "#FFFFFF",
             "#FFFFFF",
             "#FFFFFF",
             "#FFFFFF",
             "#FFFFFF",
             "#DEEFFF",
             "#FFFFFF",
             "#FFFFFF",
             "#FFFFFF",
             "#FFFFFF",
             "#FFFFFF",
             "#FFFFFF",
             "#E5E5E5"
            ],
            [
             "#F7F7F7",
             "#F7F7F7",
             "#F7F7F7",
             "#DEEFFF",
             "#DEEFFF",
             "#F7F7F7",
             "#F7F7F7",
             "#F7F7F7",
             "#F7F7F7",
             "#F7F7F7",
             "#DEEFFF",
             "#F7F7F7",
             "#F7F7F7",
             "#F7F7F7",
             "#F7F7F7",
             "#F7F7F7",
             "#F7F7F7",
             "#DEEFFF",
             "#F7F7F7",
             "#F7F7F7",
             "#F7F7F7",
             "#F7F7F7",
             "#F7F7F7",
             "#F7F7F7",
             "#DEEFFF",
             "#F7F7F7",
             "#F7F7F7",
             "#F7F7F7",
             "#F7F7F7",
             "#F7F7F7",
             "#F7F7F7",
             "#E5E5E5"
            ],
            [
             "#F7F7F7",
             "#F7F7F7",
             "#F7F7F7",
             "#DEEFFF",
             "#DEEFFF",
             "#F7F7F7",
             "#F7F7F7",
             "#F7F7F7",
             "#F7F7F7",
             "#F7F7F7",
             "#DEEFFF",
             "#F7F7F7",
             "#F7F7F7",
             "#F7F7F7",
             "#F7F7F7",
             "#F7F7F7",
             "#F7F7F7",
             "#DEEFFF",
             "#F7F7F7",
             "#F7F7F7",
             "#F7F7F7",
             "#F7F7F7",
             "#F7F7F7",
             "#F7F7F7",
             "#DEEFFF",
             "#F7F7F7",
             "#F7F7F7",
             "#F7F7F7",
             "#F7F7F7",
             "#F7F7F7",
             "#F7F7F7",
             "#E5E5E5"
            ],
            [
             "#FFFFFF",
             "#FFFFFF",
             "#FFFFFF",
             "#DEEFFF",
             "#DEEFFF",
             "#FFFFFF",
             "#FFFFFF",
             "#FFFFFF",
             "#F7F7F7",
             "#FFFFFF",
             "#DEEFFF",
             "#FFFFFF",
             "#FFFFFF",
             "#FFFFFF",
             "#FFFFFF",
             "#FFFFFF",
             "#FFFFFF",
             "#DEEFFF",
             "#FFFFFF",
             "#FFFFFF",
             "#FFFFFF",
             "#FFFFFF",
             "#FFFFFF",
             "#FFFFFF",
             "#DEEFFF",
             "#FFFFFF",
             "#FFFFFF",
             "#FFFFFF",
             "#FFFFFF",
             "#FFFFFF",
             "#FFFFFF",
             "#E5E5E5"
            ],
            [
             "#FFFFFF",
             "#FFFFFF",
             "#FFFFFF",
             "#DEEFFF",
             "#DEEFFF",
             "#FFFFFF",
             "#FFFFFF",
             "#FFFFFF",
             "#F7F7F7",
             "#FFFFFF",
             "#DEEFFF",
             "#FFFFFF",
             "#FFFFFF",
             "#FFFFFF",
             "#FFFFFF",
             "#FFFFFF",
             "#FFFFFF",
             "#DEEFFF",
             "#FFFFFF",
             "#FFFFFF",
             "#FFFFFF",
             "#FFFFFF",
             "#FFFFFF",
             "#FFFFFF",
             "#DEEFFF",
             "#FFFFFF",
             "#FFFFFF",
             "#FFFFFF",
             "#FFFFFF",
             "#FFFFFF",
             "#FFFFFF",
             "#E5E5E5"
            ],
            [
             "#F7F7F7",
             "#F7F7F7",
             "#F7F7F7",
             "#DEEFFF",
             "#DEEFFF",
             "#F7F7F7",
             "#F7F7F7",
             "#F7F7F7",
             "#F7F7F7",
             "#F7F7F7",
             "#DEEFFF",
             "#F7F7F7",
             "#F7F7F7",
             "#F7F7F7",
             "#F7F7F7",
             "#F7F7F7",
             "#F7F7F7",
             "#DEEFFF",
             "#F7F7F7",
             "#F7F7F7",
             "#F7F7F7",
             "#F7F7F7",
             "#F7F7F7",
             "#F7F7F7",
             "#DEEFFF",
             "#F7F7F7",
             "#F7F7F7",
             "#F7F7F7",
             "#F7F7F7",
             "#F7F7F7",
             "#F7F7F7",
             "#E5E5E5"
            ],
            [
             "#FFFFFF",
             "#FFFFFF",
             "#FFFFFF",
             "#DEEFFF",
             "#DEEFFF",
             "#FFFFFF",
             "#FFFFFF",
             "#FFFFFF",
             "#F7F7F7",
             "#FFFFFF",
             "#DEEFFF",
             "#FFFFFF",
             "#FFFFFF",
             "#FFFFFF",
             "#FFFFFF",
             "#FFFFFF",
             "#FFFFFF",
             "#DEEFFF",
             "#FFFFFF",
             "#FFFFFF",
             "#FFFFFF",
             "#FFFFFF",
             "#FFFFFF",
             "#FFFFFF",
             "#DEEFFF",
             "#FFFFFF",
             "#FFFFFF",
             "#FFFFFF",
             "#FFFFFF",
             "#FFFFFF",
             "#FFFFFF",
             "#E5E5E5"
            ],
            [
             "#FFFFFF",
             "#FFFFFF",
             "#FFFFFF",
             "#DEEFFF",
             "#DEEFFF",
             "#FFFFFF",
             "#FFFFFF",
             "#FFFFFF",
             "#F7F7F7",
             "#FFFFFF",
             "#DEEFFF",
             "#FFFFFF",
             "#FFFFFF",
             "#FFFFFF",
             "#FFFFFF",
             "#FFFFFF",
             "#FFFFFF",
             "#DEEFFF",
             "#FFFFFF",
             "#FFFFFF",
             "#FFFFFF",
             "#FFFFFF",
             "#FFFFFF",
             "#FFFFFF",
             "#DEEFFF",
             "#FFFFFF",
             "#FFFFFF",
             "#FFFFFF",
             "#FFFFFF",
             "#FFFFFF",
             "#FFFFFF",
             "#E5E5E5"
            ],
            [
             "#F7F7F7",
             "#F7F7F7",
             "#F7F7F7",
             "#DEEFFF",
             "#DEEFFF",
             "#F7F7F7",
             "#F7F7F7",
             "#F7F7F7",
             "#F7F7F7",
             "#F7F7F7",
             "#DEEFFF",
             "#F7F7F7",
             "#F7F7F7",
             "#F7F7F7",
             "#F7F7F7",
             "#F7F7F7",
             "#F7F7F7",
             "#DEEFFF",
             "#F7F7F7",
             "#F7F7F7",
             "#F7F7F7",
             "#F7F7F7",
             "#F7F7F7",
             "#F7F7F7",
             "#DEEFFF",
             "#F7F7F7",
             "#F7F7F7",
             "#F7F7F7",
             "#F7F7F7",
             "#F7F7F7",
             "#F7F7F7",
             "#E5E5E5"
            ],
            [
             "#FFFFFF",
             "#FFFFFF",
             "#FFFFFF",
             "#DEEFFF",
             "#DEEFFF",
             "#FFFFFF",
             "#FFFFFF",
             "#FFFFFF",
             "#F7F7F7",
             "#FFFFFF",
             "#DEEFFF",
             "#FFFFFF",
             "#FFFFFF",
             "#FFFFFF",
             "#FFFFFF",
             "#FFFFFF",
             "#FFFFFF",
             "#DEEFFF",
             "#FFFFFF",
             "#FFFFFF",
             "#FFFFFF",
             "#FFFFFF",
             "#FFFFFF",
             "#FFFFFF",
             "#DEEFFF",
             "#FFFFFF",
             "#FFFFFF",
             "#FFFFFF",
             "#FFFFFF",
             "#FFFFFF",
             "#FFFFFF",
             "#E5E5E5"
            ],
            [
             "#FFFFFF",
             "#FFFFFF",
             "#FFFFFF",
             "#DEEFFF",
             "#DEEFFF",
             "#FFFFFF",
             "#FFFFFF",
             "#FFFFFF",
             "#F7F7F7",
             "#FFFFFF",
             "#DEEFFF",
             "#FFFFFF",
             "#FFFFFF",
             "#FFFFFF",
             "#FFFFFF",
             "#FFFFFF",
             "#FFFFFF",
             "#DEEFFF",
             "#FFFFFF",
             "#FFFFFF",
             "#FFFFFF",
             "#FFFFFF",
             "#FFFFFF",
             "#FFFFFF",
             "#DEEFFF",
             "#FFFFFF",
             "#FFFFFF",
             "#FFFFFF",
             "#FFFFFF",
             "#FFFFFF",
             "#FFFFFF",
             "#E5E5E5"
            ],
            [
             "#FFFFFF",
             "#FFFFFF",
             "#FFFFFF",
             "#DEEFFF",
             "#DEEFFF",
             "#FFFFFF",
             "#FFFFFF",
             "#FFFFFF",
             "#F7F7F7",
             "#FFFFFF",
             "#DEEFFF",
             "#FFFFFF",
             "#FFFFFF",
             "#FFFFFF",
             "#FFFFFF",
             "#FFFFFF",
             "#FFFFFF",
             "#DEEFFF",
             "#FFFFFF",
             "#FFFFFF",
             "#FFFFFF",
             "#FFFFFF",
             "#FFFFFF",
             "#FFFFFF",
             "#DEEFFF",
             "#FFFFFF",
             "#FFFFFF",
             "#FFFFFF",
             "#FFFFFF",
             "#FFFFFF",
             "#FFFFFF",
             "#E5E5E5"
            ],
            [
             "#FFFFFF",
             "#FFFFFF",
             "#FFFFFF",
             "#DEEFFF",
             "#DEEFFF",
             "#FFFFFF",
             "#FFFFFF",
             "#FFFFFF",
             "#F7F7F7",
             "#FFFFFF",
             "#DEEFFF",
             "#FFFFFF",
             "#FFFFFF",
             "#FFFFFF",
             "#FFFFFF",
             "#FFFFFF",
             "#FFFFFF",
             "#DEEFFF",
             "#FFFFFF",
             "#FFFFFF",
             "#FFFFFF",
             "#FFFFFF",
             "#FFFFFF",
             "#FFFFFF",
             "#DEEFFF",
             "#FFFFFF",
             "#FFFFFF",
             "#FFFFFF",
             "#FFFFFF",
             "#FFFFFF",
             "#FFFFFF",
             "#E5E5E5"
            ],
            [
             "#FFFFFF",
             "#FFFFFF",
             "#FFFFFF",
             "#DEEFFF",
             "#DEEFFF",
             "#FFFFFF",
             "#FFFFFF",
             "#FFFFFF",
             "#F7F7F7",
             "#FFFFFF",
             "#DEEFFF",
             "#FFFFFF",
             "#FFFFFF",
             "#FFFFFF",
             "#FFFFFF",
             "#FFFFFF",
             "#FFFFFF",
             "#DEEFFF",
             "#FFFFFF",
             "#FFFFFF",
             "#FFFFFF",
             "#FFFFFF",
             "#FFFFFF",
             "#FFFFFF",
             "#DEEFFF",
             "#FFFFFF",
             "#FFFFFF",
             "#FFFFFF",
             "#FFFFFF",
             "#FFFFFF",
             "#FFFFFF",
             "#E5E5E5"
            ],
            [
             "#FFFFFF",
             "#FFFFFF",
             "#FFFFFF",
             "#DEEFFF",
             "#DEEFFF",
             "#FFFFFF",
             "#FFFFFF",
             "#FFFFFF",
             "#F7F7F7",
             "#FFFFFF",
             "#DEEFFF",
             "#FFFFFF",
             "#FFFFFF",
             "#FFFFFF",
             "#FFFFFF",
             "#FFFFFF",
             "#FFFFFF",
             "#DEEFFF",
             "#FFFFFF",
             "#FFFFFF",
             "#FFFFFF",
             "#FFFFFF",
             "#FFFFFF",
             "#FFFFFF",
             "#DEEFFF",
             "#FFFFFF",
             "#FFFFFF",
             "#FFFFFF",
             "#FFFFFF",
             "#FFFFFF",
             "#FFFFFF",
             "#E5E5E5"
            ],
            [
             "#FFFFFF",
             "#FFFFFF",
             "#FFFFFF",
             "#DEEFFF",
             "#DEEFFF",
             "#FFFFFF",
             "#FFFFFF",
             "#FFFFFF",
             "#F7F7F7",
             "#FFFFFF",
             "#DEEFFF",
             "#FFFFFF",
             "#FFFFFF",
             "#FFFFFF",
             "#FFFFFF",
             "#FFFFFF",
             "#FFFFFF",
             "#DEEFFF",
             "#FFFFFF",
             "#FFFFFF",
             "#FFFFFF",
             "#FFFFFF",
             "#FFFFFF",
             "#FFFFFF",
             "#DEEFFF",
             "#FFFFFF",
             "#FFFFFF",
             "#FFFFFF",
             "#FFFFFF",
             "#FFFFFF",
             "#FFFFFF",
             "#E5E5E5"
            ],
            [
             "#FFFFFF",
             "#FFFFFF",
             "#FFFFFF",
             "#DEEFFF",
             "#DEEFFF",
             "#FFFFFF",
             "#FFFFFF",
             "#FFFFFF",
             "#F7F7F7",
             "#FFFFFF",
             "#DEEFFF",
             "#FFFFFF",
             "#FFFFFF",
             "#FFFFFF",
             "#FFFFFF",
             "#FFFFFF",
             "#FFFFFF",
             "#DEEFFF",
             "#FFFFFF",
             "#FFFFFF",
             "#FFFFFF",
             "#FFFFFF",
             "#FFFFFF",
             "#FFFFFF",
             "#DEEFFF",
             "#FFFFFF",
             "#FFFFFF",
             "#FFFFFF",
             "#FFFFFF",
             "#FFFFFF",
             "#FFFFFF",
             "#E5E5E5"
            ],
            [
             "#FFFFFF",
             "#FFFFFF",
             "#FFFFFF",
             "#DEEFFF",
             "#DEEFFF",
             "#FFFFFF",
             "#FFFFFF",
             "#FFFFFF",
             "#F7F7F7",
             "#FFFFFF",
             "#DEEFFF",
             "#FFFFFF",
             "#FFFFFF",
             "#FFFFFF",
             "#FFFFFF",
             "#FFFFFF",
             "#FFFFFF",
             "#DEEFFF",
             "#FFFFFF",
             "#FFFFFF",
             "#FFFFFF",
             "#FFFFFF",
             "#FFFFFF",
             "#FFFFFF",
             "#DEEFFF",
             "#FFFFFF",
             "#FFFFFF",
             "#FFFFFF",
             "#FFFFFF",
             "#FFFFFF",
             "#FFFFFF",
             "#E5E5E5"
            ],
            [
             "#FFFFFF",
             "#FFFFFF",
             "#FFFFFF",
             "#DEEFFF",
             "#DEEFFF",
             "#FFFFFF",
             "#FFFFFF",
             "#FFFFFF",
             "#F7F7F7",
             "#FFFFFF",
             "#DEEFFF",
             "#FFFFFF",
             "#FFFFFF",
             "#FFFFFF",
             "#FFFFFF",
             "#FFFFFF",
             "#FFFFFF",
             "#DEEFFF",
             "#FFFFFF",
             "#FFFFFF",
             "#FFFFFF",
             "#FFFFFF",
             "#FFFFFF",
             "#FFFFFF",
             "#DEEFFF",
             "#FFFFFF",
             "#FFFFFF",
             "#FFFFFF",
             "#FFFFFF",
             "#FFFFFF",
             "#FFFFFF",
             "#E5E5E5"
            ],
            [
             "#FFFFFF",
             "#FFFFFF",
             "#FFFFFF",
             "#DEEFFF",
             "#DEEFFF",
             "#FFFFFF",
             "#FFFFFF",
             "#FFFFFF",
             "#F7F7F7",
             "#FFFFFF",
             "#DEEFFF",
             "#FFFFFF",
             "#FFFFFF",
             "#FFFFFF",
             "#FFFFFF",
             "#FFFFFF",
             "#FFFFFF",
             "#DEEFFF",
             "#FFFFFF",
             "#FFFFFF",
             "#FFFFFF",
             "#FFFFFF",
             "#FFFFFF",
             "#FFFFFF",
             "#DEEFFF",
             "#FFFFFF",
             "#FFFFFF",
             "#FFFFFF",
             "#FFFFFF",
             "#FFFFFF",
             "#FFFFFF",
             "#E5E5E5"
            ],
            [
             "#FFFFFF",
             "#FFFFFF",
             "#FFFFFF",
             "#DEEFFF",
             "#DEEFFF",
             "#FFFFFF",
             "#FFFFFF",
             "#FFFFFF",
             "#F7F7F7",
             "#FFFFFF",
             "#DEEFFF",
             "#FFFFFF",
             "#FFFFFF",
             "#FFFFFF",
             "#FFFFFF",
             "#FFFFFF",
             "#FFFFFF",
             "#DEEFFF",
             "#FFFFFF",
             "#FFFFFF",
             "#FFFFFF",
             "#FFFFFF",
             "#FFFFFF",
             "#FFFFFF",
             "#DEEFFF",
             "#FFFFFF",
             "#FFFFFF",
             "#FFFFFF",
             "#FFFFFF",
             "#FFFFFF",
             "#FFFFFF",
             "#E5E5E5"
            ]
           ],
           "width": 2
          },
          "values": [
           [
            "01/12/2022, Quinta-feira",
            "02/12/2022, Sexta-feira",
            "03/12/2022, Sábado",
            "04/12/2022, Domingo",
            "05/12/2022, Segunda-feira",
            "06/12/2022, Terça-feira",
            "07/12/2022, Quarta-feira",
            "08/12/2022, Quinta-feira",
            "09/12/2022, Sexta-feira",
            "10/12/2022, Sábado",
            "11/12/2022, Domingo",
            "12/12/2022, Segunda-feira",
            "13/12/2022, Terça-feira",
            "14/12/2022, Quarta-feira",
            "15/12/2022, Quinta-feira",
            "16/12/2022, Sexta-feira",
            "17/12/2022, Sábado",
            "18/12/2022, Domingo",
            "19/12/2022, Segunda-feira",
            "20/12/2022, Terça-feira",
            "21/12/2022, Quarta-feira",
            "22/12/2022, Quinta-feira",
            "23/12/2022, Sexta-feira",
            "24/12/2022, Sábado",
            "25/12/2022, Domingo",
            "26/12/2022, Segunda-feira",
            "27/12/2022, Terça-feira",
            "28/12/2022, Quarta-feira",
            "29/12/2022, Quinta-feira",
            "30/12/2022, Sexta-feira",
            "31/12/2022, Sábado",
            "Total"
           ],
           [
            "R$ 126.190,48",
            "R$ 126.190,48",
            "R$ 70.000,00",
            "",
            "",
            "R$ 126.190,48",
            "R$ 126.190,48",
            "R$ 126.190,48",
            "R$ 126.190,48",
            "R$ 70.000,00",
            "",
            "R$ 126.190,48",
            "R$ 126.190,48",
            "R$ 126.190,48",
            "R$ 126.190,48",
            "R$ 126.190,48",
            "R$ 70.000,00",
            "",
            "R$ 126.190,48",
            "R$ 126.190,48",
            "R$ 126.190,48",
            "R$ 126.190,48",
            "R$ 126.190,48",
            "R$ 70.000,00",
            "",
            "R$ 126.190,48",
            "R$ 126.190,48",
            "R$ 126.190,48",
            "R$ 126.190,48",
            "R$ 126.190,48",
            "R$ 70.000,00",
            "R$ 3.000.000,00"
           ],
           [
            "R$ 105.989,58",
            "R$ 74.996,01",
            "R$ 76.997,35",
            "",
            "R$ 79.103,44",
            "R$ 150.117,53",
            "R$ 160.882,75",
            "R$ 152.698,57",
            "R$ 13.432,96",
            "",
            "",
            "",
            "",
            "",
            "",
            "",
            "",
            "",
            "",
            "",
            "",
            "",
            "",
            "",
            "",
            "",
            "",
            "",
            "",
            "",
            "",
            "R$ 814.218,19"
           ],
           [
            "R$ 100.589,34",
            "R$ 71.180,61",
            "R$ 75.207,78",
            "",
            "R$ 74.343,02",
            "R$ 143.217,45",
            "R$ 155.208,90",
            "R$ 145.567,75",
            "R$ 13.262,96",
            "",
            "",
            "",
            "",
            "",
            "",
            "",
            "",
            "",
            "",
            "",
            "",
            "",
            "",
            "",
            "",
            "",
            "",
            "",
            "",
            "",
            "",
            "R$ 778.577,81"
           ],
           [
            "R$ 5.400,24",
            "R$ 3.815,40",
            "R$ 1.789,57",
            "",
            "R$ 4.760,42",
            "R$ 6.900,08",
            "R$ 5.673,85",
            "R$ 7.130,82",
            "R$ 170,00",
            "",
            "",
            "",
            "",
            "",
            "",
            "",
            "",
            "",
            "",
            "",
            "",
            "",
            "",
            "",
            "",
            "",
            "",
            "",
            "",
            "",
            "",
            "R$ 35.640,38"
           ],
           [
            "5,10%",
            "5,09%",
            "2,32%",
            "",
            "6,02%",
            "4,60%",
            "3,53%",
            "4,67%",
            "1,27%",
            "",
            "",
            "",
            "",
            "",
            "",
            "",
            "",
            "",
            "",
            "",
            "",
            "",
            "",
            "",
            "",
            "",
            "",
            "",
            "",
            "",
            "",
            "4,38%"
           ],
           [
            "R$ 93.359,60",
            "R$ 65.479,83",
            "R$ 66.610,97",
            "",
            "R$ 71.491,62",
            "R$ 134.567,82",
            "R$ 145.755,46",
            "R$ 136.756,88",
            "R$ 12.497,66",
            "",
            "",
            "",
            "",
            "",
            "",
            "",
            "",
            "",
            "",
            "",
            "",
            "",
            "",
            "",
            "",
            "",
            "",
            "",
            "",
            "",
            "",
            "R$ 726.519,84"
           ],
           [
            "276",
            "176",
            "207",
            "",
            "202",
            "317",
            "339",
            "328",
            "62",
            "",
            "",
            "",
            "",
            "",
            "",
            "",
            "",
            "",
            "",
            "",
            "",
            "",
            "",
            "",
            "",
            "",
            "",
            "",
            "",
            "",
            "",
            "720"
           ],
           [
            "4,85%",
            "5,70%",
            "2,57%",
            "",
            "5,43%",
            "4,26%",
            "3,68%",
            "4,87%",
            "1,36%",
            "",
            "",
            "",
            "",
            "",
            "",
            "",
            "",
            "",
            "",
            "",
            "",
            "",
            "",
            "",
            "",
            "",
            "",
            "",
            "",
            "",
            "",
            "4,38%"
           ],
           [
            "R$ 7.229,74",
            "R$ 5.700,78",
            "R$ 8.596,81",
            "",
            "R$ 2.851,40",
            "R$ 8.649,63",
            "R$ 9.453,44",
            "R$ 8.810,87",
            "R$ 765,30",
            "",
            "",
            "",
            "",
            "",
            "",
            "",
            "",
            "",
            "",
            "",
            "",
            "",
            "",
            "",
            "",
            "",
            "",
            "",
            "",
            "",
            "",
            "R$ 52.057,97"
           ],
           [
            "47",
            "33",
            "59",
            "",
            "29",
            "50",
            "56",
            "55",
            "6",
            "",
            "",
            "",
            "",
            "",
            "",
            "",
            "",
            "",
            "",
            "",
            "",
            "",
            "",
            "",
            "",
            "",
            "",
            "",
            "",
            "",
            "",
            "335"
           ],
           [
            "12,01%",
            "1,51%",
            "0,91%",
            "",
            "30,78%",
            "13,45%",
            "3,29%",
            "5,31%",
            "",
            "",
            "",
            "",
            "",
            "",
            "",
            "",
            "",
            "",
            "",
            "",
            "",
            "",
            "",
            "",
            "",
            "",
            "",
            "",
            "",
            "",
            "",
            "7,40%"
           ],
           [
            "79,71%",
            "56,41%",
            "107,44%",
            "",
            "",
            "113,49%",
            "123,00%",
            "115,36%",
            "10,51%",
            "",
            "",
            "",
            "",
            "",
            "",
            "",
            "",
            "",
            "",
            "",
            "",
            "",
            "",
            "",
            "",
            "",
            "",
            "",
            "",
            "",
            "",
            "25,95%"
           ],
           [
            "79,71%",
            "68,06%",
            "76,61%",
            "76,61%",
            "99,67%",
            "103,56%",
            "107,83%",
            "109,18%",
            "94,13%",
            "86,78%",
            "86,78%",
            "76,08%",
            "67,73%",
            "61,03%",
            "55,54%",
            "50,95%",
            "48,72%",
            "48,72%",
            "45,15%",
            "42,07%",
            "39,39%",
            "37,02%",
            "34,93%",
            "33,87%",
            "33,87%",
            "32,10%",
            "30,52%",
            "29,08%",
            "27,77%",
            "26,57%",
            "25,95%",
            "25,95%"
           ],
           [
            "R$ 2.391.369,22",
            "R$ 2.041.793,75",
            "R$ 2.298.315,66",
            "R$ 2.298.315,66",
            "R$ 2.990.134,01",
            "R$ 3.106.784,14",
            "R$ 3.234.802,59",
            "R$ 3.275.464,37",
            "R$ 2.823.857,34",
            "R$ 2.603.524,52",
            "R$ 2.603.524,52",
            "R$ 2.282.475,66",
            "R$ 2.031.913,92",
            "R$ 1.830.922,06",
            "R$ 1.666.114,20",
            "R$ 1.528.526,08",
            "R$ 1.461.573,36",
            "R$ 1.461.573,36",
            "R$ 1.354.609,28",
            "R$ 1.262.233,71",
            "R$ 1.181.652,66",
            "R$ 1.110.742,80",
            "R$ 1.047.861,61",
            "R$ 1.015.956,96",
            "R$ 1.015.956,96",
            "R$ 963.094,48",
            "R$ 915.461,03",
            "R$ 872.317,30",
            "R$ 833.057,10",
            "R$ 797.178,65",
            "R$ 778.577,81",
            ""
           ]
          ]
         },
         "columnwidth": [
          10.300925925925926,
          6.592592592592593,
          6.592592592592593,
          6.592592592592593,
          6.592592592592593,
          4.12037037037037,
          6.592592592592593,
          5.356481481481481,
          4.944444444444445,
          6.592592592592593,
          4.944444444444445,
          4.12037037037037,
          2.8842592592592595,
          2.8842592592592595,
          6.592592592592593
         ],
         "domain": {
          "y": [
           0,
           1
          ]
         },
         "header": {
          "align": "center",
          "fill": {
           "color": "#E5E5E5"
          },
          "font": {
           "color": [
            "#000000",
            "#000000",
            "#118DFF",
            "#000000",
            "#FF0000",
            "#FF0000",
            "#E04392",
            "#000000",
            "#FF0000",
            "#E04392",
            "#000000",
            "#FF0000",
            "#000000",
            "#000000",
            "#000000"
           ],
           "family": "Segoe UI Semibold",
           "size": 13.185185185185185
          },
          "line": {
           "color": "#E5E5E5",
           "width": 3
          },
          "values": [
           "Data",
           "Meta",
           "Venda\nSIAC",
           "Venda\nLíquida",
           "Devolução",
           "%\nDev",
           "Venda\nCNPJ",
           "Clientes\nCNPJ",
           "% Dev\nCNPJ",
           "Venda\nCPF",
           "Clientes\nCPF",
           "% Dev\nCPF",
           "%\nDia",
           "%\nMês",
           "Projeção\nmensal"
          ]
         },
         "type": "table"
        }
       ],
       "layout": {
        "height": 890,
        "template": {
         "data": {
          "bar": [
           {
            "error_x": {
             "color": "#2a3f5f"
            },
            "error_y": {
             "color": "#2a3f5f"
            },
            "marker": {
             "line": {
              "color": "#E5ECF6",
              "width": 0.5
             },
             "pattern": {
              "fillmode": "overlay",
              "size": 10,
              "solidity": 0.2
             }
            },
            "type": "bar"
           }
          ],
          "barpolar": [
           {
            "marker": {
             "line": {
              "color": "#E5ECF6",
              "width": 0.5
             },
             "pattern": {
              "fillmode": "overlay",
              "size": 10,
              "solidity": 0.2
             }
            },
            "type": "barpolar"
           }
          ],
          "carpet": [
           {
            "aaxis": {
             "endlinecolor": "#2a3f5f",
             "gridcolor": "white",
             "linecolor": "white",
             "minorgridcolor": "white",
             "startlinecolor": "#2a3f5f"
            },
            "baxis": {
             "endlinecolor": "#2a3f5f",
             "gridcolor": "white",
             "linecolor": "white",
             "minorgridcolor": "white",
             "startlinecolor": "#2a3f5f"
            },
            "type": "carpet"
           }
          ],
          "choropleth": [
           {
            "colorbar": {
             "outlinewidth": 0,
             "ticks": ""
            },
            "type": "choropleth"
           }
          ],
          "contour": [
           {
            "colorbar": {
             "outlinewidth": 0,
             "ticks": ""
            },
            "colorscale": [
             [
              0,
              "#0d0887"
             ],
             [
              0.1111111111111111,
              "#46039f"
             ],
             [
              0.2222222222222222,
              "#7201a8"
             ],
             [
              0.3333333333333333,
              "#9c179e"
             ],
             [
              0.4444444444444444,
              "#bd3786"
             ],
             [
              0.5555555555555556,
              "#d8576b"
             ],
             [
              0.6666666666666666,
              "#ed7953"
             ],
             [
              0.7777777777777778,
              "#fb9f3a"
             ],
             [
              0.8888888888888888,
              "#fdca26"
             ],
             [
              1,
              "#f0f921"
             ]
            ],
            "type": "contour"
           }
          ],
          "contourcarpet": [
           {
            "colorbar": {
             "outlinewidth": 0,
             "ticks": ""
            },
            "type": "contourcarpet"
           }
          ],
          "heatmap": [
           {
            "colorbar": {
             "outlinewidth": 0,
             "ticks": ""
            },
            "colorscale": [
             [
              0,
              "#0d0887"
             ],
             [
              0.1111111111111111,
              "#46039f"
             ],
             [
              0.2222222222222222,
              "#7201a8"
             ],
             [
              0.3333333333333333,
              "#9c179e"
             ],
             [
              0.4444444444444444,
              "#bd3786"
             ],
             [
              0.5555555555555556,
              "#d8576b"
             ],
             [
              0.6666666666666666,
              "#ed7953"
             ],
             [
              0.7777777777777778,
              "#fb9f3a"
             ],
             [
              0.8888888888888888,
              "#fdca26"
             ],
             [
              1,
              "#f0f921"
             ]
            ],
            "type": "heatmap"
           }
          ],
          "heatmapgl": [
           {
            "colorbar": {
             "outlinewidth": 0,
             "ticks": ""
            },
            "colorscale": [
             [
              0,
              "#0d0887"
             ],
             [
              0.1111111111111111,
              "#46039f"
             ],
             [
              0.2222222222222222,
              "#7201a8"
             ],
             [
              0.3333333333333333,
              "#9c179e"
             ],
             [
              0.4444444444444444,
              "#bd3786"
             ],
             [
              0.5555555555555556,
              "#d8576b"
             ],
             [
              0.6666666666666666,
              "#ed7953"
             ],
             [
              0.7777777777777778,
              "#fb9f3a"
             ],
             [
              0.8888888888888888,
              "#fdca26"
             ],
             [
              1,
              "#f0f921"
             ]
            ],
            "type": "heatmapgl"
           }
          ],
          "histogram": [
           {
            "marker": {
             "pattern": {
              "fillmode": "overlay",
              "size": 10,
              "solidity": 0.2
             }
            },
            "type": "histogram"
           }
          ],
          "histogram2d": [
           {
            "colorbar": {
             "outlinewidth": 0,
             "ticks": ""
            },
            "colorscale": [
             [
              0,
              "#0d0887"
             ],
             [
              0.1111111111111111,
              "#46039f"
             ],
             [
              0.2222222222222222,
              "#7201a8"
             ],
             [
              0.3333333333333333,
              "#9c179e"
             ],
             [
              0.4444444444444444,
              "#bd3786"
             ],
             [
              0.5555555555555556,
              "#d8576b"
             ],
             [
              0.6666666666666666,
              "#ed7953"
             ],
             [
              0.7777777777777778,
              "#fb9f3a"
             ],
             [
              0.8888888888888888,
              "#fdca26"
             ],
             [
              1,
              "#f0f921"
             ]
            ],
            "type": "histogram2d"
           }
          ],
          "histogram2dcontour": [
           {
            "colorbar": {
             "outlinewidth": 0,
             "ticks": ""
            },
            "colorscale": [
             [
              0,
              "#0d0887"
             ],
             [
              0.1111111111111111,
              "#46039f"
             ],
             [
              0.2222222222222222,
              "#7201a8"
             ],
             [
              0.3333333333333333,
              "#9c179e"
             ],
             [
              0.4444444444444444,
              "#bd3786"
             ],
             [
              0.5555555555555556,
              "#d8576b"
             ],
             [
              0.6666666666666666,
              "#ed7953"
             ],
             [
              0.7777777777777778,
              "#fb9f3a"
             ],
             [
              0.8888888888888888,
              "#fdca26"
             ],
             [
              1,
              "#f0f921"
             ]
            ],
            "type": "histogram2dcontour"
           }
          ],
          "mesh3d": [
           {
            "colorbar": {
             "outlinewidth": 0,
             "ticks": ""
            },
            "type": "mesh3d"
           }
          ],
          "parcoords": [
           {
            "line": {
             "colorbar": {
              "outlinewidth": 0,
              "ticks": ""
             }
            },
            "type": "parcoords"
           }
          ],
          "pie": [
           {
            "automargin": true,
            "type": "pie"
           }
          ],
          "scatter": [
           {
            "fillpattern": {
             "fillmode": "overlay",
             "size": 10,
             "solidity": 0.2
            },
            "type": "scatter"
           }
          ],
          "scatter3d": [
           {
            "line": {
             "colorbar": {
              "outlinewidth": 0,
              "ticks": ""
             }
            },
            "marker": {
             "colorbar": {
              "outlinewidth": 0,
              "ticks": ""
             }
            },
            "type": "scatter3d"
           }
          ],
          "scattercarpet": [
           {
            "marker": {
             "colorbar": {
              "outlinewidth": 0,
              "ticks": ""
             }
            },
            "type": "scattercarpet"
           }
          ],
          "scattergeo": [
           {
            "marker": {
             "colorbar": {
              "outlinewidth": 0,
              "ticks": ""
             }
            },
            "type": "scattergeo"
           }
          ],
          "scattergl": [
           {
            "marker": {
             "colorbar": {
              "outlinewidth": 0,
              "ticks": ""
             }
            },
            "type": "scattergl"
           }
          ],
          "scattermapbox": [
           {
            "marker": {
             "colorbar": {
              "outlinewidth": 0,
              "ticks": ""
             }
            },
            "type": "scattermapbox"
           }
          ],
          "scatterpolar": [
           {
            "marker": {
             "colorbar": {
              "outlinewidth": 0,
              "ticks": ""
             }
            },
            "type": "scatterpolar"
           }
          ],
          "scatterpolargl": [
           {
            "marker": {
             "colorbar": {
              "outlinewidth": 0,
              "ticks": ""
             }
            },
            "type": "scatterpolargl"
           }
          ],
          "scatterternary": [
           {
            "marker": {
             "colorbar": {
              "outlinewidth": 0,
              "ticks": ""
             }
            },
            "type": "scatterternary"
           }
          ],
          "surface": [
           {
            "colorbar": {
             "outlinewidth": 0,
             "ticks": ""
            },
            "colorscale": [
             [
              0,
              "#0d0887"
             ],
             [
              0.1111111111111111,
              "#46039f"
             ],
             [
              0.2222222222222222,
              "#7201a8"
             ],
             [
              0.3333333333333333,
              "#9c179e"
             ],
             [
              0.4444444444444444,
              "#bd3786"
             ],
             [
              0.5555555555555556,
              "#d8576b"
             ],
             [
              0.6666666666666666,
              "#ed7953"
             ],
             [
              0.7777777777777778,
              "#fb9f3a"
             ],
             [
              0.8888888888888888,
              "#fdca26"
             ],
             [
              1,
              "#f0f921"
             ]
            ],
            "type": "surface"
           }
          ],
          "table": [
           {
            "cells": {
             "fill": {
              "color": "#EBF0F8"
             },
             "line": {
              "color": "white"
             }
            },
            "header": {
             "fill": {
              "color": "#C8D4E3"
             },
             "line": {
              "color": "white"
             }
            },
            "type": "table"
           }
          ]
         },
         "layout": {
          "annotationdefaults": {
           "arrowcolor": "#2a3f5f",
           "arrowhead": 0,
           "arrowwidth": 1
          },
          "autotypenumbers": "strict",
          "coloraxis": {
           "colorbar": {
            "outlinewidth": 0,
            "ticks": ""
           }
          },
          "colorscale": {
           "diverging": [
            [
             0,
             "#8e0152"
            ],
            [
             0.1,
             "#c51b7d"
            ],
            [
             0.2,
             "#de77ae"
            ],
            [
             0.3,
             "#f1b6da"
            ],
            [
             0.4,
             "#fde0ef"
            ],
            [
             0.5,
             "#f7f7f7"
            ],
            [
             0.6,
             "#e6f5d0"
            ],
            [
             0.7,
             "#b8e186"
            ],
            [
             0.8,
             "#7fbc41"
            ],
            [
             0.9,
             "#4d9221"
            ],
            [
             1,
             "#276419"
            ]
           ],
           "sequential": [
            [
             0,
             "#0d0887"
            ],
            [
             0.1111111111111111,
             "#46039f"
            ],
            [
             0.2222222222222222,
             "#7201a8"
            ],
            [
             0.3333333333333333,
             "#9c179e"
            ],
            [
             0.4444444444444444,
             "#bd3786"
            ],
            [
             0.5555555555555556,
             "#d8576b"
            ],
            [
             0.6666666666666666,
             "#ed7953"
            ],
            [
             0.7777777777777778,
             "#fb9f3a"
            ],
            [
             0.8888888888888888,
             "#fdca26"
            ],
            [
             1,
             "#f0f921"
            ]
           ],
           "sequentialminus": [
            [
             0,
             "#0d0887"
            ],
            [
             0.1111111111111111,
             "#46039f"
            ],
            [
             0.2222222222222222,
             "#7201a8"
            ],
            [
             0.3333333333333333,
             "#9c179e"
            ],
            [
             0.4444444444444444,
             "#bd3786"
            ],
            [
             0.5555555555555556,
             "#d8576b"
            ],
            [
             0.6666666666666666,
             "#ed7953"
            ],
            [
             0.7777777777777778,
             "#fb9f3a"
            ],
            [
             0.8888888888888888,
             "#fdca26"
            ],
            [
             1,
             "#f0f921"
            ]
           ]
          },
          "colorway": [
           "#636efa",
           "#EF553B",
           "#00cc96",
           "#ab63fa",
           "#FFA15A",
           "#19d3f3",
           "#FF6692",
           "#B6E880",
           "#FF97FF",
           "#FECB52"
          ],
          "font": {
           "color": "#2a3f5f"
          },
          "geo": {
           "bgcolor": "white",
           "lakecolor": "white",
           "landcolor": "#E5ECF6",
           "showlakes": true,
           "showland": true,
           "subunitcolor": "white"
          },
          "hoverlabel": {
           "align": "left"
          },
          "hovermode": "closest",
          "mapbox": {
           "style": "light"
          },
          "paper_bgcolor": "white",
          "plot_bgcolor": "#E5ECF6",
          "polar": {
           "angularaxis": {
            "gridcolor": "white",
            "linecolor": "white",
            "ticks": ""
           },
           "bgcolor": "#E5ECF6",
           "radialaxis": {
            "gridcolor": "white",
            "linecolor": "white",
            "ticks": ""
           }
          },
          "scene": {
           "xaxis": {
            "backgroundcolor": "#E5ECF6",
            "gridcolor": "white",
            "gridwidth": 2,
            "linecolor": "white",
            "showbackground": true,
            "ticks": "",
            "zerolinecolor": "white"
           },
           "yaxis": {
            "backgroundcolor": "#E5ECF6",
            "gridcolor": "white",
            "gridwidth": 2,
            "linecolor": "white",
            "showbackground": true,
            "ticks": "",
            "zerolinecolor": "white"
           },
           "zaxis": {
            "backgroundcolor": "#E5ECF6",
            "gridcolor": "white",
            "gridwidth": 2,
            "linecolor": "white",
            "showbackground": true,
            "ticks": "",
            "zerolinecolor": "white"
           }
          },
          "shapedefaults": {
           "line": {
            "color": "#2a3f5f"
           }
          },
          "ternary": {
           "aaxis": {
            "gridcolor": "white",
            "linecolor": "white",
            "ticks": ""
           },
           "baxis": {
            "gridcolor": "white",
            "linecolor": "white",
            "ticks": ""
           },
           "bgcolor": "#E5ECF6",
           "caxis": {
            "gridcolor": "white",
            "linecolor": "white",
            "ticks": ""
           }
          },
          "title": {
           "x": 0.05
          },
          "xaxis": {
           "automargin": true,
           "gridcolor": "white",
           "linecolor": "white",
           "ticks": "",
           "title": {
            "standoff": 15
           },
           "zerolinecolor": "white",
           "zerolinewidth": 2
          },
          "yaxis": {
           "automargin": true,
           "gridcolor": "white",
           "linecolor": "white",
           "ticks": "",
           "title": {
            "standoff": 15
           },
           "zerolinecolor": "white",
           "zerolinewidth": 2
          }
         }
        },
        "title": {
         "font": {
          "color": "#008080",
          "family": "Jost",
          "size": 24.72222222222222
         },
         "text": "◙◙◙◙◙◙◙◙◙◙ 🡆 CEILÂNDIA 🡄 ◙◙◙◙◙◙◙◙◙◙◙◙◙◙◙◙◙◙◙◙◙◙◙◙◙◙◙◙◙◙◙◙◙◙◙◙◙◙◙◙◙◙◙◙◙◙◙◙◙◙◙◙◙◙◙◙◙◙◙◙◙◙◙◙◙◙◙◙◙◙◙◙◙◙◙◙ ⒸⒺⒾⓁⒶⓃⒹⒾⒶ ◙◙◙◙◙◙◙◙◙◙",
         "x": 0.5,
         "y": 0.95,
         "yanchor": "bottom"
        },
        "width": 2060
       }
      }
     },
     "metadata": {},
     "output_type": "display_data"
    },
    {
     "name": "stdout",
     "output_type": "stream",
     "text": [
      "TESTE 04 TABLE.png\n",
      "\n",
      "09-12-2022 PrimeiraFoto - https://chat.whatsapp.com/LK4LDajkH52BNydoLGGD2d\n",
      "09-12-2022 API - https://chat.whatsapp.com/EBLX0fxYfvuHL7jZ9CZECQ\n",
      "09-12-2022 Teste Python - https://chat.whatsapp.com/I4y7EAVfns629NvfoLUtGI\n",
      "\n",
      "• '05' GAMA\n",
      "\n"
     ]
    },
    {
     "name": "stderr",
     "output_type": "stream",
     "text": [
      "C:\\Users\\admin\\AppData\\Local\\Temp\\ipykernel_19088\\1060041187.py:86: RuntimeWarning:\n",
      "\n",
      "divide by zero encountered in double_scalars\n",
      "\n"
     ]
    },
    {
     "data": {
      "application/vnd.plotly.v1+json": {
       "config": {
        "plotlyServerURL": "https://plot.ly"
       },
       "data": [
        {
         "cells": {
          "align": [
           "left",
           "center"
          ],
          "fill": {
           "color": [
            [
             "#FFFFFF",
             "#FFFFFF",
             "#FFFFFF",
             "#DEEFFF",
             "#DEEFFF",
             "#FFFFFF",
             "#FFFFFF",
             "#FFFFFF",
             "#F7F7F7",
             "#FFFFFF",
             "#DEEFFF",
             "#FFFFFF",
             "#FFFFFF",
             "#FFFFFF",
             "#FFFFFF",
             "#FFFFFF",
             "#FFFFFF",
             "#DEEFFF",
             "#FFFFFF",
             "#FFFFFF",
             "#FFFFFF",
             "#FFFFFF",
             "#FFFFFF",
             "#FFFFFF",
             "#DEEFFF",
             "#FFFFFF",
             "#FFFFFF",
             "#FFFFFF",
             "#FFFFFF",
             "#FFFFFF",
             "#FFFFFF",
             "#E5E5E5"
            ],
            [
             "#FFFFFF",
             "#FFFFFF",
             "#FFFFFF",
             "#DEEFFF",
             "#DEEFFF",
             "#FFFFFF",
             "#FFFFFF",
             "#FFFFFF",
             "#F7F7F7",
             "#FFFFFF",
             "#DEEFFF",
             "#FFFFFF",
             "#FFFFFF",
             "#FFFFFF",
             "#FFFFFF",
             "#FFFFFF",
             "#FFFFFF",
             "#DEEFFF",
             "#FFFFFF",
             "#FFFFFF",
             "#FFFFFF",
             "#FFFFFF",
             "#FFFFFF",
             "#FFFFFF",
             "#DEEFFF",
             "#FFFFFF",
             "#FFFFFF",
             "#FFFFFF",
             "#FFFFFF",
             "#FFFFFF",
             "#FFFFFF",
             "#E5E5E5"
            ],
            [
             "#F7F7F7",
             "#F7F7F7",
             "#F7F7F7",
             "#DEEFFF",
             "#DEEFFF",
             "#F7F7F7",
             "#F7F7F7",
             "#F7F7F7",
             "#F7F7F7",
             "#F7F7F7",
             "#DEEFFF",
             "#F7F7F7",
             "#F7F7F7",
             "#F7F7F7",
             "#F7F7F7",
             "#F7F7F7",
             "#F7F7F7",
             "#DEEFFF",
             "#F7F7F7",
             "#F7F7F7",
             "#F7F7F7",
             "#F7F7F7",
             "#F7F7F7",
             "#F7F7F7",
             "#DEEFFF",
             "#F7F7F7",
             "#F7F7F7",
             "#F7F7F7",
             "#F7F7F7",
             "#F7F7F7",
             "#F7F7F7",
             "#E5E5E5"
            ],
            [
             "#F7F7F7",
             "#F7F7F7",
             "#F7F7F7",
             "#DEEFFF",
             "#DEEFFF",
             "#F7F7F7",
             "#F7F7F7",
             "#F7F7F7",
             "#F7F7F7",
             "#F7F7F7",
             "#DEEFFF",
             "#F7F7F7",
             "#F7F7F7",
             "#F7F7F7",
             "#F7F7F7",
             "#F7F7F7",
             "#F7F7F7",
             "#DEEFFF",
             "#F7F7F7",
             "#F7F7F7",
             "#F7F7F7",
             "#F7F7F7",
             "#F7F7F7",
             "#F7F7F7",
             "#DEEFFF",
             "#F7F7F7",
             "#F7F7F7",
             "#F7F7F7",
             "#F7F7F7",
             "#F7F7F7",
             "#F7F7F7",
             "#E5E5E5"
            ],
            [
             "#FFFFFF",
             "#FFFFFF",
             "#FFFFFF",
             "#DEEFFF",
             "#DEEFFF",
             "#FFFFFF",
             "#FFFFFF",
             "#FFFFFF",
             "#F7F7F7",
             "#FFFFFF",
             "#DEEFFF",
             "#FFFFFF",
             "#FFFFFF",
             "#FFFFFF",
             "#FFFFFF",
             "#FFFFFF",
             "#FFFFFF",
             "#DEEFFF",
             "#FFFFFF",
             "#FFFFFF",
             "#FFFFFF",
             "#FFFFFF",
             "#FFFFFF",
             "#FFFFFF",
             "#DEEFFF",
             "#FFFFFF",
             "#FFFFFF",
             "#FFFFFF",
             "#FFFFFF",
             "#FFFFFF",
             "#FFFFFF",
             "#E5E5E5"
            ],
            [
             "#FFFFFF",
             "#FFFFFF",
             "#FFFFFF",
             "#DEEFFF",
             "#DEEFFF",
             "#FFFFFF",
             "#FFFFFF",
             "#FFFFFF",
             "#F7F7F7",
             "#FFFFFF",
             "#DEEFFF",
             "#FFFFFF",
             "#FFFFFF",
             "#FFFFFF",
             "#FFFFFF",
             "#FFFFFF",
             "#FFFFFF",
             "#DEEFFF",
             "#FFFFFF",
             "#FFFFFF",
             "#FFFFFF",
             "#FFFFFF",
             "#FFFFFF",
             "#FFFFFF",
             "#DEEFFF",
             "#FFFFFF",
             "#FFFFFF",
             "#FFFFFF",
             "#FFFFFF",
             "#FFFFFF",
             "#FFFFFF",
             "#E5E5E5"
            ],
            [
             "#F7F7F7",
             "#F7F7F7",
             "#F7F7F7",
             "#DEEFFF",
             "#DEEFFF",
             "#F7F7F7",
             "#F7F7F7",
             "#F7F7F7",
             "#F7F7F7",
             "#F7F7F7",
             "#DEEFFF",
             "#F7F7F7",
             "#F7F7F7",
             "#F7F7F7",
             "#F7F7F7",
             "#F7F7F7",
             "#F7F7F7",
             "#DEEFFF",
             "#F7F7F7",
             "#F7F7F7",
             "#F7F7F7",
             "#F7F7F7",
             "#F7F7F7",
             "#F7F7F7",
             "#DEEFFF",
             "#F7F7F7",
             "#F7F7F7",
             "#F7F7F7",
             "#F7F7F7",
             "#F7F7F7",
             "#F7F7F7",
             "#E5E5E5"
            ],
            [
             "#FFFFFF",
             "#FFFFFF",
             "#FFFFFF",
             "#DEEFFF",
             "#DEEFFF",
             "#FFFFFF",
             "#FFFFFF",
             "#FFFFFF",
             "#F7F7F7",
             "#FFFFFF",
             "#DEEFFF",
             "#FFFFFF",
             "#FFFFFF",
             "#FFFFFF",
             "#FFFFFF",
             "#FFFFFF",
             "#FFFFFF",
             "#DEEFFF",
             "#FFFFFF",
             "#FFFFFF",
             "#FFFFFF",
             "#FFFFFF",
             "#FFFFFF",
             "#FFFFFF",
             "#DEEFFF",
             "#FFFFFF",
             "#FFFFFF",
             "#FFFFFF",
             "#FFFFFF",
             "#FFFFFF",
             "#FFFFFF",
             "#E5E5E5"
            ],
            [
             "#FFFFFF",
             "#FFFFFF",
             "#FFFFFF",
             "#DEEFFF",
             "#DEEFFF",
             "#FFFFFF",
             "#FFFFFF",
             "#FFFFFF",
             "#F7F7F7",
             "#FFFFFF",
             "#DEEFFF",
             "#FFFFFF",
             "#FFFFFF",
             "#FFFFFF",
             "#FFFFFF",
             "#FFFFFF",
             "#FFFFFF",
             "#DEEFFF",
             "#FFFFFF",
             "#FFFFFF",
             "#FFFFFF",
             "#FFFFFF",
             "#FFFFFF",
             "#FFFFFF",
             "#DEEFFF",
             "#FFFFFF",
             "#FFFFFF",
             "#FFFFFF",
             "#FFFFFF",
             "#FFFFFF",
             "#FFFFFF",
             "#E5E5E5"
            ],
            [
             "#F7F7F7",
             "#F7F7F7",
             "#F7F7F7",
             "#DEEFFF",
             "#DEEFFF",
             "#F7F7F7",
             "#F7F7F7",
             "#F7F7F7",
             "#F7F7F7",
             "#F7F7F7",
             "#DEEFFF",
             "#F7F7F7",
             "#F7F7F7",
             "#F7F7F7",
             "#F7F7F7",
             "#F7F7F7",
             "#F7F7F7",
             "#DEEFFF",
             "#F7F7F7",
             "#F7F7F7",
             "#F7F7F7",
             "#F7F7F7",
             "#F7F7F7",
             "#F7F7F7",
             "#DEEFFF",
             "#F7F7F7",
             "#F7F7F7",
             "#F7F7F7",
             "#F7F7F7",
             "#F7F7F7",
             "#F7F7F7",
             "#E5E5E5"
            ],
            [
             "#FFFFFF",
             "#FFFFFF",
             "#FFFFFF",
             "#DEEFFF",
             "#DEEFFF",
             "#FFFFFF",
             "#FFFFFF",
             "#FFFFFF",
             "#F7F7F7",
             "#FFFFFF",
             "#DEEFFF",
             "#FFFFFF",
             "#FFFFFF",
             "#FFFFFF",
             "#FFFFFF",
             "#FFFFFF",
             "#FFFFFF",
             "#DEEFFF",
             "#FFFFFF",
             "#FFFFFF",
             "#FFFFFF",
             "#FFFFFF",
             "#FFFFFF",
             "#FFFFFF",
             "#DEEFFF",
             "#FFFFFF",
             "#FFFFFF",
             "#FFFFFF",
             "#FFFFFF",
             "#FFFFFF",
             "#FFFFFF",
             "#E5E5E5"
            ],
            [
             "#FFFFFF",
             "#FFFFFF",
             "#FFFFFF",
             "#DEEFFF",
             "#DEEFFF",
             "#FFFFFF",
             "#FFFFFF",
             "#FFFFFF",
             "#F7F7F7",
             "#FFFFFF",
             "#DEEFFF",
             "#FFFFFF",
             "#FFFFFF",
             "#FFFFFF",
             "#FFFFFF",
             "#FFFFFF",
             "#FFFFFF",
             "#DEEFFF",
             "#FFFFFF",
             "#FFFFFF",
             "#FFFFFF",
             "#FFFFFF",
             "#FFFFFF",
             "#FFFFFF",
             "#DEEFFF",
             "#FFFFFF",
             "#FFFFFF",
             "#FFFFFF",
             "#FFFFFF",
             "#FFFFFF",
             "#FFFFFF",
             "#E5E5E5"
            ],
            [
             "#FFFFFF",
             "#FFFFFF",
             "#FFFFFF",
             "#DEEFFF",
             "#DEEFFF",
             "#FFFFFF",
             "#FFFFFF",
             "#FFFFFF",
             "#F7F7F7",
             "#FFFFFF",
             "#DEEFFF",
             "#FFFFFF",
             "#FFFFFF",
             "#FFFFFF",
             "#FFFFFF",
             "#FFFFFF",
             "#FFFFFF",
             "#DEEFFF",
             "#FFFFFF",
             "#FFFFFF",
             "#FFFFFF",
             "#FFFFFF",
             "#FFFFFF",
             "#FFFFFF",
             "#DEEFFF",
             "#FFFFFF",
             "#FFFFFF",
             "#FFFFFF",
             "#FFFFFF",
             "#FFFFFF",
             "#FFFFFF",
             "#E5E5E5"
            ],
            [
             "#FFFFFF",
             "#FFFFFF",
             "#FFFFFF",
             "#DEEFFF",
             "#DEEFFF",
             "#FFFFFF",
             "#FFFFFF",
             "#FFFFFF",
             "#F7F7F7",
             "#FFFFFF",
             "#DEEFFF",
             "#FFFFFF",
             "#FFFFFF",
             "#FFFFFF",
             "#FFFFFF",
             "#FFFFFF",
             "#FFFFFF",
             "#DEEFFF",
             "#FFFFFF",
             "#FFFFFF",
             "#FFFFFF",
             "#FFFFFF",
             "#FFFFFF",
             "#FFFFFF",
             "#DEEFFF",
             "#FFFFFF",
             "#FFFFFF",
             "#FFFFFF",
             "#FFFFFF",
             "#FFFFFF",
             "#FFFFFF",
             "#E5E5E5"
            ],
            [
             "#FFFFFF",
             "#FFFFFF",
             "#FFFFFF",
             "#DEEFFF",
             "#DEEFFF",
             "#FFFFFF",
             "#FFFFFF",
             "#FFFFFF",
             "#F7F7F7",
             "#FFFFFF",
             "#DEEFFF",
             "#FFFFFF",
             "#FFFFFF",
             "#FFFFFF",
             "#FFFFFF",
             "#FFFFFF",
             "#FFFFFF",
             "#DEEFFF",
             "#FFFFFF",
             "#FFFFFF",
             "#FFFFFF",
             "#FFFFFF",
             "#FFFFFF",
             "#FFFFFF",
             "#DEEFFF",
             "#FFFFFF",
             "#FFFFFF",
             "#FFFFFF",
             "#FFFFFF",
             "#FFFFFF",
             "#FFFFFF",
             "#E5E5E5"
            ],
            [
             "#FFFFFF",
             "#FFFFFF",
             "#FFFFFF",
             "#DEEFFF",
             "#DEEFFF",
             "#FFFFFF",
             "#FFFFFF",
             "#FFFFFF",
             "#F7F7F7",
             "#FFFFFF",
             "#DEEFFF",
             "#FFFFFF",
             "#FFFFFF",
             "#FFFFFF",
             "#FFFFFF",
             "#FFFFFF",
             "#FFFFFF",
             "#DEEFFF",
             "#FFFFFF",
             "#FFFFFF",
             "#FFFFFF",
             "#FFFFFF",
             "#FFFFFF",
             "#FFFFFF",
             "#DEEFFF",
             "#FFFFFF",
             "#FFFFFF",
             "#FFFFFF",
             "#FFFFFF",
             "#FFFFFF",
             "#FFFFFF",
             "#E5E5E5"
            ],
            [
             "#FFFFFF",
             "#FFFFFF",
             "#FFFFFF",
             "#DEEFFF",
             "#DEEFFF",
             "#FFFFFF",
             "#FFFFFF",
             "#FFFFFF",
             "#F7F7F7",
             "#FFFFFF",
             "#DEEFFF",
             "#FFFFFF",
             "#FFFFFF",
             "#FFFFFF",
             "#FFFFFF",
             "#FFFFFF",
             "#FFFFFF",
             "#DEEFFF",
             "#FFFFFF",
             "#FFFFFF",
             "#FFFFFF",
             "#FFFFFF",
             "#FFFFFF",
             "#FFFFFF",
             "#DEEFFF",
             "#FFFFFF",
             "#FFFFFF",
             "#FFFFFF",
             "#FFFFFF",
             "#FFFFFF",
             "#FFFFFF",
             "#E5E5E5"
            ],
            [
             "#FFFFFF",
             "#FFFFFF",
             "#FFFFFF",
             "#DEEFFF",
             "#DEEFFF",
             "#FFFFFF",
             "#FFFFFF",
             "#FFFFFF",
             "#F7F7F7",
             "#FFFFFF",
             "#DEEFFF",
             "#FFFFFF",
             "#FFFFFF",
             "#FFFFFF",
             "#FFFFFF",
             "#FFFFFF",
             "#FFFFFF",
             "#DEEFFF",
             "#FFFFFF",
             "#FFFFFF",
             "#FFFFFF",
             "#FFFFFF",
             "#FFFFFF",
             "#FFFFFF",
             "#DEEFFF",
             "#FFFFFF",
             "#FFFFFF",
             "#FFFFFF",
             "#FFFFFF",
             "#FFFFFF",
             "#FFFFFF",
             "#E5E5E5"
            ],
            [
             "#FFFFFF",
             "#FFFFFF",
             "#FFFFFF",
             "#DEEFFF",
             "#DEEFFF",
             "#FFFFFF",
             "#FFFFFF",
             "#FFFFFF",
             "#F7F7F7",
             "#FFFFFF",
             "#DEEFFF",
             "#FFFFFF",
             "#FFFFFF",
             "#FFFFFF",
             "#FFFFFF",
             "#FFFFFF",
             "#FFFFFF",
             "#DEEFFF",
             "#FFFFFF",
             "#FFFFFF",
             "#FFFFFF",
             "#FFFFFF",
             "#FFFFFF",
             "#FFFFFF",
             "#DEEFFF",
             "#FFFFFF",
             "#FFFFFF",
             "#FFFFFF",
             "#FFFFFF",
             "#FFFFFF",
             "#FFFFFF",
             "#E5E5E5"
            ],
            [
             "#FFFFFF",
             "#FFFFFF",
             "#FFFFFF",
             "#DEEFFF",
             "#DEEFFF",
             "#FFFFFF",
             "#FFFFFF",
             "#FFFFFF",
             "#F7F7F7",
             "#FFFFFF",
             "#DEEFFF",
             "#FFFFFF",
             "#FFFFFF",
             "#FFFFFF",
             "#FFFFFF",
             "#FFFFFF",
             "#FFFFFF",
             "#DEEFFF",
             "#FFFFFF",
             "#FFFFFF",
             "#FFFFFF",
             "#FFFFFF",
             "#FFFFFF",
             "#FFFFFF",
             "#DEEFFF",
             "#FFFFFF",
             "#FFFFFF",
             "#FFFFFF",
             "#FFFFFF",
             "#FFFFFF",
             "#FFFFFF",
             "#E5E5E5"
            ],
            [
             "#FFFFFF",
             "#FFFFFF",
             "#FFFFFF",
             "#DEEFFF",
             "#DEEFFF",
             "#FFFFFF",
             "#FFFFFF",
             "#FFFFFF",
             "#F7F7F7",
             "#FFFFFF",
             "#DEEFFF",
             "#FFFFFF",
             "#FFFFFF",
             "#FFFFFF",
             "#FFFFFF",
             "#FFFFFF",
             "#FFFFFF",
             "#DEEFFF",
             "#FFFFFF",
             "#FFFFFF",
             "#FFFFFF",
             "#FFFFFF",
             "#FFFFFF",
             "#FFFFFF",
             "#DEEFFF",
             "#FFFFFF",
             "#FFFFFF",
             "#FFFFFF",
             "#FFFFFF",
             "#FFFFFF",
             "#FFFFFF",
             "#E5E5E5"
            ],
            [
             "#FFFFFF",
             "#FFFFFF",
             "#FFFFFF",
             "#DEEFFF",
             "#DEEFFF",
             "#FFFFFF",
             "#FFFFFF",
             "#FFFFFF",
             "#F7F7F7",
             "#FFFFFF",
             "#DEEFFF",
             "#FFFFFF",
             "#FFFFFF",
             "#FFFFFF",
             "#FFFFFF",
             "#FFFFFF",
             "#FFFFFF",
             "#DEEFFF",
             "#FFFFFF",
             "#FFFFFF",
             "#FFFFFF",
             "#FFFFFF",
             "#FFFFFF",
             "#FFFFFF",
             "#DEEFFF",
             "#FFFFFF",
             "#FFFFFF",
             "#FFFFFF",
             "#FFFFFF",
             "#FFFFFF",
             "#FFFFFF",
             "#E5E5E5"
            ]
           ]
          },
          "font": {
           "color": [
            "#000000",
            "#000000",
            "#118DFF",
            "#000000",
            "#FF0000",
            "#FF0000",
            "#E04392",
            "#000000",
            "#FF0000",
            "#E04392",
            "#000000",
            "#FF0000",
            [
             "#FF0000",
             "#FF0000",
             "#00B050",
             "#DEEFFF",
             "#DEEFFF",
             "#00B050",
             "#00B050",
             "#00B050",
             "#FF0000",
             "#FFFFFF",
             "#DEEFFF",
             "#FFFFFF",
             "#FFFFFF",
             "#FFFFFF",
             "#FFFFFF",
             "#FFFFFF",
             "#FFFFFF",
             "#DEEFFF",
             "#FFFFFF",
             "#FFFFFF",
             "#FFFFFF",
             "#FFFFFF",
             "#FFFFFF",
             "#FFFFFF",
             "#DEEFFF",
             "#FFFFFF",
             "#FFFFFF",
             "#FFFFFF",
             "#FFFFFF",
             "#FFFFFF",
             "#FFFFFF",
             "#E5E5E5"
            ],
            [
             "#FF0000",
             "#FF0000",
             "#FF0000",
             "#DEEFFF",
             "#DEEFFF",
             "#00B050",
             "#00B050",
             "#00B050",
             "#FF0000",
             "#FFFFFF",
             "#DEEFFF",
             "#FFFFFF",
             "#FFFFFF",
             "#FFFFFF",
             "#FFFFFF",
             "#FFFFFF",
             "#FFFFFF",
             "#DEEFFF",
             "#FFFFFF",
             "#FFFFFF",
             "#FFFFFF",
             "#FFFFFF",
             "#FFFFFF",
             "#FFFFFF",
             "#DEEFFF",
             "#FFFFFF",
             "#FFFFFF",
             "#FFFFFF",
             "#FFFFFF",
             "#FFFFFF",
             "#FFFFFF",
             "#E5E5E5"
            ],
            [
             "#000000",
             "#000000",
             "#000000",
             "#DEEFFF",
             "#DEEFFF",
             "#000000",
             "#000000",
             "#000000",
             "#000000",
             "#FFFFFF",
             "#DEEFFF",
             "#FFFFFF",
             "#FFFFFF",
             "#FFFFFF",
             "#FFFFFF",
             "#FFFFFF",
             "#FFFFFF",
             "#DEEFFF",
             "#FFFFFF",
             "#FFFFFF",
             "#FFFFFF",
             "#FFFFFF",
             "#FFFFFF",
             "#FFFFFF",
             "#DEEFFF",
             "#FFFFFF",
             "#FFFFFF",
             "#FFFFFF",
             "#FFFFFF",
             "#FFFFFF",
             "#FFFFFF",
             "#118DFF"
            ]
           ],
           "family": "Segoe UI Semibold",
           "size": 13.185185185185185
          },
          "line": {
           "color": [
            [
             "#FFFFFF",
             "#FFFFFF",
             "#FFFFFF",
             "#DEEFFF",
             "#DEEFFF",
             "#FFFFFF",
             "#FFFFFF",
             "#FFFFFF",
             "#F7F7F7",
             "#FFFFFF",
             "#DEEFFF",
             "#FFFFFF",
             "#FFFFFF",
             "#FFFFFF",
             "#FFFFFF",
             "#FFFFFF",
             "#FFFFFF",
             "#DEEFFF",
             "#FFFFFF",
             "#FFFFFF",
             "#FFFFFF",
             "#FFFFFF",
             "#FFFFFF",
             "#FFFFFF",
             "#DEEFFF",
             "#FFFFFF",
             "#FFFFFF",
             "#FFFFFF",
             "#FFFFFF",
             "#FFFFFF",
             "#FFFFFF",
             "#E5E5E5"
            ],
            [
             "#FFFFFF",
             "#FFFFFF",
             "#FFFFFF",
             "#DEEFFF",
             "#DEEFFF",
             "#FFFFFF",
             "#FFFFFF",
             "#FFFFFF",
             "#F7F7F7",
             "#FFFFFF",
             "#DEEFFF",
             "#FFFFFF",
             "#FFFFFF",
             "#FFFFFF",
             "#FFFFFF",
             "#FFFFFF",
             "#FFFFFF",
             "#DEEFFF",
             "#FFFFFF",
             "#FFFFFF",
             "#FFFFFF",
             "#FFFFFF",
             "#FFFFFF",
             "#FFFFFF",
             "#DEEFFF",
             "#FFFFFF",
             "#FFFFFF",
             "#FFFFFF",
             "#FFFFFF",
             "#FFFFFF",
             "#FFFFFF",
             "#E5E5E5"
            ],
            [
             "#F7F7F7",
             "#F7F7F7",
             "#F7F7F7",
             "#DEEFFF",
             "#DEEFFF",
             "#F7F7F7",
             "#F7F7F7",
             "#F7F7F7",
             "#F7F7F7",
             "#F7F7F7",
             "#DEEFFF",
             "#F7F7F7",
             "#F7F7F7",
             "#F7F7F7",
             "#F7F7F7",
             "#F7F7F7",
             "#F7F7F7",
             "#DEEFFF",
             "#F7F7F7",
             "#F7F7F7",
             "#F7F7F7",
             "#F7F7F7",
             "#F7F7F7",
             "#F7F7F7",
             "#DEEFFF",
             "#F7F7F7",
             "#F7F7F7",
             "#F7F7F7",
             "#F7F7F7",
             "#F7F7F7",
             "#F7F7F7",
             "#E5E5E5"
            ],
            [
             "#F7F7F7",
             "#F7F7F7",
             "#F7F7F7",
             "#DEEFFF",
             "#DEEFFF",
             "#F7F7F7",
             "#F7F7F7",
             "#F7F7F7",
             "#F7F7F7",
             "#F7F7F7",
             "#DEEFFF",
             "#F7F7F7",
             "#F7F7F7",
             "#F7F7F7",
             "#F7F7F7",
             "#F7F7F7",
             "#F7F7F7",
             "#DEEFFF",
             "#F7F7F7",
             "#F7F7F7",
             "#F7F7F7",
             "#F7F7F7",
             "#F7F7F7",
             "#F7F7F7",
             "#DEEFFF",
             "#F7F7F7",
             "#F7F7F7",
             "#F7F7F7",
             "#F7F7F7",
             "#F7F7F7",
             "#F7F7F7",
             "#E5E5E5"
            ],
            [
             "#FFFFFF",
             "#FFFFFF",
             "#FFFFFF",
             "#DEEFFF",
             "#DEEFFF",
             "#FFFFFF",
             "#FFFFFF",
             "#FFFFFF",
             "#F7F7F7",
             "#FFFFFF",
             "#DEEFFF",
             "#FFFFFF",
             "#FFFFFF",
             "#FFFFFF",
             "#FFFFFF",
             "#FFFFFF",
             "#FFFFFF",
             "#DEEFFF",
             "#FFFFFF",
             "#FFFFFF",
             "#FFFFFF",
             "#FFFFFF",
             "#FFFFFF",
             "#FFFFFF",
             "#DEEFFF",
             "#FFFFFF",
             "#FFFFFF",
             "#FFFFFF",
             "#FFFFFF",
             "#FFFFFF",
             "#FFFFFF",
             "#E5E5E5"
            ],
            [
             "#FFFFFF",
             "#FFFFFF",
             "#FFFFFF",
             "#DEEFFF",
             "#DEEFFF",
             "#FFFFFF",
             "#FFFFFF",
             "#FFFFFF",
             "#F7F7F7",
             "#FFFFFF",
             "#DEEFFF",
             "#FFFFFF",
             "#FFFFFF",
             "#FFFFFF",
             "#FFFFFF",
             "#FFFFFF",
             "#FFFFFF",
             "#DEEFFF",
             "#FFFFFF",
             "#FFFFFF",
             "#FFFFFF",
             "#FFFFFF",
             "#FFFFFF",
             "#FFFFFF",
             "#DEEFFF",
             "#FFFFFF",
             "#FFFFFF",
             "#FFFFFF",
             "#FFFFFF",
             "#FFFFFF",
             "#FFFFFF",
             "#E5E5E5"
            ],
            [
             "#F7F7F7",
             "#F7F7F7",
             "#F7F7F7",
             "#DEEFFF",
             "#DEEFFF",
             "#F7F7F7",
             "#F7F7F7",
             "#F7F7F7",
             "#F7F7F7",
             "#F7F7F7",
             "#DEEFFF",
             "#F7F7F7",
             "#F7F7F7",
             "#F7F7F7",
             "#F7F7F7",
             "#F7F7F7",
             "#F7F7F7",
             "#DEEFFF",
             "#F7F7F7",
             "#F7F7F7",
             "#F7F7F7",
             "#F7F7F7",
             "#F7F7F7",
             "#F7F7F7",
             "#DEEFFF",
             "#F7F7F7",
             "#F7F7F7",
             "#F7F7F7",
             "#F7F7F7",
             "#F7F7F7",
             "#F7F7F7",
             "#E5E5E5"
            ],
            [
             "#FFFFFF",
             "#FFFFFF",
             "#FFFFFF",
             "#DEEFFF",
             "#DEEFFF",
             "#FFFFFF",
             "#FFFFFF",
             "#FFFFFF",
             "#F7F7F7",
             "#FFFFFF",
             "#DEEFFF",
             "#FFFFFF",
             "#FFFFFF",
             "#FFFFFF",
             "#FFFFFF",
             "#FFFFFF",
             "#FFFFFF",
             "#DEEFFF",
             "#FFFFFF",
             "#FFFFFF",
             "#FFFFFF",
             "#FFFFFF",
             "#FFFFFF",
             "#FFFFFF",
             "#DEEFFF",
             "#FFFFFF",
             "#FFFFFF",
             "#FFFFFF",
             "#FFFFFF",
             "#FFFFFF",
             "#FFFFFF",
             "#E5E5E5"
            ],
            [
             "#FFFFFF",
             "#FFFFFF",
             "#FFFFFF",
             "#DEEFFF",
             "#DEEFFF",
             "#FFFFFF",
             "#FFFFFF",
             "#FFFFFF",
             "#F7F7F7",
             "#FFFFFF",
             "#DEEFFF",
             "#FFFFFF",
             "#FFFFFF",
             "#FFFFFF",
             "#FFFFFF",
             "#FFFFFF",
             "#FFFFFF",
             "#DEEFFF",
             "#FFFFFF",
             "#FFFFFF",
             "#FFFFFF",
             "#FFFFFF",
             "#FFFFFF",
             "#FFFFFF",
             "#DEEFFF",
             "#FFFFFF",
             "#FFFFFF",
             "#FFFFFF",
             "#FFFFFF",
             "#FFFFFF",
             "#FFFFFF",
             "#E5E5E5"
            ],
            [
             "#F7F7F7",
             "#F7F7F7",
             "#F7F7F7",
             "#DEEFFF",
             "#DEEFFF",
             "#F7F7F7",
             "#F7F7F7",
             "#F7F7F7",
             "#F7F7F7",
             "#F7F7F7",
             "#DEEFFF",
             "#F7F7F7",
             "#F7F7F7",
             "#F7F7F7",
             "#F7F7F7",
             "#F7F7F7",
             "#F7F7F7",
             "#DEEFFF",
             "#F7F7F7",
             "#F7F7F7",
             "#F7F7F7",
             "#F7F7F7",
             "#F7F7F7",
             "#F7F7F7",
             "#DEEFFF",
             "#F7F7F7",
             "#F7F7F7",
             "#F7F7F7",
             "#F7F7F7",
             "#F7F7F7",
             "#F7F7F7",
             "#E5E5E5"
            ],
            [
             "#FFFFFF",
             "#FFFFFF",
             "#FFFFFF",
             "#DEEFFF",
             "#DEEFFF",
             "#FFFFFF",
             "#FFFFFF",
             "#FFFFFF",
             "#F7F7F7",
             "#FFFFFF",
             "#DEEFFF",
             "#FFFFFF",
             "#FFFFFF",
             "#FFFFFF",
             "#FFFFFF",
             "#FFFFFF",
             "#FFFFFF",
             "#DEEFFF",
             "#FFFFFF",
             "#FFFFFF",
             "#FFFFFF",
             "#FFFFFF",
             "#FFFFFF",
             "#FFFFFF",
             "#DEEFFF",
             "#FFFFFF",
             "#FFFFFF",
             "#FFFFFF",
             "#FFFFFF",
             "#FFFFFF",
             "#FFFFFF",
             "#E5E5E5"
            ],
            [
             "#FFFFFF",
             "#FFFFFF",
             "#FFFFFF",
             "#DEEFFF",
             "#DEEFFF",
             "#FFFFFF",
             "#FFFFFF",
             "#FFFFFF",
             "#F7F7F7",
             "#FFFFFF",
             "#DEEFFF",
             "#FFFFFF",
             "#FFFFFF",
             "#FFFFFF",
             "#FFFFFF",
             "#FFFFFF",
             "#FFFFFF",
             "#DEEFFF",
             "#FFFFFF",
             "#FFFFFF",
             "#FFFFFF",
             "#FFFFFF",
             "#FFFFFF",
             "#FFFFFF",
             "#DEEFFF",
             "#FFFFFF",
             "#FFFFFF",
             "#FFFFFF",
             "#FFFFFF",
             "#FFFFFF",
             "#FFFFFF",
             "#E5E5E5"
            ],
            [
             "#FFFFFF",
             "#FFFFFF",
             "#FFFFFF",
             "#DEEFFF",
             "#DEEFFF",
             "#FFFFFF",
             "#FFFFFF",
             "#FFFFFF",
             "#F7F7F7",
             "#FFFFFF",
             "#DEEFFF",
             "#FFFFFF",
             "#FFFFFF",
             "#FFFFFF",
             "#FFFFFF",
             "#FFFFFF",
             "#FFFFFF",
             "#DEEFFF",
             "#FFFFFF",
             "#FFFFFF",
             "#FFFFFF",
             "#FFFFFF",
             "#FFFFFF",
             "#FFFFFF",
             "#DEEFFF",
             "#FFFFFF",
             "#FFFFFF",
             "#FFFFFF",
             "#FFFFFF",
             "#FFFFFF",
             "#FFFFFF",
             "#E5E5E5"
            ],
            [
             "#FFFFFF",
             "#FFFFFF",
             "#FFFFFF",
             "#DEEFFF",
             "#DEEFFF",
             "#FFFFFF",
             "#FFFFFF",
             "#FFFFFF",
             "#F7F7F7",
             "#FFFFFF",
             "#DEEFFF",
             "#FFFFFF",
             "#FFFFFF",
             "#FFFFFF",
             "#FFFFFF",
             "#FFFFFF",
             "#FFFFFF",
             "#DEEFFF",
             "#FFFFFF",
             "#FFFFFF",
             "#FFFFFF",
             "#FFFFFF",
             "#FFFFFF",
             "#FFFFFF",
             "#DEEFFF",
             "#FFFFFF",
             "#FFFFFF",
             "#FFFFFF",
             "#FFFFFF",
             "#FFFFFF",
             "#FFFFFF",
             "#E5E5E5"
            ],
            [
             "#FFFFFF",
             "#FFFFFF",
             "#FFFFFF",
             "#DEEFFF",
             "#DEEFFF",
             "#FFFFFF",
             "#FFFFFF",
             "#FFFFFF",
             "#F7F7F7",
             "#FFFFFF",
             "#DEEFFF",
             "#FFFFFF",
             "#FFFFFF",
             "#FFFFFF",
             "#FFFFFF",
             "#FFFFFF",
             "#FFFFFF",
             "#DEEFFF",
             "#FFFFFF",
             "#FFFFFF",
             "#FFFFFF",
             "#FFFFFF",
             "#FFFFFF",
             "#FFFFFF",
             "#DEEFFF",
             "#FFFFFF",
             "#FFFFFF",
             "#FFFFFF",
             "#FFFFFF",
             "#FFFFFF",
             "#FFFFFF",
             "#E5E5E5"
            ],
            [
             "#FFFFFF",
             "#FFFFFF",
             "#FFFFFF",
             "#DEEFFF",
             "#DEEFFF",
             "#FFFFFF",
             "#FFFFFF",
             "#FFFFFF",
             "#F7F7F7",
             "#FFFFFF",
             "#DEEFFF",
             "#FFFFFF",
             "#FFFFFF",
             "#FFFFFF",
             "#FFFFFF",
             "#FFFFFF",
             "#FFFFFF",
             "#DEEFFF",
             "#FFFFFF",
             "#FFFFFF",
             "#FFFFFF",
             "#FFFFFF",
             "#FFFFFF",
             "#FFFFFF",
             "#DEEFFF",
             "#FFFFFF",
             "#FFFFFF",
             "#FFFFFF",
             "#FFFFFF",
             "#FFFFFF",
             "#FFFFFF",
             "#E5E5E5"
            ],
            [
             "#FFFFFF",
             "#FFFFFF",
             "#FFFFFF",
             "#DEEFFF",
             "#DEEFFF",
             "#FFFFFF",
             "#FFFFFF",
             "#FFFFFF",
             "#F7F7F7",
             "#FFFFFF",
             "#DEEFFF",
             "#FFFFFF",
             "#FFFFFF",
             "#FFFFFF",
             "#FFFFFF",
             "#FFFFFF",
             "#FFFFFF",
             "#DEEFFF",
             "#FFFFFF",
             "#FFFFFF",
             "#FFFFFF",
             "#FFFFFF",
             "#FFFFFF",
             "#FFFFFF",
             "#DEEFFF",
             "#FFFFFF",
             "#FFFFFF",
             "#FFFFFF",
             "#FFFFFF",
             "#FFFFFF",
             "#FFFFFF",
             "#E5E5E5"
            ],
            [
             "#FFFFFF",
             "#FFFFFF",
             "#FFFFFF",
             "#DEEFFF",
             "#DEEFFF",
             "#FFFFFF",
             "#FFFFFF",
             "#FFFFFF",
             "#F7F7F7",
             "#FFFFFF",
             "#DEEFFF",
             "#FFFFFF",
             "#FFFFFF",
             "#FFFFFF",
             "#FFFFFF",
             "#FFFFFF",
             "#FFFFFF",
             "#DEEFFF",
             "#FFFFFF",
             "#FFFFFF",
             "#FFFFFF",
             "#FFFFFF",
             "#FFFFFF",
             "#FFFFFF",
             "#DEEFFF",
             "#FFFFFF",
             "#FFFFFF",
             "#FFFFFF",
             "#FFFFFF",
             "#FFFFFF",
             "#FFFFFF",
             "#E5E5E5"
            ],
            [
             "#FFFFFF",
             "#FFFFFF",
             "#FFFFFF",
             "#DEEFFF",
             "#DEEFFF",
             "#FFFFFF",
             "#FFFFFF",
             "#FFFFFF",
             "#F7F7F7",
             "#FFFFFF",
             "#DEEFFF",
             "#FFFFFF",
             "#FFFFFF",
             "#FFFFFF",
             "#FFFFFF",
             "#FFFFFF",
             "#FFFFFF",
             "#DEEFFF",
             "#FFFFFF",
             "#FFFFFF",
             "#FFFFFF",
             "#FFFFFF",
             "#FFFFFF",
             "#FFFFFF",
             "#DEEFFF",
             "#FFFFFF",
             "#FFFFFF",
             "#FFFFFF",
             "#FFFFFF",
             "#FFFFFF",
             "#FFFFFF",
             "#E5E5E5"
            ],
            [
             "#FFFFFF",
             "#FFFFFF",
             "#FFFFFF",
             "#DEEFFF",
             "#DEEFFF",
             "#FFFFFF",
             "#FFFFFF",
             "#FFFFFF",
             "#F7F7F7",
             "#FFFFFF",
             "#DEEFFF",
             "#FFFFFF",
             "#FFFFFF",
             "#FFFFFF",
             "#FFFFFF",
             "#FFFFFF",
             "#FFFFFF",
             "#DEEFFF",
             "#FFFFFF",
             "#FFFFFF",
             "#FFFFFF",
             "#FFFFFF",
             "#FFFFFF",
             "#FFFFFF",
             "#DEEFFF",
             "#FFFFFF",
             "#FFFFFF",
             "#FFFFFF",
             "#FFFFFF",
             "#FFFFFF",
             "#FFFFFF",
             "#E5E5E5"
            ],
            [
             "#FFFFFF",
             "#FFFFFF",
             "#FFFFFF",
             "#DEEFFF",
             "#DEEFFF",
             "#FFFFFF",
             "#FFFFFF",
             "#FFFFFF",
             "#F7F7F7",
             "#FFFFFF",
             "#DEEFFF",
             "#FFFFFF",
             "#FFFFFF",
             "#FFFFFF",
             "#FFFFFF",
             "#FFFFFF",
             "#FFFFFF",
             "#DEEFFF",
             "#FFFFFF",
             "#FFFFFF",
             "#FFFFFF",
             "#FFFFFF",
             "#FFFFFF",
             "#FFFFFF",
             "#DEEFFF",
             "#FFFFFF",
             "#FFFFFF",
             "#FFFFFF",
             "#FFFFFF",
             "#FFFFFF",
             "#FFFFFF",
             "#E5E5E5"
            ],
            [
             "#FFFFFF",
             "#FFFFFF",
             "#FFFFFF",
             "#DEEFFF",
             "#DEEFFF",
             "#FFFFFF",
             "#FFFFFF",
             "#FFFFFF",
             "#F7F7F7",
             "#FFFFFF",
             "#DEEFFF",
             "#FFFFFF",
             "#FFFFFF",
             "#FFFFFF",
             "#FFFFFF",
             "#FFFFFF",
             "#FFFFFF",
             "#DEEFFF",
             "#FFFFFF",
             "#FFFFFF",
             "#FFFFFF",
             "#FFFFFF",
             "#FFFFFF",
             "#FFFFFF",
             "#DEEFFF",
             "#FFFFFF",
             "#FFFFFF",
             "#FFFFFF",
             "#FFFFFF",
             "#FFFFFF",
             "#FFFFFF",
             "#E5E5E5"
            ]
           ],
           "width": 2
          },
          "values": [
           [
            "01/12/2022, Quinta-feira",
            "02/12/2022, Sexta-feira",
            "03/12/2022, Sábado",
            "04/12/2022, Domingo",
            "05/12/2022, Segunda-feira",
            "06/12/2022, Terça-feira",
            "07/12/2022, Quarta-feira",
            "08/12/2022, Quinta-feira",
            "09/12/2022, Sexta-feira",
            "10/12/2022, Sábado",
            "11/12/2022, Domingo",
            "12/12/2022, Segunda-feira",
            "13/12/2022, Terça-feira",
            "14/12/2022, Quarta-feira",
            "15/12/2022, Quinta-feira",
            "16/12/2022, Sexta-feira",
            "17/12/2022, Sábado",
            "18/12/2022, Domingo",
            "19/12/2022, Segunda-feira",
            "20/12/2022, Terça-feira",
            "21/12/2022, Quarta-feira",
            "22/12/2022, Quinta-feira",
            "23/12/2022, Sexta-feira",
            "24/12/2022, Sábado",
            "25/12/2022, Domingo",
            "26/12/2022, Segunda-feira",
            "27/12/2022, Terça-feira",
            "28/12/2022, Quarta-feira",
            "29/12/2022, Quinta-feira",
            "30/12/2022, Sexta-feira",
            "31/12/2022, Sábado",
            "Total"
           ],
           [
            "R$ 119.047,62",
            "R$ 119.047,62",
            "R$ 50.000,00",
            "",
            "",
            "R$ 119.047,62",
            "R$ 119.047,62",
            "R$ 119.047,62",
            "R$ 119.047,62",
            "R$ 50.000,00",
            "",
            "R$ 119.047,62",
            "R$ 119.047,62",
            "R$ 119.047,62",
            "R$ 119.047,62",
            "R$ 119.047,62",
            "R$ 50.000,00",
            "",
            "R$ 119.047,62",
            "R$ 119.047,62",
            "R$ 119.047,62",
            "R$ 119.047,62",
            "R$ 119.047,62",
            "R$ 50.000,00",
            "",
            "R$ 119.047,62",
            "R$ 119.047,62",
            "R$ 119.047,62",
            "R$ 119.047,62",
            "R$ 119.047,62",
            "R$ 50.000,00",
            "R$ 2.750.000,00"
           ],
           [
            "R$ 107.878,65",
            "R$ 62.004,36",
            "R$ 60.573,95",
            "",
            "R$ 79.668,47",
            "R$ 138.460,52",
            "R$ 152.063,93",
            "R$ 151.222,30",
            "R$ 5.320,26",
            "",
            "",
            "",
            "",
            "",
            "",
            "",
            "",
            "",
            "",
            "",
            "",
            "",
            "",
            "",
            "",
            "",
            "",
            "",
            "",
            "",
            "",
            "R$ 757.192,44"
           ],
           [
            "R$ 101.857,26",
            "R$ 59.570,13",
            "R$ 58.481,88",
            "",
            "R$ 74.524,04",
            "R$ 132.952,79",
            "R$ 146.404,75",
            "R$ 142.962,11",
            "R$ 5.320,26",
            "",
            "",
            "",
            "",
            "",
            "",
            "",
            "",
            "",
            "",
            "",
            "",
            "",
            "",
            "",
            "",
            "",
            "",
            "",
            "",
            "",
            "",
            "R$ 722.073,22"
           ],
           [
            "R$ 6.021,39",
            "R$ 2.434,23",
            "R$ 2.092,07",
            "",
            "R$ 5.144,43",
            "R$ 5.507,73",
            "R$ 5.659,18",
            "R$ 8.260,19",
            "",
            "",
            "",
            "",
            "",
            "",
            "",
            "",
            "",
            "",
            "",
            "",
            "",
            "",
            "",
            "",
            "",
            "",
            "",
            "",
            "",
            "",
            "",
            "R$ 35.119,22"
           ],
           [
            "5,58%",
            "3,93%",
            "3,45%",
            "",
            "6,46%",
            "3,98%",
            "3,72%",
            "5,46%",
            "",
            "",
            "",
            "",
            "",
            "",
            "",
            "",
            "",
            "",
            "",
            "",
            "",
            "",
            "",
            "",
            "",
            "",
            "",
            "",
            "",
            "",
            "",
            "4,64%"
           ],
           [
            "R$ 95.883,52",
            "R$ 56.115,59",
            "R$ 55.052,93",
            "",
            "R$ 72.922,13",
            "R$ 129.829,15",
            "R$ 141.679,01",
            "R$ 139.209,11",
            "R$ 5.320,26",
            "",
            "",
            "",
            "",
            "",
            "",
            "",
            "",
            "",
            "",
            "",
            "",
            "",
            "",
            "",
            "",
            "",
            "",
            "",
            "",
            "",
            "",
            "R$ 696.011,70"
           ],
           [
            "260",
            "175",
            "152",
            "",
            "212",
            "287",
            "299",
            "306",
            "25",
            "",
            "",
            "",
            "",
            "",
            "",
            "",
            "",
            "",
            "",
            "",
            "",
            "",
            "",
            "",
            "",
            "",
            "",
            "",
            "",
            "",
            "",
            "586"
           ],
           [
            "6,03%",
            "4,34%",
            "3,55%",
            "",
            "7,02%",
            "4,11%",
            "3,85%",
            "5,81%",
            "",
            "",
            "",
            "",
            "",
            "",
            "",
            "",
            "",
            "",
            "",
            "",
            "",
            "",
            "",
            "",
            "",
            "",
            "",
            "",
            "",
            "",
            "",
            "4,91%"
           ],
           [
            "R$ 5.973,74",
            "R$ 3.454,54",
            "R$ 3.428,95",
            "",
            "R$ 1.601,91",
            "R$ 3.123,64",
            "R$ 4.725,74",
            "R$ 3.753,00",
            "",
            "",
            "",
            "",
            "",
            "",
            "",
            "",
            "",
            "",
            "",
            "",
            "",
            "",
            "",
            "",
            "",
            "",
            "",
            "",
            "",
            "",
            "",
            "R$ 26.061,52"
           ],
           [
            "23",
            "16",
            "18",
            "",
            "15",
            "25",
            "25",
            "19",
            "",
            "",
            "",
            "",
            "",
            "",
            "",
            "",
            "",
            "",
            "",
            "",
            "",
            "",
            "",
            "",
            "",
            "",
            "",
            "",
            "",
            "",
            "",
            "141"
           ],
           [
            "4,05%",
            "",
            "4,09%",
            "",
            "1,56%",
            "5,39%",
            "4,32%",
            "4,75%",
            "",
            "",
            "",
            "",
            "",
            "",
            "",
            "",
            "",
            "",
            "",
            "",
            "",
            "",
            "",
            "",
            "",
            "",
            "",
            "",
            "",
            "",
            "",
            "3,67%"
           ],
           [
            "85,56%",
            "50,04%",
            "116,96%",
            "",
            "",
            "111,68%",
            "122,98%",
            "120,09%",
            "4,47%",
            "",
            "",
            "",
            "",
            "",
            "",
            "",
            "",
            "",
            "",
            "",
            "",
            "",
            "",
            "",
            "",
            "",
            "",
            "",
            "",
            "",
            "",
            "26,26%"
           ],
           [
            "85,56%",
            "67,80%",
            "76,33%",
            "76,33%",
            "102,20%",
            "104,97%",
            "109,05%",
            "111,08%",
            "94,48%",
            "88,68%",
            "88,68%",
            "77,36%",
            "68,61%",
            "61,64%",
            "55,95%",
            "51,23%",
            "49,47%",
            "49,47%",
            "45,74%",
            "42,53%",
            "39,75%",
            "37,30%",
            "35,14%",
            "34,31%",
            "34,31%",
            "32,47%",
            "30,82%",
            "29,33%",
            "27,98%",
            "26,74%",
            "26,26%",
            "26,26%"
           ],
           [
            "R$ 2.352.902,71",
            "R$ 1.864.486,35",
            "R$ 2.099.133,94",
            "R$ 2.099.133,94",
            "R$ 2.810.499,78",
            "R$ 2.886.730,68",
            "R$ 2.998.771,18",
            "R$ 3.054.795,83",
            "R$ 2.598.113,92",
            "R$ 2.438.580,61",
            "R$ 2.438.580,61",
            "R$ 2.127.537,17",
            "R$ 1.886.865,54",
            "R$ 1.695.110,91",
            "R$ 1.538.735,37",
            "R$ 1.408.774,61",
            "R$ 1.360.513,16",
            "R$ 1.360.513,16",
            "R$ 1.257.910,36",
            "R$ 1.169.697,85",
            "R$ 1.093.046,62",
            "R$ 1.025.823,58",
            "R$ 966.390,00",
            "R$ 943.432,77",
            "R$ 943.432,77",
            "R$ 892.927,80",
            "R$ 847.555,46",
            "R$ 806.571,15",
            "R$ 769.367,68",
            "R$ 735.444,95",
            "R$ 722.073,22",
            ""
           ]
          ]
         },
         "columnwidth": [
          10.300925925925926,
          6.592592592592593,
          6.592592592592593,
          6.592592592592593,
          6.592592592592593,
          4.12037037037037,
          6.592592592592593,
          5.356481481481481,
          4.944444444444445,
          6.592592592592593,
          4.944444444444445,
          4.12037037037037,
          2.8842592592592595,
          2.8842592592592595,
          6.592592592592593
         ],
         "domain": {
          "y": [
           0,
           1
          ]
         },
         "header": {
          "align": "center",
          "fill": {
           "color": "#E5E5E5"
          },
          "font": {
           "color": [
            "#000000",
            "#000000",
            "#118DFF",
            "#000000",
            "#FF0000",
            "#FF0000",
            "#E04392",
            "#000000",
            "#FF0000",
            "#E04392",
            "#000000",
            "#FF0000",
            "#000000",
            "#000000",
            "#000000"
           ],
           "family": "Segoe UI Semibold",
           "size": 13.185185185185185
          },
          "line": {
           "color": "#E5E5E5",
           "width": 3
          },
          "values": [
           "Data",
           "Meta",
           "Venda\nSIAC",
           "Venda\nLíquida",
           "Devolução",
           "%\nDev",
           "Venda\nCNPJ",
           "Clientes\nCNPJ",
           "% Dev\nCNPJ",
           "Venda\nCPF",
           "Clientes\nCPF",
           "% Dev\nCPF",
           "%\nDia",
           "%\nMês",
           "Projeção\nmensal"
          ]
         },
         "type": "table"
        }
       ],
       "layout": {
        "height": 890,
        "template": {
         "data": {
          "bar": [
           {
            "error_x": {
             "color": "#2a3f5f"
            },
            "error_y": {
             "color": "#2a3f5f"
            },
            "marker": {
             "line": {
              "color": "#E5ECF6",
              "width": 0.5
             },
             "pattern": {
              "fillmode": "overlay",
              "size": 10,
              "solidity": 0.2
             }
            },
            "type": "bar"
           }
          ],
          "barpolar": [
           {
            "marker": {
             "line": {
              "color": "#E5ECF6",
              "width": 0.5
             },
             "pattern": {
              "fillmode": "overlay",
              "size": 10,
              "solidity": 0.2
             }
            },
            "type": "barpolar"
           }
          ],
          "carpet": [
           {
            "aaxis": {
             "endlinecolor": "#2a3f5f",
             "gridcolor": "white",
             "linecolor": "white",
             "minorgridcolor": "white",
             "startlinecolor": "#2a3f5f"
            },
            "baxis": {
             "endlinecolor": "#2a3f5f",
             "gridcolor": "white",
             "linecolor": "white",
             "minorgridcolor": "white",
             "startlinecolor": "#2a3f5f"
            },
            "type": "carpet"
           }
          ],
          "choropleth": [
           {
            "colorbar": {
             "outlinewidth": 0,
             "ticks": ""
            },
            "type": "choropleth"
           }
          ],
          "contour": [
           {
            "colorbar": {
             "outlinewidth": 0,
             "ticks": ""
            },
            "colorscale": [
             [
              0,
              "#0d0887"
             ],
             [
              0.1111111111111111,
              "#46039f"
             ],
             [
              0.2222222222222222,
              "#7201a8"
             ],
             [
              0.3333333333333333,
              "#9c179e"
             ],
             [
              0.4444444444444444,
              "#bd3786"
             ],
             [
              0.5555555555555556,
              "#d8576b"
             ],
             [
              0.6666666666666666,
              "#ed7953"
             ],
             [
              0.7777777777777778,
              "#fb9f3a"
             ],
             [
              0.8888888888888888,
              "#fdca26"
             ],
             [
              1,
              "#f0f921"
             ]
            ],
            "type": "contour"
           }
          ],
          "contourcarpet": [
           {
            "colorbar": {
             "outlinewidth": 0,
             "ticks": ""
            },
            "type": "contourcarpet"
           }
          ],
          "heatmap": [
           {
            "colorbar": {
             "outlinewidth": 0,
             "ticks": ""
            },
            "colorscale": [
             [
              0,
              "#0d0887"
             ],
             [
              0.1111111111111111,
              "#46039f"
             ],
             [
              0.2222222222222222,
              "#7201a8"
             ],
             [
              0.3333333333333333,
              "#9c179e"
             ],
             [
              0.4444444444444444,
              "#bd3786"
             ],
             [
              0.5555555555555556,
              "#d8576b"
             ],
             [
              0.6666666666666666,
              "#ed7953"
             ],
             [
              0.7777777777777778,
              "#fb9f3a"
             ],
             [
              0.8888888888888888,
              "#fdca26"
             ],
             [
              1,
              "#f0f921"
             ]
            ],
            "type": "heatmap"
           }
          ],
          "heatmapgl": [
           {
            "colorbar": {
             "outlinewidth": 0,
             "ticks": ""
            },
            "colorscale": [
             [
              0,
              "#0d0887"
             ],
             [
              0.1111111111111111,
              "#46039f"
             ],
             [
              0.2222222222222222,
              "#7201a8"
             ],
             [
              0.3333333333333333,
              "#9c179e"
             ],
             [
              0.4444444444444444,
              "#bd3786"
             ],
             [
              0.5555555555555556,
              "#d8576b"
             ],
             [
              0.6666666666666666,
              "#ed7953"
             ],
             [
              0.7777777777777778,
              "#fb9f3a"
             ],
             [
              0.8888888888888888,
              "#fdca26"
             ],
             [
              1,
              "#f0f921"
             ]
            ],
            "type": "heatmapgl"
           }
          ],
          "histogram": [
           {
            "marker": {
             "pattern": {
              "fillmode": "overlay",
              "size": 10,
              "solidity": 0.2
             }
            },
            "type": "histogram"
           }
          ],
          "histogram2d": [
           {
            "colorbar": {
             "outlinewidth": 0,
             "ticks": ""
            },
            "colorscale": [
             [
              0,
              "#0d0887"
             ],
             [
              0.1111111111111111,
              "#46039f"
             ],
             [
              0.2222222222222222,
              "#7201a8"
             ],
             [
              0.3333333333333333,
              "#9c179e"
             ],
             [
              0.4444444444444444,
              "#bd3786"
             ],
             [
              0.5555555555555556,
              "#d8576b"
             ],
             [
              0.6666666666666666,
              "#ed7953"
             ],
             [
              0.7777777777777778,
              "#fb9f3a"
             ],
             [
              0.8888888888888888,
              "#fdca26"
             ],
             [
              1,
              "#f0f921"
             ]
            ],
            "type": "histogram2d"
           }
          ],
          "histogram2dcontour": [
           {
            "colorbar": {
             "outlinewidth": 0,
             "ticks": ""
            },
            "colorscale": [
             [
              0,
              "#0d0887"
             ],
             [
              0.1111111111111111,
              "#46039f"
             ],
             [
              0.2222222222222222,
              "#7201a8"
             ],
             [
              0.3333333333333333,
              "#9c179e"
             ],
             [
              0.4444444444444444,
              "#bd3786"
             ],
             [
              0.5555555555555556,
              "#d8576b"
             ],
             [
              0.6666666666666666,
              "#ed7953"
             ],
             [
              0.7777777777777778,
              "#fb9f3a"
             ],
             [
              0.8888888888888888,
              "#fdca26"
             ],
             [
              1,
              "#f0f921"
             ]
            ],
            "type": "histogram2dcontour"
           }
          ],
          "mesh3d": [
           {
            "colorbar": {
             "outlinewidth": 0,
             "ticks": ""
            },
            "type": "mesh3d"
           }
          ],
          "parcoords": [
           {
            "line": {
             "colorbar": {
              "outlinewidth": 0,
              "ticks": ""
             }
            },
            "type": "parcoords"
           }
          ],
          "pie": [
           {
            "automargin": true,
            "type": "pie"
           }
          ],
          "scatter": [
           {
            "fillpattern": {
             "fillmode": "overlay",
             "size": 10,
             "solidity": 0.2
            },
            "type": "scatter"
           }
          ],
          "scatter3d": [
           {
            "line": {
             "colorbar": {
              "outlinewidth": 0,
              "ticks": ""
             }
            },
            "marker": {
             "colorbar": {
              "outlinewidth": 0,
              "ticks": ""
             }
            },
            "type": "scatter3d"
           }
          ],
          "scattercarpet": [
           {
            "marker": {
             "colorbar": {
              "outlinewidth": 0,
              "ticks": ""
             }
            },
            "type": "scattercarpet"
           }
          ],
          "scattergeo": [
           {
            "marker": {
             "colorbar": {
              "outlinewidth": 0,
              "ticks": ""
             }
            },
            "type": "scattergeo"
           }
          ],
          "scattergl": [
           {
            "marker": {
             "colorbar": {
              "outlinewidth": 0,
              "ticks": ""
             }
            },
            "type": "scattergl"
           }
          ],
          "scattermapbox": [
           {
            "marker": {
             "colorbar": {
              "outlinewidth": 0,
              "ticks": ""
             }
            },
            "type": "scattermapbox"
           }
          ],
          "scatterpolar": [
           {
            "marker": {
             "colorbar": {
              "outlinewidth": 0,
              "ticks": ""
             }
            },
            "type": "scatterpolar"
           }
          ],
          "scatterpolargl": [
           {
            "marker": {
             "colorbar": {
              "outlinewidth": 0,
              "ticks": ""
             }
            },
            "type": "scatterpolargl"
           }
          ],
          "scatterternary": [
           {
            "marker": {
             "colorbar": {
              "outlinewidth": 0,
              "ticks": ""
             }
            },
            "type": "scatterternary"
           }
          ],
          "surface": [
           {
            "colorbar": {
             "outlinewidth": 0,
             "ticks": ""
            },
            "colorscale": [
             [
              0,
              "#0d0887"
             ],
             [
              0.1111111111111111,
              "#46039f"
             ],
             [
              0.2222222222222222,
              "#7201a8"
             ],
             [
              0.3333333333333333,
              "#9c179e"
             ],
             [
              0.4444444444444444,
              "#bd3786"
             ],
             [
              0.5555555555555556,
              "#d8576b"
             ],
             [
              0.6666666666666666,
              "#ed7953"
             ],
             [
              0.7777777777777778,
              "#fb9f3a"
             ],
             [
              0.8888888888888888,
              "#fdca26"
             ],
             [
              1,
              "#f0f921"
             ]
            ],
            "type": "surface"
           }
          ],
          "table": [
           {
            "cells": {
             "fill": {
              "color": "#EBF0F8"
             },
             "line": {
              "color": "white"
             }
            },
            "header": {
             "fill": {
              "color": "#C8D4E3"
             },
             "line": {
              "color": "white"
             }
            },
            "type": "table"
           }
          ]
         },
         "layout": {
          "annotationdefaults": {
           "arrowcolor": "#2a3f5f",
           "arrowhead": 0,
           "arrowwidth": 1
          },
          "autotypenumbers": "strict",
          "coloraxis": {
           "colorbar": {
            "outlinewidth": 0,
            "ticks": ""
           }
          },
          "colorscale": {
           "diverging": [
            [
             0,
             "#8e0152"
            ],
            [
             0.1,
             "#c51b7d"
            ],
            [
             0.2,
             "#de77ae"
            ],
            [
             0.3,
             "#f1b6da"
            ],
            [
             0.4,
             "#fde0ef"
            ],
            [
             0.5,
             "#f7f7f7"
            ],
            [
             0.6,
             "#e6f5d0"
            ],
            [
             0.7,
             "#b8e186"
            ],
            [
             0.8,
             "#7fbc41"
            ],
            [
             0.9,
             "#4d9221"
            ],
            [
             1,
             "#276419"
            ]
           ],
           "sequential": [
            [
             0,
             "#0d0887"
            ],
            [
             0.1111111111111111,
             "#46039f"
            ],
            [
             0.2222222222222222,
             "#7201a8"
            ],
            [
             0.3333333333333333,
             "#9c179e"
            ],
            [
             0.4444444444444444,
             "#bd3786"
            ],
            [
             0.5555555555555556,
             "#d8576b"
            ],
            [
             0.6666666666666666,
             "#ed7953"
            ],
            [
             0.7777777777777778,
             "#fb9f3a"
            ],
            [
             0.8888888888888888,
             "#fdca26"
            ],
            [
             1,
             "#f0f921"
            ]
           ],
           "sequentialminus": [
            [
             0,
             "#0d0887"
            ],
            [
             0.1111111111111111,
             "#46039f"
            ],
            [
             0.2222222222222222,
             "#7201a8"
            ],
            [
             0.3333333333333333,
             "#9c179e"
            ],
            [
             0.4444444444444444,
             "#bd3786"
            ],
            [
             0.5555555555555556,
             "#d8576b"
            ],
            [
             0.6666666666666666,
             "#ed7953"
            ],
            [
             0.7777777777777778,
             "#fb9f3a"
            ],
            [
             0.8888888888888888,
             "#fdca26"
            ],
            [
             1,
             "#f0f921"
            ]
           ]
          },
          "colorway": [
           "#636efa",
           "#EF553B",
           "#00cc96",
           "#ab63fa",
           "#FFA15A",
           "#19d3f3",
           "#FF6692",
           "#B6E880",
           "#FF97FF",
           "#FECB52"
          ],
          "font": {
           "color": "#2a3f5f"
          },
          "geo": {
           "bgcolor": "white",
           "lakecolor": "white",
           "landcolor": "#E5ECF6",
           "showlakes": true,
           "showland": true,
           "subunitcolor": "white"
          },
          "hoverlabel": {
           "align": "left"
          },
          "hovermode": "closest",
          "mapbox": {
           "style": "light"
          },
          "paper_bgcolor": "white",
          "plot_bgcolor": "#E5ECF6",
          "polar": {
           "angularaxis": {
            "gridcolor": "white",
            "linecolor": "white",
            "ticks": ""
           },
           "bgcolor": "#E5ECF6",
           "radialaxis": {
            "gridcolor": "white",
            "linecolor": "white",
            "ticks": ""
           }
          },
          "scene": {
           "xaxis": {
            "backgroundcolor": "#E5ECF6",
            "gridcolor": "white",
            "gridwidth": 2,
            "linecolor": "white",
            "showbackground": true,
            "ticks": "",
            "zerolinecolor": "white"
           },
           "yaxis": {
            "backgroundcolor": "#E5ECF6",
            "gridcolor": "white",
            "gridwidth": 2,
            "linecolor": "white",
            "showbackground": true,
            "ticks": "",
            "zerolinecolor": "white"
           },
           "zaxis": {
            "backgroundcolor": "#E5ECF6",
            "gridcolor": "white",
            "gridwidth": 2,
            "linecolor": "white",
            "showbackground": true,
            "ticks": "",
            "zerolinecolor": "white"
           }
          },
          "shapedefaults": {
           "line": {
            "color": "#2a3f5f"
           }
          },
          "ternary": {
           "aaxis": {
            "gridcolor": "white",
            "linecolor": "white",
            "ticks": ""
           },
           "baxis": {
            "gridcolor": "white",
            "linecolor": "white",
            "ticks": ""
           },
           "bgcolor": "#E5ECF6",
           "caxis": {
            "gridcolor": "white",
            "linecolor": "white",
            "ticks": ""
           }
          },
          "title": {
           "x": 0.05
          },
          "xaxis": {
           "automargin": true,
           "gridcolor": "white",
           "linecolor": "white",
           "ticks": "",
           "title": {
            "standoff": 15
           },
           "zerolinecolor": "white",
           "zerolinewidth": 2
          },
          "yaxis": {
           "automargin": true,
           "gridcolor": "white",
           "linecolor": "white",
           "ticks": "",
           "title": {
            "standoff": 15
           },
           "zerolinecolor": "white",
           "zerolinewidth": 2
          }
         }
        },
        "title": {
         "font": {
          "color": "#E74856",
          "family": "Jost",
          "size": 24.72222222222222
         },
         "text": "◙◙◙◙◙◙◙◙◙◙ 🡆 GAMA 🡄 ◙◙◙◙◙◙◙◙◙◙◙◙◙◙◙◙◙◙◙◙◙◙◙◙◙◙◙◙◙◙◙◙◙◙◙◙◙◙◙◙◙◙◙◙◙◙◙◙◙◙◙◙◙◙◙◙◙◙◙◙◙◙◙◙◙◙◙◙◙◙◙◙◙◙◙◙ ⒼⒶⓂⒶ ◙◙◙◙◙◙◙◙◙◙",
         "x": 0.5,
         "y": 0.95,
         "yanchor": "bottom"
        },
        "width": 2060
       }
      }
     },
     "metadata": {},
     "output_type": "display_data"
    },
    {
     "name": "stdout",
     "output_type": "stream",
     "text": [
      "TESTE 05 TABLE.png\n",
      "\n",
      "09-12-2022 PrimeiraFoto - https://chat.whatsapp.com/LK4LDajkH52BNydoLGGD2d\n",
      "09-12-2022 API - https://chat.whatsapp.com/EBLX0fxYfvuHL7jZ9CZECQ\n",
      "09-12-2022 Teste Python - https://chat.whatsapp.com/I4y7EAVfns629NvfoLUtGI\n",
      "\n",
      "• '06' SOF SUL\n",
      "\n"
     ]
    },
    {
     "name": "stderr",
     "output_type": "stream",
     "text": [
      "C:\\Users\\admin\\AppData\\Local\\Temp\\ipykernel_19088\\1060041187.py:86: RuntimeWarning:\n",
      "\n",
      "divide by zero encountered in double_scalars\n",
      "\n"
     ]
    },
    {
     "data": {
      "application/vnd.plotly.v1+json": {
       "config": {
        "plotlyServerURL": "https://plot.ly"
       },
       "data": [
        {
         "cells": {
          "align": [
           "left",
           "center"
          ],
          "fill": {
           "color": [
            [
             "#FFFFFF",
             "#FFFFFF",
             "#FFFFFF",
             "#DEEFFF",
             "#DEEFFF",
             "#FFFFFF",
             "#FFFFFF",
             "#FFFFFF",
             "#F7F7F7",
             "#FFFFFF",
             "#DEEFFF",
             "#FFFFFF",
             "#FFFFFF",
             "#FFFFFF",
             "#FFFFFF",
             "#FFFFFF",
             "#FFFFFF",
             "#DEEFFF",
             "#FFFFFF",
             "#FFFFFF",
             "#FFFFFF",
             "#FFFFFF",
             "#FFFFFF",
             "#FFFFFF",
             "#DEEFFF",
             "#FFFFFF",
             "#FFFFFF",
             "#FFFFFF",
             "#FFFFFF",
             "#FFFFFF",
             "#FFFFFF",
             "#E5E5E5"
            ],
            [
             "#FFFFFF",
             "#FFFFFF",
             "#FFFFFF",
             "#DEEFFF",
             "#DEEFFF",
             "#FFFFFF",
             "#FFFFFF",
             "#FFFFFF",
             "#F7F7F7",
             "#FFFFFF",
             "#DEEFFF",
             "#FFFFFF",
             "#FFFFFF",
             "#FFFFFF",
             "#FFFFFF",
             "#FFFFFF",
             "#FFFFFF",
             "#DEEFFF",
             "#FFFFFF",
             "#FFFFFF",
             "#FFFFFF",
             "#FFFFFF",
             "#FFFFFF",
             "#FFFFFF",
             "#DEEFFF",
             "#FFFFFF",
             "#FFFFFF",
             "#FFFFFF",
             "#FFFFFF",
             "#FFFFFF",
             "#FFFFFF",
             "#E5E5E5"
            ],
            [
             "#F7F7F7",
             "#F7F7F7",
             "#F7F7F7",
             "#DEEFFF",
             "#DEEFFF",
             "#F7F7F7",
             "#F7F7F7",
             "#F7F7F7",
             "#F7F7F7",
             "#F7F7F7",
             "#DEEFFF",
             "#F7F7F7",
             "#F7F7F7",
             "#F7F7F7",
             "#F7F7F7",
             "#F7F7F7",
             "#F7F7F7",
             "#DEEFFF",
             "#F7F7F7",
             "#F7F7F7",
             "#F7F7F7",
             "#F7F7F7",
             "#F7F7F7",
             "#F7F7F7",
             "#DEEFFF",
             "#F7F7F7",
             "#F7F7F7",
             "#F7F7F7",
             "#F7F7F7",
             "#F7F7F7",
             "#F7F7F7",
             "#E5E5E5"
            ],
            [
             "#F7F7F7",
             "#F7F7F7",
             "#F7F7F7",
             "#DEEFFF",
             "#DEEFFF",
             "#F7F7F7",
             "#F7F7F7",
             "#F7F7F7",
             "#F7F7F7",
             "#F7F7F7",
             "#DEEFFF",
             "#F7F7F7",
             "#F7F7F7",
             "#F7F7F7",
             "#F7F7F7",
             "#F7F7F7",
             "#F7F7F7",
             "#DEEFFF",
             "#F7F7F7",
             "#F7F7F7",
             "#F7F7F7",
             "#F7F7F7",
             "#F7F7F7",
             "#F7F7F7",
             "#DEEFFF",
             "#F7F7F7",
             "#F7F7F7",
             "#F7F7F7",
             "#F7F7F7",
             "#F7F7F7",
             "#F7F7F7",
             "#E5E5E5"
            ],
            [
             "#FFFFFF",
             "#FFFFFF",
             "#FFFFFF",
             "#DEEFFF",
             "#DEEFFF",
             "#FFFFFF",
             "#FFFFFF",
             "#FFFFFF",
             "#F7F7F7",
             "#FFFFFF",
             "#DEEFFF",
             "#FFFFFF",
             "#FFFFFF",
             "#FFFFFF",
             "#FFFFFF",
             "#FFFFFF",
             "#FFFFFF",
             "#DEEFFF",
             "#FFFFFF",
             "#FFFFFF",
             "#FFFFFF",
             "#FFFFFF",
             "#FFFFFF",
             "#FFFFFF",
             "#DEEFFF",
             "#FFFFFF",
             "#FFFFFF",
             "#FFFFFF",
             "#FFFFFF",
             "#FFFFFF",
             "#FFFFFF",
             "#E5E5E5"
            ],
            [
             "#FFFFFF",
             "#FFFFFF",
             "#FFFFFF",
             "#DEEFFF",
             "#DEEFFF",
             "#FFFFFF",
             "#FFFFFF",
             "#FFFFFF",
             "#F7F7F7",
             "#FFFFFF",
             "#DEEFFF",
             "#FFFFFF",
             "#FFFFFF",
             "#FFFFFF",
             "#FFFFFF",
             "#FFFFFF",
             "#FFFFFF",
             "#DEEFFF",
             "#FFFFFF",
             "#FFFFFF",
             "#FFFFFF",
             "#FFFFFF",
             "#FFFFFF",
             "#FFFFFF",
             "#DEEFFF",
             "#FFFFFF",
             "#FFFFFF",
             "#FFFFFF",
             "#FFFFFF",
             "#FFFFFF",
             "#FFFFFF",
             "#E5E5E5"
            ],
            [
             "#F7F7F7",
             "#F7F7F7",
             "#F7F7F7",
             "#DEEFFF",
             "#DEEFFF",
             "#F7F7F7",
             "#F7F7F7",
             "#F7F7F7",
             "#F7F7F7",
             "#F7F7F7",
             "#DEEFFF",
             "#F7F7F7",
             "#F7F7F7",
             "#F7F7F7",
             "#F7F7F7",
             "#F7F7F7",
             "#F7F7F7",
             "#DEEFFF",
             "#F7F7F7",
             "#F7F7F7",
             "#F7F7F7",
             "#F7F7F7",
             "#F7F7F7",
             "#F7F7F7",
             "#DEEFFF",
             "#F7F7F7",
             "#F7F7F7",
             "#F7F7F7",
             "#F7F7F7",
             "#F7F7F7",
             "#F7F7F7",
             "#E5E5E5"
            ],
            [
             "#FFFFFF",
             "#FFFFFF",
             "#FFFFFF",
             "#DEEFFF",
             "#DEEFFF",
             "#FFFFFF",
             "#FFFFFF",
             "#FFFFFF",
             "#F7F7F7",
             "#FFFFFF",
             "#DEEFFF",
             "#FFFFFF",
             "#FFFFFF",
             "#FFFFFF",
             "#FFFFFF",
             "#FFFFFF",
             "#FFFFFF",
             "#DEEFFF",
             "#FFFFFF",
             "#FFFFFF",
             "#FFFFFF",
             "#FFFFFF",
             "#FFFFFF",
             "#FFFFFF",
             "#DEEFFF",
             "#FFFFFF",
             "#FFFFFF",
             "#FFFFFF",
             "#FFFFFF",
             "#FFFFFF",
             "#FFFFFF",
             "#E5E5E5"
            ],
            [
             "#FFFFFF",
             "#FFFFFF",
             "#FFFFFF",
             "#DEEFFF",
             "#DEEFFF",
             "#FFFFFF",
             "#FFFFFF",
             "#FFFFFF",
             "#F7F7F7",
             "#FFFFFF",
             "#DEEFFF",
             "#FFFFFF",
             "#FFFFFF",
             "#FFFFFF",
             "#FFFFFF",
             "#FFFFFF",
             "#FFFFFF",
             "#DEEFFF",
             "#FFFFFF",
             "#FFFFFF",
             "#FFFFFF",
             "#FFFFFF",
             "#FFFFFF",
             "#FFFFFF",
             "#DEEFFF",
             "#FFFFFF",
             "#FFFFFF",
             "#FFFFFF",
             "#FFFFFF",
             "#FFFFFF",
             "#FFFFFF",
             "#E5E5E5"
            ],
            [
             "#F7F7F7",
             "#F7F7F7",
             "#F7F7F7",
             "#DEEFFF",
             "#DEEFFF",
             "#F7F7F7",
             "#F7F7F7",
             "#F7F7F7",
             "#F7F7F7",
             "#F7F7F7",
             "#DEEFFF",
             "#F7F7F7",
             "#F7F7F7",
             "#F7F7F7",
             "#F7F7F7",
             "#F7F7F7",
             "#F7F7F7",
             "#DEEFFF",
             "#F7F7F7",
             "#F7F7F7",
             "#F7F7F7",
             "#F7F7F7",
             "#F7F7F7",
             "#F7F7F7",
             "#DEEFFF",
             "#F7F7F7",
             "#F7F7F7",
             "#F7F7F7",
             "#F7F7F7",
             "#F7F7F7",
             "#F7F7F7",
             "#E5E5E5"
            ],
            [
             "#FFFFFF",
             "#FFFFFF",
             "#FFFFFF",
             "#DEEFFF",
             "#DEEFFF",
             "#FFFFFF",
             "#FFFFFF",
             "#FFFFFF",
             "#F7F7F7",
             "#FFFFFF",
             "#DEEFFF",
             "#FFFFFF",
             "#FFFFFF",
             "#FFFFFF",
             "#FFFFFF",
             "#FFFFFF",
             "#FFFFFF",
             "#DEEFFF",
             "#FFFFFF",
             "#FFFFFF",
             "#FFFFFF",
             "#FFFFFF",
             "#FFFFFF",
             "#FFFFFF",
             "#DEEFFF",
             "#FFFFFF",
             "#FFFFFF",
             "#FFFFFF",
             "#FFFFFF",
             "#FFFFFF",
             "#FFFFFF",
             "#E5E5E5"
            ],
            [
             "#FFFFFF",
             "#FFFFFF",
             "#FFFFFF",
             "#DEEFFF",
             "#DEEFFF",
             "#FFFFFF",
             "#FFFFFF",
             "#FFFFFF",
             "#F7F7F7",
             "#FFFFFF",
             "#DEEFFF",
             "#FFFFFF",
             "#FFFFFF",
             "#FFFFFF",
             "#FFFFFF",
             "#FFFFFF",
             "#FFFFFF",
             "#DEEFFF",
             "#FFFFFF",
             "#FFFFFF",
             "#FFFFFF",
             "#FFFFFF",
             "#FFFFFF",
             "#FFFFFF",
             "#DEEFFF",
             "#FFFFFF",
             "#FFFFFF",
             "#FFFFFF",
             "#FFFFFF",
             "#FFFFFF",
             "#FFFFFF",
             "#E5E5E5"
            ],
            [
             "#FFFFFF",
             "#FFFFFF",
             "#FFFFFF",
             "#DEEFFF",
             "#DEEFFF",
             "#FFFFFF",
             "#FFFFFF",
             "#FFFFFF",
             "#F7F7F7",
             "#FFFFFF",
             "#DEEFFF",
             "#FFFFFF",
             "#FFFFFF",
             "#FFFFFF",
             "#FFFFFF",
             "#FFFFFF",
             "#FFFFFF",
             "#DEEFFF",
             "#FFFFFF",
             "#FFFFFF",
             "#FFFFFF",
             "#FFFFFF",
             "#FFFFFF",
             "#FFFFFF",
             "#DEEFFF",
             "#FFFFFF",
             "#FFFFFF",
             "#FFFFFF",
             "#FFFFFF",
             "#FFFFFF",
             "#FFFFFF",
             "#E5E5E5"
            ],
            [
             "#FFFFFF",
             "#FFFFFF",
             "#FFFFFF",
             "#DEEFFF",
             "#DEEFFF",
             "#FFFFFF",
             "#FFFFFF",
             "#FFFFFF",
             "#F7F7F7",
             "#FFFFFF",
             "#DEEFFF",
             "#FFFFFF",
             "#FFFFFF",
             "#FFFFFF",
             "#FFFFFF",
             "#FFFFFF",
             "#FFFFFF",
             "#DEEFFF",
             "#FFFFFF",
             "#FFFFFF",
             "#FFFFFF",
             "#FFFFFF",
             "#FFFFFF",
             "#FFFFFF",
             "#DEEFFF",
             "#FFFFFF",
             "#FFFFFF",
             "#FFFFFF",
             "#FFFFFF",
             "#FFFFFF",
             "#FFFFFF",
             "#E5E5E5"
            ],
            [
             "#FFFFFF",
             "#FFFFFF",
             "#FFFFFF",
             "#DEEFFF",
             "#DEEFFF",
             "#FFFFFF",
             "#FFFFFF",
             "#FFFFFF",
             "#F7F7F7",
             "#FFFFFF",
             "#DEEFFF",
             "#FFFFFF",
             "#FFFFFF",
             "#FFFFFF",
             "#FFFFFF",
             "#FFFFFF",
             "#FFFFFF",
             "#DEEFFF",
             "#FFFFFF",
             "#FFFFFF",
             "#FFFFFF",
             "#FFFFFF",
             "#FFFFFF",
             "#FFFFFF",
             "#DEEFFF",
             "#FFFFFF",
             "#FFFFFF",
             "#FFFFFF",
             "#FFFFFF",
             "#FFFFFF",
             "#FFFFFF",
             "#E5E5E5"
            ],
            [
             "#FFFFFF",
             "#FFFFFF",
             "#FFFFFF",
             "#DEEFFF",
             "#DEEFFF",
             "#FFFFFF",
             "#FFFFFF",
             "#FFFFFF",
             "#F7F7F7",
             "#FFFFFF",
             "#DEEFFF",
             "#FFFFFF",
             "#FFFFFF",
             "#FFFFFF",
             "#FFFFFF",
             "#FFFFFF",
             "#FFFFFF",
             "#DEEFFF",
             "#FFFFFF",
             "#FFFFFF",
             "#FFFFFF",
             "#FFFFFF",
             "#FFFFFF",
             "#FFFFFF",
             "#DEEFFF",
             "#FFFFFF",
             "#FFFFFF",
             "#FFFFFF",
             "#FFFFFF",
             "#FFFFFF",
             "#FFFFFF",
             "#E5E5E5"
            ],
            [
             "#FFFFFF",
             "#FFFFFF",
             "#FFFFFF",
             "#DEEFFF",
             "#DEEFFF",
             "#FFFFFF",
             "#FFFFFF",
             "#FFFFFF",
             "#F7F7F7",
             "#FFFFFF",
             "#DEEFFF",
             "#FFFFFF",
             "#FFFFFF",
             "#FFFFFF",
             "#FFFFFF",
             "#FFFFFF",
             "#FFFFFF",
             "#DEEFFF",
             "#FFFFFF",
             "#FFFFFF",
             "#FFFFFF",
             "#FFFFFF",
             "#FFFFFF",
             "#FFFFFF",
             "#DEEFFF",
             "#FFFFFF",
             "#FFFFFF",
             "#FFFFFF",
             "#FFFFFF",
             "#FFFFFF",
             "#FFFFFF",
             "#E5E5E5"
            ],
            [
             "#FFFFFF",
             "#FFFFFF",
             "#FFFFFF",
             "#DEEFFF",
             "#DEEFFF",
             "#FFFFFF",
             "#FFFFFF",
             "#FFFFFF",
             "#F7F7F7",
             "#FFFFFF",
             "#DEEFFF",
             "#FFFFFF",
             "#FFFFFF",
             "#FFFFFF",
             "#FFFFFF",
             "#FFFFFF",
             "#FFFFFF",
             "#DEEFFF",
             "#FFFFFF",
             "#FFFFFF",
             "#FFFFFF",
             "#FFFFFF",
             "#FFFFFF",
             "#FFFFFF",
             "#DEEFFF",
             "#FFFFFF",
             "#FFFFFF",
             "#FFFFFF",
             "#FFFFFF",
             "#FFFFFF",
             "#FFFFFF",
             "#E5E5E5"
            ],
            [
             "#FFFFFF",
             "#FFFFFF",
             "#FFFFFF",
             "#DEEFFF",
             "#DEEFFF",
             "#FFFFFF",
             "#FFFFFF",
             "#FFFFFF",
             "#F7F7F7",
             "#FFFFFF",
             "#DEEFFF",
             "#FFFFFF",
             "#FFFFFF",
             "#FFFFFF",
             "#FFFFFF",
             "#FFFFFF",
             "#FFFFFF",
             "#DEEFFF",
             "#FFFFFF",
             "#FFFFFF",
             "#FFFFFF",
             "#FFFFFF",
             "#FFFFFF",
             "#FFFFFF",
             "#DEEFFF",
             "#FFFFFF",
             "#FFFFFF",
             "#FFFFFF",
             "#FFFFFF",
             "#FFFFFF",
             "#FFFFFF",
             "#E5E5E5"
            ],
            [
             "#FFFFFF",
             "#FFFFFF",
             "#FFFFFF",
             "#DEEFFF",
             "#DEEFFF",
             "#FFFFFF",
             "#FFFFFF",
             "#FFFFFF",
             "#F7F7F7",
             "#FFFFFF",
             "#DEEFFF",
             "#FFFFFF",
             "#FFFFFF",
             "#FFFFFF",
             "#FFFFFF",
             "#FFFFFF",
             "#FFFFFF",
             "#DEEFFF",
             "#FFFFFF",
             "#FFFFFF",
             "#FFFFFF",
             "#FFFFFF",
             "#FFFFFF",
             "#FFFFFF",
             "#DEEFFF",
             "#FFFFFF",
             "#FFFFFF",
             "#FFFFFF",
             "#FFFFFF",
             "#FFFFFF",
             "#FFFFFF",
             "#E5E5E5"
            ],
            [
             "#FFFFFF",
             "#FFFFFF",
             "#FFFFFF",
             "#DEEFFF",
             "#DEEFFF",
             "#FFFFFF",
             "#FFFFFF",
             "#FFFFFF",
             "#F7F7F7",
             "#FFFFFF",
             "#DEEFFF",
             "#FFFFFF",
             "#FFFFFF",
             "#FFFFFF",
             "#FFFFFF",
             "#FFFFFF",
             "#FFFFFF",
             "#DEEFFF",
             "#FFFFFF",
             "#FFFFFF",
             "#FFFFFF",
             "#FFFFFF",
             "#FFFFFF",
             "#FFFFFF",
             "#DEEFFF",
             "#FFFFFF",
             "#FFFFFF",
             "#FFFFFF",
             "#FFFFFF",
             "#FFFFFF",
             "#FFFFFF",
             "#E5E5E5"
            ],
            [
             "#FFFFFF",
             "#FFFFFF",
             "#FFFFFF",
             "#DEEFFF",
             "#DEEFFF",
             "#FFFFFF",
             "#FFFFFF",
             "#FFFFFF",
             "#F7F7F7",
             "#FFFFFF",
             "#DEEFFF",
             "#FFFFFF",
             "#FFFFFF",
             "#FFFFFF",
             "#FFFFFF",
             "#FFFFFF",
             "#FFFFFF",
             "#DEEFFF",
             "#FFFFFF",
             "#FFFFFF",
             "#FFFFFF",
             "#FFFFFF",
             "#FFFFFF",
             "#FFFFFF",
             "#DEEFFF",
             "#FFFFFF",
             "#FFFFFF",
             "#FFFFFF",
             "#FFFFFF",
             "#FFFFFF",
             "#FFFFFF",
             "#E5E5E5"
            ]
           ]
          },
          "font": {
           "color": [
            "#000000",
            "#000000",
            "#118DFF",
            "#000000",
            "#FF0000",
            "#FF0000",
            "#E04392",
            "#000000",
            "#FF0000",
            "#E04392",
            "#000000",
            "#FF0000",
            [
             "#FF0000",
             "#FF0000",
             "#FFC000",
             "#DEEFFF",
             "#DEEFFF",
             "#00B050",
             "#00B050",
             "#00B050",
             "#FF0000",
             "#FFFFFF",
             "#DEEFFF",
             "#FFFFFF",
             "#FFFFFF",
             "#FFFFFF",
             "#FFFFFF",
             "#FFFFFF",
             "#FFFFFF",
             "#DEEFFF",
             "#FFFFFF",
             "#FFFFFF",
             "#FFFFFF",
             "#FFFFFF",
             "#FFFFFF",
             "#FFFFFF",
             "#DEEFFF",
             "#FFFFFF",
             "#FFFFFF",
             "#FFFFFF",
             "#FFFFFF",
             "#FFFFFF",
             "#FFFFFF",
             "#E5E5E5"
            ],
            [
             "#FF0000",
             "#FF0000",
             "#FF0000",
             "#DEEFFF",
             "#DEEFFF",
             "#00B050",
             "#00B050",
             "#00B050",
             "#FF0000",
             "#FFFFFF",
             "#DEEFFF",
             "#FFFFFF",
             "#FFFFFF",
             "#FFFFFF",
             "#FFFFFF",
             "#FFFFFF",
             "#FFFFFF",
             "#DEEFFF",
             "#FFFFFF",
             "#FFFFFF",
             "#FFFFFF",
             "#FFFFFF",
             "#FFFFFF",
             "#FFFFFF",
             "#DEEFFF",
             "#FFFFFF",
             "#FFFFFF",
             "#FFFFFF",
             "#FFFFFF",
             "#FFFFFF",
             "#FFFFFF",
             "#E5E5E5"
            ],
            [
             "#000000",
             "#000000",
             "#000000",
             "#DEEFFF",
             "#DEEFFF",
             "#000000",
             "#000000",
             "#000000",
             "#000000",
             "#FFFFFF",
             "#DEEFFF",
             "#FFFFFF",
             "#FFFFFF",
             "#FFFFFF",
             "#FFFFFF",
             "#FFFFFF",
             "#FFFFFF",
             "#DEEFFF",
             "#FFFFFF",
             "#FFFFFF",
             "#FFFFFF",
             "#FFFFFF",
             "#FFFFFF",
             "#FFFFFF",
             "#DEEFFF",
             "#FFFFFF",
             "#FFFFFF",
             "#FFFFFF",
             "#FFFFFF",
             "#FFFFFF",
             "#FFFFFF",
             "#118DFF"
            ]
           ],
           "family": "Segoe UI Semibold",
           "size": 13.185185185185185
          },
          "line": {
           "color": [
            [
             "#FFFFFF",
             "#FFFFFF",
             "#FFFFFF",
             "#DEEFFF",
             "#DEEFFF",
             "#FFFFFF",
             "#FFFFFF",
             "#FFFFFF",
             "#F7F7F7",
             "#FFFFFF",
             "#DEEFFF",
             "#FFFFFF",
             "#FFFFFF",
             "#FFFFFF",
             "#FFFFFF",
             "#FFFFFF",
             "#FFFFFF",
             "#DEEFFF",
             "#FFFFFF",
             "#FFFFFF",
             "#FFFFFF",
             "#FFFFFF",
             "#FFFFFF",
             "#FFFFFF",
             "#DEEFFF",
             "#FFFFFF",
             "#FFFFFF",
             "#FFFFFF",
             "#FFFFFF",
             "#FFFFFF",
             "#FFFFFF",
             "#E5E5E5"
            ],
            [
             "#FFFFFF",
             "#FFFFFF",
             "#FFFFFF",
             "#DEEFFF",
             "#DEEFFF",
             "#FFFFFF",
             "#FFFFFF",
             "#FFFFFF",
             "#F7F7F7",
             "#FFFFFF",
             "#DEEFFF",
             "#FFFFFF",
             "#FFFFFF",
             "#FFFFFF",
             "#FFFFFF",
             "#FFFFFF",
             "#FFFFFF",
             "#DEEFFF",
             "#FFFFFF",
             "#FFFFFF",
             "#FFFFFF",
             "#FFFFFF",
             "#FFFFFF",
             "#FFFFFF",
             "#DEEFFF",
             "#FFFFFF",
             "#FFFFFF",
             "#FFFFFF",
             "#FFFFFF",
             "#FFFFFF",
             "#FFFFFF",
             "#E5E5E5"
            ],
            [
             "#F7F7F7",
             "#F7F7F7",
             "#F7F7F7",
             "#DEEFFF",
             "#DEEFFF",
             "#F7F7F7",
             "#F7F7F7",
             "#F7F7F7",
             "#F7F7F7",
             "#F7F7F7",
             "#DEEFFF",
             "#F7F7F7",
             "#F7F7F7",
             "#F7F7F7",
             "#F7F7F7",
             "#F7F7F7",
             "#F7F7F7",
             "#DEEFFF",
             "#F7F7F7",
             "#F7F7F7",
             "#F7F7F7",
             "#F7F7F7",
             "#F7F7F7",
             "#F7F7F7",
             "#DEEFFF",
             "#F7F7F7",
             "#F7F7F7",
             "#F7F7F7",
             "#F7F7F7",
             "#F7F7F7",
             "#F7F7F7",
             "#E5E5E5"
            ],
            [
             "#F7F7F7",
             "#F7F7F7",
             "#F7F7F7",
             "#DEEFFF",
             "#DEEFFF",
             "#F7F7F7",
             "#F7F7F7",
             "#F7F7F7",
             "#F7F7F7",
             "#F7F7F7",
             "#DEEFFF",
             "#F7F7F7",
             "#F7F7F7",
             "#F7F7F7",
             "#F7F7F7",
             "#F7F7F7",
             "#F7F7F7",
             "#DEEFFF",
             "#F7F7F7",
             "#F7F7F7",
             "#F7F7F7",
             "#F7F7F7",
             "#F7F7F7",
             "#F7F7F7",
             "#DEEFFF",
             "#F7F7F7",
             "#F7F7F7",
             "#F7F7F7",
             "#F7F7F7",
             "#F7F7F7",
             "#F7F7F7",
             "#E5E5E5"
            ],
            [
             "#FFFFFF",
             "#FFFFFF",
             "#FFFFFF",
             "#DEEFFF",
             "#DEEFFF",
             "#FFFFFF",
             "#FFFFFF",
             "#FFFFFF",
             "#F7F7F7",
             "#FFFFFF",
             "#DEEFFF",
             "#FFFFFF",
             "#FFFFFF",
             "#FFFFFF",
             "#FFFFFF",
             "#FFFFFF",
             "#FFFFFF",
             "#DEEFFF",
             "#FFFFFF",
             "#FFFFFF",
             "#FFFFFF",
             "#FFFFFF",
             "#FFFFFF",
             "#FFFFFF",
             "#DEEFFF",
             "#FFFFFF",
             "#FFFFFF",
             "#FFFFFF",
             "#FFFFFF",
             "#FFFFFF",
             "#FFFFFF",
             "#E5E5E5"
            ],
            [
             "#FFFFFF",
             "#FFFFFF",
             "#FFFFFF",
             "#DEEFFF",
             "#DEEFFF",
             "#FFFFFF",
             "#FFFFFF",
             "#FFFFFF",
             "#F7F7F7",
             "#FFFFFF",
             "#DEEFFF",
             "#FFFFFF",
             "#FFFFFF",
             "#FFFFFF",
             "#FFFFFF",
             "#FFFFFF",
             "#FFFFFF",
             "#DEEFFF",
             "#FFFFFF",
             "#FFFFFF",
             "#FFFFFF",
             "#FFFFFF",
             "#FFFFFF",
             "#FFFFFF",
             "#DEEFFF",
             "#FFFFFF",
             "#FFFFFF",
             "#FFFFFF",
             "#FFFFFF",
             "#FFFFFF",
             "#FFFFFF",
             "#E5E5E5"
            ],
            [
             "#F7F7F7",
             "#F7F7F7",
             "#F7F7F7",
             "#DEEFFF",
             "#DEEFFF",
             "#F7F7F7",
             "#F7F7F7",
             "#F7F7F7",
             "#F7F7F7",
             "#F7F7F7",
             "#DEEFFF",
             "#F7F7F7",
             "#F7F7F7",
             "#F7F7F7",
             "#F7F7F7",
             "#F7F7F7",
             "#F7F7F7",
             "#DEEFFF",
             "#F7F7F7",
             "#F7F7F7",
             "#F7F7F7",
             "#F7F7F7",
             "#F7F7F7",
             "#F7F7F7",
             "#DEEFFF",
             "#F7F7F7",
             "#F7F7F7",
             "#F7F7F7",
             "#F7F7F7",
             "#F7F7F7",
             "#F7F7F7",
             "#E5E5E5"
            ],
            [
             "#FFFFFF",
             "#FFFFFF",
             "#FFFFFF",
             "#DEEFFF",
             "#DEEFFF",
             "#FFFFFF",
             "#FFFFFF",
             "#FFFFFF",
             "#F7F7F7",
             "#FFFFFF",
             "#DEEFFF",
             "#FFFFFF",
             "#FFFFFF",
             "#FFFFFF",
             "#FFFFFF",
             "#FFFFFF",
             "#FFFFFF",
             "#DEEFFF",
             "#FFFFFF",
             "#FFFFFF",
             "#FFFFFF",
             "#FFFFFF",
             "#FFFFFF",
             "#FFFFFF",
             "#DEEFFF",
             "#FFFFFF",
             "#FFFFFF",
             "#FFFFFF",
             "#FFFFFF",
             "#FFFFFF",
             "#FFFFFF",
             "#E5E5E5"
            ],
            [
             "#FFFFFF",
             "#FFFFFF",
             "#FFFFFF",
             "#DEEFFF",
             "#DEEFFF",
             "#FFFFFF",
             "#FFFFFF",
             "#FFFFFF",
             "#F7F7F7",
             "#FFFFFF",
             "#DEEFFF",
             "#FFFFFF",
             "#FFFFFF",
             "#FFFFFF",
             "#FFFFFF",
             "#FFFFFF",
             "#FFFFFF",
             "#DEEFFF",
             "#FFFFFF",
             "#FFFFFF",
             "#FFFFFF",
             "#FFFFFF",
             "#FFFFFF",
             "#FFFFFF",
             "#DEEFFF",
             "#FFFFFF",
             "#FFFFFF",
             "#FFFFFF",
             "#FFFFFF",
             "#FFFFFF",
             "#FFFFFF",
             "#E5E5E5"
            ],
            [
             "#F7F7F7",
             "#F7F7F7",
             "#F7F7F7",
             "#DEEFFF",
             "#DEEFFF",
             "#F7F7F7",
             "#F7F7F7",
             "#F7F7F7",
             "#F7F7F7",
             "#F7F7F7",
             "#DEEFFF",
             "#F7F7F7",
             "#F7F7F7",
             "#F7F7F7",
             "#F7F7F7",
             "#F7F7F7",
             "#F7F7F7",
             "#DEEFFF",
             "#F7F7F7",
             "#F7F7F7",
             "#F7F7F7",
             "#F7F7F7",
             "#F7F7F7",
             "#F7F7F7",
             "#DEEFFF",
             "#F7F7F7",
             "#F7F7F7",
             "#F7F7F7",
             "#F7F7F7",
             "#F7F7F7",
             "#F7F7F7",
             "#E5E5E5"
            ],
            [
             "#FFFFFF",
             "#FFFFFF",
             "#FFFFFF",
             "#DEEFFF",
             "#DEEFFF",
             "#FFFFFF",
             "#FFFFFF",
             "#FFFFFF",
             "#F7F7F7",
             "#FFFFFF",
             "#DEEFFF",
             "#FFFFFF",
             "#FFFFFF",
             "#FFFFFF",
             "#FFFFFF",
             "#FFFFFF",
             "#FFFFFF",
             "#DEEFFF",
             "#FFFFFF",
             "#FFFFFF",
             "#FFFFFF",
             "#FFFFFF",
             "#FFFFFF",
             "#FFFFFF",
             "#DEEFFF",
             "#FFFFFF",
             "#FFFFFF",
             "#FFFFFF",
             "#FFFFFF",
             "#FFFFFF",
             "#FFFFFF",
             "#E5E5E5"
            ],
            [
             "#FFFFFF",
             "#FFFFFF",
             "#FFFFFF",
             "#DEEFFF",
             "#DEEFFF",
             "#FFFFFF",
             "#FFFFFF",
             "#FFFFFF",
             "#F7F7F7",
             "#FFFFFF",
             "#DEEFFF",
             "#FFFFFF",
             "#FFFFFF",
             "#FFFFFF",
             "#FFFFFF",
             "#FFFFFF",
             "#FFFFFF",
             "#DEEFFF",
             "#FFFFFF",
             "#FFFFFF",
             "#FFFFFF",
             "#FFFFFF",
             "#FFFFFF",
             "#FFFFFF",
             "#DEEFFF",
             "#FFFFFF",
             "#FFFFFF",
             "#FFFFFF",
             "#FFFFFF",
             "#FFFFFF",
             "#FFFFFF",
             "#E5E5E5"
            ],
            [
             "#FFFFFF",
             "#FFFFFF",
             "#FFFFFF",
             "#DEEFFF",
             "#DEEFFF",
             "#FFFFFF",
             "#FFFFFF",
             "#FFFFFF",
             "#F7F7F7",
             "#FFFFFF",
             "#DEEFFF",
             "#FFFFFF",
             "#FFFFFF",
             "#FFFFFF",
             "#FFFFFF",
             "#FFFFFF",
             "#FFFFFF",
             "#DEEFFF",
             "#FFFFFF",
             "#FFFFFF",
             "#FFFFFF",
             "#FFFFFF",
             "#FFFFFF",
             "#FFFFFF",
             "#DEEFFF",
             "#FFFFFF",
             "#FFFFFF",
             "#FFFFFF",
             "#FFFFFF",
             "#FFFFFF",
             "#FFFFFF",
             "#E5E5E5"
            ],
            [
             "#FFFFFF",
             "#FFFFFF",
             "#FFFFFF",
             "#DEEFFF",
             "#DEEFFF",
             "#FFFFFF",
             "#FFFFFF",
             "#FFFFFF",
             "#F7F7F7",
             "#FFFFFF",
             "#DEEFFF",
             "#FFFFFF",
             "#FFFFFF",
             "#FFFFFF",
             "#FFFFFF",
             "#FFFFFF",
             "#FFFFFF",
             "#DEEFFF",
             "#FFFFFF",
             "#FFFFFF",
             "#FFFFFF",
             "#FFFFFF",
             "#FFFFFF",
             "#FFFFFF",
             "#DEEFFF",
             "#FFFFFF",
             "#FFFFFF",
             "#FFFFFF",
             "#FFFFFF",
             "#FFFFFF",
             "#FFFFFF",
             "#E5E5E5"
            ],
            [
             "#FFFFFF",
             "#FFFFFF",
             "#FFFFFF",
             "#DEEFFF",
             "#DEEFFF",
             "#FFFFFF",
             "#FFFFFF",
             "#FFFFFF",
             "#F7F7F7",
             "#FFFFFF",
             "#DEEFFF",
             "#FFFFFF",
             "#FFFFFF",
             "#FFFFFF",
             "#FFFFFF",
             "#FFFFFF",
             "#FFFFFF",
             "#DEEFFF",
             "#FFFFFF",
             "#FFFFFF",
             "#FFFFFF",
             "#FFFFFF",
             "#FFFFFF",
             "#FFFFFF",
             "#DEEFFF",
             "#FFFFFF",
             "#FFFFFF",
             "#FFFFFF",
             "#FFFFFF",
             "#FFFFFF",
             "#FFFFFF",
             "#E5E5E5"
            ],
            [
             "#FFFFFF",
             "#FFFFFF",
             "#FFFFFF",
             "#DEEFFF",
             "#DEEFFF",
             "#FFFFFF",
             "#FFFFFF",
             "#FFFFFF",
             "#F7F7F7",
             "#FFFFFF",
             "#DEEFFF",
             "#FFFFFF",
             "#FFFFFF",
             "#FFFFFF",
             "#FFFFFF",
             "#FFFFFF",
             "#FFFFFF",
             "#DEEFFF",
             "#FFFFFF",
             "#FFFFFF",
             "#FFFFFF",
             "#FFFFFF",
             "#FFFFFF",
             "#FFFFFF",
             "#DEEFFF",
             "#FFFFFF",
             "#FFFFFF",
             "#FFFFFF",
             "#FFFFFF",
             "#FFFFFF",
             "#FFFFFF",
             "#E5E5E5"
            ],
            [
             "#FFFFFF",
             "#FFFFFF",
             "#FFFFFF",
             "#DEEFFF",
             "#DEEFFF",
             "#FFFFFF",
             "#FFFFFF",
             "#FFFFFF",
             "#F7F7F7",
             "#FFFFFF",
             "#DEEFFF",
             "#FFFFFF",
             "#FFFFFF",
             "#FFFFFF",
             "#FFFFFF",
             "#FFFFFF",
             "#FFFFFF",
             "#DEEFFF",
             "#FFFFFF",
             "#FFFFFF",
             "#FFFFFF",
             "#FFFFFF",
             "#FFFFFF",
             "#FFFFFF",
             "#DEEFFF",
             "#FFFFFF",
             "#FFFFFF",
             "#FFFFFF",
             "#FFFFFF",
             "#FFFFFF",
             "#FFFFFF",
             "#E5E5E5"
            ],
            [
             "#FFFFFF",
             "#FFFFFF",
             "#FFFFFF",
             "#DEEFFF",
             "#DEEFFF",
             "#FFFFFF",
             "#FFFFFF",
             "#FFFFFF",
             "#F7F7F7",
             "#FFFFFF",
             "#DEEFFF",
             "#FFFFFF",
             "#FFFFFF",
             "#FFFFFF",
             "#FFFFFF",
             "#FFFFFF",
             "#FFFFFF",
             "#DEEFFF",
             "#FFFFFF",
             "#FFFFFF",
             "#FFFFFF",
             "#FFFFFF",
             "#FFFFFF",
             "#FFFFFF",
             "#DEEFFF",
             "#FFFFFF",
             "#FFFFFF",
             "#FFFFFF",
             "#FFFFFF",
             "#FFFFFF",
             "#FFFFFF",
             "#E5E5E5"
            ],
            [
             "#FFFFFF",
             "#FFFFFF",
             "#FFFFFF",
             "#DEEFFF",
             "#DEEFFF",
             "#FFFFFF",
             "#FFFFFF",
             "#FFFFFF",
             "#F7F7F7",
             "#FFFFFF",
             "#DEEFFF",
             "#FFFFFF",
             "#FFFFFF",
             "#FFFFFF",
             "#FFFFFF",
             "#FFFFFF",
             "#FFFFFF",
             "#DEEFFF",
             "#FFFFFF",
             "#FFFFFF",
             "#FFFFFF",
             "#FFFFFF",
             "#FFFFFF",
             "#FFFFFF",
             "#DEEFFF",
             "#FFFFFF",
             "#FFFFFF",
             "#FFFFFF",
             "#FFFFFF",
             "#FFFFFF",
             "#FFFFFF",
             "#E5E5E5"
            ],
            [
             "#FFFFFF",
             "#FFFFFF",
             "#FFFFFF",
             "#DEEFFF",
             "#DEEFFF",
             "#FFFFFF",
             "#FFFFFF",
             "#FFFFFF",
             "#F7F7F7",
             "#FFFFFF",
             "#DEEFFF",
             "#FFFFFF",
             "#FFFFFF",
             "#FFFFFF",
             "#FFFFFF",
             "#FFFFFF",
             "#FFFFFF",
             "#DEEFFF",
             "#FFFFFF",
             "#FFFFFF",
             "#FFFFFF",
             "#FFFFFF",
             "#FFFFFF",
             "#FFFFFF",
             "#DEEFFF",
             "#FFFFFF",
             "#FFFFFF",
             "#FFFFFF",
             "#FFFFFF",
             "#FFFFFF",
             "#FFFFFF",
             "#E5E5E5"
            ],
            [
             "#FFFFFF",
             "#FFFFFF",
             "#FFFFFF",
             "#DEEFFF",
             "#DEEFFF",
             "#FFFFFF",
             "#FFFFFF",
             "#FFFFFF",
             "#F7F7F7",
             "#FFFFFF",
             "#DEEFFF",
             "#FFFFFF",
             "#FFFFFF",
             "#FFFFFF",
             "#FFFFFF",
             "#FFFFFF",
             "#FFFFFF",
             "#DEEFFF",
             "#FFFFFF",
             "#FFFFFF",
             "#FFFFFF",
             "#FFFFFF",
             "#FFFFFF",
             "#FFFFFF",
             "#DEEFFF",
             "#FFFFFF",
             "#FFFFFF",
             "#FFFFFF",
             "#FFFFFF",
             "#FFFFFF",
             "#FFFFFF",
             "#E5E5E5"
            ],
            [
             "#FFFFFF",
             "#FFFFFF",
             "#FFFFFF",
             "#DEEFFF",
             "#DEEFFF",
             "#FFFFFF",
             "#FFFFFF",
             "#FFFFFF",
             "#F7F7F7",
             "#FFFFFF",
             "#DEEFFF",
             "#FFFFFF",
             "#FFFFFF",
             "#FFFFFF",
             "#FFFFFF",
             "#FFFFFF",
             "#FFFFFF",
             "#DEEFFF",
             "#FFFFFF",
             "#FFFFFF",
             "#FFFFFF",
             "#FFFFFF",
             "#FFFFFF",
             "#FFFFFF",
             "#DEEFFF",
             "#FFFFFF",
             "#FFFFFF",
             "#FFFFFF",
             "#FFFFFF",
             "#FFFFFF",
             "#FFFFFF",
             "#E5E5E5"
            ]
           ],
           "width": 2
          },
          "values": [
           [
            "01/12/2022, Quinta-feira",
            "02/12/2022, Sexta-feira",
            "03/12/2022, Sábado",
            "04/12/2022, Domingo",
            "05/12/2022, Segunda-feira",
            "06/12/2022, Terça-feira",
            "07/12/2022, Quarta-feira",
            "08/12/2022, Quinta-feira",
            "09/12/2022, Sexta-feira",
            "10/12/2022, Sábado",
            "11/12/2022, Domingo",
            "12/12/2022, Segunda-feira",
            "13/12/2022, Terça-feira",
            "14/12/2022, Quarta-feira",
            "15/12/2022, Quinta-feira",
            "16/12/2022, Sexta-feira",
            "17/12/2022, Sábado",
            "18/12/2022, Domingo",
            "19/12/2022, Segunda-feira",
            "20/12/2022, Terça-feira",
            "21/12/2022, Quarta-feira",
            "22/12/2022, Quinta-feira",
            "23/12/2022, Sexta-feira",
            "24/12/2022, Sábado",
            "25/12/2022, Domingo",
            "26/12/2022, Segunda-feira",
            "27/12/2022, Terça-feira",
            "28/12/2022, Quarta-feira",
            "29/12/2022, Quinta-feira",
            "30/12/2022, Sexta-feira",
            "31/12/2022, Sábado",
            "Total"
           ],
           [
            "R$ 240.476,19",
            "R$ 240.476,19",
            "R$ 70.000,00",
            "",
            "",
            "R$ 240.476,19",
            "R$ 240.476,19",
            "R$ 240.476,19",
            "R$ 240.476,19",
            "R$ 70.000,00",
            "",
            "R$ 240.476,19",
            "R$ 240.476,19",
            "R$ 240.476,19",
            "R$ 240.476,19",
            "R$ 240.476,19",
            "R$ 70.000,00",
            "",
            "R$ 240.476,19",
            "R$ 240.476,19",
            "R$ 240.476,19",
            "R$ 240.476,19",
            "R$ 240.476,19",
            "R$ 70.000,00",
            "",
            "R$ 240.476,19",
            "R$ 240.476,19",
            "R$ 240.476,19",
            "R$ 240.476,19",
            "R$ 240.476,19",
            "R$ 70.000,00",
            "R$ 5.400.000,00"
           ],
           [
            "R$ 227.095,11",
            "R$ 108.891,98",
            "R$ 74.094,36",
            "",
            "R$ 165.739,03",
            "R$ 270.727,56",
            "R$ 270.034,95",
            "R$ 264.871,80",
            "R$ 18.628,78",
            "",
            "",
            "",
            "",
            "",
            "",
            "",
            "",
            "",
            "",
            "",
            "",
            "",
            "",
            "",
            "",
            "",
            "",
            "",
            "",
            "",
            "",
            "R$ 1.400.083,57"
           ],
           [
            "R$ 212.455,28",
            "R$ 99.342,14",
            "R$ 67.695,08",
            "",
            "R$ 160.566,22",
            "R$ 260.707,65",
            "R$ 256.795,30",
            "R$ 255.271,53",
            "R$ 17.514,07",
            "",
            "",
            "",
            "",
            "",
            "",
            "",
            "",
            "",
            "",
            "",
            "",
            "",
            "",
            "",
            "",
            "",
            "",
            "",
            "",
            "",
            "",
            "R$ 1.330.347,27"
           ],
           [
            "R$ 14.639,83",
            "R$ 9.549,84",
            "R$ 6.399,28",
            "",
            "R$ 5.172,81",
            "R$ 10.019,91",
            "R$ 13.239,65",
            "R$ 9.600,27",
            "R$ 1.114,71",
            "",
            "",
            "",
            "",
            "",
            "",
            "",
            "",
            "",
            "",
            "",
            "",
            "",
            "",
            "",
            "",
            "",
            "",
            "",
            "",
            "",
            "",
            "R$ 69.736,30"
           ],
           [
            "6,45%",
            "8,77%",
            "8,64%",
            "",
            "3,12%",
            "3,70%",
            "4,90%",
            "3,62%",
            "5,98%",
            "",
            "",
            "",
            "",
            "",
            "",
            "",
            "",
            "",
            "",
            "",
            "",
            "",
            "",
            "",
            "",
            "",
            "",
            "",
            "",
            "",
            "",
            "4,98%"
           ],
           [
            "R$ 205.070,46",
            "R$ 95.568,19",
            "R$ 66.663,65",
            "",
            "R$ 156.635,29",
            "R$ 251.281,60",
            "R$ 251.148,60",
            "R$ 247.087,89",
            "R$ 17.514,07",
            "",
            "",
            "",
            "",
            "",
            "",
            "",
            "",
            "",
            "",
            "",
            "",
            "",
            "",
            "",
            "",
            "",
            "",
            "",
            "",
            "",
            "",
            "R$ 1.290.969,75"
           ],
           [
            "490",
            "294",
            "204",
            "",
            "344",
            "515",
            "556",
            "548",
            "55",
            "",
            "",
            "",
            "",
            "",
            "",
            "",
            "",
            "",
            "",
            "",
            "",
            "",
            "",
            "",
            "",
            "",
            "",
            "",
            "",
            "",
            "",
            "1.285"
           ],
           [
            "6,81%",
            "9,99%",
            "9,18%",
            "",
            "3,27%",
            "3,91%",
            "5,14%",
            "3,51%",
            "6,36%",
            "",
            "",
            "",
            "",
            "",
            "",
            "",
            "",
            "",
            "",
            "",
            "",
            "",
            "",
            "",
            "",
            "",
            "",
            "",
            "",
            "",
            "",
            "5,21%"
           ],
           [
            "R$ 7.384,82",
            "R$ 3.773,95",
            "R$ 1.031,43",
            "",
            "R$ 3.930,93",
            "R$ 9.426,05",
            "R$ 5.646,70",
            "R$ 8.183,64",
            "",
            "",
            "",
            "",
            "",
            "",
            "",
            "",
            "",
            "",
            "",
            "",
            "",
            "",
            "",
            "",
            "",
            "",
            "",
            "",
            "",
            "",
            "",
            "R$ 39.377,52"
           ],
           [
            "19",
            "16",
            "8",
            "",
            "16",
            "29",
            "30",
            "33",
            "",
            "",
            "",
            "",
            "",
            "",
            "",
            "",
            "",
            "",
            "",
            "",
            "",
            "",
            "",
            "",
            "",
            "",
            "",
            "",
            "",
            "",
            "",
            "151"
           ],
           [
            "9,09%",
            "",
            "27,38%",
            "",
            "1,42%",
            "2,15%",
            "5,81%",
            "11,22%",
            "",
            "",
            "",
            "",
            "",
            "",
            "",
            "",
            "",
            "",
            "",
            "",
            "",
            "",
            "",
            "",
            "",
            "",
            "",
            "",
            "",
            "",
            "",
            "6,24%"
           ],
           [
            "88,35%",
            "41,31%",
            "96,71%",
            "",
            "",
            "108,41%",
            "106,79%",
            "106,15%",
            "7,28%",
            "",
            "",
            "",
            "",
            "",
            "",
            "",
            "",
            "",
            "",
            "",
            "",
            "",
            "",
            "",
            "",
            "",
            "",
            "",
            "",
            "",
            "",
            "24,64%"
           ],
           [
            "88,35%",
            "64,83%",
            "68,88%",
            "68,88%",
            "98,02%",
            "101,18%",
            "102,49%",
            "103,18%",
            "87,94%",
            "84,05%",
            "84,05%",
            "72,96%",
            "64,46%",
            "57,73%",
            "52,28%",
            "47,76%",
            "46,59%",
            "46,59%",
            "42,97%",
            "39,88%",
            "37,20%",
            "34,85%",
            "32,79%",
            "32,23%",
            "32,23%",
            "30,46%",
            "28,87%",
            "27,44%",
            "26,14%",
            "24,96%",
            "24,64%",
            "24,64%"
           ],
           [
            "R$ 4.770.777,97",
            "R$ 3.500.774,99",
            "R$ 3.719.485,70",
            "R$ 3.719.485,70",
            "R$ 5.293.228,94",
            "R$ 5.463.712,78",
            "R$ 5.534.263,65",
            "R$ 5.571.679,82",
            "R$ 4.748.548,33",
            "R$ 4.538.549,35",
            "R$ 4.538.549,35",
            "R$ 3.939.968,15",
            "R$ 3.480.880,95",
            "R$ 3.117.614,81",
            "R$ 2.823.004,87",
            "R$ 2.579.267,92",
            "R$ 2.516.033,70",
            "R$ 2.516.033,70",
            "R$ 2.320.587,30",
            "R$ 2.153.316,88",
            "R$ 2.008.539,21",
            "R$ 1.882.003,25",
            "R$ 1.770.465,68",
            "R$ 1.740.440,48",
            "R$ 1.740.440,48",
            "R$ 1.644.624,23",
            "R$ 1.558.807,40",
            "R$ 1.481.502,31",
            "R$ 1.411.502,44",
            "R$ 1.347.819,00",
            "R$ 1.330.347,27",
            ""
           ]
          ]
         },
         "columnwidth": [
          10.300925925925926,
          6.592592592592593,
          6.592592592592593,
          6.592592592592593,
          6.592592592592593,
          4.12037037037037,
          6.592592592592593,
          5.356481481481481,
          4.944444444444445,
          6.592592592592593,
          4.944444444444445,
          4.12037037037037,
          2.8842592592592595,
          2.8842592592592595,
          6.592592592592593
         ],
         "domain": {
          "y": [
           0,
           1
          ]
         },
         "header": {
          "align": "center",
          "fill": {
           "color": "#E5E5E5"
          },
          "font": {
           "color": [
            "#000000",
            "#000000",
            "#118DFF",
            "#000000",
            "#FF0000",
            "#FF0000",
            "#E04392",
            "#000000",
            "#FF0000",
            "#E04392",
            "#000000",
            "#FF0000",
            "#000000",
            "#000000",
            "#000000"
           ],
           "family": "Segoe UI Semibold",
           "size": 13.185185185185185
          },
          "line": {
           "color": "#E5E5E5",
           "width": 3
          },
          "values": [
           "Data",
           "Meta",
           "Venda\nSIAC",
           "Venda\nLíquida",
           "Devolução",
           "%\nDev",
           "Venda\nCNPJ",
           "Clientes\nCNPJ",
           "% Dev\nCNPJ",
           "Venda\nCPF",
           "Clientes\nCPF",
           "% Dev\nCPF",
           "%\nDia",
           "%\nMês",
           "Projeção\nmensal"
          ]
         },
         "type": "table"
        }
       ],
       "layout": {
        "height": 890,
        "template": {
         "data": {
          "bar": [
           {
            "error_x": {
             "color": "#2a3f5f"
            },
            "error_y": {
             "color": "#2a3f5f"
            },
            "marker": {
             "line": {
              "color": "#E5ECF6",
              "width": 0.5
             },
             "pattern": {
              "fillmode": "overlay",
              "size": 10,
              "solidity": 0.2
             }
            },
            "type": "bar"
           }
          ],
          "barpolar": [
           {
            "marker": {
             "line": {
              "color": "#E5ECF6",
              "width": 0.5
             },
             "pattern": {
              "fillmode": "overlay",
              "size": 10,
              "solidity": 0.2
             }
            },
            "type": "barpolar"
           }
          ],
          "carpet": [
           {
            "aaxis": {
             "endlinecolor": "#2a3f5f",
             "gridcolor": "white",
             "linecolor": "white",
             "minorgridcolor": "white",
             "startlinecolor": "#2a3f5f"
            },
            "baxis": {
             "endlinecolor": "#2a3f5f",
             "gridcolor": "white",
             "linecolor": "white",
             "minorgridcolor": "white",
             "startlinecolor": "#2a3f5f"
            },
            "type": "carpet"
           }
          ],
          "choropleth": [
           {
            "colorbar": {
             "outlinewidth": 0,
             "ticks": ""
            },
            "type": "choropleth"
           }
          ],
          "contour": [
           {
            "colorbar": {
             "outlinewidth": 0,
             "ticks": ""
            },
            "colorscale": [
             [
              0,
              "#0d0887"
             ],
             [
              0.1111111111111111,
              "#46039f"
             ],
             [
              0.2222222222222222,
              "#7201a8"
             ],
             [
              0.3333333333333333,
              "#9c179e"
             ],
             [
              0.4444444444444444,
              "#bd3786"
             ],
             [
              0.5555555555555556,
              "#d8576b"
             ],
             [
              0.6666666666666666,
              "#ed7953"
             ],
             [
              0.7777777777777778,
              "#fb9f3a"
             ],
             [
              0.8888888888888888,
              "#fdca26"
             ],
             [
              1,
              "#f0f921"
             ]
            ],
            "type": "contour"
           }
          ],
          "contourcarpet": [
           {
            "colorbar": {
             "outlinewidth": 0,
             "ticks": ""
            },
            "type": "contourcarpet"
           }
          ],
          "heatmap": [
           {
            "colorbar": {
             "outlinewidth": 0,
             "ticks": ""
            },
            "colorscale": [
             [
              0,
              "#0d0887"
             ],
             [
              0.1111111111111111,
              "#46039f"
             ],
             [
              0.2222222222222222,
              "#7201a8"
             ],
             [
              0.3333333333333333,
              "#9c179e"
             ],
             [
              0.4444444444444444,
              "#bd3786"
             ],
             [
              0.5555555555555556,
              "#d8576b"
             ],
             [
              0.6666666666666666,
              "#ed7953"
             ],
             [
              0.7777777777777778,
              "#fb9f3a"
             ],
             [
              0.8888888888888888,
              "#fdca26"
             ],
             [
              1,
              "#f0f921"
             ]
            ],
            "type": "heatmap"
           }
          ],
          "heatmapgl": [
           {
            "colorbar": {
             "outlinewidth": 0,
             "ticks": ""
            },
            "colorscale": [
             [
              0,
              "#0d0887"
             ],
             [
              0.1111111111111111,
              "#46039f"
             ],
             [
              0.2222222222222222,
              "#7201a8"
             ],
             [
              0.3333333333333333,
              "#9c179e"
             ],
             [
              0.4444444444444444,
              "#bd3786"
             ],
             [
              0.5555555555555556,
              "#d8576b"
             ],
             [
              0.6666666666666666,
              "#ed7953"
             ],
             [
              0.7777777777777778,
              "#fb9f3a"
             ],
             [
              0.8888888888888888,
              "#fdca26"
             ],
             [
              1,
              "#f0f921"
             ]
            ],
            "type": "heatmapgl"
           }
          ],
          "histogram": [
           {
            "marker": {
             "pattern": {
              "fillmode": "overlay",
              "size": 10,
              "solidity": 0.2
             }
            },
            "type": "histogram"
           }
          ],
          "histogram2d": [
           {
            "colorbar": {
             "outlinewidth": 0,
             "ticks": ""
            },
            "colorscale": [
             [
              0,
              "#0d0887"
             ],
             [
              0.1111111111111111,
              "#46039f"
             ],
             [
              0.2222222222222222,
              "#7201a8"
             ],
             [
              0.3333333333333333,
              "#9c179e"
             ],
             [
              0.4444444444444444,
              "#bd3786"
             ],
             [
              0.5555555555555556,
              "#d8576b"
             ],
             [
              0.6666666666666666,
              "#ed7953"
             ],
             [
              0.7777777777777778,
              "#fb9f3a"
             ],
             [
              0.8888888888888888,
              "#fdca26"
             ],
             [
              1,
              "#f0f921"
             ]
            ],
            "type": "histogram2d"
           }
          ],
          "histogram2dcontour": [
           {
            "colorbar": {
             "outlinewidth": 0,
             "ticks": ""
            },
            "colorscale": [
             [
              0,
              "#0d0887"
             ],
             [
              0.1111111111111111,
              "#46039f"
             ],
             [
              0.2222222222222222,
              "#7201a8"
             ],
             [
              0.3333333333333333,
              "#9c179e"
             ],
             [
              0.4444444444444444,
              "#bd3786"
             ],
             [
              0.5555555555555556,
              "#d8576b"
             ],
             [
              0.6666666666666666,
              "#ed7953"
             ],
             [
              0.7777777777777778,
              "#fb9f3a"
             ],
             [
              0.8888888888888888,
              "#fdca26"
             ],
             [
              1,
              "#f0f921"
             ]
            ],
            "type": "histogram2dcontour"
           }
          ],
          "mesh3d": [
           {
            "colorbar": {
             "outlinewidth": 0,
             "ticks": ""
            },
            "type": "mesh3d"
           }
          ],
          "parcoords": [
           {
            "line": {
             "colorbar": {
              "outlinewidth": 0,
              "ticks": ""
             }
            },
            "type": "parcoords"
           }
          ],
          "pie": [
           {
            "automargin": true,
            "type": "pie"
           }
          ],
          "scatter": [
           {
            "fillpattern": {
             "fillmode": "overlay",
             "size": 10,
             "solidity": 0.2
            },
            "type": "scatter"
           }
          ],
          "scatter3d": [
           {
            "line": {
             "colorbar": {
              "outlinewidth": 0,
              "ticks": ""
             }
            },
            "marker": {
             "colorbar": {
              "outlinewidth": 0,
              "ticks": ""
             }
            },
            "type": "scatter3d"
           }
          ],
          "scattercarpet": [
           {
            "marker": {
             "colorbar": {
              "outlinewidth": 0,
              "ticks": ""
             }
            },
            "type": "scattercarpet"
           }
          ],
          "scattergeo": [
           {
            "marker": {
             "colorbar": {
              "outlinewidth": 0,
              "ticks": ""
             }
            },
            "type": "scattergeo"
           }
          ],
          "scattergl": [
           {
            "marker": {
             "colorbar": {
              "outlinewidth": 0,
              "ticks": ""
             }
            },
            "type": "scattergl"
           }
          ],
          "scattermapbox": [
           {
            "marker": {
             "colorbar": {
              "outlinewidth": 0,
              "ticks": ""
             }
            },
            "type": "scattermapbox"
           }
          ],
          "scatterpolar": [
           {
            "marker": {
             "colorbar": {
              "outlinewidth": 0,
              "ticks": ""
             }
            },
            "type": "scatterpolar"
           }
          ],
          "scatterpolargl": [
           {
            "marker": {
             "colorbar": {
              "outlinewidth": 0,
              "ticks": ""
             }
            },
            "type": "scatterpolargl"
           }
          ],
          "scatterternary": [
           {
            "marker": {
             "colorbar": {
              "outlinewidth": 0,
              "ticks": ""
             }
            },
            "type": "scatterternary"
           }
          ],
          "surface": [
           {
            "colorbar": {
             "outlinewidth": 0,
             "ticks": ""
            },
            "colorscale": [
             [
              0,
              "#0d0887"
             ],
             [
              0.1111111111111111,
              "#46039f"
             ],
             [
              0.2222222222222222,
              "#7201a8"
             ],
             [
              0.3333333333333333,
              "#9c179e"
             ],
             [
              0.4444444444444444,
              "#bd3786"
             ],
             [
              0.5555555555555556,
              "#d8576b"
             ],
             [
              0.6666666666666666,
              "#ed7953"
             ],
             [
              0.7777777777777778,
              "#fb9f3a"
             ],
             [
              0.8888888888888888,
              "#fdca26"
             ],
             [
              1,
              "#f0f921"
             ]
            ],
            "type": "surface"
           }
          ],
          "table": [
           {
            "cells": {
             "fill": {
              "color": "#EBF0F8"
             },
             "line": {
              "color": "white"
             }
            },
            "header": {
             "fill": {
              "color": "#C8D4E3"
             },
             "line": {
              "color": "white"
             }
            },
            "type": "table"
           }
          ]
         },
         "layout": {
          "annotationdefaults": {
           "arrowcolor": "#2a3f5f",
           "arrowhead": 0,
           "arrowwidth": 1
          },
          "autotypenumbers": "strict",
          "coloraxis": {
           "colorbar": {
            "outlinewidth": 0,
            "ticks": ""
           }
          },
          "colorscale": {
           "diverging": [
            [
             0,
             "#8e0152"
            ],
            [
             0.1,
             "#c51b7d"
            ],
            [
             0.2,
             "#de77ae"
            ],
            [
             0.3,
             "#f1b6da"
            ],
            [
             0.4,
             "#fde0ef"
            ],
            [
             0.5,
             "#f7f7f7"
            ],
            [
             0.6,
             "#e6f5d0"
            ],
            [
             0.7,
             "#b8e186"
            ],
            [
             0.8,
             "#7fbc41"
            ],
            [
             0.9,
             "#4d9221"
            ],
            [
             1,
             "#276419"
            ]
           ],
           "sequential": [
            [
             0,
             "#0d0887"
            ],
            [
             0.1111111111111111,
             "#46039f"
            ],
            [
             0.2222222222222222,
             "#7201a8"
            ],
            [
             0.3333333333333333,
             "#9c179e"
            ],
            [
             0.4444444444444444,
             "#bd3786"
            ],
            [
             0.5555555555555556,
             "#d8576b"
            ],
            [
             0.6666666666666666,
             "#ed7953"
            ],
            [
             0.7777777777777778,
             "#fb9f3a"
            ],
            [
             0.8888888888888888,
             "#fdca26"
            ],
            [
             1,
             "#f0f921"
            ]
           ],
           "sequentialminus": [
            [
             0,
             "#0d0887"
            ],
            [
             0.1111111111111111,
             "#46039f"
            ],
            [
             0.2222222222222222,
             "#7201a8"
            ],
            [
             0.3333333333333333,
             "#9c179e"
            ],
            [
             0.4444444444444444,
             "#bd3786"
            ],
            [
             0.5555555555555556,
             "#d8576b"
            ],
            [
             0.6666666666666666,
             "#ed7953"
            ],
            [
             0.7777777777777778,
             "#fb9f3a"
            ],
            [
             0.8888888888888888,
             "#fdca26"
            ],
            [
             1,
             "#f0f921"
            ]
           ]
          },
          "colorway": [
           "#636efa",
           "#EF553B",
           "#00cc96",
           "#ab63fa",
           "#FFA15A",
           "#19d3f3",
           "#FF6692",
           "#B6E880",
           "#FF97FF",
           "#FECB52"
          ],
          "font": {
           "color": "#2a3f5f"
          },
          "geo": {
           "bgcolor": "white",
           "lakecolor": "white",
           "landcolor": "#E5ECF6",
           "showlakes": true,
           "showland": true,
           "subunitcolor": "white"
          },
          "hoverlabel": {
           "align": "left"
          },
          "hovermode": "closest",
          "mapbox": {
           "style": "light"
          },
          "paper_bgcolor": "white",
          "plot_bgcolor": "#E5ECF6",
          "polar": {
           "angularaxis": {
            "gridcolor": "white",
            "linecolor": "white",
            "ticks": ""
           },
           "bgcolor": "#E5ECF6",
           "radialaxis": {
            "gridcolor": "white",
            "linecolor": "white",
            "ticks": ""
           }
          },
          "scene": {
           "xaxis": {
            "backgroundcolor": "#E5ECF6",
            "gridcolor": "white",
            "gridwidth": 2,
            "linecolor": "white",
            "showbackground": true,
            "ticks": "",
            "zerolinecolor": "white"
           },
           "yaxis": {
            "backgroundcolor": "#E5ECF6",
            "gridcolor": "white",
            "gridwidth": 2,
            "linecolor": "white",
            "showbackground": true,
            "ticks": "",
            "zerolinecolor": "white"
           },
           "zaxis": {
            "backgroundcolor": "#E5ECF6",
            "gridcolor": "white",
            "gridwidth": 2,
            "linecolor": "white",
            "showbackground": true,
            "ticks": "",
            "zerolinecolor": "white"
           }
          },
          "shapedefaults": {
           "line": {
            "color": "#2a3f5f"
           }
          },
          "ternary": {
           "aaxis": {
            "gridcolor": "white",
            "linecolor": "white",
            "ticks": ""
           },
           "baxis": {
            "gridcolor": "white",
            "linecolor": "white",
            "ticks": ""
           },
           "bgcolor": "#E5ECF6",
           "caxis": {
            "gridcolor": "white",
            "linecolor": "white",
            "ticks": ""
           }
          },
          "title": {
           "x": 0.05
          },
          "xaxis": {
           "automargin": true,
           "gridcolor": "white",
           "linecolor": "white",
           "ticks": "",
           "title": {
            "standoff": 15
           },
           "zerolinecolor": "white",
           "zerolinewidth": 2
          },
          "yaxis": {
           "automargin": true,
           "gridcolor": "white",
           "linecolor": "white",
           "ticks": "",
           "title": {
            "standoff": 15
           },
           "zerolinecolor": "white",
           "zerolinewidth": 2
          }
         }
        },
        "title": {
         "font": {
          "color": "#00B050",
          "family": "Jost",
          "size": 24.72222222222222
         },
         "text": "◙◙◙◙◙◙◙◙◙◙ 🡆 SOF SUL 🡄 ◙◙◙◙◙◙◙◙◙◙◙◙◙◙◙◙◙◙◙◙◙◙◙◙◙◙◙◙◙◙◙◙◙◙◙◙◙◙◙◙◙◙◙◙◙◙◙◙◙◙◙◙◙◙◙◙◙◙◙◙◙◙◙◙◙◙◙◙◙◙◙◙◙◙◙◙ ⓈⓄⒻ ⓈⓊⓁ ◙◙◙◙◙◙◙◙◙◙",
         "x": 0.5,
         "y": 0.95,
         "yanchor": "bottom"
        },
        "width": 2060
       }
      }
     },
     "metadata": {},
     "output_type": "display_data"
    },
    {
     "name": "stdout",
     "output_type": "stream",
     "text": [
      "TESTE 06 TABLE.png\n",
      "\n",
      "09-12-2022 PrimeiraFoto - https://chat.whatsapp.com/LK4LDajkH52BNydoLGGD2d\n",
      "09-12-2022 API - https://chat.whatsapp.com/EBLX0fxYfvuHL7jZ9CZECQ\n",
      "09-12-2022 Teste Python - https://chat.whatsapp.com/I4y7EAVfns629NvfoLUtGI\n",
      "\n",
      "• 'VO' E-COMMERCE\n",
      "\n"
     ]
    },
    {
     "name": "stderr",
     "output_type": "stream",
     "text": [
      "C:\\Users\\admin\\AppData\\Local\\Temp\\ipykernel_19088\\1060041187.py:86: RuntimeWarning:\n",
      "\n",
      "divide by zero encountered in double_scalars\n",
      "\n"
     ]
    },
    {
     "data": {
      "application/vnd.plotly.v1+json": {
       "config": {
        "plotlyServerURL": "https://plot.ly"
       },
       "data": [
        {
         "cells": {
          "align": [
           "left",
           "center"
          ],
          "fill": {
           "color": [
            [
             "#FFFFFF",
             "#FFFFFF",
             "#FFFFFF",
             "#DEEFFF",
             "#DEEFFF",
             "#FFFFFF",
             "#FFFFFF",
             "#FFFFFF",
             "#F7F7F7",
             "#FFFFFF",
             "#DEEFFF",
             "#FFFFFF",
             "#FFFFFF",
             "#FFFFFF",
             "#FFFFFF",
             "#FFFFFF",
             "#FFFFFF",
             "#DEEFFF",
             "#FFFFFF",
             "#FFFFFF",
             "#FFFFFF",
             "#FFFFFF",
             "#FFFFFF",
             "#FFFFFF",
             "#DEEFFF",
             "#FFFFFF",
             "#FFFFFF",
             "#FFFFFF",
             "#FFFFFF",
             "#FFFFFF",
             "#FFFFFF",
             "#E5E5E5"
            ],
            [
             "#FFFFFF",
             "#FFFFFF",
             "#FFFFFF",
             "#DEEFFF",
             "#DEEFFF",
             "#FFFFFF",
             "#FFFFFF",
             "#FFFFFF",
             "#F7F7F7",
             "#FFFFFF",
             "#DEEFFF",
             "#FFFFFF",
             "#FFFFFF",
             "#FFFFFF",
             "#FFFFFF",
             "#FFFFFF",
             "#FFFFFF",
             "#DEEFFF",
             "#FFFFFF",
             "#FFFFFF",
             "#FFFFFF",
             "#FFFFFF",
             "#FFFFFF",
             "#FFFFFF",
             "#DEEFFF",
             "#FFFFFF",
             "#FFFFFF",
             "#FFFFFF",
             "#FFFFFF",
             "#FFFFFF",
             "#FFFFFF",
             "#E5E5E5"
            ],
            [
             "#F7F7F7",
             "#F7F7F7",
             "#F7F7F7",
             "#DEEFFF",
             "#DEEFFF",
             "#F7F7F7",
             "#F7F7F7",
             "#F7F7F7",
             "#F7F7F7",
             "#F7F7F7",
             "#DEEFFF",
             "#F7F7F7",
             "#F7F7F7",
             "#F7F7F7",
             "#F7F7F7",
             "#F7F7F7",
             "#F7F7F7",
             "#DEEFFF",
             "#F7F7F7",
             "#F7F7F7",
             "#F7F7F7",
             "#F7F7F7",
             "#F7F7F7",
             "#F7F7F7",
             "#DEEFFF",
             "#F7F7F7",
             "#F7F7F7",
             "#F7F7F7",
             "#F7F7F7",
             "#F7F7F7",
             "#F7F7F7",
             "#E5E5E5"
            ],
            [
             "#F7F7F7",
             "#F7F7F7",
             "#F7F7F7",
             "#DEEFFF",
             "#DEEFFF",
             "#F7F7F7",
             "#F7F7F7",
             "#F7F7F7",
             "#F7F7F7",
             "#F7F7F7",
             "#DEEFFF",
             "#F7F7F7",
             "#F7F7F7",
             "#F7F7F7",
             "#F7F7F7",
             "#F7F7F7",
             "#F7F7F7",
             "#DEEFFF",
             "#F7F7F7",
             "#F7F7F7",
             "#F7F7F7",
             "#F7F7F7",
             "#F7F7F7",
             "#F7F7F7",
             "#DEEFFF",
             "#F7F7F7",
             "#F7F7F7",
             "#F7F7F7",
             "#F7F7F7",
             "#F7F7F7",
             "#F7F7F7",
             "#E5E5E5"
            ],
            [
             "#FFFFFF",
             "#FFFFFF",
             "#FFFFFF",
             "#DEEFFF",
             "#DEEFFF",
             "#FFFFFF",
             "#FFFFFF",
             "#FFFFFF",
             "#F7F7F7",
             "#FFFFFF",
             "#DEEFFF",
             "#FFFFFF",
             "#FFFFFF",
             "#FFFFFF",
             "#FFFFFF",
             "#FFFFFF",
             "#FFFFFF",
             "#DEEFFF",
             "#FFFFFF",
             "#FFFFFF",
             "#FFFFFF",
             "#FFFFFF",
             "#FFFFFF",
             "#FFFFFF",
             "#DEEFFF",
             "#FFFFFF",
             "#FFFFFF",
             "#FFFFFF",
             "#FFFFFF",
             "#FFFFFF",
             "#FFFFFF",
             "#E5E5E5"
            ],
            [
             "#FFFFFF",
             "#FFFFFF",
             "#FFFFFF",
             "#DEEFFF",
             "#DEEFFF",
             "#FFFFFF",
             "#FFFFFF",
             "#FFFFFF",
             "#F7F7F7",
             "#FFFFFF",
             "#DEEFFF",
             "#FFFFFF",
             "#FFFFFF",
             "#FFFFFF",
             "#FFFFFF",
             "#FFFFFF",
             "#FFFFFF",
             "#DEEFFF",
             "#FFFFFF",
             "#FFFFFF",
             "#FFFFFF",
             "#FFFFFF",
             "#FFFFFF",
             "#FFFFFF",
             "#DEEFFF",
             "#FFFFFF",
             "#FFFFFF",
             "#FFFFFF",
             "#FFFFFF",
             "#FFFFFF",
             "#FFFFFF",
             "#E5E5E5"
            ],
            [
             "#F7F7F7",
             "#F7F7F7",
             "#F7F7F7",
             "#DEEFFF",
             "#DEEFFF",
             "#F7F7F7",
             "#F7F7F7",
             "#F7F7F7",
             "#F7F7F7",
             "#F7F7F7",
             "#DEEFFF",
             "#F7F7F7",
             "#F7F7F7",
             "#F7F7F7",
             "#F7F7F7",
             "#F7F7F7",
             "#F7F7F7",
             "#DEEFFF",
             "#F7F7F7",
             "#F7F7F7",
             "#F7F7F7",
             "#F7F7F7",
             "#F7F7F7",
             "#F7F7F7",
             "#DEEFFF",
             "#F7F7F7",
             "#F7F7F7",
             "#F7F7F7",
             "#F7F7F7",
             "#F7F7F7",
             "#F7F7F7",
             "#E5E5E5"
            ],
            [
             "#FFFFFF",
             "#FFFFFF",
             "#FFFFFF",
             "#DEEFFF",
             "#DEEFFF",
             "#FFFFFF",
             "#FFFFFF",
             "#FFFFFF",
             "#F7F7F7",
             "#FFFFFF",
             "#DEEFFF",
             "#FFFFFF",
             "#FFFFFF",
             "#FFFFFF",
             "#FFFFFF",
             "#FFFFFF",
             "#FFFFFF",
             "#DEEFFF",
             "#FFFFFF",
             "#FFFFFF",
             "#FFFFFF",
             "#FFFFFF",
             "#FFFFFF",
             "#FFFFFF",
             "#DEEFFF",
             "#FFFFFF",
             "#FFFFFF",
             "#FFFFFF",
             "#FFFFFF",
             "#FFFFFF",
             "#FFFFFF",
             "#E5E5E5"
            ],
            [
             "#FFFFFF",
             "#FFFFFF",
             "#FFFFFF",
             "#DEEFFF",
             "#DEEFFF",
             "#FFFFFF",
             "#FFFFFF",
             "#FFFFFF",
             "#F7F7F7",
             "#FFFFFF",
             "#DEEFFF",
             "#FFFFFF",
             "#FFFFFF",
             "#FFFFFF",
             "#FFFFFF",
             "#FFFFFF",
             "#FFFFFF",
             "#DEEFFF",
             "#FFFFFF",
             "#FFFFFF",
             "#FFFFFF",
             "#FFFFFF",
             "#FFFFFF",
             "#FFFFFF",
             "#DEEFFF",
             "#FFFFFF",
             "#FFFFFF",
             "#FFFFFF",
             "#FFFFFF",
             "#FFFFFF",
             "#FFFFFF",
             "#E5E5E5"
            ],
            [
             "#F7F7F7",
             "#F7F7F7",
             "#F7F7F7",
             "#DEEFFF",
             "#DEEFFF",
             "#F7F7F7",
             "#F7F7F7",
             "#F7F7F7",
             "#F7F7F7",
             "#F7F7F7",
             "#DEEFFF",
             "#F7F7F7",
             "#F7F7F7",
             "#F7F7F7",
             "#F7F7F7",
             "#F7F7F7",
             "#F7F7F7",
             "#DEEFFF",
             "#F7F7F7",
             "#F7F7F7",
             "#F7F7F7",
             "#F7F7F7",
             "#F7F7F7",
             "#F7F7F7",
             "#DEEFFF",
             "#F7F7F7",
             "#F7F7F7",
             "#F7F7F7",
             "#F7F7F7",
             "#F7F7F7",
             "#F7F7F7",
             "#E5E5E5"
            ],
            [
             "#FFFFFF",
             "#FFFFFF",
             "#FFFFFF",
             "#DEEFFF",
             "#DEEFFF",
             "#FFFFFF",
             "#FFFFFF",
             "#FFFFFF",
             "#F7F7F7",
             "#FFFFFF",
             "#DEEFFF",
             "#FFFFFF",
             "#FFFFFF",
             "#FFFFFF",
             "#FFFFFF",
             "#FFFFFF",
             "#FFFFFF",
             "#DEEFFF",
             "#FFFFFF",
             "#FFFFFF",
             "#FFFFFF",
             "#FFFFFF",
             "#FFFFFF",
             "#FFFFFF",
             "#DEEFFF",
             "#FFFFFF",
             "#FFFFFF",
             "#FFFFFF",
             "#FFFFFF",
             "#FFFFFF",
             "#FFFFFF",
             "#E5E5E5"
            ],
            [
             "#FFFFFF",
             "#FFFFFF",
             "#FFFFFF",
             "#DEEFFF",
             "#DEEFFF",
             "#FFFFFF",
             "#FFFFFF",
             "#FFFFFF",
             "#F7F7F7",
             "#FFFFFF",
             "#DEEFFF",
             "#FFFFFF",
             "#FFFFFF",
             "#FFFFFF",
             "#FFFFFF",
             "#FFFFFF",
             "#FFFFFF",
             "#DEEFFF",
             "#FFFFFF",
             "#FFFFFF",
             "#FFFFFF",
             "#FFFFFF",
             "#FFFFFF",
             "#FFFFFF",
             "#DEEFFF",
             "#FFFFFF",
             "#FFFFFF",
             "#FFFFFF",
             "#FFFFFF",
             "#FFFFFF",
             "#FFFFFF",
             "#E5E5E5"
            ],
            [
             "#FFFFFF",
             "#FFFFFF",
             "#FFFFFF",
             "#DEEFFF",
             "#DEEFFF",
             "#FFFFFF",
             "#FFFFFF",
             "#FFFFFF",
             "#F7F7F7",
             "#FFFFFF",
             "#DEEFFF",
             "#FFFFFF",
             "#FFFFFF",
             "#FFFFFF",
             "#FFFFFF",
             "#FFFFFF",
             "#FFFFFF",
             "#DEEFFF",
             "#FFFFFF",
             "#FFFFFF",
             "#FFFFFF",
             "#FFFFFF",
             "#FFFFFF",
             "#FFFFFF",
             "#DEEFFF",
             "#FFFFFF",
             "#FFFFFF",
             "#FFFFFF",
             "#FFFFFF",
             "#FFFFFF",
             "#FFFFFF",
             "#E5E5E5"
            ],
            [
             "#FFFFFF",
             "#FFFFFF",
             "#FFFFFF",
             "#DEEFFF",
             "#DEEFFF",
             "#FFFFFF",
             "#FFFFFF",
             "#FFFFFF",
             "#F7F7F7",
             "#FFFFFF",
             "#DEEFFF",
             "#FFFFFF",
             "#FFFFFF",
             "#FFFFFF",
             "#FFFFFF",
             "#FFFFFF",
             "#FFFFFF",
             "#DEEFFF",
             "#FFFFFF",
             "#FFFFFF",
             "#FFFFFF",
             "#FFFFFF",
             "#FFFFFF",
             "#FFFFFF",
             "#DEEFFF",
             "#FFFFFF",
             "#FFFFFF",
             "#FFFFFF",
             "#FFFFFF",
             "#FFFFFF",
             "#FFFFFF",
             "#E5E5E5"
            ],
            [
             "#FFFFFF",
             "#FFFFFF",
             "#FFFFFF",
             "#DEEFFF",
             "#DEEFFF",
             "#FFFFFF",
             "#FFFFFF",
             "#FFFFFF",
             "#F7F7F7",
             "#FFFFFF",
             "#DEEFFF",
             "#FFFFFF",
             "#FFFFFF",
             "#FFFFFF",
             "#FFFFFF",
             "#FFFFFF",
             "#FFFFFF",
             "#DEEFFF",
             "#FFFFFF",
             "#FFFFFF",
             "#FFFFFF",
             "#FFFFFF",
             "#FFFFFF",
             "#FFFFFF",
             "#DEEFFF",
             "#FFFFFF",
             "#FFFFFF",
             "#FFFFFF",
             "#FFFFFF",
             "#FFFFFF",
             "#FFFFFF",
             "#E5E5E5"
            ],
            [
             "#FFFFFF",
             "#FFFFFF",
             "#FFFFFF",
             "#DEEFFF",
             "#DEEFFF",
             "#FFFFFF",
             "#FFFFFF",
             "#FFFFFF",
             "#F7F7F7",
             "#FFFFFF",
             "#DEEFFF",
             "#FFFFFF",
             "#FFFFFF",
             "#FFFFFF",
             "#FFFFFF",
             "#FFFFFF",
             "#FFFFFF",
             "#DEEFFF",
             "#FFFFFF",
             "#FFFFFF",
             "#FFFFFF",
             "#FFFFFF",
             "#FFFFFF",
             "#FFFFFF",
             "#DEEFFF",
             "#FFFFFF",
             "#FFFFFF",
             "#FFFFFF",
             "#FFFFFF",
             "#FFFFFF",
             "#FFFFFF",
             "#E5E5E5"
            ],
            [
             "#FFFFFF",
             "#FFFFFF",
             "#FFFFFF",
             "#DEEFFF",
             "#DEEFFF",
             "#FFFFFF",
             "#FFFFFF",
             "#FFFFFF",
             "#F7F7F7",
             "#FFFFFF",
             "#DEEFFF",
             "#FFFFFF",
             "#FFFFFF",
             "#FFFFFF",
             "#FFFFFF",
             "#FFFFFF",
             "#FFFFFF",
             "#DEEFFF",
             "#FFFFFF",
             "#FFFFFF",
             "#FFFFFF",
             "#FFFFFF",
             "#FFFFFF",
             "#FFFFFF",
             "#DEEFFF",
             "#FFFFFF",
             "#FFFFFF",
             "#FFFFFF",
             "#FFFFFF",
             "#FFFFFF",
             "#FFFFFF",
             "#E5E5E5"
            ],
            [
             "#FFFFFF",
             "#FFFFFF",
             "#FFFFFF",
             "#DEEFFF",
             "#DEEFFF",
             "#FFFFFF",
             "#FFFFFF",
             "#FFFFFF",
             "#F7F7F7",
             "#FFFFFF",
             "#DEEFFF",
             "#FFFFFF",
             "#FFFFFF",
             "#FFFFFF",
             "#FFFFFF",
             "#FFFFFF",
             "#FFFFFF",
             "#DEEFFF",
             "#FFFFFF",
             "#FFFFFF",
             "#FFFFFF",
             "#FFFFFF",
             "#FFFFFF",
             "#FFFFFF",
             "#DEEFFF",
             "#FFFFFF",
             "#FFFFFF",
             "#FFFFFF",
             "#FFFFFF",
             "#FFFFFF",
             "#FFFFFF",
             "#E5E5E5"
            ],
            [
             "#FFFFFF",
             "#FFFFFF",
             "#FFFFFF",
             "#DEEFFF",
             "#DEEFFF",
             "#FFFFFF",
             "#FFFFFF",
             "#FFFFFF",
             "#F7F7F7",
             "#FFFFFF",
             "#DEEFFF",
             "#FFFFFF",
             "#FFFFFF",
             "#FFFFFF",
             "#FFFFFF",
             "#FFFFFF",
             "#FFFFFF",
             "#DEEFFF",
             "#FFFFFF",
             "#FFFFFF",
             "#FFFFFF",
             "#FFFFFF",
             "#FFFFFF",
             "#FFFFFF",
             "#DEEFFF",
             "#FFFFFF",
             "#FFFFFF",
             "#FFFFFF",
             "#FFFFFF",
             "#FFFFFF",
             "#FFFFFF",
             "#E5E5E5"
            ],
            [
             "#FFFFFF",
             "#FFFFFF",
             "#FFFFFF",
             "#DEEFFF",
             "#DEEFFF",
             "#FFFFFF",
             "#FFFFFF",
             "#FFFFFF",
             "#F7F7F7",
             "#FFFFFF",
             "#DEEFFF",
             "#FFFFFF",
             "#FFFFFF",
             "#FFFFFF",
             "#FFFFFF",
             "#FFFFFF",
             "#FFFFFF",
             "#DEEFFF",
             "#FFFFFF",
             "#FFFFFF",
             "#FFFFFF",
             "#FFFFFF",
             "#FFFFFF",
             "#FFFFFF",
             "#DEEFFF",
             "#FFFFFF",
             "#FFFFFF",
             "#FFFFFF",
             "#FFFFFF",
             "#FFFFFF",
             "#FFFFFF",
             "#E5E5E5"
            ],
            [
             "#FFFFFF",
             "#FFFFFF",
             "#FFFFFF",
             "#DEEFFF",
             "#DEEFFF",
             "#FFFFFF",
             "#FFFFFF",
             "#FFFFFF",
             "#F7F7F7",
             "#FFFFFF",
             "#DEEFFF",
             "#FFFFFF",
             "#FFFFFF",
             "#FFFFFF",
             "#FFFFFF",
             "#FFFFFF",
             "#FFFFFF",
             "#DEEFFF",
             "#FFFFFF",
             "#FFFFFF",
             "#FFFFFF",
             "#FFFFFF",
             "#FFFFFF",
             "#FFFFFF",
             "#DEEFFF",
             "#FFFFFF",
             "#FFFFFF",
             "#FFFFFF",
             "#FFFFFF",
             "#FFFFFF",
             "#FFFFFF",
             "#E5E5E5"
            ],
            [
             "#FFFFFF",
             "#FFFFFF",
             "#FFFFFF",
             "#DEEFFF",
             "#DEEFFF",
             "#FFFFFF",
             "#FFFFFF",
             "#FFFFFF",
             "#F7F7F7",
             "#FFFFFF",
             "#DEEFFF",
             "#FFFFFF",
             "#FFFFFF",
             "#FFFFFF",
             "#FFFFFF",
             "#FFFFFF",
             "#FFFFFF",
             "#DEEFFF",
             "#FFFFFF",
             "#FFFFFF",
             "#FFFFFF",
             "#FFFFFF",
             "#FFFFFF",
             "#FFFFFF",
             "#DEEFFF",
             "#FFFFFF",
             "#FFFFFF",
             "#FFFFFF",
             "#FFFFFF",
             "#FFFFFF",
             "#FFFFFF",
             "#E5E5E5"
            ]
           ]
          },
          "font": {
           "color": [
            "#000000",
            "#000000",
            "#118DFF",
            "#000000",
            "#FF0000",
            "#FF0000",
            "#E04392",
            "#000000",
            "#FF0000",
            "#E04392",
            "#000000",
            "#FF0000",
            [
             "#FF0000",
             "#FF0000",
             "#00B050",
             "#DEEFFF",
             "#DEEFFF",
             "#FFC000",
             "#FF0000",
             "#FF0000",
             "#FF0000",
             "#FFFFFF",
             "#DEEFFF",
             "#FFFFFF",
             "#FFFFFF",
             "#FFFFFF",
             "#FFFFFF",
             "#FFFFFF",
             "#FFFFFF",
             "#DEEFFF",
             "#FFFFFF",
             "#FFFFFF",
             "#FFFFFF",
             "#FFFFFF",
             "#FFFFFF",
             "#FFFFFF",
             "#DEEFFF",
             "#FFFFFF",
             "#FFFFFF",
             "#FFFFFF",
             "#FFFFFF",
             "#FFFFFF",
             "#FFFFFF",
             "#E5E5E5"
            ],
            [
             "#FF0000",
             "#FF0000",
             "#FF0000",
             "#DEEFFF",
             "#DEEFFF",
             "#FF0000",
             "#FF0000",
             "#FF0000",
             "#FF0000",
             "#FFFFFF",
             "#DEEFFF",
             "#FFFFFF",
             "#FFFFFF",
             "#FFFFFF",
             "#FFFFFF",
             "#FFFFFF",
             "#FFFFFF",
             "#DEEFFF",
             "#FFFFFF",
             "#FFFFFF",
             "#FFFFFF",
             "#FFFFFF",
             "#FFFFFF",
             "#FFFFFF",
             "#DEEFFF",
             "#FFFFFF",
             "#FFFFFF",
             "#FFFFFF",
             "#FFFFFF",
             "#FFFFFF",
             "#FFFFFF",
             "#E5E5E5"
            ],
            [
             "#000000",
             "#000000",
             "#000000",
             "#DEEFFF",
             "#DEEFFF",
             "#000000",
             "#000000",
             "#000000",
             "#000000",
             "#FFFFFF",
             "#DEEFFF",
             "#FFFFFF",
             "#FFFFFF",
             "#FFFFFF",
             "#FFFFFF",
             "#FFFFFF",
             "#FFFFFF",
             "#DEEFFF",
             "#FFFFFF",
             "#FFFFFF",
             "#FFFFFF",
             "#FFFFFF",
             "#FFFFFF",
             "#FFFFFF",
             "#DEEFFF",
             "#FFFFFF",
             "#FFFFFF",
             "#FFFFFF",
             "#FFFFFF",
             "#FFFFFF",
             "#FFFFFF",
             "#118DFF"
            ]
           ],
           "family": "Segoe UI Semibold",
           "size": 13.185185185185185
          },
          "line": {
           "color": [
            [
             "#FFFFFF",
             "#FFFFFF",
             "#FFFFFF",
             "#DEEFFF",
             "#DEEFFF",
             "#FFFFFF",
             "#FFFFFF",
             "#FFFFFF",
             "#F7F7F7",
             "#FFFFFF",
             "#DEEFFF",
             "#FFFFFF",
             "#FFFFFF",
             "#FFFFFF",
             "#FFFFFF",
             "#FFFFFF",
             "#FFFFFF",
             "#DEEFFF",
             "#FFFFFF",
             "#FFFFFF",
             "#FFFFFF",
             "#FFFFFF",
             "#FFFFFF",
             "#FFFFFF",
             "#DEEFFF",
             "#FFFFFF",
             "#FFFFFF",
             "#FFFFFF",
             "#FFFFFF",
             "#FFFFFF",
             "#FFFFFF",
             "#E5E5E5"
            ],
            [
             "#FFFFFF",
             "#FFFFFF",
             "#FFFFFF",
             "#DEEFFF",
             "#DEEFFF",
             "#FFFFFF",
             "#FFFFFF",
             "#FFFFFF",
             "#F7F7F7",
             "#FFFFFF",
             "#DEEFFF",
             "#FFFFFF",
             "#FFFFFF",
             "#FFFFFF",
             "#FFFFFF",
             "#FFFFFF",
             "#FFFFFF",
             "#DEEFFF",
             "#FFFFFF",
             "#FFFFFF",
             "#FFFFFF",
             "#FFFFFF",
             "#FFFFFF",
             "#FFFFFF",
             "#DEEFFF",
             "#FFFFFF",
             "#FFFFFF",
             "#FFFFFF",
             "#FFFFFF",
             "#FFFFFF",
             "#FFFFFF",
             "#E5E5E5"
            ],
            [
             "#F7F7F7",
             "#F7F7F7",
             "#F7F7F7",
             "#DEEFFF",
             "#DEEFFF",
             "#F7F7F7",
             "#F7F7F7",
             "#F7F7F7",
             "#F7F7F7",
             "#F7F7F7",
             "#DEEFFF",
             "#F7F7F7",
             "#F7F7F7",
             "#F7F7F7",
             "#F7F7F7",
             "#F7F7F7",
             "#F7F7F7",
             "#DEEFFF",
             "#F7F7F7",
             "#F7F7F7",
             "#F7F7F7",
             "#F7F7F7",
             "#F7F7F7",
             "#F7F7F7",
             "#DEEFFF",
             "#F7F7F7",
             "#F7F7F7",
             "#F7F7F7",
             "#F7F7F7",
             "#F7F7F7",
             "#F7F7F7",
             "#E5E5E5"
            ],
            [
             "#F7F7F7",
             "#F7F7F7",
             "#F7F7F7",
             "#DEEFFF",
             "#DEEFFF",
             "#F7F7F7",
             "#F7F7F7",
             "#F7F7F7",
             "#F7F7F7",
             "#F7F7F7",
             "#DEEFFF",
             "#F7F7F7",
             "#F7F7F7",
             "#F7F7F7",
             "#F7F7F7",
             "#F7F7F7",
             "#F7F7F7",
             "#DEEFFF",
             "#F7F7F7",
             "#F7F7F7",
             "#F7F7F7",
             "#F7F7F7",
             "#F7F7F7",
             "#F7F7F7",
             "#DEEFFF",
             "#F7F7F7",
             "#F7F7F7",
             "#F7F7F7",
             "#F7F7F7",
             "#F7F7F7",
             "#F7F7F7",
             "#E5E5E5"
            ],
            [
             "#FFFFFF",
             "#FFFFFF",
             "#FFFFFF",
             "#DEEFFF",
             "#DEEFFF",
             "#FFFFFF",
             "#FFFFFF",
             "#FFFFFF",
             "#F7F7F7",
             "#FFFFFF",
             "#DEEFFF",
             "#FFFFFF",
             "#FFFFFF",
             "#FFFFFF",
             "#FFFFFF",
             "#FFFFFF",
             "#FFFFFF",
             "#DEEFFF",
             "#FFFFFF",
             "#FFFFFF",
             "#FFFFFF",
             "#FFFFFF",
             "#FFFFFF",
             "#FFFFFF",
             "#DEEFFF",
             "#FFFFFF",
             "#FFFFFF",
             "#FFFFFF",
             "#FFFFFF",
             "#FFFFFF",
             "#FFFFFF",
             "#E5E5E5"
            ],
            [
             "#FFFFFF",
             "#FFFFFF",
             "#FFFFFF",
             "#DEEFFF",
             "#DEEFFF",
             "#FFFFFF",
             "#FFFFFF",
             "#FFFFFF",
             "#F7F7F7",
             "#FFFFFF",
             "#DEEFFF",
             "#FFFFFF",
             "#FFFFFF",
             "#FFFFFF",
             "#FFFFFF",
             "#FFFFFF",
             "#FFFFFF",
             "#DEEFFF",
             "#FFFFFF",
             "#FFFFFF",
             "#FFFFFF",
             "#FFFFFF",
             "#FFFFFF",
             "#FFFFFF",
             "#DEEFFF",
             "#FFFFFF",
             "#FFFFFF",
             "#FFFFFF",
             "#FFFFFF",
             "#FFFFFF",
             "#FFFFFF",
             "#E5E5E5"
            ],
            [
             "#F7F7F7",
             "#F7F7F7",
             "#F7F7F7",
             "#DEEFFF",
             "#DEEFFF",
             "#F7F7F7",
             "#F7F7F7",
             "#F7F7F7",
             "#F7F7F7",
             "#F7F7F7",
             "#DEEFFF",
             "#F7F7F7",
             "#F7F7F7",
             "#F7F7F7",
             "#F7F7F7",
             "#F7F7F7",
             "#F7F7F7",
             "#DEEFFF",
             "#F7F7F7",
             "#F7F7F7",
             "#F7F7F7",
             "#F7F7F7",
             "#F7F7F7",
             "#F7F7F7",
             "#DEEFFF",
             "#F7F7F7",
             "#F7F7F7",
             "#F7F7F7",
             "#F7F7F7",
             "#F7F7F7",
             "#F7F7F7",
             "#E5E5E5"
            ],
            [
             "#FFFFFF",
             "#FFFFFF",
             "#FFFFFF",
             "#DEEFFF",
             "#DEEFFF",
             "#FFFFFF",
             "#FFFFFF",
             "#FFFFFF",
             "#F7F7F7",
             "#FFFFFF",
             "#DEEFFF",
             "#FFFFFF",
             "#FFFFFF",
             "#FFFFFF",
             "#FFFFFF",
             "#FFFFFF",
             "#FFFFFF",
             "#DEEFFF",
             "#FFFFFF",
             "#FFFFFF",
             "#FFFFFF",
             "#FFFFFF",
             "#FFFFFF",
             "#FFFFFF",
             "#DEEFFF",
             "#FFFFFF",
             "#FFFFFF",
             "#FFFFFF",
             "#FFFFFF",
             "#FFFFFF",
             "#FFFFFF",
             "#E5E5E5"
            ],
            [
             "#FFFFFF",
             "#FFFFFF",
             "#FFFFFF",
             "#DEEFFF",
             "#DEEFFF",
             "#FFFFFF",
             "#FFFFFF",
             "#FFFFFF",
             "#F7F7F7",
             "#FFFFFF",
             "#DEEFFF",
             "#FFFFFF",
             "#FFFFFF",
             "#FFFFFF",
             "#FFFFFF",
             "#FFFFFF",
             "#FFFFFF",
             "#DEEFFF",
             "#FFFFFF",
             "#FFFFFF",
             "#FFFFFF",
             "#FFFFFF",
             "#FFFFFF",
             "#FFFFFF",
             "#DEEFFF",
             "#FFFFFF",
             "#FFFFFF",
             "#FFFFFF",
             "#FFFFFF",
             "#FFFFFF",
             "#FFFFFF",
             "#E5E5E5"
            ],
            [
             "#F7F7F7",
             "#F7F7F7",
             "#F7F7F7",
             "#DEEFFF",
             "#DEEFFF",
             "#F7F7F7",
             "#F7F7F7",
             "#F7F7F7",
             "#F7F7F7",
             "#F7F7F7",
             "#DEEFFF",
             "#F7F7F7",
             "#F7F7F7",
             "#F7F7F7",
             "#F7F7F7",
             "#F7F7F7",
             "#F7F7F7",
             "#DEEFFF",
             "#F7F7F7",
             "#F7F7F7",
             "#F7F7F7",
             "#F7F7F7",
             "#F7F7F7",
             "#F7F7F7",
             "#DEEFFF",
             "#F7F7F7",
             "#F7F7F7",
             "#F7F7F7",
             "#F7F7F7",
             "#F7F7F7",
             "#F7F7F7",
             "#E5E5E5"
            ],
            [
             "#FFFFFF",
             "#FFFFFF",
             "#FFFFFF",
             "#DEEFFF",
             "#DEEFFF",
             "#FFFFFF",
             "#FFFFFF",
             "#FFFFFF",
             "#F7F7F7",
             "#FFFFFF",
             "#DEEFFF",
             "#FFFFFF",
             "#FFFFFF",
             "#FFFFFF",
             "#FFFFFF",
             "#FFFFFF",
             "#FFFFFF",
             "#DEEFFF",
             "#FFFFFF",
             "#FFFFFF",
             "#FFFFFF",
             "#FFFFFF",
             "#FFFFFF",
             "#FFFFFF",
             "#DEEFFF",
             "#FFFFFF",
             "#FFFFFF",
             "#FFFFFF",
             "#FFFFFF",
             "#FFFFFF",
             "#FFFFFF",
             "#E5E5E5"
            ],
            [
             "#FFFFFF",
             "#FFFFFF",
             "#FFFFFF",
             "#DEEFFF",
             "#DEEFFF",
             "#FFFFFF",
             "#FFFFFF",
             "#FFFFFF",
             "#F7F7F7",
             "#FFFFFF",
             "#DEEFFF",
             "#FFFFFF",
             "#FFFFFF",
             "#FFFFFF",
             "#FFFFFF",
             "#FFFFFF",
             "#FFFFFF",
             "#DEEFFF",
             "#FFFFFF",
             "#FFFFFF",
             "#FFFFFF",
             "#FFFFFF",
             "#FFFFFF",
             "#FFFFFF",
             "#DEEFFF",
             "#FFFFFF",
             "#FFFFFF",
             "#FFFFFF",
             "#FFFFFF",
             "#FFFFFF",
             "#FFFFFF",
             "#E5E5E5"
            ],
            [
             "#FFFFFF",
             "#FFFFFF",
             "#FFFFFF",
             "#DEEFFF",
             "#DEEFFF",
             "#FFFFFF",
             "#FFFFFF",
             "#FFFFFF",
             "#F7F7F7",
             "#FFFFFF",
             "#DEEFFF",
             "#FFFFFF",
             "#FFFFFF",
             "#FFFFFF",
             "#FFFFFF",
             "#FFFFFF",
             "#FFFFFF",
             "#DEEFFF",
             "#FFFFFF",
             "#FFFFFF",
             "#FFFFFF",
             "#FFFFFF",
             "#FFFFFF",
             "#FFFFFF",
             "#DEEFFF",
             "#FFFFFF",
             "#FFFFFF",
             "#FFFFFF",
             "#FFFFFF",
             "#FFFFFF",
             "#FFFFFF",
             "#E5E5E5"
            ],
            [
             "#FFFFFF",
             "#FFFFFF",
             "#FFFFFF",
             "#DEEFFF",
             "#DEEFFF",
             "#FFFFFF",
             "#FFFFFF",
             "#FFFFFF",
             "#F7F7F7",
             "#FFFFFF",
             "#DEEFFF",
             "#FFFFFF",
             "#FFFFFF",
             "#FFFFFF",
             "#FFFFFF",
             "#FFFFFF",
             "#FFFFFF",
             "#DEEFFF",
             "#FFFFFF",
             "#FFFFFF",
             "#FFFFFF",
             "#FFFFFF",
             "#FFFFFF",
             "#FFFFFF",
             "#DEEFFF",
             "#FFFFFF",
             "#FFFFFF",
             "#FFFFFF",
             "#FFFFFF",
             "#FFFFFF",
             "#FFFFFF",
             "#E5E5E5"
            ],
            [
             "#FFFFFF",
             "#FFFFFF",
             "#FFFFFF",
             "#DEEFFF",
             "#DEEFFF",
             "#FFFFFF",
             "#FFFFFF",
             "#FFFFFF",
             "#F7F7F7",
             "#FFFFFF",
             "#DEEFFF",
             "#FFFFFF",
             "#FFFFFF",
             "#FFFFFF",
             "#FFFFFF",
             "#FFFFFF",
             "#FFFFFF",
             "#DEEFFF",
             "#FFFFFF",
             "#FFFFFF",
             "#FFFFFF",
             "#FFFFFF",
             "#FFFFFF",
             "#FFFFFF",
             "#DEEFFF",
             "#FFFFFF",
             "#FFFFFF",
             "#FFFFFF",
             "#FFFFFF",
             "#FFFFFF",
             "#FFFFFF",
             "#E5E5E5"
            ],
            [
             "#FFFFFF",
             "#FFFFFF",
             "#FFFFFF",
             "#DEEFFF",
             "#DEEFFF",
             "#FFFFFF",
             "#FFFFFF",
             "#FFFFFF",
             "#F7F7F7",
             "#FFFFFF",
             "#DEEFFF",
             "#FFFFFF",
             "#FFFFFF",
             "#FFFFFF",
             "#FFFFFF",
             "#FFFFFF",
             "#FFFFFF",
             "#DEEFFF",
             "#FFFFFF",
             "#FFFFFF",
             "#FFFFFF",
             "#FFFFFF",
             "#FFFFFF",
             "#FFFFFF",
             "#DEEFFF",
             "#FFFFFF",
             "#FFFFFF",
             "#FFFFFF",
             "#FFFFFF",
             "#FFFFFF",
             "#FFFFFF",
             "#E5E5E5"
            ],
            [
             "#FFFFFF",
             "#FFFFFF",
             "#FFFFFF",
             "#DEEFFF",
             "#DEEFFF",
             "#FFFFFF",
             "#FFFFFF",
             "#FFFFFF",
             "#F7F7F7",
             "#FFFFFF",
             "#DEEFFF",
             "#FFFFFF",
             "#FFFFFF",
             "#FFFFFF",
             "#FFFFFF",
             "#FFFFFF",
             "#FFFFFF",
             "#DEEFFF",
             "#FFFFFF",
             "#FFFFFF",
             "#FFFFFF",
             "#FFFFFF",
             "#FFFFFF",
             "#FFFFFF",
             "#DEEFFF",
             "#FFFFFF",
             "#FFFFFF",
             "#FFFFFF",
             "#FFFFFF",
             "#FFFFFF",
             "#FFFFFF",
             "#E5E5E5"
            ],
            [
             "#FFFFFF",
             "#FFFFFF",
             "#FFFFFF",
             "#DEEFFF",
             "#DEEFFF",
             "#FFFFFF",
             "#FFFFFF",
             "#FFFFFF",
             "#F7F7F7",
             "#FFFFFF",
             "#DEEFFF",
             "#FFFFFF",
             "#FFFFFF",
             "#FFFFFF",
             "#FFFFFF",
             "#FFFFFF",
             "#FFFFFF",
             "#DEEFFF",
             "#FFFFFF",
             "#FFFFFF",
             "#FFFFFF",
             "#FFFFFF",
             "#FFFFFF",
             "#FFFFFF",
             "#DEEFFF",
             "#FFFFFF",
             "#FFFFFF",
             "#FFFFFF",
             "#FFFFFF",
             "#FFFFFF",
             "#FFFFFF",
             "#E5E5E5"
            ],
            [
             "#FFFFFF",
             "#FFFFFF",
             "#FFFFFF",
             "#DEEFFF",
             "#DEEFFF",
             "#FFFFFF",
             "#FFFFFF",
             "#FFFFFF",
             "#F7F7F7",
             "#FFFFFF",
             "#DEEFFF",
             "#FFFFFF",
             "#FFFFFF",
             "#FFFFFF",
             "#FFFFFF",
             "#FFFFFF",
             "#FFFFFF",
             "#DEEFFF",
             "#FFFFFF",
             "#FFFFFF",
             "#FFFFFF",
             "#FFFFFF",
             "#FFFFFF",
             "#FFFFFF",
             "#DEEFFF",
             "#FFFFFF",
             "#FFFFFF",
             "#FFFFFF",
             "#FFFFFF",
             "#FFFFFF",
             "#FFFFFF",
             "#E5E5E5"
            ],
            [
             "#FFFFFF",
             "#FFFFFF",
             "#FFFFFF",
             "#DEEFFF",
             "#DEEFFF",
             "#FFFFFF",
             "#FFFFFF",
             "#FFFFFF",
             "#F7F7F7",
             "#FFFFFF",
             "#DEEFFF",
             "#FFFFFF",
             "#FFFFFF",
             "#FFFFFF",
             "#FFFFFF",
             "#FFFFFF",
             "#FFFFFF",
             "#DEEFFF",
             "#FFFFFF",
             "#FFFFFF",
             "#FFFFFF",
             "#FFFFFF",
             "#FFFFFF",
             "#FFFFFF",
             "#DEEFFF",
             "#FFFFFF",
             "#FFFFFF",
             "#FFFFFF",
             "#FFFFFF",
             "#FFFFFF",
             "#FFFFFF",
             "#E5E5E5"
            ],
            [
             "#FFFFFF",
             "#FFFFFF",
             "#FFFFFF",
             "#DEEFFF",
             "#DEEFFF",
             "#FFFFFF",
             "#FFFFFF",
             "#FFFFFF",
             "#F7F7F7",
             "#FFFFFF",
             "#DEEFFF",
             "#FFFFFF",
             "#FFFFFF",
             "#FFFFFF",
             "#FFFFFF",
             "#FFFFFF",
             "#FFFFFF",
             "#DEEFFF",
             "#FFFFFF",
             "#FFFFFF",
             "#FFFFFF",
             "#FFFFFF",
             "#FFFFFF",
             "#FFFFFF",
             "#DEEFFF",
             "#FFFFFF",
             "#FFFFFF",
             "#FFFFFF",
             "#FFFFFF",
             "#FFFFFF",
             "#FFFFFF",
             "#E5E5E5"
            ],
            [
             "#FFFFFF",
             "#FFFFFF",
             "#FFFFFF",
             "#DEEFFF",
             "#DEEFFF",
             "#FFFFFF",
             "#FFFFFF",
             "#FFFFFF",
             "#F7F7F7",
             "#FFFFFF",
             "#DEEFFF",
             "#FFFFFF",
             "#FFFFFF",
             "#FFFFFF",
             "#FFFFFF",
             "#FFFFFF",
             "#FFFFFF",
             "#DEEFFF",
             "#FFFFFF",
             "#FFFFFF",
             "#FFFFFF",
             "#FFFFFF",
             "#FFFFFF",
             "#FFFFFF",
             "#DEEFFF",
             "#FFFFFF",
             "#FFFFFF",
             "#FFFFFF",
             "#FFFFFF",
             "#FFFFFF",
             "#FFFFFF",
             "#E5E5E5"
            ]
           ],
           "width": 2
          },
          "values": [
           [
            "01/12/2022, Quinta-feira",
            "02/12/2022, Sexta-feira",
            "03/12/2022, Sábado",
            "04/12/2022, Domingo",
            "05/12/2022, Segunda-feira",
            "06/12/2022, Terça-feira",
            "07/12/2022, Quarta-feira",
            "08/12/2022, Quinta-feira",
            "09/12/2022, Sexta-feira",
            "10/12/2022, Sábado",
            "11/12/2022, Domingo",
            "12/12/2022, Segunda-feira",
            "13/12/2022, Terça-feira",
            "14/12/2022, Quarta-feira",
            "15/12/2022, Quinta-feira",
            "16/12/2022, Sexta-feira",
            "17/12/2022, Sábado",
            "18/12/2022, Domingo",
            "19/12/2022, Segunda-feira",
            "20/12/2022, Terça-feira",
            "21/12/2022, Quarta-feira",
            "22/12/2022, Quinta-feira",
            "23/12/2022, Sexta-feira",
            "24/12/2022, Sábado",
            "25/12/2022, Domingo",
            "26/12/2022, Segunda-feira",
            "27/12/2022, Terça-feira",
            "28/12/2022, Quarta-feira",
            "29/12/2022, Quinta-feira",
            "30/12/2022, Sexta-feira",
            "31/12/2022, Sábado",
            "Total"
           ],
           [
            "R$ 19.047,62",
            "R$ 19.047,62",
            "",
            "",
            "",
            "R$ 19.047,62",
            "R$ 19.047,62",
            "R$ 19.047,62",
            "R$ 19.047,62",
            "",
            "",
            "R$ 19.047,62",
            "R$ 19.047,62",
            "R$ 19.047,62",
            "R$ 19.047,62",
            "R$ 19.047,62",
            "",
            "",
            "R$ 19.047,62",
            "R$ 19.047,62",
            "R$ 19.047,62",
            "R$ 19.047,62",
            "R$ 19.047,62",
            "",
            "",
            "R$ 19.047,62",
            "R$ 19.047,62",
            "R$ 19.047,62",
            "R$ 19.047,62",
            "R$ 19.047,62",
            "",
            "R$ 400.000,00"
           ],
           [
            "R$ 12.246,23",
            "R$ 10.868,26",
            "R$ 5.437,49",
            "",
            "R$ 15.062,03",
            "R$ 19.170,20",
            "R$ 14.413,18",
            "R$ 10.658,97",
            "R$ 5.812,99",
            "",
            "",
            "",
            "",
            "",
            "",
            "",
            "",
            "",
            "",
            "",
            "",
            "",
            "",
            "",
            "",
            "",
            "",
            "",
            "",
            "",
            "",
            "R$ 93.669,35"
           ],
           [
            "R$ 10.909,99",
            "R$ 10.868,26",
            "R$ 5.437,49",
            "",
            "R$ 4.604,17",
            "R$ 18.297,28",
            "R$ 12.857,99",
            "R$ 9.869,79",
            "R$ 5.812,99",
            "",
            "",
            "",
            "",
            "",
            "",
            "",
            "",
            "",
            "",
            "",
            "",
            "",
            "",
            "",
            "",
            "",
            "",
            "",
            "",
            "",
            "",
            "R$ 78.657,96"
           ],
           [
            "R$ 1.336,24",
            "",
            "",
            "",
            "R$ 10.457,86",
            "R$ 872,92",
            "R$ 1.555,19",
            "R$ 789,18",
            "",
            "",
            "",
            "",
            "",
            "",
            "",
            "",
            "",
            "",
            "",
            "",
            "",
            "",
            "",
            "",
            "",
            "",
            "",
            "",
            "",
            "",
            "",
            "R$ 15.011,39"
           ],
           [
            "10,91%",
            "",
            "",
            "",
            "69,43%",
            "4,55%",
            "10,79%",
            "7,40%",
            "",
            "",
            "",
            "",
            "",
            "",
            "",
            "",
            "",
            "",
            "",
            "",
            "",
            "",
            "",
            "",
            "",
            "",
            "",
            "",
            "",
            "",
            "",
            "16,03%"
           ],
           [
            "R$ 600,60",
            "",
            "R$ 257,44",
            "",
            "",
            "R$ 652,40",
            "R$ 501,79",
            "R$ 697,60",
            "R$ 257,83",
            "",
            "",
            "",
            "",
            "",
            "",
            "",
            "",
            "",
            "",
            "",
            "",
            "",
            "",
            "",
            "",
            "",
            "",
            "",
            "",
            "",
            "",
            "R$ 2.967,66"
           ],
           [
            "2",
            "",
            "1",
            "",
            "",
            "4",
            "3",
            "2",
            "3",
            "",
            "",
            "",
            "",
            "",
            "",
            "",
            "",
            "",
            "",
            "",
            "",
            "",
            "",
            "",
            "",
            "",
            "",
            "",
            "",
            "",
            "",
            "15"
           ],
           [
            "",
            "",
            "",
            "",
            "",
            "",
            "",
            "",
            "",
            "",
            "",
            "",
            "",
            "",
            "",
            "",
            "",
            "",
            "",
            "",
            "",
            "",
            "",
            "",
            "",
            "",
            "",
            "",
            "",
            "",
            "",
            ""
           ],
           [
            "R$ 10.309,39",
            "R$ 10.868,26",
            "R$ 5.180,05",
            "",
            "R$ 4.604,17",
            "R$ 17.644,88",
            "R$ 12.356,20",
            "R$ 9.172,19",
            "R$ 5.555,16",
            "",
            "",
            "",
            "",
            "",
            "",
            "",
            "",
            "",
            "",
            "",
            "",
            "",
            "",
            "",
            "",
            "",
            "",
            "",
            "",
            "",
            "",
            "R$ 75.690,30"
           ],
           [
            "79",
            "60",
            "29",
            "",
            "113",
            "95",
            "88",
            "70",
            "35",
            "",
            "",
            "",
            "",
            "",
            "",
            "",
            "",
            "",
            "",
            "",
            "",
            "",
            "",
            "",
            "",
            "",
            "",
            "",
            "",
            "",
            "",
            "569"
           ],
           [
            "12,96%",
            "",
            "",
            "",
            "227,14%",
            "4,95%",
            "12,59%",
            "8,60%",
            "",
            "",
            "",
            "",
            "",
            "",
            "",
            "",
            "",
            "",
            "",
            "",
            "",
            "",
            "",
            "",
            "",
            "",
            "",
            "",
            "",
            "",
            "",
            "19,83%"
           ],
           [
            "57,28%",
            "57,06%",
            "",
            "",
            "",
            "96,06%",
            "67,50%",
            "51,82%",
            "30,52%",
            "",
            "",
            "",
            "",
            "",
            "",
            "",
            "",
            "",
            "",
            "",
            "",
            "",
            "",
            "",
            "",
            "",
            "",
            "",
            "",
            "",
            "",
            "19,66%"
           ],
           [
            "57,28%",
            "57,17%",
            "71,44%",
            "71,44%",
            "83,53%",
            "87,71%",
            "82,65%",
            "76,49%",
            "68,83%",
            "68,83%",
            "68,83%",
            "58,99%",
            "51,62%",
            "45,88%",
            "41,30%",
            "37,54%",
            "37,54%",
            "37,54%",
            "34,41%",
            "31,77%",
            "29,50%",
            "27,53%",
            "25,81%",
            "25,81%",
            "25,81%",
            "24,29%",
            "22,94%",
            "21,73%",
            "20,65%",
            "19,66%",
            "19,66%",
            "19,66%"
           ],
           [
            "R$ 229.109,79",
            "R$ 228.671,62",
            "R$ 285.765,27",
            "R$ 285.765,27",
            "R$ 334.109,05",
            "R$ 350.820,33",
            "R$ 330.619,70",
            "R$ 305.948,87",
            "R$ 275.302,86",
            "R$ 275.302,86",
            "R$ 275.302,86",
            "R$ 235.973,88",
            "R$ 206.477,14",
            "R$ 183.535,24",
            "R$ 165.181,72",
            "R$ 150.165,20",
            "R$ 150.165,20",
            "R$ 150.165,20",
            "R$ 137.651,43",
            "R$ 127.062,86",
            "R$ 117.986,94",
            "R$ 110.121,14",
            "R$ 103.238,57",
            "R$ 103.238,57",
            "R$ 103.238,57",
            "R$ 97.165,72",
            "R$ 91.767,62",
            "R$ 86.937,75",
            "R$ 82.590,86",
            "R$ 78.657,96",
            "R$ 78.657,96",
            ""
           ]
          ]
         },
         "columnwidth": [
          10.300925925925926,
          6.592592592592593,
          6.592592592592593,
          6.592592592592593,
          6.592592592592593,
          4.12037037037037,
          6.592592592592593,
          5.356481481481481,
          4.944444444444445,
          6.592592592592593,
          4.944444444444445,
          4.12037037037037,
          2.8842592592592595,
          2.8842592592592595,
          6.592592592592593
         ],
         "domain": {
          "y": [
           0,
           1
          ]
         },
         "header": {
          "align": "center",
          "fill": {
           "color": "#E5E5E5"
          },
          "font": {
           "color": [
            "#000000",
            "#000000",
            "#118DFF",
            "#000000",
            "#FF0000",
            "#FF0000",
            "#E04392",
            "#000000",
            "#FF0000",
            "#E04392",
            "#000000",
            "#FF0000",
            "#000000",
            "#000000",
            "#000000"
           ],
           "family": "Segoe UI Semibold",
           "size": 13.185185185185185
          },
          "line": {
           "color": "#E5E5E5",
           "width": 3
          },
          "values": [
           "Data",
           "Meta",
           "Venda\nSIAC",
           "Venda\nLíquida",
           "Devolução",
           "%\nDev",
           "Venda\nCNPJ",
           "Clientes\nCNPJ",
           "% Dev\nCNPJ",
           "Venda\nCPF",
           "Clientes\nCPF",
           "% Dev\nCPF",
           "%\nDia",
           "%\nMês",
           "Projeção\nmensal"
          ]
         },
         "type": "table"
        }
       ],
       "layout": {
        "height": 890,
        "template": {
         "data": {
          "bar": [
           {
            "error_x": {
             "color": "#2a3f5f"
            },
            "error_y": {
             "color": "#2a3f5f"
            },
            "marker": {
             "line": {
              "color": "#E5ECF6",
              "width": 0.5
             },
             "pattern": {
              "fillmode": "overlay",
              "size": 10,
              "solidity": 0.2
             }
            },
            "type": "bar"
           }
          ],
          "barpolar": [
           {
            "marker": {
             "line": {
              "color": "#E5ECF6",
              "width": 0.5
             },
             "pattern": {
              "fillmode": "overlay",
              "size": 10,
              "solidity": 0.2
             }
            },
            "type": "barpolar"
           }
          ],
          "carpet": [
           {
            "aaxis": {
             "endlinecolor": "#2a3f5f",
             "gridcolor": "white",
             "linecolor": "white",
             "minorgridcolor": "white",
             "startlinecolor": "#2a3f5f"
            },
            "baxis": {
             "endlinecolor": "#2a3f5f",
             "gridcolor": "white",
             "linecolor": "white",
             "minorgridcolor": "white",
             "startlinecolor": "#2a3f5f"
            },
            "type": "carpet"
           }
          ],
          "choropleth": [
           {
            "colorbar": {
             "outlinewidth": 0,
             "ticks": ""
            },
            "type": "choropleth"
           }
          ],
          "contour": [
           {
            "colorbar": {
             "outlinewidth": 0,
             "ticks": ""
            },
            "colorscale": [
             [
              0,
              "#0d0887"
             ],
             [
              0.1111111111111111,
              "#46039f"
             ],
             [
              0.2222222222222222,
              "#7201a8"
             ],
             [
              0.3333333333333333,
              "#9c179e"
             ],
             [
              0.4444444444444444,
              "#bd3786"
             ],
             [
              0.5555555555555556,
              "#d8576b"
             ],
             [
              0.6666666666666666,
              "#ed7953"
             ],
             [
              0.7777777777777778,
              "#fb9f3a"
             ],
             [
              0.8888888888888888,
              "#fdca26"
             ],
             [
              1,
              "#f0f921"
             ]
            ],
            "type": "contour"
           }
          ],
          "contourcarpet": [
           {
            "colorbar": {
             "outlinewidth": 0,
             "ticks": ""
            },
            "type": "contourcarpet"
           }
          ],
          "heatmap": [
           {
            "colorbar": {
             "outlinewidth": 0,
             "ticks": ""
            },
            "colorscale": [
             [
              0,
              "#0d0887"
             ],
             [
              0.1111111111111111,
              "#46039f"
             ],
             [
              0.2222222222222222,
              "#7201a8"
             ],
             [
              0.3333333333333333,
              "#9c179e"
             ],
             [
              0.4444444444444444,
              "#bd3786"
             ],
             [
              0.5555555555555556,
              "#d8576b"
             ],
             [
              0.6666666666666666,
              "#ed7953"
             ],
             [
              0.7777777777777778,
              "#fb9f3a"
             ],
             [
              0.8888888888888888,
              "#fdca26"
             ],
             [
              1,
              "#f0f921"
             ]
            ],
            "type": "heatmap"
           }
          ],
          "heatmapgl": [
           {
            "colorbar": {
             "outlinewidth": 0,
             "ticks": ""
            },
            "colorscale": [
             [
              0,
              "#0d0887"
             ],
             [
              0.1111111111111111,
              "#46039f"
             ],
             [
              0.2222222222222222,
              "#7201a8"
             ],
             [
              0.3333333333333333,
              "#9c179e"
             ],
             [
              0.4444444444444444,
              "#bd3786"
             ],
             [
              0.5555555555555556,
              "#d8576b"
             ],
             [
              0.6666666666666666,
              "#ed7953"
             ],
             [
              0.7777777777777778,
              "#fb9f3a"
             ],
             [
              0.8888888888888888,
              "#fdca26"
             ],
             [
              1,
              "#f0f921"
             ]
            ],
            "type": "heatmapgl"
           }
          ],
          "histogram": [
           {
            "marker": {
             "pattern": {
              "fillmode": "overlay",
              "size": 10,
              "solidity": 0.2
             }
            },
            "type": "histogram"
           }
          ],
          "histogram2d": [
           {
            "colorbar": {
             "outlinewidth": 0,
             "ticks": ""
            },
            "colorscale": [
             [
              0,
              "#0d0887"
             ],
             [
              0.1111111111111111,
              "#46039f"
             ],
             [
              0.2222222222222222,
              "#7201a8"
             ],
             [
              0.3333333333333333,
              "#9c179e"
             ],
             [
              0.4444444444444444,
              "#bd3786"
             ],
             [
              0.5555555555555556,
              "#d8576b"
             ],
             [
              0.6666666666666666,
              "#ed7953"
             ],
             [
              0.7777777777777778,
              "#fb9f3a"
             ],
             [
              0.8888888888888888,
              "#fdca26"
             ],
             [
              1,
              "#f0f921"
             ]
            ],
            "type": "histogram2d"
           }
          ],
          "histogram2dcontour": [
           {
            "colorbar": {
             "outlinewidth": 0,
             "ticks": ""
            },
            "colorscale": [
             [
              0,
              "#0d0887"
             ],
             [
              0.1111111111111111,
              "#46039f"
             ],
             [
              0.2222222222222222,
              "#7201a8"
             ],
             [
              0.3333333333333333,
              "#9c179e"
             ],
             [
              0.4444444444444444,
              "#bd3786"
             ],
             [
              0.5555555555555556,
              "#d8576b"
             ],
             [
              0.6666666666666666,
              "#ed7953"
             ],
             [
              0.7777777777777778,
              "#fb9f3a"
             ],
             [
              0.8888888888888888,
              "#fdca26"
             ],
             [
              1,
              "#f0f921"
             ]
            ],
            "type": "histogram2dcontour"
           }
          ],
          "mesh3d": [
           {
            "colorbar": {
             "outlinewidth": 0,
             "ticks": ""
            },
            "type": "mesh3d"
           }
          ],
          "parcoords": [
           {
            "line": {
             "colorbar": {
              "outlinewidth": 0,
              "ticks": ""
             }
            },
            "type": "parcoords"
           }
          ],
          "pie": [
           {
            "automargin": true,
            "type": "pie"
           }
          ],
          "scatter": [
           {
            "fillpattern": {
             "fillmode": "overlay",
             "size": 10,
             "solidity": 0.2
            },
            "type": "scatter"
           }
          ],
          "scatter3d": [
           {
            "line": {
             "colorbar": {
              "outlinewidth": 0,
              "ticks": ""
             }
            },
            "marker": {
             "colorbar": {
              "outlinewidth": 0,
              "ticks": ""
             }
            },
            "type": "scatter3d"
           }
          ],
          "scattercarpet": [
           {
            "marker": {
             "colorbar": {
              "outlinewidth": 0,
              "ticks": ""
             }
            },
            "type": "scattercarpet"
           }
          ],
          "scattergeo": [
           {
            "marker": {
             "colorbar": {
              "outlinewidth": 0,
              "ticks": ""
             }
            },
            "type": "scattergeo"
           }
          ],
          "scattergl": [
           {
            "marker": {
             "colorbar": {
              "outlinewidth": 0,
              "ticks": ""
             }
            },
            "type": "scattergl"
           }
          ],
          "scattermapbox": [
           {
            "marker": {
             "colorbar": {
              "outlinewidth": 0,
              "ticks": ""
             }
            },
            "type": "scattermapbox"
           }
          ],
          "scatterpolar": [
           {
            "marker": {
             "colorbar": {
              "outlinewidth": 0,
              "ticks": ""
             }
            },
            "type": "scatterpolar"
           }
          ],
          "scatterpolargl": [
           {
            "marker": {
             "colorbar": {
              "outlinewidth": 0,
              "ticks": ""
             }
            },
            "type": "scatterpolargl"
           }
          ],
          "scatterternary": [
           {
            "marker": {
             "colorbar": {
              "outlinewidth": 0,
              "ticks": ""
             }
            },
            "type": "scatterternary"
           }
          ],
          "surface": [
           {
            "colorbar": {
             "outlinewidth": 0,
             "ticks": ""
            },
            "colorscale": [
             [
              0,
              "#0d0887"
             ],
             [
              0.1111111111111111,
              "#46039f"
             ],
             [
              0.2222222222222222,
              "#7201a8"
             ],
             [
              0.3333333333333333,
              "#9c179e"
             ],
             [
              0.4444444444444444,
              "#bd3786"
             ],
             [
              0.5555555555555556,
              "#d8576b"
             ],
             [
              0.6666666666666666,
              "#ed7953"
             ],
             [
              0.7777777777777778,
              "#fb9f3a"
             ],
             [
              0.8888888888888888,
              "#fdca26"
             ],
             [
              1,
              "#f0f921"
             ]
            ],
            "type": "surface"
           }
          ],
          "table": [
           {
            "cells": {
             "fill": {
              "color": "#EBF0F8"
             },
             "line": {
              "color": "white"
             }
            },
            "header": {
             "fill": {
              "color": "#C8D4E3"
             },
             "line": {
              "color": "white"
             }
            },
            "type": "table"
           }
          ]
         },
         "layout": {
          "annotationdefaults": {
           "arrowcolor": "#2a3f5f",
           "arrowhead": 0,
           "arrowwidth": 1
          },
          "autotypenumbers": "strict",
          "coloraxis": {
           "colorbar": {
            "outlinewidth": 0,
            "ticks": ""
           }
          },
          "colorscale": {
           "diverging": [
            [
             0,
             "#8e0152"
            ],
            [
             0.1,
             "#c51b7d"
            ],
            [
             0.2,
             "#de77ae"
            ],
            [
             0.3,
             "#f1b6da"
            ],
            [
             0.4,
             "#fde0ef"
            ],
            [
             0.5,
             "#f7f7f7"
            ],
            [
             0.6,
             "#e6f5d0"
            ],
            [
             0.7,
             "#b8e186"
            ],
            [
             0.8,
             "#7fbc41"
            ],
            [
             0.9,
             "#4d9221"
            ],
            [
             1,
             "#276419"
            ]
           ],
           "sequential": [
            [
             0,
             "#0d0887"
            ],
            [
             0.1111111111111111,
             "#46039f"
            ],
            [
             0.2222222222222222,
             "#7201a8"
            ],
            [
             0.3333333333333333,
             "#9c179e"
            ],
            [
             0.4444444444444444,
             "#bd3786"
            ],
            [
             0.5555555555555556,
             "#d8576b"
            ],
            [
             0.6666666666666666,
             "#ed7953"
            ],
            [
             0.7777777777777778,
             "#fb9f3a"
            ],
            [
             0.8888888888888888,
             "#fdca26"
            ],
            [
             1,
             "#f0f921"
            ]
           ],
           "sequentialminus": [
            [
             0,
             "#0d0887"
            ],
            [
             0.1111111111111111,
             "#46039f"
            ],
            [
             0.2222222222222222,
             "#7201a8"
            ],
            [
             0.3333333333333333,
             "#9c179e"
            ],
            [
             0.4444444444444444,
             "#bd3786"
            ],
            [
             0.5555555555555556,
             "#d8576b"
            ],
            [
             0.6666666666666666,
             "#ed7953"
            ],
            [
             0.7777777777777778,
             "#fb9f3a"
            ],
            [
             0.8888888888888888,
             "#fdca26"
            ],
            [
             1,
             "#f0f921"
            ]
           ]
          },
          "colorway": [
           "#636efa",
           "#EF553B",
           "#00cc96",
           "#ab63fa",
           "#FFA15A",
           "#19d3f3",
           "#FF6692",
           "#B6E880",
           "#FF97FF",
           "#FECB52"
          ],
          "font": {
           "color": "#2a3f5f"
          },
          "geo": {
           "bgcolor": "white",
           "lakecolor": "white",
           "landcolor": "#E5ECF6",
           "showlakes": true,
           "showland": true,
           "subunitcolor": "white"
          },
          "hoverlabel": {
           "align": "left"
          },
          "hovermode": "closest",
          "mapbox": {
           "style": "light"
          },
          "paper_bgcolor": "white",
          "plot_bgcolor": "#E5ECF6",
          "polar": {
           "angularaxis": {
            "gridcolor": "white",
            "linecolor": "white",
            "ticks": ""
           },
           "bgcolor": "#E5ECF6",
           "radialaxis": {
            "gridcolor": "white",
            "linecolor": "white",
            "ticks": ""
           }
          },
          "scene": {
           "xaxis": {
            "backgroundcolor": "#E5ECF6",
            "gridcolor": "white",
            "gridwidth": 2,
            "linecolor": "white",
            "showbackground": true,
            "ticks": "",
            "zerolinecolor": "white"
           },
           "yaxis": {
            "backgroundcolor": "#E5ECF6",
            "gridcolor": "white",
            "gridwidth": 2,
            "linecolor": "white",
            "showbackground": true,
            "ticks": "",
            "zerolinecolor": "white"
           },
           "zaxis": {
            "backgroundcolor": "#E5ECF6",
            "gridcolor": "white",
            "gridwidth": 2,
            "linecolor": "white",
            "showbackground": true,
            "ticks": "",
            "zerolinecolor": "white"
           }
          },
          "shapedefaults": {
           "line": {
            "color": "#2a3f5f"
           }
          },
          "ternary": {
           "aaxis": {
            "gridcolor": "white",
            "linecolor": "white",
            "ticks": ""
           },
           "baxis": {
            "gridcolor": "white",
            "linecolor": "white",
            "ticks": ""
           },
           "bgcolor": "#E5ECF6",
           "caxis": {
            "gridcolor": "white",
            "linecolor": "white",
            "ticks": ""
           }
          },
          "title": {
           "x": 0.05
          },
          "xaxis": {
           "automargin": true,
           "gridcolor": "white",
           "linecolor": "white",
           "ticks": "",
           "title": {
            "standoff": 15
           },
           "zerolinecolor": "white",
           "zerolinewidth": 2
          },
          "yaxis": {
           "automargin": true,
           "gridcolor": "white",
           "linecolor": "white",
           "ticks": "",
           "title": {
            "standoff": 15
           },
           "zerolinecolor": "white",
           "zerolinewidth": 2
          }
         }
        },
        "title": {
         "font": {
          "color": "#FFC000",
          "family": "Jost",
          "size": 24.72222222222222
         },
         "text": "◙◙◙◙◙◙◙◙◙◙ 🡆 E-COMMERCE 🡄 ◙◙◙◙◙◙◙◙◙◙◙◙◙◙◙◙◙◙◙◙◙◙◙◙◙◙◙◙◙◙◙◙◙◙◙◙◙◙◙◙◙◙◙◙◙◙◙◙◙◙◙◙◙◙◙◙◙◙◙◙◙◙◙◙◙◙◙◙◙◙◙◙◙◙◙◙ Ⓔ-ⒸⓄⓂⓂⒺⓇⒸⒺ ◙◙◙◙◙◙◙◙◙◙",
         "x": 0.5,
         "y": 0.95,
         "yanchor": "bottom"
        },
        "width": 2060
       }
      }
     },
     "metadata": {},
     "output_type": "display_data"
    },
    {
     "name": "stdout",
     "output_type": "stream",
     "text": [
      "TESTE VO TABLE.png\n",
      "\n",
      "09-12-2022 PrimeiraFoto - https://chat.whatsapp.com/LK4LDajkH52BNydoLGGD2d\n",
      "09-12-2022 API - https://chat.whatsapp.com/EBLX0fxYfvuHL7jZ9CZECQ\n",
      "09-12-2022 Teste Python - https://chat.whatsapp.com/I4y7EAVfns629NvfoLUtGI\n"
     ]
    }
   ],
   "source": [
    "date_msg = dt.datetime.now().strftime('%d-%m-%Y')\n",
    "\n",
    "for (cod_loja, loja, cor, crypto, logico) in lista_lojas:\n",
    "\n",
    "    if logico:\n",
    "        print(f'\\n• \\'{cod_loja}\\' {loja[4:]}\\n')\n",
    "        print_plot(principal_dataframe=df_hoje,\n",
    "                   lojas=lista_lojas,\n",
    "                   loja_=cod_loja,\n",
    "                   save_image=caminho_imagem)\n",
    "\n",
    "        for (contato, link, logico) in contatos:\n",
    "            if logico:\n",
    "                print(f'{date_msg} {contato} - {link}')\n",
    "                # pwk.sendwhats_image(link.replace('https://chat.whatsapp.com/', ''),\n",
    "                #                     f'{relatorio} {cod_loja} TABLE.png',\n",
    "                #                     f'Resumo mensal | {loja[4:]} - {date_msg}',\n",
    "                #                     tab_close=True,\n",
    "                #                     wait_time=10)"
   ]
  }
 ],
 "metadata": {
  "kernelspec": {
   "display_name": "Python 3.10.8 64-bit",
   "language": "python",
   "name": "python3"
  },
  "language_info": {
   "codemirror_mode": {
    "name": "ipython",
    "version": 3
   },
   "file_extension": ".py",
   "mimetype": "text/x-python",
   "name": "python",
   "nbconvert_exporter": "python",
   "pygments_lexer": "ipython3",
   "version": "3.10.8"
  },
  "orig_nbformat": 4,
  "vscode": {
   "interpreter": {
    "hash": "beedbe2faf2f7048d727558d0bc3221e7eba2a0b921cac4d4771b2feb8f74b30"
   }
  }
 },
 "nbformat": 4,
 "nbformat_minor": 2
}
