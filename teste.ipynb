{
 "cells": [
  {
   "cell_type": "code",
   "execution_count": null,
   "metadata": {},
   "outputs": [],
   "source": [
    "import pandas as pd\n",
    "from connect import PostgreSQL\n",
    "from tqdm import tqdm\n",
    "import datetime as dt\n",
    "from datetime import date\n",
    "import plotly.graph_objs as go"
   ]
  },
  {
   "cell_type": "markdown",
   "metadata": {},
   "source": [
    "# Parâmetros"
   ]
  },
  {
   "cell_type": "code",
   "execution_count": null,
   "metadata": {},
   "outputs": [],
   "source": [
    "_schema = 'D-1'"
   ]
  },
  {
   "cell_type": "code",
   "execution_count": null,
   "metadata": {},
   "outputs": [],
   "source": [
    "_pixels = 720\n",
    "\n",
    "pixels_width = int((_pixels/9)*16)\n",
    "pixels_height = int(_pixels)"
   ]
  },
  {
   "cell_type": "code",
   "execution_count": null,
   "metadata": {},
   "outputs": [],
   "source": [
    "date_query = date(int((dt.datetime.now().strftime('%Y-%m-%d').split('-')[0])), int((dt.datetime.now().strftime('%Y-%m-%d').split('-')[1])), 1).strftime('%Y-%m-%d')"
   ]
  },
  {
   "cell_type": "code",
   "execution_count": null,
   "metadata": {},
   "outputs": [],
   "source": [
    "codigos_kaizen = [('KAIZEN ASA NORTE', '13996'),\n",
    "                  ('KAIZEN CEILÂNDIA', '16100'),\n",
    "                  (     'KAIZEN GAMA', '18400'),\n",
    "                  (  'KAIZEN SOF SUL', '20000')]"
   ]
  },
  {
   "cell_type": "code",
   "execution_count": null,
   "metadata": {},
   "outputs": [],
   "source": [
    "codigos_vended = [(    'GARANTIA', '0100'),\n",
    "                  ('MARIO SERGIO', '0001'),\n",
    "                  (   'DEVOLUCAO', '0006')]"
   ]
  },
  {
   "cell_type": "code",
   "execution_count": null,
   "metadata": {},
   "outputs": [],
   "source": [
    "codigos_cfop = [('1949'),\n",
    "                ('2949'),\n",
    "                ('1603')]"
   ]
  },
  {
   "cell_type": "code",
   "execution_count": null,
   "metadata": {},
   "outputs": [],
   "source": [
    "lista_lojas = (['01',             'CD'],\n",
    "               ['02',               ''],\n",
    "               ['03',  '04. ASA NORTE'],\n",
    "               ['04',  '02. CEILÂNDIA'],\n",
    "               ['05',       '03. GAMA'],\n",
    "               ['06',    '01. SOF SUL'],\n",
    "               ['VO', '05. E-COMMERCE'])"
   ]
  },
  {
   "cell_type": "code",
   "execution_count": null,
   "metadata": {},
   "outputs": [],
   "source": [
    "relatorio = 'ACOMPANHAMENTO DE VENDA'\n",
    "\n",
    "relatorio_lower = relatorio.lower()\n",
    "relatorio_msg = relatorio_lower.replace(relatorio_lower.split()[0], relatorio_lower.split()[0].title())"
   ]
  },
  {
   "cell_type": "code",
   "execution_count": null,
   "metadata": {},
   "outputs": [],
   "source": [
    "caminho_imagem = 'Y:\\\\COMPRAS\\\\arquivo temporario analise atualizado\\\\DEPARTAMENTO COMPRAS\\\\10. CARLOS\\\\REPORT'"
   ]
  },
  {
   "cell_type": "code",
   "execution_count": null,
   "metadata": {},
   "outputs": [],
   "source": [
    "contatos = [('PrimeiraFoto', 'https://chat.whatsapp.com/LK4LDajkH52BNydoLGGD2d', True),\n",
    "            ('Dados e Int',  'https://chat.whatsapp.com/JxY14kWarG70MxB2jzb5pc', False),\n",
    "            ('Dream Team',   'https://chat.whatsapp.com/Hb0KMgYnuFB8coTPlFKTzJ', False),\n",
    "            ('Report Di',    'https://chat.whatsapp.com/G4p8qdUIUblCNPS80244RQ', False),\n",
    "            ('API',          'https://chat.whatsapp.com/EBLX0fxYfvuHL7jZ9CZECQ', True),\n",
    "            ('Teste Python', 'https://chat.whatsapp.com/I4y7EAVfns629NvfoLUtGI', True)]"
   ]
  },
  {
   "cell_type": "markdown",
   "metadata": {},
   "source": [
    "#"
   ]
  },
  {
   "cell_type": "markdown",
   "metadata": {},
   "source": [
    "# DataFrames"
   ]
  },
  {
   "cell_type": "markdown",
   "metadata": {},
   "source": [
    "## Clientes"
   ]
  },
  {
   "cell_type": "code",
   "execution_count": null,
   "metadata": {},
   "outputs": [],
   "source": [
    "df_cliente = PostgreSQL.read_postgres(name_table='cliente', schema=_schema)"
   ]
  },
  {
   "cell_type": "code",
   "execution_count": null,
   "metadata": {},
   "outputs": [],
   "source": [
    "df_cli_ped = PostgreSQL.read_postgres(name_table='cli_ped', schema=_schema, query=f'WHERE DT_CADASTR >= \\'{date_query}\\'')"
   ]
  },
  {
   "cell_type": "markdown",
   "metadata": {},
   "source": [
    "## Pedidos"
   ]
  },
  {
   "cell_type": "code",
   "execution_count": null,
   "metadata": {},
   "outputs": [],
   "source": [
    "df_pedido = PostgreSQL.read_postgres(name_table='pedido', schema=_schema, query=f'WHERE DT_EMISSAO >= \\'{date_query}\\'')"
   ]
  },
  {
   "cell_type": "code",
   "execution_count": null,
   "metadata": {},
   "outputs": [],
   "source": [
    "df_pedido['VALOR_TOT'] = df_pedido['VALOR_TOT'].astype(float)"
   ]
  },
  {
   "cell_type": "code",
   "execution_count": null,
   "metadata": {},
   "outputs": [],
   "source": [
    "for (kaizen, cod_kaizen) in tqdm(codigos_kaizen):\n",
    "    df_pedido = df_pedido[df_pedido['CODCLI'] != cod_kaizen]"
   ]
  },
  {
   "cell_type": "code",
   "execution_count": null,
   "metadata": {},
   "outputs": [],
   "source": [
    "for (vendedor, cod_vende) in tqdm(codigos_kaizen):\n",
    "    df_pedido = df_pedido[df_pedido['CODCLI'] != cod_vende]"
   ]
  },
  {
   "cell_type": "code",
   "execution_count": null,
   "metadata": {},
   "outputs": [],
   "source": [
    "df_pedido = df_pedido[df_pedido['TIPPED'] == 'V']"
   ]
  },
  {
   "cell_type": "code",
   "execution_count": null,
   "metadata": {},
   "outputs": [],
   "source": [
    "df_pedido = df_pedido[(df_pedido['OBSERVA'].str.contains('REQ') != True) |\n",
    "                      (df_pedido['OBSERVA2'].str.contains('REQ') != True)]"
   ]
  },
  {
   "cell_type": "code",
   "execution_count": null,
   "metadata": {},
   "outputs": [],
   "source": [
    "for i in tqdm(df_pedido.index):\n",
    "    if df_pedido.loc[i, 'FORMA_PGTO'] == 'M':\n",
    "        df_pedido.loc[i, 'COD_LOJA'] = 'VO'\n",
    "    else:\n",
    "        df_pedido.loc[i, 'COD_LOJA'] = df_pedido.loc[i, 'CD_LOJA']"
   ]
  },
  {
   "cell_type": "code",
   "execution_count": null,
   "metadata": {},
   "outputs": [],
   "source": [
    "for i in tqdm(df_pedido.index):\n",
    "    if df_pedido.loc[i, 'COD_LOJA'] == 'VO':\n",
    "        df_pedido.loc[i, 'NU_CPFCNPJ'] = list(df_cli_ped[(df_cli_ped['CD_LOJA'] == df_pedido.loc[i, 'CD_LOJA']) &\n",
    "                                             (df_cli_ped['SG_PEDIDO'] == df_pedido.loc[i, 'SERIE']) &\n",
    "                                             (df_cli_ped['NU_PEDIDO'] == df_pedido.loc[i, 'NU_NOTA'])]['NU_CPFCNPJ'])[0]"
   ]
  },
  {
   "cell_type": "code",
   "execution_count": null,
   "metadata": {},
   "outputs": [],
   "source": [
    "df_pedido = pd.merge(df_pedido, df_cliente, how='inner', on='CODCLI')"
   ]
  },
  {
   "cell_type": "code",
   "execution_count": null,
   "metadata": {},
   "outputs": [],
   "source": [
    "for i in tqdm(df_pedido.index):\n",
    "\n",
    "    if df_pedido.loc[i, 'COD_LOJA'] == 'VO':\n",
    "        identify = df_pedido.loc[i, 'NU_CPFCNPJ']\n",
    "    else:\n",
    "        identify = df_pedido.loc[i, 'CPF_CGC']\n",
    "\n",
    "    if df_pedido.loc[i, 'CODAREA'] == '104':\n",
    "        df_pedido.loc[i, 'TIPO_CLIENTE'] = 'CNPJ*'\n",
    "    elif len(identify) < 14:\n",
    "        df_pedido.loc[i, 'TIPO_CLIENTE'] = 'CPF'\n",
    "    else:\n",
    "        df_pedido.loc[i, 'TIPO_CLIENTE'] = 'CNPJ'"
   ]
  },
  {
   "cell_type": "markdown",
   "metadata": {},
   "source": [
    "## Devolução"
   ]
  },
  {
   "cell_type": "code",
   "execution_count": null,
   "metadata": {},
   "outputs": [],
   "source": [
    "df_prod_ent = PostgreSQL.read_postgres(full_query=f'select a.*, b.IN_CLIFOR as IN_CLIFOR1, b.IN_CANCELA, b.NFEENVSTAT, c.FORMA_PGTO from \"{_schema}\".prod_ent a inner join \"{_schema}\".entrada b on a.CD_LOJA = b.CD_LOJA and a.SG_SERIE = b.SG_SERIE and a.NU_NOTA = b.NU_NOTA inner join \"{_schema}\".venda c on a.CD_LOJA = c.CD_LOJA and a.SG_ORIGEM = c.SERIE and a.NU_ORIGEM = c.NU_NOTA where a.DT_EMISSAO >= \\'{date_query}\\'')"
   ]
  },
  {
   "cell_type": "code",
   "execution_count": null,
   "metadata": {},
   "outputs": [],
   "source": [
    "for (kaizen, cod_kaizen) in tqdm(codigos_kaizen):\n",
    "    df_prod_ent = df_prod_ent[df_prod_ent['CD_CLIENTE'] != cod_kaizen]"
   ]
  },
  {
   "cell_type": "code",
   "execution_count": null,
   "metadata": {},
   "outputs": [],
   "source": [
    "for (cod_cfop) in tqdm(codigos_cfop):\n",
    "    df_prod_ent = df_prod_ent[df_prod_ent['CD_CFOP'] != cod_cfop]"
   ]
  },
  {
   "cell_type": "code",
   "execution_count": null,
   "metadata": {},
   "outputs": [],
   "source": [
    "df_prod_ent = df_prod_ent[df_prod_ent['IN_CLIFOR1'] == 'C']"
   ]
  },
  {
   "cell_type": "code",
   "execution_count": null,
   "metadata": {},
   "outputs": [],
   "source": [
    "for nfestatus in tqdm(df_prod_ent['NFEENVSTAT']):\n",
    "    if nfestatus != None:\n",
    "        if 'DENEG' in nfestatus.upper():\n",
    "            df_prod_ent = df_prod_ent[df_prod_ent['NFEENVSTAT'] != nfestatus]"
   ]
  },
  {
   "cell_type": "code",
   "execution_count": null,
   "metadata": {},
   "outputs": [],
   "source": [
    "for i in tqdm(df_prod_ent.index):\n",
    "    if df_prod_ent.loc[i, 'FORMA_PGTO'] == 'M':\n",
    "        df_prod_ent.loc[i, 'COD_LOJA'] = 'VO'\n",
    "    else:\n",
    "        df_prod_ent.loc[i, 'COD_LOJA'] = df_prod_ent.loc[i, 'CD_LOJA']\n",
    "\n",
    "    df_prod_ent.loc[i, 'VL_TOTAL_DEV'] = float(df_prod_ent.loc[i, 'VL_PRECO']) * float(df_prod_ent.loc[i, 'QT_DEVOLVE'])"
   ]
  },
  {
   "cell_type": "code",
   "execution_count": null,
   "metadata": {},
   "outputs": [],
   "source": [
    "df_prod_ent = df_prod_ent.rename(columns={'CD_CLIENTE':'CODCLI'})\n",
    "df_prod_ent = pd.merge(df_prod_ent, df_cliente, how='inner', on='CODCLI')"
   ]
  },
  {
   "cell_type": "code",
   "execution_count": null,
   "metadata": {},
   "outputs": [],
   "source": [
    "for i in tqdm(df_prod_ent.index):\n",
    "\n",
    "    identify = df_prod_ent.loc[i, 'CPF_CGC']\n",
    "\n",
    "    if df_prod_ent.loc[i, 'CODAREA'] == '104':\n",
    "        df_prod_ent.loc[i, 'TIPO_CLIENTE'] = 'CNPJ*'\n",
    "    elif len(identify) < 14:\n",
    "        df_prod_ent.loc[i, 'TIPO_CLIENTE'] = 'CPF'\n",
    "    else:\n",
    "        df_prod_ent.loc[i, 'TIPO_CLIENTE'] = 'CNPJ'"
   ]
  },
  {
   "cell_type": "markdown",
   "metadata": {},
   "source": [
    "## Metas"
   ]
  },
  {
   "cell_type": "code",
   "execution_count": null,
   "metadata": {},
   "outputs": [],
   "source": [
    "df_metas = pd.read_excel('Y:\\\\COMPRAS\\\\arquivo temporario analise atualizado\\\\DEPARTAMENTO COMPRAS\\\\10. CARLOS\\\\PROJETOS\\\\EXCEL\\\\BASES\\\\DATAS.xlsx', sheet_name='Metas')"
   ]
  },
  {
   "cell_type": "code",
   "execution_count": null,
   "metadata": {},
   "outputs": [],
   "source": [
    "df_data = pd.read_excel('Y:\\\\COMPRAS\\\\arquivo temporario analise atualizado\\\\DEPARTAMENTO COMPRAS\\\\10. CARLOS\\\\PROJETOS\\\\EXCEL\\\\BASES\\\\DATAS.xlsx', sheet_name='Datas')"
   ]
  },
  {
   "cell_type": "code",
   "execution_count": null,
   "metadata": {},
   "outputs": [],
   "source": [
    "df_datas = df_data[df_data['Mês - Ano'] == df_data[df_data['Data'] == date_query]['Mês - Ano'].values[0]].reset_index(drop=True)"
   ]
  },
  {
   "cell_type": "code",
   "execution_count": null,
   "metadata": {},
   "outputs": [],
   "source": [
    "df_meta_mes = df_metas[df_metas['Mês - Ano'] == df_datas['Mês - Ano'][0]]"
   ]
  },
  {
   "cell_type": "code",
   "execution_count": null,
   "metadata": {},
   "outputs": [],
   "source": [
    "df_meta_data = df_datas.drop(columns=['Dia', 'Mês', 'Ano', 'Dia da Semana', 'Nome - Mês', 'Semestre', 'Trimestre', 'Sequencial - Dia da Semana', 'Dias Úteis']).merge(df_meta_mes.drop(columns=['Mês', 'Ano', 'Dias Úteis', 'Qtd Sábados', 'Nome - Mês', 'Loja']), how='inner', on='Mês - Ano')"
   ]
  },
  {
   "cell_type": "code",
   "execution_count": null,
   "metadata": {},
   "outputs": [],
   "source": [
    "for i in df_meta_data.index:\n",
    "    if df_meta_data.loc[i, 'Dia Útil'] == 'Sim':\n",
    "        df_meta_data.loc[i, 'Meta'] = df_meta_data.loc[i, 'Meta Diária']\n",
    "    \n",
    "    elif df_meta_data.loc[i, 'Dia Útil'] == 'Meio':\n",
    "        df_meta_data.loc[i, 'Meta'] = df_meta_data.loc[i, 'Meta Sábado']\n",
    "\n",
    "    else:\n",
    "        df_meta_data.loc[i, 'Meta'] = 0\n",
    "\n",
    "df_meta_data = df_meta_data.rename(columns={'Cd_Loja':'CD_LOJA', 'Data':'DT_EMISSAO'})"
   ]
  },
  {
   "cell_type": "markdown",
   "metadata": {},
   "source": [
    "# Cálculo"
   ]
  },
  {
   "cell_type": "code",
   "execution_count": null,
   "metadata": {},
   "outputs": [],
   "source": [
    "df_venda_bruta = df_pedido.groupby(['COD_LOJA', 'DT_EMISSAO', 'TIPO_CLIENTE']).sum()[['VALOR_TOT']].reset_index().rename(columns={'COD_LOJA':'CD_LOJA'})"
   ]
  },
  {
   "cell_type": "code",
   "execution_count": null,
   "metadata": {},
   "outputs": [],
   "source": [
    "df_devolucao = df_prod_ent.groupby(['COD_LOJA', 'DT_EMISSAO', 'TIPO_CLIENTE']).sum()[['VL_TOTAL_DEV']].reset_index().rename(columns={'COD_LOJA':'CD_LOJA'})"
   ]
  },
  {
   "cell_type": "code",
   "execution_count": null,
   "metadata": {},
   "outputs": [],
   "source": [
    "df_pedido[df_pedido['TIPO_CLIENTE'] != 'CPF'].groupby(['COD_LOJA', 'DT_EMISSAO']).sum()[['VL_TOTAL_DEV']].reset_index().rename(columns={'COD_LOJA':'CD_LOJA'})"
   ]
  },
  {
   "cell_type": "code",
   "execution_count": null,
   "metadata": {},
   "outputs": [],
   "source": [
    "df_venda_bruta_cnpj = df_venda_bruta"
   ]
  },
  {
   "cell_type": "code",
   "execution_count": null,
   "metadata": {},
   "outputs": [],
   "source": [
    "df_final = pd.merge(df_venda_bruta, df_devolucao, how='outer', on=['CD_LOJA', 'DT_EMISSAO'])\n",
    "\n",
    "df_final = df_final.sort_values(by=['DT_EMISSAO', 'CD_LOJA'])\n",
    "df_final = df_final.reset_index(drop=True)\n",
    "\n",
    "df_final = pd.merge(df_meta_data, df_final, how='left', on=['CD_LOJA', 'DT_EMISSAO'])"
   ]
  },
  {
   "cell_type": "code",
   "execution_count": null,
   "metadata": {},
   "outputs": [],
   "source": [
    "df_final = df_final.fillna(0)"
   ]
  },
  {
   "cell_type": "code",
   "execution_count": null,
   "metadata": {},
   "outputs": [],
   "source": [
    "df_hoje = df_final\n",
    "df_hoje = df_hoje.rename(columns={'VALOR_TOT':'VENDA BRUTA', 'VL_TOTAL_DEV':'DEVOLUÇÃO', 'Meta':'META'})\n",
    "\n",
    "for i in df_hoje.index:\n",
    "    df_hoje.loc[i, 'VENDA LÍQUIDA'] = (df_hoje.loc[i, 'VENDA BRUTA'] - df_hoje.loc[i, 'DEVOLUÇÃO'])\n",
    "    df_hoje.loc[i, '% DEV'] = df_hoje.loc[i, 'DEVOLUÇÃO'] / df_hoje.loc[i, 'VENDA BRUTA']\n",
    "    \n",
    "    client_cgc = list(df_pedido[(df_pedido['DT_EMISSAO'] == df_hoje.loc[i, 'DT_EMISSAO']) &\n",
    "                     (df_pedido['COD_LOJA'] == df_hoje.loc[i, 'CD_LOJA']) &\n",
    "                     (df_pedido['TIPO_CLIENTE'] != 'CPF')]['CPF_CGC'].drop_duplicates())\n",
    "\n",
    "    client_cpf = list(df_pedido[(df_pedido['DT_EMISSAO'] == df_hoje.loc[i, 'DT_EMISSAO']) &\n",
    "                     (df_pedido['COD_LOJA'] == df_hoje.loc[i, 'CD_LOJA']) &\n",
    "                     (df_pedido['TIPO_CLIENTE'] == 'CPF')]['CPF_CGC'])\n",
    "\n",
    "    venda_cgc = list(df_pedido[(df_pedido['DT_EMISSAO'] == df_hoje.loc[i, 'DT_EMISSAO']) &\n",
    "                     (df_pedido['COD_LOJA'] == df_hoje.loc[i, 'CD_LOJA']) &\n",
    "                     (df_pedido['TIPO_CLIENTE'] != 'CPF')]['VALOR_TOT'])\n",
    "\n",
    "    venda_cpf = list(df_pedido[(df_pedido['DT_EMISSAO'] == df_hoje.loc[i, 'DT_EMISSAO']) &\n",
    "                     (df_pedido['COD_LOJA'] == df_hoje.loc[i, 'CD_LOJA']) &\n",
    "                     (df_pedido['TIPO_CLIENTE'] == 'CPF')]['VALOR_TOT'])\n",
    "\n",
    "    df_hoje.loc[i, 'VENDA_CNPJ'] = sum(venda_cgc)\n",
    "    df_hoje.loc[i, 'VENDA_CPF'] = sum(venda_cpf)\n",
    "\n",
    "    df_hoje.loc[i, 'CNPJ'] = len(client_cgc)\n",
    "    df_hoje.loc[i, 'CPF'] = len(client_cpf)"
   ]
  },
  {
   "cell_type": "code",
   "execution_count": null,
   "metadata": {},
   "outputs": [],
   "source": [
    "df_hoje"
   ]
  },
  {
   "cell_type": "code",
   "execution_count": null,
   "metadata": {},
   "outputs": [],
   "source": [
    "df = df_hoje[df_hoje['CD_LOJA'] == '05']\n",
    "df[['DT_EMISSAO', 'Nome - Dia da Semana', 'META', 'VENDA BRUTA', 'VENDA LÍQUIDA', 'DEVOLUÇÃO', '% DEV', 'VENDA_CNPJ', 'CNPJ', 'VENDA_CPF', 'CPF']]"
   ]
  }
 ],
 "metadata": {
  "kernelspec": {
   "display_name": "Python 3.10.8 64-bit",
   "language": "python",
   "name": "python3"
  },
  "language_info": {
   "codemirror_mode": {
    "name": "ipython",
    "version": 3
   },
   "file_extension": ".py",
   "mimetype": "text/x-python",
   "name": "python",
   "nbconvert_exporter": "python",
   "pygments_lexer": "ipython3",
   "version": "3.10.8"
  },
  "orig_nbformat": 4,
  "vscode": {
   "interpreter": {
    "hash": "beedbe2faf2f7048d727558d0bc3221e7eba2a0b921cac4d4771b2feb8f74b30"
   }
  }
 },
 "nbformat": 4,
 "nbformat_minor": 2
}
