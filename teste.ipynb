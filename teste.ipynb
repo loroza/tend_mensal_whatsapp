{
 "cells": [
  {
   "cell_type": "code",
   "execution_count": 1026,
   "metadata": {},
   "outputs": [
    {
     "name": "stdout",
     "output_type": "stream",
     "text": [
      "Iniciando o envio as 08:10:28\n"
     ]
    }
   ],
   "source": [
    "import pandas as pd\n",
    "from connect import PostgreSQL\n",
    "from tqdm import tqdm\n",
    "import datetime as dt\n",
    "from datetime import date\n",
    "import time\n",
    "import plotly.graph_objs as go\n",
    "import pywhatkit as pwk\n",
    "from html2image import Html2Image\n",
    "import shutil\n",
    "\n",
    "print('Iniciando o envio as ' + dt.datetime.now().strftime('%H:%M:%S'))"
   ]
  },
  {
   "cell_type": "code",
   "execution_count": 1027,
   "metadata": {},
   "outputs": [],
   "source": [
    "def proportion_size(pixels:int=None, size:int=None, padrao:int=2160):\n",
    "    sizing = float(pixels / (padrao / size))\n",
    "    return sizing"
   ]
  },
  {
   "cell_type": "code",
   "execution_count": 1028,
   "metadata": {},
   "outputs": [],
   "source": [
    "def bg_colors(dataframe, datetime:str, dia_util:str):\n",
    "    \n",
    "    colors = []\n",
    "    date_colors = []\n",
    "    destak_color = []\n",
    "    \n",
    "\n",
    "    for i in dataframe.index:\n",
    "        if dataframe.loc[i, dia_util] == 'Não':\n",
    "            date_colors.append('#DEEFFF')\n",
    "            destak_color.append('#DEEFFF')\n",
    "\n",
    "        elif dataframe.loc[i, datetime].strftime('%d/%m/%Y') == dt.datetime.now().strftime('%d/%m/%Y'):\n",
    "            date_colors.append('#F7F7F7')\n",
    "            destak_color.append('#F7F7F7')\n",
    "            \n",
    "        else:\n",
    "            date_colors.append('#FFFFFF')\n",
    "            destak_color.append('#F7F7F7')\n",
    "\n",
    "    date_colors.append('#E5E5E5')\n",
    "    destak_color.append('#E5E5E5')\n",
    "\n",
    "\n",
    "    for coluna in dataframe.columns:\n",
    "        colors.append(date_colors)\n",
    "\n",
    "    colors[2] = destak_color\n",
    "    colors[3] = destak_color\n",
    "    colors[6] = destak_color\n",
    "    colors[9] = destak_color\n",
    "\n",
    "    return colors"
   ]
  },
  {
   "cell_type": "code",
   "execution_count": 1029,
   "metadata": {},
   "outputs": [],
   "source": [
    "def font_projecao_mensal(dataframe, datetime:str, dia_util:str, principal_color:str):\n",
    "    \n",
    "    colors = []\n",
    "    date_colors = []\n",
    "    \n",
    "\n",
    "    for i in dataframe.index:\n",
    "        if dataframe.loc[i, datetime] > dt.datetime.now():\n",
    "            if dataframe.loc[i, dia_util] == 'Não':\n",
    "                date_colors.append('#DEEFFF')\n",
    "                \n",
    "            else:\n",
    "                date_colors.append('#FFFFFF')\n",
    "\n",
    "        else:\n",
    "            if dataframe.loc[i, dia_util] == 'Não':\n",
    "                date_colors.append('#DEEFFF')\n",
    "                \n",
    "            else:\n",
    "                date_colors.append(principal_color)\n",
    "\n",
    "    date_colors.append('#118DFF')\n",
    "\n",
    "\n",
    "    for coluna in dataframe.columns:\n",
    "        colors.append(date_colors)\n",
    "\n",
    "    return colors"
   ]
  },
  {
   "cell_type": "code",
   "execution_count": 1030,
   "metadata": {},
   "outputs": [],
   "source": [
    "def font_rendimento(dataframe, percents:str, datetime:str, dia_util:str, principal_color:str):\n",
    "    \n",
    "    colors = []\n",
    "    date_colors = []\n",
    "    \n",
    "\n",
    "    for i in dataframe.index:\n",
    "        if dataframe.loc[i, datetime] != ' ':\n",
    "            if dataframe.loc[i, dia_util] == 'Não':\n",
    "                    date_colors.append('#DEEFFF')\n",
    "\n",
    "            elif dataframe.loc[i, datetime] < dt.datetime.now():\n",
    "                if dataframe.loc[i, percents] >= 1:\n",
    "                    date_colors.append('#00B050')\n",
    "\n",
    "                elif dataframe.loc[i, percents] < 0.95:\n",
    "                    date_colors.append('#FF0000')\n",
    "\n",
    "                elif dataframe.loc[i, percents] < 1:\n",
    "                    date_colors.append('#FFC000')\n",
    "                    \n",
    "            else:\n",
    "                date_colors.append('#FFFFFF')\n",
    "\n",
    "        else:\n",
    "                date_colors.append(principal_color)\n",
    "\n",
    "    date_colors.append('#E5E5E5')\n",
    "\n",
    "    for coluna in dataframe.columns:\n",
    "        colors.append(date_colors)\n",
    "\n",
    "    return colors[0]"
   ]
  },
  {
   "cell_type": "markdown",
   "metadata": {},
   "source": [
    "# Parâmetros"
   ]
  },
  {
   "cell_type": "code",
   "execution_count": 1031,
   "metadata": {},
   "outputs": [],
   "source": [
    "_schema = 'H-1'"
   ]
  },
  {
   "cell_type": "code",
   "execution_count": 10,
   "metadata": {},
   "outputs": [
    {
     "name": "stdout",
     "output_type": "stream",
     "text": [
      "Taxa de proporção: \n",
      " ⇳: 890 ⬄: 2060\n"
     ]
    }
   ],
   "source": [
    "_pixels = 890\n",
    "\n",
    "pixels_width = 2060 #int((_pixels/9) * 17)\n",
    "pixels_height = int(_pixels)\n",
    "\n",
    "print(f'Taxa de proporção: \\n ⇳: {pixels_height} ⬄: {pixels_width}')"
   ]
  },
  {
   "cell_type": "code",
   "execution_count": 1033,
   "metadata": {},
   "outputs": [],
   "source": [
    "date_query = date(int((dt.datetime.now().strftime('%Y-%m-%d').split('-')[0])), int((dt.datetime.now().strftime('%Y-%m-%d').split('-')[1])), 1).strftime('%Y-%m-%d')"
   ]
  },
  {
   "cell_type": "code",
   "execution_count": 1034,
   "metadata": {},
   "outputs": [],
   "source": [
    "codigos_kaizen = [(         'PECISTA', '02608'),\n",
    "\n",
    "                  (    'CLIENTE VALE', '00270'),\n",
    "    \n",
    "                  ('KAIZEN ASA NORTE', '13996'),\n",
    "                  (     'USO INTERNO', '20690'),\n",
    "\n",
    "                  ('KAIZEN CEILÂNDIA', '16100'),\n",
    "                  (     'USO INTERNO', '20691'),\n",
    "\n",
    "                  (     'KAIZEN GAMA', '18400'),\n",
    "                  (     'USO INTERNO', '20692'),\n",
    "\n",
    "                  (  'KAIZEN SOF SUL', '20000'),\n",
    "                  (     'USO INTERNO', '20693')]"
   ]
  },
  {
   "cell_type": "code",
   "execution_count": 1035,
   "metadata": {},
   "outputs": [],
   "source": [
    "lista_lojas = [('01',             'CD', '#000000', 'ⒸⒹ', False),\n",
    "               ('02',               '', '#000000', '', False),\n",
    "               ('03',  '04. ASA NORTE', '#881798', 'ⒶⓈⒶ ⓃⓄⓇⓉⒺ', True),\n",
    "               ('04',  '02. CEILÂNDIA', '#008080', 'ⒸⒺⒾⓁⒶⓃⒹⒾⒶ', True),\n",
    "               ('05',       '03. GAMA', '#E74856', 'ⒼⒶⓂⒶ', True),\n",
    "               ('06',    '01. SOF SUL', '#00B050', 'ⓈⓄⒻ ⓈⓊⓁ', True),\n",
    "               ('VO', '05. E-COMMERCE', '#FFC000', 'Ⓔ-ⒸⓄⓂⓂⒺⓇⒸⒺ', True)]"
   ]
  },
  {
   "cell_type": "code",
   "execution_count": 1036,
   "metadata": {},
   "outputs": [],
   "source": [
    "dias_semana = [(   'Sunday',       'Domingo'),\n",
    "               (   'Monday', 'Segunda-feira'),\n",
    "               (  'Tuesday',   'Terça-feira'),\n",
    "               ('Wednesday',  'Quarta-feira'),\n",
    "               ( 'Thursday',  'Quinta-feira'),\n",
    "               (   'Friday',   'Sexta-feira'),\n",
    "               ( 'Saturday',        'Sábado')]"
   ]
  },
  {
   "cell_type": "code",
   "execution_count": 1037,
   "metadata": {},
   "outputs": [],
   "source": [
    "relatorio = 'TESTE'\n",
    "\n",
    "relatorio_lower = relatorio.lower()\n",
    "relatorio_msg = relatorio_lower.replace(relatorio_lower.split()[0], relatorio_lower.split()[0].title())"
   ]
  },
  {
   "cell_type": "code",
   "execution_count": 1038,
   "metadata": {},
   "outputs": [],
   "source": [
    "caminho_imagem = 'Y:\\\\COMPRAS\\\\arquivo temporario analise atualizado\\\\DEPARTAMENTO COMPRAS\\\\10. CARLOS\\\\REPORT'"
   ]
  },
  {
   "cell_type": "code",
   "execution_count": 1039,
   "metadata": {},
   "outputs": [],
   "source": [
    "contatos = [('PrimeiraFoto', 'https://chat.whatsapp.com/LK4LDajkH52BNydoLGGD2d', True),\n",
    "            ('Dados e Int',  'https://chat.whatsapp.com/JxY14kWarG70MxB2jzb5pc', False),\n",
    "            ('Dream Team',   'https://chat.whatsapp.com/Hb0KMgYnuFB8coTPlFKTzJ', False),\n",
    "            ('Report Di',    'https://chat.whatsapp.com/G4p8qdUIUblCNPS80244RQ', False),\n",
    "            ('API',          'https://chat.whatsapp.com/EBLX0fxYfvuHL7jZ9CZECQ', True),\n",
    "            ('Teste Python', 'https://chat.whatsapp.com/I4y7EAVfns629NvfoLUtGI', True)]"
   ]
  },
  {
   "cell_type": "markdown",
   "metadata": {},
   "source": [
    "#"
   ]
  },
  {
   "cell_type": "markdown",
   "metadata": {},
   "source": [
    "# DataFrames"
   ]
  },
  {
   "cell_type": "markdown",
   "metadata": {},
   "source": [
    "## Clientes"
   ]
  },
  {
   "cell_type": "code",
   "execution_count": 1040,
   "metadata": {},
   "outputs": [],
   "source": [
    "df_cliente = PostgreSQL.read_postgres(name_table='cliente', schema=_schema)"
   ]
  },
  {
   "cell_type": "code",
   "execution_count": 1041,
   "metadata": {},
   "outputs": [],
   "source": [
    "df_cli_ped = PostgreSQL.read_postgres(name_table='cli_ped', schema=_schema, query=f'WHERE DT_CADASTR >= \\'{date_query}\\'')"
   ]
  },
  {
   "cell_type": "markdown",
   "metadata": {},
   "source": [
    "## Pedidos"
   ]
  },
  {
   "cell_type": "code",
   "execution_count": 1042,
   "metadata": {},
   "outputs": [],
   "source": [
    "df_pedido = PostgreSQL.read_postgres(name_table='pedido', schema=_schema, query=f'WHERE DT_EMISSAO >= \\'{date_query}\\'')"
   ]
  },
  {
   "cell_type": "code",
   "execution_count": 1043,
   "metadata": {},
   "outputs": [],
   "source": [
    "df_pedido['VALOR_TOT'] = df_pedido['VALOR_TOT'].astype(float)"
   ]
  },
  {
   "cell_type": "code",
   "execution_count": 1044,
   "metadata": {},
   "outputs": [
    {
     "name": "stderr",
     "output_type": "stream",
     "text": [
      " 40%|████      | 4/10 [00:00<00:00, 32.38it/s]"
     ]
    },
    {
     "name": "stdout",
     "output_type": "stream",
     "text": [
      "Excluindo PECISTA - 02608\n",
      "Excluindo CLIENTE VALE - 00270\n",
      "Excluindo KAIZEN ASA NORTE - 13996\n",
      "Excluindo USO INTERNO - 20690\n",
      "Excluindo KAIZEN CEILÂNDIA - 16100\n",
      "Excluindo USO INTERNO - 20691\n",
      "Excluindo KAIZEN GAMA - 18400\n",
      "Excluindo USO INTERNO - 20692\n"
     ]
    },
    {
     "name": "stderr",
     "output_type": "stream",
     "text": [
      "100%|██████████| 10/10 [00:00<00:00, 34.85it/s]"
     ]
    },
    {
     "name": "stdout",
     "output_type": "stream",
     "text": [
      "Excluindo KAIZEN SOF SUL - 20000\n",
      "Excluindo USO INTERNO - 20693\n"
     ]
    },
    {
     "name": "stderr",
     "output_type": "stream",
     "text": [
      "\n"
     ]
    }
   ],
   "source": [
    "for (kaizen, codcli_kaizen) in tqdm(codigos_kaizen):\n",
    "    print(f'Excluindo {kaizen} - {codcli_kaizen}')\n",
    "    df_pedido = df_pedido[df_pedido['CODCLI'] != codcli_kaizen]"
   ]
  },
  {
   "cell_type": "code",
   "execution_count": 1045,
   "metadata": {},
   "outputs": [],
   "source": [
    "df_pedido = df_pedido[df_pedido['CODVDE'] != '0001']\n",
    "df_pedido = df_pedido[df_pedido['CODVDE'] != '0100']"
   ]
  },
  {
   "cell_type": "code",
   "execution_count": 1046,
   "metadata": {},
   "outputs": [],
   "source": [
    "df_pedido = df_pedido[df_pedido['TIPPED'] == 'V']"
   ]
  },
  {
   "cell_type": "code",
   "execution_count": 1047,
   "metadata": {},
   "outputs": [],
   "source": [
    "df_pedido = df_pedido[df_pedido['OBSERVA'].str.contains('REQ') != True]\n",
    "df_pedido = df_pedido[df_pedido['OBSERVA2'].str.contains('REQ') != True]"
   ]
  },
  {
   "cell_type": "code",
   "execution_count": 1048,
   "metadata": {},
   "outputs": [
    {
     "name": "stderr",
     "output_type": "stream",
     "text": [
      "100%|██████████| 19644/19644 [00:02<00:00, 9606.02it/s] \n"
     ]
    }
   ],
   "source": [
    "for i in tqdm(df_pedido.index):\n",
    "    if df_pedido.loc[i, 'FORMA_PGTO'] == 'M':\n",
    "        df_pedido.loc[i, 'COD_LOJA'] = 'VO'\n",
    "    else:\n",
    "        df_pedido.loc[i, 'COD_LOJA'] = df_pedido.loc[i, 'CD_LOJA']"
   ]
  },
  {
   "cell_type": "code",
   "execution_count": 1049,
   "metadata": {},
   "outputs": [
    {
     "name": "stderr",
     "output_type": "stream",
     "text": [
      "100%|██████████| 19644/19644 [00:00<00:00, 34758.49it/s]\n"
     ]
    }
   ],
   "source": [
    "for i in tqdm(df_pedido.index):\n",
    "    if df_pedido.loc[i, 'COD_LOJA'] == 'VO':\n",
    "        df_pedido.loc[i, 'NU_CPFCNPJ'] = list(df_cli_ped[(df_cli_ped['CD_LOJA'] == df_pedido.loc[i, 'CD_LOJA']) &\n",
    "                                             (df_cli_ped['SG_PEDIDO'] == df_pedido.loc[i, 'SERIE']) &\n",
    "                                             (df_cli_ped['NU_PEDIDO'] == df_pedido.loc[i, 'NU_NOTA'])]['NU_CPFCNPJ'])[0]"
   ]
  },
  {
   "cell_type": "code",
   "execution_count": 1050,
   "metadata": {},
   "outputs": [],
   "source": [
    "df_pedido = pd.merge(df_pedido, df_cliente, how='inner', on='CODCLI')"
   ]
  },
  {
   "cell_type": "code",
   "execution_count": 1051,
   "metadata": {},
   "outputs": [
    {
     "name": "stderr",
     "output_type": "stream",
     "text": [
      "100%|██████████| 19644/19644 [00:02<00:00, 9224.34it/s]\n"
     ]
    }
   ],
   "source": [
    "for i in tqdm(df_pedido.index):\n",
    "\n",
    "    if df_pedido.loc[i, 'COD_LOJA'] == 'VO':\n",
    "        identify = df_pedido.loc[i, 'NU_CPFCNPJ']\n",
    "    else:\n",
    "        identify = df_pedido.loc[i, 'CPF_CGC']\n",
    "\n",
    "    if df_pedido.loc[i, 'CODAREA'] == '104':\n",
    "        df_pedido.loc[i, 'TIPO_CLIENTE'] = 'CNPJ*'\n",
    "    elif len(identify) < 14:\n",
    "        df_pedido.loc[i, 'TIPO_CLIENTE'] = 'CPF'\n",
    "    else:\n",
    "        df_pedido.loc[i, 'TIPO_CLIENTE'] = 'CNPJ'"
   ]
  },
  {
   "cell_type": "markdown",
   "metadata": {},
   "source": [
    "## Devolução"
   ]
  },
  {
   "cell_type": "code",
   "execution_count": 1052,
   "metadata": {},
   "outputs": [],
   "source": [
    "df_prod_ent = PostgreSQL.read_postgres(full_query=f'select a.*, (a.VL_PRECO*a.QT_DEVOLVE) as VL_TOTAL_DEV, b.IN_CLIFOR as IN_CLIFOR1, b.IN_CANCELA, UPPER(b.NFEENVSTAT) as NFEENVSTAT, c.FORMA_PGTO from \"{_schema}\".prod_ent a inner join \"{_schema}\".entrada b on a.CD_LOJA = b.CD_LOJA and a.SG_SERIE = b.SG_SERIE and a.NU_NOTA = b.NU_NOTA inner join \"{_schema}\".venda c on a.CD_LOJA = c.CD_LOJA and a.SG_ORIGEM = c.SERIE and a.NU_ORIGEM = c.NU_NOTA where a.DT_EMISSAO >= \\'{date_query}\\'')"
   ]
  },
  {
   "cell_type": "code",
   "execution_count": 1053,
   "metadata": {},
   "outputs": [
    {
     "name": "stderr",
     "output_type": "stream",
     "text": [
      "100%|██████████| 10/10 [00:00<00:00, 356.83it/s]"
     ]
    },
    {
     "name": "stdout",
     "output_type": "stream",
     "text": [
      "Excluindo PECISTA - 02608\n",
      "Excluindo CLIENTE VALE - 00270\n",
      "Excluindo KAIZEN ASA NORTE - 13996\n",
      "Excluindo USO INTERNO - 20690\n",
      "Excluindo KAIZEN CEILÂNDIA - 16100\n",
      "Excluindo USO INTERNO - 20691\n",
      "Excluindo KAIZEN GAMA - 18400\n",
      "Excluindo USO INTERNO - 20692\n",
      "Excluindo KAIZEN SOF SUL - 20000\n",
      "Excluindo USO INTERNO - 20693\n"
     ]
    },
    {
     "name": "stderr",
     "output_type": "stream",
     "text": [
      "\n"
     ]
    }
   ],
   "source": [
    "for (kaizen, codcli_kaizen) in tqdm(codigos_kaizen):\n",
    "    print(f'Excluindo {kaizen} - {codcli_kaizen}')\n",
    "    df_prod_ent = df_prod_ent[df_prod_ent['CD_CLIENTE'] != codcli_kaizen]"
   ]
  },
  {
   "cell_type": "code",
   "execution_count": 1054,
   "metadata": {},
   "outputs": [],
   "source": [
    "df_prod_ent = df_prod_ent[(df_prod_ent['IN_CANCELA'] == 'N') &\n",
    "                          (df_prod_ent['IN_CLIFOR1'] == 'C') &\n",
    "                          (df_prod_ent['CD_CFOP'] != '1949') &\n",
    "                          (df_prod_ent['CD_CFOP'] != '2949') &\n",
    "                          (df_prod_ent['CD_CFOP'] != '1603') &\n",
    "                          (df_prod_ent['NFEENVSTAT'].str.contains('DENEG') != True)]"
   ]
  },
  {
   "cell_type": "code",
   "execution_count": 1055,
   "metadata": {},
   "outputs": [
    {
     "name": "stderr",
     "output_type": "stream",
     "text": [
      "100%|██████████| 1708/1708 [00:00<00:00, 11452.67it/s]\n"
     ]
    }
   ],
   "source": [
    "for i in tqdm(df_prod_ent.index):\n",
    "    if df_prod_ent.loc[i, 'FORMA_PGTO'] == 'M':\n",
    "        df_prod_ent.loc[i, 'COD_LOJA'] = 'VO'\n",
    "    else:\n",
    "        df_prod_ent.loc[i, 'COD_LOJA'] = df_prod_ent.loc[i, 'CD_LOJA']"
   ]
  },
  {
   "cell_type": "code",
   "execution_count": 1056,
   "metadata": {},
   "outputs": [],
   "source": [
    "df_prod_ent['VL_TOTAL_DEV'] = df_prod_ent['VL_TOTAL_DEV'].astype(float)"
   ]
  },
  {
   "cell_type": "code",
   "execution_count": 1057,
   "metadata": {},
   "outputs": [],
   "source": [
    "df_prod_ent = df_prod_ent.rename(columns={'CD_CLIENTE':'CODCLI'})\n",
    "df_prod_ent = pd.merge(df_prod_ent, df_cliente, how='inner', on='CODCLI')"
   ]
  },
  {
   "cell_type": "code",
   "execution_count": 1058,
   "metadata": {},
   "outputs": [
    {
     "name": "stderr",
     "output_type": "stream",
     "text": [
      "100%|██████████| 1708/1708 [00:00<00:00, 11129.05it/s]\n"
     ]
    }
   ],
   "source": [
    "for i in tqdm(df_prod_ent.index):\n",
    "\n",
    "    identify = df_prod_ent.loc[i, 'CPF_CGC']\n",
    "\n",
    "    if df_prod_ent.loc[i, 'CODAREA'] == '104':\n",
    "        df_prod_ent.loc[i, 'TIPO_CLIENTE'] = 'CNPJ*'\n",
    "    elif len(identify) < 14:\n",
    "        df_prod_ent.loc[i, 'TIPO_CLIENTE'] = 'CPF'\n",
    "    else:\n",
    "        df_prod_ent.loc[i, 'TIPO_CLIENTE'] = 'CNPJ'"
   ]
  },
  {
   "cell_type": "markdown",
   "metadata": {},
   "source": [
    "## Metas"
   ]
  },
  {
   "cell_type": "code",
   "execution_count": 1059,
   "metadata": {},
   "outputs": [],
   "source": [
    "df_metas = pd.read_excel('Y:\\\\COMPRAS\\\\arquivo temporario analise atualizado\\\\DEPARTAMENTO COMPRAS\\\\10. CARLOS\\\\PROJETOS\\\\EXCEL\\\\BASES\\\\DATAS.xlsx', sheet_name='Metas')"
   ]
  },
  {
   "cell_type": "code",
   "execution_count": 1060,
   "metadata": {},
   "outputs": [],
   "source": [
    "df_data = pd.read_excel('Y:\\\\COMPRAS\\\\arquivo temporario analise atualizado\\\\DEPARTAMENTO COMPRAS\\\\10. CARLOS\\\\PROJETOS\\\\EXCEL\\\\BASES\\\\DATAS.xlsx', sheet_name='Datas')"
   ]
  },
  {
   "cell_type": "code",
   "execution_count": 1061,
   "metadata": {},
   "outputs": [],
   "source": [
    "df_proporcional = pd.read_excel('Y:\\\\COMPRAS\\\\arquivo temporario analise atualizado\\\\DEPARTAMENTO COMPRAS\\\\10. CARLOS\\\\PROJETOS\\\\EXCEL\\\\BASES\\\\DATAS.xlsx', sheet_name='Proporcional')"
   ]
  },
  {
   "cell_type": "code",
   "execution_count": 1062,
   "metadata": {},
   "outputs": [],
   "source": [
    "df_datas = df_data[df_data['Mês - Ano'] == df_data[df_data['Data'] == date_query]['Mês - Ano'].values[0]].reset_index(drop=True)"
   ]
  },
  {
   "cell_type": "code",
   "execution_count": 1063,
   "metadata": {},
   "outputs": [],
   "source": [
    "df_meta_mes = df_metas[df_metas['Mês - Ano'] == df_datas['Mês - Ano'][0]]"
   ]
  },
  {
   "cell_type": "code",
   "execution_count": 1064,
   "metadata": {},
   "outputs": [],
   "source": [
    "df_meta_data = df_datas.drop(columns=['Dia', 'Mês', 'Ano', 'Dia da Semana', 'Nome - Mês', 'Semestre', 'Trimestre', 'Sequencial - Dia da Semana', 'Dias Úteis']).merge(df_meta_mes.drop(columns=['Mês', 'Ano', 'Dias Úteis', 'Qtd Sábados', 'Nome - Mês', 'Loja']), how='inner', on='Mês - Ano').rename(columns={'Cd_Loja': 'CD_LOJA'})"
   ]
  },
  {
   "cell_type": "code",
   "execution_count": 1065,
   "metadata": {},
   "outputs": [],
   "source": [
    "df_meta_data = df_meta_data.merge(df_proporcional, how='left', on=['CD_LOJA', 'Data'])\n",
    "\n",
    "df_meta_data['%'] = df_meta_data['%'].fillna(1)"
   ]
  },
  {
   "cell_type": "code",
   "execution_count": 1066,
   "metadata": {},
   "outputs": [],
   "source": [
    "for i in df_meta_data.index:\n",
    "    if df_meta_data.loc[i, 'Dia Útil'] == 'Sim':\n",
    "        df_meta_data.loc[i, 'Meta'] = df_meta_data.loc[i, 'Meta Diária']\n",
    "    \n",
    "    elif df_meta_data.loc[i, 'Dia Útil'] == 'Meio':\n",
    "        df_meta_data.loc[i, 'Meta'] = df_meta_data.loc[i, 'Meta Sábado']\n",
    "\n",
    "    else:\n",
    "        df_meta_data.loc[i, 'Meta'] = 0\n",
    "\n",
    "    df_meta_data.loc[i, 'Meta'] = df_meta_data.loc[i, 'Meta'] * df_meta_data.loc[i, '%']\n",
    "\n",
    "df_meta_data = df_meta_data.rename(columns={'Data':'DT_EMISSAO'})"
   ]
  },
  {
   "cell_type": "markdown",
   "metadata": {},
   "source": [
    "# Cálculo"
   ]
  },
  {
   "cell_type": "code",
   "execution_count": 1067,
   "metadata": {},
   "outputs": [
    {
     "name": "stderr",
     "output_type": "stream",
     "text": [
      "C:\\Users\\admin\\AppData\\Local\\Temp\\ipykernel_19088\\464804912.py:1: FutureWarning:\n",
      "\n",
      "The default value of numeric_only in DataFrameGroupBy.sum is deprecated. In a future version, numeric_only will default to False. Either specify numeric_only or select only columns which should be valid for the function.\n",
      "\n"
     ]
    }
   ],
   "source": [
    "df_venda_bruta = df_pedido.groupby(['COD_LOJA', 'DT_EMISSAO']).sum()[['VALOR_TOT']].reset_index().rename(columns={'COD_LOJA':'CD_LOJA'})"
   ]
  },
  {
   "cell_type": "code",
   "execution_count": 1068,
   "metadata": {},
   "outputs": [
    {
     "name": "stderr",
     "output_type": "stream",
     "text": [
      "C:\\Users\\admin\\AppData\\Local\\Temp\\ipykernel_19088\\793352684.py:1: FutureWarning:\n",
      "\n",
      "The default value of numeric_only in DataFrameGroupBy.sum is deprecated. In a future version, numeric_only will default to False. Either specify numeric_only or select only columns which should be valid for the function.\n",
      "\n"
     ]
    }
   ],
   "source": [
    "df_devolucao = df_prod_ent.groupby(['COD_LOJA', 'DT_EMISSAO']).sum()[['VL_TOTAL_DEV']].reset_index().rename(columns={'COD_LOJA':'CD_LOJA'})"
   ]
  },
  {
   "cell_type": "code",
   "execution_count": 1069,
   "metadata": {},
   "outputs": [
    {
     "name": "stderr",
     "output_type": "stream",
     "text": [
      "C:\\Users\\admin\\AppData\\Local\\Temp\\ipykernel_19088\\3541458602.py:1: FutureWarning:\n",
      "\n",
      "The default value of numeric_only in DataFrameGroupBy.sum is deprecated. In a future version, numeric_only will default to False. Either specify numeric_only or select only columns which should be valid for the function.\n",
      "\n",
      "C:\\Users\\admin\\AppData\\Local\\Temp\\ipykernel_19088\\3541458602.py:2: FutureWarning:\n",
      "\n",
      "The default value of numeric_only in DataFrameGroupBy.sum is deprecated. In a future version, numeric_only will default to False. Either specify numeric_only or select only columns which should be valid for the function.\n",
      "\n"
     ]
    }
   ],
   "source": [
    "df_venda_bruta_cnpj = df_pedido[df_pedido['TIPO_CLIENTE'] != 'CPF'].groupby(['COD_LOJA', 'DT_EMISSAO']).sum()[['VALOR_TOT']].reset_index().rename(columns={'COD_LOJA':'CD_LOJA'})\n",
    "df_devolucao_cnpj = df_prod_ent[df_prod_ent['TIPO_CLIENTE'] != 'CPF'].groupby(['COD_LOJA', 'DT_EMISSAO']).sum()[['VL_TOTAL_DEV']].reset_index().rename(columns={'COD_LOJA':'CD_LOJA'})"
   ]
  },
  {
   "cell_type": "code",
   "execution_count": 1070,
   "metadata": {},
   "outputs": [
    {
     "name": "stderr",
     "output_type": "stream",
     "text": [
      "C:\\Users\\admin\\AppData\\Local\\Temp\\ipykernel_19088\\4099021309.py:1: FutureWarning:\n",
      "\n",
      "The default value of numeric_only in DataFrameGroupBy.sum is deprecated. In a future version, numeric_only will default to False. Either specify numeric_only or select only columns which should be valid for the function.\n",
      "\n",
      "C:\\Users\\admin\\AppData\\Local\\Temp\\ipykernel_19088\\4099021309.py:2: FutureWarning:\n",
      "\n",
      "The default value of numeric_only in DataFrameGroupBy.sum is deprecated. In a future version, numeric_only will default to False. Either specify numeric_only or select only columns which should be valid for the function.\n",
      "\n"
     ]
    }
   ],
   "source": [
    "df_venda_bruta_cpf = df_pedido[df_pedido['TIPO_CLIENTE'] == 'CPF'].groupby(['COD_LOJA', 'DT_EMISSAO']).sum()[['VALOR_TOT']].reset_index().rename(columns={'COD_LOJA':'CD_LOJA'})\n",
    "df_devolucao_cpf = df_prod_ent[df_prod_ent['TIPO_CLIENTE'] == 'CPF'].groupby(['COD_LOJA', 'DT_EMISSAO']).sum()[['VL_TOTAL_DEV']].reset_index().rename(columns={'COD_LOJA':'CD_LOJA'})"
   ]
  },
  {
   "cell_type": "code",
   "execution_count": 1071,
   "metadata": {},
   "outputs": [],
   "source": [
    "df_final = pd.merge(df_venda_bruta, df_devolucao, how='outer', on=['CD_LOJA', 'DT_EMISSAO'])\n",
    "\n",
    "df_final = df_final.sort_values(by=['DT_EMISSAO', 'CD_LOJA'])\n",
    "df_final = df_final.reset_index(drop=True)\n",
    "\n",
    "df_final = pd.merge(df_meta_data, df_final, how='left', on=['CD_LOJA', 'DT_EMISSAO'])"
   ]
  },
  {
   "cell_type": "code",
   "execution_count": 1072,
   "metadata": {},
   "outputs": [],
   "source": [
    "df_final = df_final.fillna(0)"
   ]
  },
  {
   "cell_type": "code",
   "execution_count": 1073,
   "metadata": {},
   "outputs": [
    {
     "name": "stderr",
     "output_type": "stream",
     "text": [
      "  2%|▏         | 4/186 [00:00<00:04, 37.35it/s]C:\\Users\\admin\\AppData\\Local\\Temp\\ipykernel_19088\\3999950578.py:66: RuntimeWarning:\n",
      "\n",
      "divide by zero encountered in double_scalars\n",
      "\n",
      "100%|██████████| 186/186 [00:02<00:00, 67.53it/s]\n"
     ]
    }
   ],
   "source": [
    "df_hoje = df_final\n",
    "df_hoje = df_hoje.rename(columns={'VALOR_TOT':'VENDA BRUTA', 'VL_TOTAL_DEV':'DEVOLUÇÃO', 'Meta':'META'})\n",
    "\n",
    "for i in tqdm(df_hoje.index):\n",
    "    df_hoje.loc[i, 'VENDA LÍQUIDA'] = (df_hoje.loc[i, 'VENDA BRUTA'] - df_hoje.loc[i, 'DEVOLUÇÃO'])\n",
    "    \n",
    "    if df_hoje.loc[i, 'CD_LOJA'] == 'VO':\n",
    "\n",
    "        client_cgc = list(df_pedido[(df_pedido['DT_EMISSAO'] == df_hoje.loc[i, 'DT_EMISSAO']) &\n",
    "                         (df_pedido['COD_LOJA'] == df_hoje.loc[i, 'CD_LOJA']) &\n",
    "                         (df_pedido['TIPO_CLIENTE'] != 'CPF')]['NU_CPFCNPJ'].drop_duplicates().dropna())\n",
    "\n",
    "        client_cpf = list(df_pedido[(df_pedido['DT_EMISSAO'] == df_hoje.loc[i, 'DT_EMISSAO']) &\n",
    "                         (df_pedido['COD_LOJA'] == df_hoje.loc[i, 'CD_LOJA']) &\n",
    "                         (df_pedido['TIPO_CLIENTE'] == 'CPF')]['NU_CPFCNPJ'].drop_duplicates().dropna())\n",
    "    \n",
    "    else:\n",
    "\n",
    "        client_cgc = list(df_pedido[(df_pedido['DT_EMISSAO'] == df_hoje.loc[i, 'DT_EMISSAO']) &\n",
    "                         (df_pedido['COD_LOJA'] == df_hoje.loc[i, 'CD_LOJA']) &\n",
    "                         (df_pedido['TIPO_CLIENTE'] != 'CPF')]['CPF_CGC'].drop_duplicates())\n",
    "\n",
    "        client_cpf = list(df_pedido[(df_pedido['DT_EMISSAO'] == df_hoje.loc[i, 'DT_EMISSAO']) &\n",
    "                         (df_pedido['COD_LOJA'] == df_hoje.loc[i, 'CD_LOJA']) &\n",
    "                         (df_pedido['TIPO_CLIENTE'] == 'CPF')]['CPF_CGC'].drop_duplicates())\n",
    "\n",
    "    venda_cgc = list(df_pedido[(df_pedido['DT_EMISSAO'] == df_hoje.loc[i, 'DT_EMISSAO']) &\n",
    "                    (df_pedido['COD_LOJA'] == df_hoje.loc[i, 'CD_LOJA']) &\n",
    "                    (df_pedido['TIPO_CLIENTE'] != 'CPF')]['VALOR_TOT'])\n",
    "\n",
    "    venda_cpf = list(df_pedido[(df_pedido['DT_EMISSAO'] == df_hoje.loc[i, 'DT_EMISSAO']) &\n",
    "                    (df_pedido['COD_LOJA'] == df_hoje.loc[i, 'CD_LOJA']) &\n",
    "                    (df_pedido['TIPO_CLIENTE'] == 'CPF')]['VALOR_TOT'])\n",
    "\n",
    "    devol_cgc = list(df_prod_ent[(df_prod_ent['DT_EMISSAO'] == df_hoje.loc[i, 'DT_EMISSAO']) &\n",
    "                    (df_prod_ent['COD_LOJA'] == df_hoje.loc[i, 'CD_LOJA']) &\n",
    "                    (df_prod_ent['TIPO_CLIENTE'] != 'CPF')]['VL_TOTAL_DEV'])\n",
    "\n",
    "    devol_cpf = list(df_prod_ent[(df_prod_ent['DT_EMISSAO'] == df_hoje.loc[i, 'DT_EMISSAO']) &\n",
    "                    (df_prod_ent['COD_LOJA'] == df_hoje.loc[i, 'CD_LOJA']) &\n",
    "                    (df_prod_ent['TIPO_CLIENTE'] == 'CPF')]['VL_TOTAL_DEV'])\n",
    "\n",
    "    if sum(devol_cgc) > 0 and sum(venda_cgc) > 0:\n",
    "        percent_cgc = sum(devol_cgc) / sum(venda_cgc)\n",
    "    else:\n",
    "        percent_cgc = 0\n",
    "\n",
    "    if sum(devol_cpf) > 0 and sum(venda_cpf) > 0:\n",
    "        percent_cpf = sum(devol_cpf) / sum(venda_cpf)\n",
    "    else:\n",
    "        percent_cpf = 0\n",
    "\n",
    "    df_hoje.loc[i, 'VENDA_CNPJ'] = (sum(venda_cgc) - sum(devol_cgc))\n",
    "    df_hoje.loc[i, 'DEVOL_CNPJ'] = sum(devol_cgc)\n",
    "    df_hoje.loc[i, '% DEV CNPJ'] = percent_cgc\n",
    "    df_hoje.loc[i, 'CNPJ'] = len(client_cgc)\n",
    "\n",
    "    df_hoje.loc[i, 'VENDA_CPF'] = (sum(venda_cpf) - sum(devol_cpf))\n",
    "    df_hoje.loc[i, 'DEVOL_CPF'] = sum(devol_cpf)\n",
    "    df_hoje.loc[i, '% DEV CPF'] = percent_cpf\n",
    "    df_hoje.loc[i, 'CPF'] = len(client_cpf)\n",
    "\n",
    "    if df_hoje.loc[i, 'VENDA LÍQUIDA'] == 0:\n",
    "        df_hoje.loc[i, '% META DIA'] = 0\n",
    "    else:\n",
    "        df_hoje.loc[i, '% META DIA'] = df_hoje.loc[i, 'VENDA LÍQUIDA'] / df_hoje.loc[i, 'META']\n",
    "\n",
    "    if df_hoje.loc[i, 'DEVOLUÇÃO'] == 0:\n",
    "        df_hoje.loc[i, '% DEV'] = 0\n",
    "    else:\n",
    "        df_hoje.loc[i, '% DEV'] = df_hoje.loc[i, 'DEVOLUÇÃO'] / df_hoje.loc[i, 'VENDA BRUTA']"
   ]
  },
  {
   "cell_type": "code",
   "execution_count": 1074,
   "metadata": {},
   "outputs": [],
   "source": [
    "df_hoje = df_hoje.fillna(0)"
   ]
  },
  {
   "cell_type": "markdown",
   "metadata": {},
   "source": [
    "# "
   ]
  },
  {
   "cell_type": "code",
   "execution_count": 1075,
   "metadata": {},
   "outputs": [],
   "source": [
    "def print_plot(principal_dataframe:str = None,\n",
    "               lojas = None,\n",
    "               loja_ = '',\n",
    "               save_image = ''):\n",
    "    \n",
    "    if len(loja_) > 0:\n",
    "        df_print = principal_dataframe[principal_dataframe['CD_LOJA'] == loja_].reset_index(drop=True)\n",
    "\n",
    "        if loja_ == 'VO':\n",
    "            client_cgc_mes_vo = []\n",
    "            client_cgc_mes = list(df_pedido[(df_pedido['COD_LOJA'] == loja_) &\n",
    "                                 (df_pedido['TIPO_CLIENTE'] != 'CPF')]['NU_CPFCNPJ'].drop_duplicates().dropna())\n",
    "        else:\n",
    "            client_cgc_mes_vo = []\n",
    "            client_cgc_mes = list(df_pedido[(df_pedido['COD_LOJA'] == loja_) &\n",
    "                                 (df_pedido['TIPO_CLIENTE'] != 'CPF')]['CPF_CGC'].drop_duplicates())\n",
    "\n",
    "\n",
    "        df_print = df_print[['DT_EMISSAO',\n",
    "                             'Dia Útil',\n",
    "                             'Nome - Dia da Semana',\n",
    "                             'CD_LOJA',\n",
    "                             'META',\n",
    "                             'VENDA BRUTA',\n",
    "                             'VENDA LÍQUIDA',\n",
    "                             'DEVOLUÇÃO',\n",
    "                             'VENDA_CNPJ',\n",
    "                             'DEVOL_CNPJ',\n",
    "                             'CNPJ',\n",
    "                             'VENDA_CPF',\n",
    "                             'DEVOL_CPF',\n",
    "                             'CPF']]\n",
    "\n",
    "    else:\n",
    "        df_print = principal_dataframe.groupby(['DT_EMISSAO', 'Dia Útil', 'Nome - Dia da Semana']).sum(['META',\n",
    "                                                                                                        'VENDA BRUTA',\n",
    "                                                                                                        'DEVOLUÇÃO',\n",
    "                                                                                                        'VENDA LÍQUIDA',\n",
    "                                                                                                        'VENDA_CNPJ',\n",
    "                                                                                                        'DEVOL_CNPJ',\n",
    "                                                                                                        'CNPJ',\n",
    "                                                                                                        'VENDA_CPF',\n",
    "                                                                                                        'DEVOL_CPF',\n",
    "                                                                                                        'CPF']).reset_index()\n",
    "\n",
    "\n",
    "        client_cgc_mes = list(df_pedido[(df_pedido['TIPO_CLIENTE'] != 'CPF')]['CPF_CGC'].drop_duplicates())\n",
    "        client_cgc_mes_vo = list(df_pedido[df_pedido['TIPO_CLIENTE'] != 'CPF']['NU_CPFCNPJ'].drop_duplicates().dropna())\n",
    "\n",
    "    \n",
    "        df_print = df_print[['DT_EMISSAO',\n",
    "                             'Dia Útil',\n",
    "                             'Nome - Dia da Semana',\n",
    "                             'META',\n",
    "                             'VENDA BRUTA',\n",
    "                             'VENDA LÍQUIDA',\n",
    "                             'DEVOLUÇÃO',\n",
    "                             'VENDA_CNPJ',\n",
    "                             'DEVOL_CNPJ',\n",
    "                             'CNPJ',\n",
    "                             'VENDA_CPF',\n",
    "                             'DEVOL_CPF',\n",
    "                             'CPF']]\n",
    "\n",
    "    for i in df_print.index:\n",
    "        if df_print.loc[i, 'DEVOLUÇÃO'] == 0:\n",
    "            df_print.loc[i, '% DEV'] = 0\n",
    "        else:\n",
    "            df_print.loc[i, '% DEV'] = df_print.loc[i, 'DEVOLUÇÃO'] / df_print.loc[i, 'VENDA BRUTA']\n",
    "\n",
    "        \n",
    "        if df_print.loc[i, 'DEVOL_CNPJ'] == 0:\n",
    "            df_print.loc[i, '% DEV CNPJ'] = 0\n",
    "        else:\n",
    "            df_print.loc[i, '% DEV CNPJ'] = df_print.loc[i, 'DEVOL_CNPJ'] / df_print.loc[i, 'VENDA_CNPJ']\n",
    "\n",
    "\n",
    "        if df_print.loc[i, 'DEVOL_CPF'] == 0:\n",
    "            df_print.loc[i, '% DEV CPF'] = 0\n",
    "        else:\n",
    "            df_print.loc[i, '% DEV CPF'] = df_print.loc[i, 'DEVOL_CPF'] / df_print.loc[i, 'VENDA_CPF']\n",
    "\n",
    "        if df_print.loc[i, 'VENDA LÍQUIDA'] == 0:\n",
    "            df_print.loc[i, '% META DIA'] = 0\n",
    "        else:\n",
    "            df_print.loc[i, '% META DIA'] = df_print.loc[i, 'VENDA LÍQUIDA'] / df_print.loc[i, 'META']\n",
    "\n",
    "    venda_mtd = []\n",
    "    meta_mtd = []\n",
    "\n",
    "    for i in df_print.index:\n",
    "\n",
    "        venda_mtd.append(list(df_print.loc[:i, 'VENDA LÍQUIDA']))\n",
    "        df_print.loc[i, 'VENDA_MTD'] = sum(venda_mtd[i])\n",
    "\n",
    "        meta_mtd.append(list(df_print.loc[:i, 'META']))\n",
    "        df_print.loc[i, 'META_MTD'] = sum(meta_mtd[i])\n",
    "\n",
    "        if df_print.loc[i, 'VENDA_MTD'] == 0:\n",
    "            df_print.loc[i, '% META MÊS'] = 0\n",
    "        else:\n",
    "            df_print.loc[i, '% META MÊS'] = df_print.loc[i, 'VENDA_MTD'] / df_print.loc[i, 'META_MTD']\n",
    "\n",
    "\n",
    "\n",
    "\n",
    "\n",
    "\n",
    "    for i in df_print.index:\n",
    "\n",
    "        df_print.loc[i, 'PROJEÇÃO MÊS'] = df_print.loc[i, '% META MÊS'] * round(float(sum(list(df_print['META']))), 2)\n",
    "\n",
    "    df_print = df_print.rename(columns={'DT_EMISSAO': 'Data',\n",
    "                                        'META': 'Meta',\n",
    "                                        'VENDA BRUTA': 'Venda\\nSIAC',\n",
    "                                        'VENDA LÍQUIDA': 'Venda\\nLíquida',\n",
    "                                        'DEVOLUÇÃO': 'Devolução',\n",
    "                                        '% DEV': '%\\nDev',\n",
    "                                        'VENDA_CNPJ': 'Venda\\nCNPJ',\n",
    "                                        'CNPJ': 'Clientes\\nCNPJ',\n",
    "                                        '% DEV CNPJ': '% Dev\\nCNPJ',\n",
    "                                        'VENDA_CPF': 'Venda\\nCPF',\n",
    "                                        'CPF': 'Clientes\\nCPF',\n",
    "                                        '% DEV CPF': '% Dev\\nCPF',\n",
    "                                        '% META DIA': '%\\nDia',\n",
    "                                        '% META MÊS': '%\\nMês',\n",
    "                                        'PROJEÇÃO MÊS': 'Projeção\\nmensal'})\n",
    "\n",
    "\n",
    "    background_color = bg_colors(df_print, 'Data', 'Dia Útil')\n",
    "    fonts_color = font_projecao_mensal(df_print, 'Data', 'Dia Útil', '#000000')\n",
    "    day_rending_color = font_rendimento(df_print, '%\\nDia', 'Data', 'Dia Útil', '#FFFFFF')\n",
    "    mon_rending_color = font_rendimento(df_print, '%\\nMês', 'Data', 'Dia Útil', '#FFFFFF')\n",
    "\n",
    "\n",
    "    percent_total_dev = (round(float(sum(list(df_print['Devolução']))), 2) / round(float(sum(list(df_print['Venda\\nSIAC']))), 2))\n",
    "    percent_total_dev_pj = (round(float(sum(list(df_print['DEVOL_CNPJ']))), 2) / round(float(sum(list(df_print['Venda\\nCNPJ']))), 2))\n",
    "    percent_total_dev_pf = (round(float(sum(list(df_print['DEVOL_CPF']))), 2) / round(float(sum(list(df_print['Venda\\nCPF']))), 2))\n",
    "\n",
    "\n",
    "    df_print.loc[len(df_print), 'Data'] = ' '\n",
    "\n",
    "\n",
    "    df_print = df_print.fillna(0)\n",
    "\n",
    "    df_print.loc[len(df_print) - 1, 'Meta'] = round(float(sum(list(df_print['Meta']))), 2)\n",
    "    df_print.loc[len(df_print) - 1, 'Venda\\nSIAC'] = round(float(sum(list(df_print['Venda\\nSIAC']))), 2)\n",
    "    df_print.loc[len(df_print) - 1, 'Venda\\nLíquida'] = round(float(sum(list(df_print['Venda\\nLíquida']))), 2)\n",
    "    df_print.loc[len(df_print) - 1, 'Devolução'] = round(float(sum(list(df_print['Devolução']))), 2)\n",
    "    df_print.loc[len(df_print) - 1, '%\\nDev'] = percent_total_dev\n",
    "    df_print.loc[len(df_print) - 1, 'Venda\\nCNPJ'] = round(float(sum(list(df_print['Venda\\nCNPJ']))), 2)\n",
    "    df_print.loc[len(df_print) - 1, 'Clientes\\nCNPJ'] = round(float(len(client_cgc_mes) + len(client_cgc_mes_vo)), 2)  #round(float(sum(list(df_print['Clientes\\nCNPJ']))), 2)\n",
    "    df_print.loc[len(df_print) - 1, '% Dev\\nCNPJ'] = percent_total_dev_pj\n",
    "    df_print.loc[len(df_print) - 1, 'Venda\\nCPF'] = round(float(sum(list(df_print['Venda\\nCPF']))), 2)\n",
    "    df_print.loc[len(df_print) - 1, 'Clientes\\nCPF'] = round(float(sum(list(df_print['Clientes\\nCPF']))), 2)\n",
    "    df_print.loc[len(df_print) - 1, '% Dev\\nCPF'] = percent_total_dev_pf\n",
    "    df_print.loc[len(df_print) - 1, '%\\nDia'] = df_print.loc[len(df_print) - 1, 'Venda\\nLíquida'] / df_print.loc[len(df_print) - 1, 'Meta']\n",
    "    df_print.loc[len(df_print) - 1, '%\\nMês'] = df_print.loc[len(df_print) - 1, 'Venda\\nLíquida'] / df_print.loc[len(df_print) - 1, 'Meta']\n",
    "    df_print.loc[len(df_print) - 1, 'Projeção\\nmensal'] = 0\n",
    "\n",
    "\n",
    "\n",
    "\n",
    "\n",
    "\n",
    "    df_print = df_print[['Data',\n",
    "                         'Meta',\n",
    "                         'Venda\\nSIAC',\n",
    "                         'Venda\\nLíquida',\n",
    "                         'Devolução',\n",
    "                         '%\\nDev',\n",
    "                         'Venda\\nCNPJ',\n",
    "                         'Clientes\\nCNPJ',\n",
    "                         '% Dev\\nCNPJ',\n",
    "                         'Venda\\nCPF',\n",
    "                         'Clientes\\nCPF',\n",
    "                         '% Dev\\nCPF',\n",
    "                         '%\\nDia',\n",
    "                         '%\\nMês',\n",
    "                         'Projeção\\nmensal']]\n",
    "\n",
    "\n",
    "\n",
    "    for i in df_print.index:\n",
    "        df_print.loc[i, 'Meta'] = 'R$ {:_.2f}'.format(df_print.loc[i, 'Meta']).replace('.',',').replace('_','.')\n",
    "        df_print.loc[i, 'Venda\\nSIAC'] = 'R$ {:_.2f}'.format(df_print.loc[i, 'Venda\\nSIAC']).replace('.',',').replace('_','.')\n",
    "        df_print.loc[i, 'Devolução'] = 'R$ {:_.2f}'.format(df_print.loc[i, 'Devolução']).replace('.',',').replace('_','.')\n",
    "        df_print.loc[i, '%\\nDev'] = '{:_.2%}'.format(df_print.loc[i, '%\\nDev']).replace('.',',').replace('_','.')\n",
    "        df_print.loc[i, 'Venda\\nCNPJ'] = 'R$ {:_.2f}'.format(df_print.loc[i, 'Venda\\nCNPJ']).replace('.',',').replace('_','.')\n",
    "        df_print.loc[i, '% Dev\\nCNPJ'] = '{:_.2%}'.format(df_print.loc[i, '% Dev\\nCNPJ']).replace('.',',').replace('_','.')\n",
    "        df_print.loc[i, 'Clientes\\nCNPJ'] = '{:_.0f}'.format(df_print.loc[i, 'Clientes\\nCNPJ']).replace('.',',').replace('_','.')\n",
    "        df_print.loc[i, 'Venda\\nCPF'] = 'R$ {:_.2f}'.format(df_print.loc[i, 'Venda\\nCPF']).replace('.',',').replace('_','.')\n",
    "        df_print.loc[i, '% Dev\\nCPF'] = '{:_.2%}'.format(df_print.loc[i, '% Dev\\nCPF']).replace('.',',').replace('_','.')\n",
    "        df_print.loc[i, 'Clientes\\nCPF'] = '{:_.0f}'.format(df_print.loc[i, 'Clientes\\nCPF']).replace('.',',').replace('_','.')\n",
    "        df_print.loc[i, '%\\nDia'] = '{:_.2%}'.format(df_print.loc[i, '%\\nDia']).replace('.',',').replace('_','.')\n",
    "        df_print.loc[i, '%\\nMês'] = '{:_.2%}'.format(df_print.loc[i, '%\\nMês']).replace('.',',').replace('_','.')\n",
    "        df_print.loc[i, 'Projeção\\nmensal'] = 'R$ {:_.2f}'.format(df_print.loc[i, 'Projeção\\nmensal']).replace('.',',').replace('_','.')\n",
    "\n",
    "        if df_print.loc[i, 'Venda\\nLíquida'] < 0:\n",
    "            df_print.loc[i, 'Venda\\nLíquida'] = '-R$ {:_.2f}'.format(df_print.loc[i, 'Venda\\nLíquida'] * -1).replace('.',',').replace('_','.')\n",
    "        else:\n",
    "            df_print.loc[i, 'Venda\\nLíquida'] = 'R$ {:_.2f}'.format(df_print.loc[i, 'Venda\\nLíquida']).replace('.',',').replace('_','.')\n",
    "\n",
    "        if df_print.loc[i, 'Data'] == ' ':\n",
    "            df_print.loc[i, 'Data'] = 'Total'\n",
    "        else:\n",
    "            df_print.loc[i, 'Data'] = df_print.loc[i, 'Data'].strftime('%d/%m/%Y, %A')\n",
    "\n",
    "\n",
    "        for (english, portuguese) in dias_semana:\n",
    "            if english in df_print.loc[i, 'Data']:\n",
    "                df_print.loc[i, 'Data'] = df_print.loc[i, 'Data'].replace(english, portuguese)\n",
    "\n",
    "\n",
    "\n",
    "    df_print = df_print.replace('inf%', '').replace('-inf%', '').replace('0,00%', '').replace('R$ 0,00', '').replace('0', '')\n",
    "\n",
    "\n",
    "    table = go.Figure(go.Table(header={'values':list(df_print.columns),\n",
    "                                       'fill_color': '#E5E5E5',\n",
    "                                       'line_color': '#E5E5E5',\n",
    "                                       'line_width': 3,\n",
    "                                       'align': 'center',\n",
    "                                       'font_color': ['#000000',\n",
    "                                                      '#000000',\n",
    "                                                      '#118DFF',\n",
    "                                                      '#000000',\n",
    "                                                      '#FF0000',\n",
    "                                                      '#FF0000',\n",
    "                                                      '#E04392',\n",
    "                                                      '#000000',\n",
    "                                                      '#FF0000',\n",
    "                                                      '#E04392',\n",
    "                                                      '#000000',\n",
    "                                                      '#FF0000',\n",
    "                                                      '#000000',\n",
    "                                                      '#000000',\n",
    "                                                      '#000000'],\n",
    "                                       'font_family': 'Segoe UI Semibold',\n",
    "                                       'font_size': proportion_size(pixels=_pixels, size=32)\n",
    "                                       },\n",
    "                                        \n",
    "                                cells={'values':[list(df_print['Data']),\n",
    "                                                 list(df_print['Meta']),\n",
    "                                                 list(df_print['Venda\\nSIAC']),\n",
    "                                                 list(df_print['Venda\\nLíquida']),\n",
    "                                                 list(df_print['Devolução']),\n",
    "                                                 list(df_print['%\\nDev']),\n",
    "                                                 list(df_print['Venda\\nCNPJ']),\n",
    "                                                 list(df_print['Clientes\\nCNPJ']),\n",
    "                                                 list(df_print['% Dev\\nCNPJ']),\n",
    "                                                 list(df_print['Venda\\nCPF']),\n",
    "                                                 list(df_print['Clientes\\nCPF']),\n",
    "                                                 list(df_print['% Dev\\nCPF']),\n",
    "                                                 list(df_print['%\\nDia']),\n",
    "                                                 list(df_print['%\\nMês']),\n",
    "                                                 list(df_print['Projeção\\nmensal'])],\n",
    "                                       'fill_color': background_color,\n",
    "                                       'line_color': background_color,\n",
    "                                       'line_width': 2,\n",
    "                                       'align': ['left', 'center'],\n",
    "                                       'font_color': ['#000000',\n",
    "                                                      '#000000',\n",
    "                                                      '#118DFF',\n",
    "                                                      '#000000',\n",
    "                                                      '#FF0000',\n",
    "                                                      '#FF0000',\n",
    "                                                      '#E04392',\n",
    "                                                      '#000000',\n",
    "                                                      '#FF0000',\n",
    "                                                      '#E04392',\n",
    "                                                      '#000000',\n",
    "                                                      '#FF0000',\n",
    "                                                      day_rending_color,\n",
    "                                                      mon_rending_color,\n",
    "                                                      fonts_color[0]],\n",
    "                                       'font_family': 'Segoe UI Semibold',\n",
    "                                       'font_size': proportion_size(pixels=_pixels, size=32)\n",
    "                                       },\n",
    "\n",
    "                               domain={'y': [0, 1]\n",
    "                                       },\n",
    "\n",
    "                          columnwidth=[proportion_size(pixels=_pixels, size=25),\n",
    "                                       proportion_size(pixels=_pixels, size=16),\n",
    "                                       proportion_size(pixels=_pixels, size=16),\n",
    "                                       proportion_size(pixels=_pixels, size=16),\n",
    "                                       proportion_size(pixels=_pixels, size=16),\n",
    "                                       proportion_size(pixels=_pixels, size=10),\n",
    "                                       proportion_size(pixels=_pixels, size=16),\n",
    "                                       proportion_size(pixels=_pixels, size=13),\n",
    "                                       proportion_size(pixels=_pixels, size=12),\n",
    "                                       proportion_size(pixels=_pixels, size=16),\n",
    "                                       proportion_size(pixels=_pixels, size=12),\n",
    "                                       proportion_size(pixels=_pixels, size=10),\n",
    "                                       proportion_size(pixels=_pixels, size=7),\n",
    "                                       proportion_size(pixels=_pixels, size=7),\n",
    "                                       proportion_size(pixels=_pixels, size=16)]\n",
    "                                )\n",
    "    )\n",
    "\n",
    "    for (cod_loja, loja, cor, crypto, logico) in lojas:\n",
    "        if cod_loja == loja_:\n",
    "            print_loja = loja[4:5] + loja[5:].lower()\n",
    "            print_loja = loja[4:]\n",
    "            print_cor = cor\n",
    "            print_crypto = crypto\n",
    "            save_loja = f'{cod_loja} '\n",
    "\n",
    "    if len(loja_) > 0:\n",
    "        text_title = f'◙'*int(10) + ' 🡆 ' + print_loja + ' 🡄 ' + f'◙'*int(76) + ' ' + print_crypto + ' ' + f'◙'*int(10)\n",
    "    else:\n",
    "        text_title = f'◙'*int(10) + ' 🡆 ' + 'KAIZEN' + ' 🡄 ' + f'◙'*int(76) + ' ' + 'ⓀⒶⒾⓏⒺⓃ' + ' ' + f'◙'*int(10)\n",
    "        print_cor = '#00A5AC'\n",
    "        save_loja = f''\n",
    "\n",
    "    table = table.update_layout(\n",
    "\n",
    "        #Title config ---------------------------------------------------------------------------------------------------------------------#\n",
    "        title  = {'text': text_title,\n",
    "                  'font_color': print_cor,\n",
    "                  'font_family': 'Jost',\n",
    "                  'x': 0.50,\n",
    "                  'y': 0.95,\n",
    "                  'font_size': proportion_size(pixels=_pixels, size=60),\n",
    "                  'yanchor': 'bottom'\n",
    "                  },\n",
    "\n",
    "        #Size plot config -----------------------------------------------------------------------------------------------------------------#\n",
    "        width  = pixels_width,\n",
    "        height = pixels_height\n",
    "    )\n",
    "\n",
    "    table.show()\n",
    "    time.sleep(5)\n",
    "    table.write_html(f'{save_image}\\\\RESUMO MENSAL_html\\\\{relatorio} {save_loja}TABLE.html')\n",
    "\n",
    "\n",
    "    hti = Html2Image()\n",
    "    hti.screenshot(\n",
    "        html_file=f'{save_image}\\\\RESUMO MENSAL_html\\\\{relatorio} {save_loja}TABLE.html',\n",
    "        save_as=f'{relatorio} {save_loja}TABLE.png',\n",
    "        size=(pixels_width, pixels_height)\n",
    "    )\n",
    "\n",
    "    shutil.move(f'{relatorio} {save_loja}TABLE.png',\n",
    "                f'{save_image}\\\\{relatorio} {save_loja}TABLE.png')\n",
    "\n",
    "\n",
    "    return print(f'{relatorio} {save_loja}TABLE.png\\n')"
   ]
  },
  {
   "cell_type": "code",
   "execution_count": 1100,
   "metadata": {},
   "outputs": [
    {
     "name": "stderr",
     "output_type": "stream",
     "text": [
      "C:\\Users\\admin\\AppData\\Local\\Temp\\ipykernel_19088\\3465617909.py:86: RuntimeWarning:\n",
      "\n",
      "divide by zero encountered in double_scalars\n",
      "\n"
     ]
    },
    {
     "data": {
      "application/vnd.plotly.v1+json": {
       "config": {
        "plotlyServerURL": "https://plot.ly"
       },
       "data": [
        {
         "cells": {
          "align": [
           "left",
           "center"
          ],
          "fill": {
           "color": [
            [
             "#FFFFFF",
             "#FFFFFF",
             "#FFFFFF",
             "#DEEFFF",
             "#DEEFFF",
             "#FFFFFF",
             "#FFFFFF",
             "#FFFFFF",
             "#FFFFFF",
             "#FFFFFF",
             "#DEEFFF",
             "#F7F7F7",
             "#FFFFFF",
             "#FFFFFF",
             "#FFFFFF",
             "#FFFFFF",
             "#FFFFFF",
             "#DEEFFF",
             "#FFFFFF",
             "#FFFFFF",
             "#FFFFFF",
             "#FFFFFF",
             "#FFFFFF",
             "#FFFFFF",
             "#DEEFFF",
             "#FFFFFF",
             "#FFFFFF",
             "#FFFFFF",
             "#FFFFFF",
             "#FFFFFF",
             "#FFFFFF",
             "#E5E5E5"
            ],
            [
             "#FFFFFF",
             "#FFFFFF",
             "#FFFFFF",
             "#DEEFFF",
             "#DEEFFF",
             "#FFFFFF",
             "#FFFFFF",
             "#FFFFFF",
             "#FFFFFF",
             "#FFFFFF",
             "#DEEFFF",
             "#F7F7F7",
             "#FFFFFF",
             "#FFFFFF",
             "#FFFFFF",
             "#FFFFFF",
             "#FFFFFF",
             "#DEEFFF",
             "#FFFFFF",
             "#FFFFFF",
             "#FFFFFF",
             "#FFFFFF",
             "#FFFFFF",
             "#FFFFFF",
             "#DEEFFF",
             "#FFFFFF",
             "#FFFFFF",
             "#FFFFFF",
             "#FFFFFF",
             "#FFFFFF",
             "#FFFFFF",
             "#E5E5E5"
            ],
            [
             "#F7F7F7",
             "#F7F7F7",
             "#F7F7F7",
             "#DEEFFF",
             "#DEEFFF",
             "#F7F7F7",
             "#F7F7F7",
             "#F7F7F7",
             "#F7F7F7",
             "#F7F7F7",
             "#DEEFFF",
             "#F7F7F7",
             "#F7F7F7",
             "#F7F7F7",
             "#F7F7F7",
             "#F7F7F7",
             "#F7F7F7",
             "#DEEFFF",
             "#F7F7F7",
             "#F7F7F7",
             "#F7F7F7",
             "#F7F7F7",
             "#F7F7F7",
             "#F7F7F7",
             "#DEEFFF",
             "#F7F7F7",
             "#F7F7F7",
             "#F7F7F7",
             "#F7F7F7",
             "#F7F7F7",
             "#F7F7F7",
             "#E5E5E5"
            ],
            [
             "#F7F7F7",
             "#F7F7F7",
             "#F7F7F7",
             "#DEEFFF",
             "#DEEFFF",
             "#F7F7F7",
             "#F7F7F7",
             "#F7F7F7",
             "#F7F7F7",
             "#F7F7F7",
             "#DEEFFF",
             "#F7F7F7",
             "#F7F7F7",
             "#F7F7F7",
             "#F7F7F7",
             "#F7F7F7",
             "#F7F7F7",
             "#DEEFFF",
             "#F7F7F7",
             "#F7F7F7",
             "#F7F7F7",
             "#F7F7F7",
             "#F7F7F7",
             "#F7F7F7",
             "#DEEFFF",
             "#F7F7F7",
             "#F7F7F7",
             "#F7F7F7",
             "#F7F7F7",
             "#F7F7F7",
             "#F7F7F7",
             "#E5E5E5"
            ],
            [
             "#FFFFFF",
             "#FFFFFF",
             "#FFFFFF",
             "#DEEFFF",
             "#DEEFFF",
             "#FFFFFF",
             "#FFFFFF",
             "#FFFFFF",
             "#FFFFFF",
             "#FFFFFF",
             "#DEEFFF",
             "#F7F7F7",
             "#FFFFFF",
             "#FFFFFF",
             "#FFFFFF",
             "#FFFFFF",
             "#FFFFFF",
             "#DEEFFF",
             "#FFFFFF",
             "#FFFFFF",
             "#FFFFFF",
             "#FFFFFF",
             "#FFFFFF",
             "#FFFFFF",
             "#DEEFFF",
             "#FFFFFF",
             "#FFFFFF",
             "#FFFFFF",
             "#FFFFFF",
             "#FFFFFF",
             "#FFFFFF",
             "#E5E5E5"
            ],
            [
             "#FFFFFF",
             "#FFFFFF",
             "#FFFFFF",
             "#DEEFFF",
             "#DEEFFF",
             "#FFFFFF",
             "#FFFFFF",
             "#FFFFFF",
             "#FFFFFF",
             "#FFFFFF",
             "#DEEFFF",
             "#F7F7F7",
             "#FFFFFF",
             "#FFFFFF",
             "#FFFFFF",
             "#FFFFFF",
             "#FFFFFF",
             "#DEEFFF",
             "#FFFFFF",
             "#FFFFFF",
             "#FFFFFF",
             "#FFFFFF",
             "#FFFFFF",
             "#FFFFFF",
             "#DEEFFF",
             "#FFFFFF",
             "#FFFFFF",
             "#FFFFFF",
             "#FFFFFF",
             "#FFFFFF",
             "#FFFFFF",
             "#E5E5E5"
            ],
            [
             "#F7F7F7",
             "#F7F7F7",
             "#F7F7F7",
             "#DEEFFF",
             "#DEEFFF",
             "#F7F7F7",
             "#F7F7F7",
             "#F7F7F7",
             "#F7F7F7",
             "#F7F7F7",
             "#DEEFFF",
             "#F7F7F7",
             "#F7F7F7",
             "#F7F7F7",
             "#F7F7F7",
             "#F7F7F7",
             "#F7F7F7",
             "#DEEFFF",
             "#F7F7F7",
             "#F7F7F7",
             "#F7F7F7",
             "#F7F7F7",
             "#F7F7F7",
             "#F7F7F7",
             "#DEEFFF",
             "#F7F7F7",
             "#F7F7F7",
             "#F7F7F7",
             "#F7F7F7",
             "#F7F7F7",
             "#F7F7F7",
             "#E5E5E5"
            ],
            [
             "#FFFFFF",
             "#FFFFFF",
             "#FFFFFF",
             "#DEEFFF",
             "#DEEFFF",
             "#FFFFFF",
             "#FFFFFF",
             "#FFFFFF",
             "#FFFFFF",
             "#FFFFFF",
             "#DEEFFF",
             "#F7F7F7",
             "#FFFFFF",
             "#FFFFFF",
             "#FFFFFF",
             "#FFFFFF",
             "#FFFFFF",
             "#DEEFFF",
             "#FFFFFF",
             "#FFFFFF",
             "#FFFFFF",
             "#FFFFFF",
             "#FFFFFF",
             "#FFFFFF",
             "#DEEFFF",
             "#FFFFFF",
             "#FFFFFF",
             "#FFFFFF",
             "#FFFFFF",
             "#FFFFFF",
             "#FFFFFF",
             "#E5E5E5"
            ],
            [
             "#FFFFFF",
             "#FFFFFF",
             "#FFFFFF",
             "#DEEFFF",
             "#DEEFFF",
             "#FFFFFF",
             "#FFFFFF",
             "#FFFFFF",
             "#FFFFFF",
             "#FFFFFF",
             "#DEEFFF",
             "#F7F7F7",
             "#FFFFFF",
             "#FFFFFF",
             "#FFFFFF",
             "#FFFFFF",
             "#FFFFFF",
             "#DEEFFF",
             "#FFFFFF",
             "#FFFFFF",
             "#FFFFFF",
             "#FFFFFF",
             "#FFFFFF",
             "#FFFFFF",
             "#DEEFFF",
             "#FFFFFF",
             "#FFFFFF",
             "#FFFFFF",
             "#FFFFFF",
             "#FFFFFF",
             "#FFFFFF",
             "#E5E5E5"
            ],
            [
             "#F7F7F7",
             "#F7F7F7",
             "#F7F7F7",
             "#DEEFFF",
             "#DEEFFF",
             "#F7F7F7",
             "#F7F7F7",
             "#F7F7F7",
             "#F7F7F7",
             "#F7F7F7",
             "#DEEFFF",
             "#F7F7F7",
             "#F7F7F7",
             "#F7F7F7",
             "#F7F7F7",
             "#F7F7F7",
             "#F7F7F7",
             "#DEEFFF",
             "#F7F7F7",
             "#F7F7F7",
             "#F7F7F7",
             "#F7F7F7",
             "#F7F7F7",
             "#F7F7F7",
             "#DEEFFF",
             "#F7F7F7",
             "#F7F7F7",
             "#F7F7F7",
             "#F7F7F7",
             "#F7F7F7",
             "#F7F7F7",
             "#E5E5E5"
            ],
            [
             "#FFFFFF",
             "#FFFFFF",
             "#FFFFFF",
             "#DEEFFF",
             "#DEEFFF",
             "#FFFFFF",
             "#FFFFFF",
             "#FFFFFF",
             "#FFFFFF",
             "#FFFFFF",
             "#DEEFFF",
             "#F7F7F7",
             "#FFFFFF",
             "#FFFFFF",
             "#FFFFFF",
             "#FFFFFF",
             "#FFFFFF",
             "#DEEFFF",
             "#FFFFFF",
             "#FFFFFF",
             "#FFFFFF",
             "#FFFFFF",
             "#FFFFFF",
             "#FFFFFF",
             "#DEEFFF",
             "#FFFFFF",
             "#FFFFFF",
             "#FFFFFF",
             "#FFFFFF",
             "#FFFFFF",
             "#FFFFFF",
             "#E5E5E5"
            ],
            [
             "#FFFFFF",
             "#FFFFFF",
             "#FFFFFF",
             "#DEEFFF",
             "#DEEFFF",
             "#FFFFFF",
             "#FFFFFF",
             "#FFFFFF",
             "#FFFFFF",
             "#FFFFFF",
             "#DEEFFF",
             "#F7F7F7",
             "#FFFFFF",
             "#FFFFFF",
             "#FFFFFF",
             "#FFFFFF",
             "#FFFFFF",
             "#DEEFFF",
             "#FFFFFF",
             "#FFFFFF",
             "#FFFFFF",
             "#FFFFFF",
             "#FFFFFF",
             "#FFFFFF",
             "#DEEFFF",
             "#FFFFFF",
             "#FFFFFF",
             "#FFFFFF",
             "#FFFFFF",
             "#FFFFFF",
             "#FFFFFF",
             "#E5E5E5"
            ],
            [
             "#FFFFFF",
             "#FFFFFF",
             "#FFFFFF",
             "#DEEFFF",
             "#DEEFFF",
             "#FFFFFF",
             "#FFFFFF",
             "#FFFFFF",
             "#FFFFFF",
             "#FFFFFF",
             "#DEEFFF",
             "#F7F7F7",
             "#FFFFFF",
             "#FFFFFF",
             "#FFFFFF",
             "#FFFFFF",
             "#FFFFFF",
             "#DEEFFF",
             "#FFFFFF",
             "#FFFFFF",
             "#FFFFFF",
             "#FFFFFF",
             "#FFFFFF",
             "#FFFFFF",
             "#DEEFFF",
             "#FFFFFF",
             "#FFFFFF",
             "#FFFFFF",
             "#FFFFFF",
             "#FFFFFF",
             "#FFFFFF",
             "#E5E5E5"
            ],
            [
             "#FFFFFF",
             "#FFFFFF",
             "#FFFFFF",
             "#DEEFFF",
             "#DEEFFF",
             "#FFFFFF",
             "#FFFFFF",
             "#FFFFFF",
             "#FFFFFF",
             "#FFFFFF",
             "#DEEFFF",
             "#F7F7F7",
             "#FFFFFF",
             "#FFFFFF",
             "#FFFFFF",
             "#FFFFFF",
             "#FFFFFF",
             "#DEEFFF",
             "#FFFFFF",
             "#FFFFFF",
             "#FFFFFF",
             "#FFFFFF",
             "#FFFFFF",
             "#FFFFFF",
             "#DEEFFF",
             "#FFFFFF",
             "#FFFFFF",
             "#FFFFFF",
             "#FFFFFF",
             "#FFFFFF",
             "#FFFFFF",
             "#E5E5E5"
            ],
            [
             "#FFFFFF",
             "#FFFFFF",
             "#FFFFFF",
             "#DEEFFF",
             "#DEEFFF",
             "#FFFFFF",
             "#FFFFFF",
             "#FFFFFF",
             "#FFFFFF",
             "#FFFFFF",
             "#DEEFFF",
             "#F7F7F7",
             "#FFFFFF",
             "#FFFFFF",
             "#FFFFFF",
             "#FFFFFF",
             "#FFFFFF",
             "#DEEFFF",
             "#FFFFFF",
             "#FFFFFF",
             "#FFFFFF",
             "#FFFFFF",
             "#FFFFFF",
             "#FFFFFF",
             "#DEEFFF",
             "#FFFFFF",
             "#FFFFFF",
             "#FFFFFF",
             "#FFFFFF",
             "#FFFFFF",
             "#FFFFFF",
             "#E5E5E5"
            ],
            [
             "#FFFFFF",
             "#FFFFFF",
             "#FFFFFF",
             "#DEEFFF",
             "#DEEFFF",
             "#FFFFFF",
             "#FFFFFF",
             "#FFFFFF",
             "#FFFFFF",
             "#FFFFFF",
             "#DEEFFF",
             "#F7F7F7",
             "#FFFFFF",
             "#FFFFFF",
             "#FFFFFF",
             "#FFFFFF",
             "#FFFFFF",
             "#DEEFFF",
             "#FFFFFF",
             "#FFFFFF",
             "#FFFFFF",
             "#FFFFFF",
             "#FFFFFF",
             "#FFFFFF",
             "#DEEFFF",
             "#FFFFFF",
             "#FFFFFF",
             "#FFFFFF",
             "#FFFFFF",
             "#FFFFFF",
             "#FFFFFF",
             "#E5E5E5"
            ],
            [
             "#FFFFFF",
             "#FFFFFF",
             "#FFFFFF",
             "#DEEFFF",
             "#DEEFFF",
             "#FFFFFF",
             "#FFFFFF",
             "#FFFFFF",
             "#FFFFFF",
             "#FFFFFF",
             "#DEEFFF",
             "#F7F7F7",
             "#FFFFFF",
             "#FFFFFF",
             "#FFFFFF",
             "#FFFFFF",
             "#FFFFFF",
             "#DEEFFF",
             "#FFFFFF",
             "#FFFFFF",
             "#FFFFFF",
             "#FFFFFF",
             "#FFFFFF",
             "#FFFFFF",
             "#DEEFFF",
             "#FFFFFF",
             "#FFFFFF",
             "#FFFFFF",
             "#FFFFFF",
             "#FFFFFF",
             "#FFFFFF",
             "#E5E5E5"
            ],
            [
             "#FFFFFF",
             "#FFFFFF",
             "#FFFFFF",
             "#DEEFFF",
             "#DEEFFF",
             "#FFFFFF",
             "#FFFFFF",
             "#FFFFFF",
             "#FFFFFF",
             "#FFFFFF",
             "#DEEFFF",
             "#F7F7F7",
             "#FFFFFF",
             "#FFFFFF",
             "#FFFFFF",
             "#FFFFFF",
             "#FFFFFF",
             "#DEEFFF",
             "#FFFFFF",
             "#FFFFFF",
             "#FFFFFF",
             "#FFFFFF",
             "#FFFFFF",
             "#FFFFFF",
             "#DEEFFF",
             "#FFFFFF",
             "#FFFFFF",
             "#FFFFFF",
             "#FFFFFF",
             "#FFFFFF",
             "#FFFFFF",
             "#E5E5E5"
            ],
            [
             "#FFFFFF",
             "#FFFFFF",
             "#FFFFFF",
             "#DEEFFF",
             "#DEEFFF",
             "#FFFFFF",
             "#FFFFFF",
             "#FFFFFF",
             "#FFFFFF",
             "#FFFFFF",
             "#DEEFFF",
             "#F7F7F7",
             "#FFFFFF",
             "#FFFFFF",
             "#FFFFFF",
             "#FFFFFF",
             "#FFFFFF",
             "#DEEFFF",
             "#FFFFFF",
             "#FFFFFF",
             "#FFFFFF",
             "#FFFFFF",
             "#FFFFFF",
             "#FFFFFF",
             "#DEEFFF",
             "#FFFFFF",
             "#FFFFFF",
             "#FFFFFF",
             "#FFFFFF",
             "#FFFFFF",
             "#FFFFFF",
             "#E5E5E5"
            ],
            [
             "#FFFFFF",
             "#FFFFFF",
             "#FFFFFF",
             "#DEEFFF",
             "#DEEFFF",
             "#FFFFFF",
             "#FFFFFF",
             "#FFFFFF",
             "#FFFFFF",
             "#FFFFFF",
             "#DEEFFF",
             "#F7F7F7",
             "#FFFFFF",
             "#FFFFFF",
             "#FFFFFF",
             "#FFFFFF",
             "#FFFFFF",
             "#DEEFFF",
             "#FFFFFF",
             "#FFFFFF",
             "#FFFFFF",
             "#FFFFFF",
             "#FFFFFF",
             "#FFFFFF",
             "#DEEFFF",
             "#FFFFFF",
             "#FFFFFF",
             "#FFFFFF",
             "#FFFFFF",
             "#FFFFFF",
             "#FFFFFF",
             "#E5E5E5"
            ],
            [
             "#FFFFFF",
             "#FFFFFF",
             "#FFFFFF",
             "#DEEFFF",
             "#DEEFFF",
             "#FFFFFF",
             "#FFFFFF",
             "#FFFFFF",
             "#FFFFFF",
             "#FFFFFF",
             "#DEEFFF",
             "#F7F7F7",
             "#FFFFFF",
             "#FFFFFF",
             "#FFFFFF",
             "#FFFFFF",
             "#FFFFFF",
             "#DEEFFF",
             "#FFFFFF",
             "#FFFFFF",
             "#FFFFFF",
             "#FFFFFF",
             "#FFFFFF",
             "#FFFFFF",
             "#DEEFFF",
             "#FFFFFF",
             "#FFFFFF",
             "#FFFFFF",
             "#FFFFFF",
             "#FFFFFF",
             "#FFFFFF",
             "#E5E5E5"
            ]
           ]
          },
          "font": {
           "color": [
            "#000000",
            "#000000",
            "#118DFF",
            "#000000",
            "#FF0000",
            "#FF0000",
            "#E04392",
            "#000000",
            "#FF0000",
            "#E04392",
            "#000000",
            "#FF0000",
            [
             "#FF0000",
             "#FF0000",
             "#00B050",
             "#DEEFFF",
             "#DEEFFF",
             "#00B050",
             "#00B050",
             "#00B050",
             "#FF0000",
             "#00B050",
             "#DEEFFF",
             "#FF0000",
             "#FFFFFF",
             "#FFFFFF",
             "#FFFFFF",
             "#FFFFFF",
             "#FFFFFF",
             "#DEEFFF",
             "#FFFFFF",
             "#FFFFFF",
             "#FFFFFF",
             "#FFFFFF",
             "#FFFFFF",
             "#FFFFFF",
             "#DEEFFF",
             "#FFFFFF",
             "#FFFFFF",
             "#FFFFFF",
             "#FFFFFF",
             "#FFFFFF",
             "#FFFFFF",
             "#E5E5E5"
            ],
            [
             "#FF0000",
             "#FF0000",
             "#FF0000",
             "#DEEFFF",
             "#DEEFFF",
             "#00B050",
             "#00B050",
             "#00B050",
             "#00B050",
             "#00B050",
             "#DEEFFF",
             "#FF0000",
             "#FFFFFF",
             "#FFFFFF",
             "#FFFFFF",
             "#FFFFFF",
             "#FFFFFF",
             "#DEEFFF",
             "#FFFFFF",
             "#FFFFFF",
             "#FFFFFF",
             "#FFFFFF",
             "#FFFFFF",
             "#FFFFFF",
             "#DEEFFF",
             "#FFFFFF",
             "#FFFFFF",
             "#FFFFFF",
             "#FFFFFF",
             "#FFFFFF",
             "#FFFFFF",
             "#E5E5E5"
            ],
            [
             "#000000",
             "#000000",
             "#000000",
             "#DEEFFF",
             "#DEEFFF",
             "#000000",
             "#000000",
             "#000000",
             "#000000",
             "#000000",
             "#DEEFFF",
             "#000000",
             "#FFFFFF",
             "#FFFFFF",
             "#FFFFFF",
             "#FFFFFF",
             "#FFFFFF",
             "#DEEFFF",
             "#FFFFFF",
             "#FFFFFF",
             "#FFFFFF",
             "#FFFFFF",
             "#FFFFFF",
             "#FFFFFF",
             "#DEEFFF",
             "#FFFFFF",
             "#FFFFFF",
             "#FFFFFF",
             "#FFFFFF",
             "#FFFFFF",
             "#FFFFFF",
             "#118DFF"
            ]
           ],
           "family": "Segoe UI Semibold",
           "size": 13.185185185185185
          },
          "line": {
           "color": [
            [
             "#FFFFFF",
             "#FFFFFF",
             "#FFFFFF",
             "#DEEFFF",
             "#DEEFFF",
             "#FFFFFF",
             "#FFFFFF",
             "#FFFFFF",
             "#FFFFFF",
             "#FFFFFF",
             "#DEEFFF",
             "#F7F7F7",
             "#FFFFFF",
             "#FFFFFF",
             "#FFFFFF",
             "#FFFFFF",
             "#FFFFFF",
             "#DEEFFF",
             "#FFFFFF",
             "#FFFFFF",
             "#FFFFFF",
             "#FFFFFF",
             "#FFFFFF",
             "#FFFFFF",
             "#DEEFFF",
             "#FFFFFF",
             "#FFFFFF",
             "#FFFFFF",
             "#FFFFFF",
             "#FFFFFF",
             "#FFFFFF",
             "#E5E5E5"
            ],
            [
             "#FFFFFF",
             "#FFFFFF",
             "#FFFFFF",
             "#DEEFFF",
             "#DEEFFF",
             "#FFFFFF",
             "#FFFFFF",
             "#FFFFFF",
             "#FFFFFF",
             "#FFFFFF",
             "#DEEFFF",
             "#F7F7F7",
             "#FFFFFF",
             "#FFFFFF",
             "#FFFFFF",
             "#FFFFFF",
             "#FFFFFF",
             "#DEEFFF",
             "#FFFFFF",
             "#FFFFFF",
             "#FFFFFF",
             "#FFFFFF",
             "#FFFFFF",
             "#FFFFFF",
             "#DEEFFF",
             "#FFFFFF",
             "#FFFFFF",
             "#FFFFFF",
             "#FFFFFF",
             "#FFFFFF",
             "#FFFFFF",
             "#E5E5E5"
            ],
            [
             "#F7F7F7",
             "#F7F7F7",
             "#F7F7F7",
             "#DEEFFF",
             "#DEEFFF",
             "#F7F7F7",
             "#F7F7F7",
             "#F7F7F7",
             "#F7F7F7",
             "#F7F7F7",
             "#DEEFFF",
             "#F7F7F7",
             "#F7F7F7",
             "#F7F7F7",
             "#F7F7F7",
             "#F7F7F7",
             "#F7F7F7",
             "#DEEFFF",
             "#F7F7F7",
             "#F7F7F7",
             "#F7F7F7",
             "#F7F7F7",
             "#F7F7F7",
             "#F7F7F7",
             "#DEEFFF",
             "#F7F7F7",
             "#F7F7F7",
             "#F7F7F7",
             "#F7F7F7",
             "#F7F7F7",
             "#F7F7F7",
             "#E5E5E5"
            ],
            [
             "#F7F7F7",
             "#F7F7F7",
             "#F7F7F7",
             "#DEEFFF",
             "#DEEFFF",
             "#F7F7F7",
             "#F7F7F7",
             "#F7F7F7",
             "#F7F7F7",
             "#F7F7F7",
             "#DEEFFF",
             "#F7F7F7",
             "#F7F7F7",
             "#F7F7F7",
             "#F7F7F7",
             "#F7F7F7",
             "#F7F7F7",
             "#DEEFFF",
             "#F7F7F7",
             "#F7F7F7",
             "#F7F7F7",
             "#F7F7F7",
             "#F7F7F7",
             "#F7F7F7",
             "#DEEFFF",
             "#F7F7F7",
             "#F7F7F7",
             "#F7F7F7",
             "#F7F7F7",
             "#F7F7F7",
             "#F7F7F7",
             "#E5E5E5"
            ],
            [
             "#FFFFFF",
             "#FFFFFF",
             "#FFFFFF",
             "#DEEFFF",
             "#DEEFFF",
             "#FFFFFF",
             "#FFFFFF",
             "#FFFFFF",
             "#FFFFFF",
             "#FFFFFF",
             "#DEEFFF",
             "#F7F7F7",
             "#FFFFFF",
             "#FFFFFF",
             "#FFFFFF",
             "#FFFFFF",
             "#FFFFFF",
             "#DEEFFF",
             "#FFFFFF",
             "#FFFFFF",
             "#FFFFFF",
             "#FFFFFF",
             "#FFFFFF",
             "#FFFFFF",
             "#DEEFFF",
             "#FFFFFF",
             "#FFFFFF",
             "#FFFFFF",
             "#FFFFFF",
             "#FFFFFF",
             "#FFFFFF",
             "#E5E5E5"
            ],
            [
             "#FFFFFF",
             "#FFFFFF",
             "#FFFFFF",
             "#DEEFFF",
             "#DEEFFF",
             "#FFFFFF",
             "#FFFFFF",
             "#FFFFFF",
             "#FFFFFF",
             "#FFFFFF",
             "#DEEFFF",
             "#F7F7F7",
             "#FFFFFF",
             "#FFFFFF",
             "#FFFFFF",
             "#FFFFFF",
             "#FFFFFF",
             "#DEEFFF",
             "#FFFFFF",
             "#FFFFFF",
             "#FFFFFF",
             "#FFFFFF",
             "#FFFFFF",
             "#FFFFFF",
             "#DEEFFF",
             "#FFFFFF",
             "#FFFFFF",
             "#FFFFFF",
             "#FFFFFF",
             "#FFFFFF",
             "#FFFFFF",
             "#E5E5E5"
            ],
            [
             "#F7F7F7",
             "#F7F7F7",
             "#F7F7F7",
             "#DEEFFF",
             "#DEEFFF",
             "#F7F7F7",
             "#F7F7F7",
             "#F7F7F7",
             "#F7F7F7",
             "#F7F7F7",
             "#DEEFFF",
             "#F7F7F7",
             "#F7F7F7",
             "#F7F7F7",
             "#F7F7F7",
             "#F7F7F7",
             "#F7F7F7",
             "#DEEFFF",
             "#F7F7F7",
             "#F7F7F7",
             "#F7F7F7",
             "#F7F7F7",
             "#F7F7F7",
             "#F7F7F7",
             "#DEEFFF",
             "#F7F7F7",
             "#F7F7F7",
             "#F7F7F7",
             "#F7F7F7",
             "#F7F7F7",
             "#F7F7F7",
             "#E5E5E5"
            ],
            [
             "#FFFFFF",
             "#FFFFFF",
             "#FFFFFF",
             "#DEEFFF",
             "#DEEFFF",
             "#FFFFFF",
             "#FFFFFF",
             "#FFFFFF",
             "#FFFFFF",
             "#FFFFFF",
             "#DEEFFF",
             "#F7F7F7",
             "#FFFFFF",
             "#FFFFFF",
             "#FFFFFF",
             "#FFFFFF",
             "#FFFFFF",
             "#DEEFFF",
             "#FFFFFF",
             "#FFFFFF",
             "#FFFFFF",
             "#FFFFFF",
             "#FFFFFF",
             "#FFFFFF",
             "#DEEFFF",
             "#FFFFFF",
             "#FFFFFF",
             "#FFFFFF",
             "#FFFFFF",
             "#FFFFFF",
             "#FFFFFF",
             "#E5E5E5"
            ],
            [
             "#FFFFFF",
             "#FFFFFF",
             "#FFFFFF",
             "#DEEFFF",
             "#DEEFFF",
             "#FFFFFF",
             "#FFFFFF",
             "#FFFFFF",
             "#FFFFFF",
             "#FFFFFF",
             "#DEEFFF",
             "#F7F7F7",
             "#FFFFFF",
             "#FFFFFF",
             "#FFFFFF",
             "#FFFFFF",
             "#FFFFFF",
             "#DEEFFF",
             "#FFFFFF",
             "#FFFFFF",
             "#FFFFFF",
             "#FFFFFF",
             "#FFFFFF",
             "#FFFFFF",
             "#DEEFFF",
             "#FFFFFF",
             "#FFFFFF",
             "#FFFFFF",
             "#FFFFFF",
             "#FFFFFF",
             "#FFFFFF",
             "#E5E5E5"
            ],
            [
             "#F7F7F7",
             "#F7F7F7",
             "#F7F7F7",
             "#DEEFFF",
             "#DEEFFF",
             "#F7F7F7",
             "#F7F7F7",
             "#F7F7F7",
             "#F7F7F7",
             "#F7F7F7",
             "#DEEFFF",
             "#F7F7F7",
             "#F7F7F7",
             "#F7F7F7",
             "#F7F7F7",
             "#F7F7F7",
             "#F7F7F7",
             "#DEEFFF",
             "#F7F7F7",
             "#F7F7F7",
             "#F7F7F7",
             "#F7F7F7",
             "#F7F7F7",
             "#F7F7F7",
             "#DEEFFF",
             "#F7F7F7",
             "#F7F7F7",
             "#F7F7F7",
             "#F7F7F7",
             "#F7F7F7",
             "#F7F7F7",
             "#E5E5E5"
            ],
            [
             "#FFFFFF",
             "#FFFFFF",
             "#FFFFFF",
             "#DEEFFF",
             "#DEEFFF",
             "#FFFFFF",
             "#FFFFFF",
             "#FFFFFF",
             "#FFFFFF",
             "#FFFFFF",
             "#DEEFFF",
             "#F7F7F7",
             "#FFFFFF",
             "#FFFFFF",
             "#FFFFFF",
             "#FFFFFF",
             "#FFFFFF",
             "#DEEFFF",
             "#FFFFFF",
             "#FFFFFF",
             "#FFFFFF",
             "#FFFFFF",
             "#FFFFFF",
             "#FFFFFF",
             "#DEEFFF",
             "#FFFFFF",
             "#FFFFFF",
             "#FFFFFF",
             "#FFFFFF",
             "#FFFFFF",
             "#FFFFFF",
             "#E5E5E5"
            ],
            [
             "#FFFFFF",
             "#FFFFFF",
             "#FFFFFF",
             "#DEEFFF",
             "#DEEFFF",
             "#FFFFFF",
             "#FFFFFF",
             "#FFFFFF",
             "#FFFFFF",
             "#FFFFFF",
             "#DEEFFF",
             "#F7F7F7",
             "#FFFFFF",
             "#FFFFFF",
             "#FFFFFF",
             "#FFFFFF",
             "#FFFFFF",
             "#DEEFFF",
             "#FFFFFF",
             "#FFFFFF",
             "#FFFFFF",
             "#FFFFFF",
             "#FFFFFF",
             "#FFFFFF",
             "#DEEFFF",
             "#FFFFFF",
             "#FFFFFF",
             "#FFFFFF",
             "#FFFFFF",
             "#FFFFFF",
             "#FFFFFF",
             "#E5E5E5"
            ],
            [
             "#FFFFFF",
             "#FFFFFF",
             "#FFFFFF",
             "#DEEFFF",
             "#DEEFFF",
             "#FFFFFF",
             "#FFFFFF",
             "#FFFFFF",
             "#FFFFFF",
             "#FFFFFF",
             "#DEEFFF",
             "#F7F7F7",
             "#FFFFFF",
             "#FFFFFF",
             "#FFFFFF",
             "#FFFFFF",
             "#FFFFFF",
             "#DEEFFF",
             "#FFFFFF",
             "#FFFFFF",
             "#FFFFFF",
             "#FFFFFF",
             "#FFFFFF",
             "#FFFFFF",
             "#DEEFFF",
             "#FFFFFF",
             "#FFFFFF",
             "#FFFFFF",
             "#FFFFFF",
             "#FFFFFF",
             "#FFFFFF",
             "#E5E5E5"
            ],
            [
             "#FFFFFF",
             "#FFFFFF",
             "#FFFFFF",
             "#DEEFFF",
             "#DEEFFF",
             "#FFFFFF",
             "#FFFFFF",
             "#FFFFFF",
             "#FFFFFF",
             "#FFFFFF",
             "#DEEFFF",
             "#F7F7F7",
             "#FFFFFF",
             "#FFFFFF",
             "#FFFFFF",
             "#FFFFFF",
             "#FFFFFF",
             "#DEEFFF",
             "#FFFFFF",
             "#FFFFFF",
             "#FFFFFF",
             "#FFFFFF",
             "#FFFFFF",
             "#FFFFFF",
             "#DEEFFF",
             "#FFFFFF",
             "#FFFFFF",
             "#FFFFFF",
             "#FFFFFF",
             "#FFFFFF",
             "#FFFFFF",
             "#E5E5E5"
            ],
            [
             "#FFFFFF",
             "#FFFFFF",
             "#FFFFFF",
             "#DEEFFF",
             "#DEEFFF",
             "#FFFFFF",
             "#FFFFFF",
             "#FFFFFF",
             "#FFFFFF",
             "#FFFFFF",
             "#DEEFFF",
             "#F7F7F7",
             "#FFFFFF",
             "#FFFFFF",
             "#FFFFFF",
             "#FFFFFF",
             "#FFFFFF",
             "#DEEFFF",
             "#FFFFFF",
             "#FFFFFF",
             "#FFFFFF",
             "#FFFFFF",
             "#FFFFFF",
             "#FFFFFF",
             "#DEEFFF",
             "#FFFFFF",
             "#FFFFFF",
             "#FFFFFF",
             "#FFFFFF",
             "#FFFFFF",
             "#FFFFFF",
             "#E5E5E5"
            ],
            [
             "#FFFFFF",
             "#FFFFFF",
             "#FFFFFF",
             "#DEEFFF",
             "#DEEFFF",
             "#FFFFFF",
             "#FFFFFF",
             "#FFFFFF",
             "#FFFFFF",
             "#FFFFFF",
             "#DEEFFF",
             "#F7F7F7",
             "#FFFFFF",
             "#FFFFFF",
             "#FFFFFF",
             "#FFFFFF",
             "#FFFFFF",
             "#DEEFFF",
             "#FFFFFF",
             "#FFFFFF",
             "#FFFFFF",
             "#FFFFFF",
             "#FFFFFF",
             "#FFFFFF",
             "#DEEFFF",
             "#FFFFFF",
             "#FFFFFF",
             "#FFFFFF",
             "#FFFFFF",
             "#FFFFFF",
             "#FFFFFF",
             "#E5E5E5"
            ],
            [
             "#FFFFFF",
             "#FFFFFF",
             "#FFFFFF",
             "#DEEFFF",
             "#DEEFFF",
             "#FFFFFF",
             "#FFFFFF",
             "#FFFFFF",
             "#FFFFFF",
             "#FFFFFF",
             "#DEEFFF",
             "#F7F7F7",
             "#FFFFFF",
             "#FFFFFF",
             "#FFFFFF",
             "#FFFFFF",
             "#FFFFFF",
             "#DEEFFF",
             "#FFFFFF",
             "#FFFFFF",
             "#FFFFFF",
             "#FFFFFF",
             "#FFFFFF",
             "#FFFFFF",
             "#DEEFFF",
             "#FFFFFF",
             "#FFFFFF",
             "#FFFFFF",
             "#FFFFFF",
             "#FFFFFF",
             "#FFFFFF",
             "#E5E5E5"
            ],
            [
             "#FFFFFF",
             "#FFFFFF",
             "#FFFFFF",
             "#DEEFFF",
             "#DEEFFF",
             "#FFFFFF",
             "#FFFFFF",
             "#FFFFFF",
             "#FFFFFF",
             "#FFFFFF",
             "#DEEFFF",
             "#F7F7F7",
             "#FFFFFF",
             "#FFFFFF",
             "#FFFFFF",
             "#FFFFFF",
             "#FFFFFF",
             "#DEEFFF",
             "#FFFFFF",
             "#FFFFFF",
             "#FFFFFF",
             "#FFFFFF",
             "#FFFFFF",
             "#FFFFFF",
             "#DEEFFF",
             "#FFFFFF",
             "#FFFFFF",
             "#FFFFFF",
             "#FFFFFF",
             "#FFFFFF",
             "#FFFFFF",
             "#E5E5E5"
            ],
            [
             "#FFFFFF",
             "#FFFFFF",
             "#FFFFFF",
             "#DEEFFF",
             "#DEEFFF",
             "#FFFFFF",
             "#FFFFFF",
             "#FFFFFF",
             "#FFFFFF",
             "#FFFFFF",
             "#DEEFFF",
             "#F7F7F7",
             "#FFFFFF",
             "#FFFFFF",
             "#FFFFFF",
             "#FFFFFF",
             "#FFFFFF",
             "#DEEFFF",
             "#FFFFFF",
             "#FFFFFF",
             "#FFFFFF",
             "#FFFFFF",
             "#FFFFFF",
             "#FFFFFF",
             "#DEEFFF",
             "#FFFFFF",
             "#FFFFFF",
             "#FFFFFF",
             "#FFFFFF",
             "#FFFFFF",
             "#FFFFFF",
             "#E5E5E5"
            ],
            [
             "#FFFFFF",
             "#FFFFFF",
             "#FFFFFF",
             "#DEEFFF",
             "#DEEFFF",
             "#FFFFFF",
             "#FFFFFF",
             "#FFFFFF",
             "#FFFFFF",
             "#FFFFFF",
             "#DEEFFF",
             "#F7F7F7",
             "#FFFFFF",
             "#FFFFFF",
             "#FFFFFF",
             "#FFFFFF",
             "#FFFFFF",
             "#DEEFFF",
             "#FFFFFF",
             "#FFFFFF",
             "#FFFFFF",
             "#FFFFFF",
             "#FFFFFF",
             "#FFFFFF",
             "#DEEFFF",
             "#FFFFFF",
             "#FFFFFF",
             "#FFFFFF",
             "#FFFFFF",
             "#FFFFFF",
             "#FFFFFF",
             "#E5E5E5"
            ],
            [
             "#FFFFFF",
             "#FFFFFF",
             "#FFFFFF",
             "#DEEFFF",
             "#DEEFFF",
             "#FFFFFF",
             "#FFFFFF",
             "#FFFFFF",
             "#FFFFFF",
             "#FFFFFF",
             "#DEEFFF",
             "#F7F7F7",
             "#FFFFFF",
             "#FFFFFF",
             "#FFFFFF",
             "#FFFFFF",
             "#FFFFFF",
             "#DEEFFF",
             "#FFFFFF",
             "#FFFFFF",
             "#FFFFFF",
             "#FFFFFF",
             "#FFFFFF",
             "#FFFFFF",
             "#DEEFFF",
             "#FFFFFF",
             "#FFFFFF",
             "#FFFFFF",
             "#FFFFFF",
             "#FFFFFF",
             "#FFFFFF",
             "#E5E5E5"
            ]
           ],
           "width": 2
          },
          "values": [
           [
            "01/12/2022, Quinta-feira",
            "02/12/2022, Sexta-feira",
            "03/12/2022, Sábado",
            "04/12/2022, Domingo",
            "05/12/2022, Segunda-feira",
            "06/12/2022, Terça-feira",
            "07/12/2022, Quarta-feira",
            "08/12/2022, Quinta-feira",
            "09/12/2022, Sexta-feira",
            "10/12/2022, Sábado",
            "11/12/2022, Domingo",
            "12/12/2022, Segunda-feira",
            "13/12/2022, Terça-feira",
            "14/12/2022, Quarta-feira",
            "15/12/2022, Quinta-feira",
            "16/12/2022, Sexta-feira",
            "17/12/2022, Sábado",
            "18/12/2022, Domingo",
            "19/12/2022, Segunda-feira",
            "20/12/2022, Terça-feira",
            "21/12/2022, Quarta-feira",
            "22/12/2022, Quinta-feira",
            "23/12/2022, Sexta-feira",
            "24/12/2022, Sábado",
            "25/12/2022, Domingo",
            "26/12/2022, Segunda-feira",
            "27/12/2022, Terça-feira",
            "28/12/2022, Quarta-feira",
            "29/12/2022, Quinta-feira",
            "30/12/2022, Sexta-feira",
            "31/12/2022, Sábado",
            "Total"
           ],
           [
            "R$ 571.428,57",
            "R$ 571.428,57",
            "R$ 210.000,00",
            "",
            "",
            "R$ 571.428,57",
            "R$ 571.428,57",
            "R$ 571.428,57",
            "R$ 405.714,29",
            "R$ 210.000,00",
            "",
            "R$ 571.428,57",
            "R$ 571.428,57",
            "R$ 571.428,57",
            "R$ 571.428,57",
            "R$ 571.428,57",
            "R$ 210.000,00",
            "",
            "R$ 571.428,57",
            "R$ 571.428,57",
            "R$ 571.428,57",
            "R$ 571.428,57",
            "R$ 571.428,57",
            "R$ 210.000,00",
            "",
            "R$ 571.428,57",
            "R$ 571.428,57",
            "R$ 571.428,57",
            "R$ 571.428,57",
            "R$ 571.428,57",
            "R$ 210.000,00",
            "R$ 12.884.285,71"
           ],
           [
            "R$ 511.511,29",
            "R$ 296.270,57",
            "R$ 241.423,98",
            "",
            "R$ 378.497,66",
            "R$ 671.190,52",
            "R$ 672.701,38",
            "R$ 657.713,70",
            "R$ 388.777,95",
            "R$ 285.303,25",
            "",
            "",
            "",
            "",
            "",
            "",
            "",
            "",
            "",
            "",
            "",
            "",
            "",
            "",
            "",
            "",
            "",
            "",
            "",
            "",
            "",
            "R$ 4.103.390,30"
           ],
           [
            "R$ 481.517,97",
            "R$ 278.977,84",
            "R$ 230.610,98",
            "",
            "R$ 350.511,77",
            "R$ 644.745,56",
            "R$ 644.455,26",
            "R$ 628.509,79",
            "R$ 355.495,86",
            "R$ 267.115,63",
            "",
            "",
            "",
            "",
            "",
            "",
            "",
            "",
            "",
            "",
            "",
            "",
            "",
            "",
            "",
            "",
            "",
            "",
            "",
            "",
            "",
            "R$ 3.881.940,66"
           ],
           [
            "R$ 29.993,32",
            "R$ 17.292,73",
            "R$ 10.813,00",
            "",
            "R$ 27.985,89",
            "R$ 26.444,96",
            "R$ 28.246,12",
            "R$ 29.203,91",
            "R$ 33.282,09",
            "R$ 18.187,62",
            "",
            "",
            "",
            "",
            "",
            "",
            "",
            "",
            "",
            "",
            "",
            "",
            "",
            "",
            "",
            "",
            "",
            "",
            "",
            "",
            "",
            "R$ 221.449,64"
           ],
           [
            "5,86%",
            "5,84%",
            "4,48%",
            "",
            "7,39%",
            "3,94%",
            "4,20%",
            "4,44%",
            "8,56%",
            "6,37%",
            "",
            "",
            "",
            "",
            "",
            "",
            "",
            "",
            "",
            "",
            "",
            "",
            "",
            "",
            "",
            "",
            "",
            "",
            "",
            "",
            "",
            "5,40%"
           ],
           [
            "R$ 447.620,67",
            "R$ 252.522,61",
            "R$ 211.238,95",
            "",
            "R$ 333.718,43",
            "R$ 599.552,83",
            "R$ 606.338,90",
            "R$ 592.455,36",
            "R$ 333.038,13",
            "R$ 243.635,74",
            "",
            "",
            "",
            "",
            "",
            "",
            "",
            "",
            "",
            "",
            "",
            "",
            "",
            "",
            "",
            "",
            "",
            "",
            "",
            "",
            "",
            "R$ 3.620.121,62"
           ],
           [
            "1.175",
            "745",
            "633",
            "",
            "858",
            "1.283",
            "1.342",
            "1.326",
            "859",
            "660",
            "",
            "",
            "",
            "",
            "",
            "",
            "",
            "",
            "",
            "",
            "",
            "",
            "",
            "",
            "",
            "",
            "",
            "",
            "",
            "",
            "",
            "2.966"
           ],
           [
            "5,87%",
            "6,71%",
            "4,88%",
            "",
            "4,97%",
            "3,98%",
            "4,25%",
            "4,40%",
            "6,82%",
            "6,91%",
            "",
            "",
            "",
            "",
            "",
            "",
            "",
            "",
            "",
            "",
            "",
            "",
            "",
            "",
            "",
            "",
            "",
            "",
            "",
            "",
            "",
            "5,12%"
           ],
           [
            "R$ 33.897,30",
            "R$ 26.455,23",
            "R$ 19.372,03",
            "",
            "R$ 16.793,34",
            "R$ 45.192,73",
            "R$ 38.116,36",
            "R$ 36.054,43",
            "R$ 22.457,73",
            "R$ 23.479,89",
            "",
            "",
            "",
            "",
            "",
            "",
            "",
            "",
            "",
            "",
            "",
            "",
            "",
            "",
            "",
            "",
            "",
            "",
            "",
            "",
            "",
            "R$ 261.819,04"
           ],
           [
            "196",
            "146",
            "131",
            "",
            "195",
            "242",
            "234",
            "220",
            "158",
            "154",
            "",
            "",
            "",
            "",
            "",
            "",
            "",
            "",
            "",
            "",
            "",
            "",
            "",
            "",
            "",
            "",
            "",
            "",
            "",
            "",
            "",
            "1.676"
           ],
           [
            "10,93%",
            "1,30%",
            "2,58%",
            "",
            "67,98%",
            "5,75%",
            "6,48%",
            "8,75%",
            "47,12%",
            "5,71%",
            "",
            "",
            "",
            "",
            "",
            "",
            "",
            "",
            "",
            "",
            "",
            "",
            "",
            "",
            "",
            "",
            "",
            "",
            "",
            "",
            "",
            "13,79%"
           ],
           [
            "84,27%",
            "48,82%",
            "109,81%",
            "",
            "",
            "112,83%",
            "112,78%",
            "109,99%",
            "87,62%",
            "127,20%",
            "",
            "",
            "",
            "",
            "",
            "",
            "",
            "",
            "",
            "",
            "",
            "",
            "",
            "",
            "",
            "",
            "",
            "",
            "",
            "",
            "",
            "30,13%"
           ],
           [
            "84,27%",
            "66,54%",
            "73,26%",
            "73,26%",
            "99,17%",
            "103,23%",
            "105,41%",
            "106,27%",
            "104,09%",
            "105,41%",
            "105,41%",
            "91,25%",
            "80,44%",
            "71,93%",
            "65,04%",
            "59,36%",
            "57,51%",
            "57,51%",
            "53,02%",
            "49,18%",
            "45,86%",
            "42,96%",
            "40,41%",
            "39,54%",
            "39,54%",
            "37,37%",
            "35,42%",
            "33,66%",
            "32,07%",
            "30,63%",
            "30,13%",
            "30,13%"
           ],
           [
            "R$ 10.857.026,42",
            "R$ 8.573.639,64",
            "R$ 9.439.062,45",
            "R$ 9.439.062,45",
            "R$ 12.777.252,15",
            "R$ 13.299.939,12",
            "R$ 13.581.774,46",
            "R$ 13.691.611,45",
            "R$ 13.410.985,99",
            "R$ 13.580.769,12",
            "R$ 13.580.769,12",
            "R$ 11.756.622,83",
            "R$ 10.364.482,77",
            "R$ 9.267.131,50",
            "R$ 8.379.900,14",
            "R$ 7.647.711,40",
            "R$ 7.409.782,60",
            "R$ 7.409.782,60",
            "R$ 6.831.458,11",
            "R$ 6.336.872,91",
            "R$ 5.909.067,14",
            "R$ 5.535.371,19",
            "R$ 5.206.129,78",
            "R$ 5.094.764,67",
            "R$ 5.094.764,67",
            "R$ 4.814.524,59",
            "R$ 4.563.506,62",
            "R$ 4.337.366,55",
            "R$ 4.132.580,60",
            "R$ 3.946.260,46",
            "R$ 3.881.940,66",
            ""
           ]
          ]
         },
         "columnwidth": [
          10.300925925925926,
          6.592592592592593,
          6.592592592592593,
          6.592592592592593,
          6.592592592592593,
          4.12037037037037,
          6.592592592592593,
          5.356481481481481,
          4.944444444444445,
          6.592592592592593,
          4.944444444444445,
          4.12037037037037,
          2.8842592592592595,
          2.8842592592592595,
          6.592592592592593
         ],
         "domain": {
          "y": [
           0,
           1
          ]
         },
         "header": {
          "align": "center",
          "fill": {
           "color": "#E5E5E5"
          },
          "font": {
           "color": [
            "#000000",
            "#000000",
            "#118DFF",
            "#000000",
            "#FF0000",
            "#FF0000",
            "#E04392",
            "#000000",
            "#FF0000",
            "#E04392",
            "#000000",
            "#FF0000",
            "#000000",
            "#000000",
            "#000000"
           ],
           "family": "Segoe UI Semibold",
           "size": 13.185185185185185
          },
          "line": {
           "color": "#E5E5E5",
           "width": 3
          },
          "values": [
           "Data",
           "Meta",
           "Venda\nSIAC",
           "Venda\nLíquida",
           "Devolução",
           "%\nDev",
           "Venda\nCNPJ",
           "Clientes\nCNPJ",
           "% Dev\nCNPJ",
           "Venda\nCPF",
           "Clientes\nCPF",
           "% Dev\nCPF",
           "%\nDia",
           "%\nMês",
           "Projeção\nmensal"
          ]
         },
         "type": "table"
        }
       ],
       "layout": {
        "height": 890,
        "template": {
         "data": {
          "bar": [
           {
            "error_x": {
             "color": "#2a3f5f"
            },
            "error_y": {
             "color": "#2a3f5f"
            },
            "marker": {
             "line": {
              "color": "#E5ECF6",
              "width": 0.5
             },
             "pattern": {
              "fillmode": "overlay",
              "size": 10,
              "solidity": 0.2
             }
            },
            "type": "bar"
           }
          ],
          "barpolar": [
           {
            "marker": {
             "line": {
              "color": "#E5ECF6",
              "width": 0.5
             },
             "pattern": {
              "fillmode": "overlay",
              "size": 10,
              "solidity": 0.2
             }
            },
            "type": "barpolar"
           }
          ],
          "carpet": [
           {
            "aaxis": {
             "endlinecolor": "#2a3f5f",
             "gridcolor": "white",
             "linecolor": "white",
             "minorgridcolor": "white",
             "startlinecolor": "#2a3f5f"
            },
            "baxis": {
             "endlinecolor": "#2a3f5f",
             "gridcolor": "white",
             "linecolor": "white",
             "minorgridcolor": "white",
             "startlinecolor": "#2a3f5f"
            },
            "type": "carpet"
           }
          ],
          "choropleth": [
           {
            "colorbar": {
             "outlinewidth": 0,
             "ticks": ""
            },
            "type": "choropleth"
           }
          ],
          "contour": [
           {
            "colorbar": {
             "outlinewidth": 0,
             "ticks": ""
            },
            "colorscale": [
             [
              0,
              "#0d0887"
             ],
             [
              0.1111111111111111,
              "#46039f"
             ],
             [
              0.2222222222222222,
              "#7201a8"
             ],
             [
              0.3333333333333333,
              "#9c179e"
             ],
             [
              0.4444444444444444,
              "#bd3786"
             ],
             [
              0.5555555555555556,
              "#d8576b"
             ],
             [
              0.6666666666666666,
              "#ed7953"
             ],
             [
              0.7777777777777778,
              "#fb9f3a"
             ],
             [
              0.8888888888888888,
              "#fdca26"
             ],
             [
              1,
              "#f0f921"
             ]
            ],
            "type": "contour"
           }
          ],
          "contourcarpet": [
           {
            "colorbar": {
             "outlinewidth": 0,
             "ticks": ""
            },
            "type": "contourcarpet"
           }
          ],
          "heatmap": [
           {
            "colorbar": {
             "outlinewidth": 0,
             "ticks": ""
            },
            "colorscale": [
             [
              0,
              "#0d0887"
             ],
             [
              0.1111111111111111,
              "#46039f"
             ],
             [
              0.2222222222222222,
              "#7201a8"
             ],
             [
              0.3333333333333333,
              "#9c179e"
             ],
             [
              0.4444444444444444,
              "#bd3786"
             ],
             [
              0.5555555555555556,
              "#d8576b"
             ],
             [
              0.6666666666666666,
              "#ed7953"
             ],
             [
              0.7777777777777778,
              "#fb9f3a"
             ],
             [
              0.8888888888888888,
              "#fdca26"
             ],
             [
              1,
              "#f0f921"
             ]
            ],
            "type": "heatmap"
           }
          ],
          "heatmapgl": [
           {
            "colorbar": {
             "outlinewidth": 0,
             "ticks": ""
            },
            "colorscale": [
             [
              0,
              "#0d0887"
             ],
             [
              0.1111111111111111,
              "#46039f"
             ],
             [
              0.2222222222222222,
              "#7201a8"
             ],
             [
              0.3333333333333333,
              "#9c179e"
             ],
             [
              0.4444444444444444,
              "#bd3786"
             ],
             [
              0.5555555555555556,
              "#d8576b"
             ],
             [
              0.6666666666666666,
              "#ed7953"
             ],
             [
              0.7777777777777778,
              "#fb9f3a"
             ],
             [
              0.8888888888888888,
              "#fdca26"
             ],
             [
              1,
              "#f0f921"
             ]
            ],
            "type": "heatmapgl"
           }
          ],
          "histogram": [
           {
            "marker": {
             "pattern": {
              "fillmode": "overlay",
              "size": 10,
              "solidity": 0.2
             }
            },
            "type": "histogram"
           }
          ],
          "histogram2d": [
           {
            "colorbar": {
             "outlinewidth": 0,
             "ticks": ""
            },
            "colorscale": [
             [
              0,
              "#0d0887"
             ],
             [
              0.1111111111111111,
              "#46039f"
             ],
             [
              0.2222222222222222,
              "#7201a8"
             ],
             [
              0.3333333333333333,
              "#9c179e"
             ],
             [
              0.4444444444444444,
              "#bd3786"
             ],
             [
              0.5555555555555556,
              "#d8576b"
             ],
             [
              0.6666666666666666,
              "#ed7953"
             ],
             [
              0.7777777777777778,
              "#fb9f3a"
             ],
             [
              0.8888888888888888,
              "#fdca26"
             ],
             [
              1,
              "#f0f921"
             ]
            ],
            "type": "histogram2d"
           }
          ],
          "histogram2dcontour": [
           {
            "colorbar": {
             "outlinewidth": 0,
             "ticks": ""
            },
            "colorscale": [
             [
              0,
              "#0d0887"
             ],
             [
              0.1111111111111111,
              "#46039f"
             ],
             [
              0.2222222222222222,
              "#7201a8"
             ],
             [
              0.3333333333333333,
              "#9c179e"
             ],
             [
              0.4444444444444444,
              "#bd3786"
             ],
             [
              0.5555555555555556,
              "#d8576b"
             ],
             [
              0.6666666666666666,
              "#ed7953"
             ],
             [
              0.7777777777777778,
              "#fb9f3a"
             ],
             [
              0.8888888888888888,
              "#fdca26"
             ],
             [
              1,
              "#f0f921"
             ]
            ],
            "type": "histogram2dcontour"
           }
          ],
          "mesh3d": [
           {
            "colorbar": {
             "outlinewidth": 0,
             "ticks": ""
            },
            "type": "mesh3d"
           }
          ],
          "parcoords": [
           {
            "line": {
             "colorbar": {
              "outlinewidth": 0,
              "ticks": ""
             }
            },
            "type": "parcoords"
           }
          ],
          "pie": [
           {
            "automargin": true,
            "type": "pie"
           }
          ],
          "scatter": [
           {
            "fillpattern": {
             "fillmode": "overlay",
             "size": 10,
             "solidity": 0.2
            },
            "type": "scatter"
           }
          ],
          "scatter3d": [
           {
            "line": {
             "colorbar": {
              "outlinewidth": 0,
              "ticks": ""
             }
            },
            "marker": {
             "colorbar": {
              "outlinewidth": 0,
              "ticks": ""
             }
            },
            "type": "scatter3d"
           }
          ],
          "scattercarpet": [
           {
            "marker": {
             "colorbar": {
              "outlinewidth": 0,
              "ticks": ""
             }
            },
            "type": "scattercarpet"
           }
          ],
          "scattergeo": [
           {
            "marker": {
             "colorbar": {
              "outlinewidth": 0,
              "ticks": ""
             }
            },
            "type": "scattergeo"
           }
          ],
          "scattergl": [
           {
            "marker": {
             "colorbar": {
              "outlinewidth": 0,
              "ticks": ""
             }
            },
            "type": "scattergl"
           }
          ],
          "scattermapbox": [
           {
            "marker": {
             "colorbar": {
              "outlinewidth": 0,
              "ticks": ""
             }
            },
            "type": "scattermapbox"
           }
          ],
          "scatterpolar": [
           {
            "marker": {
             "colorbar": {
              "outlinewidth": 0,
              "ticks": ""
             }
            },
            "type": "scatterpolar"
           }
          ],
          "scatterpolargl": [
           {
            "marker": {
             "colorbar": {
              "outlinewidth": 0,
              "ticks": ""
             }
            },
            "type": "scatterpolargl"
           }
          ],
          "scatterternary": [
           {
            "marker": {
             "colorbar": {
              "outlinewidth": 0,
              "ticks": ""
             }
            },
            "type": "scatterternary"
           }
          ],
          "surface": [
           {
            "colorbar": {
             "outlinewidth": 0,
             "ticks": ""
            },
            "colorscale": [
             [
              0,
              "#0d0887"
             ],
             [
              0.1111111111111111,
              "#46039f"
             ],
             [
              0.2222222222222222,
              "#7201a8"
             ],
             [
              0.3333333333333333,
              "#9c179e"
             ],
             [
              0.4444444444444444,
              "#bd3786"
             ],
             [
              0.5555555555555556,
              "#d8576b"
             ],
             [
              0.6666666666666666,
              "#ed7953"
             ],
             [
              0.7777777777777778,
              "#fb9f3a"
             ],
             [
              0.8888888888888888,
              "#fdca26"
             ],
             [
              1,
              "#f0f921"
             ]
            ],
            "type": "surface"
           }
          ],
          "table": [
           {
            "cells": {
             "fill": {
              "color": "#EBF0F8"
             },
             "line": {
              "color": "white"
             }
            },
            "header": {
             "fill": {
              "color": "#C8D4E3"
             },
             "line": {
              "color": "white"
             }
            },
            "type": "table"
           }
          ]
         },
         "layout": {
          "annotationdefaults": {
           "arrowcolor": "#2a3f5f",
           "arrowhead": 0,
           "arrowwidth": 1
          },
          "autotypenumbers": "strict",
          "coloraxis": {
           "colorbar": {
            "outlinewidth": 0,
            "ticks": ""
           }
          },
          "colorscale": {
           "diverging": [
            [
             0,
             "#8e0152"
            ],
            [
             0.1,
             "#c51b7d"
            ],
            [
             0.2,
             "#de77ae"
            ],
            [
             0.3,
             "#f1b6da"
            ],
            [
             0.4,
             "#fde0ef"
            ],
            [
             0.5,
             "#f7f7f7"
            ],
            [
             0.6,
             "#e6f5d0"
            ],
            [
             0.7,
             "#b8e186"
            ],
            [
             0.8,
             "#7fbc41"
            ],
            [
             0.9,
             "#4d9221"
            ],
            [
             1,
             "#276419"
            ]
           ],
           "sequential": [
            [
             0,
             "#0d0887"
            ],
            [
             0.1111111111111111,
             "#46039f"
            ],
            [
             0.2222222222222222,
             "#7201a8"
            ],
            [
             0.3333333333333333,
             "#9c179e"
            ],
            [
             0.4444444444444444,
             "#bd3786"
            ],
            [
             0.5555555555555556,
             "#d8576b"
            ],
            [
             0.6666666666666666,
             "#ed7953"
            ],
            [
             0.7777777777777778,
             "#fb9f3a"
            ],
            [
             0.8888888888888888,
             "#fdca26"
            ],
            [
             1,
             "#f0f921"
            ]
           ],
           "sequentialminus": [
            [
             0,
             "#0d0887"
            ],
            [
             0.1111111111111111,
             "#46039f"
            ],
            [
             0.2222222222222222,
             "#7201a8"
            ],
            [
             0.3333333333333333,
             "#9c179e"
            ],
            [
             0.4444444444444444,
             "#bd3786"
            ],
            [
             0.5555555555555556,
             "#d8576b"
            ],
            [
             0.6666666666666666,
             "#ed7953"
            ],
            [
             0.7777777777777778,
             "#fb9f3a"
            ],
            [
             0.8888888888888888,
             "#fdca26"
            ],
            [
             1,
             "#f0f921"
            ]
           ]
          },
          "colorway": [
           "#636efa",
           "#EF553B",
           "#00cc96",
           "#ab63fa",
           "#FFA15A",
           "#19d3f3",
           "#FF6692",
           "#B6E880",
           "#FF97FF",
           "#FECB52"
          ],
          "font": {
           "color": "#2a3f5f"
          },
          "geo": {
           "bgcolor": "white",
           "lakecolor": "white",
           "landcolor": "#E5ECF6",
           "showlakes": true,
           "showland": true,
           "subunitcolor": "white"
          },
          "hoverlabel": {
           "align": "left"
          },
          "hovermode": "closest",
          "mapbox": {
           "style": "light"
          },
          "paper_bgcolor": "white",
          "plot_bgcolor": "#E5ECF6",
          "polar": {
           "angularaxis": {
            "gridcolor": "white",
            "linecolor": "white",
            "ticks": ""
           },
           "bgcolor": "#E5ECF6",
           "radialaxis": {
            "gridcolor": "white",
            "linecolor": "white",
            "ticks": ""
           }
          },
          "scene": {
           "xaxis": {
            "backgroundcolor": "#E5ECF6",
            "gridcolor": "white",
            "gridwidth": 2,
            "linecolor": "white",
            "showbackground": true,
            "ticks": "",
            "zerolinecolor": "white"
           },
           "yaxis": {
            "backgroundcolor": "#E5ECF6",
            "gridcolor": "white",
            "gridwidth": 2,
            "linecolor": "white",
            "showbackground": true,
            "ticks": "",
            "zerolinecolor": "white"
           },
           "zaxis": {
            "backgroundcolor": "#E5ECF6",
            "gridcolor": "white",
            "gridwidth": 2,
            "linecolor": "white",
            "showbackground": true,
            "ticks": "",
            "zerolinecolor": "white"
           }
          },
          "shapedefaults": {
           "line": {
            "color": "#2a3f5f"
           }
          },
          "ternary": {
           "aaxis": {
            "gridcolor": "white",
            "linecolor": "white",
            "ticks": ""
           },
           "baxis": {
            "gridcolor": "white",
            "linecolor": "white",
            "ticks": ""
           },
           "bgcolor": "#E5ECF6",
           "caxis": {
            "gridcolor": "white",
            "linecolor": "white",
            "ticks": ""
           }
          },
          "title": {
           "x": 0.05
          },
          "xaxis": {
           "automargin": true,
           "gridcolor": "white",
           "linecolor": "white",
           "ticks": "",
           "title": {
            "standoff": 15
           },
           "zerolinecolor": "white",
           "zerolinewidth": 2
          },
          "yaxis": {
           "automargin": true,
           "gridcolor": "white",
           "linecolor": "white",
           "ticks": "",
           "title": {
            "standoff": 15
           },
           "zerolinecolor": "white",
           "zerolinewidth": 2
          }
         }
        },
        "title": {
         "font": {
          "color": "#00A5AC",
          "family": "Jost",
          "size": 24.72222222222222
         },
         "text": "◙◙◙◙◙◙◙◙◙◙ 🡆 KAIZEN 🡄 ◙◙◙◙◙◙◙◙◙◙◙◙◙◙◙◙◙◙◙◙◙◙◙◙◙◙◙◙◙◙◙◙◙◙◙◙◙◙◙◙◙◙◙◙◙◙◙◙◙◙◙◙◙◙◙◙◙◙◙◙◙◙◙◙◙◙◙◙◙◙◙◙◙◙◙◙ ⓀⒶⒾⓏⒺⓃ ◙◙◙◙◙◙◙◙◙◙",
         "x": 0.5,
         "y": 0.95,
         "yanchor": "bottom"
        },
        "width": 2060
       }
      }
     },
     "metadata": {},
     "output_type": "display_data"
    },
    {
     "name": "stdout",
     "output_type": "stream",
     "text": [
      "TESTE TABLE.png\n",
      "\n",
      "12-12-2022 PrimeiraFoto - https://chat.whatsapp.com/LK4LDajkH52BNydoLGGD2d\n",
      "12-12-2022 API - https://chat.whatsapp.com/EBLX0fxYfvuHL7jZ9CZECQ\n",
      "12-12-2022 Teste Python - https://chat.whatsapp.com/I4y7EAVfns629NvfoLUtGI\n"
     ]
    }
   ],
   "source": [
    "date_msg = dt.datetime.now().strftime('%d-%m-%Y')\n",
    "\n",
    "print_plot(principal_dataframe=df_hoje,\n",
    "            lojas=lista_lojas,\n",
    "            save_image=caminho_imagem)\n",
    "\n",
    "for (contato, link, logico) in contatos:\n",
    "    if logico:\n",
    "        print(f'{date_msg} {contato} - {link}')\n",
    "        # pwk.sendwhats_image(link.replace('https://chat.whatsapp.com/', ''),\n",
    "        #                     f'{relatorio} TABLE.png',\n",
    "        #                     f'Resumo mensal | Grupo - {date_msg}',\n",
    "        #                     tab_close=True,\n",
    "        #                     wait_time=10)"
   ]
  },
  {
   "cell_type": "code",
   "execution_count": 1076,
   "metadata": {},
   "outputs": [
    {
     "name": "stderr",
     "output_type": "stream",
     "text": [
      "C:\\Users\\admin\\AppData\\Local\\Temp\\ipykernel_19088\\3465617909.py:86: RuntimeWarning:\n",
      "\n",
      "divide by zero encountered in double_scalars\n",
      "\n"
     ]
    },
    {
     "name": "stdout",
     "output_type": "stream",
     "text": [
      "\n",
      "• '03' ASA NORTE\n",
      "\n"
     ]
    },
    {
     "data": {
      "application/vnd.plotly.v1+json": {
       "config": {
        "plotlyServerURL": "https://plot.ly"
       },
       "data": [
        {
         "cells": {
          "align": [
           "left",
           "center"
          ],
          "fill": {
           "color": [
            [
             "#FFFFFF",
             "#FFFFFF",
             "#FFFFFF",
             "#DEEFFF",
             "#DEEFFF",
             "#FFFFFF",
             "#FFFFFF",
             "#FFFFFF",
             "#FFFFFF",
             "#FFFFFF",
             "#DEEFFF",
             "#F7F7F7",
             "#FFFFFF",
             "#FFFFFF",
             "#FFFFFF",
             "#FFFFFF",
             "#FFFFFF",
             "#DEEFFF",
             "#FFFFFF",
             "#FFFFFF",
             "#FFFFFF",
             "#FFFFFF",
             "#FFFFFF",
             "#FFFFFF",
             "#DEEFFF",
             "#FFFFFF",
             "#FFFFFF",
             "#FFFFFF",
             "#FFFFFF",
             "#FFFFFF",
             "#FFFFFF",
             "#E5E5E5"
            ],
            [
             "#FFFFFF",
             "#FFFFFF",
             "#FFFFFF",
             "#DEEFFF",
             "#DEEFFF",
             "#FFFFFF",
             "#FFFFFF",
             "#FFFFFF",
             "#FFFFFF",
             "#FFFFFF",
             "#DEEFFF",
             "#F7F7F7",
             "#FFFFFF",
             "#FFFFFF",
             "#FFFFFF",
             "#FFFFFF",
             "#FFFFFF",
             "#DEEFFF",
             "#FFFFFF",
             "#FFFFFF",
             "#FFFFFF",
             "#FFFFFF",
             "#FFFFFF",
             "#FFFFFF",
             "#DEEFFF",
             "#FFFFFF",
             "#FFFFFF",
             "#FFFFFF",
             "#FFFFFF",
             "#FFFFFF",
             "#FFFFFF",
             "#E5E5E5"
            ],
            [
             "#F7F7F7",
             "#F7F7F7",
             "#F7F7F7",
             "#DEEFFF",
             "#DEEFFF",
             "#F7F7F7",
             "#F7F7F7",
             "#F7F7F7",
             "#F7F7F7",
             "#F7F7F7",
             "#DEEFFF",
             "#F7F7F7",
             "#F7F7F7",
             "#F7F7F7",
             "#F7F7F7",
             "#F7F7F7",
             "#F7F7F7",
             "#DEEFFF",
             "#F7F7F7",
             "#F7F7F7",
             "#F7F7F7",
             "#F7F7F7",
             "#F7F7F7",
             "#F7F7F7",
             "#DEEFFF",
             "#F7F7F7",
             "#F7F7F7",
             "#F7F7F7",
             "#F7F7F7",
             "#F7F7F7",
             "#F7F7F7",
             "#E5E5E5"
            ],
            [
             "#F7F7F7",
             "#F7F7F7",
             "#F7F7F7",
             "#DEEFFF",
             "#DEEFFF",
             "#F7F7F7",
             "#F7F7F7",
             "#F7F7F7",
             "#F7F7F7",
             "#F7F7F7",
             "#DEEFFF",
             "#F7F7F7",
             "#F7F7F7",
             "#F7F7F7",
             "#F7F7F7",
             "#F7F7F7",
             "#F7F7F7",
             "#DEEFFF",
             "#F7F7F7",
             "#F7F7F7",
             "#F7F7F7",
             "#F7F7F7",
             "#F7F7F7",
             "#F7F7F7",
             "#DEEFFF",
             "#F7F7F7",
             "#F7F7F7",
             "#F7F7F7",
             "#F7F7F7",
             "#F7F7F7",
             "#F7F7F7",
             "#E5E5E5"
            ],
            [
             "#FFFFFF",
             "#FFFFFF",
             "#FFFFFF",
             "#DEEFFF",
             "#DEEFFF",
             "#FFFFFF",
             "#FFFFFF",
             "#FFFFFF",
             "#FFFFFF",
             "#FFFFFF",
             "#DEEFFF",
             "#F7F7F7",
             "#FFFFFF",
             "#FFFFFF",
             "#FFFFFF",
             "#FFFFFF",
             "#FFFFFF",
             "#DEEFFF",
             "#FFFFFF",
             "#FFFFFF",
             "#FFFFFF",
             "#FFFFFF",
             "#FFFFFF",
             "#FFFFFF",
             "#DEEFFF",
             "#FFFFFF",
             "#FFFFFF",
             "#FFFFFF",
             "#FFFFFF",
             "#FFFFFF",
             "#FFFFFF",
             "#E5E5E5"
            ],
            [
             "#FFFFFF",
             "#FFFFFF",
             "#FFFFFF",
             "#DEEFFF",
             "#DEEFFF",
             "#FFFFFF",
             "#FFFFFF",
             "#FFFFFF",
             "#FFFFFF",
             "#FFFFFF",
             "#DEEFFF",
             "#F7F7F7",
             "#FFFFFF",
             "#FFFFFF",
             "#FFFFFF",
             "#FFFFFF",
             "#FFFFFF",
             "#DEEFFF",
             "#FFFFFF",
             "#FFFFFF",
             "#FFFFFF",
             "#FFFFFF",
             "#FFFFFF",
             "#FFFFFF",
             "#DEEFFF",
             "#FFFFFF",
             "#FFFFFF",
             "#FFFFFF",
             "#FFFFFF",
             "#FFFFFF",
             "#FFFFFF",
             "#E5E5E5"
            ],
            [
             "#F7F7F7",
             "#F7F7F7",
             "#F7F7F7",
             "#DEEFFF",
             "#DEEFFF",
             "#F7F7F7",
             "#F7F7F7",
             "#F7F7F7",
             "#F7F7F7",
             "#F7F7F7",
             "#DEEFFF",
             "#F7F7F7",
             "#F7F7F7",
             "#F7F7F7",
             "#F7F7F7",
             "#F7F7F7",
             "#F7F7F7",
             "#DEEFFF",
             "#F7F7F7",
             "#F7F7F7",
             "#F7F7F7",
             "#F7F7F7",
             "#F7F7F7",
             "#F7F7F7",
             "#DEEFFF",
             "#F7F7F7",
             "#F7F7F7",
             "#F7F7F7",
             "#F7F7F7",
             "#F7F7F7",
             "#F7F7F7",
             "#E5E5E5"
            ],
            [
             "#FFFFFF",
             "#FFFFFF",
             "#FFFFFF",
             "#DEEFFF",
             "#DEEFFF",
             "#FFFFFF",
             "#FFFFFF",
             "#FFFFFF",
             "#FFFFFF",
             "#FFFFFF",
             "#DEEFFF",
             "#F7F7F7",
             "#FFFFFF",
             "#FFFFFF",
             "#FFFFFF",
             "#FFFFFF",
             "#FFFFFF",
             "#DEEFFF",
             "#FFFFFF",
             "#FFFFFF",
             "#FFFFFF",
             "#FFFFFF",
             "#FFFFFF",
             "#FFFFFF",
             "#DEEFFF",
             "#FFFFFF",
             "#FFFFFF",
             "#FFFFFF",
             "#FFFFFF",
             "#FFFFFF",
             "#FFFFFF",
             "#E5E5E5"
            ],
            [
             "#FFFFFF",
             "#FFFFFF",
             "#FFFFFF",
             "#DEEFFF",
             "#DEEFFF",
             "#FFFFFF",
             "#FFFFFF",
             "#FFFFFF",
             "#FFFFFF",
             "#FFFFFF",
             "#DEEFFF",
             "#F7F7F7",
             "#FFFFFF",
             "#FFFFFF",
             "#FFFFFF",
             "#FFFFFF",
             "#FFFFFF",
             "#DEEFFF",
             "#FFFFFF",
             "#FFFFFF",
             "#FFFFFF",
             "#FFFFFF",
             "#FFFFFF",
             "#FFFFFF",
             "#DEEFFF",
             "#FFFFFF",
             "#FFFFFF",
             "#FFFFFF",
             "#FFFFFF",
             "#FFFFFF",
             "#FFFFFF",
             "#E5E5E5"
            ],
            [
             "#F7F7F7",
             "#F7F7F7",
             "#F7F7F7",
             "#DEEFFF",
             "#DEEFFF",
             "#F7F7F7",
             "#F7F7F7",
             "#F7F7F7",
             "#F7F7F7",
             "#F7F7F7",
             "#DEEFFF",
             "#F7F7F7",
             "#F7F7F7",
             "#F7F7F7",
             "#F7F7F7",
             "#F7F7F7",
             "#F7F7F7",
             "#DEEFFF",
             "#F7F7F7",
             "#F7F7F7",
             "#F7F7F7",
             "#F7F7F7",
             "#F7F7F7",
             "#F7F7F7",
             "#DEEFFF",
             "#F7F7F7",
             "#F7F7F7",
             "#F7F7F7",
             "#F7F7F7",
             "#F7F7F7",
             "#F7F7F7",
             "#E5E5E5"
            ],
            [
             "#FFFFFF",
             "#FFFFFF",
             "#FFFFFF",
             "#DEEFFF",
             "#DEEFFF",
             "#FFFFFF",
             "#FFFFFF",
             "#FFFFFF",
             "#FFFFFF",
             "#FFFFFF",
             "#DEEFFF",
             "#F7F7F7",
             "#FFFFFF",
             "#FFFFFF",
             "#FFFFFF",
             "#FFFFFF",
             "#FFFFFF",
             "#DEEFFF",
             "#FFFFFF",
             "#FFFFFF",
             "#FFFFFF",
             "#FFFFFF",
             "#FFFFFF",
             "#FFFFFF",
             "#DEEFFF",
             "#FFFFFF",
             "#FFFFFF",
             "#FFFFFF",
             "#FFFFFF",
             "#FFFFFF",
             "#FFFFFF",
             "#E5E5E5"
            ],
            [
             "#FFFFFF",
             "#FFFFFF",
             "#FFFFFF",
             "#DEEFFF",
             "#DEEFFF",
             "#FFFFFF",
             "#FFFFFF",
             "#FFFFFF",
             "#FFFFFF",
             "#FFFFFF",
             "#DEEFFF",
             "#F7F7F7",
             "#FFFFFF",
             "#FFFFFF",
             "#FFFFFF",
             "#FFFFFF",
             "#FFFFFF",
             "#DEEFFF",
             "#FFFFFF",
             "#FFFFFF",
             "#FFFFFF",
             "#FFFFFF",
             "#FFFFFF",
             "#FFFFFF",
             "#DEEFFF",
             "#FFFFFF",
             "#FFFFFF",
             "#FFFFFF",
             "#FFFFFF",
             "#FFFFFF",
             "#FFFFFF",
             "#E5E5E5"
            ],
            [
             "#FFFFFF",
             "#FFFFFF",
             "#FFFFFF",
             "#DEEFFF",
             "#DEEFFF",
             "#FFFFFF",
             "#FFFFFF",
             "#FFFFFF",
             "#FFFFFF",
             "#FFFFFF",
             "#DEEFFF",
             "#F7F7F7",
             "#FFFFFF",
             "#FFFFFF",
             "#FFFFFF",
             "#FFFFFF",
             "#FFFFFF",
             "#DEEFFF",
             "#FFFFFF",
             "#FFFFFF",
             "#FFFFFF",
             "#FFFFFF",
             "#FFFFFF",
             "#FFFFFF",
             "#DEEFFF",
             "#FFFFFF",
             "#FFFFFF",
             "#FFFFFF",
             "#FFFFFF",
             "#FFFFFF",
             "#FFFFFF",
             "#E5E5E5"
            ],
            [
             "#FFFFFF",
             "#FFFFFF",
             "#FFFFFF",
             "#DEEFFF",
             "#DEEFFF",
             "#FFFFFF",
             "#FFFFFF",
             "#FFFFFF",
             "#FFFFFF",
             "#FFFFFF",
             "#DEEFFF",
             "#F7F7F7",
             "#FFFFFF",
             "#FFFFFF",
             "#FFFFFF",
             "#FFFFFF",
             "#FFFFFF",
             "#DEEFFF",
             "#FFFFFF",
             "#FFFFFF",
             "#FFFFFF",
             "#FFFFFF",
             "#FFFFFF",
             "#FFFFFF",
             "#DEEFFF",
             "#FFFFFF",
             "#FFFFFF",
             "#FFFFFF",
             "#FFFFFF",
             "#FFFFFF",
             "#FFFFFF",
             "#E5E5E5"
            ],
            [
             "#FFFFFF",
             "#FFFFFF",
             "#FFFFFF",
             "#DEEFFF",
             "#DEEFFF",
             "#FFFFFF",
             "#FFFFFF",
             "#FFFFFF",
             "#FFFFFF",
             "#FFFFFF",
             "#DEEFFF",
             "#F7F7F7",
             "#FFFFFF",
             "#FFFFFF",
             "#FFFFFF",
             "#FFFFFF",
             "#FFFFFF",
             "#DEEFFF",
             "#FFFFFF",
             "#FFFFFF",
             "#FFFFFF",
             "#FFFFFF",
             "#FFFFFF",
             "#FFFFFF",
             "#DEEFFF",
             "#FFFFFF",
             "#FFFFFF",
             "#FFFFFF",
             "#FFFFFF",
             "#FFFFFF",
             "#FFFFFF",
             "#E5E5E5"
            ],
            [
             "#FFFFFF",
             "#FFFFFF",
             "#FFFFFF",
             "#DEEFFF",
             "#DEEFFF",
             "#FFFFFF",
             "#FFFFFF",
             "#FFFFFF",
             "#FFFFFF",
             "#FFFFFF",
             "#DEEFFF",
             "#F7F7F7",
             "#FFFFFF",
             "#FFFFFF",
             "#FFFFFF",
             "#FFFFFF",
             "#FFFFFF",
             "#DEEFFF",
             "#FFFFFF",
             "#FFFFFF",
             "#FFFFFF",
             "#FFFFFF",
             "#FFFFFF",
             "#FFFFFF",
             "#DEEFFF",
             "#FFFFFF",
             "#FFFFFF",
             "#FFFFFF",
             "#FFFFFF",
             "#FFFFFF",
             "#FFFFFF",
             "#E5E5E5"
            ],
            [
             "#FFFFFF",
             "#FFFFFF",
             "#FFFFFF",
             "#DEEFFF",
             "#DEEFFF",
             "#FFFFFF",
             "#FFFFFF",
             "#FFFFFF",
             "#FFFFFF",
             "#FFFFFF",
             "#DEEFFF",
             "#F7F7F7",
             "#FFFFFF",
             "#FFFFFF",
             "#FFFFFF",
             "#FFFFFF",
             "#FFFFFF",
             "#DEEFFF",
             "#FFFFFF",
             "#FFFFFF",
             "#FFFFFF",
             "#FFFFFF",
             "#FFFFFF",
             "#FFFFFF",
             "#DEEFFF",
             "#FFFFFF",
             "#FFFFFF",
             "#FFFFFF",
             "#FFFFFF",
             "#FFFFFF",
             "#FFFFFF",
             "#E5E5E5"
            ],
            [
             "#FFFFFF",
             "#FFFFFF",
             "#FFFFFF",
             "#DEEFFF",
             "#DEEFFF",
             "#FFFFFF",
             "#FFFFFF",
             "#FFFFFF",
             "#FFFFFF",
             "#FFFFFF",
             "#DEEFFF",
             "#F7F7F7",
             "#FFFFFF",
             "#FFFFFF",
             "#FFFFFF",
             "#FFFFFF",
             "#FFFFFF",
             "#DEEFFF",
             "#FFFFFF",
             "#FFFFFF",
             "#FFFFFF",
             "#FFFFFF",
             "#FFFFFF",
             "#FFFFFF",
             "#DEEFFF",
             "#FFFFFF",
             "#FFFFFF",
             "#FFFFFF",
             "#FFFFFF",
             "#FFFFFF",
             "#FFFFFF",
             "#E5E5E5"
            ],
            [
             "#FFFFFF",
             "#FFFFFF",
             "#FFFFFF",
             "#DEEFFF",
             "#DEEFFF",
             "#FFFFFF",
             "#FFFFFF",
             "#FFFFFF",
             "#FFFFFF",
             "#FFFFFF",
             "#DEEFFF",
             "#F7F7F7",
             "#FFFFFF",
             "#FFFFFF",
             "#FFFFFF",
             "#FFFFFF",
             "#FFFFFF",
             "#DEEFFF",
             "#FFFFFF",
             "#FFFFFF",
             "#FFFFFF",
             "#FFFFFF",
             "#FFFFFF",
             "#FFFFFF",
             "#DEEFFF",
             "#FFFFFF",
             "#FFFFFF",
             "#FFFFFF",
             "#FFFFFF",
             "#FFFFFF",
             "#FFFFFF",
             "#E5E5E5"
            ],
            [
             "#FFFFFF",
             "#FFFFFF",
             "#FFFFFF",
             "#DEEFFF",
             "#DEEFFF",
             "#FFFFFF",
             "#FFFFFF",
             "#FFFFFF",
             "#FFFFFF",
             "#FFFFFF",
             "#DEEFFF",
             "#F7F7F7",
             "#FFFFFF",
             "#FFFFFF",
             "#FFFFFF",
             "#FFFFFF",
             "#FFFFFF",
             "#DEEFFF",
             "#FFFFFF",
             "#FFFFFF",
             "#FFFFFF",
             "#FFFFFF",
             "#FFFFFF",
             "#FFFFFF",
             "#DEEFFF",
             "#FFFFFF",
             "#FFFFFF",
             "#FFFFFF",
             "#FFFFFF",
             "#FFFFFF",
             "#FFFFFF",
             "#E5E5E5"
            ],
            [
             "#FFFFFF",
             "#FFFFFF",
             "#FFFFFF",
             "#DEEFFF",
             "#DEEFFF",
             "#FFFFFF",
             "#FFFFFF",
             "#FFFFFF",
             "#FFFFFF",
             "#FFFFFF",
             "#DEEFFF",
             "#F7F7F7",
             "#FFFFFF",
             "#FFFFFF",
             "#FFFFFF",
             "#FFFFFF",
             "#FFFFFF",
             "#DEEFFF",
             "#FFFFFF",
             "#FFFFFF",
             "#FFFFFF",
             "#FFFFFF",
             "#FFFFFF",
             "#FFFFFF",
             "#DEEFFF",
             "#FFFFFF",
             "#FFFFFF",
             "#FFFFFF",
             "#FFFFFF",
             "#FFFFFF",
             "#FFFFFF",
             "#E5E5E5"
            ],
            [
             "#FFFFFF",
             "#FFFFFF",
             "#FFFFFF",
             "#DEEFFF",
             "#DEEFFF",
             "#FFFFFF",
             "#FFFFFF",
             "#FFFFFF",
             "#FFFFFF",
             "#FFFFFF",
             "#DEEFFF",
             "#F7F7F7",
             "#FFFFFF",
             "#FFFFFF",
             "#FFFFFF",
             "#FFFFFF",
             "#FFFFFF",
             "#DEEFFF",
             "#FFFFFF",
             "#FFFFFF",
             "#FFFFFF",
             "#FFFFFF",
             "#FFFFFF",
             "#FFFFFF",
             "#DEEFFF",
             "#FFFFFF",
             "#FFFFFF",
             "#FFFFFF",
             "#FFFFFF",
             "#FFFFFF",
             "#FFFFFF",
             "#E5E5E5"
            ]
           ]
          },
          "font": {
           "color": [
            "#000000",
            "#000000",
            "#118DFF",
            "#000000",
            "#FF0000",
            "#FF0000",
            "#E04392",
            "#000000",
            "#FF0000",
            "#E04392",
            "#000000",
            "#FF0000",
            [
             "#FF0000",
             "#FF0000",
             "#00B050",
             "#DEEFFF",
             "#DEEFFF",
             "#00B050",
             "#00B050",
             "#00B050",
             "#FF0000",
             "#FFC000",
             "#DEEFFF",
             "#FF0000",
             "#FFFFFF",
             "#FFFFFF",
             "#FFFFFF",
             "#FFFFFF",
             "#FFFFFF",
             "#DEEFFF",
             "#FFFFFF",
             "#FFFFFF",
             "#FFFFFF",
             "#FFFFFF",
             "#FFFFFF",
             "#FFFFFF",
             "#DEEFFF",
             "#FFFFFF",
             "#FFFFFF",
             "#FFFFFF",
             "#FFFFFF",
             "#FFFFFF",
             "#FFFFFF",
             "#E5E5E5"
            ],
            [
             "#FF0000",
             "#FF0000",
             "#FF0000",
             "#DEEFFF",
             "#DEEFFF",
             "#00B050",
             "#00B050",
             "#00B050",
             "#00B050",
             "#00B050",
             "#DEEFFF",
             "#FF0000",
             "#FFFFFF",
             "#FFFFFF",
             "#FFFFFF",
             "#FFFFFF",
             "#FFFFFF",
             "#DEEFFF",
             "#FFFFFF",
             "#FFFFFF",
             "#FFFFFF",
             "#FFFFFF",
             "#FFFFFF",
             "#FFFFFF",
             "#DEEFFF",
             "#FFFFFF",
             "#FFFFFF",
             "#FFFFFF",
             "#FFFFFF",
             "#FFFFFF",
             "#FFFFFF",
             "#E5E5E5"
            ],
            [
             "#000000",
             "#000000",
             "#000000",
             "#DEEFFF",
             "#DEEFFF",
             "#000000",
             "#000000",
             "#000000",
             "#000000",
             "#000000",
             "#DEEFFF",
             "#000000",
             "#FFFFFF",
             "#FFFFFF",
             "#FFFFFF",
             "#FFFFFF",
             "#FFFFFF",
             "#DEEFFF",
             "#FFFFFF",
             "#FFFFFF",
             "#FFFFFF",
             "#FFFFFF",
             "#FFFFFF",
             "#FFFFFF",
             "#DEEFFF",
             "#FFFFFF",
             "#FFFFFF",
             "#FFFFFF",
             "#FFFFFF",
             "#FFFFFF",
             "#FFFFFF",
             "#118DFF"
            ]
           ],
           "family": "Segoe UI Semibold",
           "size": 13.185185185185185
          },
          "line": {
           "color": [
            [
             "#FFFFFF",
             "#FFFFFF",
             "#FFFFFF",
             "#DEEFFF",
             "#DEEFFF",
             "#FFFFFF",
             "#FFFFFF",
             "#FFFFFF",
             "#FFFFFF",
             "#FFFFFF",
             "#DEEFFF",
             "#F7F7F7",
             "#FFFFFF",
             "#FFFFFF",
             "#FFFFFF",
             "#FFFFFF",
             "#FFFFFF",
             "#DEEFFF",
             "#FFFFFF",
             "#FFFFFF",
             "#FFFFFF",
             "#FFFFFF",
             "#FFFFFF",
             "#FFFFFF",
             "#DEEFFF",
             "#FFFFFF",
             "#FFFFFF",
             "#FFFFFF",
             "#FFFFFF",
             "#FFFFFF",
             "#FFFFFF",
             "#E5E5E5"
            ],
            [
             "#FFFFFF",
             "#FFFFFF",
             "#FFFFFF",
             "#DEEFFF",
             "#DEEFFF",
             "#FFFFFF",
             "#FFFFFF",
             "#FFFFFF",
             "#FFFFFF",
             "#FFFFFF",
             "#DEEFFF",
             "#F7F7F7",
             "#FFFFFF",
             "#FFFFFF",
             "#FFFFFF",
             "#FFFFFF",
             "#FFFFFF",
             "#DEEFFF",
             "#FFFFFF",
             "#FFFFFF",
             "#FFFFFF",
             "#FFFFFF",
             "#FFFFFF",
             "#FFFFFF",
             "#DEEFFF",
             "#FFFFFF",
             "#FFFFFF",
             "#FFFFFF",
             "#FFFFFF",
             "#FFFFFF",
             "#FFFFFF",
             "#E5E5E5"
            ],
            [
             "#F7F7F7",
             "#F7F7F7",
             "#F7F7F7",
             "#DEEFFF",
             "#DEEFFF",
             "#F7F7F7",
             "#F7F7F7",
             "#F7F7F7",
             "#F7F7F7",
             "#F7F7F7",
             "#DEEFFF",
             "#F7F7F7",
             "#F7F7F7",
             "#F7F7F7",
             "#F7F7F7",
             "#F7F7F7",
             "#F7F7F7",
             "#DEEFFF",
             "#F7F7F7",
             "#F7F7F7",
             "#F7F7F7",
             "#F7F7F7",
             "#F7F7F7",
             "#F7F7F7",
             "#DEEFFF",
             "#F7F7F7",
             "#F7F7F7",
             "#F7F7F7",
             "#F7F7F7",
             "#F7F7F7",
             "#F7F7F7",
             "#E5E5E5"
            ],
            [
             "#F7F7F7",
             "#F7F7F7",
             "#F7F7F7",
             "#DEEFFF",
             "#DEEFFF",
             "#F7F7F7",
             "#F7F7F7",
             "#F7F7F7",
             "#F7F7F7",
             "#F7F7F7",
             "#DEEFFF",
             "#F7F7F7",
             "#F7F7F7",
             "#F7F7F7",
             "#F7F7F7",
             "#F7F7F7",
             "#F7F7F7",
             "#DEEFFF",
             "#F7F7F7",
             "#F7F7F7",
             "#F7F7F7",
             "#F7F7F7",
             "#F7F7F7",
             "#F7F7F7",
             "#DEEFFF",
             "#F7F7F7",
             "#F7F7F7",
             "#F7F7F7",
             "#F7F7F7",
             "#F7F7F7",
             "#F7F7F7",
             "#E5E5E5"
            ],
            [
             "#FFFFFF",
             "#FFFFFF",
             "#FFFFFF",
             "#DEEFFF",
             "#DEEFFF",
             "#FFFFFF",
             "#FFFFFF",
             "#FFFFFF",
             "#FFFFFF",
             "#FFFFFF",
             "#DEEFFF",
             "#F7F7F7",
             "#FFFFFF",
             "#FFFFFF",
             "#FFFFFF",
             "#FFFFFF",
             "#FFFFFF",
             "#DEEFFF",
             "#FFFFFF",
             "#FFFFFF",
             "#FFFFFF",
             "#FFFFFF",
             "#FFFFFF",
             "#FFFFFF",
             "#DEEFFF",
             "#FFFFFF",
             "#FFFFFF",
             "#FFFFFF",
             "#FFFFFF",
             "#FFFFFF",
             "#FFFFFF",
             "#E5E5E5"
            ],
            [
             "#FFFFFF",
             "#FFFFFF",
             "#FFFFFF",
             "#DEEFFF",
             "#DEEFFF",
             "#FFFFFF",
             "#FFFFFF",
             "#FFFFFF",
             "#FFFFFF",
             "#FFFFFF",
             "#DEEFFF",
             "#F7F7F7",
             "#FFFFFF",
             "#FFFFFF",
             "#FFFFFF",
             "#FFFFFF",
             "#FFFFFF",
             "#DEEFFF",
             "#FFFFFF",
             "#FFFFFF",
             "#FFFFFF",
             "#FFFFFF",
             "#FFFFFF",
             "#FFFFFF",
             "#DEEFFF",
             "#FFFFFF",
             "#FFFFFF",
             "#FFFFFF",
             "#FFFFFF",
             "#FFFFFF",
             "#FFFFFF",
             "#E5E5E5"
            ],
            [
             "#F7F7F7",
             "#F7F7F7",
             "#F7F7F7",
             "#DEEFFF",
             "#DEEFFF",
             "#F7F7F7",
             "#F7F7F7",
             "#F7F7F7",
             "#F7F7F7",
             "#F7F7F7",
             "#DEEFFF",
             "#F7F7F7",
             "#F7F7F7",
             "#F7F7F7",
             "#F7F7F7",
             "#F7F7F7",
             "#F7F7F7",
             "#DEEFFF",
             "#F7F7F7",
             "#F7F7F7",
             "#F7F7F7",
             "#F7F7F7",
             "#F7F7F7",
             "#F7F7F7",
             "#DEEFFF",
             "#F7F7F7",
             "#F7F7F7",
             "#F7F7F7",
             "#F7F7F7",
             "#F7F7F7",
             "#F7F7F7",
             "#E5E5E5"
            ],
            [
             "#FFFFFF",
             "#FFFFFF",
             "#FFFFFF",
             "#DEEFFF",
             "#DEEFFF",
             "#FFFFFF",
             "#FFFFFF",
             "#FFFFFF",
             "#FFFFFF",
             "#FFFFFF",
             "#DEEFFF",
             "#F7F7F7",
             "#FFFFFF",
             "#FFFFFF",
             "#FFFFFF",
             "#FFFFFF",
             "#FFFFFF",
             "#DEEFFF",
             "#FFFFFF",
             "#FFFFFF",
             "#FFFFFF",
             "#FFFFFF",
             "#FFFFFF",
             "#FFFFFF",
             "#DEEFFF",
             "#FFFFFF",
             "#FFFFFF",
             "#FFFFFF",
             "#FFFFFF",
             "#FFFFFF",
             "#FFFFFF",
             "#E5E5E5"
            ],
            [
             "#FFFFFF",
             "#FFFFFF",
             "#FFFFFF",
             "#DEEFFF",
             "#DEEFFF",
             "#FFFFFF",
             "#FFFFFF",
             "#FFFFFF",
             "#FFFFFF",
             "#FFFFFF",
             "#DEEFFF",
             "#F7F7F7",
             "#FFFFFF",
             "#FFFFFF",
             "#FFFFFF",
             "#FFFFFF",
             "#FFFFFF",
             "#DEEFFF",
             "#FFFFFF",
             "#FFFFFF",
             "#FFFFFF",
             "#FFFFFF",
             "#FFFFFF",
             "#FFFFFF",
             "#DEEFFF",
             "#FFFFFF",
             "#FFFFFF",
             "#FFFFFF",
             "#FFFFFF",
             "#FFFFFF",
             "#FFFFFF",
             "#E5E5E5"
            ],
            [
             "#F7F7F7",
             "#F7F7F7",
             "#F7F7F7",
             "#DEEFFF",
             "#DEEFFF",
             "#F7F7F7",
             "#F7F7F7",
             "#F7F7F7",
             "#F7F7F7",
             "#F7F7F7",
             "#DEEFFF",
             "#F7F7F7",
             "#F7F7F7",
             "#F7F7F7",
             "#F7F7F7",
             "#F7F7F7",
             "#F7F7F7",
             "#DEEFFF",
             "#F7F7F7",
             "#F7F7F7",
             "#F7F7F7",
             "#F7F7F7",
             "#F7F7F7",
             "#F7F7F7",
             "#DEEFFF",
             "#F7F7F7",
             "#F7F7F7",
             "#F7F7F7",
             "#F7F7F7",
             "#F7F7F7",
             "#F7F7F7",
             "#E5E5E5"
            ],
            [
             "#FFFFFF",
             "#FFFFFF",
             "#FFFFFF",
             "#DEEFFF",
             "#DEEFFF",
             "#FFFFFF",
             "#FFFFFF",
             "#FFFFFF",
             "#FFFFFF",
             "#FFFFFF",
             "#DEEFFF",
             "#F7F7F7",
             "#FFFFFF",
             "#FFFFFF",
             "#FFFFFF",
             "#FFFFFF",
             "#FFFFFF",
             "#DEEFFF",
             "#FFFFFF",
             "#FFFFFF",
             "#FFFFFF",
             "#FFFFFF",
             "#FFFFFF",
             "#FFFFFF",
             "#DEEFFF",
             "#FFFFFF",
             "#FFFFFF",
             "#FFFFFF",
             "#FFFFFF",
             "#FFFFFF",
             "#FFFFFF",
             "#E5E5E5"
            ],
            [
             "#FFFFFF",
             "#FFFFFF",
             "#FFFFFF",
             "#DEEFFF",
             "#DEEFFF",
             "#FFFFFF",
             "#FFFFFF",
             "#FFFFFF",
             "#FFFFFF",
             "#FFFFFF",
             "#DEEFFF",
             "#F7F7F7",
             "#FFFFFF",
             "#FFFFFF",
             "#FFFFFF",
             "#FFFFFF",
             "#FFFFFF",
             "#DEEFFF",
             "#FFFFFF",
             "#FFFFFF",
             "#FFFFFF",
             "#FFFFFF",
             "#FFFFFF",
             "#FFFFFF",
             "#DEEFFF",
             "#FFFFFF",
             "#FFFFFF",
             "#FFFFFF",
             "#FFFFFF",
             "#FFFFFF",
             "#FFFFFF",
             "#E5E5E5"
            ],
            [
             "#FFFFFF",
             "#FFFFFF",
             "#FFFFFF",
             "#DEEFFF",
             "#DEEFFF",
             "#FFFFFF",
             "#FFFFFF",
             "#FFFFFF",
             "#FFFFFF",
             "#FFFFFF",
             "#DEEFFF",
             "#F7F7F7",
             "#FFFFFF",
             "#FFFFFF",
             "#FFFFFF",
             "#FFFFFF",
             "#FFFFFF",
             "#DEEFFF",
             "#FFFFFF",
             "#FFFFFF",
             "#FFFFFF",
             "#FFFFFF",
             "#FFFFFF",
             "#FFFFFF",
             "#DEEFFF",
             "#FFFFFF",
             "#FFFFFF",
             "#FFFFFF",
             "#FFFFFF",
             "#FFFFFF",
             "#FFFFFF",
             "#E5E5E5"
            ],
            [
             "#FFFFFF",
             "#FFFFFF",
             "#FFFFFF",
             "#DEEFFF",
             "#DEEFFF",
             "#FFFFFF",
             "#FFFFFF",
             "#FFFFFF",
             "#FFFFFF",
             "#FFFFFF",
             "#DEEFFF",
             "#F7F7F7",
             "#FFFFFF",
             "#FFFFFF",
             "#FFFFFF",
             "#FFFFFF",
             "#FFFFFF",
             "#DEEFFF",
             "#FFFFFF",
             "#FFFFFF",
             "#FFFFFF",
             "#FFFFFF",
             "#FFFFFF",
             "#FFFFFF",
             "#DEEFFF",
             "#FFFFFF",
             "#FFFFFF",
             "#FFFFFF",
             "#FFFFFF",
             "#FFFFFF",
             "#FFFFFF",
             "#E5E5E5"
            ],
            [
             "#FFFFFF",
             "#FFFFFF",
             "#FFFFFF",
             "#DEEFFF",
             "#DEEFFF",
             "#FFFFFF",
             "#FFFFFF",
             "#FFFFFF",
             "#FFFFFF",
             "#FFFFFF",
             "#DEEFFF",
             "#F7F7F7",
             "#FFFFFF",
             "#FFFFFF",
             "#FFFFFF",
             "#FFFFFF",
             "#FFFFFF",
             "#DEEFFF",
             "#FFFFFF",
             "#FFFFFF",
             "#FFFFFF",
             "#FFFFFF",
             "#FFFFFF",
             "#FFFFFF",
             "#DEEFFF",
             "#FFFFFF",
             "#FFFFFF",
             "#FFFFFF",
             "#FFFFFF",
             "#FFFFFF",
             "#FFFFFF",
             "#E5E5E5"
            ],
            [
             "#FFFFFF",
             "#FFFFFF",
             "#FFFFFF",
             "#DEEFFF",
             "#DEEFFF",
             "#FFFFFF",
             "#FFFFFF",
             "#FFFFFF",
             "#FFFFFF",
             "#FFFFFF",
             "#DEEFFF",
             "#F7F7F7",
             "#FFFFFF",
             "#FFFFFF",
             "#FFFFFF",
             "#FFFFFF",
             "#FFFFFF",
             "#DEEFFF",
             "#FFFFFF",
             "#FFFFFF",
             "#FFFFFF",
             "#FFFFFF",
             "#FFFFFF",
             "#FFFFFF",
             "#DEEFFF",
             "#FFFFFF",
             "#FFFFFF",
             "#FFFFFF",
             "#FFFFFF",
             "#FFFFFF",
             "#FFFFFF",
             "#E5E5E5"
            ],
            [
             "#FFFFFF",
             "#FFFFFF",
             "#FFFFFF",
             "#DEEFFF",
             "#DEEFFF",
             "#FFFFFF",
             "#FFFFFF",
             "#FFFFFF",
             "#FFFFFF",
             "#FFFFFF",
             "#DEEFFF",
             "#F7F7F7",
             "#FFFFFF",
             "#FFFFFF",
             "#FFFFFF",
             "#FFFFFF",
             "#FFFFFF",
             "#DEEFFF",
             "#FFFFFF",
             "#FFFFFF",
             "#FFFFFF",
             "#FFFFFF",
             "#FFFFFF",
             "#FFFFFF",
             "#DEEFFF",
             "#FFFFFF",
             "#FFFFFF",
             "#FFFFFF",
             "#FFFFFF",
             "#FFFFFF",
             "#FFFFFF",
             "#E5E5E5"
            ],
            [
             "#FFFFFF",
             "#FFFFFF",
             "#FFFFFF",
             "#DEEFFF",
             "#DEEFFF",
             "#FFFFFF",
             "#FFFFFF",
             "#FFFFFF",
             "#FFFFFF",
             "#FFFFFF",
             "#DEEFFF",
             "#F7F7F7",
             "#FFFFFF",
             "#FFFFFF",
             "#FFFFFF",
             "#FFFFFF",
             "#FFFFFF",
             "#DEEFFF",
             "#FFFFFF",
             "#FFFFFF",
             "#FFFFFF",
             "#FFFFFF",
             "#FFFFFF",
             "#FFFFFF",
             "#DEEFFF",
             "#FFFFFF",
             "#FFFFFF",
             "#FFFFFF",
             "#FFFFFF",
             "#FFFFFF",
             "#FFFFFF",
             "#E5E5E5"
            ],
            [
             "#FFFFFF",
             "#FFFFFF",
             "#FFFFFF",
             "#DEEFFF",
             "#DEEFFF",
             "#FFFFFF",
             "#FFFFFF",
             "#FFFFFF",
             "#FFFFFF",
             "#FFFFFF",
             "#DEEFFF",
             "#F7F7F7",
             "#FFFFFF",
             "#FFFFFF",
             "#FFFFFF",
             "#FFFFFF",
             "#FFFFFF",
             "#DEEFFF",
             "#FFFFFF",
             "#FFFFFF",
             "#FFFFFF",
             "#FFFFFF",
             "#FFFFFF",
             "#FFFFFF",
             "#DEEFFF",
             "#FFFFFF",
             "#FFFFFF",
             "#FFFFFF",
             "#FFFFFF",
             "#FFFFFF",
             "#FFFFFF",
             "#E5E5E5"
            ],
            [
             "#FFFFFF",
             "#FFFFFF",
             "#FFFFFF",
             "#DEEFFF",
             "#DEEFFF",
             "#FFFFFF",
             "#FFFFFF",
             "#FFFFFF",
             "#FFFFFF",
             "#FFFFFF",
             "#DEEFFF",
             "#F7F7F7",
             "#FFFFFF",
             "#FFFFFF",
             "#FFFFFF",
             "#FFFFFF",
             "#FFFFFF",
             "#DEEFFF",
             "#FFFFFF",
             "#FFFFFF",
             "#FFFFFF",
             "#FFFFFF",
             "#FFFFFF",
             "#FFFFFF",
             "#DEEFFF",
             "#FFFFFF",
             "#FFFFFF",
             "#FFFFFF",
             "#FFFFFF",
             "#FFFFFF",
             "#FFFFFF",
             "#E5E5E5"
            ],
            [
             "#FFFFFF",
             "#FFFFFF",
             "#FFFFFF",
             "#DEEFFF",
             "#DEEFFF",
             "#FFFFFF",
             "#FFFFFF",
             "#FFFFFF",
             "#FFFFFF",
             "#FFFFFF",
             "#DEEFFF",
             "#F7F7F7",
             "#FFFFFF",
             "#FFFFFF",
             "#FFFFFF",
             "#FFFFFF",
             "#FFFFFF",
             "#DEEFFF",
             "#FFFFFF",
             "#FFFFFF",
             "#FFFFFF",
             "#FFFFFF",
             "#FFFFFF",
             "#FFFFFF",
             "#DEEFFF",
             "#FFFFFF",
             "#FFFFFF",
             "#FFFFFF",
             "#FFFFFF",
             "#FFFFFF",
             "#FFFFFF",
             "#E5E5E5"
            ],
            [
             "#FFFFFF",
             "#FFFFFF",
             "#FFFFFF",
             "#DEEFFF",
             "#DEEFFF",
             "#FFFFFF",
             "#FFFFFF",
             "#FFFFFF",
             "#FFFFFF",
             "#FFFFFF",
             "#DEEFFF",
             "#F7F7F7",
             "#FFFFFF",
             "#FFFFFF",
             "#FFFFFF",
             "#FFFFFF",
             "#FFFFFF",
             "#DEEFFF",
             "#FFFFFF",
             "#FFFFFF",
             "#FFFFFF",
             "#FFFFFF",
             "#FFFFFF",
             "#FFFFFF",
             "#DEEFFF",
             "#FFFFFF",
             "#FFFFFF",
             "#FFFFFF",
             "#FFFFFF",
             "#FFFFFF",
             "#FFFFFF",
             "#E5E5E5"
            ]
           ],
           "width": 2
          },
          "values": [
           [
            "01/12/2022, Quinta-feira",
            "02/12/2022, Sexta-feira",
            "03/12/2022, Sábado",
            "04/12/2022, Domingo",
            "05/12/2022, Segunda-feira",
            "06/12/2022, Terça-feira",
            "07/12/2022, Quarta-feira",
            "08/12/2022, Quinta-feira",
            "09/12/2022, Sexta-feira",
            "10/12/2022, Sábado",
            "11/12/2022, Domingo",
            "12/12/2022, Segunda-feira",
            "13/12/2022, Terça-feira",
            "14/12/2022, Quarta-feira",
            "15/12/2022, Quinta-feira",
            "16/12/2022, Sexta-feira",
            "17/12/2022, Sábado",
            "18/12/2022, Domingo",
            "19/12/2022, Segunda-feira",
            "20/12/2022, Terça-feira",
            "21/12/2022, Quarta-feira",
            "22/12/2022, Quinta-feira",
            "23/12/2022, Sexta-feira",
            "24/12/2022, Sábado",
            "25/12/2022, Domingo",
            "26/12/2022, Segunda-feira",
            "27/12/2022, Terça-feira",
            "28/12/2022, Quarta-feira",
            "29/12/2022, Quinta-feira",
            "30/12/2022, Sexta-feira",
            "31/12/2022, Sábado",
            "Total"
           ],
           [
            "R$ 66.666,67",
            "R$ 66.666,67",
            "R$ 20.000,00",
            "",
            "",
            "R$ 66.666,67",
            "R$ 66.666,67",
            "R$ 66.666,67",
            "R$ 46.666,67",
            "R$ 20.000,00",
            "",
            "R$ 66.666,67",
            "R$ 66.666,67",
            "R$ 66.666,67",
            "R$ 66.666,67",
            "R$ 66.666,67",
            "R$ 20.000,00",
            "",
            "R$ 66.666,67",
            "R$ 66.666,67",
            "R$ 66.666,67",
            "R$ 66.666,67",
            "R$ 66.666,67",
            "R$ 20.000,00",
            "",
            "R$ 66.666,67",
            "R$ 66.666,67",
            "R$ 66.666,67",
            "R$ 66.666,67",
            "R$ 66.666,67",
            "R$ 20.000,00",
            "R$ 1.480.000,00"
           ],
           [
            "R$ 57.109,01",
            "R$ 39.509,96",
            "R$ 24.671,31",
            "",
            "R$ 38.924,69",
            "R$ 94.018,29",
            "R$ 79.801,45",
            "R$ 86.092,60",
            "R$ 39.667,99",
            "R$ 20.340,79",
            "",
            "",
            "",
            "",
            "",
            "",
            "",
            "",
            "",
            "",
            "",
            "",
            "",
            "",
            "",
            "",
            "",
            "",
            "",
            "",
            "",
            "R$ 480.136,09"
           ],
           [
            "R$ 54.513,39",
            "R$ 38.016,70",
            "R$ 24.139,23",
            "",
            "R$ 36.474,32",
            "R$ 90.873,97",
            "R$ 77.683,20",
            "R$ 82.669,15",
            "R$ 37.180,99",
            "R$ 19.094,77",
            "",
            "",
            "",
            "",
            "",
            "",
            "",
            "",
            "",
            "",
            "",
            "",
            "",
            "",
            "",
            "",
            "",
            "",
            "",
            "",
            "",
            "R$ 460.645,72"
           ],
           [
            "R$ 2.595,62",
            "R$ 1.493,26",
            "R$ 532,08",
            "",
            "R$ 2.450,37",
            "R$ 3.144,32",
            "R$ 2.118,25",
            "R$ 3.423,45",
            "R$ 2.487,00",
            "R$ 1.246,02",
            "",
            "",
            "",
            "",
            "",
            "",
            "",
            "",
            "",
            "",
            "",
            "",
            "",
            "",
            "",
            "",
            "",
            "",
            "",
            "",
            "",
            "R$ 19.490,37"
           ],
           [
            "4,55%",
            "3,78%",
            "2,16%",
            "",
            "6,30%",
            "3,34%",
            "2,65%",
            "3,98%",
            "6,27%",
            "6,13%",
            "",
            "",
            "",
            "",
            "",
            "",
            "",
            "",
            "",
            "",
            "",
            "",
            "",
            "",
            "",
            "",
            "",
            "",
            "",
            "",
            "",
            "4,06%"
           ],
           [
            "R$ 51.513,78",
            "R$ 35.359,00",
            "R$ 22.653,96",
            "",
            "R$ 32.669,39",
            "R$ 84.500,70",
            "R$ 70.888,35",
            "R$ 75.044,49",
            "R$ 34.683,43",
            "R$ 17.505,10",
            "",
            "",
            "",
            "",
            "",
            "",
            "",
            "",
            "",
            "",
            "",
            "",
            "",
            "",
            "",
            "",
            "",
            "",
            "",
            "",
            "",
            "R$ 424.818,20"
           ],
           [
            "146",
            "100",
            "69",
            "",
            "100",
            "161",
            "155",
            "159",
            "96",
            "51",
            "",
            "",
            "",
            "",
            "",
            "",
            "",
            "",
            "",
            "",
            "",
            "",
            "",
            "",
            "",
            "",
            "",
            "",
            "",
            "",
            "",
            "298"
           ],
           [
            "3,90%",
            "3,49%",
            "2,35%",
            "",
            "7,50%",
            "3,50%",
            "2,89%",
            "3,49%",
            "7,10%",
            "4,94%",
            "",
            "",
            "",
            "",
            "",
            "",
            "",
            "",
            "",
            "",
            "",
            "",
            "",
            "",
            "",
            "",
            "",
            "",
            "",
            "",
            "",
            "4,04%"
           ],
           [
            "R$ 2.999,61",
            "R$ 2.657,70",
            "R$ 1.485,27",
            "",
            "R$ 3.804,93",
            "R$ 6.373,27",
            "R$ 6.794,85",
            "R$ 7.624,66",
            "R$ 2.497,56",
            "R$ 1.589,67",
            "",
            "",
            "",
            "",
            "",
            "",
            "",
            "",
            "",
            "",
            "",
            "",
            "",
            "",
            "",
            "",
            "",
            "",
            "",
            "",
            "",
            "R$ 35.827,52"
           ],
           [
            "28",
            "21",
            "18",
            "",
            "22",
            "44",
            "41",
            "47",
            "17",
            "21",
            "",
            "",
            "",
            "",
            "",
            "",
            "",
            "",
            "",
            "",
            "",
            "",
            "",
            "",
            "",
            "",
            "",
            "",
            "",
            "",
            "",
            "259"
           ],
           [
            "19,61%",
            "9,70%",
            "",
            "",
            "",
            "2,98%",
            "1,06%",
            "10,51%",
            "0,99%",
            "23,95%",
            "",
            "",
            "",
            "",
            "",
            "",
            "",
            "",
            "",
            "",
            "",
            "",
            "",
            "",
            "",
            "",
            "",
            "",
            "",
            "",
            "",
            "6,46%"
           ],
           [
            "81,77%",
            "57,03%",
            "120,70%",
            "",
            "",
            "136,31%",
            "116,52%",
            "124,00%",
            "79,67%",
            "95,47%",
            "",
            "",
            "",
            "",
            "",
            "",
            "",
            "",
            "",
            "",
            "",
            "",
            "",
            "",
            "",
            "",
            "",
            "",
            "",
            "",
            "",
            "31,12%"
           ],
           [
            "81,77%",
            "69,40%",
            "76,09%",
            "76,09%",
            "99,88%",
            "110,92%",
            "112,22%",
            "114,44%",
            "110,39%",
            "109,68%",
            "109,68%",
            "94,65%",
            "83,25%",
            "74,30%",
            "67,08%",
            "61,15%",
            "59,57%",
            "59,57%",
            "54,84%",
            "50,81%",
            "47,33%",
            "44,29%",
            "41,62%",
            "40,89%",
            "40,89%",
            "38,60%",
            "36,56%",
            "34,72%",
            "33,06%",
            "31,55%",
            "31,12%",
            "31,12%"
           ],
           [
            "R$ 1.210.197,26",
            "R$ 1.027.084,00",
            "R$ 1.126.112,57",
            "R$ 1.126.112,57",
            "R$ 1.478.169,05",
            "R$ 1.641.573,01",
            "R$ 1.660.873,95",
            "R$ 1.693.776,06",
            "R$ 1.633.738,51",
            "R$ 1.623.227,78",
            "R$ 1.623.227,78",
            "R$ 1.400.867,81",
            "R$ 1.232.088,55",
            "R$ 1.099.605,91",
            "R$ 992.848,06",
            "R$ 904.985,40",
            "R$ 881.580,60",
            "R$ 881.580,60",
            "R$ 811.613,89",
            "R$ 751.936,40",
            "R$ 700.433,90",
            "R$ 655.534,29",
            "R$ 616.044,28",
            "R$ 605.108,58",
            "R$ 605.108,58",
            "R$ 571.303,63",
            "R$ 541.075,93",
            "R$ 513.886,18",
            "R$ 489.298,32",
            "R$ 466.955,94",
            "R$ 460.645,72",
            ""
           ]
          ]
         },
         "columnwidth": [
          10.300925925925926,
          6.592592592592593,
          6.592592592592593,
          6.592592592592593,
          6.592592592592593,
          4.12037037037037,
          6.592592592592593,
          5.356481481481481,
          4.944444444444445,
          6.592592592592593,
          4.944444444444445,
          4.12037037037037,
          2.8842592592592595,
          2.8842592592592595,
          6.592592592592593
         ],
         "domain": {
          "y": [
           0,
           1
          ]
         },
         "header": {
          "align": "center",
          "fill": {
           "color": "#E5E5E5"
          },
          "font": {
           "color": [
            "#000000",
            "#000000",
            "#118DFF",
            "#000000",
            "#FF0000",
            "#FF0000",
            "#E04392",
            "#000000",
            "#FF0000",
            "#E04392",
            "#000000",
            "#FF0000",
            "#000000",
            "#000000",
            "#000000"
           ],
           "family": "Segoe UI Semibold",
           "size": 13.185185185185185
          },
          "line": {
           "color": "#E5E5E5",
           "width": 3
          },
          "values": [
           "Data",
           "Meta",
           "Venda\nSIAC",
           "Venda\nLíquida",
           "Devolução",
           "%\nDev",
           "Venda\nCNPJ",
           "Clientes\nCNPJ",
           "% Dev\nCNPJ",
           "Venda\nCPF",
           "Clientes\nCPF",
           "% Dev\nCPF",
           "%\nDia",
           "%\nMês",
           "Projeção\nmensal"
          ]
         },
         "type": "table"
        }
       ],
       "layout": {
        "height": 890,
        "template": {
         "data": {
          "bar": [
           {
            "error_x": {
             "color": "#2a3f5f"
            },
            "error_y": {
             "color": "#2a3f5f"
            },
            "marker": {
             "line": {
              "color": "#E5ECF6",
              "width": 0.5
             },
             "pattern": {
              "fillmode": "overlay",
              "size": 10,
              "solidity": 0.2
             }
            },
            "type": "bar"
           }
          ],
          "barpolar": [
           {
            "marker": {
             "line": {
              "color": "#E5ECF6",
              "width": 0.5
             },
             "pattern": {
              "fillmode": "overlay",
              "size": 10,
              "solidity": 0.2
             }
            },
            "type": "barpolar"
           }
          ],
          "carpet": [
           {
            "aaxis": {
             "endlinecolor": "#2a3f5f",
             "gridcolor": "white",
             "linecolor": "white",
             "minorgridcolor": "white",
             "startlinecolor": "#2a3f5f"
            },
            "baxis": {
             "endlinecolor": "#2a3f5f",
             "gridcolor": "white",
             "linecolor": "white",
             "minorgridcolor": "white",
             "startlinecolor": "#2a3f5f"
            },
            "type": "carpet"
           }
          ],
          "choropleth": [
           {
            "colorbar": {
             "outlinewidth": 0,
             "ticks": ""
            },
            "type": "choropleth"
           }
          ],
          "contour": [
           {
            "colorbar": {
             "outlinewidth": 0,
             "ticks": ""
            },
            "colorscale": [
             [
              0,
              "#0d0887"
             ],
             [
              0.1111111111111111,
              "#46039f"
             ],
             [
              0.2222222222222222,
              "#7201a8"
             ],
             [
              0.3333333333333333,
              "#9c179e"
             ],
             [
              0.4444444444444444,
              "#bd3786"
             ],
             [
              0.5555555555555556,
              "#d8576b"
             ],
             [
              0.6666666666666666,
              "#ed7953"
             ],
             [
              0.7777777777777778,
              "#fb9f3a"
             ],
             [
              0.8888888888888888,
              "#fdca26"
             ],
             [
              1,
              "#f0f921"
             ]
            ],
            "type": "contour"
           }
          ],
          "contourcarpet": [
           {
            "colorbar": {
             "outlinewidth": 0,
             "ticks": ""
            },
            "type": "contourcarpet"
           }
          ],
          "heatmap": [
           {
            "colorbar": {
             "outlinewidth": 0,
             "ticks": ""
            },
            "colorscale": [
             [
              0,
              "#0d0887"
             ],
             [
              0.1111111111111111,
              "#46039f"
             ],
             [
              0.2222222222222222,
              "#7201a8"
             ],
             [
              0.3333333333333333,
              "#9c179e"
             ],
             [
              0.4444444444444444,
              "#bd3786"
             ],
             [
              0.5555555555555556,
              "#d8576b"
             ],
             [
              0.6666666666666666,
              "#ed7953"
             ],
             [
              0.7777777777777778,
              "#fb9f3a"
             ],
             [
              0.8888888888888888,
              "#fdca26"
             ],
             [
              1,
              "#f0f921"
             ]
            ],
            "type": "heatmap"
           }
          ],
          "heatmapgl": [
           {
            "colorbar": {
             "outlinewidth": 0,
             "ticks": ""
            },
            "colorscale": [
             [
              0,
              "#0d0887"
             ],
             [
              0.1111111111111111,
              "#46039f"
             ],
             [
              0.2222222222222222,
              "#7201a8"
             ],
             [
              0.3333333333333333,
              "#9c179e"
             ],
             [
              0.4444444444444444,
              "#bd3786"
             ],
             [
              0.5555555555555556,
              "#d8576b"
             ],
             [
              0.6666666666666666,
              "#ed7953"
             ],
             [
              0.7777777777777778,
              "#fb9f3a"
             ],
             [
              0.8888888888888888,
              "#fdca26"
             ],
             [
              1,
              "#f0f921"
             ]
            ],
            "type": "heatmapgl"
           }
          ],
          "histogram": [
           {
            "marker": {
             "pattern": {
              "fillmode": "overlay",
              "size": 10,
              "solidity": 0.2
             }
            },
            "type": "histogram"
           }
          ],
          "histogram2d": [
           {
            "colorbar": {
             "outlinewidth": 0,
             "ticks": ""
            },
            "colorscale": [
             [
              0,
              "#0d0887"
             ],
             [
              0.1111111111111111,
              "#46039f"
             ],
             [
              0.2222222222222222,
              "#7201a8"
             ],
             [
              0.3333333333333333,
              "#9c179e"
             ],
             [
              0.4444444444444444,
              "#bd3786"
             ],
             [
              0.5555555555555556,
              "#d8576b"
             ],
             [
              0.6666666666666666,
              "#ed7953"
             ],
             [
              0.7777777777777778,
              "#fb9f3a"
             ],
             [
              0.8888888888888888,
              "#fdca26"
             ],
             [
              1,
              "#f0f921"
             ]
            ],
            "type": "histogram2d"
           }
          ],
          "histogram2dcontour": [
           {
            "colorbar": {
             "outlinewidth": 0,
             "ticks": ""
            },
            "colorscale": [
             [
              0,
              "#0d0887"
             ],
             [
              0.1111111111111111,
              "#46039f"
             ],
             [
              0.2222222222222222,
              "#7201a8"
             ],
             [
              0.3333333333333333,
              "#9c179e"
             ],
             [
              0.4444444444444444,
              "#bd3786"
             ],
             [
              0.5555555555555556,
              "#d8576b"
             ],
             [
              0.6666666666666666,
              "#ed7953"
             ],
             [
              0.7777777777777778,
              "#fb9f3a"
             ],
             [
              0.8888888888888888,
              "#fdca26"
             ],
             [
              1,
              "#f0f921"
             ]
            ],
            "type": "histogram2dcontour"
           }
          ],
          "mesh3d": [
           {
            "colorbar": {
             "outlinewidth": 0,
             "ticks": ""
            },
            "type": "mesh3d"
           }
          ],
          "parcoords": [
           {
            "line": {
             "colorbar": {
              "outlinewidth": 0,
              "ticks": ""
             }
            },
            "type": "parcoords"
           }
          ],
          "pie": [
           {
            "automargin": true,
            "type": "pie"
           }
          ],
          "scatter": [
           {
            "fillpattern": {
             "fillmode": "overlay",
             "size": 10,
             "solidity": 0.2
            },
            "type": "scatter"
           }
          ],
          "scatter3d": [
           {
            "line": {
             "colorbar": {
              "outlinewidth": 0,
              "ticks": ""
             }
            },
            "marker": {
             "colorbar": {
              "outlinewidth": 0,
              "ticks": ""
             }
            },
            "type": "scatter3d"
           }
          ],
          "scattercarpet": [
           {
            "marker": {
             "colorbar": {
              "outlinewidth": 0,
              "ticks": ""
             }
            },
            "type": "scattercarpet"
           }
          ],
          "scattergeo": [
           {
            "marker": {
             "colorbar": {
              "outlinewidth": 0,
              "ticks": ""
             }
            },
            "type": "scattergeo"
           }
          ],
          "scattergl": [
           {
            "marker": {
             "colorbar": {
              "outlinewidth": 0,
              "ticks": ""
             }
            },
            "type": "scattergl"
           }
          ],
          "scattermapbox": [
           {
            "marker": {
             "colorbar": {
              "outlinewidth": 0,
              "ticks": ""
             }
            },
            "type": "scattermapbox"
           }
          ],
          "scatterpolar": [
           {
            "marker": {
             "colorbar": {
              "outlinewidth": 0,
              "ticks": ""
             }
            },
            "type": "scatterpolar"
           }
          ],
          "scatterpolargl": [
           {
            "marker": {
             "colorbar": {
              "outlinewidth": 0,
              "ticks": ""
             }
            },
            "type": "scatterpolargl"
           }
          ],
          "scatterternary": [
           {
            "marker": {
             "colorbar": {
              "outlinewidth": 0,
              "ticks": ""
             }
            },
            "type": "scatterternary"
           }
          ],
          "surface": [
           {
            "colorbar": {
             "outlinewidth": 0,
             "ticks": ""
            },
            "colorscale": [
             [
              0,
              "#0d0887"
             ],
             [
              0.1111111111111111,
              "#46039f"
             ],
             [
              0.2222222222222222,
              "#7201a8"
             ],
             [
              0.3333333333333333,
              "#9c179e"
             ],
             [
              0.4444444444444444,
              "#bd3786"
             ],
             [
              0.5555555555555556,
              "#d8576b"
             ],
             [
              0.6666666666666666,
              "#ed7953"
             ],
             [
              0.7777777777777778,
              "#fb9f3a"
             ],
             [
              0.8888888888888888,
              "#fdca26"
             ],
             [
              1,
              "#f0f921"
             ]
            ],
            "type": "surface"
           }
          ],
          "table": [
           {
            "cells": {
             "fill": {
              "color": "#EBF0F8"
             },
             "line": {
              "color": "white"
             }
            },
            "header": {
             "fill": {
              "color": "#C8D4E3"
             },
             "line": {
              "color": "white"
             }
            },
            "type": "table"
           }
          ]
         },
         "layout": {
          "annotationdefaults": {
           "arrowcolor": "#2a3f5f",
           "arrowhead": 0,
           "arrowwidth": 1
          },
          "autotypenumbers": "strict",
          "coloraxis": {
           "colorbar": {
            "outlinewidth": 0,
            "ticks": ""
           }
          },
          "colorscale": {
           "diverging": [
            [
             0,
             "#8e0152"
            ],
            [
             0.1,
             "#c51b7d"
            ],
            [
             0.2,
             "#de77ae"
            ],
            [
             0.3,
             "#f1b6da"
            ],
            [
             0.4,
             "#fde0ef"
            ],
            [
             0.5,
             "#f7f7f7"
            ],
            [
             0.6,
             "#e6f5d0"
            ],
            [
             0.7,
             "#b8e186"
            ],
            [
             0.8,
             "#7fbc41"
            ],
            [
             0.9,
             "#4d9221"
            ],
            [
             1,
             "#276419"
            ]
           ],
           "sequential": [
            [
             0,
             "#0d0887"
            ],
            [
             0.1111111111111111,
             "#46039f"
            ],
            [
             0.2222222222222222,
             "#7201a8"
            ],
            [
             0.3333333333333333,
             "#9c179e"
            ],
            [
             0.4444444444444444,
             "#bd3786"
            ],
            [
             0.5555555555555556,
             "#d8576b"
            ],
            [
             0.6666666666666666,
             "#ed7953"
            ],
            [
             0.7777777777777778,
             "#fb9f3a"
            ],
            [
             0.8888888888888888,
             "#fdca26"
            ],
            [
             1,
             "#f0f921"
            ]
           ],
           "sequentialminus": [
            [
             0,
             "#0d0887"
            ],
            [
             0.1111111111111111,
             "#46039f"
            ],
            [
             0.2222222222222222,
             "#7201a8"
            ],
            [
             0.3333333333333333,
             "#9c179e"
            ],
            [
             0.4444444444444444,
             "#bd3786"
            ],
            [
             0.5555555555555556,
             "#d8576b"
            ],
            [
             0.6666666666666666,
             "#ed7953"
            ],
            [
             0.7777777777777778,
             "#fb9f3a"
            ],
            [
             0.8888888888888888,
             "#fdca26"
            ],
            [
             1,
             "#f0f921"
            ]
           ]
          },
          "colorway": [
           "#636efa",
           "#EF553B",
           "#00cc96",
           "#ab63fa",
           "#FFA15A",
           "#19d3f3",
           "#FF6692",
           "#B6E880",
           "#FF97FF",
           "#FECB52"
          ],
          "font": {
           "color": "#2a3f5f"
          },
          "geo": {
           "bgcolor": "white",
           "lakecolor": "white",
           "landcolor": "#E5ECF6",
           "showlakes": true,
           "showland": true,
           "subunitcolor": "white"
          },
          "hoverlabel": {
           "align": "left"
          },
          "hovermode": "closest",
          "mapbox": {
           "style": "light"
          },
          "paper_bgcolor": "white",
          "plot_bgcolor": "#E5ECF6",
          "polar": {
           "angularaxis": {
            "gridcolor": "white",
            "linecolor": "white",
            "ticks": ""
           },
           "bgcolor": "#E5ECF6",
           "radialaxis": {
            "gridcolor": "white",
            "linecolor": "white",
            "ticks": ""
           }
          },
          "scene": {
           "xaxis": {
            "backgroundcolor": "#E5ECF6",
            "gridcolor": "white",
            "gridwidth": 2,
            "linecolor": "white",
            "showbackground": true,
            "ticks": "",
            "zerolinecolor": "white"
           },
           "yaxis": {
            "backgroundcolor": "#E5ECF6",
            "gridcolor": "white",
            "gridwidth": 2,
            "linecolor": "white",
            "showbackground": true,
            "ticks": "",
            "zerolinecolor": "white"
           },
           "zaxis": {
            "backgroundcolor": "#E5ECF6",
            "gridcolor": "white",
            "gridwidth": 2,
            "linecolor": "white",
            "showbackground": true,
            "ticks": "",
            "zerolinecolor": "white"
           }
          },
          "shapedefaults": {
           "line": {
            "color": "#2a3f5f"
           }
          },
          "ternary": {
           "aaxis": {
            "gridcolor": "white",
            "linecolor": "white",
            "ticks": ""
           },
           "baxis": {
            "gridcolor": "white",
            "linecolor": "white",
            "ticks": ""
           },
           "bgcolor": "#E5ECF6",
           "caxis": {
            "gridcolor": "white",
            "linecolor": "white",
            "ticks": ""
           }
          },
          "title": {
           "x": 0.05
          },
          "xaxis": {
           "automargin": true,
           "gridcolor": "white",
           "linecolor": "white",
           "ticks": "",
           "title": {
            "standoff": 15
           },
           "zerolinecolor": "white",
           "zerolinewidth": 2
          },
          "yaxis": {
           "automargin": true,
           "gridcolor": "white",
           "linecolor": "white",
           "ticks": "",
           "title": {
            "standoff": 15
           },
           "zerolinecolor": "white",
           "zerolinewidth": 2
          }
         }
        },
        "title": {
         "font": {
          "color": "#881798",
          "family": "Jost",
          "size": 24.72222222222222
         },
         "text": "◙◙◙◙◙◙◙◙◙◙ 🡆 ASA NORTE 🡄 ◙◙◙◙◙◙◙◙◙◙◙◙◙◙◙◙◙◙◙◙◙◙◙◙◙◙◙◙◙◙◙◙◙◙◙◙◙◙◙◙◙◙◙◙◙◙◙◙◙◙◙◙◙◙◙◙◙◙◙◙◙◙◙◙◙◙◙◙◙◙◙◙◙◙◙◙ ⒶⓈⒶ ⓃⓄⓇⓉⒺ ◙◙◙◙◙◙◙◙◙◙",
         "x": 0.5,
         "y": 0.95,
         "yanchor": "bottom"
        },
        "width": 2060
       }
      }
     },
     "metadata": {},
     "output_type": "display_data"
    },
    {
     "name": "stdout",
     "output_type": "stream",
     "text": [
      "TESTE 03 TABLE.png\n",
      "\n",
      "12-12-2022 PrimeiraFoto - https://chat.whatsapp.com/LK4LDajkH52BNydoLGGD2d\n",
      "12-12-2022 API - https://chat.whatsapp.com/EBLX0fxYfvuHL7jZ9CZECQ\n",
      "12-12-2022 Teste Python - https://chat.whatsapp.com/I4y7EAVfns629NvfoLUtGI\n",
      "\n",
      "• '04' CEILÂNDIA\n",
      "\n"
     ]
    },
    {
     "name": "stderr",
     "output_type": "stream",
     "text": [
      "C:\\Users\\admin\\AppData\\Local\\Temp\\ipykernel_19088\\3465617909.py:86: RuntimeWarning:\n",
      "\n",
      "divide by zero encountered in double_scalars\n",
      "\n"
     ]
    },
    {
     "data": {
      "application/vnd.plotly.v1+json": {
       "config": {
        "plotlyServerURL": "https://plot.ly"
       },
       "data": [
        {
         "cells": {
          "align": [
           "left",
           "center"
          ],
          "fill": {
           "color": [
            [
             "#FFFFFF",
             "#FFFFFF",
             "#FFFFFF",
             "#DEEFFF",
             "#DEEFFF",
             "#FFFFFF",
             "#FFFFFF",
             "#FFFFFF",
             "#FFFFFF",
             "#FFFFFF",
             "#DEEFFF",
             "#F7F7F7",
             "#FFFFFF",
             "#FFFFFF",
             "#FFFFFF",
             "#FFFFFF",
             "#FFFFFF",
             "#DEEFFF",
             "#FFFFFF",
             "#FFFFFF",
             "#FFFFFF",
             "#FFFFFF",
             "#FFFFFF",
             "#FFFFFF",
             "#DEEFFF",
             "#FFFFFF",
             "#FFFFFF",
             "#FFFFFF",
             "#FFFFFF",
             "#FFFFFF",
             "#FFFFFF",
             "#E5E5E5"
            ],
            [
             "#FFFFFF",
             "#FFFFFF",
             "#FFFFFF",
             "#DEEFFF",
             "#DEEFFF",
             "#FFFFFF",
             "#FFFFFF",
             "#FFFFFF",
             "#FFFFFF",
             "#FFFFFF",
             "#DEEFFF",
             "#F7F7F7",
             "#FFFFFF",
             "#FFFFFF",
             "#FFFFFF",
             "#FFFFFF",
             "#FFFFFF",
             "#DEEFFF",
             "#FFFFFF",
             "#FFFFFF",
             "#FFFFFF",
             "#FFFFFF",
             "#FFFFFF",
             "#FFFFFF",
             "#DEEFFF",
             "#FFFFFF",
             "#FFFFFF",
             "#FFFFFF",
             "#FFFFFF",
             "#FFFFFF",
             "#FFFFFF",
             "#E5E5E5"
            ],
            [
             "#F7F7F7",
             "#F7F7F7",
             "#F7F7F7",
             "#DEEFFF",
             "#DEEFFF",
             "#F7F7F7",
             "#F7F7F7",
             "#F7F7F7",
             "#F7F7F7",
             "#F7F7F7",
             "#DEEFFF",
             "#F7F7F7",
             "#F7F7F7",
             "#F7F7F7",
             "#F7F7F7",
             "#F7F7F7",
             "#F7F7F7",
             "#DEEFFF",
             "#F7F7F7",
             "#F7F7F7",
             "#F7F7F7",
             "#F7F7F7",
             "#F7F7F7",
             "#F7F7F7",
             "#DEEFFF",
             "#F7F7F7",
             "#F7F7F7",
             "#F7F7F7",
             "#F7F7F7",
             "#F7F7F7",
             "#F7F7F7",
             "#E5E5E5"
            ],
            [
             "#F7F7F7",
             "#F7F7F7",
             "#F7F7F7",
             "#DEEFFF",
             "#DEEFFF",
             "#F7F7F7",
             "#F7F7F7",
             "#F7F7F7",
             "#F7F7F7",
             "#F7F7F7",
             "#DEEFFF",
             "#F7F7F7",
             "#F7F7F7",
             "#F7F7F7",
             "#F7F7F7",
             "#F7F7F7",
             "#F7F7F7",
             "#DEEFFF",
             "#F7F7F7",
             "#F7F7F7",
             "#F7F7F7",
             "#F7F7F7",
             "#F7F7F7",
             "#F7F7F7",
             "#DEEFFF",
             "#F7F7F7",
             "#F7F7F7",
             "#F7F7F7",
             "#F7F7F7",
             "#F7F7F7",
             "#F7F7F7",
             "#E5E5E5"
            ],
            [
             "#FFFFFF",
             "#FFFFFF",
             "#FFFFFF",
             "#DEEFFF",
             "#DEEFFF",
             "#FFFFFF",
             "#FFFFFF",
             "#FFFFFF",
             "#FFFFFF",
             "#FFFFFF",
             "#DEEFFF",
             "#F7F7F7",
             "#FFFFFF",
             "#FFFFFF",
             "#FFFFFF",
             "#FFFFFF",
             "#FFFFFF",
             "#DEEFFF",
             "#FFFFFF",
             "#FFFFFF",
             "#FFFFFF",
             "#FFFFFF",
             "#FFFFFF",
             "#FFFFFF",
             "#DEEFFF",
             "#FFFFFF",
             "#FFFFFF",
             "#FFFFFF",
             "#FFFFFF",
             "#FFFFFF",
             "#FFFFFF",
             "#E5E5E5"
            ],
            [
             "#FFFFFF",
             "#FFFFFF",
             "#FFFFFF",
             "#DEEFFF",
             "#DEEFFF",
             "#FFFFFF",
             "#FFFFFF",
             "#FFFFFF",
             "#FFFFFF",
             "#FFFFFF",
             "#DEEFFF",
             "#F7F7F7",
             "#FFFFFF",
             "#FFFFFF",
             "#FFFFFF",
             "#FFFFFF",
             "#FFFFFF",
             "#DEEFFF",
             "#FFFFFF",
             "#FFFFFF",
             "#FFFFFF",
             "#FFFFFF",
             "#FFFFFF",
             "#FFFFFF",
             "#DEEFFF",
             "#FFFFFF",
             "#FFFFFF",
             "#FFFFFF",
             "#FFFFFF",
             "#FFFFFF",
             "#FFFFFF",
             "#E5E5E5"
            ],
            [
             "#F7F7F7",
             "#F7F7F7",
             "#F7F7F7",
             "#DEEFFF",
             "#DEEFFF",
             "#F7F7F7",
             "#F7F7F7",
             "#F7F7F7",
             "#F7F7F7",
             "#F7F7F7",
             "#DEEFFF",
             "#F7F7F7",
             "#F7F7F7",
             "#F7F7F7",
             "#F7F7F7",
             "#F7F7F7",
             "#F7F7F7",
             "#DEEFFF",
             "#F7F7F7",
             "#F7F7F7",
             "#F7F7F7",
             "#F7F7F7",
             "#F7F7F7",
             "#F7F7F7",
             "#DEEFFF",
             "#F7F7F7",
             "#F7F7F7",
             "#F7F7F7",
             "#F7F7F7",
             "#F7F7F7",
             "#F7F7F7",
             "#E5E5E5"
            ],
            [
             "#FFFFFF",
             "#FFFFFF",
             "#FFFFFF",
             "#DEEFFF",
             "#DEEFFF",
             "#FFFFFF",
             "#FFFFFF",
             "#FFFFFF",
             "#FFFFFF",
             "#FFFFFF",
             "#DEEFFF",
             "#F7F7F7",
             "#FFFFFF",
             "#FFFFFF",
             "#FFFFFF",
             "#FFFFFF",
             "#FFFFFF",
             "#DEEFFF",
             "#FFFFFF",
             "#FFFFFF",
             "#FFFFFF",
             "#FFFFFF",
             "#FFFFFF",
             "#FFFFFF",
             "#DEEFFF",
             "#FFFFFF",
             "#FFFFFF",
             "#FFFFFF",
             "#FFFFFF",
             "#FFFFFF",
             "#FFFFFF",
             "#E5E5E5"
            ],
            [
             "#FFFFFF",
             "#FFFFFF",
             "#FFFFFF",
             "#DEEFFF",
             "#DEEFFF",
             "#FFFFFF",
             "#FFFFFF",
             "#FFFFFF",
             "#FFFFFF",
             "#FFFFFF",
             "#DEEFFF",
             "#F7F7F7",
             "#FFFFFF",
             "#FFFFFF",
             "#FFFFFF",
             "#FFFFFF",
             "#FFFFFF",
             "#DEEFFF",
             "#FFFFFF",
             "#FFFFFF",
             "#FFFFFF",
             "#FFFFFF",
             "#FFFFFF",
             "#FFFFFF",
             "#DEEFFF",
             "#FFFFFF",
             "#FFFFFF",
             "#FFFFFF",
             "#FFFFFF",
             "#FFFFFF",
             "#FFFFFF",
             "#E5E5E5"
            ],
            [
             "#F7F7F7",
             "#F7F7F7",
             "#F7F7F7",
             "#DEEFFF",
             "#DEEFFF",
             "#F7F7F7",
             "#F7F7F7",
             "#F7F7F7",
             "#F7F7F7",
             "#F7F7F7",
             "#DEEFFF",
             "#F7F7F7",
             "#F7F7F7",
             "#F7F7F7",
             "#F7F7F7",
             "#F7F7F7",
             "#F7F7F7",
             "#DEEFFF",
             "#F7F7F7",
             "#F7F7F7",
             "#F7F7F7",
             "#F7F7F7",
             "#F7F7F7",
             "#F7F7F7",
             "#DEEFFF",
             "#F7F7F7",
             "#F7F7F7",
             "#F7F7F7",
             "#F7F7F7",
             "#F7F7F7",
             "#F7F7F7",
             "#E5E5E5"
            ],
            [
             "#FFFFFF",
             "#FFFFFF",
             "#FFFFFF",
             "#DEEFFF",
             "#DEEFFF",
             "#FFFFFF",
             "#FFFFFF",
             "#FFFFFF",
             "#FFFFFF",
             "#FFFFFF",
             "#DEEFFF",
             "#F7F7F7",
             "#FFFFFF",
             "#FFFFFF",
             "#FFFFFF",
             "#FFFFFF",
             "#FFFFFF",
             "#DEEFFF",
             "#FFFFFF",
             "#FFFFFF",
             "#FFFFFF",
             "#FFFFFF",
             "#FFFFFF",
             "#FFFFFF",
             "#DEEFFF",
             "#FFFFFF",
             "#FFFFFF",
             "#FFFFFF",
             "#FFFFFF",
             "#FFFFFF",
             "#FFFFFF",
             "#E5E5E5"
            ],
            [
             "#FFFFFF",
             "#FFFFFF",
             "#FFFFFF",
             "#DEEFFF",
             "#DEEFFF",
             "#FFFFFF",
             "#FFFFFF",
             "#FFFFFF",
             "#FFFFFF",
             "#FFFFFF",
             "#DEEFFF",
             "#F7F7F7",
             "#FFFFFF",
             "#FFFFFF",
             "#FFFFFF",
             "#FFFFFF",
             "#FFFFFF",
             "#DEEFFF",
             "#FFFFFF",
             "#FFFFFF",
             "#FFFFFF",
             "#FFFFFF",
             "#FFFFFF",
             "#FFFFFF",
             "#DEEFFF",
             "#FFFFFF",
             "#FFFFFF",
             "#FFFFFF",
             "#FFFFFF",
             "#FFFFFF",
             "#FFFFFF",
             "#E5E5E5"
            ],
            [
             "#FFFFFF",
             "#FFFFFF",
             "#FFFFFF",
             "#DEEFFF",
             "#DEEFFF",
             "#FFFFFF",
             "#FFFFFF",
             "#FFFFFF",
             "#FFFFFF",
             "#FFFFFF",
             "#DEEFFF",
             "#F7F7F7",
             "#FFFFFF",
             "#FFFFFF",
             "#FFFFFF",
             "#FFFFFF",
             "#FFFFFF",
             "#DEEFFF",
             "#FFFFFF",
             "#FFFFFF",
             "#FFFFFF",
             "#FFFFFF",
             "#FFFFFF",
             "#FFFFFF",
             "#DEEFFF",
             "#FFFFFF",
             "#FFFFFF",
             "#FFFFFF",
             "#FFFFFF",
             "#FFFFFF",
             "#FFFFFF",
             "#E5E5E5"
            ],
            [
             "#FFFFFF",
             "#FFFFFF",
             "#FFFFFF",
             "#DEEFFF",
             "#DEEFFF",
             "#FFFFFF",
             "#FFFFFF",
             "#FFFFFF",
             "#FFFFFF",
             "#FFFFFF",
             "#DEEFFF",
             "#F7F7F7",
             "#FFFFFF",
             "#FFFFFF",
             "#FFFFFF",
             "#FFFFFF",
             "#FFFFFF",
             "#DEEFFF",
             "#FFFFFF",
             "#FFFFFF",
             "#FFFFFF",
             "#FFFFFF",
             "#FFFFFF",
             "#FFFFFF",
             "#DEEFFF",
             "#FFFFFF",
             "#FFFFFF",
             "#FFFFFF",
             "#FFFFFF",
             "#FFFFFF",
             "#FFFFFF",
             "#E5E5E5"
            ],
            [
             "#FFFFFF",
             "#FFFFFF",
             "#FFFFFF",
             "#DEEFFF",
             "#DEEFFF",
             "#FFFFFF",
             "#FFFFFF",
             "#FFFFFF",
             "#FFFFFF",
             "#FFFFFF",
             "#DEEFFF",
             "#F7F7F7",
             "#FFFFFF",
             "#FFFFFF",
             "#FFFFFF",
             "#FFFFFF",
             "#FFFFFF",
             "#DEEFFF",
             "#FFFFFF",
             "#FFFFFF",
             "#FFFFFF",
             "#FFFFFF",
             "#FFFFFF",
             "#FFFFFF",
             "#DEEFFF",
             "#FFFFFF",
             "#FFFFFF",
             "#FFFFFF",
             "#FFFFFF",
             "#FFFFFF",
             "#FFFFFF",
             "#E5E5E5"
            ],
            [
             "#FFFFFF",
             "#FFFFFF",
             "#FFFFFF",
             "#DEEFFF",
             "#DEEFFF",
             "#FFFFFF",
             "#FFFFFF",
             "#FFFFFF",
             "#FFFFFF",
             "#FFFFFF",
             "#DEEFFF",
             "#F7F7F7",
             "#FFFFFF",
             "#FFFFFF",
             "#FFFFFF",
             "#FFFFFF",
             "#FFFFFF",
             "#DEEFFF",
             "#FFFFFF",
             "#FFFFFF",
             "#FFFFFF",
             "#FFFFFF",
             "#FFFFFF",
             "#FFFFFF",
             "#DEEFFF",
             "#FFFFFF",
             "#FFFFFF",
             "#FFFFFF",
             "#FFFFFF",
             "#FFFFFF",
             "#FFFFFF",
             "#E5E5E5"
            ],
            [
             "#FFFFFF",
             "#FFFFFF",
             "#FFFFFF",
             "#DEEFFF",
             "#DEEFFF",
             "#FFFFFF",
             "#FFFFFF",
             "#FFFFFF",
             "#FFFFFF",
             "#FFFFFF",
             "#DEEFFF",
             "#F7F7F7",
             "#FFFFFF",
             "#FFFFFF",
             "#FFFFFF",
             "#FFFFFF",
             "#FFFFFF",
             "#DEEFFF",
             "#FFFFFF",
             "#FFFFFF",
             "#FFFFFF",
             "#FFFFFF",
             "#FFFFFF",
             "#FFFFFF",
             "#DEEFFF",
             "#FFFFFF",
             "#FFFFFF",
             "#FFFFFF",
             "#FFFFFF",
             "#FFFFFF",
             "#FFFFFF",
             "#E5E5E5"
            ],
            [
             "#FFFFFF",
             "#FFFFFF",
             "#FFFFFF",
             "#DEEFFF",
             "#DEEFFF",
             "#FFFFFF",
             "#FFFFFF",
             "#FFFFFF",
             "#FFFFFF",
             "#FFFFFF",
             "#DEEFFF",
             "#F7F7F7",
             "#FFFFFF",
             "#FFFFFF",
             "#FFFFFF",
             "#FFFFFF",
             "#FFFFFF",
             "#DEEFFF",
             "#FFFFFF",
             "#FFFFFF",
             "#FFFFFF",
             "#FFFFFF",
             "#FFFFFF",
             "#FFFFFF",
             "#DEEFFF",
             "#FFFFFF",
             "#FFFFFF",
             "#FFFFFF",
             "#FFFFFF",
             "#FFFFFF",
             "#FFFFFF",
             "#E5E5E5"
            ],
            [
             "#FFFFFF",
             "#FFFFFF",
             "#FFFFFF",
             "#DEEFFF",
             "#DEEFFF",
             "#FFFFFF",
             "#FFFFFF",
             "#FFFFFF",
             "#FFFFFF",
             "#FFFFFF",
             "#DEEFFF",
             "#F7F7F7",
             "#FFFFFF",
             "#FFFFFF",
             "#FFFFFF",
             "#FFFFFF",
             "#FFFFFF",
             "#DEEFFF",
             "#FFFFFF",
             "#FFFFFF",
             "#FFFFFF",
             "#FFFFFF",
             "#FFFFFF",
             "#FFFFFF",
             "#DEEFFF",
             "#FFFFFF",
             "#FFFFFF",
             "#FFFFFF",
             "#FFFFFF",
             "#FFFFFF",
             "#FFFFFF",
             "#E5E5E5"
            ],
            [
             "#FFFFFF",
             "#FFFFFF",
             "#FFFFFF",
             "#DEEFFF",
             "#DEEFFF",
             "#FFFFFF",
             "#FFFFFF",
             "#FFFFFF",
             "#FFFFFF",
             "#FFFFFF",
             "#DEEFFF",
             "#F7F7F7",
             "#FFFFFF",
             "#FFFFFF",
             "#FFFFFF",
             "#FFFFFF",
             "#FFFFFF",
             "#DEEFFF",
             "#FFFFFF",
             "#FFFFFF",
             "#FFFFFF",
             "#FFFFFF",
             "#FFFFFF",
             "#FFFFFF",
             "#DEEFFF",
             "#FFFFFF",
             "#FFFFFF",
             "#FFFFFF",
             "#FFFFFF",
             "#FFFFFF",
             "#FFFFFF",
             "#E5E5E5"
            ],
            [
             "#FFFFFF",
             "#FFFFFF",
             "#FFFFFF",
             "#DEEFFF",
             "#DEEFFF",
             "#FFFFFF",
             "#FFFFFF",
             "#FFFFFF",
             "#FFFFFF",
             "#FFFFFF",
             "#DEEFFF",
             "#F7F7F7",
             "#FFFFFF",
             "#FFFFFF",
             "#FFFFFF",
             "#FFFFFF",
             "#FFFFFF",
             "#DEEFFF",
             "#FFFFFF",
             "#FFFFFF",
             "#FFFFFF",
             "#FFFFFF",
             "#FFFFFF",
             "#FFFFFF",
             "#DEEFFF",
             "#FFFFFF",
             "#FFFFFF",
             "#FFFFFF",
             "#FFFFFF",
             "#FFFFFF",
             "#FFFFFF",
             "#E5E5E5"
            ],
            [
             "#FFFFFF",
             "#FFFFFF",
             "#FFFFFF",
             "#DEEFFF",
             "#DEEFFF",
             "#FFFFFF",
             "#FFFFFF",
             "#FFFFFF",
             "#FFFFFF",
             "#FFFFFF",
             "#DEEFFF",
             "#F7F7F7",
             "#FFFFFF",
             "#FFFFFF",
             "#FFFFFF",
             "#FFFFFF",
             "#FFFFFF",
             "#DEEFFF",
             "#FFFFFF",
             "#FFFFFF",
             "#FFFFFF",
             "#FFFFFF",
             "#FFFFFF",
             "#FFFFFF",
             "#DEEFFF",
             "#FFFFFF",
             "#FFFFFF",
             "#FFFFFF",
             "#FFFFFF",
             "#FFFFFF",
             "#FFFFFF",
             "#E5E5E5"
            ]
           ]
          },
          "font": {
           "color": [
            "#000000",
            "#000000",
            "#118DFF",
            "#000000",
            "#FF0000",
            "#FF0000",
            "#E04392",
            "#000000",
            "#FF0000",
            "#E04392",
            "#000000",
            "#FF0000",
            [
             "#FF0000",
             "#FF0000",
             "#00B050",
             "#DEEFFF",
             "#DEEFFF",
             "#00B050",
             "#00B050",
             "#00B050",
             "#FF0000",
             "#00B050",
             "#DEEFFF",
             "#FF0000",
             "#FFFFFF",
             "#FFFFFF",
             "#FFFFFF",
             "#FFFFFF",
             "#FFFFFF",
             "#DEEFFF",
             "#FFFFFF",
             "#FFFFFF",
             "#FFFFFF",
             "#FFFFFF",
             "#FFFFFF",
             "#FFFFFF",
             "#DEEFFF",
             "#FFFFFF",
             "#FFFFFF",
             "#FFFFFF",
             "#FFFFFF",
             "#FFFFFF",
             "#FFFFFF",
             "#E5E5E5"
            ],
            [
             "#FF0000",
             "#FF0000",
             "#FF0000",
             "#DEEFFF",
             "#DEEFFF",
             "#00B050",
             "#00B050",
             "#00B050",
             "#00B050",
             "#00B050",
             "#DEEFFF",
             "#FF0000",
             "#FFFFFF",
             "#FFFFFF",
             "#FFFFFF",
             "#FFFFFF",
             "#FFFFFF",
             "#DEEFFF",
             "#FFFFFF",
             "#FFFFFF",
             "#FFFFFF",
             "#FFFFFF",
             "#FFFFFF",
             "#FFFFFF",
             "#DEEFFF",
             "#FFFFFF",
             "#FFFFFF",
             "#FFFFFF",
             "#FFFFFF",
             "#FFFFFF",
             "#FFFFFF",
             "#E5E5E5"
            ],
            [
             "#000000",
             "#000000",
             "#000000",
             "#DEEFFF",
             "#DEEFFF",
             "#000000",
             "#000000",
             "#000000",
             "#000000",
             "#000000",
             "#DEEFFF",
             "#000000",
             "#FFFFFF",
             "#FFFFFF",
             "#FFFFFF",
             "#FFFFFF",
             "#FFFFFF",
             "#DEEFFF",
             "#FFFFFF",
             "#FFFFFF",
             "#FFFFFF",
             "#FFFFFF",
             "#FFFFFF",
             "#FFFFFF",
             "#DEEFFF",
             "#FFFFFF",
             "#FFFFFF",
             "#FFFFFF",
             "#FFFFFF",
             "#FFFFFF",
             "#FFFFFF",
             "#118DFF"
            ]
           ],
           "family": "Segoe UI Semibold",
           "size": 13.185185185185185
          },
          "line": {
           "color": [
            [
             "#FFFFFF",
             "#FFFFFF",
             "#FFFFFF",
             "#DEEFFF",
             "#DEEFFF",
             "#FFFFFF",
             "#FFFFFF",
             "#FFFFFF",
             "#FFFFFF",
             "#FFFFFF",
             "#DEEFFF",
             "#F7F7F7",
             "#FFFFFF",
             "#FFFFFF",
             "#FFFFFF",
             "#FFFFFF",
             "#FFFFFF",
             "#DEEFFF",
             "#FFFFFF",
             "#FFFFFF",
             "#FFFFFF",
             "#FFFFFF",
             "#FFFFFF",
             "#FFFFFF",
             "#DEEFFF",
             "#FFFFFF",
             "#FFFFFF",
             "#FFFFFF",
             "#FFFFFF",
             "#FFFFFF",
             "#FFFFFF",
             "#E5E5E5"
            ],
            [
             "#FFFFFF",
             "#FFFFFF",
             "#FFFFFF",
             "#DEEFFF",
             "#DEEFFF",
             "#FFFFFF",
             "#FFFFFF",
             "#FFFFFF",
             "#FFFFFF",
             "#FFFFFF",
             "#DEEFFF",
             "#F7F7F7",
             "#FFFFFF",
             "#FFFFFF",
             "#FFFFFF",
             "#FFFFFF",
             "#FFFFFF",
             "#DEEFFF",
             "#FFFFFF",
             "#FFFFFF",
             "#FFFFFF",
             "#FFFFFF",
             "#FFFFFF",
             "#FFFFFF",
             "#DEEFFF",
             "#FFFFFF",
             "#FFFFFF",
             "#FFFFFF",
             "#FFFFFF",
             "#FFFFFF",
             "#FFFFFF",
             "#E5E5E5"
            ],
            [
             "#F7F7F7",
             "#F7F7F7",
             "#F7F7F7",
             "#DEEFFF",
             "#DEEFFF",
             "#F7F7F7",
             "#F7F7F7",
             "#F7F7F7",
             "#F7F7F7",
             "#F7F7F7",
             "#DEEFFF",
             "#F7F7F7",
             "#F7F7F7",
             "#F7F7F7",
             "#F7F7F7",
             "#F7F7F7",
             "#F7F7F7",
             "#DEEFFF",
             "#F7F7F7",
             "#F7F7F7",
             "#F7F7F7",
             "#F7F7F7",
             "#F7F7F7",
             "#F7F7F7",
             "#DEEFFF",
             "#F7F7F7",
             "#F7F7F7",
             "#F7F7F7",
             "#F7F7F7",
             "#F7F7F7",
             "#F7F7F7",
             "#E5E5E5"
            ],
            [
             "#F7F7F7",
             "#F7F7F7",
             "#F7F7F7",
             "#DEEFFF",
             "#DEEFFF",
             "#F7F7F7",
             "#F7F7F7",
             "#F7F7F7",
             "#F7F7F7",
             "#F7F7F7",
             "#DEEFFF",
             "#F7F7F7",
             "#F7F7F7",
             "#F7F7F7",
             "#F7F7F7",
             "#F7F7F7",
             "#F7F7F7",
             "#DEEFFF",
             "#F7F7F7",
             "#F7F7F7",
             "#F7F7F7",
             "#F7F7F7",
             "#F7F7F7",
             "#F7F7F7",
             "#DEEFFF",
             "#F7F7F7",
             "#F7F7F7",
             "#F7F7F7",
             "#F7F7F7",
             "#F7F7F7",
             "#F7F7F7",
             "#E5E5E5"
            ],
            [
             "#FFFFFF",
             "#FFFFFF",
             "#FFFFFF",
             "#DEEFFF",
             "#DEEFFF",
             "#FFFFFF",
             "#FFFFFF",
             "#FFFFFF",
             "#FFFFFF",
             "#FFFFFF",
             "#DEEFFF",
             "#F7F7F7",
             "#FFFFFF",
             "#FFFFFF",
             "#FFFFFF",
             "#FFFFFF",
             "#FFFFFF",
             "#DEEFFF",
             "#FFFFFF",
             "#FFFFFF",
             "#FFFFFF",
             "#FFFFFF",
             "#FFFFFF",
             "#FFFFFF",
             "#DEEFFF",
             "#FFFFFF",
             "#FFFFFF",
             "#FFFFFF",
             "#FFFFFF",
             "#FFFFFF",
             "#FFFFFF",
             "#E5E5E5"
            ],
            [
             "#FFFFFF",
             "#FFFFFF",
             "#FFFFFF",
             "#DEEFFF",
             "#DEEFFF",
             "#FFFFFF",
             "#FFFFFF",
             "#FFFFFF",
             "#FFFFFF",
             "#FFFFFF",
             "#DEEFFF",
             "#F7F7F7",
             "#FFFFFF",
             "#FFFFFF",
             "#FFFFFF",
             "#FFFFFF",
             "#FFFFFF",
             "#DEEFFF",
             "#FFFFFF",
             "#FFFFFF",
             "#FFFFFF",
             "#FFFFFF",
             "#FFFFFF",
             "#FFFFFF",
             "#DEEFFF",
             "#FFFFFF",
             "#FFFFFF",
             "#FFFFFF",
             "#FFFFFF",
             "#FFFFFF",
             "#FFFFFF",
             "#E5E5E5"
            ],
            [
             "#F7F7F7",
             "#F7F7F7",
             "#F7F7F7",
             "#DEEFFF",
             "#DEEFFF",
             "#F7F7F7",
             "#F7F7F7",
             "#F7F7F7",
             "#F7F7F7",
             "#F7F7F7",
             "#DEEFFF",
             "#F7F7F7",
             "#F7F7F7",
             "#F7F7F7",
             "#F7F7F7",
             "#F7F7F7",
             "#F7F7F7",
             "#DEEFFF",
             "#F7F7F7",
             "#F7F7F7",
             "#F7F7F7",
             "#F7F7F7",
             "#F7F7F7",
             "#F7F7F7",
             "#DEEFFF",
             "#F7F7F7",
             "#F7F7F7",
             "#F7F7F7",
             "#F7F7F7",
             "#F7F7F7",
             "#F7F7F7",
             "#E5E5E5"
            ],
            [
             "#FFFFFF",
             "#FFFFFF",
             "#FFFFFF",
             "#DEEFFF",
             "#DEEFFF",
             "#FFFFFF",
             "#FFFFFF",
             "#FFFFFF",
             "#FFFFFF",
             "#FFFFFF",
             "#DEEFFF",
             "#F7F7F7",
             "#FFFFFF",
             "#FFFFFF",
             "#FFFFFF",
             "#FFFFFF",
             "#FFFFFF",
             "#DEEFFF",
             "#FFFFFF",
             "#FFFFFF",
             "#FFFFFF",
             "#FFFFFF",
             "#FFFFFF",
             "#FFFFFF",
             "#DEEFFF",
             "#FFFFFF",
             "#FFFFFF",
             "#FFFFFF",
             "#FFFFFF",
             "#FFFFFF",
             "#FFFFFF",
             "#E5E5E5"
            ],
            [
             "#FFFFFF",
             "#FFFFFF",
             "#FFFFFF",
             "#DEEFFF",
             "#DEEFFF",
             "#FFFFFF",
             "#FFFFFF",
             "#FFFFFF",
             "#FFFFFF",
             "#FFFFFF",
             "#DEEFFF",
             "#F7F7F7",
             "#FFFFFF",
             "#FFFFFF",
             "#FFFFFF",
             "#FFFFFF",
             "#FFFFFF",
             "#DEEFFF",
             "#FFFFFF",
             "#FFFFFF",
             "#FFFFFF",
             "#FFFFFF",
             "#FFFFFF",
             "#FFFFFF",
             "#DEEFFF",
             "#FFFFFF",
             "#FFFFFF",
             "#FFFFFF",
             "#FFFFFF",
             "#FFFFFF",
             "#FFFFFF",
             "#E5E5E5"
            ],
            [
             "#F7F7F7",
             "#F7F7F7",
             "#F7F7F7",
             "#DEEFFF",
             "#DEEFFF",
             "#F7F7F7",
             "#F7F7F7",
             "#F7F7F7",
             "#F7F7F7",
             "#F7F7F7",
             "#DEEFFF",
             "#F7F7F7",
             "#F7F7F7",
             "#F7F7F7",
             "#F7F7F7",
             "#F7F7F7",
             "#F7F7F7",
             "#DEEFFF",
             "#F7F7F7",
             "#F7F7F7",
             "#F7F7F7",
             "#F7F7F7",
             "#F7F7F7",
             "#F7F7F7",
             "#DEEFFF",
             "#F7F7F7",
             "#F7F7F7",
             "#F7F7F7",
             "#F7F7F7",
             "#F7F7F7",
             "#F7F7F7",
             "#E5E5E5"
            ],
            [
             "#FFFFFF",
             "#FFFFFF",
             "#FFFFFF",
             "#DEEFFF",
             "#DEEFFF",
             "#FFFFFF",
             "#FFFFFF",
             "#FFFFFF",
             "#FFFFFF",
             "#FFFFFF",
             "#DEEFFF",
             "#F7F7F7",
             "#FFFFFF",
             "#FFFFFF",
             "#FFFFFF",
             "#FFFFFF",
             "#FFFFFF",
             "#DEEFFF",
             "#FFFFFF",
             "#FFFFFF",
             "#FFFFFF",
             "#FFFFFF",
             "#FFFFFF",
             "#FFFFFF",
             "#DEEFFF",
             "#FFFFFF",
             "#FFFFFF",
             "#FFFFFF",
             "#FFFFFF",
             "#FFFFFF",
             "#FFFFFF",
             "#E5E5E5"
            ],
            [
             "#FFFFFF",
             "#FFFFFF",
             "#FFFFFF",
             "#DEEFFF",
             "#DEEFFF",
             "#FFFFFF",
             "#FFFFFF",
             "#FFFFFF",
             "#FFFFFF",
             "#FFFFFF",
             "#DEEFFF",
             "#F7F7F7",
             "#FFFFFF",
             "#FFFFFF",
             "#FFFFFF",
             "#FFFFFF",
             "#FFFFFF",
             "#DEEFFF",
             "#FFFFFF",
             "#FFFFFF",
             "#FFFFFF",
             "#FFFFFF",
             "#FFFFFF",
             "#FFFFFF",
             "#DEEFFF",
             "#FFFFFF",
             "#FFFFFF",
             "#FFFFFF",
             "#FFFFFF",
             "#FFFFFF",
             "#FFFFFF",
             "#E5E5E5"
            ],
            [
             "#FFFFFF",
             "#FFFFFF",
             "#FFFFFF",
             "#DEEFFF",
             "#DEEFFF",
             "#FFFFFF",
             "#FFFFFF",
             "#FFFFFF",
             "#FFFFFF",
             "#FFFFFF",
             "#DEEFFF",
             "#F7F7F7",
             "#FFFFFF",
             "#FFFFFF",
             "#FFFFFF",
             "#FFFFFF",
             "#FFFFFF",
             "#DEEFFF",
             "#FFFFFF",
             "#FFFFFF",
             "#FFFFFF",
             "#FFFFFF",
             "#FFFFFF",
             "#FFFFFF",
             "#DEEFFF",
             "#FFFFFF",
             "#FFFFFF",
             "#FFFFFF",
             "#FFFFFF",
             "#FFFFFF",
             "#FFFFFF",
             "#E5E5E5"
            ],
            [
             "#FFFFFF",
             "#FFFFFF",
             "#FFFFFF",
             "#DEEFFF",
             "#DEEFFF",
             "#FFFFFF",
             "#FFFFFF",
             "#FFFFFF",
             "#FFFFFF",
             "#FFFFFF",
             "#DEEFFF",
             "#F7F7F7",
             "#FFFFFF",
             "#FFFFFF",
             "#FFFFFF",
             "#FFFFFF",
             "#FFFFFF",
             "#DEEFFF",
             "#FFFFFF",
             "#FFFFFF",
             "#FFFFFF",
             "#FFFFFF",
             "#FFFFFF",
             "#FFFFFF",
             "#DEEFFF",
             "#FFFFFF",
             "#FFFFFF",
             "#FFFFFF",
             "#FFFFFF",
             "#FFFFFF",
             "#FFFFFF",
             "#E5E5E5"
            ],
            [
             "#FFFFFF",
             "#FFFFFF",
             "#FFFFFF",
             "#DEEFFF",
             "#DEEFFF",
             "#FFFFFF",
             "#FFFFFF",
             "#FFFFFF",
             "#FFFFFF",
             "#FFFFFF",
             "#DEEFFF",
             "#F7F7F7",
             "#FFFFFF",
             "#FFFFFF",
             "#FFFFFF",
             "#FFFFFF",
             "#FFFFFF",
             "#DEEFFF",
             "#FFFFFF",
             "#FFFFFF",
             "#FFFFFF",
             "#FFFFFF",
             "#FFFFFF",
             "#FFFFFF",
             "#DEEFFF",
             "#FFFFFF",
             "#FFFFFF",
             "#FFFFFF",
             "#FFFFFF",
             "#FFFFFF",
             "#FFFFFF",
             "#E5E5E5"
            ],
            [
             "#FFFFFF",
             "#FFFFFF",
             "#FFFFFF",
             "#DEEFFF",
             "#DEEFFF",
             "#FFFFFF",
             "#FFFFFF",
             "#FFFFFF",
             "#FFFFFF",
             "#FFFFFF",
             "#DEEFFF",
             "#F7F7F7",
             "#FFFFFF",
             "#FFFFFF",
             "#FFFFFF",
             "#FFFFFF",
             "#FFFFFF",
             "#DEEFFF",
             "#FFFFFF",
             "#FFFFFF",
             "#FFFFFF",
             "#FFFFFF",
             "#FFFFFF",
             "#FFFFFF",
             "#DEEFFF",
             "#FFFFFF",
             "#FFFFFF",
             "#FFFFFF",
             "#FFFFFF",
             "#FFFFFF",
             "#FFFFFF",
             "#E5E5E5"
            ],
            [
             "#FFFFFF",
             "#FFFFFF",
             "#FFFFFF",
             "#DEEFFF",
             "#DEEFFF",
             "#FFFFFF",
             "#FFFFFF",
             "#FFFFFF",
             "#FFFFFF",
             "#FFFFFF",
             "#DEEFFF",
             "#F7F7F7",
             "#FFFFFF",
             "#FFFFFF",
             "#FFFFFF",
             "#FFFFFF",
             "#FFFFFF",
             "#DEEFFF",
             "#FFFFFF",
             "#FFFFFF",
             "#FFFFFF",
             "#FFFFFF",
             "#FFFFFF",
             "#FFFFFF",
             "#DEEFFF",
             "#FFFFFF",
             "#FFFFFF",
             "#FFFFFF",
             "#FFFFFF",
             "#FFFFFF",
             "#FFFFFF",
             "#E5E5E5"
            ],
            [
             "#FFFFFF",
             "#FFFFFF",
             "#FFFFFF",
             "#DEEFFF",
             "#DEEFFF",
             "#FFFFFF",
             "#FFFFFF",
             "#FFFFFF",
             "#FFFFFF",
             "#FFFFFF",
             "#DEEFFF",
             "#F7F7F7",
             "#FFFFFF",
             "#FFFFFF",
             "#FFFFFF",
             "#FFFFFF",
             "#FFFFFF",
             "#DEEFFF",
             "#FFFFFF",
             "#FFFFFF",
             "#FFFFFF",
             "#FFFFFF",
             "#FFFFFF",
             "#FFFFFF",
             "#DEEFFF",
             "#FFFFFF",
             "#FFFFFF",
             "#FFFFFF",
             "#FFFFFF",
             "#FFFFFF",
             "#FFFFFF",
             "#E5E5E5"
            ],
            [
             "#FFFFFF",
             "#FFFFFF",
             "#FFFFFF",
             "#DEEFFF",
             "#DEEFFF",
             "#FFFFFF",
             "#FFFFFF",
             "#FFFFFF",
             "#FFFFFF",
             "#FFFFFF",
             "#DEEFFF",
             "#F7F7F7",
             "#FFFFFF",
             "#FFFFFF",
             "#FFFFFF",
             "#FFFFFF",
             "#FFFFFF",
             "#DEEFFF",
             "#FFFFFF",
             "#FFFFFF",
             "#FFFFFF",
             "#FFFFFF",
             "#FFFFFF",
             "#FFFFFF",
             "#DEEFFF",
             "#FFFFFF",
             "#FFFFFF",
             "#FFFFFF",
             "#FFFFFF",
             "#FFFFFF",
             "#FFFFFF",
             "#E5E5E5"
            ],
            [
             "#FFFFFF",
             "#FFFFFF",
             "#FFFFFF",
             "#DEEFFF",
             "#DEEFFF",
             "#FFFFFF",
             "#FFFFFF",
             "#FFFFFF",
             "#FFFFFF",
             "#FFFFFF",
             "#DEEFFF",
             "#F7F7F7",
             "#FFFFFF",
             "#FFFFFF",
             "#FFFFFF",
             "#FFFFFF",
             "#FFFFFF",
             "#DEEFFF",
             "#FFFFFF",
             "#FFFFFF",
             "#FFFFFF",
             "#FFFFFF",
             "#FFFFFF",
             "#FFFFFF",
             "#DEEFFF",
             "#FFFFFF",
             "#FFFFFF",
             "#FFFFFF",
             "#FFFFFF",
             "#FFFFFF",
             "#FFFFFF",
             "#E5E5E5"
            ],
            [
             "#FFFFFF",
             "#FFFFFF",
             "#FFFFFF",
             "#DEEFFF",
             "#DEEFFF",
             "#FFFFFF",
             "#FFFFFF",
             "#FFFFFF",
             "#FFFFFF",
             "#FFFFFF",
             "#DEEFFF",
             "#F7F7F7",
             "#FFFFFF",
             "#FFFFFF",
             "#FFFFFF",
             "#FFFFFF",
             "#FFFFFF",
             "#DEEFFF",
             "#FFFFFF",
             "#FFFFFF",
             "#FFFFFF",
             "#FFFFFF",
             "#FFFFFF",
             "#FFFFFF",
             "#DEEFFF",
             "#FFFFFF",
             "#FFFFFF",
             "#FFFFFF",
             "#FFFFFF",
             "#FFFFFF",
             "#FFFFFF",
             "#E5E5E5"
            ],
            [
             "#FFFFFF",
             "#FFFFFF",
             "#FFFFFF",
             "#DEEFFF",
             "#DEEFFF",
             "#FFFFFF",
             "#FFFFFF",
             "#FFFFFF",
             "#FFFFFF",
             "#FFFFFF",
             "#DEEFFF",
             "#F7F7F7",
             "#FFFFFF",
             "#FFFFFF",
             "#FFFFFF",
             "#FFFFFF",
             "#FFFFFF",
             "#DEEFFF",
             "#FFFFFF",
             "#FFFFFF",
             "#FFFFFF",
             "#FFFFFF",
             "#FFFFFF",
             "#FFFFFF",
             "#DEEFFF",
             "#FFFFFF",
             "#FFFFFF",
             "#FFFFFF",
             "#FFFFFF",
             "#FFFFFF",
             "#FFFFFF",
             "#E5E5E5"
            ]
           ],
           "width": 2
          },
          "values": [
           [
            "01/12/2022, Quinta-feira",
            "02/12/2022, Sexta-feira",
            "03/12/2022, Sábado",
            "04/12/2022, Domingo",
            "05/12/2022, Segunda-feira",
            "06/12/2022, Terça-feira",
            "07/12/2022, Quarta-feira",
            "08/12/2022, Quinta-feira",
            "09/12/2022, Sexta-feira",
            "10/12/2022, Sábado",
            "11/12/2022, Domingo",
            "12/12/2022, Segunda-feira",
            "13/12/2022, Terça-feira",
            "14/12/2022, Quarta-feira",
            "15/12/2022, Quinta-feira",
            "16/12/2022, Sexta-feira",
            "17/12/2022, Sábado",
            "18/12/2022, Domingo",
            "19/12/2022, Segunda-feira",
            "20/12/2022, Terça-feira",
            "21/12/2022, Quarta-feira",
            "22/12/2022, Quinta-feira",
            "23/12/2022, Sexta-feira",
            "24/12/2022, Sábado",
            "25/12/2022, Domingo",
            "26/12/2022, Segunda-feira",
            "27/12/2022, Terça-feira",
            "28/12/2022, Quarta-feira",
            "29/12/2022, Quinta-feira",
            "30/12/2022, Sexta-feira",
            "31/12/2022, Sábado",
            "Total"
           ],
           [
            "R$ 126.190,48",
            "R$ 126.190,48",
            "R$ 70.000,00",
            "",
            "",
            "R$ 126.190,48",
            "R$ 126.190,48",
            "R$ 126.190,48",
            "R$ 88.333,33",
            "R$ 70.000,00",
            "",
            "R$ 126.190,48",
            "R$ 126.190,48",
            "R$ 126.190,48",
            "R$ 126.190,48",
            "R$ 126.190,48",
            "R$ 70.000,00",
            "",
            "R$ 126.190,48",
            "R$ 126.190,48",
            "R$ 126.190,48",
            "R$ 126.190,48",
            "R$ 126.190,48",
            "R$ 70.000,00",
            "",
            "R$ 126.190,48",
            "R$ 126.190,48",
            "R$ 126.190,48",
            "R$ 126.190,48",
            "R$ 126.190,48",
            "R$ 70.000,00",
            "R$ 2.962.142,86"
           ],
           [
            "R$ 105.989,58",
            "R$ 74.996,01",
            "R$ 76.997,35",
            "",
            "R$ 79.103,44",
            "R$ 149.776,39",
            "R$ 160.857,28",
            "R$ 147.805,18",
            "R$ 86.473,88",
            "R$ 88.687,99",
            "",
            "",
            "",
            "",
            "",
            "",
            "",
            "",
            "",
            "",
            "",
            "",
            "",
            "",
            "",
            "",
            "",
            "",
            "",
            "",
            "",
            "R$ 970.687,10"
           ],
           [
            "R$ 100.589,34",
            "R$ 71.180,61",
            "R$ 75.207,78",
            "",
            "R$ 74.343,02",
            "R$ 142.876,31",
            "R$ 155.183,43",
            "R$ 140.674,36",
            "R$ 80.962,41",
            "R$ 84.186,23",
            "",
            "",
            "",
            "",
            "",
            "",
            "",
            "",
            "",
            "",
            "",
            "",
            "",
            "",
            "",
            "",
            "",
            "",
            "",
            "",
            "",
            "R$ 925.203,49"
           ],
           [
            "R$ 5.400,24",
            "R$ 3.815,40",
            "R$ 1.789,57",
            "",
            "R$ 4.760,42",
            "R$ 6.900,08",
            "R$ 5.673,85",
            "R$ 7.130,82",
            "R$ 5.511,47",
            "R$ 4.501,76",
            "",
            "",
            "",
            "",
            "",
            "",
            "",
            "",
            "",
            "",
            "",
            "",
            "",
            "",
            "",
            "",
            "",
            "",
            "",
            "",
            "",
            "R$ 45.483,61"
           ],
           [
            "5,10%",
            "5,09%",
            "2,32%",
            "",
            "6,02%",
            "4,61%",
            "3,53%",
            "4,82%",
            "6,37%",
            "5,08%",
            "",
            "",
            "",
            "",
            "",
            "",
            "",
            "",
            "",
            "",
            "",
            "",
            "",
            "",
            "",
            "",
            "",
            "",
            "",
            "",
            "",
            "4,69%"
           ],
           [
            "R$ 93.359,60",
            "R$ 65.479,83",
            "R$ 66.610,97",
            "",
            "R$ 71.491,62",
            "R$ 134.251,42",
            "R$ 145.729,99",
            "R$ 132.437,06",
            "R$ 74.168,83",
            "R$ 73.419,92",
            "",
            "",
            "",
            "",
            "",
            "",
            "",
            "",
            "",
            "",
            "",
            "",
            "",
            "",
            "",
            "",
            "",
            "",
            "",
            "",
            "",
            "R$ 856.949,24"
           ],
           [
            "276",
            "176",
            "207",
            "",
            "202",
            "317",
            "338",
            "319",
            "224",
            "216",
            "",
            "",
            "",
            "",
            "",
            "",
            "",
            "",
            "",
            "",
            "",
            "",
            "",
            "",
            "",
            "",
            "",
            "",
            "",
            "",
            "",
            "753"
           ],
           [
            "4,85%",
            "5,70%",
            "2,57%",
            "",
            "5,43%",
            "4,27%",
            "3,68%",
            "5,03%",
            "6,90%",
            "5,20%",
            "",
            "",
            "",
            "",
            "",
            "",
            "",
            "",
            "",
            "",
            "",
            "",
            "",
            "",
            "",
            "",
            "",
            "",
            "",
            "",
            "",
            "4,73%"
           ],
           [
            "R$ 7.229,74",
            "R$ 5.700,78",
            "R$ 8.596,81",
            "",
            "R$ 2.851,40",
            "R$ 8.624,89",
            "R$ 9.453,44",
            "R$ 8.237,30",
            "R$ 6.793,58",
            "R$ 10.766,31",
            "",
            "",
            "",
            "",
            "",
            "",
            "",
            "",
            "",
            "",
            "",
            "",
            "",
            "",
            "",
            "",
            "",
            "",
            "",
            "",
            "",
            "R$ 68.254,25"
           ],
           [
            "47",
            "33",
            "59",
            "",
            "29",
            "49",
            "56",
            "52",
            "39",
            "73",
            "",
            "",
            "",
            "",
            "",
            "",
            "",
            "",
            "",
            "",
            "",
            "",
            "",
            "",
            "",
            "",
            "",
            "",
            "",
            "",
            "",
            "437"
           ],
           [
            "12,01%",
            "1,51%",
            "0,91%",
            "",
            "30,78%",
            "13,49%",
            "3,29%",
            "5,68%",
            "5,77%",
            "6,33%",
            "",
            "",
            "",
            "",
            "",
            "",
            "",
            "",
            "",
            "",
            "",
            "",
            "",
            "",
            "",
            "",
            "",
            "",
            "",
            "",
            "",
            "7,22%"
           ],
           [
            "79,71%",
            "56,41%",
            "107,44%",
            "",
            "",
            "113,22%",
            "122,98%",
            "111,48%",
            "91,66%",
            "120,27%",
            "",
            "",
            "",
            "",
            "",
            "",
            "",
            "",
            "",
            "",
            "",
            "",
            "",
            "",
            "",
            "",
            "",
            "",
            "",
            "",
            "",
            "31,23%"
           ],
           [
            "79,71%",
            "68,06%",
            "76,61%",
            "76,61%",
            "99,67%",
            "103,48%",
            "107,76%",
            "108,43%",
            "106,55%",
            "107,67%",
            "107,67%",
            "93,88%",
            "83,23%",
            "74,74%",
            "67,83%",
            "62,08%",
            "59,30%",
            "59,30%",
            "54,86%",
            "51,04%",
            "47,72%",
            "44,80%",
            "42,22%",
            "40,92%",
            "40,92%",
            "38,75%",
            "36,81%",
            "35,05%",
            "33,45%",
            "31,99%",
            "31,23%",
            "31,23%"
           ],
           [
            "R$ 2.361.192,42",
            "R$ 2.016.028,25",
            "R$ 2.269.313,10",
            "R$ 2.269.313,10",
            "R$ 2.952.401,37",
            "R$ 3.065.326,77",
            "R$ 3.192.093,08",
            "R$ 3.211.902,99",
            "R$ 3.156.288,31",
            "R$ 3.189.375,62",
            "R$ 3.189.375,62",
            "R$ 2.780.975,27",
            "R$ 2.465.293,77",
            "R$ 2.213.975,12",
            "R$ 2.009.156,33",
            "R$ 1.839.024,87",
            "R$ 1.756.517,11",
            "R$ 1.756.517,11",
            "R$ 1.625.082,12",
            "R$ 1.511.947,54",
            "R$ 1.413.540,05",
            "R$ 1.327.159,76",
            "R$ 1.250.728,74",
            "R$ 1.212.009,75",
            "R$ 1.212.009,75",
            "R$ 1.147.946,21",
            "R$ 1.090.315,11",
            "R$ 1.038.193,98",
            "R$ 990.828,67",
            "R$ 947.596,66",
            "R$ 925.203,49",
            ""
           ]
          ]
         },
         "columnwidth": [
          10.300925925925926,
          6.592592592592593,
          6.592592592592593,
          6.592592592592593,
          6.592592592592593,
          4.12037037037037,
          6.592592592592593,
          5.356481481481481,
          4.944444444444445,
          6.592592592592593,
          4.944444444444445,
          4.12037037037037,
          2.8842592592592595,
          2.8842592592592595,
          6.592592592592593
         ],
         "domain": {
          "y": [
           0,
           1
          ]
         },
         "header": {
          "align": "center",
          "fill": {
           "color": "#E5E5E5"
          },
          "font": {
           "color": [
            "#000000",
            "#000000",
            "#118DFF",
            "#000000",
            "#FF0000",
            "#FF0000",
            "#E04392",
            "#000000",
            "#FF0000",
            "#E04392",
            "#000000",
            "#FF0000",
            "#000000",
            "#000000",
            "#000000"
           ],
           "family": "Segoe UI Semibold",
           "size": 13.185185185185185
          },
          "line": {
           "color": "#E5E5E5",
           "width": 3
          },
          "values": [
           "Data",
           "Meta",
           "Venda\nSIAC",
           "Venda\nLíquida",
           "Devolução",
           "%\nDev",
           "Venda\nCNPJ",
           "Clientes\nCNPJ",
           "% Dev\nCNPJ",
           "Venda\nCPF",
           "Clientes\nCPF",
           "% Dev\nCPF",
           "%\nDia",
           "%\nMês",
           "Projeção\nmensal"
          ]
         },
         "type": "table"
        }
       ],
       "layout": {
        "height": 890,
        "template": {
         "data": {
          "bar": [
           {
            "error_x": {
             "color": "#2a3f5f"
            },
            "error_y": {
             "color": "#2a3f5f"
            },
            "marker": {
             "line": {
              "color": "#E5ECF6",
              "width": 0.5
             },
             "pattern": {
              "fillmode": "overlay",
              "size": 10,
              "solidity": 0.2
             }
            },
            "type": "bar"
           }
          ],
          "barpolar": [
           {
            "marker": {
             "line": {
              "color": "#E5ECF6",
              "width": 0.5
             },
             "pattern": {
              "fillmode": "overlay",
              "size": 10,
              "solidity": 0.2
             }
            },
            "type": "barpolar"
           }
          ],
          "carpet": [
           {
            "aaxis": {
             "endlinecolor": "#2a3f5f",
             "gridcolor": "white",
             "linecolor": "white",
             "minorgridcolor": "white",
             "startlinecolor": "#2a3f5f"
            },
            "baxis": {
             "endlinecolor": "#2a3f5f",
             "gridcolor": "white",
             "linecolor": "white",
             "minorgridcolor": "white",
             "startlinecolor": "#2a3f5f"
            },
            "type": "carpet"
           }
          ],
          "choropleth": [
           {
            "colorbar": {
             "outlinewidth": 0,
             "ticks": ""
            },
            "type": "choropleth"
           }
          ],
          "contour": [
           {
            "colorbar": {
             "outlinewidth": 0,
             "ticks": ""
            },
            "colorscale": [
             [
              0,
              "#0d0887"
             ],
             [
              0.1111111111111111,
              "#46039f"
             ],
             [
              0.2222222222222222,
              "#7201a8"
             ],
             [
              0.3333333333333333,
              "#9c179e"
             ],
             [
              0.4444444444444444,
              "#bd3786"
             ],
             [
              0.5555555555555556,
              "#d8576b"
             ],
             [
              0.6666666666666666,
              "#ed7953"
             ],
             [
              0.7777777777777778,
              "#fb9f3a"
             ],
             [
              0.8888888888888888,
              "#fdca26"
             ],
             [
              1,
              "#f0f921"
             ]
            ],
            "type": "contour"
           }
          ],
          "contourcarpet": [
           {
            "colorbar": {
             "outlinewidth": 0,
             "ticks": ""
            },
            "type": "contourcarpet"
           }
          ],
          "heatmap": [
           {
            "colorbar": {
             "outlinewidth": 0,
             "ticks": ""
            },
            "colorscale": [
             [
              0,
              "#0d0887"
             ],
             [
              0.1111111111111111,
              "#46039f"
             ],
             [
              0.2222222222222222,
              "#7201a8"
             ],
             [
              0.3333333333333333,
              "#9c179e"
             ],
             [
              0.4444444444444444,
              "#bd3786"
             ],
             [
              0.5555555555555556,
              "#d8576b"
             ],
             [
              0.6666666666666666,
              "#ed7953"
             ],
             [
              0.7777777777777778,
              "#fb9f3a"
             ],
             [
              0.8888888888888888,
              "#fdca26"
             ],
             [
              1,
              "#f0f921"
             ]
            ],
            "type": "heatmap"
           }
          ],
          "heatmapgl": [
           {
            "colorbar": {
             "outlinewidth": 0,
             "ticks": ""
            },
            "colorscale": [
             [
              0,
              "#0d0887"
             ],
             [
              0.1111111111111111,
              "#46039f"
             ],
             [
              0.2222222222222222,
              "#7201a8"
             ],
             [
              0.3333333333333333,
              "#9c179e"
             ],
             [
              0.4444444444444444,
              "#bd3786"
             ],
             [
              0.5555555555555556,
              "#d8576b"
             ],
             [
              0.6666666666666666,
              "#ed7953"
             ],
             [
              0.7777777777777778,
              "#fb9f3a"
             ],
             [
              0.8888888888888888,
              "#fdca26"
             ],
             [
              1,
              "#f0f921"
             ]
            ],
            "type": "heatmapgl"
           }
          ],
          "histogram": [
           {
            "marker": {
             "pattern": {
              "fillmode": "overlay",
              "size": 10,
              "solidity": 0.2
             }
            },
            "type": "histogram"
           }
          ],
          "histogram2d": [
           {
            "colorbar": {
             "outlinewidth": 0,
             "ticks": ""
            },
            "colorscale": [
             [
              0,
              "#0d0887"
             ],
             [
              0.1111111111111111,
              "#46039f"
             ],
             [
              0.2222222222222222,
              "#7201a8"
             ],
             [
              0.3333333333333333,
              "#9c179e"
             ],
             [
              0.4444444444444444,
              "#bd3786"
             ],
             [
              0.5555555555555556,
              "#d8576b"
             ],
             [
              0.6666666666666666,
              "#ed7953"
             ],
             [
              0.7777777777777778,
              "#fb9f3a"
             ],
             [
              0.8888888888888888,
              "#fdca26"
             ],
             [
              1,
              "#f0f921"
             ]
            ],
            "type": "histogram2d"
           }
          ],
          "histogram2dcontour": [
           {
            "colorbar": {
             "outlinewidth": 0,
             "ticks": ""
            },
            "colorscale": [
             [
              0,
              "#0d0887"
             ],
             [
              0.1111111111111111,
              "#46039f"
             ],
             [
              0.2222222222222222,
              "#7201a8"
             ],
             [
              0.3333333333333333,
              "#9c179e"
             ],
             [
              0.4444444444444444,
              "#bd3786"
             ],
             [
              0.5555555555555556,
              "#d8576b"
             ],
             [
              0.6666666666666666,
              "#ed7953"
             ],
             [
              0.7777777777777778,
              "#fb9f3a"
             ],
             [
              0.8888888888888888,
              "#fdca26"
             ],
             [
              1,
              "#f0f921"
             ]
            ],
            "type": "histogram2dcontour"
           }
          ],
          "mesh3d": [
           {
            "colorbar": {
             "outlinewidth": 0,
             "ticks": ""
            },
            "type": "mesh3d"
           }
          ],
          "parcoords": [
           {
            "line": {
             "colorbar": {
              "outlinewidth": 0,
              "ticks": ""
             }
            },
            "type": "parcoords"
           }
          ],
          "pie": [
           {
            "automargin": true,
            "type": "pie"
           }
          ],
          "scatter": [
           {
            "fillpattern": {
             "fillmode": "overlay",
             "size": 10,
             "solidity": 0.2
            },
            "type": "scatter"
           }
          ],
          "scatter3d": [
           {
            "line": {
             "colorbar": {
              "outlinewidth": 0,
              "ticks": ""
             }
            },
            "marker": {
             "colorbar": {
              "outlinewidth": 0,
              "ticks": ""
             }
            },
            "type": "scatter3d"
           }
          ],
          "scattercarpet": [
           {
            "marker": {
             "colorbar": {
              "outlinewidth": 0,
              "ticks": ""
             }
            },
            "type": "scattercarpet"
           }
          ],
          "scattergeo": [
           {
            "marker": {
             "colorbar": {
              "outlinewidth": 0,
              "ticks": ""
             }
            },
            "type": "scattergeo"
           }
          ],
          "scattergl": [
           {
            "marker": {
             "colorbar": {
              "outlinewidth": 0,
              "ticks": ""
             }
            },
            "type": "scattergl"
           }
          ],
          "scattermapbox": [
           {
            "marker": {
             "colorbar": {
              "outlinewidth": 0,
              "ticks": ""
             }
            },
            "type": "scattermapbox"
           }
          ],
          "scatterpolar": [
           {
            "marker": {
             "colorbar": {
              "outlinewidth": 0,
              "ticks": ""
             }
            },
            "type": "scatterpolar"
           }
          ],
          "scatterpolargl": [
           {
            "marker": {
             "colorbar": {
              "outlinewidth": 0,
              "ticks": ""
             }
            },
            "type": "scatterpolargl"
           }
          ],
          "scatterternary": [
           {
            "marker": {
             "colorbar": {
              "outlinewidth": 0,
              "ticks": ""
             }
            },
            "type": "scatterternary"
           }
          ],
          "surface": [
           {
            "colorbar": {
             "outlinewidth": 0,
             "ticks": ""
            },
            "colorscale": [
             [
              0,
              "#0d0887"
             ],
             [
              0.1111111111111111,
              "#46039f"
             ],
             [
              0.2222222222222222,
              "#7201a8"
             ],
             [
              0.3333333333333333,
              "#9c179e"
             ],
             [
              0.4444444444444444,
              "#bd3786"
             ],
             [
              0.5555555555555556,
              "#d8576b"
             ],
             [
              0.6666666666666666,
              "#ed7953"
             ],
             [
              0.7777777777777778,
              "#fb9f3a"
             ],
             [
              0.8888888888888888,
              "#fdca26"
             ],
             [
              1,
              "#f0f921"
             ]
            ],
            "type": "surface"
           }
          ],
          "table": [
           {
            "cells": {
             "fill": {
              "color": "#EBF0F8"
             },
             "line": {
              "color": "white"
             }
            },
            "header": {
             "fill": {
              "color": "#C8D4E3"
             },
             "line": {
              "color": "white"
             }
            },
            "type": "table"
           }
          ]
         },
         "layout": {
          "annotationdefaults": {
           "arrowcolor": "#2a3f5f",
           "arrowhead": 0,
           "arrowwidth": 1
          },
          "autotypenumbers": "strict",
          "coloraxis": {
           "colorbar": {
            "outlinewidth": 0,
            "ticks": ""
           }
          },
          "colorscale": {
           "diverging": [
            [
             0,
             "#8e0152"
            ],
            [
             0.1,
             "#c51b7d"
            ],
            [
             0.2,
             "#de77ae"
            ],
            [
             0.3,
             "#f1b6da"
            ],
            [
             0.4,
             "#fde0ef"
            ],
            [
             0.5,
             "#f7f7f7"
            ],
            [
             0.6,
             "#e6f5d0"
            ],
            [
             0.7,
             "#b8e186"
            ],
            [
             0.8,
             "#7fbc41"
            ],
            [
             0.9,
             "#4d9221"
            ],
            [
             1,
             "#276419"
            ]
           ],
           "sequential": [
            [
             0,
             "#0d0887"
            ],
            [
             0.1111111111111111,
             "#46039f"
            ],
            [
             0.2222222222222222,
             "#7201a8"
            ],
            [
             0.3333333333333333,
             "#9c179e"
            ],
            [
             0.4444444444444444,
             "#bd3786"
            ],
            [
             0.5555555555555556,
             "#d8576b"
            ],
            [
             0.6666666666666666,
             "#ed7953"
            ],
            [
             0.7777777777777778,
             "#fb9f3a"
            ],
            [
             0.8888888888888888,
             "#fdca26"
            ],
            [
             1,
             "#f0f921"
            ]
           ],
           "sequentialminus": [
            [
             0,
             "#0d0887"
            ],
            [
             0.1111111111111111,
             "#46039f"
            ],
            [
             0.2222222222222222,
             "#7201a8"
            ],
            [
             0.3333333333333333,
             "#9c179e"
            ],
            [
             0.4444444444444444,
             "#bd3786"
            ],
            [
             0.5555555555555556,
             "#d8576b"
            ],
            [
             0.6666666666666666,
             "#ed7953"
            ],
            [
             0.7777777777777778,
             "#fb9f3a"
            ],
            [
             0.8888888888888888,
             "#fdca26"
            ],
            [
             1,
             "#f0f921"
            ]
           ]
          },
          "colorway": [
           "#636efa",
           "#EF553B",
           "#00cc96",
           "#ab63fa",
           "#FFA15A",
           "#19d3f3",
           "#FF6692",
           "#B6E880",
           "#FF97FF",
           "#FECB52"
          ],
          "font": {
           "color": "#2a3f5f"
          },
          "geo": {
           "bgcolor": "white",
           "lakecolor": "white",
           "landcolor": "#E5ECF6",
           "showlakes": true,
           "showland": true,
           "subunitcolor": "white"
          },
          "hoverlabel": {
           "align": "left"
          },
          "hovermode": "closest",
          "mapbox": {
           "style": "light"
          },
          "paper_bgcolor": "white",
          "plot_bgcolor": "#E5ECF6",
          "polar": {
           "angularaxis": {
            "gridcolor": "white",
            "linecolor": "white",
            "ticks": ""
           },
           "bgcolor": "#E5ECF6",
           "radialaxis": {
            "gridcolor": "white",
            "linecolor": "white",
            "ticks": ""
           }
          },
          "scene": {
           "xaxis": {
            "backgroundcolor": "#E5ECF6",
            "gridcolor": "white",
            "gridwidth": 2,
            "linecolor": "white",
            "showbackground": true,
            "ticks": "",
            "zerolinecolor": "white"
           },
           "yaxis": {
            "backgroundcolor": "#E5ECF6",
            "gridcolor": "white",
            "gridwidth": 2,
            "linecolor": "white",
            "showbackground": true,
            "ticks": "",
            "zerolinecolor": "white"
           },
           "zaxis": {
            "backgroundcolor": "#E5ECF6",
            "gridcolor": "white",
            "gridwidth": 2,
            "linecolor": "white",
            "showbackground": true,
            "ticks": "",
            "zerolinecolor": "white"
           }
          },
          "shapedefaults": {
           "line": {
            "color": "#2a3f5f"
           }
          },
          "ternary": {
           "aaxis": {
            "gridcolor": "white",
            "linecolor": "white",
            "ticks": ""
           },
           "baxis": {
            "gridcolor": "white",
            "linecolor": "white",
            "ticks": ""
           },
           "bgcolor": "#E5ECF6",
           "caxis": {
            "gridcolor": "white",
            "linecolor": "white",
            "ticks": ""
           }
          },
          "title": {
           "x": 0.05
          },
          "xaxis": {
           "automargin": true,
           "gridcolor": "white",
           "linecolor": "white",
           "ticks": "",
           "title": {
            "standoff": 15
           },
           "zerolinecolor": "white",
           "zerolinewidth": 2
          },
          "yaxis": {
           "automargin": true,
           "gridcolor": "white",
           "linecolor": "white",
           "ticks": "",
           "title": {
            "standoff": 15
           },
           "zerolinecolor": "white",
           "zerolinewidth": 2
          }
         }
        },
        "title": {
         "font": {
          "color": "#008080",
          "family": "Jost",
          "size": 24.72222222222222
         },
         "text": "◙◙◙◙◙◙◙◙◙◙ 🡆 CEILÂNDIA 🡄 ◙◙◙◙◙◙◙◙◙◙◙◙◙◙◙◙◙◙◙◙◙◙◙◙◙◙◙◙◙◙◙◙◙◙◙◙◙◙◙◙◙◙◙◙◙◙◙◙◙◙◙◙◙◙◙◙◙◙◙◙◙◙◙◙◙◙◙◙◙◙◙◙◙◙◙◙ ⒸⒺⒾⓁⒶⓃⒹⒾⒶ ◙◙◙◙◙◙◙◙◙◙",
         "x": 0.5,
         "y": 0.95,
         "yanchor": "bottom"
        },
        "width": 2060
       }
      }
     },
     "metadata": {},
     "output_type": "display_data"
    },
    {
     "name": "stdout",
     "output_type": "stream",
     "text": [
      "TESTE 04 TABLE.png\n",
      "\n",
      "12-12-2022 PrimeiraFoto - https://chat.whatsapp.com/LK4LDajkH52BNydoLGGD2d\n",
      "12-12-2022 API - https://chat.whatsapp.com/EBLX0fxYfvuHL7jZ9CZECQ\n",
      "12-12-2022 Teste Python - https://chat.whatsapp.com/I4y7EAVfns629NvfoLUtGI\n",
      "\n",
      "• '05' GAMA\n",
      "\n"
     ]
    },
    {
     "name": "stderr",
     "output_type": "stream",
     "text": [
      "C:\\Users\\admin\\AppData\\Local\\Temp\\ipykernel_19088\\3465617909.py:86: RuntimeWarning:\n",
      "\n",
      "divide by zero encountered in double_scalars\n",
      "\n"
     ]
    },
    {
     "data": {
      "application/vnd.plotly.v1+json": {
       "config": {
        "plotlyServerURL": "https://plot.ly"
       },
       "data": [
        {
         "cells": {
          "align": [
           "left",
           "center"
          ],
          "fill": {
           "color": [
            [
             "#FFFFFF",
             "#FFFFFF",
             "#FFFFFF",
             "#DEEFFF",
             "#DEEFFF",
             "#FFFFFF",
             "#FFFFFF",
             "#FFFFFF",
             "#FFFFFF",
             "#FFFFFF",
             "#DEEFFF",
             "#F7F7F7",
             "#FFFFFF",
             "#FFFFFF",
             "#FFFFFF",
             "#FFFFFF",
             "#FFFFFF",
             "#DEEFFF",
             "#FFFFFF",
             "#FFFFFF",
             "#FFFFFF",
             "#FFFFFF",
             "#FFFFFF",
             "#FFFFFF",
             "#DEEFFF",
             "#FFFFFF",
             "#FFFFFF",
             "#FFFFFF",
             "#FFFFFF",
             "#FFFFFF",
             "#FFFFFF",
             "#E5E5E5"
            ],
            [
             "#FFFFFF",
             "#FFFFFF",
             "#FFFFFF",
             "#DEEFFF",
             "#DEEFFF",
             "#FFFFFF",
             "#FFFFFF",
             "#FFFFFF",
             "#FFFFFF",
             "#FFFFFF",
             "#DEEFFF",
             "#F7F7F7",
             "#FFFFFF",
             "#FFFFFF",
             "#FFFFFF",
             "#FFFFFF",
             "#FFFFFF",
             "#DEEFFF",
             "#FFFFFF",
             "#FFFFFF",
             "#FFFFFF",
             "#FFFFFF",
             "#FFFFFF",
             "#FFFFFF",
             "#DEEFFF",
             "#FFFFFF",
             "#FFFFFF",
             "#FFFFFF",
             "#FFFFFF",
             "#FFFFFF",
             "#FFFFFF",
             "#E5E5E5"
            ],
            [
             "#F7F7F7",
             "#F7F7F7",
             "#F7F7F7",
             "#DEEFFF",
             "#DEEFFF",
             "#F7F7F7",
             "#F7F7F7",
             "#F7F7F7",
             "#F7F7F7",
             "#F7F7F7",
             "#DEEFFF",
             "#F7F7F7",
             "#F7F7F7",
             "#F7F7F7",
             "#F7F7F7",
             "#F7F7F7",
             "#F7F7F7",
             "#DEEFFF",
             "#F7F7F7",
             "#F7F7F7",
             "#F7F7F7",
             "#F7F7F7",
             "#F7F7F7",
             "#F7F7F7",
             "#DEEFFF",
             "#F7F7F7",
             "#F7F7F7",
             "#F7F7F7",
             "#F7F7F7",
             "#F7F7F7",
             "#F7F7F7",
             "#E5E5E5"
            ],
            [
             "#F7F7F7",
             "#F7F7F7",
             "#F7F7F7",
             "#DEEFFF",
             "#DEEFFF",
             "#F7F7F7",
             "#F7F7F7",
             "#F7F7F7",
             "#F7F7F7",
             "#F7F7F7",
             "#DEEFFF",
             "#F7F7F7",
             "#F7F7F7",
             "#F7F7F7",
             "#F7F7F7",
             "#F7F7F7",
             "#F7F7F7",
             "#DEEFFF",
             "#F7F7F7",
             "#F7F7F7",
             "#F7F7F7",
             "#F7F7F7",
             "#F7F7F7",
             "#F7F7F7",
             "#DEEFFF",
             "#F7F7F7",
             "#F7F7F7",
             "#F7F7F7",
             "#F7F7F7",
             "#F7F7F7",
             "#F7F7F7",
             "#E5E5E5"
            ],
            [
             "#FFFFFF",
             "#FFFFFF",
             "#FFFFFF",
             "#DEEFFF",
             "#DEEFFF",
             "#FFFFFF",
             "#FFFFFF",
             "#FFFFFF",
             "#FFFFFF",
             "#FFFFFF",
             "#DEEFFF",
             "#F7F7F7",
             "#FFFFFF",
             "#FFFFFF",
             "#FFFFFF",
             "#FFFFFF",
             "#FFFFFF",
             "#DEEFFF",
             "#FFFFFF",
             "#FFFFFF",
             "#FFFFFF",
             "#FFFFFF",
             "#FFFFFF",
             "#FFFFFF",
             "#DEEFFF",
             "#FFFFFF",
             "#FFFFFF",
             "#FFFFFF",
             "#FFFFFF",
             "#FFFFFF",
             "#FFFFFF",
             "#E5E5E5"
            ],
            [
             "#FFFFFF",
             "#FFFFFF",
             "#FFFFFF",
             "#DEEFFF",
             "#DEEFFF",
             "#FFFFFF",
             "#FFFFFF",
             "#FFFFFF",
             "#FFFFFF",
             "#FFFFFF",
             "#DEEFFF",
             "#F7F7F7",
             "#FFFFFF",
             "#FFFFFF",
             "#FFFFFF",
             "#FFFFFF",
             "#FFFFFF",
             "#DEEFFF",
             "#FFFFFF",
             "#FFFFFF",
             "#FFFFFF",
             "#FFFFFF",
             "#FFFFFF",
             "#FFFFFF",
             "#DEEFFF",
             "#FFFFFF",
             "#FFFFFF",
             "#FFFFFF",
             "#FFFFFF",
             "#FFFFFF",
             "#FFFFFF",
             "#E5E5E5"
            ],
            [
             "#F7F7F7",
             "#F7F7F7",
             "#F7F7F7",
             "#DEEFFF",
             "#DEEFFF",
             "#F7F7F7",
             "#F7F7F7",
             "#F7F7F7",
             "#F7F7F7",
             "#F7F7F7",
             "#DEEFFF",
             "#F7F7F7",
             "#F7F7F7",
             "#F7F7F7",
             "#F7F7F7",
             "#F7F7F7",
             "#F7F7F7",
             "#DEEFFF",
             "#F7F7F7",
             "#F7F7F7",
             "#F7F7F7",
             "#F7F7F7",
             "#F7F7F7",
             "#F7F7F7",
             "#DEEFFF",
             "#F7F7F7",
             "#F7F7F7",
             "#F7F7F7",
             "#F7F7F7",
             "#F7F7F7",
             "#F7F7F7",
             "#E5E5E5"
            ],
            [
             "#FFFFFF",
             "#FFFFFF",
             "#FFFFFF",
             "#DEEFFF",
             "#DEEFFF",
             "#FFFFFF",
             "#FFFFFF",
             "#FFFFFF",
             "#FFFFFF",
             "#FFFFFF",
             "#DEEFFF",
             "#F7F7F7",
             "#FFFFFF",
             "#FFFFFF",
             "#FFFFFF",
             "#FFFFFF",
             "#FFFFFF",
             "#DEEFFF",
             "#FFFFFF",
             "#FFFFFF",
             "#FFFFFF",
             "#FFFFFF",
             "#FFFFFF",
             "#FFFFFF",
             "#DEEFFF",
             "#FFFFFF",
             "#FFFFFF",
             "#FFFFFF",
             "#FFFFFF",
             "#FFFFFF",
             "#FFFFFF",
             "#E5E5E5"
            ],
            [
             "#FFFFFF",
             "#FFFFFF",
             "#FFFFFF",
             "#DEEFFF",
             "#DEEFFF",
             "#FFFFFF",
             "#FFFFFF",
             "#FFFFFF",
             "#FFFFFF",
             "#FFFFFF",
             "#DEEFFF",
             "#F7F7F7",
             "#FFFFFF",
             "#FFFFFF",
             "#FFFFFF",
             "#FFFFFF",
             "#FFFFFF",
             "#DEEFFF",
             "#FFFFFF",
             "#FFFFFF",
             "#FFFFFF",
             "#FFFFFF",
             "#FFFFFF",
             "#FFFFFF",
             "#DEEFFF",
             "#FFFFFF",
             "#FFFFFF",
             "#FFFFFF",
             "#FFFFFF",
             "#FFFFFF",
             "#FFFFFF",
             "#E5E5E5"
            ],
            [
             "#F7F7F7",
             "#F7F7F7",
             "#F7F7F7",
             "#DEEFFF",
             "#DEEFFF",
             "#F7F7F7",
             "#F7F7F7",
             "#F7F7F7",
             "#F7F7F7",
             "#F7F7F7",
             "#DEEFFF",
             "#F7F7F7",
             "#F7F7F7",
             "#F7F7F7",
             "#F7F7F7",
             "#F7F7F7",
             "#F7F7F7",
             "#DEEFFF",
             "#F7F7F7",
             "#F7F7F7",
             "#F7F7F7",
             "#F7F7F7",
             "#F7F7F7",
             "#F7F7F7",
             "#DEEFFF",
             "#F7F7F7",
             "#F7F7F7",
             "#F7F7F7",
             "#F7F7F7",
             "#F7F7F7",
             "#F7F7F7",
             "#E5E5E5"
            ],
            [
             "#FFFFFF",
             "#FFFFFF",
             "#FFFFFF",
             "#DEEFFF",
             "#DEEFFF",
             "#FFFFFF",
             "#FFFFFF",
             "#FFFFFF",
             "#FFFFFF",
             "#FFFFFF",
             "#DEEFFF",
             "#F7F7F7",
             "#FFFFFF",
             "#FFFFFF",
             "#FFFFFF",
             "#FFFFFF",
             "#FFFFFF",
             "#DEEFFF",
             "#FFFFFF",
             "#FFFFFF",
             "#FFFFFF",
             "#FFFFFF",
             "#FFFFFF",
             "#FFFFFF",
             "#DEEFFF",
             "#FFFFFF",
             "#FFFFFF",
             "#FFFFFF",
             "#FFFFFF",
             "#FFFFFF",
             "#FFFFFF",
             "#E5E5E5"
            ],
            [
             "#FFFFFF",
             "#FFFFFF",
             "#FFFFFF",
             "#DEEFFF",
             "#DEEFFF",
             "#FFFFFF",
             "#FFFFFF",
             "#FFFFFF",
             "#FFFFFF",
             "#FFFFFF",
             "#DEEFFF",
             "#F7F7F7",
             "#FFFFFF",
             "#FFFFFF",
             "#FFFFFF",
             "#FFFFFF",
             "#FFFFFF",
             "#DEEFFF",
             "#FFFFFF",
             "#FFFFFF",
             "#FFFFFF",
             "#FFFFFF",
             "#FFFFFF",
             "#FFFFFF",
             "#DEEFFF",
             "#FFFFFF",
             "#FFFFFF",
             "#FFFFFF",
             "#FFFFFF",
             "#FFFFFF",
             "#FFFFFF",
             "#E5E5E5"
            ],
            [
             "#FFFFFF",
             "#FFFFFF",
             "#FFFFFF",
             "#DEEFFF",
             "#DEEFFF",
             "#FFFFFF",
             "#FFFFFF",
             "#FFFFFF",
             "#FFFFFF",
             "#FFFFFF",
             "#DEEFFF",
             "#F7F7F7",
             "#FFFFFF",
             "#FFFFFF",
             "#FFFFFF",
             "#FFFFFF",
             "#FFFFFF",
             "#DEEFFF",
             "#FFFFFF",
             "#FFFFFF",
             "#FFFFFF",
             "#FFFFFF",
             "#FFFFFF",
             "#FFFFFF",
             "#DEEFFF",
             "#FFFFFF",
             "#FFFFFF",
             "#FFFFFF",
             "#FFFFFF",
             "#FFFFFF",
             "#FFFFFF",
             "#E5E5E5"
            ],
            [
             "#FFFFFF",
             "#FFFFFF",
             "#FFFFFF",
             "#DEEFFF",
             "#DEEFFF",
             "#FFFFFF",
             "#FFFFFF",
             "#FFFFFF",
             "#FFFFFF",
             "#FFFFFF",
             "#DEEFFF",
             "#F7F7F7",
             "#FFFFFF",
             "#FFFFFF",
             "#FFFFFF",
             "#FFFFFF",
             "#FFFFFF",
             "#DEEFFF",
             "#FFFFFF",
             "#FFFFFF",
             "#FFFFFF",
             "#FFFFFF",
             "#FFFFFF",
             "#FFFFFF",
             "#DEEFFF",
             "#FFFFFF",
             "#FFFFFF",
             "#FFFFFF",
             "#FFFFFF",
             "#FFFFFF",
             "#FFFFFF",
             "#E5E5E5"
            ],
            [
             "#FFFFFF",
             "#FFFFFF",
             "#FFFFFF",
             "#DEEFFF",
             "#DEEFFF",
             "#FFFFFF",
             "#FFFFFF",
             "#FFFFFF",
             "#FFFFFF",
             "#FFFFFF",
             "#DEEFFF",
             "#F7F7F7",
             "#FFFFFF",
             "#FFFFFF",
             "#FFFFFF",
             "#FFFFFF",
             "#FFFFFF",
             "#DEEFFF",
             "#FFFFFF",
             "#FFFFFF",
             "#FFFFFF",
             "#FFFFFF",
             "#FFFFFF",
             "#FFFFFF",
             "#DEEFFF",
             "#FFFFFF",
             "#FFFFFF",
             "#FFFFFF",
             "#FFFFFF",
             "#FFFFFF",
             "#FFFFFF",
             "#E5E5E5"
            ],
            [
             "#FFFFFF",
             "#FFFFFF",
             "#FFFFFF",
             "#DEEFFF",
             "#DEEFFF",
             "#FFFFFF",
             "#FFFFFF",
             "#FFFFFF",
             "#FFFFFF",
             "#FFFFFF",
             "#DEEFFF",
             "#F7F7F7",
             "#FFFFFF",
             "#FFFFFF",
             "#FFFFFF",
             "#FFFFFF",
             "#FFFFFF",
             "#DEEFFF",
             "#FFFFFF",
             "#FFFFFF",
             "#FFFFFF",
             "#FFFFFF",
             "#FFFFFF",
             "#FFFFFF",
             "#DEEFFF",
             "#FFFFFF",
             "#FFFFFF",
             "#FFFFFF",
             "#FFFFFF",
             "#FFFFFF",
             "#FFFFFF",
             "#E5E5E5"
            ],
            [
             "#FFFFFF",
             "#FFFFFF",
             "#FFFFFF",
             "#DEEFFF",
             "#DEEFFF",
             "#FFFFFF",
             "#FFFFFF",
             "#FFFFFF",
             "#FFFFFF",
             "#FFFFFF",
             "#DEEFFF",
             "#F7F7F7",
             "#FFFFFF",
             "#FFFFFF",
             "#FFFFFF",
             "#FFFFFF",
             "#FFFFFF",
             "#DEEFFF",
             "#FFFFFF",
             "#FFFFFF",
             "#FFFFFF",
             "#FFFFFF",
             "#FFFFFF",
             "#FFFFFF",
             "#DEEFFF",
             "#FFFFFF",
             "#FFFFFF",
             "#FFFFFF",
             "#FFFFFF",
             "#FFFFFF",
             "#FFFFFF",
             "#E5E5E5"
            ],
            [
             "#FFFFFF",
             "#FFFFFF",
             "#FFFFFF",
             "#DEEFFF",
             "#DEEFFF",
             "#FFFFFF",
             "#FFFFFF",
             "#FFFFFF",
             "#FFFFFF",
             "#FFFFFF",
             "#DEEFFF",
             "#F7F7F7",
             "#FFFFFF",
             "#FFFFFF",
             "#FFFFFF",
             "#FFFFFF",
             "#FFFFFF",
             "#DEEFFF",
             "#FFFFFF",
             "#FFFFFF",
             "#FFFFFF",
             "#FFFFFF",
             "#FFFFFF",
             "#FFFFFF",
             "#DEEFFF",
             "#FFFFFF",
             "#FFFFFF",
             "#FFFFFF",
             "#FFFFFF",
             "#FFFFFF",
             "#FFFFFF",
             "#E5E5E5"
            ],
            [
             "#FFFFFF",
             "#FFFFFF",
             "#FFFFFF",
             "#DEEFFF",
             "#DEEFFF",
             "#FFFFFF",
             "#FFFFFF",
             "#FFFFFF",
             "#FFFFFF",
             "#FFFFFF",
             "#DEEFFF",
             "#F7F7F7",
             "#FFFFFF",
             "#FFFFFF",
             "#FFFFFF",
             "#FFFFFF",
             "#FFFFFF",
             "#DEEFFF",
             "#FFFFFF",
             "#FFFFFF",
             "#FFFFFF",
             "#FFFFFF",
             "#FFFFFF",
             "#FFFFFF",
             "#DEEFFF",
             "#FFFFFF",
             "#FFFFFF",
             "#FFFFFF",
             "#FFFFFF",
             "#FFFFFF",
             "#FFFFFF",
             "#E5E5E5"
            ],
            [
             "#FFFFFF",
             "#FFFFFF",
             "#FFFFFF",
             "#DEEFFF",
             "#DEEFFF",
             "#FFFFFF",
             "#FFFFFF",
             "#FFFFFF",
             "#FFFFFF",
             "#FFFFFF",
             "#DEEFFF",
             "#F7F7F7",
             "#FFFFFF",
             "#FFFFFF",
             "#FFFFFF",
             "#FFFFFF",
             "#FFFFFF",
             "#DEEFFF",
             "#FFFFFF",
             "#FFFFFF",
             "#FFFFFF",
             "#FFFFFF",
             "#FFFFFF",
             "#FFFFFF",
             "#DEEFFF",
             "#FFFFFF",
             "#FFFFFF",
             "#FFFFFF",
             "#FFFFFF",
             "#FFFFFF",
             "#FFFFFF",
             "#E5E5E5"
            ],
            [
             "#FFFFFF",
             "#FFFFFF",
             "#FFFFFF",
             "#DEEFFF",
             "#DEEFFF",
             "#FFFFFF",
             "#FFFFFF",
             "#FFFFFF",
             "#FFFFFF",
             "#FFFFFF",
             "#DEEFFF",
             "#F7F7F7",
             "#FFFFFF",
             "#FFFFFF",
             "#FFFFFF",
             "#FFFFFF",
             "#FFFFFF",
             "#DEEFFF",
             "#FFFFFF",
             "#FFFFFF",
             "#FFFFFF",
             "#FFFFFF",
             "#FFFFFF",
             "#FFFFFF",
             "#DEEFFF",
             "#FFFFFF",
             "#FFFFFF",
             "#FFFFFF",
             "#FFFFFF",
             "#FFFFFF",
             "#FFFFFF",
             "#E5E5E5"
            ],
            [
             "#FFFFFF",
             "#FFFFFF",
             "#FFFFFF",
             "#DEEFFF",
             "#DEEFFF",
             "#FFFFFF",
             "#FFFFFF",
             "#FFFFFF",
             "#FFFFFF",
             "#FFFFFF",
             "#DEEFFF",
             "#F7F7F7",
             "#FFFFFF",
             "#FFFFFF",
             "#FFFFFF",
             "#FFFFFF",
             "#FFFFFF",
             "#DEEFFF",
             "#FFFFFF",
             "#FFFFFF",
             "#FFFFFF",
             "#FFFFFF",
             "#FFFFFF",
             "#FFFFFF",
             "#DEEFFF",
             "#FFFFFF",
             "#FFFFFF",
             "#FFFFFF",
             "#FFFFFF",
             "#FFFFFF",
             "#FFFFFF",
             "#E5E5E5"
            ]
           ]
          },
          "font": {
           "color": [
            "#000000",
            "#000000",
            "#118DFF",
            "#000000",
            "#FF0000",
            "#FF0000",
            "#E04392",
            "#000000",
            "#FF0000",
            "#E04392",
            "#000000",
            "#FF0000",
            [
             "#FF0000",
             "#FF0000",
             "#00B050",
             "#DEEFFF",
             "#DEEFFF",
             "#00B050",
             "#00B050",
             "#00B050",
             "#FF0000",
             "#00B050",
             "#DEEFFF",
             "#FF0000",
             "#FFFFFF",
             "#FFFFFF",
             "#FFFFFF",
             "#FFFFFF",
             "#FFFFFF",
             "#DEEFFF",
             "#FFFFFF",
             "#FFFFFF",
             "#FFFFFF",
             "#FFFFFF",
             "#FFFFFF",
             "#FFFFFF",
             "#DEEFFF",
             "#FFFFFF",
             "#FFFFFF",
             "#FFFFFF",
             "#FFFFFF",
             "#FFFFFF",
             "#FFFFFF",
             "#E5E5E5"
            ],
            [
             "#FF0000",
             "#FF0000",
             "#FF0000",
             "#DEEFFF",
             "#DEEFFF",
             "#00B050",
             "#00B050",
             "#00B050",
             "#00B050",
             "#00B050",
             "#DEEFFF",
             "#FFC000",
             "#FFFFFF",
             "#FFFFFF",
             "#FFFFFF",
             "#FFFFFF",
             "#FFFFFF",
             "#DEEFFF",
             "#FFFFFF",
             "#FFFFFF",
             "#FFFFFF",
             "#FFFFFF",
             "#FFFFFF",
             "#FFFFFF",
             "#DEEFFF",
             "#FFFFFF",
             "#FFFFFF",
             "#FFFFFF",
             "#FFFFFF",
             "#FFFFFF",
             "#FFFFFF",
             "#E5E5E5"
            ],
            [
             "#000000",
             "#000000",
             "#000000",
             "#DEEFFF",
             "#DEEFFF",
             "#000000",
             "#000000",
             "#000000",
             "#000000",
             "#000000",
             "#DEEFFF",
             "#000000",
             "#FFFFFF",
             "#FFFFFF",
             "#FFFFFF",
             "#FFFFFF",
             "#FFFFFF",
             "#DEEFFF",
             "#FFFFFF",
             "#FFFFFF",
             "#FFFFFF",
             "#FFFFFF",
             "#FFFFFF",
             "#FFFFFF",
             "#DEEFFF",
             "#FFFFFF",
             "#FFFFFF",
             "#FFFFFF",
             "#FFFFFF",
             "#FFFFFF",
             "#FFFFFF",
             "#118DFF"
            ]
           ],
           "family": "Segoe UI Semibold",
           "size": 13.185185185185185
          },
          "line": {
           "color": [
            [
             "#FFFFFF",
             "#FFFFFF",
             "#FFFFFF",
             "#DEEFFF",
             "#DEEFFF",
             "#FFFFFF",
             "#FFFFFF",
             "#FFFFFF",
             "#FFFFFF",
             "#FFFFFF",
             "#DEEFFF",
             "#F7F7F7",
             "#FFFFFF",
             "#FFFFFF",
             "#FFFFFF",
             "#FFFFFF",
             "#FFFFFF",
             "#DEEFFF",
             "#FFFFFF",
             "#FFFFFF",
             "#FFFFFF",
             "#FFFFFF",
             "#FFFFFF",
             "#FFFFFF",
             "#DEEFFF",
             "#FFFFFF",
             "#FFFFFF",
             "#FFFFFF",
             "#FFFFFF",
             "#FFFFFF",
             "#FFFFFF",
             "#E5E5E5"
            ],
            [
             "#FFFFFF",
             "#FFFFFF",
             "#FFFFFF",
             "#DEEFFF",
             "#DEEFFF",
             "#FFFFFF",
             "#FFFFFF",
             "#FFFFFF",
             "#FFFFFF",
             "#FFFFFF",
             "#DEEFFF",
             "#F7F7F7",
             "#FFFFFF",
             "#FFFFFF",
             "#FFFFFF",
             "#FFFFFF",
             "#FFFFFF",
             "#DEEFFF",
             "#FFFFFF",
             "#FFFFFF",
             "#FFFFFF",
             "#FFFFFF",
             "#FFFFFF",
             "#FFFFFF",
             "#DEEFFF",
             "#FFFFFF",
             "#FFFFFF",
             "#FFFFFF",
             "#FFFFFF",
             "#FFFFFF",
             "#FFFFFF",
             "#E5E5E5"
            ],
            [
             "#F7F7F7",
             "#F7F7F7",
             "#F7F7F7",
             "#DEEFFF",
             "#DEEFFF",
             "#F7F7F7",
             "#F7F7F7",
             "#F7F7F7",
             "#F7F7F7",
             "#F7F7F7",
             "#DEEFFF",
             "#F7F7F7",
             "#F7F7F7",
             "#F7F7F7",
             "#F7F7F7",
             "#F7F7F7",
             "#F7F7F7",
             "#DEEFFF",
             "#F7F7F7",
             "#F7F7F7",
             "#F7F7F7",
             "#F7F7F7",
             "#F7F7F7",
             "#F7F7F7",
             "#DEEFFF",
             "#F7F7F7",
             "#F7F7F7",
             "#F7F7F7",
             "#F7F7F7",
             "#F7F7F7",
             "#F7F7F7",
             "#E5E5E5"
            ],
            [
             "#F7F7F7",
             "#F7F7F7",
             "#F7F7F7",
             "#DEEFFF",
             "#DEEFFF",
             "#F7F7F7",
             "#F7F7F7",
             "#F7F7F7",
             "#F7F7F7",
             "#F7F7F7",
             "#DEEFFF",
             "#F7F7F7",
             "#F7F7F7",
             "#F7F7F7",
             "#F7F7F7",
             "#F7F7F7",
             "#F7F7F7",
             "#DEEFFF",
             "#F7F7F7",
             "#F7F7F7",
             "#F7F7F7",
             "#F7F7F7",
             "#F7F7F7",
             "#F7F7F7",
             "#DEEFFF",
             "#F7F7F7",
             "#F7F7F7",
             "#F7F7F7",
             "#F7F7F7",
             "#F7F7F7",
             "#F7F7F7",
             "#E5E5E5"
            ],
            [
             "#FFFFFF",
             "#FFFFFF",
             "#FFFFFF",
             "#DEEFFF",
             "#DEEFFF",
             "#FFFFFF",
             "#FFFFFF",
             "#FFFFFF",
             "#FFFFFF",
             "#FFFFFF",
             "#DEEFFF",
             "#F7F7F7",
             "#FFFFFF",
             "#FFFFFF",
             "#FFFFFF",
             "#FFFFFF",
             "#FFFFFF",
             "#DEEFFF",
             "#FFFFFF",
             "#FFFFFF",
             "#FFFFFF",
             "#FFFFFF",
             "#FFFFFF",
             "#FFFFFF",
             "#DEEFFF",
             "#FFFFFF",
             "#FFFFFF",
             "#FFFFFF",
             "#FFFFFF",
             "#FFFFFF",
             "#FFFFFF",
             "#E5E5E5"
            ],
            [
             "#FFFFFF",
             "#FFFFFF",
             "#FFFFFF",
             "#DEEFFF",
             "#DEEFFF",
             "#FFFFFF",
             "#FFFFFF",
             "#FFFFFF",
             "#FFFFFF",
             "#FFFFFF",
             "#DEEFFF",
             "#F7F7F7",
             "#FFFFFF",
             "#FFFFFF",
             "#FFFFFF",
             "#FFFFFF",
             "#FFFFFF",
             "#DEEFFF",
             "#FFFFFF",
             "#FFFFFF",
             "#FFFFFF",
             "#FFFFFF",
             "#FFFFFF",
             "#FFFFFF",
             "#DEEFFF",
             "#FFFFFF",
             "#FFFFFF",
             "#FFFFFF",
             "#FFFFFF",
             "#FFFFFF",
             "#FFFFFF",
             "#E5E5E5"
            ],
            [
             "#F7F7F7",
             "#F7F7F7",
             "#F7F7F7",
             "#DEEFFF",
             "#DEEFFF",
             "#F7F7F7",
             "#F7F7F7",
             "#F7F7F7",
             "#F7F7F7",
             "#F7F7F7",
             "#DEEFFF",
             "#F7F7F7",
             "#F7F7F7",
             "#F7F7F7",
             "#F7F7F7",
             "#F7F7F7",
             "#F7F7F7",
             "#DEEFFF",
             "#F7F7F7",
             "#F7F7F7",
             "#F7F7F7",
             "#F7F7F7",
             "#F7F7F7",
             "#F7F7F7",
             "#DEEFFF",
             "#F7F7F7",
             "#F7F7F7",
             "#F7F7F7",
             "#F7F7F7",
             "#F7F7F7",
             "#F7F7F7",
             "#E5E5E5"
            ],
            [
             "#FFFFFF",
             "#FFFFFF",
             "#FFFFFF",
             "#DEEFFF",
             "#DEEFFF",
             "#FFFFFF",
             "#FFFFFF",
             "#FFFFFF",
             "#FFFFFF",
             "#FFFFFF",
             "#DEEFFF",
             "#F7F7F7",
             "#FFFFFF",
             "#FFFFFF",
             "#FFFFFF",
             "#FFFFFF",
             "#FFFFFF",
             "#DEEFFF",
             "#FFFFFF",
             "#FFFFFF",
             "#FFFFFF",
             "#FFFFFF",
             "#FFFFFF",
             "#FFFFFF",
             "#DEEFFF",
             "#FFFFFF",
             "#FFFFFF",
             "#FFFFFF",
             "#FFFFFF",
             "#FFFFFF",
             "#FFFFFF",
             "#E5E5E5"
            ],
            [
             "#FFFFFF",
             "#FFFFFF",
             "#FFFFFF",
             "#DEEFFF",
             "#DEEFFF",
             "#FFFFFF",
             "#FFFFFF",
             "#FFFFFF",
             "#FFFFFF",
             "#FFFFFF",
             "#DEEFFF",
             "#F7F7F7",
             "#FFFFFF",
             "#FFFFFF",
             "#FFFFFF",
             "#FFFFFF",
             "#FFFFFF",
             "#DEEFFF",
             "#FFFFFF",
             "#FFFFFF",
             "#FFFFFF",
             "#FFFFFF",
             "#FFFFFF",
             "#FFFFFF",
             "#DEEFFF",
             "#FFFFFF",
             "#FFFFFF",
             "#FFFFFF",
             "#FFFFFF",
             "#FFFFFF",
             "#FFFFFF",
             "#E5E5E5"
            ],
            [
             "#F7F7F7",
             "#F7F7F7",
             "#F7F7F7",
             "#DEEFFF",
             "#DEEFFF",
             "#F7F7F7",
             "#F7F7F7",
             "#F7F7F7",
             "#F7F7F7",
             "#F7F7F7",
             "#DEEFFF",
             "#F7F7F7",
             "#F7F7F7",
             "#F7F7F7",
             "#F7F7F7",
             "#F7F7F7",
             "#F7F7F7",
             "#DEEFFF",
             "#F7F7F7",
             "#F7F7F7",
             "#F7F7F7",
             "#F7F7F7",
             "#F7F7F7",
             "#F7F7F7",
             "#DEEFFF",
             "#F7F7F7",
             "#F7F7F7",
             "#F7F7F7",
             "#F7F7F7",
             "#F7F7F7",
             "#F7F7F7",
             "#E5E5E5"
            ],
            [
             "#FFFFFF",
             "#FFFFFF",
             "#FFFFFF",
             "#DEEFFF",
             "#DEEFFF",
             "#FFFFFF",
             "#FFFFFF",
             "#FFFFFF",
             "#FFFFFF",
             "#FFFFFF",
             "#DEEFFF",
             "#F7F7F7",
             "#FFFFFF",
             "#FFFFFF",
             "#FFFFFF",
             "#FFFFFF",
             "#FFFFFF",
             "#DEEFFF",
             "#FFFFFF",
             "#FFFFFF",
             "#FFFFFF",
             "#FFFFFF",
             "#FFFFFF",
             "#FFFFFF",
             "#DEEFFF",
             "#FFFFFF",
             "#FFFFFF",
             "#FFFFFF",
             "#FFFFFF",
             "#FFFFFF",
             "#FFFFFF",
             "#E5E5E5"
            ],
            [
             "#FFFFFF",
             "#FFFFFF",
             "#FFFFFF",
             "#DEEFFF",
             "#DEEFFF",
             "#FFFFFF",
             "#FFFFFF",
             "#FFFFFF",
             "#FFFFFF",
             "#FFFFFF",
             "#DEEFFF",
             "#F7F7F7",
             "#FFFFFF",
             "#FFFFFF",
             "#FFFFFF",
             "#FFFFFF",
             "#FFFFFF",
             "#DEEFFF",
             "#FFFFFF",
             "#FFFFFF",
             "#FFFFFF",
             "#FFFFFF",
             "#FFFFFF",
             "#FFFFFF",
             "#DEEFFF",
             "#FFFFFF",
             "#FFFFFF",
             "#FFFFFF",
             "#FFFFFF",
             "#FFFFFF",
             "#FFFFFF",
             "#E5E5E5"
            ],
            [
             "#FFFFFF",
             "#FFFFFF",
             "#FFFFFF",
             "#DEEFFF",
             "#DEEFFF",
             "#FFFFFF",
             "#FFFFFF",
             "#FFFFFF",
             "#FFFFFF",
             "#FFFFFF",
             "#DEEFFF",
             "#F7F7F7",
             "#FFFFFF",
             "#FFFFFF",
             "#FFFFFF",
             "#FFFFFF",
             "#FFFFFF",
             "#DEEFFF",
             "#FFFFFF",
             "#FFFFFF",
             "#FFFFFF",
             "#FFFFFF",
             "#FFFFFF",
             "#FFFFFF",
             "#DEEFFF",
             "#FFFFFF",
             "#FFFFFF",
             "#FFFFFF",
             "#FFFFFF",
             "#FFFFFF",
             "#FFFFFF",
             "#E5E5E5"
            ],
            [
             "#FFFFFF",
             "#FFFFFF",
             "#FFFFFF",
             "#DEEFFF",
             "#DEEFFF",
             "#FFFFFF",
             "#FFFFFF",
             "#FFFFFF",
             "#FFFFFF",
             "#FFFFFF",
             "#DEEFFF",
             "#F7F7F7",
             "#FFFFFF",
             "#FFFFFF",
             "#FFFFFF",
             "#FFFFFF",
             "#FFFFFF",
             "#DEEFFF",
             "#FFFFFF",
             "#FFFFFF",
             "#FFFFFF",
             "#FFFFFF",
             "#FFFFFF",
             "#FFFFFF",
             "#DEEFFF",
             "#FFFFFF",
             "#FFFFFF",
             "#FFFFFF",
             "#FFFFFF",
             "#FFFFFF",
             "#FFFFFF",
             "#E5E5E5"
            ],
            [
             "#FFFFFF",
             "#FFFFFF",
             "#FFFFFF",
             "#DEEFFF",
             "#DEEFFF",
             "#FFFFFF",
             "#FFFFFF",
             "#FFFFFF",
             "#FFFFFF",
             "#FFFFFF",
             "#DEEFFF",
             "#F7F7F7",
             "#FFFFFF",
             "#FFFFFF",
             "#FFFFFF",
             "#FFFFFF",
             "#FFFFFF",
             "#DEEFFF",
             "#FFFFFF",
             "#FFFFFF",
             "#FFFFFF",
             "#FFFFFF",
             "#FFFFFF",
             "#FFFFFF",
             "#DEEFFF",
             "#FFFFFF",
             "#FFFFFF",
             "#FFFFFF",
             "#FFFFFF",
             "#FFFFFF",
             "#FFFFFF",
             "#E5E5E5"
            ],
            [
             "#FFFFFF",
             "#FFFFFF",
             "#FFFFFF",
             "#DEEFFF",
             "#DEEFFF",
             "#FFFFFF",
             "#FFFFFF",
             "#FFFFFF",
             "#FFFFFF",
             "#FFFFFF",
             "#DEEFFF",
             "#F7F7F7",
             "#FFFFFF",
             "#FFFFFF",
             "#FFFFFF",
             "#FFFFFF",
             "#FFFFFF",
             "#DEEFFF",
             "#FFFFFF",
             "#FFFFFF",
             "#FFFFFF",
             "#FFFFFF",
             "#FFFFFF",
             "#FFFFFF",
             "#DEEFFF",
             "#FFFFFF",
             "#FFFFFF",
             "#FFFFFF",
             "#FFFFFF",
             "#FFFFFF",
             "#FFFFFF",
             "#E5E5E5"
            ],
            [
             "#FFFFFF",
             "#FFFFFF",
             "#FFFFFF",
             "#DEEFFF",
             "#DEEFFF",
             "#FFFFFF",
             "#FFFFFF",
             "#FFFFFF",
             "#FFFFFF",
             "#FFFFFF",
             "#DEEFFF",
             "#F7F7F7",
             "#FFFFFF",
             "#FFFFFF",
             "#FFFFFF",
             "#FFFFFF",
             "#FFFFFF",
             "#DEEFFF",
             "#FFFFFF",
             "#FFFFFF",
             "#FFFFFF",
             "#FFFFFF",
             "#FFFFFF",
             "#FFFFFF",
             "#DEEFFF",
             "#FFFFFF",
             "#FFFFFF",
             "#FFFFFF",
             "#FFFFFF",
             "#FFFFFF",
             "#FFFFFF",
             "#E5E5E5"
            ],
            [
             "#FFFFFF",
             "#FFFFFF",
             "#FFFFFF",
             "#DEEFFF",
             "#DEEFFF",
             "#FFFFFF",
             "#FFFFFF",
             "#FFFFFF",
             "#FFFFFF",
             "#FFFFFF",
             "#DEEFFF",
             "#F7F7F7",
             "#FFFFFF",
             "#FFFFFF",
             "#FFFFFF",
             "#FFFFFF",
             "#FFFFFF",
             "#DEEFFF",
             "#FFFFFF",
             "#FFFFFF",
             "#FFFFFF",
             "#FFFFFF",
             "#FFFFFF",
             "#FFFFFF",
             "#DEEFFF",
             "#FFFFFF",
             "#FFFFFF",
             "#FFFFFF",
             "#FFFFFF",
             "#FFFFFF",
             "#FFFFFF",
             "#E5E5E5"
            ],
            [
             "#FFFFFF",
             "#FFFFFF",
             "#FFFFFF",
             "#DEEFFF",
             "#DEEFFF",
             "#FFFFFF",
             "#FFFFFF",
             "#FFFFFF",
             "#FFFFFF",
             "#FFFFFF",
             "#DEEFFF",
             "#F7F7F7",
             "#FFFFFF",
             "#FFFFFF",
             "#FFFFFF",
             "#FFFFFF",
             "#FFFFFF",
             "#DEEFFF",
             "#FFFFFF",
             "#FFFFFF",
             "#FFFFFF",
             "#FFFFFF",
             "#FFFFFF",
             "#FFFFFF",
             "#DEEFFF",
             "#FFFFFF",
             "#FFFFFF",
             "#FFFFFF",
             "#FFFFFF",
             "#FFFFFF",
             "#FFFFFF",
             "#E5E5E5"
            ],
            [
             "#FFFFFF",
             "#FFFFFF",
             "#FFFFFF",
             "#DEEFFF",
             "#DEEFFF",
             "#FFFFFF",
             "#FFFFFF",
             "#FFFFFF",
             "#FFFFFF",
             "#FFFFFF",
             "#DEEFFF",
             "#F7F7F7",
             "#FFFFFF",
             "#FFFFFF",
             "#FFFFFF",
             "#FFFFFF",
             "#FFFFFF",
             "#DEEFFF",
             "#FFFFFF",
             "#FFFFFF",
             "#FFFFFF",
             "#FFFFFF",
             "#FFFFFF",
             "#FFFFFF",
             "#DEEFFF",
             "#FFFFFF",
             "#FFFFFF",
             "#FFFFFF",
             "#FFFFFF",
             "#FFFFFF",
             "#FFFFFF",
             "#E5E5E5"
            ],
            [
             "#FFFFFF",
             "#FFFFFF",
             "#FFFFFF",
             "#DEEFFF",
             "#DEEFFF",
             "#FFFFFF",
             "#FFFFFF",
             "#FFFFFF",
             "#FFFFFF",
             "#FFFFFF",
             "#DEEFFF",
             "#F7F7F7",
             "#FFFFFF",
             "#FFFFFF",
             "#FFFFFF",
             "#FFFFFF",
             "#FFFFFF",
             "#DEEFFF",
             "#FFFFFF",
             "#FFFFFF",
             "#FFFFFF",
             "#FFFFFF",
             "#FFFFFF",
             "#FFFFFF",
             "#DEEFFF",
             "#FFFFFF",
             "#FFFFFF",
             "#FFFFFF",
             "#FFFFFF",
             "#FFFFFF",
             "#FFFFFF",
             "#E5E5E5"
            ],
            [
             "#FFFFFF",
             "#FFFFFF",
             "#FFFFFF",
             "#DEEFFF",
             "#DEEFFF",
             "#FFFFFF",
             "#FFFFFF",
             "#FFFFFF",
             "#FFFFFF",
             "#FFFFFF",
             "#DEEFFF",
             "#F7F7F7",
             "#FFFFFF",
             "#FFFFFF",
             "#FFFFFF",
             "#FFFFFF",
             "#FFFFFF",
             "#DEEFFF",
             "#FFFFFF",
             "#FFFFFF",
             "#FFFFFF",
             "#FFFFFF",
             "#FFFFFF",
             "#FFFFFF",
             "#DEEFFF",
             "#FFFFFF",
             "#FFFFFF",
             "#FFFFFF",
             "#FFFFFF",
             "#FFFFFF",
             "#FFFFFF",
             "#E5E5E5"
            ]
           ],
           "width": 2
          },
          "values": [
           [
            "01/12/2022, Quinta-feira",
            "02/12/2022, Sexta-feira",
            "03/12/2022, Sábado",
            "04/12/2022, Domingo",
            "05/12/2022, Segunda-feira",
            "06/12/2022, Terça-feira",
            "07/12/2022, Quarta-feira",
            "08/12/2022, Quinta-feira",
            "09/12/2022, Sexta-feira",
            "10/12/2022, Sábado",
            "11/12/2022, Domingo",
            "12/12/2022, Segunda-feira",
            "13/12/2022, Terça-feira",
            "14/12/2022, Quarta-feira",
            "15/12/2022, Quinta-feira",
            "16/12/2022, Sexta-feira",
            "17/12/2022, Sábado",
            "18/12/2022, Domingo",
            "19/12/2022, Segunda-feira",
            "20/12/2022, Terça-feira",
            "21/12/2022, Quarta-feira",
            "22/12/2022, Quinta-feira",
            "23/12/2022, Sexta-feira",
            "24/12/2022, Sábado",
            "25/12/2022, Domingo",
            "26/12/2022, Segunda-feira",
            "27/12/2022, Terça-feira",
            "28/12/2022, Quarta-feira",
            "29/12/2022, Quinta-feira",
            "30/12/2022, Sexta-feira",
            "31/12/2022, Sábado",
            "Total"
           ],
           [
            "R$ 119.047,62",
            "R$ 119.047,62",
            "R$ 50.000,00",
            "",
            "",
            "R$ 119.047,62",
            "R$ 119.047,62",
            "R$ 119.047,62",
            "R$ 83.333,33",
            "R$ 50.000,00",
            "",
            "R$ 119.047,62",
            "R$ 119.047,62",
            "R$ 119.047,62",
            "R$ 119.047,62",
            "R$ 119.047,62",
            "R$ 50.000,00",
            "",
            "R$ 119.047,62",
            "R$ 119.047,62",
            "R$ 119.047,62",
            "R$ 119.047,62",
            "R$ 119.047,62",
            "R$ 50.000,00",
            "",
            "R$ 119.047,62",
            "R$ 119.047,62",
            "R$ 119.047,62",
            "R$ 119.047,62",
            "R$ 119.047,62",
            "R$ 50.000,00",
            "R$ 2.714.285,71"
           ],
           [
            "R$ 107.636,78",
            "R$ 62.004,36",
            "R$ 60.573,95",
            "",
            "R$ 79.668,47",
            "R$ 138.128,60",
            "R$ 151.137,77",
            "R$ 149.997,59",
            "R$ 75.669,48",
            "R$ 76.364,18",
            "",
            "",
            "",
            "",
            "",
            "",
            "",
            "",
            "",
            "",
            "",
            "",
            "",
            "",
            "",
            "",
            "",
            "",
            "",
            "",
            "",
            "R$ 901.181,18"
           ],
           [
            "R$ 101.615,39",
            "R$ 59.570,13",
            "R$ 58.481,88",
            "",
            "R$ 74.524,04",
            "R$ 132.620,87",
            "R$ 145.478,59",
            "R$ 141.737,40",
            "R$ 72.541,47",
            "R$ 72.720,73",
            "",
            "",
            "",
            "",
            "",
            "",
            "",
            "",
            "",
            "",
            "",
            "",
            "",
            "",
            "",
            "",
            "",
            "",
            "",
            "",
            "",
            "R$ 859.290,50"
           ],
           [
            "R$ 6.021,39",
            "R$ 2.434,23",
            "R$ 2.092,07",
            "",
            "R$ 5.144,43",
            "R$ 5.507,73",
            "R$ 5.659,18",
            "R$ 8.260,19",
            "R$ 3.128,01",
            "R$ 3.643,45",
            "",
            "",
            "",
            "",
            "",
            "",
            "",
            "",
            "",
            "",
            "",
            "",
            "",
            "",
            "",
            "",
            "",
            "",
            "",
            "",
            "",
            "R$ 41.890,68"
           ],
           [
            "5,59%",
            "3,93%",
            "3,45%",
            "",
            "6,46%",
            "3,99%",
            "3,74%",
            "5,51%",
            "4,13%",
            "4,77%",
            "",
            "",
            "",
            "",
            "",
            "",
            "",
            "",
            "",
            "",
            "",
            "",
            "",
            "",
            "",
            "",
            "",
            "",
            "",
            "",
            "",
            "4,65%"
           ],
           [
            "R$ 95.641,65",
            "R$ 56.115,59",
            "R$ 55.052,93",
            "",
            "R$ 72.922,13",
            "R$ 129.497,23",
            "R$ 140.964,43",
            "R$ 137.984,40",
            "R$ 70.200,68",
            "R$ 68.860,68",
            "",
            "",
            "",
            "",
            "",
            "",
            "",
            "",
            "",
            "",
            "",
            "",
            "",
            "",
            "",
            "",
            "",
            "",
            "",
            "",
            "",
            "R$ 827.239,72"
           ],
           [
            "260",
            "175",
            "152",
            "",
            "212",
            "286",
            "299",
            "303",
            "197",
            "174",
            "",
            "",
            "",
            "",
            "",
            "",
            "",
            "",
            "",
            "",
            "",
            "",
            "",
            "",
            "",
            "",
            "",
            "",
            "",
            "",
            "",
            "619"
           ],
           [
            "6,04%",
            "4,34%",
            "3,55%",
            "",
            "7,02%",
            "4,12%",
            "3,87%",
            "5,86%",
            "3,39%",
            "5,14%",
            "",
            "",
            "",
            "",
            "",
            "",
            "",
            "",
            "",
            "",
            "",
            "",
            "",
            "",
            "",
            "",
            "",
            "",
            "",
            "",
            "",
            "4,85%"
           ],
           [
            "R$ 5.973,74",
            "R$ 3.454,54",
            "R$ 3.428,95",
            "",
            "R$ 1.601,91",
            "R$ 3.123,64",
            "R$ 4.514,16",
            "R$ 3.753,00",
            "R$ 2.340,79",
            "R$ 3.860,05",
            "",
            "",
            "",
            "",
            "",
            "",
            "",
            "",
            "",
            "",
            "",
            "",
            "",
            "",
            "",
            "",
            "",
            "",
            "",
            "",
            "",
            "R$ 32.050,78"
           ],
           [
            "23",
            "16",
            "18",
            "",
            "15",
            "25",
            "24",
            "19",
            "13",
            "23",
            "",
            "",
            "",
            "",
            "",
            "",
            "",
            "",
            "",
            "",
            "",
            "",
            "",
            "",
            "",
            "",
            "",
            "",
            "",
            "",
            "",
            "176"
           ],
           [
            "4,05%",
            "",
            "4,09%",
            "",
            "1,56%",
            "5,39%",
            "4,52%",
            "4,75%",
            "31,87%",
            "2,68%",
            "",
            "",
            "",
            "",
            "",
            "",
            "",
            "",
            "",
            "",
            "",
            "",
            "",
            "",
            "",
            "",
            "",
            "",
            "",
            "",
            "",
            "5,64%"
           ],
           [
            "85,36%",
            "50,04%",
            "116,96%",
            "",
            "",
            "111,40%",
            "122,20%",
            "119,06%",
            "87,05%",
            "145,44%",
            "",
            "",
            "",
            "",
            "",
            "",
            "",
            "",
            "",
            "",
            "",
            "",
            "",
            "",
            "",
            "",
            "",
            "",
            "",
            "",
            "",
            "31,66%"
           ],
           [
            "85,36%",
            "67,70%",
            "76,25%",
            "76,25%",
            "102,12%",
            "104,83%",
            "108,76%",
            "110,66%",
            "107,96%",
            "110,37%",
            "110,37%",
            "95,73%",
            "84,52%",
            "75,66%",
            "68,48%",
            "62,55%",
            "60,35%",
            "60,35%",
            "55,69%",
            "51,71%",
            "48,25%",
            "45,23%",
            "42,56%",
            "41,53%",
            "41,53%",
            "39,27%",
            "37,24%",
            "35,42%",
            "33,76%",
            "32,25%",
            "31,66%",
            "31,66%"
           ],
           [
            "R$ 2.316.830,89",
            "R$ 1.837.514,93",
            "R$ 2.069.593,68",
            "R$ 2.069.593,68",
            "R$ 2.771.721,00",
            "R$ 2.845.415,40",
            "R$ 2.952.088,80",
            "R$ 3.003.661,48",
            "R$ 2.930.357,96",
            "R$ 2.995.691,65",
            "R$ 2.995.691,65",
            "R$ 2.598.385,06",
            "R$ 2.294.124,52",
            "R$ 2.053.650,25",
            "R$ 1.858.806,77",
            "R$ 1.697.731,66",
            "R$ 1.638.112,32",
            "R$ 1.638.112,32",
            "R$ 1.511.714,77",
            "R$ 1.403.425,74",
            "R$ 1.309.613,86",
            "R$ 1.227.557,86",
            "R$ 1.155.178,26",
            "R$ 1.127.262,56",
            "R$ 1.127.262,56",
            "R$ 1.065.931,63",
            "R$ 1.010.930,00",
            "R$ 961.325,97",
            "R$ 916.362,18",
            "R$ 875.416,59",
            "R$ 859.290,50",
            ""
           ]
          ]
         },
         "columnwidth": [
          10.300925925925926,
          6.592592592592593,
          6.592592592592593,
          6.592592592592593,
          6.592592592592593,
          4.12037037037037,
          6.592592592592593,
          5.356481481481481,
          4.944444444444445,
          6.592592592592593,
          4.944444444444445,
          4.12037037037037,
          2.8842592592592595,
          2.8842592592592595,
          6.592592592592593
         ],
         "domain": {
          "y": [
           0,
           1
          ]
         },
         "header": {
          "align": "center",
          "fill": {
           "color": "#E5E5E5"
          },
          "font": {
           "color": [
            "#000000",
            "#000000",
            "#118DFF",
            "#000000",
            "#FF0000",
            "#FF0000",
            "#E04392",
            "#000000",
            "#FF0000",
            "#E04392",
            "#000000",
            "#FF0000",
            "#000000",
            "#000000",
            "#000000"
           ],
           "family": "Segoe UI Semibold",
           "size": 13.185185185185185
          },
          "line": {
           "color": "#E5E5E5",
           "width": 3
          },
          "values": [
           "Data",
           "Meta",
           "Venda\nSIAC",
           "Venda\nLíquida",
           "Devolução",
           "%\nDev",
           "Venda\nCNPJ",
           "Clientes\nCNPJ",
           "% Dev\nCNPJ",
           "Venda\nCPF",
           "Clientes\nCPF",
           "% Dev\nCPF",
           "%\nDia",
           "%\nMês",
           "Projeção\nmensal"
          ]
         },
         "type": "table"
        }
       ],
       "layout": {
        "height": 890,
        "template": {
         "data": {
          "bar": [
           {
            "error_x": {
             "color": "#2a3f5f"
            },
            "error_y": {
             "color": "#2a3f5f"
            },
            "marker": {
             "line": {
              "color": "#E5ECF6",
              "width": 0.5
             },
             "pattern": {
              "fillmode": "overlay",
              "size": 10,
              "solidity": 0.2
             }
            },
            "type": "bar"
           }
          ],
          "barpolar": [
           {
            "marker": {
             "line": {
              "color": "#E5ECF6",
              "width": 0.5
             },
             "pattern": {
              "fillmode": "overlay",
              "size": 10,
              "solidity": 0.2
             }
            },
            "type": "barpolar"
           }
          ],
          "carpet": [
           {
            "aaxis": {
             "endlinecolor": "#2a3f5f",
             "gridcolor": "white",
             "linecolor": "white",
             "minorgridcolor": "white",
             "startlinecolor": "#2a3f5f"
            },
            "baxis": {
             "endlinecolor": "#2a3f5f",
             "gridcolor": "white",
             "linecolor": "white",
             "minorgridcolor": "white",
             "startlinecolor": "#2a3f5f"
            },
            "type": "carpet"
           }
          ],
          "choropleth": [
           {
            "colorbar": {
             "outlinewidth": 0,
             "ticks": ""
            },
            "type": "choropleth"
           }
          ],
          "contour": [
           {
            "colorbar": {
             "outlinewidth": 0,
             "ticks": ""
            },
            "colorscale": [
             [
              0,
              "#0d0887"
             ],
             [
              0.1111111111111111,
              "#46039f"
             ],
             [
              0.2222222222222222,
              "#7201a8"
             ],
             [
              0.3333333333333333,
              "#9c179e"
             ],
             [
              0.4444444444444444,
              "#bd3786"
             ],
             [
              0.5555555555555556,
              "#d8576b"
             ],
             [
              0.6666666666666666,
              "#ed7953"
             ],
             [
              0.7777777777777778,
              "#fb9f3a"
             ],
             [
              0.8888888888888888,
              "#fdca26"
             ],
             [
              1,
              "#f0f921"
             ]
            ],
            "type": "contour"
           }
          ],
          "contourcarpet": [
           {
            "colorbar": {
             "outlinewidth": 0,
             "ticks": ""
            },
            "type": "contourcarpet"
           }
          ],
          "heatmap": [
           {
            "colorbar": {
             "outlinewidth": 0,
             "ticks": ""
            },
            "colorscale": [
             [
              0,
              "#0d0887"
             ],
             [
              0.1111111111111111,
              "#46039f"
             ],
             [
              0.2222222222222222,
              "#7201a8"
             ],
             [
              0.3333333333333333,
              "#9c179e"
             ],
             [
              0.4444444444444444,
              "#bd3786"
             ],
             [
              0.5555555555555556,
              "#d8576b"
             ],
             [
              0.6666666666666666,
              "#ed7953"
             ],
             [
              0.7777777777777778,
              "#fb9f3a"
             ],
             [
              0.8888888888888888,
              "#fdca26"
             ],
             [
              1,
              "#f0f921"
             ]
            ],
            "type": "heatmap"
           }
          ],
          "heatmapgl": [
           {
            "colorbar": {
             "outlinewidth": 0,
             "ticks": ""
            },
            "colorscale": [
             [
              0,
              "#0d0887"
             ],
             [
              0.1111111111111111,
              "#46039f"
             ],
             [
              0.2222222222222222,
              "#7201a8"
             ],
             [
              0.3333333333333333,
              "#9c179e"
             ],
             [
              0.4444444444444444,
              "#bd3786"
             ],
             [
              0.5555555555555556,
              "#d8576b"
             ],
             [
              0.6666666666666666,
              "#ed7953"
             ],
             [
              0.7777777777777778,
              "#fb9f3a"
             ],
             [
              0.8888888888888888,
              "#fdca26"
             ],
             [
              1,
              "#f0f921"
             ]
            ],
            "type": "heatmapgl"
           }
          ],
          "histogram": [
           {
            "marker": {
             "pattern": {
              "fillmode": "overlay",
              "size": 10,
              "solidity": 0.2
             }
            },
            "type": "histogram"
           }
          ],
          "histogram2d": [
           {
            "colorbar": {
             "outlinewidth": 0,
             "ticks": ""
            },
            "colorscale": [
             [
              0,
              "#0d0887"
             ],
             [
              0.1111111111111111,
              "#46039f"
             ],
             [
              0.2222222222222222,
              "#7201a8"
             ],
             [
              0.3333333333333333,
              "#9c179e"
             ],
             [
              0.4444444444444444,
              "#bd3786"
             ],
             [
              0.5555555555555556,
              "#d8576b"
             ],
             [
              0.6666666666666666,
              "#ed7953"
             ],
             [
              0.7777777777777778,
              "#fb9f3a"
             ],
             [
              0.8888888888888888,
              "#fdca26"
             ],
             [
              1,
              "#f0f921"
             ]
            ],
            "type": "histogram2d"
           }
          ],
          "histogram2dcontour": [
           {
            "colorbar": {
             "outlinewidth": 0,
             "ticks": ""
            },
            "colorscale": [
             [
              0,
              "#0d0887"
             ],
             [
              0.1111111111111111,
              "#46039f"
             ],
             [
              0.2222222222222222,
              "#7201a8"
             ],
             [
              0.3333333333333333,
              "#9c179e"
             ],
             [
              0.4444444444444444,
              "#bd3786"
             ],
             [
              0.5555555555555556,
              "#d8576b"
             ],
             [
              0.6666666666666666,
              "#ed7953"
             ],
             [
              0.7777777777777778,
              "#fb9f3a"
             ],
             [
              0.8888888888888888,
              "#fdca26"
             ],
             [
              1,
              "#f0f921"
             ]
            ],
            "type": "histogram2dcontour"
           }
          ],
          "mesh3d": [
           {
            "colorbar": {
             "outlinewidth": 0,
             "ticks": ""
            },
            "type": "mesh3d"
           }
          ],
          "parcoords": [
           {
            "line": {
             "colorbar": {
              "outlinewidth": 0,
              "ticks": ""
             }
            },
            "type": "parcoords"
           }
          ],
          "pie": [
           {
            "automargin": true,
            "type": "pie"
           }
          ],
          "scatter": [
           {
            "fillpattern": {
             "fillmode": "overlay",
             "size": 10,
             "solidity": 0.2
            },
            "type": "scatter"
           }
          ],
          "scatter3d": [
           {
            "line": {
             "colorbar": {
              "outlinewidth": 0,
              "ticks": ""
             }
            },
            "marker": {
             "colorbar": {
              "outlinewidth": 0,
              "ticks": ""
             }
            },
            "type": "scatter3d"
           }
          ],
          "scattercarpet": [
           {
            "marker": {
             "colorbar": {
              "outlinewidth": 0,
              "ticks": ""
             }
            },
            "type": "scattercarpet"
           }
          ],
          "scattergeo": [
           {
            "marker": {
             "colorbar": {
              "outlinewidth": 0,
              "ticks": ""
             }
            },
            "type": "scattergeo"
           }
          ],
          "scattergl": [
           {
            "marker": {
             "colorbar": {
              "outlinewidth": 0,
              "ticks": ""
             }
            },
            "type": "scattergl"
           }
          ],
          "scattermapbox": [
           {
            "marker": {
             "colorbar": {
              "outlinewidth": 0,
              "ticks": ""
             }
            },
            "type": "scattermapbox"
           }
          ],
          "scatterpolar": [
           {
            "marker": {
             "colorbar": {
              "outlinewidth": 0,
              "ticks": ""
             }
            },
            "type": "scatterpolar"
           }
          ],
          "scatterpolargl": [
           {
            "marker": {
             "colorbar": {
              "outlinewidth": 0,
              "ticks": ""
             }
            },
            "type": "scatterpolargl"
           }
          ],
          "scatterternary": [
           {
            "marker": {
             "colorbar": {
              "outlinewidth": 0,
              "ticks": ""
             }
            },
            "type": "scatterternary"
           }
          ],
          "surface": [
           {
            "colorbar": {
             "outlinewidth": 0,
             "ticks": ""
            },
            "colorscale": [
             [
              0,
              "#0d0887"
             ],
             [
              0.1111111111111111,
              "#46039f"
             ],
             [
              0.2222222222222222,
              "#7201a8"
             ],
             [
              0.3333333333333333,
              "#9c179e"
             ],
             [
              0.4444444444444444,
              "#bd3786"
             ],
             [
              0.5555555555555556,
              "#d8576b"
             ],
             [
              0.6666666666666666,
              "#ed7953"
             ],
             [
              0.7777777777777778,
              "#fb9f3a"
             ],
             [
              0.8888888888888888,
              "#fdca26"
             ],
             [
              1,
              "#f0f921"
             ]
            ],
            "type": "surface"
           }
          ],
          "table": [
           {
            "cells": {
             "fill": {
              "color": "#EBF0F8"
             },
             "line": {
              "color": "white"
             }
            },
            "header": {
             "fill": {
              "color": "#C8D4E3"
             },
             "line": {
              "color": "white"
             }
            },
            "type": "table"
           }
          ]
         },
         "layout": {
          "annotationdefaults": {
           "arrowcolor": "#2a3f5f",
           "arrowhead": 0,
           "arrowwidth": 1
          },
          "autotypenumbers": "strict",
          "coloraxis": {
           "colorbar": {
            "outlinewidth": 0,
            "ticks": ""
           }
          },
          "colorscale": {
           "diverging": [
            [
             0,
             "#8e0152"
            ],
            [
             0.1,
             "#c51b7d"
            ],
            [
             0.2,
             "#de77ae"
            ],
            [
             0.3,
             "#f1b6da"
            ],
            [
             0.4,
             "#fde0ef"
            ],
            [
             0.5,
             "#f7f7f7"
            ],
            [
             0.6,
             "#e6f5d0"
            ],
            [
             0.7,
             "#b8e186"
            ],
            [
             0.8,
             "#7fbc41"
            ],
            [
             0.9,
             "#4d9221"
            ],
            [
             1,
             "#276419"
            ]
           ],
           "sequential": [
            [
             0,
             "#0d0887"
            ],
            [
             0.1111111111111111,
             "#46039f"
            ],
            [
             0.2222222222222222,
             "#7201a8"
            ],
            [
             0.3333333333333333,
             "#9c179e"
            ],
            [
             0.4444444444444444,
             "#bd3786"
            ],
            [
             0.5555555555555556,
             "#d8576b"
            ],
            [
             0.6666666666666666,
             "#ed7953"
            ],
            [
             0.7777777777777778,
             "#fb9f3a"
            ],
            [
             0.8888888888888888,
             "#fdca26"
            ],
            [
             1,
             "#f0f921"
            ]
           ],
           "sequentialminus": [
            [
             0,
             "#0d0887"
            ],
            [
             0.1111111111111111,
             "#46039f"
            ],
            [
             0.2222222222222222,
             "#7201a8"
            ],
            [
             0.3333333333333333,
             "#9c179e"
            ],
            [
             0.4444444444444444,
             "#bd3786"
            ],
            [
             0.5555555555555556,
             "#d8576b"
            ],
            [
             0.6666666666666666,
             "#ed7953"
            ],
            [
             0.7777777777777778,
             "#fb9f3a"
            ],
            [
             0.8888888888888888,
             "#fdca26"
            ],
            [
             1,
             "#f0f921"
            ]
           ]
          },
          "colorway": [
           "#636efa",
           "#EF553B",
           "#00cc96",
           "#ab63fa",
           "#FFA15A",
           "#19d3f3",
           "#FF6692",
           "#B6E880",
           "#FF97FF",
           "#FECB52"
          ],
          "font": {
           "color": "#2a3f5f"
          },
          "geo": {
           "bgcolor": "white",
           "lakecolor": "white",
           "landcolor": "#E5ECF6",
           "showlakes": true,
           "showland": true,
           "subunitcolor": "white"
          },
          "hoverlabel": {
           "align": "left"
          },
          "hovermode": "closest",
          "mapbox": {
           "style": "light"
          },
          "paper_bgcolor": "white",
          "plot_bgcolor": "#E5ECF6",
          "polar": {
           "angularaxis": {
            "gridcolor": "white",
            "linecolor": "white",
            "ticks": ""
           },
           "bgcolor": "#E5ECF6",
           "radialaxis": {
            "gridcolor": "white",
            "linecolor": "white",
            "ticks": ""
           }
          },
          "scene": {
           "xaxis": {
            "backgroundcolor": "#E5ECF6",
            "gridcolor": "white",
            "gridwidth": 2,
            "linecolor": "white",
            "showbackground": true,
            "ticks": "",
            "zerolinecolor": "white"
           },
           "yaxis": {
            "backgroundcolor": "#E5ECF6",
            "gridcolor": "white",
            "gridwidth": 2,
            "linecolor": "white",
            "showbackground": true,
            "ticks": "",
            "zerolinecolor": "white"
           },
           "zaxis": {
            "backgroundcolor": "#E5ECF6",
            "gridcolor": "white",
            "gridwidth": 2,
            "linecolor": "white",
            "showbackground": true,
            "ticks": "",
            "zerolinecolor": "white"
           }
          },
          "shapedefaults": {
           "line": {
            "color": "#2a3f5f"
           }
          },
          "ternary": {
           "aaxis": {
            "gridcolor": "white",
            "linecolor": "white",
            "ticks": ""
           },
           "baxis": {
            "gridcolor": "white",
            "linecolor": "white",
            "ticks": ""
           },
           "bgcolor": "#E5ECF6",
           "caxis": {
            "gridcolor": "white",
            "linecolor": "white",
            "ticks": ""
           }
          },
          "title": {
           "x": 0.05
          },
          "xaxis": {
           "automargin": true,
           "gridcolor": "white",
           "linecolor": "white",
           "ticks": "",
           "title": {
            "standoff": 15
           },
           "zerolinecolor": "white",
           "zerolinewidth": 2
          },
          "yaxis": {
           "automargin": true,
           "gridcolor": "white",
           "linecolor": "white",
           "ticks": "",
           "title": {
            "standoff": 15
           },
           "zerolinecolor": "white",
           "zerolinewidth": 2
          }
         }
        },
        "title": {
         "font": {
          "color": "#E74856",
          "family": "Jost",
          "size": 24.72222222222222
         },
         "text": "◙◙◙◙◙◙◙◙◙◙ 🡆 GAMA 🡄 ◙◙◙◙◙◙◙◙◙◙◙◙◙◙◙◙◙◙◙◙◙◙◙◙◙◙◙◙◙◙◙◙◙◙◙◙◙◙◙◙◙◙◙◙◙◙◙◙◙◙◙◙◙◙◙◙◙◙◙◙◙◙◙◙◙◙◙◙◙◙◙◙◙◙◙◙ ⒼⒶⓂⒶ ◙◙◙◙◙◙◙◙◙◙",
         "x": 0.5,
         "y": 0.95,
         "yanchor": "bottom"
        },
        "width": 2060
       }
      }
     },
     "metadata": {},
     "output_type": "display_data"
    },
    {
     "name": "stdout",
     "output_type": "stream",
     "text": [
      "TESTE 05 TABLE.png\n",
      "\n",
      "12-12-2022 PrimeiraFoto - https://chat.whatsapp.com/LK4LDajkH52BNydoLGGD2d\n",
      "12-12-2022 API - https://chat.whatsapp.com/EBLX0fxYfvuHL7jZ9CZECQ\n",
      "12-12-2022 Teste Python - https://chat.whatsapp.com/I4y7EAVfns629NvfoLUtGI\n",
      "\n",
      "• '06' SOF SUL\n",
      "\n"
     ]
    },
    {
     "name": "stderr",
     "output_type": "stream",
     "text": [
      "C:\\Users\\admin\\AppData\\Local\\Temp\\ipykernel_19088\\3465617909.py:86: RuntimeWarning:\n",
      "\n",
      "divide by zero encountered in double_scalars\n",
      "\n"
     ]
    },
    {
     "data": {
      "application/vnd.plotly.v1+json": {
       "config": {
        "plotlyServerURL": "https://plot.ly"
       },
       "data": [
        {
         "cells": {
          "align": [
           "left",
           "center"
          ],
          "fill": {
           "color": [
            [
             "#FFFFFF",
             "#FFFFFF",
             "#FFFFFF",
             "#DEEFFF",
             "#DEEFFF",
             "#FFFFFF",
             "#FFFFFF",
             "#FFFFFF",
             "#FFFFFF",
             "#FFFFFF",
             "#DEEFFF",
             "#F7F7F7",
             "#FFFFFF",
             "#FFFFFF",
             "#FFFFFF",
             "#FFFFFF",
             "#FFFFFF",
             "#DEEFFF",
             "#FFFFFF",
             "#FFFFFF",
             "#FFFFFF",
             "#FFFFFF",
             "#FFFFFF",
             "#FFFFFF",
             "#DEEFFF",
             "#FFFFFF",
             "#FFFFFF",
             "#FFFFFF",
             "#FFFFFF",
             "#FFFFFF",
             "#FFFFFF",
             "#E5E5E5"
            ],
            [
             "#FFFFFF",
             "#FFFFFF",
             "#FFFFFF",
             "#DEEFFF",
             "#DEEFFF",
             "#FFFFFF",
             "#FFFFFF",
             "#FFFFFF",
             "#FFFFFF",
             "#FFFFFF",
             "#DEEFFF",
             "#F7F7F7",
             "#FFFFFF",
             "#FFFFFF",
             "#FFFFFF",
             "#FFFFFF",
             "#FFFFFF",
             "#DEEFFF",
             "#FFFFFF",
             "#FFFFFF",
             "#FFFFFF",
             "#FFFFFF",
             "#FFFFFF",
             "#FFFFFF",
             "#DEEFFF",
             "#FFFFFF",
             "#FFFFFF",
             "#FFFFFF",
             "#FFFFFF",
             "#FFFFFF",
             "#FFFFFF",
             "#E5E5E5"
            ],
            [
             "#F7F7F7",
             "#F7F7F7",
             "#F7F7F7",
             "#DEEFFF",
             "#DEEFFF",
             "#F7F7F7",
             "#F7F7F7",
             "#F7F7F7",
             "#F7F7F7",
             "#F7F7F7",
             "#DEEFFF",
             "#F7F7F7",
             "#F7F7F7",
             "#F7F7F7",
             "#F7F7F7",
             "#F7F7F7",
             "#F7F7F7",
             "#DEEFFF",
             "#F7F7F7",
             "#F7F7F7",
             "#F7F7F7",
             "#F7F7F7",
             "#F7F7F7",
             "#F7F7F7",
             "#DEEFFF",
             "#F7F7F7",
             "#F7F7F7",
             "#F7F7F7",
             "#F7F7F7",
             "#F7F7F7",
             "#F7F7F7",
             "#E5E5E5"
            ],
            [
             "#F7F7F7",
             "#F7F7F7",
             "#F7F7F7",
             "#DEEFFF",
             "#DEEFFF",
             "#F7F7F7",
             "#F7F7F7",
             "#F7F7F7",
             "#F7F7F7",
             "#F7F7F7",
             "#DEEFFF",
             "#F7F7F7",
             "#F7F7F7",
             "#F7F7F7",
             "#F7F7F7",
             "#F7F7F7",
             "#F7F7F7",
             "#DEEFFF",
             "#F7F7F7",
             "#F7F7F7",
             "#F7F7F7",
             "#F7F7F7",
             "#F7F7F7",
             "#F7F7F7",
             "#DEEFFF",
             "#F7F7F7",
             "#F7F7F7",
             "#F7F7F7",
             "#F7F7F7",
             "#F7F7F7",
             "#F7F7F7",
             "#E5E5E5"
            ],
            [
             "#FFFFFF",
             "#FFFFFF",
             "#FFFFFF",
             "#DEEFFF",
             "#DEEFFF",
             "#FFFFFF",
             "#FFFFFF",
             "#FFFFFF",
             "#FFFFFF",
             "#FFFFFF",
             "#DEEFFF",
             "#F7F7F7",
             "#FFFFFF",
             "#FFFFFF",
             "#FFFFFF",
             "#FFFFFF",
             "#FFFFFF",
             "#DEEFFF",
             "#FFFFFF",
             "#FFFFFF",
             "#FFFFFF",
             "#FFFFFF",
             "#FFFFFF",
             "#FFFFFF",
             "#DEEFFF",
             "#FFFFFF",
             "#FFFFFF",
             "#FFFFFF",
             "#FFFFFF",
             "#FFFFFF",
             "#FFFFFF",
             "#E5E5E5"
            ],
            [
             "#FFFFFF",
             "#FFFFFF",
             "#FFFFFF",
             "#DEEFFF",
             "#DEEFFF",
             "#FFFFFF",
             "#FFFFFF",
             "#FFFFFF",
             "#FFFFFF",
             "#FFFFFF",
             "#DEEFFF",
             "#F7F7F7",
             "#FFFFFF",
             "#FFFFFF",
             "#FFFFFF",
             "#FFFFFF",
             "#FFFFFF",
             "#DEEFFF",
             "#FFFFFF",
             "#FFFFFF",
             "#FFFFFF",
             "#FFFFFF",
             "#FFFFFF",
             "#FFFFFF",
             "#DEEFFF",
             "#FFFFFF",
             "#FFFFFF",
             "#FFFFFF",
             "#FFFFFF",
             "#FFFFFF",
             "#FFFFFF",
             "#E5E5E5"
            ],
            [
             "#F7F7F7",
             "#F7F7F7",
             "#F7F7F7",
             "#DEEFFF",
             "#DEEFFF",
             "#F7F7F7",
             "#F7F7F7",
             "#F7F7F7",
             "#F7F7F7",
             "#F7F7F7",
             "#DEEFFF",
             "#F7F7F7",
             "#F7F7F7",
             "#F7F7F7",
             "#F7F7F7",
             "#F7F7F7",
             "#F7F7F7",
             "#DEEFFF",
             "#F7F7F7",
             "#F7F7F7",
             "#F7F7F7",
             "#F7F7F7",
             "#F7F7F7",
             "#F7F7F7",
             "#DEEFFF",
             "#F7F7F7",
             "#F7F7F7",
             "#F7F7F7",
             "#F7F7F7",
             "#F7F7F7",
             "#F7F7F7",
             "#E5E5E5"
            ],
            [
             "#FFFFFF",
             "#FFFFFF",
             "#FFFFFF",
             "#DEEFFF",
             "#DEEFFF",
             "#FFFFFF",
             "#FFFFFF",
             "#FFFFFF",
             "#FFFFFF",
             "#FFFFFF",
             "#DEEFFF",
             "#F7F7F7",
             "#FFFFFF",
             "#FFFFFF",
             "#FFFFFF",
             "#FFFFFF",
             "#FFFFFF",
             "#DEEFFF",
             "#FFFFFF",
             "#FFFFFF",
             "#FFFFFF",
             "#FFFFFF",
             "#FFFFFF",
             "#FFFFFF",
             "#DEEFFF",
             "#FFFFFF",
             "#FFFFFF",
             "#FFFFFF",
             "#FFFFFF",
             "#FFFFFF",
             "#FFFFFF",
             "#E5E5E5"
            ],
            [
             "#FFFFFF",
             "#FFFFFF",
             "#FFFFFF",
             "#DEEFFF",
             "#DEEFFF",
             "#FFFFFF",
             "#FFFFFF",
             "#FFFFFF",
             "#FFFFFF",
             "#FFFFFF",
             "#DEEFFF",
             "#F7F7F7",
             "#FFFFFF",
             "#FFFFFF",
             "#FFFFFF",
             "#FFFFFF",
             "#FFFFFF",
             "#DEEFFF",
             "#FFFFFF",
             "#FFFFFF",
             "#FFFFFF",
             "#FFFFFF",
             "#FFFFFF",
             "#FFFFFF",
             "#DEEFFF",
             "#FFFFFF",
             "#FFFFFF",
             "#FFFFFF",
             "#FFFFFF",
             "#FFFFFF",
             "#FFFFFF",
             "#E5E5E5"
            ],
            [
             "#F7F7F7",
             "#F7F7F7",
             "#F7F7F7",
             "#DEEFFF",
             "#DEEFFF",
             "#F7F7F7",
             "#F7F7F7",
             "#F7F7F7",
             "#F7F7F7",
             "#F7F7F7",
             "#DEEFFF",
             "#F7F7F7",
             "#F7F7F7",
             "#F7F7F7",
             "#F7F7F7",
             "#F7F7F7",
             "#F7F7F7",
             "#DEEFFF",
             "#F7F7F7",
             "#F7F7F7",
             "#F7F7F7",
             "#F7F7F7",
             "#F7F7F7",
             "#F7F7F7",
             "#DEEFFF",
             "#F7F7F7",
             "#F7F7F7",
             "#F7F7F7",
             "#F7F7F7",
             "#F7F7F7",
             "#F7F7F7",
             "#E5E5E5"
            ],
            [
             "#FFFFFF",
             "#FFFFFF",
             "#FFFFFF",
             "#DEEFFF",
             "#DEEFFF",
             "#FFFFFF",
             "#FFFFFF",
             "#FFFFFF",
             "#FFFFFF",
             "#FFFFFF",
             "#DEEFFF",
             "#F7F7F7",
             "#FFFFFF",
             "#FFFFFF",
             "#FFFFFF",
             "#FFFFFF",
             "#FFFFFF",
             "#DEEFFF",
             "#FFFFFF",
             "#FFFFFF",
             "#FFFFFF",
             "#FFFFFF",
             "#FFFFFF",
             "#FFFFFF",
             "#DEEFFF",
             "#FFFFFF",
             "#FFFFFF",
             "#FFFFFF",
             "#FFFFFF",
             "#FFFFFF",
             "#FFFFFF",
             "#E5E5E5"
            ],
            [
             "#FFFFFF",
             "#FFFFFF",
             "#FFFFFF",
             "#DEEFFF",
             "#DEEFFF",
             "#FFFFFF",
             "#FFFFFF",
             "#FFFFFF",
             "#FFFFFF",
             "#FFFFFF",
             "#DEEFFF",
             "#F7F7F7",
             "#FFFFFF",
             "#FFFFFF",
             "#FFFFFF",
             "#FFFFFF",
             "#FFFFFF",
             "#DEEFFF",
             "#FFFFFF",
             "#FFFFFF",
             "#FFFFFF",
             "#FFFFFF",
             "#FFFFFF",
             "#FFFFFF",
             "#DEEFFF",
             "#FFFFFF",
             "#FFFFFF",
             "#FFFFFF",
             "#FFFFFF",
             "#FFFFFF",
             "#FFFFFF",
             "#E5E5E5"
            ],
            [
             "#FFFFFF",
             "#FFFFFF",
             "#FFFFFF",
             "#DEEFFF",
             "#DEEFFF",
             "#FFFFFF",
             "#FFFFFF",
             "#FFFFFF",
             "#FFFFFF",
             "#FFFFFF",
             "#DEEFFF",
             "#F7F7F7",
             "#FFFFFF",
             "#FFFFFF",
             "#FFFFFF",
             "#FFFFFF",
             "#FFFFFF",
             "#DEEFFF",
             "#FFFFFF",
             "#FFFFFF",
             "#FFFFFF",
             "#FFFFFF",
             "#FFFFFF",
             "#FFFFFF",
             "#DEEFFF",
             "#FFFFFF",
             "#FFFFFF",
             "#FFFFFF",
             "#FFFFFF",
             "#FFFFFF",
             "#FFFFFF",
             "#E5E5E5"
            ],
            [
             "#FFFFFF",
             "#FFFFFF",
             "#FFFFFF",
             "#DEEFFF",
             "#DEEFFF",
             "#FFFFFF",
             "#FFFFFF",
             "#FFFFFF",
             "#FFFFFF",
             "#FFFFFF",
             "#DEEFFF",
             "#F7F7F7",
             "#FFFFFF",
             "#FFFFFF",
             "#FFFFFF",
             "#FFFFFF",
             "#FFFFFF",
             "#DEEFFF",
             "#FFFFFF",
             "#FFFFFF",
             "#FFFFFF",
             "#FFFFFF",
             "#FFFFFF",
             "#FFFFFF",
             "#DEEFFF",
             "#FFFFFF",
             "#FFFFFF",
             "#FFFFFF",
             "#FFFFFF",
             "#FFFFFF",
             "#FFFFFF",
             "#E5E5E5"
            ],
            [
             "#FFFFFF",
             "#FFFFFF",
             "#FFFFFF",
             "#DEEFFF",
             "#DEEFFF",
             "#FFFFFF",
             "#FFFFFF",
             "#FFFFFF",
             "#FFFFFF",
             "#FFFFFF",
             "#DEEFFF",
             "#F7F7F7",
             "#FFFFFF",
             "#FFFFFF",
             "#FFFFFF",
             "#FFFFFF",
             "#FFFFFF",
             "#DEEFFF",
             "#FFFFFF",
             "#FFFFFF",
             "#FFFFFF",
             "#FFFFFF",
             "#FFFFFF",
             "#FFFFFF",
             "#DEEFFF",
             "#FFFFFF",
             "#FFFFFF",
             "#FFFFFF",
             "#FFFFFF",
             "#FFFFFF",
             "#FFFFFF",
             "#E5E5E5"
            ],
            [
             "#FFFFFF",
             "#FFFFFF",
             "#FFFFFF",
             "#DEEFFF",
             "#DEEFFF",
             "#FFFFFF",
             "#FFFFFF",
             "#FFFFFF",
             "#FFFFFF",
             "#FFFFFF",
             "#DEEFFF",
             "#F7F7F7",
             "#FFFFFF",
             "#FFFFFF",
             "#FFFFFF",
             "#FFFFFF",
             "#FFFFFF",
             "#DEEFFF",
             "#FFFFFF",
             "#FFFFFF",
             "#FFFFFF",
             "#FFFFFF",
             "#FFFFFF",
             "#FFFFFF",
             "#DEEFFF",
             "#FFFFFF",
             "#FFFFFF",
             "#FFFFFF",
             "#FFFFFF",
             "#FFFFFF",
             "#FFFFFF",
             "#E5E5E5"
            ],
            [
             "#FFFFFF",
             "#FFFFFF",
             "#FFFFFF",
             "#DEEFFF",
             "#DEEFFF",
             "#FFFFFF",
             "#FFFFFF",
             "#FFFFFF",
             "#FFFFFF",
             "#FFFFFF",
             "#DEEFFF",
             "#F7F7F7",
             "#FFFFFF",
             "#FFFFFF",
             "#FFFFFF",
             "#FFFFFF",
             "#FFFFFF",
             "#DEEFFF",
             "#FFFFFF",
             "#FFFFFF",
             "#FFFFFF",
             "#FFFFFF",
             "#FFFFFF",
             "#FFFFFF",
             "#DEEFFF",
             "#FFFFFF",
             "#FFFFFF",
             "#FFFFFF",
             "#FFFFFF",
             "#FFFFFF",
             "#FFFFFF",
             "#E5E5E5"
            ],
            [
             "#FFFFFF",
             "#FFFFFF",
             "#FFFFFF",
             "#DEEFFF",
             "#DEEFFF",
             "#FFFFFF",
             "#FFFFFF",
             "#FFFFFF",
             "#FFFFFF",
             "#FFFFFF",
             "#DEEFFF",
             "#F7F7F7",
             "#FFFFFF",
             "#FFFFFF",
             "#FFFFFF",
             "#FFFFFF",
             "#FFFFFF",
             "#DEEFFF",
             "#FFFFFF",
             "#FFFFFF",
             "#FFFFFF",
             "#FFFFFF",
             "#FFFFFF",
             "#FFFFFF",
             "#DEEFFF",
             "#FFFFFF",
             "#FFFFFF",
             "#FFFFFF",
             "#FFFFFF",
             "#FFFFFF",
             "#FFFFFF",
             "#E5E5E5"
            ],
            [
             "#FFFFFF",
             "#FFFFFF",
             "#FFFFFF",
             "#DEEFFF",
             "#DEEFFF",
             "#FFFFFF",
             "#FFFFFF",
             "#FFFFFF",
             "#FFFFFF",
             "#FFFFFF",
             "#DEEFFF",
             "#F7F7F7",
             "#FFFFFF",
             "#FFFFFF",
             "#FFFFFF",
             "#FFFFFF",
             "#FFFFFF",
             "#DEEFFF",
             "#FFFFFF",
             "#FFFFFF",
             "#FFFFFF",
             "#FFFFFF",
             "#FFFFFF",
             "#FFFFFF",
             "#DEEFFF",
             "#FFFFFF",
             "#FFFFFF",
             "#FFFFFF",
             "#FFFFFF",
             "#FFFFFF",
             "#FFFFFF",
             "#E5E5E5"
            ],
            [
             "#FFFFFF",
             "#FFFFFF",
             "#FFFFFF",
             "#DEEFFF",
             "#DEEFFF",
             "#FFFFFF",
             "#FFFFFF",
             "#FFFFFF",
             "#FFFFFF",
             "#FFFFFF",
             "#DEEFFF",
             "#F7F7F7",
             "#FFFFFF",
             "#FFFFFF",
             "#FFFFFF",
             "#FFFFFF",
             "#FFFFFF",
             "#DEEFFF",
             "#FFFFFF",
             "#FFFFFF",
             "#FFFFFF",
             "#FFFFFF",
             "#FFFFFF",
             "#FFFFFF",
             "#DEEFFF",
             "#FFFFFF",
             "#FFFFFF",
             "#FFFFFF",
             "#FFFFFF",
             "#FFFFFF",
             "#FFFFFF",
             "#E5E5E5"
            ],
            [
             "#FFFFFF",
             "#FFFFFF",
             "#FFFFFF",
             "#DEEFFF",
             "#DEEFFF",
             "#FFFFFF",
             "#FFFFFF",
             "#FFFFFF",
             "#FFFFFF",
             "#FFFFFF",
             "#DEEFFF",
             "#F7F7F7",
             "#FFFFFF",
             "#FFFFFF",
             "#FFFFFF",
             "#FFFFFF",
             "#FFFFFF",
             "#DEEFFF",
             "#FFFFFF",
             "#FFFFFF",
             "#FFFFFF",
             "#FFFFFF",
             "#FFFFFF",
             "#FFFFFF",
             "#DEEFFF",
             "#FFFFFF",
             "#FFFFFF",
             "#FFFFFF",
             "#FFFFFF",
             "#FFFFFF",
             "#FFFFFF",
             "#E5E5E5"
            ],
            [
             "#FFFFFF",
             "#FFFFFF",
             "#FFFFFF",
             "#DEEFFF",
             "#DEEFFF",
             "#FFFFFF",
             "#FFFFFF",
             "#FFFFFF",
             "#FFFFFF",
             "#FFFFFF",
             "#DEEFFF",
             "#F7F7F7",
             "#FFFFFF",
             "#FFFFFF",
             "#FFFFFF",
             "#FFFFFF",
             "#FFFFFF",
             "#DEEFFF",
             "#FFFFFF",
             "#FFFFFF",
             "#FFFFFF",
             "#FFFFFF",
             "#FFFFFF",
             "#FFFFFF",
             "#DEEFFF",
             "#FFFFFF",
             "#FFFFFF",
             "#FFFFFF",
             "#FFFFFF",
             "#FFFFFF",
             "#FFFFFF",
             "#E5E5E5"
            ]
           ]
          },
          "font": {
           "color": [
            "#000000",
            "#000000",
            "#118DFF",
            "#000000",
            "#FF0000",
            "#FF0000",
            "#E04392",
            "#000000",
            "#FF0000",
            "#E04392",
            "#000000",
            "#FF0000",
            [
             "#FF0000",
             "#FF0000",
             "#FFC000",
             "#DEEFFF",
             "#DEEFFF",
             "#00B050",
             "#00B050",
             "#00B050",
             "#FF0000",
             "#00B050",
             "#DEEFFF",
             "#FF0000",
             "#FFFFFF",
             "#FFFFFF",
             "#FFFFFF",
             "#FFFFFF",
             "#FFFFFF",
             "#DEEFFF",
             "#FFFFFF",
             "#FFFFFF",
             "#FFFFFF",
             "#FFFFFF",
             "#FFFFFF",
             "#FFFFFF",
             "#DEEFFF",
             "#FFFFFF",
             "#FFFFFF",
             "#FFFFFF",
             "#FFFFFF",
             "#FFFFFF",
             "#FFFFFF",
             "#E5E5E5"
            ],
            [
             "#FF0000",
             "#FF0000",
             "#FF0000",
             "#DEEFFF",
             "#DEEFFF",
             "#00B050",
             "#00B050",
             "#00B050",
             "#00B050",
             "#00B050",
             "#DEEFFF",
             "#FF0000",
             "#FFFFFF",
             "#FFFFFF",
             "#FFFFFF",
             "#FFFFFF",
             "#FFFFFF",
             "#DEEFFF",
             "#FFFFFF",
             "#FFFFFF",
             "#FFFFFF",
             "#FFFFFF",
             "#FFFFFF",
             "#FFFFFF",
             "#DEEFFF",
             "#FFFFFF",
             "#FFFFFF",
             "#FFFFFF",
             "#FFFFFF",
             "#FFFFFF",
             "#FFFFFF",
             "#E5E5E5"
            ],
            [
             "#000000",
             "#000000",
             "#000000",
             "#DEEFFF",
             "#DEEFFF",
             "#000000",
             "#000000",
             "#000000",
             "#000000",
             "#000000",
             "#DEEFFF",
             "#000000",
             "#FFFFFF",
             "#FFFFFF",
             "#FFFFFF",
             "#FFFFFF",
             "#FFFFFF",
             "#DEEFFF",
             "#FFFFFF",
             "#FFFFFF",
             "#FFFFFF",
             "#FFFFFF",
             "#FFFFFF",
             "#FFFFFF",
             "#DEEFFF",
             "#FFFFFF",
             "#FFFFFF",
             "#FFFFFF",
             "#FFFFFF",
             "#FFFFFF",
             "#FFFFFF",
             "#118DFF"
            ]
           ],
           "family": "Segoe UI Semibold",
           "size": 13.185185185185185
          },
          "line": {
           "color": [
            [
             "#FFFFFF",
             "#FFFFFF",
             "#FFFFFF",
             "#DEEFFF",
             "#DEEFFF",
             "#FFFFFF",
             "#FFFFFF",
             "#FFFFFF",
             "#FFFFFF",
             "#FFFFFF",
             "#DEEFFF",
             "#F7F7F7",
             "#FFFFFF",
             "#FFFFFF",
             "#FFFFFF",
             "#FFFFFF",
             "#FFFFFF",
             "#DEEFFF",
             "#FFFFFF",
             "#FFFFFF",
             "#FFFFFF",
             "#FFFFFF",
             "#FFFFFF",
             "#FFFFFF",
             "#DEEFFF",
             "#FFFFFF",
             "#FFFFFF",
             "#FFFFFF",
             "#FFFFFF",
             "#FFFFFF",
             "#FFFFFF",
             "#E5E5E5"
            ],
            [
             "#FFFFFF",
             "#FFFFFF",
             "#FFFFFF",
             "#DEEFFF",
             "#DEEFFF",
             "#FFFFFF",
             "#FFFFFF",
             "#FFFFFF",
             "#FFFFFF",
             "#FFFFFF",
             "#DEEFFF",
             "#F7F7F7",
             "#FFFFFF",
             "#FFFFFF",
             "#FFFFFF",
             "#FFFFFF",
             "#FFFFFF",
             "#DEEFFF",
             "#FFFFFF",
             "#FFFFFF",
             "#FFFFFF",
             "#FFFFFF",
             "#FFFFFF",
             "#FFFFFF",
             "#DEEFFF",
             "#FFFFFF",
             "#FFFFFF",
             "#FFFFFF",
             "#FFFFFF",
             "#FFFFFF",
             "#FFFFFF",
             "#E5E5E5"
            ],
            [
             "#F7F7F7",
             "#F7F7F7",
             "#F7F7F7",
             "#DEEFFF",
             "#DEEFFF",
             "#F7F7F7",
             "#F7F7F7",
             "#F7F7F7",
             "#F7F7F7",
             "#F7F7F7",
             "#DEEFFF",
             "#F7F7F7",
             "#F7F7F7",
             "#F7F7F7",
             "#F7F7F7",
             "#F7F7F7",
             "#F7F7F7",
             "#DEEFFF",
             "#F7F7F7",
             "#F7F7F7",
             "#F7F7F7",
             "#F7F7F7",
             "#F7F7F7",
             "#F7F7F7",
             "#DEEFFF",
             "#F7F7F7",
             "#F7F7F7",
             "#F7F7F7",
             "#F7F7F7",
             "#F7F7F7",
             "#F7F7F7",
             "#E5E5E5"
            ],
            [
             "#F7F7F7",
             "#F7F7F7",
             "#F7F7F7",
             "#DEEFFF",
             "#DEEFFF",
             "#F7F7F7",
             "#F7F7F7",
             "#F7F7F7",
             "#F7F7F7",
             "#F7F7F7",
             "#DEEFFF",
             "#F7F7F7",
             "#F7F7F7",
             "#F7F7F7",
             "#F7F7F7",
             "#F7F7F7",
             "#F7F7F7",
             "#DEEFFF",
             "#F7F7F7",
             "#F7F7F7",
             "#F7F7F7",
             "#F7F7F7",
             "#F7F7F7",
             "#F7F7F7",
             "#DEEFFF",
             "#F7F7F7",
             "#F7F7F7",
             "#F7F7F7",
             "#F7F7F7",
             "#F7F7F7",
             "#F7F7F7",
             "#E5E5E5"
            ],
            [
             "#FFFFFF",
             "#FFFFFF",
             "#FFFFFF",
             "#DEEFFF",
             "#DEEFFF",
             "#FFFFFF",
             "#FFFFFF",
             "#FFFFFF",
             "#FFFFFF",
             "#FFFFFF",
             "#DEEFFF",
             "#F7F7F7",
             "#FFFFFF",
             "#FFFFFF",
             "#FFFFFF",
             "#FFFFFF",
             "#FFFFFF",
             "#DEEFFF",
             "#FFFFFF",
             "#FFFFFF",
             "#FFFFFF",
             "#FFFFFF",
             "#FFFFFF",
             "#FFFFFF",
             "#DEEFFF",
             "#FFFFFF",
             "#FFFFFF",
             "#FFFFFF",
             "#FFFFFF",
             "#FFFFFF",
             "#FFFFFF",
             "#E5E5E5"
            ],
            [
             "#FFFFFF",
             "#FFFFFF",
             "#FFFFFF",
             "#DEEFFF",
             "#DEEFFF",
             "#FFFFFF",
             "#FFFFFF",
             "#FFFFFF",
             "#FFFFFF",
             "#FFFFFF",
             "#DEEFFF",
             "#F7F7F7",
             "#FFFFFF",
             "#FFFFFF",
             "#FFFFFF",
             "#FFFFFF",
             "#FFFFFF",
             "#DEEFFF",
             "#FFFFFF",
             "#FFFFFF",
             "#FFFFFF",
             "#FFFFFF",
             "#FFFFFF",
             "#FFFFFF",
             "#DEEFFF",
             "#FFFFFF",
             "#FFFFFF",
             "#FFFFFF",
             "#FFFFFF",
             "#FFFFFF",
             "#FFFFFF",
             "#E5E5E5"
            ],
            [
             "#F7F7F7",
             "#F7F7F7",
             "#F7F7F7",
             "#DEEFFF",
             "#DEEFFF",
             "#F7F7F7",
             "#F7F7F7",
             "#F7F7F7",
             "#F7F7F7",
             "#F7F7F7",
             "#DEEFFF",
             "#F7F7F7",
             "#F7F7F7",
             "#F7F7F7",
             "#F7F7F7",
             "#F7F7F7",
             "#F7F7F7",
             "#DEEFFF",
             "#F7F7F7",
             "#F7F7F7",
             "#F7F7F7",
             "#F7F7F7",
             "#F7F7F7",
             "#F7F7F7",
             "#DEEFFF",
             "#F7F7F7",
             "#F7F7F7",
             "#F7F7F7",
             "#F7F7F7",
             "#F7F7F7",
             "#F7F7F7",
             "#E5E5E5"
            ],
            [
             "#FFFFFF",
             "#FFFFFF",
             "#FFFFFF",
             "#DEEFFF",
             "#DEEFFF",
             "#FFFFFF",
             "#FFFFFF",
             "#FFFFFF",
             "#FFFFFF",
             "#FFFFFF",
             "#DEEFFF",
             "#F7F7F7",
             "#FFFFFF",
             "#FFFFFF",
             "#FFFFFF",
             "#FFFFFF",
             "#FFFFFF",
             "#DEEFFF",
             "#FFFFFF",
             "#FFFFFF",
             "#FFFFFF",
             "#FFFFFF",
             "#FFFFFF",
             "#FFFFFF",
             "#DEEFFF",
             "#FFFFFF",
             "#FFFFFF",
             "#FFFFFF",
             "#FFFFFF",
             "#FFFFFF",
             "#FFFFFF",
             "#E5E5E5"
            ],
            [
             "#FFFFFF",
             "#FFFFFF",
             "#FFFFFF",
             "#DEEFFF",
             "#DEEFFF",
             "#FFFFFF",
             "#FFFFFF",
             "#FFFFFF",
             "#FFFFFF",
             "#FFFFFF",
             "#DEEFFF",
             "#F7F7F7",
             "#FFFFFF",
             "#FFFFFF",
             "#FFFFFF",
             "#FFFFFF",
             "#FFFFFF",
             "#DEEFFF",
             "#FFFFFF",
             "#FFFFFF",
             "#FFFFFF",
             "#FFFFFF",
             "#FFFFFF",
             "#FFFFFF",
             "#DEEFFF",
             "#FFFFFF",
             "#FFFFFF",
             "#FFFFFF",
             "#FFFFFF",
             "#FFFFFF",
             "#FFFFFF",
             "#E5E5E5"
            ],
            [
             "#F7F7F7",
             "#F7F7F7",
             "#F7F7F7",
             "#DEEFFF",
             "#DEEFFF",
             "#F7F7F7",
             "#F7F7F7",
             "#F7F7F7",
             "#F7F7F7",
             "#F7F7F7",
             "#DEEFFF",
             "#F7F7F7",
             "#F7F7F7",
             "#F7F7F7",
             "#F7F7F7",
             "#F7F7F7",
             "#F7F7F7",
             "#DEEFFF",
             "#F7F7F7",
             "#F7F7F7",
             "#F7F7F7",
             "#F7F7F7",
             "#F7F7F7",
             "#F7F7F7",
             "#DEEFFF",
             "#F7F7F7",
             "#F7F7F7",
             "#F7F7F7",
             "#F7F7F7",
             "#F7F7F7",
             "#F7F7F7",
             "#E5E5E5"
            ],
            [
             "#FFFFFF",
             "#FFFFFF",
             "#FFFFFF",
             "#DEEFFF",
             "#DEEFFF",
             "#FFFFFF",
             "#FFFFFF",
             "#FFFFFF",
             "#FFFFFF",
             "#FFFFFF",
             "#DEEFFF",
             "#F7F7F7",
             "#FFFFFF",
             "#FFFFFF",
             "#FFFFFF",
             "#FFFFFF",
             "#FFFFFF",
             "#DEEFFF",
             "#FFFFFF",
             "#FFFFFF",
             "#FFFFFF",
             "#FFFFFF",
             "#FFFFFF",
             "#FFFFFF",
             "#DEEFFF",
             "#FFFFFF",
             "#FFFFFF",
             "#FFFFFF",
             "#FFFFFF",
             "#FFFFFF",
             "#FFFFFF",
             "#E5E5E5"
            ],
            [
             "#FFFFFF",
             "#FFFFFF",
             "#FFFFFF",
             "#DEEFFF",
             "#DEEFFF",
             "#FFFFFF",
             "#FFFFFF",
             "#FFFFFF",
             "#FFFFFF",
             "#FFFFFF",
             "#DEEFFF",
             "#F7F7F7",
             "#FFFFFF",
             "#FFFFFF",
             "#FFFFFF",
             "#FFFFFF",
             "#FFFFFF",
             "#DEEFFF",
             "#FFFFFF",
             "#FFFFFF",
             "#FFFFFF",
             "#FFFFFF",
             "#FFFFFF",
             "#FFFFFF",
             "#DEEFFF",
             "#FFFFFF",
             "#FFFFFF",
             "#FFFFFF",
             "#FFFFFF",
             "#FFFFFF",
             "#FFFFFF",
             "#E5E5E5"
            ],
            [
             "#FFFFFF",
             "#FFFFFF",
             "#FFFFFF",
             "#DEEFFF",
             "#DEEFFF",
             "#FFFFFF",
             "#FFFFFF",
             "#FFFFFF",
             "#FFFFFF",
             "#FFFFFF",
             "#DEEFFF",
             "#F7F7F7",
             "#FFFFFF",
             "#FFFFFF",
             "#FFFFFF",
             "#FFFFFF",
             "#FFFFFF",
             "#DEEFFF",
             "#FFFFFF",
             "#FFFFFF",
             "#FFFFFF",
             "#FFFFFF",
             "#FFFFFF",
             "#FFFFFF",
             "#DEEFFF",
             "#FFFFFF",
             "#FFFFFF",
             "#FFFFFF",
             "#FFFFFF",
             "#FFFFFF",
             "#FFFFFF",
             "#E5E5E5"
            ],
            [
             "#FFFFFF",
             "#FFFFFF",
             "#FFFFFF",
             "#DEEFFF",
             "#DEEFFF",
             "#FFFFFF",
             "#FFFFFF",
             "#FFFFFF",
             "#FFFFFF",
             "#FFFFFF",
             "#DEEFFF",
             "#F7F7F7",
             "#FFFFFF",
             "#FFFFFF",
             "#FFFFFF",
             "#FFFFFF",
             "#FFFFFF",
             "#DEEFFF",
             "#FFFFFF",
             "#FFFFFF",
             "#FFFFFF",
             "#FFFFFF",
             "#FFFFFF",
             "#FFFFFF",
             "#DEEFFF",
             "#FFFFFF",
             "#FFFFFF",
             "#FFFFFF",
             "#FFFFFF",
             "#FFFFFF",
             "#FFFFFF",
             "#E5E5E5"
            ],
            [
             "#FFFFFF",
             "#FFFFFF",
             "#FFFFFF",
             "#DEEFFF",
             "#DEEFFF",
             "#FFFFFF",
             "#FFFFFF",
             "#FFFFFF",
             "#FFFFFF",
             "#FFFFFF",
             "#DEEFFF",
             "#F7F7F7",
             "#FFFFFF",
             "#FFFFFF",
             "#FFFFFF",
             "#FFFFFF",
             "#FFFFFF",
             "#DEEFFF",
             "#FFFFFF",
             "#FFFFFF",
             "#FFFFFF",
             "#FFFFFF",
             "#FFFFFF",
             "#FFFFFF",
             "#DEEFFF",
             "#FFFFFF",
             "#FFFFFF",
             "#FFFFFF",
             "#FFFFFF",
             "#FFFFFF",
             "#FFFFFF",
             "#E5E5E5"
            ],
            [
             "#FFFFFF",
             "#FFFFFF",
             "#FFFFFF",
             "#DEEFFF",
             "#DEEFFF",
             "#FFFFFF",
             "#FFFFFF",
             "#FFFFFF",
             "#FFFFFF",
             "#FFFFFF",
             "#DEEFFF",
             "#F7F7F7",
             "#FFFFFF",
             "#FFFFFF",
             "#FFFFFF",
             "#FFFFFF",
             "#FFFFFF",
             "#DEEFFF",
             "#FFFFFF",
             "#FFFFFF",
             "#FFFFFF",
             "#FFFFFF",
             "#FFFFFF",
             "#FFFFFF",
             "#DEEFFF",
             "#FFFFFF",
             "#FFFFFF",
             "#FFFFFF",
             "#FFFFFF",
             "#FFFFFF",
             "#FFFFFF",
             "#E5E5E5"
            ],
            [
             "#FFFFFF",
             "#FFFFFF",
             "#FFFFFF",
             "#DEEFFF",
             "#DEEFFF",
             "#FFFFFF",
             "#FFFFFF",
             "#FFFFFF",
             "#FFFFFF",
             "#FFFFFF",
             "#DEEFFF",
             "#F7F7F7",
             "#FFFFFF",
             "#FFFFFF",
             "#FFFFFF",
             "#FFFFFF",
             "#FFFFFF",
             "#DEEFFF",
             "#FFFFFF",
             "#FFFFFF",
             "#FFFFFF",
             "#FFFFFF",
             "#FFFFFF",
             "#FFFFFF",
             "#DEEFFF",
             "#FFFFFF",
             "#FFFFFF",
             "#FFFFFF",
             "#FFFFFF",
             "#FFFFFF",
             "#FFFFFF",
             "#E5E5E5"
            ],
            [
             "#FFFFFF",
             "#FFFFFF",
             "#FFFFFF",
             "#DEEFFF",
             "#DEEFFF",
             "#FFFFFF",
             "#FFFFFF",
             "#FFFFFF",
             "#FFFFFF",
             "#FFFFFF",
             "#DEEFFF",
             "#F7F7F7",
             "#FFFFFF",
             "#FFFFFF",
             "#FFFFFF",
             "#FFFFFF",
             "#FFFFFF",
             "#DEEFFF",
             "#FFFFFF",
             "#FFFFFF",
             "#FFFFFF",
             "#FFFFFF",
             "#FFFFFF",
             "#FFFFFF",
             "#DEEFFF",
             "#FFFFFF",
             "#FFFFFF",
             "#FFFFFF",
             "#FFFFFF",
             "#FFFFFF",
             "#FFFFFF",
             "#E5E5E5"
            ],
            [
             "#FFFFFF",
             "#FFFFFF",
             "#FFFFFF",
             "#DEEFFF",
             "#DEEFFF",
             "#FFFFFF",
             "#FFFFFF",
             "#FFFFFF",
             "#FFFFFF",
             "#FFFFFF",
             "#DEEFFF",
             "#F7F7F7",
             "#FFFFFF",
             "#FFFFFF",
             "#FFFFFF",
             "#FFFFFF",
             "#FFFFFF",
             "#DEEFFF",
             "#FFFFFF",
             "#FFFFFF",
             "#FFFFFF",
             "#FFFFFF",
             "#FFFFFF",
             "#FFFFFF",
             "#DEEFFF",
             "#FFFFFF",
             "#FFFFFF",
             "#FFFFFF",
             "#FFFFFF",
             "#FFFFFF",
             "#FFFFFF",
             "#E5E5E5"
            ],
            [
             "#FFFFFF",
             "#FFFFFF",
             "#FFFFFF",
             "#DEEFFF",
             "#DEEFFF",
             "#FFFFFF",
             "#FFFFFF",
             "#FFFFFF",
             "#FFFFFF",
             "#FFFFFF",
             "#DEEFFF",
             "#F7F7F7",
             "#FFFFFF",
             "#FFFFFF",
             "#FFFFFF",
             "#FFFFFF",
             "#FFFFFF",
             "#DEEFFF",
             "#FFFFFF",
             "#FFFFFF",
             "#FFFFFF",
             "#FFFFFF",
             "#FFFFFF",
             "#FFFFFF",
             "#DEEFFF",
             "#FFFFFF",
             "#FFFFFF",
             "#FFFFFF",
             "#FFFFFF",
             "#FFFFFF",
             "#FFFFFF",
             "#E5E5E5"
            ],
            [
             "#FFFFFF",
             "#FFFFFF",
             "#FFFFFF",
             "#DEEFFF",
             "#DEEFFF",
             "#FFFFFF",
             "#FFFFFF",
             "#FFFFFF",
             "#FFFFFF",
             "#FFFFFF",
             "#DEEFFF",
             "#F7F7F7",
             "#FFFFFF",
             "#FFFFFF",
             "#FFFFFF",
             "#FFFFFF",
             "#FFFFFF",
             "#DEEFFF",
             "#FFFFFF",
             "#FFFFFF",
             "#FFFFFF",
             "#FFFFFF",
             "#FFFFFF",
             "#FFFFFF",
             "#DEEFFF",
             "#FFFFFF",
             "#FFFFFF",
             "#FFFFFF",
             "#FFFFFF",
             "#FFFFFF",
             "#FFFFFF",
             "#E5E5E5"
            ],
            [
             "#FFFFFF",
             "#FFFFFF",
             "#FFFFFF",
             "#DEEFFF",
             "#DEEFFF",
             "#FFFFFF",
             "#FFFFFF",
             "#FFFFFF",
             "#FFFFFF",
             "#FFFFFF",
             "#DEEFFF",
             "#F7F7F7",
             "#FFFFFF",
             "#FFFFFF",
             "#FFFFFF",
             "#FFFFFF",
             "#FFFFFF",
             "#DEEFFF",
             "#FFFFFF",
             "#FFFFFF",
             "#FFFFFF",
             "#FFFFFF",
             "#FFFFFF",
             "#FFFFFF",
             "#DEEFFF",
             "#FFFFFF",
             "#FFFFFF",
             "#FFFFFF",
             "#FFFFFF",
             "#FFFFFF",
             "#FFFFFF",
             "#E5E5E5"
            ]
           ],
           "width": 2
          },
          "values": [
           [
            "01/12/2022, Quinta-feira",
            "02/12/2022, Sexta-feira",
            "03/12/2022, Sábado",
            "04/12/2022, Domingo",
            "05/12/2022, Segunda-feira",
            "06/12/2022, Terça-feira",
            "07/12/2022, Quarta-feira",
            "08/12/2022, Quinta-feira",
            "09/12/2022, Sexta-feira",
            "10/12/2022, Sábado",
            "11/12/2022, Domingo",
            "12/12/2022, Segunda-feira",
            "13/12/2022, Terça-feira",
            "14/12/2022, Quarta-feira",
            "15/12/2022, Quinta-feira",
            "16/12/2022, Sexta-feira",
            "17/12/2022, Sábado",
            "18/12/2022, Domingo",
            "19/12/2022, Segunda-feira",
            "20/12/2022, Terça-feira",
            "21/12/2022, Quarta-feira",
            "22/12/2022, Quinta-feira",
            "23/12/2022, Sexta-feira",
            "24/12/2022, Sábado",
            "25/12/2022, Domingo",
            "26/12/2022, Segunda-feira",
            "27/12/2022, Terça-feira",
            "28/12/2022, Quarta-feira",
            "29/12/2022, Quinta-feira",
            "30/12/2022, Sexta-feira",
            "31/12/2022, Sábado",
            "Total"
           ],
           [
            "R$ 240.476,19",
            "R$ 240.476,19",
            "R$ 70.000,00",
            "",
            "",
            "R$ 240.476,19",
            "R$ 240.476,19",
            "R$ 240.476,19",
            "R$ 168.333,33",
            "R$ 70.000,00",
            "",
            "R$ 240.476,19",
            "R$ 240.476,19",
            "R$ 240.476,19",
            "R$ 240.476,19",
            "R$ 240.476,19",
            "R$ 70.000,00",
            "",
            "R$ 240.476,19",
            "R$ 240.476,19",
            "R$ 240.476,19",
            "R$ 240.476,19",
            "R$ 240.476,19",
            "R$ 70.000,00",
            "",
            "R$ 240.476,19",
            "R$ 240.476,19",
            "R$ 240.476,19",
            "R$ 240.476,19",
            "R$ 240.476,19",
            "R$ 70.000,00",
            "R$ 5.327.857,14"
           ],
           [
            "R$ 227.095,11",
            "R$ 108.891,98",
            "R$ 73.743,88",
            "",
            "R$ 165.739,03",
            "R$ 270.097,04",
            "R$ 266.491,70",
            "R$ 256.869,82",
            "R$ 170.920,45",
            "R$ 96.164,76",
            "",
            "",
            "",
            "",
            "",
            "",
            "",
            "",
            "",
            "",
            "",
            "",
            "",
            "",
            "",
            "",
            "",
            "",
            "",
            "",
            "",
            "R$ 1.636.013,77"
           ],
           [
            "R$ 212.455,28",
            "R$ 99.342,14",
            "R$ 67.344,60",
            "",
            "R$ 160.566,22",
            "R$ 260.077,13",
            "R$ 253.252,05",
            "R$ 247.269,55",
            "R$ 157.410,71",
            "R$ 87.368,37",
            "",
            "",
            "",
            "",
            "",
            "",
            "",
            "",
            "",
            "",
            "",
            "",
            "",
            "",
            "",
            "",
            "",
            "",
            "",
            "",
            "",
            "R$ 1.545.086,05"
           ],
           [
            "R$ 14.639,83",
            "R$ 9.549,84",
            "R$ 6.399,28",
            "",
            "R$ 5.172,81",
            "R$ 10.019,91",
            "R$ 13.239,65",
            "R$ 9.600,27",
            "R$ 13.509,74",
            "R$ 8.796,39",
            "",
            "",
            "",
            "",
            "",
            "",
            "",
            "",
            "",
            "",
            "",
            "",
            "",
            "",
            "",
            "",
            "",
            "",
            "",
            "",
            "",
            "R$ 90.927,72"
           ],
           [
            "6,45%",
            "8,77%",
            "8,68%",
            "",
            "3,12%",
            "3,71%",
            "4,97%",
            "3,74%",
            "7,90%",
            "9,15%",
            "",
            "",
            "",
            "",
            "",
            "",
            "",
            "",
            "",
            "",
            "",
            "",
            "",
            "",
            "",
            "",
            "",
            "",
            "",
            "",
            "",
            "5,56%"
           ],
           [
            "R$ 205.070,46",
            "R$ 95.568,19",
            "R$ 66.663,65",
            "",
            "R$ 156.635,29",
            "R$ 250.651,08",
            "R$ 248.254,34",
            "R$ 240.002,27",
            "R$ 153.478,25",
            "R$ 83.850,04",
            "",
            "",
            "",
            "",
            "",
            "",
            "",
            "",
            "",
            "",
            "",
            "",
            "",
            "",
            "",
            "",
            "",
            "",
            "",
            "",
            "",
            "R$ 1.500.173,57"
           ],
           [
            "490",
            "294",
            "204",
            "",
            "344",
            "515",
            "547",
            "542",
            "338",
            "219",
            "",
            "",
            "",
            "",
            "",
            "",
            "",
            "",
            "",
            "",
            "",
            "",
            "",
            "",
            "",
            "",
            "",
            "",
            "",
            "",
            "",
            "1.338"
           ],
           [
            "6,81%",
            "9,99%",
            "9,18%",
            "",
            "3,27%",
            "3,92%",
            "5,20%",
            "3,62%",
            "8,30%",
            "10,28%",
            "",
            "",
            "",
            "",
            "",
            "",
            "",
            "",
            "",
            "",
            "",
            "",
            "",
            "",
            "",
            "",
            "",
            "",
            "",
            "",
            "",
            "5,83%"
           ],
           [
            "R$ 7.384,82",
            "R$ 3.773,95",
            "R$ 680,95",
            "",
            "R$ 3.930,93",
            "R$ 9.426,05",
            "R$ 4.997,71",
            "R$ 7.267,28",
            "R$ 3.932,46",
            "R$ 3.518,33",
            "",
            "",
            "",
            "",
            "",
            "",
            "",
            "",
            "",
            "",
            "",
            "",
            "",
            "",
            "",
            "",
            "",
            "",
            "",
            "",
            "",
            "R$ 44.912,48"
           ],
           [
            "19",
            "16",
            "7",
            "",
            "16",
            "29",
            "25",
            "32",
            "16",
            "15",
            "",
            "",
            "",
            "",
            "",
            "",
            "",
            "",
            "",
            "",
            "",
            "",
            "",
            "",
            "",
            "",
            "",
            "",
            "",
            "",
            "",
            "175"
           ],
           [
            "9,09%",
            "",
            "41,47%",
            "",
            "1,42%",
            "2,15%",
            "6,56%",
            "12,63%",
            "19,69%",
            "4,99%",
            "",
            "",
            "",
            "",
            "",
            "",
            "",
            "",
            "",
            "",
            "",
            "",
            "",
            "",
            "",
            "",
            "",
            "",
            "",
            "",
            "",
            "7,59%"
           ],
           [
            "88,35%",
            "41,31%",
            "96,21%",
            "",
            "",
            "108,15%",
            "105,31%",
            "102,82%",
            "93,51%",
            "124,81%",
            "",
            "",
            "",
            "",
            "",
            "",
            "",
            "",
            "",
            "",
            "",
            "",
            "",
            "",
            "",
            "",
            "",
            "",
            "",
            "",
            "",
            "29,00%"
           ],
           [
            "88,35%",
            "64,83%",
            "68,82%",
            "68,82%",
            "97,96%",
            "101,06%",
            "102,05%",
            "102,19%",
            "101,18%",
            "102,28%",
            "102,28%",
            "88,23%",
            "77,58%",
            "69,22%",
            "62,49%",
            "56,95%",
            "55,52%",
            "55,52%",
            "51,10%",
            "47,34%",
            "44,09%",
            "41,26%",
            "38,77%",
            "38,10%",
            "38,10%",
            "35,97%",
            "34,06%",
            "32,34%",
            "30,79%",
            "29,39%",
            "29,00%",
            "29,00%"
           ],
           [
            "R$ 4.707.041,38",
            "R$ 3.454.005,38",
            "R$ 3.666.404,92",
            "R$ 3.666.404,92",
            "R$ 5.219.123,28",
            "R$ 5.384.114,69",
            "R$ 5.436.967,77",
            "R$ 5.444.792,11",
            "R$ 5.390.736,82",
            "R$ 5.449.076,52",
            "R$ 5.449.076,52",
            "R$ 4.700.800,89",
            "R$ 4.133.220,62",
            "R$ 3.687.934,99",
            "R$ 3.329.262,45",
            "R$ 3.034.172,05",
            "R$ 2.957.857,00",
            "R$ 2.957.857,00",
            "R$ 2.722.607,33",
            "R$ 2.522.021,34",
            "R$ 2.348.963,28",
            "R$ 2.198.130,24",
            "R$ 2.065.499,16",
            "R$ 2.029.847,39",
            "R$ 2.029.847,39",
            "R$ 1.916.221,83",
            "R$ 1.814.642,87",
            "R$ 1.723.291,16",
            "R$ 1.640.696,18",
            "R$ 1.565.656,41",
            "R$ 1.545.086,05",
            ""
           ]
          ]
         },
         "columnwidth": [
          10.300925925925926,
          6.592592592592593,
          6.592592592592593,
          6.592592592592593,
          6.592592592592593,
          4.12037037037037,
          6.592592592592593,
          5.356481481481481,
          4.944444444444445,
          6.592592592592593,
          4.944444444444445,
          4.12037037037037,
          2.8842592592592595,
          2.8842592592592595,
          6.592592592592593
         ],
         "domain": {
          "y": [
           0,
           1
          ]
         },
         "header": {
          "align": "center",
          "fill": {
           "color": "#E5E5E5"
          },
          "font": {
           "color": [
            "#000000",
            "#000000",
            "#118DFF",
            "#000000",
            "#FF0000",
            "#FF0000",
            "#E04392",
            "#000000",
            "#FF0000",
            "#E04392",
            "#000000",
            "#FF0000",
            "#000000",
            "#000000",
            "#000000"
           ],
           "family": "Segoe UI Semibold",
           "size": 13.185185185185185
          },
          "line": {
           "color": "#E5E5E5",
           "width": 3
          },
          "values": [
           "Data",
           "Meta",
           "Venda\nSIAC",
           "Venda\nLíquida",
           "Devolução",
           "%\nDev",
           "Venda\nCNPJ",
           "Clientes\nCNPJ",
           "% Dev\nCNPJ",
           "Venda\nCPF",
           "Clientes\nCPF",
           "% Dev\nCPF",
           "%\nDia",
           "%\nMês",
           "Projeção\nmensal"
          ]
         },
         "type": "table"
        }
       ],
       "layout": {
        "height": 890,
        "template": {
         "data": {
          "bar": [
           {
            "error_x": {
             "color": "#2a3f5f"
            },
            "error_y": {
             "color": "#2a3f5f"
            },
            "marker": {
             "line": {
              "color": "#E5ECF6",
              "width": 0.5
             },
             "pattern": {
              "fillmode": "overlay",
              "size": 10,
              "solidity": 0.2
             }
            },
            "type": "bar"
           }
          ],
          "barpolar": [
           {
            "marker": {
             "line": {
              "color": "#E5ECF6",
              "width": 0.5
             },
             "pattern": {
              "fillmode": "overlay",
              "size": 10,
              "solidity": 0.2
             }
            },
            "type": "barpolar"
           }
          ],
          "carpet": [
           {
            "aaxis": {
             "endlinecolor": "#2a3f5f",
             "gridcolor": "white",
             "linecolor": "white",
             "minorgridcolor": "white",
             "startlinecolor": "#2a3f5f"
            },
            "baxis": {
             "endlinecolor": "#2a3f5f",
             "gridcolor": "white",
             "linecolor": "white",
             "minorgridcolor": "white",
             "startlinecolor": "#2a3f5f"
            },
            "type": "carpet"
           }
          ],
          "choropleth": [
           {
            "colorbar": {
             "outlinewidth": 0,
             "ticks": ""
            },
            "type": "choropleth"
           }
          ],
          "contour": [
           {
            "colorbar": {
             "outlinewidth": 0,
             "ticks": ""
            },
            "colorscale": [
             [
              0,
              "#0d0887"
             ],
             [
              0.1111111111111111,
              "#46039f"
             ],
             [
              0.2222222222222222,
              "#7201a8"
             ],
             [
              0.3333333333333333,
              "#9c179e"
             ],
             [
              0.4444444444444444,
              "#bd3786"
             ],
             [
              0.5555555555555556,
              "#d8576b"
             ],
             [
              0.6666666666666666,
              "#ed7953"
             ],
             [
              0.7777777777777778,
              "#fb9f3a"
             ],
             [
              0.8888888888888888,
              "#fdca26"
             ],
             [
              1,
              "#f0f921"
             ]
            ],
            "type": "contour"
           }
          ],
          "contourcarpet": [
           {
            "colorbar": {
             "outlinewidth": 0,
             "ticks": ""
            },
            "type": "contourcarpet"
           }
          ],
          "heatmap": [
           {
            "colorbar": {
             "outlinewidth": 0,
             "ticks": ""
            },
            "colorscale": [
             [
              0,
              "#0d0887"
             ],
             [
              0.1111111111111111,
              "#46039f"
             ],
             [
              0.2222222222222222,
              "#7201a8"
             ],
             [
              0.3333333333333333,
              "#9c179e"
             ],
             [
              0.4444444444444444,
              "#bd3786"
             ],
             [
              0.5555555555555556,
              "#d8576b"
             ],
             [
              0.6666666666666666,
              "#ed7953"
             ],
             [
              0.7777777777777778,
              "#fb9f3a"
             ],
             [
              0.8888888888888888,
              "#fdca26"
             ],
             [
              1,
              "#f0f921"
             ]
            ],
            "type": "heatmap"
           }
          ],
          "heatmapgl": [
           {
            "colorbar": {
             "outlinewidth": 0,
             "ticks": ""
            },
            "colorscale": [
             [
              0,
              "#0d0887"
             ],
             [
              0.1111111111111111,
              "#46039f"
             ],
             [
              0.2222222222222222,
              "#7201a8"
             ],
             [
              0.3333333333333333,
              "#9c179e"
             ],
             [
              0.4444444444444444,
              "#bd3786"
             ],
             [
              0.5555555555555556,
              "#d8576b"
             ],
             [
              0.6666666666666666,
              "#ed7953"
             ],
             [
              0.7777777777777778,
              "#fb9f3a"
             ],
             [
              0.8888888888888888,
              "#fdca26"
             ],
             [
              1,
              "#f0f921"
             ]
            ],
            "type": "heatmapgl"
           }
          ],
          "histogram": [
           {
            "marker": {
             "pattern": {
              "fillmode": "overlay",
              "size": 10,
              "solidity": 0.2
             }
            },
            "type": "histogram"
           }
          ],
          "histogram2d": [
           {
            "colorbar": {
             "outlinewidth": 0,
             "ticks": ""
            },
            "colorscale": [
             [
              0,
              "#0d0887"
             ],
             [
              0.1111111111111111,
              "#46039f"
             ],
             [
              0.2222222222222222,
              "#7201a8"
             ],
             [
              0.3333333333333333,
              "#9c179e"
             ],
             [
              0.4444444444444444,
              "#bd3786"
             ],
             [
              0.5555555555555556,
              "#d8576b"
             ],
             [
              0.6666666666666666,
              "#ed7953"
             ],
             [
              0.7777777777777778,
              "#fb9f3a"
             ],
             [
              0.8888888888888888,
              "#fdca26"
             ],
             [
              1,
              "#f0f921"
             ]
            ],
            "type": "histogram2d"
           }
          ],
          "histogram2dcontour": [
           {
            "colorbar": {
             "outlinewidth": 0,
             "ticks": ""
            },
            "colorscale": [
             [
              0,
              "#0d0887"
             ],
             [
              0.1111111111111111,
              "#46039f"
             ],
             [
              0.2222222222222222,
              "#7201a8"
             ],
             [
              0.3333333333333333,
              "#9c179e"
             ],
             [
              0.4444444444444444,
              "#bd3786"
             ],
             [
              0.5555555555555556,
              "#d8576b"
             ],
             [
              0.6666666666666666,
              "#ed7953"
             ],
             [
              0.7777777777777778,
              "#fb9f3a"
             ],
             [
              0.8888888888888888,
              "#fdca26"
             ],
             [
              1,
              "#f0f921"
             ]
            ],
            "type": "histogram2dcontour"
           }
          ],
          "mesh3d": [
           {
            "colorbar": {
             "outlinewidth": 0,
             "ticks": ""
            },
            "type": "mesh3d"
           }
          ],
          "parcoords": [
           {
            "line": {
             "colorbar": {
              "outlinewidth": 0,
              "ticks": ""
             }
            },
            "type": "parcoords"
           }
          ],
          "pie": [
           {
            "automargin": true,
            "type": "pie"
           }
          ],
          "scatter": [
           {
            "fillpattern": {
             "fillmode": "overlay",
             "size": 10,
             "solidity": 0.2
            },
            "type": "scatter"
           }
          ],
          "scatter3d": [
           {
            "line": {
             "colorbar": {
              "outlinewidth": 0,
              "ticks": ""
             }
            },
            "marker": {
             "colorbar": {
              "outlinewidth": 0,
              "ticks": ""
             }
            },
            "type": "scatter3d"
           }
          ],
          "scattercarpet": [
           {
            "marker": {
             "colorbar": {
              "outlinewidth": 0,
              "ticks": ""
             }
            },
            "type": "scattercarpet"
           }
          ],
          "scattergeo": [
           {
            "marker": {
             "colorbar": {
              "outlinewidth": 0,
              "ticks": ""
             }
            },
            "type": "scattergeo"
           }
          ],
          "scattergl": [
           {
            "marker": {
             "colorbar": {
              "outlinewidth": 0,
              "ticks": ""
             }
            },
            "type": "scattergl"
           }
          ],
          "scattermapbox": [
           {
            "marker": {
             "colorbar": {
              "outlinewidth": 0,
              "ticks": ""
             }
            },
            "type": "scattermapbox"
           }
          ],
          "scatterpolar": [
           {
            "marker": {
             "colorbar": {
              "outlinewidth": 0,
              "ticks": ""
             }
            },
            "type": "scatterpolar"
           }
          ],
          "scatterpolargl": [
           {
            "marker": {
             "colorbar": {
              "outlinewidth": 0,
              "ticks": ""
             }
            },
            "type": "scatterpolargl"
           }
          ],
          "scatterternary": [
           {
            "marker": {
             "colorbar": {
              "outlinewidth": 0,
              "ticks": ""
             }
            },
            "type": "scatterternary"
           }
          ],
          "surface": [
           {
            "colorbar": {
             "outlinewidth": 0,
             "ticks": ""
            },
            "colorscale": [
             [
              0,
              "#0d0887"
             ],
             [
              0.1111111111111111,
              "#46039f"
             ],
             [
              0.2222222222222222,
              "#7201a8"
             ],
             [
              0.3333333333333333,
              "#9c179e"
             ],
             [
              0.4444444444444444,
              "#bd3786"
             ],
             [
              0.5555555555555556,
              "#d8576b"
             ],
             [
              0.6666666666666666,
              "#ed7953"
             ],
             [
              0.7777777777777778,
              "#fb9f3a"
             ],
             [
              0.8888888888888888,
              "#fdca26"
             ],
             [
              1,
              "#f0f921"
             ]
            ],
            "type": "surface"
           }
          ],
          "table": [
           {
            "cells": {
             "fill": {
              "color": "#EBF0F8"
             },
             "line": {
              "color": "white"
             }
            },
            "header": {
             "fill": {
              "color": "#C8D4E3"
             },
             "line": {
              "color": "white"
             }
            },
            "type": "table"
           }
          ]
         },
         "layout": {
          "annotationdefaults": {
           "arrowcolor": "#2a3f5f",
           "arrowhead": 0,
           "arrowwidth": 1
          },
          "autotypenumbers": "strict",
          "coloraxis": {
           "colorbar": {
            "outlinewidth": 0,
            "ticks": ""
           }
          },
          "colorscale": {
           "diverging": [
            [
             0,
             "#8e0152"
            ],
            [
             0.1,
             "#c51b7d"
            ],
            [
             0.2,
             "#de77ae"
            ],
            [
             0.3,
             "#f1b6da"
            ],
            [
             0.4,
             "#fde0ef"
            ],
            [
             0.5,
             "#f7f7f7"
            ],
            [
             0.6,
             "#e6f5d0"
            ],
            [
             0.7,
             "#b8e186"
            ],
            [
             0.8,
             "#7fbc41"
            ],
            [
             0.9,
             "#4d9221"
            ],
            [
             1,
             "#276419"
            ]
           ],
           "sequential": [
            [
             0,
             "#0d0887"
            ],
            [
             0.1111111111111111,
             "#46039f"
            ],
            [
             0.2222222222222222,
             "#7201a8"
            ],
            [
             0.3333333333333333,
             "#9c179e"
            ],
            [
             0.4444444444444444,
             "#bd3786"
            ],
            [
             0.5555555555555556,
             "#d8576b"
            ],
            [
             0.6666666666666666,
             "#ed7953"
            ],
            [
             0.7777777777777778,
             "#fb9f3a"
            ],
            [
             0.8888888888888888,
             "#fdca26"
            ],
            [
             1,
             "#f0f921"
            ]
           ],
           "sequentialminus": [
            [
             0,
             "#0d0887"
            ],
            [
             0.1111111111111111,
             "#46039f"
            ],
            [
             0.2222222222222222,
             "#7201a8"
            ],
            [
             0.3333333333333333,
             "#9c179e"
            ],
            [
             0.4444444444444444,
             "#bd3786"
            ],
            [
             0.5555555555555556,
             "#d8576b"
            ],
            [
             0.6666666666666666,
             "#ed7953"
            ],
            [
             0.7777777777777778,
             "#fb9f3a"
            ],
            [
             0.8888888888888888,
             "#fdca26"
            ],
            [
             1,
             "#f0f921"
            ]
           ]
          },
          "colorway": [
           "#636efa",
           "#EF553B",
           "#00cc96",
           "#ab63fa",
           "#FFA15A",
           "#19d3f3",
           "#FF6692",
           "#B6E880",
           "#FF97FF",
           "#FECB52"
          ],
          "font": {
           "color": "#2a3f5f"
          },
          "geo": {
           "bgcolor": "white",
           "lakecolor": "white",
           "landcolor": "#E5ECF6",
           "showlakes": true,
           "showland": true,
           "subunitcolor": "white"
          },
          "hoverlabel": {
           "align": "left"
          },
          "hovermode": "closest",
          "mapbox": {
           "style": "light"
          },
          "paper_bgcolor": "white",
          "plot_bgcolor": "#E5ECF6",
          "polar": {
           "angularaxis": {
            "gridcolor": "white",
            "linecolor": "white",
            "ticks": ""
           },
           "bgcolor": "#E5ECF6",
           "radialaxis": {
            "gridcolor": "white",
            "linecolor": "white",
            "ticks": ""
           }
          },
          "scene": {
           "xaxis": {
            "backgroundcolor": "#E5ECF6",
            "gridcolor": "white",
            "gridwidth": 2,
            "linecolor": "white",
            "showbackground": true,
            "ticks": "",
            "zerolinecolor": "white"
           },
           "yaxis": {
            "backgroundcolor": "#E5ECF6",
            "gridcolor": "white",
            "gridwidth": 2,
            "linecolor": "white",
            "showbackground": true,
            "ticks": "",
            "zerolinecolor": "white"
           },
           "zaxis": {
            "backgroundcolor": "#E5ECF6",
            "gridcolor": "white",
            "gridwidth": 2,
            "linecolor": "white",
            "showbackground": true,
            "ticks": "",
            "zerolinecolor": "white"
           }
          },
          "shapedefaults": {
           "line": {
            "color": "#2a3f5f"
           }
          },
          "ternary": {
           "aaxis": {
            "gridcolor": "white",
            "linecolor": "white",
            "ticks": ""
           },
           "baxis": {
            "gridcolor": "white",
            "linecolor": "white",
            "ticks": ""
           },
           "bgcolor": "#E5ECF6",
           "caxis": {
            "gridcolor": "white",
            "linecolor": "white",
            "ticks": ""
           }
          },
          "title": {
           "x": 0.05
          },
          "xaxis": {
           "automargin": true,
           "gridcolor": "white",
           "linecolor": "white",
           "ticks": "",
           "title": {
            "standoff": 15
           },
           "zerolinecolor": "white",
           "zerolinewidth": 2
          },
          "yaxis": {
           "automargin": true,
           "gridcolor": "white",
           "linecolor": "white",
           "ticks": "",
           "title": {
            "standoff": 15
           },
           "zerolinecolor": "white",
           "zerolinewidth": 2
          }
         }
        },
        "title": {
         "font": {
          "color": "#00B050",
          "family": "Jost",
          "size": 24.72222222222222
         },
         "text": "◙◙◙◙◙◙◙◙◙◙ 🡆 SOF SUL 🡄 ◙◙◙◙◙◙◙◙◙◙◙◙◙◙◙◙◙◙◙◙◙◙◙◙◙◙◙◙◙◙◙◙◙◙◙◙◙◙◙◙◙◙◙◙◙◙◙◙◙◙◙◙◙◙◙◙◙◙◙◙◙◙◙◙◙◙◙◙◙◙◙◙◙◙◙◙ ⓈⓄⒻ ⓈⓊⓁ ◙◙◙◙◙◙◙◙◙◙",
         "x": 0.5,
         "y": 0.95,
         "yanchor": "bottom"
        },
        "width": 2060
       }
      }
     },
     "metadata": {},
     "output_type": "display_data"
    },
    {
     "name": "stdout",
     "output_type": "stream",
     "text": [
      "TESTE 06 TABLE.png\n",
      "\n",
      "12-12-2022 PrimeiraFoto - https://chat.whatsapp.com/LK4LDajkH52BNydoLGGD2d\n",
      "12-12-2022 API - https://chat.whatsapp.com/EBLX0fxYfvuHL7jZ9CZECQ\n",
      "12-12-2022 Teste Python - https://chat.whatsapp.com/I4y7EAVfns629NvfoLUtGI\n",
      "\n",
      "• 'VO' E-COMMERCE\n",
      "\n"
     ]
    },
    {
     "name": "stderr",
     "output_type": "stream",
     "text": [
      "C:\\Users\\admin\\AppData\\Local\\Temp\\ipykernel_19088\\3465617909.py:86: RuntimeWarning:\n",
      "\n",
      "divide by zero encountered in double_scalars\n",
      "\n"
     ]
    },
    {
     "data": {
      "application/vnd.plotly.v1+json": {
       "config": {
        "plotlyServerURL": "https://plot.ly"
       },
       "data": [
        {
         "cells": {
          "align": [
           "left",
           "center"
          ],
          "fill": {
           "color": [
            [
             "#FFFFFF",
             "#FFFFFF",
             "#FFFFFF",
             "#DEEFFF",
             "#DEEFFF",
             "#FFFFFF",
             "#FFFFFF",
             "#FFFFFF",
             "#FFFFFF",
             "#FFFFFF",
             "#DEEFFF",
             "#F7F7F7",
             "#FFFFFF",
             "#FFFFFF",
             "#FFFFFF",
             "#FFFFFF",
             "#FFFFFF",
             "#DEEFFF",
             "#FFFFFF",
             "#FFFFFF",
             "#FFFFFF",
             "#FFFFFF",
             "#FFFFFF",
             "#FFFFFF",
             "#DEEFFF",
             "#FFFFFF",
             "#FFFFFF",
             "#FFFFFF",
             "#FFFFFF",
             "#FFFFFF",
             "#FFFFFF",
             "#E5E5E5"
            ],
            [
             "#FFFFFF",
             "#FFFFFF",
             "#FFFFFF",
             "#DEEFFF",
             "#DEEFFF",
             "#FFFFFF",
             "#FFFFFF",
             "#FFFFFF",
             "#FFFFFF",
             "#FFFFFF",
             "#DEEFFF",
             "#F7F7F7",
             "#FFFFFF",
             "#FFFFFF",
             "#FFFFFF",
             "#FFFFFF",
             "#FFFFFF",
             "#DEEFFF",
             "#FFFFFF",
             "#FFFFFF",
             "#FFFFFF",
             "#FFFFFF",
             "#FFFFFF",
             "#FFFFFF",
             "#DEEFFF",
             "#FFFFFF",
             "#FFFFFF",
             "#FFFFFF",
             "#FFFFFF",
             "#FFFFFF",
             "#FFFFFF",
             "#E5E5E5"
            ],
            [
             "#F7F7F7",
             "#F7F7F7",
             "#F7F7F7",
             "#DEEFFF",
             "#DEEFFF",
             "#F7F7F7",
             "#F7F7F7",
             "#F7F7F7",
             "#F7F7F7",
             "#F7F7F7",
             "#DEEFFF",
             "#F7F7F7",
             "#F7F7F7",
             "#F7F7F7",
             "#F7F7F7",
             "#F7F7F7",
             "#F7F7F7",
             "#DEEFFF",
             "#F7F7F7",
             "#F7F7F7",
             "#F7F7F7",
             "#F7F7F7",
             "#F7F7F7",
             "#F7F7F7",
             "#DEEFFF",
             "#F7F7F7",
             "#F7F7F7",
             "#F7F7F7",
             "#F7F7F7",
             "#F7F7F7",
             "#F7F7F7",
             "#E5E5E5"
            ],
            [
             "#F7F7F7",
             "#F7F7F7",
             "#F7F7F7",
             "#DEEFFF",
             "#DEEFFF",
             "#F7F7F7",
             "#F7F7F7",
             "#F7F7F7",
             "#F7F7F7",
             "#F7F7F7",
             "#DEEFFF",
             "#F7F7F7",
             "#F7F7F7",
             "#F7F7F7",
             "#F7F7F7",
             "#F7F7F7",
             "#F7F7F7",
             "#DEEFFF",
             "#F7F7F7",
             "#F7F7F7",
             "#F7F7F7",
             "#F7F7F7",
             "#F7F7F7",
             "#F7F7F7",
             "#DEEFFF",
             "#F7F7F7",
             "#F7F7F7",
             "#F7F7F7",
             "#F7F7F7",
             "#F7F7F7",
             "#F7F7F7",
             "#E5E5E5"
            ],
            [
             "#FFFFFF",
             "#FFFFFF",
             "#FFFFFF",
             "#DEEFFF",
             "#DEEFFF",
             "#FFFFFF",
             "#FFFFFF",
             "#FFFFFF",
             "#FFFFFF",
             "#FFFFFF",
             "#DEEFFF",
             "#F7F7F7",
             "#FFFFFF",
             "#FFFFFF",
             "#FFFFFF",
             "#FFFFFF",
             "#FFFFFF",
             "#DEEFFF",
             "#FFFFFF",
             "#FFFFFF",
             "#FFFFFF",
             "#FFFFFF",
             "#FFFFFF",
             "#FFFFFF",
             "#DEEFFF",
             "#FFFFFF",
             "#FFFFFF",
             "#FFFFFF",
             "#FFFFFF",
             "#FFFFFF",
             "#FFFFFF",
             "#E5E5E5"
            ],
            [
             "#FFFFFF",
             "#FFFFFF",
             "#FFFFFF",
             "#DEEFFF",
             "#DEEFFF",
             "#FFFFFF",
             "#FFFFFF",
             "#FFFFFF",
             "#FFFFFF",
             "#FFFFFF",
             "#DEEFFF",
             "#F7F7F7",
             "#FFFFFF",
             "#FFFFFF",
             "#FFFFFF",
             "#FFFFFF",
             "#FFFFFF",
             "#DEEFFF",
             "#FFFFFF",
             "#FFFFFF",
             "#FFFFFF",
             "#FFFFFF",
             "#FFFFFF",
             "#FFFFFF",
             "#DEEFFF",
             "#FFFFFF",
             "#FFFFFF",
             "#FFFFFF",
             "#FFFFFF",
             "#FFFFFF",
             "#FFFFFF",
             "#E5E5E5"
            ],
            [
             "#F7F7F7",
             "#F7F7F7",
             "#F7F7F7",
             "#DEEFFF",
             "#DEEFFF",
             "#F7F7F7",
             "#F7F7F7",
             "#F7F7F7",
             "#F7F7F7",
             "#F7F7F7",
             "#DEEFFF",
             "#F7F7F7",
             "#F7F7F7",
             "#F7F7F7",
             "#F7F7F7",
             "#F7F7F7",
             "#F7F7F7",
             "#DEEFFF",
             "#F7F7F7",
             "#F7F7F7",
             "#F7F7F7",
             "#F7F7F7",
             "#F7F7F7",
             "#F7F7F7",
             "#DEEFFF",
             "#F7F7F7",
             "#F7F7F7",
             "#F7F7F7",
             "#F7F7F7",
             "#F7F7F7",
             "#F7F7F7",
             "#E5E5E5"
            ],
            [
             "#FFFFFF",
             "#FFFFFF",
             "#FFFFFF",
             "#DEEFFF",
             "#DEEFFF",
             "#FFFFFF",
             "#FFFFFF",
             "#FFFFFF",
             "#FFFFFF",
             "#FFFFFF",
             "#DEEFFF",
             "#F7F7F7",
             "#FFFFFF",
             "#FFFFFF",
             "#FFFFFF",
             "#FFFFFF",
             "#FFFFFF",
             "#DEEFFF",
             "#FFFFFF",
             "#FFFFFF",
             "#FFFFFF",
             "#FFFFFF",
             "#FFFFFF",
             "#FFFFFF",
             "#DEEFFF",
             "#FFFFFF",
             "#FFFFFF",
             "#FFFFFF",
             "#FFFFFF",
             "#FFFFFF",
             "#FFFFFF",
             "#E5E5E5"
            ],
            [
             "#FFFFFF",
             "#FFFFFF",
             "#FFFFFF",
             "#DEEFFF",
             "#DEEFFF",
             "#FFFFFF",
             "#FFFFFF",
             "#FFFFFF",
             "#FFFFFF",
             "#FFFFFF",
             "#DEEFFF",
             "#F7F7F7",
             "#FFFFFF",
             "#FFFFFF",
             "#FFFFFF",
             "#FFFFFF",
             "#FFFFFF",
             "#DEEFFF",
             "#FFFFFF",
             "#FFFFFF",
             "#FFFFFF",
             "#FFFFFF",
             "#FFFFFF",
             "#FFFFFF",
             "#DEEFFF",
             "#FFFFFF",
             "#FFFFFF",
             "#FFFFFF",
             "#FFFFFF",
             "#FFFFFF",
             "#FFFFFF",
             "#E5E5E5"
            ],
            [
             "#F7F7F7",
             "#F7F7F7",
             "#F7F7F7",
             "#DEEFFF",
             "#DEEFFF",
             "#F7F7F7",
             "#F7F7F7",
             "#F7F7F7",
             "#F7F7F7",
             "#F7F7F7",
             "#DEEFFF",
             "#F7F7F7",
             "#F7F7F7",
             "#F7F7F7",
             "#F7F7F7",
             "#F7F7F7",
             "#F7F7F7",
             "#DEEFFF",
             "#F7F7F7",
             "#F7F7F7",
             "#F7F7F7",
             "#F7F7F7",
             "#F7F7F7",
             "#F7F7F7",
             "#DEEFFF",
             "#F7F7F7",
             "#F7F7F7",
             "#F7F7F7",
             "#F7F7F7",
             "#F7F7F7",
             "#F7F7F7",
             "#E5E5E5"
            ],
            [
             "#FFFFFF",
             "#FFFFFF",
             "#FFFFFF",
             "#DEEFFF",
             "#DEEFFF",
             "#FFFFFF",
             "#FFFFFF",
             "#FFFFFF",
             "#FFFFFF",
             "#FFFFFF",
             "#DEEFFF",
             "#F7F7F7",
             "#FFFFFF",
             "#FFFFFF",
             "#FFFFFF",
             "#FFFFFF",
             "#FFFFFF",
             "#DEEFFF",
             "#FFFFFF",
             "#FFFFFF",
             "#FFFFFF",
             "#FFFFFF",
             "#FFFFFF",
             "#FFFFFF",
             "#DEEFFF",
             "#FFFFFF",
             "#FFFFFF",
             "#FFFFFF",
             "#FFFFFF",
             "#FFFFFF",
             "#FFFFFF",
             "#E5E5E5"
            ],
            [
             "#FFFFFF",
             "#FFFFFF",
             "#FFFFFF",
             "#DEEFFF",
             "#DEEFFF",
             "#FFFFFF",
             "#FFFFFF",
             "#FFFFFF",
             "#FFFFFF",
             "#FFFFFF",
             "#DEEFFF",
             "#F7F7F7",
             "#FFFFFF",
             "#FFFFFF",
             "#FFFFFF",
             "#FFFFFF",
             "#FFFFFF",
             "#DEEFFF",
             "#FFFFFF",
             "#FFFFFF",
             "#FFFFFF",
             "#FFFFFF",
             "#FFFFFF",
             "#FFFFFF",
             "#DEEFFF",
             "#FFFFFF",
             "#FFFFFF",
             "#FFFFFF",
             "#FFFFFF",
             "#FFFFFF",
             "#FFFFFF",
             "#E5E5E5"
            ],
            [
             "#FFFFFF",
             "#FFFFFF",
             "#FFFFFF",
             "#DEEFFF",
             "#DEEFFF",
             "#FFFFFF",
             "#FFFFFF",
             "#FFFFFF",
             "#FFFFFF",
             "#FFFFFF",
             "#DEEFFF",
             "#F7F7F7",
             "#FFFFFF",
             "#FFFFFF",
             "#FFFFFF",
             "#FFFFFF",
             "#FFFFFF",
             "#DEEFFF",
             "#FFFFFF",
             "#FFFFFF",
             "#FFFFFF",
             "#FFFFFF",
             "#FFFFFF",
             "#FFFFFF",
             "#DEEFFF",
             "#FFFFFF",
             "#FFFFFF",
             "#FFFFFF",
             "#FFFFFF",
             "#FFFFFF",
             "#FFFFFF",
             "#E5E5E5"
            ],
            [
             "#FFFFFF",
             "#FFFFFF",
             "#FFFFFF",
             "#DEEFFF",
             "#DEEFFF",
             "#FFFFFF",
             "#FFFFFF",
             "#FFFFFF",
             "#FFFFFF",
             "#FFFFFF",
             "#DEEFFF",
             "#F7F7F7",
             "#FFFFFF",
             "#FFFFFF",
             "#FFFFFF",
             "#FFFFFF",
             "#FFFFFF",
             "#DEEFFF",
             "#FFFFFF",
             "#FFFFFF",
             "#FFFFFF",
             "#FFFFFF",
             "#FFFFFF",
             "#FFFFFF",
             "#DEEFFF",
             "#FFFFFF",
             "#FFFFFF",
             "#FFFFFF",
             "#FFFFFF",
             "#FFFFFF",
             "#FFFFFF",
             "#E5E5E5"
            ],
            [
             "#FFFFFF",
             "#FFFFFF",
             "#FFFFFF",
             "#DEEFFF",
             "#DEEFFF",
             "#FFFFFF",
             "#FFFFFF",
             "#FFFFFF",
             "#FFFFFF",
             "#FFFFFF",
             "#DEEFFF",
             "#F7F7F7",
             "#FFFFFF",
             "#FFFFFF",
             "#FFFFFF",
             "#FFFFFF",
             "#FFFFFF",
             "#DEEFFF",
             "#FFFFFF",
             "#FFFFFF",
             "#FFFFFF",
             "#FFFFFF",
             "#FFFFFF",
             "#FFFFFF",
             "#DEEFFF",
             "#FFFFFF",
             "#FFFFFF",
             "#FFFFFF",
             "#FFFFFF",
             "#FFFFFF",
             "#FFFFFF",
             "#E5E5E5"
            ],
            [
             "#FFFFFF",
             "#FFFFFF",
             "#FFFFFF",
             "#DEEFFF",
             "#DEEFFF",
             "#FFFFFF",
             "#FFFFFF",
             "#FFFFFF",
             "#FFFFFF",
             "#FFFFFF",
             "#DEEFFF",
             "#F7F7F7",
             "#FFFFFF",
             "#FFFFFF",
             "#FFFFFF",
             "#FFFFFF",
             "#FFFFFF",
             "#DEEFFF",
             "#FFFFFF",
             "#FFFFFF",
             "#FFFFFF",
             "#FFFFFF",
             "#FFFFFF",
             "#FFFFFF",
             "#DEEFFF",
             "#FFFFFF",
             "#FFFFFF",
             "#FFFFFF",
             "#FFFFFF",
             "#FFFFFF",
             "#FFFFFF",
             "#E5E5E5"
            ],
            [
             "#FFFFFF",
             "#FFFFFF",
             "#FFFFFF",
             "#DEEFFF",
             "#DEEFFF",
             "#FFFFFF",
             "#FFFFFF",
             "#FFFFFF",
             "#FFFFFF",
             "#FFFFFF",
             "#DEEFFF",
             "#F7F7F7",
             "#FFFFFF",
             "#FFFFFF",
             "#FFFFFF",
             "#FFFFFF",
             "#FFFFFF",
             "#DEEFFF",
             "#FFFFFF",
             "#FFFFFF",
             "#FFFFFF",
             "#FFFFFF",
             "#FFFFFF",
             "#FFFFFF",
             "#DEEFFF",
             "#FFFFFF",
             "#FFFFFF",
             "#FFFFFF",
             "#FFFFFF",
             "#FFFFFF",
             "#FFFFFF",
             "#E5E5E5"
            ],
            [
             "#FFFFFF",
             "#FFFFFF",
             "#FFFFFF",
             "#DEEFFF",
             "#DEEFFF",
             "#FFFFFF",
             "#FFFFFF",
             "#FFFFFF",
             "#FFFFFF",
             "#FFFFFF",
             "#DEEFFF",
             "#F7F7F7",
             "#FFFFFF",
             "#FFFFFF",
             "#FFFFFF",
             "#FFFFFF",
             "#FFFFFF",
             "#DEEFFF",
             "#FFFFFF",
             "#FFFFFF",
             "#FFFFFF",
             "#FFFFFF",
             "#FFFFFF",
             "#FFFFFF",
             "#DEEFFF",
             "#FFFFFF",
             "#FFFFFF",
             "#FFFFFF",
             "#FFFFFF",
             "#FFFFFF",
             "#FFFFFF",
             "#E5E5E5"
            ],
            [
             "#FFFFFF",
             "#FFFFFF",
             "#FFFFFF",
             "#DEEFFF",
             "#DEEFFF",
             "#FFFFFF",
             "#FFFFFF",
             "#FFFFFF",
             "#FFFFFF",
             "#FFFFFF",
             "#DEEFFF",
             "#F7F7F7",
             "#FFFFFF",
             "#FFFFFF",
             "#FFFFFF",
             "#FFFFFF",
             "#FFFFFF",
             "#DEEFFF",
             "#FFFFFF",
             "#FFFFFF",
             "#FFFFFF",
             "#FFFFFF",
             "#FFFFFF",
             "#FFFFFF",
             "#DEEFFF",
             "#FFFFFF",
             "#FFFFFF",
             "#FFFFFF",
             "#FFFFFF",
             "#FFFFFF",
             "#FFFFFF",
             "#E5E5E5"
            ],
            [
             "#FFFFFF",
             "#FFFFFF",
             "#FFFFFF",
             "#DEEFFF",
             "#DEEFFF",
             "#FFFFFF",
             "#FFFFFF",
             "#FFFFFF",
             "#FFFFFF",
             "#FFFFFF",
             "#DEEFFF",
             "#F7F7F7",
             "#FFFFFF",
             "#FFFFFF",
             "#FFFFFF",
             "#FFFFFF",
             "#FFFFFF",
             "#DEEFFF",
             "#FFFFFF",
             "#FFFFFF",
             "#FFFFFF",
             "#FFFFFF",
             "#FFFFFF",
             "#FFFFFF",
             "#DEEFFF",
             "#FFFFFF",
             "#FFFFFF",
             "#FFFFFF",
             "#FFFFFF",
             "#FFFFFF",
             "#FFFFFF",
             "#E5E5E5"
            ],
            [
             "#FFFFFF",
             "#FFFFFF",
             "#FFFFFF",
             "#DEEFFF",
             "#DEEFFF",
             "#FFFFFF",
             "#FFFFFF",
             "#FFFFFF",
             "#FFFFFF",
             "#FFFFFF",
             "#DEEFFF",
             "#F7F7F7",
             "#FFFFFF",
             "#FFFFFF",
             "#FFFFFF",
             "#FFFFFF",
             "#FFFFFF",
             "#DEEFFF",
             "#FFFFFF",
             "#FFFFFF",
             "#FFFFFF",
             "#FFFFFF",
             "#FFFFFF",
             "#FFFFFF",
             "#DEEFFF",
             "#FFFFFF",
             "#FFFFFF",
             "#FFFFFF",
             "#FFFFFF",
             "#FFFFFF",
             "#FFFFFF",
             "#E5E5E5"
            ],
            [
             "#FFFFFF",
             "#FFFFFF",
             "#FFFFFF",
             "#DEEFFF",
             "#DEEFFF",
             "#FFFFFF",
             "#FFFFFF",
             "#FFFFFF",
             "#FFFFFF",
             "#FFFFFF",
             "#DEEFFF",
             "#F7F7F7",
             "#FFFFFF",
             "#FFFFFF",
             "#FFFFFF",
             "#FFFFFF",
             "#FFFFFF",
             "#DEEFFF",
             "#FFFFFF",
             "#FFFFFF",
             "#FFFFFF",
             "#FFFFFF",
             "#FFFFFF",
             "#FFFFFF",
             "#DEEFFF",
             "#FFFFFF",
             "#FFFFFF",
             "#FFFFFF",
             "#FFFFFF",
             "#FFFFFF",
             "#FFFFFF",
             "#E5E5E5"
            ]
           ]
          },
          "font": {
           "color": [
            "#000000",
            "#000000",
            "#118DFF",
            "#000000",
            "#FF0000",
            "#FF0000",
            "#E04392",
            "#000000",
            "#FF0000",
            "#E04392",
            "#000000",
            "#FF0000",
            [
             "#FF0000",
             "#FF0000",
             "#00B050",
             "#DEEFFF",
             "#DEEFFF",
             "#FFC000",
             "#FF0000",
             "#FF0000",
             "#FF0000",
             "#00B050",
             "#DEEFFF",
             "#FF0000",
             "#FFFFFF",
             "#FFFFFF",
             "#FFFFFF",
             "#FFFFFF",
             "#FFFFFF",
             "#DEEFFF",
             "#FFFFFF",
             "#FFFFFF",
             "#FFFFFF",
             "#FFFFFF",
             "#FFFFFF",
             "#FFFFFF",
             "#DEEFFF",
             "#FFFFFF",
             "#FFFFFF",
             "#FFFFFF",
             "#FFFFFF",
             "#FFFFFF",
             "#FFFFFF",
             "#E5E5E5"
            ],
            [
             "#FF0000",
             "#FF0000",
             "#FF0000",
             "#DEEFFF",
             "#DEEFFF",
             "#FF0000",
             "#FF0000",
             "#FF0000",
             "#FF0000",
             "#FF0000",
             "#DEEFFF",
             "#FF0000",
             "#FFFFFF",
             "#FFFFFF",
             "#FFFFFF",
             "#FFFFFF",
             "#FFFFFF",
             "#DEEFFF",
             "#FFFFFF",
             "#FFFFFF",
             "#FFFFFF",
             "#FFFFFF",
             "#FFFFFF",
             "#FFFFFF",
             "#DEEFFF",
             "#FFFFFF",
             "#FFFFFF",
             "#FFFFFF",
             "#FFFFFF",
             "#FFFFFF",
             "#FFFFFF",
             "#E5E5E5"
            ],
            [
             "#000000",
             "#000000",
             "#000000",
             "#DEEFFF",
             "#DEEFFF",
             "#000000",
             "#000000",
             "#000000",
             "#000000",
             "#000000",
             "#DEEFFF",
             "#000000",
             "#FFFFFF",
             "#FFFFFF",
             "#FFFFFF",
             "#FFFFFF",
             "#FFFFFF",
             "#DEEFFF",
             "#FFFFFF",
             "#FFFFFF",
             "#FFFFFF",
             "#FFFFFF",
             "#FFFFFF",
             "#FFFFFF",
             "#DEEFFF",
             "#FFFFFF",
             "#FFFFFF",
             "#FFFFFF",
             "#FFFFFF",
             "#FFFFFF",
             "#FFFFFF",
             "#118DFF"
            ]
           ],
           "family": "Segoe UI Semibold",
           "size": 13.185185185185185
          },
          "line": {
           "color": [
            [
             "#FFFFFF",
             "#FFFFFF",
             "#FFFFFF",
             "#DEEFFF",
             "#DEEFFF",
             "#FFFFFF",
             "#FFFFFF",
             "#FFFFFF",
             "#FFFFFF",
             "#FFFFFF",
             "#DEEFFF",
             "#F7F7F7",
             "#FFFFFF",
             "#FFFFFF",
             "#FFFFFF",
             "#FFFFFF",
             "#FFFFFF",
             "#DEEFFF",
             "#FFFFFF",
             "#FFFFFF",
             "#FFFFFF",
             "#FFFFFF",
             "#FFFFFF",
             "#FFFFFF",
             "#DEEFFF",
             "#FFFFFF",
             "#FFFFFF",
             "#FFFFFF",
             "#FFFFFF",
             "#FFFFFF",
             "#FFFFFF",
             "#E5E5E5"
            ],
            [
             "#FFFFFF",
             "#FFFFFF",
             "#FFFFFF",
             "#DEEFFF",
             "#DEEFFF",
             "#FFFFFF",
             "#FFFFFF",
             "#FFFFFF",
             "#FFFFFF",
             "#FFFFFF",
             "#DEEFFF",
             "#F7F7F7",
             "#FFFFFF",
             "#FFFFFF",
             "#FFFFFF",
             "#FFFFFF",
             "#FFFFFF",
             "#DEEFFF",
             "#FFFFFF",
             "#FFFFFF",
             "#FFFFFF",
             "#FFFFFF",
             "#FFFFFF",
             "#FFFFFF",
             "#DEEFFF",
             "#FFFFFF",
             "#FFFFFF",
             "#FFFFFF",
             "#FFFFFF",
             "#FFFFFF",
             "#FFFFFF",
             "#E5E5E5"
            ],
            [
             "#F7F7F7",
             "#F7F7F7",
             "#F7F7F7",
             "#DEEFFF",
             "#DEEFFF",
             "#F7F7F7",
             "#F7F7F7",
             "#F7F7F7",
             "#F7F7F7",
             "#F7F7F7",
             "#DEEFFF",
             "#F7F7F7",
             "#F7F7F7",
             "#F7F7F7",
             "#F7F7F7",
             "#F7F7F7",
             "#F7F7F7",
             "#DEEFFF",
             "#F7F7F7",
             "#F7F7F7",
             "#F7F7F7",
             "#F7F7F7",
             "#F7F7F7",
             "#F7F7F7",
             "#DEEFFF",
             "#F7F7F7",
             "#F7F7F7",
             "#F7F7F7",
             "#F7F7F7",
             "#F7F7F7",
             "#F7F7F7",
             "#E5E5E5"
            ],
            [
             "#F7F7F7",
             "#F7F7F7",
             "#F7F7F7",
             "#DEEFFF",
             "#DEEFFF",
             "#F7F7F7",
             "#F7F7F7",
             "#F7F7F7",
             "#F7F7F7",
             "#F7F7F7",
             "#DEEFFF",
             "#F7F7F7",
             "#F7F7F7",
             "#F7F7F7",
             "#F7F7F7",
             "#F7F7F7",
             "#F7F7F7",
             "#DEEFFF",
             "#F7F7F7",
             "#F7F7F7",
             "#F7F7F7",
             "#F7F7F7",
             "#F7F7F7",
             "#F7F7F7",
             "#DEEFFF",
             "#F7F7F7",
             "#F7F7F7",
             "#F7F7F7",
             "#F7F7F7",
             "#F7F7F7",
             "#F7F7F7",
             "#E5E5E5"
            ],
            [
             "#FFFFFF",
             "#FFFFFF",
             "#FFFFFF",
             "#DEEFFF",
             "#DEEFFF",
             "#FFFFFF",
             "#FFFFFF",
             "#FFFFFF",
             "#FFFFFF",
             "#FFFFFF",
             "#DEEFFF",
             "#F7F7F7",
             "#FFFFFF",
             "#FFFFFF",
             "#FFFFFF",
             "#FFFFFF",
             "#FFFFFF",
             "#DEEFFF",
             "#FFFFFF",
             "#FFFFFF",
             "#FFFFFF",
             "#FFFFFF",
             "#FFFFFF",
             "#FFFFFF",
             "#DEEFFF",
             "#FFFFFF",
             "#FFFFFF",
             "#FFFFFF",
             "#FFFFFF",
             "#FFFFFF",
             "#FFFFFF",
             "#E5E5E5"
            ],
            [
             "#FFFFFF",
             "#FFFFFF",
             "#FFFFFF",
             "#DEEFFF",
             "#DEEFFF",
             "#FFFFFF",
             "#FFFFFF",
             "#FFFFFF",
             "#FFFFFF",
             "#FFFFFF",
             "#DEEFFF",
             "#F7F7F7",
             "#FFFFFF",
             "#FFFFFF",
             "#FFFFFF",
             "#FFFFFF",
             "#FFFFFF",
             "#DEEFFF",
             "#FFFFFF",
             "#FFFFFF",
             "#FFFFFF",
             "#FFFFFF",
             "#FFFFFF",
             "#FFFFFF",
             "#DEEFFF",
             "#FFFFFF",
             "#FFFFFF",
             "#FFFFFF",
             "#FFFFFF",
             "#FFFFFF",
             "#FFFFFF",
             "#E5E5E5"
            ],
            [
             "#F7F7F7",
             "#F7F7F7",
             "#F7F7F7",
             "#DEEFFF",
             "#DEEFFF",
             "#F7F7F7",
             "#F7F7F7",
             "#F7F7F7",
             "#F7F7F7",
             "#F7F7F7",
             "#DEEFFF",
             "#F7F7F7",
             "#F7F7F7",
             "#F7F7F7",
             "#F7F7F7",
             "#F7F7F7",
             "#F7F7F7",
             "#DEEFFF",
             "#F7F7F7",
             "#F7F7F7",
             "#F7F7F7",
             "#F7F7F7",
             "#F7F7F7",
             "#F7F7F7",
             "#DEEFFF",
             "#F7F7F7",
             "#F7F7F7",
             "#F7F7F7",
             "#F7F7F7",
             "#F7F7F7",
             "#F7F7F7",
             "#E5E5E5"
            ],
            [
             "#FFFFFF",
             "#FFFFFF",
             "#FFFFFF",
             "#DEEFFF",
             "#DEEFFF",
             "#FFFFFF",
             "#FFFFFF",
             "#FFFFFF",
             "#FFFFFF",
             "#FFFFFF",
             "#DEEFFF",
             "#F7F7F7",
             "#FFFFFF",
             "#FFFFFF",
             "#FFFFFF",
             "#FFFFFF",
             "#FFFFFF",
             "#DEEFFF",
             "#FFFFFF",
             "#FFFFFF",
             "#FFFFFF",
             "#FFFFFF",
             "#FFFFFF",
             "#FFFFFF",
             "#DEEFFF",
             "#FFFFFF",
             "#FFFFFF",
             "#FFFFFF",
             "#FFFFFF",
             "#FFFFFF",
             "#FFFFFF",
             "#E5E5E5"
            ],
            [
             "#FFFFFF",
             "#FFFFFF",
             "#FFFFFF",
             "#DEEFFF",
             "#DEEFFF",
             "#FFFFFF",
             "#FFFFFF",
             "#FFFFFF",
             "#FFFFFF",
             "#FFFFFF",
             "#DEEFFF",
             "#F7F7F7",
             "#FFFFFF",
             "#FFFFFF",
             "#FFFFFF",
             "#FFFFFF",
             "#FFFFFF",
             "#DEEFFF",
             "#FFFFFF",
             "#FFFFFF",
             "#FFFFFF",
             "#FFFFFF",
             "#FFFFFF",
             "#FFFFFF",
             "#DEEFFF",
             "#FFFFFF",
             "#FFFFFF",
             "#FFFFFF",
             "#FFFFFF",
             "#FFFFFF",
             "#FFFFFF",
             "#E5E5E5"
            ],
            [
             "#F7F7F7",
             "#F7F7F7",
             "#F7F7F7",
             "#DEEFFF",
             "#DEEFFF",
             "#F7F7F7",
             "#F7F7F7",
             "#F7F7F7",
             "#F7F7F7",
             "#F7F7F7",
             "#DEEFFF",
             "#F7F7F7",
             "#F7F7F7",
             "#F7F7F7",
             "#F7F7F7",
             "#F7F7F7",
             "#F7F7F7",
             "#DEEFFF",
             "#F7F7F7",
             "#F7F7F7",
             "#F7F7F7",
             "#F7F7F7",
             "#F7F7F7",
             "#F7F7F7",
             "#DEEFFF",
             "#F7F7F7",
             "#F7F7F7",
             "#F7F7F7",
             "#F7F7F7",
             "#F7F7F7",
             "#F7F7F7",
             "#E5E5E5"
            ],
            [
             "#FFFFFF",
             "#FFFFFF",
             "#FFFFFF",
             "#DEEFFF",
             "#DEEFFF",
             "#FFFFFF",
             "#FFFFFF",
             "#FFFFFF",
             "#FFFFFF",
             "#FFFFFF",
             "#DEEFFF",
             "#F7F7F7",
             "#FFFFFF",
             "#FFFFFF",
             "#FFFFFF",
             "#FFFFFF",
             "#FFFFFF",
             "#DEEFFF",
             "#FFFFFF",
             "#FFFFFF",
             "#FFFFFF",
             "#FFFFFF",
             "#FFFFFF",
             "#FFFFFF",
             "#DEEFFF",
             "#FFFFFF",
             "#FFFFFF",
             "#FFFFFF",
             "#FFFFFF",
             "#FFFFFF",
             "#FFFFFF",
             "#E5E5E5"
            ],
            [
             "#FFFFFF",
             "#FFFFFF",
             "#FFFFFF",
             "#DEEFFF",
             "#DEEFFF",
             "#FFFFFF",
             "#FFFFFF",
             "#FFFFFF",
             "#FFFFFF",
             "#FFFFFF",
             "#DEEFFF",
             "#F7F7F7",
             "#FFFFFF",
             "#FFFFFF",
             "#FFFFFF",
             "#FFFFFF",
             "#FFFFFF",
             "#DEEFFF",
             "#FFFFFF",
             "#FFFFFF",
             "#FFFFFF",
             "#FFFFFF",
             "#FFFFFF",
             "#FFFFFF",
             "#DEEFFF",
             "#FFFFFF",
             "#FFFFFF",
             "#FFFFFF",
             "#FFFFFF",
             "#FFFFFF",
             "#FFFFFF",
             "#E5E5E5"
            ],
            [
             "#FFFFFF",
             "#FFFFFF",
             "#FFFFFF",
             "#DEEFFF",
             "#DEEFFF",
             "#FFFFFF",
             "#FFFFFF",
             "#FFFFFF",
             "#FFFFFF",
             "#FFFFFF",
             "#DEEFFF",
             "#F7F7F7",
             "#FFFFFF",
             "#FFFFFF",
             "#FFFFFF",
             "#FFFFFF",
             "#FFFFFF",
             "#DEEFFF",
             "#FFFFFF",
             "#FFFFFF",
             "#FFFFFF",
             "#FFFFFF",
             "#FFFFFF",
             "#FFFFFF",
             "#DEEFFF",
             "#FFFFFF",
             "#FFFFFF",
             "#FFFFFF",
             "#FFFFFF",
             "#FFFFFF",
             "#FFFFFF",
             "#E5E5E5"
            ],
            [
             "#FFFFFF",
             "#FFFFFF",
             "#FFFFFF",
             "#DEEFFF",
             "#DEEFFF",
             "#FFFFFF",
             "#FFFFFF",
             "#FFFFFF",
             "#FFFFFF",
             "#FFFFFF",
             "#DEEFFF",
             "#F7F7F7",
             "#FFFFFF",
             "#FFFFFF",
             "#FFFFFF",
             "#FFFFFF",
             "#FFFFFF",
             "#DEEFFF",
             "#FFFFFF",
             "#FFFFFF",
             "#FFFFFF",
             "#FFFFFF",
             "#FFFFFF",
             "#FFFFFF",
             "#DEEFFF",
             "#FFFFFF",
             "#FFFFFF",
             "#FFFFFF",
             "#FFFFFF",
             "#FFFFFF",
             "#FFFFFF",
             "#E5E5E5"
            ],
            [
             "#FFFFFF",
             "#FFFFFF",
             "#FFFFFF",
             "#DEEFFF",
             "#DEEFFF",
             "#FFFFFF",
             "#FFFFFF",
             "#FFFFFF",
             "#FFFFFF",
             "#FFFFFF",
             "#DEEFFF",
             "#F7F7F7",
             "#FFFFFF",
             "#FFFFFF",
             "#FFFFFF",
             "#FFFFFF",
             "#FFFFFF",
             "#DEEFFF",
             "#FFFFFF",
             "#FFFFFF",
             "#FFFFFF",
             "#FFFFFF",
             "#FFFFFF",
             "#FFFFFF",
             "#DEEFFF",
             "#FFFFFF",
             "#FFFFFF",
             "#FFFFFF",
             "#FFFFFF",
             "#FFFFFF",
             "#FFFFFF",
             "#E5E5E5"
            ],
            [
             "#FFFFFF",
             "#FFFFFF",
             "#FFFFFF",
             "#DEEFFF",
             "#DEEFFF",
             "#FFFFFF",
             "#FFFFFF",
             "#FFFFFF",
             "#FFFFFF",
             "#FFFFFF",
             "#DEEFFF",
             "#F7F7F7",
             "#FFFFFF",
             "#FFFFFF",
             "#FFFFFF",
             "#FFFFFF",
             "#FFFFFF",
             "#DEEFFF",
             "#FFFFFF",
             "#FFFFFF",
             "#FFFFFF",
             "#FFFFFF",
             "#FFFFFF",
             "#FFFFFF",
             "#DEEFFF",
             "#FFFFFF",
             "#FFFFFF",
             "#FFFFFF",
             "#FFFFFF",
             "#FFFFFF",
             "#FFFFFF",
             "#E5E5E5"
            ],
            [
             "#FFFFFF",
             "#FFFFFF",
             "#FFFFFF",
             "#DEEFFF",
             "#DEEFFF",
             "#FFFFFF",
             "#FFFFFF",
             "#FFFFFF",
             "#FFFFFF",
             "#FFFFFF",
             "#DEEFFF",
             "#F7F7F7",
             "#FFFFFF",
             "#FFFFFF",
             "#FFFFFF",
             "#FFFFFF",
             "#FFFFFF",
             "#DEEFFF",
             "#FFFFFF",
             "#FFFFFF",
             "#FFFFFF",
             "#FFFFFF",
             "#FFFFFF",
             "#FFFFFF",
             "#DEEFFF",
             "#FFFFFF",
             "#FFFFFF",
             "#FFFFFF",
             "#FFFFFF",
             "#FFFFFF",
             "#FFFFFF",
             "#E5E5E5"
            ],
            [
             "#FFFFFF",
             "#FFFFFF",
             "#FFFFFF",
             "#DEEFFF",
             "#DEEFFF",
             "#FFFFFF",
             "#FFFFFF",
             "#FFFFFF",
             "#FFFFFF",
             "#FFFFFF",
             "#DEEFFF",
             "#F7F7F7",
             "#FFFFFF",
             "#FFFFFF",
             "#FFFFFF",
             "#FFFFFF",
             "#FFFFFF",
             "#DEEFFF",
             "#FFFFFF",
             "#FFFFFF",
             "#FFFFFF",
             "#FFFFFF",
             "#FFFFFF",
             "#FFFFFF",
             "#DEEFFF",
             "#FFFFFF",
             "#FFFFFF",
             "#FFFFFF",
             "#FFFFFF",
             "#FFFFFF",
             "#FFFFFF",
             "#E5E5E5"
            ],
            [
             "#FFFFFF",
             "#FFFFFF",
             "#FFFFFF",
             "#DEEFFF",
             "#DEEFFF",
             "#FFFFFF",
             "#FFFFFF",
             "#FFFFFF",
             "#FFFFFF",
             "#FFFFFF",
             "#DEEFFF",
             "#F7F7F7",
             "#FFFFFF",
             "#FFFFFF",
             "#FFFFFF",
             "#FFFFFF",
             "#FFFFFF",
             "#DEEFFF",
             "#FFFFFF",
             "#FFFFFF",
             "#FFFFFF",
             "#FFFFFF",
             "#FFFFFF",
             "#FFFFFF",
             "#DEEFFF",
             "#FFFFFF",
             "#FFFFFF",
             "#FFFFFF",
             "#FFFFFF",
             "#FFFFFF",
             "#FFFFFF",
             "#E5E5E5"
            ],
            [
             "#FFFFFF",
             "#FFFFFF",
             "#FFFFFF",
             "#DEEFFF",
             "#DEEFFF",
             "#FFFFFF",
             "#FFFFFF",
             "#FFFFFF",
             "#FFFFFF",
             "#FFFFFF",
             "#DEEFFF",
             "#F7F7F7",
             "#FFFFFF",
             "#FFFFFF",
             "#FFFFFF",
             "#FFFFFF",
             "#FFFFFF",
             "#DEEFFF",
             "#FFFFFF",
             "#FFFFFF",
             "#FFFFFF",
             "#FFFFFF",
             "#FFFFFF",
             "#FFFFFF",
             "#DEEFFF",
             "#FFFFFF",
             "#FFFFFF",
             "#FFFFFF",
             "#FFFFFF",
             "#FFFFFF",
             "#FFFFFF",
             "#E5E5E5"
            ],
            [
             "#FFFFFF",
             "#FFFFFF",
             "#FFFFFF",
             "#DEEFFF",
             "#DEEFFF",
             "#FFFFFF",
             "#FFFFFF",
             "#FFFFFF",
             "#FFFFFF",
             "#FFFFFF",
             "#DEEFFF",
             "#F7F7F7",
             "#FFFFFF",
             "#FFFFFF",
             "#FFFFFF",
             "#FFFFFF",
             "#FFFFFF",
             "#DEEFFF",
             "#FFFFFF",
             "#FFFFFF",
             "#FFFFFF",
             "#FFFFFF",
             "#FFFFFF",
             "#FFFFFF",
             "#DEEFFF",
             "#FFFFFF",
             "#FFFFFF",
             "#FFFFFF",
             "#FFFFFF",
             "#FFFFFF",
             "#FFFFFF",
             "#E5E5E5"
            ],
            [
             "#FFFFFF",
             "#FFFFFF",
             "#FFFFFF",
             "#DEEFFF",
             "#DEEFFF",
             "#FFFFFF",
             "#FFFFFF",
             "#FFFFFF",
             "#FFFFFF",
             "#FFFFFF",
             "#DEEFFF",
             "#F7F7F7",
             "#FFFFFF",
             "#FFFFFF",
             "#FFFFFF",
             "#FFFFFF",
             "#FFFFFF",
             "#DEEFFF",
             "#FFFFFF",
             "#FFFFFF",
             "#FFFFFF",
             "#FFFFFF",
             "#FFFFFF",
             "#FFFFFF",
             "#DEEFFF",
             "#FFFFFF",
             "#FFFFFF",
             "#FFFFFF",
             "#FFFFFF",
             "#FFFFFF",
             "#FFFFFF",
             "#E5E5E5"
            ]
           ],
           "width": 2
          },
          "values": [
           [
            "01/12/2022, Quinta-feira",
            "02/12/2022, Sexta-feira",
            "03/12/2022, Sábado",
            "04/12/2022, Domingo",
            "05/12/2022, Segunda-feira",
            "06/12/2022, Terça-feira",
            "07/12/2022, Quarta-feira",
            "08/12/2022, Quinta-feira",
            "09/12/2022, Sexta-feira",
            "10/12/2022, Sábado",
            "11/12/2022, Domingo",
            "12/12/2022, Segunda-feira",
            "13/12/2022, Terça-feira",
            "14/12/2022, Quarta-feira",
            "15/12/2022, Quinta-feira",
            "16/12/2022, Sexta-feira",
            "17/12/2022, Sábado",
            "18/12/2022, Domingo",
            "19/12/2022, Segunda-feira",
            "20/12/2022, Terça-feira",
            "21/12/2022, Quarta-feira",
            "22/12/2022, Quinta-feira",
            "23/12/2022, Sexta-feira",
            "24/12/2022, Sábado",
            "25/12/2022, Domingo",
            "26/12/2022, Segunda-feira",
            "27/12/2022, Terça-feira",
            "28/12/2022, Quarta-feira",
            "29/12/2022, Quinta-feira",
            "30/12/2022, Sexta-feira",
            "31/12/2022, Sábado",
            "Total"
           ],
           [
            "R$ 19.047,62",
            "R$ 19.047,62",
            "",
            "",
            "",
            "R$ 19.047,62",
            "R$ 19.047,62",
            "R$ 19.047,62",
            "R$ 19.047,62",
            "",
            "",
            "R$ 19.047,62",
            "R$ 19.047,62",
            "R$ 19.047,62",
            "R$ 19.047,62",
            "R$ 19.047,62",
            "",
            "",
            "R$ 19.047,62",
            "R$ 19.047,62",
            "R$ 19.047,62",
            "R$ 19.047,62",
            "R$ 19.047,62",
            "",
            "",
            "R$ 19.047,62",
            "R$ 19.047,62",
            "R$ 19.047,62",
            "R$ 19.047,62",
            "R$ 19.047,62",
            "",
            "R$ 400.000,00"
           ],
           [
            "R$ 12.246,23",
            "R$ 10.868,26",
            "R$ 5.437,49",
            "",
            "R$ 15.062,03",
            "R$ 19.170,20",
            "R$ 14.413,18",
            "R$ 10.658,97",
            "R$ 16.046,15",
            "R$ 3.745,53",
            "",
            "",
            "",
            "",
            "",
            "",
            "",
            "",
            "",
            "",
            "",
            "",
            "",
            "",
            "",
            "",
            "",
            "",
            "",
            "",
            "",
            "R$ 107.648,04"
           ],
           [
            "R$ 10.909,99",
            "R$ 10.868,26",
            "R$ 5.437,49",
            "",
            "R$ 4.604,17",
            "R$ 18.297,28",
            "R$ 12.857,99",
            "R$ 9.869,79",
            "R$ 7.400,28",
            "R$ 3.745,53",
            "",
            "",
            "",
            "",
            "",
            "",
            "",
            "",
            "",
            "",
            "",
            "",
            "",
            "",
            "",
            "",
            "",
            "",
            "",
            "",
            "",
            "R$ 83.990,78"
           ],
           [
            "R$ 1.336,24",
            "",
            "",
            "",
            "R$ 10.457,86",
            "R$ 872,92",
            "R$ 1.555,19",
            "R$ 789,18",
            "R$ 8.645,87",
            "",
            "",
            "",
            "",
            "",
            "",
            "",
            "",
            "",
            "",
            "",
            "",
            "",
            "",
            "",
            "",
            "",
            "",
            "",
            "",
            "",
            "",
            "R$ 23.657,26"
           ],
           [
            "10,91%",
            "",
            "",
            "",
            "69,43%",
            "4,55%",
            "10,79%",
            "7,40%",
            "53,88%",
            "",
            "",
            "",
            "",
            "",
            "",
            "",
            "",
            "",
            "",
            "",
            "",
            "",
            "",
            "",
            "",
            "",
            "",
            "",
            "",
            "",
            "",
            "21,98%"
           ],
           [
            "R$ 600,60",
            "",
            "R$ 257,44",
            "",
            "",
            "R$ 652,40",
            "R$ 501,79",
            "R$ 697,60",
            "R$ 506,94",
            "",
            "",
            "",
            "",
            "",
            "",
            "",
            "",
            "",
            "",
            "",
            "",
            "",
            "",
            "",
            "",
            "",
            "",
            "",
            "",
            "",
            "",
            "R$ 3.216,77"
           ],
           [
            "2",
            "",
            "1",
            "",
            "",
            "4",
            "3",
            "2",
            "4",
            "",
            "",
            "",
            "",
            "",
            "",
            "",
            "",
            "",
            "",
            "",
            "",
            "",
            "",
            "",
            "",
            "",
            "",
            "",
            "",
            "",
            "",
            "16"
           ],
           [
            "",
            "",
            "",
            "",
            "",
            "",
            "",
            "",
            "",
            "",
            "",
            "",
            "",
            "",
            "",
            "",
            "",
            "",
            "",
            "",
            "",
            "",
            "",
            "",
            "",
            "",
            "",
            "",
            "",
            "",
            "",
            ""
           ],
           [
            "R$ 10.309,39",
            "R$ 10.868,26",
            "R$ 5.180,05",
            "",
            "R$ 4.604,17",
            "R$ 17.644,88",
            "R$ 12.356,20",
            "R$ 9.172,19",
            "R$ 6.893,34",
            "R$ 3.745,53",
            "",
            "",
            "",
            "",
            "",
            "",
            "",
            "",
            "",
            "",
            "",
            "",
            "",
            "",
            "",
            "",
            "",
            "",
            "",
            "",
            "",
            "R$ 80.774,01"
           ],
           [
            "79",
            "60",
            "29",
            "",
            "113",
            "95",
            "88",
            "70",
            "73",
            "22",
            "",
            "",
            "",
            "",
            "",
            "",
            "",
            "",
            "",
            "",
            "",
            "",
            "",
            "",
            "",
            "",
            "",
            "",
            "",
            "",
            "",
            "629"
           ],
           [
            "12,96%",
            "",
            "",
            "",
            "227,14%",
            "4,95%",
            "12,59%",
            "8,60%",
            "125,42%",
            "",
            "",
            "",
            "",
            "",
            "",
            "",
            "",
            "",
            "",
            "",
            "",
            "",
            "",
            "",
            "",
            "",
            "",
            "",
            "",
            "",
            "",
            "29,29%"
           ],
           [
            "57,28%",
            "57,06%",
            "",
            "",
            "",
            "96,06%",
            "67,50%",
            "51,82%",
            "38,85%",
            "",
            "",
            "",
            "",
            "",
            "",
            "",
            "",
            "",
            "",
            "",
            "",
            "",
            "",
            "",
            "",
            "",
            "",
            "",
            "",
            "",
            "",
            "21,00%"
           ],
           [
            "57,28%",
            "57,17%",
            "71,44%",
            "71,44%",
            "83,53%",
            "87,71%",
            "82,65%",
            "76,49%",
            "70,21%",
            "73,49%",
            "73,49%",
            "62,99%",
            "55,12%",
            "48,99%",
            "44,10%",
            "40,09%",
            "40,09%",
            "40,09%",
            "36,75%",
            "33,92%",
            "31,50%",
            "29,40%",
            "27,56%",
            "27,56%",
            "27,56%",
            "25,94%",
            "24,50%",
            "23,21%",
            "22,05%",
            "21,00%",
            "21,00%",
            "21,00%"
           ],
           [
            "R$ 229.109,79",
            "R$ 228.671,62",
            "R$ 285.765,27",
            "R$ 285.765,27",
            "R$ 334.109,05",
            "R$ 350.820,33",
            "R$ 330.619,70",
            "R$ 305.948,87",
            "R$ 280.858,38",
            "R$ 293.967,73",
            "R$ 293.967,73",
            "R$ 251.972,34",
            "R$ 220.475,80",
            "R$ 195.978,49",
            "R$ 176.380,64",
            "R$ 160.346,03",
            "R$ 160.346,03",
            "R$ 160.346,03",
            "R$ 146.983,86",
            "R$ 135.677,41",
            "R$ 125.986,17",
            "R$ 117.587,09",
            "R$ 110.237,90",
            "R$ 110.237,90",
            "R$ 110.237,90",
            "R$ 103.753,32",
            "R$ 97.989,24",
            "R$ 92.831,91",
            "R$ 88.190,32",
            "R$ 83.990,78",
            "R$ 83.990,78",
            ""
           ]
          ]
         },
         "columnwidth": [
          10.300925925925926,
          6.592592592592593,
          6.592592592592593,
          6.592592592592593,
          6.592592592592593,
          4.12037037037037,
          6.592592592592593,
          5.356481481481481,
          4.944444444444445,
          6.592592592592593,
          4.944444444444445,
          4.12037037037037,
          2.8842592592592595,
          2.8842592592592595,
          6.592592592592593
         ],
         "domain": {
          "y": [
           0,
           1
          ]
         },
         "header": {
          "align": "center",
          "fill": {
           "color": "#E5E5E5"
          },
          "font": {
           "color": [
            "#000000",
            "#000000",
            "#118DFF",
            "#000000",
            "#FF0000",
            "#FF0000",
            "#E04392",
            "#000000",
            "#FF0000",
            "#E04392",
            "#000000",
            "#FF0000",
            "#000000",
            "#000000",
            "#000000"
           ],
           "family": "Segoe UI Semibold",
           "size": 13.185185185185185
          },
          "line": {
           "color": "#E5E5E5",
           "width": 3
          },
          "values": [
           "Data",
           "Meta",
           "Venda\nSIAC",
           "Venda\nLíquida",
           "Devolução",
           "%\nDev",
           "Venda\nCNPJ",
           "Clientes\nCNPJ",
           "% Dev\nCNPJ",
           "Venda\nCPF",
           "Clientes\nCPF",
           "% Dev\nCPF",
           "%\nDia",
           "%\nMês",
           "Projeção\nmensal"
          ]
         },
         "type": "table"
        }
       ],
       "layout": {
        "height": 890,
        "template": {
         "data": {
          "bar": [
           {
            "error_x": {
             "color": "#2a3f5f"
            },
            "error_y": {
             "color": "#2a3f5f"
            },
            "marker": {
             "line": {
              "color": "#E5ECF6",
              "width": 0.5
             },
             "pattern": {
              "fillmode": "overlay",
              "size": 10,
              "solidity": 0.2
             }
            },
            "type": "bar"
           }
          ],
          "barpolar": [
           {
            "marker": {
             "line": {
              "color": "#E5ECF6",
              "width": 0.5
             },
             "pattern": {
              "fillmode": "overlay",
              "size": 10,
              "solidity": 0.2
             }
            },
            "type": "barpolar"
           }
          ],
          "carpet": [
           {
            "aaxis": {
             "endlinecolor": "#2a3f5f",
             "gridcolor": "white",
             "linecolor": "white",
             "minorgridcolor": "white",
             "startlinecolor": "#2a3f5f"
            },
            "baxis": {
             "endlinecolor": "#2a3f5f",
             "gridcolor": "white",
             "linecolor": "white",
             "minorgridcolor": "white",
             "startlinecolor": "#2a3f5f"
            },
            "type": "carpet"
           }
          ],
          "choropleth": [
           {
            "colorbar": {
             "outlinewidth": 0,
             "ticks": ""
            },
            "type": "choropleth"
           }
          ],
          "contour": [
           {
            "colorbar": {
             "outlinewidth": 0,
             "ticks": ""
            },
            "colorscale": [
             [
              0,
              "#0d0887"
             ],
             [
              0.1111111111111111,
              "#46039f"
             ],
             [
              0.2222222222222222,
              "#7201a8"
             ],
             [
              0.3333333333333333,
              "#9c179e"
             ],
             [
              0.4444444444444444,
              "#bd3786"
             ],
             [
              0.5555555555555556,
              "#d8576b"
             ],
             [
              0.6666666666666666,
              "#ed7953"
             ],
             [
              0.7777777777777778,
              "#fb9f3a"
             ],
             [
              0.8888888888888888,
              "#fdca26"
             ],
             [
              1,
              "#f0f921"
             ]
            ],
            "type": "contour"
           }
          ],
          "contourcarpet": [
           {
            "colorbar": {
             "outlinewidth": 0,
             "ticks": ""
            },
            "type": "contourcarpet"
           }
          ],
          "heatmap": [
           {
            "colorbar": {
             "outlinewidth": 0,
             "ticks": ""
            },
            "colorscale": [
             [
              0,
              "#0d0887"
             ],
             [
              0.1111111111111111,
              "#46039f"
             ],
             [
              0.2222222222222222,
              "#7201a8"
             ],
             [
              0.3333333333333333,
              "#9c179e"
             ],
             [
              0.4444444444444444,
              "#bd3786"
             ],
             [
              0.5555555555555556,
              "#d8576b"
             ],
             [
              0.6666666666666666,
              "#ed7953"
             ],
             [
              0.7777777777777778,
              "#fb9f3a"
             ],
             [
              0.8888888888888888,
              "#fdca26"
             ],
             [
              1,
              "#f0f921"
             ]
            ],
            "type": "heatmap"
           }
          ],
          "heatmapgl": [
           {
            "colorbar": {
             "outlinewidth": 0,
             "ticks": ""
            },
            "colorscale": [
             [
              0,
              "#0d0887"
             ],
             [
              0.1111111111111111,
              "#46039f"
             ],
             [
              0.2222222222222222,
              "#7201a8"
             ],
             [
              0.3333333333333333,
              "#9c179e"
             ],
             [
              0.4444444444444444,
              "#bd3786"
             ],
             [
              0.5555555555555556,
              "#d8576b"
             ],
             [
              0.6666666666666666,
              "#ed7953"
             ],
             [
              0.7777777777777778,
              "#fb9f3a"
             ],
             [
              0.8888888888888888,
              "#fdca26"
             ],
             [
              1,
              "#f0f921"
             ]
            ],
            "type": "heatmapgl"
           }
          ],
          "histogram": [
           {
            "marker": {
             "pattern": {
              "fillmode": "overlay",
              "size": 10,
              "solidity": 0.2
             }
            },
            "type": "histogram"
           }
          ],
          "histogram2d": [
           {
            "colorbar": {
             "outlinewidth": 0,
             "ticks": ""
            },
            "colorscale": [
             [
              0,
              "#0d0887"
             ],
             [
              0.1111111111111111,
              "#46039f"
             ],
             [
              0.2222222222222222,
              "#7201a8"
             ],
             [
              0.3333333333333333,
              "#9c179e"
             ],
             [
              0.4444444444444444,
              "#bd3786"
             ],
             [
              0.5555555555555556,
              "#d8576b"
             ],
             [
              0.6666666666666666,
              "#ed7953"
             ],
             [
              0.7777777777777778,
              "#fb9f3a"
             ],
             [
              0.8888888888888888,
              "#fdca26"
             ],
             [
              1,
              "#f0f921"
             ]
            ],
            "type": "histogram2d"
           }
          ],
          "histogram2dcontour": [
           {
            "colorbar": {
             "outlinewidth": 0,
             "ticks": ""
            },
            "colorscale": [
             [
              0,
              "#0d0887"
             ],
             [
              0.1111111111111111,
              "#46039f"
             ],
             [
              0.2222222222222222,
              "#7201a8"
             ],
             [
              0.3333333333333333,
              "#9c179e"
             ],
             [
              0.4444444444444444,
              "#bd3786"
             ],
             [
              0.5555555555555556,
              "#d8576b"
             ],
             [
              0.6666666666666666,
              "#ed7953"
             ],
             [
              0.7777777777777778,
              "#fb9f3a"
             ],
             [
              0.8888888888888888,
              "#fdca26"
             ],
             [
              1,
              "#f0f921"
             ]
            ],
            "type": "histogram2dcontour"
           }
          ],
          "mesh3d": [
           {
            "colorbar": {
             "outlinewidth": 0,
             "ticks": ""
            },
            "type": "mesh3d"
           }
          ],
          "parcoords": [
           {
            "line": {
             "colorbar": {
              "outlinewidth": 0,
              "ticks": ""
             }
            },
            "type": "parcoords"
           }
          ],
          "pie": [
           {
            "automargin": true,
            "type": "pie"
           }
          ],
          "scatter": [
           {
            "fillpattern": {
             "fillmode": "overlay",
             "size": 10,
             "solidity": 0.2
            },
            "type": "scatter"
           }
          ],
          "scatter3d": [
           {
            "line": {
             "colorbar": {
              "outlinewidth": 0,
              "ticks": ""
             }
            },
            "marker": {
             "colorbar": {
              "outlinewidth": 0,
              "ticks": ""
             }
            },
            "type": "scatter3d"
           }
          ],
          "scattercarpet": [
           {
            "marker": {
             "colorbar": {
              "outlinewidth": 0,
              "ticks": ""
             }
            },
            "type": "scattercarpet"
           }
          ],
          "scattergeo": [
           {
            "marker": {
             "colorbar": {
              "outlinewidth": 0,
              "ticks": ""
             }
            },
            "type": "scattergeo"
           }
          ],
          "scattergl": [
           {
            "marker": {
             "colorbar": {
              "outlinewidth": 0,
              "ticks": ""
             }
            },
            "type": "scattergl"
           }
          ],
          "scattermapbox": [
           {
            "marker": {
             "colorbar": {
              "outlinewidth": 0,
              "ticks": ""
             }
            },
            "type": "scattermapbox"
           }
          ],
          "scatterpolar": [
           {
            "marker": {
             "colorbar": {
              "outlinewidth": 0,
              "ticks": ""
             }
            },
            "type": "scatterpolar"
           }
          ],
          "scatterpolargl": [
           {
            "marker": {
             "colorbar": {
              "outlinewidth": 0,
              "ticks": ""
             }
            },
            "type": "scatterpolargl"
           }
          ],
          "scatterternary": [
           {
            "marker": {
             "colorbar": {
              "outlinewidth": 0,
              "ticks": ""
             }
            },
            "type": "scatterternary"
           }
          ],
          "surface": [
           {
            "colorbar": {
             "outlinewidth": 0,
             "ticks": ""
            },
            "colorscale": [
             [
              0,
              "#0d0887"
             ],
             [
              0.1111111111111111,
              "#46039f"
             ],
             [
              0.2222222222222222,
              "#7201a8"
             ],
             [
              0.3333333333333333,
              "#9c179e"
             ],
             [
              0.4444444444444444,
              "#bd3786"
             ],
             [
              0.5555555555555556,
              "#d8576b"
             ],
             [
              0.6666666666666666,
              "#ed7953"
             ],
             [
              0.7777777777777778,
              "#fb9f3a"
             ],
             [
              0.8888888888888888,
              "#fdca26"
             ],
             [
              1,
              "#f0f921"
             ]
            ],
            "type": "surface"
           }
          ],
          "table": [
           {
            "cells": {
             "fill": {
              "color": "#EBF0F8"
             },
             "line": {
              "color": "white"
             }
            },
            "header": {
             "fill": {
              "color": "#C8D4E3"
             },
             "line": {
              "color": "white"
             }
            },
            "type": "table"
           }
          ]
         },
         "layout": {
          "annotationdefaults": {
           "arrowcolor": "#2a3f5f",
           "arrowhead": 0,
           "arrowwidth": 1
          },
          "autotypenumbers": "strict",
          "coloraxis": {
           "colorbar": {
            "outlinewidth": 0,
            "ticks": ""
           }
          },
          "colorscale": {
           "diverging": [
            [
             0,
             "#8e0152"
            ],
            [
             0.1,
             "#c51b7d"
            ],
            [
             0.2,
             "#de77ae"
            ],
            [
             0.3,
             "#f1b6da"
            ],
            [
             0.4,
             "#fde0ef"
            ],
            [
             0.5,
             "#f7f7f7"
            ],
            [
             0.6,
             "#e6f5d0"
            ],
            [
             0.7,
             "#b8e186"
            ],
            [
             0.8,
             "#7fbc41"
            ],
            [
             0.9,
             "#4d9221"
            ],
            [
             1,
             "#276419"
            ]
           ],
           "sequential": [
            [
             0,
             "#0d0887"
            ],
            [
             0.1111111111111111,
             "#46039f"
            ],
            [
             0.2222222222222222,
             "#7201a8"
            ],
            [
             0.3333333333333333,
             "#9c179e"
            ],
            [
             0.4444444444444444,
             "#bd3786"
            ],
            [
             0.5555555555555556,
             "#d8576b"
            ],
            [
             0.6666666666666666,
             "#ed7953"
            ],
            [
             0.7777777777777778,
             "#fb9f3a"
            ],
            [
             0.8888888888888888,
             "#fdca26"
            ],
            [
             1,
             "#f0f921"
            ]
           ],
           "sequentialminus": [
            [
             0,
             "#0d0887"
            ],
            [
             0.1111111111111111,
             "#46039f"
            ],
            [
             0.2222222222222222,
             "#7201a8"
            ],
            [
             0.3333333333333333,
             "#9c179e"
            ],
            [
             0.4444444444444444,
             "#bd3786"
            ],
            [
             0.5555555555555556,
             "#d8576b"
            ],
            [
             0.6666666666666666,
             "#ed7953"
            ],
            [
             0.7777777777777778,
             "#fb9f3a"
            ],
            [
             0.8888888888888888,
             "#fdca26"
            ],
            [
             1,
             "#f0f921"
            ]
           ]
          },
          "colorway": [
           "#636efa",
           "#EF553B",
           "#00cc96",
           "#ab63fa",
           "#FFA15A",
           "#19d3f3",
           "#FF6692",
           "#B6E880",
           "#FF97FF",
           "#FECB52"
          ],
          "font": {
           "color": "#2a3f5f"
          },
          "geo": {
           "bgcolor": "white",
           "lakecolor": "white",
           "landcolor": "#E5ECF6",
           "showlakes": true,
           "showland": true,
           "subunitcolor": "white"
          },
          "hoverlabel": {
           "align": "left"
          },
          "hovermode": "closest",
          "mapbox": {
           "style": "light"
          },
          "paper_bgcolor": "white",
          "plot_bgcolor": "#E5ECF6",
          "polar": {
           "angularaxis": {
            "gridcolor": "white",
            "linecolor": "white",
            "ticks": ""
           },
           "bgcolor": "#E5ECF6",
           "radialaxis": {
            "gridcolor": "white",
            "linecolor": "white",
            "ticks": ""
           }
          },
          "scene": {
           "xaxis": {
            "backgroundcolor": "#E5ECF6",
            "gridcolor": "white",
            "gridwidth": 2,
            "linecolor": "white",
            "showbackground": true,
            "ticks": "",
            "zerolinecolor": "white"
           },
           "yaxis": {
            "backgroundcolor": "#E5ECF6",
            "gridcolor": "white",
            "gridwidth": 2,
            "linecolor": "white",
            "showbackground": true,
            "ticks": "",
            "zerolinecolor": "white"
           },
           "zaxis": {
            "backgroundcolor": "#E5ECF6",
            "gridcolor": "white",
            "gridwidth": 2,
            "linecolor": "white",
            "showbackground": true,
            "ticks": "",
            "zerolinecolor": "white"
           }
          },
          "shapedefaults": {
           "line": {
            "color": "#2a3f5f"
           }
          },
          "ternary": {
           "aaxis": {
            "gridcolor": "white",
            "linecolor": "white",
            "ticks": ""
           },
           "baxis": {
            "gridcolor": "white",
            "linecolor": "white",
            "ticks": ""
           },
           "bgcolor": "#E5ECF6",
           "caxis": {
            "gridcolor": "white",
            "linecolor": "white",
            "ticks": ""
           }
          },
          "title": {
           "x": 0.05
          },
          "xaxis": {
           "automargin": true,
           "gridcolor": "white",
           "linecolor": "white",
           "ticks": "",
           "title": {
            "standoff": 15
           },
           "zerolinecolor": "white",
           "zerolinewidth": 2
          },
          "yaxis": {
           "automargin": true,
           "gridcolor": "white",
           "linecolor": "white",
           "ticks": "",
           "title": {
            "standoff": 15
           },
           "zerolinecolor": "white",
           "zerolinewidth": 2
          }
         }
        },
        "title": {
         "font": {
          "color": "#FFC000",
          "family": "Jost",
          "size": 24.72222222222222
         },
         "text": "◙◙◙◙◙◙◙◙◙◙ 🡆 E-COMMERCE 🡄 ◙◙◙◙◙◙◙◙◙◙◙◙◙◙◙◙◙◙◙◙◙◙◙◙◙◙◙◙◙◙◙◙◙◙◙◙◙◙◙◙◙◙◙◙◙◙◙◙◙◙◙◙◙◙◙◙◙◙◙◙◙◙◙◙◙◙◙◙◙◙◙◙◙◙◙◙ Ⓔ-ⒸⓄⓂⓂⒺⓇⒸⒺ ◙◙◙◙◙◙◙◙◙◙",
         "x": 0.5,
         "y": 0.95,
         "yanchor": "bottom"
        },
        "width": 2060
       }
      }
     },
     "metadata": {},
     "output_type": "display_data"
    },
    {
     "name": "stdout",
     "output_type": "stream",
     "text": [
      "TESTE VO TABLE.png\n",
      "\n",
      "12-12-2022 PrimeiraFoto - https://chat.whatsapp.com/LK4LDajkH52BNydoLGGD2d\n",
      "12-12-2022 API - https://chat.whatsapp.com/EBLX0fxYfvuHL7jZ9CZECQ\n",
      "12-12-2022 Teste Python - https://chat.whatsapp.com/I4y7EAVfns629NvfoLUtGI\n"
     ]
    }
   ],
   "source": [
    "for (cod_loja, loja, cor, crypto, logico) in lista_lojas:\n",
    "\n",
    "    if logico:\n",
    "        print(f'\\n• \\'{cod_loja}\\' {loja[4:]}\\n')\n",
    "        print_plot(principal_dataframe=df_hoje,\n",
    "                   lojas=lista_lojas,\n",
    "                   loja_=cod_loja,\n",
    "                   save_image=caminho_imagem)\n",
    "\n",
    "        msg_loja = loja.replace('Â', 'A')\n",
    "\n",
    "        for (contato, link, logico) in contatos:\n",
    "            if logico:\n",
    "                print(f'{date_msg} {contato} - {link}')\n",
    "                # pwk.sendwhats_image(link.replace('https://chat.whatsapp.com/', ''),\n",
    "                #                     f'{relatorio} {cod_loja} TABLE.png',\n",
    "                #                     f'Resumo mensal | {msg_loja[4:]} - {date_msg}',\n",
    "                #                     tab_close=True,\n",
    "                #                     wait_time=10)"
   ]
  }
 ],
 "metadata": {
  "kernelspec": {
   "display_name": "Python 3.10.8 64-bit",
   "language": "python",
   "name": "python3"
  },
  "language_info": {
   "codemirror_mode": {
    "name": "ipython",
    "version": 3
   },
   "file_extension": ".py",
   "mimetype": "text/x-python",
   "name": "python",
   "nbconvert_exporter": "python",
   "pygments_lexer": "ipython3",
   "version": "3.10.8"
  },
  "orig_nbformat": 4,
  "vscode": {
   "interpreter": {
    "hash": "beedbe2faf2f7048d727558d0bc3221e7eba2a0b921cac4d4771b2feb8f74b30"
   }
  }
 },
 "nbformat": 4,
 "nbformat_minor": 2
}
