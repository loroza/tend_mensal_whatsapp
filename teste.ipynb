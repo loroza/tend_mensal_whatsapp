{
 "cells": [
  {
   "cell_type": "code",
   "execution_count": 11,
   "metadata": {},
   "outputs": [
    {
     "name": "stdout",
     "output_type": "stream",
     "text": [
      "Iniciando o envio as 08:08:10\n"
     ]
    }
   ],
   "source": [
    "import pandas as pd\n",
    "from connect import PostgreSQL\n",
    "from tqdm import tqdm\n",
    "import datetime as dt\n",
    "from datetime import date\n",
    "import time\n",
    "import plotly.graph_objs as go\n",
    "import pywhatkit as pwk\n",
    "from html2image import Html2Image\n",
    "import shutil\n",
    "import pyautogui as gui\n",
    "\n",
    "print('Iniciando o envio as ' + dt.datetime.now().strftime('%H:%M:%S'))"
   ]
  },
  {
   "cell_type": "code",
   "execution_count": 12,
   "metadata": {},
   "outputs": [],
   "source": [
    "def proportion_size(pixels:int=None, size:int=None, padrao:int=2160):\n",
    "    sizing = float(pixels / (padrao / size))\n",
    "    return sizing"
   ]
  },
  {
   "cell_type": "code",
   "execution_count": 13,
   "metadata": {},
   "outputs": [],
   "source": [
    "def bg_colors(dataframe, datetime:str, dia_util:str):\n",
    "    \n",
    "    colors = []\n",
    "    date_colors = []\n",
    "    destak_color = []\n",
    "    \n",
    "\n",
    "    for i in dataframe.index:\n",
    "        if dataframe.loc[i, dia_util] == 'Não':\n",
    "            date_colors.append('#DEEFFF')\n",
    "            destak_color.append('#DEEFFF')\n",
    "\n",
    "        elif dataframe.loc[i, datetime].strftime('%d/%m/%Y') == dt.datetime.now().strftime('%d/%m/%Y'):\n",
    "            date_colors.append('#F7F7F7')\n",
    "            destak_color.append('#F7F7F7')\n",
    "            \n",
    "        else:\n",
    "            date_colors.append('#FFFFFF')\n",
    "            destak_color.append('#F7F7F7')\n",
    "\n",
    "    date_colors.append('#E5E5E5')\n",
    "    destak_color.append('#E5E5E5')\n",
    "\n",
    "\n",
    "    for coluna in dataframe.columns:\n",
    "        colors.append(date_colors)\n",
    "\n",
    "    colors[2] = destak_color\n",
    "    colors[3] = destak_color\n",
    "    colors[6] = destak_color\n",
    "    colors[9] = destak_color\n",
    "\n",
    "    return colors"
   ]
  },
  {
   "cell_type": "code",
   "execution_count": 14,
   "metadata": {},
   "outputs": [],
   "source": [
    "def font_projecao_mensal(dataframe, datetime:str, dia_util:str, principal_color:str):\n",
    "    \n",
    "    colors = []\n",
    "    date_colors = []\n",
    "    \n",
    "\n",
    "    for i in dataframe.index:\n",
    "        if dataframe.loc[i, datetime] > dt.datetime.now():\n",
    "            if dataframe.loc[i, dia_util] == 'Não':\n",
    "                date_colors.append('#DEEFFF')\n",
    "                \n",
    "            else:\n",
    "                date_colors.append('#FFFFFF')\n",
    "\n",
    "        else:\n",
    "            if dataframe.loc[i, dia_util] == 'Não':\n",
    "                date_colors.append('#DEEFFF')\n",
    "                \n",
    "            else:\n",
    "                date_colors.append(principal_color)\n",
    "\n",
    "    date_colors.append('#118DFF')\n",
    "\n",
    "\n",
    "    for coluna in dataframe.columns:\n",
    "        colors.append(date_colors)\n",
    "\n",
    "    return colors"
   ]
  },
  {
   "cell_type": "code",
   "execution_count": 15,
   "metadata": {},
   "outputs": [],
   "source": [
    "def font_rendimento(dataframe, percents:str, datetime:str, dia_util:str, principal_color:str):\n",
    "    \n",
    "    colors = []\n",
    "    date_colors = []\n",
    "    \n",
    "\n",
    "    for i in dataframe.index:\n",
    "        if dataframe.loc[i, datetime] != ' ':\n",
    "            if dataframe.loc[i, dia_util] == 'Não':\n",
    "                    date_colors.append('#DEEFFF')\n",
    "\n",
    "            elif dataframe.loc[i, datetime] < dt.datetime.now():\n",
    "                if dataframe.loc[i, percents] >= 1:\n",
    "                    date_colors.append('#00B050')\n",
    "\n",
    "                elif dataframe.loc[i, percents] < 0.95:\n",
    "                    date_colors.append('#FF0000')\n",
    "\n",
    "                elif dataframe.loc[i, percents] < 1:\n",
    "                    date_colors.append('#FFC000')\n",
    "                    \n",
    "            else:\n",
    "                date_colors.append('#FFFFFF')\n",
    "\n",
    "        else:\n",
    "                date_colors.append(principal_color)\n",
    "\n",
    "    date_colors.append('#E5E5E5')\n",
    "\n",
    "    for coluna in dataframe.columns:\n",
    "        colors.append(date_colors)\n",
    "\n",
    "    return colors[0]"
   ]
  },
  {
   "cell_type": "markdown",
   "metadata": {},
   "source": [
    "# Parâmetros"
   ]
  },
  {
   "cell_type": "code",
   "execution_count": 16,
   "metadata": {},
   "outputs": [],
   "source": [
    "_schema = 'D-1'"
   ]
  },
  {
   "cell_type": "code",
   "execution_count": 17,
   "metadata": {},
   "outputs": [
    {
     "name": "stdout",
     "output_type": "stream",
     "text": [
      "Taxa de proporção: \n",
      " ⇳: 890 ⬄: 2060\n"
     ]
    }
   ],
   "source": [
    "_pixels = 890\n",
    "\n",
    "pixels_width = 2060 #int((_pixels/9) * 17)\n",
    "pixels_height = int(_pixels)\n",
    "\n",
    "print(f'Taxa de proporção: \\n ⇳: {pixels_height} ⬄: {pixels_width}')"
   ]
  },
  {
   "cell_type": "code",
   "execution_count": 18,
   "metadata": {},
   "outputs": [],
   "source": [
    "date_query = date(int((dt.datetime.now().strftime('%Y-%m-%d').split('-')[0])), int((dt.datetime.now().strftime('%Y-%m-%d').split('-')[1])), 1).strftime('%Y-%m-%d')"
   ]
  },
  {
   "cell_type": "code",
   "execution_count": 19,
   "metadata": {},
   "outputs": [],
   "source": [
    "codigos_kaizen = [(         'PECISTA', '02608'),\n",
    "\n",
    "                  (    'CLIENTE VALE', '00270'),\n",
    "    \n",
    "                  ('KAIZEN ASA NORTE', '13996'),\n",
    "                  (     'USO INTERNO', '20690'),\n",
    "\n",
    "                  ('KAIZEN CEILÂNDIA', '16100'),\n",
    "                  (     'USO INTERNO', '20691'),\n",
    "\n",
    "                  (     'KAIZEN GAMA', '18400'),\n",
    "                  (     'USO INTERNO', '20692'),\n",
    "\n",
    "                  (  'KAIZEN SOF SUL', '20000'),\n",
    "                  (     'USO INTERNO', '20693')]"
   ]
  },
  {
   "cell_type": "code",
   "execution_count": 20,
   "metadata": {},
   "outputs": [],
   "source": [
    "lista_lojas = [('01',             'CD', '#000000', 'ⒸⒹ', False),\n",
    "               ('02',               '', '#000000', '', False),\n",
    "               ('03',  '04. ASA NORTE', '#881798', 'ⒶⓈⒶ ⓃⓄⓇⓉⒺ', True),\n",
    "               ('04',  '02. CEILÂNDIA', '#008080', 'ⒸⒺⒾⓁⒶⓃⒹⒾⒶ', True),\n",
    "               ('05',       '03. GAMA', '#E74856', 'ⒼⒶⓂⒶ', True),\n",
    "               ('06',    '01. SOF SUL', '#00B050', 'ⓈⓄⒻ ⓈⓊⓁ', True),\n",
    "               ('VO', '05. E-COMMERCE', '#FFC000', 'Ⓔ-ⒸⓄⓂⓂⒺⓇⒸⒺ', True)]"
   ]
  },
  {
   "cell_type": "code",
   "execution_count": 21,
   "metadata": {},
   "outputs": [],
   "source": [
    "dias_semana = [(   'Sunday',       'Domingo'),\n",
    "               (   'Monday', 'Segunda-feira'),\n",
    "               (  'Tuesday',   'Terça-feira'),\n",
    "               ('Wednesday',  'Quarta-feira'),\n",
    "               ( 'Thursday',  'Quinta-feira'),\n",
    "               (   'Friday',   'Sexta-feira'),\n",
    "               ( 'Saturday',        'Sábado')]"
   ]
  },
  {
   "cell_type": "code",
   "execution_count": 22,
   "metadata": {},
   "outputs": [],
   "source": [
    "relatorio = 'TESTE'\n",
    "\n",
    "relatorio_lower = relatorio.lower()\n",
    "relatorio_msg = relatorio_lower.replace(relatorio_lower.split()[0], relatorio_lower.split()[0].title())"
   ]
  },
  {
   "cell_type": "code",
   "execution_count": 23,
   "metadata": {},
   "outputs": [],
   "source": [
    "caminho_imagem = 'Y:\\\\COMPRAS\\\\arquivo temporario analise atualizado\\\\DEPARTAMENTO COMPRAS\\\\10. CARLOS\\\\REPORT'"
   ]
  },
  {
   "cell_type": "code",
   "execution_count": 24,
   "metadata": {},
   "outputs": [],
   "source": [
    "contatos = [('PrimeiraFoto', 'https://chat.whatsapp.com/LK4LDajkH52BNydoLGGD2d', True),\n",
    "            ('Dados e Int',  'https://chat.whatsapp.com/JxY14kWarG70MxB2jzb5pc', False),\n",
    "            ('Dream Team',   'https://chat.whatsapp.com/Hb0KMgYnuFB8coTPlFKTzJ', False),\n",
    "            ('Report Di',    'https://chat.whatsapp.com/G4p8qdUIUblCNPS80244RQ', False),\n",
    "            ('API',          'https://chat.whatsapp.com/EBLX0fxYfvuHL7jZ9CZECQ', True),\n",
    "            ('Teste Python', 'https://chat.whatsapp.com/I4y7EAVfns629NvfoLUtGI', True)]"
   ]
  },
  {
   "cell_type": "markdown",
   "metadata": {},
   "source": [
    "#"
   ]
  },
  {
   "cell_type": "markdown",
   "metadata": {},
   "source": [
    "# DataFrames"
   ]
  },
  {
   "cell_type": "markdown",
   "metadata": {},
   "source": [
    "## Clientes"
   ]
  },
  {
   "cell_type": "code",
   "execution_count": 25,
   "metadata": {},
   "outputs": [],
   "source": [
    "df_cliente = PostgreSQL.read_postgres(name_table='cliente', schema=_schema)"
   ]
  },
  {
   "cell_type": "code",
   "execution_count": 26,
   "metadata": {},
   "outputs": [],
   "source": [
    "df_cli_ped = PostgreSQL.read_postgres(name_table='cli_ped', schema=_schema, query=f'WHERE DT_CADASTR >= \\'{date_query}\\'')"
   ]
  },
  {
   "cell_type": "markdown",
   "metadata": {},
   "source": [
    "## Pedidos"
   ]
  },
  {
   "cell_type": "code",
   "execution_count": 27,
   "metadata": {},
   "outputs": [],
   "source": [
    "df_pedido = PostgreSQL.read_postgres(name_table='pedido', schema=_schema, query=f'WHERE DT_EMISSAO >= \\'{date_query}\\'')"
   ]
  },
  {
   "cell_type": "code",
   "execution_count": 28,
   "metadata": {},
   "outputs": [],
   "source": [
    "df_pedido['VALOR_TOT'] = df_pedido['VALOR_TOT'].astype(float)"
   ]
  },
  {
   "cell_type": "code",
   "execution_count": 29,
   "metadata": {},
   "outputs": [
    {
     "name": "stderr",
     "output_type": "stream",
     "text": [
      " 40%|████      | 4/10 [00:00<00:00, 32.23it/s]"
     ]
    },
    {
     "name": "stdout",
     "output_type": "stream",
     "text": [
      "Excluindo PECISTA - 02608\n",
      "Excluindo CLIENTE VALE - 00270\n",
      "Excluindo KAIZEN ASA NORTE - 13996\n",
      "Excluindo USO INTERNO - 20690\n",
      "Excluindo KAIZEN CEILÂNDIA - 16100\n",
      "Excluindo USO INTERNO - 20691\n",
      "Excluindo KAIZEN GAMA - 18400\n"
     ]
    },
    {
     "name": "stderr",
     "output_type": "stream",
     "text": [
      "100%|██████████| 10/10 [00:00<00:00, 34.69it/s]"
     ]
    },
    {
     "name": "stdout",
     "output_type": "stream",
     "text": [
      "Excluindo USO INTERNO - 20692\n",
      "Excluindo KAIZEN SOF SUL - 20000\n",
      "Excluindo USO INTERNO - 20693\n"
     ]
    },
    {
     "name": "stderr",
     "output_type": "stream",
     "text": [
      "\n"
     ]
    }
   ],
   "source": [
    "for (kaizen, codcli_kaizen) in tqdm(codigos_kaizen):\n",
    "    print(f'Excluindo {kaizen} - {codcli_kaizen}')\n",
    "    df_pedido = df_pedido[df_pedido['CODCLI'] != codcli_kaizen]"
   ]
  },
  {
   "cell_type": "code",
   "execution_count": 30,
   "metadata": {},
   "outputs": [],
   "source": [
    "df_pedido = df_pedido[df_pedido['CODVDE'] != '0001']\n",
    "df_pedido = df_pedido[df_pedido['CODVDE'] != '0100']"
   ]
  },
  {
   "cell_type": "code",
   "execution_count": 31,
   "metadata": {},
   "outputs": [],
   "source": [
    "df_pedido = df_pedido[df_pedido['TIPPED'] == 'V']"
   ]
  },
  {
   "cell_type": "code",
   "execution_count": 32,
   "metadata": {},
   "outputs": [],
   "source": [
    "df_pedido = df_pedido[df_pedido['OBSERVA'].str.contains('REQ') != True]\n",
    "df_pedido = df_pedido[df_pedido['OBSERVA2'].str.contains('REQ') != True]"
   ]
  },
  {
   "cell_type": "code",
   "execution_count": 33,
   "metadata": {},
   "outputs": [
    {
     "name": "stderr",
     "output_type": "stream",
     "text": [
      "100%|██████████| 22845/22845 [00:02<00:00, 10973.19it/s]\n"
     ]
    }
   ],
   "source": [
    "for i in tqdm(df_pedido.index):\n",
    "    if df_pedido.loc[i, 'FORMA_PGTO'] == 'M':\n",
    "        df_pedido.loc[i, 'COD_LOJA'] = 'VO'\n",
    "    else:\n",
    "        df_pedido.loc[i, 'COD_LOJA'] = df_pedido.loc[i, 'CD_LOJA']"
   ]
  },
  {
   "cell_type": "code",
   "execution_count": 34,
   "metadata": {},
   "outputs": [
    {
     "name": "stderr",
     "output_type": "stream",
     "text": [
      "100%|██████████| 22845/22845 [00:00<00:00, 35386.35it/s]\n"
     ]
    }
   ],
   "source": [
    "for i in tqdm(df_pedido.index):\n",
    "    if df_pedido.loc[i, 'COD_LOJA'] == 'VO':\n",
    "        df_pedido.loc[i, 'NU_CPFCNPJ'] = list(df_cli_ped[(df_cli_ped['CD_LOJA'] == df_pedido.loc[i, 'CD_LOJA']) &\n",
    "                                             (df_cli_ped['SG_PEDIDO'] == df_pedido.loc[i, 'SERIE']) &\n",
    "                                             (df_cli_ped['NU_PEDIDO'] == df_pedido.loc[i, 'NU_NOTA'])]['NU_CPFCNPJ'])[0]"
   ]
  },
  {
   "cell_type": "code",
   "execution_count": 35,
   "metadata": {},
   "outputs": [],
   "source": [
    "df_pedido = pd.merge(df_pedido, df_cliente, how='inner', on='CODCLI')"
   ]
  },
  {
   "cell_type": "code",
   "execution_count": 36,
   "metadata": {},
   "outputs": [
    {
     "name": "stderr",
     "output_type": "stream",
     "text": [
      "100%|██████████| 22845/22845 [00:02<00:00, 9144.33it/s]\n"
     ]
    }
   ],
   "source": [
    "for i in tqdm(df_pedido.index):\n",
    "\n",
    "    if df_pedido.loc[i, 'COD_LOJA'] == 'VO':\n",
    "        identify = df_pedido.loc[i, 'NU_CPFCNPJ']\n",
    "    else:\n",
    "        identify = df_pedido.loc[i, 'CPF_CGC']\n",
    "\n",
    "    if df_pedido.loc[i, 'CODAREA'] == '104':\n",
    "        df_pedido.loc[i, 'TIPO_CLIENTE'] = 'CNPJ*'\n",
    "    elif len(identify) < 14:\n",
    "        df_pedido.loc[i, 'TIPO_CLIENTE'] = 'CPF'\n",
    "    else:\n",
    "        df_pedido.loc[i, 'TIPO_CLIENTE'] = 'CNPJ'"
   ]
  },
  {
   "cell_type": "markdown",
   "metadata": {},
   "source": [
    "## Devolução"
   ]
  },
  {
   "cell_type": "code",
   "execution_count": 37,
   "metadata": {},
   "outputs": [],
   "source": [
    "df_prod_ent = PostgreSQL.read_postgres(full_query=f'select a.*, (a.VL_PRECO*a.QT_DEVOLVE) as VL_TOTAL_DEV, b.IN_CLIFOR as IN_CLIFOR1, b.IN_CANCELA, UPPER(b.NFEENVSTAT) as NFEENVSTAT, c.FORMA_PGTO from \"{_schema}\".prod_ent a inner join \"{_schema}\".entrada b on a.CD_LOJA = b.CD_LOJA and a.SG_SERIE = b.SG_SERIE and a.NU_NOTA = b.NU_NOTA inner join \"{_schema}\".venda c on a.CD_LOJA = c.CD_LOJA and a.SG_ORIGEM = c.SERIE and a.NU_ORIGEM = c.NU_NOTA where a.DT_EMISSAO >= \\'{date_query}\\'')"
   ]
  },
  {
   "cell_type": "code",
   "execution_count": 38,
   "metadata": {},
   "outputs": [
    {
     "name": "stderr",
     "output_type": "stream",
     "text": [
      "100%|██████████| 10/10 [00:00<00:00, 322.29it/s]"
     ]
    },
    {
     "name": "stdout",
     "output_type": "stream",
     "text": [
      "Excluindo PECISTA - 02608\n",
      "Excluindo CLIENTE VALE - 00270\n",
      "Excluindo KAIZEN ASA NORTE - 13996\n",
      "Excluindo USO INTERNO - 20690\n",
      "Excluindo KAIZEN CEILÂNDIA - 16100\n",
      "Excluindo USO INTERNO - 20691\n",
      "Excluindo KAIZEN GAMA - 18400\n",
      "Excluindo USO INTERNO - 20692\n",
      "Excluindo KAIZEN SOF SUL - 20000\n",
      "Excluindo USO INTERNO - 20693\n"
     ]
    },
    {
     "name": "stderr",
     "output_type": "stream",
     "text": [
      "\n"
     ]
    }
   ],
   "source": [
    "for (kaizen, codcli_kaizen) in tqdm(codigos_kaizen):\n",
    "    print(f'Excluindo {kaizen} - {codcli_kaizen}')\n",
    "    df_prod_ent = df_prod_ent[df_prod_ent['CD_CLIENTE'] != codcli_kaizen]"
   ]
  },
  {
   "cell_type": "code",
   "execution_count": 39,
   "metadata": {},
   "outputs": [],
   "source": [
    "df_prod_ent = df_prod_ent[(df_prod_ent['IN_CANCELA'] == 'N') &\n",
    "                          (df_prod_ent['IN_CLIFOR1'] == 'C') &\n",
    "                          (df_prod_ent['CD_CFOP'] != '1949') &\n",
    "                          (df_prod_ent['CD_CFOP'] != '2949') &\n",
    "                          (df_prod_ent['CD_CFOP'] != '1603') &\n",
    "                          (df_prod_ent['NFEENVSTAT'].str.contains('DENEG') != True)]"
   ]
  },
  {
   "cell_type": "code",
   "execution_count": 40,
   "metadata": {},
   "outputs": [
    {
     "name": "stderr",
     "output_type": "stream",
     "text": [
      "100%|██████████| 1946/1946 [00:00<00:00, 11303.70it/s]\n"
     ]
    }
   ],
   "source": [
    "for i in tqdm(df_prod_ent.index):\n",
    "    if df_prod_ent.loc[i, 'FORMA_PGTO'] == 'M':\n",
    "        df_prod_ent.loc[i, 'COD_LOJA'] = 'VO'\n",
    "    else:\n",
    "        df_prod_ent.loc[i, 'COD_LOJA'] = df_prod_ent.loc[i, 'CD_LOJA']"
   ]
  },
  {
   "cell_type": "code",
   "execution_count": 41,
   "metadata": {},
   "outputs": [],
   "source": [
    "df_prod_ent['VL_TOTAL_DEV'] = df_prod_ent['VL_TOTAL_DEV'].astype(float)"
   ]
  },
  {
   "cell_type": "code",
   "execution_count": 42,
   "metadata": {},
   "outputs": [],
   "source": [
    "df_prod_ent = df_prod_ent.rename(columns={'CD_CLIENTE':'CODCLI'})\n",
    "df_prod_ent = pd.merge(df_prod_ent, df_cliente, how='inner', on='CODCLI')"
   ]
  },
  {
   "cell_type": "code",
   "execution_count": 43,
   "metadata": {},
   "outputs": [
    {
     "name": "stderr",
     "output_type": "stream",
     "text": [
      "100%|██████████| 1946/1946 [00:00<00:00, 10682.59it/s]\n"
     ]
    }
   ],
   "source": [
    "for i in tqdm(df_prod_ent.index):\n",
    "\n",
    "    identify = df_prod_ent.loc[i, 'CPF_CGC']\n",
    "\n",
    "    if df_prod_ent.loc[i, 'CODAREA'] == '104':\n",
    "        df_prod_ent.loc[i, 'TIPO_CLIENTE'] = 'CNPJ*'\n",
    "    elif len(identify) < 14:\n",
    "        df_prod_ent.loc[i, 'TIPO_CLIENTE'] = 'CPF'\n",
    "    else:\n",
    "        df_prod_ent.loc[i, 'TIPO_CLIENTE'] = 'CNPJ'"
   ]
  },
  {
   "cell_type": "markdown",
   "metadata": {},
   "source": [
    "## Metas"
   ]
  },
  {
   "cell_type": "code",
   "execution_count": 44,
   "metadata": {},
   "outputs": [],
   "source": [
    "df_metas = pd.read_excel('Y:\\\\COMPRAS\\\\arquivo temporario analise atualizado\\\\DEPARTAMENTO COMPRAS\\\\10. CARLOS\\\\PROJETOS\\\\EXCEL\\\\BASES\\\\DATAS.xlsx', sheet_name='Metas')"
   ]
  },
  {
   "cell_type": "code",
   "execution_count": 45,
   "metadata": {},
   "outputs": [],
   "source": [
    "df_data = pd.read_excel('Y:\\\\COMPRAS\\\\arquivo temporario analise atualizado\\\\DEPARTAMENTO COMPRAS\\\\10. CARLOS\\\\PROJETOS\\\\EXCEL\\\\BASES\\\\DATAS.xlsx', sheet_name='Datas')"
   ]
  },
  {
   "cell_type": "code",
   "execution_count": 46,
   "metadata": {},
   "outputs": [],
   "source": [
    "df_proporcional = pd.read_excel('Y:\\\\COMPRAS\\\\arquivo temporario analise atualizado\\\\DEPARTAMENTO COMPRAS\\\\10. CARLOS\\\\PROJETOS\\\\EXCEL\\\\BASES\\\\DATAS.xlsx', sheet_name='Proporcional')"
   ]
  },
  {
   "cell_type": "code",
   "execution_count": 47,
   "metadata": {},
   "outputs": [],
   "source": [
    "df_datas = df_data[df_data['Mês - Ano'] == df_data[df_data['Data'] == date_query]['Mês - Ano'].values[0]].reset_index(drop=True)"
   ]
  },
  {
   "cell_type": "code",
   "execution_count": 48,
   "metadata": {},
   "outputs": [],
   "source": [
    "df_meta_mes = df_metas[df_metas['Mês - Ano'] == df_datas['Mês - Ano'][0]]"
   ]
  },
  {
   "cell_type": "code",
   "execution_count": 49,
   "metadata": {},
   "outputs": [],
   "source": [
    "df_meta_data = df_datas.drop(columns=['Dia', 'Mês', 'Ano', 'Dia da Semana', 'Nome - Mês', 'Semestre', 'Trimestre', 'Sequencial - Dia da Semana', 'Dias Úteis']).merge(df_meta_mes.drop(columns=['Mês', 'Ano', 'Dias Úteis', 'Qtd Sábados', 'Nome - Mês', 'Loja']), how='inner', on='Mês - Ano').rename(columns={'Cd_Loja': 'CD_LOJA'})"
   ]
  },
  {
   "cell_type": "code",
   "execution_count": 50,
   "metadata": {},
   "outputs": [],
   "source": [
    "df_meta_data = df_meta_data.merge(df_proporcional, how='left', on=['CD_LOJA', 'Data'])\n",
    "\n",
    "df_meta_data['%'] = df_meta_data['%'].fillna(1)"
   ]
  },
  {
   "cell_type": "code",
   "execution_count": 51,
   "metadata": {},
   "outputs": [],
   "source": [
    "for i in df_meta_data.index:\n",
    "    if df_meta_data.loc[i, 'Dia Útil'] == 'Sim':\n",
    "        df_meta_data.loc[i, 'Meta'] = df_meta_data.loc[i, 'Meta Diária']\n",
    "    \n",
    "    elif df_meta_data.loc[i, 'Dia Útil'] == 'Meio':\n",
    "        df_meta_data.loc[i, 'Meta'] = df_meta_data.loc[i, 'Meta Sábado']\n",
    "\n",
    "    else:\n",
    "        df_meta_data.loc[i, 'Meta'] = 0\n",
    "\n",
    "    df_meta_data.loc[i, 'Meta'] = df_meta_data.loc[i, 'Meta'] * df_meta_data.loc[i, '%']\n",
    "\n",
    "df_meta_data = df_meta_data.rename(columns={'Data':'DT_EMISSAO'})"
   ]
  },
  {
   "cell_type": "markdown",
   "metadata": {},
   "source": [
    "# Cálculo"
   ]
  },
  {
   "cell_type": "code",
   "execution_count": 52,
   "metadata": {},
   "outputs": [
    {
     "name": "stderr",
     "output_type": "stream",
     "text": [
      "C:\\Users\\admin\\AppData\\Local\\Temp\\ipykernel_16068\\464804912.py:1: FutureWarning: The default value of numeric_only in DataFrameGroupBy.sum is deprecated. In a future version, numeric_only will default to False. Either specify numeric_only or select only columns which should be valid for the function.\n",
      "  df_venda_bruta = df_pedido.groupby(['COD_LOJA', 'DT_EMISSAO']).sum()[['VALOR_TOT']].reset_index().rename(columns={'COD_LOJA':'CD_LOJA'})\n"
     ]
    }
   ],
   "source": [
    "df_venda_bruta = df_pedido.groupby(['COD_LOJA', 'DT_EMISSAO']).sum()[['VALOR_TOT']].reset_index().rename(columns={'COD_LOJA':'CD_LOJA'})"
   ]
  },
  {
   "cell_type": "code",
   "execution_count": 53,
   "metadata": {},
   "outputs": [
    {
     "name": "stderr",
     "output_type": "stream",
     "text": [
      "C:\\Users\\admin\\AppData\\Local\\Temp\\ipykernel_16068\\793352684.py:1: FutureWarning: The default value of numeric_only in DataFrameGroupBy.sum is deprecated. In a future version, numeric_only will default to False. Either specify numeric_only or select only columns which should be valid for the function.\n",
      "  df_devolucao = df_prod_ent.groupby(['COD_LOJA', 'DT_EMISSAO']).sum()[['VL_TOTAL_DEV']].reset_index().rename(columns={'COD_LOJA':'CD_LOJA'})\n"
     ]
    }
   ],
   "source": [
    "df_devolucao = df_prod_ent.groupby(['COD_LOJA', 'DT_EMISSAO']).sum()[['VL_TOTAL_DEV']].reset_index().rename(columns={'COD_LOJA':'CD_LOJA'})"
   ]
  },
  {
   "cell_type": "code",
   "execution_count": 54,
   "metadata": {},
   "outputs": [
    {
     "name": "stderr",
     "output_type": "stream",
     "text": [
      "C:\\Users\\admin\\AppData\\Local\\Temp\\ipykernel_16068\\3541458602.py:1: FutureWarning: The default value of numeric_only in DataFrameGroupBy.sum is deprecated. In a future version, numeric_only will default to False. Either specify numeric_only or select only columns which should be valid for the function.\n",
      "  df_venda_bruta_cnpj = df_pedido[df_pedido['TIPO_CLIENTE'] != 'CPF'].groupby(['COD_LOJA', 'DT_EMISSAO']).sum()[['VALOR_TOT']].reset_index().rename(columns={'COD_LOJA':'CD_LOJA'})\n",
      "C:\\Users\\admin\\AppData\\Local\\Temp\\ipykernel_16068\\3541458602.py:2: FutureWarning: The default value of numeric_only in DataFrameGroupBy.sum is deprecated. In a future version, numeric_only will default to False. Either specify numeric_only or select only columns which should be valid for the function.\n",
      "  df_devolucao_cnpj = df_prod_ent[df_prod_ent['TIPO_CLIENTE'] != 'CPF'].groupby(['COD_LOJA', 'DT_EMISSAO']).sum()[['VL_TOTAL_DEV']].reset_index().rename(columns={'COD_LOJA':'CD_LOJA'})\n"
     ]
    }
   ],
   "source": [
    "df_venda_bruta_cnpj = df_pedido[df_pedido['TIPO_CLIENTE'] != 'CPF'].groupby(['COD_LOJA', 'DT_EMISSAO']).sum()[['VALOR_TOT']].reset_index().rename(columns={'COD_LOJA':'CD_LOJA'})\n",
    "df_devolucao_cnpj = df_prod_ent[df_prod_ent['TIPO_CLIENTE'] != 'CPF'].groupby(['COD_LOJA', 'DT_EMISSAO']).sum()[['VL_TOTAL_DEV']].reset_index().rename(columns={'COD_LOJA':'CD_LOJA'})"
   ]
  },
  {
   "cell_type": "code",
   "execution_count": 55,
   "metadata": {},
   "outputs": [
    {
     "name": "stderr",
     "output_type": "stream",
     "text": [
      "C:\\Users\\admin\\AppData\\Local\\Temp\\ipykernel_16068\\4099021309.py:1: FutureWarning: The default value of numeric_only in DataFrameGroupBy.sum is deprecated. In a future version, numeric_only will default to False. Either specify numeric_only or select only columns which should be valid for the function.\n",
      "  df_venda_bruta_cpf = df_pedido[df_pedido['TIPO_CLIENTE'] == 'CPF'].groupby(['COD_LOJA', 'DT_EMISSAO']).sum()[['VALOR_TOT']].reset_index().rename(columns={'COD_LOJA':'CD_LOJA'})\n",
      "C:\\Users\\admin\\AppData\\Local\\Temp\\ipykernel_16068\\4099021309.py:2: FutureWarning: The default value of numeric_only in DataFrameGroupBy.sum is deprecated. In a future version, numeric_only will default to False. Either specify numeric_only or select only columns which should be valid for the function.\n",
      "  df_devolucao_cpf = df_prod_ent[df_prod_ent['TIPO_CLIENTE'] == 'CPF'].groupby(['COD_LOJA', 'DT_EMISSAO']).sum()[['VL_TOTAL_DEV']].reset_index().rename(columns={'COD_LOJA':'CD_LOJA'})\n"
     ]
    }
   ],
   "source": [
    "df_venda_bruta_cpf = df_pedido[df_pedido['TIPO_CLIENTE'] == 'CPF'].groupby(['COD_LOJA', 'DT_EMISSAO']).sum()[['VALOR_TOT']].reset_index().rename(columns={'COD_LOJA':'CD_LOJA'})\n",
    "df_devolucao_cpf = df_prod_ent[df_prod_ent['TIPO_CLIENTE'] == 'CPF'].groupby(['COD_LOJA', 'DT_EMISSAO']).sum()[['VL_TOTAL_DEV']].reset_index().rename(columns={'COD_LOJA':'CD_LOJA'})"
   ]
  },
  {
   "cell_type": "code",
   "execution_count": 56,
   "metadata": {},
   "outputs": [],
   "source": [
    "df_final = pd.merge(df_venda_bruta, df_devolucao, how='outer', on=['CD_LOJA', 'DT_EMISSAO'])\n",
    "\n",
    "df_final = df_final.sort_values(by=['DT_EMISSAO', 'CD_LOJA'])\n",
    "df_final = df_final.reset_index(drop=True)\n",
    "\n",
    "df_final = pd.merge(df_meta_data, df_final, how='left', on=['CD_LOJA', 'DT_EMISSAO'])"
   ]
  },
  {
   "cell_type": "code",
   "execution_count": 57,
   "metadata": {},
   "outputs": [],
   "source": [
    "df_final = df_final.fillna(0)"
   ]
  },
  {
   "cell_type": "code",
   "execution_count": 58,
   "metadata": {},
   "outputs": [
    {
     "name": "stderr",
     "output_type": "stream",
     "text": [
      "  2%|▏         | 3/186 [00:00<00:06, 29.97it/s]C:\\Users\\admin\\AppData\\Local\\Temp\\ipykernel_16068\\3999950578.py:66: RuntimeWarning: divide by zero encountered in double_scalars\n",
      "  df_hoje.loc[i, '% META DIA'] = df_hoje.loc[i, 'VENDA LÍQUIDA'] / df_hoje.loc[i, 'META']\n",
      "100%|██████████| 186/186 [00:03<00:00, 58.90it/s]\n"
     ]
    }
   ],
   "source": [
    "df_hoje = df_final\n",
    "df_hoje = df_hoje.rename(columns={'VALOR_TOT':'VENDA BRUTA', 'VL_TOTAL_DEV':'DEVOLUÇÃO', 'Meta':'META'})\n",
    "\n",
    "for i in tqdm(df_hoje.index):\n",
    "    df_hoje.loc[i, 'VENDA LÍQUIDA'] = (df_hoje.loc[i, 'VENDA BRUTA'] - df_hoje.loc[i, 'DEVOLUÇÃO'])\n",
    "    \n",
    "    if df_hoje.loc[i, 'CD_LOJA'] == 'VO':\n",
    "\n",
    "        client_cgc = list(df_pedido[(df_pedido['DT_EMISSAO'] == df_hoje.loc[i, 'DT_EMISSAO']) &\n",
    "                         (df_pedido['COD_LOJA'] == df_hoje.loc[i, 'CD_LOJA']) &\n",
    "                         (df_pedido['TIPO_CLIENTE'] != 'CPF')]['NU_CPFCNPJ'].drop_duplicates().dropna())\n",
    "\n",
    "        client_cpf = list(df_pedido[(df_pedido['DT_EMISSAO'] == df_hoje.loc[i, 'DT_EMISSAO']) &\n",
    "                         (df_pedido['COD_LOJA'] == df_hoje.loc[i, 'CD_LOJA']) &\n",
    "                         (df_pedido['TIPO_CLIENTE'] == 'CPF')]['NU_CPFCNPJ'].drop_duplicates().dropna())\n",
    "    \n",
    "    else:\n",
    "\n",
    "        client_cgc = list(df_pedido[(df_pedido['DT_EMISSAO'] == df_hoje.loc[i, 'DT_EMISSAO']) &\n",
    "                         (df_pedido['COD_LOJA'] == df_hoje.loc[i, 'CD_LOJA']) &\n",
    "                         (df_pedido['TIPO_CLIENTE'] != 'CPF')]['CPF_CGC'].drop_duplicates())\n",
    "\n",
    "        client_cpf = list(df_pedido[(df_pedido['DT_EMISSAO'] == df_hoje.loc[i, 'DT_EMISSAO']) &\n",
    "                         (df_pedido['COD_LOJA'] == df_hoje.loc[i, 'CD_LOJA']) &\n",
    "                         (df_pedido['TIPO_CLIENTE'] == 'CPF')]['CPF_CGC'].drop_duplicates())\n",
    "\n",
    "    venda_cgc = list(df_pedido[(df_pedido['DT_EMISSAO'] == df_hoje.loc[i, 'DT_EMISSAO']) &\n",
    "                    (df_pedido['COD_LOJA'] == df_hoje.loc[i, 'CD_LOJA']) &\n",
    "                    (df_pedido['TIPO_CLIENTE'] != 'CPF')]['VALOR_TOT'])\n",
    "\n",
    "    venda_cpf = list(df_pedido[(df_pedido['DT_EMISSAO'] == df_hoje.loc[i, 'DT_EMISSAO']) &\n",
    "                    (df_pedido['COD_LOJA'] == df_hoje.loc[i, 'CD_LOJA']) &\n",
    "                    (df_pedido['TIPO_CLIENTE'] == 'CPF')]['VALOR_TOT'])\n",
    "\n",
    "    devol_cgc = list(df_prod_ent[(df_prod_ent['DT_EMISSAO'] == df_hoje.loc[i, 'DT_EMISSAO']) &\n",
    "                    (df_prod_ent['COD_LOJA'] == df_hoje.loc[i, 'CD_LOJA']) &\n",
    "                    (df_prod_ent['TIPO_CLIENTE'] != 'CPF')]['VL_TOTAL_DEV'])\n",
    "\n",
    "    devol_cpf = list(df_prod_ent[(df_prod_ent['DT_EMISSAO'] == df_hoje.loc[i, 'DT_EMISSAO']) &\n",
    "                    (df_prod_ent['COD_LOJA'] == df_hoje.loc[i, 'CD_LOJA']) &\n",
    "                    (df_prod_ent['TIPO_CLIENTE'] == 'CPF')]['VL_TOTAL_DEV'])\n",
    "\n",
    "    if sum(devol_cgc) > 0 and sum(venda_cgc) > 0:\n",
    "        percent_cgc = sum(devol_cgc) / sum(venda_cgc)\n",
    "    else:\n",
    "        percent_cgc = 0\n",
    "\n",
    "    if sum(devol_cpf) > 0 and sum(venda_cpf) > 0:\n",
    "        percent_cpf = sum(devol_cpf) / sum(venda_cpf)\n",
    "    else:\n",
    "        percent_cpf = 0\n",
    "\n",
    "    df_hoje.loc[i, 'VENDA_CNPJ'] = (sum(venda_cgc) - sum(devol_cgc))\n",
    "    df_hoje.loc[i, 'DEVOL_CNPJ'] = sum(devol_cgc)\n",
    "    df_hoje.loc[i, '% DEV CNPJ'] = percent_cgc\n",
    "    df_hoje.loc[i, 'CNPJ'] = len(client_cgc)\n",
    "\n",
    "    df_hoje.loc[i, 'VENDA_CPF'] = (sum(venda_cpf) - sum(devol_cpf))\n",
    "    df_hoje.loc[i, 'DEVOL_CPF'] = sum(devol_cpf)\n",
    "    df_hoje.loc[i, '% DEV CPF'] = percent_cpf\n",
    "    df_hoje.loc[i, 'CPF'] = len(client_cpf)\n",
    "\n",
    "    if df_hoje.loc[i, 'VENDA LÍQUIDA'] == 0:\n",
    "        df_hoje.loc[i, '% META DIA'] = 0\n",
    "    else:\n",
    "        df_hoje.loc[i, '% META DIA'] = df_hoje.loc[i, 'VENDA LÍQUIDA'] / df_hoje.loc[i, 'META']\n",
    "\n",
    "    if df_hoje.loc[i, 'DEVOLUÇÃO'] == 0:\n",
    "        df_hoje.loc[i, '% DEV'] = 0\n",
    "    else:\n",
    "        df_hoje.loc[i, '% DEV'] = df_hoje.loc[i, 'DEVOLUÇÃO'] / df_hoje.loc[i, 'VENDA BRUTA']"
   ]
  },
  {
   "cell_type": "code",
   "execution_count": 59,
   "metadata": {},
   "outputs": [],
   "source": [
    "df_hoje = df_hoje.fillna(0)"
   ]
  },
  {
   "cell_type": "markdown",
   "metadata": {},
   "source": [
    "# "
   ]
  },
  {
   "cell_type": "code",
   "execution_count": 60,
   "metadata": {},
   "outputs": [],
   "source": [
    "def print_plot(principal_dataframe:str = None,\n",
    "               lojas = None,\n",
    "               loja_ = '',\n",
    "               save_image = ''):\n",
    "    \n",
    "    if len(loja_) > 0:\n",
    "        df_print = principal_dataframe[principal_dataframe['CD_LOJA'] == loja_].reset_index(drop=True)\n",
    "\n",
    "        if loja_ == 'VO':\n",
    "            client_cgc_mes_vo = []\n",
    "            client_cgc_mes = list(df_pedido[(df_pedido['COD_LOJA'] == loja_) &\n",
    "                                 (df_pedido['TIPO_CLIENTE'] != 'CPF')]['NU_CPFCNPJ'].drop_duplicates().dropna())\n",
    "        else:\n",
    "            client_cgc_mes_vo = []\n",
    "            client_cgc_mes = list(df_pedido[(df_pedido['COD_LOJA'] == loja_) &\n",
    "                                 (df_pedido['TIPO_CLIENTE'] != 'CPF')]['CPF_CGC'].drop_duplicates())\n",
    "\n",
    "\n",
    "        df_print = df_print[['DT_EMISSAO',\n",
    "                             'Dia Útil',\n",
    "                             'Nome - Dia da Semana',\n",
    "                             'CD_LOJA',\n",
    "                             'META',\n",
    "                             'VENDA BRUTA',\n",
    "                             'VENDA LÍQUIDA',\n",
    "                             'DEVOLUÇÃO',\n",
    "                             'VENDA_CNPJ',\n",
    "                             'DEVOL_CNPJ',\n",
    "                             'CNPJ',\n",
    "                             'VENDA_CPF',\n",
    "                             'DEVOL_CPF',\n",
    "                             'CPF']]\n",
    "\n",
    "    else:\n",
    "        df_print = principal_dataframe.groupby(['DT_EMISSAO', 'Dia Útil', 'Nome - Dia da Semana']).sum(['META',\n",
    "                                                                                                        'VENDA BRUTA',\n",
    "                                                                                                        'DEVOLUÇÃO',\n",
    "                                                                                                        'VENDA LÍQUIDA',\n",
    "                                                                                                        'VENDA_CNPJ',\n",
    "                                                                                                        'DEVOL_CNPJ',\n",
    "                                                                                                        'CNPJ',\n",
    "                                                                                                        'VENDA_CPF',\n",
    "                                                                                                        'DEVOL_CPF',\n",
    "                                                                                                        'CPF']).reset_index()\n",
    "\n",
    "\n",
    "        client_cgc_mes = list(df_pedido[(df_pedido['TIPO_CLIENTE'] != 'CPF')]['CPF_CGC'].drop_duplicates())\n",
    "        client_cgc_mes_vo = list(df_pedido[df_pedido['TIPO_CLIENTE'] != 'CPF']['NU_CPFCNPJ'].drop_duplicates().dropna())\n",
    "\n",
    "    \n",
    "        df_print = df_print[['DT_EMISSAO',\n",
    "                             'Dia Útil',\n",
    "                             'Nome - Dia da Semana',\n",
    "                             'META',\n",
    "                             'VENDA BRUTA',\n",
    "                             'VENDA LÍQUIDA',\n",
    "                             'DEVOLUÇÃO',\n",
    "                             'VENDA_CNPJ',\n",
    "                             'DEVOL_CNPJ',\n",
    "                             'CNPJ',\n",
    "                             'VENDA_CPF',\n",
    "                             'DEVOL_CPF',\n",
    "                             'CPF']]\n",
    "\n",
    "    for i in df_print.index:\n",
    "        if df_print.loc[i, 'DEVOLUÇÃO'] == 0:\n",
    "            df_print.loc[i, '% DEV'] = 0\n",
    "        else:\n",
    "            df_print.loc[i, '% DEV'] = df_print.loc[i, 'DEVOLUÇÃO'] / df_print.loc[i, 'VENDA BRUTA']\n",
    "\n",
    "        \n",
    "        if df_print.loc[i, 'DEVOL_CNPJ'] == 0:\n",
    "            df_print.loc[i, '% DEV CNPJ'] = 0\n",
    "        else:\n",
    "            df_print.loc[i, '% DEV CNPJ'] = df_print.loc[i, 'DEVOL_CNPJ'] / df_print.loc[i, 'VENDA_CNPJ']\n",
    "\n",
    "\n",
    "        if df_print.loc[i, 'DEVOL_CPF'] == 0:\n",
    "            df_print.loc[i, '% DEV CPF'] = 0\n",
    "        else:\n",
    "            df_print.loc[i, '% DEV CPF'] = df_print.loc[i, 'DEVOL_CPF'] / df_print.loc[i, 'VENDA_CPF']\n",
    "\n",
    "        if df_print.loc[i, 'VENDA LÍQUIDA'] == 0:\n",
    "            df_print.loc[i, '% META DIA'] = 0\n",
    "        else:\n",
    "            df_print.loc[i, '% META DIA'] = df_print.loc[i, 'VENDA LÍQUIDA'] / df_print.loc[i, 'META']\n",
    "\n",
    "    venda_mtd = []\n",
    "    meta_mtd = []\n",
    "\n",
    "    for i in df_print.index:\n",
    "\n",
    "        venda_mtd.append(list(df_print.loc[:i, 'VENDA LÍQUIDA']))\n",
    "        df_print.loc[i, 'VENDA_MTD'] = sum(venda_mtd[i])\n",
    "\n",
    "        meta_mtd.append(list(df_print.loc[:i, 'META']))\n",
    "        df_print.loc[i, 'META_MTD'] = sum(meta_mtd[i])\n",
    "\n",
    "        if df_print.loc[i, 'VENDA_MTD'] == 0:\n",
    "            df_print.loc[i, '% META MÊS'] = 0\n",
    "        else:\n",
    "            df_print.loc[i, '% META MÊS'] = df_print.loc[i, 'VENDA_MTD'] / df_print.loc[i, 'META_MTD']\n",
    "\n",
    "\n",
    "\n",
    "\n",
    "\n",
    "\n",
    "    for i in df_print.index:\n",
    "\n",
    "        df_print.loc[i, 'PROJEÇÃO MÊS'] = df_print.loc[i, '% META MÊS'] * round(float(sum(list(df_print['META']))), 2)\n",
    "\n",
    "    df_print = df_print.rename(columns={'DT_EMISSAO': 'Data',\n",
    "                                        'META': 'Meta',\n",
    "                                        'VENDA BRUTA': 'Venda\\nSIAC',\n",
    "                                        'VENDA LÍQUIDA': 'Venda\\nLíquida',\n",
    "                                        'DEVOLUÇÃO': 'Devolução',\n",
    "                                        '% DEV': '%\\nDev',\n",
    "                                        'VENDA_CNPJ': 'Venda\\nCNPJ',\n",
    "                                        'CNPJ': 'Clientes\\nCNPJ',\n",
    "                                        '% DEV CNPJ': '% Dev\\nCNPJ',\n",
    "                                        'VENDA_CPF': 'Venda\\nCPF',\n",
    "                                        'CPF': 'Clientes\\nCPF',\n",
    "                                        '% DEV CPF': '% Dev\\nCPF',\n",
    "                                        '% META DIA': '%\\nDia',\n",
    "                                        '% META MÊS': '%\\nMês',\n",
    "                                        'PROJEÇÃO MÊS': 'Projeção\\nmensal'})\n",
    "\n",
    "\n",
    "    background_color = bg_colors(df_print, 'Data', 'Dia Útil')\n",
    "    fonts_color = font_projecao_mensal(df_print, 'Data', 'Dia Útil', '#000000')\n",
    "    day_rending_color = font_rendimento(df_print, '%\\nDia', 'Data', 'Dia Útil', '#FFFFFF')\n",
    "    mon_rending_color = font_rendimento(df_print, '%\\nMês', 'Data', 'Dia Útil', '#FFFFFF')\n",
    "\n",
    "\n",
    "    percent_total_dev = (round(float(sum(list(df_print['Devolução']))), 2) / round(float(sum(list(df_print['Venda\\nSIAC']))), 2))\n",
    "    percent_total_dev_pj = (round(float(sum(list(df_print['DEVOL_CNPJ']))), 2) / round(float(sum(list(df_print['Venda\\nCNPJ']))), 2))\n",
    "    percent_total_dev_pf = (round(float(sum(list(df_print['DEVOL_CPF']))), 2) / round(float(sum(list(df_print['Venda\\nCPF']))), 2))\n",
    "\n",
    "\n",
    "    df_print.loc[len(df_print), 'Data'] = ' '\n",
    "\n",
    "\n",
    "    df_print = df_print.fillna(0)\n",
    "\n",
    "    df_print.loc[len(df_print) - 1, 'Meta'] = round(float(sum(list(df_print['Meta']))), 2)\n",
    "    df_print.loc[len(df_print) - 1, 'Venda\\nSIAC'] = round(float(sum(list(df_print['Venda\\nSIAC']))), 2)\n",
    "    df_print.loc[len(df_print) - 1, 'Venda\\nLíquida'] = round(float(sum(list(df_print['Venda\\nLíquida']))), 2)\n",
    "    df_print.loc[len(df_print) - 1, 'Devolução'] = round(float(sum(list(df_print['Devolução']))), 2)\n",
    "    df_print.loc[len(df_print) - 1, '%\\nDev'] = percent_total_dev\n",
    "    df_print.loc[len(df_print) - 1, 'Venda\\nCNPJ'] = round(float(sum(list(df_print['Venda\\nCNPJ']))), 2)\n",
    "    df_print.loc[len(df_print) - 1, 'Clientes\\nCNPJ'] = round(float(len(client_cgc_mes) + len(client_cgc_mes_vo)), 2)  #round(float(sum(list(df_print['Clientes\\nCNPJ']))), 2)\n",
    "    df_print.loc[len(df_print) - 1, '% Dev\\nCNPJ'] = percent_total_dev_pj\n",
    "    df_print.loc[len(df_print) - 1, 'Venda\\nCPF'] = round(float(sum(list(df_print['Venda\\nCPF']))), 2)\n",
    "    df_print.loc[len(df_print) - 1, 'Clientes\\nCPF'] = round(float(sum(list(df_print['Clientes\\nCPF']))), 2)\n",
    "    df_print.loc[len(df_print) - 1, '% Dev\\nCPF'] = percent_total_dev_pf\n",
    "    df_print.loc[len(df_print) - 1, '%\\nDia'] = df_print.loc[len(df_print) - 1, 'Venda\\nLíquida'] / df_print.loc[len(df_print) - 1, 'Meta']\n",
    "    df_print.loc[len(df_print) - 1, '%\\nMês'] = df_print.loc[len(df_print) - 1, 'Venda\\nLíquida'] / df_print.loc[len(df_print) - 1, 'Meta']\n",
    "    df_print.loc[len(df_print) - 1, 'Projeção\\nmensal'] = 0\n",
    "\n",
    "\n",
    "\n",
    "\n",
    "\n",
    "\n",
    "    df_print = df_print[['Data',\n",
    "                         'Meta',\n",
    "                         'Venda\\nSIAC',\n",
    "                         'Venda\\nLíquida',\n",
    "                         'Devolução',\n",
    "                         '%\\nDev',\n",
    "                         'Venda\\nCNPJ',\n",
    "                         'Clientes\\nCNPJ',\n",
    "                         '% Dev\\nCNPJ',\n",
    "                         'Venda\\nCPF',\n",
    "                         'Clientes\\nCPF',\n",
    "                         '% Dev\\nCPF',\n",
    "                         '%\\nDia',\n",
    "                         '%\\nMês',\n",
    "                         'Projeção\\nmensal']]\n",
    "\n",
    "\n",
    "\n",
    "    for i in df_print.index:\n",
    "        df_print.loc[i, 'Meta'] = 'R$ {:_.2f}'.format(df_print.loc[i, 'Meta']).replace('.',',').replace('_','.')\n",
    "        df_print.loc[i, 'Venda\\nSIAC'] = 'R$ {:_.2f}'.format(df_print.loc[i, 'Venda\\nSIAC']).replace('.',',').replace('_','.')\n",
    "        df_print.loc[i, 'Devolução'] = 'R$ {:_.2f}'.format(df_print.loc[i, 'Devolução']).replace('.',',').replace('_','.')\n",
    "        df_print.loc[i, '%\\nDev'] = '{:_.2%}'.format(df_print.loc[i, '%\\nDev']).replace('.',',').replace('_','.')\n",
    "        df_print.loc[i, 'Venda\\nCNPJ'] = 'R$ {:_.2f}'.format(df_print.loc[i, 'Venda\\nCNPJ']).replace('.',',').replace('_','.')\n",
    "        df_print.loc[i, '% Dev\\nCNPJ'] = '{:_.2%}'.format(df_print.loc[i, '% Dev\\nCNPJ']).replace('.',',').replace('_','.')\n",
    "        df_print.loc[i, 'Clientes\\nCNPJ'] = '{:_.0f}'.format(df_print.loc[i, 'Clientes\\nCNPJ']).replace('.',',').replace('_','.')\n",
    "        df_print.loc[i, 'Venda\\nCPF'] = 'R$ {:_.2f}'.format(df_print.loc[i, 'Venda\\nCPF']).replace('.',',').replace('_','.')\n",
    "        df_print.loc[i, '% Dev\\nCPF'] = '{:_.2%}'.format(df_print.loc[i, '% Dev\\nCPF']).replace('.',',').replace('_','.')\n",
    "        df_print.loc[i, 'Clientes\\nCPF'] = '{:_.0f}'.format(df_print.loc[i, 'Clientes\\nCPF']).replace('.',',').replace('_','.')\n",
    "        df_print.loc[i, '%\\nDia'] = '{:_.2%}'.format(df_print.loc[i, '%\\nDia']).replace('.',',').replace('_','.')\n",
    "        df_print.loc[i, '%\\nMês'] = '{:_.2%}'.format(df_print.loc[i, '%\\nMês']).replace('.',',').replace('_','.')\n",
    "        df_print.loc[i, 'Projeção\\nmensal'] = 'R$ {:_.2f}'.format(df_print.loc[i, 'Projeção\\nmensal']).replace('.',',').replace('_','.')\n",
    "\n",
    "        if df_print.loc[i, 'Venda\\nLíquida'] < 0:\n",
    "            df_print.loc[i, 'Venda\\nLíquida'] = '-R$ {:_.2f}'.format(df_print.loc[i, 'Venda\\nLíquida'] * -1).replace('.',',').replace('_','.')\n",
    "        else:\n",
    "            df_print.loc[i, 'Venda\\nLíquida'] = 'R$ {:_.2f}'.format(df_print.loc[i, 'Venda\\nLíquida']).replace('.',',').replace('_','.')\n",
    "\n",
    "        if df_print.loc[i, 'Data'] == ' ':\n",
    "            df_print.loc[i, 'Data'] = 'Total'\n",
    "        else:\n",
    "            df_print.loc[i, 'Data'] = df_print.loc[i, 'Data'].strftime('%d/%m/%Y, %A')\n",
    "\n",
    "\n",
    "        for (english, portuguese) in dias_semana:\n",
    "            if english in df_print.loc[i, 'Data']:\n",
    "                df_print.loc[i, 'Data'] = df_print.loc[i, 'Data'].replace(english, portuguese)\n",
    "\n",
    "\n",
    "\n",
    "    df_print = df_print.replace('inf%', '').replace('-inf%', '').replace('0,00%', '').replace('R$ 0,00', '').replace('0', '')\n",
    "\n",
    "\n",
    "    table = go.Figure(go.Table(header={'values':list(df_print.columns),\n",
    "                                       'fill_color': '#E5E5E5',\n",
    "                                       'line_color': '#E5E5E5',\n",
    "                                       'line_width': 3,\n",
    "                                       'align': 'center',\n",
    "                                       'font_color': ['#000000',\n",
    "                                                      '#000000',\n",
    "                                                      '#118DFF',\n",
    "                                                      '#000000',\n",
    "                                                      '#FF0000',\n",
    "                                                      '#FF0000',\n",
    "                                                      '#E04392',\n",
    "                                                      '#000000',\n",
    "                                                      '#FF0000',\n",
    "                                                      '#E04392',\n",
    "                                                      '#000000',\n",
    "                                                      '#FF0000',\n",
    "                                                      '#000000',\n",
    "                                                      '#000000',\n",
    "                                                      '#000000'],\n",
    "                                       'font_family': 'Segoe UI Semibold',\n",
    "                                       'font_size': proportion_size(pixels=_pixels, size=32)\n",
    "                                       },\n",
    "                                        \n",
    "                                cells={'values':[list(df_print['Data']),\n",
    "                                                 list(df_print['Meta']),\n",
    "                                                 list(df_print['Venda\\nSIAC']),\n",
    "                                                 list(df_print['Venda\\nLíquida']),\n",
    "                                                 list(df_print['Devolução']),\n",
    "                                                 list(df_print['%\\nDev']),\n",
    "                                                 list(df_print['Venda\\nCNPJ']),\n",
    "                                                 list(df_print['Clientes\\nCNPJ']),\n",
    "                                                 list(df_print['% Dev\\nCNPJ']),\n",
    "                                                 list(df_print['Venda\\nCPF']),\n",
    "                                                 list(df_print['Clientes\\nCPF']),\n",
    "                                                 list(df_print['% Dev\\nCPF']),\n",
    "                                                 list(df_print['%\\nDia']),\n",
    "                                                 list(df_print['%\\nMês']),\n",
    "                                                 list(df_print['Projeção\\nmensal'])],\n",
    "                                       'fill_color': background_color,\n",
    "                                       'line_color': background_color,\n",
    "                                       'line_width': 2,\n",
    "                                       'align': ['left', 'center'],\n",
    "                                       'font_color': ['#000000',\n",
    "                                                      '#000000',\n",
    "                                                      '#118DFF',\n",
    "                                                      '#000000',\n",
    "                                                      '#FF0000',\n",
    "                                                      '#FF0000',\n",
    "                                                      '#E04392',\n",
    "                                                      '#000000',\n",
    "                                                      '#FF0000',\n",
    "                                                      '#E04392',\n",
    "                                                      '#000000',\n",
    "                                                      '#FF0000',\n",
    "                                                      day_rending_color,\n",
    "                                                      mon_rending_color,\n",
    "                                                      fonts_color[0]],\n",
    "                                       'font_family': 'Segoe UI Semibold',\n",
    "                                       'font_size': proportion_size(pixels=_pixels, size=32)\n",
    "                                       },\n",
    "\n",
    "                               domain={'y': [0, 1]\n",
    "                                       },\n",
    "\n",
    "                          columnwidth=[proportion_size(pixels=_pixels, size=25),\n",
    "                                       proportion_size(pixels=_pixels, size=16),\n",
    "                                       proportion_size(pixels=_pixels, size=16),\n",
    "                                       proportion_size(pixels=_pixels, size=16),\n",
    "                                       proportion_size(pixels=_pixels, size=16),\n",
    "                                       proportion_size(pixels=_pixels, size=10),\n",
    "                                       proportion_size(pixels=_pixels, size=16),\n",
    "                                       proportion_size(pixels=_pixels, size=13),\n",
    "                                       proportion_size(pixels=_pixels, size=12),\n",
    "                                       proportion_size(pixels=_pixels, size=16),\n",
    "                                       proportion_size(pixels=_pixels, size=12),\n",
    "                                       proportion_size(pixels=_pixels, size=10),\n",
    "                                       proportion_size(pixels=_pixels, size=7),\n",
    "                                       proportion_size(pixels=_pixels, size=7),\n",
    "                                       proportion_size(pixels=_pixels, size=16)]\n",
    "                                )\n",
    "    )\n",
    "\n",
    "    for (cod_loja, loja, cor, crypto, logico) in lojas:\n",
    "        if cod_loja == loja_:\n",
    "            print_loja = loja[4:5] + loja[5:].lower()\n",
    "            print_loja = loja[4:]\n",
    "            print_cor = cor\n",
    "            print_crypto = crypto\n",
    "            save_loja = f'{cod_loja} '\n",
    "\n",
    "    if len(loja_) > 0:\n",
    "        text_title = f'◙'*int(10) + ' 🡆 ' + print_loja + ' 🡄 ' + f'◙'*int(76) + ' ' + print_crypto + ' ' + f'◙'*int(10)\n",
    "    else:\n",
    "        text_title = f'◙'*int(10) + ' 🡆 ' + 'KAIZEN' + ' 🡄 ' + f'◙'*int(76) + ' ' + 'ⓀⒶⒾⓏⒺⓃ' + ' ' + f'◙'*int(10)\n",
    "        print_cor = '#00A5AC'\n",
    "        save_loja = f''\n",
    "\n",
    "    table = table.update_layout(\n",
    "\n",
    "        #Title config ---------------------------------------------------------------------------------------------------------------------#\n",
    "        title  = {'text': text_title,\n",
    "                  'font_color': print_cor,\n",
    "                  'font_family': 'Jost',\n",
    "                  'x': 0.50,\n",
    "                  'y': 0.95,\n",
    "                  'font_size': proportion_size(pixels=_pixels, size=60),\n",
    "                  'yanchor': 'bottom'\n",
    "                  },\n",
    "\n",
    "        #Size plot config -----------------------------------------------------------------------------------------------------------------#\n",
    "        width  = pixels_width,\n",
    "        height = pixels_height\n",
    "    )\n",
    "\n",
    "    table.show()\n",
    "    time.sleep(5)\n",
    "    table.write_html(f'{save_image}\\\\RESUMO MENSAL_html\\\\{relatorio} {save_loja}TABLE.html')\n",
    "\n",
    "\n",
    "    hti = Html2Image()\n",
    "    hti.screenshot(\n",
    "        html_file=f'{save_image}\\\\RESUMO MENSAL_html\\\\{relatorio} {save_loja}TABLE.html',\n",
    "        save_as=f'{relatorio} {save_loja}TABLE.png',\n",
    "        size=(pixels_width, pixels_height)\n",
    "    )\n",
    "\n",
    "    shutil.move(f'{relatorio} {save_loja}TABLE.png',\n",
    "                f'{save_image}\\\\{relatorio} {save_loja}TABLE.png')\n",
    "\n",
    "\n",
    "    return print(f'{relatorio} {save_loja}TABLE.png\\n')"
   ]
  },
  {
   "cell_type": "code",
   "execution_count": 61,
   "metadata": {},
   "outputs": [
    {
     "name": "stderr",
     "output_type": "stream",
     "text": [
      "C:\\Users\\admin\\AppData\\Local\\Temp\\ipykernel_16068\\3465617909.py:86: RuntimeWarning: divide by zero encountered in double_scalars\n",
      "  df_print.loc[i, '% META DIA'] = df_print.loc[i, 'VENDA LÍQUIDA'] / df_print.loc[i, 'META']\n"
     ]
    },
    {
     "data": {
      "application/vnd.plotly.v1+json": {
       "config": {
        "plotlyServerURL": "https://plot.ly"
       },
       "data": [
        {
         "cells": {
          "align": [
           "left",
           "center"
          ],
          "fill": {
           "color": [
            [
             "#FFFFFF",
             "#FFFFFF",
             "#FFFFFF",
             "#DEEFFF",
             "#DEEFFF",
             "#FFFFFF",
             "#FFFFFF",
             "#FFFFFF",
             "#FFFFFF",
             "#FFFFFF",
             "#DEEFFF",
             "#FFFFFF",
             "#F7F7F7",
             "#FFFFFF",
             "#FFFFFF",
             "#FFFFFF",
             "#FFFFFF",
             "#DEEFFF",
             "#FFFFFF",
             "#FFFFFF",
             "#FFFFFF",
             "#FFFFFF",
             "#FFFFFF",
             "#FFFFFF",
             "#DEEFFF",
             "#FFFFFF",
             "#FFFFFF",
             "#FFFFFF",
             "#FFFFFF",
             "#FFFFFF",
             "#FFFFFF",
             "#E5E5E5"
            ],
            [
             "#FFFFFF",
             "#FFFFFF",
             "#FFFFFF",
             "#DEEFFF",
             "#DEEFFF",
             "#FFFFFF",
             "#FFFFFF",
             "#FFFFFF",
             "#FFFFFF",
             "#FFFFFF",
             "#DEEFFF",
             "#FFFFFF",
             "#F7F7F7",
             "#FFFFFF",
             "#FFFFFF",
             "#FFFFFF",
             "#FFFFFF",
             "#DEEFFF",
             "#FFFFFF",
             "#FFFFFF",
             "#FFFFFF",
             "#FFFFFF",
             "#FFFFFF",
             "#FFFFFF",
             "#DEEFFF",
             "#FFFFFF",
             "#FFFFFF",
             "#FFFFFF",
             "#FFFFFF",
             "#FFFFFF",
             "#FFFFFF",
             "#E5E5E5"
            ],
            [
             "#F7F7F7",
             "#F7F7F7",
             "#F7F7F7",
             "#DEEFFF",
             "#DEEFFF",
             "#F7F7F7",
             "#F7F7F7",
             "#F7F7F7",
             "#F7F7F7",
             "#F7F7F7",
             "#DEEFFF",
             "#F7F7F7",
             "#F7F7F7",
             "#F7F7F7",
             "#F7F7F7",
             "#F7F7F7",
             "#F7F7F7",
             "#DEEFFF",
             "#F7F7F7",
             "#F7F7F7",
             "#F7F7F7",
             "#F7F7F7",
             "#F7F7F7",
             "#F7F7F7",
             "#DEEFFF",
             "#F7F7F7",
             "#F7F7F7",
             "#F7F7F7",
             "#F7F7F7",
             "#F7F7F7",
             "#F7F7F7",
             "#E5E5E5"
            ],
            [
             "#F7F7F7",
             "#F7F7F7",
             "#F7F7F7",
             "#DEEFFF",
             "#DEEFFF",
             "#F7F7F7",
             "#F7F7F7",
             "#F7F7F7",
             "#F7F7F7",
             "#F7F7F7",
             "#DEEFFF",
             "#F7F7F7",
             "#F7F7F7",
             "#F7F7F7",
             "#F7F7F7",
             "#F7F7F7",
             "#F7F7F7",
             "#DEEFFF",
             "#F7F7F7",
             "#F7F7F7",
             "#F7F7F7",
             "#F7F7F7",
             "#F7F7F7",
             "#F7F7F7",
             "#DEEFFF",
             "#F7F7F7",
             "#F7F7F7",
             "#F7F7F7",
             "#F7F7F7",
             "#F7F7F7",
             "#F7F7F7",
             "#E5E5E5"
            ],
            [
             "#FFFFFF",
             "#FFFFFF",
             "#FFFFFF",
             "#DEEFFF",
             "#DEEFFF",
             "#FFFFFF",
             "#FFFFFF",
             "#FFFFFF",
             "#FFFFFF",
             "#FFFFFF",
             "#DEEFFF",
             "#FFFFFF",
             "#F7F7F7",
             "#FFFFFF",
             "#FFFFFF",
             "#FFFFFF",
             "#FFFFFF",
             "#DEEFFF",
             "#FFFFFF",
             "#FFFFFF",
             "#FFFFFF",
             "#FFFFFF",
             "#FFFFFF",
             "#FFFFFF",
             "#DEEFFF",
             "#FFFFFF",
             "#FFFFFF",
             "#FFFFFF",
             "#FFFFFF",
             "#FFFFFF",
             "#FFFFFF",
             "#E5E5E5"
            ],
            [
             "#FFFFFF",
             "#FFFFFF",
             "#FFFFFF",
             "#DEEFFF",
             "#DEEFFF",
             "#FFFFFF",
             "#FFFFFF",
             "#FFFFFF",
             "#FFFFFF",
             "#FFFFFF",
             "#DEEFFF",
             "#FFFFFF",
             "#F7F7F7",
             "#FFFFFF",
             "#FFFFFF",
             "#FFFFFF",
             "#FFFFFF",
             "#DEEFFF",
             "#FFFFFF",
             "#FFFFFF",
             "#FFFFFF",
             "#FFFFFF",
             "#FFFFFF",
             "#FFFFFF",
             "#DEEFFF",
             "#FFFFFF",
             "#FFFFFF",
             "#FFFFFF",
             "#FFFFFF",
             "#FFFFFF",
             "#FFFFFF",
             "#E5E5E5"
            ],
            [
             "#F7F7F7",
             "#F7F7F7",
             "#F7F7F7",
             "#DEEFFF",
             "#DEEFFF",
             "#F7F7F7",
             "#F7F7F7",
             "#F7F7F7",
             "#F7F7F7",
             "#F7F7F7",
             "#DEEFFF",
             "#F7F7F7",
             "#F7F7F7",
             "#F7F7F7",
             "#F7F7F7",
             "#F7F7F7",
             "#F7F7F7",
             "#DEEFFF",
             "#F7F7F7",
             "#F7F7F7",
             "#F7F7F7",
             "#F7F7F7",
             "#F7F7F7",
             "#F7F7F7",
             "#DEEFFF",
             "#F7F7F7",
             "#F7F7F7",
             "#F7F7F7",
             "#F7F7F7",
             "#F7F7F7",
             "#F7F7F7",
             "#E5E5E5"
            ],
            [
             "#FFFFFF",
             "#FFFFFF",
             "#FFFFFF",
             "#DEEFFF",
             "#DEEFFF",
             "#FFFFFF",
             "#FFFFFF",
             "#FFFFFF",
             "#FFFFFF",
             "#FFFFFF",
             "#DEEFFF",
             "#FFFFFF",
             "#F7F7F7",
             "#FFFFFF",
             "#FFFFFF",
             "#FFFFFF",
             "#FFFFFF",
             "#DEEFFF",
             "#FFFFFF",
             "#FFFFFF",
             "#FFFFFF",
             "#FFFFFF",
             "#FFFFFF",
             "#FFFFFF",
             "#DEEFFF",
             "#FFFFFF",
             "#FFFFFF",
             "#FFFFFF",
             "#FFFFFF",
             "#FFFFFF",
             "#FFFFFF",
             "#E5E5E5"
            ],
            [
             "#FFFFFF",
             "#FFFFFF",
             "#FFFFFF",
             "#DEEFFF",
             "#DEEFFF",
             "#FFFFFF",
             "#FFFFFF",
             "#FFFFFF",
             "#FFFFFF",
             "#FFFFFF",
             "#DEEFFF",
             "#FFFFFF",
             "#F7F7F7",
             "#FFFFFF",
             "#FFFFFF",
             "#FFFFFF",
             "#FFFFFF",
             "#DEEFFF",
             "#FFFFFF",
             "#FFFFFF",
             "#FFFFFF",
             "#FFFFFF",
             "#FFFFFF",
             "#FFFFFF",
             "#DEEFFF",
             "#FFFFFF",
             "#FFFFFF",
             "#FFFFFF",
             "#FFFFFF",
             "#FFFFFF",
             "#FFFFFF",
             "#E5E5E5"
            ],
            [
             "#F7F7F7",
             "#F7F7F7",
             "#F7F7F7",
             "#DEEFFF",
             "#DEEFFF",
             "#F7F7F7",
             "#F7F7F7",
             "#F7F7F7",
             "#F7F7F7",
             "#F7F7F7",
             "#DEEFFF",
             "#F7F7F7",
             "#F7F7F7",
             "#F7F7F7",
             "#F7F7F7",
             "#F7F7F7",
             "#F7F7F7",
             "#DEEFFF",
             "#F7F7F7",
             "#F7F7F7",
             "#F7F7F7",
             "#F7F7F7",
             "#F7F7F7",
             "#F7F7F7",
             "#DEEFFF",
             "#F7F7F7",
             "#F7F7F7",
             "#F7F7F7",
             "#F7F7F7",
             "#F7F7F7",
             "#F7F7F7",
             "#E5E5E5"
            ],
            [
             "#FFFFFF",
             "#FFFFFF",
             "#FFFFFF",
             "#DEEFFF",
             "#DEEFFF",
             "#FFFFFF",
             "#FFFFFF",
             "#FFFFFF",
             "#FFFFFF",
             "#FFFFFF",
             "#DEEFFF",
             "#FFFFFF",
             "#F7F7F7",
             "#FFFFFF",
             "#FFFFFF",
             "#FFFFFF",
             "#FFFFFF",
             "#DEEFFF",
             "#FFFFFF",
             "#FFFFFF",
             "#FFFFFF",
             "#FFFFFF",
             "#FFFFFF",
             "#FFFFFF",
             "#DEEFFF",
             "#FFFFFF",
             "#FFFFFF",
             "#FFFFFF",
             "#FFFFFF",
             "#FFFFFF",
             "#FFFFFF",
             "#E5E5E5"
            ],
            [
             "#FFFFFF",
             "#FFFFFF",
             "#FFFFFF",
             "#DEEFFF",
             "#DEEFFF",
             "#FFFFFF",
             "#FFFFFF",
             "#FFFFFF",
             "#FFFFFF",
             "#FFFFFF",
             "#DEEFFF",
             "#FFFFFF",
             "#F7F7F7",
             "#FFFFFF",
             "#FFFFFF",
             "#FFFFFF",
             "#FFFFFF",
             "#DEEFFF",
             "#FFFFFF",
             "#FFFFFF",
             "#FFFFFF",
             "#FFFFFF",
             "#FFFFFF",
             "#FFFFFF",
             "#DEEFFF",
             "#FFFFFF",
             "#FFFFFF",
             "#FFFFFF",
             "#FFFFFF",
             "#FFFFFF",
             "#FFFFFF",
             "#E5E5E5"
            ],
            [
             "#FFFFFF",
             "#FFFFFF",
             "#FFFFFF",
             "#DEEFFF",
             "#DEEFFF",
             "#FFFFFF",
             "#FFFFFF",
             "#FFFFFF",
             "#FFFFFF",
             "#FFFFFF",
             "#DEEFFF",
             "#FFFFFF",
             "#F7F7F7",
             "#FFFFFF",
             "#FFFFFF",
             "#FFFFFF",
             "#FFFFFF",
             "#DEEFFF",
             "#FFFFFF",
             "#FFFFFF",
             "#FFFFFF",
             "#FFFFFF",
             "#FFFFFF",
             "#FFFFFF",
             "#DEEFFF",
             "#FFFFFF",
             "#FFFFFF",
             "#FFFFFF",
             "#FFFFFF",
             "#FFFFFF",
             "#FFFFFF",
             "#E5E5E5"
            ],
            [
             "#FFFFFF",
             "#FFFFFF",
             "#FFFFFF",
             "#DEEFFF",
             "#DEEFFF",
             "#FFFFFF",
             "#FFFFFF",
             "#FFFFFF",
             "#FFFFFF",
             "#FFFFFF",
             "#DEEFFF",
             "#FFFFFF",
             "#F7F7F7",
             "#FFFFFF",
             "#FFFFFF",
             "#FFFFFF",
             "#FFFFFF",
             "#DEEFFF",
             "#FFFFFF",
             "#FFFFFF",
             "#FFFFFF",
             "#FFFFFF",
             "#FFFFFF",
             "#FFFFFF",
             "#DEEFFF",
             "#FFFFFF",
             "#FFFFFF",
             "#FFFFFF",
             "#FFFFFF",
             "#FFFFFF",
             "#FFFFFF",
             "#E5E5E5"
            ],
            [
             "#FFFFFF",
             "#FFFFFF",
             "#FFFFFF",
             "#DEEFFF",
             "#DEEFFF",
             "#FFFFFF",
             "#FFFFFF",
             "#FFFFFF",
             "#FFFFFF",
             "#FFFFFF",
             "#DEEFFF",
             "#FFFFFF",
             "#F7F7F7",
             "#FFFFFF",
             "#FFFFFF",
             "#FFFFFF",
             "#FFFFFF",
             "#DEEFFF",
             "#FFFFFF",
             "#FFFFFF",
             "#FFFFFF",
             "#FFFFFF",
             "#FFFFFF",
             "#FFFFFF",
             "#DEEFFF",
             "#FFFFFF",
             "#FFFFFF",
             "#FFFFFF",
             "#FFFFFF",
             "#FFFFFF",
             "#FFFFFF",
             "#E5E5E5"
            ],
            [
             "#FFFFFF",
             "#FFFFFF",
             "#FFFFFF",
             "#DEEFFF",
             "#DEEFFF",
             "#FFFFFF",
             "#FFFFFF",
             "#FFFFFF",
             "#FFFFFF",
             "#FFFFFF",
             "#DEEFFF",
             "#FFFFFF",
             "#F7F7F7",
             "#FFFFFF",
             "#FFFFFF",
             "#FFFFFF",
             "#FFFFFF",
             "#DEEFFF",
             "#FFFFFF",
             "#FFFFFF",
             "#FFFFFF",
             "#FFFFFF",
             "#FFFFFF",
             "#FFFFFF",
             "#DEEFFF",
             "#FFFFFF",
             "#FFFFFF",
             "#FFFFFF",
             "#FFFFFF",
             "#FFFFFF",
             "#FFFFFF",
             "#E5E5E5"
            ],
            [
             "#FFFFFF",
             "#FFFFFF",
             "#FFFFFF",
             "#DEEFFF",
             "#DEEFFF",
             "#FFFFFF",
             "#FFFFFF",
             "#FFFFFF",
             "#FFFFFF",
             "#FFFFFF",
             "#DEEFFF",
             "#FFFFFF",
             "#F7F7F7",
             "#FFFFFF",
             "#FFFFFF",
             "#FFFFFF",
             "#FFFFFF",
             "#DEEFFF",
             "#FFFFFF",
             "#FFFFFF",
             "#FFFFFF",
             "#FFFFFF",
             "#FFFFFF",
             "#FFFFFF",
             "#DEEFFF",
             "#FFFFFF",
             "#FFFFFF",
             "#FFFFFF",
             "#FFFFFF",
             "#FFFFFF",
             "#FFFFFF",
             "#E5E5E5"
            ],
            [
             "#FFFFFF",
             "#FFFFFF",
             "#FFFFFF",
             "#DEEFFF",
             "#DEEFFF",
             "#FFFFFF",
             "#FFFFFF",
             "#FFFFFF",
             "#FFFFFF",
             "#FFFFFF",
             "#DEEFFF",
             "#FFFFFF",
             "#F7F7F7",
             "#FFFFFF",
             "#FFFFFF",
             "#FFFFFF",
             "#FFFFFF",
             "#DEEFFF",
             "#FFFFFF",
             "#FFFFFF",
             "#FFFFFF",
             "#FFFFFF",
             "#FFFFFF",
             "#FFFFFF",
             "#DEEFFF",
             "#FFFFFF",
             "#FFFFFF",
             "#FFFFFF",
             "#FFFFFF",
             "#FFFFFF",
             "#FFFFFF",
             "#E5E5E5"
            ],
            [
             "#FFFFFF",
             "#FFFFFF",
             "#FFFFFF",
             "#DEEFFF",
             "#DEEFFF",
             "#FFFFFF",
             "#FFFFFF",
             "#FFFFFF",
             "#FFFFFF",
             "#FFFFFF",
             "#DEEFFF",
             "#FFFFFF",
             "#F7F7F7",
             "#FFFFFF",
             "#FFFFFF",
             "#FFFFFF",
             "#FFFFFF",
             "#DEEFFF",
             "#FFFFFF",
             "#FFFFFF",
             "#FFFFFF",
             "#FFFFFF",
             "#FFFFFF",
             "#FFFFFF",
             "#DEEFFF",
             "#FFFFFF",
             "#FFFFFF",
             "#FFFFFF",
             "#FFFFFF",
             "#FFFFFF",
             "#FFFFFF",
             "#E5E5E5"
            ],
            [
             "#FFFFFF",
             "#FFFFFF",
             "#FFFFFF",
             "#DEEFFF",
             "#DEEFFF",
             "#FFFFFF",
             "#FFFFFF",
             "#FFFFFF",
             "#FFFFFF",
             "#FFFFFF",
             "#DEEFFF",
             "#FFFFFF",
             "#F7F7F7",
             "#FFFFFF",
             "#FFFFFF",
             "#FFFFFF",
             "#FFFFFF",
             "#DEEFFF",
             "#FFFFFF",
             "#FFFFFF",
             "#FFFFFF",
             "#FFFFFF",
             "#FFFFFF",
             "#FFFFFF",
             "#DEEFFF",
             "#FFFFFF",
             "#FFFFFF",
             "#FFFFFF",
             "#FFFFFF",
             "#FFFFFF",
             "#FFFFFF",
             "#E5E5E5"
            ],
            [
             "#FFFFFF",
             "#FFFFFF",
             "#FFFFFF",
             "#DEEFFF",
             "#DEEFFF",
             "#FFFFFF",
             "#FFFFFF",
             "#FFFFFF",
             "#FFFFFF",
             "#FFFFFF",
             "#DEEFFF",
             "#FFFFFF",
             "#F7F7F7",
             "#FFFFFF",
             "#FFFFFF",
             "#FFFFFF",
             "#FFFFFF",
             "#DEEFFF",
             "#FFFFFF",
             "#FFFFFF",
             "#FFFFFF",
             "#FFFFFF",
             "#FFFFFF",
             "#FFFFFF",
             "#DEEFFF",
             "#FFFFFF",
             "#FFFFFF",
             "#FFFFFF",
             "#FFFFFF",
             "#FFFFFF",
             "#FFFFFF",
             "#E5E5E5"
            ]
           ]
          },
          "font": {
           "color": [
            "#000000",
            "#000000",
            "#118DFF",
            "#000000",
            "#FF0000",
            "#FF0000",
            "#E04392",
            "#000000",
            "#FF0000",
            "#E04392",
            "#000000",
            "#FF0000",
            [
             "#FF0000",
             "#FF0000",
             "#00B050",
             "#DEEFFF",
             "#DEEFFF",
             "#00B050",
             "#00B050",
             "#00B050",
             "#FF0000",
             "#00B050",
             "#DEEFFF",
             "#00B050",
             "#FF0000",
             "#FFFFFF",
             "#FFFFFF",
             "#FFFFFF",
             "#FFFFFF",
             "#DEEFFF",
             "#FFFFFF",
             "#FFFFFF",
             "#FFFFFF",
             "#FFFFFF",
             "#FFFFFF",
             "#FFFFFF",
             "#DEEFFF",
             "#FFFFFF",
             "#FFFFFF",
             "#FFFFFF",
             "#FFFFFF",
             "#FFFFFF",
             "#FFFFFF",
             "#E5E5E5"
            ],
            [
             "#FF0000",
             "#FF0000",
             "#FF0000",
             "#DEEFFF",
             "#DEEFFF",
             "#00B050",
             "#00B050",
             "#00B050",
             "#00B050",
             "#00B050",
             "#DEEFFF",
             "#00B050",
             "#FF0000",
             "#FFFFFF",
             "#FFFFFF",
             "#FFFFFF",
             "#FFFFFF",
             "#DEEFFF",
             "#FFFFFF",
             "#FFFFFF",
             "#FFFFFF",
             "#FFFFFF",
             "#FFFFFF",
             "#FFFFFF",
             "#DEEFFF",
             "#FFFFFF",
             "#FFFFFF",
             "#FFFFFF",
             "#FFFFFF",
             "#FFFFFF",
             "#FFFFFF",
             "#E5E5E5"
            ],
            [
             "#000000",
             "#000000",
             "#000000",
             "#DEEFFF",
             "#DEEFFF",
             "#000000",
             "#000000",
             "#000000",
             "#000000",
             "#000000",
             "#DEEFFF",
             "#000000",
             "#000000",
             "#FFFFFF",
             "#FFFFFF",
             "#FFFFFF",
             "#FFFFFF",
             "#DEEFFF",
             "#FFFFFF",
             "#FFFFFF",
             "#FFFFFF",
             "#FFFFFF",
             "#FFFFFF",
             "#FFFFFF",
             "#DEEFFF",
             "#FFFFFF",
             "#FFFFFF",
             "#FFFFFF",
             "#FFFFFF",
             "#FFFFFF",
             "#FFFFFF",
             "#118DFF"
            ]
           ],
           "family": "Segoe UI Semibold",
           "size": 13.185185185185185
          },
          "line": {
           "color": [
            [
             "#FFFFFF",
             "#FFFFFF",
             "#FFFFFF",
             "#DEEFFF",
             "#DEEFFF",
             "#FFFFFF",
             "#FFFFFF",
             "#FFFFFF",
             "#FFFFFF",
             "#FFFFFF",
             "#DEEFFF",
             "#FFFFFF",
             "#F7F7F7",
             "#FFFFFF",
             "#FFFFFF",
             "#FFFFFF",
             "#FFFFFF",
             "#DEEFFF",
             "#FFFFFF",
             "#FFFFFF",
             "#FFFFFF",
             "#FFFFFF",
             "#FFFFFF",
             "#FFFFFF",
             "#DEEFFF",
             "#FFFFFF",
             "#FFFFFF",
             "#FFFFFF",
             "#FFFFFF",
             "#FFFFFF",
             "#FFFFFF",
             "#E5E5E5"
            ],
            [
             "#FFFFFF",
             "#FFFFFF",
             "#FFFFFF",
             "#DEEFFF",
             "#DEEFFF",
             "#FFFFFF",
             "#FFFFFF",
             "#FFFFFF",
             "#FFFFFF",
             "#FFFFFF",
             "#DEEFFF",
             "#FFFFFF",
             "#F7F7F7",
             "#FFFFFF",
             "#FFFFFF",
             "#FFFFFF",
             "#FFFFFF",
             "#DEEFFF",
             "#FFFFFF",
             "#FFFFFF",
             "#FFFFFF",
             "#FFFFFF",
             "#FFFFFF",
             "#FFFFFF",
             "#DEEFFF",
             "#FFFFFF",
             "#FFFFFF",
             "#FFFFFF",
             "#FFFFFF",
             "#FFFFFF",
             "#FFFFFF",
             "#E5E5E5"
            ],
            [
             "#F7F7F7",
             "#F7F7F7",
             "#F7F7F7",
             "#DEEFFF",
             "#DEEFFF",
             "#F7F7F7",
             "#F7F7F7",
             "#F7F7F7",
             "#F7F7F7",
             "#F7F7F7",
             "#DEEFFF",
             "#F7F7F7",
             "#F7F7F7",
             "#F7F7F7",
             "#F7F7F7",
             "#F7F7F7",
             "#F7F7F7",
             "#DEEFFF",
             "#F7F7F7",
             "#F7F7F7",
             "#F7F7F7",
             "#F7F7F7",
             "#F7F7F7",
             "#F7F7F7",
             "#DEEFFF",
             "#F7F7F7",
             "#F7F7F7",
             "#F7F7F7",
             "#F7F7F7",
             "#F7F7F7",
             "#F7F7F7",
             "#E5E5E5"
            ],
            [
             "#F7F7F7",
             "#F7F7F7",
             "#F7F7F7",
             "#DEEFFF",
             "#DEEFFF",
             "#F7F7F7",
             "#F7F7F7",
             "#F7F7F7",
             "#F7F7F7",
             "#F7F7F7",
             "#DEEFFF",
             "#F7F7F7",
             "#F7F7F7",
             "#F7F7F7",
             "#F7F7F7",
             "#F7F7F7",
             "#F7F7F7",
             "#DEEFFF",
             "#F7F7F7",
             "#F7F7F7",
             "#F7F7F7",
             "#F7F7F7",
             "#F7F7F7",
             "#F7F7F7",
             "#DEEFFF",
             "#F7F7F7",
             "#F7F7F7",
             "#F7F7F7",
             "#F7F7F7",
             "#F7F7F7",
             "#F7F7F7",
             "#E5E5E5"
            ],
            [
             "#FFFFFF",
             "#FFFFFF",
             "#FFFFFF",
             "#DEEFFF",
             "#DEEFFF",
             "#FFFFFF",
             "#FFFFFF",
             "#FFFFFF",
             "#FFFFFF",
             "#FFFFFF",
             "#DEEFFF",
             "#FFFFFF",
             "#F7F7F7",
             "#FFFFFF",
             "#FFFFFF",
             "#FFFFFF",
             "#FFFFFF",
             "#DEEFFF",
             "#FFFFFF",
             "#FFFFFF",
             "#FFFFFF",
             "#FFFFFF",
             "#FFFFFF",
             "#FFFFFF",
             "#DEEFFF",
             "#FFFFFF",
             "#FFFFFF",
             "#FFFFFF",
             "#FFFFFF",
             "#FFFFFF",
             "#FFFFFF",
             "#E5E5E5"
            ],
            [
             "#FFFFFF",
             "#FFFFFF",
             "#FFFFFF",
             "#DEEFFF",
             "#DEEFFF",
             "#FFFFFF",
             "#FFFFFF",
             "#FFFFFF",
             "#FFFFFF",
             "#FFFFFF",
             "#DEEFFF",
             "#FFFFFF",
             "#F7F7F7",
             "#FFFFFF",
             "#FFFFFF",
             "#FFFFFF",
             "#FFFFFF",
             "#DEEFFF",
             "#FFFFFF",
             "#FFFFFF",
             "#FFFFFF",
             "#FFFFFF",
             "#FFFFFF",
             "#FFFFFF",
             "#DEEFFF",
             "#FFFFFF",
             "#FFFFFF",
             "#FFFFFF",
             "#FFFFFF",
             "#FFFFFF",
             "#FFFFFF",
             "#E5E5E5"
            ],
            [
             "#F7F7F7",
             "#F7F7F7",
             "#F7F7F7",
             "#DEEFFF",
             "#DEEFFF",
             "#F7F7F7",
             "#F7F7F7",
             "#F7F7F7",
             "#F7F7F7",
             "#F7F7F7",
             "#DEEFFF",
             "#F7F7F7",
             "#F7F7F7",
             "#F7F7F7",
             "#F7F7F7",
             "#F7F7F7",
             "#F7F7F7",
             "#DEEFFF",
             "#F7F7F7",
             "#F7F7F7",
             "#F7F7F7",
             "#F7F7F7",
             "#F7F7F7",
             "#F7F7F7",
             "#DEEFFF",
             "#F7F7F7",
             "#F7F7F7",
             "#F7F7F7",
             "#F7F7F7",
             "#F7F7F7",
             "#F7F7F7",
             "#E5E5E5"
            ],
            [
             "#FFFFFF",
             "#FFFFFF",
             "#FFFFFF",
             "#DEEFFF",
             "#DEEFFF",
             "#FFFFFF",
             "#FFFFFF",
             "#FFFFFF",
             "#FFFFFF",
             "#FFFFFF",
             "#DEEFFF",
             "#FFFFFF",
             "#F7F7F7",
             "#FFFFFF",
             "#FFFFFF",
             "#FFFFFF",
             "#FFFFFF",
             "#DEEFFF",
             "#FFFFFF",
             "#FFFFFF",
             "#FFFFFF",
             "#FFFFFF",
             "#FFFFFF",
             "#FFFFFF",
             "#DEEFFF",
             "#FFFFFF",
             "#FFFFFF",
             "#FFFFFF",
             "#FFFFFF",
             "#FFFFFF",
             "#FFFFFF",
             "#E5E5E5"
            ],
            [
             "#FFFFFF",
             "#FFFFFF",
             "#FFFFFF",
             "#DEEFFF",
             "#DEEFFF",
             "#FFFFFF",
             "#FFFFFF",
             "#FFFFFF",
             "#FFFFFF",
             "#FFFFFF",
             "#DEEFFF",
             "#FFFFFF",
             "#F7F7F7",
             "#FFFFFF",
             "#FFFFFF",
             "#FFFFFF",
             "#FFFFFF",
             "#DEEFFF",
             "#FFFFFF",
             "#FFFFFF",
             "#FFFFFF",
             "#FFFFFF",
             "#FFFFFF",
             "#FFFFFF",
             "#DEEFFF",
             "#FFFFFF",
             "#FFFFFF",
             "#FFFFFF",
             "#FFFFFF",
             "#FFFFFF",
             "#FFFFFF",
             "#E5E5E5"
            ],
            [
             "#F7F7F7",
             "#F7F7F7",
             "#F7F7F7",
             "#DEEFFF",
             "#DEEFFF",
             "#F7F7F7",
             "#F7F7F7",
             "#F7F7F7",
             "#F7F7F7",
             "#F7F7F7",
             "#DEEFFF",
             "#F7F7F7",
             "#F7F7F7",
             "#F7F7F7",
             "#F7F7F7",
             "#F7F7F7",
             "#F7F7F7",
             "#DEEFFF",
             "#F7F7F7",
             "#F7F7F7",
             "#F7F7F7",
             "#F7F7F7",
             "#F7F7F7",
             "#F7F7F7",
             "#DEEFFF",
             "#F7F7F7",
             "#F7F7F7",
             "#F7F7F7",
             "#F7F7F7",
             "#F7F7F7",
             "#F7F7F7",
             "#E5E5E5"
            ],
            [
             "#FFFFFF",
             "#FFFFFF",
             "#FFFFFF",
             "#DEEFFF",
             "#DEEFFF",
             "#FFFFFF",
             "#FFFFFF",
             "#FFFFFF",
             "#FFFFFF",
             "#FFFFFF",
             "#DEEFFF",
             "#FFFFFF",
             "#F7F7F7",
             "#FFFFFF",
             "#FFFFFF",
             "#FFFFFF",
             "#FFFFFF",
             "#DEEFFF",
             "#FFFFFF",
             "#FFFFFF",
             "#FFFFFF",
             "#FFFFFF",
             "#FFFFFF",
             "#FFFFFF",
             "#DEEFFF",
             "#FFFFFF",
             "#FFFFFF",
             "#FFFFFF",
             "#FFFFFF",
             "#FFFFFF",
             "#FFFFFF",
             "#E5E5E5"
            ],
            [
             "#FFFFFF",
             "#FFFFFF",
             "#FFFFFF",
             "#DEEFFF",
             "#DEEFFF",
             "#FFFFFF",
             "#FFFFFF",
             "#FFFFFF",
             "#FFFFFF",
             "#FFFFFF",
             "#DEEFFF",
             "#FFFFFF",
             "#F7F7F7",
             "#FFFFFF",
             "#FFFFFF",
             "#FFFFFF",
             "#FFFFFF",
             "#DEEFFF",
             "#FFFFFF",
             "#FFFFFF",
             "#FFFFFF",
             "#FFFFFF",
             "#FFFFFF",
             "#FFFFFF",
             "#DEEFFF",
             "#FFFFFF",
             "#FFFFFF",
             "#FFFFFF",
             "#FFFFFF",
             "#FFFFFF",
             "#FFFFFF",
             "#E5E5E5"
            ],
            [
             "#FFFFFF",
             "#FFFFFF",
             "#FFFFFF",
             "#DEEFFF",
             "#DEEFFF",
             "#FFFFFF",
             "#FFFFFF",
             "#FFFFFF",
             "#FFFFFF",
             "#FFFFFF",
             "#DEEFFF",
             "#FFFFFF",
             "#F7F7F7",
             "#FFFFFF",
             "#FFFFFF",
             "#FFFFFF",
             "#FFFFFF",
             "#DEEFFF",
             "#FFFFFF",
             "#FFFFFF",
             "#FFFFFF",
             "#FFFFFF",
             "#FFFFFF",
             "#FFFFFF",
             "#DEEFFF",
             "#FFFFFF",
             "#FFFFFF",
             "#FFFFFF",
             "#FFFFFF",
             "#FFFFFF",
             "#FFFFFF",
             "#E5E5E5"
            ],
            [
             "#FFFFFF",
             "#FFFFFF",
             "#FFFFFF",
             "#DEEFFF",
             "#DEEFFF",
             "#FFFFFF",
             "#FFFFFF",
             "#FFFFFF",
             "#FFFFFF",
             "#FFFFFF",
             "#DEEFFF",
             "#FFFFFF",
             "#F7F7F7",
             "#FFFFFF",
             "#FFFFFF",
             "#FFFFFF",
             "#FFFFFF",
             "#DEEFFF",
             "#FFFFFF",
             "#FFFFFF",
             "#FFFFFF",
             "#FFFFFF",
             "#FFFFFF",
             "#FFFFFF",
             "#DEEFFF",
             "#FFFFFF",
             "#FFFFFF",
             "#FFFFFF",
             "#FFFFFF",
             "#FFFFFF",
             "#FFFFFF",
             "#E5E5E5"
            ],
            [
             "#FFFFFF",
             "#FFFFFF",
             "#FFFFFF",
             "#DEEFFF",
             "#DEEFFF",
             "#FFFFFF",
             "#FFFFFF",
             "#FFFFFF",
             "#FFFFFF",
             "#FFFFFF",
             "#DEEFFF",
             "#FFFFFF",
             "#F7F7F7",
             "#FFFFFF",
             "#FFFFFF",
             "#FFFFFF",
             "#FFFFFF",
             "#DEEFFF",
             "#FFFFFF",
             "#FFFFFF",
             "#FFFFFF",
             "#FFFFFF",
             "#FFFFFF",
             "#FFFFFF",
             "#DEEFFF",
             "#FFFFFF",
             "#FFFFFF",
             "#FFFFFF",
             "#FFFFFF",
             "#FFFFFF",
             "#FFFFFF",
             "#E5E5E5"
            ],
            [
             "#FFFFFF",
             "#FFFFFF",
             "#FFFFFF",
             "#DEEFFF",
             "#DEEFFF",
             "#FFFFFF",
             "#FFFFFF",
             "#FFFFFF",
             "#FFFFFF",
             "#FFFFFF",
             "#DEEFFF",
             "#FFFFFF",
             "#F7F7F7",
             "#FFFFFF",
             "#FFFFFF",
             "#FFFFFF",
             "#FFFFFF",
             "#DEEFFF",
             "#FFFFFF",
             "#FFFFFF",
             "#FFFFFF",
             "#FFFFFF",
             "#FFFFFF",
             "#FFFFFF",
             "#DEEFFF",
             "#FFFFFF",
             "#FFFFFF",
             "#FFFFFF",
             "#FFFFFF",
             "#FFFFFF",
             "#FFFFFF",
             "#E5E5E5"
            ],
            [
             "#FFFFFF",
             "#FFFFFF",
             "#FFFFFF",
             "#DEEFFF",
             "#DEEFFF",
             "#FFFFFF",
             "#FFFFFF",
             "#FFFFFF",
             "#FFFFFF",
             "#FFFFFF",
             "#DEEFFF",
             "#FFFFFF",
             "#F7F7F7",
             "#FFFFFF",
             "#FFFFFF",
             "#FFFFFF",
             "#FFFFFF",
             "#DEEFFF",
             "#FFFFFF",
             "#FFFFFF",
             "#FFFFFF",
             "#FFFFFF",
             "#FFFFFF",
             "#FFFFFF",
             "#DEEFFF",
             "#FFFFFF",
             "#FFFFFF",
             "#FFFFFF",
             "#FFFFFF",
             "#FFFFFF",
             "#FFFFFF",
             "#E5E5E5"
            ],
            [
             "#FFFFFF",
             "#FFFFFF",
             "#FFFFFF",
             "#DEEFFF",
             "#DEEFFF",
             "#FFFFFF",
             "#FFFFFF",
             "#FFFFFF",
             "#FFFFFF",
             "#FFFFFF",
             "#DEEFFF",
             "#FFFFFF",
             "#F7F7F7",
             "#FFFFFF",
             "#FFFFFF",
             "#FFFFFF",
             "#FFFFFF",
             "#DEEFFF",
             "#FFFFFF",
             "#FFFFFF",
             "#FFFFFF",
             "#FFFFFF",
             "#FFFFFF",
             "#FFFFFF",
             "#DEEFFF",
             "#FFFFFF",
             "#FFFFFF",
             "#FFFFFF",
             "#FFFFFF",
             "#FFFFFF",
             "#FFFFFF",
             "#E5E5E5"
            ],
            [
             "#FFFFFF",
             "#FFFFFF",
             "#FFFFFF",
             "#DEEFFF",
             "#DEEFFF",
             "#FFFFFF",
             "#FFFFFF",
             "#FFFFFF",
             "#FFFFFF",
             "#FFFFFF",
             "#DEEFFF",
             "#FFFFFF",
             "#F7F7F7",
             "#FFFFFF",
             "#FFFFFF",
             "#FFFFFF",
             "#FFFFFF",
             "#DEEFFF",
             "#FFFFFF",
             "#FFFFFF",
             "#FFFFFF",
             "#FFFFFF",
             "#FFFFFF",
             "#FFFFFF",
             "#DEEFFF",
             "#FFFFFF",
             "#FFFFFF",
             "#FFFFFF",
             "#FFFFFF",
             "#FFFFFF",
             "#FFFFFF",
             "#E5E5E5"
            ],
            [
             "#FFFFFF",
             "#FFFFFF",
             "#FFFFFF",
             "#DEEFFF",
             "#DEEFFF",
             "#FFFFFF",
             "#FFFFFF",
             "#FFFFFF",
             "#FFFFFF",
             "#FFFFFF",
             "#DEEFFF",
             "#FFFFFF",
             "#F7F7F7",
             "#FFFFFF",
             "#FFFFFF",
             "#FFFFFF",
             "#FFFFFF",
             "#DEEFFF",
             "#FFFFFF",
             "#FFFFFF",
             "#FFFFFF",
             "#FFFFFF",
             "#FFFFFF",
             "#FFFFFF",
             "#DEEFFF",
             "#FFFFFF",
             "#FFFFFF",
             "#FFFFFF",
             "#FFFFFF",
             "#FFFFFF",
             "#FFFFFF",
             "#E5E5E5"
            ],
            [
             "#FFFFFF",
             "#FFFFFF",
             "#FFFFFF",
             "#DEEFFF",
             "#DEEFFF",
             "#FFFFFF",
             "#FFFFFF",
             "#FFFFFF",
             "#FFFFFF",
             "#FFFFFF",
             "#DEEFFF",
             "#FFFFFF",
             "#F7F7F7",
             "#FFFFFF",
             "#FFFFFF",
             "#FFFFFF",
             "#FFFFFF",
             "#DEEFFF",
             "#FFFFFF",
             "#FFFFFF",
             "#FFFFFF",
             "#FFFFFF",
             "#FFFFFF",
             "#FFFFFF",
             "#DEEFFF",
             "#FFFFFF",
             "#FFFFFF",
             "#FFFFFF",
             "#FFFFFF",
             "#FFFFFF",
             "#FFFFFF",
             "#E5E5E5"
            ]
           ],
           "width": 2
          },
          "values": [
           [
            "01/12/2022, Quinta-feira",
            "02/12/2022, Sexta-feira",
            "03/12/2022, Sábado",
            "04/12/2022, Domingo",
            "05/12/2022, Segunda-feira",
            "06/12/2022, Terça-feira",
            "07/12/2022, Quarta-feira",
            "08/12/2022, Quinta-feira",
            "09/12/2022, Sexta-feira",
            "10/12/2022, Sábado",
            "11/12/2022, Domingo",
            "12/12/2022, Segunda-feira",
            "13/12/2022, Terça-feira",
            "14/12/2022, Quarta-feira",
            "15/12/2022, Quinta-feira",
            "16/12/2022, Sexta-feira",
            "17/12/2022, Sábado",
            "18/12/2022, Domingo",
            "19/12/2022, Segunda-feira",
            "20/12/2022, Terça-feira",
            "21/12/2022, Quarta-feira",
            "22/12/2022, Quinta-feira",
            "23/12/2022, Sexta-feira",
            "24/12/2022, Sábado",
            "25/12/2022, Domingo",
            "26/12/2022, Segunda-feira",
            "27/12/2022, Terça-feira",
            "28/12/2022, Quarta-feira",
            "29/12/2022, Quinta-feira",
            "30/12/2022, Sexta-feira",
            "31/12/2022, Sábado",
            "Total"
           ],
           [
            "R$ 571.428,57",
            "R$ 571.428,57",
            "R$ 210.000,00",
            "",
            "",
            "R$ 571.428,57",
            "R$ 571.428,57",
            "R$ 571.428,57",
            "R$ 405.714,29",
            "R$ 210.000,00",
            "",
            "R$ 571.428,57",
            "R$ 571.428,57",
            "R$ 571.428,57",
            "R$ 571.428,57",
            "R$ 571.428,57",
            "R$ 210.000,00",
            "",
            "R$ 571.428,57",
            "R$ 571.428,57",
            "R$ 571.428,57",
            "R$ 571.428,57",
            "R$ 571.428,57",
            "R$ 210.000,00",
            "",
            "R$ 571.428,57",
            "R$ 571.428,57",
            "R$ 571.428,57",
            "R$ 571.428,57",
            "R$ 571.428,57",
            "R$ 210.000,00",
            "R$ 12.884.285,71"
           ],
           [
            "R$ 511.511,29",
            "R$ 296.270,57",
            "R$ 241.423,98",
            "",
            "R$ 378.497,66",
            "R$ 671.190,52",
            "R$ 671.981,72",
            "R$ 654.413,68",
            "R$ 381.667,48",
            "R$ 275.607,74",
            "",
            "R$ 680.507,11",
            "",
            "",
            "",
            "",
            "",
            "",
            "",
            "",
            "",
            "",
            "",
            "",
            "",
            "",
            "",
            "",
            "",
            "",
            "",
            "R$ 4.763.071,75"
           ],
           [
            "R$ 481.517,97",
            "R$ 278.977,84",
            "R$ 230.610,98",
            "",
            "R$ 350.511,77",
            "R$ 644.745,56",
            "R$ 643.735,60",
            "R$ 625.209,77",
            "R$ 348.385,39",
            "R$ 257.420,12",
            "",
            "R$ 647.066,13",
            "",
            "",
            "",
            "",
            "",
            "",
            "",
            "",
            "",
            "",
            "",
            "",
            "",
            "",
            "",
            "",
            "",
            "",
            "",
            "R$ 4.508.181,13"
           ],
           [
            "R$ 29.993,32",
            "R$ 17.292,73",
            "R$ 10.813,00",
            "",
            "R$ 27.985,89",
            "R$ 26.444,96",
            "R$ 28.246,12",
            "R$ 29.203,91",
            "R$ 33.282,09",
            "R$ 18.187,62",
            "",
            "R$ 33.440,98",
            "",
            "",
            "",
            "",
            "",
            "",
            "",
            "",
            "",
            "",
            "",
            "",
            "",
            "",
            "",
            "",
            "",
            "",
            "",
            "R$ 254.890,62"
           ],
           [
            "5,86%",
            "5,84%",
            "4,48%",
            "",
            "7,39%",
            "3,94%",
            "4,20%",
            "4,46%",
            "8,72%",
            "6,60%",
            "",
            "4,91%",
            "",
            "",
            "",
            "",
            "",
            "",
            "",
            "",
            "",
            "",
            "",
            "",
            "",
            "",
            "",
            "",
            "",
            "",
            "",
            "5,35%"
           ],
           [
            "R$ 447.620,67",
            "R$ 252.522,61",
            "R$ 211.238,95",
            "",
            "R$ 333.718,43",
            "R$ 599.552,83",
            "R$ 605.619,24",
            "R$ 589.918,52",
            "R$ 326.911,31",
            "R$ 236.165,00",
            "",
            "R$ 597.883,09",
            "",
            "",
            "",
            "",
            "",
            "",
            "",
            "",
            "",
            "",
            "",
            "",
            "",
            "",
            "",
            "",
            "",
            "",
            "",
            "R$ 4.201.150,65"
           ],
           [
            "1.175",
            "745",
            "633",
            "",
            "858",
            "1.283",
            "1.340",
            "1.320",
            "849",
            "647",
            "",
            "1.292",
            "",
            "",
            "",
            "",
            "",
            "",
            "",
            "",
            "",
            "",
            "",
            "",
            "",
            "",
            "",
            "",
            "",
            "",
            "",
            "3.105"
           ],
           [
            "5,87%",
            "6,71%",
            "4,88%",
            "",
            "4,97%",
            "3,98%",
            "4,26%",
            "4,42%",
            "6,94%",
            "7,13%",
            "",
            "5,39%",
            "",
            "",
            "",
            "",
            "",
            "",
            "",
            "",
            "",
            "",
            "",
            "",
            "",
            "",
            "",
            "",
            "",
            "",
            "",
            "5,18%"
           ],
           [
            "R$ 33.897,30",
            "R$ 26.455,23",
            "R$ 19.372,03",
            "",
            "R$ 16.793,34",
            "R$ 45.192,73",
            "R$ 38.116,36",
            "R$ 35.291,25",
            "R$ 21.474,08",
            "R$ 21.255,12",
            "",
            "R$ 49.183,04",
            "",
            "",
            "",
            "",
            "",
            "",
            "",
            "",
            "",
            "",
            "",
            "",
            "",
            "",
            "",
            "",
            "",
            "",
            "",
            "R$ 307.030,48"
           ],
           [
            "196",
            "146",
            "131",
            "",
            "195",
            "242",
            "234",
            "217",
            "157",
            "148",
            "",
            "289",
            "",
            "",
            "",
            "",
            "",
            "",
            "",
            "",
            "",
            "",
            "",
            "",
            "",
            "",
            "",
            "",
            "",
            "",
            "",
            "1.955"
           ],
           [
            "10,93%",
            "1,30%",
            "2,58%",
            "",
            "67,98%",
            "5,75%",
            "6,48%",
            "8,94%",
            "49,28%",
            "6,31%",
            "",
            "2,49%",
            "",
            "",
            "",
            "",
            "",
            "",
            "",
            "",
            "",
            "",
            "",
            "",
            "",
            "",
            "",
            "",
            "",
            "",
            "",
            "12,16%"
           ],
           [
            "84,27%",
            "48,82%",
            "109,81%",
            "",
            "",
            "112,83%",
            "112,65%",
            "109,41%",
            "85,87%",
            "122,58%",
            "",
            "113,24%",
            "",
            "",
            "",
            "",
            "",
            "",
            "",
            "",
            "",
            "",
            "",
            "",
            "",
            "",
            "",
            "",
            "",
            "",
            "",
            "34,99%"
           ],
           [
            "84,27%",
            "66,54%",
            "73,26%",
            "73,26%",
            "99,17%",
            "103,23%",
            "105,38%",
            "106,13%",
            "103,77%",
            "104,84%",
            "104,84%",
            "105,97%",
            "93,42%",
            "83,53%",
            "75,53%",
            "68,93%",
            "66,79%",
            "66,79%",
            "61,58%",
            "57,12%",
            "53,26%",
            "49,89%",
            "46,93%",
            "45,92%",
            "45,92%",
            "43,40%",
            "41,13%",
            "39,09%",
            "37,25%",
            "35,57%",
            "34,99%",
            "34,99%"
           ],
           [
            "R$ 10.857.026,42",
            "R$ 8.573.639,64",
            "R$ 9.439.062,45",
            "R$ 9.439.062,45",
            "R$ 12.777.252,15",
            "R$ 13.299.939,12",
            "R$ 13.578.059,17",
            "R$ 13.674.725,79",
            "R$ 13.369.693,18",
            "R$ 13.507.911,63",
            "R$ 13.507.911,63",
            "R$ 13.653.218,80",
            "R$ 12.036.496,62",
            "R$ 10.762.119,00",
            "R$ 9.731.758,16",
            "R$ 8.881.451,64",
            "R$ 8.605.139,81",
            "R$ 8.605.139,81",
            "R$ 7.933.519,14",
            "R$ 7.359.146,71",
            "R$ 6.862.326,68",
            "R$ 6.428.345,55",
            "R$ 6.045.990,42",
            "R$ 5.916.659,72",
            "R$ 5.916.659,72",
            "R$ 5.591.210,89",
            "R$ 5.299.698,33",
            "R$ 5.037.077,01",
            "R$ 4.799.254,67",
            "R$ 4.582.877,10",
            "R$ 4.508.181,13",
            ""
           ]
          ]
         },
         "columnwidth": [
          10.300925925925926,
          6.592592592592593,
          6.592592592592593,
          6.592592592592593,
          6.592592592592593,
          4.12037037037037,
          6.592592592592593,
          5.356481481481481,
          4.944444444444445,
          6.592592592592593,
          4.944444444444445,
          4.12037037037037,
          2.8842592592592595,
          2.8842592592592595,
          6.592592592592593
         ],
         "domain": {
          "y": [
           0,
           1
          ]
         },
         "header": {
          "align": "center",
          "fill": {
           "color": "#E5E5E5"
          },
          "font": {
           "color": [
            "#000000",
            "#000000",
            "#118DFF",
            "#000000",
            "#FF0000",
            "#FF0000",
            "#E04392",
            "#000000",
            "#FF0000",
            "#E04392",
            "#000000",
            "#FF0000",
            "#000000",
            "#000000",
            "#000000"
           ],
           "family": "Segoe UI Semibold",
           "size": 13.185185185185185
          },
          "line": {
           "color": "#E5E5E5",
           "width": 3
          },
          "values": [
           "Data",
           "Meta",
           "Venda\nSIAC",
           "Venda\nLíquida",
           "Devolução",
           "%\nDev",
           "Venda\nCNPJ",
           "Clientes\nCNPJ",
           "% Dev\nCNPJ",
           "Venda\nCPF",
           "Clientes\nCPF",
           "% Dev\nCPF",
           "%\nDia",
           "%\nMês",
           "Projeção\nmensal"
          ]
         },
         "type": "table"
        }
       ],
       "layout": {
        "height": 890,
        "template": {
         "data": {
          "bar": [
           {
            "error_x": {
             "color": "#2a3f5f"
            },
            "error_y": {
             "color": "#2a3f5f"
            },
            "marker": {
             "line": {
              "color": "#E5ECF6",
              "width": 0.5
             },
             "pattern": {
              "fillmode": "overlay",
              "size": 10,
              "solidity": 0.2
             }
            },
            "type": "bar"
           }
          ],
          "barpolar": [
           {
            "marker": {
             "line": {
              "color": "#E5ECF6",
              "width": 0.5
             },
             "pattern": {
              "fillmode": "overlay",
              "size": 10,
              "solidity": 0.2
             }
            },
            "type": "barpolar"
           }
          ],
          "carpet": [
           {
            "aaxis": {
             "endlinecolor": "#2a3f5f",
             "gridcolor": "white",
             "linecolor": "white",
             "minorgridcolor": "white",
             "startlinecolor": "#2a3f5f"
            },
            "baxis": {
             "endlinecolor": "#2a3f5f",
             "gridcolor": "white",
             "linecolor": "white",
             "minorgridcolor": "white",
             "startlinecolor": "#2a3f5f"
            },
            "type": "carpet"
           }
          ],
          "choropleth": [
           {
            "colorbar": {
             "outlinewidth": 0,
             "ticks": ""
            },
            "type": "choropleth"
           }
          ],
          "contour": [
           {
            "colorbar": {
             "outlinewidth": 0,
             "ticks": ""
            },
            "colorscale": [
             [
              0,
              "#0d0887"
             ],
             [
              0.1111111111111111,
              "#46039f"
             ],
             [
              0.2222222222222222,
              "#7201a8"
             ],
             [
              0.3333333333333333,
              "#9c179e"
             ],
             [
              0.4444444444444444,
              "#bd3786"
             ],
             [
              0.5555555555555556,
              "#d8576b"
             ],
             [
              0.6666666666666666,
              "#ed7953"
             ],
             [
              0.7777777777777778,
              "#fb9f3a"
             ],
             [
              0.8888888888888888,
              "#fdca26"
             ],
             [
              1,
              "#f0f921"
             ]
            ],
            "type": "contour"
           }
          ],
          "contourcarpet": [
           {
            "colorbar": {
             "outlinewidth": 0,
             "ticks": ""
            },
            "type": "contourcarpet"
           }
          ],
          "heatmap": [
           {
            "colorbar": {
             "outlinewidth": 0,
             "ticks": ""
            },
            "colorscale": [
             [
              0,
              "#0d0887"
             ],
             [
              0.1111111111111111,
              "#46039f"
             ],
             [
              0.2222222222222222,
              "#7201a8"
             ],
             [
              0.3333333333333333,
              "#9c179e"
             ],
             [
              0.4444444444444444,
              "#bd3786"
             ],
             [
              0.5555555555555556,
              "#d8576b"
             ],
             [
              0.6666666666666666,
              "#ed7953"
             ],
             [
              0.7777777777777778,
              "#fb9f3a"
             ],
             [
              0.8888888888888888,
              "#fdca26"
             ],
             [
              1,
              "#f0f921"
             ]
            ],
            "type": "heatmap"
           }
          ],
          "heatmapgl": [
           {
            "colorbar": {
             "outlinewidth": 0,
             "ticks": ""
            },
            "colorscale": [
             [
              0,
              "#0d0887"
             ],
             [
              0.1111111111111111,
              "#46039f"
             ],
             [
              0.2222222222222222,
              "#7201a8"
             ],
             [
              0.3333333333333333,
              "#9c179e"
             ],
             [
              0.4444444444444444,
              "#bd3786"
             ],
             [
              0.5555555555555556,
              "#d8576b"
             ],
             [
              0.6666666666666666,
              "#ed7953"
             ],
             [
              0.7777777777777778,
              "#fb9f3a"
             ],
             [
              0.8888888888888888,
              "#fdca26"
             ],
             [
              1,
              "#f0f921"
             ]
            ],
            "type": "heatmapgl"
           }
          ],
          "histogram": [
           {
            "marker": {
             "pattern": {
              "fillmode": "overlay",
              "size": 10,
              "solidity": 0.2
             }
            },
            "type": "histogram"
           }
          ],
          "histogram2d": [
           {
            "colorbar": {
             "outlinewidth": 0,
             "ticks": ""
            },
            "colorscale": [
             [
              0,
              "#0d0887"
             ],
             [
              0.1111111111111111,
              "#46039f"
             ],
             [
              0.2222222222222222,
              "#7201a8"
             ],
             [
              0.3333333333333333,
              "#9c179e"
             ],
             [
              0.4444444444444444,
              "#bd3786"
             ],
             [
              0.5555555555555556,
              "#d8576b"
             ],
             [
              0.6666666666666666,
              "#ed7953"
             ],
             [
              0.7777777777777778,
              "#fb9f3a"
             ],
             [
              0.8888888888888888,
              "#fdca26"
             ],
             [
              1,
              "#f0f921"
             ]
            ],
            "type": "histogram2d"
           }
          ],
          "histogram2dcontour": [
           {
            "colorbar": {
             "outlinewidth": 0,
             "ticks": ""
            },
            "colorscale": [
             [
              0,
              "#0d0887"
             ],
             [
              0.1111111111111111,
              "#46039f"
             ],
             [
              0.2222222222222222,
              "#7201a8"
             ],
             [
              0.3333333333333333,
              "#9c179e"
             ],
             [
              0.4444444444444444,
              "#bd3786"
             ],
             [
              0.5555555555555556,
              "#d8576b"
             ],
             [
              0.6666666666666666,
              "#ed7953"
             ],
             [
              0.7777777777777778,
              "#fb9f3a"
             ],
             [
              0.8888888888888888,
              "#fdca26"
             ],
             [
              1,
              "#f0f921"
             ]
            ],
            "type": "histogram2dcontour"
           }
          ],
          "mesh3d": [
           {
            "colorbar": {
             "outlinewidth": 0,
             "ticks": ""
            },
            "type": "mesh3d"
           }
          ],
          "parcoords": [
           {
            "line": {
             "colorbar": {
              "outlinewidth": 0,
              "ticks": ""
             }
            },
            "type": "parcoords"
           }
          ],
          "pie": [
           {
            "automargin": true,
            "type": "pie"
           }
          ],
          "scatter": [
           {
            "fillpattern": {
             "fillmode": "overlay",
             "size": 10,
             "solidity": 0.2
            },
            "type": "scatter"
           }
          ],
          "scatter3d": [
           {
            "line": {
             "colorbar": {
              "outlinewidth": 0,
              "ticks": ""
             }
            },
            "marker": {
             "colorbar": {
              "outlinewidth": 0,
              "ticks": ""
             }
            },
            "type": "scatter3d"
           }
          ],
          "scattercarpet": [
           {
            "marker": {
             "colorbar": {
              "outlinewidth": 0,
              "ticks": ""
             }
            },
            "type": "scattercarpet"
           }
          ],
          "scattergeo": [
           {
            "marker": {
             "colorbar": {
              "outlinewidth": 0,
              "ticks": ""
             }
            },
            "type": "scattergeo"
           }
          ],
          "scattergl": [
           {
            "marker": {
             "colorbar": {
              "outlinewidth": 0,
              "ticks": ""
             }
            },
            "type": "scattergl"
           }
          ],
          "scattermapbox": [
           {
            "marker": {
             "colorbar": {
              "outlinewidth": 0,
              "ticks": ""
             }
            },
            "type": "scattermapbox"
           }
          ],
          "scatterpolar": [
           {
            "marker": {
             "colorbar": {
              "outlinewidth": 0,
              "ticks": ""
             }
            },
            "type": "scatterpolar"
           }
          ],
          "scatterpolargl": [
           {
            "marker": {
             "colorbar": {
              "outlinewidth": 0,
              "ticks": ""
             }
            },
            "type": "scatterpolargl"
           }
          ],
          "scatterternary": [
           {
            "marker": {
             "colorbar": {
              "outlinewidth": 0,
              "ticks": ""
             }
            },
            "type": "scatterternary"
           }
          ],
          "surface": [
           {
            "colorbar": {
             "outlinewidth": 0,
             "ticks": ""
            },
            "colorscale": [
             [
              0,
              "#0d0887"
             ],
             [
              0.1111111111111111,
              "#46039f"
             ],
             [
              0.2222222222222222,
              "#7201a8"
             ],
             [
              0.3333333333333333,
              "#9c179e"
             ],
             [
              0.4444444444444444,
              "#bd3786"
             ],
             [
              0.5555555555555556,
              "#d8576b"
             ],
             [
              0.6666666666666666,
              "#ed7953"
             ],
             [
              0.7777777777777778,
              "#fb9f3a"
             ],
             [
              0.8888888888888888,
              "#fdca26"
             ],
             [
              1,
              "#f0f921"
             ]
            ],
            "type": "surface"
           }
          ],
          "table": [
           {
            "cells": {
             "fill": {
              "color": "#EBF0F8"
             },
             "line": {
              "color": "white"
             }
            },
            "header": {
             "fill": {
              "color": "#C8D4E3"
             },
             "line": {
              "color": "white"
             }
            },
            "type": "table"
           }
          ]
         },
         "layout": {
          "annotationdefaults": {
           "arrowcolor": "#2a3f5f",
           "arrowhead": 0,
           "arrowwidth": 1
          },
          "autotypenumbers": "strict",
          "coloraxis": {
           "colorbar": {
            "outlinewidth": 0,
            "ticks": ""
           }
          },
          "colorscale": {
           "diverging": [
            [
             0,
             "#8e0152"
            ],
            [
             0.1,
             "#c51b7d"
            ],
            [
             0.2,
             "#de77ae"
            ],
            [
             0.3,
             "#f1b6da"
            ],
            [
             0.4,
             "#fde0ef"
            ],
            [
             0.5,
             "#f7f7f7"
            ],
            [
             0.6,
             "#e6f5d0"
            ],
            [
             0.7,
             "#b8e186"
            ],
            [
             0.8,
             "#7fbc41"
            ],
            [
             0.9,
             "#4d9221"
            ],
            [
             1,
             "#276419"
            ]
           ],
           "sequential": [
            [
             0,
             "#0d0887"
            ],
            [
             0.1111111111111111,
             "#46039f"
            ],
            [
             0.2222222222222222,
             "#7201a8"
            ],
            [
             0.3333333333333333,
             "#9c179e"
            ],
            [
             0.4444444444444444,
             "#bd3786"
            ],
            [
             0.5555555555555556,
             "#d8576b"
            ],
            [
             0.6666666666666666,
             "#ed7953"
            ],
            [
             0.7777777777777778,
             "#fb9f3a"
            ],
            [
             0.8888888888888888,
             "#fdca26"
            ],
            [
             1,
             "#f0f921"
            ]
           ],
           "sequentialminus": [
            [
             0,
             "#0d0887"
            ],
            [
             0.1111111111111111,
             "#46039f"
            ],
            [
             0.2222222222222222,
             "#7201a8"
            ],
            [
             0.3333333333333333,
             "#9c179e"
            ],
            [
             0.4444444444444444,
             "#bd3786"
            ],
            [
             0.5555555555555556,
             "#d8576b"
            ],
            [
             0.6666666666666666,
             "#ed7953"
            ],
            [
             0.7777777777777778,
             "#fb9f3a"
            ],
            [
             0.8888888888888888,
             "#fdca26"
            ],
            [
             1,
             "#f0f921"
            ]
           ]
          },
          "colorway": [
           "#636efa",
           "#EF553B",
           "#00cc96",
           "#ab63fa",
           "#FFA15A",
           "#19d3f3",
           "#FF6692",
           "#B6E880",
           "#FF97FF",
           "#FECB52"
          ],
          "font": {
           "color": "#2a3f5f"
          },
          "geo": {
           "bgcolor": "white",
           "lakecolor": "white",
           "landcolor": "#E5ECF6",
           "showlakes": true,
           "showland": true,
           "subunitcolor": "white"
          },
          "hoverlabel": {
           "align": "left"
          },
          "hovermode": "closest",
          "mapbox": {
           "style": "light"
          },
          "paper_bgcolor": "white",
          "plot_bgcolor": "#E5ECF6",
          "polar": {
           "angularaxis": {
            "gridcolor": "white",
            "linecolor": "white",
            "ticks": ""
           },
           "bgcolor": "#E5ECF6",
           "radialaxis": {
            "gridcolor": "white",
            "linecolor": "white",
            "ticks": ""
           }
          },
          "scene": {
           "xaxis": {
            "backgroundcolor": "#E5ECF6",
            "gridcolor": "white",
            "gridwidth": 2,
            "linecolor": "white",
            "showbackground": true,
            "ticks": "",
            "zerolinecolor": "white"
           },
           "yaxis": {
            "backgroundcolor": "#E5ECF6",
            "gridcolor": "white",
            "gridwidth": 2,
            "linecolor": "white",
            "showbackground": true,
            "ticks": "",
            "zerolinecolor": "white"
           },
           "zaxis": {
            "backgroundcolor": "#E5ECF6",
            "gridcolor": "white",
            "gridwidth": 2,
            "linecolor": "white",
            "showbackground": true,
            "ticks": "",
            "zerolinecolor": "white"
           }
          },
          "shapedefaults": {
           "line": {
            "color": "#2a3f5f"
           }
          },
          "ternary": {
           "aaxis": {
            "gridcolor": "white",
            "linecolor": "white",
            "ticks": ""
           },
           "baxis": {
            "gridcolor": "white",
            "linecolor": "white",
            "ticks": ""
           },
           "bgcolor": "#E5ECF6",
           "caxis": {
            "gridcolor": "white",
            "linecolor": "white",
            "ticks": ""
           }
          },
          "title": {
           "x": 0.05
          },
          "xaxis": {
           "automargin": true,
           "gridcolor": "white",
           "linecolor": "white",
           "ticks": "",
           "title": {
            "standoff": 15
           },
           "zerolinecolor": "white",
           "zerolinewidth": 2
          },
          "yaxis": {
           "automargin": true,
           "gridcolor": "white",
           "linecolor": "white",
           "ticks": "",
           "title": {
            "standoff": 15
           },
           "zerolinecolor": "white",
           "zerolinewidth": 2
          }
         }
        },
        "title": {
         "font": {
          "color": "#00A5AC",
          "family": "Jost",
          "size": 24.72222222222222
         },
         "text": "◙◙◙◙◙◙◙◙◙◙ 🡆 KAIZEN 🡄 ◙◙◙◙◙◙◙◙◙◙◙◙◙◙◙◙◙◙◙◙◙◙◙◙◙◙◙◙◙◙◙◙◙◙◙◙◙◙◙◙◙◙◙◙◙◙◙◙◙◙◙◙◙◙◙◙◙◙◙◙◙◙◙◙◙◙◙◙◙◙◙◙◙◙◙◙ ⓀⒶⒾⓏⒺⓃ ◙◙◙◙◙◙◙◙◙◙",
         "x": 0.5,
         "y": 0.95,
         "yanchor": "bottom"
        },
        "width": 2060
       }
      }
     },
     "metadata": {},
     "output_type": "display_data"
    },
    {
     "name": "stdout",
     "output_type": "stream",
     "text": [
      "TESTE TABLE.png\n",
      "\n",
      "13-12-2022 PrimeiraFoto - https://chat.whatsapp.com/LK4LDajkH52BNydoLGGD2d\n",
      "13-12-2022 API - https://chat.whatsapp.com/EBLX0fxYfvuHL7jZ9CZECQ\n",
      "13-12-2022 Teste Python - https://chat.whatsapp.com/I4y7EAVfns629NvfoLUtGI\n"
     ]
    }
   ],
   "source": [
    "date_msg = dt.datetime.now().strftime('%d-%m-%Y')\n",
    "\n",
    "print_plot(principal_dataframe=df_hoje,\n",
    "            lojas=lista_lojas,\n",
    "            save_image=caminho_imagem)\n",
    "\n",
    "gui.hotkey('ctrl', 'w')\n",
    "\n",
    "for (contato, link, logico) in contatos:\n",
    "    if logico:\n",
    "        print(f'{date_msg} {contato} - {link}')\n",
    "        # pwk.sendwhats_image(link.replace('https://chat.whatsapp.com/', ''),\n",
    "        #                     f'{caminho_imagem}\\\\{relatorio} TABLE.png',\n",
    "        #                     f'Resumo mensal | Grupo - {date_msg}',\n",
    "        #                     tab_close=True,\n",
    "        #                     wait_time=10)"
   ]
  },
  {
   "cell_type": "code",
   "execution_count": 62,
   "metadata": {},
   "outputs": [
    {
     "name": "stdout",
     "output_type": "stream",
     "text": [
      "\n",
      "• '03' ASA NORTE\n",
      "\n"
     ]
    },
    {
     "name": "stderr",
     "output_type": "stream",
     "text": [
      "C:\\Users\\admin\\AppData\\Local\\Temp\\ipykernel_16068\\3465617909.py:86: RuntimeWarning:\n",
      "\n",
      "divide by zero encountered in double_scalars\n",
      "\n"
     ]
    },
    {
     "data": {
      "application/vnd.plotly.v1+json": {
       "config": {
        "plotlyServerURL": "https://plot.ly"
       },
       "data": [
        {
         "cells": {
          "align": [
           "left",
           "center"
          ],
          "fill": {
           "color": [
            [
             "#FFFFFF",
             "#FFFFFF",
             "#FFFFFF",
             "#DEEFFF",
             "#DEEFFF",
             "#FFFFFF",
             "#FFFFFF",
             "#FFFFFF",
             "#FFFFFF",
             "#FFFFFF",
             "#DEEFFF",
             "#FFFFFF",
             "#F7F7F7",
             "#FFFFFF",
             "#FFFFFF",
             "#FFFFFF",
             "#FFFFFF",
             "#DEEFFF",
             "#FFFFFF",
             "#FFFFFF",
             "#FFFFFF",
             "#FFFFFF",
             "#FFFFFF",
             "#FFFFFF",
             "#DEEFFF",
             "#FFFFFF",
             "#FFFFFF",
             "#FFFFFF",
             "#FFFFFF",
             "#FFFFFF",
             "#FFFFFF",
             "#E5E5E5"
            ],
            [
             "#FFFFFF",
             "#FFFFFF",
             "#FFFFFF",
             "#DEEFFF",
             "#DEEFFF",
             "#FFFFFF",
             "#FFFFFF",
             "#FFFFFF",
             "#FFFFFF",
             "#FFFFFF",
             "#DEEFFF",
             "#FFFFFF",
             "#F7F7F7",
             "#FFFFFF",
             "#FFFFFF",
             "#FFFFFF",
             "#FFFFFF",
             "#DEEFFF",
             "#FFFFFF",
             "#FFFFFF",
             "#FFFFFF",
             "#FFFFFF",
             "#FFFFFF",
             "#FFFFFF",
             "#DEEFFF",
             "#FFFFFF",
             "#FFFFFF",
             "#FFFFFF",
             "#FFFFFF",
             "#FFFFFF",
             "#FFFFFF",
             "#E5E5E5"
            ],
            [
             "#F7F7F7",
             "#F7F7F7",
             "#F7F7F7",
             "#DEEFFF",
             "#DEEFFF",
             "#F7F7F7",
             "#F7F7F7",
             "#F7F7F7",
             "#F7F7F7",
             "#F7F7F7",
             "#DEEFFF",
             "#F7F7F7",
             "#F7F7F7",
             "#F7F7F7",
             "#F7F7F7",
             "#F7F7F7",
             "#F7F7F7",
             "#DEEFFF",
             "#F7F7F7",
             "#F7F7F7",
             "#F7F7F7",
             "#F7F7F7",
             "#F7F7F7",
             "#F7F7F7",
             "#DEEFFF",
             "#F7F7F7",
             "#F7F7F7",
             "#F7F7F7",
             "#F7F7F7",
             "#F7F7F7",
             "#F7F7F7",
             "#E5E5E5"
            ],
            [
             "#F7F7F7",
             "#F7F7F7",
             "#F7F7F7",
             "#DEEFFF",
             "#DEEFFF",
             "#F7F7F7",
             "#F7F7F7",
             "#F7F7F7",
             "#F7F7F7",
             "#F7F7F7",
             "#DEEFFF",
             "#F7F7F7",
             "#F7F7F7",
             "#F7F7F7",
             "#F7F7F7",
             "#F7F7F7",
             "#F7F7F7",
             "#DEEFFF",
             "#F7F7F7",
             "#F7F7F7",
             "#F7F7F7",
             "#F7F7F7",
             "#F7F7F7",
             "#F7F7F7",
             "#DEEFFF",
             "#F7F7F7",
             "#F7F7F7",
             "#F7F7F7",
             "#F7F7F7",
             "#F7F7F7",
             "#F7F7F7",
             "#E5E5E5"
            ],
            [
             "#FFFFFF",
             "#FFFFFF",
             "#FFFFFF",
             "#DEEFFF",
             "#DEEFFF",
             "#FFFFFF",
             "#FFFFFF",
             "#FFFFFF",
             "#FFFFFF",
             "#FFFFFF",
             "#DEEFFF",
             "#FFFFFF",
             "#F7F7F7",
             "#FFFFFF",
             "#FFFFFF",
             "#FFFFFF",
             "#FFFFFF",
             "#DEEFFF",
             "#FFFFFF",
             "#FFFFFF",
             "#FFFFFF",
             "#FFFFFF",
             "#FFFFFF",
             "#FFFFFF",
             "#DEEFFF",
             "#FFFFFF",
             "#FFFFFF",
             "#FFFFFF",
             "#FFFFFF",
             "#FFFFFF",
             "#FFFFFF",
             "#E5E5E5"
            ],
            [
             "#FFFFFF",
             "#FFFFFF",
             "#FFFFFF",
             "#DEEFFF",
             "#DEEFFF",
             "#FFFFFF",
             "#FFFFFF",
             "#FFFFFF",
             "#FFFFFF",
             "#FFFFFF",
             "#DEEFFF",
             "#FFFFFF",
             "#F7F7F7",
             "#FFFFFF",
             "#FFFFFF",
             "#FFFFFF",
             "#FFFFFF",
             "#DEEFFF",
             "#FFFFFF",
             "#FFFFFF",
             "#FFFFFF",
             "#FFFFFF",
             "#FFFFFF",
             "#FFFFFF",
             "#DEEFFF",
             "#FFFFFF",
             "#FFFFFF",
             "#FFFFFF",
             "#FFFFFF",
             "#FFFFFF",
             "#FFFFFF",
             "#E5E5E5"
            ],
            [
             "#F7F7F7",
             "#F7F7F7",
             "#F7F7F7",
             "#DEEFFF",
             "#DEEFFF",
             "#F7F7F7",
             "#F7F7F7",
             "#F7F7F7",
             "#F7F7F7",
             "#F7F7F7",
             "#DEEFFF",
             "#F7F7F7",
             "#F7F7F7",
             "#F7F7F7",
             "#F7F7F7",
             "#F7F7F7",
             "#F7F7F7",
             "#DEEFFF",
             "#F7F7F7",
             "#F7F7F7",
             "#F7F7F7",
             "#F7F7F7",
             "#F7F7F7",
             "#F7F7F7",
             "#DEEFFF",
             "#F7F7F7",
             "#F7F7F7",
             "#F7F7F7",
             "#F7F7F7",
             "#F7F7F7",
             "#F7F7F7",
             "#E5E5E5"
            ],
            [
             "#FFFFFF",
             "#FFFFFF",
             "#FFFFFF",
             "#DEEFFF",
             "#DEEFFF",
             "#FFFFFF",
             "#FFFFFF",
             "#FFFFFF",
             "#FFFFFF",
             "#FFFFFF",
             "#DEEFFF",
             "#FFFFFF",
             "#F7F7F7",
             "#FFFFFF",
             "#FFFFFF",
             "#FFFFFF",
             "#FFFFFF",
             "#DEEFFF",
             "#FFFFFF",
             "#FFFFFF",
             "#FFFFFF",
             "#FFFFFF",
             "#FFFFFF",
             "#FFFFFF",
             "#DEEFFF",
             "#FFFFFF",
             "#FFFFFF",
             "#FFFFFF",
             "#FFFFFF",
             "#FFFFFF",
             "#FFFFFF",
             "#E5E5E5"
            ],
            [
             "#FFFFFF",
             "#FFFFFF",
             "#FFFFFF",
             "#DEEFFF",
             "#DEEFFF",
             "#FFFFFF",
             "#FFFFFF",
             "#FFFFFF",
             "#FFFFFF",
             "#FFFFFF",
             "#DEEFFF",
             "#FFFFFF",
             "#F7F7F7",
             "#FFFFFF",
             "#FFFFFF",
             "#FFFFFF",
             "#FFFFFF",
             "#DEEFFF",
             "#FFFFFF",
             "#FFFFFF",
             "#FFFFFF",
             "#FFFFFF",
             "#FFFFFF",
             "#FFFFFF",
             "#DEEFFF",
             "#FFFFFF",
             "#FFFFFF",
             "#FFFFFF",
             "#FFFFFF",
             "#FFFFFF",
             "#FFFFFF",
             "#E5E5E5"
            ],
            [
             "#F7F7F7",
             "#F7F7F7",
             "#F7F7F7",
             "#DEEFFF",
             "#DEEFFF",
             "#F7F7F7",
             "#F7F7F7",
             "#F7F7F7",
             "#F7F7F7",
             "#F7F7F7",
             "#DEEFFF",
             "#F7F7F7",
             "#F7F7F7",
             "#F7F7F7",
             "#F7F7F7",
             "#F7F7F7",
             "#F7F7F7",
             "#DEEFFF",
             "#F7F7F7",
             "#F7F7F7",
             "#F7F7F7",
             "#F7F7F7",
             "#F7F7F7",
             "#F7F7F7",
             "#DEEFFF",
             "#F7F7F7",
             "#F7F7F7",
             "#F7F7F7",
             "#F7F7F7",
             "#F7F7F7",
             "#F7F7F7",
             "#E5E5E5"
            ],
            [
             "#FFFFFF",
             "#FFFFFF",
             "#FFFFFF",
             "#DEEFFF",
             "#DEEFFF",
             "#FFFFFF",
             "#FFFFFF",
             "#FFFFFF",
             "#FFFFFF",
             "#FFFFFF",
             "#DEEFFF",
             "#FFFFFF",
             "#F7F7F7",
             "#FFFFFF",
             "#FFFFFF",
             "#FFFFFF",
             "#FFFFFF",
             "#DEEFFF",
             "#FFFFFF",
             "#FFFFFF",
             "#FFFFFF",
             "#FFFFFF",
             "#FFFFFF",
             "#FFFFFF",
             "#DEEFFF",
             "#FFFFFF",
             "#FFFFFF",
             "#FFFFFF",
             "#FFFFFF",
             "#FFFFFF",
             "#FFFFFF",
             "#E5E5E5"
            ],
            [
             "#FFFFFF",
             "#FFFFFF",
             "#FFFFFF",
             "#DEEFFF",
             "#DEEFFF",
             "#FFFFFF",
             "#FFFFFF",
             "#FFFFFF",
             "#FFFFFF",
             "#FFFFFF",
             "#DEEFFF",
             "#FFFFFF",
             "#F7F7F7",
             "#FFFFFF",
             "#FFFFFF",
             "#FFFFFF",
             "#FFFFFF",
             "#DEEFFF",
             "#FFFFFF",
             "#FFFFFF",
             "#FFFFFF",
             "#FFFFFF",
             "#FFFFFF",
             "#FFFFFF",
             "#DEEFFF",
             "#FFFFFF",
             "#FFFFFF",
             "#FFFFFF",
             "#FFFFFF",
             "#FFFFFF",
             "#FFFFFF",
             "#E5E5E5"
            ],
            [
             "#FFFFFF",
             "#FFFFFF",
             "#FFFFFF",
             "#DEEFFF",
             "#DEEFFF",
             "#FFFFFF",
             "#FFFFFF",
             "#FFFFFF",
             "#FFFFFF",
             "#FFFFFF",
             "#DEEFFF",
             "#FFFFFF",
             "#F7F7F7",
             "#FFFFFF",
             "#FFFFFF",
             "#FFFFFF",
             "#FFFFFF",
             "#DEEFFF",
             "#FFFFFF",
             "#FFFFFF",
             "#FFFFFF",
             "#FFFFFF",
             "#FFFFFF",
             "#FFFFFF",
             "#DEEFFF",
             "#FFFFFF",
             "#FFFFFF",
             "#FFFFFF",
             "#FFFFFF",
             "#FFFFFF",
             "#FFFFFF",
             "#E5E5E5"
            ],
            [
             "#FFFFFF",
             "#FFFFFF",
             "#FFFFFF",
             "#DEEFFF",
             "#DEEFFF",
             "#FFFFFF",
             "#FFFFFF",
             "#FFFFFF",
             "#FFFFFF",
             "#FFFFFF",
             "#DEEFFF",
             "#FFFFFF",
             "#F7F7F7",
             "#FFFFFF",
             "#FFFFFF",
             "#FFFFFF",
             "#FFFFFF",
             "#DEEFFF",
             "#FFFFFF",
             "#FFFFFF",
             "#FFFFFF",
             "#FFFFFF",
             "#FFFFFF",
             "#FFFFFF",
             "#DEEFFF",
             "#FFFFFF",
             "#FFFFFF",
             "#FFFFFF",
             "#FFFFFF",
             "#FFFFFF",
             "#FFFFFF",
             "#E5E5E5"
            ],
            [
             "#FFFFFF",
             "#FFFFFF",
             "#FFFFFF",
             "#DEEFFF",
             "#DEEFFF",
             "#FFFFFF",
             "#FFFFFF",
             "#FFFFFF",
             "#FFFFFF",
             "#FFFFFF",
             "#DEEFFF",
             "#FFFFFF",
             "#F7F7F7",
             "#FFFFFF",
             "#FFFFFF",
             "#FFFFFF",
             "#FFFFFF",
             "#DEEFFF",
             "#FFFFFF",
             "#FFFFFF",
             "#FFFFFF",
             "#FFFFFF",
             "#FFFFFF",
             "#FFFFFF",
             "#DEEFFF",
             "#FFFFFF",
             "#FFFFFF",
             "#FFFFFF",
             "#FFFFFF",
             "#FFFFFF",
             "#FFFFFF",
             "#E5E5E5"
            ],
            [
             "#FFFFFF",
             "#FFFFFF",
             "#FFFFFF",
             "#DEEFFF",
             "#DEEFFF",
             "#FFFFFF",
             "#FFFFFF",
             "#FFFFFF",
             "#FFFFFF",
             "#FFFFFF",
             "#DEEFFF",
             "#FFFFFF",
             "#F7F7F7",
             "#FFFFFF",
             "#FFFFFF",
             "#FFFFFF",
             "#FFFFFF",
             "#DEEFFF",
             "#FFFFFF",
             "#FFFFFF",
             "#FFFFFF",
             "#FFFFFF",
             "#FFFFFF",
             "#FFFFFF",
             "#DEEFFF",
             "#FFFFFF",
             "#FFFFFF",
             "#FFFFFF",
             "#FFFFFF",
             "#FFFFFF",
             "#FFFFFF",
             "#E5E5E5"
            ],
            [
             "#FFFFFF",
             "#FFFFFF",
             "#FFFFFF",
             "#DEEFFF",
             "#DEEFFF",
             "#FFFFFF",
             "#FFFFFF",
             "#FFFFFF",
             "#FFFFFF",
             "#FFFFFF",
             "#DEEFFF",
             "#FFFFFF",
             "#F7F7F7",
             "#FFFFFF",
             "#FFFFFF",
             "#FFFFFF",
             "#FFFFFF",
             "#DEEFFF",
             "#FFFFFF",
             "#FFFFFF",
             "#FFFFFF",
             "#FFFFFF",
             "#FFFFFF",
             "#FFFFFF",
             "#DEEFFF",
             "#FFFFFF",
             "#FFFFFF",
             "#FFFFFF",
             "#FFFFFF",
             "#FFFFFF",
             "#FFFFFF",
             "#E5E5E5"
            ],
            [
             "#FFFFFF",
             "#FFFFFF",
             "#FFFFFF",
             "#DEEFFF",
             "#DEEFFF",
             "#FFFFFF",
             "#FFFFFF",
             "#FFFFFF",
             "#FFFFFF",
             "#FFFFFF",
             "#DEEFFF",
             "#FFFFFF",
             "#F7F7F7",
             "#FFFFFF",
             "#FFFFFF",
             "#FFFFFF",
             "#FFFFFF",
             "#DEEFFF",
             "#FFFFFF",
             "#FFFFFF",
             "#FFFFFF",
             "#FFFFFF",
             "#FFFFFF",
             "#FFFFFF",
             "#DEEFFF",
             "#FFFFFF",
             "#FFFFFF",
             "#FFFFFF",
             "#FFFFFF",
             "#FFFFFF",
             "#FFFFFF",
             "#E5E5E5"
            ],
            [
             "#FFFFFF",
             "#FFFFFF",
             "#FFFFFF",
             "#DEEFFF",
             "#DEEFFF",
             "#FFFFFF",
             "#FFFFFF",
             "#FFFFFF",
             "#FFFFFF",
             "#FFFFFF",
             "#DEEFFF",
             "#FFFFFF",
             "#F7F7F7",
             "#FFFFFF",
             "#FFFFFF",
             "#FFFFFF",
             "#FFFFFF",
             "#DEEFFF",
             "#FFFFFF",
             "#FFFFFF",
             "#FFFFFF",
             "#FFFFFF",
             "#FFFFFF",
             "#FFFFFF",
             "#DEEFFF",
             "#FFFFFF",
             "#FFFFFF",
             "#FFFFFF",
             "#FFFFFF",
             "#FFFFFF",
             "#FFFFFF",
             "#E5E5E5"
            ],
            [
             "#FFFFFF",
             "#FFFFFF",
             "#FFFFFF",
             "#DEEFFF",
             "#DEEFFF",
             "#FFFFFF",
             "#FFFFFF",
             "#FFFFFF",
             "#FFFFFF",
             "#FFFFFF",
             "#DEEFFF",
             "#FFFFFF",
             "#F7F7F7",
             "#FFFFFF",
             "#FFFFFF",
             "#FFFFFF",
             "#FFFFFF",
             "#DEEFFF",
             "#FFFFFF",
             "#FFFFFF",
             "#FFFFFF",
             "#FFFFFF",
             "#FFFFFF",
             "#FFFFFF",
             "#DEEFFF",
             "#FFFFFF",
             "#FFFFFF",
             "#FFFFFF",
             "#FFFFFF",
             "#FFFFFF",
             "#FFFFFF",
             "#E5E5E5"
            ],
            [
             "#FFFFFF",
             "#FFFFFF",
             "#FFFFFF",
             "#DEEFFF",
             "#DEEFFF",
             "#FFFFFF",
             "#FFFFFF",
             "#FFFFFF",
             "#FFFFFF",
             "#FFFFFF",
             "#DEEFFF",
             "#FFFFFF",
             "#F7F7F7",
             "#FFFFFF",
             "#FFFFFF",
             "#FFFFFF",
             "#FFFFFF",
             "#DEEFFF",
             "#FFFFFF",
             "#FFFFFF",
             "#FFFFFF",
             "#FFFFFF",
             "#FFFFFF",
             "#FFFFFF",
             "#DEEFFF",
             "#FFFFFF",
             "#FFFFFF",
             "#FFFFFF",
             "#FFFFFF",
             "#FFFFFF",
             "#FFFFFF",
             "#E5E5E5"
            ],
            [
             "#FFFFFF",
             "#FFFFFF",
             "#FFFFFF",
             "#DEEFFF",
             "#DEEFFF",
             "#FFFFFF",
             "#FFFFFF",
             "#FFFFFF",
             "#FFFFFF",
             "#FFFFFF",
             "#DEEFFF",
             "#FFFFFF",
             "#F7F7F7",
             "#FFFFFF",
             "#FFFFFF",
             "#FFFFFF",
             "#FFFFFF",
             "#DEEFFF",
             "#FFFFFF",
             "#FFFFFF",
             "#FFFFFF",
             "#FFFFFF",
             "#FFFFFF",
             "#FFFFFF",
             "#DEEFFF",
             "#FFFFFF",
             "#FFFFFF",
             "#FFFFFF",
             "#FFFFFF",
             "#FFFFFF",
             "#FFFFFF",
             "#E5E5E5"
            ]
           ]
          },
          "font": {
           "color": [
            "#000000",
            "#000000",
            "#118DFF",
            "#000000",
            "#FF0000",
            "#FF0000",
            "#E04392",
            "#000000",
            "#FF0000",
            "#E04392",
            "#000000",
            "#FF0000",
            [
             "#FF0000",
             "#FF0000",
             "#00B050",
             "#DEEFFF",
             "#DEEFFF",
             "#00B050",
             "#00B050",
             "#00B050",
             "#FF0000",
             "#FF0000",
             "#DEEFFF",
             "#00B050",
             "#FF0000",
             "#FFFFFF",
             "#FFFFFF",
             "#FFFFFF",
             "#FFFFFF",
             "#DEEFFF",
             "#FFFFFF",
             "#FFFFFF",
             "#FFFFFF",
             "#FFFFFF",
             "#FFFFFF",
             "#FFFFFF",
             "#DEEFFF",
             "#FFFFFF",
             "#FFFFFF",
             "#FFFFFF",
             "#FFFFFF",
             "#FFFFFF",
             "#FFFFFF",
             "#E5E5E5"
            ],
            [
             "#FF0000",
             "#FF0000",
             "#FF0000",
             "#DEEFFF",
             "#DEEFFF",
             "#00B050",
             "#00B050",
             "#00B050",
             "#00B050",
             "#00B050",
             "#DEEFFF",
             "#00B050",
             "#FFC000",
             "#FFFFFF",
             "#FFFFFF",
             "#FFFFFF",
             "#FFFFFF",
             "#DEEFFF",
             "#FFFFFF",
             "#FFFFFF",
             "#FFFFFF",
             "#FFFFFF",
             "#FFFFFF",
             "#FFFFFF",
             "#DEEFFF",
             "#FFFFFF",
             "#FFFFFF",
             "#FFFFFF",
             "#FFFFFF",
             "#FFFFFF",
             "#FFFFFF",
             "#E5E5E5"
            ],
            [
             "#000000",
             "#000000",
             "#000000",
             "#DEEFFF",
             "#DEEFFF",
             "#000000",
             "#000000",
             "#000000",
             "#000000",
             "#000000",
             "#DEEFFF",
             "#000000",
             "#000000",
             "#FFFFFF",
             "#FFFFFF",
             "#FFFFFF",
             "#FFFFFF",
             "#DEEFFF",
             "#FFFFFF",
             "#FFFFFF",
             "#FFFFFF",
             "#FFFFFF",
             "#FFFFFF",
             "#FFFFFF",
             "#DEEFFF",
             "#FFFFFF",
             "#FFFFFF",
             "#FFFFFF",
             "#FFFFFF",
             "#FFFFFF",
             "#FFFFFF",
             "#118DFF"
            ]
           ],
           "family": "Segoe UI Semibold",
           "size": 13.185185185185185
          },
          "line": {
           "color": [
            [
             "#FFFFFF",
             "#FFFFFF",
             "#FFFFFF",
             "#DEEFFF",
             "#DEEFFF",
             "#FFFFFF",
             "#FFFFFF",
             "#FFFFFF",
             "#FFFFFF",
             "#FFFFFF",
             "#DEEFFF",
             "#FFFFFF",
             "#F7F7F7",
             "#FFFFFF",
             "#FFFFFF",
             "#FFFFFF",
             "#FFFFFF",
             "#DEEFFF",
             "#FFFFFF",
             "#FFFFFF",
             "#FFFFFF",
             "#FFFFFF",
             "#FFFFFF",
             "#FFFFFF",
             "#DEEFFF",
             "#FFFFFF",
             "#FFFFFF",
             "#FFFFFF",
             "#FFFFFF",
             "#FFFFFF",
             "#FFFFFF",
             "#E5E5E5"
            ],
            [
             "#FFFFFF",
             "#FFFFFF",
             "#FFFFFF",
             "#DEEFFF",
             "#DEEFFF",
             "#FFFFFF",
             "#FFFFFF",
             "#FFFFFF",
             "#FFFFFF",
             "#FFFFFF",
             "#DEEFFF",
             "#FFFFFF",
             "#F7F7F7",
             "#FFFFFF",
             "#FFFFFF",
             "#FFFFFF",
             "#FFFFFF",
             "#DEEFFF",
             "#FFFFFF",
             "#FFFFFF",
             "#FFFFFF",
             "#FFFFFF",
             "#FFFFFF",
             "#FFFFFF",
             "#DEEFFF",
             "#FFFFFF",
             "#FFFFFF",
             "#FFFFFF",
             "#FFFFFF",
             "#FFFFFF",
             "#FFFFFF",
             "#E5E5E5"
            ],
            [
             "#F7F7F7",
             "#F7F7F7",
             "#F7F7F7",
             "#DEEFFF",
             "#DEEFFF",
             "#F7F7F7",
             "#F7F7F7",
             "#F7F7F7",
             "#F7F7F7",
             "#F7F7F7",
             "#DEEFFF",
             "#F7F7F7",
             "#F7F7F7",
             "#F7F7F7",
             "#F7F7F7",
             "#F7F7F7",
             "#F7F7F7",
             "#DEEFFF",
             "#F7F7F7",
             "#F7F7F7",
             "#F7F7F7",
             "#F7F7F7",
             "#F7F7F7",
             "#F7F7F7",
             "#DEEFFF",
             "#F7F7F7",
             "#F7F7F7",
             "#F7F7F7",
             "#F7F7F7",
             "#F7F7F7",
             "#F7F7F7",
             "#E5E5E5"
            ],
            [
             "#F7F7F7",
             "#F7F7F7",
             "#F7F7F7",
             "#DEEFFF",
             "#DEEFFF",
             "#F7F7F7",
             "#F7F7F7",
             "#F7F7F7",
             "#F7F7F7",
             "#F7F7F7",
             "#DEEFFF",
             "#F7F7F7",
             "#F7F7F7",
             "#F7F7F7",
             "#F7F7F7",
             "#F7F7F7",
             "#F7F7F7",
             "#DEEFFF",
             "#F7F7F7",
             "#F7F7F7",
             "#F7F7F7",
             "#F7F7F7",
             "#F7F7F7",
             "#F7F7F7",
             "#DEEFFF",
             "#F7F7F7",
             "#F7F7F7",
             "#F7F7F7",
             "#F7F7F7",
             "#F7F7F7",
             "#F7F7F7",
             "#E5E5E5"
            ],
            [
             "#FFFFFF",
             "#FFFFFF",
             "#FFFFFF",
             "#DEEFFF",
             "#DEEFFF",
             "#FFFFFF",
             "#FFFFFF",
             "#FFFFFF",
             "#FFFFFF",
             "#FFFFFF",
             "#DEEFFF",
             "#FFFFFF",
             "#F7F7F7",
             "#FFFFFF",
             "#FFFFFF",
             "#FFFFFF",
             "#FFFFFF",
             "#DEEFFF",
             "#FFFFFF",
             "#FFFFFF",
             "#FFFFFF",
             "#FFFFFF",
             "#FFFFFF",
             "#FFFFFF",
             "#DEEFFF",
             "#FFFFFF",
             "#FFFFFF",
             "#FFFFFF",
             "#FFFFFF",
             "#FFFFFF",
             "#FFFFFF",
             "#E5E5E5"
            ],
            [
             "#FFFFFF",
             "#FFFFFF",
             "#FFFFFF",
             "#DEEFFF",
             "#DEEFFF",
             "#FFFFFF",
             "#FFFFFF",
             "#FFFFFF",
             "#FFFFFF",
             "#FFFFFF",
             "#DEEFFF",
             "#FFFFFF",
             "#F7F7F7",
             "#FFFFFF",
             "#FFFFFF",
             "#FFFFFF",
             "#FFFFFF",
             "#DEEFFF",
             "#FFFFFF",
             "#FFFFFF",
             "#FFFFFF",
             "#FFFFFF",
             "#FFFFFF",
             "#FFFFFF",
             "#DEEFFF",
             "#FFFFFF",
             "#FFFFFF",
             "#FFFFFF",
             "#FFFFFF",
             "#FFFFFF",
             "#FFFFFF",
             "#E5E5E5"
            ],
            [
             "#F7F7F7",
             "#F7F7F7",
             "#F7F7F7",
             "#DEEFFF",
             "#DEEFFF",
             "#F7F7F7",
             "#F7F7F7",
             "#F7F7F7",
             "#F7F7F7",
             "#F7F7F7",
             "#DEEFFF",
             "#F7F7F7",
             "#F7F7F7",
             "#F7F7F7",
             "#F7F7F7",
             "#F7F7F7",
             "#F7F7F7",
             "#DEEFFF",
             "#F7F7F7",
             "#F7F7F7",
             "#F7F7F7",
             "#F7F7F7",
             "#F7F7F7",
             "#F7F7F7",
             "#DEEFFF",
             "#F7F7F7",
             "#F7F7F7",
             "#F7F7F7",
             "#F7F7F7",
             "#F7F7F7",
             "#F7F7F7",
             "#E5E5E5"
            ],
            [
             "#FFFFFF",
             "#FFFFFF",
             "#FFFFFF",
             "#DEEFFF",
             "#DEEFFF",
             "#FFFFFF",
             "#FFFFFF",
             "#FFFFFF",
             "#FFFFFF",
             "#FFFFFF",
             "#DEEFFF",
             "#FFFFFF",
             "#F7F7F7",
             "#FFFFFF",
             "#FFFFFF",
             "#FFFFFF",
             "#FFFFFF",
             "#DEEFFF",
             "#FFFFFF",
             "#FFFFFF",
             "#FFFFFF",
             "#FFFFFF",
             "#FFFFFF",
             "#FFFFFF",
             "#DEEFFF",
             "#FFFFFF",
             "#FFFFFF",
             "#FFFFFF",
             "#FFFFFF",
             "#FFFFFF",
             "#FFFFFF",
             "#E5E5E5"
            ],
            [
             "#FFFFFF",
             "#FFFFFF",
             "#FFFFFF",
             "#DEEFFF",
             "#DEEFFF",
             "#FFFFFF",
             "#FFFFFF",
             "#FFFFFF",
             "#FFFFFF",
             "#FFFFFF",
             "#DEEFFF",
             "#FFFFFF",
             "#F7F7F7",
             "#FFFFFF",
             "#FFFFFF",
             "#FFFFFF",
             "#FFFFFF",
             "#DEEFFF",
             "#FFFFFF",
             "#FFFFFF",
             "#FFFFFF",
             "#FFFFFF",
             "#FFFFFF",
             "#FFFFFF",
             "#DEEFFF",
             "#FFFFFF",
             "#FFFFFF",
             "#FFFFFF",
             "#FFFFFF",
             "#FFFFFF",
             "#FFFFFF",
             "#E5E5E5"
            ],
            [
             "#F7F7F7",
             "#F7F7F7",
             "#F7F7F7",
             "#DEEFFF",
             "#DEEFFF",
             "#F7F7F7",
             "#F7F7F7",
             "#F7F7F7",
             "#F7F7F7",
             "#F7F7F7",
             "#DEEFFF",
             "#F7F7F7",
             "#F7F7F7",
             "#F7F7F7",
             "#F7F7F7",
             "#F7F7F7",
             "#F7F7F7",
             "#DEEFFF",
             "#F7F7F7",
             "#F7F7F7",
             "#F7F7F7",
             "#F7F7F7",
             "#F7F7F7",
             "#F7F7F7",
             "#DEEFFF",
             "#F7F7F7",
             "#F7F7F7",
             "#F7F7F7",
             "#F7F7F7",
             "#F7F7F7",
             "#F7F7F7",
             "#E5E5E5"
            ],
            [
             "#FFFFFF",
             "#FFFFFF",
             "#FFFFFF",
             "#DEEFFF",
             "#DEEFFF",
             "#FFFFFF",
             "#FFFFFF",
             "#FFFFFF",
             "#FFFFFF",
             "#FFFFFF",
             "#DEEFFF",
             "#FFFFFF",
             "#F7F7F7",
             "#FFFFFF",
             "#FFFFFF",
             "#FFFFFF",
             "#FFFFFF",
             "#DEEFFF",
             "#FFFFFF",
             "#FFFFFF",
             "#FFFFFF",
             "#FFFFFF",
             "#FFFFFF",
             "#FFFFFF",
             "#DEEFFF",
             "#FFFFFF",
             "#FFFFFF",
             "#FFFFFF",
             "#FFFFFF",
             "#FFFFFF",
             "#FFFFFF",
             "#E5E5E5"
            ],
            [
             "#FFFFFF",
             "#FFFFFF",
             "#FFFFFF",
             "#DEEFFF",
             "#DEEFFF",
             "#FFFFFF",
             "#FFFFFF",
             "#FFFFFF",
             "#FFFFFF",
             "#FFFFFF",
             "#DEEFFF",
             "#FFFFFF",
             "#F7F7F7",
             "#FFFFFF",
             "#FFFFFF",
             "#FFFFFF",
             "#FFFFFF",
             "#DEEFFF",
             "#FFFFFF",
             "#FFFFFF",
             "#FFFFFF",
             "#FFFFFF",
             "#FFFFFF",
             "#FFFFFF",
             "#DEEFFF",
             "#FFFFFF",
             "#FFFFFF",
             "#FFFFFF",
             "#FFFFFF",
             "#FFFFFF",
             "#FFFFFF",
             "#E5E5E5"
            ],
            [
             "#FFFFFF",
             "#FFFFFF",
             "#FFFFFF",
             "#DEEFFF",
             "#DEEFFF",
             "#FFFFFF",
             "#FFFFFF",
             "#FFFFFF",
             "#FFFFFF",
             "#FFFFFF",
             "#DEEFFF",
             "#FFFFFF",
             "#F7F7F7",
             "#FFFFFF",
             "#FFFFFF",
             "#FFFFFF",
             "#FFFFFF",
             "#DEEFFF",
             "#FFFFFF",
             "#FFFFFF",
             "#FFFFFF",
             "#FFFFFF",
             "#FFFFFF",
             "#FFFFFF",
             "#DEEFFF",
             "#FFFFFF",
             "#FFFFFF",
             "#FFFFFF",
             "#FFFFFF",
             "#FFFFFF",
             "#FFFFFF",
             "#E5E5E5"
            ],
            [
             "#FFFFFF",
             "#FFFFFF",
             "#FFFFFF",
             "#DEEFFF",
             "#DEEFFF",
             "#FFFFFF",
             "#FFFFFF",
             "#FFFFFF",
             "#FFFFFF",
             "#FFFFFF",
             "#DEEFFF",
             "#FFFFFF",
             "#F7F7F7",
             "#FFFFFF",
             "#FFFFFF",
             "#FFFFFF",
             "#FFFFFF",
             "#DEEFFF",
             "#FFFFFF",
             "#FFFFFF",
             "#FFFFFF",
             "#FFFFFF",
             "#FFFFFF",
             "#FFFFFF",
             "#DEEFFF",
             "#FFFFFF",
             "#FFFFFF",
             "#FFFFFF",
             "#FFFFFF",
             "#FFFFFF",
             "#FFFFFF",
             "#E5E5E5"
            ],
            [
             "#FFFFFF",
             "#FFFFFF",
             "#FFFFFF",
             "#DEEFFF",
             "#DEEFFF",
             "#FFFFFF",
             "#FFFFFF",
             "#FFFFFF",
             "#FFFFFF",
             "#FFFFFF",
             "#DEEFFF",
             "#FFFFFF",
             "#F7F7F7",
             "#FFFFFF",
             "#FFFFFF",
             "#FFFFFF",
             "#FFFFFF",
             "#DEEFFF",
             "#FFFFFF",
             "#FFFFFF",
             "#FFFFFF",
             "#FFFFFF",
             "#FFFFFF",
             "#FFFFFF",
             "#DEEFFF",
             "#FFFFFF",
             "#FFFFFF",
             "#FFFFFF",
             "#FFFFFF",
             "#FFFFFF",
             "#FFFFFF",
             "#E5E5E5"
            ],
            [
             "#FFFFFF",
             "#FFFFFF",
             "#FFFFFF",
             "#DEEFFF",
             "#DEEFFF",
             "#FFFFFF",
             "#FFFFFF",
             "#FFFFFF",
             "#FFFFFF",
             "#FFFFFF",
             "#DEEFFF",
             "#FFFFFF",
             "#F7F7F7",
             "#FFFFFF",
             "#FFFFFF",
             "#FFFFFF",
             "#FFFFFF",
             "#DEEFFF",
             "#FFFFFF",
             "#FFFFFF",
             "#FFFFFF",
             "#FFFFFF",
             "#FFFFFF",
             "#FFFFFF",
             "#DEEFFF",
             "#FFFFFF",
             "#FFFFFF",
             "#FFFFFF",
             "#FFFFFF",
             "#FFFFFF",
             "#FFFFFF",
             "#E5E5E5"
            ],
            [
             "#FFFFFF",
             "#FFFFFF",
             "#FFFFFF",
             "#DEEFFF",
             "#DEEFFF",
             "#FFFFFF",
             "#FFFFFF",
             "#FFFFFF",
             "#FFFFFF",
             "#FFFFFF",
             "#DEEFFF",
             "#FFFFFF",
             "#F7F7F7",
             "#FFFFFF",
             "#FFFFFF",
             "#FFFFFF",
             "#FFFFFF",
             "#DEEFFF",
             "#FFFFFF",
             "#FFFFFF",
             "#FFFFFF",
             "#FFFFFF",
             "#FFFFFF",
             "#FFFFFF",
             "#DEEFFF",
             "#FFFFFF",
             "#FFFFFF",
             "#FFFFFF",
             "#FFFFFF",
             "#FFFFFF",
             "#FFFFFF",
             "#E5E5E5"
            ],
            [
             "#FFFFFF",
             "#FFFFFF",
             "#FFFFFF",
             "#DEEFFF",
             "#DEEFFF",
             "#FFFFFF",
             "#FFFFFF",
             "#FFFFFF",
             "#FFFFFF",
             "#FFFFFF",
             "#DEEFFF",
             "#FFFFFF",
             "#F7F7F7",
             "#FFFFFF",
             "#FFFFFF",
             "#FFFFFF",
             "#FFFFFF",
             "#DEEFFF",
             "#FFFFFF",
             "#FFFFFF",
             "#FFFFFF",
             "#FFFFFF",
             "#FFFFFF",
             "#FFFFFF",
             "#DEEFFF",
             "#FFFFFF",
             "#FFFFFF",
             "#FFFFFF",
             "#FFFFFF",
             "#FFFFFF",
             "#FFFFFF",
             "#E5E5E5"
            ],
            [
             "#FFFFFF",
             "#FFFFFF",
             "#FFFFFF",
             "#DEEFFF",
             "#DEEFFF",
             "#FFFFFF",
             "#FFFFFF",
             "#FFFFFF",
             "#FFFFFF",
             "#FFFFFF",
             "#DEEFFF",
             "#FFFFFF",
             "#F7F7F7",
             "#FFFFFF",
             "#FFFFFF",
             "#FFFFFF",
             "#FFFFFF",
             "#DEEFFF",
             "#FFFFFF",
             "#FFFFFF",
             "#FFFFFF",
             "#FFFFFF",
             "#FFFFFF",
             "#FFFFFF",
             "#DEEFFF",
             "#FFFFFF",
             "#FFFFFF",
             "#FFFFFF",
             "#FFFFFF",
             "#FFFFFF",
             "#FFFFFF",
             "#E5E5E5"
            ],
            [
             "#FFFFFF",
             "#FFFFFF",
             "#FFFFFF",
             "#DEEFFF",
             "#DEEFFF",
             "#FFFFFF",
             "#FFFFFF",
             "#FFFFFF",
             "#FFFFFF",
             "#FFFFFF",
             "#DEEFFF",
             "#FFFFFF",
             "#F7F7F7",
             "#FFFFFF",
             "#FFFFFF",
             "#FFFFFF",
             "#FFFFFF",
             "#DEEFFF",
             "#FFFFFF",
             "#FFFFFF",
             "#FFFFFF",
             "#FFFFFF",
             "#FFFFFF",
             "#FFFFFF",
             "#DEEFFF",
             "#FFFFFF",
             "#FFFFFF",
             "#FFFFFF",
             "#FFFFFF",
             "#FFFFFF",
             "#FFFFFF",
             "#E5E5E5"
            ],
            [
             "#FFFFFF",
             "#FFFFFF",
             "#FFFFFF",
             "#DEEFFF",
             "#DEEFFF",
             "#FFFFFF",
             "#FFFFFF",
             "#FFFFFF",
             "#FFFFFF",
             "#FFFFFF",
             "#DEEFFF",
             "#FFFFFF",
             "#F7F7F7",
             "#FFFFFF",
             "#FFFFFF",
             "#FFFFFF",
             "#FFFFFF",
             "#DEEFFF",
             "#FFFFFF",
             "#FFFFFF",
             "#FFFFFF",
             "#FFFFFF",
             "#FFFFFF",
             "#FFFFFF",
             "#DEEFFF",
             "#FFFFFF",
             "#FFFFFF",
             "#FFFFFF",
             "#FFFFFF",
             "#FFFFFF",
             "#FFFFFF",
             "#E5E5E5"
            ],
            [
             "#FFFFFF",
             "#FFFFFF",
             "#FFFFFF",
             "#DEEFFF",
             "#DEEFFF",
             "#FFFFFF",
             "#FFFFFF",
             "#FFFFFF",
             "#FFFFFF",
             "#FFFFFF",
             "#DEEFFF",
             "#FFFFFF",
             "#F7F7F7",
             "#FFFFFF",
             "#FFFFFF",
             "#FFFFFF",
             "#FFFFFF",
             "#DEEFFF",
             "#FFFFFF",
             "#FFFFFF",
             "#FFFFFF",
             "#FFFFFF",
             "#FFFFFF",
             "#FFFFFF",
             "#DEEFFF",
             "#FFFFFF",
             "#FFFFFF",
             "#FFFFFF",
             "#FFFFFF",
             "#FFFFFF",
             "#FFFFFF",
             "#E5E5E5"
            ]
           ],
           "width": 2
          },
          "values": [
           [
            "01/12/2022, Quinta-feira",
            "02/12/2022, Sexta-feira",
            "03/12/2022, Sábado",
            "04/12/2022, Domingo",
            "05/12/2022, Segunda-feira",
            "06/12/2022, Terça-feira",
            "07/12/2022, Quarta-feira",
            "08/12/2022, Quinta-feira",
            "09/12/2022, Sexta-feira",
            "10/12/2022, Sábado",
            "11/12/2022, Domingo",
            "12/12/2022, Segunda-feira",
            "13/12/2022, Terça-feira",
            "14/12/2022, Quarta-feira",
            "15/12/2022, Quinta-feira",
            "16/12/2022, Sexta-feira",
            "17/12/2022, Sábado",
            "18/12/2022, Domingo",
            "19/12/2022, Segunda-feira",
            "20/12/2022, Terça-feira",
            "21/12/2022, Quarta-feira",
            "22/12/2022, Quinta-feira",
            "23/12/2022, Sexta-feira",
            "24/12/2022, Sábado",
            "25/12/2022, Domingo",
            "26/12/2022, Segunda-feira",
            "27/12/2022, Terça-feira",
            "28/12/2022, Quarta-feira",
            "29/12/2022, Quinta-feira",
            "30/12/2022, Sexta-feira",
            "31/12/2022, Sábado",
            "Total"
           ],
           [
            "R$ 66.666,67",
            "R$ 66.666,67",
            "R$ 20.000,00",
            "",
            "",
            "R$ 66.666,67",
            "R$ 66.666,67",
            "R$ 66.666,67",
            "R$ 46.666,67",
            "R$ 20.000,00",
            "",
            "R$ 66.666,67",
            "R$ 66.666,67",
            "R$ 66.666,67",
            "R$ 66.666,67",
            "R$ 66.666,67",
            "R$ 20.000,00",
            "",
            "R$ 66.666,67",
            "R$ 66.666,67",
            "R$ 66.666,67",
            "R$ 66.666,67",
            "R$ 66.666,67",
            "R$ 20.000,00",
            "",
            "R$ 66.666,67",
            "R$ 66.666,67",
            "R$ 66.666,67",
            "R$ 66.666,67",
            "R$ 66.666,67",
            "R$ 20.000,00",
            "R$ 1.480.000,00"
           ],
           [
            "R$ 57.109,01",
            "R$ 39.509,96",
            "R$ 24.671,31",
            "",
            "R$ 38.924,69",
            "R$ 94.018,29",
            "R$ 79.801,45",
            "R$ 86.092,60",
            "R$ 38.524,61",
            "R$ 19.696,11",
            "",
            "R$ 84.988,92",
            "",
            "",
            "",
            "",
            "",
            "",
            "",
            "",
            "",
            "",
            "",
            "",
            "",
            "",
            "",
            "",
            "",
            "",
            "",
            "R$ 563.336,95"
           ],
           [
            "R$ 54.513,39",
            "R$ 38.016,70",
            "R$ 24.139,23",
            "",
            "R$ 36.474,32",
            "R$ 90.873,97",
            "R$ 77.683,20",
            "R$ 82.669,15",
            "R$ 36.037,61",
            "R$ 18.450,09",
            "",
            "R$ 81.756,04",
            "",
            "",
            "",
            "",
            "",
            "",
            "",
            "",
            "",
            "",
            "",
            "",
            "",
            "",
            "",
            "",
            "",
            "",
            "",
            "R$ 540.613,70"
           ],
           [
            "R$ 2.595,62",
            "R$ 1.493,26",
            "R$ 532,08",
            "",
            "R$ 2.450,37",
            "R$ 3.144,32",
            "R$ 2.118,25",
            "R$ 3.423,45",
            "R$ 2.487,00",
            "R$ 1.246,02",
            "",
            "R$ 3.232,88",
            "",
            "",
            "",
            "",
            "",
            "",
            "",
            "",
            "",
            "",
            "",
            "",
            "",
            "",
            "",
            "",
            "",
            "",
            "",
            "R$ 22.723,25"
           ],
           [
            "4,55%",
            "3,78%",
            "2,16%",
            "",
            "6,30%",
            "3,34%",
            "2,65%",
            "3,98%",
            "6,46%",
            "6,33%",
            "",
            "3,80%",
            "",
            "",
            "",
            "",
            "",
            "",
            "",
            "",
            "",
            "",
            "",
            "",
            "",
            "",
            "",
            "",
            "",
            "",
            "",
            "4,03%"
           ],
           [
            "R$ 51.513,78",
            "R$ 35.359,00",
            "R$ 22.653,96",
            "",
            "R$ 32.669,39",
            "R$ 84.500,70",
            "R$ 70.888,35",
            "R$ 75.044,49",
            "R$ 33.540,05",
            "R$ 17.065,03",
            "",
            "R$ 74.521,87",
            "",
            "",
            "",
            "",
            "",
            "",
            "",
            "",
            "",
            "",
            "",
            "",
            "",
            "",
            "",
            "",
            "",
            "",
            "",
            "R$ 497.756,62"
           ],
           [
            "146",
            "100",
            "69",
            "",
            "100",
            "161",
            "155",
            "159",
            "94",
            "50",
            "",
            "150",
            "",
            "",
            "",
            "",
            "",
            "",
            "",
            "",
            "",
            "",
            "",
            "",
            "",
            "",
            "",
            "",
            "",
            "",
            "",
            "300"
           ],
           [
            "3,90%",
            "3,49%",
            "2,35%",
            "",
            "7,50%",
            "3,50%",
            "2,89%",
            "3,49%",
            "7,34%",
            "5,07%",
            "",
            "3,92%",
            "",
            "",
            "",
            "",
            "",
            "",
            "",
            "",
            "",
            "",
            "",
            "",
            "",
            "",
            "",
            "",
            "",
            "",
            "",
            "4,04%"
           ],
           [
            "R$ 2.999,61",
            "R$ 2.657,70",
            "R$ 1.485,27",
            "",
            "R$ 3.804,93",
            "R$ 6.373,27",
            "R$ 6.794,85",
            "R$ 7.624,66",
            "R$ 2.497,56",
            "R$ 1.385,06",
            "",
            "R$ 7.234,17",
            "",
            "",
            "",
            "",
            "",
            "",
            "",
            "",
            "",
            "",
            "",
            "",
            "",
            "",
            "",
            "",
            "",
            "",
            "",
            "R$ 42.857,08"
           ],
           [
            "28",
            "21",
            "18",
            "",
            "22",
            "44",
            "41",
            "47",
            "17",
            "20",
            "",
            "45",
            "",
            "",
            "",
            "",
            "",
            "",
            "",
            "",
            "",
            "",
            "",
            "",
            "",
            "",
            "",
            "",
            "",
            "",
            "",
            "303"
           ],
           [
            "19,61%",
            "9,70%",
            "",
            "",
            "",
            "2,98%",
            "1,06%",
            "10,51%",
            "0,99%",
            "27,49%",
            "",
            "4,26%",
            "",
            "",
            "",
            "",
            "",
            "",
            "",
            "",
            "",
            "",
            "",
            "",
            "",
            "",
            "",
            "",
            "",
            "",
            "",
            "6,12%"
           ],
           [
            "81,77%",
            "57,03%",
            "120,70%",
            "",
            "",
            "136,31%",
            "116,52%",
            "124,00%",
            "77,22%",
            "92,25%",
            "",
            "122,63%",
            "",
            "",
            "",
            "",
            "",
            "",
            "",
            "",
            "",
            "",
            "",
            "",
            "",
            "",
            "",
            "",
            "",
            "",
            "",
            "36,53%"
           ],
           [
            "81,77%",
            "69,40%",
            "76,09%",
            "76,09%",
            "99,88%",
            "110,92%",
            "112,22%",
            "114,44%",
            "110,10%",
            "109,25%",
            "109,25%",
            "111,09%",
            "97,70%",
            "87,20%",
            "78,73%",
            "71,76%",
            "69,91%",
            "69,91%",
            "64,36%",
            "59,63%",
            "55,54%",
            "51,98%",
            "48,85%",
            "47,98%",
            "47,98%",
            "45,30%",
            "42,91%",
            "40,75%",
            "38,80%",
            "37,03%",
            "36,53%",
            "36,53%"
           ],
           [
            "R$ 1.210.197,26",
            "R$ 1.027.084,00",
            "R$ 1.126.112,57",
            "R$ 1.126.112,57",
            "R$ 1.478.169,05",
            "R$ 1.641.573,01",
            "R$ 1.660.873,95",
            "R$ 1.693.776,06",
            "R$ 1.629.508,01",
            "R$ 1.616.926,99",
            "R$ 1.616.926,99",
            "R$ 1.644.058,10",
            "R$ 1.445.978,81",
            "R$ 1.290.497,22",
            "R$ 1.165.206,23",
            "R$ 1.062.090,63",
            "R$ 1.034.622,77",
            "R$ 1.034.622,77",
            "R$ 952.509,85",
            "R$ 882.472,36",
            "R$ 822.029,05",
            "R$ 769.334,88",
            "R$ 722.989,41",
            "R$ 710.155,27",
            "R$ 710.155,27",
            "R$ 670.481,80",
            "R$ 635.006,57",
            "R$ 603.096,69",
            "R$ 574.240,39",
            "R$ 548.019,37",
            "R$ 540.613,70",
            ""
           ]
          ]
         },
         "columnwidth": [
          10.300925925925926,
          6.592592592592593,
          6.592592592592593,
          6.592592592592593,
          6.592592592592593,
          4.12037037037037,
          6.592592592592593,
          5.356481481481481,
          4.944444444444445,
          6.592592592592593,
          4.944444444444445,
          4.12037037037037,
          2.8842592592592595,
          2.8842592592592595,
          6.592592592592593
         ],
         "domain": {
          "y": [
           0,
           1
          ]
         },
         "header": {
          "align": "center",
          "fill": {
           "color": "#E5E5E5"
          },
          "font": {
           "color": [
            "#000000",
            "#000000",
            "#118DFF",
            "#000000",
            "#FF0000",
            "#FF0000",
            "#E04392",
            "#000000",
            "#FF0000",
            "#E04392",
            "#000000",
            "#FF0000",
            "#000000",
            "#000000",
            "#000000"
           ],
           "family": "Segoe UI Semibold",
           "size": 13.185185185185185
          },
          "line": {
           "color": "#E5E5E5",
           "width": 3
          },
          "values": [
           "Data",
           "Meta",
           "Venda\nSIAC",
           "Venda\nLíquida",
           "Devolução",
           "%\nDev",
           "Venda\nCNPJ",
           "Clientes\nCNPJ",
           "% Dev\nCNPJ",
           "Venda\nCPF",
           "Clientes\nCPF",
           "% Dev\nCPF",
           "%\nDia",
           "%\nMês",
           "Projeção\nmensal"
          ]
         },
         "type": "table"
        }
       ],
       "layout": {
        "height": 890,
        "template": {
         "data": {
          "bar": [
           {
            "error_x": {
             "color": "#2a3f5f"
            },
            "error_y": {
             "color": "#2a3f5f"
            },
            "marker": {
             "line": {
              "color": "#E5ECF6",
              "width": 0.5
             },
             "pattern": {
              "fillmode": "overlay",
              "size": 10,
              "solidity": 0.2
             }
            },
            "type": "bar"
           }
          ],
          "barpolar": [
           {
            "marker": {
             "line": {
              "color": "#E5ECF6",
              "width": 0.5
             },
             "pattern": {
              "fillmode": "overlay",
              "size": 10,
              "solidity": 0.2
             }
            },
            "type": "barpolar"
           }
          ],
          "carpet": [
           {
            "aaxis": {
             "endlinecolor": "#2a3f5f",
             "gridcolor": "white",
             "linecolor": "white",
             "minorgridcolor": "white",
             "startlinecolor": "#2a3f5f"
            },
            "baxis": {
             "endlinecolor": "#2a3f5f",
             "gridcolor": "white",
             "linecolor": "white",
             "minorgridcolor": "white",
             "startlinecolor": "#2a3f5f"
            },
            "type": "carpet"
           }
          ],
          "choropleth": [
           {
            "colorbar": {
             "outlinewidth": 0,
             "ticks": ""
            },
            "type": "choropleth"
           }
          ],
          "contour": [
           {
            "colorbar": {
             "outlinewidth": 0,
             "ticks": ""
            },
            "colorscale": [
             [
              0,
              "#0d0887"
             ],
             [
              0.1111111111111111,
              "#46039f"
             ],
             [
              0.2222222222222222,
              "#7201a8"
             ],
             [
              0.3333333333333333,
              "#9c179e"
             ],
             [
              0.4444444444444444,
              "#bd3786"
             ],
             [
              0.5555555555555556,
              "#d8576b"
             ],
             [
              0.6666666666666666,
              "#ed7953"
             ],
             [
              0.7777777777777778,
              "#fb9f3a"
             ],
             [
              0.8888888888888888,
              "#fdca26"
             ],
             [
              1,
              "#f0f921"
             ]
            ],
            "type": "contour"
           }
          ],
          "contourcarpet": [
           {
            "colorbar": {
             "outlinewidth": 0,
             "ticks": ""
            },
            "type": "contourcarpet"
           }
          ],
          "heatmap": [
           {
            "colorbar": {
             "outlinewidth": 0,
             "ticks": ""
            },
            "colorscale": [
             [
              0,
              "#0d0887"
             ],
             [
              0.1111111111111111,
              "#46039f"
             ],
             [
              0.2222222222222222,
              "#7201a8"
             ],
             [
              0.3333333333333333,
              "#9c179e"
             ],
             [
              0.4444444444444444,
              "#bd3786"
             ],
             [
              0.5555555555555556,
              "#d8576b"
             ],
             [
              0.6666666666666666,
              "#ed7953"
             ],
             [
              0.7777777777777778,
              "#fb9f3a"
             ],
             [
              0.8888888888888888,
              "#fdca26"
             ],
             [
              1,
              "#f0f921"
             ]
            ],
            "type": "heatmap"
           }
          ],
          "heatmapgl": [
           {
            "colorbar": {
             "outlinewidth": 0,
             "ticks": ""
            },
            "colorscale": [
             [
              0,
              "#0d0887"
             ],
             [
              0.1111111111111111,
              "#46039f"
             ],
             [
              0.2222222222222222,
              "#7201a8"
             ],
             [
              0.3333333333333333,
              "#9c179e"
             ],
             [
              0.4444444444444444,
              "#bd3786"
             ],
             [
              0.5555555555555556,
              "#d8576b"
             ],
             [
              0.6666666666666666,
              "#ed7953"
             ],
             [
              0.7777777777777778,
              "#fb9f3a"
             ],
             [
              0.8888888888888888,
              "#fdca26"
             ],
             [
              1,
              "#f0f921"
             ]
            ],
            "type": "heatmapgl"
           }
          ],
          "histogram": [
           {
            "marker": {
             "pattern": {
              "fillmode": "overlay",
              "size": 10,
              "solidity": 0.2
             }
            },
            "type": "histogram"
           }
          ],
          "histogram2d": [
           {
            "colorbar": {
             "outlinewidth": 0,
             "ticks": ""
            },
            "colorscale": [
             [
              0,
              "#0d0887"
             ],
             [
              0.1111111111111111,
              "#46039f"
             ],
             [
              0.2222222222222222,
              "#7201a8"
             ],
             [
              0.3333333333333333,
              "#9c179e"
             ],
             [
              0.4444444444444444,
              "#bd3786"
             ],
             [
              0.5555555555555556,
              "#d8576b"
             ],
             [
              0.6666666666666666,
              "#ed7953"
             ],
             [
              0.7777777777777778,
              "#fb9f3a"
             ],
             [
              0.8888888888888888,
              "#fdca26"
             ],
             [
              1,
              "#f0f921"
             ]
            ],
            "type": "histogram2d"
           }
          ],
          "histogram2dcontour": [
           {
            "colorbar": {
             "outlinewidth": 0,
             "ticks": ""
            },
            "colorscale": [
             [
              0,
              "#0d0887"
             ],
             [
              0.1111111111111111,
              "#46039f"
             ],
             [
              0.2222222222222222,
              "#7201a8"
             ],
             [
              0.3333333333333333,
              "#9c179e"
             ],
             [
              0.4444444444444444,
              "#bd3786"
             ],
             [
              0.5555555555555556,
              "#d8576b"
             ],
             [
              0.6666666666666666,
              "#ed7953"
             ],
             [
              0.7777777777777778,
              "#fb9f3a"
             ],
             [
              0.8888888888888888,
              "#fdca26"
             ],
             [
              1,
              "#f0f921"
             ]
            ],
            "type": "histogram2dcontour"
           }
          ],
          "mesh3d": [
           {
            "colorbar": {
             "outlinewidth": 0,
             "ticks": ""
            },
            "type": "mesh3d"
           }
          ],
          "parcoords": [
           {
            "line": {
             "colorbar": {
              "outlinewidth": 0,
              "ticks": ""
             }
            },
            "type": "parcoords"
           }
          ],
          "pie": [
           {
            "automargin": true,
            "type": "pie"
           }
          ],
          "scatter": [
           {
            "fillpattern": {
             "fillmode": "overlay",
             "size": 10,
             "solidity": 0.2
            },
            "type": "scatter"
           }
          ],
          "scatter3d": [
           {
            "line": {
             "colorbar": {
              "outlinewidth": 0,
              "ticks": ""
             }
            },
            "marker": {
             "colorbar": {
              "outlinewidth": 0,
              "ticks": ""
             }
            },
            "type": "scatter3d"
           }
          ],
          "scattercarpet": [
           {
            "marker": {
             "colorbar": {
              "outlinewidth": 0,
              "ticks": ""
             }
            },
            "type": "scattercarpet"
           }
          ],
          "scattergeo": [
           {
            "marker": {
             "colorbar": {
              "outlinewidth": 0,
              "ticks": ""
             }
            },
            "type": "scattergeo"
           }
          ],
          "scattergl": [
           {
            "marker": {
             "colorbar": {
              "outlinewidth": 0,
              "ticks": ""
             }
            },
            "type": "scattergl"
           }
          ],
          "scattermapbox": [
           {
            "marker": {
             "colorbar": {
              "outlinewidth": 0,
              "ticks": ""
             }
            },
            "type": "scattermapbox"
           }
          ],
          "scatterpolar": [
           {
            "marker": {
             "colorbar": {
              "outlinewidth": 0,
              "ticks": ""
             }
            },
            "type": "scatterpolar"
           }
          ],
          "scatterpolargl": [
           {
            "marker": {
             "colorbar": {
              "outlinewidth": 0,
              "ticks": ""
             }
            },
            "type": "scatterpolargl"
           }
          ],
          "scatterternary": [
           {
            "marker": {
             "colorbar": {
              "outlinewidth": 0,
              "ticks": ""
             }
            },
            "type": "scatterternary"
           }
          ],
          "surface": [
           {
            "colorbar": {
             "outlinewidth": 0,
             "ticks": ""
            },
            "colorscale": [
             [
              0,
              "#0d0887"
             ],
             [
              0.1111111111111111,
              "#46039f"
             ],
             [
              0.2222222222222222,
              "#7201a8"
             ],
             [
              0.3333333333333333,
              "#9c179e"
             ],
             [
              0.4444444444444444,
              "#bd3786"
             ],
             [
              0.5555555555555556,
              "#d8576b"
             ],
             [
              0.6666666666666666,
              "#ed7953"
             ],
             [
              0.7777777777777778,
              "#fb9f3a"
             ],
             [
              0.8888888888888888,
              "#fdca26"
             ],
             [
              1,
              "#f0f921"
             ]
            ],
            "type": "surface"
           }
          ],
          "table": [
           {
            "cells": {
             "fill": {
              "color": "#EBF0F8"
             },
             "line": {
              "color": "white"
             }
            },
            "header": {
             "fill": {
              "color": "#C8D4E3"
             },
             "line": {
              "color": "white"
             }
            },
            "type": "table"
           }
          ]
         },
         "layout": {
          "annotationdefaults": {
           "arrowcolor": "#2a3f5f",
           "arrowhead": 0,
           "arrowwidth": 1
          },
          "autotypenumbers": "strict",
          "coloraxis": {
           "colorbar": {
            "outlinewidth": 0,
            "ticks": ""
           }
          },
          "colorscale": {
           "diverging": [
            [
             0,
             "#8e0152"
            ],
            [
             0.1,
             "#c51b7d"
            ],
            [
             0.2,
             "#de77ae"
            ],
            [
             0.3,
             "#f1b6da"
            ],
            [
             0.4,
             "#fde0ef"
            ],
            [
             0.5,
             "#f7f7f7"
            ],
            [
             0.6,
             "#e6f5d0"
            ],
            [
             0.7,
             "#b8e186"
            ],
            [
             0.8,
             "#7fbc41"
            ],
            [
             0.9,
             "#4d9221"
            ],
            [
             1,
             "#276419"
            ]
           ],
           "sequential": [
            [
             0,
             "#0d0887"
            ],
            [
             0.1111111111111111,
             "#46039f"
            ],
            [
             0.2222222222222222,
             "#7201a8"
            ],
            [
             0.3333333333333333,
             "#9c179e"
            ],
            [
             0.4444444444444444,
             "#bd3786"
            ],
            [
             0.5555555555555556,
             "#d8576b"
            ],
            [
             0.6666666666666666,
             "#ed7953"
            ],
            [
             0.7777777777777778,
             "#fb9f3a"
            ],
            [
             0.8888888888888888,
             "#fdca26"
            ],
            [
             1,
             "#f0f921"
            ]
           ],
           "sequentialminus": [
            [
             0,
             "#0d0887"
            ],
            [
             0.1111111111111111,
             "#46039f"
            ],
            [
             0.2222222222222222,
             "#7201a8"
            ],
            [
             0.3333333333333333,
             "#9c179e"
            ],
            [
             0.4444444444444444,
             "#bd3786"
            ],
            [
             0.5555555555555556,
             "#d8576b"
            ],
            [
             0.6666666666666666,
             "#ed7953"
            ],
            [
             0.7777777777777778,
             "#fb9f3a"
            ],
            [
             0.8888888888888888,
             "#fdca26"
            ],
            [
             1,
             "#f0f921"
            ]
           ]
          },
          "colorway": [
           "#636efa",
           "#EF553B",
           "#00cc96",
           "#ab63fa",
           "#FFA15A",
           "#19d3f3",
           "#FF6692",
           "#B6E880",
           "#FF97FF",
           "#FECB52"
          ],
          "font": {
           "color": "#2a3f5f"
          },
          "geo": {
           "bgcolor": "white",
           "lakecolor": "white",
           "landcolor": "#E5ECF6",
           "showlakes": true,
           "showland": true,
           "subunitcolor": "white"
          },
          "hoverlabel": {
           "align": "left"
          },
          "hovermode": "closest",
          "mapbox": {
           "style": "light"
          },
          "paper_bgcolor": "white",
          "plot_bgcolor": "#E5ECF6",
          "polar": {
           "angularaxis": {
            "gridcolor": "white",
            "linecolor": "white",
            "ticks": ""
           },
           "bgcolor": "#E5ECF6",
           "radialaxis": {
            "gridcolor": "white",
            "linecolor": "white",
            "ticks": ""
           }
          },
          "scene": {
           "xaxis": {
            "backgroundcolor": "#E5ECF6",
            "gridcolor": "white",
            "gridwidth": 2,
            "linecolor": "white",
            "showbackground": true,
            "ticks": "",
            "zerolinecolor": "white"
           },
           "yaxis": {
            "backgroundcolor": "#E5ECF6",
            "gridcolor": "white",
            "gridwidth": 2,
            "linecolor": "white",
            "showbackground": true,
            "ticks": "",
            "zerolinecolor": "white"
           },
           "zaxis": {
            "backgroundcolor": "#E5ECF6",
            "gridcolor": "white",
            "gridwidth": 2,
            "linecolor": "white",
            "showbackground": true,
            "ticks": "",
            "zerolinecolor": "white"
           }
          },
          "shapedefaults": {
           "line": {
            "color": "#2a3f5f"
           }
          },
          "ternary": {
           "aaxis": {
            "gridcolor": "white",
            "linecolor": "white",
            "ticks": ""
           },
           "baxis": {
            "gridcolor": "white",
            "linecolor": "white",
            "ticks": ""
           },
           "bgcolor": "#E5ECF6",
           "caxis": {
            "gridcolor": "white",
            "linecolor": "white",
            "ticks": ""
           }
          },
          "title": {
           "x": 0.05
          },
          "xaxis": {
           "automargin": true,
           "gridcolor": "white",
           "linecolor": "white",
           "ticks": "",
           "title": {
            "standoff": 15
           },
           "zerolinecolor": "white",
           "zerolinewidth": 2
          },
          "yaxis": {
           "automargin": true,
           "gridcolor": "white",
           "linecolor": "white",
           "ticks": "",
           "title": {
            "standoff": 15
           },
           "zerolinecolor": "white",
           "zerolinewidth": 2
          }
         }
        },
        "title": {
         "font": {
          "color": "#881798",
          "family": "Jost",
          "size": 24.72222222222222
         },
         "text": "◙◙◙◙◙◙◙◙◙◙ 🡆 ASA NORTE 🡄 ◙◙◙◙◙◙◙◙◙◙◙◙◙◙◙◙◙◙◙◙◙◙◙◙◙◙◙◙◙◙◙◙◙◙◙◙◙◙◙◙◙◙◙◙◙◙◙◙◙◙◙◙◙◙◙◙◙◙◙◙◙◙◙◙◙◙◙◙◙◙◙◙◙◙◙◙ ⒶⓈⒶ ⓃⓄⓇⓉⒺ ◙◙◙◙◙◙◙◙◙◙",
         "x": 0.5,
         "y": 0.95,
         "yanchor": "bottom"
        },
        "width": 2060
       }
      }
     },
     "metadata": {},
     "output_type": "display_data"
    },
    {
     "name": "stdout",
     "output_type": "stream",
     "text": [
      "TESTE 03 TABLE.png\n",
      "\n",
      "13-12-2022 PrimeiraFoto - https://chat.whatsapp.com/LK4LDajkH52BNydoLGGD2d\n",
      "13-12-2022 API - https://chat.whatsapp.com/EBLX0fxYfvuHL7jZ9CZECQ\n",
      "13-12-2022 Teste Python - https://chat.whatsapp.com/I4y7EAVfns629NvfoLUtGI\n",
      "\n",
      "• '04' CEILÂNDIA\n",
      "\n"
     ]
    },
    {
     "name": "stderr",
     "output_type": "stream",
     "text": [
      "C:\\Users\\admin\\AppData\\Local\\Temp\\ipykernel_16068\\3465617909.py:86: RuntimeWarning:\n",
      "\n",
      "divide by zero encountered in double_scalars\n",
      "\n"
     ]
    },
    {
     "data": {
      "application/vnd.plotly.v1+json": {
       "config": {
        "plotlyServerURL": "https://plot.ly"
       },
       "data": [
        {
         "cells": {
          "align": [
           "left",
           "center"
          ],
          "fill": {
           "color": [
            [
             "#FFFFFF",
             "#FFFFFF",
             "#FFFFFF",
             "#DEEFFF",
             "#DEEFFF",
             "#FFFFFF",
             "#FFFFFF",
             "#FFFFFF",
             "#FFFFFF",
             "#FFFFFF",
             "#DEEFFF",
             "#FFFFFF",
             "#F7F7F7",
             "#FFFFFF",
             "#FFFFFF",
             "#FFFFFF",
             "#FFFFFF",
             "#DEEFFF",
             "#FFFFFF",
             "#FFFFFF",
             "#FFFFFF",
             "#FFFFFF",
             "#FFFFFF",
             "#FFFFFF",
             "#DEEFFF",
             "#FFFFFF",
             "#FFFFFF",
             "#FFFFFF",
             "#FFFFFF",
             "#FFFFFF",
             "#FFFFFF",
             "#E5E5E5"
            ],
            [
             "#FFFFFF",
             "#FFFFFF",
             "#FFFFFF",
             "#DEEFFF",
             "#DEEFFF",
             "#FFFFFF",
             "#FFFFFF",
             "#FFFFFF",
             "#FFFFFF",
             "#FFFFFF",
             "#DEEFFF",
             "#FFFFFF",
             "#F7F7F7",
             "#FFFFFF",
             "#FFFFFF",
             "#FFFFFF",
             "#FFFFFF",
             "#DEEFFF",
             "#FFFFFF",
             "#FFFFFF",
             "#FFFFFF",
             "#FFFFFF",
             "#FFFFFF",
             "#FFFFFF",
             "#DEEFFF",
             "#FFFFFF",
             "#FFFFFF",
             "#FFFFFF",
             "#FFFFFF",
             "#FFFFFF",
             "#FFFFFF",
             "#E5E5E5"
            ],
            [
             "#F7F7F7",
             "#F7F7F7",
             "#F7F7F7",
             "#DEEFFF",
             "#DEEFFF",
             "#F7F7F7",
             "#F7F7F7",
             "#F7F7F7",
             "#F7F7F7",
             "#F7F7F7",
             "#DEEFFF",
             "#F7F7F7",
             "#F7F7F7",
             "#F7F7F7",
             "#F7F7F7",
             "#F7F7F7",
             "#F7F7F7",
             "#DEEFFF",
             "#F7F7F7",
             "#F7F7F7",
             "#F7F7F7",
             "#F7F7F7",
             "#F7F7F7",
             "#F7F7F7",
             "#DEEFFF",
             "#F7F7F7",
             "#F7F7F7",
             "#F7F7F7",
             "#F7F7F7",
             "#F7F7F7",
             "#F7F7F7",
             "#E5E5E5"
            ],
            [
             "#F7F7F7",
             "#F7F7F7",
             "#F7F7F7",
             "#DEEFFF",
             "#DEEFFF",
             "#F7F7F7",
             "#F7F7F7",
             "#F7F7F7",
             "#F7F7F7",
             "#F7F7F7",
             "#DEEFFF",
             "#F7F7F7",
             "#F7F7F7",
             "#F7F7F7",
             "#F7F7F7",
             "#F7F7F7",
             "#F7F7F7",
             "#DEEFFF",
             "#F7F7F7",
             "#F7F7F7",
             "#F7F7F7",
             "#F7F7F7",
             "#F7F7F7",
             "#F7F7F7",
             "#DEEFFF",
             "#F7F7F7",
             "#F7F7F7",
             "#F7F7F7",
             "#F7F7F7",
             "#F7F7F7",
             "#F7F7F7",
             "#E5E5E5"
            ],
            [
             "#FFFFFF",
             "#FFFFFF",
             "#FFFFFF",
             "#DEEFFF",
             "#DEEFFF",
             "#FFFFFF",
             "#FFFFFF",
             "#FFFFFF",
             "#FFFFFF",
             "#FFFFFF",
             "#DEEFFF",
             "#FFFFFF",
             "#F7F7F7",
             "#FFFFFF",
             "#FFFFFF",
             "#FFFFFF",
             "#FFFFFF",
             "#DEEFFF",
             "#FFFFFF",
             "#FFFFFF",
             "#FFFFFF",
             "#FFFFFF",
             "#FFFFFF",
             "#FFFFFF",
             "#DEEFFF",
             "#FFFFFF",
             "#FFFFFF",
             "#FFFFFF",
             "#FFFFFF",
             "#FFFFFF",
             "#FFFFFF",
             "#E5E5E5"
            ],
            [
             "#FFFFFF",
             "#FFFFFF",
             "#FFFFFF",
             "#DEEFFF",
             "#DEEFFF",
             "#FFFFFF",
             "#FFFFFF",
             "#FFFFFF",
             "#FFFFFF",
             "#FFFFFF",
             "#DEEFFF",
             "#FFFFFF",
             "#F7F7F7",
             "#FFFFFF",
             "#FFFFFF",
             "#FFFFFF",
             "#FFFFFF",
             "#DEEFFF",
             "#FFFFFF",
             "#FFFFFF",
             "#FFFFFF",
             "#FFFFFF",
             "#FFFFFF",
             "#FFFFFF",
             "#DEEFFF",
             "#FFFFFF",
             "#FFFFFF",
             "#FFFFFF",
             "#FFFFFF",
             "#FFFFFF",
             "#FFFFFF",
             "#E5E5E5"
            ],
            [
             "#F7F7F7",
             "#F7F7F7",
             "#F7F7F7",
             "#DEEFFF",
             "#DEEFFF",
             "#F7F7F7",
             "#F7F7F7",
             "#F7F7F7",
             "#F7F7F7",
             "#F7F7F7",
             "#DEEFFF",
             "#F7F7F7",
             "#F7F7F7",
             "#F7F7F7",
             "#F7F7F7",
             "#F7F7F7",
             "#F7F7F7",
             "#DEEFFF",
             "#F7F7F7",
             "#F7F7F7",
             "#F7F7F7",
             "#F7F7F7",
             "#F7F7F7",
             "#F7F7F7",
             "#DEEFFF",
             "#F7F7F7",
             "#F7F7F7",
             "#F7F7F7",
             "#F7F7F7",
             "#F7F7F7",
             "#F7F7F7",
             "#E5E5E5"
            ],
            [
             "#FFFFFF",
             "#FFFFFF",
             "#FFFFFF",
             "#DEEFFF",
             "#DEEFFF",
             "#FFFFFF",
             "#FFFFFF",
             "#FFFFFF",
             "#FFFFFF",
             "#FFFFFF",
             "#DEEFFF",
             "#FFFFFF",
             "#F7F7F7",
             "#FFFFFF",
             "#FFFFFF",
             "#FFFFFF",
             "#FFFFFF",
             "#DEEFFF",
             "#FFFFFF",
             "#FFFFFF",
             "#FFFFFF",
             "#FFFFFF",
             "#FFFFFF",
             "#FFFFFF",
             "#DEEFFF",
             "#FFFFFF",
             "#FFFFFF",
             "#FFFFFF",
             "#FFFFFF",
             "#FFFFFF",
             "#FFFFFF",
             "#E5E5E5"
            ],
            [
             "#FFFFFF",
             "#FFFFFF",
             "#FFFFFF",
             "#DEEFFF",
             "#DEEFFF",
             "#FFFFFF",
             "#FFFFFF",
             "#FFFFFF",
             "#FFFFFF",
             "#FFFFFF",
             "#DEEFFF",
             "#FFFFFF",
             "#F7F7F7",
             "#FFFFFF",
             "#FFFFFF",
             "#FFFFFF",
             "#FFFFFF",
             "#DEEFFF",
             "#FFFFFF",
             "#FFFFFF",
             "#FFFFFF",
             "#FFFFFF",
             "#FFFFFF",
             "#FFFFFF",
             "#DEEFFF",
             "#FFFFFF",
             "#FFFFFF",
             "#FFFFFF",
             "#FFFFFF",
             "#FFFFFF",
             "#FFFFFF",
             "#E5E5E5"
            ],
            [
             "#F7F7F7",
             "#F7F7F7",
             "#F7F7F7",
             "#DEEFFF",
             "#DEEFFF",
             "#F7F7F7",
             "#F7F7F7",
             "#F7F7F7",
             "#F7F7F7",
             "#F7F7F7",
             "#DEEFFF",
             "#F7F7F7",
             "#F7F7F7",
             "#F7F7F7",
             "#F7F7F7",
             "#F7F7F7",
             "#F7F7F7",
             "#DEEFFF",
             "#F7F7F7",
             "#F7F7F7",
             "#F7F7F7",
             "#F7F7F7",
             "#F7F7F7",
             "#F7F7F7",
             "#DEEFFF",
             "#F7F7F7",
             "#F7F7F7",
             "#F7F7F7",
             "#F7F7F7",
             "#F7F7F7",
             "#F7F7F7",
             "#E5E5E5"
            ],
            [
             "#FFFFFF",
             "#FFFFFF",
             "#FFFFFF",
             "#DEEFFF",
             "#DEEFFF",
             "#FFFFFF",
             "#FFFFFF",
             "#FFFFFF",
             "#FFFFFF",
             "#FFFFFF",
             "#DEEFFF",
             "#FFFFFF",
             "#F7F7F7",
             "#FFFFFF",
             "#FFFFFF",
             "#FFFFFF",
             "#FFFFFF",
             "#DEEFFF",
             "#FFFFFF",
             "#FFFFFF",
             "#FFFFFF",
             "#FFFFFF",
             "#FFFFFF",
             "#FFFFFF",
             "#DEEFFF",
             "#FFFFFF",
             "#FFFFFF",
             "#FFFFFF",
             "#FFFFFF",
             "#FFFFFF",
             "#FFFFFF",
             "#E5E5E5"
            ],
            [
             "#FFFFFF",
             "#FFFFFF",
             "#FFFFFF",
             "#DEEFFF",
             "#DEEFFF",
             "#FFFFFF",
             "#FFFFFF",
             "#FFFFFF",
             "#FFFFFF",
             "#FFFFFF",
             "#DEEFFF",
             "#FFFFFF",
             "#F7F7F7",
             "#FFFFFF",
             "#FFFFFF",
             "#FFFFFF",
             "#FFFFFF",
             "#DEEFFF",
             "#FFFFFF",
             "#FFFFFF",
             "#FFFFFF",
             "#FFFFFF",
             "#FFFFFF",
             "#FFFFFF",
             "#DEEFFF",
             "#FFFFFF",
             "#FFFFFF",
             "#FFFFFF",
             "#FFFFFF",
             "#FFFFFF",
             "#FFFFFF",
             "#E5E5E5"
            ],
            [
             "#FFFFFF",
             "#FFFFFF",
             "#FFFFFF",
             "#DEEFFF",
             "#DEEFFF",
             "#FFFFFF",
             "#FFFFFF",
             "#FFFFFF",
             "#FFFFFF",
             "#FFFFFF",
             "#DEEFFF",
             "#FFFFFF",
             "#F7F7F7",
             "#FFFFFF",
             "#FFFFFF",
             "#FFFFFF",
             "#FFFFFF",
             "#DEEFFF",
             "#FFFFFF",
             "#FFFFFF",
             "#FFFFFF",
             "#FFFFFF",
             "#FFFFFF",
             "#FFFFFF",
             "#DEEFFF",
             "#FFFFFF",
             "#FFFFFF",
             "#FFFFFF",
             "#FFFFFF",
             "#FFFFFF",
             "#FFFFFF",
             "#E5E5E5"
            ],
            [
             "#FFFFFF",
             "#FFFFFF",
             "#FFFFFF",
             "#DEEFFF",
             "#DEEFFF",
             "#FFFFFF",
             "#FFFFFF",
             "#FFFFFF",
             "#FFFFFF",
             "#FFFFFF",
             "#DEEFFF",
             "#FFFFFF",
             "#F7F7F7",
             "#FFFFFF",
             "#FFFFFF",
             "#FFFFFF",
             "#FFFFFF",
             "#DEEFFF",
             "#FFFFFF",
             "#FFFFFF",
             "#FFFFFF",
             "#FFFFFF",
             "#FFFFFF",
             "#FFFFFF",
             "#DEEFFF",
             "#FFFFFF",
             "#FFFFFF",
             "#FFFFFF",
             "#FFFFFF",
             "#FFFFFF",
             "#FFFFFF",
             "#E5E5E5"
            ],
            [
             "#FFFFFF",
             "#FFFFFF",
             "#FFFFFF",
             "#DEEFFF",
             "#DEEFFF",
             "#FFFFFF",
             "#FFFFFF",
             "#FFFFFF",
             "#FFFFFF",
             "#FFFFFF",
             "#DEEFFF",
             "#FFFFFF",
             "#F7F7F7",
             "#FFFFFF",
             "#FFFFFF",
             "#FFFFFF",
             "#FFFFFF",
             "#DEEFFF",
             "#FFFFFF",
             "#FFFFFF",
             "#FFFFFF",
             "#FFFFFF",
             "#FFFFFF",
             "#FFFFFF",
             "#DEEFFF",
             "#FFFFFF",
             "#FFFFFF",
             "#FFFFFF",
             "#FFFFFF",
             "#FFFFFF",
             "#FFFFFF",
             "#E5E5E5"
            ],
            [
             "#FFFFFF",
             "#FFFFFF",
             "#FFFFFF",
             "#DEEFFF",
             "#DEEFFF",
             "#FFFFFF",
             "#FFFFFF",
             "#FFFFFF",
             "#FFFFFF",
             "#FFFFFF",
             "#DEEFFF",
             "#FFFFFF",
             "#F7F7F7",
             "#FFFFFF",
             "#FFFFFF",
             "#FFFFFF",
             "#FFFFFF",
             "#DEEFFF",
             "#FFFFFF",
             "#FFFFFF",
             "#FFFFFF",
             "#FFFFFF",
             "#FFFFFF",
             "#FFFFFF",
             "#DEEFFF",
             "#FFFFFF",
             "#FFFFFF",
             "#FFFFFF",
             "#FFFFFF",
             "#FFFFFF",
             "#FFFFFF",
             "#E5E5E5"
            ],
            [
             "#FFFFFF",
             "#FFFFFF",
             "#FFFFFF",
             "#DEEFFF",
             "#DEEFFF",
             "#FFFFFF",
             "#FFFFFF",
             "#FFFFFF",
             "#FFFFFF",
             "#FFFFFF",
             "#DEEFFF",
             "#FFFFFF",
             "#F7F7F7",
             "#FFFFFF",
             "#FFFFFF",
             "#FFFFFF",
             "#FFFFFF",
             "#DEEFFF",
             "#FFFFFF",
             "#FFFFFF",
             "#FFFFFF",
             "#FFFFFF",
             "#FFFFFF",
             "#FFFFFF",
             "#DEEFFF",
             "#FFFFFF",
             "#FFFFFF",
             "#FFFFFF",
             "#FFFFFF",
             "#FFFFFF",
             "#FFFFFF",
             "#E5E5E5"
            ],
            [
             "#FFFFFF",
             "#FFFFFF",
             "#FFFFFF",
             "#DEEFFF",
             "#DEEFFF",
             "#FFFFFF",
             "#FFFFFF",
             "#FFFFFF",
             "#FFFFFF",
             "#FFFFFF",
             "#DEEFFF",
             "#FFFFFF",
             "#F7F7F7",
             "#FFFFFF",
             "#FFFFFF",
             "#FFFFFF",
             "#FFFFFF",
             "#DEEFFF",
             "#FFFFFF",
             "#FFFFFF",
             "#FFFFFF",
             "#FFFFFF",
             "#FFFFFF",
             "#FFFFFF",
             "#DEEFFF",
             "#FFFFFF",
             "#FFFFFF",
             "#FFFFFF",
             "#FFFFFF",
             "#FFFFFF",
             "#FFFFFF",
             "#E5E5E5"
            ],
            [
             "#FFFFFF",
             "#FFFFFF",
             "#FFFFFF",
             "#DEEFFF",
             "#DEEFFF",
             "#FFFFFF",
             "#FFFFFF",
             "#FFFFFF",
             "#FFFFFF",
             "#FFFFFF",
             "#DEEFFF",
             "#FFFFFF",
             "#F7F7F7",
             "#FFFFFF",
             "#FFFFFF",
             "#FFFFFF",
             "#FFFFFF",
             "#DEEFFF",
             "#FFFFFF",
             "#FFFFFF",
             "#FFFFFF",
             "#FFFFFF",
             "#FFFFFF",
             "#FFFFFF",
             "#DEEFFF",
             "#FFFFFF",
             "#FFFFFF",
             "#FFFFFF",
             "#FFFFFF",
             "#FFFFFF",
             "#FFFFFF",
             "#E5E5E5"
            ],
            [
             "#FFFFFF",
             "#FFFFFF",
             "#FFFFFF",
             "#DEEFFF",
             "#DEEFFF",
             "#FFFFFF",
             "#FFFFFF",
             "#FFFFFF",
             "#FFFFFF",
             "#FFFFFF",
             "#DEEFFF",
             "#FFFFFF",
             "#F7F7F7",
             "#FFFFFF",
             "#FFFFFF",
             "#FFFFFF",
             "#FFFFFF",
             "#DEEFFF",
             "#FFFFFF",
             "#FFFFFF",
             "#FFFFFF",
             "#FFFFFF",
             "#FFFFFF",
             "#FFFFFF",
             "#DEEFFF",
             "#FFFFFF",
             "#FFFFFF",
             "#FFFFFF",
             "#FFFFFF",
             "#FFFFFF",
             "#FFFFFF",
             "#E5E5E5"
            ],
            [
             "#FFFFFF",
             "#FFFFFF",
             "#FFFFFF",
             "#DEEFFF",
             "#DEEFFF",
             "#FFFFFF",
             "#FFFFFF",
             "#FFFFFF",
             "#FFFFFF",
             "#FFFFFF",
             "#DEEFFF",
             "#FFFFFF",
             "#F7F7F7",
             "#FFFFFF",
             "#FFFFFF",
             "#FFFFFF",
             "#FFFFFF",
             "#DEEFFF",
             "#FFFFFF",
             "#FFFFFF",
             "#FFFFFF",
             "#FFFFFF",
             "#FFFFFF",
             "#FFFFFF",
             "#DEEFFF",
             "#FFFFFF",
             "#FFFFFF",
             "#FFFFFF",
             "#FFFFFF",
             "#FFFFFF",
             "#FFFFFF",
             "#E5E5E5"
            ],
            [
             "#FFFFFF",
             "#FFFFFF",
             "#FFFFFF",
             "#DEEFFF",
             "#DEEFFF",
             "#FFFFFF",
             "#FFFFFF",
             "#FFFFFF",
             "#FFFFFF",
             "#FFFFFF",
             "#DEEFFF",
             "#FFFFFF",
             "#F7F7F7",
             "#FFFFFF",
             "#FFFFFF",
             "#FFFFFF",
             "#FFFFFF",
             "#DEEFFF",
             "#FFFFFF",
             "#FFFFFF",
             "#FFFFFF",
             "#FFFFFF",
             "#FFFFFF",
             "#FFFFFF",
             "#DEEFFF",
             "#FFFFFF",
             "#FFFFFF",
             "#FFFFFF",
             "#FFFFFF",
             "#FFFFFF",
             "#FFFFFF",
             "#E5E5E5"
            ]
           ]
          },
          "font": {
           "color": [
            "#000000",
            "#000000",
            "#118DFF",
            "#000000",
            "#FF0000",
            "#FF0000",
            "#E04392",
            "#000000",
            "#FF0000",
            "#E04392",
            "#000000",
            "#FF0000",
            [
             "#FF0000",
             "#FF0000",
             "#00B050",
             "#DEEFFF",
             "#DEEFFF",
             "#00B050",
             "#00B050",
             "#00B050",
             "#FF0000",
             "#00B050",
             "#DEEFFF",
             "#00B050",
             "#FF0000",
             "#FFFFFF",
             "#FFFFFF",
             "#FFFFFF",
             "#FFFFFF",
             "#DEEFFF",
             "#FFFFFF",
             "#FFFFFF",
             "#FFFFFF",
             "#FFFFFF",
             "#FFFFFF",
             "#FFFFFF",
             "#DEEFFF",
             "#FFFFFF",
             "#FFFFFF",
             "#FFFFFF",
             "#FFFFFF",
             "#FFFFFF",
             "#FFFFFF",
             "#E5E5E5"
            ],
            [
             "#FF0000",
             "#FF0000",
             "#FF0000",
             "#DEEFFF",
             "#DEEFFF",
             "#00B050",
             "#00B050",
             "#00B050",
             "#00B050",
             "#00B050",
             "#DEEFFF",
             "#00B050",
             "#FFC000",
             "#FFFFFF",
             "#FFFFFF",
             "#FFFFFF",
             "#FFFFFF",
             "#DEEFFF",
             "#FFFFFF",
             "#FFFFFF",
             "#FFFFFF",
             "#FFFFFF",
             "#FFFFFF",
             "#FFFFFF",
             "#DEEFFF",
             "#FFFFFF",
             "#FFFFFF",
             "#FFFFFF",
             "#FFFFFF",
             "#FFFFFF",
             "#FFFFFF",
             "#E5E5E5"
            ],
            [
             "#000000",
             "#000000",
             "#000000",
             "#DEEFFF",
             "#DEEFFF",
             "#000000",
             "#000000",
             "#000000",
             "#000000",
             "#000000",
             "#DEEFFF",
             "#000000",
             "#000000",
             "#FFFFFF",
             "#FFFFFF",
             "#FFFFFF",
             "#FFFFFF",
             "#DEEFFF",
             "#FFFFFF",
             "#FFFFFF",
             "#FFFFFF",
             "#FFFFFF",
             "#FFFFFF",
             "#FFFFFF",
             "#DEEFFF",
             "#FFFFFF",
             "#FFFFFF",
             "#FFFFFF",
             "#FFFFFF",
             "#FFFFFF",
             "#FFFFFF",
             "#118DFF"
            ]
           ],
           "family": "Segoe UI Semibold",
           "size": 13.185185185185185
          },
          "line": {
           "color": [
            [
             "#FFFFFF",
             "#FFFFFF",
             "#FFFFFF",
             "#DEEFFF",
             "#DEEFFF",
             "#FFFFFF",
             "#FFFFFF",
             "#FFFFFF",
             "#FFFFFF",
             "#FFFFFF",
             "#DEEFFF",
             "#FFFFFF",
             "#F7F7F7",
             "#FFFFFF",
             "#FFFFFF",
             "#FFFFFF",
             "#FFFFFF",
             "#DEEFFF",
             "#FFFFFF",
             "#FFFFFF",
             "#FFFFFF",
             "#FFFFFF",
             "#FFFFFF",
             "#FFFFFF",
             "#DEEFFF",
             "#FFFFFF",
             "#FFFFFF",
             "#FFFFFF",
             "#FFFFFF",
             "#FFFFFF",
             "#FFFFFF",
             "#E5E5E5"
            ],
            [
             "#FFFFFF",
             "#FFFFFF",
             "#FFFFFF",
             "#DEEFFF",
             "#DEEFFF",
             "#FFFFFF",
             "#FFFFFF",
             "#FFFFFF",
             "#FFFFFF",
             "#FFFFFF",
             "#DEEFFF",
             "#FFFFFF",
             "#F7F7F7",
             "#FFFFFF",
             "#FFFFFF",
             "#FFFFFF",
             "#FFFFFF",
             "#DEEFFF",
             "#FFFFFF",
             "#FFFFFF",
             "#FFFFFF",
             "#FFFFFF",
             "#FFFFFF",
             "#FFFFFF",
             "#DEEFFF",
             "#FFFFFF",
             "#FFFFFF",
             "#FFFFFF",
             "#FFFFFF",
             "#FFFFFF",
             "#FFFFFF",
             "#E5E5E5"
            ],
            [
             "#F7F7F7",
             "#F7F7F7",
             "#F7F7F7",
             "#DEEFFF",
             "#DEEFFF",
             "#F7F7F7",
             "#F7F7F7",
             "#F7F7F7",
             "#F7F7F7",
             "#F7F7F7",
             "#DEEFFF",
             "#F7F7F7",
             "#F7F7F7",
             "#F7F7F7",
             "#F7F7F7",
             "#F7F7F7",
             "#F7F7F7",
             "#DEEFFF",
             "#F7F7F7",
             "#F7F7F7",
             "#F7F7F7",
             "#F7F7F7",
             "#F7F7F7",
             "#F7F7F7",
             "#DEEFFF",
             "#F7F7F7",
             "#F7F7F7",
             "#F7F7F7",
             "#F7F7F7",
             "#F7F7F7",
             "#F7F7F7",
             "#E5E5E5"
            ],
            [
             "#F7F7F7",
             "#F7F7F7",
             "#F7F7F7",
             "#DEEFFF",
             "#DEEFFF",
             "#F7F7F7",
             "#F7F7F7",
             "#F7F7F7",
             "#F7F7F7",
             "#F7F7F7",
             "#DEEFFF",
             "#F7F7F7",
             "#F7F7F7",
             "#F7F7F7",
             "#F7F7F7",
             "#F7F7F7",
             "#F7F7F7",
             "#DEEFFF",
             "#F7F7F7",
             "#F7F7F7",
             "#F7F7F7",
             "#F7F7F7",
             "#F7F7F7",
             "#F7F7F7",
             "#DEEFFF",
             "#F7F7F7",
             "#F7F7F7",
             "#F7F7F7",
             "#F7F7F7",
             "#F7F7F7",
             "#F7F7F7",
             "#E5E5E5"
            ],
            [
             "#FFFFFF",
             "#FFFFFF",
             "#FFFFFF",
             "#DEEFFF",
             "#DEEFFF",
             "#FFFFFF",
             "#FFFFFF",
             "#FFFFFF",
             "#FFFFFF",
             "#FFFFFF",
             "#DEEFFF",
             "#FFFFFF",
             "#F7F7F7",
             "#FFFFFF",
             "#FFFFFF",
             "#FFFFFF",
             "#FFFFFF",
             "#DEEFFF",
             "#FFFFFF",
             "#FFFFFF",
             "#FFFFFF",
             "#FFFFFF",
             "#FFFFFF",
             "#FFFFFF",
             "#DEEFFF",
             "#FFFFFF",
             "#FFFFFF",
             "#FFFFFF",
             "#FFFFFF",
             "#FFFFFF",
             "#FFFFFF",
             "#E5E5E5"
            ],
            [
             "#FFFFFF",
             "#FFFFFF",
             "#FFFFFF",
             "#DEEFFF",
             "#DEEFFF",
             "#FFFFFF",
             "#FFFFFF",
             "#FFFFFF",
             "#FFFFFF",
             "#FFFFFF",
             "#DEEFFF",
             "#FFFFFF",
             "#F7F7F7",
             "#FFFFFF",
             "#FFFFFF",
             "#FFFFFF",
             "#FFFFFF",
             "#DEEFFF",
             "#FFFFFF",
             "#FFFFFF",
             "#FFFFFF",
             "#FFFFFF",
             "#FFFFFF",
             "#FFFFFF",
             "#DEEFFF",
             "#FFFFFF",
             "#FFFFFF",
             "#FFFFFF",
             "#FFFFFF",
             "#FFFFFF",
             "#FFFFFF",
             "#E5E5E5"
            ],
            [
             "#F7F7F7",
             "#F7F7F7",
             "#F7F7F7",
             "#DEEFFF",
             "#DEEFFF",
             "#F7F7F7",
             "#F7F7F7",
             "#F7F7F7",
             "#F7F7F7",
             "#F7F7F7",
             "#DEEFFF",
             "#F7F7F7",
             "#F7F7F7",
             "#F7F7F7",
             "#F7F7F7",
             "#F7F7F7",
             "#F7F7F7",
             "#DEEFFF",
             "#F7F7F7",
             "#F7F7F7",
             "#F7F7F7",
             "#F7F7F7",
             "#F7F7F7",
             "#F7F7F7",
             "#DEEFFF",
             "#F7F7F7",
             "#F7F7F7",
             "#F7F7F7",
             "#F7F7F7",
             "#F7F7F7",
             "#F7F7F7",
             "#E5E5E5"
            ],
            [
             "#FFFFFF",
             "#FFFFFF",
             "#FFFFFF",
             "#DEEFFF",
             "#DEEFFF",
             "#FFFFFF",
             "#FFFFFF",
             "#FFFFFF",
             "#FFFFFF",
             "#FFFFFF",
             "#DEEFFF",
             "#FFFFFF",
             "#F7F7F7",
             "#FFFFFF",
             "#FFFFFF",
             "#FFFFFF",
             "#FFFFFF",
             "#DEEFFF",
             "#FFFFFF",
             "#FFFFFF",
             "#FFFFFF",
             "#FFFFFF",
             "#FFFFFF",
             "#FFFFFF",
             "#DEEFFF",
             "#FFFFFF",
             "#FFFFFF",
             "#FFFFFF",
             "#FFFFFF",
             "#FFFFFF",
             "#FFFFFF",
             "#E5E5E5"
            ],
            [
             "#FFFFFF",
             "#FFFFFF",
             "#FFFFFF",
             "#DEEFFF",
             "#DEEFFF",
             "#FFFFFF",
             "#FFFFFF",
             "#FFFFFF",
             "#FFFFFF",
             "#FFFFFF",
             "#DEEFFF",
             "#FFFFFF",
             "#F7F7F7",
             "#FFFFFF",
             "#FFFFFF",
             "#FFFFFF",
             "#FFFFFF",
             "#DEEFFF",
             "#FFFFFF",
             "#FFFFFF",
             "#FFFFFF",
             "#FFFFFF",
             "#FFFFFF",
             "#FFFFFF",
             "#DEEFFF",
             "#FFFFFF",
             "#FFFFFF",
             "#FFFFFF",
             "#FFFFFF",
             "#FFFFFF",
             "#FFFFFF",
             "#E5E5E5"
            ],
            [
             "#F7F7F7",
             "#F7F7F7",
             "#F7F7F7",
             "#DEEFFF",
             "#DEEFFF",
             "#F7F7F7",
             "#F7F7F7",
             "#F7F7F7",
             "#F7F7F7",
             "#F7F7F7",
             "#DEEFFF",
             "#F7F7F7",
             "#F7F7F7",
             "#F7F7F7",
             "#F7F7F7",
             "#F7F7F7",
             "#F7F7F7",
             "#DEEFFF",
             "#F7F7F7",
             "#F7F7F7",
             "#F7F7F7",
             "#F7F7F7",
             "#F7F7F7",
             "#F7F7F7",
             "#DEEFFF",
             "#F7F7F7",
             "#F7F7F7",
             "#F7F7F7",
             "#F7F7F7",
             "#F7F7F7",
             "#F7F7F7",
             "#E5E5E5"
            ],
            [
             "#FFFFFF",
             "#FFFFFF",
             "#FFFFFF",
             "#DEEFFF",
             "#DEEFFF",
             "#FFFFFF",
             "#FFFFFF",
             "#FFFFFF",
             "#FFFFFF",
             "#FFFFFF",
             "#DEEFFF",
             "#FFFFFF",
             "#F7F7F7",
             "#FFFFFF",
             "#FFFFFF",
             "#FFFFFF",
             "#FFFFFF",
             "#DEEFFF",
             "#FFFFFF",
             "#FFFFFF",
             "#FFFFFF",
             "#FFFFFF",
             "#FFFFFF",
             "#FFFFFF",
             "#DEEFFF",
             "#FFFFFF",
             "#FFFFFF",
             "#FFFFFF",
             "#FFFFFF",
             "#FFFFFF",
             "#FFFFFF",
             "#E5E5E5"
            ],
            [
             "#FFFFFF",
             "#FFFFFF",
             "#FFFFFF",
             "#DEEFFF",
             "#DEEFFF",
             "#FFFFFF",
             "#FFFFFF",
             "#FFFFFF",
             "#FFFFFF",
             "#FFFFFF",
             "#DEEFFF",
             "#FFFFFF",
             "#F7F7F7",
             "#FFFFFF",
             "#FFFFFF",
             "#FFFFFF",
             "#FFFFFF",
             "#DEEFFF",
             "#FFFFFF",
             "#FFFFFF",
             "#FFFFFF",
             "#FFFFFF",
             "#FFFFFF",
             "#FFFFFF",
             "#DEEFFF",
             "#FFFFFF",
             "#FFFFFF",
             "#FFFFFF",
             "#FFFFFF",
             "#FFFFFF",
             "#FFFFFF",
             "#E5E5E5"
            ],
            [
             "#FFFFFF",
             "#FFFFFF",
             "#FFFFFF",
             "#DEEFFF",
             "#DEEFFF",
             "#FFFFFF",
             "#FFFFFF",
             "#FFFFFF",
             "#FFFFFF",
             "#FFFFFF",
             "#DEEFFF",
             "#FFFFFF",
             "#F7F7F7",
             "#FFFFFF",
             "#FFFFFF",
             "#FFFFFF",
             "#FFFFFF",
             "#DEEFFF",
             "#FFFFFF",
             "#FFFFFF",
             "#FFFFFF",
             "#FFFFFF",
             "#FFFFFF",
             "#FFFFFF",
             "#DEEFFF",
             "#FFFFFF",
             "#FFFFFF",
             "#FFFFFF",
             "#FFFFFF",
             "#FFFFFF",
             "#FFFFFF",
             "#E5E5E5"
            ],
            [
             "#FFFFFF",
             "#FFFFFF",
             "#FFFFFF",
             "#DEEFFF",
             "#DEEFFF",
             "#FFFFFF",
             "#FFFFFF",
             "#FFFFFF",
             "#FFFFFF",
             "#FFFFFF",
             "#DEEFFF",
             "#FFFFFF",
             "#F7F7F7",
             "#FFFFFF",
             "#FFFFFF",
             "#FFFFFF",
             "#FFFFFF",
             "#DEEFFF",
             "#FFFFFF",
             "#FFFFFF",
             "#FFFFFF",
             "#FFFFFF",
             "#FFFFFF",
             "#FFFFFF",
             "#DEEFFF",
             "#FFFFFF",
             "#FFFFFF",
             "#FFFFFF",
             "#FFFFFF",
             "#FFFFFF",
             "#FFFFFF",
             "#E5E5E5"
            ],
            [
             "#FFFFFF",
             "#FFFFFF",
             "#FFFFFF",
             "#DEEFFF",
             "#DEEFFF",
             "#FFFFFF",
             "#FFFFFF",
             "#FFFFFF",
             "#FFFFFF",
             "#FFFFFF",
             "#DEEFFF",
             "#FFFFFF",
             "#F7F7F7",
             "#FFFFFF",
             "#FFFFFF",
             "#FFFFFF",
             "#FFFFFF",
             "#DEEFFF",
             "#FFFFFF",
             "#FFFFFF",
             "#FFFFFF",
             "#FFFFFF",
             "#FFFFFF",
             "#FFFFFF",
             "#DEEFFF",
             "#FFFFFF",
             "#FFFFFF",
             "#FFFFFF",
             "#FFFFFF",
             "#FFFFFF",
             "#FFFFFF",
             "#E5E5E5"
            ],
            [
             "#FFFFFF",
             "#FFFFFF",
             "#FFFFFF",
             "#DEEFFF",
             "#DEEFFF",
             "#FFFFFF",
             "#FFFFFF",
             "#FFFFFF",
             "#FFFFFF",
             "#FFFFFF",
             "#DEEFFF",
             "#FFFFFF",
             "#F7F7F7",
             "#FFFFFF",
             "#FFFFFF",
             "#FFFFFF",
             "#FFFFFF",
             "#DEEFFF",
             "#FFFFFF",
             "#FFFFFF",
             "#FFFFFF",
             "#FFFFFF",
             "#FFFFFF",
             "#FFFFFF",
             "#DEEFFF",
             "#FFFFFF",
             "#FFFFFF",
             "#FFFFFF",
             "#FFFFFF",
             "#FFFFFF",
             "#FFFFFF",
             "#E5E5E5"
            ],
            [
             "#FFFFFF",
             "#FFFFFF",
             "#FFFFFF",
             "#DEEFFF",
             "#DEEFFF",
             "#FFFFFF",
             "#FFFFFF",
             "#FFFFFF",
             "#FFFFFF",
             "#FFFFFF",
             "#DEEFFF",
             "#FFFFFF",
             "#F7F7F7",
             "#FFFFFF",
             "#FFFFFF",
             "#FFFFFF",
             "#FFFFFF",
             "#DEEFFF",
             "#FFFFFF",
             "#FFFFFF",
             "#FFFFFF",
             "#FFFFFF",
             "#FFFFFF",
             "#FFFFFF",
             "#DEEFFF",
             "#FFFFFF",
             "#FFFFFF",
             "#FFFFFF",
             "#FFFFFF",
             "#FFFFFF",
             "#FFFFFF",
             "#E5E5E5"
            ],
            [
             "#FFFFFF",
             "#FFFFFF",
             "#FFFFFF",
             "#DEEFFF",
             "#DEEFFF",
             "#FFFFFF",
             "#FFFFFF",
             "#FFFFFF",
             "#FFFFFF",
             "#FFFFFF",
             "#DEEFFF",
             "#FFFFFF",
             "#F7F7F7",
             "#FFFFFF",
             "#FFFFFF",
             "#FFFFFF",
             "#FFFFFF",
             "#DEEFFF",
             "#FFFFFF",
             "#FFFFFF",
             "#FFFFFF",
             "#FFFFFF",
             "#FFFFFF",
             "#FFFFFF",
             "#DEEFFF",
             "#FFFFFF",
             "#FFFFFF",
             "#FFFFFF",
             "#FFFFFF",
             "#FFFFFF",
             "#FFFFFF",
             "#E5E5E5"
            ],
            [
             "#FFFFFF",
             "#FFFFFF",
             "#FFFFFF",
             "#DEEFFF",
             "#DEEFFF",
             "#FFFFFF",
             "#FFFFFF",
             "#FFFFFF",
             "#FFFFFF",
             "#FFFFFF",
             "#DEEFFF",
             "#FFFFFF",
             "#F7F7F7",
             "#FFFFFF",
             "#FFFFFF",
             "#FFFFFF",
             "#FFFFFF",
             "#DEEFFF",
             "#FFFFFF",
             "#FFFFFF",
             "#FFFFFF",
             "#FFFFFF",
             "#FFFFFF",
             "#FFFFFF",
             "#DEEFFF",
             "#FFFFFF",
             "#FFFFFF",
             "#FFFFFF",
             "#FFFFFF",
             "#FFFFFF",
             "#FFFFFF",
             "#E5E5E5"
            ],
            [
             "#FFFFFF",
             "#FFFFFF",
             "#FFFFFF",
             "#DEEFFF",
             "#DEEFFF",
             "#FFFFFF",
             "#FFFFFF",
             "#FFFFFF",
             "#FFFFFF",
             "#FFFFFF",
             "#DEEFFF",
             "#FFFFFF",
             "#F7F7F7",
             "#FFFFFF",
             "#FFFFFF",
             "#FFFFFF",
             "#FFFFFF",
             "#DEEFFF",
             "#FFFFFF",
             "#FFFFFF",
             "#FFFFFF",
             "#FFFFFF",
             "#FFFFFF",
             "#FFFFFF",
             "#DEEFFF",
             "#FFFFFF",
             "#FFFFFF",
             "#FFFFFF",
             "#FFFFFF",
             "#FFFFFF",
             "#FFFFFF",
             "#E5E5E5"
            ],
            [
             "#FFFFFF",
             "#FFFFFF",
             "#FFFFFF",
             "#DEEFFF",
             "#DEEFFF",
             "#FFFFFF",
             "#FFFFFF",
             "#FFFFFF",
             "#FFFFFF",
             "#FFFFFF",
             "#DEEFFF",
             "#FFFFFF",
             "#F7F7F7",
             "#FFFFFF",
             "#FFFFFF",
             "#FFFFFF",
             "#FFFFFF",
             "#DEEFFF",
             "#FFFFFF",
             "#FFFFFF",
             "#FFFFFF",
             "#FFFFFF",
             "#FFFFFF",
             "#FFFFFF",
             "#DEEFFF",
             "#FFFFFF",
             "#FFFFFF",
             "#FFFFFF",
             "#FFFFFF",
             "#FFFFFF",
             "#FFFFFF",
             "#E5E5E5"
            ],
            [
             "#FFFFFF",
             "#FFFFFF",
             "#FFFFFF",
             "#DEEFFF",
             "#DEEFFF",
             "#FFFFFF",
             "#FFFFFF",
             "#FFFFFF",
             "#FFFFFF",
             "#FFFFFF",
             "#DEEFFF",
             "#FFFFFF",
             "#F7F7F7",
             "#FFFFFF",
             "#FFFFFF",
             "#FFFFFF",
             "#FFFFFF",
             "#DEEFFF",
             "#FFFFFF",
             "#FFFFFF",
             "#FFFFFF",
             "#FFFFFF",
             "#FFFFFF",
             "#FFFFFF",
             "#DEEFFF",
             "#FFFFFF",
             "#FFFFFF",
             "#FFFFFF",
             "#FFFFFF",
             "#FFFFFF",
             "#FFFFFF",
             "#E5E5E5"
            ]
           ],
           "width": 2
          },
          "values": [
           [
            "01/12/2022, Quinta-feira",
            "02/12/2022, Sexta-feira",
            "03/12/2022, Sábado",
            "04/12/2022, Domingo",
            "05/12/2022, Segunda-feira",
            "06/12/2022, Terça-feira",
            "07/12/2022, Quarta-feira",
            "08/12/2022, Quinta-feira",
            "09/12/2022, Sexta-feira",
            "10/12/2022, Sábado",
            "11/12/2022, Domingo",
            "12/12/2022, Segunda-feira",
            "13/12/2022, Terça-feira",
            "14/12/2022, Quarta-feira",
            "15/12/2022, Quinta-feira",
            "16/12/2022, Sexta-feira",
            "17/12/2022, Sábado",
            "18/12/2022, Domingo",
            "19/12/2022, Segunda-feira",
            "20/12/2022, Terça-feira",
            "21/12/2022, Quarta-feira",
            "22/12/2022, Quinta-feira",
            "23/12/2022, Sexta-feira",
            "24/12/2022, Sábado",
            "25/12/2022, Domingo",
            "26/12/2022, Segunda-feira",
            "27/12/2022, Terça-feira",
            "28/12/2022, Quarta-feira",
            "29/12/2022, Quinta-feira",
            "30/12/2022, Sexta-feira",
            "31/12/2022, Sábado",
            "Total"
           ],
           [
            "R$ 126.190,48",
            "R$ 126.190,48",
            "R$ 70.000,00",
            "",
            "",
            "R$ 126.190,48",
            "R$ 126.190,48",
            "R$ 126.190,48",
            "R$ 88.333,33",
            "R$ 70.000,00",
            "",
            "R$ 126.190,48",
            "R$ 126.190,48",
            "R$ 126.190,48",
            "R$ 126.190,48",
            "R$ 126.190,48",
            "R$ 70.000,00",
            "",
            "R$ 126.190,48",
            "R$ 126.190,48",
            "R$ 126.190,48",
            "R$ 126.190,48",
            "R$ 126.190,48",
            "R$ 70.000,00",
            "",
            "R$ 126.190,48",
            "R$ 126.190,48",
            "R$ 126.190,48",
            "R$ 126.190,48",
            "R$ 126.190,48",
            "R$ 70.000,00",
            "R$ 2.962.142,86"
           ],
           [
            "R$ 105.989,58",
            "R$ 74.996,01",
            "R$ 76.997,35",
            "",
            "R$ 79.103,44",
            "R$ 149.776,39",
            "R$ 160.857,28",
            "R$ 147.805,18",
            "R$ 86.473,88",
            "R$ 85.743,09",
            "",
            "R$ 153.153,99",
            "",
            "",
            "",
            "",
            "",
            "",
            "",
            "",
            "",
            "",
            "",
            "",
            "",
            "",
            "",
            "",
            "",
            "",
            "",
            "R$ 1.120.896,19"
           ],
           [
            "R$ 100.589,34",
            "R$ 71.180,61",
            "R$ 75.207,78",
            "",
            "R$ 74.343,02",
            "R$ 142.876,31",
            "R$ 155.183,43",
            "R$ 140.674,36",
            "R$ 80.962,41",
            "R$ 81.241,33",
            "",
            "R$ 145.429,66",
            "",
            "",
            "",
            "",
            "",
            "",
            "",
            "",
            "",
            "",
            "",
            "",
            "",
            "",
            "",
            "",
            "",
            "",
            "",
            "R$ 1.067.688,25"
           ],
           [
            "R$ 5.400,24",
            "R$ 3.815,40",
            "R$ 1.789,57",
            "",
            "R$ 4.760,42",
            "R$ 6.900,08",
            "R$ 5.673,85",
            "R$ 7.130,82",
            "R$ 5.511,47",
            "R$ 4.501,76",
            "",
            "R$ 7.724,33",
            "",
            "",
            "",
            "",
            "",
            "",
            "",
            "",
            "",
            "",
            "",
            "",
            "",
            "",
            "",
            "",
            "",
            "",
            "",
            "R$ 53.207,94"
           ],
           [
            "5,10%",
            "5,09%",
            "2,32%",
            "",
            "6,02%",
            "4,61%",
            "3,53%",
            "4,82%",
            "6,37%",
            "5,25%",
            "",
            "5,04%",
            "",
            "",
            "",
            "",
            "",
            "",
            "",
            "",
            "",
            "",
            "",
            "",
            "",
            "",
            "",
            "",
            "",
            "",
            "",
            "4,75%"
           ],
           [
            "R$ 93.359,60",
            "R$ 65.479,83",
            "R$ 66.610,97",
            "",
            "R$ 71.491,62",
            "R$ 134.251,42",
            "R$ 145.729,99",
            "R$ 132.437,06",
            "R$ 74.168,83",
            "R$ 70.707,35",
            "",
            "R$ 130.874,28",
            "",
            "",
            "",
            "",
            "",
            "",
            "",
            "",
            "",
            "",
            "",
            "",
            "",
            "",
            "",
            "",
            "",
            "",
            "",
            "R$ 985.110,95"
           ],
           [
            "276",
            "176",
            "207",
            "",
            "202",
            "317",
            "338",
            "319",
            "224",
            "210",
            "",
            "321",
            "",
            "",
            "",
            "",
            "",
            "",
            "",
            "",
            "",
            "",
            "",
            "",
            "",
            "",
            "",
            "",
            "",
            "",
            "",
            "789"
           ],
           [
            "4,85%",
            "5,70%",
            "2,57%",
            "",
            "5,43%",
            "4,27%",
            "3,68%",
            "5,03%",
            "6,90%",
            "5,40%",
            "",
            "5,44%",
            "",
            "",
            "",
            "",
            "",
            "",
            "",
            "",
            "",
            "",
            "",
            "",
            "",
            "",
            "",
            "",
            "",
            "",
            "",
            "4,84%"
           ],
           [
            "R$ 7.229,74",
            "R$ 5.700,78",
            "R$ 8.596,81",
            "",
            "R$ 2.851,40",
            "R$ 8.624,89",
            "R$ 9.453,44",
            "R$ 8.237,30",
            "R$ 6.793,58",
            "R$ 10.533,98",
            "",
            "R$ 14.555,38",
            "",
            "",
            "",
            "",
            "",
            "",
            "",
            "",
            "",
            "",
            "",
            "",
            "",
            "",
            "",
            "",
            "",
            "",
            "",
            "R$ 82.577,30"
           ],
           [
            "47",
            "33",
            "59",
            "",
            "29",
            "49",
            "56",
            "52",
            "39",
            "72",
            "",
            "74",
            "",
            "",
            "",
            "",
            "",
            "",
            "",
            "",
            "",
            "",
            "",
            "",
            "",
            "",
            "",
            "",
            "",
            "",
            "",
            "510"
           ],
           [
            "12,01%",
            "1,51%",
            "0,91%",
            "",
            "30,78%",
            "13,49%",
            "3,29%",
            "5,68%",
            "5,77%",
            "6,47%",
            "",
            "4,13%",
            "",
            "",
            "",
            "",
            "",
            "",
            "",
            "",
            "",
            "",
            "",
            "",
            "",
            "",
            "",
            "",
            "",
            "",
            "",
            "6,69%"
           ],
           [
            "79,71%",
            "56,41%",
            "107,44%",
            "",
            "",
            "113,22%",
            "122,98%",
            "111,48%",
            "91,66%",
            "116,06%",
            "",
            "115,25%",
            "",
            "",
            "",
            "",
            "",
            "",
            "",
            "",
            "",
            "",
            "",
            "",
            "",
            "",
            "",
            "",
            "",
            "",
            "",
            "36,04%"
           ],
           [
            "79,71%",
            "68,06%",
            "76,61%",
            "76,61%",
            "99,67%",
            "103,48%",
            "107,76%",
            "108,43%",
            "106,55%",
            "107,33%",
            "107,33%",
            "108,34%",
            "96,04%",
            "86,25%",
            "78,27%",
            "71,65%",
            "68,43%",
            "68,43%",
            "63,31%",
            "58,90%",
            "55,07%",
            "51,70%",
            "48,73%",
            "47,22%",
            "47,22%",
            "44,72%",
            "42,48%",
            "40,45%",
            "38,60%",
            "36,92%",
            "36,04%",
            "36,04%"
           ],
           [
            "R$ 2.361.192,42",
            "R$ 2.016.028,25",
            "R$ 2.269.313,10",
            "R$ 2.269.313,10",
            "R$ 2.952.401,37",
            "R$ 3.065.326,77",
            "R$ 3.192.093,08",
            "R$ 3.211.902,99",
            "R$ 3.156.288,31",
            "R$ 3.179.223,92",
            "R$ 3.179.223,92",
            "R$ 3.209.255,75",
            "R$ 2.844.958,13",
            "R$ 2.554.935,47",
            "R$ 2.318.573,84",
            "R$ 2.122.241,50",
            "R$ 2.027.027,24",
            "R$ 2.027.027,24",
            "R$ 1.875.350,77",
            "R$ 1.744.793,06",
            "R$ 1.631.230,45",
            "R$ 1.531.547,28",
            "R$ 1.443.345,60",
            "R$ 1.398.663,74",
            "R$ 1.398.663,74",
            "R$ 1.324.734,17",
            "R$ 1.258.227,67",
            "R$ 1.198.079,69",
            "R$ 1.143.419,95",
            "R$ 1.093.530,05",
            "R$ 1.067.688,25",
            ""
           ]
          ]
         },
         "columnwidth": [
          10.300925925925926,
          6.592592592592593,
          6.592592592592593,
          6.592592592592593,
          6.592592592592593,
          4.12037037037037,
          6.592592592592593,
          5.356481481481481,
          4.944444444444445,
          6.592592592592593,
          4.944444444444445,
          4.12037037037037,
          2.8842592592592595,
          2.8842592592592595,
          6.592592592592593
         ],
         "domain": {
          "y": [
           0,
           1
          ]
         },
         "header": {
          "align": "center",
          "fill": {
           "color": "#E5E5E5"
          },
          "font": {
           "color": [
            "#000000",
            "#000000",
            "#118DFF",
            "#000000",
            "#FF0000",
            "#FF0000",
            "#E04392",
            "#000000",
            "#FF0000",
            "#E04392",
            "#000000",
            "#FF0000",
            "#000000",
            "#000000",
            "#000000"
           ],
           "family": "Segoe UI Semibold",
           "size": 13.185185185185185
          },
          "line": {
           "color": "#E5E5E5",
           "width": 3
          },
          "values": [
           "Data",
           "Meta",
           "Venda\nSIAC",
           "Venda\nLíquida",
           "Devolução",
           "%\nDev",
           "Venda\nCNPJ",
           "Clientes\nCNPJ",
           "% Dev\nCNPJ",
           "Venda\nCPF",
           "Clientes\nCPF",
           "% Dev\nCPF",
           "%\nDia",
           "%\nMês",
           "Projeção\nmensal"
          ]
         },
         "type": "table"
        }
       ],
       "layout": {
        "height": 890,
        "template": {
         "data": {
          "bar": [
           {
            "error_x": {
             "color": "#2a3f5f"
            },
            "error_y": {
             "color": "#2a3f5f"
            },
            "marker": {
             "line": {
              "color": "#E5ECF6",
              "width": 0.5
             },
             "pattern": {
              "fillmode": "overlay",
              "size": 10,
              "solidity": 0.2
             }
            },
            "type": "bar"
           }
          ],
          "barpolar": [
           {
            "marker": {
             "line": {
              "color": "#E5ECF6",
              "width": 0.5
             },
             "pattern": {
              "fillmode": "overlay",
              "size": 10,
              "solidity": 0.2
             }
            },
            "type": "barpolar"
           }
          ],
          "carpet": [
           {
            "aaxis": {
             "endlinecolor": "#2a3f5f",
             "gridcolor": "white",
             "linecolor": "white",
             "minorgridcolor": "white",
             "startlinecolor": "#2a3f5f"
            },
            "baxis": {
             "endlinecolor": "#2a3f5f",
             "gridcolor": "white",
             "linecolor": "white",
             "minorgridcolor": "white",
             "startlinecolor": "#2a3f5f"
            },
            "type": "carpet"
           }
          ],
          "choropleth": [
           {
            "colorbar": {
             "outlinewidth": 0,
             "ticks": ""
            },
            "type": "choropleth"
           }
          ],
          "contour": [
           {
            "colorbar": {
             "outlinewidth": 0,
             "ticks": ""
            },
            "colorscale": [
             [
              0,
              "#0d0887"
             ],
             [
              0.1111111111111111,
              "#46039f"
             ],
             [
              0.2222222222222222,
              "#7201a8"
             ],
             [
              0.3333333333333333,
              "#9c179e"
             ],
             [
              0.4444444444444444,
              "#bd3786"
             ],
             [
              0.5555555555555556,
              "#d8576b"
             ],
             [
              0.6666666666666666,
              "#ed7953"
             ],
             [
              0.7777777777777778,
              "#fb9f3a"
             ],
             [
              0.8888888888888888,
              "#fdca26"
             ],
             [
              1,
              "#f0f921"
             ]
            ],
            "type": "contour"
           }
          ],
          "contourcarpet": [
           {
            "colorbar": {
             "outlinewidth": 0,
             "ticks": ""
            },
            "type": "contourcarpet"
           }
          ],
          "heatmap": [
           {
            "colorbar": {
             "outlinewidth": 0,
             "ticks": ""
            },
            "colorscale": [
             [
              0,
              "#0d0887"
             ],
             [
              0.1111111111111111,
              "#46039f"
             ],
             [
              0.2222222222222222,
              "#7201a8"
             ],
             [
              0.3333333333333333,
              "#9c179e"
             ],
             [
              0.4444444444444444,
              "#bd3786"
             ],
             [
              0.5555555555555556,
              "#d8576b"
             ],
             [
              0.6666666666666666,
              "#ed7953"
             ],
             [
              0.7777777777777778,
              "#fb9f3a"
             ],
             [
              0.8888888888888888,
              "#fdca26"
             ],
             [
              1,
              "#f0f921"
             ]
            ],
            "type": "heatmap"
           }
          ],
          "heatmapgl": [
           {
            "colorbar": {
             "outlinewidth": 0,
             "ticks": ""
            },
            "colorscale": [
             [
              0,
              "#0d0887"
             ],
             [
              0.1111111111111111,
              "#46039f"
             ],
             [
              0.2222222222222222,
              "#7201a8"
             ],
             [
              0.3333333333333333,
              "#9c179e"
             ],
             [
              0.4444444444444444,
              "#bd3786"
             ],
             [
              0.5555555555555556,
              "#d8576b"
             ],
             [
              0.6666666666666666,
              "#ed7953"
             ],
             [
              0.7777777777777778,
              "#fb9f3a"
             ],
             [
              0.8888888888888888,
              "#fdca26"
             ],
             [
              1,
              "#f0f921"
             ]
            ],
            "type": "heatmapgl"
           }
          ],
          "histogram": [
           {
            "marker": {
             "pattern": {
              "fillmode": "overlay",
              "size": 10,
              "solidity": 0.2
             }
            },
            "type": "histogram"
           }
          ],
          "histogram2d": [
           {
            "colorbar": {
             "outlinewidth": 0,
             "ticks": ""
            },
            "colorscale": [
             [
              0,
              "#0d0887"
             ],
             [
              0.1111111111111111,
              "#46039f"
             ],
             [
              0.2222222222222222,
              "#7201a8"
             ],
             [
              0.3333333333333333,
              "#9c179e"
             ],
             [
              0.4444444444444444,
              "#bd3786"
             ],
             [
              0.5555555555555556,
              "#d8576b"
             ],
             [
              0.6666666666666666,
              "#ed7953"
             ],
             [
              0.7777777777777778,
              "#fb9f3a"
             ],
             [
              0.8888888888888888,
              "#fdca26"
             ],
             [
              1,
              "#f0f921"
             ]
            ],
            "type": "histogram2d"
           }
          ],
          "histogram2dcontour": [
           {
            "colorbar": {
             "outlinewidth": 0,
             "ticks": ""
            },
            "colorscale": [
             [
              0,
              "#0d0887"
             ],
             [
              0.1111111111111111,
              "#46039f"
             ],
             [
              0.2222222222222222,
              "#7201a8"
             ],
             [
              0.3333333333333333,
              "#9c179e"
             ],
             [
              0.4444444444444444,
              "#bd3786"
             ],
             [
              0.5555555555555556,
              "#d8576b"
             ],
             [
              0.6666666666666666,
              "#ed7953"
             ],
             [
              0.7777777777777778,
              "#fb9f3a"
             ],
             [
              0.8888888888888888,
              "#fdca26"
             ],
             [
              1,
              "#f0f921"
             ]
            ],
            "type": "histogram2dcontour"
           }
          ],
          "mesh3d": [
           {
            "colorbar": {
             "outlinewidth": 0,
             "ticks": ""
            },
            "type": "mesh3d"
           }
          ],
          "parcoords": [
           {
            "line": {
             "colorbar": {
              "outlinewidth": 0,
              "ticks": ""
             }
            },
            "type": "parcoords"
           }
          ],
          "pie": [
           {
            "automargin": true,
            "type": "pie"
           }
          ],
          "scatter": [
           {
            "fillpattern": {
             "fillmode": "overlay",
             "size": 10,
             "solidity": 0.2
            },
            "type": "scatter"
           }
          ],
          "scatter3d": [
           {
            "line": {
             "colorbar": {
              "outlinewidth": 0,
              "ticks": ""
             }
            },
            "marker": {
             "colorbar": {
              "outlinewidth": 0,
              "ticks": ""
             }
            },
            "type": "scatter3d"
           }
          ],
          "scattercarpet": [
           {
            "marker": {
             "colorbar": {
              "outlinewidth": 0,
              "ticks": ""
             }
            },
            "type": "scattercarpet"
           }
          ],
          "scattergeo": [
           {
            "marker": {
             "colorbar": {
              "outlinewidth": 0,
              "ticks": ""
             }
            },
            "type": "scattergeo"
           }
          ],
          "scattergl": [
           {
            "marker": {
             "colorbar": {
              "outlinewidth": 0,
              "ticks": ""
             }
            },
            "type": "scattergl"
           }
          ],
          "scattermapbox": [
           {
            "marker": {
             "colorbar": {
              "outlinewidth": 0,
              "ticks": ""
             }
            },
            "type": "scattermapbox"
           }
          ],
          "scatterpolar": [
           {
            "marker": {
             "colorbar": {
              "outlinewidth": 0,
              "ticks": ""
             }
            },
            "type": "scatterpolar"
           }
          ],
          "scatterpolargl": [
           {
            "marker": {
             "colorbar": {
              "outlinewidth": 0,
              "ticks": ""
             }
            },
            "type": "scatterpolargl"
           }
          ],
          "scatterternary": [
           {
            "marker": {
             "colorbar": {
              "outlinewidth": 0,
              "ticks": ""
             }
            },
            "type": "scatterternary"
           }
          ],
          "surface": [
           {
            "colorbar": {
             "outlinewidth": 0,
             "ticks": ""
            },
            "colorscale": [
             [
              0,
              "#0d0887"
             ],
             [
              0.1111111111111111,
              "#46039f"
             ],
             [
              0.2222222222222222,
              "#7201a8"
             ],
             [
              0.3333333333333333,
              "#9c179e"
             ],
             [
              0.4444444444444444,
              "#bd3786"
             ],
             [
              0.5555555555555556,
              "#d8576b"
             ],
             [
              0.6666666666666666,
              "#ed7953"
             ],
             [
              0.7777777777777778,
              "#fb9f3a"
             ],
             [
              0.8888888888888888,
              "#fdca26"
             ],
             [
              1,
              "#f0f921"
             ]
            ],
            "type": "surface"
           }
          ],
          "table": [
           {
            "cells": {
             "fill": {
              "color": "#EBF0F8"
             },
             "line": {
              "color": "white"
             }
            },
            "header": {
             "fill": {
              "color": "#C8D4E3"
             },
             "line": {
              "color": "white"
             }
            },
            "type": "table"
           }
          ]
         },
         "layout": {
          "annotationdefaults": {
           "arrowcolor": "#2a3f5f",
           "arrowhead": 0,
           "arrowwidth": 1
          },
          "autotypenumbers": "strict",
          "coloraxis": {
           "colorbar": {
            "outlinewidth": 0,
            "ticks": ""
           }
          },
          "colorscale": {
           "diverging": [
            [
             0,
             "#8e0152"
            ],
            [
             0.1,
             "#c51b7d"
            ],
            [
             0.2,
             "#de77ae"
            ],
            [
             0.3,
             "#f1b6da"
            ],
            [
             0.4,
             "#fde0ef"
            ],
            [
             0.5,
             "#f7f7f7"
            ],
            [
             0.6,
             "#e6f5d0"
            ],
            [
             0.7,
             "#b8e186"
            ],
            [
             0.8,
             "#7fbc41"
            ],
            [
             0.9,
             "#4d9221"
            ],
            [
             1,
             "#276419"
            ]
           ],
           "sequential": [
            [
             0,
             "#0d0887"
            ],
            [
             0.1111111111111111,
             "#46039f"
            ],
            [
             0.2222222222222222,
             "#7201a8"
            ],
            [
             0.3333333333333333,
             "#9c179e"
            ],
            [
             0.4444444444444444,
             "#bd3786"
            ],
            [
             0.5555555555555556,
             "#d8576b"
            ],
            [
             0.6666666666666666,
             "#ed7953"
            ],
            [
             0.7777777777777778,
             "#fb9f3a"
            ],
            [
             0.8888888888888888,
             "#fdca26"
            ],
            [
             1,
             "#f0f921"
            ]
           ],
           "sequentialminus": [
            [
             0,
             "#0d0887"
            ],
            [
             0.1111111111111111,
             "#46039f"
            ],
            [
             0.2222222222222222,
             "#7201a8"
            ],
            [
             0.3333333333333333,
             "#9c179e"
            ],
            [
             0.4444444444444444,
             "#bd3786"
            ],
            [
             0.5555555555555556,
             "#d8576b"
            ],
            [
             0.6666666666666666,
             "#ed7953"
            ],
            [
             0.7777777777777778,
             "#fb9f3a"
            ],
            [
             0.8888888888888888,
             "#fdca26"
            ],
            [
             1,
             "#f0f921"
            ]
           ]
          },
          "colorway": [
           "#636efa",
           "#EF553B",
           "#00cc96",
           "#ab63fa",
           "#FFA15A",
           "#19d3f3",
           "#FF6692",
           "#B6E880",
           "#FF97FF",
           "#FECB52"
          ],
          "font": {
           "color": "#2a3f5f"
          },
          "geo": {
           "bgcolor": "white",
           "lakecolor": "white",
           "landcolor": "#E5ECF6",
           "showlakes": true,
           "showland": true,
           "subunitcolor": "white"
          },
          "hoverlabel": {
           "align": "left"
          },
          "hovermode": "closest",
          "mapbox": {
           "style": "light"
          },
          "paper_bgcolor": "white",
          "plot_bgcolor": "#E5ECF6",
          "polar": {
           "angularaxis": {
            "gridcolor": "white",
            "linecolor": "white",
            "ticks": ""
           },
           "bgcolor": "#E5ECF6",
           "radialaxis": {
            "gridcolor": "white",
            "linecolor": "white",
            "ticks": ""
           }
          },
          "scene": {
           "xaxis": {
            "backgroundcolor": "#E5ECF6",
            "gridcolor": "white",
            "gridwidth": 2,
            "linecolor": "white",
            "showbackground": true,
            "ticks": "",
            "zerolinecolor": "white"
           },
           "yaxis": {
            "backgroundcolor": "#E5ECF6",
            "gridcolor": "white",
            "gridwidth": 2,
            "linecolor": "white",
            "showbackground": true,
            "ticks": "",
            "zerolinecolor": "white"
           },
           "zaxis": {
            "backgroundcolor": "#E5ECF6",
            "gridcolor": "white",
            "gridwidth": 2,
            "linecolor": "white",
            "showbackground": true,
            "ticks": "",
            "zerolinecolor": "white"
           }
          },
          "shapedefaults": {
           "line": {
            "color": "#2a3f5f"
           }
          },
          "ternary": {
           "aaxis": {
            "gridcolor": "white",
            "linecolor": "white",
            "ticks": ""
           },
           "baxis": {
            "gridcolor": "white",
            "linecolor": "white",
            "ticks": ""
           },
           "bgcolor": "#E5ECF6",
           "caxis": {
            "gridcolor": "white",
            "linecolor": "white",
            "ticks": ""
           }
          },
          "title": {
           "x": 0.05
          },
          "xaxis": {
           "automargin": true,
           "gridcolor": "white",
           "linecolor": "white",
           "ticks": "",
           "title": {
            "standoff": 15
           },
           "zerolinecolor": "white",
           "zerolinewidth": 2
          },
          "yaxis": {
           "automargin": true,
           "gridcolor": "white",
           "linecolor": "white",
           "ticks": "",
           "title": {
            "standoff": 15
           },
           "zerolinecolor": "white",
           "zerolinewidth": 2
          }
         }
        },
        "title": {
         "font": {
          "color": "#008080",
          "family": "Jost",
          "size": 24.72222222222222
         },
         "text": "◙◙◙◙◙◙◙◙◙◙ 🡆 CEILÂNDIA 🡄 ◙◙◙◙◙◙◙◙◙◙◙◙◙◙◙◙◙◙◙◙◙◙◙◙◙◙◙◙◙◙◙◙◙◙◙◙◙◙◙◙◙◙◙◙◙◙◙◙◙◙◙◙◙◙◙◙◙◙◙◙◙◙◙◙◙◙◙◙◙◙◙◙◙◙◙◙ ⒸⒺⒾⓁⒶⓃⒹⒾⒶ ◙◙◙◙◙◙◙◙◙◙",
         "x": 0.5,
         "y": 0.95,
         "yanchor": "bottom"
        },
        "width": 2060
       }
      }
     },
     "metadata": {},
     "output_type": "display_data"
    },
    {
     "name": "stdout",
     "output_type": "stream",
     "text": [
      "TESTE 04 TABLE.png\n",
      "\n",
      "13-12-2022 PrimeiraFoto - https://chat.whatsapp.com/LK4LDajkH52BNydoLGGD2d\n",
      "13-12-2022 API - https://chat.whatsapp.com/EBLX0fxYfvuHL7jZ9CZECQ\n",
      "13-12-2022 Teste Python - https://chat.whatsapp.com/I4y7EAVfns629NvfoLUtGI\n",
      "\n",
      "• '05' GAMA\n",
      "\n"
     ]
    },
    {
     "name": "stderr",
     "output_type": "stream",
     "text": [
      "C:\\Users\\admin\\AppData\\Local\\Temp\\ipykernel_16068\\3465617909.py:86: RuntimeWarning:\n",
      "\n",
      "divide by zero encountered in double_scalars\n",
      "\n"
     ]
    },
    {
     "data": {
      "application/vnd.plotly.v1+json": {
       "config": {
        "plotlyServerURL": "https://plot.ly"
       },
       "data": [
        {
         "cells": {
          "align": [
           "left",
           "center"
          ],
          "fill": {
           "color": [
            [
             "#FFFFFF",
             "#FFFFFF",
             "#FFFFFF",
             "#DEEFFF",
             "#DEEFFF",
             "#FFFFFF",
             "#FFFFFF",
             "#FFFFFF",
             "#FFFFFF",
             "#FFFFFF",
             "#DEEFFF",
             "#FFFFFF",
             "#F7F7F7",
             "#FFFFFF",
             "#FFFFFF",
             "#FFFFFF",
             "#FFFFFF",
             "#DEEFFF",
             "#FFFFFF",
             "#FFFFFF",
             "#FFFFFF",
             "#FFFFFF",
             "#FFFFFF",
             "#FFFFFF",
             "#DEEFFF",
             "#FFFFFF",
             "#FFFFFF",
             "#FFFFFF",
             "#FFFFFF",
             "#FFFFFF",
             "#FFFFFF",
             "#E5E5E5"
            ],
            [
             "#FFFFFF",
             "#FFFFFF",
             "#FFFFFF",
             "#DEEFFF",
             "#DEEFFF",
             "#FFFFFF",
             "#FFFFFF",
             "#FFFFFF",
             "#FFFFFF",
             "#FFFFFF",
             "#DEEFFF",
             "#FFFFFF",
             "#F7F7F7",
             "#FFFFFF",
             "#FFFFFF",
             "#FFFFFF",
             "#FFFFFF",
             "#DEEFFF",
             "#FFFFFF",
             "#FFFFFF",
             "#FFFFFF",
             "#FFFFFF",
             "#FFFFFF",
             "#FFFFFF",
             "#DEEFFF",
             "#FFFFFF",
             "#FFFFFF",
             "#FFFFFF",
             "#FFFFFF",
             "#FFFFFF",
             "#FFFFFF",
             "#E5E5E5"
            ],
            [
             "#F7F7F7",
             "#F7F7F7",
             "#F7F7F7",
             "#DEEFFF",
             "#DEEFFF",
             "#F7F7F7",
             "#F7F7F7",
             "#F7F7F7",
             "#F7F7F7",
             "#F7F7F7",
             "#DEEFFF",
             "#F7F7F7",
             "#F7F7F7",
             "#F7F7F7",
             "#F7F7F7",
             "#F7F7F7",
             "#F7F7F7",
             "#DEEFFF",
             "#F7F7F7",
             "#F7F7F7",
             "#F7F7F7",
             "#F7F7F7",
             "#F7F7F7",
             "#F7F7F7",
             "#DEEFFF",
             "#F7F7F7",
             "#F7F7F7",
             "#F7F7F7",
             "#F7F7F7",
             "#F7F7F7",
             "#F7F7F7",
             "#E5E5E5"
            ],
            [
             "#F7F7F7",
             "#F7F7F7",
             "#F7F7F7",
             "#DEEFFF",
             "#DEEFFF",
             "#F7F7F7",
             "#F7F7F7",
             "#F7F7F7",
             "#F7F7F7",
             "#F7F7F7",
             "#DEEFFF",
             "#F7F7F7",
             "#F7F7F7",
             "#F7F7F7",
             "#F7F7F7",
             "#F7F7F7",
             "#F7F7F7",
             "#DEEFFF",
             "#F7F7F7",
             "#F7F7F7",
             "#F7F7F7",
             "#F7F7F7",
             "#F7F7F7",
             "#F7F7F7",
             "#DEEFFF",
             "#F7F7F7",
             "#F7F7F7",
             "#F7F7F7",
             "#F7F7F7",
             "#F7F7F7",
             "#F7F7F7",
             "#E5E5E5"
            ],
            [
             "#FFFFFF",
             "#FFFFFF",
             "#FFFFFF",
             "#DEEFFF",
             "#DEEFFF",
             "#FFFFFF",
             "#FFFFFF",
             "#FFFFFF",
             "#FFFFFF",
             "#FFFFFF",
             "#DEEFFF",
             "#FFFFFF",
             "#F7F7F7",
             "#FFFFFF",
             "#FFFFFF",
             "#FFFFFF",
             "#FFFFFF",
             "#DEEFFF",
             "#FFFFFF",
             "#FFFFFF",
             "#FFFFFF",
             "#FFFFFF",
             "#FFFFFF",
             "#FFFFFF",
             "#DEEFFF",
             "#FFFFFF",
             "#FFFFFF",
             "#FFFFFF",
             "#FFFFFF",
             "#FFFFFF",
             "#FFFFFF",
             "#E5E5E5"
            ],
            [
             "#FFFFFF",
             "#FFFFFF",
             "#FFFFFF",
             "#DEEFFF",
             "#DEEFFF",
             "#FFFFFF",
             "#FFFFFF",
             "#FFFFFF",
             "#FFFFFF",
             "#FFFFFF",
             "#DEEFFF",
             "#FFFFFF",
             "#F7F7F7",
             "#FFFFFF",
             "#FFFFFF",
             "#FFFFFF",
             "#FFFFFF",
             "#DEEFFF",
             "#FFFFFF",
             "#FFFFFF",
             "#FFFFFF",
             "#FFFFFF",
             "#FFFFFF",
             "#FFFFFF",
             "#DEEFFF",
             "#FFFFFF",
             "#FFFFFF",
             "#FFFFFF",
             "#FFFFFF",
             "#FFFFFF",
             "#FFFFFF",
             "#E5E5E5"
            ],
            [
             "#F7F7F7",
             "#F7F7F7",
             "#F7F7F7",
             "#DEEFFF",
             "#DEEFFF",
             "#F7F7F7",
             "#F7F7F7",
             "#F7F7F7",
             "#F7F7F7",
             "#F7F7F7",
             "#DEEFFF",
             "#F7F7F7",
             "#F7F7F7",
             "#F7F7F7",
             "#F7F7F7",
             "#F7F7F7",
             "#F7F7F7",
             "#DEEFFF",
             "#F7F7F7",
             "#F7F7F7",
             "#F7F7F7",
             "#F7F7F7",
             "#F7F7F7",
             "#F7F7F7",
             "#DEEFFF",
             "#F7F7F7",
             "#F7F7F7",
             "#F7F7F7",
             "#F7F7F7",
             "#F7F7F7",
             "#F7F7F7",
             "#E5E5E5"
            ],
            [
             "#FFFFFF",
             "#FFFFFF",
             "#FFFFFF",
             "#DEEFFF",
             "#DEEFFF",
             "#FFFFFF",
             "#FFFFFF",
             "#FFFFFF",
             "#FFFFFF",
             "#FFFFFF",
             "#DEEFFF",
             "#FFFFFF",
             "#F7F7F7",
             "#FFFFFF",
             "#FFFFFF",
             "#FFFFFF",
             "#FFFFFF",
             "#DEEFFF",
             "#FFFFFF",
             "#FFFFFF",
             "#FFFFFF",
             "#FFFFFF",
             "#FFFFFF",
             "#FFFFFF",
             "#DEEFFF",
             "#FFFFFF",
             "#FFFFFF",
             "#FFFFFF",
             "#FFFFFF",
             "#FFFFFF",
             "#FFFFFF",
             "#E5E5E5"
            ],
            [
             "#FFFFFF",
             "#FFFFFF",
             "#FFFFFF",
             "#DEEFFF",
             "#DEEFFF",
             "#FFFFFF",
             "#FFFFFF",
             "#FFFFFF",
             "#FFFFFF",
             "#FFFFFF",
             "#DEEFFF",
             "#FFFFFF",
             "#F7F7F7",
             "#FFFFFF",
             "#FFFFFF",
             "#FFFFFF",
             "#FFFFFF",
             "#DEEFFF",
             "#FFFFFF",
             "#FFFFFF",
             "#FFFFFF",
             "#FFFFFF",
             "#FFFFFF",
             "#FFFFFF",
             "#DEEFFF",
             "#FFFFFF",
             "#FFFFFF",
             "#FFFFFF",
             "#FFFFFF",
             "#FFFFFF",
             "#FFFFFF",
             "#E5E5E5"
            ],
            [
             "#F7F7F7",
             "#F7F7F7",
             "#F7F7F7",
             "#DEEFFF",
             "#DEEFFF",
             "#F7F7F7",
             "#F7F7F7",
             "#F7F7F7",
             "#F7F7F7",
             "#F7F7F7",
             "#DEEFFF",
             "#F7F7F7",
             "#F7F7F7",
             "#F7F7F7",
             "#F7F7F7",
             "#F7F7F7",
             "#F7F7F7",
             "#DEEFFF",
             "#F7F7F7",
             "#F7F7F7",
             "#F7F7F7",
             "#F7F7F7",
             "#F7F7F7",
             "#F7F7F7",
             "#DEEFFF",
             "#F7F7F7",
             "#F7F7F7",
             "#F7F7F7",
             "#F7F7F7",
             "#F7F7F7",
             "#F7F7F7",
             "#E5E5E5"
            ],
            [
             "#FFFFFF",
             "#FFFFFF",
             "#FFFFFF",
             "#DEEFFF",
             "#DEEFFF",
             "#FFFFFF",
             "#FFFFFF",
             "#FFFFFF",
             "#FFFFFF",
             "#FFFFFF",
             "#DEEFFF",
             "#FFFFFF",
             "#F7F7F7",
             "#FFFFFF",
             "#FFFFFF",
             "#FFFFFF",
             "#FFFFFF",
             "#DEEFFF",
             "#FFFFFF",
             "#FFFFFF",
             "#FFFFFF",
             "#FFFFFF",
             "#FFFFFF",
             "#FFFFFF",
             "#DEEFFF",
             "#FFFFFF",
             "#FFFFFF",
             "#FFFFFF",
             "#FFFFFF",
             "#FFFFFF",
             "#FFFFFF",
             "#E5E5E5"
            ],
            [
             "#FFFFFF",
             "#FFFFFF",
             "#FFFFFF",
             "#DEEFFF",
             "#DEEFFF",
             "#FFFFFF",
             "#FFFFFF",
             "#FFFFFF",
             "#FFFFFF",
             "#FFFFFF",
             "#DEEFFF",
             "#FFFFFF",
             "#F7F7F7",
             "#FFFFFF",
             "#FFFFFF",
             "#FFFFFF",
             "#FFFFFF",
             "#DEEFFF",
             "#FFFFFF",
             "#FFFFFF",
             "#FFFFFF",
             "#FFFFFF",
             "#FFFFFF",
             "#FFFFFF",
             "#DEEFFF",
             "#FFFFFF",
             "#FFFFFF",
             "#FFFFFF",
             "#FFFFFF",
             "#FFFFFF",
             "#FFFFFF",
             "#E5E5E5"
            ],
            [
             "#FFFFFF",
             "#FFFFFF",
             "#FFFFFF",
             "#DEEFFF",
             "#DEEFFF",
             "#FFFFFF",
             "#FFFFFF",
             "#FFFFFF",
             "#FFFFFF",
             "#FFFFFF",
             "#DEEFFF",
             "#FFFFFF",
             "#F7F7F7",
             "#FFFFFF",
             "#FFFFFF",
             "#FFFFFF",
             "#FFFFFF",
             "#DEEFFF",
             "#FFFFFF",
             "#FFFFFF",
             "#FFFFFF",
             "#FFFFFF",
             "#FFFFFF",
             "#FFFFFF",
             "#DEEFFF",
             "#FFFFFF",
             "#FFFFFF",
             "#FFFFFF",
             "#FFFFFF",
             "#FFFFFF",
             "#FFFFFF",
             "#E5E5E5"
            ],
            [
             "#FFFFFF",
             "#FFFFFF",
             "#FFFFFF",
             "#DEEFFF",
             "#DEEFFF",
             "#FFFFFF",
             "#FFFFFF",
             "#FFFFFF",
             "#FFFFFF",
             "#FFFFFF",
             "#DEEFFF",
             "#FFFFFF",
             "#F7F7F7",
             "#FFFFFF",
             "#FFFFFF",
             "#FFFFFF",
             "#FFFFFF",
             "#DEEFFF",
             "#FFFFFF",
             "#FFFFFF",
             "#FFFFFF",
             "#FFFFFF",
             "#FFFFFF",
             "#FFFFFF",
             "#DEEFFF",
             "#FFFFFF",
             "#FFFFFF",
             "#FFFFFF",
             "#FFFFFF",
             "#FFFFFF",
             "#FFFFFF",
             "#E5E5E5"
            ],
            [
             "#FFFFFF",
             "#FFFFFF",
             "#FFFFFF",
             "#DEEFFF",
             "#DEEFFF",
             "#FFFFFF",
             "#FFFFFF",
             "#FFFFFF",
             "#FFFFFF",
             "#FFFFFF",
             "#DEEFFF",
             "#FFFFFF",
             "#F7F7F7",
             "#FFFFFF",
             "#FFFFFF",
             "#FFFFFF",
             "#FFFFFF",
             "#DEEFFF",
             "#FFFFFF",
             "#FFFFFF",
             "#FFFFFF",
             "#FFFFFF",
             "#FFFFFF",
             "#FFFFFF",
             "#DEEFFF",
             "#FFFFFF",
             "#FFFFFF",
             "#FFFFFF",
             "#FFFFFF",
             "#FFFFFF",
             "#FFFFFF",
             "#E5E5E5"
            ],
            [
             "#FFFFFF",
             "#FFFFFF",
             "#FFFFFF",
             "#DEEFFF",
             "#DEEFFF",
             "#FFFFFF",
             "#FFFFFF",
             "#FFFFFF",
             "#FFFFFF",
             "#FFFFFF",
             "#DEEFFF",
             "#FFFFFF",
             "#F7F7F7",
             "#FFFFFF",
             "#FFFFFF",
             "#FFFFFF",
             "#FFFFFF",
             "#DEEFFF",
             "#FFFFFF",
             "#FFFFFF",
             "#FFFFFF",
             "#FFFFFF",
             "#FFFFFF",
             "#FFFFFF",
             "#DEEFFF",
             "#FFFFFF",
             "#FFFFFF",
             "#FFFFFF",
             "#FFFFFF",
             "#FFFFFF",
             "#FFFFFF",
             "#E5E5E5"
            ],
            [
             "#FFFFFF",
             "#FFFFFF",
             "#FFFFFF",
             "#DEEFFF",
             "#DEEFFF",
             "#FFFFFF",
             "#FFFFFF",
             "#FFFFFF",
             "#FFFFFF",
             "#FFFFFF",
             "#DEEFFF",
             "#FFFFFF",
             "#F7F7F7",
             "#FFFFFF",
             "#FFFFFF",
             "#FFFFFF",
             "#FFFFFF",
             "#DEEFFF",
             "#FFFFFF",
             "#FFFFFF",
             "#FFFFFF",
             "#FFFFFF",
             "#FFFFFF",
             "#FFFFFF",
             "#DEEFFF",
             "#FFFFFF",
             "#FFFFFF",
             "#FFFFFF",
             "#FFFFFF",
             "#FFFFFF",
             "#FFFFFF",
             "#E5E5E5"
            ],
            [
             "#FFFFFF",
             "#FFFFFF",
             "#FFFFFF",
             "#DEEFFF",
             "#DEEFFF",
             "#FFFFFF",
             "#FFFFFF",
             "#FFFFFF",
             "#FFFFFF",
             "#FFFFFF",
             "#DEEFFF",
             "#FFFFFF",
             "#F7F7F7",
             "#FFFFFF",
             "#FFFFFF",
             "#FFFFFF",
             "#FFFFFF",
             "#DEEFFF",
             "#FFFFFF",
             "#FFFFFF",
             "#FFFFFF",
             "#FFFFFF",
             "#FFFFFF",
             "#FFFFFF",
             "#DEEFFF",
             "#FFFFFF",
             "#FFFFFF",
             "#FFFFFF",
             "#FFFFFF",
             "#FFFFFF",
             "#FFFFFF",
             "#E5E5E5"
            ],
            [
             "#FFFFFF",
             "#FFFFFF",
             "#FFFFFF",
             "#DEEFFF",
             "#DEEFFF",
             "#FFFFFF",
             "#FFFFFF",
             "#FFFFFF",
             "#FFFFFF",
             "#FFFFFF",
             "#DEEFFF",
             "#FFFFFF",
             "#F7F7F7",
             "#FFFFFF",
             "#FFFFFF",
             "#FFFFFF",
             "#FFFFFF",
             "#DEEFFF",
             "#FFFFFF",
             "#FFFFFF",
             "#FFFFFF",
             "#FFFFFF",
             "#FFFFFF",
             "#FFFFFF",
             "#DEEFFF",
             "#FFFFFF",
             "#FFFFFF",
             "#FFFFFF",
             "#FFFFFF",
             "#FFFFFF",
             "#FFFFFF",
             "#E5E5E5"
            ],
            [
             "#FFFFFF",
             "#FFFFFF",
             "#FFFFFF",
             "#DEEFFF",
             "#DEEFFF",
             "#FFFFFF",
             "#FFFFFF",
             "#FFFFFF",
             "#FFFFFF",
             "#FFFFFF",
             "#DEEFFF",
             "#FFFFFF",
             "#F7F7F7",
             "#FFFFFF",
             "#FFFFFF",
             "#FFFFFF",
             "#FFFFFF",
             "#DEEFFF",
             "#FFFFFF",
             "#FFFFFF",
             "#FFFFFF",
             "#FFFFFF",
             "#FFFFFF",
             "#FFFFFF",
             "#DEEFFF",
             "#FFFFFF",
             "#FFFFFF",
             "#FFFFFF",
             "#FFFFFF",
             "#FFFFFF",
             "#FFFFFF",
             "#E5E5E5"
            ],
            [
             "#FFFFFF",
             "#FFFFFF",
             "#FFFFFF",
             "#DEEFFF",
             "#DEEFFF",
             "#FFFFFF",
             "#FFFFFF",
             "#FFFFFF",
             "#FFFFFF",
             "#FFFFFF",
             "#DEEFFF",
             "#FFFFFF",
             "#F7F7F7",
             "#FFFFFF",
             "#FFFFFF",
             "#FFFFFF",
             "#FFFFFF",
             "#DEEFFF",
             "#FFFFFF",
             "#FFFFFF",
             "#FFFFFF",
             "#FFFFFF",
             "#FFFFFF",
             "#FFFFFF",
             "#DEEFFF",
             "#FFFFFF",
             "#FFFFFF",
             "#FFFFFF",
             "#FFFFFF",
             "#FFFFFF",
             "#FFFFFF",
             "#E5E5E5"
            ],
            [
             "#FFFFFF",
             "#FFFFFF",
             "#FFFFFF",
             "#DEEFFF",
             "#DEEFFF",
             "#FFFFFF",
             "#FFFFFF",
             "#FFFFFF",
             "#FFFFFF",
             "#FFFFFF",
             "#DEEFFF",
             "#FFFFFF",
             "#F7F7F7",
             "#FFFFFF",
             "#FFFFFF",
             "#FFFFFF",
             "#FFFFFF",
             "#DEEFFF",
             "#FFFFFF",
             "#FFFFFF",
             "#FFFFFF",
             "#FFFFFF",
             "#FFFFFF",
             "#FFFFFF",
             "#DEEFFF",
             "#FFFFFF",
             "#FFFFFF",
             "#FFFFFF",
             "#FFFFFF",
             "#FFFFFF",
             "#FFFFFF",
             "#E5E5E5"
            ]
           ]
          },
          "font": {
           "color": [
            "#000000",
            "#000000",
            "#118DFF",
            "#000000",
            "#FF0000",
            "#FF0000",
            "#E04392",
            "#000000",
            "#FF0000",
            "#E04392",
            "#000000",
            "#FF0000",
            [
             "#FF0000",
             "#FF0000",
             "#00B050",
             "#DEEFFF",
             "#DEEFFF",
             "#00B050",
             "#00B050",
             "#00B050",
             "#FF0000",
             "#00B050",
             "#DEEFFF",
             "#00B050",
             "#FF0000",
             "#FFFFFF",
             "#FFFFFF",
             "#FFFFFF",
             "#FFFFFF",
             "#DEEFFF",
             "#FFFFFF",
             "#FFFFFF",
             "#FFFFFF",
             "#FFFFFF",
             "#FFFFFF",
             "#FFFFFF",
             "#DEEFFF",
             "#FFFFFF",
             "#FFFFFF",
             "#FFFFFF",
             "#FFFFFF",
             "#FFFFFF",
             "#FFFFFF",
             "#E5E5E5"
            ],
            [
             "#FF0000",
             "#FF0000",
             "#FF0000",
             "#DEEFFF",
             "#DEEFFF",
             "#00B050",
             "#00B050",
             "#00B050",
             "#00B050",
             "#00B050",
             "#DEEFFF",
             "#00B050",
             "#FFC000",
             "#FFFFFF",
             "#FFFFFF",
             "#FFFFFF",
             "#FFFFFF",
             "#DEEFFF",
             "#FFFFFF",
             "#FFFFFF",
             "#FFFFFF",
             "#FFFFFF",
             "#FFFFFF",
             "#FFFFFF",
             "#DEEFFF",
             "#FFFFFF",
             "#FFFFFF",
             "#FFFFFF",
             "#FFFFFF",
             "#FFFFFF",
             "#FFFFFF",
             "#E5E5E5"
            ],
            [
             "#000000",
             "#000000",
             "#000000",
             "#DEEFFF",
             "#DEEFFF",
             "#000000",
             "#000000",
             "#000000",
             "#000000",
             "#000000",
             "#DEEFFF",
             "#000000",
             "#000000",
             "#FFFFFF",
             "#FFFFFF",
             "#FFFFFF",
             "#FFFFFF",
             "#DEEFFF",
             "#FFFFFF",
             "#FFFFFF",
             "#FFFFFF",
             "#FFFFFF",
             "#FFFFFF",
             "#FFFFFF",
             "#DEEFFF",
             "#FFFFFF",
             "#FFFFFF",
             "#FFFFFF",
             "#FFFFFF",
             "#FFFFFF",
             "#FFFFFF",
             "#118DFF"
            ]
           ],
           "family": "Segoe UI Semibold",
           "size": 13.185185185185185
          },
          "line": {
           "color": [
            [
             "#FFFFFF",
             "#FFFFFF",
             "#FFFFFF",
             "#DEEFFF",
             "#DEEFFF",
             "#FFFFFF",
             "#FFFFFF",
             "#FFFFFF",
             "#FFFFFF",
             "#FFFFFF",
             "#DEEFFF",
             "#FFFFFF",
             "#F7F7F7",
             "#FFFFFF",
             "#FFFFFF",
             "#FFFFFF",
             "#FFFFFF",
             "#DEEFFF",
             "#FFFFFF",
             "#FFFFFF",
             "#FFFFFF",
             "#FFFFFF",
             "#FFFFFF",
             "#FFFFFF",
             "#DEEFFF",
             "#FFFFFF",
             "#FFFFFF",
             "#FFFFFF",
             "#FFFFFF",
             "#FFFFFF",
             "#FFFFFF",
             "#E5E5E5"
            ],
            [
             "#FFFFFF",
             "#FFFFFF",
             "#FFFFFF",
             "#DEEFFF",
             "#DEEFFF",
             "#FFFFFF",
             "#FFFFFF",
             "#FFFFFF",
             "#FFFFFF",
             "#FFFFFF",
             "#DEEFFF",
             "#FFFFFF",
             "#F7F7F7",
             "#FFFFFF",
             "#FFFFFF",
             "#FFFFFF",
             "#FFFFFF",
             "#DEEFFF",
             "#FFFFFF",
             "#FFFFFF",
             "#FFFFFF",
             "#FFFFFF",
             "#FFFFFF",
             "#FFFFFF",
             "#DEEFFF",
             "#FFFFFF",
             "#FFFFFF",
             "#FFFFFF",
             "#FFFFFF",
             "#FFFFFF",
             "#FFFFFF",
             "#E5E5E5"
            ],
            [
             "#F7F7F7",
             "#F7F7F7",
             "#F7F7F7",
             "#DEEFFF",
             "#DEEFFF",
             "#F7F7F7",
             "#F7F7F7",
             "#F7F7F7",
             "#F7F7F7",
             "#F7F7F7",
             "#DEEFFF",
             "#F7F7F7",
             "#F7F7F7",
             "#F7F7F7",
             "#F7F7F7",
             "#F7F7F7",
             "#F7F7F7",
             "#DEEFFF",
             "#F7F7F7",
             "#F7F7F7",
             "#F7F7F7",
             "#F7F7F7",
             "#F7F7F7",
             "#F7F7F7",
             "#DEEFFF",
             "#F7F7F7",
             "#F7F7F7",
             "#F7F7F7",
             "#F7F7F7",
             "#F7F7F7",
             "#F7F7F7",
             "#E5E5E5"
            ],
            [
             "#F7F7F7",
             "#F7F7F7",
             "#F7F7F7",
             "#DEEFFF",
             "#DEEFFF",
             "#F7F7F7",
             "#F7F7F7",
             "#F7F7F7",
             "#F7F7F7",
             "#F7F7F7",
             "#DEEFFF",
             "#F7F7F7",
             "#F7F7F7",
             "#F7F7F7",
             "#F7F7F7",
             "#F7F7F7",
             "#F7F7F7",
             "#DEEFFF",
             "#F7F7F7",
             "#F7F7F7",
             "#F7F7F7",
             "#F7F7F7",
             "#F7F7F7",
             "#F7F7F7",
             "#DEEFFF",
             "#F7F7F7",
             "#F7F7F7",
             "#F7F7F7",
             "#F7F7F7",
             "#F7F7F7",
             "#F7F7F7",
             "#E5E5E5"
            ],
            [
             "#FFFFFF",
             "#FFFFFF",
             "#FFFFFF",
             "#DEEFFF",
             "#DEEFFF",
             "#FFFFFF",
             "#FFFFFF",
             "#FFFFFF",
             "#FFFFFF",
             "#FFFFFF",
             "#DEEFFF",
             "#FFFFFF",
             "#F7F7F7",
             "#FFFFFF",
             "#FFFFFF",
             "#FFFFFF",
             "#FFFFFF",
             "#DEEFFF",
             "#FFFFFF",
             "#FFFFFF",
             "#FFFFFF",
             "#FFFFFF",
             "#FFFFFF",
             "#FFFFFF",
             "#DEEFFF",
             "#FFFFFF",
             "#FFFFFF",
             "#FFFFFF",
             "#FFFFFF",
             "#FFFFFF",
             "#FFFFFF",
             "#E5E5E5"
            ],
            [
             "#FFFFFF",
             "#FFFFFF",
             "#FFFFFF",
             "#DEEFFF",
             "#DEEFFF",
             "#FFFFFF",
             "#FFFFFF",
             "#FFFFFF",
             "#FFFFFF",
             "#FFFFFF",
             "#DEEFFF",
             "#FFFFFF",
             "#F7F7F7",
             "#FFFFFF",
             "#FFFFFF",
             "#FFFFFF",
             "#FFFFFF",
             "#DEEFFF",
             "#FFFFFF",
             "#FFFFFF",
             "#FFFFFF",
             "#FFFFFF",
             "#FFFFFF",
             "#FFFFFF",
             "#DEEFFF",
             "#FFFFFF",
             "#FFFFFF",
             "#FFFFFF",
             "#FFFFFF",
             "#FFFFFF",
             "#FFFFFF",
             "#E5E5E5"
            ],
            [
             "#F7F7F7",
             "#F7F7F7",
             "#F7F7F7",
             "#DEEFFF",
             "#DEEFFF",
             "#F7F7F7",
             "#F7F7F7",
             "#F7F7F7",
             "#F7F7F7",
             "#F7F7F7",
             "#DEEFFF",
             "#F7F7F7",
             "#F7F7F7",
             "#F7F7F7",
             "#F7F7F7",
             "#F7F7F7",
             "#F7F7F7",
             "#DEEFFF",
             "#F7F7F7",
             "#F7F7F7",
             "#F7F7F7",
             "#F7F7F7",
             "#F7F7F7",
             "#F7F7F7",
             "#DEEFFF",
             "#F7F7F7",
             "#F7F7F7",
             "#F7F7F7",
             "#F7F7F7",
             "#F7F7F7",
             "#F7F7F7",
             "#E5E5E5"
            ],
            [
             "#FFFFFF",
             "#FFFFFF",
             "#FFFFFF",
             "#DEEFFF",
             "#DEEFFF",
             "#FFFFFF",
             "#FFFFFF",
             "#FFFFFF",
             "#FFFFFF",
             "#FFFFFF",
             "#DEEFFF",
             "#FFFFFF",
             "#F7F7F7",
             "#FFFFFF",
             "#FFFFFF",
             "#FFFFFF",
             "#FFFFFF",
             "#DEEFFF",
             "#FFFFFF",
             "#FFFFFF",
             "#FFFFFF",
             "#FFFFFF",
             "#FFFFFF",
             "#FFFFFF",
             "#DEEFFF",
             "#FFFFFF",
             "#FFFFFF",
             "#FFFFFF",
             "#FFFFFF",
             "#FFFFFF",
             "#FFFFFF",
             "#E5E5E5"
            ],
            [
             "#FFFFFF",
             "#FFFFFF",
             "#FFFFFF",
             "#DEEFFF",
             "#DEEFFF",
             "#FFFFFF",
             "#FFFFFF",
             "#FFFFFF",
             "#FFFFFF",
             "#FFFFFF",
             "#DEEFFF",
             "#FFFFFF",
             "#F7F7F7",
             "#FFFFFF",
             "#FFFFFF",
             "#FFFFFF",
             "#FFFFFF",
             "#DEEFFF",
             "#FFFFFF",
             "#FFFFFF",
             "#FFFFFF",
             "#FFFFFF",
             "#FFFFFF",
             "#FFFFFF",
             "#DEEFFF",
             "#FFFFFF",
             "#FFFFFF",
             "#FFFFFF",
             "#FFFFFF",
             "#FFFFFF",
             "#FFFFFF",
             "#E5E5E5"
            ],
            [
             "#F7F7F7",
             "#F7F7F7",
             "#F7F7F7",
             "#DEEFFF",
             "#DEEFFF",
             "#F7F7F7",
             "#F7F7F7",
             "#F7F7F7",
             "#F7F7F7",
             "#F7F7F7",
             "#DEEFFF",
             "#F7F7F7",
             "#F7F7F7",
             "#F7F7F7",
             "#F7F7F7",
             "#F7F7F7",
             "#F7F7F7",
             "#DEEFFF",
             "#F7F7F7",
             "#F7F7F7",
             "#F7F7F7",
             "#F7F7F7",
             "#F7F7F7",
             "#F7F7F7",
             "#DEEFFF",
             "#F7F7F7",
             "#F7F7F7",
             "#F7F7F7",
             "#F7F7F7",
             "#F7F7F7",
             "#F7F7F7",
             "#E5E5E5"
            ],
            [
             "#FFFFFF",
             "#FFFFFF",
             "#FFFFFF",
             "#DEEFFF",
             "#DEEFFF",
             "#FFFFFF",
             "#FFFFFF",
             "#FFFFFF",
             "#FFFFFF",
             "#FFFFFF",
             "#DEEFFF",
             "#FFFFFF",
             "#F7F7F7",
             "#FFFFFF",
             "#FFFFFF",
             "#FFFFFF",
             "#FFFFFF",
             "#DEEFFF",
             "#FFFFFF",
             "#FFFFFF",
             "#FFFFFF",
             "#FFFFFF",
             "#FFFFFF",
             "#FFFFFF",
             "#DEEFFF",
             "#FFFFFF",
             "#FFFFFF",
             "#FFFFFF",
             "#FFFFFF",
             "#FFFFFF",
             "#FFFFFF",
             "#E5E5E5"
            ],
            [
             "#FFFFFF",
             "#FFFFFF",
             "#FFFFFF",
             "#DEEFFF",
             "#DEEFFF",
             "#FFFFFF",
             "#FFFFFF",
             "#FFFFFF",
             "#FFFFFF",
             "#FFFFFF",
             "#DEEFFF",
             "#FFFFFF",
             "#F7F7F7",
             "#FFFFFF",
             "#FFFFFF",
             "#FFFFFF",
             "#FFFFFF",
             "#DEEFFF",
             "#FFFFFF",
             "#FFFFFF",
             "#FFFFFF",
             "#FFFFFF",
             "#FFFFFF",
             "#FFFFFF",
             "#DEEFFF",
             "#FFFFFF",
             "#FFFFFF",
             "#FFFFFF",
             "#FFFFFF",
             "#FFFFFF",
             "#FFFFFF",
             "#E5E5E5"
            ],
            [
             "#FFFFFF",
             "#FFFFFF",
             "#FFFFFF",
             "#DEEFFF",
             "#DEEFFF",
             "#FFFFFF",
             "#FFFFFF",
             "#FFFFFF",
             "#FFFFFF",
             "#FFFFFF",
             "#DEEFFF",
             "#FFFFFF",
             "#F7F7F7",
             "#FFFFFF",
             "#FFFFFF",
             "#FFFFFF",
             "#FFFFFF",
             "#DEEFFF",
             "#FFFFFF",
             "#FFFFFF",
             "#FFFFFF",
             "#FFFFFF",
             "#FFFFFF",
             "#FFFFFF",
             "#DEEFFF",
             "#FFFFFF",
             "#FFFFFF",
             "#FFFFFF",
             "#FFFFFF",
             "#FFFFFF",
             "#FFFFFF",
             "#E5E5E5"
            ],
            [
             "#FFFFFF",
             "#FFFFFF",
             "#FFFFFF",
             "#DEEFFF",
             "#DEEFFF",
             "#FFFFFF",
             "#FFFFFF",
             "#FFFFFF",
             "#FFFFFF",
             "#FFFFFF",
             "#DEEFFF",
             "#FFFFFF",
             "#F7F7F7",
             "#FFFFFF",
             "#FFFFFF",
             "#FFFFFF",
             "#FFFFFF",
             "#DEEFFF",
             "#FFFFFF",
             "#FFFFFF",
             "#FFFFFF",
             "#FFFFFF",
             "#FFFFFF",
             "#FFFFFF",
             "#DEEFFF",
             "#FFFFFF",
             "#FFFFFF",
             "#FFFFFF",
             "#FFFFFF",
             "#FFFFFF",
             "#FFFFFF",
             "#E5E5E5"
            ],
            [
             "#FFFFFF",
             "#FFFFFF",
             "#FFFFFF",
             "#DEEFFF",
             "#DEEFFF",
             "#FFFFFF",
             "#FFFFFF",
             "#FFFFFF",
             "#FFFFFF",
             "#FFFFFF",
             "#DEEFFF",
             "#FFFFFF",
             "#F7F7F7",
             "#FFFFFF",
             "#FFFFFF",
             "#FFFFFF",
             "#FFFFFF",
             "#DEEFFF",
             "#FFFFFF",
             "#FFFFFF",
             "#FFFFFF",
             "#FFFFFF",
             "#FFFFFF",
             "#FFFFFF",
             "#DEEFFF",
             "#FFFFFF",
             "#FFFFFF",
             "#FFFFFF",
             "#FFFFFF",
             "#FFFFFF",
             "#FFFFFF",
             "#E5E5E5"
            ],
            [
             "#FFFFFF",
             "#FFFFFF",
             "#FFFFFF",
             "#DEEFFF",
             "#DEEFFF",
             "#FFFFFF",
             "#FFFFFF",
             "#FFFFFF",
             "#FFFFFF",
             "#FFFFFF",
             "#DEEFFF",
             "#FFFFFF",
             "#F7F7F7",
             "#FFFFFF",
             "#FFFFFF",
             "#FFFFFF",
             "#FFFFFF",
             "#DEEFFF",
             "#FFFFFF",
             "#FFFFFF",
             "#FFFFFF",
             "#FFFFFF",
             "#FFFFFF",
             "#FFFFFF",
             "#DEEFFF",
             "#FFFFFF",
             "#FFFFFF",
             "#FFFFFF",
             "#FFFFFF",
             "#FFFFFF",
             "#FFFFFF",
             "#E5E5E5"
            ],
            [
             "#FFFFFF",
             "#FFFFFF",
             "#FFFFFF",
             "#DEEFFF",
             "#DEEFFF",
             "#FFFFFF",
             "#FFFFFF",
             "#FFFFFF",
             "#FFFFFF",
             "#FFFFFF",
             "#DEEFFF",
             "#FFFFFF",
             "#F7F7F7",
             "#FFFFFF",
             "#FFFFFF",
             "#FFFFFF",
             "#FFFFFF",
             "#DEEFFF",
             "#FFFFFF",
             "#FFFFFF",
             "#FFFFFF",
             "#FFFFFF",
             "#FFFFFF",
             "#FFFFFF",
             "#DEEFFF",
             "#FFFFFF",
             "#FFFFFF",
             "#FFFFFF",
             "#FFFFFF",
             "#FFFFFF",
             "#FFFFFF",
             "#E5E5E5"
            ],
            [
             "#FFFFFF",
             "#FFFFFF",
             "#FFFFFF",
             "#DEEFFF",
             "#DEEFFF",
             "#FFFFFF",
             "#FFFFFF",
             "#FFFFFF",
             "#FFFFFF",
             "#FFFFFF",
             "#DEEFFF",
             "#FFFFFF",
             "#F7F7F7",
             "#FFFFFF",
             "#FFFFFF",
             "#FFFFFF",
             "#FFFFFF",
             "#DEEFFF",
             "#FFFFFF",
             "#FFFFFF",
             "#FFFFFF",
             "#FFFFFF",
             "#FFFFFF",
             "#FFFFFF",
             "#DEEFFF",
             "#FFFFFF",
             "#FFFFFF",
             "#FFFFFF",
             "#FFFFFF",
             "#FFFFFF",
             "#FFFFFF",
             "#E5E5E5"
            ],
            [
             "#FFFFFF",
             "#FFFFFF",
             "#FFFFFF",
             "#DEEFFF",
             "#DEEFFF",
             "#FFFFFF",
             "#FFFFFF",
             "#FFFFFF",
             "#FFFFFF",
             "#FFFFFF",
             "#DEEFFF",
             "#FFFFFF",
             "#F7F7F7",
             "#FFFFFF",
             "#FFFFFF",
             "#FFFFFF",
             "#FFFFFF",
             "#DEEFFF",
             "#FFFFFF",
             "#FFFFFF",
             "#FFFFFF",
             "#FFFFFF",
             "#FFFFFF",
             "#FFFFFF",
             "#DEEFFF",
             "#FFFFFF",
             "#FFFFFF",
             "#FFFFFF",
             "#FFFFFF",
             "#FFFFFF",
             "#FFFFFF",
             "#E5E5E5"
            ],
            [
             "#FFFFFF",
             "#FFFFFF",
             "#FFFFFF",
             "#DEEFFF",
             "#DEEFFF",
             "#FFFFFF",
             "#FFFFFF",
             "#FFFFFF",
             "#FFFFFF",
             "#FFFFFF",
             "#DEEFFF",
             "#FFFFFF",
             "#F7F7F7",
             "#FFFFFF",
             "#FFFFFF",
             "#FFFFFF",
             "#FFFFFF",
             "#DEEFFF",
             "#FFFFFF",
             "#FFFFFF",
             "#FFFFFF",
             "#FFFFFF",
             "#FFFFFF",
             "#FFFFFF",
             "#DEEFFF",
             "#FFFFFF",
             "#FFFFFF",
             "#FFFFFF",
             "#FFFFFF",
             "#FFFFFF",
             "#FFFFFF",
             "#E5E5E5"
            ],
            [
             "#FFFFFF",
             "#FFFFFF",
             "#FFFFFF",
             "#DEEFFF",
             "#DEEFFF",
             "#FFFFFF",
             "#FFFFFF",
             "#FFFFFF",
             "#FFFFFF",
             "#FFFFFF",
             "#DEEFFF",
             "#FFFFFF",
             "#F7F7F7",
             "#FFFFFF",
             "#FFFFFF",
             "#FFFFFF",
             "#FFFFFF",
             "#DEEFFF",
             "#FFFFFF",
             "#FFFFFF",
             "#FFFFFF",
             "#FFFFFF",
             "#FFFFFF",
             "#FFFFFF",
             "#DEEFFF",
             "#FFFFFF",
             "#FFFFFF",
             "#FFFFFF",
             "#FFFFFF",
             "#FFFFFF",
             "#FFFFFF",
             "#E5E5E5"
            ],
            [
             "#FFFFFF",
             "#FFFFFF",
             "#FFFFFF",
             "#DEEFFF",
             "#DEEFFF",
             "#FFFFFF",
             "#FFFFFF",
             "#FFFFFF",
             "#FFFFFF",
             "#FFFFFF",
             "#DEEFFF",
             "#FFFFFF",
             "#F7F7F7",
             "#FFFFFF",
             "#FFFFFF",
             "#FFFFFF",
             "#FFFFFF",
             "#DEEFFF",
             "#FFFFFF",
             "#FFFFFF",
             "#FFFFFF",
             "#FFFFFF",
             "#FFFFFF",
             "#FFFFFF",
             "#DEEFFF",
             "#FFFFFF",
             "#FFFFFF",
             "#FFFFFF",
             "#FFFFFF",
             "#FFFFFF",
             "#FFFFFF",
             "#E5E5E5"
            ]
           ],
           "width": 2
          },
          "values": [
           [
            "01/12/2022, Quinta-feira",
            "02/12/2022, Sexta-feira",
            "03/12/2022, Sábado",
            "04/12/2022, Domingo",
            "05/12/2022, Segunda-feira",
            "06/12/2022, Terça-feira",
            "07/12/2022, Quarta-feira",
            "08/12/2022, Quinta-feira",
            "09/12/2022, Sexta-feira",
            "10/12/2022, Sábado",
            "11/12/2022, Domingo",
            "12/12/2022, Segunda-feira",
            "13/12/2022, Terça-feira",
            "14/12/2022, Quarta-feira",
            "15/12/2022, Quinta-feira",
            "16/12/2022, Sexta-feira",
            "17/12/2022, Sábado",
            "18/12/2022, Domingo",
            "19/12/2022, Segunda-feira",
            "20/12/2022, Terça-feira",
            "21/12/2022, Quarta-feira",
            "22/12/2022, Quinta-feira",
            "23/12/2022, Sexta-feira",
            "24/12/2022, Sábado",
            "25/12/2022, Domingo",
            "26/12/2022, Segunda-feira",
            "27/12/2022, Terça-feira",
            "28/12/2022, Quarta-feira",
            "29/12/2022, Quinta-feira",
            "30/12/2022, Sexta-feira",
            "31/12/2022, Sábado",
            "Total"
           ],
           [
            "R$ 119.047,62",
            "R$ 119.047,62",
            "R$ 50.000,00",
            "",
            "",
            "R$ 119.047,62",
            "R$ 119.047,62",
            "R$ 119.047,62",
            "R$ 83.333,33",
            "R$ 50.000,00",
            "",
            "R$ 119.047,62",
            "R$ 119.047,62",
            "R$ 119.047,62",
            "R$ 119.047,62",
            "R$ 119.047,62",
            "R$ 50.000,00",
            "",
            "R$ 119.047,62",
            "R$ 119.047,62",
            "R$ 119.047,62",
            "R$ 119.047,62",
            "R$ 119.047,62",
            "R$ 50.000,00",
            "",
            "R$ 119.047,62",
            "R$ 119.047,62",
            "R$ 119.047,62",
            "R$ 119.047,62",
            "R$ 119.047,62",
            "R$ 50.000,00",
            "R$ 2.714.285,71"
           ],
           [
            "R$ 107.636,78",
            "R$ 62.004,36",
            "R$ 60.573,95",
            "",
            "R$ 79.668,47",
            "R$ 138.128,60",
            "R$ 150.533,05",
            "R$ 149.172,76",
            "R$ 75.246,25",
            "R$ 75.786,99",
            "",
            "R$ 149.480,44",
            "",
            "",
            "",
            "",
            "",
            "",
            "",
            "",
            "",
            "",
            "",
            "",
            "",
            "",
            "",
            "",
            "",
            "",
            "",
            "R$ 1.048.231,65"
           ],
           [
            "R$ 101.615,39",
            "R$ 59.570,13",
            "R$ 58.481,88",
            "",
            "R$ 74.524,04",
            "R$ 132.620,87",
            "R$ 144.873,87",
            "R$ 140.912,57",
            "R$ 72.118,24",
            "R$ 72.143,54",
            "",
            "R$ 144.732,41",
            "",
            "",
            "",
            "",
            "",
            "",
            "",
            "",
            "",
            "",
            "",
            "",
            "",
            "",
            "",
            "",
            "",
            "",
            "",
            "R$ 1.001.592,94"
           ],
           [
            "R$ 6.021,39",
            "R$ 2.434,23",
            "R$ 2.092,07",
            "",
            "R$ 5.144,43",
            "R$ 5.507,73",
            "R$ 5.659,18",
            "R$ 8.260,19",
            "R$ 3.128,01",
            "R$ 3.643,45",
            "",
            "R$ 4.748,03",
            "",
            "",
            "",
            "",
            "",
            "",
            "",
            "",
            "",
            "",
            "",
            "",
            "",
            "",
            "",
            "",
            "",
            "",
            "",
            "R$ 46.638,71"
           ],
           [
            "5,59%",
            "3,93%",
            "3,45%",
            "",
            "6,46%",
            "3,99%",
            "3,76%",
            "5,54%",
            "4,16%",
            "4,81%",
            "",
            "3,18%",
            "",
            "",
            "",
            "",
            "",
            "",
            "",
            "",
            "",
            "",
            "",
            "",
            "",
            "",
            "",
            "",
            "",
            "",
            "",
            "4,45%"
           ],
           [
            "R$ 95.641,65",
            "R$ 56.115,59",
            "R$ 55.052,93",
            "",
            "R$ 72.922,13",
            "R$ 129.497,23",
            "R$ 140.359,71",
            "R$ 137.159,57",
            "R$ 69.777,45",
            "R$ 68.283,49",
            "",
            "R$ 137.606,95",
            "",
            "",
            "",
            "",
            "",
            "",
            "",
            "",
            "",
            "",
            "",
            "",
            "",
            "",
            "",
            "",
            "",
            "",
            "",
            "R$ 962.416,70"
           ],
           [
            "260",
            "175",
            "152",
            "",
            "212",
            "286",
            "298",
            "302",
            "197",
            "173",
            "",
            "296",
            "",
            "",
            "",
            "",
            "",
            "",
            "",
            "",
            "",
            "",
            "",
            "",
            "",
            "",
            "",
            "",
            "",
            "",
            "",
            "644"
           ],
           [
            "6,04%",
            "4,34%",
            "3,55%",
            "",
            "7,02%",
            "4,12%",
            "3,89%",
            "5,89%",
            "3,41%",
            "5,18%",
            "",
            "3,39%",
            "",
            "",
            "",
            "",
            "",
            "",
            "",
            "",
            "",
            "",
            "",
            "",
            "",
            "",
            "",
            "",
            "",
            "",
            "",
            "4,65%"
           ],
           [
            "R$ 5.973,74",
            "R$ 3.454,54",
            "R$ 3.428,95",
            "",
            "R$ 1.601,91",
            "R$ 3.123,64",
            "R$ 4.514,16",
            "R$ 3.753,00",
            "R$ 2.340,79",
            "R$ 3.860,05",
            "",
            "R$ 7.125,46",
            "",
            "",
            "",
            "",
            "",
            "",
            "",
            "",
            "",
            "",
            "",
            "",
            "",
            "",
            "",
            "",
            "",
            "",
            "",
            "R$ 39.176,24"
           ],
           [
            "23",
            "16",
            "18",
            "",
            "15",
            "25",
            "24",
            "19",
            "13",
            "23",
            "",
            "33",
            "",
            "",
            "",
            "",
            "",
            "",
            "",
            "",
            "",
            "",
            "",
            "",
            "",
            "",
            "",
            "",
            "",
            "",
            "",
            "209"
           ],
           [
            "4,05%",
            "",
            "4,09%",
            "",
            "1,56%",
            "5,39%",
            "4,52%",
            "4,75%",
            "31,87%",
            "2,68%",
            "",
            "1,10%",
            "",
            "",
            "",
            "",
            "",
            "",
            "",
            "",
            "",
            "",
            "",
            "",
            "",
            "",
            "",
            "",
            "",
            "",
            "",
            "4,81%"
           ],
           [
            "85,36%",
            "50,04%",
            "116,96%",
            "",
            "",
            "111,40%",
            "121,69%",
            "118,37%",
            "86,54%",
            "144,29%",
            "",
            "121,58%",
            "",
            "",
            "",
            "",
            "",
            "",
            "",
            "",
            "",
            "",
            "",
            "",
            "",
            "",
            "",
            "",
            "",
            "",
            "",
            "36,90%"
           ],
           [
            "85,36%",
            "67,70%",
            "76,25%",
            "76,25%",
            "102,12%",
            "104,83%",
            "108,65%",
            "110,44%",
            "107,71%",
            "110,06%",
            "110,06%",
            "111,58%",
            "98,52%",
            "88,19%",
            "79,82%",
            "72,91%",
            "70,35%",
            "70,35%",
            "64,92%",
            "60,27%",
            "56,24%",
            "52,72%",
            "49,61%",
            "48,41%",
            "48,41%",
            "45,77%",
            "43,41%",
            "41,28%",
            "39,35%",
            "37,59%",
            "36,90%",
            "36,90%"
           ],
           [
            "R$ 2.316.830,89",
            "R$ 1.837.514,93",
            "R$ 2.069.593,68",
            "R$ 2.069.593,68",
            "R$ 2.771.721,00",
            "R$ 2.845.415,40",
            "R$ 2.948.969,43",
            "R$ 2.997.647,87",
            "R$ 2.923.455,45",
            "R$ 2.987.220,19",
            "R$ 2.987.220,19",
            "R$ 3.028.689,52",
            "R$ 2.674.042,04",
            "R$ 2.393.744,13",
            "R$ 2.166.633,68",
            "R$ 1.978.883,80",
            "R$ 1.909.391,22",
            "R$ 1.909.391,22",
            "R$ 1.762.061,65",
            "R$ 1.635.839,47",
            "R$ 1.526.491,91",
            "R$ 1.430.847,05",
            "R$ 1.346.481,07",
            "R$ 1.313.942,40",
            "R$ 1.313.942,40",
            "R$ 1.242.454,79",
            "R$ 1.178.344,63",
            "R$ 1.120.525,96",
            "R$ 1.068.115,95",
            "R$ 1.020.389,59",
            "R$ 1.001.592,94",
            ""
           ]
          ]
         },
         "columnwidth": [
          10.300925925925926,
          6.592592592592593,
          6.592592592592593,
          6.592592592592593,
          6.592592592592593,
          4.12037037037037,
          6.592592592592593,
          5.356481481481481,
          4.944444444444445,
          6.592592592592593,
          4.944444444444445,
          4.12037037037037,
          2.8842592592592595,
          2.8842592592592595,
          6.592592592592593
         ],
         "domain": {
          "y": [
           0,
           1
          ]
         },
         "header": {
          "align": "center",
          "fill": {
           "color": "#E5E5E5"
          },
          "font": {
           "color": [
            "#000000",
            "#000000",
            "#118DFF",
            "#000000",
            "#FF0000",
            "#FF0000",
            "#E04392",
            "#000000",
            "#FF0000",
            "#E04392",
            "#000000",
            "#FF0000",
            "#000000",
            "#000000",
            "#000000"
           ],
           "family": "Segoe UI Semibold",
           "size": 13.185185185185185
          },
          "line": {
           "color": "#E5E5E5",
           "width": 3
          },
          "values": [
           "Data",
           "Meta",
           "Venda\nSIAC",
           "Venda\nLíquida",
           "Devolução",
           "%\nDev",
           "Venda\nCNPJ",
           "Clientes\nCNPJ",
           "% Dev\nCNPJ",
           "Venda\nCPF",
           "Clientes\nCPF",
           "% Dev\nCPF",
           "%\nDia",
           "%\nMês",
           "Projeção\nmensal"
          ]
         },
         "type": "table"
        }
       ],
       "layout": {
        "height": 890,
        "template": {
         "data": {
          "bar": [
           {
            "error_x": {
             "color": "#2a3f5f"
            },
            "error_y": {
             "color": "#2a3f5f"
            },
            "marker": {
             "line": {
              "color": "#E5ECF6",
              "width": 0.5
             },
             "pattern": {
              "fillmode": "overlay",
              "size": 10,
              "solidity": 0.2
             }
            },
            "type": "bar"
           }
          ],
          "barpolar": [
           {
            "marker": {
             "line": {
              "color": "#E5ECF6",
              "width": 0.5
             },
             "pattern": {
              "fillmode": "overlay",
              "size": 10,
              "solidity": 0.2
             }
            },
            "type": "barpolar"
           }
          ],
          "carpet": [
           {
            "aaxis": {
             "endlinecolor": "#2a3f5f",
             "gridcolor": "white",
             "linecolor": "white",
             "minorgridcolor": "white",
             "startlinecolor": "#2a3f5f"
            },
            "baxis": {
             "endlinecolor": "#2a3f5f",
             "gridcolor": "white",
             "linecolor": "white",
             "minorgridcolor": "white",
             "startlinecolor": "#2a3f5f"
            },
            "type": "carpet"
           }
          ],
          "choropleth": [
           {
            "colorbar": {
             "outlinewidth": 0,
             "ticks": ""
            },
            "type": "choropleth"
           }
          ],
          "contour": [
           {
            "colorbar": {
             "outlinewidth": 0,
             "ticks": ""
            },
            "colorscale": [
             [
              0,
              "#0d0887"
             ],
             [
              0.1111111111111111,
              "#46039f"
             ],
             [
              0.2222222222222222,
              "#7201a8"
             ],
             [
              0.3333333333333333,
              "#9c179e"
             ],
             [
              0.4444444444444444,
              "#bd3786"
             ],
             [
              0.5555555555555556,
              "#d8576b"
             ],
             [
              0.6666666666666666,
              "#ed7953"
             ],
             [
              0.7777777777777778,
              "#fb9f3a"
             ],
             [
              0.8888888888888888,
              "#fdca26"
             ],
             [
              1,
              "#f0f921"
             ]
            ],
            "type": "contour"
           }
          ],
          "contourcarpet": [
           {
            "colorbar": {
             "outlinewidth": 0,
             "ticks": ""
            },
            "type": "contourcarpet"
           }
          ],
          "heatmap": [
           {
            "colorbar": {
             "outlinewidth": 0,
             "ticks": ""
            },
            "colorscale": [
             [
              0,
              "#0d0887"
             ],
             [
              0.1111111111111111,
              "#46039f"
             ],
             [
              0.2222222222222222,
              "#7201a8"
             ],
             [
              0.3333333333333333,
              "#9c179e"
             ],
             [
              0.4444444444444444,
              "#bd3786"
             ],
             [
              0.5555555555555556,
              "#d8576b"
             ],
             [
              0.6666666666666666,
              "#ed7953"
             ],
             [
              0.7777777777777778,
              "#fb9f3a"
             ],
             [
              0.8888888888888888,
              "#fdca26"
             ],
             [
              1,
              "#f0f921"
             ]
            ],
            "type": "heatmap"
           }
          ],
          "heatmapgl": [
           {
            "colorbar": {
             "outlinewidth": 0,
             "ticks": ""
            },
            "colorscale": [
             [
              0,
              "#0d0887"
             ],
             [
              0.1111111111111111,
              "#46039f"
             ],
             [
              0.2222222222222222,
              "#7201a8"
             ],
             [
              0.3333333333333333,
              "#9c179e"
             ],
             [
              0.4444444444444444,
              "#bd3786"
             ],
             [
              0.5555555555555556,
              "#d8576b"
             ],
             [
              0.6666666666666666,
              "#ed7953"
             ],
             [
              0.7777777777777778,
              "#fb9f3a"
             ],
             [
              0.8888888888888888,
              "#fdca26"
             ],
             [
              1,
              "#f0f921"
             ]
            ],
            "type": "heatmapgl"
           }
          ],
          "histogram": [
           {
            "marker": {
             "pattern": {
              "fillmode": "overlay",
              "size": 10,
              "solidity": 0.2
             }
            },
            "type": "histogram"
           }
          ],
          "histogram2d": [
           {
            "colorbar": {
             "outlinewidth": 0,
             "ticks": ""
            },
            "colorscale": [
             [
              0,
              "#0d0887"
             ],
             [
              0.1111111111111111,
              "#46039f"
             ],
             [
              0.2222222222222222,
              "#7201a8"
             ],
             [
              0.3333333333333333,
              "#9c179e"
             ],
             [
              0.4444444444444444,
              "#bd3786"
             ],
             [
              0.5555555555555556,
              "#d8576b"
             ],
             [
              0.6666666666666666,
              "#ed7953"
             ],
             [
              0.7777777777777778,
              "#fb9f3a"
             ],
             [
              0.8888888888888888,
              "#fdca26"
             ],
             [
              1,
              "#f0f921"
             ]
            ],
            "type": "histogram2d"
           }
          ],
          "histogram2dcontour": [
           {
            "colorbar": {
             "outlinewidth": 0,
             "ticks": ""
            },
            "colorscale": [
             [
              0,
              "#0d0887"
             ],
             [
              0.1111111111111111,
              "#46039f"
             ],
             [
              0.2222222222222222,
              "#7201a8"
             ],
             [
              0.3333333333333333,
              "#9c179e"
             ],
             [
              0.4444444444444444,
              "#bd3786"
             ],
             [
              0.5555555555555556,
              "#d8576b"
             ],
             [
              0.6666666666666666,
              "#ed7953"
             ],
             [
              0.7777777777777778,
              "#fb9f3a"
             ],
             [
              0.8888888888888888,
              "#fdca26"
             ],
             [
              1,
              "#f0f921"
             ]
            ],
            "type": "histogram2dcontour"
           }
          ],
          "mesh3d": [
           {
            "colorbar": {
             "outlinewidth": 0,
             "ticks": ""
            },
            "type": "mesh3d"
           }
          ],
          "parcoords": [
           {
            "line": {
             "colorbar": {
              "outlinewidth": 0,
              "ticks": ""
             }
            },
            "type": "parcoords"
           }
          ],
          "pie": [
           {
            "automargin": true,
            "type": "pie"
           }
          ],
          "scatter": [
           {
            "fillpattern": {
             "fillmode": "overlay",
             "size": 10,
             "solidity": 0.2
            },
            "type": "scatter"
           }
          ],
          "scatter3d": [
           {
            "line": {
             "colorbar": {
              "outlinewidth": 0,
              "ticks": ""
             }
            },
            "marker": {
             "colorbar": {
              "outlinewidth": 0,
              "ticks": ""
             }
            },
            "type": "scatter3d"
           }
          ],
          "scattercarpet": [
           {
            "marker": {
             "colorbar": {
              "outlinewidth": 0,
              "ticks": ""
             }
            },
            "type": "scattercarpet"
           }
          ],
          "scattergeo": [
           {
            "marker": {
             "colorbar": {
              "outlinewidth": 0,
              "ticks": ""
             }
            },
            "type": "scattergeo"
           }
          ],
          "scattergl": [
           {
            "marker": {
             "colorbar": {
              "outlinewidth": 0,
              "ticks": ""
             }
            },
            "type": "scattergl"
           }
          ],
          "scattermapbox": [
           {
            "marker": {
             "colorbar": {
              "outlinewidth": 0,
              "ticks": ""
             }
            },
            "type": "scattermapbox"
           }
          ],
          "scatterpolar": [
           {
            "marker": {
             "colorbar": {
              "outlinewidth": 0,
              "ticks": ""
             }
            },
            "type": "scatterpolar"
           }
          ],
          "scatterpolargl": [
           {
            "marker": {
             "colorbar": {
              "outlinewidth": 0,
              "ticks": ""
             }
            },
            "type": "scatterpolargl"
           }
          ],
          "scatterternary": [
           {
            "marker": {
             "colorbar": {
              "outlinewidth": 0,
              "ticks": ""
             }
            },
            "type": "scatterternary"
           }
          ],
          "surface": [
           {
            "colorbar": {
             "outlinewidth": 0,
             "ticks": ""
            },
            "colorscale": [
             [
              0,
              "#0d0887"
             ],
             [
              0.1111111111111111,
              "#46039f"
             ],
             [
              0.2222222222222222,
              "#7201a8"
             ],
             [
              0.3333333333333333,
              "#9c179e"
             ],
             [
              0.4444444444444444,
              "#bd3786"
             ],
             [
              0.5555555555555556,
              "#d8576b"
             ],
             [
              0.6666666666666666,
              "#ed7953"
             ],
             [
              0.7777777777777778,
              "#fb9f3a"
             ],
             [
              0.8888888888888888,
              "#fdca26"
             ],
             [
              1,
              "#f0f921"
             ]
            ],
            "type": "surface"
           }
          ],
          "table": [
           {
            "cells": {
             "fill": {
              "color": "#EBF0F8"
             },
             "line": {
              "color": "white"
             }
            },
            "header": {
             "fill": {
              "color": "#C8D4E3"
             },
             "line": {
              "color": "white"
             }
            },
            "type": "table"
           }
          ]
         },
         "layout": {
          "annotationdefaults": {
           "arrowcolor": "#2a3f5f",
           "arrowhead": 0,
           "arrowwidth": 1
          },
          "autotypenumbers": "strict",
          "coloraxis": {
           "colorbar": {
            "outlinewidth": 0,
            "ticks": ""
           }
          },
          "colorscale": {
           "diverging": [
            [
             0,
             "#8e0152"
            ],
            [
             0.1,
             "#c51b7d"
            ],
            [
             0.2,
             "#de77ae"
            ],
            [
             0.3,
             "#f1b6da"
            ],
            [
             0.4,
             "#fde0ef"
            ],
            [
             0.5,
             "#f7f7f7"
            ],
            [
             0.6,
             "#e6f5d0"
            ],
            [
             0.7,
             "#b8e186"
            ],
            [
             0.8,
             "#7fbc41"
            ],
            [
             0.9,
             "#4d9221"
            ],
            [
             1,
             "#276419"
            ]
           ],
           "sequential": [
            [
             0,
             "#0d0887"
            ],
            [
             0.1111111111111111,
             "#46039f"
            ],
            [
             0.2222222222222222,
             "#7201a8"
            ],
            [
             0.3333333333333333,
             "#9c179e"
            ],
            [
             0.4444444444444444,
             "#bd3786"
            ],
            [
             0.5555555555555556,
             "#d8576b"
            ],
            [
             0.6666666666666666,
             "#ed7953"
            ],
            [
             0.7777777777777778,
             "#fb9f3a"
            ],
            [
             0.8888888888888888,
             "#fdca26"
            ],
            [
             1,
             "#f0f921"
            ]
           ],
           "sequentialminus": [
            [
             0,
             "#0d0887"
            ],
            [
             0.1111111111111111,
             "#46039f"
            ],
            [
             0.2222222222222222,
             "#7201a8"
            ],
            [
             0.3333333333333333,
             "#9c179e"
            ],
            [
             0.4444444444444444,
             "#bd3786"
            ],
            [
             0.5555555555555556,
             "#d8576b"
            ],
            [
             0.6666666666666666,
             "#ed7953"
            ],
            [
             0.7777777777777778,
             "#fb9f3a"
            ],
            [
             0.8888888888888888,
             "#fdca26"
            ],
            [
             1,
             "#f0f921"
            ]
           ]
          },
          "colorway": [
           "#636efa",
           "#EF553B",
           "#00cc96",
           "#ab63fa",
           "#FFA15A",
           "#19d3f3",
           "#FF6692",
           "#B6E880",
           "#FF97FF",
           "#FECB52"
          ],
          "font": {
           "color": "#2a3f5f"
          },
          "geo": {
           "bgcolor": "white",
           "lakecolor": "white",
           "landcolor": "#E5ECF6",
           "showlakes": true,
           "showland": true,
           "subunitcolor": "white"
          },
          "hoverlabel": {
           "align": "left"
          },
          "hovermode": "closest",
          "mapbox": {
           "style": "light"
          },
          "paper_bgcolor": "white",
          "plot_bgcolor": "#E5ECF6",
          "polar": {
           "angularaxis": {
            "gridcolor": "white",
            "linecolor": "white",
            "ticks": ""
           },
           "bgcolor": "#E5ECF6",
           "radialaxis": {
            "gridcolor": "white",
            "linecolor": "white",
            "ticks": ""
           }
          },
          "scene": {
           "xaxis": {
            "backgroundcolor": "#E5ECF6",
            "gridcolor": "white",
            "gridwidth": 2,
            "linecolor": "white",
            "showbackground": true,
            "ticks": "",
            "zerolinecolor": "white"
           },
           "yaxis": {
            "backgroundcolor": "#E5ECF6",
            "gridcolor": "white",
            "gridwidth": 2,
            "linecolor": "white",
            "showbackground": true,
            "ticks": "",
            "zerolinecolor": "white"
           },
           "zaxis": {
            "backgroundcolor": "#E5ECF6",
            "gridcolor": "white",
            "gridwidth": 2,
            "linecolor": "white",
            "showbackground": true,
            "ticks": "",
            "zerolinecolor": "white"
           }
          },
          "shapedefaults": {
           "line": {
            "color": "#2a3f5f"
           }
          },
          "ternary": {
           "aaxis": {
            "gridcolor": "white",
            "linecolor": "white",
            "ticks": ""
           },
           "baxis": {
            "gridcolor": "white",
            "linecolor": "white",
            "ticks": ""
           },
           "bgcolor": "#E5ECF6",
           "caxis": {
            "gridcolor": "white",
            "linecolor": "white",
            "ticks": ""
           }
          },
          "title": {
           "x": 0.05
          },
          "xaxis": {
           "automargin": true,
           "gridcolor": "white",
           "linecolor": "white",
           "ticks": "",
           "title": {
            "standoff": 15
           },
           "zerolinecolor": "white",
           "zerolinewidth": 2
          },
          "yaxis": {
           "automargin": true,
           "gridcolor": "white",
           "linecolor": "white",
           "ticks": "",
           "title": {
            "standoff": 15
           },
           "zerolinecolor": "white",
           "zerolinewidth": 2
          }
         }
        },
        "title": {
         "font": {
          "color": "#E74856",
          "family": "Jost",
          "size": 24.72222222222222
         },
         "text": "◙◙◙◙◙◙◙◙◙◙ 🡆 GAMA 🡄 ◙◙◙◙◙◙◙◙◙◙◙◙◙◙◙◙◙◙◙◙◙◙◙◙◙◙◙◙◙◙◙◙◙◙◙◙◙◙◙◙◙◙◙◙◙◙◙◙◙◙◙◙◙◙◙◙◙◙◙◙◙◙◙◙◙◙◙◙◙◙◙◙◙◙◙◙ ⒼⒶⓂⒶ ◙◙◙◙◙◙◙◙◙◙",
         "x": 0.5,
         "y": 0.95,
         "yanchor": "bottom"
        },
        "width": 2060
       }
      }
     },
     "metadata": {},
     "output_type": "display_data"
    },
    {
     "name": "stdout",
     "output_type": "stream",
     "text": [
      "TESTE 05 TABLE.png\n",
      "\n",
      "13-12-2022 PrimeiraFoto - https://chat.whatsapp.com/LK4LDajkH52BNydoLGGD2d\n",
      "13-12-2022 API - https://chat.whatsapp.com/EBLX0fxYfvuHL7jZ9CZECQ\n",
      "13-12-2022 Teste Python - https://chat.whatsapp.com/I4y7EAVfns629NvfoLUtGI\n",
      "\n",
      "• '06' SOF SUL\n",
      "\n"
     ]
    },
    {
     "name": "stderr",
     "output_type": "stream",
     "text": [
      "C:\\Users\\admin\\AppData\\Local\\Temp\\ipykernel_16068\\3465617909.py:86: RuntimeWarning:\n",
      "\n",
      "divide by zero encountered in double_scalars\n",
      "\n"
     ]
    },
    {
     "data": {
      "application/vnd.plotly.v1+json": {
       "config": {
        "plotlyServerURL": "https://plot.ly"
       },
       "data": [
        {
         "cells": {
          "align": [
           "left",
           "center"
          ],
          "fill": {
           "color": [
            [
             "#FFFFFF",
             "#FFFFFF",
             "#FFFFFF",
             "#DEEFFF",
             "#DEEFFF",
             "#FFFFFF",
             "#FFFFFF",
             "#FFFFFF",
             "#FFFFFF",
             "#FFFFFF",
             "#DEEFFF",
             "#FFFFFF",
             "#F7F7F7",
             "#FFFFFF",
             "#FFFFFF",
             "#FFFFFF",
             "#FFFFFF",
             "#DEEFFF",
             "#FFFFFF",
             "#FFFFFF",
             "#FFFFFF",
             "#FFFFFF",
             "#FFFFFF",
             "#FFFFFF",
             "#DEEFFF",
             "#FFFFFF",
             "#FFFFFF",
             "#FFFFFF",
             "#FFFFFF",
             "#FFFFFF",
             "#FFFFFF",
             "#E5E5E5"
            ],
            [
             "#FFFFFF",
             "#FFFFFF",
             "#FFFFFF",
             "#DEEFFF",
             "#DEEFFF",
             "#FFFFFF",
             "#FFFFFF",
             "#FFFFFF",
             "#FFFFFF",
             "#FFFFFF",
             "#DEEFFF",
             "#FFFFFF",
             "#F7F7F7",
             "#FFFFFF",
             "#FFFFFF",
             "#FFFFFF",
             "#FFFFFF",
             "#DEEFFF",
             "#FFFFFF",
             "#FFFFFF",
             "#FFFFFF",
             "#FFFFFF",
             "#FFFFFF",
             "#FFFFFF",
             "#DEEFFF",
             "#FFFFFF",
             "#FFFFFF",
             "#FFFFFF",
             "#FFFFFF",
             "#FFFFFF",
             "#FFFFFF",
             "#E5E5E5"
            ],
            [
             "#F7F7F7",
             "#F7F7F7",
             "#F7F7F7",
             "#DEEFFF",
             "#DEEFFF",
             "#F7F7F7",
             "#F7F7F7",
             "#F7F7F7",
             "#F7F7F7",
             "#F7F7F7",
             "#DEEFFF",
             "#F7F7F7",
             "#F7F7F7",
             "#F7F7F7",
             "#F7F7F7",
             "#F7F7F7",
             "#F7F7F7",
             "#DEEFFF",
             "#F7F7F7",
             "#F7F7F7",
             "#F7F7F7",
             "#F7F7F7",
             "#F7F7F7",
             "#F7F7F7",
             "#DEEFFF",
             "#F7F7F7",
             "#F7F7F7",
             "#F7F7F7",
             "#F7F7F7",
             "#F7F7F7",
             "#F7F7F7",
             "#E5E5E5"
            ],
            [
             "#F7F7F7",
             "#F7F7F7",
             "#F7F7F7",
             "#DEEFFF",
             "#DEEFFF",
             "#F7F7F7",
             "#F7F7F7",
             "#F7F7F7",
             "#F7F7F7",
             "#F7F7F7",
             "#DEEFFF",
             "#F7F7F7",
             "#F7F7F7",
             "#F7F7F7",
             "#F7F7F7",
             "#F7F7F7",
             "#F7F7F7",
             "#DEEFFF",
             "#F7F7F7",
             "#F7F7F7",
             "#F7F7F7",
             "#F7F7F7",
             "#F7F7F7",
             "#F7F7F7",
             "#DEEFFF",
             "#F7F7F7",
             "#F7F7F7",
             "#F7F7F7",
             "#F7F7F7",
             "#F7F7F7",
             "#F7F7F7",
             "#E5E5E5"
            ],
            [
             "#FFFFFF",
             "#FFFFFF",
             "#FFFFFF",
             "#DEEFFF",
             "#DEEFFF",
             "#FFFFFF",
             "#FFFFFF",
             "#FFFFFF",
             "#FFFFFF",
             "#FFFFFF",
             "#DEEFFF",
             "#FFFFFF",
             "#F7F7F7",
             "#FFFFFF",
             "#FFFFFF",
             "#FFFFFF",
             "#FFFFFF",
             "#DEEFFF",
             "#FFFFFF",
             "#FFFFFF",
             "#FFFFFF",
             "#FFFFFF",
             "#FFFFFF",
             "#FFFFFF",
             "#DEEFFF",
             "#FFFFFF",
             "#FFFFFF",
             "#FFFFFF",
             "#FFFFFF",
             "#FFFFFF",
             "#FFFFFF",
             "#E5E5E5"
            ],
            [
             "#FFFFFF",
             "#FFFFFF",
             "#FFFFFF",
             "#DEEFFF",
             "#DEEFFF",
             "#FFFFFF",
             "#FFFFFF",
             "#FFFFFF",
             "#FFFFFF",
             "#FFFFFF",
             "#DEEFFF",
             "#FFFFFF",
             "#F7F7F7",
             "#FFFFFF",
             "#FFFFFF",
             "#FFFFFF",
             "#FFFFFF",
             "#DEEFFF",
             "#FFFFFF",
             "#FFFFFF",
             "#FFFFFF",
             "#FFFFFF",
             "#FFFFFF",
             "#FFFFFF",
             "#DEEFFF",
             "#FFFFFF",
             "#FFFFFF",
             "#FFFFFF",
             "#FFFFFF",
             "#FFFFFF",
             "#FFFFFF",
             "#E5E5E5"
            ],
            [
             "#F7F7F7",
             "#F7F7F7",
             "#F7F7F7",
             "#DEEFFF",
             "#DEEFFF",
             "#F7F7F7",
             "#F7F7F7",
             "#F7F7F7",
             "#F7F7F7",
             "#F7F7F7",
             "#DEEFFF",
             "#F7F7F7",
             "#F7F7F7",
             "#F7F7F7",
             "#F7F7F7",
             "#F7F7F7",
             "#F7F7F7",
             "#DEEFFF",
             "#F7F7F7",
             "#F7F7F7",
             "#F7F7F7",
             "#F7F7F7",
             "#F7F7F7",
             "#F7F7F7",
             "#DEEFFF",
             "#F7F7F7",
             "#F7F7F7",
             "#F7F7F7",
             "#F7F7F7",
             "#F7F7F7",
             "#F7F7F7",
             "#E5E5E5"
            ],
            [
             "#FFFFFF",
             "#FFFFFF",
             "#FFFFFF",
             "#DEEFFF",
             "#DEEFFF",
             "#FFFFFF",
             "#FFFFFF",
             "#FFFFFF",
             "#FFFFFF",
             "#FFFFFF",
             "#DEEFFF",
             "#FFFFFF",
             "#F7F7F7",
             "#FFFFFF",
             "#FFFFFF",
             "#FFFFFF",
             "#FFFFFF",
             "#DEEFFF",
             "#FFFFFF",
             "#FFFFFF",
             "#FFFFFF",
             "#FFFFFF",
             "#FFFFFF",
             "#FFFFFF",
             "#DEEFFF",
             "#FFFFFF",
             "#FFFFFF",
             "#FFFFFF",
             "#FFFFFF",
             "#FFFFFF",
             "#FFFFFF",
             "#E5E5E5"
            ],
            [
             "#FFFFFF",
             "#FFFFFF",
             "#FFFFFF",
             "#DEEFFF",
             "#DEEFFF",
             "#FFFFFF",
             "#FFFFFF",
             "#FFFFFF",
             "#FFFFFF",
             "#FFFFFF",
             "#DEEFFF",
             "#FFFFFF",
             "#F7F7F7",
             "#FFFFFF",
             "#FFFFFF",
             "#FFFFFF",
             "#FFFFFF",
             "#DEEFFF",
             "#FFFFFF",
             "#FFFFFF",
             "#FFFFFF",
             "#FFFFFF",
             "#FFFFFF",
             "#FFFFFF",
             "#DEEFFF",
             "#FFFFFF",
             "#FFFFFF",
             "#FFFFFF",
             "#FFFFFF",
             "#FFFFFF",
             "#FFFFFF",
             "#E5E5E5"
            ],
            [
             "#F7F7F7",
             "#F7F7F7",
             "#F7F7F7",
             "#DEEFFF",
             "#DEEFFF",
             "#F7F7F7",
             "#F7F7F7",
             "#F7F7F7",
             "#F7F7F7",
             "#F7F7F7",
             "#DEEFFF",
             "#F7F7F7",
             "#F7F7F7",
             "#F7F7F7",
             "#F7F7F7",
             "#F7F7F7",
             "#F7F7F7",
             "#DEEFFF",
             "#F7F7F7",
             "#F7F7F7",
             "#F7F7F7",
             "#F7F7F7",
             "#F7F7F7",
             "#F7F7F7",
             "#DEEFFF",
             "#F7F7F7",
             "#F7F7F7",
             "#F7F7F7",
             "#F7F7F7",
             "#F7F7F7",
             "#F7F7F7",
             "#E5E5E5"
            ],
            [
             "#FFFFFF",
             "#FFFFFF",
             "#FFFFFF",
             "#DEEFFF",
             "#DEEFFF",
             "#FFFFFF",
             "#FFFFFF",
             "#FFFFFF",
             "#FFFFFF",
             "#FFFFFF",
             "#DEEFFF",
             "#FFFFFF",
             "#F7F7F7",
             "#FFFFFF",
             "#FFFFFF",
             "#FFFFFF",
             "#FFFFFF",
             "#DEEFFF",
             "#FFFFFF",
             "#FFFFFF",
             "#FFFFFF",
             "#FFFFFF",
             "#FFFFFF",
             "#FFFFFF",
             "#DEEFFF",
             "#FFFFFF",
             "#FFFFFF",
             "#FFFFFF",
             "#FFFFFF",
             "#FFFFFF",
             "#FFFFFF",
             "#E5E5E5"
            ],
            [
             "#FFFFFF",
             "#FFFFFF",
             "#FFFFFF",
             "#DEEFFF",
             "#DEEFFF",
             "#FFFFFF",
             "#FFFFFF",
             "#FFFFFF",
             "#FFFFFF",
             "#FFFFFF",
             "#DEEFFF",
             "#FFFFFF",
             "#F7F7F7",
             "#FFFFFF",
             "#FFFFFF",
             "#FFFFFF",
             "#FFFFFF",
             "#DEEFFF",
             "#FFFFFF",
             "#FFFFFF",
             "#FFFFFF",
             "#FFFFFF",
             "#FFFFFF",
             "#FFFFFF",
             "#DEEFFF",
             "#FFFFFF",
             "#FFFFFF",
             "#FFFFFF",
             "#FFFFFF",
             "#FFFFFF",
             "#FFFFFF",
             "#E5E5E5"
            ],
            [
             "#FFFFFF",
             "#FFFFFF",
             "#FFFFFF",
             "#DEEFFF",
             "#DEEFFF",
             "#FFFFFF",
             "#FFFFFF",
             "#FFFFFF",
             "#FFFFFF",
             "#FFFFFF",
             "#DEEFFF",
             "#FFFFFF",
             "#F7F7F7",
             "#FFFFFF",
             "#FFFFFF",
             "#FFFFFF",
             "#FFFFFF",
             "#DEEFFF",
             "#FFFFFF",
             "#FFFFFF",
             "#FFFFFF",
             "#FFFFFF",
             "#FFFFFF",
             "#FFFFFF",
             "#DEEFFF",
             "#FFFFFF",
             "#FFFFFF",
             "#FFFFFF",
             "#FFFFFF",
             "#FFFFFF",
             "#FFFFFF",
             "#E5E5E5"
            ],
            [
             "#FFFFFF",
             "#FFFFFF",
             "#FFFFFF",
             "#DEEFFF",
             "#DEEFFF",
             "#FFFFFF",
             "#FFFFFF",
             "#FFFFFF",
             "#FFFFFF",
             "#FFFFFF",
             "#DEEFFF",
             "#FFFFFF",
             "#F7F7F7",
             "#FFFFFF",
             "#FFFFFF",
             "#FFFFFF",
             "#FFFFFF",
             "#DEEFFF",
             "#FFFFFF",
             "#FFFFFF",
             "#FFFFFF",
             "#FFFFFF",
             "#FFFFFF",
             "#FFFFFF",
             "#DEEFFF",
             "#FFFFFF",
             "#FFFFFF",
             "#FFFFFF",
             "#FFFFFF",
             "#FFFFFF",
             "#FFFFFF",
             "#E5E5E5"
            ],
            [
             "#FFFFFF",
             "#FFFFFF",
             "#FFFFFF",
             "#DEEFFF",
             "#DEEFFF",
             "#FFFFFF",
             "#FFFFFF",
             "#FFFFFF",
             "#FFFFFF",
             "#FFFFFF",
             "#DEEFFF",
             "#FFFFFF",
             "#F7F7F7",
             "#FFFFFF",
             "#FFFFFF",
             "#FFFFFF",
             "#FFFFFF",
             "#DEEFFF",
             "#FFFFFF",
             "#FFFFFF",
             "#FFFFFF",
             "#FFFFFF",
             "#FFFFFF",
             "#FFFFFF",
             "#DEEFFF",
             "#FFFFFF",
             "#FFFFFF",
             "#FFFFFF",
             "#FFFFFF",
             "#FFFFFF",
             "#FFFFFF",
             "#E5E5E5"
            ],
            [
             "#FFFFFF",
             "#FFFFFF",
             "#FFFFFF",
             "#DEEFFF",
             "#DEEFFF",
             "#FFFFFF",
             "#FFFFFF",
             "#FFFFFF",
             "#FFFFFF",
             "#FFFFFF",
             "#DEEFFF",
             "#FFFFFF",
             "#F7F7F7",
             "#FFFFFF",
             "#FFFFFF",
             "#FFFFFF",
             "#FFFFFF",
             "#DEEFFF",
             "#FFFFFF",
             "#FFFFFF",
             "#FFFFFF",
             "#FFFFFF",
             "#FFFFFF",
             "#FFFFFF",
             "#DEEFFF",
             "#FFFFFF",
             "#FFFFFF",
             "#FFFFFF",
             "#FFFFFF",
             "#FFFFFF",
             "#FFFFFF",
             "#E5E5E5"
            ],
            [
             "#FFFFFF",
             "#FFFFFF",
             "#FFFFFF",
             "#DEEFFF",
             "#DEEFFF",
             "#FFFFFF",
             "#FFFFFF",
             "#FFFFFF",
             "#FFFFFF",
             "#FFFFFF",
             "#DEEFFF",
             "#FFFFFF",
             "#F7F7F7",
             "#FFFFFF",
             "#FFFFFF",
             "#FFFFFF",
             "#FFFFFF",
             "#DEEFFF",
             "#FFFFFF",
             "#FFFFFF",
             "#FFFFFF",
             "#FFFFFF",
             "#FFFFFF",
             "#FFFFFF",
             "#DEEFFF",
             "#FFFFFF",
             "#FFFFFF",
             "#FFFFFF",
             "#FFFFFF",
             "#FFFFFF",
             "#FFFFFF",
             "#E5E5E5"
            ],
            [
             "#FFFFFF",
             "#FFFFFF",
             "#FFFFFF",
             "#DEEFFF",
             "#DEEFFF",
             "#FFFFFF",
             "#FFFFFF",
             "#FFFFFF",
             "#FFFFFF",
             "#FFFFFF",
             "#DEEFFF",
             "#FFFFFF",
             "#F7F7F7",
             "#FFFFFF",
             "#FFFFFF",
             "#FFFFFF",
             "#FFFFFF",
             "#DEEFFF",
             "#FFFFFF",
             "#FFFFFF",
             "#FFFFFF",
             "#FFFFFF",
             "#FFFFFF",
             "#FFFFFF",
             "#DEEFFF",
             "#FFFFFF",
             "#FFFFFF",
             "#FFFFFF",
             "#FFFFFF",
             "#FFFFFF",
             "#FFFFFF",
             "#E5E5E5"
            ],
            [
             "#FFFFFF",
             "#FFFFFF",
             "#FFFFFF",
             "#DEEFFF",
             "#DEEFFF",
             "#FFFFFF",
             "#FFFFFF",
             "#FFFFFF",
             "#FFFFFF",
             "#FFFFFF",
             "#DEEFFF",
             "#FFFFFF",
             "#F7F7F7",
             "#FFFFFF",
             "#FFFFFF",
             "#FFFFFF",
             "#FFFFFF",
             "#DEEFFF",
             "#FFFFFF",
             "#FFFFFF",
             "#FFFFFF",
             "#FFFFFF",
             "#FFFFFF",
             "#FFFFFF",
             "#DEEFFF",
             "#FFFFFF",
             "#FFFFFF",
             "#FFFFFF",
             "#FFFFFF",
             "#FFFFFF",
             "#FFFFFF",
             "#E5E5E5"
            ],
            [
             "#FFFFFF",
             "#FFFFFF",
             "#FFFFFF",
             "#DEEFFF",
             "#DEEFFF",
             "#FFFFFF",
             "#FFFFFF",
             "#FFFFFF",
             "#FFFFFF",
             "#FFFFFF",
             "#DEEFFF",
             "#FFFFFF",
             "#F7F7F7",
             "#FFFFFF",
             "#FFFFFF",
             "#FFFFFF",
             "#FFFFFF",
             "#DEEFFF",
             "#FFFFFF",
             "#FFFFFF",
             "#FFFFFF",
             "#FFFFFF",
             "#FFFFFF",
             "#FFFFFF",
             "#DEEFFF",
             "#FFFFFF",
             "#FFFFFF",
             "#FFFFFF",
             "#FFFFFF",
             "#FFFFFF",
             "#FFFFFF",
             "#E5E5E5"
            ],
            [
             "#FFFFFF",
             "#FFFFFF",
             "#FFFFFF",
             "#DEEFFF",
             "#DEEFFF",
             "#FFFFFF",
             "#FFFFFF",
             "#FFFFFF",
             "#FFFFFF",
             "#FFFFFF",
             "#DEEFFF",
             "#FFFFFF",
             "#F7F7F7",
             "#FFFFFF",
             "#FFFFFF",
             "#FFFFFF",
             "#FFFFFF",
             "#DEEFFF",
             "#FFFFFF",
             "#FFFFFF",
             "#FFFFFF",
             "#FFFFFF",
             "#FFFFFF",
             "#FFFFFF",
             "#DEEFFF",
             "#FFFFFF",
             "#FFFFFF",
             "#FFFFFF",
             "#FFFFFF",
             "#FFFFFF",
             "#FFFFFF",
             "#E5E5E5"
            ],
            [
             "#FFFFFF",
             "#FFFFFF",
             "#FFFFFF",
             "#DEEFFF",
             "#DEEFFF",
             "#FFFFFF",
             "#FFFFFF",
             "#FFFFFF",
             "#FFFFFF",
             "#FFFFFF",
             "#DEEFFF",
             "#FFFFFF",
             "#F7F7F7",
             "#FFFFFF",
             "#FFFFFF",
             "#FFFFFF",
             "#FFFFFF",
             "#DEEFFF",
             "#FFFFFF",
             "#FFFFFF",
             "#FFFFFF",
             "#FFFFFF",
             "#FFFFFF",
             "#FFFFFF",
             "#DEEFFF",
             "#FFFFFF",
             "#FFFFFF",
             "#FFFFFF",
             "#FFFFFF",
             "#FFFFFF",
             "#FFFFFF",
             "#E5E5E5"
            ]
           ]
          },
          "font": {
           "color": [
            "#000000",
            "#000000",
            "#118DFF",
            "#000000",
            "#FF0000",
            "#FF0000",
            "#E04392",
            "#000000",
            "#FF0000",
            "#E04392",
            "#000000",
            "#FF0000",
            [
             "#FF0000",
             "#FF0000",
             "#FFC000",
             "#DEEFFF",
             "#DEEFFF",
             "#00B050",
             "#00B050",
             "#00B050",
             "#FF0000",
             "#00B050",
             "#DEEFFF",
             "#00B050",
             "#FF0000",
             "#FFFFFF",
             "#FFFFFF",
             "#FFFFFF",
             "#FFFFFF",
             "#DEEFFF",
             "#FFFFFF",
             "#FFFFFF",
             "#FFFFFF",
             "#FFFFFF",
             "#FFFFFF",
             "#FFFFFF",
             "#DEEFFF",
             "#FFFFFF",
             "#FFFFFF",
             "#FFFFFF",
             "#FFFFFF",
             "#FFFFFF",
             "#FFFFFF",
             "#E5E5E5"
            ],
            [
             "#FF0000",
             "#FF0000",
             "#FF0000",
             "#DEEFFF",
             "#DEEFFF",
             "#00B050",
             "#00B050",
             "#00B050",
             "#00B050",
             "#00B050",
             "#DEEFFF",
             "#00B050",
             "#FF0000",
             "#FFFFFF",
             "#FFFFFF",
             "#FFFFFF",
             "#FFFFFF",
             "#DEEFFF",
             "#FFFFFF",
             "#FFFFFF",
             "#FFFFFF",
             "#FFFFFF",
             "#FFFFFF",
             "#FFFFFF",
             "#DEEFFF",
             "#FFFFFF",
             "#FFFFFF",
             "#FFFFFF",
             "#FFFFFF",
             "#FFFFFF",
             "#FFFFFF",
             "#E5E5E5"
            ],
            [
             "#000000",
             "#000000",
             "#000000",
             "#DEEFFF",
             "#DEEFFF",
             "#000000",
             "#000000",
             "#000000",
             "#000000",
             "#000000",
             "#DEEFFF",
             "#000000",
             "#000000",
             "#FFFFFF",
             "#FFFFFF",
             "#FFFFFF",
             "#FFFFFF",
             "#DEEFFF",
             "#FFFFFF",
             "#FFFFFF",
             "#FFFFFF",
             "#FFFFFF",
             "#FFFFFF",
             "#FFFFFF",
             "#DEEFFF",
             "#FFFFFF",
             "#FFFFFF",
             "#FFFFFF",
             "#FFFFFF",
             "#FFFFFF",
             "#FFFFFF",
             "#118DFF"
            ]
           ],
           "family": "Segoe UI Semibold",
           "size": 13.185185185185185
          },
          "line": {
           "color": [
            [
             "#FFFFFF",
             "#FFFFFF",
             "#FFFFFF",
             "#DEEFFF",
             "#DEEFFF",
             "#FFFFFF",
             "#FFFFFF",
             "#FFFFFF",
             "#FFFFFF",
             "#FFFFFF",
             "#DEEFFF",
             "#FFFFFF",
             "#F7F7F7",
             "#FFFFFF",
             "#FFFFFF",
             "#FFFFFF",
             "#FFFFFF",
             "#DEEFFF",
             "#FFFFFF",
             "#FFFFFF",
             "#FFFFFF",
             "#FFFFFF",
             "#FFFFFF",
             "#FFFFFF",
             "#DEEFFF",
             "#FFFFFF",
             "#FFFFFF",
             "#FFFFFF",
             "#FFFFFF",
             "#FFFFFF",
             "#FFFFFF",
             "#E5E5E5"
            ],
            [
             "#FFFFFF",
             "#FFFFFF",
             "#FFFFFF",
             "#DEEFFF",
             "#DEEFFF",
             "#FFFFFF",
             "#FFFFFF",
             "#FFFFFF",
             "#FFFFFF",
             "#FFFFFF",
             "#DEEFFF",
             "#FFFFFF",
             "#F7F7F7",
             "#FFFFFF",
             "#FFFFFF",
             "#FFFFFF",
             "#FFFFFF",
             "#DEEFFF",
             "#FFFFFF",
             "#FFFFFF",
             "#FFFFFF",
             "#FFFFFF",
             "#FFFFFF",
             "#FFFFFF",
             "#DEEFFF",
             "#FFFFFF",
             "#FFFFFF",
             "#FFFFFF",
             "#FFFFFF",
             "#FFFFFF",
             "#FFFFFF",
             "#E5E5E5"
            ],
            [
             "#F7F7F7",
             "#F7F7F7",
             "#F7F7F7",
             "#DEEFFF",
             "#DEEFFF",
             "#F7F7F7",
             "#F7F7F7",
             "#F7F7F7",
             "#F7F7F7",
             "#F7F7F7",
             "#DEEFFF",
             "#F7F7F7",
             "#F7F7F7",
             "#F7F7F7",
             "#F7F7F7",
             "#F7F7F7",
             "#F7F7F7",
             "#DEEFFF",
             "#F7F7F7",
             "#F7F7F7",
             "#F7F7F7",
             "#F7F7F7",
             "#F7F7F7",
             "#F7F7F7",
             "#DEEFFF",
             "#F7F7F7",
             "#F7F7F7",
             "#F7F7F7",
             "#F7F7F7",
             "#F7F7F7",
             "#F7F7F7",
             "#E5E5E5"
            ],
            [
             "#F7F7F7",
             "#F7F7F7",
             "#F7F7F7",
             "#DEEFFF",
             "#DEEFFF",
             "#F7F7F7",
             "#F7F7F7",
             "#F7F7F7",
             "#F7F7F7",
             "#F7F7F7",
             "#DEEFFF",
             "#F7F7F7",
             "#F7F7F7",
             "#F7F7F7",
             "#F7F7F7",
             "#F7F7F7",
             "#F7F7F7",
             "#DEEFFF",
             "#F7F7F7",
             "#F7F7F7",
             "#F7F7F7",
             "#F7F7F7",
             "#F7F7F7",
             "#F7F7F7",
             "#DEEFFF",
             "#F7F7F7",
             "#F7F7F7",
             "#F7F7F7",
             "#F7F7F7",
             "#F7F7F7",
             "#F7F7F7",
             "#E5E5E5"
            ],
            [
             "#FFFFFF",
             "#FFFFFF",
             "#FFFFFF",
             "#DEEFFF",
             "#DEEFFF",
             "#FFFFFF",
             "#FFFFFF",
             "#FFFFFF",
             "#FFFFFF",
             "#FFFFFF",
             "#DEEFFF",
             "#FFFFFF",
             "#F7F7F7",
             "#FFFFFF",
             "#FFFFFF",
             "#FFFFFF",
             "#FFFFFF",
             "#DEEFFF",
             "#FFFFFF",
             "#FFFFFF",
             "#FFFFFF",
             "#FFFFFF",
             "#FFFFFF",
             "#FFFFFF",
             "#DEEFFF",
             "#FFFFFF",
             "#FFFFFF",
             "#FFFFFF",
             "#FFFFFF",
             "#FFFFFF",
             "#FFFFFF",
             "#E5E5E5"
            ],
            [
             "#FFFFFF",
             "#FFFFFF",
             "#FFFFFF",
             "#DEEFFF",
             "#DEEFFF",
             "#FFFFFF",
             "#FFFFFF",
             "#FFFFFF",
             "#FFFFFF",
             "#FFFFFF",
             "#DEEFFF",
             "#FFFFFF",
             "#F7F7F7",
             "#FFFFFF",
             "#FFFFFF",
             "#FFFFFF",
             "#FFFFFF",
             "#DEEFFF",
             "#FFFFFF",
             "#FFFFFF",
             "#FFFFFF",
             "#FFFFFF",
             "#FFFFFF",
             "#FFFFFF",
             "#DEEFFF",
             "#FFFFFF",
             "#FFFFFF",
             "#FFFFFF",
             "#FFFFFF",
             "#FFFFFF",
             "#FFFFFF",
             "#E5E5E5"
            ],
            [
             "#F7F7F7",
             "#F7F7F7",
             "#F7F7F7",
             "#DEEFFF",
             "#DEEFFF",
             "#F7F7F7",
             "#F7F7F7",
             "#F7F7F7",
             "#F7F7F7",
             "#F7F7F7",
             "#DEEFFF",
             "#F7F7F7",
             "#F7F7F7",
             "#F7F7F7",
             "#F7F7F7",
             "#F7F7F7",
             "#F7F7F7",
             "#DEEFFF",
             "#F7F7F7",
             "#F7F7F7",
             "#F7F7F7",
             "#F7F7F7",
             "#F7F7F7",
             "#F7F7F7",
             "#DEEFFF",
             "#F7F7F7",
             "#F7F7F7",
             "#F7F7F7",
             "#F7F7F7",
             "#F7F7F7",
             "#F7F7F7",
             "#E5E5E5"
            ],
            [
             "#FFFFFF",
             "#FFFFFF",
             "#FFFFFF",
             "#DEEFFF",
             "#DEEFFF",
             "#FFFFFF",
             "#FFFFFF",
             "#FFFFFF",
             "#FFFFFF",
             "#FFFFFF",
             "#DEEFFF",
             "#FFFFFF",
             "#F7F7F7",
             "#FFFFFF",
             "#FFFFFF",
             "#FFFFFF",
             "#FFFFFF",
             "#DEEFFF",
             "#FFFFFF",
             "#FFFFFF",
             "#FFFFFF",
             "#FFFFFF",
             "#FFFFFF",
             "#FFFFFF",
             "#DEEFFF",
             "#FFFFFF",
             "#FFFFFF",
             "#FFFFFF",
             "#FFFFFF",
             "#FFFFFF",
             "#FFFFFF",
             "#E5E5E5"
            ],
            [
             "#FFFFFF",
             "#FFFFFF",
             "#FFFFFF",
             "#DEEFFF",
             "#DEEFFF",
             "#FFFFFF",
             "#FFFFFF",
             "#FFFFFF",
             "#FFFFFF",
             "#FFFFFF",
             "#DEEFFF",
             "#FFFFFF",
             "#F7F7F7",
             "#FFFFFF",
             "#FFFFFF",
             "#FFFFFF",
             "#FFFFFF",
             "#DEEFFF",
             "#FFFFFF",
             "#FFFFFF",
             "#FFFFFF",
             "#FFFFFF",
             "#FFFFFF",
             "#FFFFFF",
             "#DEEFFF",
             "#FFFFFF",
             "#FFFFFF",
             "#FFFFFF",
             "#FFFFFF",
             "#FFFFFF",
             "#FFFFFF",
             "#E5E5E5"
            ],
            [
             "#F7F7F7",
             "#F7F7F7",
             "#F7F7F7",
             "#DEEFFF",
             "#DEEFFF",
             "#F7F7F7",
             "#F7F7F7",
             "#F7F7F7",
             "#F7F7F7",
             "#F7F7F7",
             "#DEEFFF",
             "#F7F7F7",
             "#F7F7F7",
             "#F7F7F7",
             "#F7F7F7",
             "#F7F7F7",
             "#F7F7F7",
             "#DEEFFF",
             "#F7F7F7",
             "#F7F7F7",
             "#F7F7F7",
             "#F7F7F7",
             "#F7F7F7",
             "#F7F7F7",
             "#DEEFFF",
             "#F7F7F7",
             "#F7F7F7",
             "#F7F7F7",
             "#F7F7F7",
             "#F7F7F7",
             "#F7F7F7",
             "#E5E5E5"
            ],
            [
             "#FFFFFF",
             "#FFFFFF",
             "#FFFFFF",
             "#DEEFFF",
             "#DEEFFF",
             "#FFFFFF",
             "#FFFFFF",
             "#FFFFFF",
             "#FFFFFF",
             "#FFFFFF",
             "#DEEFFF",
             "#FFFFFF",
             "#F7F7F7",
             "#FFFFFF",
             "#FFFFFF",
             "#FFFFFF",
             "#FFFFFF",
             "#DEEFFF",
             "#FFFFFF",
             "#FFFFFF",
             "#FFFFFF",
             "#FFFFFF",
             "#FFFFFF",
             "#FFFFFF",
             "#DEEFFF",
             "#FFFFFF",
             "#FFFFFF",
             "#FFFFFF",
             "#FFFFFF",
             "#FFFFFF",
             "#FFFFFF",
             "#E5E5E5"
            ],
            [
             "#FFFFFF",
             "#FFFFFF",
             "#FFFFFF",
             "#DEEFFF",
             "#DEEFFF",
             "#FFFFFF",
             "#FFFFFF",
             "#FFFFFF",
             "#FFFFFF",
             "#FFFFFF",
             "#DEEFFF",
             "#FFFFFF",
             "#F7F7F7",
             "#FFFFFF",
             "#FFFFFF",
             "#FFFFFF",
             "#FFFFFF",
             "#DEEFFF",
             "#FFFFFF",
             "#FFFFFF",
             "#FFFFFF",
             "#FFFFFF",
             "#FFFFFF",
             "#FFFFFF",
             "#DEEFFF",
             "#FFFFFF",
             "#FFFFFF",
             "#FFFFFF",
             "#FFFFFF",
             "#FFFFFF",
             "#FFFFFF",
             "#E5E5E5"
            ],
            [
             "#FFFFFF",
             "#FFFFFF",
             "#FFFFFF",
             "#DEEFFF",
             "#DEEFFF",
             "#FFFFFF",
             "#FFFFFF",
             "#FFFFFF",
             "#FFFFFF",
             "#FFFFFF",
             "#DEEFFF",
             "#FFFFFF",
             "#F7F7F7",
             "#FFFFFF",
             "#FFFFFF",
             "#FFFFFF",
             "#FFFFFF",
             "#DEEFFF",
             "#FFFFFF",
             "#FFFFFF",
             "#FFFFFF",
             "#FFFFFF",
             "#FFFFFF",
             "#FFFFFF",
             "#DEEFFF",
             "#FFFFFF",
             "#FFFFFF",
             "#FFFFFF",
             "#FFFFFF",
             "#FFFFFF",
             "#FFFFFF",
             "#E5E5E5"
            ],
            [
             "#FFFFFF",
             "#FFFFFF",
             "#FFFFFF",
             "#DEEFFF",
             "#DEEFFF",
             "#FFFFFF",
             "#FFFFFF",
             "#FFFFFF",
             "#FFFFFF",
             "#FFFFFF",
             "#DEEFFF",
             "#FFFFFF",
             "#F7F7F7",
             "#FFFFFF",
             "#FFFFFF",
             "#FFFFFF",
             "#FFFFFF",
             "#DEEFFF",
             "#FFFFFF",
             "#FFFFFF",
             "#FFFFFF",
             "#FFFFFF",
             "#FFFFFF",
             "#FFFFFF",
             "#DEEFFF",
             "#FFFFFF",
             "#FFFFFF",
             "#FFFFFF",
             "#FFFFFF",
             "#FFFFFF",
             "#FFFFFF",
             "#E5E5E5"
            ],
            [
             "#FFFFFF",
             "#FFFFFF",
             "#FFFFFF",
             "#DEEFFF",
             "#DEEFFF",
             "#FFFFFF",
             "#FFFFFF",
             "#FFFFFF",
             "#FFFFFF",
             "#FFFFFF",
             "#DEEFFF",
             "#FFFFFF",
             "#F7F7F7",
             "#FFFFFF",
             "#FFFFFF",
             "#FFFFFF",
             "#FFFFFF",
             "#DEEFFF",
             "#FFFFFF",
             "#FFFFFF",
             "#FFFFFF",
             "#FFFFFF",
             "#FFFFFF",
             "#FFFFFF",
             "#DEEFFF",
             "#FFFFFF",
             "#FFFFFF",
             "#FFFFFF",
             "#FFFFFF",
             "#FFFFFF",
             "#FFFFFF",
             "#E5E5E5"
            ],
            [
             "#FFFFFF",
             "#FFFFFF",
             "#FFFFFF",
             "#DEEFFF",
             "#DEEFFF",
             "#FFFFFF",
             "#FFFFFF",
             "#FFFFFF",
             "#FFFFFF",
             "#FFFFFF",
             "#DEEFFF",
             "#FFFFFF",
             "#F7F7F7",
             "#FFFFFF",
             "#FFFFFF",
             "#FFFFFF",
             "#FFFFFF",
             "#DEEFFF",
             "#FFFFFF",
             "#FFFFFF",
             "#FFFFFF",
             "#FFFFFF",
             "#FFFFFF",
             "#FFFFFF",
             "#DEEFFF",
             "#FFFFFF",
             "#FFFFFF",
             "#FFFFFF",
             "#FFFFFF",
             "#FFFFFF",
             "#FFFFFF",
             "#E5E5E5"
            ],
            [
             "#FFFFFF",
             "#FFFFFF",
             "#FFFFFF",
             "#DEEFFF",
             "#DEEFFF",
             "#FFFFFF",
             "#FFFFFF",
             "#FFFFFF",
             "#FFFFFF",
             "#FFFFFF",
             "#DEEFFF",
             "#FFFFFF",
             "#F7F7F7",
             "#FFFFFF",
             "#FFFFFF",
             "#FFFFFF",
             "#FFFFFF",
             "#DEEFFF",
             "#FFFFFF",
             "#FFFFFF",
             "#FFFFFF",
             "#FFFFFF",
             "#FFFFFF",
             "#FFFFFF",
             "#DEEFFF",
             "#FFFFFF",
             "#FFFFFF",
             "#FFFFFF",
             "#FFFFFF",
             "#FFFFFF",
             "#FFFFFF",
             "#E5E5E5"
            ],
            [
             "#FFFFFF",
             "#FFFFFF",
             "#FFFFFF",
             "#DEEFFF",
             "#DEEFFF",
             "#FFFFFF",
             "#FFFFFF",
             "#FFFFFF",
             "#FFFFFF",
             "#FFFFFF",
             "#DEEFFF",
             "#FFFFFF",
             "#F7F7F7",
             "#FFFFFF",
             "#FFFFFF",
             "#FFFFFF",
             "#FFFFFF",
             "#DEEFFF",
             "#FFFFFF",
             "#FFFFFF",
             "#FFFFFF",
             "#FFFFFF",
             "#FFFFFF",
             "#FFFFFF",
             "#DEEFFF",
             "#FFFFFF",
             "#FFFFFF",
             "#FFFFFF",
             "#FFFFFF",
             "#FFFFFF",
             "#FFFFFF",
             "#E5E5E5"
            ],
            [
             "#FFFFFF",
             "#FFFFFF",
             "#FFFFFF",
             "#DEEFFF",
             "#DEEFFF",
             "#FFFFFF",
             "#FFFFFF",
             "#FFFFFF",
             "#FFFFFF",
             "#FFFFFF",
             "#DEEFFF",
             "#FFFFFF",
             "#F7F7F7",
             "#FFFFFF",
             "#FFFFFF",
             "#FFFFFF",
             "#FFFFFF",
             "#DEEFFF",
             "#FFFFFF",
             "#FFFFFF",
             "#FFFFFF",
             "#FFFFFF",
             "#FFFFFF",
             "#FFFFFF",
             "#DEEFFF",
             "#FFFFFF",
             "#FFFFFF",
             "#FFFFFF",
             "#FFFFFF",
             "#FFFFFF",
             "#FFFFFF",
             "#E5E5E5"
            ],
            [
             "#FFFFFF",
             "#FFFFFF",
             "#FFFFFF",
             "#DEEFFF",
             "#DEEFFF",
             "#FFFFFF",
             "#FFFFFF",
             "#FFFFFF",
             "#FFFFFF",
             "#FFFFFF",
             "#DEEFFF",
             "#FFFFFF",
             "#F7F7F7",
             "#FFFFFF",
             "#FFFFFF",
             "#FFFFFF",
             "#FFFFFF",
             "#DEEFFF",
             "#FFFFFF",
             "#FFFFFF",
             "#FFFFFF",
             "#FFFFFF",
             "#FFFFFF",
             "#FFFFFF",
             "#DEEFFF",
             "#FFFFFF",
             "#FFFFFF",
             "#FFFFFF",
             "#FFFFFF",
             "#FFFFFF",
             "#FFFFFF",
             "#E5E5E5"
            ],
            [
             "#FFFFFF",
             "#FFFFFF",
             "#FFFFFF",
             "#DEEFFF",
             "#DEEFFF",
             "#FFFFFF",
             "#FFFFFF",
             "#FFFFFF",
             "#FFFFFF",
             "#FFFFFF",
             "#DEEFFF",
             "#FFFFFF",
             "#F7F7F7",
             "#FFFFFF",
             "#FFFFFF",
             "#FFFFFF",
             "#FFFFFF",
             "#DEEFFF",
             "#FFFFFF",
             "#FFFFFF",
             "#FFFFFF",
             "#FFFFFF",
             "#FFFFFF",
             "#FFFFFF",
             "#DEEFFF",
             "#FFFFFF",
             "#FFFFFF",
             "#FFFFFF",
             "#FFFFFF",
             "#FFFFFF",
             "#FFFFFF",
             "#E5E5E5"
            ],
            [
             "#FFFFFF",
             "#FFFFFF",
             "#FFFFFF",
             "#DEEFFF",
             "#DEEFFF",
             "#FFFFFF",
             "#FFFFFF",
             "#FFFFFF",
             "#FFFFFF",
             "#FFFFFF",
             "#DEEFFF",
             "#FFFFFF",
             "#F7F7F7",
             "#FFFFFF",
             "#FFFFFF",
             "#FFFFFF",
             "#FFFFFF",
             "#DEEFFF",
             "#FFFFFF",
             "#FFFFFF",
             "#FFFFFF",
             "#FFFFFF",
             "#FFFFFF",
             "#FFFFFF",
             "#DEEFFF",
             "#FFFFFF",
             "#FFFFFF",
             "#FFFFFF",
             "#FFFFFF",
             "#FFFFFF",
             "#FFFFFF",
             "#E5E5E5"
            ]
           ],
           "width": 2
          },
          "values": [
           [
            "01/12/2022, Quinta-feira",
            "02/12/2022, Sexta-feira",
            "03/12/2022, Sábado",
            "04/12/2022, Domingo",
            "05/12/2022, Segunda-feira",
            "06/12/2022, Terça-feira",
            "07/12/2022, Quarta-feira",
            "08/12/2022, Quinta-feira",
            "09/12/2022, Sexta-feira",
            "10/12/2022, Sábado",
            "11/12/2022, Domingo",
            "12/12/2022, Segunda-feira",
            "13/12/2022, Terça-feira",
            "14/12/2022, Quarta-feira",
            "15/12/2022, Quinta-feira",
            "16/12/2022, Sexta-feira",
            "17/12/2022, Sábado",
            "18/12/2022, Domingo",
            "19/12/2022, Segunda-feira",
            "20/12/2022, Terça-feira",
            "21/12/2022, Quarta-feira",
            "22/12/2022, Quinta-feira",
            "23/12/2022, Sexta-feira",
            "24/12/2022, Sábado",
            "25/12/2022, Domingo",
            "26/12/2022, Segunda-feira",
            "27/12/2022, Terça-feira",
            "28/12/2022, Quarta-feira",
            "29/12/2022, Quinta-feira",
            "30/12/2022, Sexta-feira",
            "31/12/2022, Sábado",
            "Total"
           ],
           [
            "R$ 240.476,19",
            "R$ 240.476,19",
            "R$ 70.000,00",
            "",
            "",
            "R$ 240.476,19",
            "R$ 240.476,19",
            "R$ 240.476,19",
            "R$ 168.333,33",
            "R$ 70.000,00",
            "",
            "R$ 240.476,19",
            "R$ 240.476,19",
            "R$ 240.476,19",
            "R$ 240.476,19",
            "R$ 240.476,19",
            "R$ 70.000,00",
            "",
            "R$ 240.476,19",
            "R$ 240.476,19",
            "R$ 240.476,19",
            "R$ 240.476,19",
            "R$ 240.476,19",
            "R$ 70.000,00",
            "",
            "R$ 240.476,19",
            "R$ 240.476,19",
            "R$ 240.476,19",
            "R$ 240.476,19",
            "R$ 240.476,19",
            "R$ 70.000,00",
            "R$ 5.327.857,14"
           ],
           [
            "R$ 227.095,11",
            "R$ 108.891,98",
            "R$ 73.743,88",
            "",
            "R$ 165.739,03",
            "R$ 270.097,04",
            "R$ 266.376,76",
            "R$ 254.394,63",
            "R$ 165.376,59",
            "R$ 90.636,02",
            "",
            "R$ 280.674,62",
            "",
            "",
            "",
            "",
            "",
            "",
            "",
            "",
            "",
            "",
            "",
            "",
            "",
            "",
            "",
            "",
            "",
            "",
            "",
            "R$ 1.903.025,66"
           ],
           [
            "R$ 212.455,28",
            "R$ 99.342,14",
            "R$ 67.344,60",
            "",
            "R$ 160.566,22",
            "R$ 260.077,13",
            "R$ 253.137,11",
            "R$ 244.794,36",
            "R$ 151.866,85",
            "R$ 81.839,63",
            "",
            "R$ 262.938,88",
            "",
            "",
            "",
            "",
            "",
            "",
            "",
            "",
            "",
            "",
            "",
            "",
            "",
            "",
            "",
            "",
            "",
            "",
            "",
            "R$ 1.794.362,20"
           ],
           [
            "R$ 14.639,83",
            "R$ 9.549,84",
            "R$ 6.399,28",
            "",
            "R$ 5.172,81",
            "R$ 10.019,91",
            "R$ 13.239,65",
            "R$ 9.600,27",
            "R$ 13.509,74",
            "R$ 8.796,39",
            "",
            "R$ 17.735,74",
            "",
            "",
            "",
            "",
            "",
            "",
            "",
            "",
            "",
            "",
            "",
            "",
            "",
            "",
            "",
            "",
            "",
            "",
            "",
            "R$ 108.663,46"
           ],
           [
            "6,45%",
            "8,77%",
            "8,68%",
            "",
            "3,12%",
            "3,71%",
            "4,97%",
            "3,77%",
            "8,17%",
            "9,71%",
            "",
            "6,32%",
            "",
            "",
            "",
            "",
            "",
            "",
            "",
            "",
            "",
            "",
            "",
            "",
            "",
            "",
            "",
            "",
            "",
            "",
            "",
            "5,71%"
           ],
           [
            "R$ 205.070,46",
            "R$ 95.568,19",
            "R$ 66.663,65",
            "",
            "R$ 156.635,29",
            "R$ 250.651,08",
            "R$ 248.139,40",
            "R$ 238.290,26",
            "R$ 148.918,04",
            "R$ 80.109,13",
            "",
            "R$ 254.047,44",
            "",
            "",
            "",
            "",
            "",
            "",
            "",
            "",
            "",
            "",
            "",
            "",
            "",
            "",
            "",
            "",
            "",
            "",
            "",
            "R$ 1.744.092,94"
           ],
           [
            "490",
            "294",
            "204",
            "",
            "344",
            "515",
            "546",
            "537",
            "330",
            "214",
            "",
            "523",
            "",
            "",
            "",
            "",
            "",
            "",
            "",
            "",
            "",
            "",
            "",
            "",
            "",
            "",
            "",
            "",
            "",
            "",
            "",
            "1.414"
           ],
           [
            "6,81%",
            "9,99%",
            "9,18%",
            "",
            "3,27%",
            "3,92%",
            "5,20%",
            "3,64%",
            "8,55%",
            "10,76%",
            "",
            "6,89%",
            "",
            "",
            "",
            "",
            "",
            "",
            "",
            "",
            "",
            "",
            "",
            "",
            "",
            "",
            "",
            "",
            "",
            "",
            "",
            "6,02%"
           ],
           [
            "R$ 7.384,82",
            "R$ 3.773,95",
            "R$ 680,95",
            "",
            "R$ 3.930,93",
            "R$ 9.426,05",
            "R$ 4.997,71",
            "R$ 6.504,10",
            "R$ 2.948,81",
            "R$ 1.730,50",
            "",
            "R$ 8.891,44",
            "",
            "",
            "",
            "",
            "",
            "",
            "",
            "",
            "",
            "",
            "",
            "",
            "",
            "",
            "",
            "",
            "",
            "",
            "",
            "R$ 50.269,26"
           ],
           [
            "19",
            "16",
            "7",
            "",
            "16",
            "29",
            "25",
            "29",
            "15",
            "11",
            "",
            "36",
            "",
            "",
            "",
            "",
            "",
            "",
            "",
            "",
            "",
            "",
            "",
            "",
            "",
            "",
            "",
            "",
            "",
            "",
            "",
            "203"
           ],
           [
            "9,09%",
            "",
            "41,47%",
            "",
            "1,42%",
            "2,15%",
            "6,56%",
            "14,11%",
            "26,25%",
            "10,14%",
            "",
            "2,67%",
            "",
            "",
            "",
            "",
            "",
            "",
            "",
            "",
            "",
            "",
            "",
            "",
            "",
            "",
            "",
            "",
            "",
            "",
            "",
            "7,25%"
           ],
           [
            "88,35%",
            "41,31%",
            "96,21%",
            "",
            "",
            "108,15%",
            "105,26%",
            "101,80%",
            "90,22%",
            "116,91%",
            "",
            "109,34%",
            "",
            "",
            "",
            "",
            "",
            "",
            "",
            "",
            "",
            "",
            "",
            "",
            "",
            "",
            "",
            "",
            "",
            "",
            "",
            "33,68%"
           ],
           [
            "88,35%",
            "64,83%",
            "68,82%",
            "68,82%",
            "97,96%",
            "101,06%",
            "102,04%",
            "101,99%",
            "100,62%",
            "101,37%",
            "101,37%",
            "102,47%",
            "90,09%",
            "80,39%",
            "72,57%",
            "66,14%",
            "64,47%",
            "64,47%",
            "59,35%",
            "54,97%",
            "51,20%",
            "47,91%",
            "45,02%",
            "44,25%",
            "44,25%",
            "41,77%",
            "39,55%",
            "37,56%",
            "35,76%",
            "34,13%",
            "33,68%",
            "33,68%"
           ],
           [
            "R$ 4.707.041,38",
            "R$ 3.454.005,38",
            "R$ 3.666.404,92",
            "R$ 3.666.404,92",
            "R$ 5.219.123,28",
            "R$ 5.384.114,69",
            "R$ 5.436.374,32",
            "R$ 5.433.946,43",
            "R$ 5.360.656,79",
            "R$ 5.400.891,98",
            "R$ 5.400.891,98",
            "R$ 5.459.203,66",
            "R$ 4.800.052,95",
            "R$ 4.282.927,25",
            "R$ 3.866.388,34",
            "R$ 3.523.689,59",
            "R$ 3.435.062,27",
            "R$ 3.435.062,27",
            "R$ 3.161.858,64",
            "R$ 2.928.911,15",
            "R$ 2.727.932,80",
            "R$ 2.552.765,14",
            "R$ 2.398.736,06",
            "R$ 2.357.332,41",
            "R$ 2.357.332,41",
            "R$ 2.225.375,10",
            "R$ 2.107.407,91",
            "R$ 2.001.317,99",
            "R$ 1.905.397,57",
            "R$ 1.818.251,28",
            "R$ 1.794.362,20",
            ""
           ]
          ]
         },
         "columnwidth": [
          10.300925925925926,
          6.592592592592593,
          6.592592592592593,
          6.592592592592593,
          6.592592592592593,
          4.12037037037037,
          6.592592592592593,
          5.356481481481481,
          4.944444444444445,
          6.592592592592593,
          4.944444444444445,
          4.12037037037037,
          2.8842592592592595,
          2.8842592592592595,
          6.592592592592593
         ],
         "domain": {
          "y": [
           0,
           1
          ]
         },
         "header": {
          "align": "center",
          "fill": {
           "color": "#E5E5E5"
          },
          "font": {
           "color": [
            "#000000",
            "#000000",
            "#118DFF",
            "#000000",
            "#FF0000",
            "#FF0000",
            "#E04392",
            "#000000",
            "#FF0000",
            "#E04392",
            "#000000",
            "#FF0000",
            "#000000",
            "#000000",
            "#000000"
           ],
           "family": "Segoe UI Semibold",
           "size": 13.185185185185185
          },
          "line": {
           "color": "#E5E5E5",
           "width": 3
          },
          "values": [
           "Data",
           "Meta",
           "Venda\nSIAC",
           "Venda\nLíquida",
           "Devolução",
           "%\nDev",
           "Venda\nCNPJ",
           "Clientes\nCNPJ",
           "% Dev\nCNPJ",
           "Venda\nCPF",
           "Clientes\nCPF",
           "% Dev\nCPF",
           "%\nDia",
           "%\nMês",
           "Projeção\nmensal"
          ]
         },
         "type": "table"
        }
       ],
       "layout": {
        "height": 890,
        "template": {
         "data": {
          "bar": [
           {
            "error_x": {
             "color": "#2a3f5f"
            },
            "error_y": {
             "color": "#2a3f5f"
            },
            "marker": {
             "line": {
              "color": "#E5ECF6",
              "width": 0.5
             },
             "pattern": {
              "fillmode": "overlay",
              "size": 10,
              "solidity": 0.2
             }
            },
            "type": "bar"
           }
          ],
          "barpolar": [
           {
            "marker": {
             "line": {
              "color": "#E5ECF6",
              "width": 0.5
             },
             "pattern": {
              "fillmode": "overlay",
              "size": 10,
              "solidity": 0.2
             }
            },
            "type": "barpolar"
           }
          ],
          "carpet": [
           {
            "aaxis": {
             "endlinecolor": "#2a3f5f",
             "gridcolor": "white",
             "linecolor": "white",
             "minorgridcolor": "white",
             "startlinecolor": "#2a3f5f"
            },
            "baxis": {
             "endlinecolor": "#2a3f5f",
             "gridcolor": "white",
             "linecolor": "white",
             "minorgridcolor": "white",
             "startlinecolor": "#2a3f5f"
            },
            "type": "carpet"
           }
          ],
          "choropleth": [
           {
            "colorbar": {
             "outlinewidth": 0,
             "ticks": ""
            },
            "type": "choropleth"
           }
          ],
          "contour": [
           {
            "colorbar": {
             "outlinewidth": 0,
             "ticks": ""
            },
            "colorscale": [
             [
              0,
              "#0d0887"
             ],
             [
              0.1111111111111111,
              "#46039f"
             ],
             [
              0.2222222222222222,
              "#7201a8"
             ],
             [
              0.3333333333333333,
              "#9c179e"
             ],
             [
              0.4444444444444444,
              "#bd3786"
             ],
             [
              0.5555555555555556,
              "#d8576b"
             ],
             [
              0.6666666666666666,
              "#ed7953"
             ],
             [
              0.7777777777777778,
              "#fb9f3a"
             ],
             [
              0.8888888888888888,
              "#fdca26"
             ],
             [
              1,
              "#f0f921"
             ]
            ],
            "type": "contour"
           }
          ],
          "contourcarpet": [
           {
            "colorbar": {
             "outlinewidth": 0,
             "ticks": ""
            },
            "type": "contourcarpet"
           }
          ],
          "heatmap": [
           {
            "colorbar": {
             "outlinewidth": 0,
             "ticks": ""
            },
            "colorscale": [
             [
              0,
              "#0d0887"
             ],
             [
              0.1111111111111111,
              "#46039f"
             ],
             [
              0.2222222222222222,
              "#7201a8"
             ],
             [
              0.3333333333333333,
              "#9c179e"
             ],
             [
              0.4444444444444444,
              "#bd3786"
             ],
             [
              0.5555555555555556,
              "#d8576b"
             ],
             [
              0.6666666666666666,
              "#ed7953"
             ],
             [
              0.7777777777777778,
              "#fb9f3a"
             ],
             [
              0.8888888888888888,
              "#fdca26"
             ],
             [
              1,
              "#f0f921"
             ]
            ],
            "type": "heatmap"
           }
          ],
          "heatmapgl": [
           {
            "colorbar": {
             "outlinewidth": 0,
             "ticks": ""
            },
            "colorscale": [
             [
              0,
              "#0d0887"
             ],
             [
              0.1111111111111111,
              "#46039f"
             ],
             [
              0.2222222222222222,
              "#7201a8"
             ],
             [
              0.3333333333333333,
              "#9c179e"
             ],
             [
              0.4444444444444444,
              "#bd3786"
             ],
             [
              0.5555555555555556,
              "#d8576b"
             ],
             [
              0.6666666666666666,
              "#ed7953"
             ],
             [
              0.7777777777777778,
              "#fb9f3a"
             ],
             [
              0.8888888888888888,
              "#fdca26"
             ],
             [
              1,
              "#f0f921"
             ]
            ],
            "type": "heatmapgl"
           }
          ],
          "histogram": [
           {
            "marker": {
             "pattern": {
              "fillmode": "overlay",
              "size": 10,
              "solidity": 0.2
             }
            },
            "type": "histogram"
           }
          ],
          "histogram2d": [
           {
            "colorbar": {
             "outlinewidth": 0,
             "ticks": ""
            },
            "colorscale": [
             [
              0,
              "#0d0887"
             ],
             [
              0.1111111111111111,
              "#46039f"
             ],
             [
              0.2222222222222222,
              "#7201a8"
             ],
             [
              0.3333333333333333,
              "#9c179e"
             ],
             [
              0.4444444444444444,
              "#bd3786"
             ],
             [
              0.5555555555555556,
              "#d8576b"
             ],
             [
              0.6666666666666666,
              "#ed7953"
             ],
             [
              0.7777777777777778,
              "#fb9f3a"
             ],
             [
              0.8888888888888888,
              "#fdca26"
             ],
             [
              1,
              "#f0f921"
             ]
            ],
            "type": "histogram2d"
           }
          ],
          "histogram2dcontour": [
           {
            "colorbar": {
             "outlinewidth": 0,
             "ticks": ""
            },
            "colorscale": [
             [
              0,
              "#0d0887"
             ],
             [
              0.1111111111111111,
              "#46039f"
             ],
             [
              0.2222222222222222,
              "#7201a8"
             ],
             [
              0.3333333333333333,
              "#9c179e"
             ],
             [
              0.4444444444444444,
              "#bd3786"
             ],
             [
              0.5555555555555556,
              "#d8576b"
             ],
             [
              0.6666666666666666,
              "#ed7953"
             ],
             [
              0.7777777777777778,
              "#fb9f3a"
             ],
             [
              0.8888888888888888,
              "#fdca26"
             ],
             [
              1,
              "#f0f921"
             ]
            ],
            "type": "histogram2dcontour"
           }
          ],
          "mesh3d": [
           {
            "colorbar": {
             "outlinewidth": 0,
             "ticks": ""
            },
            "type": "mesh3d"
           }
          ],
          "parcoords": [
           {
            "line": {
             "colorbar": {
              "outlinewidth": 0,
              "ticks": ""
             }
            },
            "type": "parcoords"
           }
          ],
          "pie": [
           {
            "automargin": true,
            "type": "pie"
           }
          ],
          "scatter": [
           {
            "fillpattern": {
             "fillmode": "overlay",
             "size": 10,
             "solidity": 0.2
            },
            "type": "scatter"
           }
          ],
          "scatter3d": [
           {
            "line": {
             "colorbar": {
              "outlinewidth": 0,
              "ticks": ""
             }
            },
            "marker": {
             "colorbar": {
              "outlinewidth": 0,
              "ticks": ""
             }
            },
            "type": "scatter3d"
           }
          ],
          "scattercarpet": [
           {
            "marker": {
             "colorbar": {
              "outlinewidth": 0,
              "ticks": ""
             }
            },
            "type": "scattercarpet"
           }
          ],
          "scattergeo": [
           {
            "marker": {
             "colorbar": {
              "outlinewidth": 0,
              "ticks": ""
             }
            },
            "type": "scattergeo"
           }
          ],
          "scattergl": [
           {
            "marker": {
             "colorbar": {
              "outlinewidth": 0,
              "ticks": ""
             }
            },
            "type": "scattergl"
           }
          ],
          "scattermapbox": [
           {
            "marker": {
             "colorbar": {
              "outlinewidth": 0,
              "ticks": ""
             }
            },
            "type": "scattermapbox"
           }
          ],
          "scatterpolar": [
           {
            "marker": {
             "colorbar": {
              "outlinewidth": 0,
              "ticks": ""
             }
            },
            "type": "scatterpolar"
           }
          ],
          "scatterpolargl": [
           {
            "marker": {
             "colorbar": {
              "outlinewidth": 0,
              "ticks": ""
             }
            },
            "type": "scatterpolargl"
           }
          ],
          "scatterternary": [
           {
            "marker": {
             "colorbar": {
              "outlinewidth": 0,
              "ticks": ""
             }
            },
            "type": "scatterternary"
           }
          ],
          "surface": [
           {
            "colorbar": {
             "outlinewidth": 0,
             "ticks": ""
            },
            "colorscale": [
             [
              0,
              "#0d0887"
             ],
             [
              0.1111111111111111,
              "#46039f"
             ],
             [
              0.2222222222222222,
              "#7201a8"
             ],
             [
              0.3333333333333333,
              "#9c179e"
             ],
             [
              0.4444444444444444,
              "#bd3786"
             ],
             [
              0.5555555555555556,
              "#d8576b"
             ],
             [
              0.6666666666666666,
              "#ed7953"
             ],
             [
              0.7777777777777778,
              "#fb9f3a"
             ],
             [
              0.8888888888888888,
              "#fdca26"
             ],
             [
              1,
              "#f0f921"
             ]
            ],
            "type": "surface"
           }
          ],
          "table": [
           {
            "cells": {
             "fill": {
              "color": "#EBF0F8"
             },
             "line": {
              "color": "white"
             }
            },
            "header": {
             "fill": {
              "color": "#C8D4E3"
             },
             "line": {
              "color": "white"
             }
            },
            "type": "table"
           }
          ]
         },
         "layout": {
          "annotationdefaults": {
           "arrowcolor": "#2a3f5f",
           "arrowhead": 0,
           "arrowwidth": 1
          },
          "autotypenumbers": "strict",
          "coloraxis": {
           "colorbar": {
            "outlinewidth": 0,
            "ticks": ""
           }
          },
          "colorscale": {
           "diverging": [
            [
             0,
             "#8e0152"
            ],
            [
             0.1,
             "#c51b7d"
            ],
            [
             0.2,
             "#de77ae"
            ],
            [
             0.3,
             "#f1b6da"
            ],
            [
             0.4,
             "#fde0ef"
            ],
            [
             0.5,
             "#f7f7f7"
            ],
            [
             0.6,
             "#e6f5d0"
            ],
            [
             0.7,
             "#b8e186"
            ],
            [
             0.8,
             "#7fbc41"
            ],
            [
             0.9,
             "#4d9221"
            ],
            [
             1,
             "#276419"
            ]
           ],
           "sequential": [
            [
             0,
             "#0d0887"
            ],
            [
             0.1111111111111111,
             "#46039f"
            ],
            [
             0.2222222222222222,
             "#7201a8"
            ],
            [
             0.3333333333333333,
             "#9c179e"
            ],
            [
             0.4444444444444444,
             "#bd3786"
            ],
            [
             0.5555555555555556,
             "#d8576b"
            ],
            [
             0.6666666666666666,
             "#ed7953"
            ],
            [
             0.7777777777777778,
             "#fb9f3a"
            ],
            [
             0.8888888888888888,
             "#fdca26"
            ],
            [
             1,
             "#f0f921"
            ]
           ],
           "sequentialminus": [
            [
             0,
             "#0d0887"
            ],
            [
             0.1111111111111111,
             "#46039f"
            ],
            [
             0.2222222222222222,
             "#7201a8"
            ],
            [
             0.3333333333333333,
             "#9c179e"
            ],
            [
             0.4444444444444444,
             "#bd3786"
            ],
            [
             0.5555555555555556,
             "#d8576b"
            ],
            [
             0.6666666666666666,
             "#ed7953"
            ],
            [
             0.7777777777777778,
             "#fb9f3a"
            ],
            [
             0.8888888888888888,
             "#fdca26"
            ],
            [
             1,
             "#f0f921"
            ]
           ]
          },
          "colorway": [
           "#636efa",
           "#EF553B",
           "#00cc96",
           "#ab63fa",
           "#FFA15A",
           "#19d3f3",
           "#FF6692",
           "#B6E880",
           "#FF97FF",
           "#FECB52"
          ],
          "font": {
           "color": "#2a3f5f"
          },
          "geo": {
           "bgcolor": "white",
           "lakecolor": "white",
           "landcolor": "#E5ECF6",
           "showlakes": true,
           "showland": true,
           "subunitcolor": "white"
          },
          "hoverlabel": {
           "align": "left"
          },
          "hovermode": "closest",
          "mapbox": {
           "style": "light"
          },
          "paper_bgcolor": "white",
          "plot_bgcolor": "#E5ECF6",
          "polar": {
           "angularaxis": {
            "gridcolor": "white",
            "linecolor": "white",
            "ticks": ""
           },
           "bgcolor": "#E5ECF6",
           "radialaxis": {
            "gridcolor": "white",
            "linecolor": "white",
            "ticks": ""
           }
          },
          "scene": {
           "xaxis": {
            "backgroundcolor": "#E5ECF6",
            "gridcolor": "white",
            "gridwidth": 2,
            "linecolor": "white",
            "showbackground": true,
            "ticks": "",
            "zerolinecolor": "white"
           },
           "yaxis": {
            "backgroundcolor": "#E5ECF6",
            "gridcolor": "white",
            "gridwidth": 2,
            "linecolor": "white",
            "showbackground": true,
            "ticks": "",
            "zerolinecolor": "white"
           },
           "zaxis": {
            "backgroundcolor": "#E5ECF6",
            "gridcolor": "white",
            "gridwidth": 2,
            "linecolor": "white",
            "showbackground": true,
            "ticks": "",
            "zerolinecolor": "white"
           }
          },
          "shapedefaults": {
           "line": {
            "color": "#2a3f5f"
           }
          },
          "ternary": {
           "aaxis": {
            "gridcolor": "white",
            "linecolor": "white",
            "ticks": ""
           },
           "baxis": {
            "gridcolor": "white",
            "linecolor": "white",
            "ticks": ""
           },
           "bgcolor": "#E5ECF6",
           "caxis": {
            "gridcolor": "white",
            "linecolor": "white",
            "ticks": ""
           }
          },
          "title": {
           "x": 0.05
          },
          "xaxis": {
           "automargin": true,
           "gridcolor": "white",
           "linecolor": "white",
           "ticks": "",
           "title": {
            "standoff": 15
           },
           "zerolinecolor": "white",
           "zerolinewidth": 2
          },
          "yaxis": {
           "automargin": true,
           "gridcolor": "white",
           "linecolor": "white",
           "ticks": "",
           "title": {
            "standoff": 15
           },
           "zerolinecolor": "white",
           "zerolinewidth": 2
          }
         }
        },
        "title": {
         "font": {
          "color": "#00B050",
          "family": "Jost",
          "size": 24.72222222222222
         },
         "text": "◙◙◙◙◙◙◙◙◙◙ 🡆 SOF SUL 🡄 ◙◙◙◙◙◙◙◙◙◙◙◙◙◙◙◙◙◙◙◙◙◙◙◙◙◙◙◙◙◙◙◙◙◙◙◙◙◙◙◙◙◙◙◙◙◙◙◙◙◙◙◙◙◙◙◙◙◙◙◙◙◙◙◙◙◙◙◙◙◙◙◙◙◙◙◙ ⓈⓄⒻ ⓈⓊⓁ ◙◙◙◙◙◙◙◙◙◙",
         "x": 0.5,
         "y": 0.95,
         "yanchor": "bottom"
        },
        "width": 2060
       }
      }
     },
     "metadata": {},
     "output_type": "display_data"
    },
    {
     "name": "stdout",
     "output_type": "stream",
     "text": [
      "TESTE 06 TABLE.png\n",
      "\n",
      "13-12-2022 PrimeiraFoto - https://chat.whatsapp.com/LK4LDajkH52BNydoLGGD2d\n",
      "13-12-2022 API - https://chat.whatsapp.com/EBLX0fxYfvuHL7jZ9CZECQ\n",
      "13-12-2022 Teste Python - https://chat.whatsapp.com/I4y7EAVfns629NvfoLUtGI\n",
      "\n",
      "• 'VO' E-COMMERCE\n",
      "\n"
     ]
    },
    {
     "name": "stderr",
     "output_type": "stream",
     "text": [
      "C:\\Users\\admin\\AppData\\Local\\Temp\\ipykernel_16068\\3465617909.py:86: RuntimeWarning:\n",
      "\n",
      "divide by zero encountered in double_scalars\n",
      "\n"
     ]
    },
    {
     "data": {
      "application/vnd.plotly.v1+json": {
       "config": {
        "plotlyServerURL": "https://plot.ly"
       },
       "data": [
        {
         "cells": {
          "align": [
           "left",
           "center"
          ],
          "fill": {
           "color": [
            [
             "#FFFFFF",
             "#FFFFFF",
             "#FFFFFF",
             "#DEEFFF",
             "#DEEFFF",
             "#FFFFFF",
             "#FFFFFF",
             "#FFFFFF",
             "#FFFFFF",
             "#FFFFFF",
             "#DEEFFF",
             "#FFFFFF",
             "#F7F7F7",
             "#FFFFFF",
             "#FFFFFF",
             "#FFFFFF",
             "#FFFFFF",
             "#DEEFFF",
             "#FFFFFF",
             "#FFFFFF",
             "#FFFFFF",
             "#FFFFFF",
             "#FFFFFF",
             "#FFFFFF",
             "#DEEFFF",
             "#FFFFFF",
             "#FFFFFF",
             "#FFFFFF",
             "#FFFFFF",
             "#FFFFFF",
             "#FFFFFF",
             "#E5E5E5"
            ],
            [
             "#FFFFFF",
             "#FFFFFF",
             "#FFFFFF",
             "#DEEFFF",
             "#DEEFFF",
             "#FFFFFF",
             "#FFFFFF",
             "#FFFFFF",
             "#FFFFFF",
             "#FFFFFF",
             "#DEEFFF",
             "#FFFFFF",
             "#F7F7F7",
             "#FFFFFF",
             "#FFFFFF",
             "#FFFFFF",
             "#FFFFFF",
             "#DEEFFF",
             "#FFFFFF",
             "#FFFFFF",
             "#FFFFFF",
             "#FFFFFF",
             "#FFFFFF",
             "#FFFFFF",
             "#DEEFFF",
             "#FFFFFF",
             "#FFFFFF",
             "#FFFFFF",
             "#FFFFFF",
             "#FFFFFF",
             "#FFFFFF",
             "#E5E5E5"
            ],
            [
             "#F7F7F7",
             "#F7F7F7",
             "#F7F7F7",
             "#DEEFFF",
             "#DEEFFF",
             "#F7F7F7",
             "#F7F7F7",
             "#F7F7F7",
             "#F7F7F7",
             "#F7F7F7",
             "#DEEFFF",
             "#F7F7F7",
             "#F7F7F7",
             "#F7F7F7",
             "#F7F7F7",
             "#F7F7F7",
             "#F7F7F7",
             "#DEEFFF",
             "#F7F7F7",
             "#F7F7F7",
             "#F7F7F7",
             "#F7F7F7",
             "#F7F7F7",
             "#F7F7F7",
             "#DEEFFF",
             "#F7F7F7",
             "#F7F7F7",
             "#F7F7F7",
             "#F7F7F7",
             "#F7F7F7",
             "#F7F7F7",
             "#E5E5E5"
            ],
            [
             "#F7F7F7",
             "#F7F7F7",
             "#F7F7F7",
             "#DEEFFF",
             "#DEEFFF",
             "#F7F7F7",
             "#F7F7F7",
             "#F7F7F7",
             "#F7F7F7",
             "#F7F7F7",
             "#DEEFFF",
             "#F7F7F7",
             "#F7F7F7",
             "#F7F7F7",
             "#F7F7F7",
             "#F7F7F7",
             "#F7F7F7",
             "#DEEFFF",
             "#F7F7F7",
             "#F7F7F7",
             "#F7F7F7",
             "#F7F7F7",
             "#F7F7F7",
             "#F7F7F7",
             "#DEEFFF",
             "#F7F7F7",
             "#F7F7F7",
             "#F7F7F7",
             "#F7F7F7",
             "#F7F7F7",
             "#F7F7F7",
             "#E5E5E5"
            ],
            [
             "#FFFFFF",
             "#FFFFFF",
             "#FFFFFF",
             "#DEEFFF",
             "#DEEFFF",
             "#FFFFFF",
             "#FFFFFF",
             "#FFFFFF",
             "#FFFFFF",
             "#FFFFFF",
             "#DEEFFF",
             "#FFFFFF",
             "#F7F7F7",
             "#FFFFFF",
             "#FFFFFF",
             "#FFFFFF",
             "#FFFFFF",
             "#DEEFFF",
             "#FFFFFF",
             "#FFFFFF",
             "#FFFFFF",
             "#FFFFFF",
             "#FFFFFF",
             "#FFFFFF",
             "#DEEFFF",
             "#FFFFFF",
             "#FFFFFF",
             "#FFFFFF",
             "#FFFFFF",
             "#FFFFFF",
             "#FFFFFF",
             "#E5E5E5"
            ],
            [
             "#FFFFFF",
             "#FFFFFF",
             "#FFFFFF",
             "#DEEFFF",
             "#DEEFFF",
             "#FFFFFF",
             "#FFFFFF",
             "#FFFFFF",
             "#FFFFFF",
             "#FFFFFF",
             "#DEEFFF",
             "#FFFFFF",
             "#F7F7F7",
             "#FFFFFF",
             "#FFFFFF",
             "#FFFFFF",
             "#FFFFFF",
             "#DEEFFF",
             "#FFFFFF",
             "#FFFFFF",
             "#FFFFFF",
             "#FFFFFF",
             "#FFFFFF",
             "#FFFFFF",
             "#DEEFFF",
             "#FFFFFF",
             "#FFFFFF",
             "#FFFFFF",
             "#FFFFFF",
             "#FFFFFF",
             "#FFFFFF",
             "#E5E5E5"
            ],
            [
             "#F7F7F7",
             "#F7F7F7",
             "#F7F7F7",
             "#DEEFFF",
             "#DEEFFF",
             "#F7F7F7",
             "#F7F7F7",
             "#F7F7F7",
             "#F7F7F7",
             "#F7F7F7",
             "#DEEFFF",
             "#F7F7F7",
             "#F7F7F7",
             "#F7F7F7",
             "#F7F7F7",
             "#F7F7F7",
             "#F7F7F7",
             "#DEEFFF",
             "#F7F7F7",
             "#F7F7F7",
             "#F7F7F7",
             "#F7F7F7",
             "#F7F7F7",
             "#F7F7F7",
             "#DEEFFF",
             "#F7F7F7",
             "#F7F7F7",
             "#F7F7F7",
             "#F7F7F7",
             "#F7F7F7",
             "#F7F7F7",
             "#E5E5E5"
            ],
            [
             "#FFFFFF",
             "#FFFFFF",
             "#FFFFFF",
             "#DEEFFF",
             "#DEEFFF",
             "#FFFFFF",
             "#FFFFFF",
             "#FFFFFF",
             "#FFFFFF",
             "#FFFFFF",
             "#DEEFFF",
             "#FFFFFF",
             "#F7F7F7",
             "#FFFFFF",
             "#FFFFFF",
             "#FFFFFF",
             "#FFFFFF",
             "#DEEFFF",
             "#FFFFFF",
             "#FFFFFF",
             "#FFFFFF",
             "#FFFFFF",
             "#FFFFFF",
             "#FFFFFF",
             "#DEEFFF",
             "#FFFFFF",
             "#FFFFFF",
             "#FFFFFF",
             "#FFFFFF",
             "#FFFFFF",
             "#FFFFFF",
             "#E5E5E5"
            ],
            [
             "#FFFFFF",
             "#FFFFFF",
             "#FFFFFF",
             "#DEEFFF",
             "#DEEFFF",
             "#FFFFFF",
             "#FFFFFF",
             "#FFFFFF",
             "#FFFFFF",
             "#FFFFFF",
             "#DEEFFF",
             "#FFFFFF",
             "#F7F7F7",
             "#FFFFFF",
             "#FFFFFF",
             "#FFFFFF",
             "#FFFFFF",
             "#DEEFFF",
             "#FFFFFF",
             "#FFFFFF",
             "#FFFFFF",
             "#FFFFFF",
             "#FFFFFF",
             "#FFFFFF",
             "#DEEFFF",
             "#FFFFFF",
             "#FFFFFF",
             "#FFFFFF",
             "#FFFFFF",
             "#FFFFFF",
             "#FFFFFF",
             "#E5E5E5"
            ],
            [
             "#F7F7F7",
             "#F7F7F7",
             "#F7F7F7",
             "#DEEFFF",
             "#DEEFFF",
             "#F7F7F7",
             "#F7F7F7",
             "#F7F7F7",
             "#F7F7F7",
             "#F7F7F7",
             "#DEEFFF",
             "#F7F7F7",
             "#F7F7F7",
             "#F7F7F7",
             "#F7F7F7",
             "#F7F7F7",
             "#F7F7F7",
             "#DEEFFF",
             "#F7F7F7",
             "#F7F7F7",
             "#F7F7F7",
             "#F7F7F7",
             "#F7F7F7",
             "#F7F7F7",
             "#DEEFFF",
             "#F7F7F7",
             "#F7F7F7",
             "#F7F7F7",
             "#F7F7F7",
             "#F7F7F7",
             "#F7F7F7",
             "#E5E5E5"
            ],
            [
             "#FFFFFF",
             "#FFFFFF",
             "#FFFFFF",
             "#DEEFFF",
             "#DEEFFF",
             "#FFFFFF",
             "#FFFFFF",
             "#FFFFFF",
             "#FFFFFF",
             "#FFFFFF",
             "#DEEFFF",
             "#FFFFFF",
             "#F7F7F7",
             "#FFFFFF",
             "#FFFFFF",
             "#FFFFFF",
             "#FFFFFF",
             "#DEEFFF",
             "#FFFFFF",
             "#FFFFFF",
             "#FFFFFF",
             "#FFFFFF",
             "#FFFFFF",
             "#FFFFFF",
             "#DEEFFF",
             "#FFFFFF",
             "#FFFFFF",
             "#FFFFFF",
             "#FFFFFF",
             "#FFFFFF",
             "#FFFFFF",
             "#E5E5E5"
            ],
            [
             "#FFFFFF",
             "#FFFFFF",
             "#FFFFFF",
             "#DEEFFF",
             "#DEEFFF",
             "#FFFFFF",
             "#FFFFFF",
             "#FFFFFF",
             "#FFFFFF",
             "#FFFFFF",
             "#DEEFFF",
             "#FFFFFF",
             "#F7F7F7",
             "#FFFFFF",
             "#FFFFFF",
             "#FFFFFF",
             "#FFFFFF",
             "#DEEFFF",
             "#FFFFFF",
             "#FFFFFF",
             "#FFFFFF",
             "#FFFFFF",
             "#FFFFFF",
             "#FFFFFF",
             "#DEEFFF",
             "#FFFFFF",
             "#FFFFFF",
             "#FFFFFF",
             "#FFFFFF",
             "#FFFFFF",
             "#FFFFFF",
             "#E5E5E5"
            ],
            [
             "#FFFFFF",
             "#FFFFFF",
             "#FFFFFF",
             "#DEEFFF",
             "#DEEFFF",
             "#FFFFFF",
             "#FFFFFF",
             "#FFFFFF",
             "#FFFFFF",
             "#FFFFFF",
             "#DEEFFF",
             "#FFFFFF",
             "#F7F7F7",
             "#FFFFFF",
             "#FFFFFF",
             "#FFFFFF",
             "#FFFFFF",
             "#DEEFFF",
             "#FFFFFF",
             "#FFFFFF",
             "#FFFFFF",
             "#FFFFFF",
             "#FFFFFF",
             "#FFFFFF",
             "#DEEFFF",
             "#FFFFFF",
             "#FFFFFF",
             "#FFFFFF",
             "#FFFFFF",
             "#FFFFFF",
             "#FFFFFF",
             "#E5E5E5"
            ],
            [
             "#FFFFFF",
             "#FFFFFF",
             "#FFFFFF",
             "#DEEFFF",
             "#DEEFFF",
             "#FFFFFF",
             "#FFFFFF",
             "#FFFFFF",
             "#FFFFFF",
             "#FFFFFF",
             "#DEEFFF",
             "#FFFFFF",
             "#F7F7F7",
             "#FFFFFF",
             "#FFFFFF",
             "#FFFFFF",
             "#FFFFFF",
             "#DEEFFF",
             "#FFFFFF",
             "#FFFFFF",
             "#FFFFFF",
             "#FFFFFF",
             "#FFFFFF",
             "#FFFFFF",
             "#DEEFFF",
             "#FFFFFF",
             "#FFFFFF",
             "#FFFFFF",
             "#FFFFFF",
             "#FFFFFF",
             "#FFFFFF",
             "#E5E5E5"
            ],
            [
             "#FFFFFF",
             "#FFFFFF",
             "#FFFFFF",
             "#DEEFFF",
             "#DEEFFF",
             "#FFFFFF",
             "#FFFFFF",
             "#FFFFFF",
             "#FFFFFF",
             "#FFFFFF",
             "#DEEFFF",
             "#FFFFFF",
             "#F7F7F7",
             "#FFFFFF",
             "#FFFFFF",
             "#FFFFFF",
             "#FFFFFF",
             "#DEEFFF",
             "#FFFFFF",
             "#FFFFFF",
             "#FFFFFF",
             "#FFFFFF",
             "#FFFFFF",
             "#FFFFFF",
             "#DEEFFF",
             "#FFFFFF",
             "#FFFFFF",
             "#FFFFFF",
             "#FFFFFF",
             "#FFFFFF",
             "#FFFFFF",
             "#E5E5E5"
            ],
            [
             "#FFFFFF",
             "#FFFFFF",
             "#FFFFFF",
             "#DEEFFF",
             "#DEEFFF",
             "#FFFFFF",
             "#FFFFFF",
             "#FFFFFF",
             "#FFFFFF",
             "#FFFFFF",
             "#DEEFFF",
             "#FFFFFF",
             "#F7F7F7",
             "#FFFFFF",
             "#FFFFFF",
             "#FFFFFF",
             "#FFFFFF",
             "#DEEFFF",
             "#FFFFFF",
             "#FFFFFF",
             "#FFFFFF",
             "#FFFFFF",
             "#FFFFFF",
             "#FFFFFF",
             "#DEEFFF",
             "#FFFFFF",
             "#FFFFFF",
             "#FFFFFF",
             "#FFFFFF",
             "#FFFFFF",
             "#FFFFFF",
             "#E5E5E5"
            ],
            [
             "#FFFFFF",
             "#FFFFFF",
             "#FFFFFF",
             "#DEEFFF",
             "#DEEFFF",
             "#FFFFFF",
             "#FFFFFF",
             "#FFFFFF",
             "#FFFFFF",
             "#FFFFFF",
             "#DEEFFF",
             "#FFFFFF",
             "#F7F7F7",
             "#FFFFFF",
             "#FFFFFF",
             "#FFFFFF",
             "#FFFFFF",
             "#DEEFFF",
             "#FFFFFF",
             "#FFFFFF",
             "#FFFFFF",
             "#FFFFFF",
             "#FFFFFF",
             "#FFFFFF",
             "#DEEFFF",
             "#FFFFFF",
             "#FFFFFF",
             "#FFFFFF",
             "#FFFFFF",
             "#FFFFFF",
             "#FFFFFF",
             "#E5E5E5"
            ],
            [
             "#FFFFFF",
             "#FFFFFF",
             "#FFFFFF",
             "#DEEFFF",
             "#DEEFFF",
             "#FFFFFF",
             "#FFFFFF",
             "#FFFFFF",
             "#FFFFFF",
             "#FFFFFF",
             "#DEEFFF",
             "#FFFFFF",
             "#F7F7F7",
             "#FFFFFF",
             "#FFFFFF",
             "#FFFFFF",
             "#FFFFFF",
             "#DEEFFF",
             "#FFFFFF",
             "#FFFFFF",
             "#FFFFFF",
             "#FFFFFF",
             "#FFFFFF",
             "#FFFFFF",
             "#DEEFFF",
             "#FFFFFF",
             "#FFFFFF",
             "#FFFFFF",
             "#FFFFFF",
             "#FFFFFF",
             "#FFFFFF",
             "#E5E5E5"
            ],
            [
             "#FFFFFF",
             "#FFFFFF",
             "#FFFFFF",
             "#DEEFFF",
             "#DEEFFF",
             "#FFFFFF",
             "#FFFFFF",
             "#FFFFFF",
             "#FFFFFF",
             "#FFFFFF",
             "#DEEFFF",
             "#FFFFFF",
             "#F7F7F7",
             "#FFFFFF",
             "#FFFFFF",
             "#FFFFFF",
             "#FFFFFF",
             "#DEEFFF",
             "#FFFFFF",
             "#FFFFFF",
             "#FFFFFF",
             "#FFFFFF",
             "#FFFFFF",
             "#FFFFFF",
             "#DEEFFF",
             "#FFFFFF",
             "#FFFFFF",
             "#FFFFFF",
             "#FFFFFF",
             "#FFFFFF",
             "#FFFFFF",
             "#E5E5E5"
            ],
            [
             "#FFFFFF",
             "#FFFFFF",
             "#FFFFFF",
             "#DEEFFF",
             "#DEEFFF",
             "#FFFFFF",
             "#FFFFFF",
             "#FFFFFF",
             "#FFFFFF",
             "#FFFFFF",
             "#DEEFFF",
             "#FFFFFF",
             "#F7F7F7",
             "#FFFFFF",
             "#FFFFFF",
             "#FFFFFF",
             "#FFFFFF",
             "#DEEFFF",
             "#FFFFFF",
             "#FFFFFF",
             "#FFFFFF",
             "#FFFFFF",
             "#FFFFFF",
             "#FFFFFF",
             "#DEEFFF",
             "#FFFFFF",
             "#FFFFFF",
             "#FFFFFF",
             "#FFFFFF",
             "#FFFFFF",
             "#FFFFFF",
             "#E5E5E5"
            ],
            [
             "#FFFFFF",
             "#FFFFFF",
             "#FFFFFF",
             "#DEEFFF",
             "#DEEFFF",
             "#FFFFFF",
             "#FFFFFF",
             "#FFFFFF",
             "#FFFFFF",
             "#FFFFFF",
             "#DEEFFF",
             "#FFFFFF",
             "#F7F7F7",
             "#FFFFFF",
             "#FFFFFF",
             "#FFFFFF",
             "#FFFFFF",
             "#DEEFFF",
             "#FFFFFF",
             "#FFFFFF",
             "#FFFFFF",
             "#FFFFFF",
             "#FFFFFF",
             "#FFFFFF",
             "#DEEFFF",
             "#FFFFFF",
             "#FFFFFF",
             "#FFFFFF",
             "#FFFFFF",
             "#FFFFFF",
             "#FFFFFF",
             "#E5E5E5"
            ],
            [
             "#FFFFFF",
             "#FFFFFF",
             "#FFFFFF",
             "#DEEFFF",
             "#DEEFFF",
             "#FFFFFF",
             "#FFFFFF",
             "#FFFFFF",
             "#FFFFFF",
             "#FFFFFF",
             "#DEEFFF",
             "#FFFFFF",
             "#F7F7F7",
             "#FFFFFF",
             "#FFFFFF",
             "#FFFFFF",
             "#FFFFFF",
             "#DEEFFF",
             "#FFFFFF",
             "#FFFFFF",
             "#FFFFFF",
             "#FFFFFF",
             "#FFFFFF",
             "#FFFFFF",
             "#DEEFFF",
             "#FFFFFF",
             "#FFFFFF",
             "#FFFFFF",
             "#FFFFFF",
             "#FFFFFF",
             "#FFFFFF",
             "#E5E5E5"
            ]
           ]
          },
          "font": {
           "color": [
            "#000000",
            "#000000",
            "#118DFF",
            "#000000",
            "#FF0000",
            "#FF0000",
            "#E04392",
            "#000000",
            "#FF0000",
            "#E04392",
            "#000000",
            "#FF0000",
            [
             "#FF0000",
             "#FF0000",
             "#00B050",
             "#DEEFFF",
             "#DEEFFF",
             "#FFC000",
             "#FF0000",
             "#FF0000",
             "#FF0000",
             "#00B050",
             "#DEEFFF",
             "#FF0000",
             "#FF0000",
             "#FFFFFF",
             "#FFFFFF",
             "#FFFFFF",
             "#FFFFFF",
             "#DEEFFF",
             "#FFFFFF",
             "#FFFFFF",
             "#FFFFFF",
             "#FFFFFF",
             "#FFFFFF",
             "#FFFFFF",
             "#DEEFFF",
             "#FFFFFF",
             "#FFFFFF",
             "#FFFFFF",
             "#FFFFFF",
             "#FFFFFF",
             "#FFFFFF",
             "#E5E5E5"
            ],
            [
             "#FF0000",
             "#FF0000",
             "#FF0000",
             "#DEEFFF",
             "#DEEFFF",
             "#FF0000",
             "#FF0000",
             "#FF0000",
             "#FF0000",
             "#FF0000",
             "#DEEFFF",
             "#FF0000",
             "#FF0000",
             "#FFFFFF",
             "#FFFFFF",
             "#FFFFFF",
             "#FFFFFF",
             "#DEEFFF",
             "#FFFFFF",
             "#FFFFFF",
             "#FFFFFF",
             "#FFFFFF",
             "#FFFFFF",
             "#FFFFFF",
             "#DEEFFF",
             "#FFFFFF",
             "#FFFFFF",
             "#FFFFFF",
             "#FFFFFF",
             "#FFFFFF",
             "#FFFFFF",
             "#E5E5E5"
            ],
            [
             "#000000",
             "#000000",
             "#000000",
             "#DEEFFF",
             "#DEEFFF",
             "#000000",
             "#000000",
             "#000000",
             "#000000",
             "#000000",
             "#DEEFFF",
             "#000000",
             "#000000",
             "#FFFFFF",
             "#FFFFFF",
             "#FFFFFF",
             "#FFFFFF",
             "#DEEFFF",
             "#FFFFFF",
             "#FFFFFF",
             "#FFFFFF",
             "#FFFFFF",
             "#FFFFFF",
             "#FFFFFF",
             "#DEEFFF",
             "#FFFFFF",
             "#FFFFFF",
             "#FFFFFF",
             "#FFFFFF",
             "#FFFFFF",
             "#FFFFFF",
             "#118DFF"
            ]
           ],
           "family": "Segoe UI Semibold",
           "size": 13.185185185185185
          },
          "line": {
           "color": [
            [
             "#FFFFFF",
             "#FFFFFF",
             "#FFFFFF",
             "#DEEFFF",
             "#DEEFFF",
             "#FFFFFF",
             "#FFFFFF",
             "#FFFFFF",
             "#FFFFFF",
             "#FFFFFF",
             "#DEEFFF",
             "#FFFFFF",
             "#F7F7F7",
             "#FFFFFF",
             "#FFFFFF",
             "#FFFFFF",
             "#FFFFFF",
             "#DEEFFF",
             "#FFFFFF",
             "#FFFFFF",
             "#FFFFFF",
             "#FFFFFF",
             "#FFFFFF",
             "#FFFFFF",
             "#DEEFFF",
             "#FFFFFF",
             "#FFFFFF",
             "#FFFFFF",
             "#FFFFFF",
             "#FFFFFF",
             "#FFFFFF",
             "#E5E5E5"
            ],
            [
             "#FFFFFF",
             "#FFFFFF",
             "#FFFFFF",
             "#DEEFFF",
             "#DEEFFF",
             "#FFFFFF",
             "#FFFFFF",
             "#FFFFFF",
             "#FFFFFF",
             "#FFFFFF",
             "#DEEFFF",
             "#FFFFFF",
             "#F7F7F7",
             "#FFFFFF",
             "#FFFFFF",
             "#FFFFFF",
             "#FFFFFF",
             "#DEEFFF",
             "#FFFFFF",
             "#FFFFFF",
             "#FFFFFF",
             "#FFFFFF",
             "#FFFFFF",
             "#FFFFFF",
             "#DEEFFF",
             "#FFFFFF",
             "#FFFFFF",
             "#FFFFFF",
             "#FFFFFF",
             "#FFFFFF",
             "#FFFFFF",
             "#E5E5E5"
            ],
            [
             "#F7F7F7",
             "#F7F7F7",
             "#F7F7F7",
             "#DEEFFF",
             "#DEEFFF",
             "#F7F7F7",
             "#F7F7F7",
             "#F7F7F7",
             "#F7F7F7",
             "#F7F7F7",
             "#DEEFFF",
             "#F7F7F7",
             "#F7F7F7",
             "#F7F7F7",
             "#F7F7F7",
             "#F7F7F7",
             "#F7F7F7",
             "#DEEFFF",
             "#F7F7F7",
             "#F7F7F7",
             "#F7F7F7",
             "#F7F7F7",
             "#F7F7F7",
             "#F7F7F7",
             "#DEEFFF",
             "#F7F7F7",
             "#F7F7F7",
             "#F7F7F7",
             "#F7F7F7",
             "#F7F7F7",
             "#F7F7F7",
             "#E5E5E5"
            ],
            [
             "#F7F7F7",
             "#F7F7F7",
             "#F7F7F7",
             "#DEEFFF",
             "#DEEFFF",
             "#F7F7F7",
             "#F7F7F7",
             "#F7F7F7",
             "#F7F7F7",
             "#F7F7F7",
             "#DEEFFF",
             "#F7F7F7",
             "#F7F7F7",
             "#F7F7F7",
             "#F7F7F7",
             "#F7F7F7",
             "#F7F7F7",
             "#DEEFFF",
             "#F7F7F7",
             "#F7F7F7",
             "#F7F7F7",
             "#F7F7F7",
             "#F7F7F7",
             "#F7F7F7",
             "#DEEFFF",
             "#F7F7F7",
             "#F7F7F7",
             "#F7F7F7",
             "#F7F7F7",
             "#F7F7F7",
             "#F7F7F7",
             "#E5E5E5"
            ],
            [
             "#FFFFFF",
             "#FFFFFF",
             "#FFFFFF",
             "#DEEFFF",
             "#DEEFFF",
             "#FFFFFF",
             "#FFFFFF",
             "#FFFFFF",
             "#FFFFFF",
             "#FFFFFF",
             "#DEEFFF",
             "#FFFFFF",
             "#F7F7F7",
             "#FFFFFF",
             "#FFFFFF",
             "#FFFFFF",
             "#FFFFFF",
             "#DEEFFF",
             "#FFFFFF",
             "#FFFFFF",
             "#FFFFFF",
             "#FFFFFF",
             "#FFFFFF",
             "#FFFFFF",
             "#DEEFFF",
             "#FFFFFF",
             "#FFFFFF",
             "#FFFFFF",
             "#FFFFFF",
             "#FFFFFF",
             "#FFFFFF",
             "#E5E5E5"
            ],
            [
             "#FFFFFF",
             "#FFFFFF",
             "#FFFFFF",
             "#DEEFFF",
             "#DEEFFF",
             "#FFFFFF",
             "#FFFFFF",
             "#FFFFFF",
             "#FFFFFF",
             "#FFFFFF",
             "#DEEFFF",
             "#FFFFFF",
             "#F7F7F7",
             "#FFFFFF",
             "#FFFFFF",
             "#FFFFFF",
             "#FFFFFF",
             "#DEEFFF",
             "#FFFFFF",
             "#FFFFFF",
             "#FFFFFF",
             "#FFFFFF",
             "#FFFFFF",
             "#FFFFFF",
             "#DEEFFF",
             "#FFFFFF",
             "#FFFFFF",
             "#FFFFFF",
             "#FFFFFF",
             "#FFFFFF",
             "#FFFFFF",
             "#E5E5E5"
            ],
            [
             "#F7F7F7",
             "#F7F7F7",
             "#F7F7F7",
             "#DEEFFF",
             "#DEEFFF",
             "#F7F7F7",
             "#F7F7F7",
             "#F7F7F7",
             "#F7F7F7",
             "#F7F7F7",
             "#DEEFFF",
             "#F7F7F7",
             "#F7F7F7",
             "#F7F7F7",
             "#F7F7F7",
             "#F7F7F7",
             "#F7F7F7",
             "#DEEFFF",
             "#F7F7F7",
             "#F7F7F7",
             "#F7F7F7",
             "#F7F7F7",
             "#F7F7F7",
             "#F7F7F7",
             "#DEEFFF",
             "#F7F7F7",
             "#F7F7F7",
             "#F7F7F7",
             "#F7F7F7",
             "#F7F7F7",
             "#F7F7F7",
             "#E5E5E5"
            ],
            [
             "#FFFFFF",
             "#FFFFFF",
             "#FFFFFF",
             "#DEEFFF",
             "#DEEFFF",
             "#FFFFFF",
             "#FFFFFF",
             "#FFFFFF",
             "#FFFFFF",
             "#FFFFFF",
             "#DEEFFF",
             "#FFFFFF",
             "#F7F7F7",
             "#FFFFFF",
             "#FFFFFF",
             "#FFFFFF",
             "#FFFFFF",
             "#DEEFFF",
             "#FFFFFF",
             "#FFFFFF",
             "#FFFFFF",
             "#FFFFFF",
             "#FFFFFF",
             "#FFFFFF",
             "#DEEFFF",
             "#FFFFFF",
             "#FFFFFF",
             "#FFFFFF",
             "#FFFFFF",
             "#FFFFFF",
             "#FFFFFF",
             "#E5E5E5"
            ],
            [
             "#FFFFFF",
             "#FFFFFF",
             "#FFFFFF",
             "#DEEFFF",
             "#DEEFFF",
             "#FFFFFF",
             "#FFFFFF",
             "#FFFFFF",
             "#FFFFFF",
             "#FFFFFF",
             "#DEEFFF",
             "#FFFFFF",
             "#F7F7F7",
             "#FFFFFF",
             "#FFFFFF",
             "#FFFFFF",
             "#FFFFFF",
             "#DEEFFF",
             "#FFFFFF",
             "#FFFFFF",
             "#FFFFFF",
             "#FFFFFF",
             "#FFFFFF",
             "#FFFFFF",
             "#DEEFFF",
             "#FFFFFF",
             "#FFFFFF",
             "#FFFFFF",
             "#FFFFFF",
             "#FFFFFF",
             "#FFFFFF",
             "#E5E5E5"
            ],
            [
             "#F7F7F7",
             "#F7F7F7",
             "#F7F7F7",
             "#DEEFFF",
             "#DEEFFF",
             "#F7F7F7",
             "#F7F7F7",
             "#F7F7F7",
             "#F7F7F7",
             "#F7F7F7",
             "#DEEFFF",
             "#F7F7F7",
             "#F7F7F7",
             "#F7F7F7",
             "#F7F7F7",
             "#F7F7F7",
             "#F7F7F7",
             "#DEEFFF",
             "#F7F7F7",
             "#F7F7F7",
             "#F7F7F7",
             "#F7F7F7",
             "#F7F7F7",
             "#F7F7F7",
             "#DEEFFF",
             "#F7F7F7",
             "#F7F7F7",
             "#F7F7F7",
             "#F7F7F7",
             "#F7F7F7",
             "#F7F7F7",
             "#E5E5E5"
            ],
            [
             "#FFFFFF",
             "#FFFFFF",
             "#FFFFFF",
             "#DEEFFF",
             "#DEEFFF",
             "#FFFFFF",
             "#FFFFFF",
             "#FFFFFF",
             "#FFFFFF",
             "#FFFFFF",
             "#DEEFFF",
             "#FFFFFF",
             "#F7F7F7",
             "#FFFFFF",
             "#FFFFFF",
             "#FFFFFF",
             "#FFFFFF",
             "#DEEFFF",
             "#FFFFFF",
             "#FFFFFF",
             "#FFFFFF",
             "#FFFFFF",
             "#FFFFFF",
             "#FFFFFF",
             "#DEEFFF",
             "#FFFFFF",
             "#FFFFFF",
             "#FFFFFF",
             "#FFFFFF",
             "#FFFFFF",
             "#FFFFFF",
             "#E5E5E5"
            ],
            [
             "#FFFFFF",
             "#FFFFFF",
             "#FFFFFF",
             "#DEEFFF",
             "#DEEFFF",
             "#FFFFFF",
             "#FFFFFF",
             "#FFFFFF",
             "#FFFFFF",
             "#FFFFFF",
             "#DEEFFF",
             "#FFFFFF",
             "#F7F7F7",
             "#FFFFFF",
             "#FFFFFF",
             "#FFFFFF",
             "#FFFFFF",
             "#DEEFFF",
             "#FFFFFF",
             "#FFFFFF",
             "#FFFFFF",
             "#FFFFFF",
             "#FFFFFF",
             "#FFFFFF",
             "#DEEFFF",
             "#FFFFFF",
             "#FFFFFF",
             "#FFFFFF",
             "#FFFFFF",
             "#FFFFFF",
             "#FFFFFF",
             "#E5E5E5"
            ],
            [
             "#FFFFFF",
             "#FFFFFF",
             "#FFFFFF",
             "#DEEFFF",
             "#DEEFFF",
             "#FFFFFF",
             "#FFFFFF",
             "#FFFFFF",
             "#FFFFFF",
             "#FFFFFF",
             "#DEEFFF",
             "#FFFFFF",
             "#F7F7F7",
             "#FFFFFF",
             "#FFFFFF",
             "#FFFFFF",
             "#FFFFFF",
             "#DEEFFF",
             "#FFFFFF",
             "#FFFFFF",
             "#FFFFFF",
             "#FFFFFF",
             "#FFFFFF",
             "#FFFFFF",
             "#DEEFFF",
             "#FFFFFF",
             "#FFFFFF",
             "#FFFFFF",
             "#FFFFFF",
             "#FFFFFF",
             "#FFFFFF",
             "#E5E5E5"
            ],
            [
             "#FFFFFF",
             "#FFFFFF",
             "#FFFFFF",
             "#DEEFFF",
             "#DEEFFF",
             "#FFFFFF",
             "#FFFFFF",
             "#FFFFFF",
             "#FFFFFF",
             "#FFFFFF",
             "#DEEFFF",
             "#FFFFFF",
             "#F7F7F7",
             "#FFFFFF",
             "#FFFFFF",
             "#FFFFFF",
             "#FFFFFF",
             "#DEEFFF",
             "#FFFFFF",
             "#FFFFFF",
             "#FFFFFF",
             "#FFFFFF",
             "#FFFFFF",
             "#FFFFFF",
             "#DEEFFF",
             "#FFFFFF",
             "#FFFFFF",
             "#FFFFFF",
             "#FFFFFF",
             "#FFFFFF",
             "#FFFFFF",
             "#E5E5E5"
            ],
            [
             "#FFFFFF",
             "#FFFFFF",
             "#FFFFFF",
             "#DEEFFF",
             "#DEEFFF",
             "#FFFFFF",
             "#FFFFFF",
             "#FFFFFF",
             "#FFFFFF",
             "#FFFFFF",
             "#DEEFFF",
             "#FFFFFF",
             "#F7F7F7",
             "#FFFFFF",
             "#FFFFFF",
             "#FFFFFF",
             "#FFFFFF",
             "#DEEFFF",
             "#FFFFFF",
             "#FFFFFF",
             "#FFFFFF",
             "#FFFFFF",
             "#FFFFFF",
             "#FFFFFF",
             "#DEEFFF",
             "#FFFFFF",
             "#FFFFFF",
             "#FFFFFF",
             "#FFFFFF",
             "#FFFFFF",
             "#FFFFFF",
             "#E5E5E5"
            ],
            [
             "#FFFFFF",
             "#FFFFFF",
             "#FFFFFF",
             "#DEEFFF",
             "#DEEFFF",
             "#FFFFFF",
             "#FFFFFF",
             "#FFFFFF",
             "#FFFFFF",
             "#FFFFFF",
             "#DEEFFF",
             "#FFFFFF",
             "#F7F7F7",
             "#FFFFFF",
             "#FFFFFF",
             "#FFFFFF",
             "#FFFFFF",
             "#DEEFFF",
             "#FFFFFF",
             "#FFFFFF",
             "#FFFFFF",
             "#FFFFFF",
             "#FFFFFF",
             "#FFFFFF",
             "#DEEFFF",
             "#FFFFFF",
             "#FFFFFF",
             "#FFFFFF",
             "#FFFFFF",
             "#FFFFFF",
             "#FFFFFF",
             "#E5E5E5"
            ],
            [
             "#FFFFFF",
             "#FFFFFF",
             "#FFFFFF",
             "#DEEFFF",
             "#DEEFFF",
             "#FFFFFF",
             "#FFFFFF",
             "#FFFFFF",
             "#FFFFFF",
             "#FFFFFF",
             "#DEEFFF",
             "#FFFFFF",
             "#F7F7F7",
             "#FFFFFF",
             "#FFFFFF",
             "#FFFFFF",
             "#FFFFFF",
             "#DEEFFF",
             "#FFFFFF",
             "#FFFFFF",
             "#FFFFFF",
             "#FFFFFF",
             "#FFFFFF",
             "#FFFFFF",
             "#DEEFFF",
             "#FFFFFF",
             "#FFFFFF",
             "#FFFFFF",
             "#FFFFFF",
             "#FFFFFF",
             "#FFFFFF",
             "#E5E5E5"
            ],
            [
             "#FFFFFF",
             "#FFFFFF",
             "#FFFFFF",
             "#DEEFFF",
             "#DEEFFF",
             "#FFFFFF",
             "#FFFFFF",
             "#FFFFFF",
             "#FFFFFF",
             "#FFFFFF",
             "#DEEFFF",
             "#FFFFFF",
             "#F7F7F7",
             "#FFFFFF",
             "#FFFFFF",
             "#FFFFFF",
             "#FFFFFF",
             "#DEEFFF",
             "#FFFFFF",
             "#FFFFFF",
             "#FFFFFF",
             "#FFFFFF",
             "#FFFFFF",
             "#FFFFFF",
             "#DEEFFF",
             "#FFFFFF",
             "#FFFFFF",
             "#FFFFFF",
             "#FFFFFF",
             "#FFFFFF",
             "#FFFFFF",
             "#E5E5E5"
            ],
            [
             "#FFFFFF",
             "#FFFFFF",
             "#FFFFFF",
             "#DEEFFF",
             "#DEEFFF",
             "#FFFFFF",
             "#FFFFFF",
             "#FFFFFF",
             "#FFFFFF",
             "#FFFFFF",
             "#DEEFFF",
             "#FFFFFF",
             "#F7F7F7",
             "#FFFFFF",
             "#FFFFFF",
             "#FFFFFF",
             "#FFFFFF",
             "#DEEFFF",
             "#FFFFFF",
             "#FFFFFF",
             "#FFFFFF",
             "#FFFFFF",
             "#FFFFFF",
             "#FFFFFF",
             "#DEEFFF",
             "#FFFFFF",
             "#FFFFFF",
             "#FFFFFF",
             "#FFFFFF",
             "#FFFFFF",
             "#FFFFFF",
             "#E5E5E5"
            ],
            [
             "#FFFFFF",
             "#FFFFFF",
             "#FFFFFF",
             "#DEEFFF",
             "#DEEFFF",
             "#FFFFFF",
             "#FFFFFF",
             "#FFFFFF",
             "#FFFFFF",
             "#FFFFFF",
             "#DEEFFF",
             "#FFFFFF",
             "#F7F7F7",
             "#FFFFFF",
             "#FFFFFF",
             "#FFFFFF",
             "#FFFFFF",
             "#DEEFFF",
             "#FFFFFF",
             "#FFFFFF",
             "#FFFFFF",
             "#FFFFFF",
             "#FFFFFF",
             "#FFFFFF",
             "#DEEFFF",
             "#FFFFFF",
             "#FFFFFF",
             "#FFFFFF",
             "#FFFFFF",
             "#FFFFFF",
             "#FFFFFF",
             "#E5E5E5"
            ],
            [
             "#FFFFFF",
             "#FFFFFF",
             "#FFFFFF",
             "#DEEFFF",
             "#DEEFFF",
             "#FFFFFF",
             "#FFFFFF",
             "#FFFFFF",
             "#FFFFFF",
             "#FFFFFF",
             "#DEEFFF",
             "#FFFFFF",
             "#F7F7F7",
             "#FFFFFF",
             "#FFFFFF",
             "#FFFFFF",
             "#FFFFFF",
             "#DEEFFF",
             "#FFFFFF",
             "#FFFFFF",
             "#FFFFFF",
             "#FFFFFF",
             "#FFFFFF",
             "#FFFFFF",
             "#DEEFFF",
             "#FFFFFF",
             "#FFFFFF",
             "#FFFFFF",
             "#FFFFFF",
             "#FFFFFF",
             "#FFFFFF",
             "#E5E5E5"
            ],
            [
             "#FFFFFF",
             "#FFFFFF",
             "#FFFFFF",
             "#DEEFFF",
             "#DEEFFF",
             "#FFFFFF",
             "#FFFFFF",
             "#FFFFFF",
             "#FFFFFF",
             "#FFFFFF",
             "#DEEFFF",
             "#FFFFFF",
             "#F7F7F7",
             "#FFFFFF",
             "#FFFFFF",
             "#FFFFFF",
             "#FFFFFF",
             "#DEEFFF",
             "#FFFFFF",
             "#FFFFFF",
             "#FFFFFF",
             "#FFFFFF",
             "#FFFFFF",
             "#FFFFFF",
             "#DEEFFF",
             "#FFFFFF",
             "#FFFFFF",
             "#FFFFFF",
             "#FFFFFF",
             "#FFFFFF",
             "#FFFFFF",
             "#E5E5E5"
            ]
           ],
           "width": 2
          },
          "values": [
           [
            "01/12/2022, Quinta-feira",
            "02/12/2022, Sexta-feira",
            "03/12/2022, Sábado",
            "04/12/2022, Domingo",
            "05/12/2022, Segunda-feira",
            "06/12/2022, Terça-feira",
            "07/12/2022, Quarta-feira",
            "08/12/2022, Quinta-feira",
            "09/12/2022, Sexta-feira",
            "10/12/2022, Sábado",
            "11/12/2022, Domingo",
            "12/12/2022, Segunda-feira",
            "13/12/2022, Terça-feira",
            "14/12/2022, Quarta-feira",
            "15/12/2022, Quinta-feira",
            "16/12/2022, Sexta-feira",
            "17/12/2022, Sábado",
            "18/12/2022, Domingo",
            "19/12/2022, Segunda-feira",
            "20/12/2022, Terça-feira",
            "21/12/2022, Quarta-feira",
            "22/12/2022, Quinta-feira",
            "23/12/2022, Sexta-feira",
            "24/12/2022, Sábado",
            "25/12/2022, Domingo",
            "26/12/2022, Segunda-feira",
            "27/12/2022, Terça-feira",
            "28/12/2022, Quarta-feira",
            "29/12/2022, Quinta-feira",
            "30/12/2022, Sexta-feira",
            "31/12/2022, Sábado",
            "Total"
           ],
           [
            "R$ 19.047,62",
            "R$ 19.047,62",
            "",
            "",
            "",
            "R$ 19.047,62",
            "R$ 19.047,62",
            "R$ 19.047,62",
            "R$ 19.047,62",
            "",
            "",
            "R$ 19.047,62",
            "R$ 19.047,62",
            "R$ 19.047,62",
            "R$ 19.047,62",
            "R$ 19.047,62",
            "",
            "",
            "R$ 19.047,62",
            "R$ 19.047,62",
            "R$ 19.047,62",
            "R$ 19.047,62",
            "R$ 19.047,62",
            "",
            "",
            "R$ 19.047,62",
            "R$ 19.047,62",
            "R$ 19.047,62",
            "R$ 19.047,62",
            "R$ 19.047,62",
            "",
            "R$ 400.000,00"
           ],
           [
            "R$ 12.246,23",
            "R$ 10.868,26",
            "R$ 5.437,49",
            "",
            "R$ 15.062,03",
            "R$ 19.170,20",
            "R$ 14.413,18",
            "R$ 10.658,97",
            "R$ 16.046,15",
            "R$ 3.745,53",
            "",
            "R$ 12.209,14",
            "",
            "",
            "",
            "",
            "",
            "",
            "",
            "",
            "",
            "",
            "",
            "",
            "",
            "",
            "",
            "",
            "",
            "",
            "",
            "R$ 119.857,18"
           ],
           [
            "R$ 10.909,99",
            "R$ 10.868,26",
            "R$ 5.437,49",
            "",
            "R$ 4.604,17",
            "R$ 18.297,28",
            "R$ 12.857,99",
            "R$ 9.869,79",
            "R$ 7.400,28",
            "R$ 3.745,53",
            "",
            "R$ 12.209,14",
            "",
            "",
            "",
            "",
            "",
            "",
            "",
            "",
            "",
            "",
            "",
            "",
            "",
            "",
            "",
            "",
            "",
            "",
            "",
            "R$ 96.199,92"
           ],
           [
            "R$ 1.336,24",
            "",
            "",
            "",
            "R$ 10.457,86",
            "R$ 872,92",
            "R$ 1.555,19",
            "R$ 789,18",
            "R$ 8.645,87",
            "",
            "",
            "",
            "",
            "",
            "",
            "",
            "",
            "",
            "",
            "",
            "",
            "",
            "",
            "",
            "",
            "",
            "",
            "",
            "",
            "",
            "",
            "R$ 23.657,26"
           ],
           [
            "10,91%",
            "",
            "",
            "",
            "69,43%",
            "4,55%",
            "10,79%",
            "7,40%",
            "53,88%",
            "",
            "",
            "",
            "",
            "",
            "",
            "",
            "",
            "",
            "",
            "",
            "",
            "",
            "",
            "",
            "",
            "",
            "",
            "",
            "",
            "",
            "",
            "19,74%"
           ],
           [
            "R$ 600,60",
            "",
            "R$ 257,44",
            "",
            "",
            "R$ 652,40",
            "R$ 501,79",
            "R$ 697,60",
            "R$ 506,94",
            "",
            "",
            "R$ 832,55",
            "",
            "",
            "",
            "",
            "",
            "",
            "",
            "",
            "",
            "",
            "",
            "",
            "",
            "",
            "",
            "",
            "",
            "",
            "",
            "R$ 4.049,32"
           ],
           [
            "2",
            "",
            "1",
            "",
            "",
            "4",
            "3",
            "2",
            "4",
            "",
            "",
            "2",
            "",
            "",
            "",
            "",
            "",
            "",
            "",
            "",
            "",
            "",
            "",
            "",
            "",
            "",
            "",
            "",
            "",
            "",
            "",
            "18"
           ],
           [
            "",
            "",
            "",
            "",
            "",
            "",
            "",
            "",
            "",
            "",
            "",
            "",
            "",
            "",
            "",
            "",
            "",
            "",
            "",
            "",
            "",
            "",
            "",
            "",
            "",
            "",
            "",
            "",
            "",
            "",
            "",
            ""
           ],
           [
            "R$ 10.309,39",
            "R$ 10.868,26",
            "R$ 5.180,05",
            "",
            "R$ 4.604,17",
            "R$ 17.644,88",
            "R$ 12.356,20",
            "R$ 9.172,19",
            "R$ 6.893,34",
            "R$ 3.745,53",
            "",
            "R$ 11.376,59",
            "",
            "",
            "",
            "",
            "",
            "",
            "",
            "",
            "",
            "",
            "",
            "",
            "",
            "",
            "",
            "",
            "",
            "",
            "",
            "R$ 92.150,60"
           ],
           [
            "79",
            "60",
            "29",
            "",
            "113",
            "95",
            "88",
            "70",
            "73",
            "22",
            "",
            "101",
            "",
            "",
            "",
            "",
            "",
            "",
            "",
            "",
            "",
            "",
            "",
            "",
            "",
            "",
            "",
            "",
            "",
            "",
            "",
            "730"
           ],
           [
            "12,96%",
            "",
            "",
            "",
            "227,14%",
            "4,95%",
            "12,59%",
            "8,60%",
            "125,42%",
            "",
            "",
            "",
            "",
            "",
            "",
            "",
            "",
            "",
            "",
            "",
            "",
            "",
            "",
            "",
            "",
            "",
            "",
            "",
            "",
            "",
            "",
            "25,67%"
           ],
           [
            "57,28%",
            "57,06%",
            "",
            "",
            "",
            "96,06%",
            "67,50%",
            "51,82%",
            "38,85%",
            "",
            "",
            "64,10%",
            "",
            "",
            "",
            "",
            "",
            "",
            "",
            "",
            "",
            "",
            "",
            "",
            "",
            "",
            "",
            "",
            "",
            "",
            "",
            "24,05%"
           ],
           [
            "57,28%",
            "57,17%",
            "71,44%",
            "71,44%",
            "83,53%",
            "87,71%",
            "82,65%",
            "76,49%",
            "70,21%",
            "73,49%",
            "73,49%",
            "72,15%",
            "63,13%",
            "56,12%",
            "50,50%",
            "45,91%",
            "45,91%",
            "45,91%",
            "42,09%",
            "38,85%",
            "36,07%",
            "33,67%",
            "31,57%",
            "31,57%",
            "31,57%",
            "29,71%",
            "28,06%",
            "26,58%",
            "25,25%",
            "24,05%",
            "24,05%",
            "24,05%"
           ],
           [
            "R$ 229.109,79",
            "R$ 228.671,62",
            "R$ 285.765,27",
            "R$ 285.765,27",
            "R$ 334.109,05",
            "R$ 350.820,33",
            "R$ 330.619,70",
            "R$ 305.948,87",
            "R$ 280.858,38",
            "R$ 293.967,73",
            "R$ 293.967,73",
            "R$ 288.599,76",
            "R$ 252.524,79",
            "R$ 224.466,48",
            "R$ 202.019,83",
            "R$ 183.654,39",
            "R$ 183.654,39",
            "R$ 183.654,39",
            "R$ 168.349,86",
            "R$ 155.399,87",
            "R$ 144.299,88",
            "R$ 134.679,89",
            "R$ 126.262,39",
            "R$ 126.262,39",
            "R$ 126.262,39",
            "R$ 118.835,20",
            "R$ 112.233,24",
            "R$ 106.326,23",
            "R$ 101.009,92",
            "R$ 96.199,92",
            "R$ 96.199,92",
            ""
           ]
          ]
         },
         "columnwidth": [
          10.300925925925926,
          6.592592592592593,
          6.592592592592593,
          6.592592592592593,
          6.592592592592593,
          4.12037037037037,
          6.592592592592593,
          5.356481481481481,
          4.944444444444445,
          6.592592592592593,
          4.944444444444445,
          4.12037037037037,
          2.8842592592592595,
          2.8842592592592595,
          6.592592592592593
         ],
         "domain": {
          "y": [
           0,
           1
          ]
         },
         "header": {
          "align": "center",
          "fill": {
           "color": "#E5E5E5"
          },
          "font": {
           "color": [
            "#000000",
            "#000000",
            "#118DFF",
            "#000000",
            "#FF0000",
            "#FF0000",
            "#E04392",
            "#000000",
            "#FF0000",
            "#E04392",
            "#000000",
            "#FF0000",
            "#000000",
            "#000000",
            "#000000"
           ],
           "family": "Segoe UI Semibold",
           "size": 13.185185185185185
          },
          "line": {
           "color": "#E5E5E5",
           "width": 3
          },
          "values": [
           "Data",
           "Meta",
           "Venda\nSIAC",
           "Venda\nLíquida",
           "Devolução",
           "%\nDev",
           "Venda\nCNPJ",
           "Clientes\nCNPJ",
           "% Dev\nCNPJ",
           "Venda\nCPF",
           "Clientes\nCPF",
           "% Dev\nCPF",
           "%\nDia",
           "%\nMês",
           "Projeção\nmensal"
          ]
         },
         "type": "table"
        }
       ],
       "layout": {
        "height": 890,
        "template": {
         "data": {
          "bar": [
           {
            "error_x": {
             "color": "#2a3f5f"
            },
            "error_y": {
             "color": "#2a3f5f"
            },
            "marker": {
             "line": {
              "color": "#E5ECF6",
              "width": 0.5
             },
             "pattern": {
              "fillmode": "overlay",
              "size": 10,
              "solidity": 0.2
             }
            },
            "type": "bar"
           }
          ],
          "barpolar": [
           {
            "marker": {
             "line": {
              "color": "#E5ECF6",
              "width": 0.5
             },
             "pattern": {
              "fillmode": "overlay",
              "size": 10,
              "solidity": 0.2
             }
            },
            "type": "barpolar"
           }
          ],
          "carpet": [
           {
            "aaxis": {
             "endlinecolor": "#2a3f5f",
             "gridcolor": "white",
             "linecolor": "white",
             "minorgridcolor": "white",
             "startlinecolor": "#2a3f5f"
            },
            "baxis": {
             "endlinecolor": "#2a3f5f",
             "gridcolor": "white",
             "linecolor": "white",
             "minorgridcolor": "white",
             "startlinecolor": "#2a3f5f"
            },
            "type": "carpet"
           }
          ],
          "choropleth": [
           {
            "colorbar": {
             "outlinewidth": 0,
             "ticks": ""
            },
            "type": "choropleth"
           }
          ],
          "contour": [
           {
            "colorbar": {
             "outlinewidth": 0,
             "ticks": ""
            },
            "colorscale": [
             [
              0,
              "#0d0887"
             ],
             [
              0.1111111111111111,
              "#46039f"
             ],
             [
              0.2222222222222222,
              "#7201a8"
             ],
             [
              0.3333333333333333,
              "#9c179e"
             ],
             [
              0.4444444444444444,
              "#bd3786"
             ],
             [
              0.5555555555555556,
              "#d8576b"
             ],
             [
              0.6666666666666666,
              "#ed7953"
             ],
             [
              0.7777777777777778,
              "#fb9f3a"
             ],
             [
              0.8888888888888888,
              "#fdca26"
             ],
             [
              1,
              "#f0f921"
             ]
            ],
            "type": "contour"
           }
          ],
          "contourcarpet": [
           {
            "colorbar": {
             "outlinewidth": 0,
             "ticks": ""
            },
            "type": "contourcarpet"
           }
          ],
          "heatmap": [
           {
            "colorbar": {
             "outlinewidth": 0,
             "ticks": ""
            },
            "colorscale": [
             [
              0,
              "#0d0887"
             ],
             [
              0.1111111111111111,
              "#46039f"
             ],
             [
              0.2222222222222222,
              "#7201a8"
             ],
             [
              0.3333333333333333,
              "#9c179e"
             ],
             [
              0.4444444444444444,
              "#bd3786"
             ],
             [
              0.5555555555555556,
              "#d8576b"
             ],
             [
              0.6666666666666666,
              "#ed7953"
             ],
             [
              0.7777777777777778,
              "#fb9f3a"
             ],
             [
              0.8888888888888888,
              "#fdca26"
             ],
             [
              1,
              "#f0f921"
             ]
            ],
            "type": "heatmap"
           }
          ],
          "heatmapgl": [
           {
            "colorbar": {
             "outlinewidth": 0,
             "ticks": ""
            },
            "colorscale": [
             [
              0,
              "#0d0887"
             ],
             [
              0.1111111111111111,
              "#46039f"
             ],
             [
              0.2222222222222222,
              "#7201a8"
             ],
             [
              0.3333333333333333,
              "#9c179e"
             ],
             [
              0.4444444444444444,
              "#bd3786"
             ],
             [
              0.5555555555555556,
              "#d8576b"
             ],
             [
              0.6666666666666666,
              "#ed7953"
             ],
             [
              0.7777777777777778,
              "#fb9f3a"
             ],
             [
              0.8888888888888888,
              "#fdca26"
             ],
             [
              1,
              "#f0f921"
             ]
            ],
            "type": "heatmapgl"
           }
          ],
          "histogram": [
           {
            "marker": {
             "pattern": {
              "fillmode": "overlay",
              "size": 10,
              "solidity": 0.2
             }
            },
            "type": "histogram"
           }
          ],
          "histogram2d": [
           {
            "colorbar": {
             "outlinewidth": 0,
             "ticks": ""
            },
            "colorscale": [
             [
              0,
              "#0d0887"
             ],
             [
              0.1111111111111111,
              "#46039f"
             ],
             [
              0.2222222222222222,
              "#7201a8"
             ],
             [
              0.3333333333333333,
              "#9c179e"
             ],
             [
              0.4444444444444444,
              "#bd3786"
             ],
             [
              0.5555555555555556,
              "#d8576b"
             ],
             [
              0.6666666666666666,
              "#ed7953"
             ],
             [
              0.7777777777777778,
              "#fb9f3a"
             ],
             [
              0.8888888888888888,
              "#fdca26"
             ],
             [
              1,
              "#f0f921"
             ]
            ],
            "type": "histogram2d"
           }
          ],
          "histogram2dcontour": [
           {
            "colorbar": {
             "outlinewidth": 0,
             "ticks": ""
            },
            "colorscale": [
             [
              0,
              "#0d0887"
             ],
             [
              0.1111111111111111,
              "#46039f"
             ],
             [
              0.2222222222222222,
              "#7201a8"
             ],
             [
              0.3333333333333333,
              "#9c179e"
             ],
             [
              0.4444444444444444,
              "#bd3786"
             ],
             [
              0.5555555555555556,
              "#d8576b"
             ],
             [
              0.6666666666666666,
              "#ed7953"
             ],
             [
              0.7777777777777778,
              "#fb9f3a"
             ],
             [
              0.8888888888888888,
              "#fdca26"
             ],
             [
              1,
              "#f0f921"
             ]
            ],
            "type": "histogram2dcontour"
           }
          ],
          "mesh3d": [
           {
            "colorbar": {
             "outlinewidth": 0,
             "ticks": ""
            },
            "type": "mesh3d"
           }
          ],
          "parcoords": [
           {
            "line": {
             "colorbar": {
              "outlinewidth": 0,
              "ticks": ""
             }
            },
            "type": "parcoords"
           }
          ],
          "pie": [
           {
            "automargin": true,
            "type": "pie"
           }
          ],
          "scatter": [
           {
            "fillpattern": {
             "fillmode": "overlay",
             "size": 10,
             "solidity": 0.2
            },
            "type": "scatter"
           }
          ],
          "scatter3d": [
           {
            "line": {
             "colorbar": {
              "outlinewidth": 0,
              "ticks": ""
             }
            },
            "marker": {
             "colorbar": {
              "outlinewidth": 0,
              "ticks": ""
             }
            },
            "type": "scatter3d"
           }
          ],
          "scattercarpet": [
           {
            "marker": {
             "colorbar": {
              "outlinewidth": 0,
              "ticks": ""
             }
            },
            "type": "scattercarpet"
           }
          ],
          "scattergeo": [
           {
            "marker": {
             "colorbar": {
              "outlinewidth": 0,
              "ticks": ""
             }
            },
            "type": "scattergeo"
           }
          ],
          "scattergl": [
           {
            "marker": {
             "colorbar": {
              "outlinewidth": 0,
              "ticks": ""
             }
            },
            "type": "scattergl"
           }
          ],
          "scattermapbox": [
           {
            "marker": {
             "colorbar": {
              "outlinewidth": 0,
              "ticks": ""
             }
            },
            "type": "scattermapbox"
           }
          ],
          "scatterpolar": [
           {
            "marker": {
             "colorbar": {
              "outlinewidth": 0,
              "ticks": ""
             }
            },
            "type": "scatterpolar"
           }
          ],
          "scatterpolargl": [
           {
            "marker": {
             "colorbar": {
              "outlinewidth": 0,
              "ticks": ""
             }
            },
            "type": "scatterpolargl"
           }
          ],
          "scatterternary": [
           {
            "marker": {
             "colorbar": {
              "outlinewidth": 0,
              "ticks": ""
             }
            },
            "type": "scatterternary"
           }
          ],
          "surface": [
           {
            "colorbar": {
             "outlinewidth": 0,
             "ticks": ""
            },
            "colorscale": [
             [
              0,
              "#0d0887"
             ],
             [
              0.1111111111111111,
              "#46039f"
             ],
             [
              0.2222222222222222,
              "#7201a8"
             ],
             [
              0.3333333333333333,
              "#9c179e"
             ],
             [
              0.4444444444444444,
              "#bd3786"
             ],
             [
              0.5555555555555556,
              "#d8576b"
             ],
             [
              0.6666666666666666,
              "#ed7953"
             ],
             [
              0.7777777777777778,
              "#fb9f3a"
             ],
             [
              0.8888888888888888,
              "#fdca26"
             ],
             [
              1,
              "#f0f921"
             ]
            ],
            "type": "surface"
           }
          ],
          "table": [
           {
            "cells": {
             "fill": {
              "color": "#EBF0F8"
             },
             "line": {
              "color": "white"
             }
            },
            "header": {
             "fill": {
              "color": "#C8D4E3"
             },
             "line": {
              "color": "white"
             }
            },
            "type": "table"
           }
          ]
         },
         "layout": {
          "annotationdefaults": {
           "arrowcolor": "#2a3f5f",
           "arrowhead": 0,
           "arrowwidth": 1
          },
          "autotypenumbers": "strict",
          "coloraxis": {
           "colorbar": {
            "outlinewidth": 0,
            "ticks": ""
           }
          },
          "colorscale": {
           "diverging": [
            [
             0,
             "#8e0152"
            ],
            [
             0.1,
             "#c51b7d"
            ],
            [
             0.2,
             "#de77ae"
            ],
            [
             0.3,
             "#f1b6da"
            ],
            [
             0.4,
             "#fde0ef"
            ],
            [
             0.5,
             "#f7f7f7"
            ],
            [
             0.6,
             "#e6f5d0"
            ],
            [
             0.7,
             "#b8e186"
            ],
            [
             0.8,
             "#7fbc41"
            ],
            [
             0.9,
             "#4d9221"
            ],
            [
             1,
             "#276419"
            ]
           ],
           "sequential": [
            [
             0,
             "#0d0887"
            ],
            [
             0.1111111111111111,
             "#46039f"
            ],
            [
             0.2222222222222222,
             "#7201a8"
            ],
            [
             0.3333333333333333,
             "#9c179e"
            ],
            [
             0.4444444444444444,
             "#bd3786"
            ],
            [
             0.5555555555555556,
             "#d8576b"
            ],
            [
             0.6666666666666666,
             "#ed7953"
            ],
            [
             0.7777777777777778,
             "#fb9f3a"
            ],
            [
             0.8888888888888888,
             "#fdca26"
            ],
            [
             1,
             "#f0f921"
            ]
           ],
           "sequentialminus": [
            [
             0,
             "#0d0887"
            ],
            [
             0.1111111111111111,
             "#46039f"
            ],
            [
             0.2222222222222222,
             "#7201a8"
            ],
            [
             0.3333333333333333,
             "#9c179e"
            ],
            [
             0.4444444444444444,
             "#bd3786"
            ],
            [
             0.5555555555555556,
             "#d8576b"
            ],
            [
             0.6666666666666666,
             "#ed7953"
            ],
            [
             0.7777777777777778,
             "#fb9f3a"
            ],
            [
             0.8888888888888888,
             "#fdca26"
            ],
            [
             1,
             "#f0f921"
            ]
           ]
          },
          "colorway": [
           "#636efa",
           "#EF553B",
           "#00cc96",
           "#ab63fa",
           "#FFA15A",
           "#19d3f3",
           "#FF6692",
           "#B6E880",
           "#FF97FF",
           "#FECB52"
          ],
          "font": {
           "color": "#2a3f5f"
          },
          "geo": {
           "bgcolor": "white",
           "lakecolor": "white",
           "landcolor": "#E5ECF6",
           "showlakes": true,
           "showland": true,
           "subunitcolor": "white"
          },
          "hoverlabel": {
           "align": "left"
          },
          "hovermode": "closest",
          "mapbox": {
           "style": "light"
          },
          "paper_bgcolor": "white",
          "plot_bgcolor": "#E5ECF6",
          "polar": {
           "angularaxis": {
            "gridcolor": "white",
            "linecolor": "white",
            "ticks": ""
           },
           "bgcolor": "#E5ECF6",
           "radialaxis": {
            "gridcolor": "white",
            "linecolor": "white",
            "ticks": ""
           }
          },
          "scene": {
           "xaxis": {
            "backgroundcolor": "#E5ECF6",
            "gridcolor": "white",
            "gridwidth": 2,
            "linecolor": "white",
            "showbackground": true,
            "ticks": "",
            "zerolinecolor": "white"
           },
           "yaxis": {
            "backgroundcolor": "#E5ECF6",
            "gridcolor": "white",
            "gridwidth": 2,
            "linecolor": "white",
            "showbackground": true,
            "ticks": "",
            "zerolinecolor": "white"
           },
           "zaxis": {
            "backgroundcolor": "#E5ECF6",
            "gridcolor": "white",
            "gridwidth": 2,
            "linecolor": "white",
            "showbackground": true,
            "ticks": "",
            "zerolinecolor": "white"
           }
          },
          "shapedefaults": {
           "line": {
            "color": "#2a3f5f"
           }
          },
          "ternary": {
           "aaxis": {
            "gridcolor": "white",
            "linecolor": "white",
            "ticks": ""
           },
           "baxis": {
            "gridcolor": "white",
            "linecolor": "white",
            "ticks": ""
           },
           "bgcolor": "#E5ECF6",
           "caxis": {
            "gridcolor": "white",
            "linecolor": "white",
            "ticks": ""
           }
          },
          "title": {
           "x": 0.05
          },
          "xaxis": {
           "automargin": true,
           "gridcolor": "white",
           "linecolor": "white",
           "ticks": "",
           "title": {
            "standoff": 15
           },
           "zerolinecolor": "white",
           "zerolinewidth": 2
          },
          "yaxis": {
           "automargin": true,
           "gridcolor": "white",
           "linecolor": "white",
           "ticks": "",
           "title": {
            "standoff": 15
           },
           "zerolinecolor": "white",
           "zerolinewidth": 2
          }
         }
        },
        "title": {
         "font": {
          "color": "#FFC000",
          "family": "Jost",
          "size": 24.72222222222222
         },
         "text": "◙◙◙◙◙◙◙◙◙◙ 🡆 E-COMMERCE 🡄 ◙◙◙◙◙◙◙◙◙◙◙◙◙◙◙◙◙◙◙◙◙◙◙◙◙◙◙◙◙◙◙◙◙◙◙◙◙◙◙◙◙◙◙◙◙◙◙◙◙◙◙◙◙◙◙◙◙◙◙◙◙◙◙◙◙◙◙◙◙◙◙◙◙◙◙◙ Ⓔ-ⒸⓄⓂⓂⒺⓇⒸⒺ ◙◙◙◙◙◙◙◙◙◙",
         "x": 0.5,
         "y": 0.95,
         "yanchor": "bottom"
        },
        "width": 2060
       }
      }
     },
     "metadata": {},
     "output_type": "display_data"
    },
    {
     "name": "stdout",
     "output_type": "stream",
     "text": [
      "TESTE VO TABLE.png\n",
      "\n",
      "13-12-2022 PrimeiraFoto - https://chat.whatsapp.com/LK4LDajkH52BNydoLGGD2d\n",
      "13-12-2022 API - https://chat.whatsapp.com/EBLX0fxYfvuHL7jZ9CZECQ\n",
      "13-12-2022 Teste Python - https://chat.whatsapp.com/I4y7EAVfns629NvfoLUtGI\n"
     ]
    }
   ],
   "source": [
    "for (cod_loja, loja, cor, crypto, logico) in lista_lojas:\n",
    "\n",
    "    if logico:\n",
    "        print(f'\\n• \\'{cod_loja}\\' {loja[4:]}\\n')\n",
    "        print_plot(principal_dataframe=df_hoje,\n",
    "                   lojas=lista_lojas,\n",
    "                   loja_=cod_loja,\n",
    "                   save_image=caminho_imagem)\n",
    "\n",
    "        msg_loja = loja.replace('Â', 'A')\n",
    "\n",
    "        gui.hotkey('ctrl', 'w')\n",
    "\n",
    "        for (contato, link, logico) in contatos:\n",
    "            if logico:\n",
    "                print(f'{date_msg} {contato} - {link}')\n",
    "                # pwk.sendwhats_image(link.replace('https://chat.whatsapp.com/', ''),\n",
    "                #                     f'{caminho_imagem}\\\\{relatorio} {cod_loja} TABLE.png',\n",
    "                #                     f'Resumo mensal | {msg_loja[4:]} - {date_msg}',\n",
    "                #                     tab_close=True,\n",
    "                #                     wait_time=10)"
   ]
  },
  {
   "cell_type": "code",
   "execution_count": null,
   "metadata": {},
   "outputs": [],
   "source": []
  }
 ],
 "metadata": {
  "kernelspec": {
   "display_name": "Python 3.10.8 64-bit",
   "language": "python",
   "name": "python3"
  },
  "language_info": {
   "codemirror_mode": {
    "name": "ipython",
    "version": 3
   },
   "file_extension": ".py",
   "mimetype": "text/x-python",
   "name": "python",
   "nbconvert_exporter": "python",
   "pygments_lexer": "ipython3",
   "version": "3.10.8"
  },
  "orig_nbformat": 4,
  "vscode": {
   "interpreter": {
    "hash": "beedbe2faf2f7048d727558d0bc3221e7eba2a0b921cac4d4771b2feb8f74b30"
   }
  }
 },
 "nbformat": 4,
 "nbformat_minor": 2
}
