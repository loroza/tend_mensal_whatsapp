{
 "cells": [
  {
   "cell_type": "code",
   "execution_count": 735,
   "metadata": {},
   "outputs": [],
   "source": [
    "import pandas as pd\n",
    "from connect import PostgreSQL\n",
    "from tqdm import tqdm\n",
    "import datetime as dt\n",
    "from datetime import date\n",
    "import plotly.graph_objs as go"
   ]
  },
  {
   "cell_type": "code",
   "execution_count": 736,
   "metadata": {},
   "outputs": [],
   "source": [
    "def proportion_size(pixels:int=None, size:int=None, padrao:int=2160):\n",
    "    sizing = float(pixels / (padrao / size))\n",
    "    return sizing"
   ]
  },
  {
   "cell_type": "markdown",
   "metadata": {},
   "source": [
    "# Parâmetros"
   ]
  },
  {
   "cell_type": "code",
   "execution_count": 737,
   "metadata": {},
   "outputs": [],
   "source": [
    "_schema = 'D-1'"
   ]
  },
  {
   "cell_type": "code",
   "execution_count": 738,
   "metadata": {},
   "outputs": [],
   "source": [
    "_pixels = 872\n",
    "\n",
    "pixels_width = int((_pixels/9)*16) + 45\n",
    "pixels_height = int(_pixels) + 15"
   ]
  },
  {
   "cell_type": "code",
   "execution_count": 739,
   "metadata": {},
   "outputs": [],
   "source": [
    "date_query = date(int((dt.datetime.now().strftime('%Y-%m-%d').split('-')[0])), int((dt.datetime.now().strftime('%Y-%m-%d').split('-')[1])), 1).strftime('%Y-%m-%d')"
   ]
  },
  {
   "cell_type": "code",
   "execution_count": 740,
   "metadata": {},
   "outputs": [],
   "source": [
    "codigos_kaizen = [('KAIZEN ASA NORTE', '13996'),\n",
    "                  ('KAIZEN CEILÂNDIA', '16100'),\n",
    "                  (     'KAIZEN GAMA', '18400'),\n",
    "                  (  'KAIZEN SOF SUL', '20000')]"
   ]
  },
  {
   "cell_type": "code",
   "execution_count": 741,
   "metadata": {},
   "outputs": [],
   "source": [
    "lista_lojas = [('01',             'CD', '#FFFFFF'),\n",
    "               ('02',               '', '#FFFFFF'),\n",
    "               ('03',  '04. ASA NORTE', '#FFFFFF'),\n",
    "               ('04',  '02. CEILÂNDIA', '#FFFFFF'),\n",
    "               ('05',       '03. GAMA', '#FFFFFF'),\n",
    "               ('06',    '01. SOF SUL', '#FFFFFF'),\n",
    "               ('VO', '05. E-COMMERCE', '#FFFFFF')]"
   ]
  },
  {
   "cell_type": "code",
   "execution_count": 742,
   "metadata": {},
   "outputs": [],
   "source": [
    "dias_semana = [(   'Sunday',       'Domingo'),\n",
    "               (   'Monday', 'Segunda-feira'),\n",
    "               (  'Tuesday',   'Terça-feira'),\n",
    "               ('Wednesday',  'Quarta-feira'),\n",
    "               ( 'Thursday',  'Quinta-feira'),\n",
    "               (   'Friday',   'Sexta-feira'),\n",
    "               ( 'Saturday',        'Sábado')]"
   ]
  },
  {
   "cell_type": "code",
   "execution_count": 743,
   "metadata": {},
   "outputs": [],
   "source": [
    "relatorio = 'ACOMPANHAMENTO DE VENDA'\n",
    "\n",
    "relatorio_lower = relatorio.lower()\n",
    "relatorio_msg = relatorio_lower.replace(relatorio_lower.split()[0], relatorio_lower.split()[0].title())"
   ]
  },
  {
   "cell_type": "code",
   "execution_count": 744,
   "metadata": {},
   "outputs": [],
   "source": [
    "caminho_imagem = 'Y:\\\\COMPRAS\\\\arquivo temporario analise atualizado\\\\DEPARTAMENTO COMPRAS\\\\10. CARLOS\\\\REPORT'"
   ]
  },
  {
   "cell_type": "code",
   "execution_count": 745,
   "metadata": {},
   "outputs": [],
   "source": [
    "contatos = [('PrimeiraFoto', 'https://chat.whatsapp.com/LK4LDajkH52BNydoLGGD2d', True),\n",
    "            ('Dados e Int',  'https://chat.whatsapp.com/JxY14kWarG70MxB2jzb5pc', False),\n",
    "            ('Dream Team',   'https://chat.whatsapp.com/Hb0KMgYnuFB8coTPlFKTzJ', False),\n",
    "            ('Report Di',    'https://chat.whatsapp.com/G4p8qdUIUblCNPS80244RQ', False),\n",
    "            ('API',          'https://chat.whatsapp.com/EBLX0fxYfvuHL7jZ9CZECQ', True),\n",
    "            ('Teste Python', 'https://chat.whatsapp.com/I4y7EAVfns629NvfoLUtGI', True)]"
   ]
  },
  {
   "cell_type": "markdown",
   "metadata": {},
   "source": [
    "#"
   ]
  },
  {
   "cell_type": "markdown",
   "metadata": {},
   "source": [
    "# DataFrames"
   ]
  },
  {
   "cell_type": "markdown",
   "metadata": {},
   "source": [
    "## Clientes"
   ]
  },
  {
   "cell_type": "code",
   "execution_count": 746,
   "metadata": {},
   "outputs": [],
   "source": [
    "df_cliente = PostgreSQL.read_postgres(name_table='cliente', schema=_schema)"
   ]
  },
  {
   "cell_type": "code",
   "execution_count": 747,
   "metadata": {},
   "outputs": [],
   "source": [
    "df_cli_ped = PostgreSQL.read_postgres(name_table='cli_ped', schema=_schema, query=f'WHERE DT_CADASTR >= \\'{date_query}\\'')"
   ]
  },
  {
   "cell_type": "markdown",
   "metadata": {},
   "source": [
    "## Pedidos"
   ]
  },
  {
   "cell_type": "code",
   "execution_count": 748,
   "metadata": {},
   "outputs": [],
   "source": [
    "df_pedido = PostgreSQL.read_postgres(name_table='pedido', schema=_schema, query=f'WHERE DT_EMISSAO >= \\'{date_query}\\'')"
   ]
  },
  {
   "cell_type": "code",
   "execution_count": 749,
   "metadata": {},
   "outputs": [],
   "source": [
    "df_pedido['VALOR_TOT'] = df_pedido['VALOR_TOT'].astype(float)"
   ]
  },
  {
   "cell_type": "code",
   "execution_count": 750,
   "metadata": {},
   "outputs": [],
   "source": [
    "df_pedido = df_pedido[(df_pedido['CODCLI'] != '13996') &\n",
    "                      (df_pedido['CODCLI'] != '16100') &\n",
    "                      (df_pedido['CODCLI'] != '18400') &\n",
    "                      (df_pedido['CODCLI'] != '20000') &\n",
    "                      (df_pedido['CODVDE'] != '0100') &\n",
    "                      (df_pedido['CODVDE'] != '0001') &\n",
    "                      (df_pedido['TIPPED'] == 'V')]"
   ]
  },
  {
   "cell_type": "code",
   "execution_count": 751,
   "metadata": {},
   "outputs": [
    {
     "name": "stderr",
     "output_type": "stream",
     "text": [
      "100%|██████████| 5408/5408 [00:00<00:00, 11569.79it/s]\n"
     ]
    }
   ],
   "source": [
    "for i in tqdm(df_pedido.index):\n",
    "    if df_pedido.loc[i, 'FORMA_PGTO'] == 'M':\n",
    "        df_pedido.loc[i, 'COD_LOJA'] = 'VO'\n",
    "    else:\n",
    "        df_pedido.loc[i, 'COD_LOJA'] = df_pedido.loc[i, 'CD_LOJA']"
   ]
  },
  {
   "cell_type": "code",
   "execution_count": 752,
   "metadata": {},
   "outputs": [
    {
     "name": "stderr",
     "output_type": "stream",
     "text": [
      "100%|██████████| 5408/5408 [00:00<00:00, 36020.50it/s]\n"
     ]
    }
   ],
   "source": [
    "for i in tqdm(df_pedido.index):\n",
    "    if df_pedido.loc[i, 'COD_LOJA'] == 'VO':\n",
    "        df_pedido.loc[i, 'NU_CPFCNPJ'] = list(df_cli_ped[(df_cli_ped['CD_LOJA'] == df_pedido.loc[i, 'CD_LOJA']) &\n",
    "                                             (df_cli_ped['SG_PEDIDO'] == df_pedido.loc[i, 'SERIE']) &\n",
    "                                             (df_cli_ped['NU_PEDIDO'] == df_pedido.loc[i, 'NU_NOTA'])]['NU_CPFCNPJ'])[0]"
   ]
  },
  {
   "cell_type": "code",
   "execution_count": 753,
   "metadata": {},
   "outputs": [],
   "source": [
    "df_pedido = pd.merge(df_pedido, df_cliente, how='inner', on='CODCLI')"
   ]
  },
  {
   "cell_type": "code",
   "execution_count": 754,
   "metadata": {},
   "outputs": [
    {
     "name": "stderr",
     "output_type": "stream",
     "text": [
      "100%|██████████| 5408/5408 [00:00<00:00, 9495.74it/s]\n"
     ]
    }
   ],
   "source": [
    "for i in tqdm(df_pedido.index):\n",
    "\n",
    "    if df_pedido.loc[i, 'COD_LOJA'] == 'VO':\n",
    "        identify = df_pedido.loc[i, 'NU_CPFCNPJ']\n",
    "    else:\n",
    "        identify = df_pedido.loc[i, 'CPF_CGC']\n",
    "\n",
    "    if df_pedido.loc[i, 'CODAREA'] == '104':\n",
    "        df_pedido.loc[i, 'TIPO_CLIENTE'] = 'CNPJ*'\n",
    "    elif len(identify) < 14:\n",
    "        df_pedido.loc[i, 'TIPO_CLIENTE'] = 'CPF'\n",
    "    else:\n",
    "        df_pedido.loc[i, 'TIPO_CLIENTE'] = 'CNPJ'"
   ]
  },
  {
   "cell_type": "markdown",
   "metadata": {},
   "source": [
    "## Devolução"
   ]
  },
  {
   "cell_type": "code",
   "execution_count": 755,
   "metadata": {},
   "outputs": [],
   "source": [
    "df_prod_ent = PostgreSQL.read_postgres(full_query=f'select a.*, (a.VL_PRECO*a.QT_DEVOLVE) as VL_TOTAL_DEV, b.IN_CLIFOR as IN_CLIFOR1, b.IN_CANCELA, UPPER(b.NFEENVSTAT) as NFEENVSTAT, c.FORMA_PGTO from \"{_schema}\".prod_ent a inner join \"{_schema}\".entrada b on a.CD_LOJA = b.CD_LOJA and a.SG_SERIE = b.SG_SERIE and a.NU_NOTA = b.NU_NOTA inner join \"{_schema}\".venda c on a.CD_LOJA = c.CD_LOJA and a.SG_ORIGEM = c.SERIE and a.NU_ORIGEM = c.NU_NOTA where a.DT_EMISSAO >= \\'{date_query}\\'')"
   ]
  },
  {
   "cell_type": "code",
   "execution_count": 756,
   "metadata": {},
   "outputs": [],
   "source": [
    "df_prod_ent = df_prod_ent[(df_prod_ent['IN_CANCELA'] == 'N') &\n",
    "                          (df_prod_ent['IN_CLIFOR1'] == 'C') &\n",
    "                          (df_prod_ent['CD_CFOP'] != '1949') &\n",
    "                          (df_prod_ent['CD_CFOP'] != '2949') &\n",
    "                          (df_prod_ent['CD_CFOP'] != '1603') &\n",
    "                          (df_prod_ent['CD_CLIENTE'] != '13996') &\n",
    "                          (df_prod_ent['CD_CLIENTE'] != '16100') &\n",
    "                          (df_prod_ent['CD_CLIENTE'] != '18400') &\n",
    "                          (df_prod_ent['CD_CLIENTE'] != '20000') &\n",
    "                          (df_prod_ent['NFEENVSTAT'].str.contains('DENEG') != True)]"
   ]
  },
  {
   "cell_type": "code",
   "execution_count": 757,
   "metadata": {},
   "outputs": [
    {
     "name": "stderr",
     "output_type": "stream",
     "text": [
      "100%|██████████| 448/448 [00:00<00:00, 10172.74it/s]\n"
     ]
    }
   ],
   "source": [
    "for i in tqdm(df_prod_ent.index):\n",
    "    if df_prod_ent.loc[i, 'FORMA_PGTO'] == 'M':\n",
    "        df_prod_ent.loc[i, 'COD_LOJA'] = 'VO'\n",
    "    else:\n",
    "        df_prod_ent.loc[i, 'COD_LOJA'] = df_prod_ent.loc[i, 'CD_LOJA']"
   ]
  },
  {
   "cell_type": "code",
   "execution_count": 758,
   "metadata": {},
   "outputs": [],
   "source": [
    "df_prod_ent['VL_TOTAL_DEV'] = df_prod_ent['VL_TOTAL_DEV'].astype(float)"
   ]
  },
  {
   "cell_type": "code",
   "execution_count": 759,
   "metadata": {},
   "outputs": [],
   "source": [
    "df_prod_ent = df_prod_ent.rename(columns={'CD_CLIENTE':'CODCLI'})\n",
    "df_prod_ent = pd.merge(df_prod_ent, df_cliente, how='inner', on='CODCLI')"
   ]
  },
  {
   "cell_type": "code",
   "execution_count": 760,
   "metadata": {},
   "outputs": [
    {
     "name": "stderr",
     "output_type": "stream",
     "text": [
      "100%|██████████| 448/448 [00:00<00:00, 10916.96it/s]\n"
     ]
    }
   ],
   "source": [
    "for i in tqdm(df_prod_ent.index):\n",
    "\n",
    "    identify = df_prod_ent.loc[i, 'CPF_CGC']\n",
    "\n",
    "    if df_prod_ent.loc[i, 'CODAREA'] == '104':\n",
    "        df_prod_ent.loc[i, 'TIPO_CLIENTE'] = 'CNPJ*'\n",
    "    elif len(identify) < 14:\n",
    "        df_prod_ent.loc[i, 'TIPO_CLIENTE'] = 'CPF'\n",
    "    else:\n",
    "        df_prod_ent.loc[i, 'TIPO_CLIENTE'] = 'CNPJ'"
   ]
  },
  {
   "cell_type": "markdown",
   "metadata": {},
   "source": [
    "## Metas"
   ]
  },
  {
   "cell_type": "code",
   "execution_count": 761,
   "metadata": {},
   "outputs": [],
   "source": [
    "df_metas = pd.read_excel('Y:\\\\COMPRAS\\\\arquivo temporario analise atualizado\\\\DEPARTAMENTO COMPRAS\\\\10. CARLOS\\\\PROJETOS\\\\EXCEL\\\\BASES\\\\DATAS.xlsx', sheet_name='Metas')"
   ]
  },
  {
   "cell_type": "code",
   "execution_count": 762,
   "metadata": {},
   "outputs": [],
   "source": [
    "df_data = pd.read_excel('Y:\\\\COMPRAS\\\\arquivo temporario analise atualizado\\\\DEPARTAMENTO COMPRAS\\\\10. CARLOS\\\\PROJETOS\\\\EXCEL\\\\BASES\\\\DATAS.xlsx', sheet_name='Datas')"
   ]
  },
  {
   "cell_type": "code",
   "execution_count": 763,
   "metadata": {},
   "outputs": [],
   "source": [
    "df_datas = df_data[df_data['Mês - Ano'] == df_data[df_data['Data'] == date_query]['Mês - Ano'].values[0]].reset_index(drop=True)"
   ]
  },
  {
   "cell_type": "code",
   "execution_count": 764,
   "metadata": {},
   "outputs": [],
   "source": [
    "df_meta_mes = df_metas[df_metas['Mês - Ano'] == df_datas['Mês - Ano'][0]]"
   ]
  },
  {
   "cell_type": "code",
   "execution_count": 765,
   "metadata": {},
   "outputs": [],
   "source": [
    "df_meta_data = df_datas.drop(columns=['Dia', 'Mês', 'Ano', 'Dia da Semana', 'Nome - Mês', 'Semestre', 'Trimestre', 'Sequencial - Dia da Semana', 'Dias Úteis']).merge(df_meta_mes.drop(columns=['Mês', 'Ano', 'Dias Úteis', 'Qtd Sábados', 'Nome - Mês', 'Loja']), how='inner', on='Mês - Ano')"
   ]
  },
  {
   "cell_type": "code",
   "execution_count": 766,
   "metadata": {},
   "outputs": [],
   "source": [
    "for i in df_meta_data.index:\n",
    "    if df_meta_data.loc[i, 'Dia Útil'] == 'Sim':\n",
    "        df_meta_data.loc[i, 'Meta'] = df_meta_data.loc[i, 'Meta Diária']\n",
    "    \n",
    "    elif df_meta_data.loc[i, 'Dia Útil'] == 'Meio':\n",
    "        df_meta_data.loc[i, 'Meta'] = df_meta_data.loc[i, 'Meta Sábado']\n",
    "\n",
    "    else:\n",
    "        df_meta_data.loc[i, 'Meta'] = 0\n",
    "\n",
    "df_meta_data = df_meta_data.rename(columns={'Cd_Loja':'CD_LOJA', 'Data':'DT_EMISSAO'})"
   ]
  },
  {
   "cell_type": "markdown",
   "metadata": {},
   "source": [
    "# Cálculo"
   ]
  },
  {
   "cell_type": "code",
   "execution_count": 767,
   "metadata": {},
   "outputs": [
    {
     "name": "stderr",
     "output_type": "stream",
     "text": [
      "C:\\Users\\admin\\AppData\\Local\\Temp\\ipykernel_8368\\464804912.py:1: FutureWarning:\n",
      "\n",
      "The default value of numeric_only in DataFrameGroupBy.sum is deprecated. In a future version, numeric_only will default to False. Either specify numeric_only or select only columns which should be valid for the function.\n",
      "\n"
     ]
    }
   ],
   "source": [
    "df_venda_bruta = df_pedido.groupby(['COD_LOJA', 'DT_EMISSAO']).sum()[['VALOR_TOT']].reset_index().rename(columns={'COD_LOJA':'CD_LOJA'})"
   ]
  },
  {
   "cell_type": "code",
   "execution_count": 768,
   "metadata": {},
   "outputs": [
    {
     "name": "stderr",
     "output_type": "stream",
     "text": [
      "C:\\Users\\admin\\AppData\\Local\\Temp\\ipykernel_8368\\793352684.py:1: FutureWarning:\n",
      "\n",
      "The default value of numeric_only in DataFrameGroupBy.sum is deprecated. In a future version, numeric_only will default to False. Either specify numeric_only or select only columns which should be valid for the function.\n",
      "\n"
     ]
    }
   ],
   "source": [
    "df_devolucao = df_prod_ent.groupby(['COD_LOJA', 'DT_EMISSAO']).sum()[['VL_TOTAL_DEV']].reset_index().rename(columns={'COD_LOJA':'CD_LOJA'})"
   ]
  },
  {
   "cell_type": "code",
   "execution_count": 769,
   "metadata": {},
   "outputs": [
    {
     "name": "stderr",
     "output_type": "stream",
     "text": [
      "C:\\Users\\admin\\AppData\\Local\\Temp\\ipykernel_8368\\3541458602.py:1: FutureWarning:\n",
      "\n",
      "The default value of numeric_only in DataFrameGroupBy.sum is deprecated. In a future version, numeric_only will default to False. Either specify numeric_only or select only columns which should be valid for the function.\n",
      "\n",
      "C:\\Users\\admin\\AppData\\Local\\Temp\\ipykernel_8368\\3541458602.py:2: FutureWarning:\n",
      "\n",
      "The default value of numeric_only in DataFrameGroupBy.sum is deprecated. In a future version, numeric_only will default to False. Either specify numeric_only or select only columns which should be valid for the function.\n",
      "\n"
     ]
    }
   ],
   "source": [
    "df_venda_bruta_cnpj = df_pedido[df_pedido['TIPO_CLIENTE'] != 'CPF'].groupby(['COD_LOJA', 'DT_EMISSAO']).sum()[['VALOR_TOT']].reset_index().rename(columns={'COD_LOJA':'CD_LOJA'})\n",
    "df_devolucao_cnpj = df_prod_ent[df_prod_ent['TIPO_CLIENTE'] != 'CPF'].groupby(['COD_LOJA', 'DT_EMISSAO']).sum()[['VL_TOTAL_DEV']].reset_index().rename(columns={'COD_LOJA':'CD_LOJA'})"
   ]
  },
  {
   "cell_type": "code",
   "execution_count": 770,
   "metadata": {},
   "outputs": [
    {
     "name": "stderr",
     "output_type": "stream",
     "text": [
      "C:\\Users\\admin\\AppData\\Local\\Temp\\ipykernel_8368\\4099021309.py:1: FutureWarning:\n",
      "\n",
      "The default value of numeric_only in DataFrameGroupBy.sum is deprecated. In a future version, numeric_only will default to False. Either specify numeric_only or select only columns which should be valid for the function.\n",
      "\n",
      "C:\\Users\\admin\\AppData\\Local\\Temp\\ipykernel_8368\\4099021309.py:2: FutureWarning:\n",
      "\n",
      "The default value of numeric_only in DataFrameGroupBy.sum is deprecated. In a future version, numeric_only will default to False. Either specify numeric_only or select only columns which should be valid for the function.\n",
      "\n"
     ]
    }
   ],
   "source": [
    "df_venda_bruta_cpf = df_pedido[df_pedido['TIPO_CLIENTE'] == 'CPF'].groupby(['COD_LOJA', 'DT_EMISSAO']).sum()[['VALOR_TOT']].reset_index().rename(columns={'COD_LOJA':'CD_LOJA'})\n",
    "df_devolucao_cpf = df_prod_ent[df_prod_ent['TIPO_CLIENTE'] == 'CPF'].groupby(['COD_LOJA', 'DT_EMISSAO']).sum()[['VL_TOTAL_DEV']].reset_index().rename(columns={'COD_LOJA':'CD_LOJA'})"
   ]
  },
  {
   "cell_type": "code",
   "execution_count": 771,
   "metadata": {},
   "outputs": [],
   "source": [
    "df_final = pd.merge(df_venda_bruta, df_devolucao, how='outer', on=['CD_LOJA', 'DT_EMISSAO'])\n",
    "\n",
    "df_final = df_final.sort_values(by=['DT_EMISSAO', 'CD_LOJA'])\n",
    "df_final = df_final.reset_index(drop=True)\n",
    "\n",
    "df_final = pd.merge(df_meta_data, df_final, how='left', on=['CD_LOJA', 'DT_EMISSAO'])"
   ]
  },
  {
   "cell_type": "code",
   "execution_count": 772,
   "metadata": {},
   "outputs": [],
   "source": [
    "df_final = df_final.fillna(0)"
   ]
  },
  {
   "cell_type": "code",
   "execution_count": 773,
   "metadata": {},
   "outputs": [
    {
     "name": "stderr",
     "output_type": "stream",
     "text": [
      "  6%|▌         | 9/155 [00:00<00:01, 87.30it/s]C:\\Users\\admin\\AppData\\Local\\Temp\\ipykernel_8368\\774047444.py:54: RuntimeWarning:\n",
      "\n",
      "divide by zero encountered in double_scalars\n",
      "\n",
      "100%|██████████| 155/155 [00:01<00:00, 145.27it/s]\n"
     ]
    }
   ],
   "source": [
    "df_hoje = df_final\n",
    "df_hoje = df_hoje.rename(columns={'VALOR_TOT':'VENDA BRUTA', 'VL_TOTAL_DEV':'DEVOLUÇÃO', 'Meta':'META'})\n",
    "\n",
    "for i in tqdm(df_hoje.index):\n",
    "    df_hoje.loc[i, 'VENDA LÍQUIDA'] = (df_hoje.loc[i, 'VENDA BRUTA'] - df_hoje.loc[i, 'DEVOLUÇÃO'])\n",
    "    \n",
    "    client_cgc = list(df_pedido[(df_pedido['DT_EMISSAO'] == df_hoje.loc[i, 'DT_EMISSAO']) &\n",
    "                     (df_pedido['COD_LOJA'] == df_hoje.loc[i, 'CD_LOJA']) &\n",
    "                     (df_pedido['TIPO_CLIENTE'] != 'CPF')]['CPF_CGC'].drop_duplicates())\n",
    "\n",
    "    client_cpf = list(df_pedido[(df_pedido['DT_EMISSAO'] == df_hoje.loc[i, 'DT_EMISSAO']) &\n",
    "                     (df_pedido['COD_LOJA'] == df_hoje.loc[i, 'CD_LOJA']) &\n",
    "                     (df_pedido['TIPO_CLIENTE'] == 'CPF')]['CPF_CGC'])\n",
    "\n",
    "    venda_cgc = list(df_pedido[(df_pedido['DT_EMISSAO'] == df_hoje.loc[i, 'DT_EMISSAO']) &\n",
    "                    (df_pedido['COD_LOJA'] == df_hoje.loc[i, 'CD_LOJA']) &\n",
    "                    (df_pedido['TIPO_CLIENTE'] != 'CPF')]['VALOR_TOT'])\n",
    "\n",
    "    venda_cpf = list(df_pedido[(df_pedido['DT_EMISSAO'] == df_hoje.loc[i, 'DT_EMISSAO']) &\n",
    "                    (df_pedido['COD_LOJA'] == df_hoje.loc[i, 'CD_LOJA']) &\n",
    "                    (df_pedido['TIPO_CLIENTE'] == 'CPF')]['VALOR_TOT'])\n",
    "\n",
    "    devol_cgc = list(df_prod_ent[(df_prod_ent['DT_EMISSAO'] == df_hoje.loc[i, 'DT_EMISSAO']) &\n",
    "                    (df_prod_ent['COD_LOJA'] == df_hoje.loc[i, 'CD_LOJA']) &\n",
    "                    (df_prod_ent['TIPO_CLIENTE'] != 'CPF')]['VL_TOTAL_DEV'])\n",
    "\n",
    "    devol_cpf = list(df_prod_ent[(df_prod_ent['DT_EMISSAO'] == df_hoje.loc[i, 'DT_EMISSAO']) &\n",
    "                    (df_prod_ent['COD_LOJA'] == df_hoje.loc[i, 'CD_LOJA']) &\n",
    "                    (df_prod_ent['TIPO_CLIENTE'] == 'CPF')]['VL_TOTAL_DEV'])\n",
    "\n",
    "    if sum(devol_cgc) > 0 and sum(venda_cgc) > 0:\n",
    "        percent_cgc = sum(devol_cgc) / sum(venda_cgc)\n",
    "    else:\n",
    "        percent_cgc = 0\n",
    "\n",
    "    if sum(devol_cpf) > 0 and sum(venda_cpf) > 0:\n",
    "        percent_cpf = sum(devol_cpf) / sum(venda_cpf)\n",
    "    else:\n",
    "        percent_cpf = 0\n",
    "\n",
    "    df_hoje.loc[i, 'VENDA_CNPJ'] = (sum(venda_cgc) - sum(devol_cgc))\n",
    "    df_hoje.loc[i, 'DEVOL_CNPJ'] = sum(devol_cgc)\n",
    "    df_hoje.loc[i, '% DEV CNPJ'] = percent_cgc\n",
    "    df_hoje.loc[i, 'CNPJ'] = len(client_cgc)\n",
    "\n",
    "    df_hoje.loc[i, 'VENDA_CPF'] = (sum(venda_cpf) - sum(devol_cpf))\n",
    "    df_hoje.loc[i, 'DEVOL_CPF'] = sum(devol_cpf)\n",
    "    df_hoje.loc[i, '% DEV CPF'] = percent_cpf\n",
    "    df_hoje.loc[i, 'CPF'] = len(client_cpf)\n",
    "\n",
    "    if df_hoje.loc[i, 'VENDA LÍQUIDA'] == 0:\n",
    "        df_hoje.loc[i, '% META DIA'] = 0\n",
    "    else:\n",
    "        df_hoje.loc[i, '% META DIA'] = df_hoje.loc[i, 'VENDA LÍQUIDA'] / df_hoje.loc[i, 'META']\n",
    "\n",
    "    if df_hoje.loc[i, 'DEVOLUÇÃO'] == 0:\n",
    "        df_hoje.loc[i, '% DEV'] = 0\n",
    "    else:\n",
    "        df_hoje.loc[i, '% DEV'] = df_hoje.loc[i, 'DEVOLUÇÃO'] / df_hoje.loc[i, 'VENDA BRUTA']"
   ]
  },
  {
   "cell_type": "code",
   "execution_count": 774,
   "metadata": {},
   "outputs": [],
   "source": [
    "df_hoje = df_hoje.fillna(0)"
   ]
  },
  {
   "cell_type": "markdown",
   "metadata": {},
   "source": [
    "# Vendas Online"
   ]
  },
  {
   "cell_type": "code",
   "execution_count": 785,
   "metadata": {},
   "outputs": [
    {
     "data": {
      "application/vnd.plotly.v1+json": {
       "config": {
        "plotlyServerURL": "https://plot.ly"
       },
       "data": [
        {
         "cells": {
          "align": [
           "left",
           "center"
          ],
          "fill": {
           "color": [
            [
             "#FFFFFF",
             "#FFFFFF",
             "#FFFFFF",
             "#DEEFFF",
             "#F7F7F7",
             "#FFFFFF",
             "#FFFFFF",
             "#FFFFFF",
             "#FFFFFF",
             "#FFFFFF",
             "#DEEFFF",
             "#FFFFFF",
             "#FFFFFF",
             "#FFFFFF",
             "#FFFFFF",
             "#FFFFFF",
             "#FFFFFF",
             "#DEEFFF",
             "#FFFFFF",
             "#FFFFFF",
             "#FFFFFF",
             "#FFFFFF",
             "#FFFFFF",
             "#FFFFFF",
             "#DEEFFF",
             "#FFFFFF",
             "#FFFFFF",
             "#FFFFFF",
             "#FFFFFF",
             "#FFFFFF",
             "#FFFFFF"
            ],
            [
             "#FFFFFF",
             "#FFFFFF",
             "#FFFFFF",
             "#DEEFFF",
             "#F7F7F7",
             "#FFFFFF",
             "#FFFFFF",
             "#FFFFFF",
             "#FFFFFF",
             "#FFFFFF",
             "#DEEFFF",
             "#FFFFFF",
             "#FFFFFF",
             "#FFFFFF",
             "#FFFFFF",
             "#FFFFFF",
             "#FFFFFF",
             "#DEEFFF",
             "#FFFFFF",
             "#FFFFFF",
             "#FFFFFF",
             "#FFFFFF",
             "#FFFFFF",
             "#FFFFFF",
             "#DEEFFF",
             "#FFFFFF",
             "#FFFFFF",
             "#FFFFFF",
             "#FFFFFF",
             "#FFFFFF",
             "#FFFFFF"
            ],
            [
             "#F7F7F7",
             "#F7F7F7",
             "#F7F7F7",
             "#DEEFFF",
             "#F7F7F7",
             "#F7F7F7",
             "#F7F7F7",
             "#F7F7F7",
             "#F7F7F7",
             "#F7F7F7",
             "#DEEFFF",
             "#F7F7F7",
             "#F7F7F7",
             "#F7F7F7",
             "#F7F7F7",
             "#F7F7F7",
             "#F7F7F7",
             "#DEEFFF",
             "#F7F7F7",
             "#F7F7F7",
             "#F7F7F7",
             "#F7F7F7",
             "#F7F7F7",
             "#F7F7F7",
             "#DEEFFF",
             "#F7F7F7",
             "#F7F7F7",
             "#F7F7F7",
             "#F7F7F7",
             "#F7F7F7",
             "#F7F7F7"
            ],
            [
             "#F7F7F7",
             "#F7F7F7",
             "#F7F7F7",
             "#DEEFFF",
             "#F7F7F7",
             "#F7F7F7",
             "#F7F7F7",
             "#F7F7F7",
             "#F7F7F7",
             "#F7F7F7",
             "#DEEFFF",
             "#F7F7F7",
             "#F7F7F7",
             "#F7F7F7",
             "#F7F7F7",
             "#F7F7F7",
             "#F7F7F7",
             "#DEEFFF",
             "#F7F7F7",
             "#F7F7F7",
             "#F7F7F7",
             "#F7F7F7",
             "#F7F7F7",
             "#F7F7F7",
             "#DEEFFF",
             "#F7F7F7",
             "#F7F7F7",
             "#F7F7F7",
             "#F7F7F7",
             "#F7F7F7",
             "#F7F7F7"
            ],
            [
             "#FFFFFF",
             "#FFFFFF",
             "#FFFFFF",
             "#DEEFFF",
             "#F7F7F7",
             "#FFFFFF",
             "#FFFFFF",
             "#FFFFFF",
             "#FFFFFF",
             "#FFFFFF",
             "#DEEFFF",
             "#FFFFFF",
             "#FFFFFF",
             "#FFFFFF",
             "#FFFFFF",
             "#FFFFFF",
             "#FFFFFF",
             "#DEEFFF",
             "#FFFFFF",
             "#FFFFFF",
             "#FFFFFF",
             "#FFFFFF",
             "#FFFFFF",
             "#FFFFFF",
             "#DEEFFF",
             "#FFFFFF",
             "#FFFFFF",
             "#FFFFFF",
             "#FFFFFF",
             "#FFFFFF",
             "#FFFFFF"
            ],
            [
             "#FFFFFF",
             "#FFFFFF",
             "#FFFFFF",
             "#DEEFFF",
             "#F7F7F7",
             "#FFFFFF",
             "#FFFFFF",
             "#FFFFFF",
             "#FFFFFF",
             "#FFFFFF",
             "#DEEFFF",
             "#FFFFFF",
             "#FFFFFF",
             "#FFFFFF",
             "#FFFFFF",
             "#FFFFFF",
             "#FFFFFF",
             "#DEEFFF",
             "#FFFFFF",
             "#FFFFFF",
             "#FFFFFF",
             "#FFFFFF",
             "#FFFFFF",
             "#FFFFFF",
             "#DEEFFF",
             "#FFFFFF",
             "#FFFFFF",
             "#FFFFFF",
             "#FFFFFF",
             "#FFFFFF",
             "#FFFFFF"
            ],
            [
             "#F7F7F7",
             "#F7F7F7",
             "#F7F7F7",
             "#DEEFFF",
             "#F7F7F7",
             "#F7F7F7",
             "#F7F7F7",
             "#F7F7F7",
             "#F7F7F7",
             "#F7F7F7",
             "#DEEFFF",
             "#F7F7F7",
             "#F7F7F7",
             "#F7F7F7",
             "#F7F7F7",
             "#F7F7F7",
             "#F7F7F7",
             "#DEEFFF",
             "#F7F7F7",
             "#F7F7F7",
             "#F7F7F7",
             "#F7F7F7",
             "#F7F7F7",
             "#F7F7F7",
             "#DEEFFF",
             "#F7F7F7",
             "#F7F7F7",
             "#F7F7F7",
             "#F7F7F7",
             "#F7F7F7",
             "#F7F7F7"
            ],
            [
             "#FFFFFF",
             "#FFFFFF",
             "#FFFFFF",
             "#DEEFFF",
             "#F7F7F7",
             "#FFFFFF",
             "#FFFFFF",
             "#FFFFFF",
             "#FFFFFF",
             "#FFFFFF",
             "#DEEFFF",
             "#FFFFFF",
             "#FFFFFF",
             "#FFFFFF",
             "#FFFFFF",
             "#FFFFFF",
             "#FFFFFF",
             "#DEEFFF",
             "#FFFFFF",
             "#FFFFFF",
             "#FFFFFF",
             "#FFFFFF",
             "#FFFFFF",
             "#FFFFFF",
             "#DEEFFF",
             "#FFFFFF",
             "#FFFFFF",
             "#FFFFFF",
             "#FFFFFF",
             "#FFFFFF",
             "#FFFFFF"
            ],
            [
             "#FFFFFF",
             "#FFFFFF",
             "#FFFFFF",
             "#DEEFFF",
             "#F7F7F7",
             "#FFFFFF",
             "#FFFFFF",
             "#FFFFFF",
             "#FFFFFF",
             "#FFFFFF",
             "#DEEFFF",
             "#FFFFFF",
             "#FFFFFF",
             "#FFFFFF",
             "#FFFFFF",
             "#FFFFFF",
             "#FFFFFF",
             "#DEEFFF",
             "#FFFFFF",
             "#FFFFFF",
             "#FFFFFF",
             "#FFFFFF",
             "#FFFFFF",
             "#FFFFFF",
             "#DEEFFF",
             "#FFFFFF",
             "#FFFFFF",
             "#FFFFFF",
             "#FFFFFF",
             "#FFFFFF",
             "#FFFFFF"
            ],
            [
             "#F7F7F7",
             "#F7F7F7",
             "#F7F7F7",
             "#DEEFFF",
             "#F7F7F7",
             "#F7F7F7",
             "#F7F7F7",
             "#F7F7F7",
             "#F7F7F7",
             "#F7F7F7",
             "#DEEFFF",
             "#F7F7F7",
             "#F7F7F7",
             "#F7F7F7",
             "#F7F7F7",
             "#F7F7F7",
             "#F7F7F7",
             "#DEEFFF",
             "#F7F7F7",
             "#F7F7F7",
             "#F7F7F7",
             "#F7F7F7",
             "#F7F7F7",
             "#F7F7F7",
             "#DEEFFF",
             "#F7F7F7",
             "#F7F7F7",
             "#F7F7F7",
             "#F7F7F7",
             "#F7F7F7",
             "#F7F7F7"
            ],
            [
             "#FFFFFF",
             "#FFFFFF",
             "#FFFFFF",
             "#DEEFFF",
             "#F7F7F7",
             "#FFFFFF",
             "#FFFFFF",
             "#FFFFFF",
             "#FFFFFF",
             "#FFFFFF",
             "#DEEFFF",
             "#FFFFFF",
             "#FFFFFF",
             "#FFFFFF",
             "#FFFFFF",
             "#FFFFFF",
             "#FFFFFF",
             "#DEEFFF",
             "#FFFFFF",
             "#FFFFFF",
             "#FFFFFF",
             "#FFFFFF",
             "#FFFFFF",
             "#FFFFFF",
             "#DEEFFF",
             "#FFFFFF",
             "#FFFFFF",
             "#FFFFFF",
             "#FFFFFF",
             "#FFFFFF",
             "#FFFFFF"
            ],
            [
             "#FFFFFF",
             "#FFFFFF",
             "#FFFFFF",
             "#DEEFFF",
             "#F7F7F7",
             "#FFFFFF",
             "#FFFFFF",
             "#FFFFFF",
             "#FFFFFF",
             "#FFFFFF",
             "#DEEFFF",
             "#FFFFFF",
             "#FFFFFF",
             "#FFFFFF",
             "#FFFFFF",
             "#FFFFFF",
             "#FFFFFF",
             "#DEEFFF",
             "#FFFFFF",
             "#FFFFFF",
             "#FFFFFF",
             "#FFFFFF",
             "#FFFFFF",
             "#FFFFFF",
             "#DEEFFF",
             "#FFFFFF",
             "#FFFFFF",
             "#FFFFFF",
             "#FFFFFF",
             "#FFFFFF",
             "#FFFFFF"
            ],
            [
             "#FFFFFF",
             "#FFFFFF",
             "#FFFFFF",
             "#DEEFFF",
             "#F7F7F7",
             "#FFFFFF",
             "#FFFFFF",
             "#FFFFFF",
             "#FFFFFF",
             "#FFFFFF",
             "#DEEFFF",
             "#FFFFFF",
             "#FFFFFF",
             "#FFFFFF",
             "#FFFFFF",
             "#FFFFFF",
             "#FFFFFF",
             "#DEEFFF",
             "#FFFFFF",
             "#FFFFFF",
             "#FFFFFF",
             "#FFFFFF",
             "#FFFFFF",
             "#FFFFFF",
             "#DEEFFF",
             "#FFFFFF",
             "#FFFFFF",
             "#FFFFFF",
             "#FFFFFF",
             "#FFFFFF",
             "#FFFFFF"
            ],
            [
             "#FFFFFF",
             "#FFFFFF",
             "#FFFFFF",
             "#DEEFFF",
             "#F7F7F7",
             "#FFFFFF",
             "#FFFFFF",
             "#FFFFFF",
             "#FFFFFF",
             "#FFFFFF",
             "#DEEFFF",
             "#FFFFFF",
             "#FFFFFF",
             "#FFFFFF",
             "#FFFFFF",
             "#FFFFFF",
             "#FFFFFF",
             "#DEEFFF",
             "#FFFFFF",
             "#FFFFFF",
             "#FFFFFF",
             "#FFFFFF",
             "#FFFFFF",
             "#FFFFFF",
             "#DEEFFF",
             "#FFFFFF",
             "#FFFFFF",
             "#FFFFFF",
             "#FFFFFF",
             "#FFFFFF",
             "#FFFFFF"
            ],
            [
             "#FFFFFF",
             "#FFFFFF",
             "#FFFFFF",
             "#DEEFFF",
             "#F7F7F7",
             "#FFFFFF",
             "#FFFFFF",
             "#FFFFFF",
             "#FFFFFF",
             "#FFFFFF",
             "#DEEFFF",
             "#FFFFFF",
             "#FFFFFF",
             "#FFFFFF",
             "#FFFFFF",
             "#FFFFFF",
             "#FFFFFF",
             "#DEEFFF",
             "#FFFFFF",
             "#FFFFFF",
             "#FFFFFF",
             "#FFFFFF",
             "#FFFFFF",
             "#FFFFFF",
             "#DEEFFF",
             "#FFFFFF",
             "#FFFFFF",
             "#FFFFFF",
             "#FFFFFF",
             "#FFFFFF",
             "#FFFFFF"
            ],
            [
             "#FFFFFF",
             "#FFFFFF",
             "#FFFFFF",
             "#DEEFFF",
             "#F7F7F7",
             "#FFFFFF",
             "#FFFFFF",
             "#FFFFFF",
             "#FFFFFF",
             "#FFFFFF",
             "#DEEFFF",
             "#FFFFFF",
             "#FFFFFF",
             "#FFFFFF",
             "#FFFFFF",
             "#FFFFFF",
             "#FFFFFF",
             "#DEEFFF",
             "#FFFFFF",
             "#FFFFFF",
             "#FFFFFF",
             "#FFFFFF",
             "#FFFFFF",
             "#FFFFFF",
             "#DEEFFF",
             "#FFFFFF",
             "#FFFFFF",
             "#FFFFFF",
             "#FFFFFF",
             "#FFFFFF",
             "#FFFFFF"
            ],
            [
             "#FFFFFF",
             "#FFFFFF",
             "#FFFFFF",
             "#DEEFFF",
             "#F7F7F7",
             "#FFFFFF",
             "#FFFFFF",
             "#FFFFFF",
             "#FFFFFF",
             "#FFFFFF",
             "#DEEFFF",
             "#FFFFFF",
             "#FFFFFF",
             "#FFFFFF",
             "#FFFFFF",
             "#FFFFFF",
             "#FFFFFF",
             "#DEEFFF",
             "#FFFFFF",
             "#FFFFFF",
             "#FFFFFF",
             "#FFFFFF",
             "#FFFFFF",
             "#FFFFFF",
             "#DEEFFF",
             "#FFFFFF",
             "#FFFFFF",
             "#FFFFFF",
             "#FFFFFF",
             "#FFFFFF",
             "#FFFFFF"
            ],
            [
             "#FFFFFF",
             "#FFFFFF",
             "#FFFFFF",
             "#DEEFFF",
             "#F7F7F7",
             "#FFFFFF",
             "#FFFFFF",
             "#FFFFFF",
             "#FFFFFF",
             "#FFFFFF",
             "#DEEFFF",
             "#FFFFFF",
             "#FFFFFF",
             "#FFFFFF",
             "#FFFFFF",
             "#FFFFFF",
             "#FFFFFF",
             "#DEEFFF",
             "#FFFFFF",
             "#FFFFFF",
             "#FFFFFF",
             "#FFFFFF",
             "#FFFFFF",
             "#FFFFFF",
             "#DEEFFF",
             "#FFFFFF",
             "#FFFFFF",
             "#FFFFFF",
             "#FFFFFF",
             "#FFFFFF",
             "#FFFFFF"
            ],
            [
             "#FFFFFF",
             "#FFFFFF",
             "#FFFFFF",
             "#DEEFFF",
             "#F7F7F7",
             "#FFFFFF",
             "#FFFFFF",
             "#FFFFFF",
             "#FFFFFF",
             "#FFFFFF",
             "#DEEFFF",
             "#FFFFFF",
             "#FFFFFF",
             "#FFFFFF",
             "#FFFFFF",
             "#FFFFFF",
             "#FFFFFF",
             "#DEEFFF",
             "#FFFFFF",
             "#FFFFFF",
             "#FFFFFF",
             "#FFFFFF",
             "#FFFFFF",
             "#FFFFFF",
             "#DEEFFF",
             "#FFFFFF",
             "#FFFFFF",
             "#FFFFFF",
             "#FFFFFF",
             "#FFFFFF",
             "#FFFFFF"
            ],
            [
             "#FFFFFF",
             "#FFFFFF",
             "#FFFFFF",
             "#DEEFFF",
             "#F7F7F7",
             "#FFFFFF",
             "#FFFFFF",
             "#FFFFFF",
             "#FFFFFF",
             "#FFFFFF",
             "#DEEFFF",
             "#FFFFFF",
             "#FFFFFF",
             "#FFFFFF",
             "#FFFFFF",
             "#FFFFFF",
             "#FFFFFF",
             "#DEEFFF",
             "#FFFFFF",
             "#FFFFFF",
             "#FFFFFF",
             "#FFFFFF",
             "#FFFFFF",
             "#FFFFFF",
             "#DEEFFF",
             "#FFFFFF",
             "#FFFFFF",
             "#FFFFFF",
             "#FFFFFF",
             "#FFFFFF",
             "#FFFFFF"
            ],
            [
             "#FFFFFF",
             "#FFFFFF",
             "#FFFFFF",
             "#DEEFFF",
             "#F7F7F7",
             "#FFFFFF",
             "#FFFFFF",
             "#FFFFFF",
             "#FFFFFF",
             "#FFFFFF",
             "#DEEFFF",
             "#FFFFFF",
             "#FFFFFF",
             "#FFFFFF",
             "#FFFFFF",
             "#FFFFFF",
             "#FFFFFF",
             "#DEEFFF",
             "#FFFFFF",
             "#FFFFFF",
             "#FFFFFF",
             "#FFFFFF",
             "#FFFFFF",
             "#FFFFFF",
             "#DEEFFF",
             "#FFFFFF",
             "#FFFFFF",
             "#FFFFFF",
             "#FFFFFF",
             "#FFFFFF",
             "#FFFFFF"
            ]
           ]
          },
          "font": {
           "color": [
            "#000000",
            "#000000",
            "#118DFF",
            "#000000",
            "#FF0000",
            "#FF0000",
            "#E04392",
            "#000000",
            "#FF0000",
            "#E04392",
            "#000000",
            "#FF0000",
            "#000000",
            "#000000",
            "#000000"
           ]
          },
          "line": {
           "color": [
            [
             "#FFFFFF",
             "#FFFFFF",
             "#FFFFFF",
             "#DEEFFF",
             "#F7F7F7",
             "#FFFFFF",
             "#FFFFFF",
             "#FFFFFF",
             "#FFFFFF",
             "#FFFFFF",
             "#DEEFFF",
             "#FFFFFF",
             "#FFFFFF",
             "#FFFFFF",
             "#FFFFFF",
             "#FFFFFF",
             "#FFFFFF",
             "#DEEFFF",
             "#FFFFFF",
             "#FFFFFF",
             "#FFFFFF",
             "#FFFFFF",
             "#FFFFFF",
             "#FFFFFF",
             "#DEEFFF",
             "#FFFFFF",
             "#FFFFFF",
             "#FFFFFF",
             "#FFFFFF",
             "#FFFFFF",
             "#FFFFFF"
            ],
            [
             "#FFFFFF",
             "#FFFFFF",
             "#FFFFFF",
             "#DEEFFF",
             "#F7F7F7",
             "#FFFFFF",
             "#FFFFFF",
             "#FFFFFF",
             "#FFFFFF",
             "#FFFFFF",
             "#DEEFFF",
             "#FFFFFF",
             "#FFFFFF",
             "#FFFFFF",
             "#FFFFFF",
             "#FFFFFF",
             "#FFFFFF",
             "#DEEFFF",
             "#FFFFFF",
             "#FFFFFF",
             "#FFFFFF",
             "#FFFFFF",
             "#FFFFFF",
             "#FFFFFF",
             "#DEEFFF",
             "#FFFFFF",
             "#FFFFFF",
             "#FFFFFF",
             "#FFFFFF",
             "#FFFFFF",
             "#FFFFFF"
            ],
            [
             "#F7F7F7",
             "#F7F7F7",
             "#F7F7F7",
             "#DEEFFF",
             "#F7F7F7",
             "#F7F7F7",
             "#F7F7F7",
             "#F7F7F7",
             "#F7F7F7",
             "#F7F7F7",
             "#DEEFFF",
             "#F7F7F7",
             "#F7F7F7",
             "#F7F7F7",
             "#F7F7F7",
             "#F7F7F7",
             "#F7F7F7",
             "#DEEFFF",
             "#F7F7F7",
             "#F7F7F7",
             "#F7F7F7",
             "#F7F7F7",
             "#F7F7F7",
             "#F7F7F7",
             "#DEEFFF",
             "#F7F7F7",
             "#F7F7F7",
             "#F7F7F7",
             "#F7F7F7",
             "#F7F7F7",
             "#F7F7F7"
            ],
            [
             "#F7F7F7",
             "#F7F7F7",
             "#F7F7F7",
             "#DEEFFF",
             "#F7F7F7",
             "#F7F7F7",
             "#F7F7F7",
             "#F7F7F7",
             "#F7F7F7",
             "#F7F7F7",
             "#DEEFFF",
             "#F7F7F7",
             "#F7F7F7",
             "#F7F7F7",
             "#F7F7F7",
             "#F7F7F7",
             "#F7F7F7",
             "#DEEFFF",
             "#F7F7F7",
             "#F7F7F7",
             "#F7F7F7",
             "#F7F7F7",
             "#F7F7F7",
             "#F7F7F7",
             "#DEEFFF",
             "#F7F7F7",
             "#F7F7F7",
             "#F7F7F7",
             "#F7F7F7",
             "#F7F7F7",
             "#F7F7F7"
            ],
            [
             "#FFFFFF",
             "#FFFFFF",
             "#FFFFFF",
             "#DEEFFF",
             "#F7F7F7",
             "#FFFFFF",
             "#FFFFFF",
             "#FFFFFF",
             "#FFFFFF",
             "#FFFFFF",
             "#DEEFFF",
             "#FFFFFF",
             "#FFFFFF",
             "#FFFFFF",
             "#FFFFFF",
             "#FFFFFF",
             "#FFFFFF",
             "#DEEFFF",
             "#FFFFFF",
             "#FFFFFF",
             "#FFFFFF",
             "#FFFFFF",
             "#FFFFFF",
             "#FFFFFF",
             "#DEEFFF",
             "#FFFFFF",
             "#FFFFFF",
             "#FFFFFF",
             "#FFFFFF",
             "#FFFFFF",
             "#FFFFFF"
            ],
            [
             "#FFFFFF",
             "#FFFFFF",
             "#FFFFFF",
             "#DEEFFF",
             "#F7F7F7",
             "#FFFFFF",
             "#FFFFFF",
             "#FFFFFF",
             "#FFFFFF",
             "#FFFFFF",
             "#DEEFFF",
             "#FFFFFF",
             "#FFFFFF",
             "#FFFFFF",
             "#FFFFFF",
             "#FFFFFF",
             "#FFFFFF",
             "#DEEFFF",
             "#FFFFFF",
             "#FFFFFF",
             "#FFFFFF",
             "#FFFFFF",
             "#FFFFFF",
             "#FFFFFF",
             "#DEEFFF",
             "#FFFFFF",
             "#FFFFFF",
             "#FFFFFF",
             "#FFFFFF",
             "#FFFFFF",
             "#FFFFFF"
            ],
            [
             "#F7F7F7",
             "#F7F7F7",
             "#F7F7F7",
             "#DEEFFF",
             "#F7F7F7",
             "#F7F7F7",
             "#F7F7F7",
             "#F7F7F7",
             "#F7F7F7",
             "#F7F7F7",
             "#DEEFFF",
             "#F7F7F7",
             "#F7F7F7",
             "#F7F7F7",
             "#F7F7F7",
             "#F7F7F7",
             "#F7F7F7",
             "#DEEFFF",
             "#F7F7F7",
             "#F7F7F7",
             "#F7F7F7",
             "#F7F7F7",
             "#F7F7F7",
             "#F7F7F7",
             "#DEEFFF",
             "#F7F7F7",
             "#F7F7F7",
             "#F7F7F7",
             "#F7F7F7",
             "#F7F7F7",
             "#F7F7F7"
            ],
            [
             "#FFFFFF",
             "#FFFFFF",
             "#FFFFFF",
             "#DEEFFF",
             "#F7F7F7",
             "#FFFFFF",
             "#FFFFFF",
             "#FFFFFF",
             "#FFFFFF",
             "#FFFFFF",
             "#DEEFFF",
             "#FFFFFF",
             "#FFFFFF",
             "#FFFFFF",
             "#FFFFFF",
             "#FFFFFF",
             "#FFFFFF",
             "#DEEFFF",
             "#FFFFFF",
             "#FFFFFF",
             "#FFFFFF",
             "#FFFFFF",
             "#FFFFFF",
             "#FFFFFF",
             "#DEEFFF",
             "#FFFFFF",
             "#FFFFFF",
             "#FFFFFF",
             "#FFFFFF",
             "#FFFFFF",
             "#FFFFFF"
            ],
            [
             "#FFFFFF",
             "#FFFFFF",
             "#FFFFFF",
             "#DEEFFF",
             "#F7F7F7",
             "#FFFFFF",
             "#FFFFFF",
             "#FFFFFF",
             "#FFFFFF",
             "#FFFFFF",
             "#DEEFFF",
             "#FFFFFF",
             "#FFFFFF",
             "#FFFFFF",
             "#FFFFFF",
             "#FFFFFF",
             "#FFFFFF",
             "#DEEFFF",
             "#FFFFFF",
             "#FFFFFF",
             "#FFFFFF",
             "#FFFFFF",
             "#FFFFFF",
             "#FFFFFF",
             "#DEEFFF",
             "#FFFFFF",
             "#FFFFFF",
             "#FFFFFF",
             "#FFFFFF",
             "#FFFFFF",
             "#FFFFFF"
            ],
            [
             "#F7F7F7",
             "#F7F7F7",
             "#F7F7F7",
             "#DEEFFF",
             "#F7F7F7",
             "#F7F7F7",
             "#F7F7F7",
             "#F7F7F7",
             "#F7F7F7",
             "#F7F7F7",
             "#DEEFFF",
             "#F7F7F7",
             "#F7F7F7",
             "#F7F7F7",
             "#F7F7F7",
             "#F7F7F7",
             "#F7F7F7",
             "#DEEFFF",
             "#F7F7F7",
             "#F7F7F7",
             "#F7F7F7",
             "#F7F7F7",
             "#F7F7F7",
             "#F7F7F7",
             "#DEEFFF",
             "#F7F7F7",
             "#F7F7F7",
             "#F7F7F7",
             "#F7F7F7",
             "#F7F7F7",
             "#F7F7F7"
            ],
            [
             "#FFFFFF",
             "#FFFFFF",
             "#FFFFFF",
             "#DEEFFF",
             "#F7F7F7",
             "#FFFFFF",
             "#FFFFFF",
             "#FFFFFF",
             "#FFFFFF",
             "#FFFFFF",
             "#DEEFFF",
             "#FFFFFF",
             "#FFFFFF",
             "#FFFFFF",
             "#FFFFFF",
             "#FFFFFF",
             "#FFFFFF",
             "#DEEFFF",
             "#FFFFFF",
             "#FFFFFF",
             "#FFFFFF",
             "#FFFFFF",
             "#FFFFFF",
             "#FFFFFF",
             "#DEEFFF",
             "#FFFFFF",
             "#FFFFFF",
             "#FFFFFF",
             "#FFFFFF",
             "#FFFFFF",
             "#FFFFFF"
            ],
            [
             "#FFFFFF",
             "#FFFFFF",
             "#FFFFFF",
             "#DEEFFF",
             "#F7F7F7",
             "#FFFFFF",
             "#FFFFFF",
             "#FFFFFF",
             "#FFFFFF",
             "#FFFFFF",
             "#DEEFFF",
             "#FFFFFF",
             "#FFFFFF",
             "#FFFFFF",
             "#FFFFFF",
             "#FFFFFF",
             "#FFFFFF",
             "#DEEFFF",
             "#FFFFFF",
             "#FFFFFF",
             "#FFFFFF",
             "#FFFFFF",
             "#FFFFFF",
             "#FFFFFF",
             "#DEEFFF",
             "#FFFFFF",
             "#FFFFFF",
             "#FFFFFF",
             "#FFFFFF",
             "#FFFFFF",
             "#FFFFFF"
            ],
            [
             "#FFFFFF",
             "#FFFFFF",
             "#FFFFFF",
             "#DEEFFF",
             "#F7F7F7",
             "#FFFFFF",
             "#FFFFFF",
             "#FFFFFF",
             "#FFFFFF",
             "#FFFFFF",
             "#DEEFFF",
             "#FFFFFF",
             "#FFFFFF",
             "#FFFFFF",
             "#FFFFFF",
             "#FFFFFF",
             "#FFFFFF",
             "#DEEFFF",
             "#FFFFFF",
             "#FFFFFF",
             "#FFFFFF",
             "#FFFFFF",
             "#FFFFFF",
             "#FFFFFF",
             "#DEEFFF",
             "#FFFFFF",
             "#FFFFFF",
             "#FFFFFF",
             "#FFFFFF",
             "#FFFFFF",
             "#FFFFFF"
            ],
            [
             "#FFFFFF",
             "#FFFFFF",
             "#FFFFFF",
             "#DEEFFF",
             "#F7F7F7",
             "#FFFFFF",
             "#FFFFFF",
             "#FFFFFF",
             "#FFFFFF",
             "#FFFFFF",
             "#DEEFFF",
             "#FFFFFF",
             "#FFFFFF",
             "#FFFFFF",
             "#FFFFFF",
             "#FFFFFF",
             "#FFFFFF",
             "#DEEFFF",
             "#FFFFFF",
             "#FFFFFF",
             "#FFFFFF",
             "#FFFFFF",
             "#FFFFFF",
             "#FFFFFF",
             "#DEEFFF",
             "#FFFFFF",
             "#FFFFFF",
             "#FFFFFF",
             "#FFFFFF",
             "#FFFFFF",
             "#FFFFFF"
            ],
            [
             "#FFFFFF",
             "#FFFFFF",
             "#FFFFFF",
             "#DEEFFF",
             "#F7F7F7",
             "#FFFFFF",
             "#FFFFFF",
             "#FFFFFF",
             "#FFFFFF",
             "#FFFFFF",
             "#DEEFFF",
             "#FFFFFF",
             "#FFFFFF",
             "#FFFFFF",
             "#FFFFFF",
             "#FFFFFF",
             "#FFFFFF",
             "#DEEFFF",
             "#FFFFFF",
             "#FFFFFF",
             "#FFFFFF",
             "#FFFFFF",
             "#FFFFFF",
             "#FFFFFF",
             "#DEEFFF",
             "#FFFFFF",
             "#FFFFFF",
             "#FFFFFF",
             "#FFFFFF",
             "#FFFFFF",
             "#FFFFFF"
            ],
            [
             "#FFFFFF",
             "#FFFFFF",
             "#FFFFFF",
             "#DEEFFF",
             "#F7F7F7",
             "#FFFFFF",
             "#FFFFFF",
             "#FFFFFF",
             "#FFFFFF",
             "#FFFFFF",
             "#DEEFFF",
             "#FFFFFF",
             "#FFFFFF",
             "#FFFFFF",
             "#FFFFFF",
             "#FFFFFF",
             "#FFFFFF",
             "#DEEFFF",
             "#FFFFFF",
             "#FFFFFF",
             "#FFFFFF",
             "#FFFFFF",
             "#FFFFFF",
             "#FFFFFF",
             "#DEEFFF",
             "#FFFFFF",
             "#FFFFFF",
             "#FFFFFF",
             "#FFFFFF",
             "#FFFFFF",
             "#FFFFFF"
            ],
            [
             "#FFFFFF",
             "#FFFFFF",
             "#FFFFFF",
             "#DEEFFF",
             "#F7F7F7",
             "#FFFFFF",
             "#FFFFFF",
             "#FFFFFF",
             "#FFFFFF",
             "#FFFFFF",
             "#DEEFFF",
             "#FFFFFF",
             "#FFFFFF",
             "#FFFFFF",
             "#FFFFFF",
             "#FFFFFF",
             "#FFFFFF",
             "#DEEFFF",
             "#FFFFFF",
             "#FFFFFF",
             "#FFFFFF",
             "#FFFFFF",
             "#FFFFFF",
             "#FFFFFF",
             "#DEEFFF",
             "#FFFFFF",
             "#FFFFFF",
             "#FFFFFF",
             "#FFFFFF",
             "#FFFFFF",
             "#FFFFFF"
            ],
            [
             "#FFFFFF",
             "#FFFFFF",
             "#FFFFFF",
             "#DEEFFF",
             "#F7F7F7",
             "#FFFFFF",
             "#FFFFFF",
             "#FFFFFF",
             "#FFFFFF",
             "#FFFFFF",
             "#DEEFFF",
             "#FFFFFF",
             "#FFFFFF",
             "#FFFFFF",
             "#FFFFFF",
             "#FFFFFF",
             "#FFFFFF",
             "#DEEFFF",
             "#FFFFFF",
             "#FFFFFF",
             "#FFFFFF",
             "#FFFFFF",
             "#FFFFFF",
             "#FFFFFF",
             "#DEEFFF",
             "#FFFFFF",
             "#FFFFFF",
             "#FFFFFF",
             "#FFFFFF",
             "#FFFFFF",
             "#FFFFFF"
            ],
            [
             "#FFFFFF",
             "#FFFFFF",
             "#FFFFFF",
             "#DEEFFF",
             "#F7F7F7",
             "#FFFFFF",
             "#FFFFFF",
             "#FFFFFF",
             "#FFFFFF",
             "#FFFFFF",
             "#DEEFFF",
             "#FFFFFF",
             "#FFFFFF",
             "#FFFFFF",
             "#FFFFFF",
             "#FFFFFF",
             "#FFFFFF",
             "#DEEFFF",
             "#FFFFFF",
             "#FFFFFF",
             "#FFFFFF",
             "#FFFFFF",
             "#FFFFFF",
             "#FFFFFF",
             "#DEEFFF",
             "#FFFFFF",
             "#FFFFFF",
             "#FFFFFF",
             "#FFFFFF",
             "#FFFFFF",
             "#FFFFFF"
            ],
            [
             "#FFFFFF",
             "#FFFFFF",
             "#FFFFFF",
             "#DEEFFF",
             "#F7F7F7",
             "#FFFFFF",
             "#FFFFFF",
             "#FFFFFF",
             "#FFFFFF",
             "#FFFFFF",
             "#DEEFFF",
             "#FFFFFF",
             "#FFFFFF",
             "#FFFFFF",
             "#FFFFFF",
             "#FFFFFF",
             "#FFFFFF",
             "#DEEFFF",
             "#FFFFFF",
             "#FFFFFF",
             "#FFFFFF",
             "#FFFFFF",
             "#FFFFFF",
             "#FFFFFF",
             "#DEEFFF",
             "#FFFFFF",
             "#FFFFFF",
             "#FFFFFF",
             "#FFFFFF",
             "#FFFFFF",
             "#FFFFFF"
            ],
            [
             "#FFFFFF",
             "#FFFFFF",
             "#FFFFFF",
             "#DEEFFF",
             "#F7F7F7",
             "#FFFFFF",
             "#FFFFFF",
             "#FFFFFF",
             "#FFFFFF",
             "#FFFFFF",
             "#DEEFFF",
             "#FFFFFF",
             "#FFFFFF",
             "#FFFFFF",
             "#FFFFFF",
             "#FFFFFF",
             "#FFFFFF",
             "#DEEFFF",
             "#FFFFFF",
             "#FFFFFF",
             "#FFFFFF",
             "#FFFFFF",
             "#FFFFFF",
             "#FFFFFF",
             "#DEEFFF",
             "#FFFFFF",
             "#FFFFFF",
             "#FFFFFF",
             "#FFFFFF",
             "#FFFFFF",
             "#FFFFFF"
            ]
           ]
          },
          "values": [
           [
            "01/12/2022 Thursday",
            "02/12/2022 Friday",
            "03/12/2022 Saturday",
            "04/12/2022 Sunday",
            "05/12/2022 Monday",
            "06/12/2022 Tuesday",
            "07/12/2022 Wednesday",
            "08/12/2022 Thursday",
            "09/12/2022 Friday",
            "10/12/2022 Saturday",
            "11/12/2022 Sunday",
            "12/12/2022 Monday",
            "13/12/2022 Tuesday",
            "14/12/2022 Wednesday",
            "15/12/2022 Thursday",
            "16/12/2022 Friday",
            "17/12/2022 Saturday",
            "18/12/2022 Sunday",
            "19/12/2022 Monday",
            "20/12/2022 Tuesday",
            "21/12/2022 Wednesday",
            "22/12/2022 Thursday",
            "23/12/2022 Friday",
            "24/12/2022 Saturday",
            "25/12/2022 Sunday",
            "26/12/2022 Monday",
            "27/12/2022 Tuesday",
            "28/12/2022 Wednesday",
            "29/12/2022 Thursday",
            "30/12/2022 Friday",
            "31/12/2022 Saturday",
            "Total"
           ],
           [
            "R$ 19.047,62",
            "R$ 19.047,62",
            "",
            "",
            "",
            "R$ 19.047,62",
            "R$ 19.047,62",
            "R$ 19.047,62",
            "R$ 19.047,62",
            "",
            "",
            "R$ 19.047,62",
            "R$ 19.047,62",
            "R$ 19.047,62",
            "R$ 19.047,62",
            "R$ 19.047,62",
            "",
            "",
            "R$ 19.047,62",
            "R$ 19.047,62",
            "R$ 19.047,62",
            "R$ 19.047,62",
            "R$ 19.047,62",
            "",
            "",
            "R$ 19.047,62",
            "R$ 19.047,62",
            "R$ 19.047,62",
            "R$ 19.047,62",
            "R$ 19.047,62",
            "",
            "R$ 400.000,00"
           ],
           [
            "R$ 12.246,23",
            "R$ 10.868,26",
            "R$ 5.437,49",
            "",
            "",
            "",
            "",
            "",
            "",
            "",
            "",
            "",
            "",
            "",
            "",
            "",
            "",
            "",
            "",
            "",
            "",
            "",
            "",
            "",
            "",
            "",
            "",
            "",
            "",
            "",
            "",
            "R$ 28.551,98"
           ],
           [
            "R$ 10.909,99",
            "R$ 10.868,26",
            "R$ 5.437,49",
            "",
            "",
            "",
            "",
            "",
            "",
            "",
            "",
            "",
            "",
            "",
            "",
            "",
            "",
            "",
            "",
            "",
            "",
            "",
            "",
            "",
            "",
            "",
            "",
            "",
            "",
            "",
            "",
            "R$ 27.215,74"
           ],
           [
            "R$ 1.336,24",
            "",
            "",
            "",
            "",
            "",
            "",
            "",
            "",
            "",
            "",
            "",
            "",
            "",
            "",
            "",
            "",
            "",
            "",
            "",
            "",
            "",
            "",
            "",
            "",
            "",
            "",
            "",
            "",
            "",
            "",
            "R$ 1.336,24"
           ],
           [
            "10,91%",
            "",
            "",
            "",
            "",
            "",
            "",
            "",
            "",
            "",
            "",
            "",
            "",
            "",
            "",
            "",
            "",
            "",
            "",
            "",
            "",
            "",
            "",
            "",
            "",
            "",
            "",
            "",
            "",
            "",
            "",
            "4,68%"
           ],
           [
            "R$ 600,60",
            "",
            "R$ 257,44",
            "",
            "",
            "",
            "",
            "",
            "",
            "",
            "",
            "",
            "",
            "",
            "",
            "",
            "",
            "",
            "",
            "",
            "",
            "",
            "",
            "",
            "",
            "",
            "",
            "",
            "",
            "",
            "",
            "R$ 858,04"
           ],
           [
            "1",
            "",
            "1",
            "",
            "",
            "",
            "",
            "",
            "",
            "",
            "",
            "",
            "",
            "",
            "",
            "",
            "",
            "",
            "",
            "",
            "",
            "",
            "",
            "",
            "",
            "",
            "",
            "",
            "",
            "",
            "",
            "2"
           ],
           [
            "",
            "",
            "",
            "",
            "",
            "",
            "",
            "",
            "",
            "",
            "",
            "",
            "",
            "",
            "",
            "",
            "",
            "",
            "",
            "",
            "",
            "",
            "",
            "",
            "",
            "",
            "",
            "",
            "",
            "",
            "",
            ""
           ],
           [
            "R$ 10.309,39",
            "R$ 10.868,26",
            "R$ 5.180,05",
            "",
            "",
            "",
            "",
            "",
            "",
            "",
            "",
            "",
            "",
            "",
            "",
            "",
            "",
            "",
            "",
            "",
            "",
            "",
            "",
            "",
            "",
            "",
            "",
            "",
            "",
            "",
            "",
            "R$ 26.357,70"
           ],
           [
            "79",
            "60",
            "29",
            "",
            "",
            "",
            "",
            "",
            "",
            "",
            "",
            "",
            "",
            "",
            "",
            "",
            "",
            "",
            "",
            "",
            "",
            "",
            "",
            "",
            "",
            "",
            "",
            "",
            "",
            "",
            "",
            "168"
           ],
           [
            "11,47%",
            "",
            "",
            "",
            "",
            "",
            "",
            "",
            "",
            "",
            "",
            "",
            "",
            "",
            "",
            "",
            "",
            "",
            "",
            "",
            "",
            "",
            "",
            "",
            "",
            "",
            "",
            "",
            "",
            "",
            "",
            "5,07%"
           ],
           [
            "57,28%",
            "57,06%",
            "",
            "",
            "",
            "",
            "",
            "",
            "",
            "",
            "",
            "",
            "",
            "",
            "",
            "",
            "",
            "",
            "",
            "",
            "",
            "",
            "",
            "",
            "",
            "",
            "",
            "",
            "",
            "",
            "",
            "6,80%"
           ],
           [
            "57,28%",
            "57,17%",
            "71,44%",
            "71,44%",
            "71,44%",
            "47,63%",
            "35,72%",
            "28,58%",
            "23,81%",
            "23,81%",
            "23,81%",
            "20,41%",
            "17,86%",
            "15,88%",
            "14,29%",
            "12,99%",
            "12,99%",
            "12,99%",
            "11,91%",
            "10,99%",
            "10,21%",
            "9,53%",
            "8,93%",
            "8,93%",
            "8,93%",
            "8,40%",
            "7,94%",
            "7,52%",
            "7,14%",
            "6,80%",
            "6,80%",
            "6,80%"
           ],
           [
            "R$ 229.109,79",
            "R$ 228.671,62",
            "R$ 285.765,27",
            "R$ 285.765,27",
            "R$ 285.765,27",
            "R$ 190.510,18",
            "R$ 142.882,64",
            "R$ 114.306,11",
            "R$ 95.255,09",
            "R$ 95.255,09",
            "R$ 95.255,09",
            "R$ 81.647,22",
            "R$ 71.441,32",
            "R$ 63.503,39",
            "R$ 57.153,05",
            "R$ 51.957,32",
            "R$ 51.957,32",
            "R$ 51.957,32",
            "R$ 47.627,54",
            "R$ 43.963,89",
            "R$ 40.823,61",
            "R$ 38.102,04",
            "R$ 35.720,66",
            "R$ 35.720,66",
            "R$ 35.720,66",
            "R$ 33.619,44",
            "R$ 31.751,70",
            "R$ 30.080,55",
            "R$ 28.576,53",
            "R$ 27.215,74",
            "R$ 27.215,74",
            ""
           ]
          ]
         },
         "columnwidth": [
          605.5555555555555,
          403.7037037037037,
          403.7037037037037,
          403.7037037037037,
          322.96296296296293,
          161.48148148148147,
          322.96296296296293,
          161.48148148148147,
          222.03703703703704,
          322.96296296296293,
          161.48148148148147,
          222.03703703703704,
          161.48148148148147,
          161.48148148148147,
          403.7037037037037
         ],
         "domain": {
          "y": [
           0,
           1
          ]
         },
         "header": {
          "align": [
           "center"
          ],
          "fill": {
           "color": [
            "#FFFFFF",
            "#FFFFFF",
            "#F7F7F7",
            "#F7F7F7",
            "#FFFFFF",
            "#FFFFFF",
            "#F7F7F7",
            "#FFFFFF",
            "#FFFFFF",
            "#F7F7F7",
            "#FFFFFF",
            "#FFFFFF",
            "#FFFFFF",
            "#FFFFFF",
            "#FFFFFF"
           ]
          },
          "font": {
           "color": [
            "#000000",
            "#000000",
            "#118DFF",
            "#000000",
            "#FF0000",
            "#FF0000",
            "#E04392",
            "#000000",
            "#FF0000",
            "#E04392",
            "#000000",
            "#FF0000",
            "#000000",
            "#000000",
            "#000000"
           ]
          },
          "line": {
           "color": [
            "#FFFFFF",
            "#FFFFFF",
            "#F7F7F7",
            "#F7F7F7",
            "#FFFFFF",
            "#FFFFFF",
            "#F7F7F7",
            "#FFFFFF",
            "#FFFFFF",
            "#F7F7F7",
            "#FFFFFF",
            "#FFFFFF",
            "#FFFFFF",
            "#FFFFFF",
            "#FFFFFF"
           ]
          },
          "values": [
           "Data",
           "Meta",
           "Venda SIAC",
           "Venda - Devolução",
           "Devolução",
           "% Dev",
           "Venda CNPJ",
           "Clientes CNPJ",
           "% Dev CNPJ",
           "Venda CPF",
           "Clientes CPF",
           "% Dev CPF",
           "% Dia",
           "% Mês",
           "Projeção do mês"
          ]
         },
         "type": "table"
        }
       ],
       "layout": {
        "height": 887,
        "template": {
         "data": {
          "bar": [
           {
            "error_x": {
             "color": "#2a3f5f"
            },
            "error_y": {
             "color": "#2a3f5f"
            },
            "marker": {
             "line": {
              "color": "#E5ECF6",
              "width": 0.5
             },
             "pattern": {
              "fillmode": "overlay",
              "size": 10,
              "solidity": 0.2
             }
            },
            "type": "bar"
           }
          ],
          "barpolar": [
           {
            "marker": {
             "line": {
              "color": "#E5ECF6",
              "width": 0.5
             },
             "pattern": {
              "fillmode": "overlay",
              "size": 10,
              "solidity": 0.2
             }
            },
            "type": "barpolar"
           }
          ],
          "carpet": [
           {
            "aaxis": {
             "endlinecolor": "#2a3f5f",
             "gridcolor": "white",
             "linecolor": "white",
             "minorgridcolor": "white",
             "startlinecolor": "#2a3f5f"
            },
            "baxis": {
             "endlinecolor": "#2a3f5f",
             "gridcolor": "white",
             "linecolor": "white",
             "minorgridcolor": "white",
             "startlinecolor": "#2a3f5f"
            },
            "type": "carpet"
           }
          ],
          "choropleth": [
           {
            "colorbar": {
             "outlinewidth": 0,
             "ticks": ""
            },
            "type": "choropleth"
           }
          ],
          "contour": [
           {
            "colorbar": {
             "outlinewidth": 0,
             "ticks": ""
            },
            "colorscale": [
             [
              0,
              "#0d0887"
             ],
             [
              0.1111111111111111,
              "#46039f"
             ],
             [
              0.2222222222222222,
              "#7201a8"
             ],
             [
              0.3333333333333333,
              "#9c179e"
             ],
             [
              0.4444444444444444,
              "#bd3786"
             ],
             [
              0.5555555555555556,
              "#d8576b"
             ],
             [
              0.6666666666666666,
              "#ed7953"
             ],
             [
              0.7777777777777778,
              "#fb9f3a"
             ],
             [
              0.8888888888888888,
              "#fdca26"
             ],
             [
              1,
              "#f0f921"
             ]
            ],
            "type": "contour"
           }
          ],
          "contourcarpet": [
           {
            "colorbar": {
             "outlinewidth": 0,
             "ticks": ""
            },
            "type": "contourcarpet"
           }
          ],
          "heatmap": [
           {
            "colorbar": {
             "outlinewidth": 0,
             "ticks": ""
            },
            "colorscale": [
             [
              0,
              "#0d0887"
             ],
             [
              0.1111111111111111,
              "#46039f"
             ],
             [
              0.2222222222222222,
              "#7201a8"
             ],
             [
              0.3333333333333333,
              "#9c179e"
             ],
             [
              0.4444444444444444,
              "#bd3786"
             ],
             [
              0.5555555555555556,
              "#d8576b"
             ],
             [
              0.6666666666666666,
              "#ed7953"
             ],
             [
              0.7777777777777778,
              "#fb9f3a"
             ],
             [
              0.8888888888888888,
              "#fdca26"
             ],
             [
              1,
              "#f0f921"
             ]
            ],
            "type": "heatmap"
           }
          ],
          "heatmapgl": [
           {
            "colorbar": {
             "outlinewidth": 0,
             "ticks": ""
            },
            "colorscale": [
             [
              0,
              "#0d0887"
             ],
             [
              0.1111111111111111,
              "#46039f"
             ],
             [
              0.2222222222222222,
              "#7201a8"
             ],
             [
              0.3333333333333333,
              "#9c179e"
             ],
             [
              0.4444444444444444,
              "#bd3786"
             ],
             [
              0.5555555555555556,
              "#d8576b"
             ],
             [
              0.6666666666666666,
              "#ed7953"
             ],
             [
              0.7777777777777778,
              "#fb9f3a"
             ],
             [
              0.8888888888888888,
              "#fdca26"
             ],
             [
              1,
              "#f0f921"
             ]
            ],
            "type": "heatmapgl"
           }
          ],
          "histogram": [
           {
            "marker": {
             "pattern": {
              "fillmode": "overlay",
              "size": 10,
              "solidity": 0.2
             }
            },
            "type": "histogram"
           }
          ],
          "histogram2d": [
           {
            "colorbar": {
             "outlinewidth": 0,
             "ticks": ""
            },
            "colorscale": [
             [
              0,
              "#0d0887"
             ],
             [
              0.1111111111111111,
              "#46039f"
             ],
             [
              0.2222222222222222,
              "#7201a8"
             ],
             [
              0.3333333333333333,
              "#9c179e"
             ],
             [
              0.4444444444444444,
              "#bd3786"
             ],
             [
              0.5555555555555556,
              "#d8576b"
             ],
             [
              0.6666666666666666,
              "#ed7953"
             ],
             [
              0.7777777777777778,
              "#fb9f3a"
             ],
             [
              0.8888888888888888,
              "#fdca26"
             ],
             [
              1,
              "#f0f921"
             ]
            ],
            "type": "histogram2d"
           }
          ],
          "histogram2dcontour": [
           {
            "colorbar": {
             "outlinewidth": 0,
             "ticks": ""
            },
            "colorscale": [
             [
              0,
              "#0d0887"
             ],
             [
              0.1111111111111111,
              "#46039f"
             ],
             [
              0.2222222222222222,
              "#7201a8"
             ],
             [
              0.3333333333333333,
              "#9c179e"
             ],
             [
              0.4444444444444444,
              "#bd3786"
             ],
             [
              0.5555555555555556,
              "#d8576b"
             ],
             [
              0.6666666666666666,
              "#ed7953"
             ],
             [
              0.7777777777777778,
              "#fb9f3a"
             ],
             [
              0.8888888888888888,
              "#fdca26"
             ],
             [
              1,
              "#f0f921"
             ]
            ],
            "type": "histogram2dcontour"
           }
          ],
          "mesh3d": [
           {
            "colorbar": {
             "outlinewidth": 0,
             "ticks": ""
            },
            "type": "mesh3d"
           }
          ],
          "parcoords": [
           {
            "line": {
             "colorbar": {
              "outlinewidth": 0,
              "ticks": ""
             }
            },
            "type": "parcoords"
           }
          ],
          "pie": [
           {
            "automargin": true,
            "type": "pie"
           }
          ],
          "scatter": [
           {
            "fillpattern": {
             "fillmode": "overlay",
             "size": 10,
             "solidity": 0.2
            },
            "type": "scatter"
           }
          ],
          "scatter3d": [
           {
            "line": {
             "colorbar": {
              "outlinewidth": 0,
              "ticks": ""
             }
            },
            "marker": {
             "colorbar": {
              "outlinewidth": 0,
              "ticks": ""
             }
            },
            "type": "scatter3d"
           }
          ],
          "scattercarpet": [
           {
            "marker": {
             "colorbar": {
              "outlinewidth": 0,
              "ticks": ""
             }
            },
            "type": "scattercarpet"
           }
          ],
          "scattergeo": [
           {
            "marker": {
             "colorbar": {
              "outlinewidth": 0,
              "ticks": ""
             }
            },
            "type": "scattergeo"
           }
          ],
          "scattergl": [
           {
            "marker": {
             "colorbar": {
              "outlinewidth": 0,
              "ticks": ""
             }
            },
            "type": "scattergl"
           }
          ],
          "scattermapbox": [
           {
            "marker": {
             "colorbar": {
              "outlinewidth": 0,
              "ticks": ""
             }
            },
            "type": "scattermapbox"
           }
          ],
          "scatterpolar": [
           {
            "marker": {
             "colorbar": {
              "outlinewidth": 0,
              "ticks": ""
             }
            },
            "type": "scatterpolar"
           }
          ],
          "scatterpolargl": [
           {
            "marker": {
             "colorbar": {
              "outlinewidth": 0,
              "ticks": ""
             }
            },
            "type": "scatterpolargl"
           }
          ],
          "scatterternary": [
           {
            "marker": {
             "colorbar": {
              "outlinewidth": 0,
              "ticks": ""
             }
            },
            "type": "scatterternary"
           }
          ],
          "surface": [
           {
            "colorbar": {
             "outlinewidth": 0,
             "ticks": ""
            },
            "colorscale": [
             [
              0,
              "#0d0887"
             ],
             [
              0.1111111111111111,
              "#46039f"
             ],
             [
              0.2222222222222222,
              "#7201a8"
             ],
             [
              0.3333333333333333,
              "#9c179e"
             ],
             [
              0.4444444444444444,
              "#bd3786"
             ],
             [
              0.5555555555555556,
              "#d8576b"
             ],
             [
              0.6666666666666666,
              "#ed7953"
             ],
             [
              0.7777777777777778,
              "#fb9f3a"
             ],
             [
              0.8888888888888888,
              "#fdca26"
             ],
             [
              1,
              "#f0f921"
             ]
            ],
            "type": "surface"
           }
          ],
          "table": [
           {
            "cells": {
             "fill": {
              "color": "#EBF0F8"
             },
             "line": {
              "color": "white"
             }
            },
            "header": {
             "fill": {
              "color": "#C8D4E3"
             },
             "line": {
              "color": "white"
             }
            },
            "type": "table"
           }
          ]
         },
         "layout": {
          "annotationdefaults": {
           "arrowcolor": "#2a3f5f",
           "arrowhead": 0,
           "arrowwidth": 1
          },
          "autotypenumbers": "strict",
          "coloraxis": {
           "colorbar": {
            "outlinewidth": 0,
            "ticks": ""
           }
          },
          "colorscale": {
           "diverging": [
            [
             0,
             "#8e0152"
            ],
            [
             0.1,
             "#c51b7d"
            ],
            [
             0.2,
             "#de77ae"
            ],
            [
             0.3,
             "#f1b6da"
            ],
            [
             0.4,
             "#fde0ef"
            ],
            [
             0.5,
             "#f7f7f7"
            ],
            [
             0.6,
             "#e6f5d0"
            ],
            [
             0.7,
             "#b8e186"
            ],
            [
             0.8,
             "#7fbc41"
            ],
            [
             0.9,
             "#4d9221"
            ],
            [
             1,
             "#276419"
            ]
           ],
           "sequential": [
            [
             0,
             "#0d0887"
            ],
            [
             0.1111111111111111,
             "#46039f"
            ],
            [
             0.2222222222222222,
             "#7201a8"
            ],
            [
             0.3333333333333333,
             "#9c179e"
            ],
            [
             0.4444444444444444,
             "#bd3786"
            ],
            [
             0.5555555555555556,
             "#d8576b"
            ],
            [
             0.6666666666666666,
             "#ed7953"
            ],
            [
             0.7777777777777778,
             "#fb9f3a"
            ],
            [
             0.8888888888888888,
             "#fdca26"
            ],
            [
             1,
             "#f0f921"
            ]
           ],
           "sequentialminus": [
            [
             0,
             "#0d0887"
            ],
            [
             0.1111111111111111,
             "#46039f"
            ],
            [
             0.2222222222222222,
             "#7201a8"
            ],
            [
             0.3333333333333333,
             "#9c179e"
            ],
            [
             0.4444444444444444,
             "#bd3786"
            ],
            [
             0.5555555555555556,
             "#d8576b"
            ],
            [
             0.6666666666666666,
             "#ed7953"
            ],
            [
             0.7777777777777778,
             "#fb9f3a"
            ],
            [
             0.8888888888888888,
             "#fdca26"
            ],
            [
             1,
             "#f0f921"
            ]
           ]
          },
          "colorway": [
           "#636efa",
           "#EF553B",
           "#00cc96",
           "#ab63fa",
           "#FFA15A",
           "#19d3f3",
           "#FF6692",
           "#B6E880",
           "#FF97FF",
           "#FECB52"
          ],
          "font": {
           "color": "#2a3f5f"
          },
          "geo": {
           "bgcolor": "white",
           "lakecolor": "white",
           "landcolor": "#E5ECF6",
           "showlakes": true,
           "showland": true,
           "subunitcolor": "white"
          },
          "hoverlabel": {
           "align": "left"
          },
          "hovermode": "closest",
          "mapbox": {
           "style": "light"
          },
          "paper_bgcolor": "white",
          "plot_bgcolor": "#E5ECF6",
          "polar": {
           "angularaxis": {
            "gridcolor": "white",
            "linecolor": "white",
            "ticks": ""
           },
           "bgcolor": "#E5ECF6",
           "radialaxis": {
            "gridcolor": "white",
            "linecolor": "white",
            "ticks": ""
           }
          },
          "scene": {
           "xaxis": {
            "backgroundcolor": "#E5ECF6",
            "gridcolor": "white",
            "gridwidth": 2,
            "linecolor": "white",
            "showbackground": true,
            "ticks": "",
            "zerolinecolor": "white"
           },
           "yaxis": {
            "backgroundcolor": "#E5ECF6",
            "gridcolor": "white",
            "gridwidth": 2,
            "linecolor": "white",
            "showbackground": true,
            "ticks": "",
            "zerolinecolor": "white"
           },
           "zaxis": {
            "backgroundcolor": "#E5ECF6",
            "gridcolor": "white",
            "gridwidth": 2,
            "linecolor": "white",
            "showbackground": true,
            "ticks": "",
            "zerolinecolor": "white"
           }
          },
          "shapedefaults": {
           "line": {
            "color": "#2a3f5f"
           }
          },
          "ternary": {
           "aaxis": {
            "gridcolor": "white",
            "linecolor": "white",
            "ticks": ""
           },
           "baxis": {
            "gridcolor": "white",
            "linecolor": "white",
            "ticks": ""
           },
           "bgcolor": "#E5ECF6",
           "caxis": {
            "gridcolor": "white",
            "linecolor": "white",
            "ticks": ""
           }
          },
          "title": {
           "x": 0.05
          },
          "xaxis": {
           "automargin": true,
           "gridcolor": "white",
           "linecolor": "white",
           "ticks": "",
           "title": {
            "standoff": 15
           },
           "zerolinecolor": "white",
           "zerolinewidth": 2
          },
          "yaxis": {
           "automargin": true,
           "gridcolor": "white",
           "linecolor": "white",
           "ticks": "",
           "title": {
            "standoff": 15
           },
           "zerolinecolor": "white",
           "zerolinewidth": 2
          }
         }
        },
        "title": {
         "font": {
          "color": "#000000",
          "size": 16.14814814814815
         },
         "text": "▬▬▬▬▬▬▬▬▬▬ E-commerce ▬▬▬▬▬▬▬▬▬▬",
         "x": 0.5,
         "y": 0.98
        },
        "width": 1595
       }
      }
     },
     "metadata": {},
     "output_type": "display_data"
    }
   ],
   "source": [
    "df_print_vo = df_hoje[df_hoje['CD_LOJA'] == 'VO'].reset_index(drop=True)\n",
    "df_print_vo = df_print_vo[['DT_EMISSAO',\n",
    "                           'Nome - Dia da Semana',\n",
    "                           'CD_LOJA',\n",
    "                           'META',\n",
    "                           'VENDA BRUTA',\n",
    "                           'VENDA LÍQUIDA',\n",
    "                           'DEVOLUÇÃO',\n",
    "                           '% DEV',\n",
    "                           'VENDA_CNPJ',\n",
    "                           'DEVOL_CNPJ',\n",
    "                           '% DEV CNPJ',\n",
    "                           'CNPJ',\n",
    "                           'VENDA_CPF',\n",
    "                           'DEVOL_CPF',\n",
    "                           '% DEV CPF',\n",
    "                           'CPF',\n",
    "                           '% META DIA']]\n",
    "\n",
    "venda_mtd = []\n",
    "meta_mtd = []\n",
    "\n",
    "for i in df_print_vo.index:\n",
    "\n",
    "    venda_mtd.append(list(df_print_vo.loc[:i, 'VENDA LÍQUIDA']))\n",
    "    df_print_vo.loc[i, 'VENDA_MTD'] = sum(venda_mtd[i])\n",
    "\n",
    "    meta_mtd.append(list(df_print_vo.loc[:i, 'META']))\n",
    "    df_print_vo.loc[i, 'META_MTD'] = sum(meta_mtd[i])\n",
    "\n",
    "    if df_print_vo.loc[i, 'VENDA_MTD'] == 0:\n",
    "        df_print_vo.loc[i, '% META MÊS'] = 0\n",
    "    else:\n",
    "        df_print_vo.loc[i, '% META MÊS'] = df_print_vo.loc[i, 'VENDA_MTD'] / df_print_vo.loc[i, 'META_MTD']\n",
    "\n",
    "\n",
    "\n",
    "\n",
    "\n",
    "\n",
    "for i in df_print_vo.index:\n",
    "\n",
    "    df_print_vo.loc[i, 'PROJEÇÃO MÊS'] = df_print_vo.loc[i, '% META MÊS'] * round(float(sum(list(df_print_vo['META']))), 2)\n",
    "\n",
    "df_print_vo = df_print_vo.rename(columns={'DT_EMISSAO': 'Data',\n",
    "                                          'META': 'Meta',\n",
    "                                          'VENDA BRUTA': 'Venda SIAC',\n",
    "                                          'VENDA LÍQUIDA': 'Venda - Devolução',\n",
    "                                          'DEVOLUÇÃO': 'Devolução',\n",
    "                                          '% DEV': '% Dev',\n",
    "                                          'VENDA_CNPJ': 'Venda CNPJ',\n",
    "                                          'CNPJ': 'Clientes CNPJ',\n",
    "                                          '% DEV CNPJ': '% Dev CNPJ',\n",
    "                                          'VENDA_CPF': 'Venda CPF',\n",
    "                                          'CPF': 'Clientes CPF',\n",
    "                                          '% DEV CPF': '% Dev CPF',\n",
    "                                          '% META DIA': '% Dia',\n",
    "                                          '% META MÊS': '% Mês',\n",
    "                                          'PROJEÇÃO MÊS': 'Projeção do mês'})\n",
    "\n",
    "\n",
    "\n",
    "\n",
    "\n",
    "background_color = colors(df_print_vo, df_print_vo['Data'])\n",
    "line_table_color = colors(df_print_vo, df_print_vo['Data'])\n",
    "font_color = font_color_condicioning(df_print_vo, df_print_vo['Data'])\n",
    "\n",
    "\n",
    "\n",
    "\n",
    "\n",
    "percent_total_dev_vo = (round(float(sum(list(df_print_vo['Devolução']))), 2) / round(float(sum(list(df_print_vo['Venda SIAC']))), 2))\n",
    "percent_total_dev_pj_vo = (round(float(sum(list(df_print_vo['DEVOL_CNPJ']))), 2) / round(float(sum(list(df_print_vo['Venda CNPJ']))), 2))\n",
    "percent_total_dev_pf_vo = (round(float(sum(list(df_print_vo['DEVOL_CPF']))), 2) / round(float(sum(list(df_print_vo['Venda CPF']))), 2))\n",
    "\n",
    "\n",
    "df_print_vo.loc[len(df_print_vo), 'Data'] = ' '\n",
    "\n",
    "\n",
    "df_print_vo = df_print_vo.fillna(0)\n",
    "\n",
    "df_print_vo.loc[len(df_print_vo) - 1, 'Meta'] = round(float(sum(list(df_print_vo['Meta']))), 2)\n",
    "df_print_vo.loc[len(df_print_vo) - 1, 'Venda SIAC'] = round(float(sum(list(df_print_vo['Venda SIAC']))), 2)\n",
    "df_print_vo.loc[len(df_print_vo) - 1, 'Venda - Devolução'] = round(float(sum(list(df_print_vo['Venda - Devolução']))), 2)\n",
    "df_print_vo.loc[len(df_print_vo) - 1, 'Devolução'] = round(float(sum(list(df_print_vo['Devolução']))), 2)\n",
    "df_print_vo.loc[len(df_print_vo) - 1, '% Dev'] = percent_total_dev_vo\n",
    "df_print_vo.loc[len(df_print_vo) - 1, 'Venda CNPJ'] = round(float(sum(list(df_print_vo['Venda CNPJ']))), 2)\n",
    "df_print_vo.loc[len(df_print_vo) - 1, 'Clientes CNPJ'] = round(float(sum(list(df_print_vo['Clientes CNPJ']))), 2)\n",
    "df_print_vo.loc[len(df_print_vo) - 1, '% Dev CNPJ'] = percent_total_dev_pj_vo\n",
    "df_print_vo.loc[len(df_print_vo) - 1, 'Venda CPF'] = round(float(sum(list(df_print_vo['Venda CPF']))), 2)\n",
    "df_print_vo.loc[len(df_print_vo) - 1, 'Clientes CPF'] = round(float(sum(list(df_print_vo['Clientes CPF']))), 2)\n",
    "df_print_vo.loc[len(df_print_vo) - 1, '% Dev CPF'] = percent_total_dev_pf_vo\n",
    "df_print_vo.loc[len(df_print_vo) - 1, '% Dia'] = df_print_vo.loc[len(df_print_vo) - 1, 'Venda - Devolução'] / df_print_vo.loc[len(df_print_vo) - 1, 'Meta']\n",
    "df_print_vo.loc[len(df_print_vo) - 1, '% Mês'] = df_print_vo.loc[len(df_print_vo) - 1, 'Venda - Devolução'] / df_print_vo.loc[len(df_print_vo) - 1, 'Meta']\n",
    "df_print_vo.loc[len(df_print_vo) - 1, 'Projeção do mês'] = 0\n",
    "\n",
    "\n",
    "\n",
    "\n",
    "\n",
    "\n",
    "\n",
    "df_print_vo = df_print_vo[['Data',\n",
    "                           'Meta',\n",
    "                           'Venda SIAC',\n",
    "                           'Venda - Devolução',\n",
    "                           'Devolução',\n",
    "                           '% Dev',\n",
    "                           'Venda CNPJ',\n",
    "                           'Clientes CNPJ',\n",
    "                           '% Dev CNPJ',\n",
    "                           'Venda CPF',\n",
    "                           'Clientes CPF',\n",
    "                           '% Dev CPF',\n",
    "                           '% Dia',\n",
    "                           '% Mês',\n",
    "                           'Projeção do mês']]\n",
    "\n",
    "\n",
    "\n",
    "for i in df_print_vo.index:\n",
    "    df_print_vo.loc[i, 'Meta'] = 'R$ {:_.2f}'.format(df_print_vo.loc[i, 'Meta']).replace('.',',').replace('_','.')\n",
    "    df_print_vo.loc[i, 'Venda SIAC'] = 'R$ {:_.2f}'.format(df_print_vo.loc[i, 'Venda SIAC']).replace('.',',').replace('_','.')\n",
    "    df_print_vo.loc[i, 'Devolução'] = 'R$ {:_.2f}'.format(df_print_vo.loc[i, 'Devolução']).replace('.',',').replace('_','.')\n",
    "    df_print_vo.loc[i, '% Dev'] = '{:_.2%}'.format(df_print_vo.loc[i, '% Dev']).replace('.',',').replace('_','.')\n",
    "    df_print_vo.loc[i, 'Venda CNPJ'] = 'R$ {:_.2f}'.format(df_print_vo.loc[i, 'Venda CNPJ']).replace('.',',').replace('_','.')\n",
    "    df_print_vo.loc[i, '% Dev CNPJ'] = '{:_.2%}'.format(df_print_vo.loc[i, '% Dev CNPJ']).replace('.',',').replace('_','.')\n",
    "    df_print_vo.loc[i, 'Clientes CNPJ'] = '{:_.0f}'.format(df_print_vo.loc[i, 'Clientes CNPJ']).replace('.',',').replace('_','.')\n",
    "    df_print_vo.loc[i, 'Venda CPF'] = 'R$ {:_.2f}'.format(df_print_vo.loc[i, 'Venda CPF']).replace('.',',').replace('_','.')\n",
    "    df_print_vo.loc[i, '% Dev CPF'] = '{:_.2%}'.format(df_print_vo.loc[i, '% Dev CPF']).replace('.',',').replace('_','.')\n",
    "    df_print_vo.loc[i, 'Clientes CPF'] = '{:_.0f}'.format(df_print_vo.loc[i, 'Clientes CPF']).replace('.',',').replace('_','.')\n",
    "    df_print_vo.loc[i, '% Dia'] = '{:_.2%}'.format(df_print_vo.loc[i, '% Dia']).replace('.',',').replace('_','.')\n",
    "    df_print_vo.loc[i, '% Mês'] = '{:_.2%}'.format(df_print_vo.loc[i, '% Mês']).replace('.',',').replace('_','.')\n",
    "    df_print_vo.loc[i, 'Projeção do mês'] = 'R$ {:_.2f}'.format(df_print_vo.loc[i, 'Projeção do mês']).replace('.',',').replace('_','.')\n",
    "\n",
    "    if df_print_vo.loc[i, 'Venda - Devolução'] < 0:\n",
    "        df_print_vo.loc[i, 'Venda - Devolução'] = '-R$ {:_.2f}'.format(df_print_vo.loc[i, 'Venda - Devolução'] * -1).replace('.',',').replace('_','.')\n",
    "    else:\n",
    "        df_print_vo.loc[i, 'Venda - Devolução'] = 'R$ {:_.2f}'.format(df_print_vo.loc[i, 'Venda - Devolução']).replace('.',',').replace('_','.')\n",
    "\n",
    "    if df_print_vo.loc[i, 'Data'] == ' ':\n",
    "        df_print_vo.loc[i, 'Data'] = 'Total'\n",
    "    else:\n",
    "        df_print_vo.loc[i, 'Data'] = df_print_vo.loc[i, 'Data'].strftime('%d/%m/%Y %A')\n",
    "\n",
    "\n",
    "\n",
    "df_print_vo = df_print_vo.replace('inf%', '').replace('-inf%', '').replace('0,00%', '').replace('R$ 0,00', '').replace('0', '')\n",
    "\n",
    "\n",
    "table_vo = go.Figure(go.Table(header={'values':list(df_print_vo.columns),\n",
    "                                      'fill_color': ['#FFFFFF',\n",
    "                                                     '#FFFFFF',\n",
    "                                                     '#F7F7F7',\n",
    "                                                     '#F7F7F7',\n",
    "                                                     '#FFFFFF',\n",
    "                                                     '#FFFFFF',\n",
    "                                                     '#F7F7F7',\n",
    "                                                     '#FFFFFF',\n",
    "                                                     '#FFFFFF',\n",
    "                                                     '#F7F7F7',\n",
    "                                                     '#FFFFFF',\n",
    "                                                     '#FFFFFF',\n",
    "                                                     '#FFFFFF',\n",
    "                                                     '#FFFFFF',\n",
    "                                                     '#FFFFFF'],\n",
    "                                      'line_color': ['#FFFFFF',\n",
    "                                                     '#FFFFFF',\n",
    "                                                     '#F7F7F7',\n",
    "                                                     '#F7F7F7',\n",
    "                                                     '#FFFFFF',\n",
    "                                                     '#FFFFFF',\n",
    "                                                     '#F7F7F7',\n",
    "                                                     '#FFFFFF',\n",
    "                                                     '#FFFFFF',\n",
    "                                                     '#F7F7F7',\n",
    "                                                     '#FFFFFF',\n",
    "                                                     '#FFFFFF',\n",
    "                                                     '#FFFFFF',\n",
    "                                                     '#FFFFFF',\n",
    "                                                     '#FFFFFF'],\n",
    "                                      'align': ['center'],\n",
    "                                      'font_color': ['#000000',\n",
    "                                                     '#000000',\n",
    "                                                     '#118DFF',\n",
    "                                                     '#000000',\n",
    "                                                     '#FF0000',\n",
    "                                                     '#FF0000',\n",
    "                                                     '#E04392',\n",
    "                                                     '#000000',\n",
    "                                                     '#FF0000',\n",
    "                                                     '#E04392',\n",
    "                                                     '#000000',\n",
    "                                                     '#FF0000',\n",
    "                                                     '#000000',\n",
    "                                                     '#000000',\n",
    "                                                     '#000000']\n",
    "                                      },\n",
    "                                      \n",
    "                               cells={'values':[list(df_print_vo['Data']),\n",
    "                                                list(df_print_vo['Meta']),\n",
    "                                                list(df_print_vo['Venda SIAC']),\n",
    "                                                list(df_print_vo['Venda - Devolução']),\n",
    "                                                list(df_print_vo['Devolução']),\n",
    "                                                list(df_print_vo['% Dev']),\n",
    "                                                list(df_print_vo['Venda CNPJ']),\n",
    "                                                list(df_print_vo['Clientes CNPJ']),\n",
    "                                                list(df_print_vo['% Dev CNPJ']),\n",
    "                                                list(df_print_vo['Venda CPF']),\n",
    "                                                list(df_print_vo['Clientes CPF']),\n",
    "                                                list(df_print_vo['% Dev CPF']),\n",
    "                                                list(df_print_vo['% Dia']),\n",
    "                                                list(df_print_vo['% Mês']),\n",
    "                                                list(df_print_vo['Projeção do mês'])],\n",
    "                                      'fill_color': background_color,\n",
    "                                      'line_color': line_table_color,\n",
    "                                      'align': ['left', 'center'],\n",
    "                                      'font_color': ['#000000',\n",
    "                                                     '#000000',\n",
    "                                                     '#118DFF',\n",
    "                                                     '#000000',\n",
    "                                                     '#FF0000',\n",
    "                                                     '#FF0000',\n",
    "                                                     '#E04392',\n",
    "                                                     '#000000',\n",
    "                                                     '#FF0000',\n",
    "                                                     '#E04392',\n",
    "                                                     '#000000',\n",
    "                                                     '#FF0000',\n",
    "                                                     '#000000',\n",
    "                                                     '#000000',\n",
    "                                                     '#000000']\n",
    "                                      },\n",
    "\n",
    "                              domain={'y': [0, 1]\n",
    "                                      },\n",
    "\n",
    "                         columnwidth=[proportion_size(pixels=_pixels, size=1500),\n",
    "                                      proportion_size(pixels=_pixels, size=1000),\n",
    "                                      proportion_size(pixels=_pixels, size=1000),\n",
    "                                      proportion_size(pixels=_pixels, size=1000),\n",
    "                                      proportion_size(pixels=_pixels, size=800),\n",
    "                                      proportion_size(pixels=_pixels, size=400),\n",
    "                                      proportion_size(pixels=_pixels, size=800),\n",
    "                                      proportion_size(pixels=_pixels, size=400),\n",
    "                                      proportion_size(pixels=_pixels, size=550),\n",
    "                                      proportion_size(pixels=_pixels, size=800),\n",
    "                                      proportion_size(pixels=_pixels, size=400),\n",
    "                                      proportion_size(pixels=_pixels, size=550),\n",
    "                                      proportion_size(pixels=_pixels, size=400),\n",
    "                                      proportion_size(pixels=_pixels, size=400),\n",
    "                                      proportion_size(pixels=_pixels, size=1000)]\n",
    "                            )\n",
    ")\n",
    "\n",
    "table_vo = table_vo.update_layout(\n",
    "\n",
    "    #Title config ---------------------------------------------------------------------------------------------------------------------#\n",
    "    title  = {'text': f'▬'*int(10) + ' ' + lista_lojas[6][1][4:5] + lista_lojas[6][1][5:].lower() + ' ' + f'▬'*int(10),\n",
    "              'font_color': '#000000',\n",
    "              'x': 0.5,\n",
    "              'y': 0.98,\n",
    "              'font_size': proportion_size(pixels=_pixels, size=40)\n",
    "              },\n",
    "\n",
    "    #Size plot config -----------------------------------------------------------------------------------------------------------------#\n",
    "    width  = pixels_width,\n",
    "    height = pixels_height\n",
    ")\n",
    "\n",
    "table_vo.show()"
   ]
  },
  {
   "cell_type": "markdown",
   "metadata": {},
   "source": [
    "# "
   ]
  },
  {
   "cell_type": "code",
   "execution_count": 776,
   "metadata": {},
   "outputs": [],
   "source": [
    "def colors(dataframe, datetime):\n",
    "    \n",
    "    colors = []\n",
    "    date_colors = []\n",
    "    destak_color = []\n",
    "    \n",
    "\n",
    "    for data in datetime:\n",
    "        if data.strftime('%A') == 'Sunday':\n",
    "            date_colors.append('#DEEFFF')\n",
    "            destak_color.append('#DEEFFF')\n",
    "\n",
    "        elif data.strftime('%d/%m/%Y') == dt.datetime.now().strftime('%d/%m/%Y'):\n",
    "            date_colors.append('#F7F7F7')\n",
    "            destak_color.append('#F7F7F7')\n",
    "            \n",
    "        else:\n",
    "            date_colors.append('#FFFFFF')\n",
    "            destak_color.append('#F7F7F7')\n",
    "\n",
    "\n",
    "    for coluna in dataframe.columns:\n",
    "        colors.append(date_colors)\n",
    "\n",
    "    colors[2] = destak_color\n",
    "    colors[3] = destak_color\n",
    "    colors[6] = destak_color\n",
    "    colors[9] = destak_color\n",
    "\n",
    "    return colors"
   ]
  },
  {
   "cell_type": "code",
   "execution_count": 783,
   "metadata": {},
   "outputs": [],
   "source": [
    "def font_color_condicioning(dataframe, datetime):\n",
    "    \n",
    "    date_colors = ['#000000',\n",
    "                   '#000000',\n",
    "                   '#118DFF',\n",
    "                   '#000000',\n",
    "                   '#FF0000',\n",
    "                   '#FF0000',\n",
    "                   '#E04392',\n",
    "                   '#000000',\n",
    "                   '#FF0000',\n",
    "                   '#E04392',\n",
    "                   '#000000',\n",
    "                   '#FF0000',\n",
    "                   '#000000',\n",
    "                   '#000000',\n",
    "                   '#000000']\n",
    "    \n",
    "    colors = []\n",
    "\n",
    "    for data in datetime:\n",
    "        if int(data.strftime('%d')) > int(dt.datetime.now().strftime('%d')):\n",
    "            colors.append([['#FFFFFF'] * len(dataframe.columns)])\n",
    "        else:\n",
    "            colors.append(date_colors)\n",
    "            \n",
    "\n",
    "    return colors"
   ]
  },
  {
   "cell_type": "code",
   "execution_count": null,
   "metadata": {},
   "outputs": [],
   "source": [
    "['#000000', '#000000', '#118DFF', '#000000', '#FF0000', '#FF0000', '#E04392', '#000000', '#FF0000', '#E04392', '#000000', '#FF0000', '#000000', '#000000', '#000000']"
   ]
  }
 ],
 "metadata": {
  "kernelspec": {
   "display_name": "Python 3.10.8 64-bit",
   "language": "python",
   "name": "python3"
  },
  "language_info": {
   "codemirror_mode": {
    "name": "ipython",
    "version": 3
   },
   "file_extension": ".py",
   "mimetype": "text/x-python",
   "name": "python",
   "nbconvert_exporter": "python",
   "pygments_lexer": "ipython3",
   "version": "3.10.8"
  },
  "orig_nbformat": 4,
  "vscode": {
   "interpreter": {
    "hash": "beedbe2faf2f7048d727558d0bc3221e7eba2a0b921cac4d4771b2feb8f74b30"
   }
  }
 },
 "nbformat": 4,
 "nbformat_minor": 2
}
