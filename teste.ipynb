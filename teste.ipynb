{
 "cells": [
  {
   "cell_type": "code",
   "execution_count": 1187,
   "metadata": {},
   "outputs": [],
   "source": [
    "import pandas as pd\n",
    "from connect import PostgreSQL\n",
    "from tqdm import tqdm\n",
    "import datetime as dt\n",
    "from datetime import date\n",
    "import plotly.graph_objs as go"
   ]
  },
  {
   "cell_type": "code",
   "execution_count": 1188,
   "metadata": {},
   "outputs": [],
   "source": [
    "def proportion_size(pixels:int=None, size:int=None, padrao:int=2160):\n",
    "    sizing = float(pixels / (padrao / size))\n",
    "    return sizing"
   ]
  },
  {
   "cell_type": "code",
   "execution_count": 1189,
   "metadata": {},
   "outputs": [],
   "source": [
    "def bg_colors(dataframe, datetime:str, dia_util:str):\n",
    "    \n",
    "    colors = []\n",
    "    date_colors = []\n",
    "    destak_color = []\n",
    "    \n",
    "\n",
    "    for i in dataframe.index:\n",
    "        if dataframe.loc[i, dia_util] == 'Não':\n",
    "            date_colors.append('#DEEFFF')\n",
    "            destak_color.append('#DEEFFF')\n",
    "\n",
    "        elif dataframe.loc[i, datetime].strftime('%d/%m/%Y') == dt.datetime.now().strftime('%d/%m/%Y'):\n",
    "            date_colors.append('#F7F7F7')\n",
    "            destak_color.append('#F7F7F7')\n",
    "            \n",
    "        else:\n",
    "            date_colors.append('#FFFFFF')\n",
    "            destak_color.append('#F7F7F7')\n",
    "\n",
    "    date_colors.append('#E5E5E5')\n",
    "    destak_color.append('#E5E5E5')\n",
    "\n",
    "\n",
    "    for coluna in dataframe.columns:\n",
    "        colors.append(date_colors)\n",
    "\n",
    "    colors[2] = destak_color\n",
    "    colors[3] = destak_color\n",
    "    colors[6] = destak_color\n",
    "    colors[9] = destak_color\n",
    "\n",
    "    return colors"
   ]
  },
  {
   "cell_type": "code",
   "execution_count": 1245,
   "metadata": {},
   "outputs": [],
   "source": [
    "def font_projecao_mensal(dataframe, datetime:str, dia_util:str, principal_color:str):\n",
    "    \n",
    "    colors = []\n",
    "    date_colors = []\n",
    "    \n",
    "\n",
    "    for i in dataframe.index:\n",
    "        if dataframe.loc[i, datetime] > dt.datetime.now():\n",
    "            if dataframe.loc[i, dia_util] == 'Não':\n",
    "                date_colors.append('#DEEFFF')\n",
    "                \n",
    "            else:\n",
    "                date_colors.append('#FFFFFF')\n",
    "\n",
    "        else:\n",
    "            if dataframe.loc[i, dia_util] == 'Não':\n",
    "                date_colors.append('#DEEFFF')\n",
    "                \n",
    "            else:\n",
    "                date_colors.append(principal_color)\n",
    "\n",
    "    date_colors.append('#118DFF')\n",
    "\n",
    "\n",
    "    for coluna in dataframe.columns:\n",
    "        colors.append(date_colors)\n",
    "\n",
    "    return colors"
   ]
  },
  {
   "cell_type": "code",
   "execution_count": 1191,
   "metadata": {},
   "outputs": [],
   "source": [
    "def font_rendimento(dataframe, percents:str, datetime:str, dia_util:str, principal_color:str):\n",
    "    \n",
    "    colors = []\n",
    "    date_colors = []\n",
    "    \n",
    "\n",
    "    for i in dataframe.index:\n",
    "        if dataframe.loc[i, datetime] != ' ':\n",
    "            if dataframe.loc[i, dia_util] == 'Não':\n",
    "                    date_colors.append('#DEEFFF')\n",
    "\n",
    "            elif dataframe.loc[i, datetime] < dt.datetime.now():\n",
    "                if dataframe.loc[i, percents] >= 1:\n",
    "                    date_colors.append('#00B050')\n",
    "\n",
    "                elif dataframe.loc[i, percents] < 0.95:\n",
    "                    date_colors.append('#FF0000')\n",
    "\n",
    "                elif dataframe.loc[i, percents] < 1:\n",
    "                    date_colors.append('#FFC000')\n",
    "                    \n",
    "            else:\n",
    "                date_colors.append('#FFFFFF')\n",
    "\n",
    "        else:\n",
    "                date_colors.append(principal_color)\n",
    "\n",
    "    date_colors.append('#E5E5E5')\n",
    "\n",
    "    for coluna in dataframe.columns:\n",
    "        colors.append(date_colors)\n",
    "\n",
    "    return colors[0]"
   ]
  },
  {
   "cell_type": "markdown",
   "metadata": {},
   "source": [
    "# Parâmetros"
   ]
  },
  {
   "cell_type": "code",
   "execution_count": 1192,
   "metadata": {},
   "outputs": [],
   "source": [
    "_schema = 'H-1'"
   ]
  },
  {
   "cell_type": "code",
   "execution_count": 1193,
   "metadata": {},
   "outputs": [
    {
     "name": "stdout",
     "output_type": "stream",
     "text": [
      "890 x 2060\n"
     ]
    }
   ],
   "source": [
    "_pixels = 890\n",
    "\n",
    "pixels_width = 2060 #int((_pixels/9) * 17)\n",
    "pixels_height = int(_pixels)\n",
    "\n",
    "print(f'{pixels_height} x {pixels_width}')"
   ]
  },
  {
   "cell_type": "code",
   "execution_count": 1194,
   "metadata": {},
   "outputs": [],
   "source": [
    "date_query = date(int((dt.datetime.now().strftime('%Y-%m-%d').split('-')[0])), int((dt.datetime.now().strftime('%Y-%m-%d').split('-')[1])), 1).strftime('%Y-%m-%d')"
   ]
  },
  {
   "cell_type": "code",
   "execution_count": 1195,
   "metadata": {},
   "outputs": [],
   "source": [
    "codigos_kaizen = [(         'PECISTA', '02608'),\n",
    "\n",
    "                  (   'VENDEDOR VALE', '00270'),\n",
    "    \n",
    "                  ('KAIZEN ASA NORTE', '13996'),\n",
    "                  (     'USO INTERNO', '20690'),\n",
    "\n",
    "                  ('KAIZEN CEILÂNDIA', '16100'),\n",
    "                  (     'USO INTERNO', '20691'),\n",
    "\n",
    "                  (     'KAIZEN GAMA', '18400'),\n",
    "                  (     'USO INTERNO', '20692'),\n",
    "\n",
    "                  (  'KAIZEN SOF SUL', '20000'),\n",
    "                  (     'USO INTERNO', '20693')]"
   ]
  },
  {
   "cell_type": "code",
   "execution_count": 1196,
   "metadata": {},
   "outputs": [],
   "source": [
    "lista_lojas = [('01',             'CD', '#000000', 'ⒸⒹ'),\n",
    "               ('02',               '', '#000000', ''),\n",
    "               ('03',  '04. ASA NORTE', '#881798', 'ⒶⓈⒶ ⓃⓄⓇⓉⒺ'),\n",
    "               ('04',  '02. CEILÂNDIA', '#008080', 'ⒸⒺⒾⓁⒶⓃⒹⒾⒶ'),\n",
    "               ('05',       '03. GAMA', '#E74856', 'ⒼⒶⓂⒶ'),\n",
    "               ('06',    '01. SOF SUL', '#00B050', 'ⓈⓄⒻ ⓈⓊⓁ'),\n",
    "               ('VO', '05. E-COMMERCE', '#FFC000', 'Ⓔ-ⒸⓄⓂⓂⒺⓇⒸⒺ')]"
   ]
  },
  {
   "cell_type": "code",
   "execution_count": 1197,
   "metadata": {},
   "outputs": [],
   "source": [
    "dias_semana = [(   'Sunday',       'Domingo'),\n",
    "               (   'Monday', 'Segunda-feira'),\n",
    "               (  'Tuesday',   'Terça-feira'),\n",
    "               ('Wednesday',  'Quarta-feira'),\n",
    "               ( 'Thursday',  'Quinta-feira'),\n",
    "               (   'Friday',   'Sexta-feira'),\n",
    "               ( 'Saturday',        'Sábado')]"
   ]
  },
  {
   "cell_type": "code",
   "execution_count": 1198,
   "metadata": {},
   "outputs": [],
   "source": [
    "relatorio = 'ACOMPANHAMENTO DE VENDA'\n",
    "\n",
    "relatorio_lower = relatorio.lower()\n",
    "relatorio_msg = relatorio_lower.replace(relatorio_lower.split()[0], relatorio_lower.split()[0].title())"
   ]
  },
  {
   "cell_type": "code",
   "execution_count": 1199,
   "metadata": {},
   "outputs": [],
   "source": [
    "caminho_imagem = 'Y:\\\\COMPRAS\\\\arquivo temporario analise atualizado\\\\DEPARTAMENTO COMPRAS\\\\10. CARLOS\\\\REPORT'"
   ]
  },
  {
   "cell_type": "code",
   "execution_count": 1200,
   "metadata": {},
   "outputs": [],
   "source": [
    "contatos = [('PrimeiraFoto', 'https://chat.whatsapp.com/LK4LDajkH52BNydoLGGD2d', True),\n",
    "            ('Dados e Int',  'https://chat.whatsapp.com/JxY14kWarG70MxB2jzb5pc', False),\n",
    "            ('Dream Team',   'https://chat.whatsapp.com/Hb0KMgYnuFB8coTPlFKTzJ', False),\n",
    "            ('Report Di',    'https://chat.whatsapp.com/G4p8qdUIUblCNPS80244RQ', False),\n",
    "            ('API',          'https://chat.whatsapp.com/EBLX0fxYfvuHL7jZ9CZECQ', True),\n",
    "            ('Teste Python', 'https://chat.whatsapp.com/I4y7EAVfns629NvfoLUtGI', True)]"
   ]
  },
  {
   "cell_type": "markdown",
   "metadata": {},
   "source": [
    "#"
   ]
  },
  {
   "cell_type": "markdown",
   "metadata": {},
   "source": [
    "# DataFrames"
   ]
  },
  {
   "cell_type": "markdown",
   "metadata": {},
   "source": [
    "## Clientes"
   ]
  },
  {
   "cell_type": "code",
   "execution_count": 1201,
   "metadata": {},
   "outputs": [],
   "source": [
    "df_cliente = PostgreSQL.read_postgres(name_table='cliente', schema=_schema)"
   ]
  },
  {
   "cell_type": "code",
   "execution_count": 1202,
   "metadata": {},
   "outputs": [],
   "source": [
    "df_cli_ped = PostgreSQL.read_postgres(name_table='cli_ped', schema=_schema, query=f'WHERE DT_CADASTR >= \\'{date_query}\\'')"
   ]
  },
  {
   "cell_type": "markdown",
   "metadata": {},
   "source": [
    "## Pedidos"
   ]
  },
  {
   "cell_type": "code",
   "execution_count": 1203,
   "metadata": {},
   "outputs": [],
   "source": [
    "df_pedido = PostgreSQL.read_postgres(name_table='pedido', schema=_schema, query=f'WHERE DT_EMISSAO >= \\'{date_query}\\'')"
   ]
  },
  {
   "cell_type": "code",
   "execution_count": 1204,
   "metadata": {},
   "outputs": [],
   "source": [
    "df_pedido['VALOR_TOT'] = df_pedido['VALOR_TOT'].astype(float)"
   ]
  },
  {
   "cell_type": "code",
   "execution_count": 1205,
   "metadata": {},
   "outputs": [
    {
     "name": "stderr",
     "output_type": "stream",
     "text": [
      "100%|██████████| 10/10 [00:00<00:00, 47.91it/s]"
     ]
    },
    {
     "name": "stdout",
     "output_type": "stream",
     "text": [
      "Excluindo PECISTA - 02608\n",
      "Excluindo VENDEDOR VALE - 00270\n",
      "Excluindo KAIZEN ASA NORTE - 13996\n",
      "Excluindo USO INTERNO - 20690\n",
      "Excluindo KAIZEN CEILÂNDIA - 16100\n",
      "Excluindo USO INTERNO - 20691\n",
      "Excluindo KAIZEN GAMA - 18400\n",
      "Excluindo USO INTERNO - 20692\n",
      "Excluindo KAIZEN SOF SUL - 20000\n",
      "Excluindo USO INTERNO - 20693\n"
     ]
    },
    {
     "name": "stderr",
     "output_type": "stream",
     "text": [
      "100%|██████████| 10/10 [00:00<00:00, 46.25it/s]\n"
     ]
    }
   ],
   "source": [
    "for (kaizen, codcli_kaizen) in tqdm(codigos_kaizen):\n",
    "    print(f'Excluindo {kaizen} - {codcli_kaizen}')\n",
    "    df_pedido = df_pedido[df_pedido['CODCLI'] != codcli_kaizen]"
   ]
  },
  {
   "cell_type": "code",
   "execution_count": 1206,
   "metadata": {},
   "outputs": [],
   "source": [
    "df_pedido = df_pedido[df_pedido['CODVDE'] != '0001']\n",
    "df_pedido = df_pedido[df_pedido['CODVDE'] != '0100']"
   ]
  },
  {
   "cell_type": "code",
   "execution_count": 1207,
   "metadata": {},
   "outputs": [],
   "source": [
    "df_pedido = df_pedido[df_pedido['TIPPED'] == 'V']"
   ]
  },
  {
   "cell_type": "code",
   "execution_count": 1208,
   "metadata": {},
   "outputs": [],
   "source": [
    "df_pedido = df_pedido[df_pedido['OBSERVA'].str.contains('REQ') != True]\n",
    "df_pedido = df_pedido[df_pedido['OBSERVA2'].str.contains('REQ') != True]"
   ]
  },
  {
   "cell_type": "code",
   "execution_count": 1209,
   "metadata": {},
   "outputs": [
    {
     "name": "stderr",
     "output_type": "stream",
     "text": [
      "100%|██████████| 13193/13193 [00:01<00:00, 11488.81it/s]\n"
     ]
    }
   ],
   "source": [
    "for i in tqdm(df_pedido.index):\n",
    "    if df_pedido.loc[i, 'FORMA_PGTO'] == 'M':\n",
    "        df_pedido.loc[i, 'COD_LOJA'] = 'VO'\n",
    "    else:\n",
    "        df_pedido.loc[i, 'COD_LOJA'] = df_pedido.loc[i, 'CD_LOJA']"
   ]
  },
  {
   "cell_type": "code",
   "execution_count": 1210,
   "metadata": {},
   "outputs": [
    {
     "name": "stderr",
     "output_type": "stream",
     "text": [
      "100%|██████████| 13193/13193 [00:00<00:00, 31992.76it/s]\n"
     ]
    }
   ],
   "source": [
    "for i in tqdm(df_pedido.index):\n",
    "    if df_pedido.loc[i, 'COD_LOJA'] == 'VO':\n",
    "        df_pedido.loc[i, 'NU_CPFCNPJ'] = list(df_cli_ped[(df_cli_ped['CD_LOJA'] == df_pedido.loc[i, 'CD_LOJA']) &\n",
    "                                             (df_cli_ped['SG_PEDIDO'] == df_pedido.loc[i, 'SERIE']) &\n",
    "                                             (df_cli_ped['NU_PEDIDO'] == df_pedido.loc[i, 'NU_NOTA'])]['NU_CPFCNPJ'])[0]"
   ]
  },
  {
   "cell_type": "code",
   "execution_count": 1211,
   "metadata": {},
   "outputs": [],
   "source": [
    "df_pedido = pd.merge(df_pedido, df_cliente, how='inner', on='CODCLI')"
   ]
  },
  {
   "cell_type": "code",
   "execution_count": 1212,
   "metadata": {},
   "outputs": [
    {
     "name": "stderr",
     "output_type": "stream",
     "text": [
      "100%|██████████| 13193/13193 [00:01<00:00, 9335.00it/s]\n"
     ]
    }
   ],
   "source": [
    "for i in tqdm(df_pedido.index):\n",
    "\n",
    "    if df_pedido.loc[i, 'COD_LOJA'] == 'VO':\n",
    "        identify = df_pedido.loc[i, 'NU_CPFCNPJ']\n",
    "    else:\n",
    "        identify = df_pedido.loc[i, 'CPF_CGC']\n",
    "\n",
    "    if df_pedido.loc[i, 'CODAREA'] == '104':\n",
    "        df_pedido.loc[i, 'TIPO_CLIENTE'] = 'CNPJ*'\n",
    "    elif len(identify) < 14:\n",
    "        df_pedido.loc[i, 'TIPO_CLIENTE'] = 'CPF'\n",
    "    else:\n",
    "        df_pedido.loc[i, 'TIPO_CLIENTE'] = 'CNPJ'"
   ]
  },
  {
   "cell_type": "markdown",
   "metadata": {},
   "source": [
    "## Devolução"
   ]
  },
  {
   "cell_type": "code",
   "execution_count": 1213,
   "metadata": {},
   "outputs": [],
   "source": [
    "df_prod_ent = PostgreSQL.read_postgres(full_query=f'select a.*, (a.VL_PRECO*a.QT_DEVOLVE) as VL_TOTAL_DEV, b.IN_CLIFOR as IN_CLIFOR1, b.IN_CANCELA, UPPER(b.NFEENVSTAT) as NFEENVSTAT, c.FORMA_PGTO from \"{_schema}\".prod_ent a inner join \"{_schema}\".entrada b on a.CD_LOJA = b.CD_LOJA and a.SG_SERIE = b.SG_SERIE and a.NU_NOTA = b.NU_NOTA inner join \"{_schema}\".venda c on a.CD_LOJA = c.CD_LOJA and a.SG_ORIGEM = c.SERIE and a.NU_ORIGEM = c.NU_NOTA where a.DT_EMISSAO >= \\'{date_query}\\'')"
   ]
  },
  {
   "cell_type": "code",
   "execution_count": 1214,
   "metadata": {},
   "outputs": [
    {
     "name": "stderr",
     "output_type": "stream",
     "text": [
      "100%|██████████| 10/10 [00:00<00:00, 555.06it/s]"
     ]
    },
    {
     "name": "stdout",
     "output_type": "stream",
     "text": [
      "Excluindo PECISTA - 02608\n",
      "Excluindo VENDEDOR VALE - 00270\n",
      "Excluindo KAIZEN ASA NORTE - 13996\n",
      "Excluindo USO INTERNO - 20690\n",
      "Excluindo KAIZEN CEILÂNDIA - 16100\n",
      "Excluindo USO INTERNO - 20691\n",
      "Excluindo KAIZEN GAMA - 18400\n",
      "Excluindo USO INTERNO - 20692\n",
      "Excluindo KAIZEN SOF SUL - 20000\n",
      "Excluindo USO INTERNO - 20693\n"
     ]
    },
    {
     "name": "stderr",
     "output_type": "stream",
     "text": [
      "\n"
     ]
    }
   ],
   "source": [
    "for (kaizen, codcli_kaizen) in tqdm(codigos_kaizen):\n",
    "    print(f'Excluindo {kaizen} - {codcli_kaizen}')\n",
    "    df_prod_ent = df_prod_ent[df_prod_ent['CD_CLIENTE'] != codcli_kaizen]"
   ]
  },
  {
   "cell_type": "code",
   "execution_count": 1215,
   "metadata": {},
   "outputs": [],
   "source": [
    "df_prod_ent = df_prod_ent[(df_prod_ent['IN_CANCELA'] == 'N') &\n",
    "                          (df_prod_ent['IN_CLIFOR1'] == 'C') &\n",
    "                          (df_prod_ent['CD_CFOP'] != '1949') &\n",
    "                          (df_prod_ent['CD_CFOP'] != '2949') &\n",
    "                          (df_prod_ent['CD_CFOP'] != '1603') &\n",
    "                          (df_prod_ent['NFEENVSTAT'].str.contains('DENEG') != True)]"
   ]
  },
  {
   "cell_type": "code",
   "execution_count": 1216,
   "metadata": {},
   "outputs": [
    {
     "name": "stderr",
     "output_type": "stream",
     "text": [
      "100%|██████████| 1034/1034 [00:00<00:00, 10761.16it/s]\n"
     ]
    }
   ],
   "source": [
    "for i in tqdm(df_prod_ent.index):\n",
    "    if df_prod_ent.loc[i, 'FORMA_PGTO'] == 'M':\n",
    "        df_prod_ent.loc[i, 'COD_LOJA'] = 'VO'\n",
    "    else:\n",
    "        df_prod_ent.loc[i, 'COD_LOJA'] = df_prod_ent.loc[i, 'CD_LOJA']"
   ]
  },
  {
   "cell_type": "code",
   "execution_count": 1217,
   "metadata": {},
   "outputs": [],
   "source": [
    "df_prod_ent['VL_TOTAL_DEV'] = df_prod_ent['VL_TOTAL_DEV'].astype(float)"
   ]
  },
  {
   "cell_type": "code",
   "execution_count": 1218,
   "metadata": {},
   "outputs": [],
   "source": [
    "df_prod_ent = df_prod_ent.rename(columns={'CD_CLIENTE':'CODCLI'})\n",
    "df_prod_ent = pd.merge(df_prod_ent, df_cliente, how='inner', on='CODCLI')"
   ]
  },
  {
   "cell_type": "code",
   "execution_count": 1219,
   "metadata": {},
   "outputs": [
    {
     "name": "stderr",
     "output_type": "stream",
     "text": [
      "100%|██████████| 1034/1034 [00:00<00:00, 11228.86it/s]\n"
     ]
    }
   ],
   "source": [
    "for i in tqdm(df_prod_ent.index):\n",
    "\n",
    "    identify = df_prod_ent.loc[i, 'CPF_CGC']\n",
    "\n",
    "    if df_prod_ent.loc[i, 'CODAREA'] == '104':\n",
    "        df_prod_ent.loc[i, 'TIPO_CLIENTE'] = 'CNPJ*'\n",
    "    elif len(identify) < 14:\n",
    "        df_prod_ent.loc[i, 'TIPO_CLIENTE'] = 'CPF'\n",
    "    else:\n",
    "        df_prod_ent.loc[i, 'TIPO_CLIENTE'] = 'CNPJ'"
   ]
  },
  {
   "cell_type": "markdown",
   "metadata": {},
   "source": [
    "## Metas"
   ]
  },
  {
   "cell_type": "code",
   "execution_count": 1220,
   "metadata": {},
   "outputs": [],
   "source": [
    "df_metas = pd.read_excel('Y:\\\\COMPRAS\\\\arquivo temporario analise atualizado\\\\DEPARTAMENTO COMPRAS\\\\10. CARLOS\\\\PROJETOS\\\\EXCEL\\\\BASES\\\\DATAS.xlsx', sheet_name='Metas')"
   ]
  },
  {
   "cell_type": "code",
   "execution_count": 1221,
   "metadata": {},
   "outputs": [],
   "source": [
    "df_data = pd.read_excel('Y:\\\\COMPRAS\\\\arquivo temporario analise atualizado\\\\DEPARTAMENTO COMPRAS\\\\10. CARLOS\\\\PROJETOS\\\\EXCEL\\\\BASES\\\\DATAS.xlsx', sheet_name='Datas')"
   ]
  },
  {
   "cell_type": "code",
   "execution_count": 1222,
   "metadata": {},
   "outputs": [],
   "source": [
    "df_datas = df_data[df_data['Mês - Ano'] == df_data[df_data['Data'] == date_query]['Mês - Ano'].values[0]].reset_index(drop=True)"
   ]
  },
  {
   "cell_type": "code",
   "execution_count": 1223,
   "metadata": {},
   "outputs": [],
   "source": [
    "df_meta_mes = df_metas[df_metas['Mês - Ano'] == df_datas['Mês - Ano'][0]]"
   ]
  },
  {
   "cell_type": "code",
   "execution_count": 1224,
   "metadata": {},
   "outputs": [],
   "source": [
    "df_meta_data = df_datas.drop(columns=['Dia', 'Mês', 'Ano', 'Dia da Semana', 'Nome - Mês', 'Semestre', 'Trimestre', 'Sequencial - Dia da Semana', 'Dias Úteis']).merge(df_meta_mes.drop(columns=['Mês', 'Ano', 'Dias Úteis', 'Qtd Sábados', 'Nome - Mês', 'Loja']), how='inner', on='Mês - Ano')"
   ]
  },
  {
   "cell_type": "code",
   "execution_count": 1225,
   "metadata": {},
   "outputs": [],
   "source": [
    "for i in df_meta_data.index:\n",
    "    if df_meta_data.loc[i, 'Dia Útil'] == 'Sim':\n",
    "        df_meta_data.loc[i, 'Meta'] = df_meta_data.loc[i, 'Meta Diária']\n",
    "    \n",
    "    elif df_meta_data.loc[i, 'Dia Útil'] == 'Meio':\n",
    "        df_meta_data.loc[i, 'Meta'] = df_meta_data.loc[i, 'Meta Sábado']\n",
    "\n",
    "    else:\n",
    "        df_meta_data.loc[i, 'Meta'] = 0\n",
    "\n",
    "df_meta_data = df_meta_data.rename(columns={'Cd_Loja':'CD_LOJA', 'Data':'DT_EMISSAO'})"
   ]
  },
  {
   "cell_type": "markdown",
   "metadata": {},
   "source": [
    "# Cálculo"
   ]
  },
  {
   "cell_type": "code",
   "execution_count": 1226,
   "metadata": {},
   "outputs": [
    {
     "name": "stderr",
     "output_type": "stream",
     "text": [
      "C:\\Users\\admin\\AppData\\Local\\Temp\\ipykernel_9428\\464804912.py:1: FutureWarning:\n",
      "\n",
      "The default value of numeric_only in DataFrameGroupBy.sum is deprecated. In a future version, numeric_only will default to False. Either specify numeric_only or select only columns which should be valid for the function.\n",
      "\n"
     ]
    }
   ],
   "source": [
    "df_venda_bruta = df_pedido.groupby(['COD_LOJA', 'DT_EMISSAO']).sum()[['VALOR_TOT']].reset_index().rename(columns={'COD_LOJA':'CD_LOJA'})"
   ]
  },
  {
   "cell_type": "code",
   "execution_count": 1227,
   "metadata": {},
   "outputs": [
    {
     "name": "stderr",
     "output_type": "stream",
     "text": [
      "C:\\Users\\admin\\AppData\\Local\\Temp\\ipykernel_9428\\793352684.py:1: FutureWarning:\n",
      "\n",
      "The default value of numeric_only in DataFrameGroupBy.sum is deprecated. In a future version, numeric_only will default to False. Either specify numeric_only or select only columns which should be valid for the function.\n",
      "\n"
     ]
    }
   ],
   "source": [
    "df_devolucao = df_prod_ent.groupby(['COD_LOJA', 'DT_EMISSAO']).sum()[['VL_TOTAL_DEV']].reset_index().rename(columns={'COD_LOJA':'CD_LOJA'})"
   ]
  },
  {
   "cell_type": "code",
   "execution_count": 1228,
   "metadata": {},
   "outputs": [
    {
     "name": "stderr",
     "output_type": "stream",
     "text": [
      "C:\\Users\\admin\\AppData\\Local\\Temp\\ipykernel_9428\\3541458602.py:1: FutureWarning:\n",
      "\n",
      "The default value of numeric_only in DataFrameGroupBy.sum is deprecated. In a future version, numeric_only will default to False. Either specify numeric_only or select only columns which should be valid for the function.\n",
      "\n",
      "C:\\Users\\admin\\AppData\\Local\\Temp\\ipykernel_9428\\3541458602.py:2: FutureWarning:\n",
      "\n",
      "The default value of numeric_only in DataFrameGroupBy.sum is deprecated. In a future version, numeric_only will default to False. Either specify numeric_only or select only columns which should be valid for the function.\n",
      "\n"
     ]
    }
   ],
   "source": [
    "df_venda_bruta_cnpj = df_pedido[df_pedido['TIPO_CLIENTE'] != 'CPF'].groupby(['COD_LOJA', 'DT_EMISSAO']).sum()[['VALOR_TOT']].reset_index().rename(columns={'COD_LOJA':'CD_LOJA'})\n",
    "df_devolucao_cnpj = df_prod_ent[df_prod_ent['TIPO_CLIENTE'] != 'CPF'].groupby(['COD_LOJA', 'DT_EMISSAO']).sum()[['VL_TOTAL_DEV']].reset_index().rename(columns={'COD_LOJA':'CD_LOJA'})"
   ]
  },
  {
   "cell_type": "code",
   "execution_count": 1229,
   "metadata": {},
   "outputs": [
    {
     "name": "stderr",
     "output_type": "stream",
     "text": [
      "C:\\Users\\admin\\AppData\\Local\\Temp\\ipykernel_9428\\4099021309.py:1: FutureWarning:\n",
      "\n",
      "The default value of numeric_only in DataFrameGroupBy.sum is deprecated. In a future version, numeric_only will default to False. Either specify numeric_only or select only columns which should be valid for the function.\n",
      "\n",
      "C:\\Users\\admin\\AppData\\Local\\Temp\\ipykernel_9428\\4099021309.py:2: FutureWarning:\n",
      "\n",
      "The default value of numeric_only in DataFrameGroupBy.sum is deprecated. In a future version, numeric_only will default to False. Either specify numeric_only or select only columns which should be valid for the function.\n",
      "\n"
     ]
    }
   ],
   "source": [
    "df_venda_bruta_cpf = df_pedido[df_pedido['TIPO_CLIENTE'] == 'CPF'].groupby(['COD_LOJA', 'DT_EMISSAO']).sum()[['VALOR_TOT']].reset_index().rename(columns={'COD_LOJA':'CD_LOJA'})\n",
    "df_devolucao_cpf = df_prod_ent[df_prod_ent['TIPO_CLIENTE'] == 'CPF'].groupby(['COD_LOJA', 'DT_EMISSAO']).sum()[['VL_TOTAL_DEV']].reset_index().rename(columns={'COD_LOJA':'CD_LOJA'})"
   ]
  },
  {
   "cell_type": "code",
   "execution_count": 1230,
   "metadata": {},
   "outputs": [],
   "source": [
    "df_final = pd.merge(df_venda_bruta, df_devolucao, how='outer', on=['CD_LOJA', 'DT_EMISSAO'])\n",
    "\n",
    "df_final = df_final.sort_values(by=['DT_EMISSAO', 'CD_LOJA'])\n",
    "df_final = df_final.reset_index(drop=True)\n",
    "\n",
    "df_final = pd.merge(df_meta_data, df_final, how='left', on=['CD_LOJA', 'DT_EMISSAO'])"
   ]
  },
  {
   "cell_type": "code",
   "execution_count": 1231,
   "metadata": {},
   "outputs": [],
   "source": [
    "df_final = df_final.fillna(0)"
   ]
  },
  {
   "cell_type": "code",
   "execution_count": 1232,
   "metadata": {},
   "outputs": [
    {
     "name": "stderr",
     "output_type": "stream",
     "text": [
      "  0%|          | 0/186 [00:00<?, ?it/s]C:\\Users\\admin\\AppData\\Local\\Temp\\ipykernel_9428\\1542203915.py:54: RuntimeWarning:\n",
      "\n",
      "divide by zero encountered in double_scalars\n",
      "\n",
      "100%|██████████| 186/186 [00:02<00:00, 72.40it/s]\n"
     ]
    }
   ],
   "source": [
    "df_hoje = df_final\n",
    "df_hoje = df_hoje.rename(columns={'VALOR_TOT':'VENDA BRUTA', 'VL_TOTAL_DEV':'DEVOLUÇÃO', 'Meta':'META'})\n",
    "\n",
    "for i in tqdm(df_hoje.index):\n",
    "    df_hoje.loc[i, 'VENDA LÍQUIDA'] = (df_hoje.loc[i, 'VENDA BRUTA'] - df_hoje.loc[i, 'DEVOLUÇÃO'])\n",
    "    \n",
    "    client_cgc = list(df_pedido[(df_pedido['DT_EMISSAO'] == df_hoje.loc[i, 'DT_EMISSAO']) &\n",
    "                     (df_pedido['COD_LOJA'] == df_hoje.loc[i, 'CD_LOJA']) &\n",
    "                     (df_pedido['TIPO_CLIENTE'] != 'CPF')]['CPF_CGC'].drop_duplicates())\n",
    "\n",
    "    client_cpf = list(df_pedido[(df_pedido['DT_EMISSAO'] == df_hoje.loc[i, 'DT_EMISSAO']) &\n",
    "                     (df_pedido['COD_LOJA'] == df_hoje.loc[i, 'CD_LOJA']) &\n",
    "                     (df_pedido['TIPO_CLIENTE'] == 'CPF')]['CPF_CGC'].drop_duplicates())\n",
    "\n",
    "    venda_cgc = list(df_pedido[(df_pedido['DT_EMISSAO'] == df_hoje.loc[i, 'DT_EMISSAO']) &\n",
    "                    (df_pedido['COD_LOJA'] == df_hoje.loc[i, 'CD_LOJA']) &\n",
    "                    (df_pedido['TIPO_CLIENTE'] != 'CPF')]['VALOR_TOT'])\n",
    "\n",
    "    venda_cpf = list(df_pedido[(df_pedido['DT_EMISSAO'] == df_hoje.loc[i, 'DT_EMISSAO']) &\n",
    "                    (df_pedido['COD_LOJA'] == df_hoje.loc[i, 'CD_LOJA']) &\n",
    "                    (df_pedido['TIPO_CLIENTE'] == 'CPF')]['VALOR_TOT'])\n",
    "\n",
    "    devol_cgc = list(df_prod_ent[(df_prod_ent['DT_EMISSAO'] == df_hoje.loc[i, 'DT_EMISSAO']) &\n",
    "                    (df_prod_ent['COD_LOJA'] == df_hoje.loc[i, 'CD_LOJA']) &\n",
    "                    (df_prod_ent['TIPO_CLIENTE'] != 'CPF')]['VL_TOTAL_DEV'])\n",
    "\n",
    "    devol_cpf = list(df_prod_ent[(df_prod_ent['DT_EMISSAO'] == df_hoje.loc[i, 'DT_EMISSAO']) &\n",
    "                    (df_prod_ent['COD_LOJA'] == df_hoje.loc[i, 'CD_LOJA']) &\n",
    "                    (df_prod_ent['TIPO_CLIENTE'] == 'CPF')]['VL_TOTAL_DEV'])\n",
    "\n",
    "    if sum(devol_cgc) > 0 and sum(venda_cgc) > 0:\n",
    "        percent_cgc = sum(devol_cgc) / sum(venda_cgc)\n",
    "    else:\n",
    "        percent_cgc = 0\n",
    "\n",
    "    if sum(devol_cpf) > 0 and sum(venda_cpf) > 0:\n",
    "        percent_cpf = sum(devol_cpf) / sum(venda_cpf)\n",
    "    else:\n",
    "        percent_cpf = 0\n",
    "\n",
    "    df_hoje.loc[i, 'VENDA_CNPJ'] = (sum(venda_cgc) - sum(devol_cgc))\n",
    "    df_hoje.loc[i, 'DEVOL_CNPJ'] = sum(devol_cgc)\n",
    "    df_hoje.loc[i, '% DEV CNPJ'] = percent_cgc\n",
    "    df_hoje.loc[i, 'CNPJ'] = len(client_cgc)\n",
    "\n",
    "    df_hoje.loc[i, 'VENDA_CPF'] = (sum(venda_cpf) - sum(devol_cpf))\n",
    "    df_hoje.loc[i, 'DEVOL_CPF'] = sum(devol_cpf)\n",
    "    df_hoje.loc[i, '% DEV CPF'] = percent_cpf\n",
    "    df_hoje.loc[i, 'CPF'] = len(client_cpf)\n",
    "\n",
    "    if df_hoje.loc[i, 'VENDA LÍQUIDA'] == 0:\n",
    "        df_hoje.loc[i, '% META DIA'] = 0\n",
    "    else:\n",
    "        df_hoje.loc[i, '% META DIA'] = df_hoje.loc[i, 'VENDA LÍQUIDA'] / df_hoje.loc[i, 'META']\n",
    "\n",
    "    if df_hoje.loc[i, 'DEVOLUÇÃO'] == 0:\n",
    "        df_hoje.loc[i, '% DEV'] = 0\n",
    "    else:\n",
    "        df_hoje.loc[i, '% DEV'] = df_hoje.loc[i, 'DEVOLUÇÃO'] / df_hoje.loc[i, 'VENDA BRUTA']"
   ]
  },
  {
   "cell_type": "code",
   "execution_count": 1233,
   "metadata": {},
   "outputs": [],
   "source": [
    "df_hoje = df_hoje.fillna(0)"
   ]
  },
  {
   "cell_type": "markdown",
   "metadata": {},
   "source": [
    "# Vendas Online"
   ]
  },
  {
   "cell_type": "code",
   "execution_count": 1246,
   "metadata": {},
   "outputs": [],
   "source": [
    "def print_plot(principal_dataframe:str = None,\n",
    "               lojas = None,\n",
    "               loja_ = ''):\n",
    "    \n",
    "    if len(loja_) > 0:\n",
    "        df_print = principal_dataframe[principal_dataframe['CD_LOJA'] == loja_].reset_index(drop=True)\n",
    "\n",
    "        client_cgc_mes = list(df_pedido[(df_pedido['COD_LOJA'] == loja_) &\n",
    "                     (df_pedido['TIPO_CLIENTE'] != 'CPF')]['CPF_CGC'].drop_duplicates())\n",
    "\n",
    "\n",
    "        df_print = df_print[['DT_EMISSAO',\n",
    "                             'Dia Útil',\n",
    "                             'Nome - Dia da Semana',\n",
    "                             'CD_LOJA',\n",
    "                             'META',\n",
    "                             'VENDA BRUTA',\n",
    "                             'VENDA LÍQUIDA',\n",
    "                             'DEVOLUÇÃO',\n",
    "                             'VENDA_CNPJ',\n",
    "                             'DEVOL_CNPJ',\n",
    "                             'CNPJ',\n",
    "                             'VENDA_CPF',\n",
    "                             'DEVOL_CPF',\n",
    "                             'CPF']]\n",
    "\n",
    "    else:\n",
    "        df_print = principal_dataframe.groupby(['DT_EMISSAO', 'Dia Útil', 'Nome - Dia da Semana']).sum(['META',\n",
    "                                                                                                        'VENDA BRUTA',\n",
    "                                                                                                        'DEVOLUÇÃO',\n",
    "                                                                                                        'VENDA LÍQUIDA',\n",
    "                                                                                                        'VENDA_CNPJ',\n",
    "                                                                                                        'DEVOL_CNPJ',\n",
    "                                                                                                        'CNPJ',\n",
    "                                                                                                        'VENDA_CPF',\n",
    "                                                                                                        'DEVOL_CPF',\n",
    "                                                                                                        'CPF']).reset_index()\n",
    "\n",
    "        client_cgc_mes = list(df_pedido[(df_pedido['TIPO_CLIENTE'] != 'CPF')]['CPF_CGC'].drop_duplicates())\n",
    "\n",
    "    \n",
    "        df_print = df_print[['DT_EMISSAO',\n",
    "                             'Dia Útil',\n",
    "                             'Nome - Dia da Semana',\n",
    "                             'META',\n",
    "                             'VENDA BRUTA',\n",
    "                             'VENDA LÍQUIDA',\n",
    "                             'DEVOLUÇÃO',\n",
    "                             'VENDA_CNPJ',\n",
    "                             'DEVOL_CNPJ',\n",
    "                             'CNPJ',\n",
    "                             'VENDA_CPF',\n",
    "                             'DEVOL_CPF',\n",
    "                             'CPF']]\n",
    "\n",
    "    for i in df_print.index:\n",
    "        if df_print.loc[i, 'DEVOLUÇÃO'] == 0:\n",
    "            df_print.loc[i, '% DEV'] = 0\n",
    "        else:\n",
    "            df_print.loc[i, '% DEV'] = df_print.loc[i, 'DEVOLUÇÃO'] / df_print.loc[i, 'VENDA BRUTA']\n",
    "\n",
    "        \n",
    "        if df_print.loc[i, 'DEVOL_CNPJ'] == 0:\n",
    "            df_print.loc[i, '% DEV CNPJ'] = 0\n",
    "        else:\n",
    "            df_print.loc[i, '% DEV CNPJ'] = df_print.loc[i, 'DEVOL_CNPJ'] / df_print.loc[i, 'VENDA_CNPJ']\n",
    "\n",
    "\n",
    "        if df_print.loc[i, 'DEVOL_CPF'] == 0:\n",
    "            df_print.loc[i, '% DEV CPF'] = 0\n",
    "        else:\n",
    "            df_print.loc[i, '% DEV CPF'] = df_print.loc[i, 'DEVOL_CPF'] / df_print.loc[i, 'VENDA_CPF']\n",
    "\n",
    "        if df_print.loc[i, 'VENDA LÍQUIDA'] == 0:\n",
    "            df_print.loc[i, '% META DIA'] = 0\n",
    "        else:\n",
    "            df_print.loc[i, '% META DIA'] = df_print.loc[i, 'VENDA LÍQUIDA'] / df_print.loc[i, 'META']\n",
    "\n",
    "    venda_mtd = []\n",
    "    meta_mtd = []\n",
    "\n",
    "    for i in df_print.index:\n",
    "\n",
    "        venda_mtd.append(list(df_print.loc[:i, 'VENDA LÍQUIDA']))\n",
    "        df_print.loc[i, 'VENDA_MTD'] = sum(venda_mtd[i])\n",
    "\n",
    "        meta_mtd.append(list(df_print.loc[:i, 'META']))\n",
    "        df_print.loc[i, 'META_MTD'] = sum(meta_mtd[i])\n",
    "\n",
    "        if df_print.loc[i, 'VENDA_MTD'] == 0:\n",
    "            df_print.loc[i, '% META MÊS'] = 0\n",
    "        else:\n",
    "            df_print.loc[i, '% META MÊS'] = df_print.loc[i, 'VENDA_MTD'] / df_print.loc[i, 'META_MTD']\n",
    "\n",
    "\n",
    "\n",
    "\n",
    "\n",
    "\n",
    "    for i in df_print.index:\n",
    "\n",
    "        df_print.loc[i, 'PROJEÇÃO MÊS'] = df_print.loc[i, '% META MÊS'] * round(float(sum(list(df_print['META']))), 2)\n",
    "\n",
    "    df_print = df_print.rename(columns={'DT_EMISSAO': 'Data',\n",
    "                                        'META': 'Meta',\n",
    "                                        'VENDA BRUTA': 'Venda\\nSIAC',\n",
    "                                        'VENDA LÍQUIDA': 'Venda\\nLíquida',\n",
    "                                        'DEVOLUÇÃO': 'Devolução',\n",
    "                                        '% DEV': '%\\nDev',\n",
    "                                        'VENDA_CNPJ': 'Venda\\nCNPJ',\n",
    "                                        'CNPJ': 'Clientes\\nCNPJ',\n",
    "                                        '% DEV CNPJ': '% Dev\\nCNPJ',\n",
    "                                        'VENDA_CPF': 'Venda\\nCPF',\n",
    "                                        'CPF': 'Clientes\\nCPF',\n",
    "                                        '% DEV CPF': '% Dev\\nCPF',\n",
    "                                        '% META DIA': '%\\nDia',\n",
    "                                        '% META MÊS': '%\\nMês',\n",
    "                                        'PROJEÇÃO MÊS': 'Projeção\\nmensal'})\n",
    "\n",
    "\n",
    "    background_color = bg_colors(df_print, 'Data', 'Dia Útil')\n",
    "    fonts_color = font_projecao_mensal(df_print, 'Data', 'Dia Útil', '#000000')\n",
    "    day_rending_color = font_rendimento(df_print, '%\\nDia', 'Data', 'Dia Útil', '#FFFFFF')\n",
    "    mon_rending_color = font_rendimento(df_print, '%\\nMês', 'Data', 'Dia Útil', '#FFFFFF')\n",
    "\n",
    "\n",
    "    percent_total_dev = (round(float(sum(list(df_print['Devolução']))), 2) / round(float(sum(list(df_print['Venda\\nSIAC']))), 2))\n",
    "    percent_total_dev_pj = (round(float(sum(list(df_print['DEVOL_CNPJ']))), 2) / round(float(sum(list(df_print['Venda\\nCNPJ']))), 2))\n",
    "    percent_total_dev_pf = (round(float(sum(list(df_print['DEVOL_CPF']))), 2) / round(float(sum(list(df_print['Venda\\nCPF']))), 2))\n",
    "\n",
    "\n",
    "    df_print.loc[len(df_print), 'Data'] = ' '\n",
    "\n",
    "\n",
    "    df_print = df_print.fillna(0)\n",
    "\n",
    "    df_print.loc[len(df_print) - 1, 'Meta'] = round(float(sum(list(df_print['Meta']))), 2)\n",
    "    df_print.loc[len(df_print) - 1, 'Venda\\nSIAC'] = round(float(sum(list(df_print['Venda\\nSIAC']))), 2)\n",
    "    df_print.loc[len(df_print) - 1, 'Venda\\nLíquida'] = round(float(sum(list(df_print['Venda\\nLíquida']))), 2)\n",
    "    df_print.loc[len(df_print) - 1, 'Devolução'] = round(float(sum(list(df_print['Devolução']))), 2)\n",
    "    df_print.loc[len(df_print) - 1, '%\\nDev'] = percent_total_dev\n",
    "    df_print.loc[len(df_print) - 1, 'Venda\\nCNPJ'] = round(float(sum(list(df_print['Venda\\nCNPJ']))), 2)\n",
    "    df_print.loc[len(df_print) - 1, 'Clientes\\nCNPJ'] = round(float(len(client_cgc_mes)), 2) #round(float(sum(list(df_print['Clientes\\nCNPJ']))), 2)\n",
    "    df_print.loc[len(df_print) - 1, '% Dev\\nCNPJ'] = percent_total_dev_pj\n",
    "    df_print.loc[len(df_print) - 1, 'Venda\\nCPF'] = round(float(sum(list(df_print['Venda\\nCPF']))), 2)\n",
    "    df_print.loc[len(df_print) - 1, 'Clientes\\nCPF'] = round(float(sum(list(df_print['Clientes\\nCPF']))), 2)\n",
    "    df_print.loc[len(df_print) - 1, '% Dev\\nCPF'] = percent_total_dev_pf\n",
    "    df_print.loc[len(df_print) - 1, '%\\nDia'] = df_print.loc[len(df_print) - 1, 'Venda\\nLíquida'] / df_print.loc[len(df_print) - 1, 'Meta']\n",
    "    df_print.loc[len(df_print) - 1, '%\\nMês'] = df_print.loc[len(df_print) - 1, 'Venda\\nLíquida'] / df_print.loc[len(df_print) - 1, 'Meta']\n",
    "    df_print.loc[len(df_print) - 1, 'Projeção\\nmensal'] = 0\n",
    "\n",
    "\n",
    "\n",
    "\n",
    "\n",
    "\n",
    "    df_print = df_print[['Data',\n",
    "                         'Meta',\n",
    "                         'Venda\\nSIAC',\n",
    "                         'Venda\\nLíquida',\n",
    "                         'Devolução',\n",
    "                         '%\\nDev',\n",
    "                         'Venda\\nCNPJ',\n",
    "                         'Clientes\\nCNPJ',\n",
    "                         '% Dev\\nCNPJ',\n",
    "                         'Venda\\nCPF',\n",
    "                         'Clientes\\nCPF',\n",
    "                         '% Dev\\nCPF',\n",
    "                         '%\\nDia',\n",
    "                         '%\\nMês',\n",
    "                         'Projeção\\nmensal']]\n",
    "\n",
    "\n",
    "\n",
    "    for i in df_print.index:\n",
    "        df_print.loc[i, 'Meta'] = 'R$ {:_.2f}'.format(df_print.loc[i, 'Meta']).replace('.',',').replace('_','.')\n",
    "        df_print.loc[i, 'Venda\\nSIAC'] = 'R$ {:_.2f}'.format(df_print.loc[i, 'Venda\\nSIAC']).replace('.',',').replace('_','.')\n",
    "        df_print.loc[i, 'Devolução'] = 'R$ {:_.2f}'.format(df_print.loc[i, 'Devolução']).replace('.',',').replace('_','.')\n",
    "        df_print.loc[i, '%\\nDev'] = '{:_.2%}'.format(df_print.loc[i, '%\\nDev']).replace('.',',').replace('_','.')\n",
    "        df_print.loc[i, 'Venda\\nCNPJ'] = 'R$ {:_.2f}'.format(df_print.loc[i, 'Venda\\nCNPJ']).replace('.',',').replace('_','.')\n",
    "        df_print.loc[i, '% Dev\\nCNPJ'] = '{:_.2%}'.format(df_print.loc[i, '% Dev\\nCNPJ']).replace('.',',').replace('_','.')\n",
    "        df_print.loc[i, 'Clientes\\nCNPJ'] = '{:_.0f}'.format(df_print.loc[i, 'Clientes\\nCNPJ']).replace('.',',').replace('_','.')\n",
    "        df_print.loc[i, 'Venda\\nCPF'] = 'R$ {:_.2f}'.format(df_print.loc[i, 'Venda\\nCPF']).replace('.',',').replace('_','.')\n",
    "        df_print.loc[i, '% Dev\\nCPF'] = '{:_.2%}'.format(df_print.loc[i, '% Dev\\nCPF']).replace('.',',').replace('_','.')\n",
    "        df_print.loc[i, 'Clientes\\nCPF'] = '{:_.0f}'.format(df_print.loc[i, 'Clientes\\nCPF']).replace('.',',').replace('_','.')\n",
    "        df_print.loc[i, '%\\nDia'] = '{:_.2%}'.format(df_print.loc[i, '%\\nDia']).replace('.',',').replace('_','.')\n",
    "        df_print.loc[i, '%\\nMês'] = '{:_.2%}'.format(df_print.loc[i, '%\\nMês']).replace('.',',').replace('_','.')\n",
    "        df_print.loc[i, 'Projeção\\nmensal'] = 'R$ {:_.2f}'.format(df_print.loc[i, 'Projeção\\nmensal']).replace('.',',').replace('_','.')\n",
    "\n",
    "        if df_print.loc[i, 'Venda\\nLíquida'] < 0:\n",
    "            df_print.loc[i, 'Venda\\nLíquida'] = '-R$ {:_.2f}'.format(df_print.loc[i, 'Venda\\nLíquida'] * -1).replace('.',',').replace('_','.')\n",
    "        else:\n",
    "            df_print.loc[i, 'Venda\\nLíquida'] = 'R$ {:_.2f}'.format(df_print.loc[i, 'Venda\\nLíquida']).replace('.',',').replace('_','.')\n",
    "\n",
    "        if df_print.loc[i, 'Data'] == ' ':\n",
    "            df_print.loc[i, 'Data'] = 'Total'\n",
    "        else:\n",
    "            df_print.loc[i, 'Data'] = df_print.loc[i, 'Data'].strftime('%d/%m/%Y, %A')\n",
    "\n",
    "\n",
    "        for (english, portuguese) in dias_semana:\n",
    "            if english in df_print.loc[i, 'Data']:\n",
    "                df_print.loc[i, 'Data'] = df_print.loc[i, 'Data'].replace(english, portuguese)\n",
    "\n",
    "\n",
    "\n",
    "    df_print = df_print.replace('inf%', '').replace('-inf%', '').replace('0,00%', '').replace('R$ 0,00', '').replace('0', '')\n",
    "\n",
    "\n",
    "    table = go.Figure(go.Table(header={'values':list(df_print.columns),\n",
    "                                       'fill_color': '#E5E5E5',\n",
    "                                       'line_color': '#E5E5E5',\n",
    "                                       'align': ['center'],\n",
    "                                       'font_color': ['#000000',\n",
    "                                                      '#000000',\n",
    "                                                      '#118DFF',\n",
    "                                                      '#000000',\n",
    "                                                      '#FF0000',\n",
    "                                                      '#FF0000',\n",
    "                                                      '#E04392',\n",
    "                                                      '#000000',\n",
    "                                                      '#FF0000',\n",
    "                                                      '#E04392',\n",
    "                                                      '#000000',\n",
    "                                                      '#FF0000',\n",
    "                                                      '#000000',\n",
    "                                                      '#000000',\n",
    "                                                      '#000000']\n",
    "                                       },\n",
    "                                        \n",
    "                                cells={'values':[list(df_print['Data']),\n",
    "                                                 list(df_print['Meta']),\n",
    "                                                 list(df_print['Venda\\nSIAC']),\n",
    "                                                 list(df_print['Venda\\nLíquida']),\n",
    "                                                 list(df_print['Devolução']),\n",
    "                                                 list(df_print['%\\nDev']),\n",
    "                                                 list(df_print['Venda\\nCNPJ']),\n",
    "                                                 list(df_print['Clientes\\nCNPJ']),\n",
    "                                                 list(df_print['% Dev\\nCNPJ']),\n",
    "                                                 list(df_print['Venda\\nCPF']),\n",
    "                                                 list(df_print['Clientes\\nCPF']),\n",
    "                                                 list(df_print['% Dev\\nCPF']),\n",
    "                                                 list(df_print['%\\nDia']),\n",
    "                                                 list(df_print['%\\nMês']),\n",
    "                                                 list(df_print['Projeção\\nmensal'])],\n",
    "                                       'fill_color': background_color,\n",
    "                                       'line_color': background_color,\n",
    "                                       'align': ['left', 'center'],\n",
    "                                       'font_color': ['#000000',\n",
    "                                                      '#000000',\n",
    "                                                      '#118DFF',\n",
    "                                                      '#000000',\n",
    "                                                      '#FF0000',\n",
    "                                                      '#FF0000',\n",
    "                                                      '#E04392',\n",
    "                                                      '#000000',\n",
    "                                                      '#FF0000',\n",
    "                                                      '#E04392',\n",
    "                                                      '#000000',\n",
    "                                                      '#FF0000',\n",
    "                                                      day_rending_color,\n",
    "                                                      mon_rending_color,\n",
    "                                                      fonts_color[0]]\n",
    "                                       },\n",
    "\n",
    "                               domain={'y': [0, 1]\n",
    "                                       },\n",
    "\n",
    "                          columnwidth=[proportion_size(pixels=_pixels, size=25),\n",
    "                                       proportion_size(pixels=_pixels, size=16),\n",
    "                                       proportion_size(pixels=_pixels, size=16),\n",
    "                                       proportion_size(pixels=_pixels, size=16),\n",
    "                                       proportion_size(pixels=_pixels, size=16),\n",
    "                                       proportion_size(pixels=_pixels, size=10),\n",
    "                                       proportion_size(pixels=_pixels, size=16),\n",
    "                                       proportion_size(pixels=_pixels, size=13),\n",
    "                                       proportion_size(pixels=_pixels, size=12),\n",
    "                                       proportion_size(pixels=_pixels, size=16),\n",
    "                                       proportion_size(pixels=_pixels, size=12),\n",
    "                                       proportion_size(pixels=_pixels, size=10),\n",
    "                                       proportion_size(pixels=_pixels, size=7),\n",
    "                                       proportion_size(pixels=_pixels, size=7),\n",
    "                                       proportion_size(pixels=_pixels, size=16)]\n",
    "                                )\n",
    "    )\n",
    "\n",
    "    for (cod_loja, loja, cor, crypto) in lojas:\n",
    "        if cod_loja == loja_:\n",
    "            print_loja = loja[4:5] + loja[5:].lower()\n",
    "            print_loja = loja[4:]\n",
    "            print_cor = cor\n",
    "            print_crypto = crypto\n",
    "\n",
    "    if len(loja_) > 0:\n",
    "        text_title = f'◙'*int(10) + ' 🡆 ' + print_loja + ' 🡄 ' + f'◙'*int(76) + ' ' + print_crypto + ' ' + f'◙'*int(10)\n",
    "    else:\n",
    "        text_title = f'◙'*int(10) + ' 🡆 ' + 'KAIZEN' + ' 🡄 ' + f'◙'*int(76) + ' ' + 'ⓀⒶⒾⓏⒺⓃ' + ' ' + f'◙'*int(10)\n",
    "        print_cor = '#00A5AC'\n",
    "\n",
    "    table = table.update_layout(\n",
    "\n",
    "        #Title config ---------------------------------------------------------------------------------------------------------------------#\n",
    "        title  = {'text': text_title,\n",
    "                  'font_color': print_cor,\n",
    "                  'font_family': 'Jost',\n",
    "                  'x': 0.50,\n",
    "                  'y': 0.95,\n",
    "                  'font_size': proportion_size(pixels=_pixels, size=60),\n",
    "                  'yanchor': 'bottom'\n",
    "                  },\n",
    "\n",
    "        #Size plot config -----------------------------------------------------------------------------------------------------------------#\n",
    "        width  = pixels_width,\n",
    "        height = pixels_height\n",
    "    )\n",
    "\n",
    "    return table.show()"
   ]
  },
  {
   "cell_type": "code",
   "execution_count": 1247,
   "metadata": {},
   "outputs": [
    {
     "name": "stderr",
     "output_type": "stream",
     "text": [
      "C:\\Users\\admin\\AppData\\Local\\Temp\\ipykernel_9428\\3920923309.py:77: RuntimeWarning:\n",
      "\n",
      "divide by zero encountered in double_scalars\n",
      "\n"
     ]
    },
    {
     "data": {
      "application/vnd.plotly.v1+json": {
       "config": {
        "plotlyServerURL": "https://plot.ly"
       },
       "data": [
        {
         "cells": {
          "align": [
           "left",
           "center"
          ],
          "fill": {
           "color": [
            [
             "#FFFFFF",
             "#FFFFFF",
             "#FFFFFF",
             "#DEEFFF",
             "#DEEFFF",
             "#FFFFFF",
             "#F7F7F7",
             "#FFFFFF",
             "#FFFFFF",
             "#FFFFFF",
             "#DEEFFF",
             "#FFFFFF",
             "#FFFFFF",
             "#FFFFFF",
             "#FFFFFF",
             "#FFFFFF",
             "#FFFFFF",
             "#DEEFFF",
             "#FFFFFF",
             "#FFFFFF",
             "#FFFFFF",
             "#FFFFFF",
             "#FFFFFF",
             "#FFFFFF",
             "#DEEFFF",
             "#FFFFFF",
             "#FFFFFF",
             "#FFFFFF",
             "#FFFFFF",
             "#FFFFFF",
             "#FFFFFF",
             "#E5E5E5"
            ],
            [
             "#FFFFFF",
             "#FFFFFF",
             "#FFFFFF",
             "#DEEFFF",
             "#DEEFFF",
             "#FFFFFF",
             "#F7F7F7",
             "#FFFFFF",
             "#FFFFFF",
             "#FFFFFF",
             "#DEEFFF",
             "#FFFFFF",
             "#FFFFFF",
             "#FFFFFF",
             "#FFFFFF",
             "#FFFFFF",
             "#FFFFFF",
             "#DEEFFF",
             "#FFFFFF",
             "#FFFFFF",
             "#FFFFFF",
             "#FFFFFF",
             "#FFFFFF",
             "#FFFFFF",
             "#DEEFFF",
             "#FFFFFF",
             "#FFFFFF",
             "#FFFFFF",
             "#FFFFFF",
             "#FFFFFF",
             "#FFFFFF",
             "#E5E5E5"
            ],
            [
             "#F7F7F7",
             "#F7F7F7",
             "#F7F7F7",
             "#DEEFFF",
             "#DEEFFF",
             "#F7F7F7",
             "#F7F7F7",
             "#F7F7F7",
             "#F7F7F7",
             "#F7F7F7",
             "#DEEFFF",
             "#F7F7F7",
             "#F7F7F7",
             "#F7F7F7",
             "#F7F7F7",
             "#F7F7F7",
             "#F7F7F7",
             "#DEEFFF",
             "#F7F7F7",
             "#F7F7F7",
             "#F7F7F7",
             "#F7F7F7",
             "#F7F7F7",
             "#F7F7F7",
             "#DEEFFF",
             "#F7F7F7",
             "#F7F7F7",
             "#F7F7F7",
             "#F7F7F7",
             "#F7F7F7",
             "#F7F7F7",
             "#E5E5E5"
            ],
            [
             "#F7F7F7",
             "#F7F7F7",
             "#F7F7F7",
             "#DEEFFF",
             "#DEEFFF",
             "#F7F7F7",
             "#F7F7F7",
             "#F7F7F7",
             "#F7F7F7",
             "#F7F7F7",
             "#DEEFFF",
             "#F7F7F7",
             "#F7F7F7",
             "#F7F7F7",
             "#F7F7F7",
             "#F7F7F7",
             "#F7F7F7",
             "#DEEFFF",
             "#F7F7F7",
             "#F7F7F7",
             "#F7F7F7",
             "#F7F7F7",
             "#F7F7F7",
             "#F7F7F7",
             "#DEEFFF",
             "#F7F7F7",
             "#F7F7F7",
             "#F7F7F7",
             "#F7F7F7",
             "#F7F7F7",
             "#F7F7F7",
             "#E5E5E5"
            ],
            [
             "#FFFFFF",
             "#FFFFFF",
             "#FFFFFF",
             "#DEEFFF",
             "#DEEFFF",
             "#FFFFFF",
             "#F7F7F7",
             "#FFFFFF",
             "#FFFFFF",
             "#FFFFFF",
             "#DEEFFF",
             "#FFFFFF",
             "#FFFFFF",
             "#FFFFFF",
             "#FFFFFF",
             "#FFFFFF",
             "#FFFFFF",
             "#DEEFFF",
             "#FFFFFF",
             "#FFFFFF",
             "#FFFFFF",
             "#FFFFFF",
             "#FFFFFF",
             "#FFFFFF",
             "#DEEFFF",
             "#FFFFFF",
             "#FFFFFF",
             "#FFFFFF",
             "#FFFFFF",
             "#FFFFFF",
             "#FFFFFF",
             "#E5E5E5"
            ],
            [
             "#FFFFFF",
             "#FFFFFF",
             "#FFFFFF",
             "#DEEFFF",
             "#DEEFFF",
             "#FFFFFF",
             "#F7F7F7",
             "#FFFFFF",
             "#FFFFFF",
             "#FFFFFF",
             "#DEEFFF",
             "#FFFFFF",
             "#FFFFFF",
             "#FFFFFF",
             "#FFFFFF",
             "#FFFFFF",
             "#FFFFFF",
             "#DEEFFF",
             "#FFFFFF",
             "#FFFFFF",
             "#FFFFFF",
             "#FFFFFF",
             "#FFFFFF",
             "#FFFFFF",
             "#DEEFFF",
             "#FFFFFF",
             "#FFFFFF",
             "#FFFFFF",
             "#FFFFFF",
             "#FFFFFF",
             "#FFFFFF",
             "#E5E5E5"
            ],
            [
             "#F7F7F7",
             "#F7F7F7",
             "#F7F7F7",
             "#DEEFFF",
             "#DEEFFF",
             "#F7F7F7",
             "#F7F7F7",
             "#F7F7F7",
             "#F7F7F7",
             "#F7F7F7",
             "#DEEFFF",
             "#F7F7F7",
             "#F7F7F7",
             "#F7F7F7",
             "#F7F7F7",
             "#F7F7F7",
             "#F7F7F7",
             "#DEEFFF",
             "#F7F7F7",
             "#F7F7F7",
             "#F7F7F7",
             "#F7F7F7",
             "#F7F7F7",
             "#F7F7F7",
             "#DEEFFF",
             "#F7F7F7",
             "#F7F7F7",
             "#F7F7F7",
             "#F7F7F7",
             "#F7F7F7",
             "#F7F7F7",
             "#E5E5E5"
            ],
            [
             "#FFFFFF",
             "#FFFFFF",
             "#FFFFFF",
             "#DEEFFF",
             "#DEEFFF",
             "#FFFFFF",
             "#F7F7F7",
             "#FFFFFF",
             "#FFFFFF",
             "#FFFFFF",
             "#DEEFFF",
             "#FFFFFF",
             "#FFFFFF",
             "#FFFFFF",
             "#FFFFFF",
             "#FFFFFF",
             "#FFFFFF",
             "#DEEFFF",
             "#FFFFFF",
             "#FFFFFF",
             "#FFFFFF",
             "#FFFFFF",
             "#FFFFFF",
             "#FFFFFF",
             "#DEEFFF",
             "#FFFFFF",
             "#FFFFFF",
             "#FFFFFF",
             "#FFFFFF",
             "#FFFFFF",
             "#FFFFFF",
             "#E5E5E5"
            ],
            [
             "#FFFFFF",
             "#FFFFFF",
             "#FFFFFF",
             "#DEEFFF",
             "#DEEFFF",
             "#FFFFFF",
             "#F7F7F7",
             "#FFFFFF",
             "#FFFFFF",
             "#FFFFFF",
             "#DEEFFF",
             "#FFFFFF",
             "#FFFFFF",
             "#FFFFFF",
             "#FFFFFF",
             "#FFFFFF",
             "#FFFFFF",
             "#DEEFFF",
             "#FFFFFF",
             "#FFFFFF",
             "#FFFFFF",
             "#FFFFFF",
             "#FFFFFF",
             "#FFFFFF",
             "#DEEFFF",
             "#FFFFFF",
             "#FFFFFF",
             "#FFFFFF",
             "#FFFFFF",
             "#FFFFFF",
             "#FFFFFF",
             "#E5E5E5"
            ],
            [
             "#F7F7F7",
             "#F7F7F7",
             "#F7F7F7",
             "#DEEFFF",
             "#DEEFFF",
             "#F7F7F7",
             "#F7F7F7",
             "#F7F7F7",
             "#F7F7F7",
             "#F7F7F7",
             "#DEEFFF",
             "#F7F7F7",
             "#F7F7F7",
             "#F7F7F7",
             "#F7F7F7",
             "#F7F7F7",
             "#F7F7F7",
             "#DEEFFF",
             "#F7F7F7",
             "#F7F7F7",
             "#F7F7F7",
             "#F7F7F7",
             "#F7F7F7",
             "#F7F7F7",
             "#DEEFFF",
             "#F7F7F7",
             "#F7F7F7",
             "#F7F7F7",
             "#F7F7F7",
             "#F7F7F7",
             "#F7F7F7",
             "#E5E5E5"
            ],
            [
             "#FFFFFF",
             "#FFFFFF",
             "#FFFFFF",
             "#DEEFFF",
             "#DEEFFF",
             "#FFFFFF",
             "#F7F7F7",
             "#FFFFFF",
             "#FFFFFF",
             "#FFFFFF",
             "#DEEFFF",
             "#FFFFFF",
             "#FFFFFF",
             "#FFFFFF",
             "#FFFFFF",
             "#FFFFFF",
             "#FFFFFF",
             "#DEEFFF",
             "#FFFFFF",
             "#FFFFFF",
             "#FFFFFF",
             "#FFFFFF",
             "#FFFFFF",
             "#FFFFFF",
             "#DEEFFF",
             "#FFFFFF",
             "#FFFFFF",
             "#FFFFFF",
             "#FFFFFF",
             "#FFFFFF",
             "#FFFFFF",
             "#E5E5E5"
            ],
            [
             "#FFFFFF",
             "#FFFFFF",
             "#FFFFFF",
             "#DEEFFF",
             "#DEEFFF",
             "#FFFFFF",
             "#F7F7F7",
             "#FFFFFF",
             "#FFFFFF",
             "#FFFFFF",
             "#DEEFFF",
             "#FFFFFF",
             "#FFFFFF",
             "#FFFFFF",
             "#FFFFFF",
             "#FFFFFF",
             "#FFFFFF",
             "#DEEFFF",
             "#FFFFFF",
             "#FFFFFF",
             "#FFFFFF",
             "#FFFFFF",
             "#FFFFFF",
             "#FFFFFF",
             "#DEEFFF",
             "#FFFFFF",
             "#FFFFFF",
             "#FFFFFF",
             "#FFFFFF",
             "#FFFFFF",
             "#FFFFFF",
             "#E5E5E5"
            ],
            [
             "#FFFFFF",
             "#FFFFFF",
             "#FFFFFF",
             "#DEEFFF",
             "#DEEFFF",
             "#FFFFFF",
             "#F7F7F7",
             "#FFFFFF",
             "#FFFFFF",
             "#FFFFFF",
             "#DEEFFF",
             "#FFFFFF",
             "#FFFFFF",
             "#FFFFFF",
             "#FFFFFF",
             "#FFFFFF",
             "#FFFFFF",
             "#DEEFFF",
             "#FFFFFF",
             "#FFFFFF",
             "#FFFFFF",
             "#FFFFFF",
             "#FFFFFF",
             "#FFFFFF",
             "#DEEFFF",
             "#FFFFFF",
             "#FFFFFF",
             "#FFFFFF",
             "#FFFFFF",
             "#FFFFFF",
             "#FFFFFF",
             "#E5E5E5"
            ],
            [
             "#FFFFFF",
             "#FFFFFF",
             "#FFFFFF",
             "#DEEFFF",
             "#DEEFFF",
             "#FFFFFF",
             "#F7F7F7",
             "#FFFFFF",
             "#FFFFFF",
             "#FFFFFF",
             "#DEEFFF",
             "#FFFFFF",
             "#FFFFFF",
             "#FFFFFF",
             "#FFFFFF",
             "#FFFFFF",
             "#FFFFFF",
             "#DEEFFF",
             "#FFFFFF",
             "#FFFFFF",
             "#FFFFFF",
             "#FFFFFF",
             "#FFFFFF",
             "#FFFFFF",
             "#DEEFFF",
             "#FFFFFF",
             "#FFFFFF",
             "#FFFFFF",
             "#FFFFFF",
             "#FFFFFF",
             "#FFFFFF",
             "#E5E5E5"
            ],
            [
             "#FFFFFF",
             "#FFFFFF",
             "#FFFFFF",
             "#DEEFFF",
             "#DEEFFF",
             "#FFFFFF",
             "#F7F7F7",
             "#FFFFFF",
             "#FFFFFF",
             "#FFFFFF",
             "#DEEFFF",
             "#FFFFFF",
             "#FFFFFF",
             "#FFFFFF",
             "#FFFFFF",
             "#FFFFFF",
             "#FFFFFF",
             "#DEEFFF",
             "#FFFFFF",
             "#FFFFFF",
             "#FFFFFF",
             "#FFFFFF",
             "#FFFFFF",
             "#FFFFFF",
             "#DEEFFF",
             "#FFFFFF",
             "#FFFFFF",
             "#FFFFFF",
             "#FFFFFF",
             "#FFFFFF",
             "#FFFFFF",
             "#E5E5E5"
            ],
            [
             "#FFFFFF",
             "#FFFFFF",
             "#FFFFFF",
             "#DEEFFF",
             "#DEEFFF",
             "#FFFFFF",
             "#F7F7F7",
             "#FFFFFF",
             "#FFFFFF",
             "#FFFFFF",
             "#DEEFFF",
             "#FFFFFF",
             "#FFFFFF",
             "#FFFFFF",
             "#FFFFFF",
             "#FFFFFF",
             "#FFFFFF",
             "#DEEFFF",
             "#FFFFFF",
             "#FFFFFF",
             "#FFFFFF",
             "#FFFFFF",
             "#FFFFFF",
             "#FFFFFF",
             "#DEEFFF",
             "#FFFFFF",
             "#FFFFFF",
             "#FFFFFF",
             "#FFFFFF",
             "#FFFFFF",
             "#FFFFFF",
             "#E5E5E5"
            ],
            [
             "#FFFFFF",
             "#FFFFFF",
             "#FFFFFF",
             "#DEEFFF",
             "#DEEFFF",
             "#FFFFFF",
             "#F7F7F7",
             "#FFFFFF",
             "#FFFFFF",
             "#FFFFFF",
             "#DEEFFF",
             "#FFFFFF",
             "#FFFFFF",
             "#FFFFFF",
             "#FFFFFF",
             "#FFFFFF",
             "#FFFFFF",
             "#DEEFFF",
             "#FFFFFF",
             "#FFFFFF",
             "#FFFFFF",
             "#FFFFFF",
             "#FFFFFF",
             "#FFFFFF",
             "#DEEFFF",
             "#FFFFFF",
             "#FFFFFF",
             "#FFFFFF",
             "#FFFFFF",
             "#FFFFFF",
             "#FFFFFF",
             "#E5E5E5"
            ],
            [
             "#FFFFFF",
             "#FFFFFF",
             "#FFFFFF",
             "#DEEFFF",
             "#DEEFFF",
             "#FFFFFF",
             "#F7F7F7",
             "#FFFFFF",
             "#FFFFFF",
             "#FFFFFF",
             "#DEEFFF",
             "#FFFFFF",
             "#FFFFFF",
             "#FFFFFF",
             "#FFFFFF",
             "#FFFFFF",
             "#FFFFFF",
             "#DEEFFF",
             "#FFFFFF",
             "#FFFFFF",
             "#FFFFFF",
             "#FFFFFF",
             "#FFFFFF",
             "#FFFFFF",
             "#DEEFFF",
             "#FFFFFF",
             "#FFFFFF",
             "#FFFFFF",
             "#FFFFFF",
             "#FFFFFF",
             "#FFFFFF",
             "#E5E5E5"
            ],
            [
             "#FFFFFF",
             "#FFFFFF",
             "#FFFFFF",
             "#DEEFFF",
             "#DEEFFF",
             "#FFFFFF",
             "#F7F7F7",
             "#FFFFFF",
             "#FFFFFF",
             "#FFFFFF",
             "#DEEFFF",
             "#FFFFFF",
             "#FFFFFF",
             "#FFFFFF",
             "#FFFFFF",
             "#FFFFFF",
             "#FFFFFF",
             "#DEEFFF",
             "#FFFFFF",
             "#FFFFFF",
             "#FFFFFF",
             "#FFFFFF",
             "#FFFFFF",
             "#FFFFFF",
             "#DEEFFF",
             "#FFFFFF",
             "#FFFFFF",
             "#FFFFFF",
             "#FFFFFF",
             "#FFFFFF",
             "#FFFFFF",
             "#E5E5E5"
            ],
            [
             "#FFFFFF",
             "#FFFFFF",
             "#FFFFFF",
             "#DEEFFF",
             "#DEEFFF",
             "#FFFFFF",
             "#F7F7F7",
             "#FFFFFF",
             "#FFFFFF",
             "#FFFFFF",
             "#DEEFFF",
             "#FFFFFF",
             "#FFFFFF",
             "#FFFFFF",
             "#FFFFFF",
             "#FFFFFF",
             "#FFFFFF",
             "#DEEFFF",
             "#FFFFFF",
             "#FFFFFF",
             "#FFFFFF",
             "#FFFFFF",
             "#FFFFFF",
             "#FFFFFF",
             "#DEEFFF",
             "#FFFFFF",
             "#FFFFFF",
             "#FFFFFF",
             "#FFFFFF",
             "#FFFFFF",
             "#FFFFFF",
             "#E5E5E5"
            ],
            [
             "#FFFFFF",
             "#FFFFFF",
             "#FFFFFF",
             "#DEEFFF",
             "#DEEFFF",
             "#FFFFFF",
             "#F7F7F7",
             "#FFFFFF",
             "#FFFFFF",
             "#FFFFFF",
             "#DEEFFF",
             "#FFFFFF",
             "#FFFFFF",
             "#FFFFFF",
             "#FFFFFF",
             "#FFFFFF",
             "#FFFFFF",
             "#DEEFFF",
             "#FFFFFF",
             "#FFFFFF",
             "#FFFFFF",
             "#FFFFFF",
             "#FFFFFF",
             "#FFFFFF",
             "#DEEFFF",
             "#FFFFFF",
             "#FFFFFF",
             "#FFFFFF",
             "#FFFFFF",
             "#FFFFFF",
             "#FFFFFF",
             "#E5E5E5"
            ],
            [
             "#FFFFFF",
             "#FFFFFF",
             "#FFFFFF",
             "#DEEFFF",
             "#DEEFFF",
             "#FFFFFF",
             "#F7F7F7",
             "#FFFFFF",
             "#FFFFFF",
             "#FFFFFF",
             "#DEEFFF",
             "#FFFFFF",
             "#FFFFFF",
             "#FFFFFF",
             "#FFFFFF",
             "#FFFFFF",
             "#FFFFFF",
             "#DEEFFF",
             "#FFFFFF",
             "#FFFFFF",
             "#FFFFFF",
             "#FFFFFF",
             "#FFFFFF",
             "#FFFFFF",
             "#DEEFFF",
             "#FFFFFF",
             "#FFFFFF",
             "#FFFFFF",
             "#FFFFFF",
             "#FFFFFF",
             "#FFFFFF",
             "#E5E5E5"
            ]
           ]
          },
          "font": {
           "color": [
            "#000000",
            "#000000",
            "#118DFF",
            "#000000",
            "#FF0000",
            "#FF0000",
            "#E04392",
            "#000000",
            "#FF0000",
            "#E04392",
            "#000000",
            "#FF0000",
            [
             "#FF0000",
             "#FF0000",
             "#00B050",
             "#DEEFFF",
             "#DEEFFF",
             "#00B050",
             "#00B050",
             "#FFFFFF",
             "#FFFFFF",
             "#FFFFFF",
             "#DEEFFF",
             "#FFFFFF",
             "#FFFFFF",
             "#FFFFFF",
             "#FFFFFF",
             "#FFFFFF",
             "#FFFFFF",
             "#DEEFFF",
             "#FFFFFF",
             "#FFFFFF",
             "#FFFFFF",
             "#FFFFFF",
             "#FFFFFF",
             "#FFFFFF",
             "#DEEFFF",
             "#FFFFFF",
             "#FFFFFF",
             "#FFFFFF",
             "#FFFFFF",
             "#FFFFFF",
             "#FFFFFF",
             "#E5E5E5"
            ],
            [
             "#FF0000",
             "#FF0000",
             "#FF0000",
             "#DEEFFF",
             "#DEEFFF",
             "#00B050",
             "#00B050",
             "#FFFFFF",
             "#FFFFFF",
             "#FFFFFF",
             "#DEEFFF",
             "#FFFFFF",
             "#FFFFFF",
             "#FFFFFF",
             "#FFFFFF",
             "#FFFFFF",
             "#FFFFFF",
             "#DEEFFF",
             "#FFFFFF",
             "#FFFFFF",
             "#FFFFFF",
             "#FFFFFF",
             "#FFFFFF",
             "#FFFFFF",
             "#DEEFFF",
             "#FFFFFF",
             "#FFFFFF",
             "#FFFFFF",
             "#FFFFFF",
             "#FFFFFF",
             "#FFFFFF",
             "#E5E5E5"
            ],
            [
             "#000000",
             "#000000",
             "#000000",
             "#DEEFFF",
             "#DEEFFF",
             "#000000",
             "#000000",
             "#FFFFFF",
             "#FFFFFF",
             "#FFFFFF",
             "#DEEFFF",
             "#FFFFFF",
             "#FFFFFF",
             "#FFFFFF",
             "#FFFFFF",
             "#FFFFFF",
             "#FFFFFF",
             "#DEEFFF",
             "#FFFFFF",
             "#FFFFFF",
             "#FFFFFF",
             "#FFFFFF",
             "#FFFFFF",
             "#FFFFFF",
             "#DEEFFF",
             "#FFFFFF",
             "#FFFFFF",
             "#FFFFFF",
             "#FFFFFF",
             "#FFFFFF",
             "#FFFFFF",
             "#118DFF"
            ]
           ]
          },
          "line": {
           "color": [
            [
             "#FFFFFF",
             "#FFFFFF",
             "#FFFFFF",
             "#DEEFFF",
             "#DEEFFF",
             "#FFFFFF",
             "#F7F7F7",
             "#FFFFFF",
             "#FFFFFF",
             "#FFFFFF",
             "#DEEFFF",
             "#FFFFFF",
             "#FFFFFF",
             "#FFFFFF",
             "#FFFFFF",
             "#FFFFFF",
             "#FFFFFF",
             "#DEEFFF",
             "#FFFFFF",
             "#FFFFFF",
             "#FFFFFF",
             "#FFFFFF",
             "#FFFFFF",
             "#FFFFFF",
             "#DEEFFF",
             "#FFFFFF",
             "#FFFFFF",
             "#FFFFFF",
             "#FFFFFF",
             "#FFFFFF",
             "#FFFFFF",
             "#E5E5E5"
            ],
            [
             "#FFFFFF",
             "#FFFFFF",
             "#FFFFFF",
             "#DEEFFF",
             "#DEEFFF",
             "#FFFFFF",
             "#F7F7F7",
             "#FFFFFF",
             "#FFFFFF",
             "#FFFFFF",
             "#DEEFFF",
             "#FFFFFF",
             "#FFFFFF",
             "#FFFFFF",
             "#FFFFFF",
             "#FFFFFF",
             "#FFFFFF",
             "#DEEFFF",
             "#FFFFFF",
             "#FFFFFF",
             "#FFFFFF",
             "#FFFFFF",
             "#FFFFFF",
             "#FFFFFF",
             "#DEEFFF",
             "#FFFFFF",
             "#FFFFFF",
             "#FFFFFF",
             "#FFFFFF",
             "#FFFFFF",
             "#FFFFFF",
             "#E5E5E5"
            ],
            [
             "#F7F7F7",
             "#F7F7F7",
             "#F7F7F7",
             "#DEEFFF",
             "#DEEFFF",
             "#F7F7F7",
             "#F7F7F7",
             "#F7F7F7",
             "#F7F7F7",
             "#F7F7F7",
             "#DEEFFF",
             "#F7F7F7",
             "#F7F7F7",
             "#F7F7F7",
             "#F7F7F7",
             "#F7F7F7",
             "#F7F7F7",
             "#DEEFFF",
             "#F7F7F7",
             "#F7F7F7",
             "#F7F7F7",
             "#F7F7F7",
             "#F7F7F7",
             "#F7F7F7",
             "#DEEFFF",
             "#F7F7F7",
             "#F7F7F7",
             "#F7F7F7",
             "#F7F7F7",
             "#F7F7F7",
             "#F7F7F7",
             "#E5E5E5"
            ],
            [
             "#F7F7F7",
             "#F7F7F7",
             "#F7F7F7",
             "#DEEFFF",
             "#DEEFFF",
             "#F7F7F7",
             "#F7F7F7",
             "#F7F7F7",
             "#F7F7F7",
             "#F7F7F7",
             "#DEEFFF",
             "#F7F7F7",
             "#F7F7F7",
             "#F7F7F7",
             "#F7F7F7",
             "#F7F7F7",
             "#F7F7F7",
             "#DEEFFF",
             "#F7F7F7",
             "#F7F7F7",
             "#F7F7F7",
             "#F7F7F7",
             "#F7F7F7",
             "#F7F7F7",
             "#DEEFFF",
             "#F7F7F7",
             "#F7F7F7",
             "#F7F7F7",
             "#F7F7F7",
             "#F7F7F7",
             "#F7F7F7",
             "#E5E5E5"
            ],
            [
             "#FFFFFF",
             "#FFFFFF",
             "#FFFFFF",
             "#DEEFFF",
             "#DEEFFF",
             "#FFFFFF",
             "#F7F7F7",
             "#FFFFFF",
             "#FFFFFF",
             "#FFFFFF",
             "#DEEFFF",
             "#FFFFFF",
             "#FFFFFF",
             "#FFFFFF",
             "#FFFFFF",
             "#FFFFFF",
             "#FFFFFF",
             "#DEEFFF",
             "#FFFFFF",
             "#FFFFFF",
             "#FFFFFF",
             "#FFFFFF",
             "#FFFFFF",
             "#FFFFFF",
             "#DEEFFF",
             "#FFFFFF",
             "#FFFFFF",
             "#FFFFFF",
             "#FFFFFF",
             "#FFFFFF",
             "#FFFFFF",
             "#E5E5E5"
            ],
            [
             "#FFFFFF",
             "#FFFFFF",
             "#FFFFFF",
             "#DEEFFF",
             "#DEEFFF",
             "#FFFFFF",
             "#F7F7F7",
             "#FFFFFF",
             "#FFFFFF",
             "#FFFFFF",
             "#DEEFFF",
             "#FFFFFF",
             "#FFFFFF",
             "#FFFFFF",
             "#FFFFFF",
             "#FFFFFF",
             "#FFFFFF",
             "#DEEFFF",
             "#FFFFFF",
             "#FFFFFF",
             "#FFFFFF",
             "#FFFFFF",
             "#FFFFFF",
             "#FFFFFF",
             "#DEEFFF",
             "#FFFFFF",
             "#FFFFFF",
             "#FFFFFF",
             "#FFFFFF",
             "#FFFFFF",
             "#FFFFFF",
             "#E5E5E5"
            ],
            [
             "#F7F7F7",
             "#F7F7F7",
             "#F7F7F7",
             "#DEEFFF",
             "#DEEFFF",
             "#F7F7F7",
             "#F7F7F7",
             "#F7F7F7",
             "#F7F7F7",
             "#F7F7F7",
             "#DEEFFF",
             "#F7F7F7",
             "#F7F7F7",
             "#F7F7F7",
             "#F7F7F7",
             "#F7F7F7",
             "#F7F7F7",
             "#DEEFFF",
             "#F7F7F7",
             "#F7F7F7",
             "#F7F7F7",
             "#F7F7F7",
             "#F7F7F7",
             "#F7F7F7",
             "#DEEFFF",
             "#F7F7F7",
             "#F7F7F7",
             "#F7F7F7",
             "#F7F7F7",
             "#F7F7F7",
             "#F7F7F7",
             "#E5E5E5"
            ],
            [
             "#FFFFFF",
             "#FFFFFF",
             "#FFFFFF",
             "#DEEFFF",
             "#DEEFFF",
             "#FFFFFF",
             "#F7F7F7",
             "#FFFFFF",
             "#FFFFFF",
             "#FFFFFF",
             "#DEEFFF",
             "#FFFFFF",
             "#FFFFFF",
             "#FFFFFF",
             "#FFFFFF",
             "#FFFFFF",
             "#FFFFFF",
             "#DEEFFF",
             "#FFFFFF",
             "#FFFFFF",
             "#FFFFFF",
             "#FFFFFF",
             "#FFFFFF",
             "#FFFFFF",
             "#DEEFFF",
             "#FFFFFF",
             "#FFFFFF",
             "#FFFFFF",
             "#FFFFFF",
             "#FFFFFF",
             "#FFFFFF",
             "#E5E5E5"
            ],
            [
             "#FFFFFF",
             "#FFFFFF",
             "#FFFFFF",
             "#DEEFFF",
             "#DEEFFF",
             "#FFFFFF",
             "#F7F7F7",
             "#FFFFFF",
             "#FFFFFF",
             "#FFFFFF",
             "#DEEFFF",
             "#FFFFFF",
             "#FFFFFF",
             "#FFFFFF",
             "#FFFFFF",
             "#FFFFFF",
             "#FFFFFF",
             "#DEEFFF",
             "#FFFFFF",
             "#FFFFFF",
             "#FFFFFF",
             "#FFFFFF",
             "#FFFFFF",
             "#FFFFFF",
             "#DEEFFF",
             "#FFFFFF",
             "#FFFFFF",
             "#FFFFFF",
             "#FFFFFF",
             "#FFFFFF",
             "#FFFFFF",
             "#E5E5E5"
            ],
            [
             "#F7F7F7",
             "#F7F7F7",
             "#F7F7F7",
             "#DEEFFF",
             "#DEEFFF",
             "#F7F7F7",
             "#F7F7F7",
             "#F7F7F7",
             "#F7F7F7",
             "#F7F7F7",
             "#DEEFFF",
             "#F7F7F7",
             "#F7F7F7",
             "#F7F7F7",
             "#F7F7F7",
             "#F7F7F7",
             "#F7F7F7",
             "#DEEFFF",
             "#F7F7F7",
             "#F7F7F7",
             "#F7F7F7",
             "#F7F7F7",
             "#F7F7F7",
             "#F7F7F7",
             "#DEEFFF",
             "#F7F7F7",
             "#F7F7F7",
             "#F7F7F7",
             "#F7F7F7",
             "#F7F7F7",
             "#F7F7F7",
             "#E5E5E5"
            ],
            [
             "#FFFFFF",
             "#FFFFFF",
             "#FFFFFF",
             "#DEEFFF",
             "#DEEFFF",
             "#FFFFFF",
             "#F7F7F7",
             "#FFFFFF",
             "#FFFFFF",
             "#FFFFFF",
             "#DEEFFF",
             "#FFFFFF",
             "#FFFFFF",
             "#FFFFFF",
             "#FFFFFF",
             "#FFFFFF",
             "#FFFFFF",
             "#DEEFFF",
             "#FFFFFF",
             "#FFFFFF",
             "#FFFFFF",
             "#FFFFFF",
             "#FFFFFF",
             "#FFFFFF",
             "#DEEFFF",
             "#FFFFFF",
             "#FFFFFF",
             "#FFFFFF",
             "#FFFFFF",
             "#FFFFFF",
             "#FFFFFF",
             "#E5E5E5"
            ],
            [
             "#FFFFFF",
             "#FFFFFF",
             "#FFFFFF",
             "#DEEFFF",
             "#DEEFFF",
             "#FFFFFF",
             "#F7F7F7",
             "#FFFFFF",
             "#FFFFFF",
             "#FFFFFF",
             "#DEEFFF",
             "#FFFFFF",
             "#FFFFFF",
             "#FFFFFF",
             "#FFFFFF",
             "#FFFFFF",
             "#FFFFFF",
             "#DEEFFF",
             "#FFFFFF",
             "#FFFFFF",
             "#FFFFFF",
             "#FFFFFF",
             "#FFFFFF",
             "#FFFFFF",
             "#DEEFFF",
             "#FFFFFF",
             "#FFFFFF",
             "#FFFFFF",
             "#FFFFFF",
             "#FFFFFF",
             "#FFFFFF",
             "#E5E5E5"
            ],
            [
             "#FFFFFF",
             "#FFFFFF",
             "#FFFFFF",
             "#DEEFFF",
             "#DEEFFF",
             "#FFFFFF",
             "#F7F7F7",
             "#FFFFFF",
             "#FFFFFF",
             "#FFFFFF",
             "#DEEFFF",
             "#FFFFFF",
             "#FFFFFF",
             "#FFFFFF",
             "#FFFFFF",
             "#FFFFFF",
             "#FFFFFF",
             "#DEEFFF",
             "#FFFFFF",
             "#FFFFFF",
             "#FFFFFF",
             "#FFFFFF",
             "#FFFFFF",
             "#FFFFFF",
             "#DEEFFF",
             "#FFFFFF",
             "#FFFFFF",
             "#FFFFFF",
             "#FFFFFF",
             "#FFFFFF",
             "#FFFFFF",
             "#E5E5E5"
            ],
            [
             "#FFFFFF",
             "#FFFFFF",
             "#FFFFFF",
             "#DEEFFF",
             "#DEEFFF",
             "#FFFFFF",
             "#F7F7F7",
             "#FFFFFF",
             "#FFFFFF",
             "#FFFFFF",
             "#DEEFFF",
             "#FFFFFF",
             "#FFFFFF",
             "#FFFFFF",
             "#FFFFFF",
             "#FFFFFF",
             "#FFFFFF",
             "#DEEFFF",
             "#FFFFFF",
             "#FFFFFF",
             "#FFFFFF",
             "#FFFFFF",
             "#FFFFFF",
             "#FFFFFF",
             "#DEEFFF",
             "#FFFFFF",
             "#FFFFFF",
             "#FFFFFF",
             "#FFFFFF",
             "#FFFFFF",
             "#FFFFFF",
             "#E5E5E5"
            ],
            [
             "#FFFFFF",
             "#FFFFFF",
             "#FFFFFF",
             "#DEEFFF",
             "#DEEFFF",
             "#FFFFFF",
             "#F7F7F7",
             "#FFFFFF",
             "#FFFFFF",
             "#FFFFFF",
             "#DEEFFF",
             "#FFFFFF",
             "#FFFFFF",
             "#FFFFFF",
             "#FFFFFF",
             "#FFFFFF",
             "#FFFFFF",
             "#DEEFFF",
             "#FFFFFF",
             "#FFFFFF",
             "#FFFFFF",
             "#FFFFFF",
             "#FFFFFF",
             "#FFFFFF",
             "#DEEFFF",
             "#FFFFFF",
             "#FFFFFF",
             "#FFFFFF",
             "#FFFFFF",
             "#FFFFFF",
             "#FFFFFF",
             "#E5E5E5"
            ],
            [
             "#FFFFFF",
             "#FFFFFF",
             "#FFFFFF",
             "#DEEFFF",
             "#DEEFFF",
             "#FFFFFF",
             "#F7F7F7",
             "#FFFFFF",
             "#FFFFFF",
             "#FFFFFF",
             "#DEEFFF",
             "#FFFFFF",
             "#FFFFFF",
             "#FFFFFF",
             "#FFFFFF",
             "#FFFFFF",
             "#FFFFFF",
             "#DEEFFF",
             "#FFFFFF",
             "#FFFFFF",
             "#FFFFFF",
             "#FFFFFF",
             "#FFFFFF",
             "#FFFFFF",
             "#DEEFFF",
             "#FFFFFF",
             "#FFFFFF",
             "#FFFFFF",
             "#FFFFFF",
             "#FFFFFF",
             "#FFFFFF",
             "#E5E5E5"
            ],
            [
             "#FFFFFF",
             "#FFFFFF",
             "#FFFFFF",
             "#DEEFFF",
             "#DEEFFF",
             "#FFFFFF",
             "#F7F7F7",
             "#FFFFFF",
             "#FFFFFF",
             "#FFFFFF",
             "#DEEFFF",
             "#FFFFFF",
             "#FFFFFF",
             "#FFFFFF",
             "#FFFFFF",
             "#FFFFFF",
             "#FFFFFF",
             "#DEEFFF",
             "#FFFFFF",
             "#FFFFFF",
             "#FFFFFF",
             "#FFFFFF",
             "#FFFFFF",
             "#FFFFFF",
             "#DEEFFF",
             "#FFFFFF",
             "#FFFFFF",
             "#FFFFFF",
             "#FFFFFF",
             "#FFFFFF",
             "#FFFFFF",
             "#E5E5E5"
            ],
            [
             "#FFFFFF",
             "#FFFFFF",
             "#FFFFFF",
             "#DEEFFF",
             "#DEEFFF",
             "#FFFFFF",
             "#F7F7F7",
             "#FFFFFF",
             "#FFFFFF",
             "#FFFFFF",
             "#DEEFFF",
             "#FFFFFF",
             "#FFFFFF",
             "#FFFFFF",
             "#FFFFFF",
             "#FFFFFF",
             "#FFFFFF",
             "#DEEFFF",
             "#FFFFFF",
             "#FFFFFF",
             "#FFFFFF",
             "#FFFFFF",
             "#FFFFFF",
             "#FFFFFF",
             "#DEEFFF",
             "#FFFFFF",
             "#FFFFFF",
             "#FFFFFF",
             "#FFFFFF",
             "#FFFFFF",
             "#FFFFFF",
             "#E5E5E5"
            ],
            [
             "#FFFFFF",
             "#FFFFFF",
             "#FFFFFF",
             "#DEEFFF",
             "#DEEFFF",
             "#FFFFFF",
             "#F7F7F7",
             "#FFFFFF",
             "#FFFFFF",
             "#FFFFFF",
             "#DEEFFF",
             "#FFFFFF",
             "#FFFFFF",
             "#FFFFFF",
             "#FFFFFF",
             "#FFFFFF",
             "#FFFFFF",
             "#DEEFFF",
             "#FFFFFF",
             "#FFFFFF",
             "#FFFFFF",
             "#FFFFFF",
             "#FFFFFF",
             "#FFFFFF",
             "#DEEFFF",
             "#FFFFFF",
             "#FFFFFF",
             "#FFFFFF",
             "#FFFFFF",
             "#FFFFFF",
             "#FFFFFF",
             "#E5E5E5"
            ],
            [
             "#FFFFFF",
             "#FFFFFF",
             "#FFFFFF",
             "#DEEFFF",
             "#DEEFFF",
             "#FFFFFF",
             "#F7F7F7",
             "#FFFFFF",
             "#FFFFFF",
             "#FFFFFF",
             "#DEEFFF",
             "#FFFFFF",
             "#FFFFFF",
             "#FFFFFF",
             "#FFFFFF",
             "#FFFFFF",
             "#FFFFFF",
             "#DEEFFF",
             "#FFFFFF",
             "#FFFFFF",
             "#FFFFFF",
             "#FFFFFF",
             "#FFFFFF",
             "#FFFFFF",
             "#DEEFFF",
             "#FFFFFF",
             "#FFFFFF",
             "#FFFFFF",
             "#FFFFFF",
             "#FFFFFF",
             "#FFFFFF",
             "#E5E5E5"
            ],
            [
             "#FFFFFF",
             "#FFFFFF",
             "#FFFFFF",
             "#DEEFFF",
             "#DEEFFF",
             "#FFFFFF",
             "#F7F7F7",
             "#FFFFFF",
             "#FFFFFF",
             "#FFFFFF",
             "#DEEFFF",
             "#FFFFFF",
             "#FFFFFF",
             "#FFFFFF",
             "#FFFFFF",
             "#FFFFFF",
             "#FFFFFF",
             "#DEEFFF",
             "#FFFFFF",
             "#FFFFFF",
             "#FFFFFF",
             "#FFFFFF",
             "#FFFFFF",
             "#FFFFFF",
             "#DEEFFF",
             "#FFFFFF",
             "#FFFFFF",
             "#FFFFFF",
             "#FFFFFF",
             "#FFFFFF",
             "#FFFFFF",
             "#E5E5E5"
            ],
            [
             "#FFFFFF",
             "#FFFFFF",
             "#FFFFFF",
             "#DEEFFF",
             "#DEEFFF",
             "#FFFFFF",
             "#F7F7F7",
             "#FFFFFF",
             "#FFFFFF",
             "#FFFFFF",
             "#DEEFFF",
             "#FFFFFF",
             "#FFFFFF",
             "#FFFFFF",
             "#FFFFFF",
             "#FFFFFF",
             "#FFFFFF",
             "#DEEFFF",
             "#FFFFFF",
             "#FFFFFF",
             "#FFFFFF",
             "#FFFFFF",
             "#FFFFFF",
             "#FFFFFF",
             "#DEEFFF",
             "#FFFFFF",
             "#FFFFFF",
             "#FFFFFF",
             "#FFFFFF",
             "#FFFFFF",
             "#FFFFFF",
             "#E5E5E5"
            ]
           ]
          },
          "values": [
           [
            "01/12/2022, Quinta-feira",
            "02/12/2022, Sexta-feira",
            "03/12/2022, Sábado",
            "04/12/2022, Domingo",
            "05/12/2022, Segunda-feira",
            "06/12/2022, Terça-feira",
            "07/12/2022, Quarta-feira",
            "08/12/2022, Quinta-feira",
            "09/12/2022, Sexta-feira",
            "10/12/2022, Sábado",
            "11/12/2022, Domingo",
            "12/12/2022, Segunda-feira",
            "13/12/2022, Terça-feira",
            "14/12/2022, Quarta-feira",
            "15/12/2022, Quinta-feira",
            "16/12/2022, Sexta-feira",
            "17/12/2022, Sábado",
            "18/12/2022, Domingo",
            "19/12/2022, Segunda-feira",
            "20/12/2022, Terça-feira",
            "21/12/2022, Quarta-feira",
            "22/12/2022, Quinta-feira",
            "23/12/2022, Sexta-feira",
            "24/12/2022, Sábado",
            "25/12/2022, Domingo",
            "26/12/2022, Segunda-feira",
            "27/12/2022, Terça-feira",
            "28/12/2022, Quarta-feira",
            "29/12/2022, Quinta-feira",
            "30/12/2022, Sexta-feira",
            "31/12/2022, Sábado",
            "Total"
           ],
           [
            "R$ 66.666,67",
            "R$ 66.666,67",
            "R$ 20.000,00",
            "",
            "",
            "R$ 66.666,67",
            "R$ 66.666,67",
            "R$ 66.666,67",
            "R$ 66.666,67",
            "R$ 20.000,00",
            "",
            "R$ 66.666,67",
            "R$ 66.666,67",
            "R$ 66.666,67",
            "R$ 66.666,67",
            "R$ 66.666,67",
            "R$ 20.000,00",
            "",
            "R$ 66.666,67",
            "R$ 66.666,67",
            "R$ 66.666,67",
            "R$ 66.666,67",
            "R$ 66.666,67",
            "R$ 20.000,00",
            "",
            "R$ 66.666,67",
            "R$ 66.666,67",
            "R$ 66.666,67",
            "R$ 66.666,67",
            "R$ 66.666,67",
            "R$ 20.000,00",
            "R$ 1.500.000,00"
           ],
           [
            "R$ 57.109,01",
            "R$ 39.509,96",
            "R$ 24.910,18",
            "",
            "R$ 39.091,77",
            "R$ 96.553,13",
            "R$ 81.112,73",
            "",
            "",
            "",
            "",
            "",
            "",
            "",
            "",
            "",
            "",
            "",
            "",
            "",
            "",
            "",
            "",
            "",
            "",
            "",
            "",
            "",
            "",
            "",
            "",
            "R$ 338.286,78"
           ],
           [
            "R$ 54.513,39",
            "R$ 38.016,70",
            "R$ 24.378,10",
            "",
            "R$ 36.641,40",
            "R$ 93.408,81",
            "R$ 79.382,79",
            "",
            "",
            "",
            "",
            "",
            "",
            "",
            "",
            "",
            "",
            "",
            "",
            "",
            "",
            "",
            "",
            "",
            "",
            "",
            "",
            "",
            "",
            "",
            "",
            "R$ 326.341,19"
           ],
           [
            "R$ 2.595,62",
            "R$ 1.493,26",
            "R$ 532,08",
            "",
            "R$ 2.450,37",
            "R$ 3.144,32",
            "R$ 1.729,94",
            "",
            "",
            "",
            "",
            "",
            "",
            "",
            "",
            "",
            "",
            "",
            "",
            "",
            "",
            "",
            "",
            "",
            "",
            "",
            "",
            "",
            "",
            "",
            "",
            "R$ 11.945,59"
           ],
           [
            "4,55%",
            "3,78%",
            "2,14%",
            "",
            "6,27%",
            "3,26%",
            "2,13%",
            "",
            "",
            "",
            "",
            "",
            "",
            "",
            "",
            "",
            "",
            "",
            "",
            "",
            "",
            "",
            "",
            "",
            "",
            "",
            "",
            "",
            "",
            "",
            "",
            "3,53%"
           ],
           [
            "R$ 51.513,78",
            "R$ 35.359,00",
            "R$ 22.653,96",
            "",
            "R$ 32.836,47",
            "R$ 85.919,04",
            "R$ 70.680,74",
            "",
            "",
            "",
            "",
            "",
            "",
            "",
            "",
            "",
            "",
            "",
            "",
            "",
            "",
            "",
            "",
            "",
            "",
            "",
            "",
            "",
            "",
            "",
            "",
            "R$ 298.962,99"
           ],
           [
            "146",
            "100",
            "69",
            "",
            "101",
            "163",
            "154",
            "",
            "",
            "",
            "",
            "",
            "",
            "",
            "",
            "",
            "",
            "",
            "",
            "",
            "",
            "",
            "",
            "",
            "",
            "",
            "",
            "",
            "",
            "",
            "",
            "272"
           ],
           [
            "3,90%",
            "3,49%",
            "2,35%",
            "",
            "7,46%",
            "3,44%",
            "2,35%",
            "",
            "",
            "",
            "",
            "",
            "",
            "",
            "",
            "",
            "",
            "",
            "",
            "",
            "",
            "",
            "",
            "",
            "",
            "",
            "",
            "",
            "",
            "",
            "",
            "3,62%"
           ],
           [
            "R$ 2.999,61",
            "R$ 2.657,70",
            "R$ 1.724,14",
            "",
            "R$ 3.804,93",
            "R$ 7.489,77",
            "R$ 8.702,05",
            "",
            "",
            "",
            "",
            "",
            "",
            "",
            "",
            "",
            "",
            "",
            "",
            "",
            "",
            "",
            "",
            "",
            "",
            "",
            "",
            "",
            "",
            "",
            "",
            "R$ 27.378,20"
           ],
           [
            "28",
            "21",
            "20",
            "",
            "22",
            "49",
            "47",
            "",
            "",
            "",
            "",
            "",
            "",
            "",
            "",
            "",
            "",
            "",
            "",
            "",
            "",
            "",
            "",
            "",
            "",
            "",
            "",
            "",
            "",
            "",
            "",
            "187"
           ],
           [
            "19,61%",
            "9,70%",
            "",
            "",
            "",
            "2,54%",
            "0,83%",
            "",
            "",
            "",
            "",
            "",
            "",
            "",
            "",
            "",
            "",
            "",
            "",
            "",
            "",
            "",
            "",
            "",
            "",
            "",
            "",
            "",
            "",
            "",
            "",
            "4,05%"
           ],
           [
            "81,77%",
            "57,03%",
            "121,89%",
            "",
            "",
            "140,11%",
            "119,07%",
            "",
            "",
            "",
            "",
            "",
            "",
            "",
            "",
            "",
            "",
            "",
            "",
            "",
            "",
            "",
            "",
            "",
            "",
            "",
            "",
            "",
            "",
            "",
            "",
            "21,76%"
           ],
           [
            "81,77%",
            "69,40%",
            "76,24%",
            "76,24%",
            "100,14%",
            "112,25%",
            "113,84%",
            "92,36%",
            "77,70%",
            "74,17%",
            "74,17%",
            "64,41%",
            "56,92%",
            "50,99%",
            "46,18%",
            "42,20%",
            "41,14%",
            "41,14%",
            "37,95%",
            "35,22%",
            "32,85%",
            "30,79%",
            "28,97%",
            "28,46%",
            "28,46%",
            "26,90%",
            "25,50%",
            "24,23%",
            "23,09%",
            "22,05%",
            "21,76%",
            "21,76%"
           ],
           [
            "R$ 1.226.551,27",
            "R$ 1.040.963,51",
            "R$ 1.143.667,08",
            "R$ 1.143.667,08",
            "R$ 1.502.115,55",
            "R$ 1.683.807,27",
            "R$ 1.707.599,25",
            "R$ 1.385.410,71",
            "R$ 1.165.504,25",
            "R$ 1.112.526,78",
            "R$ 1.112.526,78",
            "R$ 966.141,68",
            "R$ 853.799,62",
            "R$ 764.862,16",
            "R$ 692.705,36",
            "R$ 632.989,38",
            "R$ 617.031,66",
            "R$ 617.031,66",
            "R$ 569.199,75",
            "R$ 528.250,13",
            "R$ 492.797,10",
            "R$ 461.803,57",
            "R$ 434.477,92",
            "R$ 426.899,81",
            "R$ 426.899,81",
            "R$ 403.443,78",
            "R$ 382.431,08",
            "R$ 363.498,85",
            "R$ 346.352,68",
            "R$ 330.751,21",
            "R$ 326.341,19",
            ""
           ]
          ]
         },
         "columnwidth": [
          10.300925925925926,
          6.592592592592593,
          6.592592592592593,
          6.592592592592593,
          6.592592592592593,
          4.12037037037037,
          6.592592592592593,
          5.356481481481481,
          4.944444444444445,
          6.592592592592593,
          4.944444444444445,
          4.12037037037037,
          2.8842592592592595,
          2.8842592592592595,
          6.592592592592593
         ],
         "domain": {
          "y": [
           0,
           1
          ]
         },
         "header": {
          "align": [
           "center"
          ],
          "fill": {
           "color": "#E5E5E5"
          },
          "font": {
           "color": [
            "#000000",
            "#000000",
            "#118DFF",
            "#000000",
            "#FF0000",
            "#FF0000",
            "#E04392",
            "#000000",
            "#FF0000",
            "#E04392",
            "#000000",
            "#FF0000",
            "#000000",
            "#000000",
            "#000000"
           ]
          },
          "line": {
           "color": "#E5E5E5"
          },
          "values": [
           "Data",
           "Meta",
           "Venda\nSIAC",
           "Venda\nLíquida",
           "Devolução",
           "%\nDev",
           "Venda\nCNPJ",
           "Clientes\nCNPJ",
           "% Dev\nCNPJ",
           "Venda\nCPF",
           "Clientes\nCPF",
           "% Dev\nCPF",
           "%\nDia",
           "%\nMês",
           "Projeção\nmensal"
          ]
         },
         "type": "table"
        }
       ],
       "layout": {
        "height": 890,
        "template": {
         "data": {
          "bar": [
           {
            "error_x": {
             "color": "#2a3f5f"
            },
            "error_y": {
             "color": "#2a3f5f"
            },
            "marker": {
             "line": {
              "color": "#E5ECF6",
              "width": 0.5
             },
             "pattern": {
              "fillmode": "overlay",
              "size": 10,
              "solidity": 0.2
             }
            },
            "type": "bar"
           }
          ],
          "barpolar": [
           {
            "marker": {
             "line": {
              "color": "#E5ECF6",
              "width": 0.5
             },
             "pattern": {
              "fillmode": "overlay",
              "size": 10,
              "solidity": 0.2
             }
            },
            "type": "barpolar"
           }
          ],
          "carpet": [
           {
            "aaxis": {
             "endlinecolor": "#2a3f5f",
             "gridcolor": "white",
             "linecolor": "white",
             "minorgridcolor": "white",
             "startlinecolor": "#2a3f5f"
            },
            "baxis": {
             "endlinecolor": "#2a3f5f",
             "gridcolor": "white",
             "linecolor": "white",
             "minorgridcolor": "white",
             "startlinecolor": "#2a3f5f"
            },
            "type": "carpet"
           }
          ],
          "choropleth": [
           {
            "colorbar": {
             "outlinewidth": 0,
             "ticks": ""
            },
            "type": "choropleth"
           }
          ],
          "contour": [
           {
            "colorbar": {
             "outlinewidth": 0,
             "ticks": ""
            },
            "colorscale": [
             [
              0,
              "#0d0887"
             ],
             [
              0.1111111111111111,
              "#46039f"
             ],
             [
              0.2222222222222222,
              "#7201a8"
             ],
             [
              0.3333333333333333,
              "#9c179e"
             ],
             [
              0.4444444444444444,
              "#bd3786"
             ],
             [
              0.5555555555555556,
              "#d8576b"
             ],
             [
              0.6666666666666666,
              "#ed7953"
             ],
             [
              0.7777777777777778,
              "#fb9f3a"
             ],
             [
              0.8888888888888888,
              "#fdca26"
             ],
             [
              1,
              "#f0f921"
             ]
            ],
            "type": "contour"
           }
          ],
          "contourcarpet": [
           {
            "colorbar": {
             "outlinewidth": 0,
             "ticks": ""
            },
            "type": "contourcarpet"
           }
          ],
          "heatmap": [
           {
            "colorbar": {
             "outlinewidth": 0,
             "ticks": ""
            },
            "colorscale": [
             [
              0,
              "#0d0887"
             ],
             [
              0.1111111111111111,
              "#46039f"
             ],
             [
              0.2222222222222222,
              "#7201a8"
             ],
             [
              0.3333333333333333,
              "#9c179e"
             ],
             [
              0.4444444444444444,
              "#bd3786"
             ],
             [
              0.5555555555555556,
              "#d8576b"
             ],
             [
              0.6666666666666666,
              "#ed7953"
             ],
             [
              0.7777777777777778,
              "#fb9f3a"
             ],
             [
              0.8888888888888888,
              "#fdca26"
             ],
             [
              1,
              "#f0f921"
             ]
            ],
            "type": "heatmap"
           }
          ],
          "heatmapgl": [
           {
            "colorbar": {
             "outlinewidth": 0,
             "ticks": ""
            },
            "colorscale": [
             [
              0,
              "#0d0887"
             ],
             [
              0.1111111111111111,
              "#46039f"
             ],
             [
              0.2222222222222222,
              "#7201a8"
             ],
             [
              0.3333333333333333,
              "#9c179e"
             ],
             [
              0.4444444444444444,
              "#bd3786"
             ],
             [
              0.5555555555555556,
              "#d8576b"
             ],
             [
              0.6666666666666666,
              "#ed7953"
             ],
             [
              0.7777777777777778,
              "#fb9f3a"
             ],
             [
              0.8888888888888888,
              "#fdca26"
             ],
             [
              1,
              "#f0f921"
             ]
            ],
            "type": "heatmapgl"
           }
          ],
          "histogram": [
           {
            "marker": {
             "pattern": {
              "fillmode": "overlay",
              "size": 10,
              "solidity": 0.2
             }
            },
            "type": "histogram"
           }
          ],
          "histogram2d": [
           {
            "colorbar": {
             "outlinewidth": 0,
             "ticks": ""
            },
            "colorscale": [
             [
              0,
              "#0d0887"
             ],
             [
              0.1111111111111111,
              "#46039f"
             ],
             [
              0.2222222222222222,
              "#7201a8"
             ],
             [
              0.3333333333333333,
              "#9c179e"
             ],
             [
              0.4444444444444444,
              "#bd3786"
             ],
             [
              0.5555555555555556,
              "#d8576b"
             ],
             [
              0.6666666666666666,
              "#ed7953"
             ],
             [
              0.7777777777777778,
              "#fb9f3a"
             ],
             [
              0.8888888888888888,
              "#fdca26"
             ],
             [
              1,
              "#f0f921"
             ]
            ],
            "type": "histogram2d"
           }
          ],
          "histogram2dcontour": [
           {
            "colorbar": {
             "outlinewidth": 0,
             "ticks": ""
            },
            "colorscale": [
             [
              0,
              "#0d0887"
             ],
             [
              0.1111111111111111,
              "#46039f"
             ],
             [
              0.2222222222222222,
              "#7201a8"
             ],
             [
              0.3333333333333333,
              "#9c179e"
             ],
             [
              0.4444444444444444,
              "#bd3786"
             ],
             [
              0.5555555555555556,
              "#d8576b"
             ],
             [
              0.6666666666666666,
              "#ed7953"
             ],
             [
              0.7777777777777778,
              "#fb9f3a"
             ],
             [
              0.8888888888888888,
              "#fdca26"
             ],
             [
              1,
              "#f0f921"
             ]
            ],
            "type": "histogram2dcontour"
           }
          ],
          "mesh3d": [
           {
            "colorbar": {
             "outlinewidth": 0,
             "ticks": ""
            },
            "type": "mesh3d"
           }
          ],
          "parcoords": [
           {
            "line": {
             "colorbar": {
              "outlinewidth": 0,
              "ticks": ""
             }
            },
            "type": "parcoords"
           }
          ],
          "pie": [
           {
            "automargin": true,
            "type": "pie"
           }
          ],
          "scatter": [
           {
            "fillpattern": {
             "fillmode": "overlay",
             "size": 10,
             "solidity": 0.2
            },
            "type": "scatter"
           }
          ],
          "scatter3d": [
           {
            "line": {
             "colorbar": {
              "outlinewidth": 0,
              "ticks": ""
             }
            },
            "marker": {
             "colorbar": {
              "outlinewidth": 0,
              "ticks": ""
             }
            },
            "type": "scatter3d"
           }
          ],
          "scattercarpet": [
           {
            "marker": {
             "colorbar": {
              "outlinewidth": 0,
              "ticks": ""
             }
            },
            "type": "scattercarpet"
           }
          ],
          "scattergeo": [
           {
            "marker": {
             "colorbar": {
              "outlinewidth": 0,
              "ticks": ""
             }
            },
            "type": "scattergeo"
           }
          ],
          "scattergl": [
           {
            "marker": {
             "colorbar": {
              "outlinewidth": 0,
              "ticks": ""
             }
            },
            "type": "scattergl"
           }
          ],
          "scattermapbox": [
           {
            "marker": {
             "colorbar": {
              "outlinewidth": 0,
              "ticks": ""
             }
            },
            "type": "scattermapbox"
           }
          ],
          "scatterpolar": [
           {
            "marker": {
             "colorbar": {
              "outlinewidth": 0,
              "ticks": ""
             }
            },
            "type": "scatterpolar"
           }
          ],
          "scatterpolargl": [
           {
            "marker": {
             "colorbar": {
              "outlinewidth": 0,
              "ticks": ""
             }
            },
            "type": "scatterpolargl"
           }
          ],
          "scatterternary": [
           {
            "marker": {
             "colorbar": {
              "outlinewidth": 0,
              "ticks": ""
             }
            },
            "type": "scatterternary"
           }
          ],
          "surface": [
           {
            "colorbar": {
             "outlinewidth": 0,
             "ticks": ""
            },
            "colorscale": [
             [
              0,
              "#0d0887"
             ],
             [
              0.1111111111111111,
              "#46039f"
             ],
             [
              0.2222222222222222,
              "#7201a8"
             ],
             [
              0.3333333333333333,
              "#9c179e"
             ],
             [
              0.4444444444444444,
              "#bd3786"
             ],
             [
              0.5555555555555556,
              "#d8576b"
             ],
             [
              0.6666666666666666,
              "#ed7953"
             ],
             [
              0.7777777777777778,
              "#fb9f3a"
             ],
             [
              0.8888888888888888,
              "#fdca26"
             ],
             [
              1,
              "#f0f921"
             ]
            ],
            "type": "surface"
           }
          ],
          "table": [
           {
            "cells": {
             "fill": {
              "color": "#EBF0F8"
             },
             "line": {
              "color": "white"
             }
            },
            "header": {
             "fill": {
              "color": "#C8D4E3"
             },
             "line": {
              "color": "white"
             }
            },
            "type": "table"
           }
          ]
         },
         "layout": {
          "annotationdefaults": {
           "arrowcolor": "#2a3f5f",
           "arrowhead": 0,
           "arrowwidth": 1
          },
          "autotypenumbers": "strict",
          "coloraxis": {
           "colorbar": {
            "outlinewidth": 0,
            "ticks": ""
           }
          },
          "colorscale": {
           "diverging": [
            [
             0,
             "#8e0152"
            ],
            [
             0.1,
             "#c51b7d"
            ],
            [
             0.2,
             "#de77ae"
            ],
            [
             0.3,
             "#f1b6da"
            ],
            [
             0.4,
             "#fde0ef"
            ],
            [
             0.5,
             "#f7f7f7"
            ],
            [
             0.6,
             "#e6f5d0"
            ],
            [
             0.7,
             "#b8e186"
            ],
            [
             0.8,
             "#7fbc41"
            ],
            [
             0.9,
             "#4d9221"
            ],
            [
             1,
             "#276419"
            ]
           ],
           "sequential": [
            [
             0,
             "#0d0887"
            ],
            [
             0.1111111111111111,
             "#46039f"
            ],
            [
             0.2222222222222222,
             "#7201a8"
            ],
            [
             0.3333333333333333,
             "#9c179e"
            ],
            [
             0.4444444444444444,
             "#bd3786"
            ],
            [
             0.5555555555555556,
             "#d8576b"
            ],
            [
             0.6666666666666666,
             "#ed7953"
            ],
            [
             0.7777777777777778,
             "#fb9f3a"
            ],
            [
             0.8888888888888888,
             "#fdca26"
            ],
            [
             1,
             "#f0f921"
            ]
           ],
           "sequentialminus": [
            [
             0,
             "#0d0887"
            ],
            [
             0.1111111111111111,
             "#46039f"
            ],
            [
             0.2222222222222222,
             "#7201a8"
            ],
            [
             0.3333333333333333,
             "#9c179e"
            ],
            [
             0.4444444444444444,
             "#bd3786"
            ],
            [
             0.5555555555555556,
             "#d8576b"
            ],
            [
             0.6666666666666666,
             "#ed7953"
            ],
            [
             0.7777777777777778,
             "#fb9f3a"
            ],
            [
             0.8888888888888888,
             "#fdca26"
            ],
            [
             1,
             "#f0f921"
            ]
           ]
          },
          "colorway": [
           "#636efa",
           "#EF553B",
           "#00cc96",
           "#ab63fa",
           "#FFA15A",
           "#19d3f3",
           "#FF6692",
           "#B6E880",
           "#FF97FF",
           "#FECB52"
          ],
          "font": {
           "color": "#2a3f5f"
          },
          "geo": {
           "bgcolor": "white",
           "lakecolor": "white",
           "landcolor": "#E5ECF6",
           "showlakes": true,
           "showland": true,
           "subunitcolor": "white"
          },
          "hoverlabel": {
           "align": "left"
          },
          "hovermode": "closest",
          "mapbox": {
           "style": "light"
          },
          "paper_bgcolor": "white",
          "plot_bgcolor": "#E5ECF6",
          "polar": {
           "angularaxis": {
            "gridcolor": "white",
            "linecolor": "white",
            "ticks": ""
           },
           "bgcolor": "#E5ECF6",
           "radialaxis": {
            "gridcolor": "white",
            "linecolor": "white",
            "ticks": ""
           }
          },
          "scene": {
           "xaxis": {
            "backgroundcolor": "#E5ECF6",
            "gridcolor": "white",
            "gridwidth": 2,
            "linecolor": "white",
            "showbackground": true,
            "ticks": "",
            "zerolinecolor": "white"
           },
           "yaxis": {
            "backgroundcolor": "#E5ECF6",
            "gridcolor": "white",
            "gridwidth": 2,
            "linecolor": "white",
            "showbackground": true,
            "ticks": "",
            "zerolinecolor": "white"
           },
           "zaxis": {
            "backgroundcolor": "#E5ECF6",
            "gridcolor": "white",
            "gridwidth": 2,
            "linecolor": "white",
            "showbackground": true,
            "ticks": "",
            "zerolinecolor": "white"
           }
          },
          "shapedefaults": {
           "line": {
            "color": "#2a3f5f"
           }
          },
          "ternary": {
           "aaxis": {
            "gridcolor": "white",
            "linecolor": "white",
            "ticks": ""
           },
           "baxis": {
            "gridcolor": "white",
            "linecolor": "white",
            "ticks": ""
           },
           "bgcolor": "#E5ECF6",
           "caxis": {
            "gridcolor": "white",
            "linecolor": "white",
            "ticks": ""
           }
          },
          "title": {
           "x": 0.05
          },
          "xaxis": {
           "automargin": true,
           "gridcolor": "white",
           "linecolor": "white",
           "ticks": "",
           "title": {
            "standoff": 15
           },
           "zerolinecolor": "white",
           "zerolinewidth": 2
          },
          "yaxis": {
           "automargin": true,
           "gridcolor": "white",
           "linecolor": "white",
           "ticks": "",
           "title": {
            "standoff": 15
           },
           "zerolinecolor": "white",
           "zerolinewidth": 2
          }
         }
        },
        "title": {
         "font": {
          "color": "#881798",
          "family": "Jost",
          "size": 24.72222222222222
         },
         "text": "◙◙◙◙◙◙◙◙◙◙ 🡆 ASA NORTE 🡄 ◙◙◙◙◙◙◙◙◙◙◙◙◙◙◙◙◙◙◙◙◙◙◙◙◙◙◙◙◙◙◙◙◙◙◙◙◙◙◙◙◙◙◙◙◙◙◙◙◙◙◙◙◙◙◙◙◙◙◙◙◙◙◙◙◙◙◙◙◙◙◙◙◙◙◙◙ ⒶⓈⒶ ⓃⓄⓇⓉⒺ ◙◙◙◙◙◙◙◙◙◙",
         "x": 0.5,
         "y": 0.95,
         "yanchor": "bottom"
        },
        "width": 2060
       }
      }
     },
     "metadata": {},
     "output_type": "display_data"
    }
   ],
   "source": [
    "print_plot(df_hoje, lista_lojas, '03')"
   ]
  },
  {
   "cell_type": "code",
   "execution_count": 1248,
   "metadata": {},
   "outputs": [
    {
     "name": "stderr",
     "output_type": "stream",
     "text": [
      "C:\\Users\\admin\\AppData\\Local\\Temp\\ipykernel_9428\\3920923309.py:77: RuntimeWarning:\n",
      "\n",
      "divide by zero encountered in double_scalars\n",
      "\n"
     ]
    },
    {
     "data": {
      "application/vnd.plotly.v1+json": {
       "config": {
        "plotlyServerURL": "https://plot.ly"
       },
       "data": [
        {
         "cells": {
          "align": [
           "left",
           "center"
          ],
          "fill": {
           "color": [
            [
             "#FFFFFF",
             "#FFFFFF",
             "#FFFFFF",
             "#DEEFFF",
             "#DEEFFF",
             "#FFFFFF",
             "#F7F7F7",
             "#FFFFFF",
             "#FFFFFF",
             "#FFFFFF",
             "#DEEFFF",
             "#FFFFFF",
             "#FFFFFF",
             "#FFFFFF",
             "#FFFFFF",
             "#FFFFFF",
             "#FFFFFF",
             "#DEEFFF",
             "#FFFFFF",
             "#FFFFFF",
             "#FFFFFF",
             "#FFFFFF",
             "#FFFFFF",
             "#FFFFFF",
             "#DEEFFF",
             "#FFFFFF",
             "#FFFFFF",
             "#FFFFFF",
             "#FFFFFF",
             "#FFFFFF",
             "#FFFFFF",
             "#E5E5E5"
            ],
            [
             "#FFFFFF",
             "#FFFFFF",
             "#FFFFFF",
             "#DEEFFF",
             "#DEEFFF",
             "#FFFFFF",
             "#F7F7F7",
             "#FFFFFF",
             "#FFFFFF",
             "#FFFFFF",
             "#DEEFFF",
             "#FFFFFF",
             "#FFFFFF",
             "#FFFFFF",
             "#FFFFFF",
             "#FFFFFF",
             "#FFFFFF",
             "#DEEFFF",
             "#FFFFFF",
             "#FFFFFF",
             "#FFFFFF",
             "#FFFFFF",
             "#FFFFFF",
             "#FFFFFF",
             "#DEEFFF",
             "#FFFFFF",
             "#FFFFFF",
             "#FFFFFF",
             "#FFFFFF",
             "#FFFFFF",
             "#FFFFFF",
             "#E5E5E5"
            ],
            [
             "#F7F7F7",
             "#F7F7F7",
             "#F7F7F7",
             "#DEEFFF",
             "#DEEFFF",
             "#F7F7F7",
             "#F7F7F7",
             "#F7F7F7",
             "#F7F7F7",
             "#F7F7F7",
             "#DEEFFF",
             "#F7F7F7",
             "#F7F7F7",
             "#F7F7F7",
             "#F7F7F7",
             "#F7F7F7",
             "#F7F7F7",
             "#DEEFFF",
             "#F7F7F7",
             "#F7F7F7",
             "#F7F7F7",
             "#F7F7F7",
             "#F7F7F7",
             "#F7F7F7",
             "#DEEFFF",
             "#F7F7F7",
             "#F7F7F7",
             "#F7F7F7",
             "#F7F7F7",
             "#F7F7F7",
             "#F7F7F7",
             "#E5E5E5"
            ],
            [
             "#F7F7F7",
             "#F7F7F7",
             "#F7F7F7",
             "#DEEFFF",
             "#DEEFFF",
             "#F7F7F7",
             "#F7F7F7",
             "#F7F7F7",
             "#F7F7F7",
             "#F7F7F7",
             "#DEEFFF",
             "#F7F7F7",
             "#F7F7F7",
             "#F7F7F7",
             "#F7F7F7",
             "#F7F7F7",
             "#F7F7F7",
             "#DEEFFF",
             "#F7F7F7",
             "#F7F7F7",
             "#F7F7F7",
             "#F7F7F7",
             "#F7F7F7",
             "#F7F7F7",
             "#DEEFFF",
             "#F7F7F7",
             "#F7F7F7",
             "#F7F7F7",
             "#F7F7F7",
             "#F7F7F7",
             "#F7F7F7",
             "#E5E5E5"
            ],
            [
             "#FFFFFF",
             "#FFFFFF",
             "#FFFFFF",
             "#DEEFFF",
             "#DEEFFF",
             "#FFFFFF",
             "#F7F7F7",
             "#FFFFFF",
             "#FFFFFF",
             "#FFFFFF",
             "#DEEFFF",
             "#FFFFFF",
             "#FFFFFF",
             "#FFFFFF",
             "#FFFFFF",
             "#FFFFFF",
             "#FFFFFF",
             "#DEEFFF",
             "#FFFFFF",
             "#FFFFFF",
             "#FFFFFF",
             "#FFFFFF",
             "#FFFFFF",
             "#FFFFFF",
             "#DEEFFF",
             "#FFFFFF",
             "#FFFFFF",
             "#FFFFFF",
             "#FFFFFF",
             "#FFFFFF",
             "#FFFFFF",
             "#E5E5E5"
            ],
            [
             "#FFFFFF",
             "#FFFFFF",
             "#FFFFFF",
             "#DEEFFF",
             "#DEEFFF",
             "#FFFFFF",
             "#F7F7F7",
             "#FFFFFF",
             "#FFFFFF",
             "#FFFFFF",
             "#DEEFFF",
             "#FFFFFF",
             "#FFFFFF",
             "#FFFFFF",
             "#FFFFFF",
             "#FFFFFF",
             "#FFFFFF",
             "#DEEFFF",
             "#FFFFFF",
             "#FFFFFF",
             "#FFFFFF",
             "#FFFFFF",
             "#FFFFFF",
             "#FFFFFF",
             "#DEEFFF",
             "#FFFFFF",
             "#FFFFFF",
             "#FFFFFF",
             "#FFFFFF",
             "#FFFFFF",
             "#FFFFFF",
             "#E5E5E5"
            ],
            [
             "#F7F7F7",
             "#F7F7F7",
             "#F7F7F7",
             "#DEEFFF",
             "#DEEFFF",
             "#F7F7F7",
             "#F7F7F7",
             "#F7F7F7",
             "#F7F7F7",
             "#F7F7F7",
             "#DEEFFF",
             "#F7F7F7",
             "#F7F7F7",
             "#F7F7F7",
             "#F7F7F7",
             "#F7F7F7",
             "#F7F7F7",
             "#DEEFFF",
             "#F7F7F7",
             "#F7F7F7",
             "#F7F7F7",
             "#F7F7F7",
             "#F7F7F7",
             "#F7F7F7",
             "#DEEFFF",
             "#F7F7F7",
             "#F7F7F7",
             "#F7F7F7",
             "#F7F7F7",
             "#F7F7F7",
             "#F7F7F7",
             "#E5E5E5"
            ],
            [
             "#FFFFFF",
             "#FFFFFF",
             "#FFFFFF",
             "#DEEFFF",
             "#DEEFFF",
             "#FFFFFF",
             "#F7F7F7",
             "#FFFFFF",
             "#FFFFFF",
             "#FFFFFF",
             "#DEEFFF",
             "#FFFFFF",
             "#FFFFFF",
             "#FFFFFF",
             "#FFFFFF",
             "#FFFFFF",
             "#FFFFFF",
             "#DEEFFF",
             "#FFFFFF",
             "#FFFFFF",
             "#FFFFFF",
             "#FFFFFF",
             "#FFFFFF",
             "#FFFFFF",
             "#DEEFFF",
             "#FFFFFF",
             "#FFFFFF",
             "#FFFFFF",
             "#FFFFFF",
             "#FFFFFF",
             "#FFFFFF",
             "#E5E5E5"
            ],
            [
             "#FFFFFF",
             "#FFFFFF",
             "#FFFFFF",
             "#DEEFFF",
             "#DEEFFF",
             "#FFFFFF",
             "#F7F7F7",
             "#FFFFFF",
             "#FFFFFF",
             "#FFFFFF",
             "#DEEFFF",
             "#FFFFFF",
             "#FFFFFF",
             "#FFFFFF",
             "#FFFFFF",
             "#FFFFFF",
             "#FFFFFF",
             "#DEEFFF",
             "#FFFFFF",
             "#FFFFFF",
             "#FFFFFF",
             "#FFFFFF",
             "#FFFFFF",
             "#FFFFFF",
             "#DEEFFF",
             "#FFFFFF",
             "#FFFFFF",
             "#FFFFFF",
             "#FFFFFF",
             "#FFFFFF",
             "#FFFFFF",
             "#E5E5E5"
            ],
            [
             "#F7F7F7",
             "#F7F7F7",
             "#F7F7F7",
             "#DEEFFF",
             "#DEEFFF",
             "#F7F7F7",
             "#F7F7F7",
             "#F7F7F7",
             "#F7F7F7",
             "#F7F7F7",
             "#DEEFFF",
             "#F7F7F7",
             "#F7F7F7",
             "#F7F7F7",
             "#F7F7F7",
             "#F7F7F7",
             "#F7F7F7",
             "#DEEFFF",
             "#F7F7F7",
             "#F7F7F7",
             "#F7F7F7",
             "#F7F7F7",
             "#F7F7F7",
             "#F7F7F7",
             "#DEEFFF",
             "#F7F7F7",
             "#F7F7F7",
             "#F7F7F7",
             "#F7F7F7",
             "#F7F7F7",
             "#F7F7F7",
             "#E5E5E5"
            ],
            [
             "#FFFFFF",
             "#FFFFFF",
             "#FFFFFF",
             "#DEEFFF",
             "#DEEFFF",
             "#FFFFFF",
             "#F7F7F7",
             "#FFFFFF",
             "#FFFFFF",
             "#FFFFFF",
             "#DEEFFF",
             "#FFFFFF",
             "#FFFFFF",
             "#FFFFFF",
             "#FFFFFF",
             "#FFFFFF",
             "#FFFFFF",
             "#DEEFFF",
             "#FFFFFF",
             "#FFFFFF",
             "#FFFFFF",
             "#FFFFFF",
             "#FFFFFF",
             "#FFFFFF",
             "#DEEFFF",
             "#FFFFFF",
             "#FFFFFF",
             "#FFFFFF",
             "#FFFFFF",
             "#FFFFFF",
             "#FFFFFF",
             "#E5E5E5"
            ],
            [
             "#FFFFFF",
             "#FFFFFF",
             "#FFFFFF",
             "#DEEFFF",
             "#DEEFFF",
             "#FFFFFF",
             "#F7F7F7",
             "#FFFFFF",
             "#FFFFFF",
             "#FFFFFF",
             "#DEEFFF",
             "#FFFFFF",
             "#FFFFFF",
             "#FFFFFF",
             "#FFFFFF",
             "#FFFFFF",
             "#FFFFFF",
             "#DEEFFF",
             "#FFFFFF",
             "#FFFFFF",
             "#FFFFFF",
             "#FFFFFF",
             "#FFFFFF",
             "#FFFFFF",
             "#DEEFFF",
             "#FFFFFF",
             "#FFFFFF",
             "#FFFFFF",
             "#FFFFFF",
             "#FFFFFF",
             "#FFFFFF",
             "#E5E5E5"
            ],
            [
             "#FFFFFF",
             "#FFFFFF",
             "#FFFFFF",
             "#DEEFFF",
             "#DEEFFF",
             "#FFFFFF",
             "#F7F7F7",
             "#FFFFFF",
             "#FFFFFF",
             "#FFFFFF",
             "#DEEFFF",
             "#FFFFFF",
             "#FFFFFF",
             "#FFFFFF",
             "#FFFFFF",
             "#FFFFFF",
             "#FFFFFF",
             "#DEEFFF",
             "#FFFFFF",
             "#FFFFFF",
             "#FFFFFF",
             "#FFFFFF",
             "#FFFFFF",
             "#FFFFFF",
             "#DEEFFF",
             "#FFFFFF",
             "#FFFFFF",
             "#FFFFFF",
             "#FFFFFF",
             "#FFFFFF",
             "#FFFFFF",
             "#E5E5E5"
            ],
            [
             "#FFFFFF",
             "#FFFFFF",
             "#FFFFFF",
             "#DEEFFF",
             "#DEEFFF",
             "#FFFFFF",
             "#F7F7F7",
             "#FFFFFF",
             "#FFFFFF",
             "#FFFFFF",
             "#DEEFFF",
             "#FFFFFF",
             "#FFFFFF",
             "#FFFFFF",
             "#FFFFFF",
             "#FFFFFF",
             "#FFFFFF",
             "#DEEFFF",
             "#FFFFFF",
             "#FFFFFF",
             "#FFFFFF",
             "#FFFFFF",
             "#FFFFFF",
             "#FFFFFF",
             "#DEEFFF",
             "#FFFFFF",
             "#FFFFFF",
             "#FFFFFF",
             "#FFFFFF",
             "#FFFFFF",
             "#FFFFFF",
             "#E5E5E5"
            ],
            [
             "#FFFFFF",
             "#FFFFFF",
             "#FFFFFF",
             "#DEEFFF",
             "#DEEFFF",
             "#FFFFFF",
             "#F7F7F7",
             "#FFFFFF",
             "#FFFFFF",
             "#FFFFFF",
             "#DEEFFF",
             "#FFFFFF",
             "#FFFFFF",
             "#FFFFFF",
             "#FFFFFF",
             "#FFFFFF",
             "#FFFFFF",
             "#DEEFFF",
             "#FFFFFF",
             "#FFFFFF",
             "#FFFFFF",
             "#FFFFFF",
             "#FFFFFF",
             "#FFFFFF",
             "#DEEFFF",
             "#FFFFFF",
             "#FFFFFF",
             "#FFFFFF",
             "#FFFFFF",
             "#FFFFFF",
             "#FFFFFF",
             "#E5E5E5"
            ],
            [
             "#FFFFFF",
             "#FFFFFF",
             "#FFFFFF",
             "#DEEFFF",
             "#DEEFFF",
             "#FFFFFF",
             "#F7F7F7",
             "#FFFFFF",
             "#FFFFFF",
             "#FFFFFF",
             "#DEEFFF",
             "#FFFFFF",
             "#FFFFFF",
             "#FFFFFF",
             "#FFFFFF",
             "#FFFFFF",
             "#FFFFFF",
             "#DEEFFF",
             "#FFFFFF",
             "#FFFFFF",
             "#FFFFFF",
             "#FFFFFF",
             "#FFFFFF",
             "#FFFFFF",
             "#DEEFFF",
             "#FFFFFF",
             "#FFFFFF",
             "#FFFFFF",
             "#FFFFFF",
             "#FFFFFF",
             "#FFFFFF",
             "#E5E5E5"
            ],
            [
             "#FFFFFF",
             "#FFFFFF",
             "#FFFFFF",
             "#DEEFFF",
             "#DEEFFF",
             "#FFFFFF",
             "#F7F7F7",
             "#FFFFFF",
             "#FFFFFF",
             "#FFFFFF",
             "#DEEFFF",
             "#FFFFFF",
             "#FFFFFF",
             "#FFFFFF",
             "#FFFFFF",
             "#FFFFFF",
             "#FFFFFF",
             "#DEEFFF",
             "#FFFFFF",
             "#FFFFFF",
             "#FFFFFF",
             "#FFFFFF",
             "#FFFFFF",
             "#FFFFFF",
             "#DEEFFF",
             "#FFFFFF",
             "#FFFFFF",
             "#FFFFFF",
             "#FFFFFF",
             "#FFFFFF",
             "#FFFFFF",
             "#E5E5E5"
            ],
            [
             "#FFFFFF",
             "#FFFFFF",
             "#FFFFFF",
             "#DEEFFF",
             "#DEEFFF",
             "#FFFFFF",
             "#F7F7F7",
             "#FFFFFF",
             "#FFFFFF",
             "#FFFFFF",
             "#DEEFFF",
             "#FFFFFF",
             "#FFFFFF",
             "#FFFFFF",
             "#FFFFFF",
             "#FFFFFF",
             "#FFFFFF",
             "#DEEFFF",
             "#FFFFFF",
             "#FFFFFF",
             "#FFFFFF",
             "#FFFFFF",
             "#FFFFFF",
             "#FFFFFF",
             "#DEEFFF",
             "#FFFFFF",
             "#FFFFFF",
             "#FFFFFF",
             "#FFFFFF",
             "#FFFFFF",
             "#FFFFFF",
             "#E5E5E5"
            ],
            [
             "#FFFFFF",
             "#FFFFFF",
             "#FFFFFF",
             "#DEEFFF",
             "#DEEFFF",
             "#FFFFFF",
             "#F7F7F7",
             "#FFFFFF",
             "#FFFFFF",
             "#FFFFFF",
             "#DEEFFF",
             "#FFFFFF",
             "#FFFFFF",
             "#FFFFFF",
             "#FFFFFF",
             "#FFFFFF",
             "#FFFFFF",
             "#DEEFFF",
             "#FFFFFF",
             "#FFFFFF",
             "#FFFFFF",
             "#FFFFFF",
             "#FFFFFF",
             "#FFFFFF",
             "#DEEFFF",
             "#FFFFFF",
             "#FFFFFF",
             "#FFFFFF",
             "#FFFFFF",
             "#FFFFFF",
             "#FFFFFF",
             "#E5E5E5"
            ],
            [
             "#FFFFFF",
             "#FFFFFF",
             "#FFFFFF",
             "#DEEFFF",
             "#DEEFFF",
             "#FFFFFF",
             "#F7F7F7",
             "#FFFFFF",
             "#FFFFFF",
             "#FFFFFF",
             "#DEEFFF",
             "#FFFFFF",
             "#FFFFFF",
             "#FFFFFF",
             "#FFFFFF",
             "#FFFFFF",
             "#FFFFFF",
             "#DEEFFF",
             "#FFFFFF",
             "#FFFFFF",
             "#FFFFFF",
             "#FFFFFF",
             "#FFFFFF",
             "#FFFFFF",
             "#DEEFFF",
             "#FFFFFF",
             "#FFFFFF",
             "#FFFFFF",
             "#FFFFFF",
             "#FFFFFF",
             "#FFFFFF",
             "#E5E5E5"
            ],
            [
             "#FFFFFF",
             "#FFFFFF",
             "#FFFFFF",
             "#DEEFFF",
             "#DEEFFF",
             "#FFFFFF",
             "#F7F7F7",
             "#FFFFFF",
             "#FFFFFF",
             "#FFFFFF",
             "#DEEFFF",
             "#FFFFFF",
             "#FFFFFF",
             "#FFFFFF",
             "#FFFFFF",
             "#FFFFFF",
             "#FFFFFF",
             "#DEEFFF",
             "#FFFFFF",
             "#FFFFFF",
             "#FFFFFF",
             "#FFFFFF",
             "#FFFFFF",
             "#FFFFFF",
             "#DEEFFF",
             "#FFFFFF",
             "#FFFFFF",
             "#FFFFFF",
             "#FFFFFF",
             "#FFFFFF",
             "#FFFFFF",
             "#E5E5E5"
            ]
           ]
          },
          "font": {
           "color": [
            "#000000",
            "#000000",
            "#118DFF",
            "#000000",
            "#FF0000",
            "#FF0000",
            "#E04392",
            "#000000",
            "#FF0000",
            "#E04392",
            "#000000",
            "#FF0000",
            [
             "#FF0000",
             "#FF0000",
             "#00B050",
             "#DEEFFF",
             "#DEEFFF",
             "#00B050",
             "#00B050",
             "#FFFFFF",
             "#FFFFFF",
             "#FFFFFF",
             "#DEEFFF",
             "#FFFFFF",
             "#FFFFFF",
             "#FFFFFF",
             "#FFFFFF",
             "#FFFFFF",
             "#FFFFFF",
             "#DEEFFF",
             "#FFFFFF",
             "#FFFFFF",
             "#FFFFFF",
             "#FFFFFF",
             "#FFFFFF",
             "#FFFFFF",
             "#DEEFFF",
             "#FFFFFF",
             "#FFFFFF",
             "#FFFFFF",
             "#FFFFFF",
             "#FFFFFF",
             "#FFFFFF",
             "#E5E5E5"
            ],
            [
             "#FF0000",
             "#FF0000",
             "#FF0000",
             "#DEEFFF",
             "#DEEFFF",
             "#00B050",
             "#00B050",
             "#FFFFFF",
             "#FFFFFF",
             "#FFFFFF",
             "#DEEFFF",
             "#FFFFFF",
             "#FFFFFF",
             "#FFFFFF",
             "#FFFFFF",
             "#FFFFFF",
             "#FFFFFF",
             "#DEEFFF",
             "#FFFFFF",
             "#FFFFFF",
             "#FFFFFF",
             "#FFFFFF",
             "#FFFFFF",
             "#FFFFFF",
             "#DEEFFF",
             "#FFFFFF",
             "#FFFFFF",
             "#FFFFFF",
             "#FFFFFF",
             "#FFFFFF",
             "#FFFFFF",
             "#E5E5E5"
            ],
            [
             "#000000",
             "#000000",
             "#000000",
             "#DEEFFF",
             "#DEEFFF",
             "#000000",
             "#000000",
             "#FFFFFF",
             "#FFFFFF",
             "#FFFFFF",
             "#DEEFFF",
             "#FFFFFF",
             "#FFFFFF",
             "#FFFFFF",
             "#FFFFFF",
             "#FFFFFF",
             "#FFFFFF",
             "#DEEFFF",
             "#FFFFFF",
             "#FFFFFF",
             "#FFFFFF",
             "#FFFFFF",
             "#FFFFFF",
             "#FFFFFF",
             "#DEEFFF",
             "#FFFFFF",
             "#FFFFFF",
             "#FFFFFF",
             "#FFFFFF",
             "#FFFFFF",
             "#FFFFFF",
             "#118DFF"
            ]
           ]
          },
          "line": {
           "color": [
            [
             "#FFFFFF",
             "#FFFFFF",
             "#FFFFFF",
             "#DEEFFF",
             "#DEEFFF",
             "#FFFFFF",
             "#F7F7F7",
             "#FFFFFF",
             "#FFFFFF",
             "#FFFFFF",
             "#DEEFFF",
             "#FFFFFF",
             "#FFFFFF",
             "#FFFFFF",
             "#FFFFFF",
             "#FFFFFF",
             "#FFFFFF",
             "#DEEFFF",
             "#FFFFFF",
             "#FFFFFF",
             "#FFFFFF",
             "#FFFFFF",
             "#FFFFFF",
             "#FFFFFF",
             "#DEEFFF",
             "#FFFFFF",
             "#FFFFFF",
             "#FFFFFF",
             "#FFFFFF",
             "#FFFFFF",
             "#FFFFFF",
             "#E5E5E5"
            ],
            [
             "#FFFFFF",
             "#FFFFFF",
             "#FFFFFF",
             "#DEEFFF",
             "#DEEFFF",
             "#FFFFFF",
             "#F7F7F7",
             "#FFFFFF",
             "#FFFFFF",
             "#FFFFFF",
             "#DEEFFF",
             "#FFFFFF",
             "#FFFFFF",
             "#FFFFFF",
             "#FFFFFF",
             "#FFFFFF",
             "#FFFFFF",
             "#DEEFFF",
             "#FFFFFF",
             "#FFFFFF",
             "#FFFFFF",
             "#FFFFFF",
             "#FFFFFF",
             "#FFFFFF",
             "#DEEFFF",
             "#FFFFFF",
             "#FFFFFF",
             "#FFFFFF",
             "#FFFFFF",
             "#FFFFFF",
             "#FFFFFF",
             "#E5E5E5"
            ],
            [
             "#F7F7F7",
             "#F7F7F7",
             "#F7F7F7",
             "#DEEFFF",
             "#DEEFFF",
             "#F7F7F7",
             "#F7F7F7",
             "#F7F7F7",
             "#F7F7F7",
             "#F7F7F7",
             "#DEEFFF",
             "#F7F7F7",
             "#F7F7F7",
             "#F7F7F7",
             "#F7F7F7",
             "#F7F7F7",
             "#F7F7F7",
             "#DEEFFF",
             "#F7F7F7",
             "#F7F7F7",
             "#F7F7F7",
             "#F7F7F7",
             "#F7F7F7",
             "#F7F7F7",
             "#DEEFFF",
             "#F7F7F7",
             "#F7F7F7",
             "#F7F7F7",
             "#F7F7F7",
             "#F7F7F7",
             "#F7F7F7",
             "#E5E5E5"
            ],
            [
             "#F7F7F7",
             "#F7F7F7",
             "#F7F7F7",
             "#DEEFFF",
             "#DEEFFF",
             "#F7F7F7",
             "#F7F7F7",
             "#F7F7F7",
             "#F7F7F7",
             "#F7F7F7",
             "#DEEFFF",
             "#F7F7F7",
             "#F7F7F7",
             "#F7F7F7",
             "#F7F7F7",
             "#F7F7F7",
             "#F7F7F7",
             "#DEEFFF",
             "#F7F7F7",
             "#F7F7F7",
             "#F7F7F7",
             "#F7F7F7",
             "#F7F7F7",
             "#F7F7F7",
             "#DEEFFF",
             "#F7F7F7",
             "#F7F7F7",
             "#F7F7F7",
             "#F7F7F7",
             "#F7F7F7",
             "#F7F7F7",
             "#E5E5E5"
            ],
            [
             "#FFFFFF",
             "#FFFFFF",
             "#FFFFFF",
             "#DEEFFF",
             "#DEEFFF",
             "#FFFFFF",
             "#F7F7F7",
             "#FFFFFF",
             "#FFFFFF",
             "#FFFFFF",
             "#DEEFFF",
             "#FFFFFF",
             "#FFFFFF",
             "#FFFFFF",
             "#FFFFFF",
             "#FFFFFF",
             "#FFFFFF",
             "#DEEFFF",
             "#FFFFFF",
             "#FFFFFF",
             "#FFFFFF",
             "#FFFFFF",
             "#FFFFFF",
             "#FFFFFF",
             "#DEEFFF",
             "#FFFFFF",
             "#FFFFFF",
             "#FFFFFF",
             "#FFFFFF",
             "#FFFFFF",
             "#FFFFFF",
             "#E5E5E5"
            ],
            [
             "#FFFFFF",
             "#FFFFFF",
             "#FFFFFF",
             "#DEEFFF",
             "#DEEFFF",
             "#FFFFFF",
             "#F7F7F7",
             "#FFFFFF",
             "#FFFFFF",
             "#FFFFFF",
             "#DEEFFF",
             "#FFFFFF",
             "#FFFFFF",
             "#FFFFFF",
             "#FFFFFF",
             "#FFFFFF",
             "#FFFFFF",
             "#DEEFFF",
             "#FFFFFF",
             "#FFFFFF",
             "#FFFFFF",
             "#FFFFFF",
             "#FFFFFF",
             "#FFFFFF",
             "#DEEFFF",
             "#FFFFFF",
             "#FFFFFF",
             "#FFFFFF",
             "#FFFFFF",
             "#FFFFFF",
             "#FFFFFF",
             "#E5E5E5"
            ],
            [
             "#F7F7F7",
             "#F7F7F7",
             "#F7F7F7",
             "#DEEFFF",
             "#DEEFFF",
             "#F7F7F7",
             "#F7F7F7",
             "#F7F7F7",
             "#F7F7F7",
             "#F7F7F7",
             "#DEEFFF",
             "#F7F7F7",
             "#F7F7F7",
             "#F7F7F7",
             "#F7F7F7",
             "#F7F7F7",
             "#F7F7F7",
             "#DEEFFF",
             "#F7F7F7",
             "#F7F7F7",
             "#F7F7F7",
             "#F7F7F7",
             "#F7F7F7",
             "#F7F7F7",
             "#DEEFFF",
             "#F7F7F7",
             "#F7F7F7",
             "#F7F7F7",
             "#F7F7F7",
             "#F7F7F7",
             "#F7F7F7",
             "#E5E5E5"
            ],
            [
             "#FFFFFF",
             "#FFFFFF",
             "#FFFFFF",
             "#DEEFFF",
             "#DEEFFF",
             "#FFFFFF",
             "#F7F7F7",
             "#FFFFFF",
             "#FFFFFF",
             "#FFFFFF",
             "#DEEFFF",
             "#FFFFFF",
             "#FFFFFF",
             "#FFFFFF",
             "#FFFFFF",
             "#FFFFFF",
             "#FFFFFF",
             "#DEEFFF",
             "#FFFFFF",
             "#FFFFFF",
             "#FFFFFF",
             "#FFFFFF",
             "#FFFFFF",
             "#FFFFFF",
             "#DEEFFF",
             "#FFFFFF",
             "#FFFFFF",
             "#FFFFFF",
             "#FFFFFF",
             "#FFFFFF",
             "#FFFFFF",
             "#E5E5E5"
            ],
            [
             "#FFFFFF",
             "#FFFFFF",
             "#FFFFFF",
             "#DEEFFF",
             "#DEEFFF",
             "#FFFFFF",
             "#F7F7F7",
             "#FFFFFF",
             "#FFFFFF",
             "#FFFFFF",
             "#DEEFFF",
             "#FFFFFF",
             "#FFFFFF",
             "#FFFFFF",
             "#FFFFFF",
             "#FFFFFF",
             "#FFFFFF",
             "#DEEFFF",
             "#FFFFFF",
             "#FFFFFF",
             "#FFFFFF",
             "#FFFFFF",
             "#FFFFFF",
             "#FFFFFF",
             "#DEEFFF",
             "#FFFFFF",
             "#FFFFFF",
             "#FFFFFF",
             "#FFFFFF",
             "#FFFFFF",
             "#FFFFFF",
             "#E5E5E5"
            ],
            [
             "#F7F7F7",
             "#F7F7F7",
             "#F7F7F7",
             "#DEEFFF",
             "#DEEFFF",
             "#F7F7F7",
             "#F7F7F7",
             "#F7F7F7",
             "#F7F7F7",
             "#F7F7F7",
             "#DEEFFF",
             "#F7F7F7",
             "#F7F7F7",
             "#F7F7F7",
             "#F7F7F7",
             "#F7F7F7",
             "#F7F7F7",
             "#DEEFFF",
             "#F7F7F7",
             "#F7F7F7",
             "#F7F7F7",
             "#F7F7F7",
             "#F7F7F7",
             "#F7F7F7",
             "#DEEFFF",
             "#F7F7F7",
             "#F7F7F7",
             "#F7F7F7",
             "#F7F7F7",
             "#F7F7F7",
             "#F7F7F7",
             "#E5E5E5"
            ],
            [
             "#FFFFFF",
             "#FFFFFF",
             "#FFFFFF",
             "#DEEFFF",
             "#DEEFFF",
             "#FFFFFF",
             "#F7F7F7",
             "#FFFFFF",
             "#FFFFFF",
             "#FFFFFF",
             "#DEEFFF",
             "#FFFFFF",
             "#FFFFFF",
             "#FFFFFF",
             "#FFFFFF",
             "#FFFFFF",
             "#FFFFFF",
             "#DEEFFF",
             "#FFFFFF",
             "#FFFFFF",
             "#FFFFFF",
             "#FFFFFF",
             "#FFFFFF",
             "#FFFFFF",
             "#DEEFFF",
             "#FFFFFF",
             "#FFFFFF",
             "#FFFFFF",
             "#FFFFFF",
             "#FFFFFF",
             "#FFFFFF",
             "#E5E5E5"
            ],
            [
             "#FFFFFF",
             "#FFFFFF",
             "#FFFFFF",
             "#DEEFFF",
             "#DEEFFF",
             "#FFFFFF",
             "#F7F7F7",
             "#FFFFFF",
             "#FFFFFF",
             "#FFFFFF",
             "#DEEFFF",
             "#FFFFFF",
             "#FFFFFF",
             "#FFFFFF",
             "#FFFFFF",
             "#FFFFFF",
             "#FFFFFF",
             "#DEEFFF",
             "#FFFFFF",
             "#FFFFFF",
             "#FFFFFF",
             "#FFFFFF",
             "#FFFFFF",
             "#FFFFFF",
             "#DEEFFF",
             "#FFFFFF",
             "#FFFFFF",
             "#FFFFFF",
             "#FFFFFF",
             "#FFFFFF",
             "#FFFFFF",
             "#E5E5E5"
            ],
            [
             "#FFFFFF",
             "#FFFFFF",
             "#FFFFFF",
             "#DEEFFF",
             "#DEEFFF",
             "#FFFFFF",
             "#F7F7F7",
             "#FFFFFF",
             "#FFFFFF",
             "#FFFFFF",
             "#DEEFFF",
             "#FFFFFF",
             "#FFFFFF",
             "#FFFFFF",
             "#FFFFFF",
             "#FFFFFF",
             "#FFFFFF",
             "#DEEFFF",
             "#FFFFFF",
             "#FFFFFF",
             "#FFFFFF",
             "#FFFFFF",
             "#FFFFFF",
             "#FFFFFF",
             "#DEEFFF",
             "#FFFFFF",
             "#FFFFFF",
             "#FFFFFF",
             "#FFFFFF",
             "#FFFFFF",
             "#FFFFFF",
             "#E5E5E5"
            ],
            [
             "#FFFFFF",
             "#FFFFFF",
             "#FFFFFF",
             "#DEEFFF",
             "#DEEFFF",
             "#FFFFFF",
             "#F7F7F7",
             "#FFFFFF",
             "#FFFFFF",
             "#FFFFFF",
             "#DEEFFF",
             "#FFFFFF",
             "#FFFFFF",
             "#FFFFFF",
             "#FFFFFF",
             "#FFFFFF",
             "#FFFFFF",
             "#DEEFFF",
             "#FFFFFF",
             "#FFFFFF",
             "#FFFFFF",
             "#FFFFFF",
             "#FFFFFF",
             "#FFFFFF",
             "#DEEFFF",
             "#FFFFFF",
             "#FFFFFF",
             "#FFFFFF",
             "#FFFFFF",
             "#FFFFFF",
             "#FFFFFF",
             "#E5E5E5"
            ],
            [
             "#FFFFFF",
             "#FFFFFF",
             "#FFFFFF",
             "#DEEFFF",
             "#DEEFFF",
             "#FFFFFF",
             "#F7F7F7",
             "#FFFFFF",
             "#FFFFFF",
             "#FFFFFF",
             "#DEEFFF",
             "#FFFFFF",
             "#FFFFFF",
             "#FFFFFF",
             "#FFFFFF",
             "#FFFFFF",
             "#FFFFFF",
             "#DEEFFF",
             "#FFFFFF",
             "#FFFFFF",
             "#FFFFFF",
             "#FFFFFF",
             "#FFFFFF",
             "#FFFFFF",
             "#DEEFFF",
             "#FFFFFF",
             "#FFFFFF",
             "#FFFFFF",
             "#FFFFFF",
             "#FFFFFF",
             "#FFFFFF",
             "#E5E5E5"
            ],
            [
             "#FFFFFF",
             "#FFFFFF",
             "#FFFFFF",
             "#DEEFFF",
             "#DEEFFF",
             "#FFFFFF",
             "#F7F7F7",
             "#FFFFFF",
             "#FFFFFF",
             "#FFFFFF",
             "#DEEFFF",
             "#FFFFFF",
             "#FFFFFF",
             "#FFFFFF",
             "#FFFFFF",
             "#FFFFFF",
             "#FFFFFF",
             "#DEEFFF",
             "#FFFFFF",
             "#FFFFFF",
             "#FFFFFF",
             "#FFFFFF",
             "#FFFFFF",
             "#FFFFFF",
             "#DEEFFF",
             "#FFFFFF",
             "#FFFFFF",
             "#FFFFFF",
             "#FFFFFF",
             "#FFFFFF",
             "#FFFFFF",
             "#E5E5E5"
            ],
            [
             "#FFFFFF",
             "#FFFFFF",
             "#FFFFFF",
             "#DEEFFF",
             "#DEEFFF",
             "#FFFFFF",
             "#F7F7F7",
             "#FFFFFF",
             "#FFFFFF",
             "#FFFFFF",
             "#DEEFFF",
             "#FFFFFF",
             "#FFFFFF",
             "#FFFFFF",
             "#FFFFFF",
             "#FFFFFF",
             "#FFFFFF",
             "#DEEFFF",
             "#FFFFFF",
             "#FFFFFF",
             "#FFFFFF",
             "#FFFFFF",
             "#FFFFFF",
             "#FFFFFF",
             "#DEEFFF",
             "#FFFFFF",
             "#FFFFFF",
             "#FFFFFF",
             "#FFFFFF",
             "#FFFFFF",
             "#FFFFFF",
             "#E5E5E5"
            ],
            [
             "#FFFFFF",
             "#FFFFFF",
             "#FFFFFF",
             "#DEEFFF",
             "#DEEFFF",
             "#FFFFFF",
             "#F7F7F7",
             "#FFFFFF",
             "#FFFFFF",
             "#FFFFFF",
             "#DEEFFF",
             "#FFFFFF",
             "#FFFFFF",
             "#FFFFFF",
             "#FFFFFF",
             "#FFFFFF",
             "#FFFFFF",
             "#DEEFFF",
             "#FFFFFF",
             "#FFFFFF",
             "#FFFFFF",
             "#FFFFFF",
             "#FFFFFF",
             "#FFFFFF",
             "#DEEFFF",
             "#FFFFFF",
             "#FFFFFF",
             "#FFFFFF",
             "#FFFFFF",
             "#FFFFFF",
             "#FFFFFF",
             "#E5E5E5"
            ],
            [
             "#FFFFFF",
             "#FFFFFF",
             "#FFFFFF",
             "#DEEFFF",
             "#DEEFFF",
             "#FFFFFF",
             "#F7F7F7",
             "#FFFFFF",
             "#FFFFFF",
             "#FFFFFF",
             "#DEEFFF",
             "#FFFFFF",
             "#FFFFFF",
             "#FFFFFF",
             "#FFFFFF",
             "#FFFFFF",
             "#FFFFFF",
             "#DEEFFF",
             "#FFFFFF",
             "#FFFFFF",
             "#FFFFFF",
             "#FFFFFF",
             "#FFFFFF",
             "#FFFFFF",
             "#DEEFFF",
             "#FFFFFF",
             "#FFFFFF",
             "#FFFFFF",
             "#FFFFFF",
             "#FFFFFF",
             "#FFFFFF",
             "#E5E5E5"
            ],
            [
             "#FFFFFF",
             "#FFFFFF",
             "#FFFFFF",
             "#DEEFFF",
             "#DEEFFF",
             "#FFFFFF",
             "#F7F7F7",
             "#FFFFFF",
             "#FFFFFF",
             "#FFFFFF",
             "#DEEFFF",
             "#FFFFFF",
             "#FFFFFF",
             "#FFFFFF",
             "#FFFFFF",
             "#FFFFFF",
             "#FFFFFF",
             "#DEEFFF",
             "#FFFFFF",
             "#FFFFFF",
             "#FFFFFF",
             "#FFFFFF",
             "#FFFFFF",
             "#FFFFFF",
             "#DEEFFF",
             "#FFFFFF",
             "#FFFFFF",
             "#FFFFFF",
             "#FFFFFF",
             "#FFFFFF",
             "#FFFFFF",
             "#E5E5E5"
            ],
            [
             "#FFFFFF",
             "#FFFFFF",
             "#FFFFFF",
             "#DEEFFF",
             "#DEEFFF",
             "#FFFFFF",
             "#F7F7F7",
             "#FFFFFF",
             "#FFFFFF",
             "#FFFFFF",
             "#DEEFFF",
             "#FFFFFF",
             "#FFFFFF",
             "#FFFFFF",
             "#FFFFFF",
             "#FFFFFF",
             "#FFFFFF",
             "#DEEFFF",
             "#FFFFFF",
             "#FFFFFF",
             "#FFFFFF",
             "#FFFFFF",
             "#FFFFFF",
             "#FFFFFF",
             "#DEEFFF",
             "#FFFFFF",
             "#FFFFFF",
             "#FFFFFF",
             "#FFFFFF",
             "#FFFFFF",
             "#FFFFFF",
             "#E5E5E5"
            ]
           ]
          },
          "values": [
           [
            "01/12/2022, Quinta-feira",
            "02/12/2022, Sexta-feira",
            "03/12/2022, Sábado",
            "04/12/2022, Domingo",
            "05/12/2022, Segunda-feira",
            "06/12/2022, Terça-feira",
            "07/12/2022, Quarta-feira",
            "08/12/2022, Quinta-feira",
            "09/12/2022, Sexta-feira",
            "10/12/2022, Sábado",
            "11/12/2022, Domingo",
            "12/12/2022, Segunda-feira",
            "13/12/2022, Terça-feira",
            "14/12/2022, Quarta-feira",
            "15/12/2022, Quinta-feira",
            "16/12/2022, Sexta-feira",
            "17/12/2022, Sábado",
            "18/12/2022, Domingo",
            "19/12/2022, Segunda-feira",
            "20/12/2022, Terça-feira",
            "21/12/2022, Quarta-feira",
            "22/12/2022, Quinta-feira",
            "23/12/2022, Sexta-feira",
            "24/12/2022, Sábado",
            "25/12/2022, Domingo",
            "26/12/2022, Segunda-feira",
            "27/12/2022, Terça-feira",
            "28/12/2022, Quarta-feira",
            "29/12/2022, Quinta-feira",
            "30/12/2022, Sexta-feira",
            "31/12/2022, Sábado",
            "Total"
           ],
           [
            "R$ 571.428,57",
            "R$ 571.428,57",
            "R$ 210.000,00",
            "",
            "",
            "R$ 571.428,57",
            "R$ 571.428,57",
            "R$ 571.428,57",
            "R$ 571.428,57",
            "R$ 210.000,00",
            "",
            "R$ 571.428,57",
            "R$ 571.428,57",
            "R$ 571.428,57",
            "R$ 571.428,57",
            "R$ 571.428,57",
            "R$ 210.000,00",
            "",
            "R$ 571.428,57",
            "R$ 571.428,57",
            "R$ 571.428,57",
            "R$ 571.428,57",
            "R$ 571.428,57",
            "R$ 210.000,00",
            "",
            "R$ 571.428,57",
            "R$ 571.428,57",
            "R$ 571.428,57",
            "R$ 571.428,57",
            "R$ 571.428,57",
            "R$ 210.000,00",
            "R$ 13.050.000,00"
           ],
           [
            "R$ 511.753,16",
            "R$ 296.270,57",
            "R$ 243.044,95",
            "",
            "R$ 379.278,45",
            "R$ 682.793,43",
            "R$ 639.847,14",
            "",
            "",
            "",
            "",
            "",
            "",
            "",
            "",
            "",
            "",
            "",
            "",
            "",
            "",
            "",
            "",
            "",
            "",
            "",
            "",
            "",
            "",
            "",
            "",
            "R$ 2.752.987,70"
           ],
           [
            "R$ 481.759,84",
            "R$ 278.977,84",
            "R$ 232.231,95",
            "",
            "R$ 351.292,56",
            "R$ 656.348,47",
            "R$ 614.335,02",
            "",
            "",
            "",
            "",
            "",
            "",
            "",
            "",
            "",
            "",
            "",
            "",
            "",
            "",
            "",
            "",
            "",
            "",
            "",
            "",
            "",
            "",
            "",
            "",
            "R$ 2.614.945,68"
           ],
           [
            "R$ 29.993,32",
            "R$ 17.292,73",
            "R$ 10.813,00",
            "",
            "R$ 27.985,89",
            "R$ 26.444,96",
            "R$ 25.512,12",
            "",
            "",
            "",
            "",
            "",
            "",
            "",
            "",
            "",
            "",
            "",
            "",
            "",
            "",
            "",
            "",
            "",
            "",
            "",
            "",
            "",
            "",
            "",
            "",
            "R$ 138.042,02"
           ],
           [
            "5,86%",
            "5,84%",
            "4,45%",
            "",
            "7,38%",
            "3,87%",
            "3,99%",
            "",
            "",
            "",
            "",
            "",
            "",
            "",
            "",
            "",
            "",
            "",
            "",
            "",
            "",
            "",
            "",
            "",
            "",
            "",
            "",
            "",
            "",
            "",
            "",
            "5,01%"
           ],
           [
            "R$ 447.862,54",
            "R$ 252.522,61",
            "R$ 211.238,95",
            "",
            "R$ 334.499,22",
            "R$ 609.054,27",
            "R$ 571.288,01",
            "",
            "",
            "",
            "",
            "",
            "",
            "",
            "",
            "",
            "",
            "",
            "",
            "",
            "",
            "",
            "",
            "",
            "",
            "",
            "",
            "",
            "",
            "",
            "",
            "R$ 2.426.465,60"
           ],
           [
            "1.174",
            "745",
            "633",
            "",
            "861",
            "1.291",
            "1.304",
            "",
            "",
            "",
            "",
            "",
            "",
            "",
            "",
            "",
            "",
            "",
            "",
            "",
            "",
            "",
            "",
            "",
            "",
            "",
            "",
            "",
            "",
            "",
            "",
            "2.611"
           ],
           [
            "5,87%",
            "6,71%",
            "4,88%",
            "",
            "4,95%",
            "3,92%",
            "4,04%",
            "",
            "",
            "",
            "",
            "",
            "",
            "",
            "",
            "",
            "",
            "",
            "",
            "",
            "",
            "",
            "",
            "",
            "",
            "",
            "",
            "",
            "",
            "",
            "",
            "4,82%"
           ],
           [
            "R$ 33.897,30",
            "R$ 26.455,23",
            "R$ 20.993,00",
            "",
            "R$ 16.793,34",
            "R$ 47.294,20",
            "R$ 43.047,01",
            "",
            "",
            "",
            "",
            "",
            "",
            "",
            "",
            "",
            "",
            "",
            "",
            "",
            "",
            "",
            "",
            "",
            "",
            "",
            "",
            "",
            "",
            "",
            "",
            "R$ 188.480,08"
           ],
           [
            "119",
            "88",
            "107",
            "",
            "84",
            "159",
            "164",
            "",
            "",
            "",
            "",
            "",
            "",
            "",
            "",
            "",
            "",
            "",
            "",
            "",
            "",
            "",
            "",
            "",
            "",
            "",
            "",
            "",
            "",
            "",
            "",
            "721"
           ],
           [
            "10,93%",
            "1,30%",
            "2,38%",
            "",
            "67,98%",
            "5,49%",
            "5,60%",
            "",
            "",
            "",
            "",
            "",
            "",
            "",
            "",
            "",
            "",
            "",
            "",
            "",
            "",
            "",
            "",
            "",
            "",
            "",
            "",
            "",
            "",
            "",
            "",
            "11,13%"
           ],
           [
            "84,31%",
            "48,82%",
            "110,59%",
            "",
            "",
            "114,86%",
            "107,51%",
            "",
            "",
            "",
            "",
            "",
            "",
            "",
            "",
            "",
            "",
            "",
            "",
            "",
            "",
            "",
            "",
            "",
            "",
            "",
            "",
            "",
            "",
            "",
            "",
            "20,04%"
           ],
           [
            "84,31%",
            "66,56%",
            "73,40%",
            "73,40%",
            "99,36%",
            "103,97%",
            "104,78%",
            "85,26%",
            "71,87%",
            "67,95%",
            "67,95%",
            "59,16%",
            "52,39%",
            "47,01%",
            "42,63%",
            "39,00%",
            "37,81%",
            "37,81%",
            "34,93%",
            "32,45%",
            "30,30%",
            "28,42%",
            "26,76%",
            "26,19%",
            "26,19%",
            "24,78%",
            "23,50%",
            "22,36%",
            "21,31%",
            "20,37%",
            "20,04%",
            "20,04%"
           ],
           [
            "R$ 11.002.190,35",
            "R$ 8.686.673,38",
            "R$ 9.578.434,60",
            "R$ 9.578.434,60",
            "R$ 12.967.090,92",
            "R$ 13.567.615,72",
            "R$ 13.673.456,66",
            "R$ 11.126.003,16",
            "R$ 9.378.692,10",
            "R$ 8.866.937,19",
            "R$ 8.866.937,19",
            "R$ 7.720.597,54",
            "R$ 6.836.728,33",
            "R$ 6.134.444,99",
            "R$ 5.563.001,58",
            "R$ 5.088.949,46",
            "R$ 4.934.420,32",
            "R$ 4.934.420,32",
            "R$ 4.557.818,89",
            "R$ 4.234.626,62",
            "R$ 3.954.234,20",
            "R$ 3.708.667,72",
            "R$ 3.491.818,27",
            "R$ 3.418.364,17",
            "R$ 3.418.364,17",
            "R$ 3.233.287,60",
            "R$ 3.067.222,49",
            "R$ 2.917.382,61",
            "R$ 2.781.500,79",
            "R$ 2.657.713,48",
            "R$ 2.614.945,68",
            ""
           ]
          ]
         },
         "columnwidth": [
          10.300925925925926,
          6.592592592592593,
          6.592592592592593,
          6.592592592592593,
          6.592592592592593,
          4.12037037037037,
          6.592592592592593,
          5.356481481481481,
          4.944444444444445,
          6.592592592592593,
          4.944444444444445,
          4.12037037037037,
          2.8842592592592595,
          2.8842592592592595,
          6.592592592592593
         ],
         "domain": {
          "y": [
           0,
           1
          ]
         },
         "header": {
          "align": [
           "center"
          ],
          "fill": {
           "color": "#E5E5E5"
          },
          "font": {
           "color": [
            "#000000",
            "#000000",
            "#118DFF",
            "#000000",
            "#FF0000",
            "#FF0000",
            "#E04392",
            "#000000",
            "#FF0000",
            "#E04392",
            "#000000",
            "#FF0000",
            "#000000",
            "#000000",
            "#000000"
           ]
          },
          "line": {
           "color": "#E5E5E5"
          },
          "values": [
           "Data",
           "Meta",
           "Venda\nSIAC",
           "Venda\nLíquida",
           "Devolução",
           "%\nDev",
           "Venda\nCNPJ",
           "Clientes\nCNPJ",
           "% Dev\nCNPJ",
           "Venda\nCPF",
           "Clientes\nCPF",
           "% Dev\nCPF",
           "%\nDia",
           "%\nMês",
           "Projeção\nmensal"
          ]
         },
         "type": "table"
        }
       ],
       "layout": {
        "height": 890,
        "template": {
         "data": {
          "bar": [
           {
            "error_x": {
             "color": "#2a3f5f"
            },
            "error_y": {
             "color": "#2a3f5f"
            },
            "marker": {
             "line": {
              "color": "#E5ECF6",
              "width": 0.5
             },
             "pattern": {
              "fillmode": "overlay",
              "size": 10,
              "solidity": 0.2
             }
            },
            "type": "bar"
           }
          ],
          "barpolar": [
           {
            "marker": {
             "line": {
              "color": "#E5ECF6",
              "width": 0.5
             },
             "pattern": {
              "fillmode": "overlay",
              "size": 10,
              "solidity": 0.2
             }
            },
            "type": "barpolar"
           }
          ],
          "carpet": [
           {
            "aaxis": {
             "endlinecolor": "#2a3f5f",
             "gridcolor": "white",
             "linecolor": "white",
             "minorgridcolor": "white",
             "startlinecolor": "#2a3f5f"
            },
            "baxis": {
             "endlinecolor": "#2a3f5f",
             "gridcolor": "white",
             "linecolor": "white",
             "minorgridcolor": "white",
             "startlinecolor": "#2a3f5f"
            },
            "type": "carpet"
           }
          ],
          "choropleth": [
           {
            "colorbar": {
             "outlinewidth": 0,
             "ticks": ""
            },
            "type": "choropleth"
           }
          ],
          "contour": [
           {
            "colorbar": {
             "outlinewidth": 0,
             "ticks": ""
            },
            "colorscale": [
             [
              0,
              "#0d0887"
             ],
             [
              0.1111111111111111,
              "#46039f"
             ],
             [
              0.2222222222222222,
              "#7201a8"
             ],
             [
              0.3333333333333333,
              "#9c179e"
             ],
             [
              0.4444444444444444,
              "#bd3786"
             ],
             [
              0.5555555555555556,
              "#d8576b"
             ],
             [
              0.6666666666666666,
              "#ed7953"
             ],
             [
              0.7777777777777778,
              "#fb9f3a"
             ],
             [
              0.8888888888888888,
              "#fdca26"
             ],
             [
              1,
              "#f0f921"
             ]
            ],
            "type": "contour"
           }
          ],
          "contourcarpet": [
           {
            "colorbar": {
             "outlinewidth": 0,
             "ticks": ""
            },
            "type": "contourcarpet"
           }
          ],
          "heatmap": [
           {
            "colorbar": {
             "outlinewidth": 0,
             "ticks": ""
            },
            "colorscale": [
             [
              0,
              "#0d0887"
             ],
             [
              0.1111111111111111,
              "#46039f"
             ],
             [
              0.2222222222222222,
              "#7201a8"
             ],
             [
              0.3333333333333333,
              "#9c179e"
             ],
             [
              0.4444444444444444,
              "#bd3786"
             ],
             [
              0.5555555555555556,
              "#d8576b"
             ],
             [
              0.6666666666666666,
              "#ed7953"
             ],
             [
              0.7777777777777778,
              "#fb9f3a"
             ],
             [
              0.8888888888888888,
              "#fdca26"
             ],
             [
              1,
              "#f0f921"
             ]
            ],
            "type": "heatmap"
           }
          ],
          "heatmapgl": [
           {
            "colorbar": {
             "outlinewidth": 0,
             "ticks": ""
            },
            "colorscale": [
             [
              0,
              "#0d0887"
             ],
             [
              0.1111111111111111,
              "#46039f"
             ],
             [
              0.2222222222222222,
              "#7201a8"
             ],
             [
              0.3333333333333333,
              "#9c179e"
             ],
             [
              0.4444444444444444,
              "#bd3786"
             ],
             [
              0.5555555555555556,
              "#d8576b"
             ],
             [
              0.6666666666666666,
              "#ed7953"
             ],
             [
              0.7777777777777778,
              "#fb9f3a"
             ],
             [
              0.8888888888888888,
              "#fdca26"
             ],
             [
              1,
              "#f0f921"
             ]
            ],
            "type": "heatmapgl"
           }
          ],
          "histogram": [
           {
            "marker": {
             "pattern": {
              "fillmode": "overlay",
              "size": 10,
              "solidity": 0.2
             }
            },
            "type": "histogram"
           }
          ],
          "histogram2d": [
           {
            "colorbar": {
             "outlinewidth": 0,
             "ticks": ""
            },
            "colorscale": [
             [
              0,
              "#0d0887"
             ],
             [
              0.1111111111111111,
              "#46039f"
             ],
             [
              0.2222222222222222,
              "#7201a8"
             ],
             [
              0.3333333333333333,
              "#9c179e"
             ],
             [
              0.4444444444444444,
              "#bd3786"
             ],
             [
              0.5555555555555556,
              "#d8576b"
             ],
             [
              0.6666666666666666,
              "#ed7953"
             ],
             [
              0.7777777777777778,
              "#fb9f3a"
             ],
             [
              0.8888888888888888,
              "#fdca26"
             ],
             [
              1,
              "#f0f921"
             ]
            ],
            "type": "histogram2d"
           }
          ],
          "histogram2dcontour": [
           {
            "colorbar": {
             "outlinewidth": 0,
             "ticks": ""
            },
            "colorscale": [
             [
              0,
              "#0d0887"
             ],
             [
              0.1111111111111111,
              "#46039f"
             ],
             [
              0.2222222222222222,
              "#7201a8"
             ],
             [
              0.3333333333333333,
              "#9c179e"
             ],
             [
              0.4444444444444444,
              "#bd3786"
             ],
             [
              0.5555555555555556,
              "#d8576b"
             ],
             [
              0.6666666666666666,
              "#ed7953"
             ],
             [
              0.7777777777777778,
              "#fb9f3a"
             ],
             [
              0.8888888888888888,
              "#fdca26"
             ],
             [
              1,
              "#f0f921"
             ]
            ],
            "type": "histogram2dcontour"
           }
          ],
          "mesh3d": [
           {
            "colorbar": {
             "outlinewidth": 0,
             "ticks": ""
            },
            "type": "mesh3d"
           }
          ],
          "parcoords": [
           {
            "line": {
             "colorbar": {
              "outlinewidth": 0,
              "ticks": ""
             }
            },
            "type": "parcoords"
           }
          ],
          "pie": [
           {
            "automargin": true,
            "type": "pie"
           }
          ],
          "scatter": [
           {
            "fillpattern": {
             "fillmode": "overlay",
             "size": 10,
             "solidity": 0.2
            },
            "type": "scatter"
           }
          ],
          "scatter3d": [
           {
            "line": {
             "colorbar": {
              "outlinewidth": 0,
              "ticks": ""
             }
            },
            "marker": {
             "colorbar": {
              "outlinewidth": 0,
              "ticks": ""
             }
            },
            "type": "scatter3d"
           }
          ],
          "scattercarpet": [
           {
            "marker": {
             "colorbar": {
              "outlinewidth": 0,
              "ticks": ""
             }
            },
            "type": "scattercarpet"
           }
          ],
          "scattergeo": [
           {
            "marker": {
             "colorbar": {
              "outlinewidth": 0,
              "ticks": ""
             }
            },
            "type": "scattergeo"
           }
          ],
          "scattergl": [
           {
            "marker": {
             "colorbar": {
              "outlinewidth": 0,
              "ticks": ""
             }
            },
            "type": "scattergl"
           }
          ],
          "scattermapbox": [
           {
            "marker": {
             "colorbar": {
              "outlinewidth": 0,
              "ticks": ""
             }
            },
            "type": "scattermapbox"
           }
          ],
          "scatterpolar": [
           {
            "marker": {
             "colorbar": {
              "outlinewidth": 0,
              "ticks": ""
             }
            },
            "type": "scatterpolar"
           }
          ],
          "scatterpolargl": [
           {
            "marker": {
             "colorbar": {
              "outlinewidth": 0,
              "ticks": ""
             }
            },
            "type": "scatterpolargl"
           }
          ],
          "scatterternary": [
           {
            "marker": {
             "colorbar": {
              "outlinewidth": 0,
              "ticks": ""
             }
            },
            "type": "scatterternary"
           }
          ],
          "surface": [
           {
            "colorbar": {
             "outlinewidth": 0,
             "ticks": ""
            },
            "colorscale": [
             [
              0,
              "#0d0887"
             ],
             [
              0.1111111111111111,
              "#46039f"
             ],
             [
              0.2222222222222222,
              "#7201a8"
             ],
             [
              0.3333333333333333,
              "#9c179e"
             ],
             [
              0.4444444444444444,
              "#bd3786"
             ],
             [
              0.5555555555555556,
              "#d8576b"
             ],
             [
              0.6666666666666666,
              "#ed7953"
             ],
             [
              0.7777777777777778,
              "#fb9f3a"
             ],
             [
              0.8888888888888888,
              "#fdca26"
             ],
             [
              1,
              "#f0f921"
             ]
            ],
            "type": "surface"
           }
          ],
          "table": [
           {
            "cells": {
             "fill": {
              "color": "#EBF0F8"
             },
             "line": {
              "color": "white"
             }
            },
            "header": {
             "fill": {
              "color": "#C8D4E3"
             },
             "line": {
              "color": "white"
             }
            },
            "type": "table"
           }
          ]
         },
         "layout": {
          "annotationdefaults": {
           "arrowcolor": "#2a3f5f",
           "arrowhead": 0,
           "arrowwidth": 1
          },
          "autotypenumbers": "strict",
          "coloraxis": {
           "colorbar": {
            "outlinewidth": 0,
            "ticks": ""
           }
          },
          "colorscale": {
           "diverging": [
            [
             0,
             "#8e0152"
            ],
            [
             0.1,
             "#c51b7d"
            ],
            [
             0.2,
             "#de77ae"
            ],
            [
             0.3,
             "#f1b6da"
            ],
            [
             0.4,
             "#fde0ef"
            ],
            [
             0.5,
             "#f7f7f7"
            ],
            [
             0.6,
             "#e6f5d0"
            ],
            [
             0.7,
             "#b8e186"
            ],
            [
             0.8,
             "#7fbc41"
            ],
            [
             0.9,
             "#4d9221"
            ],
            [
             1,
             "#276419"
            ]
           ],
           "sequential": [
            [
             0,
             "#0d0887"
            ],
            [
             0.1111111111111111,
             "#46039f"
            ],
            [
             0.2222222222222222,
             "#7201a8"
            ],
            [
             0.3333333333333333,
             "#9c179e"
            ],
            [
             0.4444444444444444,
             "#bd3786"
            ],
            [
             0.5555555555555556,
             "#d8576b"
            ],
            [
             0.6666666666666666,
             "#ed7953"
            ],
            [
             0.7777777777777778,
             "#fb9f3a"
            ],
            [
             0.8888888888888888,
             "#fdca26"
            ],
            [
             1,
             "#f0f921"
            ]
           ],
           "sequentialminus": [
            [
             0,
             "#0d0887"
            ],
            [
             0.1111111111111111,
             "#46039f"
            ],
            [
             0.2222222222222222,
             "#7201a8"
            ],
            [
             0.3333333333333333,
             "#9c179e"
            ],
            [
             0.4444444444444444,
             "#bd3786"
            ],
            [
             0.5555555555555556,
             "#d8576b"
            ],
            [
             0.6666666666666666,
             "#ed7953"
            ],
            [
             0.7777777777777778,
             "#fb9f3a"
            ],
            [
             0.8888888888888888,
             "#fdca26"
            ],
            [
             1,
             "#f0f921"
            ]
           ]
          },
          "colorway": [
           "#636efa",
           "#EF553B",
           "#00cc96",
           "#ab63fa",
           "#FFA15A",
           "#19d3f3",
           "#FF6692",
           "#B6E880",
           "#FF97FF",
           "#FECB52"
          ],
          "font": {
           "color": "#2a3f5f"
          },
          "geo": {
           "bgcolor": "white",
           "lakecolor": "white",
           "landcolor": "#E5ECF6",
           "showlakes": true,
           "showland": true,
           "subunitcolor": "white"
          },
          "hoverlabel": {
           "align": "left"
          },
          "hovermode": "closest",
          "mapbox": {
           "style": "light"
          },
          "paper_bgcolor": "white",
          "plot_bgcolor": "#E5ECF6",
          "polar": {
           "angularaxis": {
            "gridcolor": "white",
            "linecolor": "white",
            "ticks": ""
           },
           "bgcolor": "#E5ECF6",
           "radialaxis": {
            "gridcolor": "white",
            "linecolor": "white",
            "ticks": ""
           }
          },
          "scene": {
           "xaxis": {
            "backgroundcolor": "#E5ECF6",
            "gridcolor": "white",
            "gridwidth": 2,
            "linecolor": "white",
            "showbackground": true,
            "ticks": "",
            "zerolinecolor": "white"
           },
           "yaxis": {
            "backgroundcolor": "#E5ECF6",
            "gridcolor": "white",
            "gridwidth": 2,
            "linecolor": "white",
            "showbackground": true,
            "ticks": "",
            "zerolinecolor": "white"
           },
           "zaxis": {
            "backgroundcolor": "#E5ECF6",
            "gridcolor": "white",
            "gridwidth": 2,
            "linecolor": "white",
            "showbackground": true,
            "ticks": "",
            "zerolinecolor": "white"
           }
          },
          "shapedefaults": {
           "line": {
            "color": "#2a3f5f"
           }
          },
          "ternary": {
           "aaxis": {
            "gridcolor": "white",
            "linecolor": "white",
            "ticks": ""
           },
           "baxis": {
            "gridcolor": "white",
            "linecolor": "white",
            "ticks": ""
           },
           "bgcolor": "#E5ECF6",
           "caxis": {
            "gridcolor": "white",
            "linecolor": "white",
            "ticks": ""
           }
          },
          "title": {
           "x": 0.05
          },
          "xaxis": {
           "automargin": true,
           "gridcolor": "white",
           "linecolor": "white",
           "ticks": "",
           "title": {
            "standoff": 15
           },
           "zerolinecolor": "white",
           "zerolinewidth": 2
          },
          "yaxis": {
           "automargin": true,
           "gridcolor": "white",
           "linecolor": "white",
           "ticks": "",
           "title": {
            "standoff": 15
           },
           "zerolinecolor": "white",
           "zerolinewidth": 2
          }
         }
        },
        "title": {
         "font": {
          "color": "#00A5AC",
          "family": "Jost",
          "size": 24.72222222222222
         },
         "text": "◙◙◙◙◙◙◙◙◙◙ 🡆 KAIZEN 🡄 ◙◙◙◙◙◙◙◙◙◙◙◙◙◙◙◙◙◙◙◙◙◙◙◙◙◙◙◙◙◙◙◙◙◙◙◙◙◙◙◙◙◙◙◙◙◙◙◙◙◙◙◙◙◙◙◙◙◙◙◙◙◙◙◙◙◙◙◙◙◙◙◙◙◙◙◙ ⓀⒶⒾⓏⒺⓃ ◙◙◙◙◙◙◙◙◙◙",
         "x": 0.5,
         "y": 0.95,
         "yanchor": "bottom"
        },
        "width": 2060
       }
      }
     },
     "metadata": {},
     "output_type": "display_data"
    }
   ],
   "source": [
    "print_plot(df_hoje, lista_lojas)"
   ]
  }
 ],
 "metadata": {
  "kernelspec": {
   "display_name": "Python 3.10.8 64-bit",
   "language": "python",
   "name": "python3"
  },
  "language_info": {
   "codemirror_mode": {
    "name": "ipython",
    "version": 3
   },
   "file_extension": ".py",
   "mimetype": "text/x-python",
   "name": "python",
   "nbconvert_exporter": "python",
   "pygments_lexer": "ipython3",
   "version": "3.10.8"
  },
  "orig_nbformat": 4,
  "vscode": {
   "interpreter": {
    "hash": "beedbe2faf2f7048d727558d0bc3221e7eba2a0b921cac4d4771b2feb8f74b30"
   }
  }
 },
 "nbformat": 4,
 "nbformat_minor": 2
}
